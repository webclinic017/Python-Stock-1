{
 "cells": [
  {
   "cell_type": "code",
   "execution_count": null,
   "id": "59710904-4c8f-45e3-ae23-44fa3849a454",
   "metadata": {},
   "outputs": [],
   "source": [
    "import Pkg; Pkg.add([\"StatsPlots\",\"Distributions\",\"LaTeXStrings\"])"
   ]
  },
  {
   "cell_type": "code",
   "execution_count": 4,
   "id": "eb9814c1-034f-4b4a-a3b8-523e9e82a29c",
   "metadata": {},
   "outputs": [
    {
     "ename": "LoadError",
     "evalue": "ArgumentError: Package Distributions not found in current path:\n- Run `import Pkg; Pkg.add(\"Distributions\")` to install the Distributions package.\n",
     "output_type": "error",
     "traceback": [
      "ArgumentError: Package Distributions not found in current path:\n- Run `import Pkg; Pkg.add(\"Distributions\")` to install the Distributions package.\n",
      "",
      "Stacktrace:",
      " [1] require(into::Module, mod::Symbol)",
      "   @ Base .\\loading.jl:893",
      " [2] eval",
      "   @ .\\boot.jl:360 [inlined]",
      " [3] include_string(mapexpr::typeof(REPL.softscope), mod::Module, code::String, filename::String)",
      "   @ Base .\\loading.jl:1116"
     ]
    }
   ],
   "source": [
    "using StatsPlots, Distributions, LaTeXStrings\n",
    "\n",
    "plot(Normal(0, 1),\n",
    "        lw=5, label=false,\n",
    "        xlabel=L\"x\",\n",
    "        ylabel=\"Density\")"
   ]
  },
  {
   "cell_type": "code",
   "execution_count": null,
   "id": "e075f1fa-dc41-42bc-95f3-2ab259dd1bd8",
   "metadata": {},
   "outputs": [],
   "source": [
    "plot(TDist(2),\n",
    "        lw=5, label=false,\n",
    "        xlabel=L\"x\",\n",
    "        ylabel=\"Density\",\n",
    "        xlims=(-4, 4))"
   ]
  }
 ],
 "metadata": {
  "kernelspec": {
   "display_name": "Julia 1.6.2",
   "language": "julia",
   "name": "julia-1.6"
  },
  "language_info": {
   "file_extension": ".jl",
   "mimetype": "application/julia",
   "name": "julia",
   "version": "1.6.2"
  }
 },
 "nbformat": 4,
 "nbformat_minor": 5
}
