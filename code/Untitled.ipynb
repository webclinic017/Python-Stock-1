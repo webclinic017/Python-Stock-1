{
 "cells": [
  {
   "cell_type": "code",
   "execution_count": null,
   "id": "46478fc7-8b0a-4544-8c72-3c8abf8d68e8",
   "metadata": {},
   "outputs": [],
   "source": [
    "# plot line of best for multiple robust regression algorithms\n",
    "from random import random\n",
    "from random import randint\n",
    "from random import seed\n",
    "from numpy import arange\n",
    "from sklearn.datasets import make_regression\n",
    "from sklearn.linear_model import LinearRegression\n",
    "from sklearn.linear_model import HuberRegressor\n",
    "from sklearn.linear_model import RANSACRegressor\n",
    "from sklearn.linear_model import TheilSenRegressor\n",
    "from matplotlib import pyplot\n",
    "import pandas as pd\n"
   ]
  },
  {
   "cell_type": "code",
   "execution_count": 60,
   "id": "f7b39d52-9dd2-4234-b9b6-ab18a0ca19bb",
   "metadata": {},
   "outputs": [],
   "source": [
    "# prepare the dataset\n",
    "def get_dataset():\n",
    "\tX, y = make_regression(n_samples=100, n_features=1, tail_strength=0.9, effective_rank=1, n_informative=1, noise=3, bias=50, random_state=1)\n",
    "\t# add some artificial outliers\n",
    "\tseed(1)\n",
    "\tfor i in range(10):\n",
    "\t\tfactor = randint(2, 4)\n",
    "\t\tif random() > 0.5:\n",
    "\t\t\tX[i] += factor * X.std()\n",
    "\t\telse:\n",
    "\t\t\tX[i] -= factor * X.std()\n",
    "\treturn X, y\n",
    " \n",
    "# dictionary of model names and model objects\n",
    "def get_models():\n",
    "\tmodels = list()\n",
    "\t#models.append(LinearRegression())\n",
    "\t#models.append(HuberRegressor())\n",
    "\tmodels.append(RANSACRegressor())\n",
    "\t#models.append(TheilSenRegressor())\n",
    "\treturn models\n",
    " \n",
    "# plot the dataset and the model's line of best fit\n",
    "def plot_best_fit(X, y, model):\n",
    "    # fit the model on all data\n",
    "    model.fit(X, y)\n",
    "    print(model.estimator_.coef_)\n",
    "    # calculate outputs for grid across the domain\n",
    "    #yaxis = model.predict(xaxis.reshape((len(xaxis), 1)))\n",
    "    # plot the line of best fit\n",
    "    #pyplot.plot(xaxis, yaxis, label=type(model).__name__)\n",
    " "
   ]
  },
  {
   "cell_type": "code",
   "execution_count": 19,
   "id": "e61ffc8e-31bd-443e-bff9-f649be0a6eba",
   "metadata": {},
   "outputs": [
    {
     "data": {
      "text/plain": [
       "'C:\\\\Users\\\\user\\\\Documents\\\\wiki\\\\wiki\\\\dev\\\\python\\\\Python-Stock\\\\code'"
      ]
     },
     "execution_count": 19,
     "metadata": {},
     "output_type": "execute_result"
    }
   ],
   "source": [
    "import os\n",
    "os.getcwd()"
   ]
  },
  {
   "cell_type": "code",
   "execution_count": 23,
   "id": "b51098bc-06c9-4fa8-93c8-9584fffbe9de",
   "metadata": {},
   "outputs": [],
   "source": [
    "\n",
    "df = pd.read_csv(\"../data/raw/states.csv\")\n",
    "\n",
    "# load dataset\n",
    "#X, y = get_dataset()\n",
    "X = df.loc[:, ~df.columns.isin(['Poverty','States'])]\n",
    "y = pd.DataFrame(df['Poverty'])\n"
   ]
  },
  {
   "cell_type": "code",
   "execution_count": 61,
   "id": "d2bfc960-6781-44fc-9ab1-16f75f0dbd76",
   "metadata": {},
   "outputs": [
    {
     "name": "stdout",
     "output_type": "stream",
     "text": [
      "[[-7.51883881e-02 -5.31300410e-02  1.49368174e-03 -1.33338922e-03\n",
      "   1.16427893e+00  1.01797600e-01  2.41622456e-01 -3.09434429e-04\n",
      "   1.08522108e-07]]\n"
     ]
    },
    {
     "name": "stderr",
     "output_type": "stream",
     "text": [
      "c:\\users\\user\\appdata\\local\\programs\\python\\python39\\jupyterlab\\lib\\site-packages\\sklearn\\utils\\validation.py:63: DataConversionWarning: A column-vector y was passed when a 1d array was expected. Please change the shape of y to (n_samples, ), for example using ravel().\n",
      "  return f(*args, **kwargs)\n"
     ]
    },
    {
     "ename": "AttributeError",
     "evalue": "'TheilSenRegressor' object has no attribute 'estimator_'",
     "output_type": "error",
     "traceback": [
      "\u001b[1;31m---------------------------------------------------------------------------\u001b[0m",
      "\u001b[1;31mAttributeError\u001b[0m                            Traceback (most recent call last)",
      "\u001b[1;32m~\\AppData\\Local\\Temp/ipykernel_692/2687153450.py\u001b[0m in \u001b[0;36m<module>\u001b[1;34m\u001b[0m\n\u001b[0;32m      5\u001b[0m \u001b[1;32mfor\u001b[0m \u001b[0mmodel\u001b[0m \u001b[1;32min\u001b[0m \u001b[0mget_models\u001b[0m\u001b[1;33m(\u001b[0m\u001b[1;33m)\u001b[0m\u001b[1;33m:\u001b[0m\u001b[1;33m\u001b[0m\u001b[1;33m\u001b[0m\u001b[0m\n\u001b[0;32m      6\u001b[0m         \u001b[1;31m# plot the line of best fit\u001b[0m\u001b[1;33m\u001b[0m\u001b[1;33m\u001b[0m\u001b[1;33m\u001b[0m\u001b[0m\n\u001b[1;32m----> 7\u001b[1;33m         \u001b[0mplot_best_fit\u001b[0m\u001b[1;33m(\u001b[0m\u001b[0mX\u001b[0m\u001b[1;33m,\u001b[0m \u001b[0my\u001b[0m\u001b[1;33m,\u001b[0m \u001b[0mmodel\u001b[0m\u001b[1;33m)\u001b[0m\u001b[1;33m\u001b[0m\u001b[1;33m\u001b[0m\u001b[0m\n\u001b[0m\u001b[0;32m      8\u001b[0m \u001b[1;31m# plot the dataset\u001b[0m\u001b[1;33m\u001b[0m\u001b[1;33m\u001b[0m\u001b[1;33m\u001b[0m\u001b[0m\n\u001b[0;32m      9\u001b[0m \u001b[1;31m#pyplot.scatter(X, y)\u001b[0m\u001b[1;33m\u001b[0m\u001b[1;33m\u001b[0m\u001b[1;33m\u001b[0m\u001b[0m\n",
      "\u001b[1;32m~\\AppData\\Local\\Temp/ipykernel_692/1032060336.py\u001b[0m in \u001b[0;36mplot_best_fit\u001b[1;34m(X, y, model)\u001b[0m\n\u001b[0;32m     25\u001b[0m     \u001b[1;31m# fit the model on all data\u001b[0m\u001b[1;33m\u001b[0m\u001b[1;33m\u001b[0m\u001b[1;33m\u001b[0m\u001b[0m\n\u001b[0;32m     26\u001b[0m     \u001b[0mmodel\u001b[0m\u001b[1;33m.\u001b[0m\u001b[0mfit\u001b[0m\u001b[1;33m(\u001b[0m\u001b[0mX\u001b[0m\u001b[1;33m,\u001b[0m \u001b[0my\u001b[0m\u001b[1;33m)\u001b[0m\u001b[1;33m\u001b[0m\u001b[1;33m\u001b[0m\u001b[0m\n\u001b[1;32m---> 27\u001b[1;33m     \u001b[0mprint\u001b[0m\u001b[1;33m(\u001b[0m\u001b[0mmodel\u001b[0m\u001b[1;33m.\u001b[0m\u001b[0mestimator_\u001b[0m\u001b[1;33m.\u001b[0m\u001b[0mcoef_\u001b[0m\u001b[1;33m)\u001b[0m\u001b[1;33m\u001b[0m\u001b[1;33m\u001b[0m\u001b[0m\n\u001b[0m\u001b[0;32m     28\u001b[0m     \u001b[1;31m# calculate outputs for grid across the domain\u001b[0m\u001b[1;33m\u001b[0m\u001b[1;33m\u001b[0m\u001b[1;33m\u001b[0m\u001b[0m\n\u001b[0;32m     29\u001b[0m     \u001b[1;31m#yaxis = model.predict(xaxis.reshape((len(xaxis), 1)))\u001b[0m\u001b[1;33m\u001b[0m\u001b[1;33m\u001b[0m\u001b[1;33m\u001b[0m\u001b[0m\n",
      "\u001b[1;31mAttributeError\u001b[0m: 'TheilSenRegressor' object has no attribute 'estimator_'"
     ]
    }
   ],
   "source": [
    "\n",
    "# load the dataset\n",
    "#X, y = get_dataset()\n",
    "# define a uniform grid across the input domain\n",
    "#xaxis = arange(X.min(), X.max(), 0.01)\n",
    "for model in get_models():\n",
    "\t# plot the line of best fit\n",
    "\tplot_best_fit(X, y, model)\n",
    "# plot the dataset\n",
    "#pyplot.scatter(X, y)\n",
    "# show the plot\n",
    "#pyplot.title('Robust Regression')\n",
    "#pyplot.legend()\n",
    "#pyplot.show()"
   ]
  },
  {
   "cell_type": "code",
   "execution_count": null,
   "id": "9294847e-60e7-4d03-93f0-b8658c7b9ea3",
   "metadata": {},
   "outputs": [],
   "source": []
  },
  {
   "cell_type": "code",
   "execution_count": 4,
   "id": "b4f0e8d5-81ac-4302-9fca-9e9088607f18",
   "metadata": {},
   "outputs": [
    {
     "ename": "AttributeError",
     "evalue": "'numpy.ndarray' object has no attribute 'coef_'",
     "output_type": "error",
     "traceback": [
      "\u001b[1;31m---------------------------------------------------------------------------\u001b[0m",
      "\u001b[1;31mAttributeError\u001b[0m                            Traceback (most recent call last)",
      "\u001b[1;32m~\\AppData\\Local\\Temp/ipykernel_22212/33514876.py\u001b[0m in \u001b[0;36m<module>\u001b[1;34m\u001b[0m\n\u001b[1;32m----> 1\u001b[1;33m \u001b[0mresults\u001b[0m\u001b[1;33m.\u001b[0m\u001b[0mcoef_\u001b[0m\u001b[1;33m\u001b[0m\u001b[1;33m\u001b[0m\u001b[0m\n\u001b[0m",
      "\u001b[1;31mAttributeError\u001b[0m: 'numpy.ndarray' object has no attribute 'coef_'"
     ]
    }
   ],
   "source": []
  }
 ],
 "metadata": {
  "kernelspec": {
   "display_name": "Python 3 (ipykernel)",
   "language": "python",
   "name": "python3"
  },
  "language_info": {
   "codemirror_mode": {
    "name": "ipython",
    "version": 3
   },
   "file_extension": ".py",
   "mimetype": "text/x-python",
   "name": "python",
   "nbconvert_exporter": "python",
   "pygments_lexer": "ipython3",
   "version": "3.9.6"
  }
 },
 "nbformat": 4,
 "nbformat_minor": 5
}
