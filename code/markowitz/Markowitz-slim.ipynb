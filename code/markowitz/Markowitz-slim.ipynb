{
 "cells": [
  {
   "cell_type": "code",
   "execution_count": 1,
   "id": "9e87ad91",
   "metadata": {},
   "outputs": [],
   "source": [
    "# !pip install numpy matplotlib cvxopt pandas yfinance finquant plotly cufflinks chart_studio pandas_datareader atoti atoti-jupyterlab"
   ]
  },
  {
   "cell_type": "code",
   "execution_count": 2,
   "id": "62cc3386",
   "metadata": {},
   "outputs": [
    {
     "name": "stdout",
     "output_type": "stream",
     "text": [
      "Welcome to atoti 0.6.2!\n",
      "\n",
      "By using this community edition, you agree with the license available at https://docs.atoti.io/latest/eula.html.\n",
      "Browse the official documentation at https://docs.atoti.io.\n",
      "Join the community at https://www.atoti.io/register.\n",
      "\n",
      "atoti collects telemetry data, which is used to help understand how to improve the product.\n",
      "If you don't wish to send usage data, set the ATOTI_DISABLE_TELEMETRY environment variable to True.\n",
      "\n",
      "You can hide this message by setting the ATOTI_HIDE_EULA_MESSAGE environment variable to True.\n"
     ]
    }
   ],
   "source": [
    "%matplotlib inline\n",
    "import random\n",
    "\n",
    "import cvxopt as opt\n",
    "import matplotlib.pyplot as plt\n",
    "import numpy as np\n",
    "import pandas as pd\n",
    "import yfinance as yf\n",
    "from cvxopt import blas, solvers\n",
    "from finquant.portfolio import build_portfolio\n",
    "from scipy.optimize import minimize\n",
    "\n",
    "np.random.seed(123)\n",
    "\n",
    "# Turn off progress printing\n",
    "solvers.options[\"show_progress\"] = False\n",
    "import concurrent.futures\n",
    "import os\n",
    "import random\n",
    "import urllib\n",
    "import urllib.request\n",
    "from concurrent.futures import ALL_COMPLETED, wait\n",
    "\n",
    "import atoti as tt\n",
    "import cufflinks\n",
    "import numpy as np\n",
    "import pandas_market_calendars as mcal\n",
    "\n",
    "# (*) To communicate with Plotly's server, sign in with credentials file\n",
    "import plotly as py\n",
    "\n",
    "# (*) Useful Python/Plotly tools\n",
    "import plotly.tools as tls\n",
    "\n",
    "# (*) Graph objects to piece together plots\n",
    "from plotly.graph_objs import *"
   ]
  },
  {
   "cell_type": "code",
   "execution_count": 3,
   "id": "ed0874e2",
   "metadata": {},
   "outputs": [],
   "source": [
    "# ndays = 252*10+7\n",
    "ndays = 252 * 1.5 + 7\n",
    "# ~training\n",
    "dback = 252\n",
    "# ~forecast\n",
    "dahead = 20\n",
    "# sample size\n",
    "# if to randomize\n",
    "rand = True\n",
    "nran = 20\n",
    "nstocks = 100\n",
    "# this should match tbill 20, 91, 126, 252\n",
    "\n",
    "end = pd.Timestamp.utcnow()\n",
    "start = end - int(ndays) * pd.tseries.offsets.BDay()\n",
    "one_week_end = end - int(ndays - 7) * pd.tseries.offsets.BDay()\n",
    "one_week_end = one_week_end.strftime(\"%Y-%m-%d\")\n",
    "start = start.strftime(\"%Y-%m-%d\")\n",
    "end = end.strftime(\"%Y-%m-%d\")"
   ]
  },
  {
   "cell_type": "code",
   "execution_count": 4,
   "id": "127d6c62",
   "metadata": {},
   "outputs": [],
   "source": [
    "# pd.tseries.offsets.BDay(100)\n",
    "nyse = mcal.get_calendar(\"NYSE\")\n",
    "\n",
    "# Show available calendars\n",
    "# print(mcal.get_calendar_names())\n",
    "tradingDays = list(\n",
    "    nyse.schedule(start_date=start, end_date=end).index.strftime(\"%Y-%m-%d\")\n",
    ")"
   ]
  },
  {
   "cell_type": "code",
   "execution_count": null,
   "id": "e9f3778f-5209-406f-8c78-e7749e3582ce",
   "metadata": {},
   "outputs": [],
   "source": []
  },
  {
   "cell_type": "code",
   "execution_count": 5,
   "id": "852dceca",
   "metadata": {},
   "outputs": [],
   "source": [
    "def rand_weights(n):\n",
    "    \"\"\" Produces n random weights that sum to 1 \"\"\"\n",
    "    k = np.random.rand(n)\n",
    "    return k / sum(k)\n",
    "\n",
    "\n",
    "def weighted_return(returns, weights):\n",
    "    w = weights\n",
    "\n",
    "    p = np.asmatrix(np.mean(returns, axis=0))\n",
    "\n",
    "    mu = np.asmatrix(w) * p.T\n",
    "    return mu\n",
    "\n",
    "\n",
    "def random_portfolio(returns):\n",
    "\n",
    "    w = rand_weights(len(pd.DataFrame(returns).columns))\n",
    "\n",
    "    p = np.asmatrix(np.mean(returns, axis=0))\n",
    "\n",
    "    C = np.array(pd.DataFrame(returns).cov().values)\n",
    "\n",
    "    mu = np.asmatrix(w) * p.T\n",
    "    sigma = np.sqrt(np.asmatrix(w) * C * np.asmatrix(w).T)\n",
    "\n",
    "    sharpe = mu / sigma\n",
    "\n",
    "    return np.float(mu), np.float(sigma), np.float(sharpe), np.array(w, dtype=object)\n",
    "\n",
    "\n",
    "def unique(list1):\n",
    "\n",
    "    # intilize a null list\n",
    "    unique_list = []\n",
    "\n",
    "    # traverse for all elements\n",
    "    for x in list1:\n",
    "        # check if exists in unique_list or not\n",
    "        if x not in unique_list:\n",
    "            unique_list.append(x)\n",
    "\n",
    "    return unique_list\n",
    "\n",
    "\n",
    "def split_sequences(sequences, n_steps_in, n_steps_out):\n",
    "\n",
    "    X, y = list(), list()\n",
    "    for i in range(len(sequences)):\n",
    "        # find the end of this pattern\n",
    "        end_ix = i + n_steps_in\n",
    "        out_end_ix = end_ix + n_steps_out\n",
    "        # check if we are beyond the dataset\n",
    "        if out_end_ix > len(sequences):\n",
    "            break\n",
    "        # gather input and output parts of the pattern\n",
    "        seq_x, seq_y = sequences[i:end_ix, :], sequences[end_ix:out_end_ix, :]\n",
    "        X.append(seq_x)\n",
    "        y.append(seq_y)\n",
    "\n",
    "    return np.array(X), np.array(y)"
   ]
  },
  {
   "cell_type": "code",
   "execution_count": null,
   "id": "3237d7ae",
   "metadata": {},
   "outputs": [],
   "source": [
    "url = \"ftp://ftp.nasdaqtrader.com/symboldirectory/nasdaqtraded.txt\"\n",
    "\n",
    "urllib.request.urlretrieve(url, \"nasdaqtraded.txt\")\n",
    "urllib.request.urlretrieve(url, \"mfundslist.txt\")\n",
    "urllib.request.urlretrieve(url, \"bonds.txt\")\n",
    "\n",
    "df1 = pd.read_csv(\"nasdaqtraded.txt\", sep=\"|\")[0:-1]\n",
    "df2 = pd.read_csv(\"mfundslist.txt\", sep=\"|\")[0:-1]\n",
    "df3 = pd.read_csv(\"bonds.txt\", sep=\"|\")[0:-1]\n",
    "\n",
    "# combined = pd.concat([df1['Symbol'],df2['Symbol'],df3['Symbol']],axis=0)\n",
    "\n",
    "# process symbols for bad characters\n",
    "BAD_CHARS = [\"$\", \".\"]\n",
    "# pat = '|'.join(['({})'.format(re.escape(c)) for c in BAD_CHARS])\n",
    "# cleaned = unique(combined.replace(BAD_CHARS,'-'))\n",
    "\n",
    "# choose size\n",
    "size = nstocks\n",
    "# stocks = list(df1[\"Symbol\"].sample(n=int(size/3)))\n",
    "stocks = list(\n",
    "    df1[\"Symbol\"]\n",
    "    .replace(\".\", \"-\")\n",
    "    .replace(\"\\\\$\", \"-P\", regex=True)\n",
    "    .sample(n=int(size / 3))\n",
    ")\n",
    "mfunds = list(\n",
    "    df2[\"Symbol\"]\n",
    "    .replace(\".\", \"-\")\n",
    "    .replace(\"\\\\$\", \"-P\", regex=True)\n",
    "    .sample(n=int(size / 3))\n",
    ")\n",
    "bonds = list(\n",
    "    df3[\"Symbol\"]\n",
    "    .replace(\".\", \"-\")\n",
    "    .replace(\"\\\\$\", \"-P\", regex=True)\n",
    "    .sample(n=int(size / 3))\n",
    ")\n",
    "symbols = list(set(stocks + mfunds + bonds))  # unique(stocks + mfunds + bonds)\n",
    "# symbols = unique(stocks)"
   ]
  },
  {
   "cell_type": "code",
   "execution_count": null,
   "id": "1c0d1a28",
   "metadata": {},
   "outputs": [
    {
     "name": "stdout",
     "output_type": "stream",
     "text": [
      "2020-04-27 2020-05-06\n"
     ]
    }
   ],
   "source": [
    "print(start, one_week_end)"
   ]
  },
  {
   "cell_type": "code",
   "execution_count": null,
   "id": "0cf68126",
   "metadata": {},
   "outputs": [
    {
     "name": "stdout",
     "output_type": "stream",
     "text": [
      "[*********************100%***********************]  98 of 98 completed\n",
      "\n",
      "27 Failed downloads:\n",
      "- CCNEP: Data doesn't exist for startDate = 1587963600, endDate = 1588741200\n",
      "- LIDR: Data doesn't exist for startDate = 1587963600, endDate = 1588741200\n",
      "- WRB-PG: No data found for this date range, symbol may be delisted\n",
      "- SXQG: Data doesn't exist for startDate = 1587963600, endDate = 1588741200\n",
      "- MOG.B: No data found, symbol may be delisted\n",
      "- HART: Data doesn't exist for startDate = 1587963600, endDate = 1588741200\n",
      "- AVCTW: No data found for this date range, symbol may be delisted\n",
      "- AFGE: Data doesn't exist for startDate = 1587963600, endDate = 1588741200\n",
      "- NFGC: Data doesn't exist for startDate = 1587963600, endDate = 1588741200\n",
      "- ARKOW: No data found for this date range, symbol may be delisted\n",
      "- ATMR.U: No data found, symbol may be delisted\n",
      "- ZH: Data doesn't exist for startDate = 1587963600, endDate = 1588741200\n",
      "- GRP.U: No data found, symbol may be delisted\n",
      "- HUMA: Data doesn't exist for startDate = 1587963600, endDate = 1588741200\n",
      "- KEUA: Data doesn't exist for startDate = 1587963600, endDate = 1588741200\n",
      "- BCYPW: No data found for this date range, symbol may be delisted\n",
      "- BWC: Data doesn't exist for startDate = 1587963600, endDate = 1588741200\n",
      "- FHN-PF: Data doesn't exist for startDate = 1587963600, endDate = 1588741200\n",
      "- RBAC: Data doesn't exist for startDate = 1587963600, endDate = 1588741200\n",
      "- OXBRW: No data found for this date range, symbol may be delisted\n",
      "- OVLH: Data doesn't exist for startDate = 1587963600, endDate = 1588741200\n",
      "- STEP: Data doesn't exist for startDate = 1587963600, endDate = 1588741200\n",
      "- ENVIW: No data found for this date range, symbol may be delisted\n",
      "- PSMO: Data doesn't exist for startDate = 1587963600, endDate = 1588741200\n",
      "- VCAR: Data doesn't exist for startDate = 1587963600, endDate = 1588741200\n",
      "- ARB: Data doesn't exist for startDate = 1587963600, endDate = 1588741200\n",
      "- VGII.U: No data found, symbol may be delisted\n"
     ]
    }
   ],
   "source": [
    "pf_pre = build_portfolio(\n",
    "    names=symbols, start_date=start, end_date=one_week_end, data_api=\"yfinance\"\n",
    ")"
   ]
  },
  {
   "cell_type": "code",
   "execution_count": null,
   "id": "802e610b",
   "metadata": {},
   "outputs": [],
   "source": [
    "vetted_symbols = list(\n",
    "    pf_pre.data.loc[\n",
    "        (np.intersect1d(list(pf_pre.data.index.strftime(\"%Y-%m-%d\")), tradingDays))\n",
    "    ]\n",
    "    .head(-1)\n",
    "    .tail(-1)\n",
    "    .dropna(axis=1)\n",
    "    .columns\n",
    ")"
   ]
  },
  {
   "cell_type": "code",
   "execution_count": null,
   "id": "c298590e",
   "metadata": {},
   "outputs": [
    {
     "name": "stdout",
     "output_type": "stream",
     "text": [
      "[*********************100%***********************]  70 of 70 completed\n"
     ]
    }
   ],
   "source": [
    "# combinedList = unique(list(np.append(random.sample(symbols_sp500,int(len(symbols_sp500)*.05)),np.append(random.sample(dividendAristocraft,int(len(dividendAristocraft)*.25)),np.append(top10,random.sample(symbols_ns100,int(len(symbols_ns100)*.25)))))))\n",
    "\n",
    "# add index\n",
    "# vetted_symbols.append('TQQQ')\n",
    "\n",
    "pf = build_portfolio(\n",
    "    names=list(vetted_symbols), start_date=start, end_date=end, data_api=\"yfinance\"\n",
    ")"
   ]
  },
  {
   "cell_type": "code",
   "execution_count": null,
   "id": "a14f19da",
   "metadata": {},
   "outputs": [],
   "source": [
    "\"\"\"\n",
    "import pandas_datareader.data as web\n",
    "\n",
    "import datetime\n",
    "\n",
    "# Multiple series:\n",
    "fred_data = web.DataReader(FRED_Indicators, 'fred', start, end)\n",
    "\"\"\"\n",
    "\n",
    "FRED_Indicators = [\"DTB4WK\", \"DTB3\", \"DTB6\", \"DTB1YR\"]\n",
    "\n",
    "import pandas_datareader.data as web\n",
    "\n",
    "\n",
    "def Fred_Data(name):\n",
    "    temp = web.DataReader(str(name), \"fred\", start, end)\n",
    "    temp.index = pd.to_datetime(temp.index)\n",
    "    # temp = temp.resample(frequency).mean().dropna()\n",
    "    return temp\n",
    "\n",
    "\n",
    "FRED_set = []\n",
    "FRED_completed = []\n",
    "for i in FRED_Indicators:\n",
    "    FRED_completed.append(i)\n",
    "    FRED_set.append(Fred_Data(i))\n",
    "\n",
    "FRED_pvt = pd.DataFrame()\n",
    "\n",
    "for x in range(0, len(FRED_completed)):\n",
    "    values = FRED_set[x]\n",
    "    values = values.loc[~values.index.duplicated(keep=\"last\")]\n",
    "\n",
    "    FRED_pvt = pd.concat([FRED_pvt, values], axis=1)"
   ]
  },
  {
   "cell_type": "code",
   "execution_count": null,
   "id": "e13d8714",
   "metadata": {},
   "outputs": [],
   "source": []
  },
  {
   "cell_type": "code",
   "execution_count": null,
   "id": "cf86df8a",
   "metadata": {},
   "outputs": [
    {
     "data": {
      "text/plain": [
       "70"
      ]
     },
     "execution_count": 12,
     "metadata": {},
     "output_type": "execute_result"
    }
   ],
   "source": [
    "returns = np.log(\n",
    "    1\n",
    "    + pf.data.loc[\n",
    "        (np.intersect1d(list(pf.data.index.strftime(\"%Y-%m-%d\")), tradingDays))\n",
    "    ]\n",
    "    .head(-1)\n",
    "    .interpolate(method=\"time\")\n",
    "    .pct_change()\n",
    "    .tail(-1)\n",
    ")\n",
    "returns = returns.dropna(axis=1)\n",
    "# returns.columns = stocks.dropna(axis=1)\n",
    "len(returns.columns)\n",
    "# np.sum(returns.isin([np.inf, -np.inf, np.NaN])).sort_values(kind=\"quicksort\", ascending=True)"
   ]
  },
  {
   "cell_type": "code",
   "execution_count": null,
   "id": "8cef60ed",
   "metadata": {},
   "outputs": [],
   "source": [
    "selectedmfunds = set(mfunds) & set(returns.columns)\n",
    "selectedstocks = set(stocks) & set(returns.columns)\n",
    "selectedbonds = set(bonds) & set(returns.columns)"
   ]
  },
  {
   "cell_type": "code",
   "execution_count": null,
   "id": "c61f091c",
   "metadata": {},
   "outputs": [],
   "source": [
    "n_steps_in = dback\n",
    "\n",
    "n_steps_out = dahead\n",
    "\n",
    "Training, Holdout = split_sequences(\n",
    "    np.array(pd.DataFrame(returns.index.strftime(\"%Y-%m-%d\"))), n_steps_in, n_steps_out\n",
    ")"
   ]
  },
  {
   "cell_type": "code",
   "execution_count": null,
   "id": "62b38eb5",
   "metadata": {},
   "outputs": [],
   "source": []
  },
  {
   "cell_type": "code",
   "execution_count": null,
   "id": "e981fd15",
   "metadata": {},
   "outputs": [],
   "source": []
  },
  {
   "cell_type": "code",
   "execution_count": null,
   "id": "118df51b",
   "metadata": {},
   "outputs": [],
   "source": [
    "randomSet = list(np.sort(np.random.choice(range(0, len(Training)), nran)))\n",
    "\n",
    "randomsymbols = list(np.random.choice(pf.data.columns, 10, replace=False))\n",
    "\n",
    "# random columns\n",
    "stocks = returns.loc[[i[0] for i in Training[randomSet[1]]]][randomsymbols]\n",
    "\n",
    "\"\"\"\n",
    "returns_table = session.read_csv(\n",
    "    \"returns.csv\", keys=[\"stock\"], store_name=\"Returns\", array_sep=\";\"\n",
    ")\n",
    "\n",
    "returns_table.head()\n",
    "\"\"\"\n",
    "return_vec = np.array(stocks)"
   ]
  },
  {
   "cell_type": "code",
   "execution_count": null,
   "id": "117429b0",
   "metadata": {},
   "outputs": [
    {
     "data": {
      "text/html": [
       "<div>\n",
       "<style scoped>\n",
       "    .dataframe tbody tr th:only-of-type {\n",
       "        vertical-align: middle;\n",
       "    }\n",
       "\n",
       "    .dataframe tbody tr th {\n",
       "        vertical-align: top;\n",
       "    }\n",
       "\n",
       "    .dataframe thead th {\n",
       "        text-align: right;\n",
       "    }\n",
       "</style>\n",
       "<table border=\"1\" class=\"dataframe\">\n",
       "  <thead>\n",
       "    <tr style=\"text-align: right;\">\n",
       "      <th></th>\n",
       "      <th>INMB</th>\n",
       "      <th>FCG</th>\n",
       "      <th>PSA-PG</th>\n",
       "      <th>PFIE</th>\n",
       "      <th>UVV</th>\n",
       "      <th>FSFG</th>\n",
       "      <th>GNW</th>\n",
       "      <th>FCA</th>\n",
       "      <th>GLAD</th>\n",
       "      <th>JJS</th>\n",
       "    </tr>\n",
       "    <tr>\n",
       "      <th>Date</th>\n",
       "      <th></th>\n",
       "      <th></th>\n",
       "      <th></th>\n",
       "      <th></th>\n",
       "      <th></th>\n",
       "      <th></th>\n",
       "      <th></th>\n",
       "      <th></th>\n",
       "      <th></th>\n",
       "      <th></th>\n",
       "    </tr>\n",
       "  </thead>\n",
       "  <tbody>\n",
       "    <tr>\n",
       "      <th>2020-05-06</th>\n",
       "      <td>0.033369</td>\n",
       "      <td>-0.033759</td>\n",
       "      <td>-0.004612</td>\n",
       "      <td>0.062520</td>\n",
       "      <td>-0.023733</td>\n",
       "      <td>-0.005831</td>\n",
       "      <td>-0.113687</td>\n",
       "      <td>0.001304</td>\n",
       "      <td>0.062362</td>\n",
       "      <td>-0.011016</td>\n",
       "    </tr>\n",
       "    <tr>\n",
       "      <th>2020-05-07</th>\n",
       "      <td>-0.023439</td>\n",
       "      <td>0.008547</td>\n",
       "      <td>0.001155</td>\n",
       "      <td>0.113235</td>\n",
       "      <td>-0.014515</td>\n",
       "      <td>-0.005865</td>\n",
       "      <td>0.023142</td>\n",
       "      <td>0.007789</td>\n",
       "      <td>0.000000</td>\n",
       "      <td>0.002213</td>\n",
       "    </tr>\n",
       "    <tr>\n",
       "      <th>2020-05-08</th>\n",
       "      <td>-0.013931</td>\n",
       "      <td>0.051151</td>\n",
       "      <td>-0.000454</td>\n",
       "      <td>0.143336</td>\n",
       "      <td>0.042927</td>\n",
       "      <td>0.034685</td>\n",
       "      <td>0.006515</td>\n",
       "      <td>0.020901</td>\n",
       "      <td>0.033738</td>\n",
       "      <td>0.005144</td>\n",
       "    </tr>\n",
       "    <tr>\n",
       "      <th>2020-05-11</th>\n",
       "      <td>0.011952</td>\n",
       "      <td>-0.025940</td>\n",
       "      <td>0.001992</td>\n",
       "      <td>-0.062027</td>\n",
       "      <td>-0.036219</td>\n",
       "      <td>-0.017655</td>\n",
       "      <td>0.009693</td>\n",
       "      <td>-0.000845</td>\n",
       "      <td>0.007868</td>\n",
       "      <td>-0.005439</td>\n",
       "    </tr>\n",
       "    <tr>\n",
       "      <th>2020-05-12</th>\n",
       "      <td>0.050204</td>\n",
       "      <td>-0.004158</td>\n",
       "      <td>-0.010039</td>\n",
       "      <td>-0.105120</td>\n",
       "      <td>-0.040937</td>\n",
       "      <td>-0.013273</td>\n",
       "      <td>-0.087304</td>\n",
       "      <td>-0.007208</td>\n",
       "      <td>0.000000</td>\n",
       "      <td>0.000589</td>\n",
       "    </tr>\n",
       "    <tr>\n",
       "      <th>...</th>\n",
       "      <td>...</td>\n",
       "      <td>...</td>\n",
       "      <td>...</td>\n",
       "      <td>...</td>\n",
       "      <td>...</td>\n",
       "      <td>...</td>\n",
       "      <td>...</td>\n",
       "      <td>...</td>\n",
       "      <td>...</td>\n",
       "      <td>...</td>\n",
       "    </tr>\n",
       "    <tr>\n",
       "      <th>2021-04-29</th>\n",
       "      <td>-0.014364</td>\n",
       "      <td>0.000000</td>\n",
       "      <td>-0.003355</td>\n",
       "      <td>-0.021819</td>\n",
       "      <td>-0.001057</td>\n",
       "      <td>0.014658</td>\n",
       "      <td>-0.004556</td>\n",
       "      <td>-0.004880</td>\n",
       "      <td>0.015448</td>\n",
       "      <td>-0.019396</td>\n",
       "    </tr>\n",
       "    <tr>\n",
       "      <th>2021-04-30</th>\n",
       "      <td>0.010161</td>\n",
       "      <td>-0.031773</td>\n",
       "      <td>-0.010888</td>\n",
       "      <td>-0.108634</td>\n",
       "      <td>-0.008676</td>\n",
       "      <td>-0.008827</td>\n",
       "      <td>-0.013793</td>\n",
       "      <td>-0.015779</td>\n",
       "      <td>-0.005425</td>\n",
       "      <td>0.000104</td>\n",
       "    </tr>\n",
       "    <tr>\n",
       "      <th>2021-05-03</th>\n",
       "      <td>0.006717</td>\n",
       "      <td>0.028790</td>\n",
       "      <td>0.004144</td>\n",
       "      <td>-0.008230</td>\n",
       "      <td>0.020420</td>\n",
       "      <td>0.008251</td>\n",
       "      <td>0.013793</td>\n",
       "      <td>0.003968</td>\n",
       "      <td>0.000000</td>\n",
       "      <td>-0.010998</td>\n",
       "    </tr>\n",
       "    <tr>\n",
       "      <th>2021-05-04</th>\n",
       "      <td>-0.069292</td>\n",
       "      <td>-0.000747</td>\n",
       "      <td>0.004501</td>\n",
       "      <td>-0.025954</td>\n",
       "      <td>-0.001046</td>\n",
       "      <td>-0.009705</td>\n",
       "      <td>-0.020762</td>\n",
       "      <td>0.012463</td>\n",
       "      <td>-0.007279</td>\n",
       "      <td>0.007032</td>\n",
       "    </tr>\n",
       "    <tr>\n",
       "      <th>2021-05-05</th>\n",
       "      <td>-0.007201</td>\n",
       "      <td>0.033802</td>\n",
       "      <td>-0.005253</td>\n",
       "      <td>0.082193</td>\n",
       "      <td>0.005219</td>\n",
       "      <td>0.010138</td>\n",
       "      <td>0.002328</td>\n",
       "      <td>0.014240</td>\n",
       "      <td>-0.000914</td>\n",
       "      <td>0.035848</td>\n",
       "    </tr>\n",
       "  </tbody>\n",
       "</table>\n",
       "<p>252 rows × 10 columns</p>\n",
       "</div>"
      ],
      "text/plain": [
       "                INMB       FCG    PSA-PG      PFIE       UVV      FSFG  \\\n",
       "Date                                                                     \n",
       "2020-05-06  0.033369 -0.033759 -0.004612  0.062520 -0.023733 -0.005831   \n",
       "2020-05-07 -0.023439  0.008547  0.001155  0.113235 -0.014515 -0.005865   \n",
       "2020-05-08 -0.013931  0.051151 -0.000454  0.143336  0.042927  0.034685   \n",
       "2020-05-11  0.011952 -0.025940  0.001992 -0.062027 -0.036219 -0.017655   \n",
       "2020-05-12  0.050204 -0.004158 -0.010039 -0.105120 -0.040937 -0.013273   \n",
       "...              ...       ...       ...       ...       ...       ...   \n",
       "2021-04-29 -0.014364  0.000000 -0.003355 -0.021819 -0.001057  0.014658   \n",
       "2021-04-30  0.010161 -0.031773 -0.010888 -0.108634 -0.008676 -0.008827   \n",
       "2021-05-03  0.006717  0.028790  0.004144 -0.008230  0.020420  0.008251   \n",
       "2021-05-04 -0.069292 -0.000747  0.004501 -0.025954 -0.001046 -0.009705   \n",
       "2021-05-05 -0.007201  0.033802 -0.005253  0.082193  0.005219  0.010138   \n",
       "\n",
       "                 GNW       FCA      GLAD       JJS  \n",
       "Date                                                \n",
       "2020-05-06 -0.113687  0.001304  0.062362 -0.011016  \n",
       "2020-05-07  0.023142  0.007789  0.000000  0.002213  \n",
       "2020-05-08  0.006515  0.020901  0.033738  0.005144  \n",
       "2020-05-11  0.009693 -0.000845  0.007868 -0.005439  \n",
       "2020-05-12 -0.087304 -0.007208  0.000000  0.000589  \n",
       "...              ...       ...       ...       ...  \n",
       "2021-04-29 -0.004556 -0.004880  0.015448 -0.019396  \n",
       "2021-04-30 -0.013793 -0.015779 -0.005425  0.000104  \n",
       "2021-05-03  0.013793  0.003968  0.000000 -0.010998  \n",
       "2021-05-04 -0.020762  0.012463 -0.007279  0.007032  \n",
       "2021-05-05  0.002328  0.014240 -0.000914  0.035848  \n",
       "\n",
       "[252 rows x 10 columns]"
      ]
     },
     "execution_count": 16,
     "metadata": {},
     "output_type": "execute_result"
    }
   ],
   "source": [
    "stocks[randomsymbols]"
   ]
  },
  {
   "cell_type": "code",
   "execution_count": null,
   "id": "023d7d90",
   "metadata": {},
   "outputs": [],
   "source": [
    "# data = pd.DataFrame()\n",
    "# for i in randomsymbols:\n",
    "#     data = pd.concat([pd.DataFrame({i: [stocks[i].values]}), data], axis=1)"
   ]
  },
  {
   "cell_type": "code",
   "execution_count": null,
   "id": "6fcb3c96",
   "metadata": {},
   "outputs": [],
   "source": [
    "# data.transpose()"
   ]
  },
  {
   "cell_type": "markdown",
   "id": "ec7ac0d7",
   "metadata": {},
   "source": [
    "### Converting daily returns into list"
   ]
  },
  {
   "cell_type": "code",
   "execution_count": null,
   "id": "c1226255",
   "metadata": {},
   "outputs": [
    {
     "data": {
      "text/html": [
       "<div>\n",
       "<style scoped>\n",
       "    .dataframe tbody tr th:only-of-type {\n",
       "        vertical-align: middle;\n",
       "    }\n",
       "\n",
       "    .dataframe tbody tr th {\n",
       "        vertical-align: top;\n",
       "    }\n",
       "\n",
       "    .dataframe thead th {\n",
       "        text-align: right;\n",
       "    }\n",
       "</style>\n",
       "<table border=\"1\" class=\"dataframe\">\n",
       "  <thead>\n",
       "    <tr style=\"text-align: right;\">\n",
       "      <th>Date</th>\n",
       "      <th>2020-05-06</th>\n",
       "      <th>2020-05-07</th>\n",
       "      <th>2020-05-08</th>\n",
       "      <th>2020-05-11</th>\n",
       "      <th>2020-05-12</th>\n",
       "      <th>2020-05-13</th>\n",
       "      <th>2020-05-14</th>\n",
       "      <th>2020-05-15</th>\n",
       "      <th>2020-05-18</th>\n",
       "      <th>2020-05-19</th>\n",
       "      <th>...</th>\n",
       "      <th>2021-04-22</th>\n",
       "      <th>2021-04-23</th>\n",
       "      <th>2021-04-26</th>\n",
       "      <th>2021-04-27</th>\n",
       "      <th>2021-04-28</th>\n",
       "      <th>2021-04-29</th>\n",
       "      <th>2021-04-30</th>\n",
       "      <th>2021-05-03</th>\n",
       "      <th>2021-05-04</th>\n",
       "      <th>2021-05-05</th>\n",
       "    </tr>\n",
       "  </thead>\n",
       "  <tbody>\n",
       "    <tr>\n",
       "      <th>INMB</th>\n",
       "      <td>0.033369</td>\n",
       "      <td>-0.023439</td>\n",
       "      <td>-0.013931</td>\n",
       "      <td>0.011952</td>\n",
       "      <td>0.050204</td>\n",
       "      <td>-0.100976</td>\n",
       "      <td>0.110348</td>\n",
       "      <td>0.027601</td>\n",
       "      <td>0.005430</td>\n",
       "      <td>0.040504</td>\n",
       "      <td>...</td>\n",
       "      <td>-0.050365</td>\n",
       "      <td>-0.036158</td>\n",
       "      <td>-0.005875</td>\n",
       "      <td>-0.000842</td>\n",
       "      <td>0.004203</td>\n",
       "      <td>-0.014364</td>\n",
       "      <td>0.010161</td>\n",
       "      <td>0.006717</td>\n",
       "      <td>-0.069292</td>\n",
       "      <td>-0.007201</td>\n",
       "    </tr>\n",
       "    <tr>\n",
       "      <th>FCG</th>\n",
       "      <td>-0.033759</td>\n",
       "      <td>0.008547</td>\n",
       "      <td>0.051151</td>\n",
       "      <td>-0.025940</td>\n",
       "      <td>-0.004158</td>\n",
       "      <td>-0.066021</td>\n",
       "      <td>-0.004461</td>\n",
       "      <td>0.020650</td>\n",
       "      <td>0.089320</td>\n",
       "      <td>-0.021593</td>\n",
       "      <td>...</td>\n",
       "      <td>-0.004934</td>\n",
       "      <td>0.012290</td>\n",
       "      <td>0.022545</td>\n",
       "      <td>0.021269</td>\n",
       "      <td>0.045705</td>\n",
       "      <td>0.000000</td>\n",
       "      <td>-0.031773</td>\n",
       "      <td>0.028790</td>\n",
       "      <td>-0.000747</td>\n",
       "      <td>0.033802</td>\n",
       "    </tr>\n",
       "    <tr>\n",
       "      <th>PSA-PG</th>\n",
       "      <td>-0.004612</td>\n",
       "      <td>0.001155</td>\n",
       "      <td>-0.000454</td>\n",
       "      <td>0.001992</td>\n",
       "      <td>-0.010039</td>\n",
       "      <td>-0.000388</td>\n",
       "      <td>-0.005450</td>\n",
       "      <td>-0.000910</td>\n",
       "      <td>0.009847</td>\n",
       "      <td>0.004246</td>\n",
       "      <td>...</td>\n",
       "      <td>0.002028</td>\n",
       "      <td>0.007463</td>\n",
       "      <td>-0.001116</td>\n",
       "      <td>-0.001602</td>\n",
       "      <td>0.001602</td>\n",
       "      <td>-0.003355</td>\n",
       "      <td>-0.010888</td>\n",
       "      <td>0.004144</td>\n",
       "      <td>0.004501</td>\n",
       "      <td>-0.005253</td>\n",
       "    </tr>\n",
       "    <tr>\n",
       "      <th>PFIE</th>\n",
       "      <td>0.062520</td>\n",
       "      <td>0.113235</td>\n",
       "      <td>0.143336</td>\n",
       "      <td>-0.062027</td>\n",
       "      <td>-0.105120</td>\n",
       "      <td>-0.050659</td>\n",
       "      <td>-0.024376</td>\n",
       "      <td>0.000000</td>\n",
       "      <td>0.092946</td>\n",
       "      <td>0.005900</td>\n",
       "      <td>...</td>\n",
       "      <td>0.000000</td>\n",
       "      <td>0.000000</td>\n",
       "      <td>0.017242</td>\n",
       "      <td>0.058108</td>\n",
       "      <td>0.114192</td>\n",
       "      <td>-0.021819</td>\n",
       "      <td>-0.108634</td>\n",
       "      <td>-0.008230</td>\n",
       "      <td>-0.025954</td>\n",
       "      <td>0.082193</td>\n",
       "    </tr>\n",
       "    <tr>\n",
       "      <th>UVV</th>\n",
       "      <td>-0.023733</td>\n",
       "      <td>-0.014515</td>\n",
       "      <td>0.042927</td>\n",
       "      <td>-0.036219</td>\n",
       "      <td>-0.040937</td>\n",
       "      <td>-0.000240</td>\n",
       "      <td>-0.005057</td>\n",
       "      <td>-0.000725</td>\n",
       "      <td>0.001449</td>\n",
       "      <td>0.016035</td>\n",
       "      <td>...</td>\n",
       "      <td>-0.004691</td>\n",
       "      <td>0.011601</td>\n",
       "      <td>-0.004313</td>\n",
       "      <td>-0.014103</td>\n",
       "      <td>-0.004393</td>\n",
       "      <td>-0.001057</td>\n",
       "      <td>-0.008676</td>\n",
       "      <td>0.020420</td>\n",
       "      <td>-0.001046</td>\n",
       "      <td>0.005219</td>\n",
       "    </tr>\n",
       "  </tbody>\n",
       "</table>\n",
       "<p>5 rows × 252 columns</p>\n",
       "</div>"
      ],
      "text/plain": [
       "Date    2020-05-06  2020-05-07  2020-05-08  2020-05-11  2020-05-12  \\\n",
       "INMB      0.033369   -0.023439   -0.013931    0.011952    0.050204   \n",
       "FCG      -0.033759    0.008547    0.051151   -0.025940   -0.004158   \n",
       "PSA-PG   -0.004612    0.001155   -0.000454    0.001992   -0.010039   \n",
       "PFIE      0.062520    0.113235    0.143336   -0.062027   -0.105120   \n",
       "UVV      -0.023733   -0.014515    0.042927   -0.036219   -0.040937   \n",
       "\n",
       "Date    2020-05-13  2020-05-14  2020-05-15  2020-05-18  2020-05-19  ...  \\\n",
       "INMB     -0.100976    0.110348    0.027601    0.005430    0.040504  ...   \n",
       "FCG      -0.066021   -0.004461    0.020650    0.089320   -0.021593  ...   \n",
       "PSA-PG   -0.000388   -0.005450   -0.000910    0.009847    0.004246  ...   \n",
       "PFIE     -0.050659   -0.024376    0.000000    0.092946    0.005900  ...   \n",
       "UVV      -0.000240   -0.005057   -0.000725    0.001449    0.016035  ...   \n",
       "\n",
       "Date    2021-04-22  2021-04-23  2021-04-26  2021-04-27  2021-04-28  \\\n",
       "INMB     -0.050365   -0.036158   -0.005875   -0.000842    0.004203   \n",
       "FCG      -0.004934    0.012290    0.022545    0.021269    0.045705   \n",
       "PSA-PG    0.002028    0.007463   -0.001116   -0.001602    0.001602   \n",
       "PFIE      0.000000    0.000000    0.017242    0.058108    0.114192   \n",
       "UVV      -0.004691    0.011601   -0.004313   -0.014103   -0.004393   \n",
       "\n",
       "Date    2021-04-29  2021-04-30  2021-05-03  2021-05-04  2021-05-05  \n",
       "INMB     -0.014364    0.010161    0.006717   -0.069292   -0.007201  \n",
       "FCG       0.000000   -0.031773    0.028790   -0.000747    0.033802  \n",
       "PSA-PG   -0.003355   -0.010888    0.004144    0.004501   -0.005253  \n",
       "PFIE     -0.021819   -0.108634   -0.008230   -0.025954    0.082193  \n",
       "UVV      -0.001057   -0.008676    0.020420   -0.001046    0.005219  \n",
       "\n",
       "[5 rows x 252 columns]"
      ]
     },
     "execution_count": 19,
     "metadata": {},
     "output_type": "execute_result"
    }
   ],
   "source": [
    "data_transpose = stocks[randomsymbols].T\n",
    "data_transpose.head()"
   ]
  },
  {
   "cell_type": "code",
   "execution_count": null,
   "id": "028122c2",
   "metadata": {},
   "outputs": [
    {
     "data": {
      "text/plain": [
       "INMB      [0.033369062350359566, -0.023438551141146128, ...\n",
       "FCG       [-0.03375852615119728, 0.00854721404175882, 0....\n",
       "PSA-PG    [-0.004611990760338544, 0.0011550721807770709,...\n",
       "PFIE      [0.06252036204781755, 0.11323459574026887, 0.1...\n",
       "UVV       [-0.023732672657238, -0.014514712525277702, 0....\n",
       "Name: returns_vector, dtype: object"
      ]
     },
     "execution_count": 20,
     "metadata": {},
     "output_type": "execute_result"
    }
   ],
   "source": [
    "data_transpose['returns_vector'] = data_transpose.values.tolist()\n",
    "data_transpose['returns_vector'].head()"
   ]
  },
  {
   "cell_type": "code",
   "execution_count": null,
   "id": "f0725e4f",
   "metadata": {},
   "outputs": [
    {
     "data": {
      "text/html": [
       "<div>\n",
       "<style scoped>\n",
       "    .dataframe tbody tr th:only-of-type {\n",
       "        vertical-align: middle;\n",
       "    }\n",
       "\n",
       "    .dataframe tbody tr th {\n",
       "        vertical-align: top;\n",
       "    }\n",
       "\n",
       "    .dataframe thead th {\n",
       "        text-align: right;\n",
       "    }\n",
       "</style>\n",
       "<table border=\"1\" class=\"dataframe\">\n",
       "  <thead>\n",
       "    <tr style=\"text-align: right;\">\n",
       "      <th></th>\n",
       "      <th>returns_vector</th>\n",
       "      <th>symbol</th>\n",
       "    </tr>\n",
       "  </thead>\n",
       "  <tbody>\n",
       "    <tr>\n",
       "      <th>INMB</th>\n",
       "      <td>[0.033369062350359566, -0.023438551141146128, ...</td>\n",
       "      <td>INMB</td>\n",
       "    </tr>\n",
       "    <tr>\n",
       "      <th>FCG</th>\n",
       "      <td>[-0.03375852615119728, 0.00854721404175882, 0....</td>\n",
       "      <td>FCG</td>\n",
       "    </tr>\n",
       "    <tr>\n",
       "      <th>PSA-PG</th>\n",
       "      <td>[-0.004611990760338544, 0.0011550721807770709,...</td>\n",
       "      <td>PSA-PG</td>\n",
       "    </tr>\n",
       "    <tr>\n",
       "      <th>PFIE</th>\n",
       "      <td>[0.06252036204781755, 0.11323459574026887, 0.1...</td>\n",
       "      <td>PFIE</td>\n",
       "    </tr>\n",
       "    <tr>\n",
       "      <th>UVV</th>\n",
       "      <td>[-0.023732672657238, -0.014514712525277702, 0....</td>\n",
       "      <td>UVV</td>\n",
       "    </tr>\n",
       "  </tbody>\n",
       "</table>\n",
       "</div>"
      ],
      "text/plain": [
       "                                           returns_vector  symbol\n",
       "INMB    [0.033369062350359566, -0.023438551141146128, ...    INMB\n",
       "FCG     [-0.03375852615119728, 0.00854721404175882, 0....     FCG\n",
       "PSA-PG  [-0.004611990760338544, 0.0011550721807770709,...  PSA-PG\n",
       "PFIE    [0.06252036204781755, 0.11323459574026887, 0.1...    PFIE\n",
       "UVV     [-0.023732672657238, -0.014514712525277702, 0....     UVV"
      ]
     },
     "execution_count": 21,
     "metadata": {},
     "output_type": "execute_result"
    }
   ],
   "source": [
    "return_vector = data_transpose['returns_vector'].to_frame()\n",
    "return_vector[\"symbol\"] = return_vector.index\n",
    "return_vector.head()"
   ]
  },
  {
   "cell_type": "markdown",
   "id": "6eb9936b",
   "metadata": {},
   "source": [
    "### Getting list of dates for the return list"
   ]
  },
  {
   "cell_type": "code",
   "execution_count": null,
   "id": "2c761bb1",
   "metadata": {},
   "outputs": [
    {
     "data": {
      "text/plain": [
       "0   2020-05-06\n",
       "1   2020-05-07\n",
       "2   2020-05-08\n",
       "3   2020-05-11\n",
       "4   2020-05-12\n",
       "Name: Date, dtype: datetime64[ns]"
      ]
     },
     "execution_count": 22,
     "metadata": {},
     "output_type": "execute_result"
    }
   ],
   "source": [
    "ret = stocks.reset_index().copy()\n",
    "ret[\"Date\"].head()"
   ]
  },
  {
   "cell_type": "code",
   "execution_count": null,
   "id": "1f17311d",
   "metadata": {},
   "outputs": [],
   "source": []
  },
  {
   "cell_type": "code",
   "execution_count": null,
   "id": "cb9ae814",
   "metadata": {},
   "outputs": [],
   "source": [
    "import atoti as tt\n"
   ]
  },
  {
   "cell_type": "code",
   "execution_count": null,
   "id": "d8996618",
   "metadata": {},
   "outputs": [],
   "source": [
    "session = tt.create_session()"
   ]
  },
  {
   "cell_type": "code",
   "execution_count": null,
   "id": "006b9ad6",
   "metadata": {},
   "outputs": [],
   "source": []
  },
  {
   "cell_type": "code",
   "execution_count": 27,
   "id": "8c32e48b",
   "metadata": {},
   "outputs": [
    {
     "data": {
      "text/html": [
       "<div>\n",
       "<style scoped>\n",
       "    .dataframe tbody tr th:only-of-type {\n",
       "        vertical-align: middle;\n",
       "    }\n",
       "\n",
       "    .dataframe tbody tr th {\n",
       "        vertical-align: top;\n",
       "    }\n",
       "\n",
       "    .dataframe thead th {\n",
       "        text-align: right;\n",
       "    }\n",
       "</style>\n",
       "<table border=\"1\" class=\"dataframe\">\n",
       "  <thead>\n",
       "    <tr style=\"text-align: right;\">\n",
       "      <th></th>\n",
       "      <th>returns_vector</th>\n",
       "    </tr>\n",
       "    <tr>\n",
       "      <th>symbol</th>\n",
       "      <th></th>\n",
       "    </tr>\n",
       "  </thead>\n",
       "  <tbody>\n",
       "    <tr>\n",
       "      <th>INMB</th>\n",
       "      <td>doubleVector[252]{0.033369062350359566, ...}</td>\n",
       "    </tr>\n",
       "    <tr>\n",
       "      <th>FCG</th>\n",
       "      <td>doubleVector[252]{-0.03375852615119728, ...}</td>\n",
       "    </tr>\n",
       "    <tr>\n",
       "      <th>PSA-PG</th>\n",
       "      <td>doubleVector[252]{-0.004611990760338544, ...}</td>\n",
       "    </tr>\n",
       "    <tr>\n",
       "      <th>PFIE</th>\n",
       "      <td>doubleVector[252]{0.06252036204781755, ...}</td>\n",
       "    </tr>\n",
       "    <tr>\n",
       "      <th>UVV</th>\n",
       "      <td>doubleVector[252]{-0.023732672657238, ...}</td>\n",
       "    </tr>\n",
       "  </tbody>\n",
       "</table>\n",
       "</div>"
      ],
      "text/plain": [
       "                                       returns_vector\n",
       "symbol                                               \n",
       "INMB     doubleVector[252]{0.033369062350359566, ...}\n",
       "FCG      doubleVector[252]{-0.03375852615119728, ...}\n",
       "PSA-PG  doubleVector[252]{-0.004611990760338544, ...}\n",
       "PFIE      doubleVector[252]{0.06252036204781755, ...}\n",
       "UVV        doubleVector[252]{-0.023732672657238, ...}"
      ]
     },
     "execution_count": 27,
     "metadata": {},
     "output_type": "execute_result"
    }
   ],
   "source": [
    "# https://towardsdatascience.com/shape-tables-like-jelly-with-pandas-melt-and-pivot-f2e13e666d6\n",
    "\n",
    "returns_table = session.read_pandas(\n",
    "    #\"Returns\n",
    "    return_vector,\n",
    "    table_name=\"Returns\",\n",
    "    keys=[\"symbol\"],\n",
    "    #store_name=\"Returns\",\n",
    ")\n",
    "\n",
    "returns_table.head()"
   ]
  },
  {
   "cell_type": "code",
   "execution_count": 28,
   "id": "a3d083de",
   "metadata": {},
   "outputs": [],
   "source": [
    "cube = session.create_cube(returns_table, \"Return Cube\")"
   ]
  },
  {
   "cell_type": "code",
   "execution_count": 29,
   "id": "0c81a2aa",
   "metadata": {},
   "outputs": [],
   "source": [
    "h, l, m = cube.hierarchies, cube.levels, cube.measures"
   ]
  },
  {
   "cell_type": "code",
   "execution_count": 30,
   "id": "9f14082d",
   "metadata": {},
   "outputs": [
    {
     "data": {
      "image/svg+xml": [
       "<svg xmlns=\"http://www.w3.org/2000/svg\" xmlns:xlink=\"http://www.w3.org/1999/xlink\" width=\"201px\" height=\"90px\" viewBox=\"0.00 0.00 201.00 90.00\">\n",
       "<g id=\"graph0\" class=\"graph\" transform=\"scale(1.0 1.0) rotate(0) translate(4 86)\">\n",
       "<title>Return Cube schema</title>\n",
       "<polygon fill=\"white\" stroke=\"transparent\" points=\"-4,4 -4,-86 197,-86 197,4 -4,4\"/>\n",
       "<!-- Returns -->\n",
       "<g id=\"node1\" class=\"node\">\n",
       "<title>Returns</title>\n",
       "<text text-anchor=\"start\" x=\"73\" y=\"-62.6\" font-family=\"-apple-system, BlinkMacSystemFont, 'Segoe UI', Helvetica, Arial, sans-serif, 'Apple Color Emoji', 'Segoe UI Emoji', 'Segoe UI Symbol'\" font-weight=\"bold\" font-size=\"13.00\">Returns</text>\n",
       "<polygon fill=\"#f5f5f5\" stroke=\"transparent\" points=\"9.5,-29 9.5,-53 40.5,-53 40.5,-29 9.5,-29\"/>\n",
       "<polygon fill=\"#f5f5f5\" stroke=\"transparent\" points=\"40.5,-29 40.5,-53 129.5,-53 129.5,-29 40.5,-29\"/>\n",
       "<text text-anchor=\"start\" x=\"45.5\" y=\"-37.6\" font-family=\"-apple-system, BlinkMacSystemFont, 'Segoe UI', Helvetica, Arial, sans-serif, 'Apple Color Emoji', 'Segoe UI Emoji', 'Segoe UI Symbol'\" font-size=\"13.00\">returns_vector</text>\n",
       "<polygon fill=\"#f5f5f5\" stroke=\"transparent\" points=\"129.5,-29 129.5,-53 184.5,-53 184.5,-29 129.5,-29\"/>\n",
       "<text text-anchor=\"start\" x=\"134.5\" y=\"-38.6\" font-family=\"-apple-system, BlinkMacSystemFont, 'Segoe UI', Helvetica, Arial, sans-serif, 'Apple Color Emoji', 'Segoe UI Emoji', 'Segoe UI Symbol'\" font-style=\"italic\" font-size=\"13.00\">double[]</text>\n",
       "<polygon fill=\"#ffffff\" stroke=\"transparent\" points=\"9.5,-5 9.5,-29 40.5,-29 40.5,-5 9.5,-5\"/>\n",
       "<text text-anchor=\"start\" x=\"14.5\" y=\"-14.6\" font-family=\"-apple-system, BlinkMacSystemFont, 'Segoe UI', Helvetica, Arial, sans-serif, 'Apple Color Emoji', 'Segoe UI Emoji', 'Segoe UI Symbol'\" font-weight=\"bold\" font-size=\"13.00\">key</text>\n",
       "<polygon fill=\"#ffffff\" stroke=\"transparent\" points=\"40.5,-5 40.5,-29 129.5,-29 129.5,-5 40.5,-5\"/>\n",
       "<text text-anchor=\"start\" x=\"45.5\" y=\"-13.6\" font-family=\"-apple-system, BlinkMacSystemFont, 'Segoe UI', Helvetica, Arial, sans-serif, 'Apple Color Emoji', 'Segoe UI Emoji', 'Segoe UI Symbol'\" font-size=\"13.00\">symbol</text>\n",
       "<polygon fill=\"#ffffff\" stroke=\"transparent\" points=\"129.5,-5 129.5,-29 184.5,-29 184.5,-5 129.5,-5\"/>\n",
       "<text text-anchor=\"start\" x=\"146.5\" y=\"-14.6\" font-family=\"-apple-system, BlinkMacSystemFont, 'Segoe UI', Helvetica, Arial, sans-serif, 'Apple Color Emoji', 'Segoe UI Emoji', 'Segoe UI Symbol'\" font-style=\"italic\" font-size=\"13.00\">String</text>\n",
       "<polygon fill=\"none\" stroke=\"black\" points=\"8,-4 8,-78 185,-78 185,-4 8,-4\"/>\n",
       "</g>\n",
       "</g>\n",
       "</svg>"
      ],
      "text/plain": [
       "<IPython.core.display.SVG object>"
      ]
     },
     "execution_count": 30,
     "metadata": {},
     "output_type": "execute_result"
    }
   ],
   "source": [
    "# import graphviz\n",
    "cube.schema"
   ]
  },
  {
   "cell_type": "code",
   "execution_count": 31,
   "id": "3eeedd05",
   "metadata": {},
   "outputs": [],
   "source": [
    "# pip list"
   ]
  },
  {
   "cell_type": "code",
   "execution_count": null,
   "id": "5c913b5b-50fe-4ba1-ae00-50b1af42766e",
   "metadata": {},
   "outputs": [],
   "source": []
  },
  {
   "cell_type": "code",
   "execution_count": 32,
   "id": "9d802d0b",
   "metadata": {},
   "outputs": [
    {
     "name": "stderr",
     "output_type": "stream",
     "text": [
      "C:\\Users\\User\\AppData\\Local\\Temp/ipykernel_1804/1205890402.py:29: DeprecationWarning:\n",
      "\n",
      "`np.float` is a deprecated alias for the builtin `float`. To silence this warning, use `float` by itself. Doing this will not modify any behavior and is safe. If you specifically wanted the numpy scalar type, use `np.float64` here.\n",
      "Deprecated in NumPy 1.20; for more details and guidance: https://numpy.org/devdocs/release/1.20.0-notes.html#deprecations\n",
      "\n",
      "C:\\Users\\User\\AppData\\Local\\Programs\\Python\\Python39\\lib\\site-packages\\numpy\\lib\\shape_base.py:652: VisibleDeprecationWarning:\n",
      "\n",
      "Creating an ndarray from ragged nested sequences (which is a list-or-tuple of lists-or-tuples-or ndarrays with different lengths or shapes) is deprecated. If you meant to do this, you must specify 'dtype=object' when creating the ndarray.\n",
      "\n"
     ]
    },
    {
     "data": {
      "text/plain": [
       "[array([0.10733500555074292, 0.06417272836728088, 0.03603140539980117,\n",
       "        0.15165909154547333, 0.10654217793866619, 0.20431579790278429,\n",
       "        0.01491319167019616, 0.14459688287324715, 0.08398242618920727,\n",
       "        0.08645129256260069], dtype=object),\n",
       " 0.0035441599753868727,\n",
       " 0.024171785455558446,\n",
       " 0.1466238388514189,\n",
       " -0.018446700495852595]"
      ]
     },
     "metadata": {},
     "output_type": "display_data"
    },
    {
     "data": {
      "text/plain": [
       "[array([0.24410073153913056, 0.04499430855106671, 0.01223851613587765,\n",
       "        0.24104538589406088, 0.031830452802604506, 0.15757123132453074,\n",
       "        0.08169775463821156, 0.1238022876372308, 0.020711847769967533,\n",
       "        0.042007483707318986], dtype=object),\n",
       " 0.0016497925334882453,\n",
       " 0.009159656582815914,\n",
       " 0.18011510787242382,\n",
       " 0.0338358375039493]"
      ]
     },
     "metadata": {},
     "output_type": "display_data"
    },
    {
     "data": {
      "text/plain": [
       "[array([0.16415723356408415, 0.052933333449947495, 0.052258591330261665,\n",
       "        0.07601016721289294, 0.11145406941819527, 0.13708750474810283,\n",
       "        0.16751624089736322, 0.054857912958488526, 0.1398713071409199,\n",
       "        0.04385363927974396], dtype=object),\n",
       " 0.0016497925334882453,\n",
       " 0.009159656582815914,\n",
       " 0.18011510787242382,\n",
       " 0.0390874921417367]"
      ]
     },
     "metadata": {},
     "output_type": "display_data"
    },
    {
     "data": {
      "text/plain": [
       "[array([0.11308282000967415, 0.1544285912071383, 0.15790355038521672,\n",
       "        0.030443169230720057, 0.041435355312047825, 0.15200331280279192,\n",
       "        0.019295003664529804, 0.10129315129558379, 0.07412179123906353,\n",
       "        0.15599325485323365], dtype=object),\n",
       " 0.0016497925334882453,\n",
       " 0.009159656582815914,\n",
       " 0.18011510787242382,\n",
       " 0.04134021981122353]"
      ]
     },
     "metadata": {},
     "output_type": "display_data"
    },
    {
     "data": {
      "text/plain": [
       "[array([0.03141625416163872, 0.1634680940368754, 0.1368743255025013,\n",
       "        0.10133637995197883, 0.14385866573097983, 0.000357790742747265,\n",
       "        0.10007078439578292, 0.10274937796711613, 0.09606451752181641,\n",
       "        0.12380380998856316], dtype=object),\n",
       " 0.0016497925334882453,\n",
       " 0.009159656582815914,\n",
       " 0.18011510787242382,\n",
       " 0.10020624920779576]"
      ]
     },
     "metadata": {},
     "output_type": "display_data"
    },
    {
     "data": {
      "text/plain": [
       "[array([0.05305900739337946, 0.18006043283679077, 0.04809705273079063,\n",
       "        0.09540597370766608, 0.019349880508316646, 0.07540728685529988,\n",
       "        0.05299259314306504, 0.13994149346170073, 0.1447416610019194,\n",
       "        0.19094461836107146], dtype=object),\n",
       " 0.0018480514146066935,\n",
       " 0.00931964597721462,\n",
       " 0.1982963107316469,\n",
       " 0.022257556727921207]"
      ]
     },
     "metadata": {},
     "output_type": "display_data"
    },
    {
     "data": {
      "text/plain": [
       "[array([0.13960262198818366, 0.07872263572875861, 0.013737372250214885,\n",
       "        0.15484267669941043, 0.1590174387556846, 0.12434598882368304,\n",
       "        0.12027464980170113, 0.10964205431121268, 0.04768744534863503,\n",
       "        0.05212711629251593], dtype=object),\n",
       " 0.0018480514146066935,\n",
       " 0.00931964597721462,\n",
       " 0.1982963107316469,\n",
       " -0.023213003337557464]"
      ]
     },
     "metadata": {},
     "output_type": "display_data"
    },
    {
     "data": {
      "text/plain": [
       "[array([0.02531497672713949, 0.16046320302448652, 0.15376103263349655,\n",
       "        0.09425432636577852, 0.007047014131860083, 0.14323273726956676,\n",
       "        0.11844538254092891, 0.10408453487918906, 0.08074568333342091,\n",
       "        0.11265110909413323], dtype=object),\n",
       " 0.0018480514146066935,\n",
       " 0.00931964597721462,\n",
       " 0.1982963107316469,\n",
       " 0.04442152165651416]"
      ]
     },
     "metadata": {},
     "output_type": "display_data"
    },
    {
     "data": {
      "text/plain": [
       "[array([0.015955205404733965, 0.20149290467885594, 0.12240989303428108,\n",
       "        0.017081403904311093, 0.19495591145996233, 0.12579303511063308,\n",
       "        0.1513700768296306, 0.12353541110489645, 0.003996396650114314,\n",
       "        0.04340976182258125], dtype=object),\n",
       " 0.0018480514146066935,\n",
       " 0.00931964597721462,\n",
       " 0.1982963107316469,\n",
       " -0.0004946914058731781]"
      ]
     },
     "metadata": {},
     "output_type": "display_data"
    },
    {
     "data": {
      "text/plain": [
       "[array([0.14248622625664073, 0.03710378985472319, 0.13726559051437573,\n",
       "        0.11904017469318183, 0.07535582260841255, 0.06628769945250433,\n",
       "        0.06559139816303888, 0.148769522067999, 0.02193866905505236,\n",
       "        0.18616110733407149], dtype=object),\n",
       " 0.0018480514146066935,\n",
       " 0.00931964597721462,\n",
       " 0.1982963107316469,\n",
       " -0.030663401747341664]"
      ]
     },
     "metadata": {},
     "output_type": "display_data"
    },
    {
     "data": {
      "text/plain": [
       "[array([0.14850574636641992, 0.01617870618568296, 0.10983887243850984,\n",
       "        0.09188520288968499, 0.12540014371664626, 0.09203644454794081,\n",
       "        0.006239483817833, 0.1613484070967819, 0.14621416218249667,\n",
       "        0.1023528307580036], dtype=object),\n",
       " 0.0018480514146066935,\n",
       " 0.00931964597721462,\n",
       " 0.1982963107316469,\n",
       " -0.04311885748114064]"
      ]
     },
     "metadata": {},
     "output_type": "display_data"
    },
    {
     "data": {
      "text/plain": [
       "[array([0.06592646091427234, 0.07093188198160673, 0.128460397288346,\n",
       "        0.18234787759951712, 0.12806716782447164, 0.059022120078632424,\n",
       "        0.10635778310045514, 0.09528343364088541, 0.11099241380858683,\n",
       "        0.052610463763226374], dtype=object),\n",
       " 0.002816677473358361,\n",
       " 0.013384087516785149,\n",
       " 0.2104497202238054,\n",
       " -0.03441345613281342]"
      ]
     },
     "metadata": {},
     "output_type": "display_data"
    },
    {
     "data": {
      "text/plain": [
       "[array([0.0989266313542673, 0.11724978717138723, 0.17529210139698426,\n",
       "        0.15698317227508582, 0.024638024951887893, 0.025103387843483618,\n",
       "        0.10949160869925989, 0.16974993890624182, 0.017936645067502248,\n",
       "        0.1046287023339], dtype=object),\n",
       " 0.002816677473358361,\n",
       " 0.013384087516785149,\n",
       " 0.2104497202238054,\n",
       " -0.03660763816553063]"
      ]
     },
     "metadata": {},
     "output_type": "display_data"
    },
    {
     "data": {
      "text/plain": [
       "[array([0.008891712968511416, 0.13405949043688192, 0.14183970443571506,\n",
       "        0.04050971622761623, 0.05661698219913001, 0.1522710961751224,\n",
       "        0.19779516351466678, 0.14576125363433576, 0.022703701426403274,\n",
       "        0.0995511789816172], dtype=object),\n",
       " 0.002816677473358361,\n",
       " 0.013384087516785149,\n",
       " 0.2104497202238054,\n",
       " -0.022265724512274192]"
      ]
     },
     "metadata": {},
     "output_type": "display_data"
    },
    {
     "data": {
      "text/plain": [
       "[array([0.19575187728998594, 0.057601067671139095, 0.18882579171553232,\n",
       "        0.18744178306571233, 0.02173204769316208, 0.11840842822295741,\n",
       "        0.015400300652372814, 0.05654995759028018, 0.05362374589341987,\n",
       "        0.10466500020543786], dtype=object),\n",
       " 0.002816677473358361,\n",
       " 0.013384087516785149,\n",
       " 0.2104497202238054,\n",
       " -0.018510416826971594]"
      ]
     },
     "metadata": {},
     "output_type": "display_data"
    },
    {
     "data": {
      "text/plain": [
       "[array([0.13792137743306648, 0.12655120555511898, 0.01570868401174609,\n",
       "        0.15908380144647266, 0.11657277536710962, 0.15067308529370668,\n",
       "        0.08442992533175966, 0.09354029812780279, 0.10839524022760816,\n",
       "        0.0071236072056089375], dtype=object),\n",
       " 0.002816677473358361,\n",
       " 0.013384087516785149,\n",
       " 0.2104497202238054,\n",
       " 0.0858352428198485]"
      ]
     },
     "metadata": {},
     "output_type": "display_data"
    },
    {
     "data": {
      "text/plain": [
       "[array([0.05210310860847684, 0.2390915874696739, 0.03432888594152786,\n",
       "        0.18772326192222355, 0.052209432273038, 0.1976180933794052,\n",
       "        0.026163606975962275, 0.13104709259088315, 0.05999360094702974,\n",
       "        0.01972132989177942], dtype=object),\n",
       " 0.0019211494688202687,\n",
       " 0.009105405738245212,\n",
       " 0.21098999034726282,\n",
       " 0.013186557354789217]"
      ]
     },
     "metadata": {},
     "output_type": "display_data"
    },
    {
     "data": {
      "text/plain": [
       "[array([0.021502877074115388, 0.06983698790134708, 0.15332308780533074,\n",
       "        0.004403115150721746, 0.05956845838168512, 0.15942830252278267,\n",
       "        0.16947078336281163, 0.12775311093135716, 0.17830897535125306,\n",
       "        0.05640430151859526], dtype=object),\n",
       " 0.0019211494688202687,\n",
       " 0.009105405738245212,\n",
       " 0.21098999034726282,\n",
       " -0.01163754991630534]"
      ]
     },
     "metadata": {},
     "output_type": "display_data"
    },
    {
     "data": {
      "text/plain": [
       "[array([0.17781177159551168, 0.02790871357294159, 0.03323744640432182,\n",
       "        0.11156131123666996, 0.13717941152179178, 0.14648195956642665,\n",
       "        0.18546028057587352, 0.1311817384198166, 0.0014418754794828564,\n",
       "        0.04773549162716338], dtype=object),\n",
       " 0.0019211494688202687,\n",
       " 0.009105405738245212,\n",
       " 0.21098999034726282,\n",
       " 0.04927170445436307]"
      ]
     },
     "metadata": {},
     "output_type": "display_data"
    },
    {
     "data": {
      "text/plain": [
       "[array([0.13384067601883773, 0.10788007423961173, 0.035410840249122055,\n",
       "        0.14489385182817513, 0.16948349880817107, 0.10854323150055943,\n",
       "        0.1613797185868777, 0.10195320969728168, 0.004921612372523215,\n",
       "        0.03169328669884026], dtype=object),\n",
       " 0.0019211494688202687,\n",
       " 0.009105405738245212,\n",
       " 0.21098999034726282,\n",
       " -0.09135237620556012]"
      ]
     },
     "metadata": {},
     "output_type": "display_data"
    }
   ],
   "source": [
    "# years = 10\n",
    "\n",
    "import contextlib\n",
    "\n",
    "stocksp = 0.2\n",
    "mfundsp = 0.1\n",
    "bondsp = 0.2\n",
    "commp = 0.2\n",
    "\n",
    "n_portfolio = 100\n",
    "\n",
    "bestSharpe = 0\n",
    "runs = 0\n",
    "weight = None\n",
    "bestMean = 0\n",
    "bestStd = 0\n",
    "means = np.array([])\n",
    "stds = np.array([])\n",
    "sharpes = np.array([])\n",
    "bestWeights = None\n",
    "weights = np.array([])\n",
    "\n",
    "# random dates using X_index\n",
    "\n",
    "randomSet = list(np.sort(np.random.choice(range(0, len(Training)), nran)))\n",
    "\n",
    "for tensor in randomSet:\n",
    "\n",
    "    randomsymbols = list(np.random.choice(pf.data.columns, 10, replace=False))\n",
    "    # random columns\n",
    "    stocks = returns.loc[[i[0] for i in Training[tensor]]][randomsymbols]\n",
    "\n",
    "    return_vec = np.array(stocks)\n",
    "\n",
    "    # display(pd.DataFrame(stocks.cumsum().iloc[-1]).transpose())\n",
    "\n",
    "    for _ in range(n_portfolio):\n",
    "        means2, stds2, sharpes2, weights2 = np.column_stack(\n",
    "            [random_portfolio(return_vec) for _ in range(len(stocks.columns))]\n",
    "        )\n",
    "        means_ = means2\n",
    "        stds_ = stds2\n",
    "        sharpes_ = sharpes2\n",
    "        weights_ = weights2\n",
    "\n",
    "        bestWeights = weights_[sharpes_.argmax()]\n",
    "\n",
    "        means = np.append(means, means_)\n",
    "        stds = np.append(stds, stds_)\n",
    "        sharpes = np.append(sharpes, sharpes_)\n",
    "        weights = np.append(weights, weights_)\n",
    "\n",
    "    df_ = pd.DataFrame(weights[sharpes.argmax()]).set_index(stocks.columns)\n",
    "    df_.columns = [\"Weights\"]\n",
    "\n",
    "    next4weeks = returns.loc[[i[0] for i in Holdout[tensor]]][randomsymbols]\n",
    "\n",
    "    df_.sort_values(by=[\"Weights\"], ascending=False, inplace=True)\n",
    "\n",
    "    wr = np.array(\n",
    "        weighted_return(\n",
    "            np.array((np.exp(next4weeks) - 1).cumsum().tail(1)),\n",
    "            weights[sharpes.argmax()],\n",
    "        )\n",
    "    )[0][0]\n",
    "\n",
    "    max_sr_ret = means[sharpes.argmax()]\n",
    "    max_sr_vol = stds[sharpes.argmax()]\n",
    "    max_sharpe = sharpes[sharpes.argmax()]\n",
    "\n",
    "    display([bestWeights, max_sr_ret, max_sr_vol, max_sharpe, wr])"
   ]
  },
  {
   "cell_type": "code",
   "execution_count": null,
   "id": "cf2e2d1f",
   "metadata": {},
   "outputs": [],
   "source": []
  },
  {
   "cell_type": "code",
   "execution_count": 33,
   "id": "5c3f8e46",
   "metadata": {},
   "outputs": [],
   "source": [
    "cube.create_parameter_hierarchy_from_members(\n",
    "    \"Dates\", ret[\"Date\"].tolist(), \n",
    "    index_measure_name=\"Date Index\",\n",
    "    #name=\"Dates\"\n",
    "    #store_name=\"Dates\"\n",
    ")\n",
    "# Setting the hierarchy to non-slicing, as required by\n",
    "# the max_member aggregation function - see later - this behavior might change in future versions.\n",
    "h[\"Dates\"].slicing = False"
   ]
  },
  {
   "cell_type": "code",
   "execution_count": 34,
   "id": "9a33d2ec",
   "metadata": {},
   "outputs": [
    {
     "data": {
      "image/svg+xml": [
       "<svg xmlns=\"http://www.w3.org/2000/svg\" xmlns:xlink=\"http://www.w3.org/1999/xlink\" width=\"427px\" height=\"90px\" viewBox=\"0.00 0.00 427.00 90.00\">\n",
       "<g id=\"graph0\" class=\"graph\" transform=\"scale(1.0 1.0) rotate(0) translate(4 86)\">\n",
       "<title>Return Cube schema</title>\n",
       "<polygon fill=\"white\" stroke=\"transparent\" points=\"-4,4 -4,-86 423,-86 423,4 -4,4\"/>\n",
       "<!-- Returns -->\n",
       "<g id=\"node1\" class=\"node\">\n",
       "<title>Returns</title>\n",
       "<text text-anchor=\"start\" x=\"73\" y=\"-62.6\" font-family=\"-apple-system, BlinkMacSystemFont, 'Segoe UI', Helvetica, Arial, sans-serif, 'Apple Color Emoji', 'Segoe UI Emoji', 'Segoe UI Symbol'\" font-weight=\"bold\" font-size=\"13.00\">Returns</text>\n",
       "<polygon fill=\"#f5f5f5\" stroke=\"transparent\" points=\"9.5,-29 9.5,-53 40.5,-53 40.5,-29 9.5,-29\"/>\n",
       "<polygon fill=\"#f5f5f5\" stroke=\"transparent\" points=\"40.5,-29 40.5,-53 129.5,-53 129.5,-29 40.5,-29\"/>\n",
       "<text text-anchor=\"start\" x=\"45.5\" y=\"-37.6\" font-family=\"-apple-system, BlinkMacSystemFont, 'Segoe UI', Helvetica, Arial, sans-serif, 'Apple Color Emoji', 'Segoe UI Emoji', 'Segoe UI Symbol'\" font-size=\"13.00\">returns_vector</text>\n",
       "<polygon fill=\"#f5f5f5\" stroke=\"transparent\" points=\"129.5,-29 129.5,-53 184.5,-53 184.5,-29 129.5,-29\"/>\n",
       "<text text-anchor=\"start\" x=\"134.5\" y=\"-38.6\" font-family=\"-apple-system, BlinkMacSystemFont, 'Segoe UI', Helvetica, Arial, sans-serif, 'Apple Color Emoji', 'Segoe UI Emoji', 'Segoe UI Symbol'\" font-style=\"italic\" font-size=\"13.00\">double[]</text>\n",
       "<polygon fill=\"#ffffff\" stroke=\"transparent\" points=\"9.5,-5 9.5,-29 40.5,-29 40.5,-5 9.5,-5\"/>\n",
       "<text text-anchor=\"start\" x=\"14.5\" y=\"-14.6\" font-family=\"-apple-system, BlinkMacSystemFont, 'Segoe UI', Helvetica, Arial, sans-serif, 'Apple Color Emoji', 'Segoe UI Emoji', 'Segoe UI Symbol'\" font-weight=\"bold\" font-size=\"13.00\">key</text>\n",
       "<polygon fill=\"#ffffff\" stroke=\"transparent\" points=\"40.5,-5 40.5,-29 129.5,-29 129.5,-5 40.5,-5\"/>\n",
       "<text text-anchor=\"start\" x=\"45.5\" y=\"-13.6\" font-family=\"-apple-system, BlinkMacSystemFont, 'Segoe UI', Helvetica, Arial, sans-serif, 'Apple Color Emoji', 'Segoe UI Emoji', 'Segoe UI Symbol'\" font-size=\"13.00\">symbol</text>\n",
       "<polygon fill=\"#ffffff\" stroke=\"transparent\" points=\"129.5,-5 129.5,-29 184.5,-29 184.5,-5 129.5,-5\"/>\n",
       "<text text-anchor=\"start\" x=\"146.5\" y=\"-14.6\" font-family=\"-apple-system, BlinkMacSystemFont, 'Segoe UI', Helvetica, Arial, sans-serif, 'Apple Color Emoji', 'Segoe UI Emoji', 'Segoe UI Symbol'\" font-style=\"italic\" font-size=\"13.00\">String</text>\n",
       "<polygon fill=\"none\" stroke=\"black\" points=\"8,-4 8,-78 185,-78 185,-4 8,-4\"/>\n",
       "</g>\n",
       "<!-- Dates -->\n",
       "<g id=\"node2\" class=\"node\">\n",
       "<title>Dates</title>\n",
       "<text text-anchor=\"start\" x=\"307\" y=\"-62.6\" font-family=\"-apple-system, BlinkMacSystemFont, 'Segoe UI', Helvetica, Arial, sans-serif, 'Apple Color Emoji', 'Segoe UI Emoji', 'Segoe UI Symbol'\" font-weight=\"bold\" font-size=\"13.00\">Dates</text>\n",
       "<polygon fill=\"#f5f5f5\" stroke=\"transparent\" points=\"238,-29 238,-53 269,-53 269,-29 238,-29\"/>\n",
       "<text text-anchor=\"start\" x=\"243\" y=\"-38.6\" font-family=\"-apple-system, BlinkMacSystemFont, 'Segoe UI', Helvetica, Arial, sans-serif, 'Apple Color Emoji', 'Segoe UI Emoji', 'Segoe UI Symbol'\" font-weight=\"bold\" font-size=\"13.00\">key</text>\n",
       "<polygon fill=\"#f5f5f5\" stroke=\"transparent\" points=\"269,-29 269,-53 343,-53 343,-29 269,-29\"/>\n",
       "<text text-anchor=\"start\" x=\"274\" y=\"-37.6\" font-family=\"-apple-system, BlinkMacSystemFont, 'Segoe UI', Helvetica, Arial, sans-serif, 'Apple Color Emoji', 'Segoe UI Emoji', 'Segoe UI Symbol'\" font-size=\"13.00\">Dates</text>\n",
       "<polygon fill=\"#f5f5f5\" stroke=\"transparent\" points=\"343,-29 343,-53 410,-53 410,-29 343,-29\"/>\n",
       "<text text-anchor=\"start\" x=\"348\" y=\"-38.6\" font-family=\"-apple-system, BlinkMacSystemFont, 'Segoe UI', Helvetica, Arial, sans-serif, 'Apple Color Emoji', 'Segoe UI Emoji', 'Segoe UI Symbol'\" font-style=\"italic\" font-size=\"13.00\">LocalDate</text>\n",
       "<polygon fill=\"#ffffff\" stroke=\"transparent\" points=\"238,-5 238,-29 269,-29 269,-5 238,-5\"/>\n",
       "<polygon fill=\"#ffffff\" stroke=\"transparent\" points=\"269,-5 269,-29 343,-29 343,-5 269,-5\"/>\n",
       "<text text-anchor=\"start\" x=\"274\" y=\"-13.6\" font-family=\"-apple-system, BlinkMacSystemFont, 'Segoe UI', Helvetica, Arial, sans-serif, 'Apple Color Emoji', 'Segoe UI Emoji', 'Segoe UI Symbol'\" font-size=\"13.00\">Dates index</text>\n",
       "<polygon fill=\"#ffffff\" stroke=\"transparent\" points=\"343,-5 343,-29 410,-29 410,-5 343,-5\"/>\n",
       "<text text-anchor=\"start\" x=\"391\" y=\"-14.6\" font-family=\"-apple-system, BlinkMacSystemFont, 'Segoe UI', Helvetica, Arial, sans-serif, 'Apple Color Emoji', 'Segoe UI Emoji', 'Segoe UI Symbol'\" font-style=\"italic\" font-size=\"13.00\">int</text>\n",
       "<polygon fill=\"none\" stroke=\"black\" points=\"237,-4 237,-78 411,-78 411,-4 237,-4\"/>\n",
       "</g>\n",
       "<!-- Returns&#45;&gt;Dates -->\n",
       "<g id=\"edge1\" class=\"edge\">\n",
       "<title>Returns-&gt;Dates</title>\n",
       "<path fill=\"none\" stroke=\"black\" stroke-dasharray=\"5,2\" d=\"M193.13,-41C201.5,-41 209.99,-41 218.42,-41\"/>\n",
       "<polygon fill=\"black\" stroke=\"black\" points=\"218.66,-44.5 228.66,-41 218.66,-37.5 218.66,-44.5\"/>\n",
       "</g>\n",
       "</g>\n",
       "</svg>"
      ],
      "text/plain": [
       "<IPython.core.display.SVG object>"
      ]
     },
     "execution_count": 34,
     "metadata": {},
     "output_type": "execute_result"
    }
   ],
   "source": [
    "cube.schema"
   ]
  },
  {
   "cell_type": "code",
   "execution_count": null,
   "id": "4b5032eb-d76e-4a18-b92a-0e2a78d026d6",
   "metadata": {},
   "outputs": [],
   "source": []
  },
  {
   "cell_type": "code",
   "execution_count": null,
   "id": "ec588d50-335d-42e6-86fc-79e10155861d",
   "metadata": {},
   "outputs": [],
   "source": []
  },
  {
   "cell_type": "code",
   "execution_count": null,
   "id": "e3634c06-192d-4386-a4f3-cf76562d6ea9",
   "metadata": {},
   "outputs": [],
   "source": []
  },
  {
   "cell_type": "code",
   "execution_count": 35,
   "id": "b5036d8d",
   "metadata": {},
   "outputs": [],
   "source": [
    "m[\"daily returns\"] = m[\"returns_vector.SUM\"][m[\"Date Index\"]]\n"
   ]
  },
  {
   "cell_type": "code",
   "execution_count": 36,
   "id": "0baf40e0-3249-4659-be72-8b79f5d52a5f",
   "metadata": {},
   "outputs": [],
   "source": [
    "m[\"daily returns\"].formatter = \"DOUBLE[#,###.0000000000]\""
   ]
  },
  {
   "cell_type": "code",
   "execution_count": 37,
   "id": "1c124af2-4a24-4c4a-85f0-9197b8d3c8ac",
   "metadata": {},
   "outputs": [
    {
     "data": {
      "text/plain": [
       "'RCS'"
      ]
     },
     "execution_count": 37,
     "metadata": {},
     "output_type": "execute_result"
    }
   ],
   "source": [
    "randomsymbols[1]"
   ]
  },
  {
   "cell_type": "code",
   "execution_count": 38,
   "id": "8de1d742-4e35-4104-ae19-87649ca9a675",
   "metadata": {
    "atoti": {
     "widget": {
      "mapping": {
       "columns": [
        "ALL_MEASURES"
       ],
       "measures": [],
       "rows": [
        "[Returns].[symbol].[symbol]",
        "[Epoch].[Epoch].[Branch]"
       ]
      },
      "query": {
       "mdx": "SELECT NON EMPTY Crossjoin(Hierarchize(Descendants({[Returns].[symbol].[AllMember]}, 1, SELF_AND_BEFORE)), [Epoch].[Epoch].[Branch].Members) ON ROWS FROM [Return Cube]",
       "updateMode": "once"
      },
      "serverKey": "default",
      "widgetKey": "pivot-table"
     }
    },
    "tags": []
   },
   "outputs": [
    {
     "data": {
      "application/vnd.atoti.widget.v0+json": {
       "name": null,
       "sessionId": "4dc1f550-968a-4db9-ae9a-f40469084232",
       "sessionLocation": {
        "https": false,
        "port": 60250
       },
       "widgetCreationCode": "session.visualize()"
      },
      "text/plain": [
       "Open the notebook in JupyterLab with the atoti extension enabled to build this widget."
      ]
     },
     "metadata": {},
     "output_type": "display_data"
    }
   ],
   "source": [
    "session.visualize()"
   ]
  },
  {
   "cell_type": "code",
   "execution_count": 39,
   "id": "abde1723",
   "metadata": {
    "atoti": {
     "widget": {
      "filters": [
       "[Returns].[symbol].[AllMember].[BXP]"
      ],
      "mapping": {
       "columns": [
        "ALL_MEASURES"
       ],
       "measures": [
        "[Measures].[daily returns]"
       ],
       "rows": [
        "[Dates].[Dates].[Dates]"
       ]
      },
      "query": {
       "mdx": "SELECT NON EMPTY Hierarchize(Descendants({[Dates].[Dates].[AllMember]}, 1, SELF_AND_BEFORE)) ON ROWS, NON EMPTY {[Measures].[daily returns]} ON COLUMNS FROM [Return Cube]",
       "updateMode": "once"
      },
      "serverKey": "default",
      "widgetKey": "pivot-table"
     }
    }
   },
   "outputs": [
    {
     "data": {
      "application/vnd.atoti.widget.v0+json": {
       "name": "Daily returns for symbol BXP",
       "sessionId": "4dc1f550-968a-4db9-ae9a-f40469084232",
       "sessionLocation": {
        "https": false,
        "port": 60250
       },
       "widgetCreationCode": "session.visualize()"
      },
      "text/plain": [
       "Open the notebook in JupyterLab with the atoti extension enabled to build this widget."
      ]
     },
     "metadata": {},
     "output_type": "display_data"
    }
   ],
   "source": [
    "session.visualize(\"Daily returns for symbol BXP\")"
   ]
  },
  {
   "cell_type": "code",
   "execution_count": null,
   "id": "01ab5c0e",
   "metadata": {},
   "outputs": [],
   "source": []
  }
 ],
 "metadata": {
  "kernelspec": {
   "display_name": "Python 3 (ipykernel)",
   "language": "python",
   "name": "python3"
  },
  "language_info": {
   "codemirror_mode": {
    "name": "ipython",
    "version": 3
   },
   "file_extension": ".py",
   "mimetype": "text/x-python",
   "name": "python",
   "nbconvert_exporter": "python",
   "pygments_lexer": "ipython3",
   "version": "3.9.7"
  }
 },
 "nbformat": 4,
 "nbformat_minor": 5
}
