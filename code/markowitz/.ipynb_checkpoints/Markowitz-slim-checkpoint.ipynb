{
 "cells": [
  {
   "cell_type": "code",
   "execution_count": 1,
   "id": "9e87ad91",
   "metadata": {},
   "outputs": [],
   "source": [
    "# !pip install numpy matplotlib cvxopt pandas yfinance finquant plotly cufflinks chart_studio pandas_datareader atoti atoti-jupyterlab"
   ]
  },
  {
   "cell_type": "code",
   "execution_count": 2,
   "id": "62cc3386",
   "metadata": {},
   "outputs": [
    {
     "name": "stdout",
     "output_type": "stream",
     "text": [
      "Welcome to atoti 0.6.2!\n",
      "\n",
      "By using this community edition, you agree with the license available at https://docs.atoti.io/latest/eula.html.\n",
      "Browse the official documentation at https://docs.atoti.io.\n",
      "Join the community at https://www.atoti.io/register.\n",
      "\n",
      "atoti collects telemetry data, which is used to help understand how to improve the product.\n",
      "If you don't wish to send usage data, set the ATOTI_DISABLE_TELEMETRY environment variable to True.\n",
      "\n",
      "You can hide this message by setting the ATOTI_HIDE_EULA_MESSAGE environment variable to True.\n"
     ]
    }
   ],
   "source": [
    "%matplotlib inline\n",
    "import random\n",
    "\n",
    "import cvxopt as opt\n",
    "import matplotlib.pyplot as plt\n",
    "import numpy as np\n",
    "import pandas as pd\n",
    "import yfinance as yf\n",
    "from cvxopt import blas, solvers\n",
    "from finquant.portfolio import build_portfolio\n",
    "from scipy.optimize import minimize\n",
    "\n",
    "np.random.seed(123)\n",
    "\n",
    "# Turn off progress printing\n",
    "solvers.options[\"show_progress\"] = False\n",
    "import concurrent.futures\n",
    "import os\n",
    "import random\n",
    "import urllib\n",
    "import urllib.request\n",
    "from concurrent.futures import ALL_COMPLETED, wait\n",
    "\n",
    "import atoti as tt\n",
    "import cufflinks\n",
    "import numpy as np\n",
    "import pandas_market_calendars as mcal\n",
    "\n",
    "# (*) To communicate with Plotly's server, sign in with credentials file\n",
    "import plotly as py\n",
    "\n",
    "# (*) Useful Python/Plotly tools\n",
    "import plotly.tools as tls\n",
    "\n",
    "# (*) Graph objects to piece together plots\n",
    "from plotly.graph_objs import *"
   ]
  },
  {
   "cell_type": "code",
   "execution_count": 3,
   "id": "ed0874e2",
   "metadata": {},
   "outputs": [],
   "source": [
    "# ndays = 252*10+7\n",
    "ndays = 252 * 1.5 + 7\n",
    "# ~training\n",
    "dback = 252\n",
    "# ~forecast\n",
    "dahead = 20\n",
    "# sample size\n",
    "# if to randomize\n",
    "rand = True\n",
    "nran = 20\n",
    "nstocks = 100\n",
    "# this should match tbill 20, 91, 126, 252\n",
    "\n",
    "end = pd.Timestamp.utcnow()\n",
    "start = end - int(ndays) * pd.tseries.offsets.BDay()\n",
    "one_week_end = end - int(ndays - 7) * pd.tseries.offsets.BDay()\n",
    "one_week_end = one_week_end.strftime(\"%Y-%m-%d\")\n",
    "start = start.strftime(\"%Y-%m-%d\")\n",
    "end = end.strftime(\"%Y-%m-%d\")"
   ]
  },
  {
   "cell_type": "code",
   "execution_count": 4,
   "id": "127d6c62",
   "metadata": {},
   "outputs": [],
   "source": [
    "# pd.tseries.offsets.BDay(100)\n",
    "nyse = mcal.get_calendar(\"NYSE\")\n",
    "\n",
    "# Show available calendars\n",
    "# print(mcal.get_calendar_names())\n",
    "tradingDays = list(\n",
    "    nyse.schedule(start_date=start, end_date=end).index.strftime(\"%Y-%m-%d\")\n",
    ")"
   ]
  },
  {
   "cell_type": "code",
   "execution_count": null,
   "id": "e9f3778f-5209-406f-8c78-e7749e3582ce",
   "metadata": {},
   "outputs": [],
   "source": []
  },
  {
   "cell_type": "code",
   "execution_count": 5,
   "id": "852dceca",
   "metadata": {},
   "outputs": [],
   "source": [
    "def rand_weights(n):\n",
    "    \"\"\" Produces n random weights that sum to 1 \"\"\"\n",
    "    k = np.random.rand(n)\n",
    "    return k / sum(k)\n",
    "\n",
    "\n",
    "def weighted_return(returns, weights):\n",
    "    w = weights\n",
    "\n",
    "    p = np.asmatrix(np.mean(returns, axis=0))\n",
    "\n",
    "    mu = np.asmatrix(w) * p.T\n",
    "    return mu\n",
    "\n",
    "\n",
    "def random_portfolio(returns):\n",
    "\n",
    "    w = rand_weights(len(pd.DataFrame(returns).columns))\n",
    "\n",
    "    p = np.asmatrix(np.mean(returns, axis=0))\n",
    "\n",
    "    C = np.array(pd.DataFrame(returns).cov().values)\n",
    "\n",
    "    mu = np.asmatrix(w) * p.T\n",
    "    sigma = np.sqrt(np.asmatrix(w) * C * np.asmatrix(w).T)\n",
    "\n",
    "    sharpe = mu / sigma\n",
    "\n",
    "    return np.float(mu), np.float(sigma), np.float(sharpe), np.array(w, dtype=object)\n",
    "\n",
    "\n",
    "def unique(list1):\n",
    "\n",
    "    # intilize a null list\n",
    "    unique_list = []\n",
    "\n",
    "    # traverse for all elements\n",
    "    for x in list1:\n",
    "        # check if exists in unique_list or not\n",
    "        if x not in unique_list:\n",
    "            unique_list.append(x)\n",
    "\n",
    "    return unique_list\n",
    "\n",
    "\n",
    "def split_sequences(sequences, n_steps_in, n_steps_out):\n",
    "\n",
    "    X, y = list(), list()\n",
    "    for i in range(len(sequences)):\n",
    "        # find the end of this pattern\n",
    "        end_ix = i + n_steps_in\n",
    "        out_end_ix = end_ix + n_steps_out\n",
    "        # check if we are beyond the dataset\n",
    "        if out_end_ix > len(sequences):\n",
    "            break\n",
    "        # gather input and output parts of the pattern\n",
    "        seq_x, seq_y = sequences[i:end_ix, :], sequences[end_ix:out_end_ix, :]\n",
    "        X.append(seq_x)\n",
    "        y.append(seq_y)\n",
    "\n",
    "    return np.array(X), np.array(y)"
   ]
  },
  {
   "cell_type": "code",
   "execution_count": null,
   "id": "3237d7ae",
   "metadata": {},
   "outputs": [],
   "source": [
    "url = \"ftp://ftp.nasdaqtrader.com/symboldirectory/nasdaqtraded.txt\"\n",
    "\n",
    "urllib.request.urlretrieve(url, \"nasdaqtraded.txt\")\n",
    "urllib.request.urlretrieve(url, \"mfundslist.txt\")\n",
    "urllib.request.urlretrieve(url, \"bonds.txt\")\n",
    "\n",
    "df1 = pd.read_csv(\"nasdaqtraded.txt\", sep=\"|\")[0:-1]\n",
    "df2 = pd.read_csv(\"mfundslist.txt\", sep=\"|\")[0:-1]\n",
    "df3 = pd.read_csv(\"bonds.txt\", sep=\"|\")[0:-1]\n",
    "\n",
    "# combined = pd.concat([df1['Symbol'],df2['Symbol'],df3['Symbol']],axis=0)\n",
    "\n",
    "# process symbols for bad characters\n",
    "BAD_CHARS = [\"$\", \".\"]\n",
    "# pat = '|'.join(['({})'.format(re.escape(c)) for c in BAD_CHARS])\n",
    "# cleaned = unique(combined.replace(BAD_CHARS,'-'))\n",
    "\n",
    "# choose size\n",
    "size = nstocks\n",
    "# stocks = list(df1[\"Symbol\"].sample(n=int(size/3)))\n",
    "stocks = list(\n",
    "    df1[\"Symbol\"]\n",
    "    .replace(\".\", \"-\")\n",
    "    .replace(\"\\\\$\", \"-P\", regex=True)\n",
    "    .sample(n=int(size / 3))\n",
    ")\n",
    "mfunds = list(\n",
    "    df2[\"Symbol\"]\n",
    "    .replace(\".\", \"-\")\n",
    "    .replace(\"\\\\$\", \"-P\", regex=True)\n",
    "    .sample(n=int(size / 3))\n",
    ")\n",
    "bonds = list(\n",
    "    df3[\"Symbol\"]\n",
    "    .replace(\".\", \"-\")\n",
    "    .replace(\"\\\\$\", \"-P\", regex=True)\n",
    "    .sample(n=int(size / 3))\n",
    ")\n",
    "symbols = list(set(stocks + mfunds + bonds))  # unique(stocks + mfunds + bonds)\n",
    "# symbols = unique(stocks)"
   ]
  },
  {
   "cell_type": "code",
   "execution_count": null,
   "id": "1c0d1a28",
   "metadata": {},
   "outputs": [
    {
     "name": "stdout",
     "output_type": "stream",
     "text": [
      "2020-04-27 2020-05-06\n"
     ]
    }
   ],
   "source": [
    "print(start, one_week_end)"
   ]
  },
  {
   "cell_type": "code",
   "execution_count": null,
   "id": "0cf68126",
   "metadata": {},
   "outputs": [
    {
     "name": "stdout",
     "output_type": "stream",
     "text": [
      "[*********************100%***********************]  98 of 98 completed\n",
      "\n",
      "27 Failed downloads:\n",
      "- CCNEP: Data doesn't exist for startDate = 1587963600, endDate = 1588741200\n",
      "- LIDR: Data doesn't exist for startDate = 1587963600, endDate = 1588741200\n",
      "- WRB-PG: No data found for this date range, symbol may be delisted\n",
      "- SXQG: Data doesn't exist for startDate = 1587963600, endDate = 1588741200\n",
      "- MOG.B: No data found, symbol may be delisted\n",
      "- HART: Data doesn't exist for startDate = 1587963600, endDate = 1588741200\n",
      "- AVCTW: No data found for this date range, symbol may be delisted\n",
      "- AFGE: Data doesn't exist for startDate = 1587963600, endDate = 1588741200\n",
      "- NFGC: Data doesn't exist for startDate = 1587963600, endDate = 1588741200\n",
      "- ARKOW: No data found for this date range, symbol may be delisted\n",
      "- ATMR.U: No data found, symbol may be delisted\n",
      "- ZH: Data doesn't exist for startDate = 1587963600, endDate = 1588741200\n",
      "- GRP.U: No data found, symbol may be delisted\n",
      "- HUMA: Data doesn't exist for startDate = 1587963600, endDate = 1588741200\n",
      "- KEUA: Data doesn't exist for startDate = 1587963600, endDate = 1588741200\n",
      "- BCYPW: No data found for this date range, symbol may be delisted\n",
      "- BWC: Data doesn't exist for startDate = 1587963600, endDate = 1588741200\n",
      "- FHN-PF: Data doesn't exist for startDate = 1587963600, endDate = 1588741200\n",
      "- RBAC: Data doesn't exist for startDate = 1587963600, endDate = 1588741200\n",
      "- OXBRW: No data found for this date range, symbol may be delisted\n",
      "- OVLH: Data doesn't exist for startDate = 1587963600, endDate = 1588741200\n",
      "- STEP: Data doesn't exist for startDate = 1587963600, endDate = 1588741200\n",
      "- ENVIW: No data found for this date range, symbol may be delisted\n",
      "- PSMO: Data doesn't exist for startDate = 1587963600, endDate = 1588741200\n",
      "- VCAR: Data doesn't exist for startDate = 1587963600, endDate = 1588741200\n",
      "- ARB: Data doesn't exist for startDate = 1587963600, endDate = 1588741200\n",
      "- VGII.U: No data found, symbol may be delisted\n"
     ]
    }
   ],
   "source": [
    "pf_pre = build_portfolio(\n",
    "    names=symbols, start_date=start, end_date=one_week_end, data_api=\"yfinance\"\n",
    ")"
   ]
  },
  {
   "cell_type": "code",
   "execution_count": null,
   "id": "802e610b",
   "metadata": {},
   "outputs": [],
   "source": [
    "vetted_symbols = list(\n",
    "    pf_pre.data.loc[\n",
    "        (np.intersect1d(list(pf_pre.data.index.strftime(\"%Y-%m-%d\")), tradingDays))\n",
    "    ]\n",
    "    .head(-1)\n",
    "    .tail(-1)\n",
    "    .dropna(axis=1)\n",
    "    .columns\n",
    ")"
   ]
  },
  {
   "cell_type": "code",
   "execution_count": null,
   "id": "c298590e",
   "metadata": {},
   "outputs": [
    {
     "name": "stdout",
     "output_type": "stream",
     "text": [
      "[*********************100%***********************]  70 of 70 completed\n"
     ]
    }
   ],
   "source": [
    "# combinedList = unique(list(np.append(random.sample(symbols_sp500,int(len(symbols_sp500)*.05)),np.append(random.sample(dividendAristocraft,int(len(dividendAristocraft)*.25)),np.append(top10,random.sample(symbols_ns100,int(len(symbols_ns100)*.25)))))))\n",
    "\n",
    "# add index\n",
    "# vetted_symbols.append('TQQQ')\n",
    "\n",
    "pf = build_portfolio(\n",
    "    names=list(vetted_symbols), start_date=start, end_date=end, data_api=\"yfinance\"\n",
    ")"
   ]
  },
  {
   "cell_type": "code",
   "execution_count": null,
   "id": "a14f19da",
   "metadata": {},
   "outputs": [],
   "source": [
    "\"\"\"\n",
    "import pandas_datareader.data as web\n",
    "\n",
    "import datetime\n",
    "\n",
    "# Multiple series:\n",
    "fred_data = web.DataReader(FRED_Indicators, 'fred', start, end)\n",
    "\"\"\"\n",
    "\n",
    "FRED_Indicators = [\"DTB4WK\", \"DTB3\", \"DTB6\", \"DTB1YR\"]\n",
    "\n",
    "import pandas_datareader.data as web\n",
    "\n",
    "\n",
    "def Fred_Data(name):\n",
    "    temp = web.DataReader(str(name), \"fred\", start, end)\n",
    "    temp.index = pd.to_datetime(temp.index)\n",
    "    # temp = temp.resample(frequency).mean().dropna()\n",
    "    return temp\n",
    "\n",
    "\n",
    "FRED_set = []\n",
    "FRED_completed = []\n",
    "for i in FRED_Indicators:\n",
    "    FRED_completed.append(i)\n",
    "    FRED_set.append(Fred_Data(i))\n",
    "\n",
    "FRED_pvt = pd.DataFrame()\n",
    "\n",
    "for x in range(0, len(FRED_completed)):\n",
    "    values = FRED_set[x]\n",
    "    values = values.loc[~values.index.duplicated(keep=\"last\")]\n",
    "\n",
    "    FRED_pvt = pd.concat([FRED_pvt, values], axis=1)"
   ]
  },
  {
   "cell_type": "code",
   "execution_count": null,
   "id": "e13d8714",
   "metadata": {},
   "outputs": [],
   "source": []
  },
  {
   "cell_type": "code",
   "execution_count": null,
   "id": "cf86df8a",
   "metadata": {},
   "outputs": [
    {
     "data": {
      "text/plain": [
       "70"
      ]
     },
     "execution_count": 12,
     "metadata": {},
     "output_type": "execute_result"
    }
   ],
   "source": [
    "returns = np.log(\n",
    "    1\n",
    "    + pf.data.loc[\n",
    "        (np.intersect1d(list(pf.data.index.strftime(\"%Y-%m-%d\")), tradingDays))\n",
    "    ]\n",
    "    .head(-1)\n",
    "    .interpolate(method=\"time\")\n",
    "    .pct_change()\n",
    "    .tail(-1)\n",
    ")\n",
    "returns = returns.dropna(axis=1)\n",
    "# returns.columns = stocks.dropna(axis=1)\n",
    "len(returns.columns)\n",
    "# np.sum(returns.isin([np.inf, -np.inf, np.NaN])).sort_values(kind=\"quicksort\", ascending=True)"
   ]
  },
  {
   "cell_type": "code",
   "execution_count": null,
   "id": "8cef60ed",
   "metadata": {},
   "outputs": [],
   "source": [
    "selectedmfunds = set(mfunds) & set(returns.columns)\n",
    "selectedstocks = set(stocks) & set(returns.columns)\n",
    "selectedbonds = set(bonds) & set(returns.columns)"
   ]
  },
  {
   "cell_type": "code",
   "execution_count": null,
   "id": "c61f091c",
   "metadata": {},
   "outputs": [],
   "source": [
    "n_steps_in = dback\n",
    "\n",
    "n_steps_out = dahead\n",
    "\n",
    "Training, Holdout = split_sequences(\n",
    "    np.array(pd.DataFrame(returns.index.strftime(\"%Y-%m-%d\"))), n_steps_in, n_steps_out\n",
    ")"
   ]
  },
  {
   "cell_type": "code",
   "execution_count": null,
   "id": "62b38eb5",
   "metadata": {},
   "outputs": [],
   "source": []
  },
  {
   "cell_type": "code",
   "execution_count": null,
   "id": "e981fd15",
   "metadata": {},
   "outputs": [],
   "source": []
  },
  {
   "cell_type": "code",
   "execution_count": null,
   "id": "118df51b",
   "metadata": {},
   "outputs": [],
   "source": [
    "randomSet = list(np.sort(np.random.choice(range(0, len(Training)), nran)))\n",
    "\n",
    "randomsymbols = list(np.random.choice(pf.data.columns, 10, replace=False))\n",
    "\n",
    "# random columns\n",
    "stocks = returns.loc[[i[0] for i in Training[randomSet[1]]]][randomsymbols]\n",
    "\n",
    "\"\"\"\n",
    "returns_table = session.read_csv(\n",
    "    \"returns.csv\", keys=[\"stock\"], store_name=\"Returns\", array_sep=\";\"\n",
    ")\n",
    "\n",
    "returns_table.head()\n",
    "\"\"\"\n",
    "return_vec = np.array(stocks)"
   ]
  },
  {
   "cell_type": "code",
   "execution_count": null,
   "id": "117429b0",
   "metadata": {},
   "outputs": [
    {
     "data": {
      "text/html": [
       "<div>\n",
       "<style scoped>\n",
       "    .dataframe tbody tr th:only-of-type {\n",
       "        vertical-align: middle;\n",
       "    }\n",
       "\n",
       "    .dataframe tbody tr th {\n",
       "        vertical-align: top;\n",
       "    }\n",
       "\n",
       "    .dataframe thead th {\n",
       "        text-align: right;\n",
       "    }\n",
       "</style>\n",
       "<table border=\"1\" class=\"dataframe\">\n",
       "  <thead>\n",
       "    <tr style=\"text-align: right;\">\n",
       "      <th></th>\n",
       "      <th>INMB</th>\n",
       "      <th>FCG</th>\n",
       "      <th>PSA-PG</th>\n",
       "      <th>PFIE</th>\n",
       "      <th>UVV</th>\n",
       "      <th>FSFG</th>\n",
       "      <th>GNW</th>\n",
       "      <th>FCA</th>\n",
       "      <th>GLAD</th>\n",
       "      <th>JJS</th>\n",
       "    </tr>\n",
       "    <tr>\n",
       "      <th>Date</th>\n",
       "      <th></th>\n",
       "      <th></th>\n",
       "      <th></th>\n",
       "      <th></th>\n",
       "      <th></th>\n",
       "      <th></th>\n",
       "      <th></th>\n",
       "      <th></th>\n",
       "      <th></th>\n",
       "      <th></th>\n",
       "    </tr>\n",
       "  </thead>\n",
       "  <tbody>\n",
       "    <tr>\n",
       "      <th>2020-05-06</th>\n",
       "      <td>0.033369</td>\n",
       "      <td>-0.033759</td>\n",
       "      <td>-0.004612</td>\n",
       "      <td>0.062520</td>\n",
       "      <td>-0.023733</td>\n",
       "      <td>-0.005831</td>\n",
       "      <td>-0.113687</td>\n",
       "      <td>0.001304</td>\n",
       "      <td>0.062362</td>\n",
       "      <td>-0.011016</td>\n",
       "    </tr>\n",
       "    <tr>\n",
       "      <th>2020-05-07</th>\n",
       "      <td>-0.023439</td>\n",
       "      <td>0.008547</td>\n",
       "      <td>0.001155</td>\n",
       "      <td>0.113235</td>\n",
       "      <td>-0.014515</td>\n",
       "      <td>-0.005865</td>\n",
       "      <td>0.023142</td>\n",
       "      <td>0.007789</td>\n",
       "      <td>0.000000</td>\n",
       "      <td>0.002213</td>\n",
       "    </tr>\n",
       "    <tr>\n",
       "      <th>2020-05-08</th>\n",
       "      <td>-0.013931</td>\n",
       "      <td>0.051151</td>\n",
       "      <td>-0.000454</td>\n",
       "      <td>0.143336</td>\n",
       "      <td>0.042927</td>\n",
       "      <td>0.034685</td>\n",
       "      <td>0.006515</td>\n",
       "      <td>0.020901</td>\n",
       "      <td>0.033738</td>\n",
       "      <td>0.005144</td>\n",
       "    </tr>\n",
       "    <tr>\n",
       "      <th>2020-05-11</th>\n",
       "      <td>0.011952</td>\n",
       "      <td>-0.025940</td>\n",
       "      <td>0.001992</td>\n",
       "      <td>-0.062027</td>\n",
       "      <td>-0.036219</td>\n",
       "      <td>-0.017655</td>\n",
       "      <td>0.009693</td>\n",
       "      <td>-0.000845</td>\n",
       "      <td>0.007868</td>\n",
       "      <td>-0.005439</td>\n",
       "    </tr>\n",
       "    <tr>\n",
       "      <th>2020-05-12</th>\n",
       "      <td>0.050204</td>\n",
       "      <td>-0.004158</td>\n",
       "      <td>-0.010039</td>\n",
       "      <td>-0.105120</td>\n",
       "      <td>-0.040937</td>\n",
       "      <td>-0.013273</td>\n",
       "      <td>-0.087304</td>\n",
       "      <td>-0.007208</td>\n",
       "      <td>0.000000</td>\n",
       "      <td>0.000589</td>\n",
       "    </tr>\n",
       "    <tr>\n",
       "      <th>...</th>\n",
       "      <td>...</td>\n",
       "      <td>...</td>\n",
       "      <td>...</td>\n",
       "      <td>...</td>\n",
       "      <td>...</td>\n",
       "      <td>...</td>\n",
       "      <td>...</td>\n",
       "      <td>...</td>\n",
       "      <td>...</td>\n",
       "      <td>...</td>\n",
       "    </tr>\n",
       "    <tr>\n",
       "      <th>2021-04-29</th>\n",
       "      <td>-0.014364</td>\n",
       "      <td>0.000000</td>\n",
       "      <td>-0.003355</td>\n",
       "      <td>-0.021819</td>\n",
       "      <td>-0.001057</td>\n",
       "      <td>0.014658</td>\n",
       "      <td>-0.004556</td>\n",
       "      <td>-0.004880</td>\n",
       "      <td>0.015448</td>\n",
       "      <td>-0.019396</td>\n",
       "    </tr>\n",
       "    <tr>\n",
       "      <th>2021-04-30</th>\n",
       "      <td>0.010161</td>\n",
       "      <td>-0.031773</td>\n",
       "      <td>-0.010888</td>\n",
       "      <td>-0.108634</td>\n",
       "      <td>-0.008676</td>\n",
       "      <td>-0.008827</td>\n",
       "      <td>-0.013793</td>\n",
       "      <td>-0.015779</td>\n",
       "      <td>-0.005425</td>\n",
       "      <td>0.000104</td>\n",
       "    </tr>\n",
       "    <tr>\n",
       "      <th>2021-05-03</th>\n",
       "      <td>0.006717</td>\n",
       "      <td>0.028790</td>\n",
       "      <td>0.004144</td>\n",
       "      <td>-0.008230</td>\n",
       "      <td>0.020420</td>\n",
       "      <td>0.008251</td>\n",
       "      <td>0.013793</td>\n",
       "      <td>0.003968</td>\n",
       "      <td>0.000000</td>\n",
       "      <td>-0.010998</td>\n",
       "    </tr>\n",
       "    <tr>\n",
       "      <th>2021-05-04</th>\n",
       "      <td>-0.069292</td>\n",
       "      <td>-0.000747</td>\n",
       "      <td>0.004501</td>\n",
       "      <td>-0.025954</td>\n",
       "      <td>-0.001046</td>\n",
       "      <td>-0.009705</td>\n",
       "      <td>-0.020762</td>\n",
       "      <td>0.012463</td>\n",
       "      <td>-0.007279</td>\n",
       "      <td>0.007032</td>\n",
       "    </tr>\n",
       "    <tr>\n",
       "      <th>2021-05-05</th>\n",
       "      <td>-0.007201</td>\n",
       "      <td>0.033802</td>\n",
       "      <td>-0.005253</td>\n",
       "      <td>0.082193</td>\n",
       "      <td>0.005219</td>\n",
       "      <td>0.010138</td>\n",
       "      <td>0.002328</td>\n",
       "      <td>0.014240</td>\n",
       "      <td>-0.000914</td>\n",
       "      <td>0.035848</td>\n",
       "    </tr>\n",
       "  </tbody>\n",
       "</table>\n",
       "<p>252 rows × 10 columns</p>\n",
       "</div>"
      ],
      "text/plain": [
       "                INMB       FCG    PSA-PG      PFIE       UVV      FSFG  \\\n",
       "Date                                                                     \n",
       "2020-05-06  0.033369 -0.033759 -0.004612  0.062520 -0.023733 -0.005831   \n",
       "2020-05-07 -0.023439  0.008547  0.001155  0.113235 -0.014515 -0.005865   \n",
       "2020-05-08 -0.013931  0.051151 -0.000454  0.143336  0.042927  0.034685   \n",
       "2020-05-11  0.011952 -0.025940  0.001992 -0.062027 -0.036219 -0.017655   \n",
       "2020-05-12  0.050204 -0.004158 -0.010039 -0.105120 -0.040937 -0.013273   \n",
       "...              ...       ...       ...       ...       ...       ...   \n",
       "2021-04-29 -0.014364  0.000000 -0.003355 -0.021819 -0.001057  0.014658   \n",
       "2021-04-30  0.010161 -0.031773 -0.010888 -0.108634 -0.008676 -0.008827   \n",
       "2021-05-03  0.006717  0.028790  0.004144 -0.008230  0.020420  0.008251   \n",
       "2021-05-04 -0.069292 -0.000747  0.004501 -0.025954 -0.001046 -0.009705   \n",
       "2021-05-05 -0.007201  0.033802 -0.005253  0.082193  0.005219  0.010138   \n",
       "\n",
       "                 GNW       FCA      GLAD       JJS  \n",
       "Date                                                \n",
       "2020-05-06 -0.113687  0.001304  0.062362 -0.011016  \n",
       "2020-05-07  0.023142  0.007789  0.000000  0.002213  \n",
       "2020-05-08  0.006515  0.020901  0.033738  0.005144  \n",
       "2020-05-11  0.009693 -0.000845  0.007868 -0.005439  \n",
       "2020-05-12 -0.087304 -0.007208  0.000000  0.000589  \n",
       "...              ...       ...       ...       ...  \n",
       "2021-04-29 -0.004556 -0.004880  0.015448 -0.019396  \n",
       "2021-04-30 -0.013793 -0.015779 -0.005425  0.000104  \n",
       "2021-05-03  0.013793  0.003968  0.000000 -0.010998  \n",
       "2021-05-04 -0.020762  0.012463 -0.007279  0.007032  \n",
       "2021-05-05  0.002328  0.014240 -0.000914  0.035848  \n",
       "\n",
       "[252 rows x 10 columns]"
      ]
     },
     "execution_count": 16,
     "metadata": {},
     "output_type": "execute_result"
    }
   ],
   "source": [
    "stocks[randomsymbols]"
   ]
  },
  {
   "cell_type": "code",
   "execution_count": null,
   "id": "023d7d90",
   "metadata": {},
   "outputs": [],
   "source": [
    "# data = pd.DataFrame()\n",
    "# for i in randomsymbols:\n",
    "#     data = pd.concat([pd.DataFrame({i: [stocks[i].values]}), data], axis=1)"
   ]
  },
  {
   "cell_type": "code",
   "execution_count": null,
   "id": "6fcb3c96",
   "metadata": {},
   "outputs": [],
   "source": [
    "# data.transpose()"
   ]
  },
  {
   "cell_type": "markdown",
   "id": "ec7ac0d7",
   "metadata": {},
   "source": [
    "### Converting daily returns into list"
   ]
  },
  {
   "cell_type": "code",
   "execution_count": null,
   "id": "c1226255",
   "metadata": {},
   "outputs": [
    {
     "data": {
      "text/html": [
       "<div>\n",
       "<style scoped>\n",
       "    .dataframe tbody tr th:only-of-type {\n",
       "        vertical-align: middle;\n",
       "    }\n",
       "\n",
       "    .dataframe tbody tr th {\n",
       "        vertical-align: top;\n",
       "    }\n",
       "\n",
       "    .dataframe thead th {\n",
       "        text-align: right;\n",
       "    }\n",
       "</style>\n",
       "<table border=\"1\" class=\"dataframe\">\n",
       "  <thead>\n",
       "    <tr style=\"text-align: right;\">\n",
       "      <th>Date</th>\n",
       "      <th>2020-05-06</th>\n",
       "      <th>2020-05-07</th>\n",
       "      <th>2020-05-08</th>\n",
       "      <th>2020-05-11</th>\n",
       "      <th>2020-05-12</th>\n",
       "      <th>2020-05-13</th>\n",
       "      <th>2020-05-14</th>\n",
       "      <th>2020-05-15</th>\n",
       "      <th>2020-05-18</th>\n",
       "      <th>2020-05-19</th>\n",
       "      <th>...</th>\n",
       "      <th>2021-04-22</th>\n",
       "      <th>2021-04-23</th>\n",
       "      <th>2021-04-26</th>\n",
       "      <th>2021-04-27</th>\n",
       "      <th>2021-04-28</th>\n",
       "      <th>2021-04-29</th>\n",
       "      <th>2021-04-30</th>\n",
       "      <th>2021-05-03</th>\n",
       "      <th>2021-05-04</th>\n",
       "      <th>2021-05-05</th>\n",
       "    </tr>\n",
       "  </thead>\n",
       "  <tbody>\n",
       "    <tr>\n",
       "      <th>INMB</th>\n",
       "      <td>0.033369</td>\n",
       "      <td>-0.023439</td>\n",
       "      <td>-0.013931</td>\n",
       "      <td>0.011952</td>\n",
       "      <td>0.050204</td>\n",
       "      <td>-0.100976</td>\n",
       "      <td>0.110348</td>\n",
       "      <td>0.027601</td>\n",
       "      <td>0.005430</td>\n",
       "      <td>0.040504</td>\n",
       "      <td>...</td>\n",
       "      <td>-0.050365</td>\n",
       "      <td>-0.036158</td>\n",
       "      <td>-0.005875</td>\n",
       "      <td>-0.000842</td>\n",
       "      <td>0.004203</td>\n",
       "      <td>-0.014364</td>\n",
       "      <td>0.010161</td>\n",
       "      <td>0.006717</td>\n",
       "      <td>-0.069292</td>\n",
       "      <td>-0.007201</td>\n",
       "    </tr>\n",
       "    <tr>\n",
       "      <th>FCG</th>\n",
       "      <td>-0.033759</td>\n",
       "      <td>0.008547</td>\n",
       "      <td>0.051151</td>\n",
       "      <td>-0.025940</td>\n",
       "      <td>-0.004158</td>\n",
       "      <td>-0.066021</td>\n",
       "      <td>-0.004461</td>\n",
       "      <td>0.020650</td>\n",
       "      <td>0.089320</td>\n",
       "      <td>-0.021593</td>\n",
       "      <td>...</td>\n",
       "      <td>-0.004934</td>\n",
       "      <td>0.012290</td>\n",
       "      <td>0.022545</td>\n",
       "      <td>0.021269</td>\n",
       "      <td>0.045705</td>\n",
       "      <td>0.000000</td>\n",
       "      <td>-0.031773</td>\n",
       "      <td>0.028790</td>\n",
       "      <td>-0.000747</td>\n",
       "      <td>0.033802</td>\n",
       "    </tr>\n",
       "    <tr>\n",
       "      <th>PSA-PG</th>\n",
       "      <td>-0.004612</td>\n",
       "      <td>0.001155</td>\n",
       "      <td>-0.000454</td>\n",
       "      <td>0.001992</td>\n",
       "      <td>-0.010039</td>\n",
       "      <td>-0.000388</td>\n",
       "      <td>-0.005450</td>\n",
       "      <td>-0.000910</td>\n",
       "      <td>0.009847</td>\n",
       "      <td>0.004246</td>\n",
       "      <td>...</td>\n",
       "      <td>0.002028</td>\n",
       "      <td>0.007463</td>\n",
       "      <td>-0.001116</td>\n",
       "      <td>-0.001602</td>\n",
       "      <td>0.001602</td>\n",
       "      <td>-0.003355</td>\n",
       "      <td>-0.010888</td>\n",
       "      <td>0.004144</td>\n",
       "      <td>0.004501</td>\n",
       "      <td>-0.005253</td>\n",
       "    </tr>\n",
       "    <tr>\n",
       "      <th>PFIE</th>\n",
       "      <td>0.062520</td>\n",
       "      <td>0.113235</td>\n",
       "      <td>0.143336</td>\n",
       "      <td>-0.062027</td>\n",
       "      <td>-0.105120</td>\n",
       "      <td>-0.050659</td>\n",
       "      <td>-0.024376</td>\n",
       "      <td>0.000000</td>\n",
       "      <td>0.092946</td>\n",
       "      <td>0.005900</td>\n",
       "      <td>...</td>\n",
       "      <td>0.000000</td>\n",
       "      <td>0.000000</td>\n",
       "      <td>0.017242</td>\n",
       "      <td>0.058108</td>\n",
       "      <td>0.114192</td>\n",
       "      <td>-0.021819</td>\n",
       "      <td>-0.108634</td>\n",
       "      <td>-0.008230</td>\n",
       "      <td>-0.025954</td>\n",
       "      <td>0.082193</td>\n",
       "    </tr>\n",
       "    <tr>\n",
       "      <th>UVV</th>\n",
       "      <td>-0.023733</td>\n",
       "      <td>-0.014515</td>\n",
       "      <td>0.042927</td>\n",
       "      <td>-0.036219</td>\n",
       "      <td>-0.040937</td>\n",
       "      <td>-0.000240</td>\n",
       "      <td>-0.005057</td>\n",
       "      <td>-0.000725</td>\n",
       "      <td>0.001449</td>\n",
       "      <td>0.016035</td>\n",
       "      <td>...</td>\n",
       "      <td>-0.004691</td>\n",
       "      <td>0.011601</td>\n",
       "      <td>-0.004313</td>\n",
       "      <td>-0.014103</td>\n",
       "      <td>-0.004393</td>\n",
       "      <td>-0.001057</td>\n",
       "      <td>-0.008676</td>\n",
       "      <td>0.020420</td>\n",
       "      <td>-0.001046</td>\n",
       "      <td>0.005219</td>\n",
       "    </tr>\n",
       "  </tbody>\n",
       "</table>\n",
       "<p>5 rows × 252 columns</p>\n",
       "</div>"
      ],
      "text/plain": [
       "Date    2020-05-06  2020-05-07  2020-05-08  2020-05-11  2020-05-12  \\\n",
       "INMB      0.033369   -0.023439   -0.013931    0.011952    0.050204   \n",
       "FCG      -0.033759    0.008547    0.051151   -0.025940   -0.004158   \n",
       "PSA-PG   -0.004612    0.001155   -0.000454    0.001992   -0.010039   \n",
       "PFIE      0.062520    0.113235    0.143336   -0.062027   -0.105120   \n",
       "UVV      -0.023733   -0.014515    0.042927   -0.036219   -0.040937   \n",
       "\n",
       "Date    2020-05-13  2020-05-14  2020-05-15  2020-05-18  2020-05-19  ...  \\\n",
       "INMB     -0.100976    0.110348    0.027601    0.005430    0.040504  ...   \n",
       "FCG      -0.066021   -0.004461    0.020650    0.089320   -0.021593  ...   \n",
       "PSA-PG   -0.000388   -0.005450   -0.000910    0.009847    0.004246  ...   \n",
       "PFIE     -0.050659   -0.024376    0.000000    0.092946    0.005900  ...   \n",
       "UVV      -0.000240   -0.005057   -0.000725    0.001449    0.016035  ...   \n",
       "\n",
       "Date    2021-04-22  2021-04-23  2021-04-26  2021-04-27  2021-04-28  \\\n",
       "INMB     -0.050365   -0.036158   -0.005875   -0.000842    0.004203   \n",
       "FCG      -0.004934    0.012290    0.022545    0.021269    0.045705   \n",
       "PSA-PG    0.002028    0.007463   -0.001116   -0.001602    0.001602   \n",
       "PFIE      0.000000    0.000000    0.017242    0.058108    0.114192   \n",
       "UVV      -0.004691    0.011601   -0.004313   -0.014103   -0.004393   \n",
       "\n",
       "Date    2021-04-29  2021-04-30  2021-05-03  2021-05-04  2021-05-05  \n",
       "INMB     -0.014364    0.010161    0.006717   -0.069292   -0.007201  \n",
       "FCG       0.000000   -0.031773    0.028790   -0.000747    0.033802  \n",
       "PSA-PG   -0.003355   -0.010888    0.004144    0.004501   -0.005253  \n",
       "PFIE     -0.021819   -0.108634   -0.008230   -0.025954    0.082193  \n",
       "UVV      -0.001057   -0.008676    0.020420   -0.001046    0.005219  \n",
       "\n",
       "[5 rows x 252 columns]"
      ]
     },
     "execution_count": 19,
     "metadata": {},
     "output_type": "execute_result"
    }
   ],
   "source": [
    "data_transpose = stocks[randomsymbols].T\n",
    "data_transpose.head()"
   ]
  },
  {
   "cell_type": "code",
   "execution_count": null,
   "id": "028122c2",
   "metadata": {},
   "outputs": [
    {
     "data": {
      "text/plain": [
       "INMB      [0.033369062350359566, -0.023438551141146128, ...\n",
       "FCG       [-0.03375852615119728, 0.00854721404175882, 0....\n",
       "PSA-PG    [-0.004611990760338544, 0.0011550721807770709,...\n",
       "PFIE      [0.06252036204781755, 0.11323459574026887, 0.1...\n",
       "UVV       [-0.023732672657238, -0.014514712525277702, 0....\n",
       "Name: returns_vector, dtype: object"
      ]
     },
     "execution_count": 20,
     "metadata": {},
     "output_type": "execute_result"
    }
   ],
   "source": [
    "data_transpose['returns_vector'] = data_transpose.values.tolist()\n",
    "data_transpose['returns_vector'].head()"
   ]
  },
  {
   "cell_type": "code",
   "execution_count": null,
   "id": "f0725e4f",
   "metadata": {},
   "outputs": [
    {
     "data": {
      "text/html": [
       "<div>\n",
       "<style scoped>\n",
       "    .dataframe tbody tr th:only-of-type {\n",
       "        vertical-align: middle;\n",
       "    }\n",
       "\n",
       "    .dataframe tbody tr th {\n",
       "        vertical-align: top;\n",
       "    }\n",
       "\n",
       "    .dataframe thead th {\n",
       "        text-align: right;\n",
       "    }\n",
       "</style>\n",
       "<table border=\"1\" class=\"dataframe\">\n",
       "  <thead>\n",
       "    <tr style=\"text-align: right;\">\n",
       "      <th></th>\n",
       "      <th>returns_vector</th>\n",
       "      <th>symbol</th>\n",
       "    </tr>\n",
       "  </thead>\n",
       "  <tbody>\n",
       "    <tr>\n",
       "      <th>INMB</th>\n",
       "      <td>[0.033369062350359566, -0.023438551141146128, ...</td>\n",
       "      <td>INMB</td>\n",
       "    </tr>\n",
       "    <tr>\n",
       "      <th>FCG</th>\n",
       "      <td>[-0.03375852615119728, 0.00854721404175882, 0....</td>\n",
       "      <td>FCG</td>\n",
       "    </tr>\n",
       "    <tr>\n",
       "      <th>PSA-PG</th>\n",
       "      <td>[-0.004611990760338544, 0.0011550721807770709,...</td>\n",
       "      <td>PSA-PG</td>\n",
       "    </tr>\n",
       "    <tr>\n",
       "      <th>PFIE</th>\n",
       "      <td>[0.06252036204781755, 0.11323459574026887, 0.1...</td>\n",
       "      <td>PFIE</td>\n",
       "    </tr>\n",
       "    <tr>\n",
       "      <th>UVV</th>\n",
       "      <td>[-0.023732672657238, -0.014514712525277702, 0....</td>\n",
       "      <td>UVV</td>\n",
       "    </tr>\n",
       "  </tbody>\n",
       "</table>\n",
       "</div>"
      ],
      "text/plain": [
       "                                           returns_vector  symbol\n",
       "INMB    [0.033369062350359566, -0.023438551141146128, ...    INMB\n",
       "FCG     [-0.03375852615119728, 0.00854721404175882, 0....     FCG\n",
       "PSA-PG  [-0.004611990760338544, 0.0011550721807770709,...  PSA-PG\n",
       "PFIE    [0.06252036204781755, 0.11323459574026887, 0.1...    PFIE\n",
       "UVV     [-0.023732672657238, -0.014514712525277702, 0....     UVV"
      ]
     },
     "execution_count": 21,
     "metadata": {},
     "output_type": "execute_result"
    }
   ],
   "source": [
    "return_vector = data_transpose['returns_vector'].to_frame()\n",
    "return_vector[\"symbol\"] = return_vector.index\n",
    "return_vector.head()"
   ]
  },
  {
   "cell_type": "markdown",
   "id": "6eb9936b",
   "metadata": {},
   "source": [
    "### Getting list of dates for the return list"
   ]
  },
  {
   "cell_type": "code",
   "execution_count": null,
   "id": "2c761bb1",
   "metadata": {},
   "outputs": [
    {
     "data": {
      "text/plain": [
       "0   2020-05-06\n",
       "1   2020-05-07\n",
       "2   2020-05-08\n",
       "3   2020-05-11\n",
       "4   2020-05-12\n",
       "Name: Date, dtype: datetime64[ns]"
      ]
     },
     "execution_count": 22,
     "metadata": {},
     "output_type": "execute_result"
    }
   ],
   "source": [
    "ret = stocks.reset_index().copy()\n",
    "ret[\"Date\"].head()"
   ]
  },
  {
   "cell_type": "code",
   "execution_count": null,
   "id": "1f17311d",
   "metadata": {},
   "outputs": [],
   "source": []
  },
  {
   "cell_type": "code",
   "execution_count": null,
   "id": "cb9ae814",
   "metadata": {},
   "outputs": [],
   "source": [
    "import atoti as tt\n"
   ]
  },
  {
   "cell_type": "code",
   "execution_count": null,
   "id": "d8996618",
   "metadata": {},
   "outputs": [],
   "source": [
    "session = tt.create_session()"
   ]
  },
  {
   "cell_type": "code",
   "execution_count": null,
   "id": "006b9ad6",
   "metadata": {},
   "outputs": [],
   "source": []
  },
  {
   "cell_type": "code",
   "execution_count": null,
   "id": "8c32e48b",
   "metadata": {},
   "outputs": [
    {
     "ename": "SyntaxError",
     "evalue": "EOL while scanning string literal (Temp/ipykernel_1804/4179960921.py, line 4)",
     "output_type": "error",
     "traceback": [
      "\u001b[1;36m  File \u001b[1;32m\"C:\\Users\\User\\AppData\\Local\\Temp/ipykernel_1804/4179960921.py\"\u001b[1;36m, line \u001b[1;32m4\u001b[0m\n\u001b[1;33m    \"Returns\u001b[0m\n\u001b[1;37m            ^\u001b[0m\n\u001b[1;31mSyntaxError\u001b[0m\u001b[1;31m:\u001b[0m EOL while scanning string literal\n"
     ]
    }
   ],
   "source": [
    "# https://towardsdatascience.com/shape-tables-like-jelly-with-pandas-melt-and-pivot-f2e13e666d6\n",
    "\n",
    "returns_table = session.read_pandas(\n",
    "    #\"Returns\n",
    "    return_vector,\n",
    "    table_name=\"Returns\",\n",
    "    keys=[\"symbol\"],\n",
    "    #store_name=\"Returns\",\n",
    ")\n",
    "\n",
    "returns_table.head()"
   ]
  },
  {
   "cell_type": "code",
   "execution_count": null,
   "id": "a3d083de",
   "metadata": {},
   "outputs": [],
   "source": [
    "cube = session.create_cube(returns_table, \"Return Cube\")"
   ]
  },
  {
   "cell_type": "code",
   "execution_count": null,
   "id": "0c81a2aa",
   "metadata": {},
   "outputs": [],
   "source": [
    "h, l, m = cube.hierarchies, cube.levels, cube.measures"
   ]
  },
  {
   "cell_type": "code",
   "execution_count": null,
   "id": "9f14082d",
   "metadata": {},
   "outputs": [],
   "source": [
    "# import graphviz\n",
    "cube.schema"
   ]
  },
  {
   "cell_type": "code",
   "execution_count": null,
   "id": "3eeedd05",
   "metadata": {},
   "outputs": [],
   "source": [
    "# pip list"
   ]
  },
  {
   "cell_type": "code",
   "execution_count": null,
   "id": "5c913b5b-50fe-4ba1-ae00-50b1af42766e",
   "metadata": {},
   "outputs": [],
   "source": []
  },
  {
   "cell_type": "code",
   "execution_count": null,
   "id": "9d802d0b",
   "metadata": {},
   "outputs": [],
   "source": [
    "# years = 10\n",
    "\n",
    "import contextlib\n",
    "\n",
    "stocksp = 0.2\n",
    "mfundsp = 0.1\n",
    "bondsp = 0.2\n",
    "commp = 0.2\n",
    "\n",
    "n_portfolio = 100\n",
    "\n",
    "bestSharpe = 0\n",
    "runs = 0\n",
    "weight = None\n",
    "bestMean = 0\n",
    "bestStd = 0\n",
    "means = np.array([])\n",
    "stds = np.array([])\n",
    "sharpes = np.array([])\n",
    "bestWeights = None\n",
    "weights = np.array([])\n",
    "\n",
    "# random dates using X_index\n",
    "\n",
    "randomSet = list(np.sort(np.random.choice(range(0, len(Training)), nran)))\n",
    "\n",
    "for tensor in randomSet:\n",
    "\n",
    "    randomsymbols = list(np.random.choice(pf.data.columns, 10, replace=False))\n",
    "    # random columns\n",
    "    stocks = returns.loc[[i[0] for i in Training[tensor]]][randomsymbols]\n",
    "\n",
    "    return_vec = np.array(stocks)\n",
    "\n",
    "    # display(pd.DataFrame(stocks.cumsum().iloc[-1]).transpose())\n",
    "\n",
    "    for _ in range(n_portfolio):\n",
    "        means2, stds2, sharpes2, weights2 = np.column_stack(\n",
    "            [random_portfolio(return_vec) for _ in range(len(stocks.columns))]\n",
    "        )\n",
    "        means_ = means2\n",
    "        stds_ = stds2\n",
    "        sharpes_ = sharpes2\n",
    "        weights_ = weights2\n",
    "\n",
    "        bestWeights = weights_[sharpes_.argmax()]\n",
    "\n",
    "        means = np.append(means, means_)\n",
    "        stds = np.append(stds, stds_)\n",
    "        sharpes = np.append(sharpes, sharpes_)\n",
    "        weights = np.append(weights, weights_)\n",
    "\n",
    "    df_ = pd.DataFrame(weights[sharpes.argmax()]).set_index(stocks.columns)\n",
    "    df_.columns = [\"Weights\"]\n",
    "\n",
    "    next4weeks = returns.loc[[i[0] for i in Holdout[tensor]]][randomsymbols]\n",
    "\n",
    "    df_.sort_values(by=[\"Weights\"], ascending=False, inplace=True)\n",
    "\n",
    "    wr = np.array(\n",
    "        weighted_return(\n",
    "            np.array((np.exp(next4weeks) - 1).cumsum().tail(1)),\n",
    "            weights[sharpes.argmax()],\n",
    "        )\n",
    "    )[0][0]\n",
    "\n",
    "    max_sr_ret = means[sharpes.argmax()]\n",
    "    max_sr_vol = stds[sharpes.argmax()]\n",
    "    max_sharpe = sharpes[sharpes.argmax()]\n",
    "\n",
    "    display([bestWeights, max_sr_ret, max_sr_vol, max_sharpe, wr])"
   ]
  },
  {
   "cell_type": "code",
   "execution_count": null,
   "id": "cf2e2d1f",
   "metadata": {},
   "outputs": [],
   "source": []
  },
  {
   "cell_type": "code",
   "execution_count": null,
   "id": "5c3f8e46",
   "metadata": {},
   "outputs": [],
   "source": [
    "cube.create_parameter_hierarchy_from_members(\n",
    "    \"Dates\", ret[\"Date\"].tolist(), \n",
    "    index_measure_name=\"Date Index\",\n",
    "    #name=\"Dates\"\n",
    "    #store_name=\"Dates\"\n",
    ")\n",
    "# Setting the hierarchy to non-slicing, as required by\n",
    "# the max_member aggregation function - see later - this behavior might change in future versions.\n",
    "h[\"Dates\"].slicing = False"
   ]
  },
  {
   "cell_type": "code",
   "execution_count": null,
   "id": "9a33d2ec",
   "metadata": {},
   "outputs": [],
   "source": [
    "cube.schema"
   ]
  },
  {
   "cell_type": "code",
   "execution_count": null,
   "id": "4b5032eb-d76e-4a18-b92a-0e2a78d026d6",
   "metadata": {},
   "outputs": [],
   "source": []
  },
  {
   "cell_type": "code",
   "execution_count": null,
   "id": "ec588d50-335d-42e6-86fc-79e10155861d",
   "metadata": {},
   "outputs": [],
   "source": []
  },
  {
   "cell_type": "code",
   "execution_count": null,
   "id": "e3634c06-192d-4386-a4f3-cf76562d6ea9",
   "metadata": {},
   "outputs": [],
   "source": []
  },
  {
   "cell_type": "code",
   "execution_count": null,
   "id": "b5036d8d",
   "metadata": {},
   "outputs": [],
   "source": [
    "m[\"daily returns\"] = m[\"returns_vector.SUM\"][m[\"Date Index\"]]\n"
   ]
  },
  {
   "cell_type": "code",
   "execution_count": null,
   "id": "0baf40e0-3249-4659-be72-8b79f5d52a5f",
   "metadata": {},
   "outputs": [],
   "source": [
    "m[\"daily returns\"].formatter = \"DOUBLE[#,###.0000000000]\""
   ]
  },
  {
   "cell_type": "code",
   "execution_count": null,
   "id": "1c124af2-4a24-4c4a-85f0-9197b8d3c8ac",
   "metadata": {},
   "outputs": [],
   "source": [
    "randomsymbols[1]"
   ]
  },
  {
   "cell_type": "code",
   "execution_count": null,
   "id": "8de1d742-4e35-4104-ae19-87649ca9a675",
   "metadata": {
    "atoti": {
     "widget": {
      "mapping": {
       "columns": [
        "ALL_MEASURES"
       ],
       "measures": [],
       "rows": [
        "[Returns].[symbol].[symbol]",
        "[Epoch].[Epoch].[Branch]"
       ]
      },
      "query": {
       "mdx": "SELECT NON EMPTY Crossjoin(Hierarchize(Descendants({[Returns].[symbol].[AllMember]}, 1, SELF_AND_BEFORE)), [Epoch].[Epoch].[Branch].Members) ON ROWS FROM [Return Cube]",
       "updateMode": "once"
      },
      "serverKey": "default",
      "widgetKey": "pivot-table"
     }
    },
    "tags": []
   },
   "outputs": [],
   "source": [
    "session.visualize()"
   ]
  },
  {
   "cell_type": "code",
   "execution_count": null,
   "id": "abde1723",
   "metadata": {
    "atoti": {
     "widget": {
      "filters": [
       "[Returns].[symbol].[AllMember].[BXP]"
      ],
      "mapping": {
       "columns": [
        "ALL_MEASURES"
       ],
       "measures": [
        "[Measures].[daily returns]"
       ],
       "rows": [
        "[Dates].[Dates].[Dates]"
       ]
      },
      "query": {
       "mdx": "SELECT NON EMPTY Hierarchize(Descendants({[Dates].[Dates].[AllMember]}, 1, SELF_AND_BEFORE)) ON ROWS, NON EMPTY {[Measures].[daily returns]} ON COLUMNS FROM [Return Cube]",
       "updateMode": "once"
      },
      "serverKey": "default",
      "widgetKey": "pivot-table"
     }
    }
   },
   "outputs": [],
   "source": [
    "session.visualize(\"Daily returns for symbol BXP\")"
   ]
  },
  {
   "cell_type": "code",
   "execution_count": null,
   "id": "01ab5c0e",
   "metadata": {},
   "outputs": [],
   "source": []
  }
 ],
 "metadata": {
  "kernelspec": {
   "display_name": "Python 3 (ipykernel)",
   "language": "python",
   "name": "python3"
  },
  "language_info": {
   "codemirror_mode": {
    "name": "ipython",
    "version": 3
   },
   "file_extension": ".py",
   "mimetype": "text/x-python",
   "name": "python",
   "nbconvert_exporter": "python",
   "pygments_lexer": "ipython3",
   "version": "3.9.7"
  }
 },
 "nbformat": 4,
 "nbformat_minor": 5
}
