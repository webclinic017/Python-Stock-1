{
 "cells": [
  {
   "cell_type": "code",
   "execution_count": 10,
   "id": "536d7d53-8998-43dd-9fb2-a7cdeceb4823",
   "metadata": {},
   "outputs": [
    {
     "name": "stdout",
     "output_type": "stream",
     "text": [
      "dir\n",
      "  ['file', 'file3']\n",
      "  dir2\n",
      "    ['file2']\n",
      "dir2\n",
      "  alpha\n",
      "    beta\n",
      "      gamma\n",
      "        ['delta']\n",
      "        delta\n",
      "          ['']\n",
      "dir3\n",
      "  ['file4', 'file5']\n"
     ]
    }
   ],
   "source": [
    "#https://stackoverflow.com/questions/8484943/construct-a-tree-from-list-os-file-paths-python-performance-dependent\n",
    "from collections import defaultdict\n",
    "\n",
    "from collections import defaultdict\n",
    "\n",
    "input_ = '''dir/file\n",
    "dir/dir2/file2\n",
    "dir/file3\n",
    "dir2/alpha/beta/gamma/delta\n",
    "dir2/alpha/beta/gamma/delta/\n",
    "dir3/file4\n",
    "dir3/file5'''\n",
    "\n",
    "FILE_MARKER = '<files>'\n",
    "\n",
    "def attach(branch, trunk):\n",
    "    '''\n",
    "    Insert a branch of directories on its trunk.\n",
    "    '''\n",
    "    parts = branch.split('/', 1)\n",
    "    if len(parts) == 1:  # branch is a file\n",
    "        trunk[FILE_MARKER].append(parts[0])\n",
    "    else:\n",
    "        node, others = parts\n",
    "        if node not in trunk:\n",
    "            trunk[node] = defaultdict(dict, ((FILE_MARKER, []),))\n",
    "        attach(others, trunk[node])\n",
    "\n",
    "def prettify(d, indent=0):\n",
    "    '''\n",
    "    Print the file tree structure with proper indentation.\n",
    "    '''\n",
    "    for key, value in d.items():\n",
    "        if key == FILE_MARKER:\n",
    "            if value:\n",
    "                print('  ' * indent + str(value))\n",
    "        else:\n",
    "            print('  ' * indent + str(key))\n",
    "            if isinstance(value, dict):\n",
    "                prettify(value, indent+1)\n",
    "            else:\n",
    "                print('  ' * (indent+1) + str(value))\n",
    "\n",
    "\n",
    "\n",
    "main_dict = defaultdict(dict, ((FILE_MARKER, []),))\n",
    "for line in input_.split('\\n'):\n",
    "    attach(line, main_dict)\n",
    "\n",
    "prettify(main_dict)"
   ]
  }
 ],
 "metadata": {
  "kernelspec": {
   "display_name": "Python 3 (ipykernel)",
   "language": "python",
   "name": "python3"
  },
  "language_info": {
   "codemirror_mode": {
    "name": "ipython",
    "version": 3
   },
   "file_extension": ".py",
   "mimetype": "text/x-python",
   "name": "python",
   "nbconvert_exporter": "python",
   "pygments_lexer": "ipython3",
   "version": "3.9.7"
  }
 },
 "nbformat": 4,
 "nbformat_minor": 5
}
