{
 "cells": [
  {
   "cell_type": "code",
   "execution_count": null,
   "id": "d8c88f87",
   "metadata": {},
   "outputs": [
    {
     "name": "stdout",
     "output_type": "stream",
     "text": [
      "Welcome to atoti 0.6.2!\n",
      "\n",
      "By using this community edition, you agree with the license available at https://docs.atoti.io/latest/eula.html.\n",
      "Browse the official documentation at https://docs.atoti.io.\n",
      "Join the community at https://www.atoti.io/register.\n",
      "\n",
      "atoti collects telemetry data, which is used to help understand how to improve the product.\n",
      "If you don't wish to send usage data, set the ATOTI_DISABLE_TELEMETRY environment variable to True.\n",
      "\n",
      "You can hide this message by setting the ATOTI_HIDE_EULA_MESSAGE environment variable to True.\n"
     ]
    }
   ],
   "source": [
    "import atoti as tt\n",
    "import numpy as np\n",
    "import pandas as pd\n",
    "import graphviz"
   ]
  },
  {
   "cell_type": "code",
   "execution_count": null,
   "id": "7862082a",
   "metadata": {},
   "outputs": [],
   "source": [
    "session = tt.create_session()"
   ]
  },
  {
   "cell_type": "markdown",
   "id": "486db4de",
   "metadata": {},
   "source": [
    "We convert the stock data into vector. Each value in the vector is a return that correspond to a date in the `returns` df.  \n",
    "We load the stock with the vector of returns into atoti cube."
   ]
  },
  {
   "cell_type": "code",
   "execution_count": null,
   "id": "4be53658-fa96-434a-b205-596a08267101",
   "metadata": {},
   "outputs": [],
   "source": []
  },
  {
   "cell_type": "code",
   "execution_count": 12,
   "id": "cf60fd99",
   "metadata": {},
   "outputs": [
    {
     "ename": "AtotiJavaException",
     "evalue": "Failed to parse the row 0 while inferring types of the CSV. The row [ATH,-0.005301677278131519, -0.0014895139771735656, 0.0014895139771736047, 0.010996102945288551, -0.010358360465484936, -0.0019142864530214809, 0.0006384756821596522, 0.004458113455479353, 0.013465370844628247, -0.005658542651650491, 0.00586755187456465, -0.008603554098335511, -0.015076176113319262, 0.005547236688632833, -0.0021298937230939353, -0.027014067520381917, -0.008359068906860629, -0.007984087857712655, -0.0062541811281572645, -0.020829414644118676, 0.022843968213691265, 0.002233605420436408, -0.0038001200671340823, -0.02471501190554414, 0.0043522832124405185, 0.013395594825856639, 0.03523129735258922, -0.003489640315127379, 0.008268129345383735, -0.0006503217709479448, 0.02632011516517783, 0.005686031222189609, 0.003772804907588597, 0.009991747409170682, 0.035005634482641636, -0.01409893985494701, 0.009086398031402874, -0.000804361915388342, -0.034172085419825915, -0.04143800622632002, -0.00915442293932236, -0.057222751678975635, -0.04456772264407962, 0.0239532410224928, -0.04156194328147397, 0.03681695775362255, -0.04126801137545621, -0.07005556141920907, -0.12921166154843575, 0.02891831870920152, -0.08810723653579994, -0.23760904199321098, 0.09431069189190805, -0.21300989958546215, -0.0941192770691337, -0.18474141755447213, 0.10293474636143288, -0.09029545156745417, -0.037165331513854455, 0.26412934607371547, 0.19432423158925452, 0.08426033681258545, -0.0760523176406078, 0.02384724284321297, -0.058299307272644145, -0.12744882848073408, 0.019488506877833746, -0.03703286596893825, 0.08394042054287626, 0.022862935337366504, 0.10745129433931465, 0.1318852999459058, -0.07099534217646737, -0.03491451365364535, -0.1184700568609213, -0.025476450664189056, 0.07416839045051658, -0.05448183966145367, -0.0802847088961169, 0.025733448587626443, -0.0026315570204211874, 0.037496266539848735, 0.06786419885846139, 0.03762325554502339, 0.08357949764909905, -0.05617025276755803, -0.07696104113612832, -0.0012007480753381224, -0.02761029608724891, -0.0541358667112799, 0.0773311966397822, 0.09362656361029752, -0.010679497965922819, -0.07573259348399998, -0.06902139833301019, 0.04681167715666542, 0.007323072015699313, 0.11259011441439523, -0.04822897329469439, 0.014339908672538747, 0.0007490094192082616, -0.026941454823810867, 0.10401346815514735, 0.042747356587739, -0.025224138229512787, -0.01613773118345345, 0.02966972430441083, -0.007758498647509625, 0.08282612106777332, 0.04867135835908787, 0.05459837894561592, 0.046149367444788175, -0.04614936744478807, -0.05459837894561579, -0.12004953811094977, 0.03713254416093136, 0.03362198553128822, 0.03524181780439912, -0.033372151996172154, 0.07061056011760562, -0.03393160780256211, -0.0012012288664790974, -0.012091976599990659, -0.05855486217997351, 0.02798272138942684, -0.05909709532424794, 0.02008961405529533, 0.016812567128695298, -0.030601363265580644, 0.0036297881543848097, 0.03272607632408929, -0.04465466729316925, 0.03343479084328675, -0.049902975794516934, 0.04732066569506839, 0.01730254660179606, 0.011056829889292269, 0.0496425704855095, 0.01777820080648446, -0.01628457135805538, -0.020202651543695667, 0.030005249630466007, 0.00265672002434468, -0.0032480996044473623, -0.012500221661597187, -0.011142983320884842, -0.016181051013170862, 0.031806382349608364, -0.033963323863285405, -0.005257416586577046, 0.019954660908841647, -0.00885369563269633, 0.0769951292095058, -0.03495958806048505, 0.04033971214768945, 0.026199900187478795, 0.0074003480767103015, -0.004927475373431135, -0.003298489374719671, 0.016655691797424058, -0.0029830696114836663, -0.01587764002652969, 0.007696540771283421, -0.01712273026354686, -0.014873364978772723, 0.04775295546552691, 0.0075189021173505816, -0.012111593473827937, 0.007822046882971771, 0.004289546590856309, -0.022181046453314632, -0.008239625111671882, -0.0033148907613912994, -0.017867571794179735, 0.04919252226091021, -0.035484050014309695, 0.011327647834473507, -0.019418106405998052, 0.0016791932118752082, 0.018562716029196964, -0.015491357630724602, 0.013017805400127687, -0.015809501098576213, -0.021761504578931466, -0.03696042598726532, 0.0032559037449725356, -0.025135977780640664, 0.0, 0.00904981260882297, 0.04606945598090448, -0.025266305440046183, 0.002350231073082586, 0.044757829787899585, 0.01614290068058374, 0.021306426486497086, -0.019375666191156948, 0.015584722347252035, 0.01427630386477751, -0.01021517161874371, 0.0002702184643052396, -0.030164127052571033, -0.0061434823016413625, 0.0005600800260711407, -0.012111126552370868, -0.02380045909819096, 0.0005802279873282902, -0.013724882852336006, -0.0070817017141362425, 0.013821752341370999, -0.027536906861005423, -0.04105975183923495, -0.03728327638517525, 0.02785519775081021, 0.012862977116499365, 0.010542619752281832, 0.07628689452113685, -0.03401001990259112, 0.03942541353720307, -0.007704431238056151, 0.1505020627737132, 0.008099148691699365, 0.019366358047561445, -0.03240624692274337, 0.036234915184494246, 0.025699874368674866, 0.006033950433229281, -0.00046286641198046996, -0.0041753784303984595, -0.001162908285133728, 0.039918629948257026, 0.04631668584373244, -0.014190731452410888, -0.005646098398320574, -0.03478803778622476, 0.015660292768752776, 0.016511107343118704, -0.0010922827405421527, 0.002837523820267824, -0.04776626191945058, -0.0018307059954624665, -0.008741741293445047, 0.0013853932954904368, -0.02145609365728616, -0.015920454674779656, 0.015213019669201338, 0.0002359272595556281, 0.0025909046610305664, -0.01135568291324172, -0.009562533109182451, -0.013299657230972449, 0.0290292434999319, 0.002125904910250736, -0.0023624459132825385, -0.009983400531519358, 0.01540857128801582, 0.014711323926199725, -0.02701909214373796, 0.02074072102555757, 0.07068647199222733, 0.004337477382955603, -0.022984469167221206, -0.015846756778727256, 0.0060558770195192945, 0.001340727767176247, 0.016390215963793954, -0.025588258556492192, 0.006514701677452162, 0.00022385137796879839, -0.022182882842596275, -0.00919752892813579, -0.013488619185118171, -0.00046839481651924324, -0.02803034697124746, 0.023334471999643537, -0.03838327417947038, 0.006581387808779972, 0.028973632170573704, 0.012431322073009706, 0.03908620131987464, -0.0035930836982125958, 0.018279592435816453, -0.011776577981717858, -0.009883333749024002, 0.009659747381846877, 0.00978870191872038, 0.015378176193828978, -0.012504269676318866, -0.0033167019882962157, 0.005301489362783914, 0.02716672593425147, -0.02277013138348712, 0.046918718776941364, -0.036879370215567434, -0.010039348561374086, 0.024911967449115988, 0.0010691594234299852, 0.0317620204178233, -0.010824428513427863, 0.022761220365873226, 0.058021797821752076, -0.036768103912285965, -0.002607061914052594, 0.01988137085540517, -0.013077259008742657, 0.017986449108529028, -0.015993974096813704, 0.009114370076337362, -0.010110149340256174, -0.011018828264149554, 0.04740783236231217, 0.00019214554226506647, -0.036581149640427656, -0.005995206665996676, -0.006636485168393328, -0.001817634555365626, 0.016439818473590377, 0.0021849369638661663, 0.01438022462939655, -0.0013699912731237776, 0.0007830286400440152, -0.012405342810136144, -0.011959526398838688, 0.011563163782263356, 0.006913577643640269, 0.001573600458754368, 0.04740400912177312, 0.014699323766105814, 0.0239084546428522, 0.0014416657153189013, -0.00324676168392302, 0.02268562923230124, 0.005635796912553333, 0.014817708440322083, 0.018176041606010898, 0.01165656318629535, 0.005861165120853913, 0.0011681218802673417, -0.00484830711779146, -0.005040320555877368, -0.001685746768650765, 0.02991745871478737, 0.013499462103363273, 0.018407845969122535, -0.01212713634650582, 0.0022450199980638902, -0.03173320965950635, 0.006592006795596239, 0.021932460127099894, -0.0004821792140885696, -0.007584983020815531, 0.010795270838343397, -0.003371106794955503, 0.0103976227820034, -0.002230356008649031, -0.016077516530319108, 0.012722627524107084, 0.00717529901645415, -0.004937456225518481, -0.005283000044503726, 0.0024048352412031596, 0.006384661969759706, 0.0, 0.0038113700431419532, -0.0044479624707940615, -0.0044678962731720335, 0.00047969613131130666, 0.007167299127223749, -0.003179098985363035, 0.008402725189023687] has 369 fields but the header [stock,returns_vector] has 1 fields.",
     "output_type": "error",
     "traceback": [
      "\u001b[1;31m---------------------------------------------------------------------------\u001b[0m",
      "\u001b[1;31mAtotiJavaException\u001b[0m                        Traceback (most recent call last)",
      "\u001b[1;32m~\\AppData\\Local\\Temp/ipykernel_10260/3059328982.py\u001b[0m in \u001b[0;36m<module>\u001b[1;34m\u001b[0m\n\u001b[1;32m----> 1\u001b[1;33m returns_table = session.read_csv(\n\u001b[0m\u001b[0;32m      2\u001b[0m     \u001b[1;34m\"returns.csv\"\u001b[0m\u001b[1;33m,\u001b[0m \u001b[0mkeys\u001b[0m\u001b[1;33m=\u001b[0m\u001b[1;33m[\u001b[0m\u001b[1;34m\"stock\"\u001b[0m\u001b[1;33m]\u001b[0m\u001b[1;33m,\u001b[0m \u001b[0mseparator\u001b[0m\u001b[1;33m=\u001b[0m\u001b[1;34m\";\"\u001b[0m\u001b[1;33m\u001b[0m\u001b[1;33m\u001b[0m\u001b[0m\n\u001b[0;32m      3\u001b[0m )\n\u001b[0;32m      4\u001b[0m \u001b[1;33m\u001b[0m\u001b[0m\n\u001b[0;32m      5\u001b[0m \u001b[0mreturns_table\u001b[0m\u001b[1;33m.\u001b[0m\u001b[0mhead\u001b[0m\u001b[1;33m(\u001b[0m\u001b[1;33m)\u001b[0m\u001b[1;33m\u001b[0m\u001b[1;33m\u001b[0m\u001b[0m\n",
      "\u001b[1;32m~\\AppData\\Local\\Programs\\Python\\Python39\\lib\\site-packages\\atoti\\_type_utils.py\u001b[0m in \u001b[0;36mtypechecked_func_wrapper\u001b[1;34m(*args, **kwargs)\u001b[0m\n\u001b[0;32m    184\u001b[0m \u001b[1;33m\u001b[0m\u001b[0m\n\u001b[0;32m    185\u001b[0m             \u001b[1;31m# Call the actual function.\u001b[0m\u001b[1;33m\u001b[0m\u001b[1;33m\u001b[0m\u001b[0m\n\u001b[1;32m--> 186\u001b[1;33m             \u001b[1;32mreturn\u001b[0m \u001b[0mself\u001b[0m\u001b[1;33m.\u001b[0m\u001b[0m_func\u001b[0m\u001b[1;33m(\u001b[0m\u001b[1;33m*\u001b[0m\u001b[0margs\u001b[0m\u001b[1;33m,\u001b[0m \u001b[1;33m**\u001b[0m\u001b[0mkwargs\u001b[0m\u001b[1;33m)\u001b[0m\u001b[1;33m\u001b[0m\u001b[1;33m\u001b[0m\u001b[0m\n\u001b[0m\u001b[0;32m    187\u001b[0m \u001b[1;33m\u001b[0m\u001b[0m\n\u001b[0;32m    188\u001b[0m         \u001b[1;31m# Mark the function as typechecked and return it.\u001b[0m\u001b[1;33m\u001b[0m\u001b[1;33m\u001b[0m\u001b[0m\n",
      "\u001b[1;32m~\\AppData\\Local\\Programs\\Python\\Python39\\lib\\site-packages\\atoti\\_docs_utils.py\u001b[0m in \u001b[0;36mwrapper\u001b[1;34m(*args, **kwargs)\u001b[0m\n\u001b[0;32m     14\u001b[0m         \u001b[1;33m@\u001b[0m\u001b[0mwraps\u001b[0m\u001b[1;33m(\u001b[0m\u001b[0mfunc\u001b[0m\u001b[1;33m)\u001b[0m\u001b[1;33m\u001b[0m\u001b[1;33m\u001b[0m\u001b[0m\n\u001b[0;32m     15\u001b[0m         \u001b[1;32mdef\u001b[0m \u001b[0mwrapper\u001b[0m\u001b[1;33m(\u001b[0m\u001b[1;33m*\u001b[0m\u001b[0margs\u001b[0m\u001b[1;33m:\u001b[0m \u001b[0mAny\u001b[0m\u001b[1;33m,\u001b[0m \u001b[1;33m**\u001b[0m\u001b[0mkwargs\u001b[0m\u001b[1;33m:\u001b[0m \u001b[0mAny\u001b[0m\u001b[1;33m)\u001b[0m \u001b[1;33m->\u001b[0m \u001b[0mCallable\u001b[0m\u001b[1;33m:\u001b[0m\u001b[1;33m\u001b[0m\u001b[1;33m\u001b[0m\u001b[0m\n\u001b[1;32m---> 16\u001b[1;33m             \u001b[1;32mreturn\u001b[0m \u001b[0mfunc\u001b[0m\u001b[1;33m(\u001b[0m\u001b[1;33m*\u001b[0m\u001b[0margs\u001b[0m\u001b[1;33m,\u001b[0m \u001b[1;33m**\u001b[0m\u001b[0mkwargs\u001b[0m\u001b[1;33m)\u001b[0m\u001b[1;33m\u001b[0m\u001b[1;33m\u001b[0m\u001b[0m\n\u001b[0m\u001b[0;32m     17\u001b[0m \u001b[1;33m\u001b[0m\u001b[0m\n\u001b[0;32m     18\u001b[0m         \u001b[1;31m# Collecting docstring and docstring templates\u001b[0m\u001b[1;33m\u001b[0m\u001b[1;33m\u001b[0m\u001b[0m\n",
      "\u001b[1;32m~\\AppData\\Local\\Programs\\Python\\Python39\\lib\\site-packages\\atoti\\session.py\u001b[0m in \u001b[0;36mread_csv\u001b[1;34m(self, path, keys, table_name, separator, encoding, process_quotes, partitioning, types, array_separator, hierarchized_columns, date_patterns, client_side_encryption, **kwargs)\u001b[0m\n\u001b[0;32m    300\u001b[0m         )\n\u001b[0;32m    301\u001b[0m \u001b[1;33m\u001b[0m\u001b[0m\n\u001b[1;32m--> 302\u001b[1;33m         csv_file_format = CsvDataSource(self._java_api).discover_file_format(\n\u001b[0m\u001b[0;32m    303\u001b[0m             \u001b[0mpath\u001b[0m\u001b[1;33m=\u001b[0m\u001b[0mpath\u001b[0m\u001b[1;33m,\u001b[0m\u001b[1;33m\u001b[0m\u001b[1;33m\u001b[0m\u001b[0m\n\u001b[0;32m    304\u001b[0m             \u001b[0mkeys\u001b[0m\u001b[1;33m=\u001b[0m\u001b[0mkeys\u001b[0m\u001b[1;33m,\u001b[0m\u001b[1;33m\u001b[0m\u001b[1;33m\u001b[0m\u001b[0m\n",
      "\u001b[1;32m~\\AppData\\Local\\Programs\\Python\\Python39\\lib\\site-packages\\atoti\\_sources\\csv.py\u001b[0m in \u001b[0;36mdiscover_file_format\u001b[1;34m(self, path, keys, separator, encoding, process_quotes, array_separator, pattern, date_patterns, client_side_encryption)\u001b[0m\n\u001b[0;32m     79\u001b[0m             \u001b[0mclient_side_encryption\u001b[0m\u001b[1;33m=\u001b[0m\u001b[0mclient_side_encryption\u001b[0m\u001b[1;33m,\u001b[0m\u001b[1;33m\u001b[0m\u001b[1;33m\u001b[0m\u001b[0m\n\u001b[0;32m     80\u001b[0m         )\n\u001b[1;32m---> 81\u001b[1;33m         return self._java_api.discover_csv_file_format(\n\u001b[0m\u001b[0;32m     82\u001b[0m             \u001b[0mkeys\u001b[0m\u001b[1;33m=\u001b[0m\u001b[0mkeys\u001b[0m\u001b[1;33m,\u001b[0m\u001b[1;33m\u001b[0m\u001b[1;33m\u001b[0m\u001b[0m\n\u001b[0;32m     83\u001b[0m             \u001b[0msource_params\u001b[0m\u001b[1;33m=\u001b[0m\u001b[0msource_params\u001b[0m\u001b[1;33m,\u001b[0m\u001b[1;33m\u001b[0m\u001b[1;33m\u001b[0m\u001b[0m\n",
      "\u001b[1;32m~\\AppData\\Local\\Programs\\Python\\Python39\\lib\\site-packages\\atoti\\exceptions.py\u001b[0m in \u001b[0;36mcatch_py4j_exceptions\u001b[1;34m(java_api, *args, **kwargs)\u001b[0m\n\u001b[0;32m     76\u001b[0m                 \u001b[1;32melse\u001b[0m \u001b[1;34mf\"{java_api.get_throwable_root_cause(java_exception.java_exception)}\"\u001b[0m\u001b[1;33m\u001b[0m\u001b[1;33m\u001b[0m\u001b[0m\n\u001b[0;32m     77\u001b[0m             )\n\u001b[1;32m---> 78\u001b[1;33m             raise AtotiJavaException(\n\u001b[0m\u001b[0;32m     79\u001b[0m                 \u001b[0mcause\u001b[0m\u001b[1;33m,\u001b[0m\u001b[1;33m\u001b[0m\u001b[1;33m\u001b[0m\u001b[0m\n\u001b[0;32m     80\u001b[0m                 \u001b[0mjava_traceback\u001b[0m\u001b[1;33m=\u001b[0m\u001b[0mstr\u001b[0m\u001b[1;33m(\u001b[0m\u001b[0mjava_exception\u001b[0m\u001b[1;33m)\u001b[0m\u001b[1;33m,\u001b[0m\u001b[1;33m\u001b[0m\u001b[1;33m\u001b[0m\u001b[0m\n",
      "\u001b[1;31mAtotiJavaException\u001b[0m: Failed to parse the row 0 while inferring types of the CSV. The row [ATH,-0.005301677278131519, -0.0014895139771735656, 0.0014895139771736047, 0.010996102945288551, -0.010358360465484936, -0.0019142864530214809, 0.0006384756821596522, 0.004458113455479353, 0.013465370844628247, -0.005658542651650491, 0.00586755187456465, -0.008603554098335511, -0.015076176113319262, 0.005547236688632833, -0.0021298937230939353, -0.027014067520381917, -0.008359068906860629, -0.007984087857712655, -0.0062541811281572645, -0.020829414644118676, 0.022843968213691265, 0.002233605420436408, -0.0038001200671340823, -0.02471501190554414, 0.0043522832124405185, 0.013395594825856639, 0.03523129735258922, -0.003489640315127379, 0.008268129345383735, -0.0006503217709479448, 0.02632011516517783, 0.005686031222189609, 0.003772804907588597, 0.009991747409170682, 0.035005634482641636, -0.01409893985494701, 0.009086398031402874, -0.000804361915388342, -0.034172085419825915, -0.04143800622632002, -0.00915442293932236, -0.057222751678975635, -0.04456772264407962, 0.0239532410224928, -0.04156194328147397, 0.03681695775362255, -0.04126801137545621, -0.07005556141920907, -0.12921166154843575, 0.02891831870920152, -0.08810723653579994, -0.23760904199321098, 0.09431069189190805, -0.21300989958546215, -0.0941192770691337, -0.18474141755447213, 0.10293474636143288, -0.09029545156745417, -0.037165331513854455, 0.26412934607371547, 0.19432423158925452, 0.08426033681258545, -0.0760523176406078, 0.02384724284321297, -0.058299307272644145, -0.12744882848073408, 0.019488506877833746, -0.03703286596893825, 0.08394042054287626, 0.022862935337366504, 0.10745129433931465, 0.1318852999459058, -0.07099534217646737, -0.03491451365364535, -0.1184700568609213, -0.025476450664189056, 0.07416839045051658, -0.05448183966145367, -0.0802847088961169, 0.025733448587626443, -0.0026315570204211874, 0.037496266539848735, 0.06786419885846139, 0.03762325554502339, 0.08357949764909905, -0.05617025276755803, -0.07696104113612832, -0.0012007480753381224, -0.02761029608724891, -0.0541358667112799, 0.0773311966397822, 0.09362656361029752, -0.010679497965922819, -0.07573259348399998, -0.06902139833301019, 0.04681167715666542, 0.007323072015699313, 0.11259011441439523, -0.04822897329469439, 0.014339908672538747, 0.0007490094192082616, -0.026941454823810867, 0.10401346815514735, 0.042747356587739, -0.025224138229512787, -0.01613773118345345, 0.02966972430441083, -0.007758498647509625, 0.08282612106777332, 0.04867135835908787, 0.05459837894561592, 0.046149367444788175, -0.04614936744478807, -0.05459837894561579, -0.12004953811094977, 0.03713254416093136, 0.03362198553128822, 0.03524181780439912, -0.033372151996172154, 0.07061056011760562, -0.03393160780256211, -0.0012012288664790974, -0.012091976599990659, -0.05855486217997351, 0.02798272138942684, -0.05909709532424794, 0.02008961405529533, 0.016812567128695298, -0.030601363265580644, 0.0036297881543848097, 0.03272607632408929, -0.04465466729316925, 0.03343479084328675, -0.049902975794516934, 0.04732066569506839, 0.01730254660179606, 0.011056829889292269, 0.0496425704855095, 0.01777820080648446, -0.01628457135805538, -0.020202651543695667, 0.030005249630466007, 0.00265672002434468, -0.0032480996044473623, -0.012500221661597187, -0.011142983320884842, -0.016181051013170862, 0.031806382349608364, -0.033963323863285405, -0.005257416586577046, 0.019954660908841647, -0.00885369563269633, 0.0769951292095058, -0.03495958806048505, 0.04033971214768945, 0.026199900187478795, 0.0074003480767103015, -0.004927475373431135, -0.003298489374719671, 0.016655691797424058, -0.0029830696114836663, -0.01587764002652969, 0.007696540771283421, -0.01712273026354686, -0.014873364978772723, 0.04775295546552691, 0.0075189021173505816, -0.012111593473827937, 0.007822046882971771, 0.004289546590856309, -0.022181046453314632, -0.008239625111671882, -0.0033148907613912994, -0.017867571794179735, 0.04919252226091021, -0.035484050014309695, 0.011327647834473507, -0.019418106405998052, 0.0016791932118752082, 0.018562716029196964, -0.015491357630724602, 0.013017805400127687, -0.015809501098576213, -0.021761504578931466, -0.03696042598726532, 0.0032559037449725356, -0.025135977780640664, 0.0, 0.00904981260882297, 0.04606945598090448, -0.025266305440046183, 0.002350231073082586, 0.044757829787899585, 0.01614290068058374, 0.021306426486497086, -0.019375666191156948, 0.015584722347252035, 0.01427630386477751, -0.01021517161874371, 0.0002702184643052396, -0.030164127052571033, -0.0061434823016413625, 0.0005600800260711407, -0.012111126552370868, -0.02380045909819096, 0.0005802279873282902, -0.013724882852336006, -0.0070817017141362425, 0.013821752341370999, -0.027536906861005423, -0.04105975183923495, -0.03728327638517525, 0.02785519775081021, 0.012862977116499365, 0.010542619752281832, 0.07628689452113685, -0.03401001990259112, 0.03942541353720307, -0.007704431238056151, 0.1505020627737132, 0.008099148691699365, 0.019366358047561445, -0.03240624692274337, 0.036234915184494246, 0.025699874368674866, 0.006033950433229281, -0.00046286641198046996, -0.0041753784303984595, -0.001162908285133728, 0.039918629948257026, 0.04631668584373244, -0.014190731452410888, -0.005646098398320574, -0.03478803778622476, 0.015660292768752776, 0.016511107343118704, -0.0010922827405421527, 0.002837523820267824, -0.04776626191945058, -0.0018307059954624665, -0.008741741293445047, 0.0013853932954904368, -0.02145609365728616, -0.015920454674779656, 0.015213019669201338, 0.0002359272595556281, 0.0025909046610305664, -0.01135568291324172, -0.009562533109182451, -0.013299657230972449, 0.0290292434999319, 0.002125904910250736, -0.0023624459132825385, -0.009983400531519358, 0.01540857128801582, 0.014711323926199725, -0.02701909214373796, 0.02074072102555757, 0.07068647199222733, 0.004337477382955603, -0.022984469167221206, -0.015846756778727256, 0.0060558770195192945, 0.001340727767176247, 0.016390215963793954, -0.025588258556492192, 0.006514701677452162, 0.00022385137796879839, -0.022182882842596275, -0.00919752892813579, -0.013488619185118171, -0.00046839481651924324, -0.02803034697124746, 0.023334471999643537, -0.03838327417947038, 0.006581387808779972, 0.028973632170573704, 0.012431322073009706, 0.03908620131987464, -0.0035930836982125958, 0.018279592435816453, -0.011776577981717858, -0.009883333749024002, 0.009659747381846877, 0.00978870191872038, 0.015378176193828978, -0.012504269676318866, -0.0033167019882962157, 0.005301489362783914, 0.02716672593425147, -0.02277013138348712, 0.046918718776941364, -0.036879370215567434, -0.010039348561374086, 0.024911967449115988, 0.0010691594234299852, 0.0317620204178233, -0.010824428513427863, 0.022761220365873226, 0.058021797821752076, -0.036768103912285965, -0.002607061914052594, 0.01988137085540517, -0.013077259008742657, 0.017986449108529028, -0.015993974096813704, 0.009114370076337362, -0.010110149340256174, -0.011018828264149554, 0.04740783236231217, 0.00019214554226506647, -0.036581149640427656, -0.005995206665996676, -0.006636485168393328, -0.001817634555365626, 0.016439818473590377, 0.0021849369638661663, 0.01438022462939655, -0.0013699912731237776, 0.0007830286400440152, -0.012405342810136144, -0.011959526398838688, 0.011563163782263356, 0.006913577643640269, 0.001573600458754368, 0.04740400912177312, 0.014699323766105814, 0.0239084546428522, 0.0014416657153189013, -0.00324676168392302, 0.02268562923230124, 0.005635796912553333, 0.014817708440322083, 0.018176041606010898, 0.01165656318629535, 0.005861165120853913, 0.0011681218802673417, -0.00484830711779146, -0.005040320555877368, -0.001685746768650765, 0.02991745871478737, 0.013499462103363273, 0.018407845969122535, -0.01212713634650582, 0.0022450199980638902, -0.03173320965950635, 0.006592006795596239, 0.021932460127099894, -0.0004821792140885696, -0.007584983020815531, 0.010795270838343397, -0.003371106794955503, 0.0103976227820034, -0.002230356008649031, -0.016077516530319108, 0.012722627524107084, 0.00717529901645415, -0.004937456225518481, -0.005283000044503726, 0.0024048352412031596, 0.006384661969759706, 0.0, 0.0038113700431419532, -0.0044479624707940615, -0.0044678962731720335, 0.00047969613131130666, 0.007167299127223749, -0.003179098985363035, 0.008402725189023687] has 369 fields but the header [stock,returns_vector] has 1 fields."
     ]
    }
   ],
   "source": [
    "returns_table = session.read_csv(\n",
    "    \"returns.csv\", keys=[\"stock\"], separator=\";\"\n",
    ")\n",
    "\n",
    "returns_table.head()"
   ]
  },
  {
   "cell_type": "code",
   "execution_count": null,
   "id": "f9d275ae",
   "metadata": {},
   "outputs": [],
   "source": [
    "cube = session.create_cube(returns_table, \"Return Cube\")"
   ]
  },
  {
   "cell_type": "code",
   "execution_count": null,
   "id": "428d90e1",
   "metadata": {},
   "outputs": [],
   "source": [
    "h, l, m = cube.hierarchies, cube.levels, cube.measures"
   ]
  },
  {
   "cell_type": "code",
   "execution_count": null,
   "id": "8fd913e7",
   "metadata": {},
   "outputs": [],
   "source": [
    "cube.schema"
   ]
  },
  {
   "cell_type": "code",
   "execution_count": null,
   "id": "6fcecf85",
   "metadata": {},
   "outputs": [],
   "source": [
    "m"
   ]
  },
  {
   "cell_type": "markdown",
   "id": "96a988b0",
   "metadata": {},
   "source": [
    "The below formatter will allow us to visualize the first 5 values in each array."
   ]
  },
  {
   "cell_type": "code",
   "execution_count": null,
   "id": "fa2efed6",
   "metadata": {},
   "outputs": [],
   "source": [
    "m[\"returns_vector.MEAN\"].formatter = \"ARRAY['|';0:5]\"\n",
    "m[\"returns_vector.SUM\"].formatter = \"ARRAY['|';0:5]\""
   ]
  },
  {
   "cell_type": "code",
   "execution_count": null,
   "id": "88e65010",
   "metadata": {
    "atoti": {
     "widget": {
      "columnWidths": {
       "[Measures].[returns_vector.MEAN]": 474.34375,
       "[Measures].[returns_vector.SUM]": 463
      },
      "mapping": {
       "columns": [
        "ALL_MEASURES"
       ],
       "measures": [
        "[Measures].[returns_vector.MEAN]",
        "[Measures].[returns_vector.SUM]"
       ],
       "rows": [
        "[Returns].[stock].[stock]"
       ]
      },
      "query": {
       "mdx": "SELECT NON EMPTY Hierarchize(Descendants({[Returns].[stock].[AllMember]}, 1, SELF_AND_BEFORE)) ON ROWS, NON EMPTY {[Measures].[returns_vector.MEAN], [Measures].[returns_vector.SUM]} ON COLUMNS FROM [Return Cube]",
       "updateMode": "once"
      },
      "serverKey": "default",
      "widgetKey": "pivot-table"
     }
    }
   },
   "outputs": [],
   "source": [
    "session.visualize()"
   ]
  },
  {
   "cell_type": "markdown",
   "id": "e3037c00",
   "metadata": {},
   "source": [
    "### Creating parameter hierarchy for dates\n",
    "We extracted the dates from the `returns` df and create a parameter hierarchy with it."
   ]
  },
  {
   "cell_type": "code",
   "execution_count": null,
   "id": "53b835d9",
   "metadata": {},
   "outputs": [],
   "source": [
    "calendar = pd.read_csv(\"dates.csv\")[\"Date\"]\n",
    "calendar"
   ]
  },
  {
   "cell_type": "markdown",
   "id": "a10711b7",
   "metadata": {},
   "source": [
    "The parameter hierarchy allows us to have a `Date Index` measure that will be used to retrieve the correspond returns for the day."
   ]
  },
  {
   "cell_type": "code",
   "execution_count": null,
   "id": "a4b6d610",
   "metadata": {},
   "outputs": [],
   "source": [
    "cube.create_static_parameter_hierarchy(\n",
    "    \"Dates\", list(calendar), index_measure=\"Date Index\", store_name=\"Dates\"\n",
    ")\n",
    "# Setting the hierarchy to non-slicing, as required by\n",
    "# the max_member aggregation function - see later - this behavior might change in future versions.\n",
    "h[\"Dates\"].slicing = False"
   ]
  },
  {
   "cell_type": "code",
   "execution_count": null,
   "id": "fc24bd73",
   "metadata": {},
   "outputs": [],
   "source": [
    "cube.schema"
   ]
  },
  {
   "cell_type": "markdown",
   "id": "475917f0",
   "metadata": {},
   "source": [
    "### Create random weight table"
   ]
  },
  {
   "cell_type": "code",
   "execution_count": null,
   "id": "83d63990",
   "metadata": {},
   "outputs": [],
   "source": [
    "weight_table = session.create_store(\n",
    "    types={\"stock\": tt.type.STRING, \"weight\": tt.type.NULLABLE_DOUBLE},\n",
    "    store_name=\"Weight\",\n",
    "    keys=[\"stock\"],\n",
    ")"
   ]
  },
  {
   "cell_type": "code",
   "execution_count": null,
   "id": "c522dbab",
   "metadata": {},
   "outputs": [],
   "source": [
    "returns_table.join(weight_table)\n",
    "cube.schema"
   ]
  },
  {
   "cell_type": "markdown",
   "id": "9cb46c77",
   "metadata": {},
   "source": [
    "### Creating the measure for weight"
   ]
  },
  {
   "cell_type": "code",
   "execution_count": null,
   "id": "00160185",
   "metadata": {},
   "outputs": [],
   "source": [
    "m[\"weight\"] = tt.agg.sum(weight_table[\"weight\"])\n",
    "m[\"weight\"].formatter = \"DOUBLE[#,###.00000]\""
   ]
  },
  {
   "cell_type": "markdown",
   "id": "a9f8001d",
   "metadata": {},
   "source": [
    "### Creating function to generate random weight for a given portfolio"
   ]
  },
  {
   "cell_type": "code",
   "execution_count": null,
   "id": "4e380bb5",
   "metadata": {},
   "outputs": [],
   "source": [
    "# it generates a random weight across the stocks, that sums up to 1\n",
    "# creates a scenario for the given weights\n",
    "\n",
    "def load_weights(scenario, selected_stocks):\n",
    "\n",
    "    k = np.random.rand(len(selected_stocks))\n",
    "\n",
    "    selected_stocks[\"weight\"] = k / sum(k)\n",
    "    selected_stocks.reset_index(inplace=True)\n",
    "\n",
    "    # load data into atoti cube as a scenario\n",
    "    weight_table.scenarios[scenario].load_pandas(selected_stocks[[\"stock\", \"weight\"]])"
   ]
  },
  {
   "cell_type": "markdown",
   "id": "7f5b8b1f",
   "metadata": {},
   "source": [
    "### Creating the initial weight\n",
    "Each call to the function will create a new scenario"
   ]
  },
  {
   "cell_type": "code",
   "execution_count": null,
   "id": "c6241b88",
   "metadata": {},
   "outputs": [],
   "source": [
    "# iterate the portfolio of n_stocks by n_weights (gives n_weights scenarios of different weight)\n",
    "def generate_portfolios(n_stocks, n_weights):\n",
    "    df_stocks = cube.query(m[\"contributors.COUNT\"], levels=[l[\"stock\"]])\n",
    "    selected_stocks = df_stocks.sample(n_stocks).copy()\n",
    "\n",
    "    for i in range(n_weights):\n",
    "        load_weights(f\"weight {i}\", selected_stocks)"
   ]
  },
  {
   "cell_type": "code",
   "execution_count": null,
   "id": "2d7ec5d3",
   "metadata": {},
   "outputs": [],
   "source": [
    "generate_portfolios(10, 3)"
   ]
  },
  {
   "cell_type": "code",
   "execution_count": null,
   "id": "c6fd8578",
   "metadata": {
    "atoti": {
     "height": 387,
     "widget": {
      "filters": [],
      "mapping": {
       "columns": [
        "ALL_MEASURES",
        "[Epoch].[Epoch].[Branch]"
       ],
       "measures": [
        "[Measures].[weight]"
       ],
       "rows": [
        "[Returns].[stock].[stock]"
       ]
      },
      "query": {
       "mdx": "SELECT NON EMPTY Hierarchize(Descendants({[Returns].[stock].[AllMember]}, 1, SELF_AND_BEFORE)) ON ROWS, NON EMPTY Crossjoin({[Measures].[weight]}, [Epoch].[Epoch].[Branch].Members) ON COLUMNS FROM [Return Cube]",
       "updateMode": "once"
      },
      "serverKey": "default",
      "widgetKey": "pivot-table"
     }
    }
   },
   "outputs": [],
   "source": [
    "session.visualize()"
   ]
  },
  {
   "cell_type": "markdown",
   "id": "92014b82",
   "metadata": {},
   "source": [
    "### Create sliding windows\n",
    "\n",
    "Create a sliding window of size 252. This could be modified using a measure simulation if needed."
   ]
  },
  {
   "cell_type": "code",
   "execution_count": null,
   "id": "b22edb18",
   "metadata": {},
   "outputs": [],
   "source": [
    "m[\"Lookback Window\"] = 252"
   ]
  },
  {
   "cell_type": "code",
   "execution_count": null,
   "id": "bad15752",
   "metadata": {},
   "outputs": [],
   "source": [
    "m[\"Returns sub-vector\"] = m[\"returns_vector.SUM\"][\n",
    "    m[\"Date Index\"] - m[\"Lookback Window\"] + 1 : m[\"Date Index\"] + 1\n",
    "]"
   ]
  },
  {
   "cell_type": "markdown",
   "id": "e11bd85b",
   "metadata": {},
   "source": [
    "### Computing the summ of the array"
   ]
  },
  {
   "cell_type": "code",
   "execution_count": null,
   "id": "0f626ab2",
   "metadata": {},
   "outputs": [],
   "source": [
    "m[\"p\"] = tt.array.mean(m[\"returns_vector.SUM\"])\n",
    "m[\"p\"].formatter = \"DOUBLE[#,###.0000000000]\""
   ]
  },
  {
   "cell_type": "markdown",
   "id": "ba5b0f53",
   "metadata": {},
   "source": [
    "The weighted average of the returns"
   ]
  },
  {
   "cell_type": "code",
   "execution_count": null,
   "id": "df77c818",
   "metadata": {},
   "outputs": [],
   "source": [
    "m[\"p sliding\"] = tt.agg.sum(\n",
    "    tt.array.sum(m[\"weight\"] * m[\"Returns sub-vector\"]),\n",
    "    scope=tt.scope.origin(l[\"stock\"]),\n",
    ")\n",
    "m[\"p sliding\"].formatter = \"DOUBLE[#,###.0000000000]\""
   ]
  },
  {
   "cell_type": "code",
   "execution_count": null,
   "id": "46ad4f27",
   "metadata": {
    "atoti": {
     "height": 439,
     "widget": {
      "filters": [],
      "mapping": {
       "columns": [
        "ALL_MEASURES",
        "[Epoch].[Epoch].[Branch]"
       ],
       "measures": [
        "[Measures].[p sliding]"
       ],
       "rows": [
        "[Dates].[Dates].[Dates] => [Returns].[stock].[stock]"
       ]
      },
      "query": {
       "mdx": "SELECT NON EMPTY Crossjoin({[Measures].[p sliding]}, [Epoch].[Epoch].[Branch].Members) ON COLUMNS, NON EMPTY Hierarchize(Union(Crossjoin(Descendants({[Dates].[Dates].[AllMember]}, 1, SELF_AND_BEFORE), [Returns].[stock].DefaultMember), Crossjoin([Dates].[Dates].[AllMember].[2020-12-24], Hierarchize(Descendants({[Returns].[stock].[AllMember]}, 1, SELF_AND_BEFORE))))) ON ROWS FROM [Return Cube]",
       "updateMode": "once"
      },
      "serverKey": "default",
      "widgetKey": "pivot-table"
     }
    }
   },
   "outputs": [],
   "source": [
    "session.visualize()"
   ]
  },
  {
   "cell_type": "markdown",
   "id": "31e52c3c",
   "metadata": {},
   "source": [
    "### Computing mu"
   ]
  },
  {
   "cell_type": "code",
   "execution_count": null,
   "id": "624e34d4",
   "metadata": {},
   "outputs": [],
   "source": [
    "m[\"mu\"] = m[\"weight\"] * m[\"p\"]\n",
    "m[\"mu\"].formatter = \"DOUBLE[#,###.00000]\""
   ]
  },
  {
   "cell_type": "code",
   "execution_count": null,
   "id": "24a64dac",
   "metadata": {},
   "outputs": [],
   "source": [
    "m[\"mu sliding\"] = tt.agg.sum(\n",
    "    m[\"weight\"] * m[\"p sliding\"], scope=tt.scope.origin(l[\"stock\"])\n",
    ")\n",
    "m[\"mu sliding\"].formatter = \"DOUBLE[#,###.00000]\""
   ]
  },
  {
   "cell_type": "markdown",
   "id": "18b35c4d",
   "metadata": {},
   "source": [
    "### Computing Standard Deviation\n",
    "\n",
    "We only compute the std for the stocks that has weights assigned."
   ]
  },
  {
   "cell_type": "code",
   "execution_count": null,
   "id": "8ad6e776",
   "metadata": {},
   "outputs": [],
   "source": [
    "m[\"Portfolio subvectors\"] = tt.agg.sum(\n",
    "    tt.where((m[\"weight\"] > 0) & (m[\"weight\"] < 1), m[\"Returns sub-vector\"]),\n",
    "    scope=tt.scope.origin(l[\"stock\"]),\n",
    ")"
   ]
  },
  {
   "cell_type": "code",
   "execution_count": null,
   "id": "b2ee89ce",
   "metadata": {},
   "outputs": [],
   "source": [
    "m[\"Std\"] = tt.array.std(m[\"returns_vector.SUM\"])\n",
    "m[\"Std\"].formatter = \"DOUBLE[#,###.00000]\""
   ]
  },
  {
   "cell_type": "code",
   "execution_count": null,
   "id": "3543190d",
   "metadata": {},
   "outputs": [],
   "source": [
    "m[\"std sliding\"] = tt.array.std(m[\"Portfolio subvectors\"])\n",
    "m[\"std sliding\"].formatter = \"DOUBLE[#,###.00000]\""
   ]
  },
  {
   "cell_type": "markdown",
   "id": "4b04eb93",
   "metadata": {
    "tags": []
   },
   "source": [
    "### Computing Sharpe Ratio"
   ]
  },
  {
   "cell_type": "code",
   "execution_count": null,
   "id": "307be7ab",
   "metadata": {},
   "outputs": [],
   "source": [
    "m[\"Sharpe Ratio\"] = m[\"mu sliding\"] / m[\"std sliding\"]\n",
    "m[\"Sharpe Ratio\"].formatter = \"DOUBLE[#,###.00000]\""
   ]
  },
  {
   "cell_type": "code",
   "execution_count": null,
   "id": "c131ce11",
   "metadata": {
    "atoti": {
     "widget": {
      "mapping": {
       "columns": [
        "[Epoch].[Epoch].[Branch]",
        "ALL_MEASURES"
       ],
       "measures": [
        "[Measures].[Sharpe Ratio]"
       ],
       "rows": [
        "[Dates].[Dates].[Dates]"
       ]
      },
      "plotly": {
       "data": {
        "commonTraceOverride": {
         "marker": {
          "size": 1
         }
        }
       },
       "layout": {
        "xaxis": {
         "title": "Dates"
        },
        "yaxis": {
         "title": "Sharpe Ratio"
        }
       }
      },
      "query": {
       "mdx": "SELECT NON EMPTY Hierarchize(Descendants({[Dates].[Dates].[AllMember]}, 1, SELF_AND_BEFORE)) ON ROWS, NON EMPTY Crossjoin([Epoch].[Epoch].[Branch].Members, {[Measures].[Sharpe Ratio]}) ON COLUMNS FROM [Return Cube]",
       "updateMode": "once"
      },
      "serverKey": "default",
      "switchedTo": "plotly-line-chart",
      "widgetKey": "pivot-table"
     }
    }
   },
   "outputs": [],
   "source": [
    "session.visualize()"
   ]
  },
  {
   "cell_type": "markdown",
   "id": "87d0c6ea",
   "metadata": {},
   "source": [
    "Compute the maximum Sharpe Ratio for each Weight scenario"
   ]
  },
  {
   "cell_type": "code",
   "execution_count": null,
   "id": "e9d0f29b",
   "metadata": {},
   "outputs": [],
   "source": [
    "m[\"Max Sharpe Ratio\"] = tt.where(\n",
    "    m[\"Sharpe Ratio\"] != None,\n",
    "    tt.total(\n",
    "        tt.agg.max(m[\"Sharpe Ratio\"], scope=tt.scope.origin(l[\"Dates\"])), h[\"Dates\"]\n",
    "    ),\n",
    ")\n",
    "\n",
    "m[\"Max Sharpe Ratio\"].formatter = \"DOUBLE[#,###.00000]\""
   ]
  },
  {
   "cell_type": "code",
   "execution_count": null,
   "id": "d2592905",
   "metadata": {
    "atoti": {
     "widget": {
      "mapping": {
       "horizontalSubplots": [],
       "splitBy": [
        "[Epoch].[Epoch].[Branch]",
        "ALL_MEASURES"
       ],
       "values": [
        "[Measures].[Sharpe Ratio]",
        "[Measures].[Max Sharpe Ratio]"
       ],
       "verticalSubplots": [],
       "xAxis": [
        "[Dates].[Dates].[Dates]"
       ]
      },
      "plotly": {
       "data": {
        "commonTraceOverride": {
         "marker": {
          "size": 1
         }
        }
       },
       "layout": {
        "xaxis": {
         "title": "Dates"
        },
        "yaxis": {
         "title": "Sharpe Ratio"
        }
       }
      },
      "query": {
       "mdx": "SELECT NON EMPTY Hierarchize(Descendants({[Dates].[Dates].[AllMember]}, 1, SELF_AND_BEFORE)) ON ROWS, NON EMPTY Crossjoin([Epoch].[Epoch].[Branch].Members, {[Measures].[Sharpe Ratio], [Measures].[Max Sharpe Ratio]}) ON COLUMNS FROM [Return Cube]",
       "updateMode": "once"
      },
      "serverKey": "default",
      "widgetKey": "plotly-line-chart"
     }
    }
   },
   "outputs": [],
   "source": [
    "session.visualize()"
   ]
  },
  {
   "cell_type": "code",
   "execution_count": null,
   "id": "0f5c5574",
   "metadata": {},
   "outputs": [],
   "source": [
    "m[\"Date max Sharpe\"] = tt.agg.max_member(m[\"Sharpe Ratio\"], l[\"Dates\"])"
   ]
  },
  {
   "cell_type": "markdown",
   "id": "2e64bf49",
   "metadata": {},
   "source": [
    "Based on the max Sharpe Ratio, select the needed weight"
   ]
  },
  {
   "cell_type": "code",
   "execution_count": null,
   "id": "9b5357f6",
   "metadata": {
    "atoti": {
     "widget": {
      "filters": [],
      "mapping": {
       "columns": [
        "ALL_MEASURES",
        "[Epoch].[Epoch].[Branch]"
       ],
       "measures": [
        "[Measures].[weight]"
       ],
       "rows": [
        "[Returns].[stock].[stock]"
       ]
      },
      "query": {
       "mdx": "SELECT NON EMPTY Crossjoin({[Measures].[weight]}, [Epoch].[Epoch].[Branch].Members) ON COLUMNS, NON EMPTY Hierarchize(Descendants({[Returns].[stock].[AllMember]}, 1, SELF_AND_BEFORE)) ON ROWS FROM [Return Cube]",
       "updateMode": "once"
      },
      "serverKey": "default",
      "widgetKey": "pivot-table"
     }
    }
   },
   "outputs": [],
   "source": [
    "session.visualize(\"Weight 0 simulation\")"
   ]
  },
  {
   "cell_type": "code",
   "execution_count": null,
   "id": "9783d346",
   "metadata": {},
   "outputs": [],
   "source": []
  },
  {
   "cell_type": "code",
   "execution_count": null,
   "id": "9f6ffb48",
   "metadata": {},
   "outputs": [],
   "source": []
  }
 ],
 "metadata": {
  "kernelspec": {
   "display_name": "Python 3 (ipykernel)",
   "language": "python",
   "name": "python3"
  },
  "language_info": {
   "codemirror_mode": {
    "name": "ipython",
    "version": 3
   },
   "file_extension": ".py",
   "mimetype": "text/x-python",
   "name": "python",
   "nbconvert_exporter": "python",
   "pygments_lexer": "ipython3",
   "version": "3.9.7"
  }
 },
 "nbformat": 4,
 "nbformat_minor": 5
}
