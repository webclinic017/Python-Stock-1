{
 "cells": [
  {
   "cell_type": "code",
   "execution_count": 1,
   "id": "9e87ad91",
   "metadata": {},
   "outputs": [],
   "source": [
    "# !pip install numpy matplotlib cvxopt pandas yfinance finquant plotly cufflinks chart_studio pandas_datareader atoti atoti-jupyterlab"
   ]
  },
  {
   "cell_type": "code",
   "execution_count": 2,
   "id": "62cc3386",
   "metadata": {},
   "outputs": [
    {
     "name": "stdout",
     "output_type": "stream",
     "text": [
      "Welcome to atoti 0.6.2!\n",
      "\n",
      "By using this community edition, you agree with the license available at https://docs.atoti.io/latest/eula.html.\n",
      "Browse the official documentation at https://docs.atoti.io.\n",
      "Join the community at https://www.atoti.io/register.\n",
      "\n",
      "atoti collects telemetry data, which is used to help understand how to improve the product.\n",
      "If you don't wish to send usage data, set the ATOTI_DISABLE_TELEMETRY environment variable to True.\n",
      "\n",
      "You can hide this message by setting the ATOTI_HIDE_EULA_MESSAGE environment variable to True.\n"
     ]
    }
   ],
   "source": [
    "%matplotlib inline\n",
    "import random\n",
    "\n",
    "import cvxopt as opt\n",
    "import matplotlib.pyplot as plt\n",
    "import numpy as np\n",
    "import pandas as pd\n",
    "import yfinance as yf\n",
    "from cvxopt import blas, solvers\n",
    "from finquant.portfolio import build_portfolio\n",
    "from scipy.optimize import minimize\n",
    "\n",
    "np.random.seed(123)\n",
    "\n",
    "# Turn off progress printing\n",
    "solvers.options[\"show_progress\"] = False\n",
    "import concurrent.futures\n",
    "import os\n",
    "import random\n",
    "import urllib\n",
    "import urllib.request\n",
    "from concurrent.futures import ALL_COMPLETED, wait\n",
    "\n",
    "import atoti as tt\n",
    "import cufflinks\n",
    "import numpy as np\n",
    "import pandas_market_calendars as mcal\n",
    "\n",
    "# (*) To communicate with Plotly's server, sign in with credentials file\n",
    "import plotly as py\n",
    "\n",
    "# (*) Useful Python/Plotly tools\n",
    "import plotly.tools as tls\n",
    "\n",
    "# (*) Graph objects to piece together plots\n",
    "from plotly.graph_objs import *"
   ]
  },
  {
   "cell_type": "code",
   "execution_count": 3,
   "id": "ed0874e2",
   "metadata": {},
   "outputs": [],
   "source": [
    "# ndays = 252*10+7\n",
    "ndays = 252 * 1.5 + 7\n",
    "# ~training\n",
    "dback = 252\n",
    "# ~forecast\n",
    "dahead = 20\n",
    "# sample size\n",
    "# if to randomize\n",
    "rand = True\n",
    "nran = 20\n",
    "nstocks = 100\n",
    "# this should match tbill 20, 91, 126, 252\n",
    "\n",
    "end = pd.Timestamp.utcnow()\n",
    "start = end - int(ndays) * pd.tseries.offsets.BDay()\n",
    "one_week_end = end - int(ndays - 7) * pd.tseries.offsets.BDay()\n",
    "one_week_end = one_week_end.strftime(\"%Y-%m-%d\")\n",
    "start = start.strftime(\"%Y-%m-%d\")\n",
    "end = end.strftime(\"%Y-%m-%d\")"
   ]
  },
  {
   "cell_type": "code",
   "execution_count": 4,
   "id": "127d6c62",
   "metadata": {},
   "outputs": [],
   "source": [
    "# pd.tseries.offsets.BDay(100)\n",
    "nyse = mcal.get_calendar(\"NYSE\")\n",
    "\n",
    "# Show available calendars\n",
    "# print(mcal.get_calendar_names())\n",
    "tradingDays = list(\n",
    "    nyse.schedule(start_date=start, end_date=end).index.strftime(\"%Y-%m-%d\")\n",
    ")"
   ]
  },
  {
   "cell_type": "code",
   "execution_count": null,
   "id": "e9f3778f-5209-406f-8c78-e7749e3582ce",
   "metadata": {},
   "outputs": [],
   "source": []
  },
  {
   "cell_type": "code",
   "execution_count": 5,
   "id": "852dceca",
   "metadata": {},
   "outputs": [],
   "source": [
    "def rand_weights(n):\n",
    "    \"\"\" Produces n random weights that sum to 1 \"\"\"\n",
    "    k = np.random.rand(n)\n",
    "    return k / sum(k)\n",
    "\n",
    "\n",
    "def weighted_return(returns, weights):\n",
    "    w = weights\n",
    "\n",
    "    p = np.asmatrix(np.mean(returns, axis=0))\n",
    "\n",
    "    mu = np.asmatrix(w) * p.T\n",
    "    return mu\n",
    "\n",
    "\n",
    "def random_portfolio(returns):\n",
    "\n",
    "    w = rand_weights(len(pd.DataFrame(returns).columns))\n",
    "\n",
    "    p = np.asmatrix(np.mean(returns, axis=0))\n",
    "\n",
    "    C = np.array(pd.DataFrame(returns).cov().values)\n",
    "\n",
    "    mu = np.asmatrix(w) * p.T\n",
    "    sigma = np.sqrt(np.asmatrix(w) * C * np.asmatrix(w).T)\n",
    "\n",
    "    sharpe = mu / sigma\n",
    "\n",
    "    return np.float(mu), np.float(sigma), np.float(sharpe), np.array(w, dtype=object)\n",
    "\n",
    "\n",
    "def unique(list1):\n",
    "\n",
    "    # intilize a null list\n",
    "    unique_list = []\n",
    "\n",
    "    # traverse for all elements\n",
    "    for x in list1:\n",
    "        # check if exists in unique_list or not\n",
    "        if x not in unique_list:\n",
    "            unique_list.append(x)\n",
    "\n",
    "    return unique_list\n",
    "\n",
    "\n",
    "def split_sequences(sequences, n_steps_in, n_steps_out):\n",
    "\n",
    "    X, y = list(), list()\n",
    "    for i in range(len(sequences)):\n",
    "        # find the end of this pattern\n",
    "        end_ix = i + n_steps_in\n",
    "        out_end_ix = end_ix + n_steps_out\n",
    "        # check if we are beyond the dataset\n",
    "        if out_end_ix > len(sequences):\n",
    "            break\n",
    "        # gather input and output parts of the pattern\n",
    "        seq_x, seq_y = sequences[i:end_ix, :], sequences[end_ix:out_end_ix, :]\n",
    "        X.append(seq_x)\n",
    "        y.append(seq_y)\n",
    "\n",
    "    return np.array(X), np.array(y)"
   ]
  },
  {
   "cell_type": "code",
   "execution_count": 6,
   "id": "3237d7ae",
   "metadata": {},
   "outputs": [],
   "source": [
    "url = \"ftp://ftp.nasdaqtrader.com/symboldirectory/nasdaqtraded.txt\"\n",
    "\n",
    "urllib.request.urlretrieve(url, \"nasdaqtraded.txt\")\n",
    "urllib.request.urlretrieve(url, \"mfundslist.txt\")\n",
    "urllib.request.urlretrieve(url, \"bonds.txt\")\n",
    "\n",
    "df1 = pd.read_csv(\"nasdaqtraded.txt\", sep=\"|\")[0:-1]\n",
    "df2 = pd.read_csv(\"mfundslist.txt\", sep=\"|\")[0:-1]\n",
    "df3 = pd.read_csv(\"bonds.txt\", sep=\"|\")[0:-1]\n",
    "\n",
    "# combined = pd.concat([df1['Symbol'],df2['Symbol'],df3['Symbol']],axis=0)\n",
    "\n",
    "# process symbols for bad characters\n",
    "BAD_CHARS = [\"$\", \".\"]\n",
    "# pat = '|'.join(['({})'.format(re.escape(c)) for c in BAD_CHARS])\n",
    "# cleaned = unique(combined.replace(BAD_CHARS,'-'))\n",
    "\n",
    "# choose size\n",
    "size = nstocks\n",
    "# stocks = list(df1[\"Symbol\"].sample(n=int(size/3)))\n",
    "stocks = list(\n",
    "    df1[\"Symbol\"]\n",
    "    .replace(\".\", \"-\")\n",
    "    .replace(\"\\\\$\", \"-P\", regex=True)\n",
    "    .sample(n=int(size / 3))\n",
    ")\n",
    "mfunds = list(\n",
    "    df2[\"Symbol\"]\n",
    "    .replace(\".\", \"-\")\n",
    "    .replace(\"\\\\$\", \"-P\", regex=True)\n",
    "    .sample(n=int(size / 3))\n",
    ")\n",
    "bonds = list(\n",
    "    df3[\"Symbol\"]\n",
    "    .replace(\".\", \"-\")\n",
    "    .replace(\"\\\\$\", \"-P\", regex=True)\n",
    "    .sample(n=int(size / 3))\n",
    ")\n",
    "symbols = list(set(stocks + mfunds + bonds))  # unique(stocks + mfunds + bonds)\n",
    "# symbols = unique(stocks)"
   ]
  },
  {
   "cell_type": "code",
   "execution_count": 7,
   "id": "1c0d1a28",
   "metadata": {},
   "outputs": [
    {
     "name": "stdout",
     "output_type": "stream",
     "text": [
      "2020-05-13 2020-05-22\n"
     ]
    }
   ],
   "source": [
    "print(start, one_week_end)"
   ]
  },
  {
   "cell_type": "code",
   "execution_count": 8,
   "id": "0cf68126",
   "metadata": {},
   "outputs": [
    {
     "name": "stdout",
     "output_type": "stream",
     "text": [
      "[*********************100%***********************]  99 of 99 completed\n",
      "\n",
      "22 Failed downloads:\n",
      "- CLSM: Data doesn't exist for startDate = 1589346000, endDate = 1590123600\n",
      "- TRTL.U: No data found, symbol may be delisted\n",
      "- HVAL: Data doesn't exist for startDate = 1589346000, endDate = 1590123600\n",
      "- PAMC: Data doesn't exist for startDate = 1589346000, endDate = 1590123600\n",
      "- PFUT: Data doesn't exist for startDate = 1589346000, endDate = 1590123600\n",
      "- ENFA: Data doesn't exist for startDate = 1589346000, endDate = 1590123600\n",
      "- WE: Data doesn't exist for startDate = 1589346000, endDate = 1590123600\n",
      "- AKICU: Data doesn't exist for startDate = 1589346000, endDate = 1590123600\n",
      "- FACT: Data doesn't exist for startDate = 1589346000, endDate = 1590123600\n",
      "- JWSM.U: No data found, symbol may be delisted\n",
      "- GIWWW: No data found for this date range, symbol may be delisted\n",
      "- PSTH: Data doesn't exist for startDate = 1589346000, endDate = 1590123600\n",
      "- BWACW: No data found for this date range, symbol may be delisted\n",
      "- GHLD: Data doesn't exist for startDate = 1589346000, endDate = 1590123600\n",
      "- EACPU: Data doesn't exist for startDate = 1589346000, endDate = 1590123600\n",
      "- TMC: Data doesn't exist for startDate = 1589346000, endDate = 1590123600\n",
      "- FMIV: Data doesn't exist for startDate = 1589346000, endDate = 1590123600\n",
      "- ENERU: Data doesn't exist for startDate = 1589346000, endDate = 1590123600\n",
      "- LJAQ: Data doesn't exist for startDate = 1589346000, endDate = 1590123600\n",
      "- SNRHW: No data found for this date range, symbol may be delisted\n",
      "- HLAHU: Data doesn't exist for startDate = 1589346000, endDate = 1590123600\n",
      "- COIN: Data doesn't exist for startDate = 1589346000, endDate = 1590123600\n"
     ]
    }
   ],
   "source": [
    "pf_pre = build_portfolio(\n",
    "    names=symbols, start_date=start, end_date=one_week_end, data_api=\"yfinance\"\n",
    ")"
   ]
  },
  {
   "cell_type": "code",
   "execution_count": 9,
   "id": "802e610b",
   "metadata": {},
   "outputs": [],
   "source": [
    "vetted_symbols = list(\n",
    "    pf_pre.data.loc[\n",
    "        (np.intersect1d(list(pf_pre.data.index.strftime(\"%Y-%m-%d\")), tradingDays))\n",
    "    ]\n",
    "    .head(-1)\n",
    "    .tail(-1)\n",
    "    .dropna(axis=1)\n",
    "    .columns\n",
    ")"
   ]
  },
  {
   "cell_type": "code",
   "execution_count": 10,
   "id": "c298590e",
   "metadata": {},
   "outputs": [
    {
     "name": "stdout",
     "output_type": "stream",
     "text": [
      "[*********************100%***********************]  77 of 77 completed\n"
     ]
    }
   ],
   "source": [
    "# combinedList = unique(list(np.append(random.sample(symbols_sp500,int(len(symbols_sp500)*.05)),np.append(random.sample(dividendAristocraft,int(len(dividendAristocraft)*.25)),np.append(top10,random.sample(symbols_ns100,int(len(symbols_ns100)*.25)))))))\n",
    "\n",
    "# add index\n",
    "# vetted_symbols.append('TQQQ')\n",
    "\n",
    "pf = build_portfolio(\n",
    "    names=list(vetted_symbols), start_date=start, end_date=end, data_api=\"yfinance\"\n",
    ")"
   ]
  },
  {
   "cell_type": "code",
   "execution_count": 11,
   "id": "a14f19da",
   "metadata": {},
   "outputs": [],
   "source": [
    "\"\"\"\n",
    "import pandas_datareader.data as web\n",
    "\n",
    "import datetime\n",
    "\n",
    "# Multiple series:\n",
    "fred_data = web.DataReader(FRED_Indicators, 'fred', start, end)\n",
    "\"\"\"\n",
    "\n",
    "FRED_Indicators = [\"DTB4WK\", \"DTB3\", \"DTB6\", \"DTB1YR\"]\n",
    "\n",
    "import pandas_datareader.data as web\n",
    "\n",
    "\n",
    "def Fred_Data(name):\n",
    "    temp = web.DataReader(str(name), \"fred\", start, end)\n",
    "    temp.index = pd.to_datetime(temp.index)\n",
    "    # temp = temp.resample(frequency).mean().dropna()\n",
    "    return temp\n",
    "\n",
    "\n",
    "FRED_set = []\n",
    "FRED_completed = []\n",
    "for i in FRED_Indicators:\n",
    "    FRED_completed.append(i)\n",
    "    FRED_set.append(Fred_Data(i))\n",
    "\n",
    "FRED_pvt = pd.DataFrame()\n",
    "\n",
    "for x in range(0, len(FRED_completed)):\n",
    "    values = FRED_set[x]\n",
    "    values = values.loc[~values.index.duplicated(keep=\"last\")]\n",
    "\n",
    "    FRED_pvt = pd.concat([FRED_pvt, values], axis=1)"
   ]
  },
  {
   "cell_type": "code",
   "execution_count": null,
   "id": "e13d8714",
   "metadata": {},
   "outputs": [],
   "source": []
  },
  {
   "cell_type": "code",
   "execution_count": 12,
   "id": "cf86df8a",
   "metadata": {},
   "outputs": [
    {
     "data": {
      "text/plain": [
       "77"
      ]
     },
     "execution_count": 12,
     "metadata": {},
     "output_type": "execute_result"
    }
   ],
   "source": [
    "returns = np.log(\n",
    "    1\n",
    "    + pf.data.loc[\n",
    "        (np.intersect1d(list(pf.data.index.strftime(\"%Y-%m-%d\")), tradingDays))\n",
    "    ]\n",
    "    .head(-1)\n",
    "    .interpolate(method=\"time\")\n",
    "    .pct_change()\n",
    "    .tail(-1)\n",
    ")\n",
    "returns = returns.dropna(axis=1)\n",
    "# returns.columns = stocks.dropna(axis=1)\n",
    "len(returns.columns)\n",
    "# np.sum(returns.isin([np.inf, -np.inf, np.NaN])).sort_values(kind=\"quicksort\", ascending=True)"
   ]
  },
  {
   "cell_type": "code",
   "execution_count": 13,
   "id": "8cef60ed",
   "metadata": {},
   "outputs": [],
   "source": [
    "selectedmfunds = set(mfunds) & set(returns.columns)\n",
    "selectedstocks = set(stocks) & set(returns.columns)\n",
    "selectedbonds = set(bonds) & set(returns.columns)"
   ]
  },
  {
   "cell_type": "code",
   "execution_count": 14,
   "id": "c61f091c",
   "metadata": {},
   "outputs": [],
   "source": [
    "n_steps_in = dback\n",
    "\n",
    "n_steps_out = dahead\n",
    "\n",
    "Training, Holdout = split_sequences(\n",
    "    np.array(pd.DataFrame(returns.index.strftime(\"%Y-%m-%d\"))), n_steps_in, n_steps_out\n",
    ")"
   ]
  },
  {
   "cell_type": "code",
   "execution_count": null,
   "id": "62b38eb5",
   "metadata": {},
   "outputs": [],
   "source": []
  },
  {
   "cell_type": "code",
   "execution_count": null,
   "id": "e981fd15",
   "metadata": {},
   "outputs": [],
   "source": []
  },
  {
   "cell_type": "code",
   "execution_count": 15,
   "id": "118df51b",
   "metadata": {},
   "outputs": [],
   "source": [
    "randomSet = list(np.sort(np.random.choice(range(0, len(Training)), nran)))\n",
    "\n",
    "randomsymbols = list(np.random.choice(pf.data.columns, 10, replace=False))\n",
    "\n",
    "# random columns\n",
    "stocks = returns.loc[[i[0] for i in Training[randomSet[1]]]][randomsymbols]\n",
    "\n",
    "\"\"\"\n",
    "returns_table = session.read_csv(\n",
    "    \"returns.csv\", keys=[\"stock\"], store_name=\"Returns\", array_sep=\";\"\n",
    ")\n",
    "\n",
    "returns_table.head()\n",
    "\"\"\"\n",
    "return_vec = np.array(stocks)"
   ]
  },
  {
   "cell_type": "code",
   "execution_count": 16,
   "id": "117429b0",
   "metadata": {},
   "outputs": [
    {
     "data": {
      "text/html": [
       "<div>\n",
       "<style scoped>\n",
       "    .dataframe tbody tr th:only-of-type {\n",
       "        vertical-align: middle;\n",
       "    }\n",
       "\n",
       "    .dataframe tbody tr th {\n",
       "        vertical-align: top;\n",
       "    }\n",
       "\n",
       "    .dataframe thead th {\n",
       "        text-align: right;\n",
       "    }\n",
       "</style>\n",
       "<table border=\"1\" class=\"dataframe\">\n",
       "  <thead>\n",
       "    <tr style=\"text-align: right;\">\n",
       "      <th></th>\n",
       "      <th>RDNT</th>\n",
       "      <th>FLOT</th>\n",
       "      <th>AIZ</th>\n",
       "      <th>IMCV</th>\n",
       "      <th>BDL</th>\n",
       "      <th>ARI</th>\n",
       "      <th>DTP</th>\n",
       "      <th>CSBR</th>\n",
       "      <th>NDRA</th>\n",
       "      <th>FTXG</th>\n",
       "    </tr>\n",
       "    <tr>\n",
       "      <th>Date</th>\n",
       "      <th></th>\n",
       "      <th></th>\n",
       "      <th></th>\n",
       "      <th></th>\n",
       "      <th></th>\n",
       "      <th></th>\n",
       "      <th></th>\n",
       "      <th></th>\n",
       "      <th></th>\n",
       "      <th></th>\n",
       "    </tr>\n",
       "  </thead>\n",
       "  <tbody>\n",
       "    <tr>\n",
       "      <th>2020-05-21</th>\n",
       "      <td>-0.004951</td>\n",
       "      <td>0.000199</td>\n",
       "      <td>0.001485</td>\n",
       "      <td>-0.003948</td>\n",
       "      <td>-0.057417</td>\n",
       "      <td>0.002469</td>\n",
       "      <td>-0.012764</td>\n",
       "      <td>-0.008791</td>\n",
       "      <td>0.014205</td>\n",
       "      <td>-0.004443</td>\n",
       "    </tr>\n",
       "    <tr>\n",
       "      <th>2020-05-22</th>\n",
       "      <td>0.004951</td>\n",
       "      <td>-0.000199</td>\n",
       "      <td>0.009117</td>\n",
       "      <td>-0.002781</td>\n",
       "      <td>-0.002660</td>\n",
       "      <td>0.019537</td>\n",
       "      <td>0.008854</td>\n",
       "      <td>0.020754</td>\n",
       "      <td>0.108177</td>\n",
       "      <td>0.000000</td>\n",
       "    </tr>\n",
       "    <tr>\n",
       "      <th>2020-05-26</th>\n",
       "      <td>0.031458</td>\n",
       "      <td>0.000399</td>\n",
       "      <td>0.014300</td>\n",
       "      <td>0.039957</td>\n",
       "      <td>0.068815</td>\n",
       "      <td>0.032126</td>\n",
       "      <td>0.016513</td>\n",
       "      <td>0.026668</td>\n",
       "      <td>0.061369</td>\n",
       "      <td>0.003214</td>\n",
       "    </tr>\n",
       "    <tr>\n",
       "      <th>2020-05-27</th>\n",
       "      <td>0.035945</td>\n",
       "      <td>0.000797</td>\n",
       "      <td>0.014865</td>\n",
       "      <td>0.033023</td>\n",
       "      <td>0.003722</td>\n",
       "      <td>0.018562</td>\n",
       "      <td>0.009826</td>\n",
       "      <td>-0.002108</td>\n",
       "      <td>0.040822</td>\n",
       "      <td>0.015652</td>\n",
       "    </tr>\n",
       "    <tr>\n",
       "      <th>2020-05-28</th>\n",
       "      <td>-0.044995</td>\n",
       "      <td>0.000995</td>\n",
       "      <td>-0.008467</td>\n",
       "      <td>-0.014463</td>\n",
       "      <td>0.015361</td>\n",
       "      <td>-0.029157</td>\n",
       "      <td>0.014443</td>\n",
       "      <td>-0.037619</td>\n",
       "      <td>0.016998</td>\n",
       "      <td>0.010213</td>\n",
       "    </tr>\n",
       "    <tr>\n",
       "      <th>...</th>\n",
       "      <td>...</td>\n",
       "      <td>...</td>\n",
       "      <td>...</td>\n",
       "      <td>...</td>\n",
       "      <td>...</td>\n",
       "      <td>...</td>\n",
       "      <td>...</td>\n",
       "      <td>...</td>\n",
       "      <td>...</td>\n",
       "      <td>...</td>\n",
       "    </tr>\n",
       "    <tr>\n",
       "      <th>2021-05-14</th>\n",
       "      <td>0.002128</td>\n",
       "      <td>0.000000</td>\n",
       "      <td>0.012043</td>\n",
       "      <td>0.016435</td>\n",
       "      <td>0.019759</td>\n",
       "      <td>0.017923</td>\n",
       "      <td>0.003501</td>\n",
       "      <td>0.051569</td>\n",
       "      <td>0.034743</td>\n",
       "      <td>0.008318</td>\n",
       "    </tr>\n",
       "    <tr>\n",
       "      <th>2021-05-17</th>\n",
       "      <td>-0.005543</td>\n",
       "      <td>0.000000</td>\n",
       "      <td>0.002663</td>\n",
       "      <td>0.002586</td>\n",
       "      <td>0.000000</td>\n",
       "      <td>0.000000</td>\n",
       "      <td>0.002559</td>\n",
       "      <td>0.029915</td>\n",
       "      <td>-0.034743</td>\n",
       "      <td>-0.006421</td>\n",
       "    </tr>\n",
       "    <tr>\n",
       "      <th>2021-05-18</th>\n",
       "      <td>0.090284</td>\n",
       "      <td>0.000590</td>\n",
       "      <td>-0.018291</td>\n",
       "      <td>-0.009159</td>\n",
       "      <td>0.010381</td>\n",
       "      <td>-0.016584</td>\n",
       "      <td>-0.019791</td>\n",
       "      <td>0.006079</td>\n",
       "      <td>0.091630</td>\n",
       "      <td>-0.009901</td>\n",
       "    </tr>\n",
       "    <tr>\n",
       "      <th>2021-05-19</th>\n",
       "      <td>-0.009814</td>\n",
       "      <td>-0.000197</td>\n",
       "      <td>-0.010449</td>\n",
       "      <td>-0.010328</td>\n",
       "      <td>0.010274</td>\n",
       "      <td>0.006667</td>\n",
       "      <td>0.005122</td>\n",
       "      <td>-0.033902</td>\n",
       "      <td>0.045053</td>\n",
       "      <td>-0.006912</td>\n",
       "    </tr>\n",
       "    <tr>\n",
       "      <th>2021-05-20</th>\n",
       "      <td>0.011765</td>\n",
       "      <td>0.000394</td>\n",
       "      <td>-0.000828</td>\n",
       "      <td>0.006179</td>\n",
       "      <td>0.023986</td>\n",
       "      <td>0.021040</td>\n",
       "      <td>0.006659</td>\n",
       "      <td>0.025788</td>\n",
       "      <td>-0.004415</td>\n",
       "      <td>0.005802</td>\n",
       "    </tr>\n",
       "  </tbody>\n",
       "</table>\n",
       "<p>252 rows × 10 columns</p>\n",
       "</div>"
      ],
      "text/plain": [
       "                RDNT      FLOT       AIZ      IMCV       BDL       ARI  \\\n",
       "Date                                                                     \n",
       "2020-05-21 -0.004951  0.000199  0.001485 -0.003948 -0.057417  0.002469   \n",
       "2020-05-22  0.004951 -0.000199  0.009117 -0.002781 -0.002660  0.019537   \n",
       "2020-05-26  0.031458  0.000399  0.014300  0.039957  0.068815  0.032126   \n",
       "2020-05-27  0.035945  0.000797  0.014865  0.033023  0.003722  0.018562   \n",
       "2020-05-28 -0.044995  0.000995 -0.008467 -0.014463  0.015361 -0.029157   \n",
       "...              ...       ...       ...       ...       ...       ...   \n",
       "2021-05-14  0.002128  0.000000  0.012043  0.016435  0.019759  0.017923   \n",
       "2021-05-17 -0.005543  0.000000  0.002663  0.002586  0.000000  0.000000   \n",
       "2021-05-18  0.090284  0.000590 -0.018291 -0.009159  0.010381 -0.016584   \n",
       "2021-05-19 -0.009814 -0.000197 -0.010449 -0.010328  0.010274  0.006667   \n",
       "2021-05-20  0.011765  0.000394 -0.000828  0.006179  0.023986  0.021040   \n",
       "\n",
       "                 DTP      CSBR      NDRA      FTXG  \n",
       "Date                                                \n",
       "2020-05-21 -0.012764 -0.008791  0.014205 -0.004443  \n",
       "2020-05-22  0.008854  0.020754  0.108177  0.000000  \n",
       "2020-05-26  0.016513  0.026668  0.061369  0.003214  \n",
       "2020-05-27  0.009826 -0.002108  0.040822  0.015652  \n",
       "2020-05-28  0.014443 -0.037619  0.016998  0.010213  \n",
       "...              ...       ...       ...       ...  \n",
       "2021-05-14  0.003501  0.051569  0.034743  0.008318  \n",
       "2021-05-17  0.002559  0.029915 -0.034743 -0.006421  \n",
       "2021-05-18 -0.019791  0.006079  0.091630 -0.009901  \n",
       "2021-05-19  0.005122 -0.033902  0.045053 -0.006912  \n",
       "2021-05-20  0.006659  0.025788 -0.004415  0.005802  \n",
       "\n",
       "[252 rows x 10 columns]"
      ]
     },
     "execution_count": 16,
     "metadata": {},
     "output_type": "execute_result"
    }
   ],
   "source": [
    "stocks[randomsymbols]"
   ]
  },
  {
   "cell_type": "code",
   "execution_count": 17,
   "id": "023d7d90",
   "metadata": {},
   "outputs": [],
   "source": [
    "# data = pd.DataFrame()\n",
    "# for i in randomsymbols:\n",
    "#     data = pd.concat([pd.DataFrame({i: [stocks[i].values]}), data], axis=1)"
   ]
  },
  {
   "cell_type": "code",
   "execution_count": 18,
   "id": "6fcb3c96",
   "metadata": {},
   "outputs": [],
   "source": [
    "# data.transpose()"
   ]
  },
  {
   "cell_type": "markdown",
   "id": "ec7ac0d7",
   "metadata": {},
   "source": [
    "### Converting daily returns into list"
   ]
  },
  {
   "cell_type": "code",
   "execution_count": 19,
   "id": "c1226255",
   "metadata": {},
   "outputs": [
    {
     "data": {
      "text/html": [
       "<div>\n",
       "<style scoped>\n",
       "    .dataframe tbody tr th:only-of-type {\n",
       "        vertical-align: middle;\n",
       "    }\n",
       "\n",
       "    .dataframe tbody tr th {\n",
       "        vertical-align: top;\n",
       "    }\n",
       "\n",
       "    .dataframe thead th {\n",
       "        text-align: right;\n",
       "    }\n",
       "</style>\n",
       "<table border=\"1\" class=\"dataframe\">\n",
       "  <thead>\n",
       "    <tr style=\"text-align: right;\">\n",
       "      <th>Date</th>\n",
       "      <th>2020-05-21</th>\n",
       "      <th>2020-05-22</th>\n",
       "      <th>2020-05-26</th>\n",
       "      <th>2020-05-27</th>\n",
       "      <th>2020-05-28</th>\n",
       "      <th>2020-05-29</th>\n",
       "      <th>2020-06-01</th>\n",
       "      <th>2020-06-02</th>\n",
       "      <th>2020-06-03</th>\n",
       "      <th>2020-06-04</th>\n",
       "      <th>...</th>\n",
       "      <th>2021-05-07</th>\n",
       "      <th>2021-05-10</th>\n",
       "      <th>2021-05-11</th>\n",
       "      <th>2021-05-12</th>\n",
       "      <th>2021-05-13</th>\n",
       "      <th>2021-05-14</th>\n",
       "      <th>2021-05-17</th>\n",
       "      <th>2021-05-18</th>\n",
       "      <th>2021-05-19</th>\n",
       "      <th>2021-05-20</th>\n",
       "    </tr>\n",
       "  </thead>\n",
       "  <tbody>\n",
       "    <tr>\n",
       "      <th>RDNT</th>\n",
       "      <td>-0.004951</td>\n",
       "      <td>0.004951</td>\n",
       "      <td>0.031458</td>\n",
       "      <td>0.035945</td>\n",
       "      <td>-0.044995</td>\n",
       "      <td>-0.032335</td>\n",
       "      <td>-0.006476</td>\n",
       "      <td>0.003538</td>\n",
       "      <td>0.018659</td>\n",
       "      <td>0.002884</td>\n",
       "      <td>...</td>\n",
       "      <td>0.015155</td>\n",
       "      <td>-0.020404</td>\n",
       "      <td>0.049625</td>\n",
       "      <td>-0.038720</td>\n",
       "      <td>0.018057</td>\n",
       "      <td>0.002128</td>\n",
       "      <td>-0.005543</td>\n",
       "      <td>0.090284</td>\n",
       "      <td>-0.009814</td>\n",
       "      <td>0.011765</td>\n",
       "    </tr>\n",
       "    <tr>\n",
       "      <th>FLOT</th>\n",
       "      <td>0.000199</td>\n",
       "      <td>-0.000199</td>\n",
       "      <td>0.000399</td>\n",
       "      <td>0.000797</td>\n",
       "      <td>0.000995</td>\n",
       "      <td>-0.000199</td>\n",
       "      <td>0.001135</td>\n",
       "      <td>0.000796</td>\n",
       "      <td>-0.001193</td>\n",
       "      <td>0.001790</td>\n",
       "      <td>...</td>\n",
       "      <td>0.000000</td>\n",
       "      <td>0.000394</td>\n",
       "      <td>0.000000</td>\n",
       "      <td>0.000197</td>\n",
       "      <td>0.000197</td>\n",
       "      <td>0.000000</td>\n",
       "      <td>0.000000</td>\n",
       "      <td>0.000590</td>\n",
       "      <td>-0.000197</td>\n",
       "      <td>0.000394</td>\n",
       "    </tr>\n",
       "    <tr>\n",
       "      <th>AIZ</th>\n",
       "      <td>0.001485</td>\n",
       "      <td>0.009117</td>\n",
       "      <td>0.014300</td>\n",
       "      <td>0.014865</td>\n",
       "      <td>-0.008467</td>\n",
       "      <td>-0.008832</td>\n",
       "      <td>0.004668</td>\n",
       "      <td>0.010425</td>\n",
       "      <td>0.039538</td>\n",
       "      <td>0.018745</td>\n",
       "      <td>...</td>\n",
       "      <td>-0.007254</td>\n",
       "      <td>-0.004678</td>\n",
       "      <td>-0.023979</td>\n",
       "      <td>0.001024</td>\n",
       "      <td>0.018820</td>\n",
       "      <td>0.012043</td>\n",
       "      <td>0.002663</td>\n",
       "      <td>-0.018291</td>\n",
       "      <td>-0.010449</td>\n",
       "      <td>-0.000828</td>\n",
       "    </tr>\n",
       "    <tr>\n",
       "      <th>IMCV</th>\n",
       "      <td>-0.003948</td>\n",
       "      <td>-0.002781</td>\n",
       "      <td>0.039957</td>\n",
       "      <td>0.033023</td>\n",
       "      <td>-0.014463</td>\n",
       "      <td>-0.006629</td>\n",
       "      <td>0.016058</td>\n",
       "      <td>0.013472</td>\n",
       "      <td>0.032004</td>\n",
       "      <td>0.015032</td>\n",
       "      <td>...</td>\n",
       "      <td>0.013861</td>\n",
       "      <td>-0.000303</td>\n",
       "      <td>-0.014632</td>\n",
       "      <td>-0.022201</td>\n",
       "      <td>0.013565</td>\n",
       "      <td>0.016435</td>\n",
       "      <td>0.002586</td>\n",
       "      <td>-0.009159</td>\n",
       "      <td>-0.010328</td>\n",
       "      <td>0.006179</td>\n",
       "    </tr>\n",
       "    <tr>\n",
       "      <th>BDL</th>\n",
       "      <td>-0.057417</td>\n",
       "      <td>-0.002660</td>\n",
       "      <td>0.068815</td>\n",
       "      <td>0.003722</td>\n",
       "      <td>0.015361</td>\n",
       "      <td>0.000000</td>\n",
       "      <td>0.018726</td>\n",
       "      <td>0.053027</td>\n",
       "      <td>0.035678</td>\n",
       "      <td>-0.000548</td>\n",
       "      <td>...</td>\n",
       "      <td>0.000000</td>\n",
       "      <td>-0.000840</td>\n",
       "      <td>-0.050409</td>\n",
       "      <td>0.006167</td>\n",
       "      <td>-0.009709</td>\n",
       "      <td>0.019759</td>\n",
       "      <td>0.000000</td>\n",
       "      <td>0.010381</td>\n",
       "      <td>0.010274</td>\n",
       "      <td>0.023986</td>\n",
       "    </tr>\n",
       "  </tbody>\n",
       "</table>\n",
       "<p>5 rows × 252 columns</p>\n",
       "</div>"
      ],
      "text/plain": [
       "Date  2020-05-21  2020-05-22  2020-05-26  2020-05-27  2020-05-28  2020-05-29  \\\n",
       "RDNT   -0.004951    0.004951    0.031458    0.035945   -0.044995   -0.032335   \n",
       "FLOT    0.000199   -0.000199    0.000399    0.000797    0.000995   -0.000199   \n",
       "AIZ     0.001485    0.009117    0.014300    0.014865   -0.008467   -0.008832   \n",
       "IMCV   -0.003948   -0.002781    0.039957    0.033023   -0.014463   -0.006629   \n",
       "BDL    -0.057417   -0.002660    0.068815    0.003722    0.015361    0.000000   \n",
       "\n",
       "Date  2020-06-01  2020-06-02  2020-06-03  2020-06-04  ...  2021-05-07  \\\n",
       "RDNT   -0.006476    0.003538    0.018659    0.002884  ...    0.015155   \n",
       "FLOT    0.001135    0.000796   -0.001193    0.001790  ...    0.000000   \n",
       "AIZ     0.004668    0.010425    0.039538    0.018745  ...   -0.007254   \n",
       "IMCV    0.016058    0.013472    0.032004    0.015032  ...    0.013861   \n",
       "BDL     0.018726    0.053027    0.035678   -0.000548  ...    0.000000   \n",
       "\n",
       "Date  2021-05-10  2021-05-11  2021-05-12  2021-05-13  2021-05-14  2021-05-17  \\\n",
       "RDNT   -0.020404    0.049625   -0.038720    0.018057    0.002128   -0.005543   \n",
       "FLOT    0.000394    0.000000    0.000197    0.000197    0.000000    0.000000   \n",
       "AIZ    -0.004678   -0.023979    0.001024    0.018820    0.012043    0.002663   \n",
       "IMCV   -0.000303   -0.014632   -0.022201    0.013565    0.016435    0.002586   \n",
       "BDL    -0.000840   -0.050409    0.006167   -0.009709    0.019759    0.000000   \n",
       "\n",
       "Date  2021-05-18  2021-05-19  2021-05-20  \n",
       "RDNT    0.090284   -0.009814    0.011765  \n",
       "FLOT    0.000590   -0.000197    0.000394  \n",
       "AIZ    -0.018291   -0.010449   -0.000828  \n",
       "IMCV   -0.009159   -0.010328    0.006179  \n",
       "BDL     0.010381    0.010274    0.023986  \n",
       "\n",
       "[5 rows x 252 columns]"
      ]
     },
     "execution_count": 19,
     "metadata": {},
     "output_type": "execute_result"
    }
   ],
   "source": [
    "data_transpose = stocks[randomsymbols].T\n",
    "data_transpose.head()"
   ]
  },
  {
   "cell_type": "code",
   "execution_count": 20,
   "id": "028122c2",
   "metadata": {},
   "outputs": [
    {
     "data": {
      "text/plain": [
       "RDNT    [-0.004951172877752462, 0.004951172877752464, ...\n",
       "FLOT    [0.00019919830610019832, -0.000199198306100058...\n",
       "AIZ     [0.001485094936645715, 0.009117142789342123, 0...\n",
       "IMCV    [-0.00394808632480838, -0.002781364131969914, ...\n",
       "BDL     [-0.05741656703781315, -0.0026595734218113555,...\n",
       "Name: returns_vector, dtype: object"
      ]
     },
     "execution_count": 20,
     "metadata": {},
     "output_type": "execute_result"
    }
   ],
   "source": [
    "data_transpose['returns_vector'] = data_transpose.values.tolist()\n",
    "data_transpose['returns_vector'].head()"
   ]
  },
  {
   "cell_type": "code",
   "execution_count": 21,
   "id": "f0725e4f",
   "metadata": {},
   "outputs": [
    {
     "data": {
      "text/html": [
       "<div>\n",
       "<style scoped>\n",
       "    .dataframe tbody tr th:only-of-type {\n",
       "        vertical-align: middle;\n",
       "    }\n",
       "\n",
       "    .dataframe tbody tr th {\n",
       "        vertical-align: top;\n",
       "    }\n",
       "\n",
       "    .dataframe thead th {\n",
       "        text-align: right;\n",
       "    }\n",
       "</style>\n",
       "<table border=\"1\" class=\"dataframe\">\n",
       "  <thead>\n",
       "    <tr style=\"text-align: right;\">\n",
       "      <th></th>\n",
       "      <th>returns_vector</th>\n",
       "      <th>symbol</th>\n",
       "    </tr>\n",
       "  </thead>\n",
       "  <tbody>\n",
       "    <tr>\n",
       "      <th>RDNT</th>\n",
       "      <td>[-0.004951172877752462, 0.004951172877752464, ...</td>\n",
       "      <td>RDNT</td>\n",
       "    </tr>\n",
       "    <tr>\n",
       "      <th>FLOT</th>\n",
       "      <td>[0.00019919830610019832, -0.000199198306100058...</td>\n",
       "      <td>FLOT</td>\n",
       "    </tr>\n",
       "    <tr>\n",
       "      <th>AIZ</th>\n",
       "      <td>[0.001485094936645715, 0.009117142789342123, 0...</td>\n",
       "      <td>AIZ</td>\n",
       "    </tr>\n",
       "    <tr>\n",
       "      <th>IMCV</th>\n",
       "      <td>[-0.00394808632480838, -0.002781364131969914, ...</td>\n",
       "      <td>IMCV</td>\n",
       "    </tr>\n",
       "    <tr>\n",
       "      <th>BDL</th>\n",
       "      <td>[-0.05741656703781315, -0.0026595734218113555,...</td>\n",
       "      <td>BDL</td>\n",
       "    </tr>\n",
       "  </tbody>\n",
       "</table>\n",
       "</div>"
      ],
      "text/plain": [
       "                                         returns_vector symbol\n",
       "RDNT  [-0.004951172877752462, 0.004951172877752464, ...   RDNT\n",
       "FLOT  [0.00019919830610019832, -0.000199198306100058...   FLOT\n",
       "AIZ   [0.001485094936645715, 0.009117142789342123, 0...    AIZ\n",
       "IMCV  [-0.00394808632480838, -0.002781364131969914, ...   IMCV\n",
       "BDL   [-0.05741656703781315, -0.0026595734218113555,...    BDL"
      ]
     },
     "execution_count": 21,
     "metadata": {},
     "output_type": "execute_result"
    }
   ],
   "source": [
    "return_vector = data_transpose['returns_vector'].to_frame()\n",
    "return_vector[\"symbol\"] = return_vector.index\n",
    "return_vector.head()"
   ]
  },
  {
   "cell_type": "markdown",
   "id": "6eb9936b",
   "metadata": {},
   "source": [
    "### Getting list of dates for the return list"
   ]
  },
  {
   "cell_type": "code",
   "execution_count": 22,
   "id": "2c761bb1",
   "metadata": {},
   "outputs": [
    {
     "data": {
      "text/plain": [
       "0   2020-05-21\n",
       "1   2020-05-22\n",
       "2   2020-05-26\n",
       "3   2020-05-27\n",
       "4   2020-05-28\n",
       "Name: Date, dtype: datetime64[ns]"
      ]
     },
     "execution_count": 22,
     "metadata": {},
     "output_type": "execute_result"
    }
   ],
   "source": [
    "ret = stocks.reset_index().copy()\n",
    "ret[\"Date\"].head()"
   ]
  },
  {
   "cell_type": "code",
   "execution_count": null,
   "id": "1f17311d",
   "metadata": {},
   "outputs": [],
   "source": []
  },
  {
   "cell_type": "code",
   "execution_count": 23,
   "id": "cb9ae814",
   "metadata": {},
   "outputs": [],
   "source": [
    "import atoti as tt\n"
   ]
  },
  {
   "cell_type": "code",
   "execution_count": 24,
   "id": "d8996618",
   "metadata": {},
   "outputs": [],
   "source": [
    "session = tt.create_session()"
   ]
  },
  {
   "cell_type": "code",
   "execution_count": null,
   "id": "006b9ad6",
   "metadata": {},
   "outputs": [],
   "source": []
  },
  {
   "cell_type": "code",
   "execution_count": 25,
   "id": "8c32e48b",
   "metadata": {},
   "outputs": [
    {
     "data": {
      "text/html": [
       "<div>\n",
       "<style scoped>\n",
       "    .dataframe tbody tr th:only-of-type {\n",
       "        vertical-align: middle;\n",
       "    }\n",
       "\n",
       "    .dataframe tbody tr th {\n",
       "        vertical-align: top;\n",
       "    }\n",
       "\n",
       "    .dataframe thead th {\n",
       "        text-align: right;\n",
       "    }\n",
       "</style>\n",
       "<table border=\"1\" class=\"dataframe\">\n",
       "  <thead>\n",
       "    <tr style=\"text-align: right;\">\n",
       "      <th></th>\n",
       "      <th>returns_vector</th>\n",
       "    </tr>\n",
       "    <tr>\n",
       "      <th>symbol</th>\n",
       "      <th></th>\n",
       "    </tr>\n",
       "  </thead>\n",
       "  <tbody>\n",
       "    <tr>\n",
       "      <th>RDNT</th>\n",
       "      <td>doubleVector[252]{-0.004951172877752462, ...}</td>\n",
       "    </tr>\n",
       "    <tr>\n",
       "      <th>FLOT</th>\n",
       "      <td>doubleVector[252]{1.9919830610019832E-4, ...}</td>\n",
       "    </tr>\n",
       "    <tr>\n",
       "      <th>AIZ</th>\n",
       "      <td>doubleVector[252]{0.001485094936645715, ...}</td>\n",
       "    </tr>\n",
       "    <tr>\n",
       "      <th>IMCV</th>\n",
       "      <td>doubleVector[252]{-0.00394808632480838, ...}</td>\n",
       "    </tr>\n",
       "    <tr>\n",
       "      <th>BDL</th>\n",
       "      <td>doubleVector[252]{-0.05741656703781315, ...}</td>\n",
       "    </tr>\n",
       "  </tbody>\n",
       "</table>\n",
       "</div>"
      ],
      "text/plain": [
       "                                       returns_vector\n",
       "symbol                                               \n",
       "RDNT    doubleVector[252]{-0.004951172877752462, ...}\n",
       "FLOT    doubleVector[252]{1.9919830610019832E-4, ...}\n",
       "AIZ      doubleVector[252]{0.001485094936645715, ...}\n",
       "IMCV     doubleVector[252]{-0.00394808632480838, ...}\n",
       "BDL      doubleVector[252]{-0.05741656703781315, ...}"
      ]
     },
     "execution_count": 25,
     "metadata": {},
     "output_type": "execute_result"
    }
   ],
   "source": [
    "# https://towardsdatascience.com/shape-tables-like-jelly-with-pandas-melt-and-pivot-f2e13e666d6\n",
    "\n",
    "returns_table = session.read_pandas(\n",
    "    #\"Returns\n",
    "    return_vector,\n",
    "    table_name=\"Returns\",\n",
    "    keys=[\"symbol\"],\n",
    "    #store_name=\"Returns\",\n",
    ")\n",
    "\n",
    "returns_table.head()"
   ]
  },
  {
   "cell_type": "code",
   "execution_count": 26,
   "id": "a3d083de",
   "metadata": {},
   "outputs": [],
   "source": [
    "cube = session.create_cube(returns_table, \"Return Cube\")"
   ]
  },
  {
   "cell_type": "code",
   "execution_count": 27,
   "id": "0c81a2aa",
   "metadata": {},
   "outputs": [],
   "source": [
    "h, l, m = cube.hierarchies, cube.levels, cube.measures"
   ]
  },
  {
   "cell_type": "code",
   "execution_count": 28,
   "id": "9f14082d",
   "metadata": {},
   "outputs": [
    {
     "data": {
      "image/svg+xml": [
       "<svg xmlns=\"http://www.w3.org/2000/svg\" xmlns:xlink=\"http://www.w3.org/1999/xlink\" width=\"201px\" height=\"90px\" viewBox=\"0.00 0.00 201.00 90.00\">\n",
       "<g id=\"graph0\" class=\"graph\" transform=\"scale(1.0 1.0) rotate(0) translate(4 86)\">\n",
       "<title>Return Cube schema</title>\n",
       "<polygon fill=\"white\" stroke=\"transparent\" points=\"-4,4 -4,-86 197,-86 197,4 -4,4\"/>\n",
       "<!-- Returns -->\n",
       "<g id=\"node1\" class=\"node\">\n",
       "<title>Returns</title>\n",
       "<text text-anchor=\"start\" x=\"73\" y=\"-62.6\" font-family=\"-apple-system, BlinkMacSystemFont, 'Segoe UI', Helvetica, Arial, sans-serif, 'Apple Color Emoji', 'Segoe UI Emoji', 'Segoe UI Symbol'\" font-weight=\"bold\" font-size=\"13.00\">Returns</text>\n",
       "<polygon fill=\"#f5f5f5\" stroke=\"transparent\" points=\"9.5,-29 9.5,-53 40.5,-53 40.5,-29 9.5,-29\"/>\n",
       "<polygon fill=\"#f5f5f5\" stroke=\"transparent\" points=\"40.5,-29 40.5,-53 129.5,-53 129.5,-29 40.5,-29\"/>\n",
       "<text text-anchor=\"start\" x=\"45.5\" y=\"-37.6\" font-family=\"-apple-system, BlinkMacSystemFont, 'Segoe UI', Helvetica, Arial, sans-serif, 'Apple Color Emoji', 'Segoe UI Emoji', 'Segoe UI Symbol'\" font-size=\"13.00\">returns_vector</text>\n",
       "<polygon fill=\"#f5f5f5\" stroke=\"transparent\" points=\"129.5,-29 129.5,-53 184.5,-53 184.5,-29 129.5,-29\"/>\n",
       "<text text-anchor=\"start\" x=\"134.5\" y=\"-38.6\" font-family=\"-apple-system, BlinkMacSystemFont, 'Segoe UI', Helvetica, Arial, sans-serif, 'Apple Color Emoji', 'Segoe UI Emoji', 'Segoe UI Symbol'\" font-style=\"italic\" font-size=\"13.00\">double[]</text>\n",
       "<polygon fill=\"#ffffff\" stroke=\"transparent\" points=\"9.5,-5 9.5,-29 40.5,-29 40.5,-5 9.5,-5\"/>\n",
       "<text text-anchor=\"start\" x=\"14.5\" y=\"-14.6\" font-family=\"-apple-system, BlinkMacSystemFont, 'Segoe UI', Helvetica, Arial, sans-serif, 'Apple Color Emoji', 'Segoe UI Emoji', 'Segoe UI Symbol'\" font-weight=\"bold\" font-size=\"13.00\">key</text>\n",
       "<polygon fill=\"#ffffff\" stroke=\"transparent\" points=\"40.5,-5 40.5,-29 129.5,-29 129.5,-5 40.5,-5\"/>\n",
       "<text text-anchor=\"start\" x=\"45.5\" y=\"-13.6\" font-family=\"-apple-system, BlinkMacSystemFont, 'Segoe UI', Helvetica, Arial, sans-serif, 'Apple Color Emoji', 'Segoe UI Emoji', 'Segoe UI Symbol'\" font-size=\"13.00\">symbol</text>\n",
       "<polygon fill=\"#ffffff\" stroke=\"transparent\" points=\"129.5,-5 129.5,-29 184.5,-29 184.5,-5 129.5,-5\"/>\n",
       "<text text-anchor=\"start\" x=\"146.5\" y=\"-14.6\" font-family=\"-apple-system, BlinkMacSystemFont, 'Segoe UI', Helvetica, Arial, sans-serif, 'Apple Color Emoji', 'Segoe UI Emoji', 'Segoe UI Symbol'\" font-style=\"italic\" font-size=\"13.00\">String</text>\n",
       "<polygon fill=\"none\" stroke=\"black\" points=\"8,-4 8,-78 185,-78 185,-4 8,-4\"/>\n",
       "</g>\n",
       "</g>\n",
       "</svg>"
      ],
      "text/plain": [
       "<IPython.core.display.SVG object>"
      ]
     },
     "execution_count": 28,
     "metadata": {},
     "output_type": "execute_result"
    }
   ],
   "source": [
    "# import graphviz\n",
    "cube.schema"
   ]
  },
  {
   "cell_type": "code",
   "execution_count": 29,
   "id": "3eeedd05",
   "metadata": {},
   "outputs": [],
   "source": [
    "# pip list"
   ]
  },
  {
   "cell_type": "code",
   "execution_count": null,
   "id": "5c913b5b-50fe-4ba1-ae00-50b1af42766e",
   "metadata": {},
   "outputs": [],
   "source": []
  },
  {
   "cell_type": "code",
   "execution_count": 30,
   "id": "9d802d0b",
   "metadata": {},
   "outputs": [
    {
     "name": "stderr",
     "output_type": "stream",
     "text": [
      "C:\\Users\\User\\AppData\\Local\\Temp/ipykernel_17228/1205890402.py:29: DeprecationWarning:\n",
      "\n",
      "`np.float` is a deprecated alias for the builtin `float`. To silence this warning, use `float` by itself. Doing this will not modify any behavior and is safe. If you specifically wanted the numpy scalar type, use `np.float64` here.\n",
      "Deprecated in NumPy 1.20; for more details and guidance: https://numpy.org/devdocs/release/1.20.0-notes.html#deprecations\n",
      "\n",
      "C:\\Users\\User\\AppData\\Local\\Programs\\Python\\Python39\\lib\\site-packages\\numpy\\lib\\shape_base.py:652: VisibleDeprecationWarning:\n",
      "\n",
      "Creating an ndarray from ragged nested sequences (which is a list-or-tuple of lists-or-tuples-or ndarrays with different lengths or shapes) is deprecated. If you meant to do this, you must specify 'dtype=object' when creating the ndarray.\n",
      "\n"
     ]
    },
    {
     "data": {
      "text/plain": [
       "[array([0.093021375014562, 0.056995639399092836, 0.04625808062409536,\n",
       "        0.12980292699482798, 0.1600274101016608, 0.12463850732507709,\n",
       "        0.020153636204077854, 0.12657474898767682, 0.09512540950290378,\n",
       "        0.1474022658460253], dtype=object),\n",
       " 0.002547168240812453,\n",
       " 0.016420512392959635,\n",
       " 0.15512111801727713,\n",
       " 0.01119288167469242]"
      ]
     },
     "metadata": {},
     "output_type": "display_data"
    },
    {
     "data": {
      "text/plain": [
       "[array([0.009474287599442792, 0.1649785305659437, 0.10103099192934566,\n",
       "        0.14363399814150676, 0.14816872514591284, 0.06373655586953383,\n",
       "        0.07358992850333197, 0.16858864703771556, 0.06649396323123212,\n",
       "        0.060304371976034846], dtype=object),\n",
       " 0.002547168240812453,\n",
       " 0.016420512392959635,\n",
       " 0.15512111801727713,\n",
       " 0.03765460982743976]"
      ]
     },
     "metadata": {},
     "output_type": "display_data"
    },
    {
     "data": {
      "text/plain": [
       "[array([0.02960182855876961, 0.135955719092805, 0.09872810650098271,\n",
       "        0.21347821600407177, 0.06667792227886042, 0.062032505654378726,\n",
       "        0.21441819245953656, 0.0009072664828786094, 0.17586560974250529,\n",
       "        0.0023346332252113596], dtype=object),\n",
       " 0.001716311430722314,\n",
       " 0.010299256063294274,\n",
       " 0.1666442139291119,\n",
       " 0.01906785857647348]"
      ]
     },
     "metadata": {},
     "output_type": "display_data"
    },
    {
     "data": {
      "text/plain": [
       "[array([0.1059065248659974, 0.17018181139589886, 0.02287114395850863,\n",
       "        0.05101790771160315, 0.07184591300045316, 0.13109421829860302,\n",
       "        0.12372448226022878, 0.1705425551073401, 0.033806766208775534,\n",
       "        0.1190086771925914], dtype=object),\n",
       " 0.001716311430722314,\n",
       " 0.010299256063294274,\n",
       " 0.1666442139291119,\n",
       " 0.054819169377987816]"
      ]
     },
     "metadata": {},
     "output_type": "display_data"
    },
    {
     "data": {
      "text/plain": [
       "[array([0.13875930283726162, 0.12765380051101421, 0.02872509991630975,\n",
       "        0.1859017640346415, 0.07676935959369592, 0.1509734833229287,\n",
       "        0.04520768737891511, 0.01110036136034517, 0.07657727054932559,\n",
       "        0.1583318704955624], dtype=object),\n",
       " 0.001716311430722314,\n",
       " 0.010299256063294274,\n",
       " 0.1666442139291119,\n",
       " 0.1045955356212818]"
      ]
     },
     "metadata": {},
     "output_type": "display_data"
    },
    {
     "data": {
      "text/plain": [
       "[array([0.09211768311679917, 0.021429950022542055, 0.14474854333479895,\n",
       "        0.07835394568952145, 0.03204343804691713, 0.18779041635606292,\n",
       "        0.12029507439623797, 0.182537525836144, 0.13071109794412084,\n",
       "        0.00997232525685542], dtype=object),\n",
       " 0.001716311430722314,\n",
       " 0.010299256063294274,\n",
       " 0.1666442139291119,\n",
       " 0.0014843142241487048]"
      ]
     },
     "metadata": {},
     "output_type": "display_data"
    },
    {
     "data": {
      "text/plain": [
       "[array([0.1313411620798117, 0.15038485404755833, 0.0486485578998756,\n",
       "        0.0722451927890146, 0.12461971993146728, 0.07370528064021373,\n",
       "        0.03855057932663745, 0.04478664228782953, 0.16613433603665656,\n",
       "        0.1495836749609351], dtype=object),\n",
       " 0.001716311430722314,\n",
       " 0.010299256063294274,\n",
       " 0.1666442139291119,\n",
       " -0.029791253176042205]"
      ]
     },
     "metadata": {},
     "output_type": "display_data"
    },
    {
     "data": {
      "text/plain": [
       "[array([0.014329554872825109, 0.17234683670839138, 0.08584994528741616,\n",
       "        0.12018393706294112, 0.05077047392608979, 0.1321619868454596,\n",
       "        0.09021450287791533, 0.0027019090383891926, 0.13783546118066328,\n",
       "        0.19360539219990897], dtype=object),\n",
       " 0.001870478350762578,\n",
       " 0.010024308845878127,\n",
       " 0.18659424599948313,\n",
       " -0.019236666281105413]"
      ]
     },
     "metadata": {},
     "output_type": "display_data"
    },
    {
     "data": {
      "text/plain": [
       "[array([0.01962956009310536, 0.046277173823814854, 0.10135813539763047,\n",
       "        0.13702787830959504, 0.14312841534732454, 0.15280924947052826,\n",
       "        0.11183786742356083, 0.03798167378925134, 0.13273682738045353,\n",
       "        0.11721321896473565], dtype=object),\n",
       " 0.001870478350762578,\n",
       " 0.010024308845878127,\n",
       " 0.18659424599948313,\n",
       " -0.021109979011026608]"
      ]
     },
     "metadata": {},
     "output_type": "display_data"
    },
    {
     "data": {
      "text/plain": [
       "[array([0.08489689231127624, 0.11141419599535102, 0.13318230289386365,\n",
       "        0.08918475200942025, 0.05135351084499806, 0.16662710261119967,\n",
       "        0.10959902252933783, 0.06740243679313214, 0.14532574810946186,\n",
       "        0.04101403590195921], dtype=object),\n",
       " 0.001870478350762578,\n",
       " 0.010024308845878127,\n",
       " 0.18659424599948313,\n",
       " -0.047499660475244274]"
      ]
     },
     "metadata": {},
     "output_type": "display_data"
    },
    {
     "data": {
      "text/plain": [
       "[array([0.17786488290402602, 0.05772026213983535, 0.07744728430019157,\n",
       "        0.08390636568632152, 0.05327519816323146, 0.18484169872253833,\n",
       "        0.07654066994672011, 0.21796917085121176, 0.012623709816453573,\n",
       "        0.05781075746947028], dtype=object),\n",
       " 0.001870478350762578,\n",
       " 0.010024308845878127,\n",
       " 0.18659424599948313,\n",
       " 0.004910307292264318]"
      ]
     },
     "metadata": {},
     "output_type": "display_data"
    },
    {
     "data": {
      "text/plain": [
       "[array([0.052725688851568295, 0.12955161187058692, 0.12885376069893073,\n",
       "        0.10574628906182644, 0.10878079316579614, 0.02778312873413111,\n",
       "        0.1181906559419656, 0.0830390784370509, 0.1407477747444124,\n",
       "        0.10458121849373155], dtype=object),\n",
       " 0.001870478350762578,\n",
       " 0.010024308845878127,\n",
       " 0.18659424599948313,\n",
       " -0.01948704878578323]"
      ]
     },
     "metadata": {},
     "output_type": "display_data"
    },
    {
     "data": {
      "text/plain": [
       "[array([0.03379903252429631, 0.04977275535148261, 0.09687571054564696,\n",
       "        0.10106908227322577, 0.13252844329778998, 0.12328150373831867,\n",
       "        0.09304920943548661, 0.13610417337097047, 0.11952956355273485,\n",
       "        0.11399052591004775], dtype=object),\n",
       " 0.001870478350762578,\n",
       " 0.010024308845878127,\n",
       " 0.18659424599948313,\n",
       " 0.010722588443919163]"
      ]
     },
     "metadata": {},
     "output_type": "display_data"
    },
    {
     "data": {
      "text/plain": [
       "[array([0.11858084245102067, 0.16485903806175076, 0.06787067345906511,\n",
       "        0.051730201873778414, 0.049846469127514906, 0.1571724128151518,\n",
       "        0.13718113042954436, 0.10453853611462048, 0.032423159114633414,\n",
       "        0.11579753655292012], dtype=object),\n",
       " 0.001870478350762578,\n",
       " 0.010024308845878127,\n",
       " 0.18659424599948313,\n",
       " -0.002537991021164771]"
      ]
     },
     "metadata": {},
     "output_type": "display_data"
    },
    {
     "data": {
      "text/plain": [
       "[array([0.10364148206746619, 0.07090844212078963, 0.02812386249005706,\n",
       "        0.18813586309470487, 0.18582637244195405, 0.07185948899923236,\n",
       "        0.15460292027497774, 0.05894949141352188, 0.12266347489977082,\n",
       "        0.015288602197525411], dtype=object),\n",
       " 0.001870478350762578,\n",
       " 0.010024308845878127,\n",
       " 0.18659424599948313,\n",
       " 0.015848866915057273]"
      ]
     },
     "metadata": {},
     "output_type": "display_data"
    },
    {
     "data": {
      "text/plain": [
       "[array([0.17110793331929453, 0.06419821759247404, 0.06958539625273694,\n",
       "        0.15792428270559505, 0.12168129459680738, 0.05162168090399557,\n",
       "        0.15369044108076332, 0.031762006761322584, 0.059334209755384885,\n",
       "        0.1190945370316256], dtype=object),\n",
       " 0.001870478350762578,\n",
       " 0.010024308845878127,\n",
       " 0.18659424599948313,\n",
       " 0.0041184318608030734]"
      ]
     },
     "metadata": {},
     "output_type": "display_data"
    },
    {
     "data": {
      "text/plain": [
       "[array([0.17800219622629254, 0.13282584943273654, 0.05836116057620441,\n",
       "        0.14153975597981994, 0.20418456402479282, 0.04338642919080437,\n",
       "        0.10122621137571537, 0.06616649093220767, 0.03668221699103865,\n",
       "        0.037625125270387645], dtype=object),\n",
       " 0.001870478350762578,\n",
       " 0.010024308845878127,\n",
       " 0.18659424599948313,\n",
       " -0.054674670468888034]"
      ]
     },
     "metadata": {},
     "output_type": "display_data"
    },
    {
     "data": {
      "text/plain": [
       "[array([0.029668250028281714, 0.1385066238293236, 0.13857554573756006,\n",
       "        0.0457416127794892, 0.0949039753236198, 0.013030812594547933,\n",
       "        0.1585006650324441, 0.18948802500276574, 0.11002908904576215,\n",
       "        0.08155540062620566], dtype=object),\n",
       " 0.001870478350762578,\n",
       " 0.010024308845878127,\n",
       " 0.18659424599948313,\n",
       " 0.005415783244044212]"
      ]
     },
     "metadata": {},
     "output_type": "display_data"
    },
    {
     "data": {
      "text/plain": [
       "[array([0.11183213141915768, 0.13482162677237794, 0.12823819872433093,\n",
       "        0.05780133161103495, 0.09069973238591539, 0.0931276359729553,\n",
       "        0.15558626796172267, 0.07581743480881117, 0.10338162425023648,\n",
       "        0.0486940160934573], dtype=object),\n",
       " 0.001870478350762578,\n",
       " 0.010024308845878127,\n",
       " 0.18659424599948313,\n",
       " 0.027288189822229057]"
      ]
     },
     "metadata": {},
     "output_type": "display_data"
    },
    {
     "data": {
      "text/plain": [
       "[array([0.15961179581699564, 0.05756866223840926, 0.15676402744314752,\n",
       "        0.11274371479776653, 0.05325503949769192, 0.06757656500398884,\n",
       "        0.030436088698935444, 0.1096276536820701, 0.10193057772011867,\n",
       "        0.15048587510087602], dtype=object),\n",
       " 0.001870478350762578,\n",
       " 0.010024308845878127,\n",
       " 0.18659424599948313,\n",
       " 0.06288591696644141]"
      ]
     },
     "metadata": {},
     "output_type": "display_data"
    }
   ],
   "source": [
    "# years = 10\n",
    "\n",
    "import contextlib\n",
    "\n",
    "stocksp = 0.2\n",
    "mfundsp = 0.1\n",
    "bondsp = 0.2\n",
    "commp = 0.2\n",
    "\n",
    "n_portfolio = 100\n",
    "\n",
    "bestSharpe = 0\n",
    "runs = 0\n",
    "weight = None\n",
    "bestMean = 0\n",
    "bestStd = 0\n",
    "means = np.array([])\n",
    "stds = np.array([])\n",
    "sharpes = np.array([])\n",
    "bestWeights = None\n",
    "weights = np.array([])\n",
    "\n",
    "# random dates using X_index\n",
    "\n",
    "randomSet = list(np.sort(np.random.choice(range(0, len(Training)), nran)))\n",
    "\n",
    "for tensor in randomSet:\n",
    "\n",
    "    randomsymbols = list(np.random.choice(pf.data.columns, 10, replace=False))\n",
    "    # random columns\n",
    "    stocks = returns.loc[[i[0] for i in Training[tensor]]][randomsymbols]\n",
    "\n",
    "    return_vec = np.array(stocks)\n",
    "\n",
    "    # display(pd.DataFrame(stocks.cumsum().iloc[-1]).transpose())\n",
    "\n",
    "    for _ in range(n_portfolio):\n",
    "        means2, stds2, sharpes2, weights2 = np.column_stack(\n",
    "            [random_portfolio(return_vec) for _ in range(len(stocks.columns))]\n",
    "        )\n",
    "        means_ = means2\n",
    "        stds_ = stds2\n",
    "        sharpes_ = sharpes2\n",
    "        weights_ = weights2\n",
    "\n",
    "        bestWeights = weights_[sharpes_.argmax()]\n",
    "\n",
    "        means = np.append(means, means_)\n",
    "        stds = np.append(stds, stds_)\n",
    "        sharpes = np.append(sharpes, sharpes_)\n",
    "        weights = np.append(weights, weights_)\n",
    "\n",
    "    df_ = pd.DataFrame(weights[sharpes.argmax()]).set_index(stocks.columns)\n",
    "    df_.columns = [\"Weights\"]\n",
    "\n",
    "    next4weeks = returns.loc[[i[0] for i in Holdout[tensor]]][randomsymbols]\n",
    "\n",
    "    df_.sort_values(by=[\"Weights\"], ascending=False, inplace=True)\n",
    "\n",
    "    wr = np.array(\n",
    "        weighted_return(\n",
    "            np.array((np.exp(next4weeks) - 1).cumsum().tail(1)),\n",
    "            weights[sharpes.argmax()],\n",
    "        )\n",
    "    )[0][0]\n",
    "\n",
    "    max_sr_ret = means[sharpes.argmax()]\n",
    "    max_sr_vol = stds[sharpes.argmax()]\n",
    "    max_sharpe = sharpes[sharpes.argmax()]\n",
    "\n",
    "    display([bestWeights, max_sr_ret, max_sr_vol, max_sharpe, wr])"
   ]
  },
  {
   "cell_type": "code",
   "execution_count": null,
   "id": "cf2e2d1f",
   "metadata": {},
   "outputs": [],
   "source": []
  },
  {
   "cell_type": "code",
   "execution_count": 31,
   "id": "5c3f8e46",
   "metadata": {},
   "outputs": [],
   "source": [
    "cube.create_parameter_hierarchy_from_members(\n",
    "    \"Dates\", ret[\"Date\"].tolist(), \n",
    "    index_measure_name=\"Date Index\",\n",
    "    #name=\"Dates\"\n",
    "    #store_name=\"Dates\"\n",
    ")\n",
    "# Setting the hierarchy to non-slicing, as required by\n",
    "# the max_member aggregation function - see later - this behavior might change in future versions.\n",
    "h[\"Dates\"].slicing = False"
   ]
  },
  {
   "cell_type": "code",
   "execution_count": 32,
   "id": "9a33d2ec",
   "metadata": {},
   "outputs": [
    {
     "data": {
      "image/svg+xml": [
       "<svg xmlns=\"http://www.w3.org/2000/svg\" xmlns:xlink=\"http://www.w3.org/1999/xlink\" width=\"427px\" height=\"90px\" viewBox=\"0.00 0.00 427.00 90.00\">\n",
       "<g id=\"graph0\" class=\"graph\" transform=\"scale(1.0 1.0) rotate(0) translate(4 86)\">\n",
       "<title>Return Cube schema</title>\n",
       "<polygon fill=\"white\" stroke=\"transparent\" points=\"-4,4 -4,-86 423,-86 423,4 -4,4\"/>\n",
       "<!-- Returns -->\n",
       "<g id=\"node1\" class=\"node\">\n",
       "<title>Returns</title>\n",
       "<text text-anchor=\"start\" x=\"73\" y=\"-62.6\" font-family=\"-apple-system, BlinkMacSystemFont, 'Segoe UI', Helvetica, Arial, sans-serif, 'Apple Color Emoji', 'Segoe UI Emoji', 'Segoe UI Symbol'\" font-weight=\"bold\" font-size=\"13.00\">Returns</text>\n",
       "<polygon fill=\"#f5f5f5\" stroke=\"transparent\" points=\"9.5,-29 9.5,-53 40.5,-53 40.5,-29 9.5,-29\"/>\n",
       "<polygon fill=\"#f5f5f5\" stroke=\"transparent\" points=\"40.5,-29 40.5,-53 129.5,-53 129.5,-29 40.5,-29\"/>\n",
       "<text text-anchor=\"start\" x=\"45.5\" y=\"-37.6\" font-family=\"-apple-system, BlinkMacSystemFont, 'Segoe UI', Helvetica, Arial, sans-serif, 'Apple Color Emoji', 'Segoe UI Emoji', 'Segoe UI Symbol'\" font-size=\"13.00\">returns_vector</text>\n",
       "<polygon fill=\"#f5f5f5\" stroke=\"transparent\" points=\"129.5,-29 129.5,-53 184.5,-53 184.5,-29 129.5,-29\"/>\n",
       "<text text-anchor=\"start\" x=\"134.5\" y=\"-38.6\" font-family=\"-apple-system, BlinkMacSystemFont, 'Segoe UI', Helvetica, Arial, sans-serif, 'Apple Color Emoji', 'Segoe UI Emoji', 'Segoe UI Symbol'\" font-style=\"italic\" font-size=\"13.00\">double[]</text>\n",
       "<polygon fill=\"#ffffff\" stroke=\"transparent\" points=\"9.5,-5 9.5,-29 40.5,-29 40.5,-5 9.5,-5\"/>\n",
       "<text text-anchor=\"start\" x=\"14.5\" y=\"-14.6\" font-family=\"-apple-system, BlinkMacSystemFont, 'Segoe UI', Helvetica, Arial, sans-serif, 'Apple Color Emoji', 'Segoe UI Emoji', 'Segoe UI Symbol'\" font-weight=\"bold\" font-size=\"13.00\">key</text>\n",
       "<polygon fill=\"#ffffff\" stroke=\"transparent\" points=\"40.5,-5 40.5,-29 129.5,-29 129.5,-5 40.5,-5\"/>\n",
       "<text text-anchor=\"start\" x=\"45.5\" y=\"-13.6\" font-family=\"-apple-system, BlinkMacSystemFont, 'Segoe UI', Helvetica, Arial, sans-serif, 'Apple Color Emoji', 'Segoe UI Emoji', 'Segoe UI Symbol'\" font-size=\"13.00\">symbol</text>\n",
       "<polygon fill=\"#ffffff\" stroke=\"transparent\" points=\"129.5,-5 129.5,-29 184.5,-29 184.5,-5 129.5,-5\"/>\n",
       "<text text-anchor=\"start\" x=\"146.5\" y=\"-14.6\" font-family=\"-apple-system, BlinkMacSystemFont, 'Segoe UI', Helvetica, Arial, sans-serif, 'Apple Color Emoji', 'Segoe UI Emoji', 'Segoe UI Symbol'\" font-style=\"italic\" font-size=\"13.00\">String</text>\n",
       "<polygon fill=\"none\" stroke=\"black\" points=\"8,-4 8,-78 185,-78 185,-4 8,-4\"/>\n",
       "</g>\n",
       "<!-- Dates -->\n",
       "<g id=\"node2\" class=\"node\">\n",
       "<title>Dates</title>\n",
       "<text text-anchor=\"start\" x=\"307\" y=\"-62.6\" font-family=\"-apple-system, BlinkMacSystemFont, 'Segoe UI', Helvetica, Arial, sans-serif, 'Apple Color Emoji', 'Segoe UI Emoji', 'Segoe UI Symbol'\" font-weight=\"bold\" font-size=\"13.00\">Dates</text>\n",
       "<polygon fill=\"#f5f5f5\" stroke=\"transparent\" points=\"238,-29 238,-53 269,-53 269,-29 238,-29\"/>\n",
       "<text text-anchor=\"start\" x=\"243\" y=\"-38.6\" font-family=\"-apple-system, BlinkMacSystemFont, 'Segoe UI', Helvetica, Arial, sans-serif, 'Apple Color Emoji', 'Segoe UI Emoji', 'Segoe UI Symbol'\" font-weight=\"bold\" font-size=\"13.00\">key</text>\n",
       "<polygon fill=\"#f5f5f5\" stroke=\"transparent\" points=\"269,-29 269,-53 343,-53 343,-29 269,-29\"/>\n",
       "<text text-anchor=\"start\" x=\"274\" y=\"-37.6\" font-family=\"-apple-system, BlinkMacSystemFont, 'Segoe UI', Helvetica, Arial, sans-serif, 'Apple Color Emoji', 'Segoe UI Emoji', 'Segoe UI Symbol'\" font-size=\"13.00\">Dates</text>\n",
       "<polygon fill=\"#f5f5f5\" stroke=\"transparent\" points=\"343,-29 343,-53 410,-53 410,-29 343,-29\"/>\n",
       "<text text-anchor=\"start\" x=\"348\" y=\"-38.6\" font-family=\"-apple-system, BlinkMacSystemFont, 'Segoe UI', Helvetica, Arial, sans-serif, 'Apple Color Emoji', 'Segoe UI Emoji', 'Segoe UI Symbol'\" font-style=\"italic\" font-size=\"13.00\">LocalDate</text>\n",
       "<polygon fill=\"#ffffff\" stroke=\"transparent\" points=\"238,-5 238,-29 269,-29 269,-5 238,-5\"/>\n",
       "<polygon fill=\"#ffffff\" stroke=\"transparent\" points=\"269,-5 269,-29 343,-29 343,-5 269,-5\"/>\n",
       "<text text-anchor=\"start\" x=\"274\" y=\"-13.6\" font-family=\"-apple-system, BlinkMacSystemFont, 'Segoe UI', Helvetica, Arial, sans-serif, 'Apple Color Emoji', 'Segoe UI Emoji', 'Segoe UI Symbol'\" font-size=\"13.00\">Dates index</text>\n",
       "<polygon fill=\"#ffffff\" stroke=\"transparent\" points=\"343,-5 343,-29 410,-29 410,-5 343,-5\"/>\n",
       "<text text-anchor=\"start\" x=\"391\" y=\"-14.6\" font-family=\"-apple-system, BlinkMacSystemFont, 'Segoe UI', Helvetica, Arial, sans-serif, 'Apple Color Emoji', 'Segoe UI Emoji', 'Segoe UI Symbol'\" font-style=\"italic\" font-size=\"13.00\">int</text>\n",
       "<polygon fill=\"none\" stroke=\"black\" points=\"237,-4 237,-78 411,-78 411,-4 237,-4\"/>\n",
       "</g>\n",
       "<!-- Returns&#45;&gt;Dates -->\n",
       "<g id=\"edge1\" class=\"edge\">\n",
       "<title>Returns-&gt;Dates</title>\n",
       "<path fill=\"none\" stroke=\"black\" stroke-dasharray=\"5,2\" d=\"M193.13,-41C201.5,-41 209.99,-41 218.42,-41\"/>\n",
       "<polygon fill=\"black\" stroke=\"black\" points=\"218.66,-44.5 228.66,-41 218.66,-37.5 218.66,-44.5\"/>\n",
       "</g>\n",
       "</g>\n",
       "</svg>"
      ],
      "text/plain": [
       "<IPython.core.display.SVG object>"
      ]
     },
     "execution_count": 32,
     "metadata": {},
     "output_type": "execute_result"
    }
   ],
   "source": [
    "cube.schema"
   ]
  },
  {
   "cell_type": "code",
   "execution_count": null,
   "id": "4b5032eb-d76e-4a18-b92a-0e2a78d026d6",
   "metadata": {},
   "outputs": [],
   "source": []
  },
  {
   "cell_type": "code",
   "execution_count": null,
   "id": "ec588d50-335d-42e6-86fc-79e10155861d",
   "metadata": {},
   "outputs": [],
   "source": []
  },
  {
   "cell_type": "code",
   "execution_count": null,
   "id": "e3634c06-192d-4386-a4f3-cf76562d6ea9",
   "metadata": {},
   "outputs": [],
   "source": []
  },
  {
   "cell_type": "code",
   "execution_count": 33,
   "id": "b5036d8d",
   "metadata": {},
   "outputs": [],
   "source": [
    "m[\"daily returns\"] = m[\"returns_vector.SUM\"][m[\"Date Index\"]]\n"
   ]
  },
  {
   "cell_type": "code",
   "execution_count": 34,
   "id": "0baf40e0-3249-4659-be72-8b79f5d52a5f",
   "metadata": {},
   "outputs": [],
   "source": [
    "m[\"daily returns\"].formatter = \"DOUBLE[#,###.0000000000]\""
   ]
  },
  {
   "cell_type": "code",
   "execution_count": 35,
   "id": "1c124af2-4a24-4c4a-85f0-9197b8d3c8ac",
   "metadata": {},
   "outputs": [
    {
     "data": {
      "text/plain": [
       "'FET'"
      ]
     },
     "execution_count": 35,
     "metadata": {},
     "output_type": "execute_result"
    }
   ],
   "source": [
    "randomsymbols[1]"
   ]
  },
  {
   "cell_type": "code",
   "execution_count": 36,
   "id": "8de1d742-4e35-4104-ae19-87649ca9a675",
   "metadata": {
    "atoti": {
     "widget": {
      "mapping": {
       "columns": [
        "ALL_MEASURES"
       ],
       "measures": [],
       "rows": [
        "[Returns].[symbol].[symbol]",
        "[Epoch].[Epoch].[Branch]"
       ]
      },
      "query": {
       "mdx": "SELECT NON EMPTY Crossjoin(Hierarchize(Descendants({[Returns].[symbol].[AllMember]}, 1, SELF_AND_BEFORE)), [Epoch].[Epoch].[Branch].Members) ON ROWS FROM [Return Cube]",
       "updateMode": "once"
      },
      "serverKey": "default",
      "widgetKey": "pivot-table"
     }
    },
    "tags": []
   },
   "outputs": [
    {
     "data": {
      "application/vnd.atoti.widget.v0+json": {
       "name": null,
       "sessionId": "5bc2e8b6-ae7c-4544-8e14-f63d9789570e",
       "sessionLocation": {
        "https": false,
        "port": 59090
       },
       "widgetCreationCode": "session.visualize()"
      },
      "text/plain": [
       "Open the notebook in JupyterLab with the atoti extension enabled to build this widget."
      ]
     },
     "metadata": {},
     "output_type": "display_data"
    }
   ],
   "source": [
    "session.visualize()"
   ]
  },
  {
   "cell_type": "code",
   "execution_count": 37,
   "id": "abde1723",
   "metadata": {
    "atoti": {
     "widget": {
      "filters": [
       "[Returns].[symbol].[AllMember].[BXP]"
      ],
      "mapping": {
       "columns": [
        "ALL_MEASURES"
       ],
       "measures": [
        "[Measures].[daily returns]"
       ],
       "rows": [
        "[Dates].[Dates].[Dates]"
       ]
      },
      "query": {
       "mdx": "SELECT NON EMPTY Hierarchize(Descendants({[Dates].[Dates].[AllMember]}, 1, SELF_AND_BEFORE)) ON ROWS, NON EMPTY {[Measures].[daily returns]} ON COLUMNS FROM [Return Cube]",
       "updateMode": "once"
      },
      "serverKey": "default",
      "widgetKey": "pivot-table"
     }
    }
   },
   "outputs": [
    {
     "data": {
      "application/vnd.atoti.widget.v0+json": {
       "name": "Weight 0 simulation",
       "sessionId": "5bc2e8b6-ae7c-4544-8e14-f63d9789570e",
       "sessionLocation": {
        "https": false,
        "port": 59090
       },
       "widgetCreationCode": "session.visualize()"
      },
      "text/plain": [
       "Open the notebook in JupyterLab with the atoti extension enabled to build this widget."
      ]
     },
     "metadata": {},
     "output_type": "display_data"
    }
   ],
   "source": [
    "session.visualize(\"Weight 0 simulation\")"
   ]
  },
  {
   "cell_type": "code",
   "execution_count": null,
   "id": "01ab5c0e",
   "metadata": {},
   "outputs": [],
   "source": []
  }
 ],
 "metadata": {
  "kernelspec": {
   "display_name": "Python 3 (ipykernel)",
   "language": "python",
   "name": "python3"
  },
  "language_info": {
   "codemirror_mode": {
    "name": "ipython",
    "version": 3
   },
   "file_extension": ".py",
   "mimetype": "text/x-python",
   "name": "python",
   "nbconvert_exporter": "python",
   "pygments_lexer": "ipython3",
   "version": "3.9.7"
  }
 },
 "nbformat": 4,
 "nbformat_minor": 5
}
