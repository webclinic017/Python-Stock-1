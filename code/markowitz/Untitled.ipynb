{
 "cells": [
  {
   "cell_type": "code",
   "execution_count": 16,
   "id": "536d7d53-8998-43dd-9fb2-a7cdeceb4823",
   "metadata": {},
   "outputs": [
    {
     "name": "stdout",
     "output_type": "stream",
     "text": [
      "dir\n",
      "  ['file', 'file3']\n",
      "  dir2\n",
      "    ['file2']\n",
      "dir2\n",
      "  alpha\n",
      "    beta\n",
      "      gamma\n",
      "        ['delta']\n",
      "        delta\n",
      "          ['']\n",
      "dir3\n",
      "  ['file4', 'file5']\n"
     ]
    }
   ],
   "source": []
  }
 ],
 "metadata": {
  "kernelspec": {
   "display_name": "Python 3 (ipykernel)",
   "language": "python",
   "name": "python3"
  },
  "language_info": {
   "codemirror_mode": {
    "name": "ipython",
    "version": 3
   },
   "file_extension": ".py",
   "mimetype": "text/x-python",
   "name": "python",
   "nbconvert_exporter": "python",
   "pygments_lexer": "ipython3",
   "version": "3.9.7"
  }
 },
 "nbformat": 4,
 "nbformat_minor": 5
}
