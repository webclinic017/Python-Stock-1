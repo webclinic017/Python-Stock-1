{
 "cells": [
  {
   "cell_type": "code",
   "execution_count": 14,
   "id": "d8c88f87",
   "metadata": {},
   "outputs": [],
   "source": [
    "import atoti as tt\n",
    "import numpy as np\n",
    "import pandas as pd\n",
    "import graphviz"
   ]
  },
  {
   "cell_type": "code",
   "execution_count": 15,
   "id": "7862082a",
   "metadata": {},
   "outputs": [
    {
     "name": "stderr",
     "output_type": "stream",
     "text": [
      "Deleting existing \"Unnamed\" session to create the new one.\n"
     ]
    }
   ],
   "source": [
    "session = tt.create_session()"
   ]
  },
  {
   "cell_type": "markdown",
   "id": "486db4de",
   "metadata": {},
   "source": [
    "We convert the stock data into vector. Each value in the vector is a return that correspond to a date in the `returns` df.  \n",
    "We load the stock with the vector of returns into atoti cube."
   ]
  },
  {
   "cell_type": "code",
   "execution_count": null,
   "id": "4be53658-fa96-434a-b205-596a08267101",
   "metadata": {},
   "outputs": [],
   "source": []
  },
  {
   "cell_type": "code",
   "execution_count": 17,
   "id": "cf60fd99",
   "metadata": {},
   "outputs": [
    {
     "ename": "TypeError",
     "evalue": "__init__() got an unexpected keyword argument 'store_name'",
     "output_type": "error",
     "traceback": [
      "\u001b[1;31m---------------------------------------------------------------------------\u001b[0m",
      "\u001b[1;31mTypeError\u001b[0m                                 Traceback (most recent call last)",
      "\u001b[1;32m~\\AppData\\Local\\Temp/ipykernel_12084/2915111015.py\u001b[0m in \u001b[0;36m<module>\u001b[1;34m\u001b[0m\n\u001b[1;32m----> 1\u001b[1;33m returns_table = session.read_csv(\n\u001b[0m\u001b[0;32m      2\u001b[0m     \u001b[1;34m\"returns.csv\"\u001b[0m\u001b[1;33m,\u001b[0m \u001b[0mkeys\u001b[0m\u001b[1;33m=\u001b[0m\u001b[1;33m[\u001b[0m\u001b[1;34m\"stock\"\u001b[0m\u001b[1;33m]\u001b[0m\u001b[1;33m,\u001b[0m \u001b[0mstore_name\u001b[0m\u001b[1;33m=\u001b[0m\u001b[1;34m\"Returns\"\u001b[0m\u001b[1;33m,\u001b[0m \u001b[0marray_sep\u001b[0m\u001b[1;33m=\u001b[0m\u001b[1;34m\";\"\u001b[0m\u001b[1;33m\u001b[0m\u001b[1;33m\u001b[0m\u001b[0m\n\u001b[0;32m      3\u001b[0m )\n\u001b[0;32m      4\u001b[0m \u001b[1;33m\u001b[0m\u001b[0m\n\u001b[0;32m      5\u001b[0m \u001b[0mreturns_table\u001b[0m\u001b[1;33m.\u001b[0m\u001b[0mhead\u001b[0m\u001b[1;33m(\u001b[0m\u001b[1;33m)\u001b[0m\u001b[1;33m\u001b[0m\u001b[1;33m\u001b[0m\u001b[0m\n",
      "\u001b[1;32m~\\AppData\\Local\\Programs\\Python\\Python39\\lib\\site-packages\\atoti\\_type_utils.py\u001b[0m in \u001b[0;36mtypechecked_func_wrapper\u001b[1;34m(*args, **kwargs)\u001b[0m\n\u001b[0;32m    184\u001b[0m \u001b[1;33m\u001b[0m\u001b[0m\n\u001b[0;32m    185\u001b[0m             \u001b[1;31m# Call the actual function.\u001b[0m\u001b[1;33m\u001b[0m\u001b[1;33m\u001b[0m\u001b[0m\n\u001b[1;32m--> 186\u001b[1;33m             \u001b[1;32mreturn\u001b[0m \u001b[0mself\u001b[0m\u001b[1;33m.\u001b[0m\u001b[0m_func\u001b[0m\u001b[1;33m(\u001b[0m\u001b[1;33m*\u001b[0m\u001b[0margs\u001b[0m\u001b[1;33m,\u001b[0m \u001b[1;33m**\u001b[0m\u001b[0mkwargs\u001b[0m\u001b[1;33m)\u001b[0m\u001b[1;33m\u001b[0m\u001b[1;33m\u001b[0m\u001b[0m\n\u001b[0m\u001b[0;32m    187\u001b[0m \u001b[1;33m\u001b[0m\u001b[0m\n\u001b[0;32m    188\u001b[0m         \u001b[1;31m# Mark the function as typechecked and return it.\u001b[0m\u001b[1;33m\u001b[0m\u001b[1;33m\u001b[0m\u001b[0m\n",
      "\u001b[1;32m~\\AppData\\Local\\Programs\\Python\\Python39\\lib\\site-packages\\atoti\\_docs_utils.py\u001b[0m in \u001b[0;36mwrapper\u001b[1;34m(*args, **kwargs)\u001b[0m\n\u001b[0;32m     14\u001b[0m         \u001b[1;33m@\u001b[0m\u001b[0mwraps\u001b[0m\u001b[1;33m(\u001b[0m\u001b[0mfunc\u001b[0m\u001b[1;33m)\u001b[0m\u001b[1;33m\u001b[0m\u001b[1;33m\u001b[0m\u001b[0m\n\u001b[0;32m     15\u001b[0m         \u001b[1;32mdef\u001b[0m \u001b[0mwrapper\u001b[0m\u001b[1;33m(\u001b[0m\u001b[1;33m*\u001b[0m\u001b[0margs\u001b[0m\u001b[1;33m:\u001b[0m \u001b[0mAny\u001b[0m\u001b[1;33m,\u001b[0m \u001b[1;33m**\u001b[0m\u001b[0mkwargs\u001b[0m\u001b[1;33m:\u001b[0m \u001b[0mAny\u001b[0m\u001b[1;33m)\u001b[0m \u001b[1;33m->\u001b[0m \u001b[0mCallable\u001b[0m\u001b[1;33m:\u001b[0m\u001b[1;33m\u001b[0m\u001b[1;33m\u001b[0m\u001b[0m\n\u001b[1;32m---> 16\u001b[1;33m             \u001b[1;32mreturn\u001b[0m \u001b[0mfunc\u001b[0m\u001b[1;33m(\u001b[0m\u001b[1;33m*\u001b[0m\u001b[0margs\u001b[0m\u001b[1;33m,\u001b[0m \u001b[1;33m**\u001b[0m\u001b[0mkwargs\u001b[0m\u001b[1;33m)\u001b[0m\u001b[1;33m\u001b[0m\u001b[1;33m\u001b[0m\u001b[0m\n\u001b[0m\u001b[0;32m     17\u001b[0m \u001b[1;33m\u001b[0m\u001b[0m\n\u001b[0;32m     18\u001b[0m         \u001b[1;31m# Collecting docstring and docstring templates\u001b[0m\u001b[1;33m\u001b[0m\u001b[1;33m\u001b[0m\u001b[0m\n",
      "\u001b[1;32m~\\AppData\\Local\\Programs\\Python\\Python39\\lib\\site-packages\\atoti\\session.py\u001b[0m in \u001b[0;36mread_csv\u001b[1;34m(self, path, keys, table_name, separator, encoding, process_quotes, partitioning, types, array_separator, hierarchized_columns, date_patterns, client_side_encryption, **kwargs)\u001b[0m\n\u001b[0;32m    292\u001b[0m             \u001b[0mThe\u001b[0m \u001b[0mcreated\u001b[0m \u001b[0mtable\u001b[0m \u001b[0mholding\u001b[0m \u001b[0mthe\u001b[0m \u001b[0mcontent\u001b[0m \u001b[0mof\u001b[0m \u001b[0mthe\u001b[0m \u001b[0mCSV\u001b[0m \u001b[0mfile\u001b[0m\u001b[1;33m(\u001b[0m\u001b[0ms\u001b[0m\u001b[1;33m)\u001b[0m\u001b[1;33m.\u001b[0m\u001b[1;33m\u001b[0m\u001b[1;33m\u001b[0m\u001b[0m\n\u001b[0;32m    293\u001b[0m         \"\"\"\n\u001b[1;32m--> 294\u001b[1;33m         \u001b[0mprivate_parameters\u001b[0m \u001b[1;33m=\u001b[0m \u001b[0m_CreateTablePrivateParameters\u001b[0m\u001b[1;33m(\u001b[0m\u001b[1;33m**\u001b[0m\u001b[0mkwargs\u001b[0m\u001b[1;33m)\u001b[0m\u001b[1;33m\u001b[0m\u001b[1;33m\u001b[0m\u001b[0m\n\u001b[0m\u001b[0;32m    295\u001b[0m         \u001b[0mfull_path\u001b[0m \u001b[1;33m=\u001b[0m \u001b[0mpath\u001b[0m\u001b[1;33m\u001b[0m\u001b[1;33m\u001b[0m\u001b[0m\n\u001b[0;32m    296\u001b[0m         \u001b[0mpath\u001b[0m\u001b[1;33m,\u001b[0m \u001b[0mpattern\u001b[0m \u001b[1;33m=\u001b[0m \u001b[0m_split_path_and_pattern\u001b[0m\u001b[1;33m(\u001b[0m\u001b[0mpath\u001b[0m\u001b[1;33m,\u001b[0m \u001b[1;34m\".csv\"\u001b[0m\u001b[1;33m)\u001b[0m\u001b[1;33m\u001b[0m\u001b[1;33m\u001b[0m\u001b[0m\n",
      "\u001b[1;31mTypeError\u001b[0m: __init__() got an unexpected keyword argument 'store_name'"
     ]
    }
   ],
   "source": [
    "returns_table = session.read_csv(\n",
    "    \"returns.csv\", keys=[\"stock\"], store_name=\"Returns\", array_sep=\";\"\n",
    ")\n",
    "\n",
    "returns_table.head()"
   ]
  },
  {
   "cell_type": "code",
   "execution_count": null,
   "id": "f9d275ae",
   "metadata": {},
   "outputs": [],
   "source": [
    "cube = session.create_cube(returns_table, \"Return Cube\")"
   ]
  },
  {
   "cell_type": "code",
   "execution_count": null,
   "id": "428d90e1",
   "metadata": {},
   "outputs": [],
   "source": [
    "h, l, m = cube.hierarchies, cube.levels, cube.measures"
   ]
  },
  {
   "cell_type": "code",
   "execution_count": null,
   "id": "8fd913e7",
   "metadata": {},
   "outputs": [],
   "source": [
    "cube.schema"
   ]
  },
  {
   "cell_type": "code",
   "execution_count": null,
   "id": "6fcecf85",
   "metadata": {},
   "outputs": [],
   "source": [
    "m"
   ]
  },
  {
   "cell_type": "markdown",
   "id": "96a988b0",
   "metadata": {},
   "source": [
    "The below formatter will allow us to visualize the first 5 values in each array."
   ]
  },
  {
   "cell_type": "code",
   "execution_count": null,
   "id": "fa2efed6",
   "metadata": {},
   "outputs": [],
   "source": [
    "m[\"returns_vector.MEAN\"].formatter = \"ARRAY['|';0:5]\"\n",
    "m[\"returns_vector.SUM\"].formatter = \"ARRAY['|';0:5]\""
   ]
  },
  {
   "cell_type": "code",
   "execution_count": null,
   "id": "88e65010",
   "metadata": {
    "atoti": {
     "widget": {
      "columnWidths": {
       "[Measures].[returns_vector.MEAN]": 474.34375,
       "[Measures].[returns_vector.SUM]": 463
      },
      "mapping": {
       "columns": [
        "ALL_MEASURES"
       ],
       "measures": [
        "[Measures].[returns_vector.MEAN]",
        "[Measures].[returns_vector.SUM]"
       ],
       "rows": [
        "[Returns].[stock].[stock]"
       ]
      },
      "query": {
       "mdx": "SELECT NON EMPTY Hierarchize(Descendants({[Returns].[stock].[AllMember]}, 1, SELF_AND_BEFORE)) ON ROWS, NON EMPTY {[Measures].[returns_vector.MEAN], [Measures].[returns_vector.SUM]} ON COLUMNS FROM [Return Cube]",
       "updateMode": "once"
      },
      "serverKey": "default",
      "widgetKey": "pivot-table"
     }
    }
   },
   "outputs": [],
   "source": [
    "session.visualize()"
   ]
  },
  {
   "cell_type": "markdown",
   "id": "e3037c00",
   "metadata": {},
   "source": [
    "### Creating parameter hierarchy for dates\n",
    "We extracted the dates from the `returns` df and create a parameter hierarchy with it."
   ]
  },
  {
   "cell_type": "code",
   "execution_count": null,
   "id": "53b835d9",
   "metadata": {},
   "outputs": [],
   "source": [
    "calendar = pd.read_csv(\"dates.csv\")[\"Date\"]\n",
    "calendar"
   ]
  },
  {
   "cell_type": "markdown",
   "id": "a10711b7",
   "metadata": {},
   "source": [
    "The parameter hierarchy allows us to have a `Date Index` measure that will be used to retrieve the correspond returns for the day."
   ]
  },
  {
   "cell_type": "code",
   "execution_count": null,
   "id": "a4b6d610",
   "metadata": {},
   "outputs": [],
   "source": [
    "cube.create_static_parameter_hierarchy(\n",
    "    \"Dates\", list(calendar), index_measure=\"Date Index\", store_name=\"Dates\"\n",
    ")\n",
    "# Setting the hierarchy to non-slicing, as required by\n",
    "# the max_member aggregation function - see later - this behavior might change in future versions.\n",
    "h[\"Dates\"].slicing = False"
   ]
  },
  {
   "cell_type": "code",
   "execution_count": null,
   "id": "fc24bd73",
   "metadata": {},
   "outputs": [],
   "source": [
    "cube.schema"
   ]
  },
  {
   "cell_type": "markdown",
   "id": "475917f0",
   "metadata": {},
   "source": [
    "### Create random weight table"
   ]
  },
  {
   "cell_type": "code",
   "execution_count": null,
   "id": "83d63990",
   "metadata": {},
   "outputs": [],
   "source": [
    "weight_table = session.create_store(\n",
    "    types={\"stock\": tt.type.STRING, \"weight\": tt.type.NULLABLE_DOUBLE},\n",
    "    store_name=\"Weight\",\n",
    "    keys=[\"stock\"],\n",
    ")"
   ]
  },
  {
   "cell_type": "code",
   "execution_count": null,
   "id": "c522dbab",
   "metadata": {},
   "outputs": [],
   "source": [
    "returns_table.join(weight_table)\n",
    "cube.schema"
   ]
  },
  {
   "cell_type": "markdown",
   "id": "9cb46c77",
   "metadata": {},
   "source": [
    "### Creating the measure for weight"
   ]
  },
  {
   "cell_type": "code",
   "execution_count": null,
   "id": "00160185",
   "metadata": {},
   "outputs": [],
   "source": [
    "m[\"weight\"] = tt.agg.sum(weight_table[\"weight\"])\n",
    "m[\"weight\"].formatter = \"DOUBLE[#,###.00000]\""
   ]
  },
  {
   "cell_type": "markdown",
   "id": "a9f8001d",
   "metadata": {},
   "source": [
    "### Creating function to generate random weight for a given portfolio"
   ]
  },
  {
   "cell_type": "code",
   "execution_count": null,
   "id": "4e380bb5",
   "metadata": {},
   "outputs": [],
   "source": [
    "# it generates a random weight across the stocks, that sums up to 1\n",
    "# creates a scenario for the given weights\n",
    "\n",
    "def load_weights(scenario, selected_stocks):\n",
    "\n",
    "    k = np.random.rand(len(selected_stocks))\n",
    "\n",
    "    selected_stocks[\"weight\"] = k / sum(k)\n",
    "    selected_stocks.reset_index(inplace=True)\n",
    "\n",
    "    # load data into atoti cube as a scenario\n",
    "    weight_table.scenarios[scenario].load_pandas(selected_stocks[[\"stock\", \"weight\"]])"
   ]
  },
  {
   "cell_type": "markdown",
   "id": "7f5b8b1f",
   "metadata": {},
   "source": [
    "### Creating the initial weight\n",
    "Each call to the function will create a new scenario"
   ]
  },
  {
   "cell_type": "code",
   "execution_count": null,
   "id": "c6241b88",
   "metadata": {},
   "outputs": [],
   "source": [
    "# iterate the portfolio of n_stocks by n_weights (gives n_weights scenarios of different weight)\n",
    "def generate_portfolios(n_stocks, n_weights):\n",
    "    df_stocks = cube.query(m[\"contributors.COUNT\"], levels=[l[\"stock\"]])\n",
    "    selected_stocks = df_stocks.sample(n_stocks).copy()\n",
    "\n",
    "    for i in range(n_weights):\n",
    "        load_weights(f\"weight {i}\", selected_stocks)"
   ]
  },
  {
   "cell_type": "code",
   "execution_count": null,
   "id": "2d7ec5d3",
   "metadata": {},
   "outputs": [],
   "source": [
    "generate_portfolios(10, 3)"
   ]
  },
  {
   "cell_type": "code",
   "execution_count": null,
   "id": "c6fd8578",
   "metadata": {
    "atoti": {
     "height": 387,
     "widget": {
      "filters": [],
      "mapping": {
       "columns": [
        "ALL_MEASURES",
        "[Epoch].[Epoch].[Branch]"
       ],
       "measures": [
        "[Measures].[weight]"
       ],
       "rows": [
        "[Returns].[stock].[stock]"
       ]
      },
      "query": {
       "mdx": "SELECT NON EMPTY Hierarchize(Descendants({[Returns].[stock].[AllMember]}, 1, SELF_AND_BEFORE)) ON ROWS, NON EMPTY Crossjoin({[Measures].[weight]}, [Epoch].[Epoch].[Branch].Members) ON COLUMNS FROM [Return Cube]",
       "updateMode": "once"
      },
      "serverKey": "default",
      "widgetKey": "pivot-table"
     }
    }
   },
   "outputs": [],
   "source": [
    "session.visualize()"
   ]
  },
  {
   "cell_type": "markdown",
   "id": "92014b82",
   "metadata": {},
   "source": [
    "### Create sliding windows\n",
    "\n",
    "Create a sliding window of size 252. This could be modified using a measure simulation if needed."
   ]
  },
  {
   "cell_type": "code",
   "execution_count": null,
   "id": "b22edb18",
   "metadata": {},
   "outputs": [],
   "source": [
    "m[\"Lookback Window\"] = 252"
   ]
  },
  {
   "cell_type": "code",
   "execution_count": null,
   "id": "bad15752",
   "metadata": {},
   "outputs": [],
   "source": [
    "m[\"Returns sub-vector\"] = m[\"returns_vector.SUM\"][\n",
    "    m[\"Date Index\"] - m[\"Lookback Window\"] + 1 : m[\"Date Index\"] + 1\n",
    "]"
   ]
  },
  {
   "cell_type": "markdown",
   "id": "e11bd85b",
   "metadata": {},
   "source": [
    "### Computing the summ of the array"
   ]
  },
  {
   "cell_type": "code",
   "execution_count": null,
   "id": "0f626ab2",
   "metadata": {},
   "outputs": [],
   "source": [
    "m[\"p\"] = tt.array.mean(m[\"returns_vector.SUM\"])\n",
    "m[\"p\"].formatter = \"DOUBLE[#,###.0000000000]\""
   ]
  },
  {
   "cell_type": "markdown",
   "id": "ba5b0f53",
   "metadata": {},
   "source": [
    "The weighted average of the returns"
   ]
  },
  {
   "cell_type": "code",
   "execution_count": null,
   "id": "df77c818",
   "metadata": {},
   "outputs": [],
   "source": [
    "m[\"p sliding\"] = tt.agg.sum(\n",
    "    tt.array.sum(m[\"weight\"] * m[\"Returns sub-vector\"]),\n",
    "    scope=tt.scope.origin(l[\"stock\"]),\n",
    ")\n",
    "m[\"p sliding\"].formatter = \"DOUBLE[#,###.0000000000]\""
   ]
  },
  {
   "cell_type": "code",
   "execution_count": null,
   "id": "46ad4f27",
   "metadata": {
    "atoti": {
     "height": 439,
     "widget": {
      "filters": [],
      "mapping": {
       "columns": [
        "ALL_MEASURES",
        "[Epoch].[Epoch].[Branch]"
       ],
       "measures": [
        "[Measures].[p sliding]"
       ],
       "rows": [
        "[Dates].[Dates].[Dates] => [Returns].[stock].[stock]"
       ]
      },
      "query": {
       "mdx": "SELECT NON EMPTY Crossjoin({[Measures].[p sliding]}, [Epoch].[Epoch].[Branch].Members) ON COLUMNS, NON EMPTY Hierarchize(Union(Crossjoin(Descendants({[Dates].[Dates].[AllMember]}, 1, SELF_AND_BEFORE), [Returns].[stock].DefaultMember), Crossjoin([Dates].[Dates].[AllMember].[2020-12-24], Hierarchize(Descendants({[Returns].[stock].[AllMember]}, 1, SELF_AND_BEFORE))))) ON ROWS FROM [Return Cube]",
       "updateMode": "once"
      },
      "serverKey": "default",
      "widgetKey": "pivot-table"
     }
    }
   },
   "outputs": [],
   "source": [
    "session.visualize()"
   ]
  },
  {
   "cell_type": "markdown",
   "id": "31e52c3c",
   "metadata": {},
   "source": [
    "### Computing mu"
   ]
  },
  {
   "cell_type": "code",
   "execution_count": null,
   "id": "624e34d4",
   "metadata": {},
   "outputs": [],
   "source": [
    "m[\"mu\"] = m[\"weight\"] * m[\"p\"]\n",
    "m[\"mu\"].formatter = \"DOUBLE[#,###.00000]\""
   ]
  },
  {
   "cell_type": "code",
   "execution_count": null,
   "id": "24a64dac",
   "metadata": {},
   "outputs": [],
   "source": [
    "m[\"mu sliding\"] = tt.agg.sum(\n",
    "    m[\"weight\"] * m[\"p sliding\"], scope=tt.scope.origin(l[\"stock\"])\n",
    ")\n",
    "m[\"mu sliding\"].formatter = \"DOUBLE[#,###.00000]\""
   ]
  },
  {
   "cell_type": "markdown",
   "id": "18b35c4d",
   "metadata": {},
   "source": [
    "### Computing Standard Deviation\n",
    "\n",
    "We only compute the std for the stocks that has weights assigned."
   ]
  },
  {
   "cell_type": "code",
   "execution_count": null,
   "id": "8ad6e776",
   "metadata": {},
   "outputs": [],
   "source": [
    "m[\"Portfolio subvectors\"] = tt.agg.sum(\n",
    "    tt.where((m[\"weight\"] > 0) & (m[\"weight\"] < 1), m[\"Returns sub-vector\"]),\n",
    "    scope=tt.scope.origin(l[\"stock\"]),\n",
    ")"
   ]
  },
  {
   "cell_type": "code",
   "execution_count": null,
   "id": "b2ee89ce",
   "metadata": {},
   "outputs": [],
   "source": [
    "m[\"Std\"] = tt.array.std(m[\"returns_vector.SUM\"])\n",
    "m[\"Std\"].formatter = \"DOUBLE[#,###.00000]\""
   ]
  },
  {
   "cell_type": "code",
   "execution_count": null,
   "id": "3543190d",
   "metadata": {},
   "outputs": [],
   "source": [
    "m[\"std sliding\"] = tt.array.std(m[\"Portfolio subvectors\"])\n",
    "m[\"std sliding\"].formatter = \"DOUBLE[#,###.00000]\""
   ]
  },
  {
   "cell_type": "markdown",
   "id": "4b04eb93",
   "metadata": {
    "tags": []
   },
   "source": [
    "### Computing Sharpe Ratio"
   ]
  },
  {
   "cell_type": "code",
   "execution_count": null,
   "id": "307be7ab",
   "metadata": {},
   "outputs": [],
   "source": [
    "m[\"Sharpe Ratio\"] = m[\"mu sliding\"] / m[\"std sliding\"]\n",
    "m[\"Sharpe Ratio\"].formatter = \"DOUBLE[#,###.00000]\""
   ]
  },
  {
   "cell_type": "code",
   "execution_count": null,
   "id": "c131ce11",
   "metadata": {
    "atoti": {
     "widget": {
      "mapping": {
       "columns": [
        "[Epoch].[Epoch].[Branch]",
        "ALL_MEASURES"
       ],
       "measures": [
        "[Measures].[Sharpe Ratio]"
       ],
       "rows": [
        "[Dates].[Dates].[Dates]"
       ]
      },
      "plotly": {
       "data": {
        "commonTraceOverride": {
         "marker": {
          "size": 1
         }
        }
       },
       "layout": {
        "xaxis": {
         "title": "Dates"
        },
        "yaxis": {
         "title": "Sharpe Ratio"
        }
       }
      },
      "query": {
       "mdx": "SELECT NON EMPTY Hierarchize(Descendants({[Dates].[Dates].[AllMember]}, 1, SELF_AND_BEFORE)) ON ROWS, NON EMPTY Crossjoin([Epoch].[Epoch].[Branch].Members, {[Measures].[Sharpe Ratio]}) ON COLUMNS FROM [Return Cube]",
       "updateMode": "once"
      },
      "serverKey": "default",
      "switchedTo": "plotly-line-chart",
      "widgetKey": "pivot-table"
     }
    }
   },
   "outputs": [],
   "source": [
    "session.visualize()"
   ]
  },
  {
   "cell_type": "markdown",
   "id": "87d0c6ea",
   "metadata": {},
   "source": [
    "Compute the maximum Sharpe Ratio for each Weight scenario"
   ]
  },
  {
   "cell_type": "code",
   "execution_count": null,
   "id": "e9d0f29b",
   "metadata": {},
   "outputs": [],
   "source": [
    "m[\"Max Sharpe Ratio\"] = tt.where(\n",
    "    m[\"Sharpe Ratio\"] != None,\n",
    "    tt.total(\n",
    "        tt.agg.max(m[\"Sharpe Ratio\"], scope=tt.scope.origin(l[\"Dates\"])), h[\"Dates\"]\n",
    "    ),\n",
    ")\n",
    "\n",
    "m[\"Max Sharpe Ratio\"].formatter = \"DOUBLE[#,###.00000]\""
   ]
  },
  {
   "cell_type": "code",
   "execution_count": null,
   "id": "d2592905",
   "metadata": {
    "atoti": {
     "widget": {
      "mapping": {
       "horizontalSubplots": [],
       "splitBy": [
        "[Epoch].[Epoch].[Branch]",
        "ALL_MEASURES"
       ],
       "values": [
        "[Measures].[Sharpe Ratio]",
        "[Measures].[Max Sharpe Ratio]"
       ],
       "verticalSubplots": [],
       "xAxis": [
        "[Dates].[Dates].[Dates]"
       ]
      },
      "plotly": {
       "data": {
        "commonTraceOverride": {
         "marker": {
          "size": 1
         }
        }
       },
       "layout": {
        "xaxis": {
         "title": "Dates"
        },
        "yaxis": {
         "title": "Sharpe Ratio"
        }
       }
      },
      "query": {
       "mdx": "SELECT NON EMPTY Hierarchize(Descendants({[Dates].[Dates].[AllMember]}, 1, SELF_AND_BEFORE)) ON ROWS, NON EMPTY Crossjoin([Epoch].[Epoch].[Branch].Members, {[Measures].[Sharpe Ratio], [Measures].[Max Sharpe Ratio]}) ON COLUMNS FROM [Return Cube]",
       "updateMode": "once"
      },
      "serverKey": "default",
      "widgetKey": "plotly-line-chart"
     }
    }
   },
   "outputs": [],
   "source": [
    "session.visualize()"
   ]
  },
  {
   "cell_type": "code",
   "execution_count": null,
   "id": "0f5c5574",
   "metadata": {},
   "outputs": [],
   "source": [
    "m[\"Date max Sharpe\"] = tt.agg.max_member(m[\"Sharpe Ratio\"], l[\"Dates\"])"
   ]
  },
  {
   "cell_type": "markdown",
   "id": "2e64bf49",
   "metadata": {},
   "source": [
    "Based on the max Sharpe Ratio, select the needed weight"
   ]
  },
  {
   "cell_type": "code",
   "execution_count": null,
   "id": "9b5357f6",
   "metadata": {
    "atoti": {
     "widget": {
      "filters": [],
      "mapping": {
       "columns": [
        "ALL_MEASURES",
        "[Epoch].[Epoch].[Branch]"
       ],
       "measures": [
        "[Measures].[weight]"
       ],
       "rows": [
        "[Returns].[stock].[stock]"
       ]
      },
      "query": {
       "mdx": "SELECT NON EMPTY Crossjoin({[Measures].[weight]}, [Epoch].[Epoch].[Branch].Members) ON COLUMNS, NON EMPTY Hierarchize(Descendants({[Returns].[stock].[AllMember]}, 1, SELF_AND_BEFORE)) ON ROWS FROM [Return Cube]",
       "updateMode": "once"
      },
      "serverKey": "default",
      "widgetKey": "pivot-table"
     }
    }
   },
   "outputs": [],
   "source": [
    "session.visualize(\"Weight 0 simulation\")"
   ]
  },
  {
   "cell_type": "code",
   "execution_count": null,
   "id": "9783d346",
   "metadata": {},
   "outputs": [],
   "source": []
  },
  {
   "cell_type": "code",
   "execution_count": null,
   "id": "9f6ffb48",
   "metadata": {},
   "outputs": [],
   "source": []
  }
 ],
 "metadata": {
  "kernelspec": {
   "display_name": "Python 3 (ipykernel)",
   "language": "python",
   "name": "python3"
  },
  "language_info": {
   "codemirror_mode": {
    "name": "ipython",
    "version": 3
   },
   "file_extension": ".py",
   "mimetype": "text/x-python",
   "name": "python",
   "nbconvert_exporter": "python",
   "pygments_lexer": "ipython3",
   "version": "3.9.7"
  }
 },
 "nbformat": 4,
 "nbformat_minor": 5
}
