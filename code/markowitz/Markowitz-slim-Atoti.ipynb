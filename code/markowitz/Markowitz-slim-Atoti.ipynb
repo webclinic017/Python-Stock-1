{
 "cells": [
  {
   "cell_type": "code",
   "execution_count": 1,
   "id": "9e87ad91",
   "metadata": {},
   "outputs": [],
   "source": [
    "# !pip install numpy matplotlib cvxopt pandas yfinance finquant plotly cufflinks chart_studio pandas_datareader atoti atoti-jupyterlab"
   ]
  },
  {
   "cell_type": "code",
   "execution_count": 2,
   "id": "62cc3386",
   "metadata": {},
   "outputs": [
    {
     "name": "stdout",
     "output_type": "stream",
     "text": [
      "Welcome to atoti 0.6.2!\n",
      "\n",
      "By using this community edition, you agree with the license available at https://docs.atoti.io/latest/eula.html.\n",
      "Browse the official documentation at https://docs.atoti.io.\n",
      "Join the community at https://www.atoti.io/register.\n",
      "\n",
      "atoti collects telemetry data, which is used to help understand how to improve the product.\n",
      "If you don't wish to send usage data, set the ATOTI_DISABLE_TELEMETRY environment variable to True.\n",
      "\n",
      "You can hide this message by setting the ATOTI_HIDE_EULA_MESSAGE environment variable to True.\n"
     ]
    }
   ],
   "source": [
    "%matplotlib inline\n",
    "import random\n",
    "\n",
    "import cvxopt as opt\n",
    "import matplotlib.pyplot as plt\n",
    "import numpy as np\n",
    "import pandas as pd\n",
    "import yfinance as yf\n",
    "from cvxopt import blas, solvers\n",
    "from finquant.portfolio import build_portfolio\n",
    "from scipy.optimize import minimize\n",
    "\n",
    "np.random.seed(123)\n",
    "\n",
    "# Turn off progress printing\n",
    "solvers.options[\"show_progress\"] = False\n",
    "import concurrent.futures\n",
    "import os\n",
    "import random\n",
    "import urllib\n",
    "import urllib.request\n",
    "from concurrent.futures import ALL_COMPLETED, wait\n",
    "\n",
    "import atoti as tt\n",
    "import cufflinks\n",
    "import numpy as np\n",
    "import pandas_market_calendars as mcal\n",
    "\n",
    "# (*) To communicate with Plotly's server, sign in with credentials file\n",
    "import plotly as py\n",
    "\n",
    "# (*) Useful Python/Plotly tools\n",
    "import plotly.tools as tls\n",
    "\n",
    "# (*) Graph objects to piece together plots\n",
    "from plotly.graph_objs import *"
   ]
  },
  {
   "cell_type": "code",
   "execution_count": 3,
   "id": "ed0874e2",
   "metadata": {},
   "outputs": [],
   "source": [
    "# ndays = 252*10+7\n",
    "ndays = 252 * 1.5 + 7\n",
    "# ~training\n",
    "dback = 252\n",
    "# ~forecast\n",
    "dahead = 20\n",
    "# sample size\n",
    "# if to randomize\n",
    "rand = True\n",
    "nran = 20\n",
    "nstocks = 100\n",
    "# this should match tbill 20, 91, 126, 252\n",
    "\n",
    "end = pd.Timestamp.utcnow()\n",
    "start = end - int(ndays) * pd.tseries.offsets.BDay()\n",
    "one_week_end = end - int(ndays - 7) * pd.tseries.offsets.BDay()\n",
    "one_week_end = one_week_end.strftime(\"%Y-%m-%d\")\n",
    "start = start.strftime(\"%Y-%m-%d\")\n",
    "end = end.strftime(\"%Y-%m-%d\")"
   ]
  },
  {
   "cell_type": "code",
   "execution_count": 4,
   "id": "127d6c62",
   "metadata": {},
   "outputs": [],
   "source": [
    "# pd.tseries.offsets.BDay(100)\n",
    "nyse = mcal.get_calendar(\"NYSE\")\n",
    "\n",
    "# Show available calendars\n",
    "# print(mcal.get_calendar_names())\n",
    "tradingDays = list(\n",
    "    nyse.schedule(start_date=start, end_date=end).index.strftime(\"%Y-%m-%d\")\n",
    ")"
   ]
  },
  {
   "cell_type": "code",
   "execution_count": null,
   "id": "e9f3778f-5209-406f-8c78-e7749e3582ce",
   "metadata": {},
   "outputs": [],
   "source": []
  },
  {
   "cell_type": "code",
   "execution_count": 5,
   "id": "852dceca",
   "metadata": {},
   "outputs": [],
   "source": [
    "def rand_weights(n):\n",
    "    \"\"\" Produces n random weights that sum to 1 \"\"\"\n",
    "    k = np.random.rand(n)\n",
    "    return k / sum(k)\n",
    "\n",
    "\n",
    "def weighted_return(returns, weights):\n",
    "    w = weights\n",
    "\n",
    "    p = np.asmatrix(np.mean(returns, axis=0))\n",
    "\n",
    "    mu = np.asmatrix(w) * p.T\n",
    "    return mu\n",
    "\n",
    "\n",
    "def random_portfolio(returns):\n",
    "\n",
    "    w = rand_weights(len(pd.DataFrame(returns).columns))\n",
    "\n",
    "    p = np.asmatrix(np.mean(returns, axis=0))\n",
    "\n",
    "    C = np.array(pd.DataFrame(returns).cov().values)\n",
    "\n",
    "    mu = np.asmatrix(w) * p.T\n",
    "    sigma = np.sqrt(np.asmatrix(w) * C * np.asmatrix(w).T)\n",
    "\n",
    "    sharpe = mu / sigma\n",
    "\n",
    "    return np.float(mu), np.float(sigma), np.float(sharpe), np.array(w, dtype=object)\n",
    "\n",
    "\n",
    "def unique(list1):\n",
    "\n",
    "    # intilize a null list\n",
    "    unique_list = []\n",
    "\n",
    "    # traverse for all elements\n",
    "    for x in list1:\n",
    "        # check if exists in unique_list or not\n",
    "        if x not in unique_list:\n",
    "            unique_list.append(x)\n",
    "\n",
    "    return unique_list\n",
    "\n",
    "\n",
    "def split_sequences(sequences, n_steps_in, n_steps_out):\n",
    "\n",
    "    X, y = list(), list()\n",
    "    for i in range(len(sequences)):\n",
    "        # find the end of this pattern\n",
    "        end_ix = i + n_steps_in\n",
    "        out_end_ix = end_ix + n_steps_out\n",
    "        # check if we are beyond the dataset\n",
    "        if out_end_ix > len(sequences):\n",
    "            break\n",
    "        # gather input and output parts of the pattern\n",
    "        seq_x, seq_y = sequences[i:end_ix, :], sequences[end_ix:out_end_ix, :]\n",
    "        X.append(seq_x)\n",
    "        y.append(seq_y)\n",
    "\n",
    "    return np.array(X), np.array(y)"
   ]
  },
  {
   "cell_type": "code",
   "execution_count": 6,
   "id": "3237d7ae",
   "metadata": {},
   "outputs": [],
   "source": [
    "url = \"ftp://ftp.nasdaqtrader.com/symboldirectory/nasdaqtraded.txt\"\n",
    "\n",
    "urllib.request.urlretrieve(url, \"nasdaqtraded.txt\")\n",
    "urllib.request.urlretrieve(url, \"mfundslist.txt\")\n",
    "urllib.request.urlretrieve(url, \"bonds.txt\")\n",
    "\n",
    "df1 = pd.read_csv(\"nasdaqtraded.txt\", sep=\"|\")[0:-1]\n",
    "df2 = pd.read_csv(\"mfundslist.txt\", sep=\"|\")[0:-1]\n",
    "df3 = pd.read_csv(\"bonds.txt\", sep=\"|\")[0:-1]\n",
    "\n",
    "# combined = pd.concat([df1['Symbol'],df2['Symbol'],df3['Symbol']],axis=0)\n",
    "\n",
    "# process symbols for bad characters\n",
    "BAD_CHARS = [\"$\", \".\"]\n",
    "# pat = '|'.join(['({})'.format(re.escape(c)) for c in BAD_CHARS])\n",
    "# cleaned = unique(combined.replace(BAD_CHARS,'-'))\n",
    "\n",
    "# choose size\n",
    "size = nstocks\n",
    "# stocks = list(df1[\"Symbol\"].sample(n=int(size/3)))\n",
    "stocks = list(\n",
    "    df1[\"Symbol\"]\n",
    "    .replace(\".\", \"-\")\n",
    "    .replace(\"\\\\$\", \"-P\", regex=True)\n",
    "    .sample(n=int(size / 3))\n",
    ")\n",
    "mfunds = list(\n",
    "    df2[\"Symbol\"]\n",
    "    .replace(\".\", \"-\")\n",
    "    .replace(\"\\\\$\", \"-P\", regex=True)\n",
    "    .sample(n=int(size / 3))\n",
    ")\n",
    "bonds = list(\n",
    "    df3[\"Symbol\"]\n",
    "    .replace(\".\", \"-\")\n",
    "    .replace(\"\\\\$\", \"-P\", regex=True)\n",
    "    .sample(n=int(size / 3))\n",
    ")\n",
    "symbols = list(set(stocks + mfunds + bonds))  # unique(stocks + mfunds + bonds)\n",
    "# symbols = unique(stocks)"
   ]
  },
  {
   "cell_type": "code",
   "execution_count": 7,
   "id": "1c0d1a28",
   "metadata": {},
   "outputs": [
    {
     "name": "stdout",
     "output_type": "stream",
     "text": [
      "2020-05-18 2020-05-27\n"
     ]
    }
   ],
   "source": [
    "print(start, one_week_end)"
   ]
  },
  {
   "cell_type": "code",
   "execution_count": 8,
   "id": "0cf68126",
   "metadata": {},
   "outputs": [
    {
     "name": "stdout",
     "output_type": "stream",
     "text": [
      "[*********************100%***********************]  99 of 99 completed\n",
      "\n",
      "25 Failed downloads:\n",
      "- QPX: Data doesn't exist for startDate = 1589778000, endDate = 1590555600\n",
      "- TGH-PB: Data doesn't exist for startDate = 1589778000, endDate = 1590555600\n",
      "- WSBCP: Data doesn't exist for startDate = 1589778000, endDate = 1590555600\n",
      "- EFIV: Data doesn't exist for startDate = 1589778000, endDate = 1590555600\n",
      "- FFIE: Data doesn't exist for startDate = 1589778000, endDate = 1590555600\n",
      "- ATHN.W: No data found, symbol may be delisted\n",
      "- YAC.W: No data found, symbol may be delisted\n",
      "- BDSX: Data doesn't exist for startDate = 1589778000, endDate = 1590555600\n",
      "- VMACU: Data doesn't exist for startDate = 1589778000, endDate = 1590555600\n",
      "- RNR-PG: Data doesn't exist for startDate = 1589778000, endDate = 1590555600\n",
      "- IIAC.U: No data found, symbol may be delisted\n",
      "- COVAW: No data found for this date range, symbol may be delisted\n",
      "- IRNT.W: No data found, symbol may be delisted\n",
      "- BAC-PO: Data doesn't exist for startDate = 1589778000, endDate = 1590555600\n",
      "- BMEA: Data doesn't exist for startDate = 1589778000, endDate = 1590555600\n",
      "- COMSP: Data doesn't exist for startDate = 1589778000, endDate = 1590555600\n",
      "- AFTR.W: No data found, symbol may be delisted\n",
      "- PTRA: Data doesn't exist for startDate = 1589778000, endDate = 1590555600\n",
      "- WSO.B: No data found, symbol may be delisted\n",
      "- YALA: Data doesn't exist for startDate = 1589778000, endDate = 1590555600\n",
      "- MUDSU: Data doesn't exist for startDate = 1589778000, endDate = 1590555600\n",
      "- ACHR.W: No data found, symbol may be delisted\n",
      "- TUYA: Data doesn't exist for startDate = 1589778000, endDate = 1590555600\n",
      "- MDWT: Data doesn't exist for startDate = 1589778000, endDate = 1590555600\n",
      "- GWH.W: No data found, symbol may be delisted\n"
     ]
    }
   ],
   "source": [
    "pf_pre = build_portfolio(\n",
    "    names=symbols, start_date=start, end_date=one_week_end, data_api=\"yfinance\"\n",
    ")"
   ]
  },
  {
   "cell_type": "code",
   "execution_count": 9,
   "id": "802e610b",
   "metadata": {},
   "outputs": [],
   "source": [
    "vetted_symbols = list(\n",
    "    pf_pre.data.loc[\n",
    "        (np.intersect1d(list(pf_pre.data.index.strftime(\"%Y-%m-%d\")), tradingDays))\n",
    "    ]\n",
    "    .head(-1)\n",
    "    .tail(-1)\n",
    "    .dropna(axis=1)\n",
    "    .columns\n",
    ")"
   ]
  },
  {
   "cell_type": "code",
   "execution_count": 10,
   "id": "c298590e",
   "metadata": {},
   "outputs": [
    {
     "name": "stdout",
     "output_type": "stream",
     "text": [
      "[*********************100%***********************]  74 of 74 completed\n"
     ]
    }
   ],
   "source": [
    "# combinedList = unique(list(np.append(random.sample(symbols_sp500,int(len(symbols_sp500)*.05)),np.append(random.sample(dividendAristocraft,int(len(dividendAristocraft)*.25)),np.append(top10,random.sample(symbols_ns100,int(len(symbols_ns100)*.25)))))))\n",
    "\n",
    "# add index\n",
    "# vetted_symbols.append('TQQQ')\n",
    "\n",
    "pf = build_portfolio(\n",
    "    names=list(vetted_symbols), start_date=start, end_date=end, data_api=\"yfinance\"\n",
    ")"
   ]
  },
  {
   "cell_type": "code",
   "execution_count": 11,
   "id": "a14f19da",
   "metadata": {},
   "outputs": [],
   "source": [
    "\"\"\"\n",
    "import pandas_datareader.data as web\n",
    "\n",
    "import datetime\n",
    "\n",
    "# Multiple series:\n",
    "fred_data = web.DataReader(FRED_Indicators, 'fred', start, end)\n",
    "\"\"\"\n",
    "\n",
    "FRED_Indicators = [\"DTB4WK\", \"DTB3\", \"DTB6\", \"DTB1YR\"]\n",
    "\n",
    "import pandas_datareader.data as web\n",
    "\n",
    "\n",
    "def Fred_Data(name):\n",
    "    temp = web.DataReader(str(name), \"fred\", start, end)\n",
    "    temp.index = pd.to_datetime(temp.index)\n",
    "    # temp = temp.resample(frequency).mean().dropna()\n",
    "    return temp\n",
    "\n",
    "\n",
    "FRED_set = []\n",
    "FRED_completed = []\n",
    "for i in FRED_Indicators:\n",
    "    FRED_completed.append(i)\n",
    "    FRED_set.append(Fred_Data(i))\n",
    "\n",
    "FRED_pvt = pd.DataFrame()\n",
    "\n",
    "for x in range(0, len(FRED_completed)):\n",
    "    values = FRED_set[x]\n",
    "    values = values.loc[~values.index.duplicated(keep=\"last\")]\n",
    "\n",
    "    FRED_pvt = pd.concat([FRED_pvt, values], axis=1)"
   ]
  },
  {
   "cell_type": "code",
   "execution_count": null,
   "id": "e13d8714",
   "metadata": {},
   "outputs": [],
   "source": []
  },
  {
   "cell_type": "code",
   "execution_count": 12,
   "id": "cf86df8a",
   "metadata": {},
   "outputs": [
    {
     "data": {
      "text/plain": [
       "74"
      ]
     },
     "execution_count": 12,
     "metadata": {},
     "output_type": "execute_result"
    }
   ],
   "source": [
    "returns = np.log(\n",
    "    1\n",
    "    + pf.data.loc[\n",
    "        (np.intersect1d(list(pf.data.index.strftime(\"%Y-%m-%d\")), tradingDays))\n",
    "    ]\n",
    "    .head(-1)\n",
    "    .interpolate(method=\"time\")\n",
    "    .pct_change()\n",
    "    .tail(-1)\n",
    ")\n",
    "returns = returns.dropna(axis=1)\n",
    "# returns.columns = stocks.dropna(axis=1)\n",
    "len(returns.columns)\n",
    "# np.sum(returns.isin([np.inf, -np.inf, np.NaN])).sort_values(kind=\"quicksort\", ascending=True)"
   ]
  },
  {
   "cell_type": "code",
   "execution_count": 13,
   "id": "8cef60ed",
   "metadata": {},
   "outputs": [],
   "source": [
    "selectedmfunds = set(mfunds) & set(returns.columns)\n",
    "selectedstocks = set(stocks) & set(returns.columns)\n",
    "selectedbonds = set(bonds) & set(returns.columns)"
   ]
  },
  {
   "cell_type": "code",
   "execution_count": 14,
   "id": "c61f091c",
   "metadata": {},
   "outputs": [],
   "source": [
    "n_steps_in = dback\n",
    "\n",
    "n_steps_out = dahead\n",
    "\n",
    "Training, Holdout = split_sequences(\n",
    "    np.array(pd.DataFrame(returns.index.strftime(\"%Y-%m-%d\"))), n_steps_in, n_steps_out\n",
    ")"
   ]
  },
  {
   "cell_type": "code",
   "execution_count": null,
   "id": "62b38eb5",
   "metadata": {},
   "outputs": [],
   "source": []
  },
  {
   "cell_type": "code",
   "execution_count": null,
   "id": "e981fd15",
   "metadata": {},
   "outputs": [],
   "source": []
  },
  {
   "cell_type": "code",
   "execution_count": null,
   "id": "118df51b",
   "metadata": {},
   "outputs": [],
   "source": []
  },
  {
   "cell_type": "code",
   "execution_count": 15,
   "id": "0ab22986-b73d-494a-81b1-105fe88540fb",
   "metadata": {},
   "outputs": [],
   "source": [
    "#stocks.melt(ignore_index=False)\n",
    "prices = returns.melt(ignore_index=False).reset_index()"
   ]
  },
  {
   "cell_type": "code",
   "execution_count": null,
   "id": "a3360561-abab-4400-8139-9556627e94db",
   "metadata": {},
   "outputs": [],
   "source": []
  },
  {
   "cell_type": "code",
   "execution_count": 16,
   "id": "a2a7e7e7-29e0-4af9-9306-00ed41e2e18c",
   "metadata": {},
   "outputs": [],
   "source": [
    "session = tt.create_session(config={\"user_content_storage\": \"./content\"})"
   ]
  },
  {
   "cell_type": "code",
   "execution_count": 17,
   "id": "50716d7d-c8a2-4c84-9084-5a78291899d8",
   "metadata": {},
   "outputs": [],
   "source": [
    "prices_table = session.read_pandas(\n",
    "    prices,\n",
    "    keys=[\"Date\", \"variable\"],\n",
    "    table_name=\"prices\",\n",
    ")\n",
    "#prices_table.head()\n",
    "\n",
    "cube = session.create_cube(prices_table)"
   ]
  },
  {
   "cell_type": "code",
   "execution_count": 18,
   "id": "bb4804a7-4bb7-4e21-8172-601cb2828ff0",
   "metadata": {},
   "outputs": [
    {
     "data": {
      "image/svg+xml": [
       "<svg xmlns=\"http://www.w3.org/2000/svg\" xmlns:xlink=\"http://www.w3.org/1999/xlink\" width=\"177px\" height=\"114px\" viewBox=\"0.00 0.00 177.00 114.00\">\n",
       "<g id=\"graph0\" class=\"graph\" transform=\"scale(1.0 1.0) rotate(0) translate(4 110)\">\n",
       "<title>prices schema</title>\n",
       "<polygon fill=\"white\" stroke=\"transparent\" points=\"-4,4 -4,-110 173,-110 173,4 -4,4\"/>\n",
       "<!-- prices -->\n",
       "<g id=\"node1\" class=\"node\">\n",
       "<title>prices</title>\n",
       "<text text-anchor=\"start\" x=\"66.5\" y=\"-86.6\" font-family=\"-apple-system, BlinkMacSystemFont, 'Segoe UI', Helvetica, Arial, sans-serif, 'Apple Color Emoji', 'Segoe UI Emoji', 'Segoe UI Symbol'\" font-weight=\"bold\" font-size=\"13.00\">prices</text>\n",
       "<polygon fill=\"#f5f5f5\" stroke=\"transparent\" points=\"9.5,-53 9.5,-77 40.5,-77 40.5,-53 9.5,-53\"/>\n",
       "<text text-anchor=\"start\" x=\"14.5\" y=\"-62.6\" font-family=\"-apple-system, BlinkMacSystemFont, 'Segoe UI', Helvetica, Arial, sans-serif, 'Apple Color Emoji', 'Segoe UI Emoji', 'Segoe UI Symbol'\" font-weight=\"bold\" font-size=\"13.00\">key</text>\n",
       "<polygon fill=\"#f5f5f5\" stroke=\"transparent\" points=\"40.5,-53 40.5,-77 93.5,-77 93.5,-53 40.5,-53\"/>\n",
       "<text text-anchor=\"start\" x=\"45.5\" y=\"-61.6\" font-family=\"-apple-system, BlinkMacSystemFont, 'Segoe UI', Helvetica, Arial, sans-serif, 'Apple Color Emoji', 'Segoe UI Emoji', 'Segoe UI Symbol'\" font-size=\"13.00\">Date</text>\n",
       "<polygon fill=\"#f5f5f5\" stroke=\"transparent\" points=\"93.5,-53 93.5,-77 160.5,-77 160.5,-53 93.5,-53\"/>\n",
       "<text text-anchor=\"start\" x=\"98.5\" y=\"-62.6\" font-family=\"-apple-system, BlinkMacSystemFont, 'Segoe UI', Helvetica, Arial, sans-serif, 'Apple Color Emoji', 'Segoe UI Emoji', 'Segoe UI Symbol'\" font-style=\"italic\" font-size=\"13.00\">LocalDate</text>\n",
       "<polygon fill=\"#ffffff\" stroke=\"transparent\" points=\"9.5,-29 9.5,-53 40.5,-53 40.5,-29 9.5,-29\"/>\n",
       "<text text-anchor=\"start\" x=\"14.5\" y=\"-38.6\" font-family=\"-apple-system, BlinkMacSystemFont, 'Segoe UI', Helvetica, Arial, sans-serif, 'Apple Color Emoji', 'Segoe UI Emoji', 'Segoe UI Symbol'\" font-weight=\"bold\" font-size=\"13.00\">key</text>\n",
       "<polygon fill=\"#ffffff\" stroke=\"transparent\" points=\"40.5,-29 40.5,-53 93.5,-53 93.5,-29 40.5,-29\"/>\n",
       "<text text-anchor=\"start\" x=\"45.5\" y=\"-37.6\" font-family=\"-apple-system, BlinkMacSystemFont, 'Segoe UI', Helvetica, Arial, sans-serif, 'Apple Color Emoji', 'Segoe UI Emoji', 'Segoe UI Symbol'\" font-size=\"13.00\">variable</text>\n",
       "<polygon fill=\"#ffffff\" stroke=\"transparent\" points=\"93.5,-29 93.5,-53 160.5,-53 160.5,-29 93.5,-29\"/>\n",
       "<text text-anchor=\"start\" x=\"122.5\" y=\"-38.6\" font-family=\"-apple-system, BlinkMacSystemFont, 'Segoe UI', Helvetica, Arial, sans-serif, 'Apple Color Emoji', 'Segoe UI Emoji', 'Segoe UI Symbol'\" font-style=\"italic\" font-size=\"13.00\">String</text>\n",
       "<polygon fill=\"#f5f5f5\" stroke=\"transparent\" points=\"9.5,-5 9.5,-29 40.5,-29 40.5,-5 9.5,-5\"/>\n",
       "<polygon fill=\"#f5f5f5\" stroke=\"transparent\" points=\"40.5,-5 40.5,-29 93.5,-29 93.5,-5 40.5,-5\"/>\n",
       "<text text-anchor=\"start\" x=\"45.5\" y=\"-13.6\" font-family=\"-apple-system, BlinkMacSystemFont, 'Segoe UI', Helvetica, Arial, sans-serif, 'Apple Color Emoji', 'Segoe UI Emoji', 'Segoe UI Symbol'\" font-size=\"13.00\">value</text>\n",
       "<polygon fill=\"#f5f5f5\" stroke=\"transparent\" points=\"93.5,-5 93.5,-29 160.5,-29 160.5,-5 93.5,-5\"/>\n",
       "<text text-anchor=\"start\" x=\"118.5\" y=\"-14.6\" font-family=\"-apple-system, BlinkMacSystemFont, 'Segoe UI', Helvetica, Arial, sans-serif, 'Apple Color Emoji', 'Segoe UI Emoji', 'Segoe UI Symbol'\" font-style=\"italic\" font-size=\"13.00\">double</text>\n",
       "<polygon fill=\"none\" stroke=\"black\" points=\"8,-4 8,-102 161,-102 161,-4 8,-4\"/>\n",
       "</g>\n",
       "</g>\n",
       "</svg>"
      ],
      "text/plain": [
       "<IPython.core.display.SVG object>"
      ]
     },
     "execution_count": 18,
     "metadata": {},
     "output_type": "execute_result"
    }
   ],
   "source": [
    "cube.schema"
   ]
  },
  {
   "cell_type": "code",
   "execution_count": null,
   "id": "3254bf0a-2fb4-4ce6-be57-1f8bbb713ffb",
   "metadata": {},
   "outputs": [],
   "source": []
  },
  {
   "cell_type": "code",
   "execution_count": null,
   "id": "756ba543-24f7-40a9-9892-e37a41c54065",
   "metadata": {},
   "outputs": [],
   "source": []
  },
  {
   "cell_type": "code",
   "execution_count": 19,
   "id": "be9e8ade-c817-4173-93d1-47537d54834a",
   "metadata": {
    "atoti": {
     "widget": {
      "filters": [],
      "mapping": {
       "columns": [
        "ALL_MEASURES"
       ],
       "measures": [
        "[Measures].[value.MEAN]"
       ],
       "rows": [
        "[prices].[Date].[Date]",
        "[prices].[variable].[variable]"
       ]
      },
      "query": {
       "mdx": "SELECT NON EMPTY Order(Crossjoin(Hierarchize(Descendants({[prices].[Date].[AllMember]}, 1, SELF_AND_BEFORE)), Hierarchize(Descendants({[prices].[variable].[AllMember]}, 1, SELF_AND_BEFORE))), [Measures].[value.SUM], DESC) ON ROWS, NON EMPTY {[Measures].[value.MEAN]} ON COLUMNS FROM [prices] CELL PROPERTIES VALUE, FORMATTED_VALUE, BACK_COLOR, FORE_COLOR, FONT_FLAGS",
       "updateMode": "once"
      },
      "serverKey": "default",
      "widgetKey": "pivot-table"
     }
    },
    "tags": []
   },
   "outputs": [
    {
     "data": {
      "application/vnd.atoti.widget.v0+json": {
       "name": null,
       "sessionId": "d15e4f69-6ed2-46ba-971a-941797913023",
       "sessionLocation": {
        "https": false,
        "port": 55554
       },
       "widgetCreationCode": "session.visualize()"
      },
      "text/html": [
       "<img src=\"data:image/svg+xml;charset=utf8,%3C%3Fxml%20version%3D%221.0%22%20standalone%3D%22no%22%3F%3E%3Csvg%20xmlns%3D%22http%3A%2F%2Fwww.w3.org%2F2000%2Fsvg%22%20height%3D%22352%22%20width%3D%221137%22%3E%3CforeignObject%20width%3D%22100%25%22%20height%3D%22100%25%22%20x%3D%220%22%20y%3D%220%22%3E%3Cstyle%20xmlns%3D%22http%3A%2F%2Fwww.w3.org%2F1999%2Fxhtml%22%20type%3D%22text%2Fcss%22%3E*%2C%20%3A%3Abefore%2C%20%3A%3Aafter%20%7Bbox-sizing%3A%20unset%7D%0A.ant-root%20%5Bclass%5E%3D%22ant-%22%5D%2C%20.ant-root%20%5Bclass*%3D%22ant-%22%5D%2C%20.ant-root%20%5Bclass%5E%3D%22ant-%22%5D%20*%2C%20.ant-root%20%5Bclass*%3D%22ant-%22%5D%20*%2C%20.ant-root%20%5Bclass%5E%3D%22ant-%22%5D%20%3A%3Abefore%2C%20.ant-root%20%5Bclass*%3D%22ant-%22%5D%20%3A%3Abefore%2C%20.ant-root%20%5Bclass%5E%3D%22ant-%22%5D%20%3A%3Aafter%2C%20.ant-root%20%5Bclass*%3D%22ant-%22%5D%20%3A%3Aafter%20%7Bbox-sizing%3A%20border-box%7D%0A.ant-root%20html%2C%20.ant-root%20%7Bwidth%3A%20100%25%3B%20height%3A%20100%25%7D%0A.ant-root%20*%2C%20.ant-root%20%3A%3Abefore%2C%20.ant-root%20%3A%3Aafter%20%7Bbox-sizing%3A%20border-box%7D%0A.ant-root%20%7Bmargin-top%3A%200px%3B%20margin-right%3A%200px%3B%20margin-bottom%3A%200px%3B%20margin-left%3A%200px%3B%20color%3A%20rgb(89%2C%2089%2C%2089)%3B%20font-size%3A%2012px%3B%20font-family%3A%20-apple-system%2C%20BlinkMacSystemFont%2C%20%22Segoe%20UI%22%2C%20Roboto%2C%20%22Helvetica%20Neue%22%2C%20Arial%2C%20%22Noto%20Sans%22%2C%20sans-serif%2C%20%22Apple%20Color%20Emoji%22%2C%20%22Segoe%20UI%20Emoji%22%2C%20%22Segoe%20UI%20Symbol%22%2C%20%22Noto%20Color%20Emoji%22%3B%20font-variant-ligatures%3A%20normal%3B%20font-variant-numeric%3A%20tabular-nums%3B%20font-variant-east-asian%3A%20normal%3B%20font-variant-caps%3A%20normal%3B%20line-height%3A%201.66667%3B%20background-color%3A%20rgb(255%2C%20255%2C%20255)%3B%20--antd-wave-shadow-color%3A%20%20%231890FF%3B%20--scroll-bar%3A%20%200%7D%0A.ant-root%20.ant-spin%20%7Bbox-sizing%3A%20border-box%3B%20margin-top%3A%200px%3B%20margin-right%3A%200px%3B%20margin-bottom%3A%200px%3B%20margin-left%3A%200px%3B%20padding-top%3A%200px%3B%20padding-right%3A%200px%3B%20padding-bottom%3A%200px%3B%20padding-left%3A%200px%3B%20font-size%3A%2012px%3B%20font-variant-ligatures%3A%20normal%3B%20font-variant-numeric%3A%20tabular-nums%3B%20font-variant-east-asian%3A%20normal%3B%20font-variant-caps%3A%20normal%3B%20line-height%3A%201.66667%3B%20list-style-position%3A%20initial%3B%20list-style-image%3A%20initial%3B%20list-style-type%3A%20none%3B%20position%3A%20absolute%3B%20display%3A%20none%3B%20color%3A%20rgb(24%2C%20144%2C%20255)%3B%20text-align%3A%20center%3B%20vertical-align%3A%20middle%3B%20opacity%3A%200%3B%20transition-duration%3A%200.3s%3B%20transition-timing-function%3A%20cubic-bezier(0.78%2C%200.14%2C%200.15%2C%200.86)%3B%20transition-delay%3A%200s%3B%20transition-property%3A%20transform%7D%0A.ant-root%20.ant-spin-spinning%20%7Bposition%3A%20static%3B%20display%3A%20inline-block%3B%20opacity%3A%201%7D%0A.ant-root%20.ant-spin-dot%20%7Bposition%3A%20relative%3B%20display%3A%20inline-block%3B%20font-size%3A%2020px%3B%20width%3A%201em%3B%20height%3A%201em%7D%0A.ant-root%20.ant-spin-dot-item%20%7Bposition%3A%20absolute%3B%20display%3A%20block%3B%20width%3A%209px%3B%20height%3A%209px%3B%20background-color%3A%20rgb(24%2C%20144%2C%20255)%3B%20border-top-left-radius%3A%20100%25%3B%20border-top-right-radius%3A%20100%25%3B%20border-bottom-right-radius%3A%20100%25%3B%20border-bottom-left-radius%3A%20100%25%3B%20transform%3A%20scale(0.75)%3B%20transform-origin%3A%2050%25%2050%25%3B%20opacity%3A%200.3%3B%20animation-duration%3A%201s%3B%20animation-timing-function%3A%20linear%3B%20animation-delay%3A%200s%3B%20animation-iteration-count%3A%20infinite%3B%20animation-direction%3A%20alternate%3B%20animation-fill-mode%3A%20none%3B%20animation-play-state%3A%20running%3B%20animation-name%3A%20antSpinMove%7D%0A.ant-root%20.ant-spin-dot-item%3Anth-child(1)%20%7Btop%3A%200px%3B%20left%3A%200px%7D%0A.ant-root%20.ant-spin-dot-item%3Anth-child(2)%20%7Btop%3A%200px%3B%20right%3A%200px%3B%20animation-delay%3A%200.4s%7D%0A.ant-root%20.ant-spin-dot-item%3Anth-child(3)%20%7Bright%3A%200px%3B%20bottom%3A%200px%3B%20animation-delay%3A%200.8s%7D%0A.ant-root%20.ant-spin-dot-item%3Anth-child(4)%20%7Bbottom%3A%200px%3B%20left%3A%200px%3B%20animation-delay%3A%201.2s%7D%0A.ant-root%20.ant-spin-dot-spin%20%7Btransform%3A%20rotate(45deg)%3B%20animation-duration%3A%201.2s%3B%20animation-timing-function%3A%20linear%3B%20animation-delay%3A%200s%3B%20animation-iteration-count%3A%20infinite%3B%20animation-direction%3A%20normal%3B%20animation-fill-mode%3A%20none%3B%20animation-play-state%3A%20running%3B%20animation-name%3A%20antRotate%7D%0A.ant-root%20.ant-spin-lg%20.ant-spin-dot%20%7Bfont-size%3A%2032px%7D%0A.ant-root%20.ant-spin-lg%20.ant-spin-dot%20i%20%7Bwidth%3A%2014px%3B%20height%3A%2014px%7D%0A.ant-root%20.aui-invisible-scrollbars%20%7B%7D%0A.css-12ebr42-AWidget%20%7Bheight%3A%20100%25%7D%0A.css-1e3kjgr-Spinner%20%7Bheight%3A%20100%25%3B%20position%3A%20relative%7D%0A.css-ck2xzt-Spinner%20%7B-webkit-box-align%3A%20center%3B%20align-items%3A%20center%3B%20background-image%3A%20initial%3B%20background-position-x%3A%20initial%3B%20background-position-y%3A%20initial%3B%20background-size%3A%20initial%3B%20background-repeat-x%3A%20initial%3B%20background-repeat-y%3A%20initial%3B%20background-attachment%3A%20initial%3B%20background-origin%3A%20initial%3B%20background-clip%3A%20initial%3B%20background-color%3A%20transparent%3B%20display%3A%20flex%3B%20height%3A%20100%25%3B%20-webkit-box-pack%3A%20center%3B%20justify-content%3A%20center%3B%20position%3A%20absolute%3B%20transition-duration%3A%20300ms%3B%20transition-timing-function%3A%20ease%3B%20transition-delay%3A%200s%3B%20transition-property%3A%20opacity%3B%20width%3A%20100%25%3B%20opacity%3A%200%3B%20pointer-events%3A%20none%3B%20z-index%3A%202%7D%0A.css-1hwl8p1-Table%20%7Bpadding-bottom%3A%202px%3B%20padding-right%3A%202px%3B%20height%3A%20100%25%7D%0A.css-14ejcn0-Table%20%7Bheight%3A%20calc(100%25%20-%2030px)%3B%20outline-color%3A%20initial%3B%20outline-style%3A%20none%3B%20outline-width%3A%20initial%3B%20position%3A%20relative%7D%0A.css-1rxpjm0-ColumnResizeHint%20%7Bdisplay%3A%20none%3B%20position%3A%20absolute%3B%20z-index%3A%201%7D%0A.css-walxhl-ColumnResizeHint%20%7Bheight%3A%2028px%3B%20background-color%3A%20rgb(24%2C%20144%2C%20255)%3B%20width%3A%205px%7D%0A.css-1uww2vi-Table%20%7Bheight%3A%2030px%3B%20text-align%3A%20right%3B%20padding-right%3A%2025px%7D%0A.css-cavlcc-ColumnResizeHint%20%7Bdisplay%3A%20none%3B%20float%3A%20right%3B%20height%3A%20292px%3B%20background-color%3A%20rgb(24%2C%20144%2C%20255)%3B%20opacity%3A%200.4%3B%20width%3A%202px%7D%0A.css-bi0kgd-Table%20%7Bdisplay%3A%20flex%3B%20height%3A%20320px%7D%0A.css-cjaqq6-Table%20%7Bborder-collapse%3A%20collapse%3B%20height%3A%2028px%3B%20width%3A%20240px%7D%0A.css-17cmzye%20%7Bheight%3A%2028px%3B%20width%3A%20240px%7D%0A.css-99ih7p%20%7Bcursor%3A%20cell%3B%20height%3A%2028px%3B%20overflow-x%3A%20hidden%3B%20overflow-y%3A%20hidden%3B%20position%3A%20relative%3B%20width%3A%20240px%7D%0A.css-1hol363-ResizableCell%20%7Bdisplay%3A%20flex%3B%20flex-direction%3A%20column%3B%20position%3A%20absolute%3B%20top%3A%200px%3B%20left%3A%200px%3B%20height%3A%2028px%3B%20width%3A%20120px%7D%0A.css-xxcrt1-ResizableCell%20%7Bbackground-image%3A%20initial%3B%20background-position-x%3A%20initial%3B%20background-position-y%3A%20initial%3B%20background-size%3A%20initial%3B%20background-repeat-x%3A%20initial%3B%20background-repeat-y%3A%20initial%3B%20background-attachment%3A%20initial%3B%20background-origin%3A%20initial%3B%20background-clip%3A%20initial%3B%20background-color%3A%20transparent%3B%20cursor%3A%20col-resize%3B%20height%3A%20100%25%3B%20position%3A%20absolute%3B%20right%3A%200px%3B%20width%3A%205px%3B%20z-index%3A%201%7D%0A.css-kdqddf-ResizableCell%20%7Bdisplay%3A%20flex%3B%20flex-direction%3A%20column%3B%20position%3A%20absolute%3B%20top%3A%200px%3B%20left%3A%20120px%3B%20height%3A%2028px%3B%20width%3A%20120px%3B%20border-right-width%3A%202px%3B%20border-right-style%3A%20solid%3B%20border-right-color%3A%20rgb(233%2C%20233%2C%20233)%7D%0A.css-cd35y3%20%7Bheight%3A%20292px%3B%20width%3A%20240px%3B%20overflow-x%3A%20hidden%3B%20overflow-y%3A%20auto%7D%0A.css-14drjk3-Table%20%7Bwidth%3A%20895px%3B%20border-collapse%3A%20collapse%7D%0A.css-eg3gwx%20%7Bheight%3A%2028px%3B%20width%3A%20877px%3B%20overflow-x%3A%20auto%3B%20overflow-y%3A%20hidden%7D%0A.css-dpuo8y%20%7Bheight%3A%20292px%3B%20width%3A%20895px%3B%20overflow-x%3A%20auto%3B%20overflow-y%3A%20auto%7D%0A.css-1toshix%20%7Bcursor%3A%20cell%3B%20height%3A%2028px%3B%20overflow-x%3A%20hidden%3B%20overflow-y%3A%20hidden%3B%20position%3A%20relative%3B%20width%3A%20120px%7D%0A.css-x2z59k%20%7Bcursor%3A%20cell%3B%20height%3A%20779128px%3B%20overflow-x%3A%20hidden%3B%20overflow-y%3A%20hidden%3B%20position%3A%20relative%3B%20width%3A%20240px%3B%20border-top-width%3A%202px%3B%20border-top-style%3A%20solid%3B%20border-top-color%3A%20rgb(233%2C%20233%2C%20233)%3B%20border-right-width%3A%202px%3B%20border-right-style%3A%20solid%3B%20border-right-color%3A%20rgb(233%2C%20233%2C%20233)%7D%0A.css-17kud3a%20%7Bcursor%3A%20cell%3B%20height%3A%20779128px%3B%20overflow-x%3A%20hidden%3B%20overflow-y%3A%20hidden%3B%20position%3A%20relative%3B%20width%3A%20120px%3B%20border-top-width%3A%202px%3B%20border-top-style%3A%20solid%3B%20border-top-color%3A%20rgb(233%2C%20233%2C%20233)%7D%0A*%20%7B-ms-overflow-style%3A%20none%3B%20scrollbar-width%3A%20none%7D%0A*%3A%3A-webkit-scrollbar%20%7Bdisplay%3A%20none%7D%0A.atoti-hidden-in-snapshot%20%7Bdisplay%3A%20none%7D%3C%2Fstyle%3E%3Cdiv%20xmlns%3D%22http%3A%2F%2Fwww.w3.org%2F1999%2Fxhtml%22%20style%3D%22height%3A%20352px%3B%20width%3A%201137px%3B%22%3E%3Cdiv%20class%3D%22ant-root%20css-0%22%3E%3Cdiv%20class%3D%22ant-dropdown-trigger%20css-12ebr42-AWidget%22%3E%3Cdiv%20class%3D%22css-1e3kjgr-Spinner%22%3E%3Cdiv%20class%3D%22css-ck2xzt-Spinner%22%3E%3Cdiv%20class%3D%22ant-spin%20ant-spin-lg%20ant-spin-spinning%22%3E%3Cspan%20class%3D%22ant-spin-dot%20ant-spin-dot-spin%22%3E%3Ci%20class%3D%22ant-spin-dot-item%22%3E%3C%2Fi%3E%3Ci%20class%3D%22ant-spin-dot-item%22%3E%3C%2Fi%3E%3Ci%20class%3D%22ant-spin-dot-item%22%3E%3C%2Fi%3E%3Ci%20class%3D%22ant-spin-dot-item%22%3E%3C%2Fi%3E%3C%2Fspan%3E%3C%2Fdiv%3E%3C%2Fdiv%3E%3Cdiv%20class%3D%22css-1hwl8p1-Table%22%3E%3Cdiv%20tabindex%3D%220%22%20class%3D%22css-14ejcn0-Table%22%3E%3Cdiv%20class%3D%22css-1rxpjm0-ColumnResizeHint%22%3E%3Cdiv%20class%3D%22css-walxhl-ColumnResizeHint%22%3E%3C%2Fdiv%3E%3Cdiv%20class%3D%22css-cavlcc-ColumnResizeHint%22%3E%3C%2Fdiv%3E%3C%2Fdiv%3E%3Cdiv%20class%3D%22css-bi0kgd-Table%22%3E%3Cdiv%20class%3D%22css-cjaqq6-Table%22%3E%3Cdiv%20class%3D%22%20css-17cmzye%22%3E%3Cdiv%20class%3D%22css-99ih7p%22%3E%3Cdiv%20class%3D%22css-1hol363-ResizableCell%22%3E%3Cdiv%20class%3D%22aui-table-cell%22%20style%3D%22font-size%3A%2012px%3B%20height%3A%2028px%3B%20left%3A%200px%3B%20padding%3A%204px%204px%203px%3B%20overflow%3A%20hidden%3B%20position%3A%20absolute%3B%20text-align%3A%20left%3B%20top%3A%200px%3B%20width%3A%20115px%3B%20font-weight%3A%20600%3B%20display%3A%20flex%3B%20align-items%3A%20center%3B%22%3E%3Cspan%3EDate%3C%2Fspan%3E%3C%2Fdiv%3E%3Cdiv%20class%3D%22css-xxcrt1-ResizableCell%22%3E%3C%2Fdiv%3E%3C%2Fdiv%3E%3Cdiv%20class%3D%22css-kdqddf-ResizableCell%22%3E%3Cdiv%20class%3D%22aui-table-cell%22%20style%3D%22font-size%3A%2012px%3B%20height%3A%2028px%3B%20left%3A%200px%3B%20padding%3A%204px%204px%203px%3B%20overflow%3A%20hidden%3B%20position%3A%20absolute%3B%20text-align%3A%20left%3B%20top%3A%200px%3B%20width%3A%20115px%3B%20font-weight%3A%20600%3B%20display%3A%20flex%3B%20align-items%3A%20center%3B%22%3E%3Cspan%3Evariable%3C%2Fspan%3E%3C%2Fdiv%3E%3Cdiv%20class%3D%22css-xxcrt1-ResizableCell%22%3E%3C%2Fdiv%3E%3C%2Fdiv%3E%3C%2Fdiv%3E%3C%2Fdiv%3E%3Cdiv%20class%3D%22aui-invisible-scrollbars%20css-cd35y3%22%3E%3Cdiv%20class%3D%22css-x2z59k%22%3E%3Cdiv%20style%3D%22overflow%3A%20hidden%3B%20display%3A%20flex%3B%20align-items%3A%20center%3B%20font-size%3A%2012px%3B%20height%3A%2028px%3B%20left%3A%200px%3B%20padding%3A%204px%204px%203px%3B%20position%3A%20absolute%3B%20text-align%3A%20left%3B%20top%3A%200px%3B%20width%3A%20120px%3B%20background-color%3A%20transparent%3B%20font-weight%3A%20600%3B%22%3E%3Cspan%20style%3D%22text-overflow%3A%20ellipsis%3B%20overflow%3A%20hidden%3B%20white-space%3A%20nowrap%3B%20max-width%3A%20calc((100%25%20-%200px)%20-%200px)%3B%22%3ETotal%3C%2Fspan%3E%3C%2Fdiv%3E%3Cdiv%20style%3D%22overflow%3A%20hidden%3B%20display%3A%20flex%3B%20align-items%3A%20center%3B%20font-size%3A%2012px%3B%20height%3A%2028px%3B%20left%3A%20120px%3B%20padding%3A%204px%204px%203px%3B%20position%3A%20absolute%3B%20text-align%3A%20left%3B%20top%3A%200px%3B%20width%3A%20120px%3B%20background-color%3A%20transparent%3B%20border-right%3A%202px%20solid%20rgb(233%2C%20233%2C%20233)%3B%22%3E%3Cspan%20style%3D%22text-overflow%3A%20ellipsis%3B%20overflow%3A%20hidden%3B%20white-space%3A%20nowrap%3B%20max-width%3A%20calc((100%25%20-%200px)%20-%200px)%3B%22%3E%3C%2Fspan%3E%3C%2Fdiv%3E%3Cdiv%20style%3D%22overflow%3A%20hidden%3B%20display%3A%20flex%3B%20align-items%3A%20center%3B%20font-size%3A%2012px%3B%20height%3A%2028px%3B%20left%3A%200px%3B%20padding%3A%204px%204px%203px%3B%20position%3A%20absolute%3B%20text-align%3A%20left%3B%20top%3A%2028px%3B%20width%3A%20120px%3B%20background-color%3A%20transparent%3B%20border-top%3A%201px%20solid%20rgb(233%2C%20233%2C%20233)%3B%20font-weight%3A%20600%3B%22%3E%3Cspan%20style%3D%22text-overflow%3A%20ellipsis%3B%20overflow%3A%20hidden%3B%20white-space%3A%20nowrap%3B%20max-width%3A%20calc((100%25%20-%200px)%20-%200px)%3B%22%3E2020-11-09%3C%2Fspan%3E%3C%2Fdiv%3E%3Cdiv%20style%3D%22overflow%3A%20hidden%3B%20display%3A%20flex%3B%20align-items%3A%20center%3B%20font-size%3A%2012px%3B%20height%3A%2028px%3B%20left%3A%20120px%3B%20padding%3A%204px%204px%203px%3B%20position%3A%20absolute%3B%20text-align%3A%20left%3B%20top%3A%2028px%3B%20width%3A%20120px%3B%20background-color%3A%20transparent%3B%20border-right%3A%202px%20solid%20rgb(233%2C%20233%2C%20233)%3B%20border-top%3A%201px%20solid%20rgb(233%2C%20233%2C%20233)%3B%22%3E%3Cspan%20style%3D%22text-overflow%3A%20ellipsis%3B%20overflow%3A%20hidden%3B%20white-space%3A%20nowrap%3B%20max-width%3A%20calc((100%25%20-%200px)%20-%200px)%3B%22%3E%3C%2Fspan%3E%3C%2Fdiv%3E%3Cdiv%20style%3D%22overflow%3A%20hidden%3B%20display%3A%20none%3B%20align-items%3A%20center%3B%20font-size%3A%2012px%3B%20height%3A%2028px%3B%20left%3A%200px%3B%20padding%3A%204px%204px%203px%3B%20position%3A%20absolute%3B%20text-align%3A%20left%3B%20top%3A%2056px%3B%20width%3A%20120px%3B%20background-color%3A%20transparent%3B%20font-weight%3A%20600%3B%22%3E%3Cspan%20style%3D%22text-overflow%3A%20ellipsis%3B%20overflow%3A%20hidden%3B%20white-space%3A%20nowrap%3B%20max-width%3A%20calc((100%25%20-%200px)%20-%200px)%3B%22%3E2020-11-09%3C%2Fspan%3E%3C%2Fdiv%3E%3Cdiv%20style%3D%22overflow%3A%20hidden%3B%20display%3A%20flex%3B%20align-items%3A%20center%3B%20font-size%3A%2012px%3B%20height%3A%2028px%3B%20left%3A%20120px%3B%20padding%3A%204px%204px%203px%3B%20position%3A%20absolute%3B%20text-align%3A%20left%3B%20top%3A%2056px%3B%20width%3A%20120px%3B%20background-color%3A%20rgb(250%2C%20250%2C%20250)%3B%20border-right%3A%202px%20solid%20rgb(233%2C%20233%2C%20233)%3B%22%3E%3Cspan%20style%3D%22text-overflow%3A%20ellipsis%3B%20overflow%3A%20hidden%3B%20white-space%3A%20nowrap%3B%20max-width%3A%20calc((100%25%20-%200px)%20-%200px)%3B%22%3EEXPR%3C%2Fspan%3E%3C%2Fdiv%3E%3Cdiv%20style%3D%22overflow%3A%20hidden%3B%20display%3A%20none%3B%20align-items%3A%20center%3B%20font-size%3A%2012px%3B%20height%3A%2028px%3B%20left%3A%200px%3B%20padding%3A%204px%204px%203px%3B%20position%3A%20absolute%3B%20text-align%3A%20left%3B%20top%3A%2084px%3B%20width%3A%20120px%3B%20background-color%3A%20transparent%3B%20font-weight%3A%20600%3B%22%3E%3Cspan%20style%3D%22text-overflow%3A%20ellipsis%3B%20overflow%3A%20hidden%3B%20white-space%3A%20nowrap%3B%20max-width%3A%20calc((100%25%20-%200px)%20-%200px)%3B%22%3E2020-11-09%3C%2Fspan%3E%3C%2Fdiv%3E%3Cdiv%20style%3D%22overflow%3A%20hidden%3B%20display%3A%20flex%3B%20align-items%3A%20center%3B%20font-size%3A%2012px%3B%20height%3A%2028px%3B%20left%3A%20120px%3B%20padding%3A%204px%204px%203px%3B%20position%3A%20absolute%3B%20text-align%3A%20left%3B%20top%3A%2084px%3B%20width%3A%20120px%3B%20background-color%3A%20transparent%3B%20border-right%3A%202px%20solid%20rgb(233%2C%20233%2C%20233)%3B%22%3E%3Cspan%20style%3D%22text-overflow%3A%20ellipsis%3B%20overflow%3A%20hidden%3B%20white-space%3A%20nowrap%3B%20max-width%3A%20calc((100%25%20-%200px)%20-%200px)%3B%22%3EAHT-PF%3C%2Fspan%3E%3C%2Fdiv%3E%3Cdiv%20style%3D%22overflow%3A%20hidden%3B%20display%3A%20none%3B%20align-items%3A%20center%3B%20font-size%3A%2012px%3B%20height%3A%2028px%3B%20left%3A%200px%3B%20padding%3A%204px%204px%203px%3B%20position%3A%20absolute%3B%20text-align%3A%20left%3B%20top%3A%20112px%3B%20width%3A%20120px%3B%20background-color%3A%20transparent%3B%20font-weight%3A%20600%3B%22%3E%3Cspan%20style%3D%22text-overflow%3A%20ellipsis%3B%20overflow%3A%20hidden%3B%20white-space%3A%20nowrap%3B%20max-width%3A%20calc((100%25%20-%200px)%20-%200px)%3B%22%3E2020-11-09%3C%2Fspan%3E%3C%2Fdiv%3E%3Cdiv%20style%3D%22overflow%3A%20hidden%3B%20display%3A%20flex%3B%20align-items%3A%20center%3B%20font-size%3A%2012px%3B%20height%3A%2028px%3B%20left%3A%20120px%3B%20padding%3A%204px%204px%203px%3B%20position%3A%20absolute%3B%20text-align%3A%20left%3B%20top%3A%20112px%3B%20width%3A%20120px%3B%20background-color%3A%20rgb(250%2C%20250%2C%20250)%3B%20border-right%3A%202px%20solid%20rgb(233%2C%20233%2C%20233)%3B%22%3E%3Cspan%20style%3D%22text-overflow%3A%20ellipsis%3B%20overflow%3A%20hidden%3B%20white-space%3A%20nowrap%3B%20max-width%3A%20calc((100%25%20-%200px)%20-%200px)%3B%22%3EMRO%3C%2Fspan%3E%3C%2Fdiv%3E%3Cdiv%20style%3D%22overflow%3A%20hidden%3B%20display%3A%20none%3B%20align-items%3A%20center%3B%20font-size%3A%2012px%3B%20height%3A%2028px%3B%20left%3A%200px%3B%20padding%3A%204px%204px%203px%3B%20position%3A%20absolute%3B%20text-align%3A%20left%3B%20top%3A%20140px%3B%20width%3A%20120px%3B%20background-color%3A%20transparent%3B%20font-weight%3A%20600%3B%22%3E%3Cspan%20style%3D%22text-overflow%3A%20ellipsis%3B%20overflow%3A%20hidden%3B%20white-space%3A%20nowrap%3B%20max-width%3A%20calc((100%25%20-%200px)%20-%200px)%3B%22%3E2020-11-09%3C%2Fspan%3E%3C%2Fdiv%3E%3Cdiv%20style%3D%22overflow%3A%20hidden%3B%20display%3A%20flex%3B%20align-items%3A%20center%3B%20font-size%3A%2012px%3B%20height%3A%2028px%3B%20left%3A%20120px%3B%20padding%3A%204px%204px%203px%3B%20position%3A%20absolute%3B%20text-align%3A%20left%3B%20top%3A%20140px%3B%20width%3A%20120px%3B%20background-color%3A%20transparent%3B%20border-right%3A%202px%20solid%20rgb(233%2C%20233%2C%20233)%3B%22%3E%3Cspan%20style%3D%22text-overflow%3A%20ellipsis%3B%20overflow%3A%20hidden%3B%20white-space%3A%20nowrap%3B%20max-width%3A%20calc((100%25%20-%200px)%20-%200px)%3B%22%3EKSS%3C%2Fspan%3E%3C%2Fdiv%3E%3Cdiv%20style%3D%22overflow%3A%20hidden%3B%20display%3A%20none%3B%20align-items%3A%20center%3B%20font-size%3A%2012px%3B%20height%3A%2028px%3B%20left%3A%200px%3B%20padding%3A%204px%204px%203px%3B%20position%3A%20absolute%3B%20text-align%3A%20left%3B%20top%3A%20168px%3B%20width%3A%20120px%3B%20background-color%3A%20transparent%3B%20font-weight%3A%20600%3B%22%3E%3Cspan%20style%3D%22text-overflow%3A%20ellipsis%3B%20overflow%3A%20hidden%3B%20white-space%3A%20nowrap%3B%20max-width%3A%20calc((100%25%20-%200px)%20-%200px)%3B%22%3E2020-11-09%3C%2Fspan%3E%3C%2Fdiv%3E%3Cdiv%20style%3D%22overflow%3A%20hidden%3B%20display%3A%20flex%3B%20align-items%3A%20center%3B%20font-size%3A%2012px%3B%20height%3A%2028px%3B%20left%3A%20120px%3B%20padding%3A%204px%204px%203px%3B%20position%3A%20absolute%3B%20text-align%3A%20left%3B%20top%3A%20168px%3B%20width%3A%20120px%3B%20background-color%3A%20rgb(250%2C%20250%2C%20250)%3B%20border-right%3A%202px%20solid%20rgb(233%2C%20233%2C%20233)%3B%22%3E%3Cspan%20style%3D%22text-overflow%3A%20ellipsis%3B%20overflow%3A%20hidden%3B%20white-space%3A%20nowrap%3B%20max-width%3A%20calc((100%25%20-%200px)%20-%200px)%3B%22%3EVTR%3C%2Fspan%3E%3C%2Fdiv%3E%3Cdiv%20style%3D%22overflow%3A%20hidden%3B%20display%3A%20none%3B%20align-items%3A%20center%3B%20font-size%3A%2012px%3B%20height%3A%2028px%3B%20left%3A%200px%3B%20padding%3A%204px%204px%203px%3B%20position%3A%20absolute%3B%20text-align%3A%20left%3B%20top%3A%20196px%3B%20width%3A%20120px%3B%20background-color%3A%20transparent%3B%20font-weight%3A%20600%3B%22%3E%3Cspan%20style%3D%22text-overflow%3A%20ellipsis%3B%20overflow%3A%20hidden%3B%20white-space%3A%20nowrap%3B%20max-width%3A%20calc((100%25%20-%200px)%20-%200px)%3B%22%3E2020-11-09%3C%2Fspan%3E%3C%2Fdiv%3E%3Cdiv%20style%3D%22overflow%3A%20hidden%3B%20display%3A%20flex%3B%20align-items%3A%20center%3B%20font-size%3A%2012px%3B%20height%3A%2028px%3B%20left%3A%20120px%3B%20padding%3A%204px%204px%203px%3B%20position%3A%20absolute%3B%20text-align%3A%20left%3B%20top%3A%20196px%3B%20width%3A%20120px%3B%20background-color%3A%20transparent%3B%20border-right%3A%202px%20solid%20rgb(233%2C%20233%2C%20233)%3B%22%3E%3Cspan%20style%3D%22text-overflow%3A%20ellipsis%3B%20overflow%3A%20hidden%3B%20white-space%3A%20nowrap%3B%20max-width%3A%20calc((100%25%20-%200px)%20-%200px)%3B%22%3EGPMT%3C%2Fspan%3E%3C%2Fdiv%3E%3Cdiv%20style%3D%22overflow%3A%20hidden%3B%20display%3A%20none%3B%20align-items%3A%20center%3B%20font-size%3A%2012px%3B%20height%3A%2028px%3B%20left%3A%200px%3B%20padding%3A%204px%204px%203px%3B%20position%3A%20absolute%3B%20text-align%3A%20left%3B%20top%3A%20224px%3B%20width%3A%20120px%3B%20background-color%3A%20transparent%3B%20font-weight%3A%20600%3B%22%3E%3Cspan%20style%3D%22text-overflow%3A%20ellipsis%3B%20overflow%3A%20hidden%3B%20white-space%3A%20nowrap%3B%20max-width%3A%20calc((100%25%20-%200px)%20-%200px)%3B%22%3E2020-11-09%3C%2Fspan%3E%3C%2Fdiv%3E%3Cdiv%20style%3D%22overflow%3A%20hidden%3B%20display%3A%20flex%3B%20align-items%3A%20center%3B%20font-size%3A%2012px%3B%20height%3A%2028px%3B%20left%3A%20120px%3B%20padding%3A%204px%204px%203px%3B%20position%3A%20absolute%3B%20text-align%3A%20left%3B%20top%3A%20224px%3B%20width%3A%20120px%3B%20background-color%3A%20rgb(250%2C%20250%2C%20250)%3B%20border-right%3A%202px%20solid%20rgb(233%2C%20233%2C%20233)%3B%22%3E%3Cspan%20style%3D%22text-overflow%3A%20ellipsis%3B%20overflow%3A%20hidden%3B%20white-space%3A%20nowrap%3B%20max-width%3A%20calc((100%25%20-%200px)%20-%200px)%3B%22%3EPFC%3C%2Fspan%3E%3C%2Fdiv%3E%3Cdiv%20style%3D%22overflow%3A%20hidden%3B%20display%3A%20none%3B%20align-items%3A%20center%3B%20font-size%3A%2012px%3B%20height%3A%2028px%3B%20left%3A%200px%3B%20padding%3A%204px%204px%203px%3B%20position%3A%20absolute%3B%20text-align%3A%20left%3B%20top%3A%20252px%3B%20width%3A%20120px%3B%20background-color%3A%20transparent%3B%20font-weight%3A%20600%3B%22%3E%3Cspan%20style%3D%22text-overflow%3A%20ellipsis%3B%20overflow%3A%20hidden%3B%20white-space%3A%20nowrap%3B%20max-width%3A%20calc((100%25%20-%200px)%20-%200px)%3B%22%3E2020-11-09%3C%2Fspan%3E%3C%2Fdiv%3E%3Cdiv%20style%3D%22overflow%3A%20hidden%3B%20display%3A%20flex%3B%20align-items%3A%20center%3B%20font-size%3A%2012px%3B%20height%3A%2028px%3B%20left%3A%20120px%3B%20padding%3A%204px%204px%203px%3B%20position%3A%20absolute%3B%20text-align%3A%20left%3B%20top%3A%20252px%3B%20width%3A%20120px%3B%20background-color%3A%20transparent%3B%20border-right%3A%202px%20solid%20rgb(233%2C%20233%2C%20233)%3B%22%3E%3Cspan%20style%3D%22text-overflow%3A%20ellipsis%3B%20overflow%3A%20hidden%3B%20white-space%3A%20nowrap%3B%20max-width%3A%20calc((100%25%20-%200px)%20-%200px)%3B%22%3EEVC%3C%2Fspan%3E%3C%2Fdiv%3E%3Cdiv%20style%3D%22overflow%3A%20hidden%3B%20display%3A%20none%3B%20align-items%3A%20center%3B%20font-size%3A%2012px%3B%20height%3A%2028px%3B%20left%3A%200px%3B%20padding%3A%204px%204px%203px%3B%20position%3A%20absolute%3B%20text-align%3A%20left%3B%20top%3A%20280px%3B%20width%3A%20120px%3B%20background-color%3A%20transparent%3B%20font-weight%3A%20600%3B%22%3E%3Cspan%20style%3D%22text-overflow%3A%20ellipsis%3B%20overflow%3A%20hidden%3B%20white-space%3A%20nowrap%3B%20max-width%3A%20calc((100%25%20-%200px)%20-%200px)%3B%22%3E2020-11-09%3C%2Fspan%3E%3C%2Fdiv%3E%3Cdiv%20style%3D%22overflow%3A%20hidden%3B%20display%3A%20flex%3B%20align-items%3A%20center%3B%20font-size%3A%2012px%3B%20height%3A%2028px%3B%20left%3A%20120px%3B%20padding%3A%204px%204px%203px%3B%20position%3A%20absolute%3B%20text-align%3A%20left%3B%20top%3A%20280px%3B%20width%3A%20120px%3B%20background-color%3A%20rgb(250%2C%20250%2C%20250)%3B%20border-right%3A%202px%20solid%20rgb(233%2C%20233%2C%20233)%3B%22%3E%3Cspan%20style%3D%22text-overflow%3A%20ellipsis%3B%20overflow%3A%20hidden%3B%20white-space%3A%20nowrap%3B%20max-width%3A%20calc((100%25%20-%200px)%20-%200px)%3B%22%3EUBP%3C%2Fspan%3E%3C%2Fdiv%3E%3Cdiv%20style%3D%22overflow%3A%20hidden%3B%20display%3A%20none%3B%20align-items%3A%20center%3B%20font-size%3A%2012px%3B%20height%3A%2028px%3B%20left%3A%200px%3B%20padding%3A%204px%204px%203px%3B%20position%3A%20absolute%3B%20text-align%3A%20left%3B%20top%3A%20308px%3B%20width%3A%20120px%3B%20background-color%3A%20transparent%3B%20font-weight%3A%20600%3B%22%3E%3Cspan%20style%3D%22text-overflow%3A%20ellipsis%3B%20overflow%3A%20hidden%3B%20white-space%3A%20nowrap%3B%20max-width%3A%20calc((100%25%20-%200px)%20-%200px)%3B%22%3E2020-11-09%3C%2Fspan%3E%3C%2Fdiv%3E%3Cdiv%20style%3D%22overflow%3A%20hidden%3B%20display%3A%20flex%3B%20align-items%3A%20center%3B%20font-size%3A%2012px%3B%20height%3A%2028px%3B%20left%3A%20120px%3B%20padding%3A%204px%204px%203px%3B%20position%3A%20absolute%3B%20text-align%3A%20left%3B%20top%3A%20308px%3B%20width%3A%20120px%3B%20background-color%3A%20transparent%3B%20border-right%3A%202px%20solid%20rgb(233%2C%20233%2C%20233)%3B%22%3E%3Cspan%20style%3D%22text-overflow%3A%20ellipsis%3B%20overflow%3A%20hidden%3B%20white-space%3A%20nowrap%3B%20max-width%3A%20calc((100%25%20-%200px)%20-%200px)%3B%22%3EFENY%3C%2Fspan%3E%3C%2Fdiv%3E%3C%2Fdiv%3E%3C%2Fdiv%3E%3C%2Fdiv%3E%3Cdiv%20class%3D%22css-14drjk3-Table%22%3E%3Cdiv%20class%3D%22aui-invisible-scrollbars%20css-eg3gwx%22%3E%3Cdiv%20class%3D%22css-1toshix%22%3E%3Cdiv%20class%3D%22css-1hol363-ResizableCell%22%3E%3Cdiv%20style%3D%22overflow%3A%20hidden%3B%20display%3A%20flex%3B%20align-items%3A%20center%3B%20font-size%3A%2012px%3B%20height%3A%2028px%3B%20left%3A%200px%3B%20padding%3A%204px%204px%203px%3B%20position%3A%20absolute%3B%20text-align%3A%20left%3B%20top%3A%200px%3B%20width%3A%20115px%3B%20font-weight%3A%20600%3B%22%3E%3Cspan%20style%3D%22text-overflow%3A%20ellipsis%3B%20overflow%3A%20hidden%3B%20white-space%3A%20nowrap%3B%20max-width%3A%20calc((100%25%20-%200px)%20-%200px)%3B%22%3Evalue.MEAN%3C%2Fspan%3E%3C%2Fdiv%3E%3Cdiv%20class%3D%22css-xxcrt1-ResizableCell%22%3E%3C%2Fdiv%3E%3C%2Fdiv%3E%3C%2Fdiv%3E%3C%2Fdiv%3E%3Cdiv%20class%3D%22%20css-dpuo8y%22%3E%3Cdiv%20class%3D%22css-17kud3a%22%3E%3Cdiv%20class%3D%22aui-table-cell%22%20style%3D%22font-size%3A%2012px%3B%20height%3A%2028px%3B%20left%3A%200px%3B%20padding%3A%204px%204px%203px%3B%20overflow%3A%20hidden%3B%20position%3A%20absolute%3B%20text-align%3A%20right%3B%20top%3A%200px%3B%20width%3A%20120px%3B%20background-color%3A%20transparent%3B%20border-right%3A%201px%20solid%20rgb(233%2C%20233%2C%20233)%3B%22%3E.00%3C%2Fdiv%3E%3Cdiv%20class%3D%22aui-table-cell%22%20style%3D%22font-size%3A%2012px%3B%20height%3A%2028px%3B%20left%3A%200px%3B%20padding%3A%204px%204px%203px%3B%20overflow%3A%20hidden%3B%20position%3A%20absolute%3B%20text-align%3A%20right%3B%20top%3A%2028px%3B%20width%3A%20120px%3B%20background-color%3A%20transparent%3B%20border-right%3A%201px%20solid%20rgb(233%2C%20233%2C%20233)%3B%20border-top%3A%201px%20solid%20rgb(233%2C%20233%2C%20233)%3B%22%3E.05%3C%2Fdiv%3E%3Cdiv%20class%3D%22aui-table-cell%22%20style%3D%22font-size%3A%2012px%3B%20height%3A%2028px%3B%20left%3A%200px%3B%20padding%3A%204px%204px%203px%3B%20overflow%3A%20hidden%3B%20position%3A%20absolute%3B%20text-align%3A%20right%3B%20top%3A%2056px%3B%20width%3A%20120px%3B%20background-color%3A%20rgb(250%2C%20250%2C%20250)%3B%20border-right%3A%201px%20solid%20rgb(233%2C%20233%2C%20233)%3B%22%3E.39%3C%2Fdiv%3E%3Cdiv%20class%3D%22aui-table-cell%22%20style%3D%22font-size%3A%2012px%3B%20height%3A%2028px%3B%20left%3A%200px%3B%20padding%3A%204px%204px%203px%3B%20overflow%3A%20hidden%3B%20position%3A%20absolute%3B%20text-align%3A%20right%3B%20top%3A%2084px%3B%20width%3A%20120px%3B%20background-color%3A%20transparent%3B%20border-right%3A%201px%20solid%20rgb(233%2C%20233%2C%20233)%3B%22%3E.30%3C%2Fdiv%3E%3Cdiv%20class%3D%22aui-table-cell%22%20style%3D%22font-size%3A%2012px%3B%20height%3A%2028px%3B%20left%3A%200px%3B%20padding%3A%204px%204px%203px%3B%20overflow%3A%20hidden%3B%20position%3A%20absolute%3B%20text-align%3A%20right%3B%20top%3A%20112px%3B%20width%3A%20120px%3B%20background-color%3A%20rgb(250%2C%20250%2C%20250)%3B%20border-right%3A%201px%20solid%20rgb(233%2C%20233%2C%20233)%3B%22%3E.21%3C%2Fdiv%3E%3Cdiv%20class%3D%22aui-table-cell%22%20style%3D%22font-size%3A%2012px%3B%20height%3A%2028px%3B%20left%3A%200px%3B%20padding%3A%204px%204px%203px%3B%20overflow%3A%20hidden%3B%20position%3A%20absolute%3B%20text-align%3A%20right%3B%20top%3A%20140px%3B%20width%3A%20120px%3B%20background-color%3A%20transparent%3B%20border-right%3A%201px%20solid%20rgb(233%2C%20233%2C%20233)%3B%22%3E.18%3C%2Fdiv%3E%3Cdiv%20class%3D%22aui-table-cell%22%20style%3D%22font-size%3A%2012px%3B%20height%3A%2028px%3B%20left%3A%200px%3B%20padding%3A%204px%204px%203px%3B%20overflow%3A%20hidden%3B%20position%3A%20absolute%3B%20text-align%3A%20right%3B%20top%3A%20168px%3B%20width%3A%20120px%3B%20background-color%3A%20rgb(250%2C%20250%2C%20250)%3B%20border-right%3A%201px%20solid%20rgb(233%2C%20233%2C%20233)%3B%22%3E.17%3C%2Fdiv%3E%3Cdiv%20class%3D%22aui-table-cell%22%20style%3D%22font-size%3A%2012px%3B%20height%3A%2028px%3B%20left%3A%200px%3B%20padding%3A%204px%204px%203px%3B%20overflow%3A%20hidden%3B%20position%3A%20absolute%3B%20text-align%3A%20right%3B%20top%3A%20196px%3B%20width%3A%20120px%3B%20background-color%3A%20transparent%3B%20border-right%3A%201px%20solid%20rgb(233%2C%20233%2C%20233)%3B%22%3E.16%3C%2Fdiv%3E%3Cdiv%20class%3D%22aui-table-cell%22%20style%3D%22font-size%3A%2012px%3B%20height%3A%2028px%3B%20left%3A%200px%3B%20padding%3A%204px%204px%203px%3B%20overflow%3A%20hidden%3B%20position%3A%20absolute%3B%20text-align%3A%20right%3B%20top%3A%20224px%3B%20width%3A%20120px%3B%20background-color%3A%20rgb(250%2C%20250%2C%20250)%3B%20border-right%3A%201px%20solid%20rgb(233%2C%20233%2C%20233)%3B%22%3E.14%3C%2Fdiv%3E%3Cdiv%20class%3D%22aui-table-cell%22%20style%3D%22font-size%3A%2012px%3B%20height%3A%2028px%3B%20left%3A%200px%3B%20padding%3A%204px%204px%203px%3B%20overflow%3A%20hidden%3B%20position%3A%20absolute%3B%20text-align%3A%20right%3B%20top%3A%20252px%3B%20width%3A%20120px%3B%20background-color%3A%20transparent%3B%20border-right%3A%201px%20solid%20rgb(233%2C%20233%2C%20233)%3B%22%3E.14%3C%2Fdiv%3E%3Cdiv%20class%3D%22aui-table-cell%22%20style%3D%22font-size%3A%2012px%3B%20height%3A%2028px%3B%20left%3A%200px%3B%20padding%3A%204px%204px%203px%3B%20overflow%3A%20hidden%3B%20position%3A%20absolute%3B%20text-align%3A%20right%3B%20top%3A%20280px%3B%20width%3A%20120px%3B%20background-color%3A%20rgb(250%2C%20250%2C%20250)%3B%20border-right%3A%201px%20solid%20rgb(233%2C%20233%2C%20233)%3B%22%3E.13%3C%2Fdiv%3E%3Cdiv%20class%3D%22aui-table-cell%22%20style%3D%22font-size%3A%2012px%3B%20height%3A%2028px%3B%20left%3A%200px%3B%20padding%3A%204px%204px%203px%3B%20overflow%3A%20hidden%3B%20position%3A%20absolute%3B%20text-align%3A%20right%3B%20top%3A%20308px%3B%20width%3A%20120px%3B%20background-color%3A%20transparent%3B%20border-right%3A%201px%20solid%20rgb(233%2C%20233%2C%20233)%3B%22%3E.13%3C%2Fdiv%3E%3C%2Fdiv%3E%3C%2Fdiv%3E%3C%2Fdiv%3E%3C%2Fdiv%3E%3C%2Fdiv%3E%3Cdiv%20class%3D%22css-1uww2vi-Table%22%3E%3C%2Fdiv%3E%3C%2Fdiv%3E%3C%2Fdiv%3E%3C%2Fdiv%3E%3C%2Fdiv%3E%3C%2Fdiv%3E%3C%2FforeignObject%3E%3C%2Fsvg%3E\">"
      ],
      "text/plain": [
       "Open the notebook in JupyterLab with the atoti extension enabled to build this widget."
      ]
     },
     "metadata": {},
     "output_type": "display_data"
    }
   ],
   "source": [
    "session.visualize()"
   ]
  },
  {
   "cell_type": "code",
   "execution_count": null,
   "id": "f0391718-df25-419a-8585-6231094d1af3",
   "metadata": {},
   "outputs": [],
   "source": []
  },
  {
   "cell_type": "code",
   "execution_count": 20,
   "id": "b182d83e-856c-4b7c-9c20-2521b46c9274",
   "metadata": {},
   "outputs": [],
   "source": [
    "h = cube.hierarchies\n",
    "l = cube.levels\n",
    "m = cube.measures"
   ]
  },
  {
   "cell_type": "code",
   "execution_count": 21,
   "id": "e65fe5d0-eb2d-4f7b-9a04-11e186c7c400",
   "metadata": {},
   "outputs": [
    {
     "data": {
      "application/json": {
       "Date (prices/Date/Date)": {
        "comparator": "ASCENDING",
        "dimension": "prices",
        "hierarchy": "Date",
        "type": "LocalDate"
       },
       "variable (prices/variable/variable)": {
        "comparator": "ASCENDING",
        "dimension": "prices",
        "hierarchy": "variable",
        "type": "string"
       }
      },
      "text/html": [
       "<ul>\n",
       "<li>Levels\n",
       "  <ul>\n",
       "  <li>Date (prices/Date/Date)\n",
       "    <ul>\n",
       "    <li>dimension: prices</li>\n",
       "    <li>hierarchy: Date</li>\n",
       "    <li>type: LocalDate</li>\n",
       "    <li>comparator: ASCENDING</li>\n",
       "    </ul>\n",
       "  </li>\n",
       "  <li>variable (prices/variable/variable)\n",
       "    <ul>\n",
       "    <li>dimension: prices</li>\n",
       "    <li>hierarchy: variable</li>\n",
       "    <li>type: string</li>\n",
       "    <li>comparator: ASCENDING</li>\n",
       "    </ul>\n",
       "  </li>\n",
       "  </ul>\n",
       "</li>\n",
       "</ul>\n"
      ],
      "text/plain": [
       "Levels()"
      ]
     },
     "execution_count": 21,
     "metadata": {
      "application/json": {
       "expanded": true,
       "root": "Levels"
      }
     },
     "output_type": "execute_result"
    }
   ],
   "source": [
    "l"
   ]
  },
  {
   "cell_type": "code",
   "execution_count": 22,
   "id": "8eb78676-df6a-4daf-81c9-350c761567ef",
   "metadata": {},
   "outputs": [
    {
     "data": {
      "application/json": {
       "contributors.COUNT": {
        "formatter": "INT[#,###]"
       },
       "value.MEAN": {
        "formatter": "DOUBLE[#,###.00]"
       },
       "value.SUM": {
        "formatter": "DOUBLE[#,###.00]"
       }
      },
      "text/html": [
       "<ul>\n",
       "<li>Measures\n",
       "  <ul>\n",
       "  <li>contributors.COUNT\n",
       "    <ul>\n",
       "    <li>formatter: INT[#,###]</li>\n",
       "    </ul>\n",
       "  </li>\n",
       "  <li>value.MEAN\n",
       "    <ul>\n",
       "    <li>formatter: DOUBLE[#,###.00]</li>\n",
       "    </ul>\n",
       "  </li>\n",
       "  <li>value.SUM\n",
       "    <ul>\n",
       "    <li>formatter: DOUBLE[#,###.00]</li>\n",
       "    </ul>\n",
       "  </li>\n",
       "  </ul>\n",
       "</li>\n",
       "</ul>\n"
      ],
      "text/plain": [
       "Measures()"
      ]
     },
     "execution_count": 22,
     "metadata": {
      "application/json": {
       "expanded": false,
       "root": "Measures"
      }
     },
     "output_type": "execute_result"
    }
   ],
   "source": [
    "m"
   ]
  },
  {
   "cell_type": "code",
   "execution_count": 23,
   "id": "5176c7ca-2919-49f0-b5c8-3c4fa2678228",
   "metadata": {},
   "outputs": [
    {
     "data": {
      "application/vnd.atoti.convert-query-result-to-widget.v0+json": {
       "mdx": "SELECT {[Measures].[contributors.COUNT]} ON COLUMNS FROM [prices]",
       "sessionId": "d15e4f69-6ed2-46ba-971a-941797913023",
       "widgetCreationCode": "session.visualize()"
      },
      "text/html": [
       "<div>\n",
       "<style scoped>\n",
       "    .dataframe tbody tr th:only-of-type {\n",
       "        vertical-align: middle;\n",
       "    }\n",
       "\n",
       "    .dataframe tbody tr th {\n",
       "        vertical-align: top;\n",
       "    }\n",
       "\n",
       "    .dataframe thead th {\n",
       "        text-align: right;\n",
       "    }\n",
       "</style>\n",
       "<table border=\"1\" class=\"dataframe\">\n",
       "  <thead>\n",
       "    <tr style=\"text-align: right;\">\n",
       "      <th></th>\n",
       "      <th>contributors.COUNT</th>\n",
       "    </tr>\n",
       "  </thead>\n",
       "  <tbody>\n",
       "    <tr>\n",
       "      <th>0</th>\n",
       "      <td>27,454</td>\n",
       "    </tr>\n",
       "  </tbody>\n",
       "</table>\n",
       "</div>"
      ],
      "text/plain": [
       "  contributors.COUNT\n",
       "0             27,454"
      ]
     },
     "execution_count": 23,
     "metadata": {},
     "output_type": "execute_result"
    }
   ],
   "source": [
    "cube.query(m[\"contributors.COUNT\"])"
   ]
  },
  {
   "cell_type": "code",
   "execution_count": 24,
   "id": "727ebb04-bb4c-45aa-9503-f9ac4f9a772c",
   "metadata": {},
   "outputs": [
    {
     "data": {
      "application/vnd.atoti.convert-query-result-to-widget.v0+json": {
       "mdx": "SELECT {[Measures].[value.SUM]} ON COLUMNS, NON EMPTY [prices].[variable].[variable].Members ON ROWS FROM [prices]",
       "sessionId": "d15e4f69-6ed2-46ba-971a-941797913023",
       "widgetCreationCode": "session.visualize()"
      },
      "text/html": [
       "<div>\n",
       "<style scoped>\n",
       "    .dataframe tbody tr th:only-of-type {\n",
       "        vertical-align: middle;\n",
       "    }\n",
       "\n",
       "    .dataframe tbody tr th {\n",
       "        vertical-align: top;\n",
       "    }\n",
       "\n",
       "    .dataframe thead th {\n",
       "        text-align: right;\n",
       "    }\n",
       "</style>\n",
       "<table border=\"1\" class=\"dataframe\">\n",
       "  <thead>\n",
       "    <tr style=\"text-align: right;\">\n",
       "      <th></th>\n",
       "      <th>value.SUM</th>\n",
       "    </tr>\n",
       "    <tr>\n",
       "      <th>variable</th>\n",
       "      <th></th>\n",
       "    </tr>\n",
       "  </thead>\n",
       "  <tbody>\n",
       "    <tr>\n",
       "      <th>ACER</th>\n",
       "      <td>-.34</td>\n",
       "    </tr>\n",
       "    <tr>\n",
       "      <th>ACST</th>\n",
       "      <td>-1.06</td>\n",
       "    </tr>\n",
       "    <tr>\n",
       "      <th>AEM</th>\n",
       "      <td>-.21</td>\n",
       "    </tr>\n",
       "    <tr>\n",
       "      <th>AFINP</th>\n",
       "      <td>.45</td>\n",
       "    </tr>\n",
       "    <tr>\n",
       "      <th>AHT-PF</th>\n",
       "      <td>1.62</td>\n",
       "    </tr>\n",
       "    <tr>\n",
       "      <th>...</th>\n",
       "      <td>...</td>\n",
       "    </tr>\n",
       "    <tr>\n",
       "      <th>VNQ</th>\n",
       "      <td>.46</td>\n",
       "    </tr>\n",
       "    <tr>\n",
       "      <th>VTR</th>\n",
       "      <td>.55</td>\n",
       "    </tr>\n",
       "    <tr>\n",
       "      <th>WHG</th>\n",
       "      <td>.07</td>\n",
       "    </tr>\n",
       "    <tr>\n",
       "      <th>XHE</th>\n",
       "      <td>.42</td>\n",
       "    </tr>\n",
       "    <tr>\n",
       "      <th>XLU</th>\n",
       "      <td>.20</td>\n",
       "    </tr>\n",
       "  </tbody>\n",
       "</table>\n",
       "<p>74 rows × 1 columns</p>\n",
       "</div>"
      ],
      "text/plain": [
       "         value.SUM\n",
       "variable          \n",
       "ACER          -.34\n",
       "ACST         -1.06\n",
       "AEM           -.21\n",
       "AFINP          .45\n",
       "AHT-PF        1.62\n",
       "...            ...\n",
       "VNQ            .46\n",
       "VTR            .55\n",
       "WHG            .07\n",
       "XHE            .42\n",
       "XLU            .20\n",
       "\n",
       "[74 rows x 1 columns]"
      ]
     },
     "metadata": {},
     "output_type": "display_data"
    }
   ],
   "source": [
    "#display(cube.query(m[\"value.SUM\"], levels=[l[\"Date\"]]))\n",
    "\n",
    "display(cube.query(m[\"value.SUM\"], levels=[l[\"variable\"]]))"
   ]
  },
  {
   "cell_type": "code",
   "execution_count": 30,
   "id": "53a9f4c4-8665-45a9-b935-53f63bfb7bac",
   "metadata": {},
   "outputs": [
    {
     "data": {
      "application/vnd.atoti.convert-query-result-to-widget.v0+json": {
       "mdx": "SELECT {[Measures].[value.SUM]} ON COLUMNS, NON EMPTY [prices].[variable].[variable].Members ON ROWS FROM (SELECT {[prices].[variable].[AllMember].[XLU], [prices].[variable].[AllMember].[XHE]} ON COLUMNS FROM [prices])",
       "sessionId": "d15e4f69-6ed2-46ba-971a-941797913023",
       "widgetCreationCode": "session.visualize()"
      },
      "text/html": [
       "<div>\n",
       "<style scoped>\n",
       "    .dataframe tbody tr th:only-of-type {\n",
       "        vertical-align: middle;\n",
       "    }\n",
       "\n",
       "    .dataframe tbody tr th {\n",
       "        vertical-align: top;\n",
       "    }\n",
       "\n",
       "    .dataframe thead th {\n",
       "        text-align: right;\n",
       "    }\n",
       "</style>\n",
       "<table border=\"1\" class=\"dataframe\">\n",
       "  <thead>\n",
       "    <tr style=\"text-align: right;\">\n",
       "      <th></th>\n",
       "      <th>value.SUM</th>\n",
       "    </tr>\n",
       "    <tr>\n",
       "      <th>variable</th>\n",
       "      <th></th>\n",
       "    </tr>\n",
       "  </thead>\n",
       "  <tbody>\n",
       "    <tr>\n",
       "      <th>XHE</th>\n",
       "      <td>.42</td>\n",
       "    </tr>\n",
       "    <tr>\n",
       "      <th>XLU</th>\n",
       "      <td>.20</td>\n",
       "    </tr>\n",
       "  </tbody>\n",
       "</table>\n",
       "</div>"
      ],
      "text/plain": [
       "         value.SUM\n",
       "variable          \n",
       "XHE            .42\n",
       "XLU            .20"
      ]
     },
     "execution_count": 30,
     "metadata": {},
     "output_type": "execute_result"
    }
   ],
   "source": [
    "cube.query(\n",
    "    m[\"value.SUM\"],\n",
    "    levels=[l[\"variable\"]],\n",
    "    condition=l[\"variable\"].isin(\"XLU\",\"XHE\",),\n",
    "    #condition=l[\"variable\"].isin(randomsymbols),\n",
    "    \n",
    "    #condition=l[\"Date\"]\n",
    ")"
   ]
  },
  {
   "cell_type": "code",
   "execution_count": 26,
   "id": "6426797a-e9a3-4d12-965b-02dd7703b118",
   "metadata": {},
   "outputs": [
    {
     "data": {
      "text/plain": [
       "['SMMD', 'ACST', 'BIP', 'XLU', 'EXPR', 'XHE', 'BGR', 'ASTE', 'IBTF', 'BEN']"
      ]
     },
     "execution_count": 26,
     "metadata": {},
     "output_type": "execute_result"
    }
   ],
   "source": [
    "\n",
    "randomSet = list(np.sort(np.random.choice(range(0, len(Training)), nran)))\n",
    "\n",
    "randomsymbols = list(np.random.choice(pf.data.columns, 10, replace=False))\n",
    "\n",
    "randomsymbols"
   ]
  },
  {
   "cell_type": "code",
   "execution_count": null,
   "id": "cc115b06-bda3-4db9-b9a0-5432b98a9120",
   "metadata": {},
   "outputs": [],
   "source": [
    "#m[\"Lookback Window\"] = 252\n"
   ]
  },
  {
   "cell_type": "code",
   "execution_count": 106,
   "id": "34e15755-e206-4ce2-b977-e08097bccf2a",
   "metadata": {},
   "outputs": [
    {
     "ename": "TypeError",
     "evalue": "type() takes 1 or 3 arguments",
     "output_type": "error",
     "traceback": [
      "\u001b[1;31m---------------------------------------------------------------------------\u001b[0m",
      "\u001b[1;31mTypeError\u001b[0m                                 Traceback (most recent call last)",
      "\u001b[1;32m~\\AppData\\Local\\Temp/ipykernel_11716/3114877554.py\u001b[0m in \u001b[0;36m<module>\u001b[1;34m\u001b[0m\n\u001b[1;32m----> 1\u001b[1;33m \u001b[0mtype\u001b[0m\u001b[1;33m(\u001b[0m\u001b[1;34m\"XLU\"\u001b[0m\u001b[1;33m,\u001b[0m\u001b[1;34m\"XHE\"\u001b[0m\u001b[1;33m)\u001b[0m\u001b[1;33m\u001b[0m\u001b[1;33m\u001b[0m\u001b[0m\n\u001b[0m",
      "\u001b[1;31mTypeError\u001b[0m: type() takes 1 or 3 arguments"
     ]
    }
   ],
   "source": []
  },
  {
   "cell_type": "code",
   "execution_count": null,
   "id": "89ea441d-9c00-41c9-afa8-57b3bb20a155",
   "metadata": {},
   "outputs": [],
   "source": [
    "m[\"Returns sub-vector\"] = m[\"returns_vector.MEAN\"][\n",
    "    m[\"Date Index\"] - m[\"Lookback Window\"] + 1 : m[\"Date Index\"] + 1\n",
    "]"
   ]
  },
  {
   "cell_type": "code",
   "execution_count": null,
   "id": "3809c70e-c53c-4bd0-8a32-07de61be96da",
   "metadata": {},
   "outputs": [],
   "source": [
    "lookback_windows = cube.create_parameter_simulation(\n",
    "    \"Lookback Window\",\n",
    "    measures={\"Lookback Window\": 20},\n",
    "    base_scenario_name=\"20 days\",\n",
    ")"
   ]
  },
  {
   "cell_type": "code",
   "execution_count": null,
   "id": "6efc18a0-4b93-4f48-a0bc-45485e0fd058",
   "metadata": {},
   "outputs": [],
   "source": [
    "#cube.schema"
   ]
  },
  {
   "cell_type": "code",
   "execution_count": 67,
   "id": "7fd48c71-4631-4cc6-8084-a66fcb3b7b81",
   "metadata": {},
   "outputs": [],
   "source": []
  },
  {
   "cell_type": "code",
   "execution_count": 102,
   "id": "57ba2c61-80c3-4b99-97aa-cb1dfb476533",
   "metadata": {},
   "outputs": [],
   "source": [
    "randomsymbols = list(np.random.choice(pf.data.columns, 10, replace=False))"
   ]
  },
  {
   "cell_type": "code",
   "execution_count": null,
   "id": "cc3041d1-b53f-462f-a5ef-ef57b36d273f",
   "metadata": {},
   "outputs": [],
   "source": [
    "# random columns\n",
    "#stocks = returns.loc[[i[0] for i in Training[randomSet[1]]]][randomsymbols]\n",
    "\n",
    "\"\"\"\n",
    "returns_table = session.read_csv(\n",
    "    \"returns.csv\", keys=[\"stock\"], store_name=\"Returns\", array_sep=\";\"\n",
    ")\n",
    "\n",
    "returns_table.head()\n",
    "\"\"\"\n",
    "\n",
    "return_vec = np.array(stocks)"
   ]
  },
  {
   "cell_type": "code",
   "execution_count": null,
   "id": "117429b0",
   "metadata": {},
   "outputs": [],
   "source": [
    "stocks[randomsymbols]"
   ]
  },
  {
   "cell_type": "code",
   "execution_count": null,
   "id": "5462ea91-b738-4da3-8bec-a2540a14e307",
   "metadata": {},
   "outputs": [],
   "source": []
  },
  {
   "cell_type": "code",
   "execution_count": null,
   "id": "023d7d90",
   "metadata": {},
   "outputs": [],
   "source": [
    "# data = pd.DataFrame()\n",
    "# for i in randomsymbols:\n",
    "#     data = pd.concat([pd.DataFrame({i: [stocks[i].values]}), data], axis=1)"
   ]
  },
  {
   "cell_type": "code",
   "execution_count": null,
   "id": "6fcb3c96",
   "metadata": {},
   "outputs": [],
   "source": [
    "# data.transpose()"
   ]
  },
  {
   "cell_type": "markdown",
   "id": "ec7ac0d7",
   "metadata": {},
   "source": [
    "### Converting daily returns into list"
   ]
  },
  {
   "cell_type": "code",
   "execution_count": null,
   "id": "c1226255",
   "metadata": {},
   "outputs": [],
   "source": [
    "data_transpose = stocks[randomsymbols].T\n",
    "data_transpose.head()"
   ]
  },
  {
   "cell_type": "code",
   "execution_count": null,
   "id": "028122c2",
   "metadata": {},
   "outputs": [],
   "source": [
    "data_transpose['returns_vector'] = data_transpose.values.tolist()\n",
    "data_transpose['returns_vector'].head()"
   ]
  },
  {
   "cell_type": "code",
   "execution_count": null,
   "id": "f0725e4f",
   "metadata": {},
   "outputs": [],
   "source": [
    "return_vector = data_transpose['returns_vector'].to_frame()\n",
    "return_vector[\"symbol\"] = return_vector.index\n",
    "return_vector.head()"
   ]
  },
  {
   "cell_type": "markdown",
   "id": "6eb9936b",
   "metadata": {},
   "source": [
    "### Getting list of dates for the return list"
   ]
  },
  {
   "cell_type": "code",
   "execution_count": null,
   "id": "2c761bb1",
   "metadata": {},
   "outputs": [],
   "source": [
    "ret = stocks.reset_index().copy()\n",
    "ret[\"Date\"].head()"
   ]
  },
  {
   "cell_type": "code",
   "execution_count": null,
   "id": "1f17311d",
   "metadata": {},
   "outputs": [],
   "source": []
  },
  {
   "cell_type": "code",
   "execution_count": null,
   "id": "cb9ae814",
   "metadata": {},
   "outputs": [],
   "source": [
    "import atoti as tt\n"
   ]
  },
  {
   "cell_type": "code",
   "execution_count": null,
   "id": "d8996618",
   "metadata": {},
   "outputs": [],
   "source": [
    "session = tt.create_session()"
   ]
  },
  {
   "cell_type": "code",
   "execution_count": null,
   "id": "006b9ad6",
   "metadata": {},
   "outputs": [],
   "source": []
  },
  {
   "cell_type": "code",
   "execution_count": null,
   "id": "8c32e48b",
   "metadata": {},
   "outputs": [],
   "source": [
    "# https://towardsdatascience.com/shape-tables-like-jelly-with-pandas-melt-and-pivot-f2e13e666d6\n",
    "\n",
    "returns_table = session.read_pandas(\n",
    "    #\"Returns\n",
    "    return_vector,\n",
    "    table_name=\"Returns\",\n",
    "    keys=[\"symbol\"],\n",
    "    #store_name=\"Returns\",\n",
    ")\n",
    "\n",
    "returns_table.head()"
   ]
  },
  {
   "cell_type": "code",
   "execution_count": null,
   "id": "a3d083de",
   "metadata": {},
   "outputs": [],
   "source": [
    "cube = session.create_cube(returns_table, \"Return Cube\")"
   ]
  },
  {
   "cell_type": "code",
   "execution_count": null,
   "id": "0c81a2aa",
   "metadata": {},
   "outputs": [],
   "source": [
    "h, l, m = cube.hierarchies, cube.levels, cube.measures"
   ]
  },
  {
   "cell_type": "code",
   "execution_count": null,
   "id": "9f14082d",
   "metadata": {},
   "outputs": [],
   "source": [
    "# import graphviz\n",
    "cube.schema"
   ]
  },
  {
   "cell_type": "code",
   "execution_count": null,
   "id": "3eeedd05",
   "metadata": {},
   "outputs": [],
   "source": [
    "# pip list"
   ]
  },
  {
   "cell_type": "code",
   "execution_count": null,
   "id": "5c913b5b-50fe-4ba1-ae00-50b1af42766e",
   "metadata": {},
   "outputs": [],
   "source": []
  },
  {
   "cell_type": "code",
   "execution_count": null,
   "id": "9d802d0b",
   "metadata": {},
   "outputs": [],
   "source": [
    "# years = 10\n",
    "\n",
    "import contextlib\n",
    "\n",
    "stocksp = 0.2\n",
    "mfundsp = 0.1\n",
    "bondsp = 0.2\n",
    "commp = 0.2\n",
    "\n",
    "n_portfolio = 100\n",
    "\n",
    "bestSharpe = 0\n",
    "runs = 0\n",
    "weight = None\n",
    "bestMean = 0\n",
    "bestStd = 0\n",
    "means = np.array([])\n",
    "stds = np.array([])\n",
    "sharpes = np.array([])\n",
    "bestWeights = None\n",
    "weights = np.array([])\n",
    "\n",
    "# random dates using X_index\n",
    "\n",
    "randomSet = list(np.sort(np.random.choice(range(0, len(Training)), nran)))\n",
    "\n",
    "for tensor in randomSet:\n",
    "\n",
    "    randomsymbols = list(np.random.choice(pf.data.columns, 10, replace=False))\n",
    "    # random columns\n",
    "    stocks = returns.loc[[i[0] for i in Training[tensor]]][randomsymbols]\n",
    "\n",
    "    return_vec = np.array(stocks)\n",
    "\n",
    "    # display(pd.DataFrame(stocks.cumsum().iloc[-1]).transpose())\n",
    "\n",
    "    for _ in range(n_portfolio):\n",
    "        means2, stds2, sharpes2, weights2 = np.column_stack(\n",
    "            [random_portfolio(return_vec) for _ in range(len(stocks.columns))]\n",
    "        )\n",
    "        means_ = means2\n",
    "        stds_ = stds2\n",
    "        sharpes_ = sharpes2\n",
    "        weights_ = weights2\n",
    "\n",
    "        bestWeights = weights_[sharpes_.argmax()]\n",
    "\n",
    "        means = np.append(means, means_)\n",
    "        stds = np.append(stds, stds_)\n",
    "        sharpes = np.append(sharpes, sharpes_)\n",
    "        weights = np.append(weights, weights_)\n",
    "\n",
    "    df_ = pd.DataFrame(weights[sharpes.argmax()]).set_index(stocks.columns)\n",
    "    df_.columns = [\"Weights\"]\n",
    "\n",
    "    next4weeks = returns.loc[[i[0] for i in Holdout[tensor]]][randomsymbols]\n",
    "\n",
    "    df_.sort_values(by=[\"Weights\"], ascending=False, inplace=True)\n",
    "\n",
    "    wr = np.array(\n",
    "        weighted_return(\n",
    "            np.array((np.exp(next4weeks) - 1).cumsum().tail(1)),\n",
    "            weights[sharpes.argmax()],\n",
    "        )\n",
    "    )[0][0]\n",
    "\n",
    "    max_sr_ret = means[sharpes.argmax()]\n",
    "    max_sr_vol = stds[sharpes.argmax()]\n",
    "    max_sharpe = sharpes[sharpes.argmax()]\n",
    "\n",
    "    display([bestWeights, max_sr_ret, max_sr_vol, max_sharpe, wr])"
   ]
  },
  {
   "cell_type": "code",
   "execution_count": null,
   "id": "cf2e2d1f",
   "metadata": {},
   "outputs": [],
   "source": []
  },
  {
   "cell_type": "code",
   "execution_count": null,
   "id": "5c3f8e46",
   "metadata": {},
   "outputs": [],
   "source": [
    "cube.create_parameter_hierarchy_from_members(\n",
    "    \"Dates\", ret[\"Date\"].tolist(), \n",
    "    index_measure_name=\"Date Index\",\n",
    "    #name=\"Dates\"\n",
    "    #store_name=\"Dates\"\n",
    ")\n",
    "# Setting the hierarchy to non-slicing, as required by\n",
    "# the max_member aggregation function - see later - this behavior might change in future versions.\n",
    "h[\"Dates\"].slicing = False"
   ]
  },
  {
   "cell_type": "code",
   "execution_count": null,
   "id": "9a33d2ec",
   "metadata": {},
   "outputs": [],
   "source": [
    "cube.schema"
   ]
  },
  {
   "cell_type": "code",
   "execution_count": null,
   "id": "4b5032eb-d76e-4a18-b92a-0e2a78d026d6",
   "metadata": {},
   "outputs": [],
   "source": []
  },
  {
   "cell_type": "code",
   "execution_count": null,
   "id": "ec588d50-335d-42e6-86fc-79e10155861d",
   "metadata": {},
   "outputs": [],
   "source": []
  },
  {
   "cell_type": "code",
   "execution_count": null,
   "id": "e3634c06-192d-4386-a4f3-cf76562d6ea9",
   "metadata": {},
   "outputs": [],
   "source": []
  },
  {
   "cell_type": "code",
   "execution_count": null,
   "id": "b5036d8d",
   "metadata": {},
   "outputs": [],
   "source": [
    "m[\"daily returns\"] = m[\"returns_vector.SUM\"][m[\"Date Index\"]]\n"
   ]
  },
  {
   "cell_type": "code",
   "execution_count": null,
   "id": "0baf40e0-3249-4659-be72-8b79f5d52a5f",
   "metadata": {},
   "outputs": [],
   "source": [
    "m[\"daily returns\"].formatter = \"DOUBLE[#,###.0000000000]\""
   ]
  },
  {
   "cell_type": "code",
   "execution_count": null,
   "id": "1c124af2-4a24-4c4a-85f0-9197b8d3c8ac",
   "metadata": {},
   "outputs": [],
   "source": [
    "randomsymbols[1]"
   ]
  },
  {
   "cell_type": "code",
   "execution_count": null,
   "id": "8de1d742-4e35-4104-ae19-87649ca9a675",
   "metadata": {
    "atoti": {
     "widget": {
      "mapping": {
       "columns": [
        "ALL_MEASURES"
       ],
       "measures": [],
       "rows": [
        "[Returns].[symbol].[symbol]",
        "[Epoch].[Epoch].[Branch]"
       ]
      },
      "query": {
       "mdx": "SELECT NON EMPTY Crossjoin(Hierarchize(Descendants({[Returns].[symbol].[AllMember]}, 1, SELF_AND_BEFORE)), [Epoch].[Epoch].[Branch].Members) ON ROWS FROM [Return Cube]",
       "updateMode": "once"
      },
      "serverKey": "default",
      "widgetKey": "pivot-table"
     }
    },
    "tags": []
   },
   "outputs": [],
   "source": [
    "session.visualize()"
   ]
  },
  {
   "cell_type": "code",
   "execution_count": null,
   "id": "abde1723",
   "metadata": {
    "atoti": {
     "widget": {
      "filters": [
       "[Returns].[symbol].[AllMember].[BXP]"
      ],
      "mapping": {
       "columns": [
        "ALL_MEASURES"
       ],
       "measures": [
        "[Measures].[daily returns]"
       ],
       "rows": [
        "[Dates].[Dates].[Dates]"
       ]
      },
      "query": {
       "mdx": "SELECT NON EMPTY Hierarchize(Descendants({[Dates].[Dates].[AllMember]}, 1, SELF_AND_BEFORE)) ON ROWS, NON EMPTY {[Measures].[daily returns]} ON COLUMNS FROM [Return Cube]",
       "updateMode": "once"
      },
      "serverKey": "default",
      "widgetKey": "pivot-table"
     }
    }
   },
   "outputs": [],
   "source": [
    "session.visualize(\"Weight 0 simulation\")"
   ]
  },
  {
   "cell_type": "code",
   "execution_count": null,
   "id": "01ab5c0e",
   "metadata": {},
   "outputs": [],
   "source": []
  }
 ],
 "metadata": {
  "kernelspec": {
   "display_name": "Python 3 (ipykernel)",
   "language": "python",
   "name": "python3"
  },
  "language_info": {
   "codemirror_mode": {
    "name": "ipython",
    "version": 3
   },
   "file_extension": ".py",
   "mimetype": "text/x-python",
   "name": "python",
   "nbconvert_exporter": "python",
   "pygments_lexer": "ipython3",
   "version": "3.9.7"
  }
 },
 "nbformat": 4,
 "nbformat_minor": 5
}
