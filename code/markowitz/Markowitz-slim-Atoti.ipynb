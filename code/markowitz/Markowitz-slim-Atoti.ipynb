{
 "cells": [
  {
   "cell_type": "code",
   "execution_count": null,
   "id": "9e87ad91",
   "metadata": {},
   "outputs": [],
   "source": [
    "# !pip install numpy matplotlib cvxopt pandas yfinance finquant plotly cufflinks chart_studio pandas_datareader atoti atoti-jupyterlab"
   ]
  },
  {
   "cell_type": "code",
   "execution_count": null,
   "id": "62cc3386",
   "metadata": {},
   "outputs": [],
   "source": [
    "%matplotlib inline\n",
    "import random\n",
    "\n",
    "import cvxopt as opt\n",
    "import matplotlib.pyplot as plt\n",
    "import numpy as np\n",
    "import pandas as pd\n",
    "import yfinance as yf\n",
    "from cvxopt import blas, solvers\n",
    "from finquant.portfolio import build_portfolio\n",
    "from scipy.optimize import minimize\n",
    "import pandas_datareader.data as web\n",
    "import contextlib\n",
    "\n",
    "np.random.seed(123)\n",
    "\n",
    "# Turn off progress printing\n",
    "solvers.options[\"show_progress\"] = False\n",
    "import concurrent.futures\n",
    "import os\n",
    "import random\n",
    "import urllib\n",
    "import urllib.request\n",
    "from concurrent.futures import ALL_COMPLETED, wait\n",
    "\n",
    "import atoti as tt\n",
    "import cufflinks\n",
    "import numpy as np\n",
    "import pandas_market_calendars as mcal\n",
    "\n",
    "# (*) To communicate with Plotly's server, sign in with credentials file\n",
    "import plotly as py\n",
    "\n",
    "# (*) Useful Python/Plotly tools\n",
    "import plotly.tools as tls\n",
    "\n",
    "# (*) Graph objects to piece together plots\n",
    "from plotly.graph_objs import *"
   ]
  },
  {
   "cell_type": "code",
   "execution_count": null,
   "id": "ed0874e2",
   "metadata": {},
   "outputs": [],
   "source": [
    "# ndays = 252*10+7\n",
    "ndays = 252 * 1.5 + 7\n",
    "# ~training\n",
    "dback = 252\n",
    "# ~forecast\n",
    "dahead = 20\n",
    "# sample size\n",
    "# if to randomize\n",
    "rand = True\n",
    "nran = 20\n",
    "nstocks = 100\n",
    "# this should match tbill 20, 91, 126, 252\n",
    "\n",
    "end = pd.Timestamp.utcnow()\n",
    "start = end - int(ndays) * pd.tseries.offsets.BDay()\n",
    "one_week_end = end - int(ndays - 7) * pd.tseries.offsets.BDay()\n",
    "one_week_end = one_week_end.strftime(\"%Y-%m-%d\")\n",
    "start = start.strftime(\"%Y-%m-%d\")\n",
    "end = end.strftime(\"%Y-%m-%d\")"
   ]
  },
  {
   "cell_type": "code",
   "execution_count": null,
   "id": "127d6c62",
   "metadata": {},
   "outputs": [],
   "source": [
    "# pd.tseries.offsets.BDay(100)\n",
    "nyse = mcal.get_calendar(\"NYSE\")\n",
    "\n",
    "# Show available calendars\n",
    "# print(mcal.get_calendar_names())\n",
    "tradingDays = list(\n",
    "    nyse.schedule(start_date=start, end_date=end).index.strftime(\"%Y-%m-%d\")\n",
    ")"
   ]
  },
  {
   "cell_type": "code",
   "execution_count": null,
   "id": "e9f3778f-5209-406f-8c78-e7749e3582ce",
   "metadata": {},
   "outputs": [],
   "source": []
  },
  {
   "cell_type": "code",
   "execution_count": 179,
   "id": "852dceca",
   "metadata": {},
   "outputs": [],
   "source": [
    "def rand_weights(n):\n",
    "    \"\"\" Produces n random weights that sum to 1 \"\"\"\n",
    "    k = np.random.rand(n)\n",
    "    return k / sum(k)\n",
    "\n",
    "\n",
    "def weighted_return(returns, weights):\n",
    "    w = weights\n",
    "\n",
    "    p = np.asmatrix(np.mean(returns, axis=0))\n",
    "\n",
    "    mu = np.asmatrix(w) * p.T\n",
    "    return mu\n",
    "\n",
    "\n",
    "def random_portfolio(TREASURY_BILL_RATE,returns):\n",
    "\n",
    "    w = rand_weights(len(pd.DataFrame(returns).columns))\n",
    "\n",
    "    p = np.asmatrix(np.mean(returns, axis=0))\n",
    "\n",
    "    C = np.array(pd.DataFrame(returns).cov().values)\n",
    "\n",
    "    mu = np.asmatrix(w) * p.T\n",
    "    sigma = np.sqrt(np.asmatrix(w) * C * np.asmatrix(w).T)\n",
    "\n",
    "    sharpe = (mu-TREASURY_BILL_RATE)/sigma\n",
    "    #sharpe = mu / sigma\n",
    "\n",
    "    return np.float(mu), np.float(sigma), np.float(sharpe), np.array(w, dtype=object)\n",
    "\n",
    "\n",
    "def unique(list1):\n",
    "\n",
    "    # intilize a null list\n",
    "    unique_list = []\n",
    "\n",
    "    # traverse for all elements\n",
    "    for x in list1:\n",
    "        # check if exists in unique_list or not\n",
    "        if x not in unique_list:\n",
    "            unique_list.append(x)\n",
    "\n",
    "    return unique_list\n",
    "\n",
    "\n",
    "def split_sequences(sequences, n_steps_in, n_steps_out):\n",
    "\n",
    "    X, y = list(), list()\n",
    "    for i in range(len(sequences)):\n",
    "        # find the end of this pattern\n",
    "        end_ix = i + n_steps_in\n",
    "        out_end_ix = end_ix + n_steps_out\n",
    "        # check if we are beyond the dataset\n",
    "        if out_end_ix > len(sequences):\n",
    "            break\n",
    "        # gather input and output parts of the pattern\n",
    "        seq_x, seq_y = sequences[i:end_ix, :], sequences[end_ix:out_end_ix, :]\n",
    "        X.append(seq_x)\n",
    "        y.append(seq_y)\n",
    "\n",
    "    return np.array(X), np.array(y)"
   ]
  },
  {
   "cell_type": "code",
   "execution_count": null,
   "id": "3237d7ae",
   "metadata": {},
   "outputs": [],
   "source": [
    "url = \"ftp://ftp.nasdaqtrader.com/symboldirectory/nasdaqtraded.txt\"\n",
    "\n",
    "urllib.request.urlretrieve(url, \"nasdaqtraded.txt\")\n",
    "urllib.request.urlretrieve(url, \"mfundslist.txt\")\n",
    "urllib.request.urlretrieve(url, \"bonds.txt\")\n",
    "\n",
    "df1 = pd.read_csv(\"nasdaqtraded.txt\", sep=\"|\")[0:-1]\n",
    "df2 = pd.read_csv(\"mfundslist.txt\", sep=\"|\")[0:-1]\n",
    "df3 = pd.read_csv(\"bonds.txt\", sep=\"|\")[0:-1]\n",
    "\n",
    "# combined = pd.concat([df1['Symbol'],df2['Symbol'],df3['Symbol']],axis=0)\n",
    "\n",
    "# process symbols for bad characters\n",
    "BAD_CHARS = [\"$\", \".\"]\n",
    "# pat = '|'.join(['({})'.format(re.escape(c)) for c in BAD_CHARS])\n",
    "# cleaned = unique(combined.replace(BAD_CHARS,'-'))\n",
    "\n",
    "# choose size\n",
    "size = nstocks\n",
    "# stocks = list(df1[\"Symbol\"].sample(n=int(size/3)))\n",
    "stocks = list(\n",
    "    df1[\"Symbol\"]\n",
    "    .replace(\".\", \"-\")\n",
    "    .replace(\"\\\\$\", \"-P\", regex=True)\n",
    "    .sample(n=int(size / 3))\n",
    ")\n",
    "mfunds = list(\n",
    "    df2[\"Symbol\"]\n",
    "    .replace(\".\", \"-\")\n",
    "    .replace(\"\\\\$\", \"-P\", regex=True)\n",
    "    .sample(n=int(size / 3))\n",
    ")\n",
    "bonds = list(\n",
    "    df3[\"Symbol\"]\n",
    "    .replace(\".\", \"-\")\n",
    "    .replace(\"\\\\$\", \"-P\", regex=True)\n",
    "    .sample(n=int(size / 3))\n",
    ")\n",
    "symbols = list(set(stocks + mfunds + bonds))  # unique(stocks + mfunds + bonds)\n",
    "# symbols = unique(stocks)"
   ]
  },
  {
   "cell_type": "code",
   "execution_count": null,
   "id": "1c0d1a28",
   "metadata": {},
   "outputs": [],
   "source": [
    "print(start, one_week_end)"
   ]
  },
  {
   "cell_type": "code",
   "execution_count": null,
   "id": "0cf68126",
   "metadata": {},
   "outputs": [],
   "source": [
    "pf_pre = build_portfolio(\n",
    "    names=symbols, start_date=start, end_date=one_week_end, data_api=\"yfinance\"\n",
    ")"
   ]
  },
  {
   "cell_type": "code",
   "execution_count": null,
   "id": "802e610b",
   "metadata": {},
   "outputs": [],
   "source": [
    "vetted_symbols = list(\n",
    "    pf_pre.data.loc[\n",
    "        (np.intersect1d(list(pf_pre.data.index.strftime(\"%Y-%m-%d\")), tradingDays))\n",
    "    ]\n",
    "    .head(-1)\n",
    "    .tail(-1)\n",
    "    .dropna(axis=1)\n",
    "    .columns\n",
    ")"
   ]
  },
  {
   "cell_type": "code",
   "execution_count": null,
   "id": "c298590e",
   "metadata": {},
   "outputs": [],
   "source": [
    "# combinedList = unique(list(np.append(random.sample(symbols_sp500,int(len(symbols_sp500)*.05)),np.append(random.sample(dividendAristocraft,int(len(dividendAristocraft)*.25)),np.append(top10,random.sample(symbols_ns100,int(len(symbols_ns100)*.25)))))))\n",
    "\n",
    "# add index\n",
    "# vetted_symbols.append('TQQQ')\n",
    "\n",
    "pf = build_portfolio(\n",
    "    names=list(vetted_symbols), start_date=start, end_date=end, data_api=\"yfinance\"\n",
    ")"
   ]
  },
  {
   "cell_type": "code",
   "execution_count": null,
   "id": "a14f19da",
   "metadata": {},
   "outputs": [],
   "source": [
    "\"\"\"\n",
    "import pandas_datareader.data as web\n",
    "\n",
    "import datetime\n",
    "\n",
    "# Multiple series:\n",
    "fred_data = web.DataReader(FRED_Indicators, 'fred', start, end)\n",
    "\"\"\"\n",
    "\n",
    "FRED_Indicators = [\"DTB4WK\", \"DTB3\", \"DTB6\", \"DTB1YR\"]\n",
    "\n",
    "def Fred_Data(name):\n",
    "    temp = web.DataReader(str(name), \"fred\", start, end)\n",
    "    temp.index = pd.to_datetime(temp.index)\n",
    "    # temp = temp.resample(frequency).mean().dropna()\n",
    "    return temp\n",
    "\n",
    "\n",
    "FRED_set = []\n",
    "FRED_completed = []\n",
    "for i in FRED_Indicators:\n",
    "    FRED_completed.append(i)\n",
    "    FRED_set.append(Fred_Data(i))\n",
    "\n",
    "FRED_pvt = pd.DataFrame()\n",
    "\n",
    "for x in range(0, len(FRED_completed)):\n",
    "    values = FRED_set[x]\n",
    "    values = values.loc[~values.index.duplicated(keep=\"last\")]\n",
    "\n",
    "    FRED_pvt = pd.concat([FRED_pvt, values], axis=1)"
   ]
  },
  {
   "cell_type": "code",
   "execution_count": null,
   "id": "e13d8714",
   "metadata": {},
   "outputs": [],
   "source": []
  },
  {
   "cell_type": "code",
   "execution_count": null,
   "id": "cf86df8a",
   "metadata": {},
   "outputs": [],
   "source": [
    "returns = np.log(\n",
    "    1\n",
    "    + pf.data.loc[\n",
    "        (np.intersect1d(list(pf.data.index.strftime(\"%Y-%m-%d\")), tradingDays))\n",
    "    ]\n",
    "    .head(-1)\n",
    "    .interpolate(method=\"time\")\n",
    "    .pct_change()\n",
    "    .tail(-1)\n",
    ")\n",
    "returns = returns.dropna(axis=1)\n",
    "# returns.columns = stocks.dropna(axis=1)\n",
    "len(returns.columns)\n",
    "# np.sum(returns.isin([np.inf, -np.inf, np.NaN])).sort_values(kind=\"quicksort\", ascending=True)"
   ]
  },
  {
   "cell_type": "code",
   "execution_count": null,
   "id": "8cef60ed",
   "metadata": {},
   "outputs": [],
   "source": [
    "selectedmfunds = set(mfunds) & set(returns.columns)\n",
    "selectedstocks = set(stocks) & set(returns.columns)\n",
    "selectedbonds = set(bonds) & set(returns.columns)"
   ]
  },
  {
   "cell_type": "code",
   "execution_count": null,
   "id": "c61f091c",
   "metadata": {},
   "outputs": [],
   "source": [
    "n_steps_in = dback\n",
    "\n",
    "n_steps_out = dahead\n",
    "\n",
    "Training, Holdout = split_sequences(\n",
    "    np.array(pd.DataFrame(returns.index.strftime(\"%Y-%m-%d\"))), n_steps_in, n_steps_out\n",
    ")"
   ]
  },
  {
   "cell_type": "code",
   "execution_count": null,
   "id": "40b453d7-9860-4012-a30e-438ea29d7184",
   "metadata": {},
   "outputs": [],
   "source": [
    "FRED_pvt.columns"
   ]
  },
  {
   "cell_type": "code",
   "execution_count": 183,
   "id": "62b38eb5",
   "metadata": {},
   "outputs": [
    {
     "data": {
      "text/html": [
       "<div>\n",
       "<style scoped>\n",
       "    .dataframe tbody tr th:only-of-type {\n",
       "        vertical-align: middle;\n",
       "    }\n",
       "\n",
       "    .dataframe tbody tr th {\n",
       "        vertical-align: top;\n",
       "    }\n",
       "\n",
       "    .dataframe thead th {\n",
       "        text-align: right;\n",
       "    }\n",
       "</style>\n",
       "<table border=\"1\" class=\"dataframe\">\n",
       "  <thead>\n",
       "    <tr style=\"text-align: right;\">\n",
       "      <th></th>\n",
       "      <th>DTB4WK</th>\n",
       "      <th>DTB3</th>\n",
       "      <th>DTB6</th>\n",
       "      <th>DTB1YR</th>\n",
       "    </tr>\n",
       "    <tr>\n",
       "      <th>DATE</th>\n",
       "      <th></th>\n",
       "      <th></th>\n",
       "      <th></th>\n",
       "      <th></th>\n",
       "    </tr>\n",
       "  </thead>\n",
       "  <tbody>\n",
       "    <tr>\n",
       "      <th>2020-05-21</th>\n",
       "      <td>0.090</td>\n",
       "      <td>0.12</td>\n",
       "      <td>0.140</td>\n",
       "      <td>0.16</td>\n",
       "    </tr>\n",
       "    <tr>\n",
       "      <th>2020-05-22</th>\n",
       "      <td>0.090</td>\n",
       "      <td>0.12</td>\n",
       "      <td>0.160</td>\n",
       "      <td>0.17</td>\n",
       "    </tr>\n",
       "    <tr>\n",
       "      <th>2020-05-25</th>\n",
       "      <td>0.095</td>\n",
       "      <td>0.13</td>\n",
       "      <td>0.165</td>\n",
       "      <td>0.17</td>\n",
       "    </tr>\n",
       "    <tr>\n",
       "      <th>2020-05-26</th>\n",
       "      <td>0.100</td>\n",
       "      <td>0.14</td>\n",
       "      <td>0.170</td>\n",
       "      <td>0.17</td>\n",
       "    </tr>\n",
       "    <tr>\n",
       "      <th>2020-05-27</th>\n",
       "      <td>0.100</td>\n",
       "      <td>0.15</td>\n",
       "      <td>0.170</td>\n",
       "      <td>0.18</td>\n",
       "    </tr>\n",
       "    <tr>\n",
       "      <th>...</th>\n",
       "      <td>...</td>\n",
       "      <td>...</td>\n",
       "      <td>...</td>\n",
       "      <td>...</td>\n",
       "    </tr>\n",
       "    <tr>\n",
       "      <th>2021-11-03</th>\n",
       "      <td>0.050</td>\n",
       "      <td>0.05</td>\n",
       "      <td>0.070</td>\n",
       "      <td>0.17</td>\n",
       "    </tr>\n",
       "    <tr>\n",
       "      <th>2021-11-04</th>\n",
       "      <td>0.050</td>\n",
       "      <td>0.04</td>\n",
       "      <td>0.070</td>\n",
       "      <td>0.14</td>\n",
       "    </tr>\n",
       "    <tr>\n",
       "      <th>2021-11-05</th>\n",
       "      <td>0.050</td>\n",
       "      <td>0.05</td>\n",
       "      <td>0.070</td>\n",
       "      <td>0.14</td>\n",
       "    </tr>\n",
       "    <tr>\n",
       "      <th>2021-11-08</th>\n",
       "      <td>0.040</td>\n",
       "      <td>0.06</td>\n",
       "      <td>0.070</td>\n",
       "      <td>0.15</td>\n",
       "    </tr>\n",
       "    <tr>\n",
       "      <th>2021-11-09</th>\n",
       "      <td>0.040</td>\n",
       "      <td>0.04</td>\n",
       "      <td>0.060</td>\n",
       "      <td>0.13</td>\n",
       "    </tr>\n",
       "  </tbody>\n",
       "</table>\n",
       "<p>384 rows × 4 columns</p>\n",
       "</div>"
      ],
      "text/plain": [
       "            DTB4WK  DTB3   DTB6  DTB1YR\n",
       "DATE                                   \n",
       "2020-05-21   0.090  0.12  0.140    0.16\n",
       "2020-05-22   0.090  0.12  0.160    0.17\n",
       "2020-05-25   0.095  0.13  0.165    0.17\n",
       "2020-05-26   0.100  0.14  0.170    0.17\n",
       "2020-05-27   0.100  0.15  0.170    0.18\n",
       "...            ...   ...    ...     ...\n",
       "2021-11-03   0.050  0.05  0.070    0.17\n",
       "2021-11-04   0.050  0.04  0.070    0.14\n",
       "2021-11-05   0.050  0.05  0.070    0.14\n",
       "2021-11-08   0.040  0.06  0.070    0.15\n",
       "2021-11-09   0.040  0.04  0.060    0.13\n",
       "\n",
       "[384 rows x 4 columns]"
      ]
     },
     "execution_count": 183,
     "metadata": {},
     "output_type": "execute_result"
    }
   ],
   "source": []
  },
  {
   "cell_type": "code",
   "execution_count": null,
   "id": "0ab22986-b73d-494a-81b1-105fe88540fb",
   "metadata": {},
   "outputs": [],
   "source": [
    "#stocks.melt(ignore_index=False)\n",
    "prices = returns.melt(ignore_index=False).reset_index()"
   ]
  },
  {
   "cell_type": "code",
   "execution_count": null,
   "id": "a3360561-abab-4400-8139-9556627e94db",
   "metadata": {},
   "outputs": [],
   "source": []
  },
  {
   "cell_type": "code",
   "execution_count": null,
   "id": "a2a7e7e7-29e0-4af9-9306-00ed41e2e18c",
   "metadata": {},
   "outputs": [],
   "source": [
    "session = tt.create_session(config={\"user_content_storage\": \"./content\"})"
   ]
  },
  {
   "cell_type": "code",
   "execution_count": null,
   "id": "50716d7d-c8a2-4c84-9084-5a78291899d8",
   "metadata": {},
   "outputs": [],
   "source": [
    "prices_table = session.read_pandas(\n",
    "    prices,\n",
    "    keys=[\"Date\", \"variable\"],\n",
    "    table_name=\"prices\",\n",
    ")\n",
    "#prices_table.head()\n",
    "\n",
    "cube = session.create_cube(prices_table)"
   ]
  },
  {
   "cell_type": "code",
   "execution_count": null,
   "id": "bb4804a7-4bb7-4e21-8172-601cb2828ff0",
   "metadata": {},
   "outputs": [],
   "source": [
    "cube.schema"
   ]
  },
  {
   "cell_type": "code",
   "execution_count": null,
   "id": "3254bf0a-2fb4-4ce6-be57-1f8bbb713ffb",
   "metadata": {},
   "outputs": [],
   "source": []
  },
  {
   "cell_type": "code",
   "execution_count": null,
   "id": "be9e8ade-c817-4173-93d1-47537d54834a",
   "metadata": {
    "atoti": {
     "widget": {
      "filters": [],
      "mapping": {
       "columns": [
        "ALL_MEASURES"
       ],
       "measures": [
        "[Measures].[value.MEAN]"
       ],
       "rows": [
        "[prices].[Date].[Date]",
        "[prices].[variable].[variable]"
       ]
      },
      "query": {
       "mdx": "SELECT NON EMPTY Order(Crossjoin(Hierarchize(Descendants({[prices].[Date].[AllMember]}, 1, SELF_AND_BEFORE)), Hierarchize(Descendants({[prices].[variable].[AllMember]}, 1, SELF_AND_BEFORE))), [Measures].[value.SUM], DESC) ON ROWS, NON EMPTY {[Measures].[value.MEAN]} ON COLUMNS FROM [prices] CELL PROPERTIES VALUE, FORMATTED_VALUE, BACK_COLOR, FORE_COLOR, FONT_FLAGS",
       "updateMode": "once"
      },
      "serverKey": "default",
      "widgetKey": "pivot-table"
     }
    },
    "tags": []
   },
   "outputs": [],
   "source": [
    "session.visualize()"
   ]
  },
  {
   "cell_type": "code",
   "execution_count": null,
   "id": "f0391718-df25-419a-8585-6231094d1af3",
   "metadata": {},
   "outputs": [],
   "source": []
  },
  {
   "cell_type": "code",
   "execution_count": null,
   "id": "b182d83e-856c-4b7c-9c20-2521b46c9274",
   "metadata": {},
   "outputs": [],
   "source": [
    "h = cube.hierarchies\n",
    "l = cube.levels\n",
    "m = cube.measures"
   ]
  },
  {
   "cell_type": "code",
   "execution_count": null,
   "id": "e65fe5d0-eb2d-4f7b-9a04-11e186c7c400",
   "metadata": {},
   "outputs": [],
   "source": [
    "l"
   ]
  },
  {
   "cell_type": "code",
   "execution_count": null,
   "id": "8eb78676-df6a-4daf-81c9-350c761567ef",
   "metadata": {},
   "outputs": [],
   "source": [
    "m"
   ]
  },
  {
   "cell_type": "code",
   "execution_count": null,
   "id": "5176c7ca-2919-49f0-b5c8-3c4fa2678228",
   "metadata": {},
   "outputs": [],
   "source": [
    "cube.query(m[\"contributors.COUNT\"])"
   ]
  },
  {
   "cell_type": "code",
   "execution_count": null,
   "id": "727ebb04-bb4c-45aa-9503-f9ac4f9a772c",
   "metadata": {},
   "outputs": [],
   "source": [
    "#display(cube.query(m[\"value.SUM\"], levels=[l[\"Date\"]]))\n",
    "\n",
    "display(cube.query(m[\"value.MEAN\"], levels=[l[\"variable\"]]))"
   ]
  },
  {
   "cell_type": "code",
   "execution_count": 187,
   "id": "15f4f427-d764-47f1-b875-e43b325787f4",
   "metadata": {},
   "outputs": [
    {
     "data": {
      "text/plain": [
       "<AxesSubplot:xlabel='DATE'>"
      ]
     },
     "execution_count": 187,
     "metadata": {},
     "output_type": "execute_result"
    },
    {
     "data": {
      "image/png": "[encoded data removed]",
      "text/plain": [
       "<Figure size 432x288 with 1 Axes>"
      ]
     },
     "metadata": {
      "needs_background": "light"
     },
     "output_type": "display_data"
    }
   ],
   "source": [
    "FRED_pvt['DTB4WK'].interpolate().plot()"
   ]
  },
  {
   "cell_type": "code",
   "execution_count": 188,
   "id": "cc115b06-bda3-4db9-b9a0-5432b98a9120",
   "metadata": {},
   "outputs": [
    {
     "name": "stdout",
     "output_type": "stream",
     "text": [
      "0.01\n"
     ]
    },
    {
     "name": "stderr",
     "output_type": "stream",
     "text": [
      "C:\\Users\\User\\AppData\\Local\\Programs\\Python\\Python39\\lib\\site-packages\\pandas\\core\\frame.py:9525: RuntimeWarning:\n",
      "\n",
      "Degrees of freedom <= 0 for slice\n",
      "\n",
      "C:\\Users\\User\\AppData\\Local\\Programs\\Python\\Python39\\lib\\site-packages\\numpy\\lib\\function_base.py:2542: RuntimeWarning:\n",
      "\n",
      "divide by zero encountered in true_divide\n",
      "\n",
      "C:\\Users\\User\\AppData\\Local\\Programs\\Python\\Python39\\lib\\site-packages\\numpy\\lib\\function_base.py:2542: RuntimeWarning:\n",
      "\n",
      "invalid value encountered in multiply\n",
      "\n",
      "C:\\Users\\User\\AppData\\Local\\Temp/ipykernel_4384/2452458082.py:30: DeprecationWarning:\n",
      "\n",
      "`np.float` is a deprecated alias for the builtin `float`. To silence this warning, use `float` by itself. Doing this will not modify any behavior and is safe. If you specifically wanted the numpy scalar type, use `np.float64` here.\n",
      "Deprecated in NumPy 1.20; for more details and guidance: https://numpy.org/devdocs/release/1.20.0-notes.html#deprecations\n",
      "\n",
      "C:\\Users\\User\\AppData\\Local\\Programs\\Python\\Python39\\lib\\site-packages\\numpy\\lib\\shape_base.py:652: VisibleDeprecationWarning:\n",
      "\n",
      "Creating an ndarray from ragged nested sequences (which is a list-or-tuple of lists-or-tuples-or ndarrays with different lengths or shapes) is deprecated. If you meant to do this, you must specify 'dtype=object' when creating the ndarray.\n",
      "\n"
     ]
    },
    {
     "data": {
      "text/plain": [
       "value.MEAN    0.00131\n",
       "dtype: float64"
      ]
     },
     "metadata": {},
     "output_type": "display_data"
    },
    {
     "data": {
      "text/plain": [
       "value.MEAN   -0.003104\n",
       "dtype: float64"
      ]
     },
     "metadata": {},
     "output_type": "display_data"
    },
    {
     "data": {
      "text/plain": [
       "-0.0037278764438684877"
      ]
     },
     "metadata": {},
     "output_type": "display_data"
    },
    {
     "data": {
      "text/html": [
       "<div>\n",
       "<style scoped>\n",
       "    .dataframe tbody tr th:only-of-type {\n",
       "        vertical-align: middle;\n",
       "    }\n",
       "\n",
       "    .dataframe tbody tr th {\n",
       "        vertical-align: top;\n",
       "    }\n",
       "\n",
       "    .dataframe thead th {\n",
       "        text-align: right;\n",
       "    }\n",
       "</style>\n",
       "<table border=\"1\" class=\"dataframe\">\n",
       "  <thead>\n",
       "    <tr style=\"text-align: right;\">\n",
       "      <th>variable</th>\n",
       "      <th>CHIS</th>\n",
       "      <th>EEH</th>\n",
       "      <th>ERC</th>\n",
       "      <th>EWP</th>\n",
       "      <th>GENE</th>\n",
       "      <th>IGHG</th>\n",
       "      <th>KSU</th>\n",
       "      <th>OGS</th>\n",
       "      <th>PSC</th>\n",
       "      <th>WBND</th>\n",
       "    </tr>\n",
       "  </thead>\n",
       "  <tbody>\n",
       "    <tr>\n",
       "      <th>0</th>\n",
       "      <td>0.024956</td>\n",
       "      <td>0.167265</td>\n",
       "      <td>0.012845</td>\n",
       "      <td>0.064647</td>\n",
       "      <td>0.232854</td>\n",
       "      <td>0.115217</td>\n",
       "      <td>0.233479</td>\n",
       "      <td>0.064724</td>\n",
       "      <td>0.04422</td>\n",
       "      <td>0.039794</td>\n",
       "    </tr>\n",
       "  </tbody>\n",
       "</table>\n",
       "</div>"
      ],
      "text/plain": [
       "variable      CHIS       EEH       ERC       EWP      GENE      IGHG  \\\n",
       "0         0.024956  0.167265  0.012845  0.064647  0.232854  0.115217   \n",
       "\n",
       "variable       KSU       OGS      PSC      WBND  \n",
       "0         0.233479  0.064724  0.04422  0.039794  "
      ]
     },
     "metadata": {},
     "output_type": "display_data"
    },
    {
     "name": "stdout",
     "output_type": "stream",
     "text": [
      "0.01\n"
     ]
    },
    {
     "name": "stderr",
     "output_type": "stream",
     "text": [
      "C:\\Users\\User\\AppData\\Local\\Programs\\Python\\Python39\\lib\\site-packages\\pandas\\core\\frame.py:9525: RuntimeWarning:\n",
      "\n",
      "Degrees of freedom <= 0 for slice\n",
      "\n",
      "C:\\Users\\User\\AppData\\Local\\Programs\\Python\\Python39\\lib\\site-packages\\numpy\\lib\\function_base.py:2542: RuntimeWarning:\n",
      "\n",
      "divide by zero encountered in true_divide\n",
      "\n",
      "C:\\Users\\User\\AppData\\Local\\Programs\\Python\\Python39\\lib\\site-packages\\numpy\\lib\\function_base.py:2542: RuntimeWarning:\n",
      "\n",
      "invalid value encountered in multiply\n",
      "\n",
      "C:\\Users\\User\\AppData\\Local\\Temp/ipykernel_4384/2452458082.py:30: DeprecationWarning:\n",
      "\n",
      "`np.float` is a deprecated alias for the builtin `float`. To silence this warning, use `float` by itself. Doing this will not modify any behavior and is safe. If you specifically wanted the numpy scalar type, use `np.float64` here.\n",
      "Deprecated in NumPy 1.20; for more details and guidance: https://numpy.org/devdocs/release/1.20.0-notes.html#deprecations\n",
      "\n",
      "C:\\Users\\User\\AppData\\Local\\Programs\\Python\\Python39\\lib\\site-packages\\numpy\\lib\\shape_base.py:652: VisibleDeprecationWarning:\n",
      "\n",
      "Creating an ndarray from ragged nested sequences (which is a list-or-tuple of lists-or-tuples-or ndarrays with different lengths or shapes) is deprecated. If you meant to do this, you must specify 'dtype=object' when creating the ndarray.\n",
      "\n"
     ]
    },
    {
     "data": {
      "text/plain": [
       "value.MEAN    0.000689\n",
       "dtype: float64"
      ]
     },
     "metadata": {},
     "output_type": "display_data"
    },
    {
     "data": {
      "text/plain": [
       "value.MEAN    0.001418\n",
       "dtype: float64"
      ]
     },
     "metadata": {},
     "output_type": "display_data"
    },
    {
     "data": {
      "text/plain": [
       "0.0014744116036168695"
      ]
     },
     "metadata": {},
     "output_type": "display_data"
    },
    {
     "data": {
      "text/html": [
       "<div>\n",
       "<style scoped>\n",
       "    .dataframe tbody tr th:only-of-type {\n",
       "        vertical-align: middle;\n",
       "    }\n",
       "\n",
       "    .dataframe tbody tr th {\n",
       "        vertical-align: top;\n",
       "    }\n",
       "\n",
       "    .dataframe thead th {\n",
       "        text-align: right;\n",
       "    }\n",
       "</style>\n",
       "<table border=\"1\" class=\"dataframe\">\n",
       "  <thead>\n",
       "    <tr style=\"text-align: right;\">\n",
       "      <th>variable</th>\n",
       "      <th>CSWI</th>\n",
       "      <th>ESTA</th>\n",
       "      <th>HOOK</th>\n",
       "      <th>IDIV</th>\n",
       "      <th>IJS</th>\n",
       "      <th>INSW</th>\n",
       "      <th>KSU</th>\n",
       "      <th>PNBK</th>\n",
       "      <th>TWM</th>\n",
       "      <th>VGR</th>\n",
       "    </tr>\n",
       "  </thead>\n",
       "  <tbody>\n",
       "    <tr>\n",
       "      <th>0</th>\n",
       "      <td>0.087568</td>\n",
       "      <td>0.168711</td>\n",
       "      <td>0.079474</td>\n",
       "      <td>0.121584</td>\n",
       "      <td>0.015145</td>\n",
       "      <td>0.145862</td>\n",
       "      <td>0.13626</td>\n",
       "      <td>0.103858</td>\n",
       "      <td>0.114761</td>\n",
       "      <td>0.026778</td>\n",
       "    </tr>\n",
       "  </tbody>\n",
       "</table>\n",
       "</div>"
      ],
      "text/plain": [
       "variable      CSWI      ESTA      HOOK      IDIV       IJS      INSW      KSU  \\\n",
       "0         0.087568  0.168711  0.079474  0.121584  0.015145  0.145862  0.13626   \n",
       "\n",
       "variable      PNBK       TWM       VGR  \n",
       "0         0.103858  0.114761  0.026778  "
      ]
     },
     "metadata": {},
     "output_type": "display_data"
    },
    {
     "name": "stdout",
     "output_type": "stream",
     "text": [
      "0.01\n"
     ]
    },
    {
     "name": "stderr",
     "output_type": "stream",
     "text": [
      "C:\\Users\\User\\AppData\\Local\\Programs\\Python\\Python39\\lib\\site-packages\\pandas\\core\\frame.py:9525: RuntimeWarning:\n",
      "\n",
      "Degrees of freedom <= 0 for slice\n",
      "\n",
      "C:\\Users\\User\\AppData\\Local\\Programs\\Python\\Python39\\lib\\site-packages\\numpy\\lib\\function_base.py:2542: RuntimeWarning:\n",
      "\n",
      "divide by zero encountered in true_divide\n",
      "\n",
      "C:\\Users\\User\\AppData\\Local\\Programs\\Python\\Python39\\lib\\site-packages\\numpy\\lib\\function_base.py:2542: RuntimeWarning:\n",
      "\n",
      "invalid value encountered in multiply\n",
      "\n",
      "C:\\Users\\User\\AppData\\Local\\Temp/ipykernel_4384/2452458082.py:30: DeprecationWarning:\n",
      "\n",
      "`np.float` is a deprecated alias for the builtin `float`. To silence this warning, use `float` by itself. Doing this will not modify any behavior and is safe. If you specifically wanted the numpy scalar type, use `np.float64` here.\n",
      "Deprecated in NumPy 1.20; for more details and guidance: https://numpy.org/devdocs/release/1.20.0-notes.html#deprecations\n",
      "\n",
      "C:\\Users\\User\\AppData\\Local\\Programs\\Python\\Python39\\lib\\site-packages\\numpy\\lib\\shape_base.py:652: VisibleDeprecationWarning:\n",
      "\n",
      "Creating an ndarray from ragged nested sequences (which is a list-or-tuple of lists-or-tuples-or ndarrays with different lengths or shapes) is deprecated. If you meant to do this, you must specify 'dtype=object' when creating the ndarray.\n",
      "\n"
     ]
    },
    {
     "data": {
      "text/plain": [
       "value.MEAN    0.000402\n",
       "dtype: float64"
      ]
     },
     "metadata": {},
     "output_type": "display_data"
    },
    {
     "data": {
      "text/plain": [
       "value.MEAN   -0.003046\n",
       "dtype: float64"
      ]
     },
     "metadata": {},
     "output_type": "display_data"
    },
    {
     "data": {
      "text/plain": [
       "-0.0030871575940665794"
      ]
     },
     "metadata": {},
     "output_type": "display_data"
    },
    {
     "data": {
      "text/html": [
       "<div>\n",
       "<style scoped>\n",
       "    .dataframe tbody tr th:only-of-type {\n",
       "        vertical-align: middle;\n",
       "    }\n",
       "\n",
       "    .dataframe tbody tr th {\n",
       "        vertical-align: top;\n",
       "    }\n",
       "\n",
       "    .dataframe thead th {\n",
       "        text-align: right;\n",
       "    }\n",
       "</style>\n",
       "<table border=\"1\" class=\"dataframe\">\n",
       "  <thead>\n",
       "    <tr style=\"text-align: right;\">\n",
       "      <th>variable</th>\n",
       "      <th>ACHC</th>\n",
       "      <th>CPHC</th>\n",
       "      <th>CSR</th>\n",
       "      <th>CYB</th>\n",
       "      <th>EEH</th>\n",
       "      <th>LEVI</th>\n",
       "      <th>PNBK</th>\n",
       "      <th>SMLP</th>\n",
       "      <th>TAL</th>\n",
       "      <th>UDR</th>\n",
       "    </tr>\n",
       "  </thead>\n",
       "  <tbody>\n",
       "    <tr>\n",
       "      <th>0</th>\n",
       "      <td>0.056995</td>\n",
       "      <td>0.138982</td>\n",
       "      <td>0.185312</td>\n",
       "      <td>0.038285</td>\n",
       "      <td>0.134338</td>\n",
       "      <td>0.177622</td>\n",
       "      <td>0.034963</td>\n",
       "      <td>0.123076</td>\n",
       "      <td>0.021627</td>\n",
       "      <td>0.088801</td>\n",
       "    </tr>\n",
       "  </tbody>\n",
       "</table>\n",
       "</div>"
      ],
      "text/plain": [
       "variable      ACHC      CPHC       CSR       CYB       EEH      LEVI  \\\n",
       "0         0.056995  0.138982  0.185312  0.038285  0.134338  0.177622   \n",
       "\n",
       "variable      PNBK      SMLP       TAL       UDR  \n",
       "0         0.034963  0.123076  0.021627  0.088801  "
      ]
     },
     "metadata": {},
     "output_type": "display_data"
    },
    {
     "name": "stdout",
     "output_type": "stream",
     "text": [
      "0.02\n"
     ]
    },
    {
     "name": "stderr",
     "output_type": "stream",
     "text": [
      "C:\\Users\\User\\AppData\\Local\\Programs\\Python\\Python39\\lib\\site-packages\\pandas\\core\\frame.py:9525: RuntimeWarning:\n",
      "\n",
      "Degrees of freedom <= 0 for slice\n",
      "\n",
      "C:\\Users\\User\\AppData\\Local\\Programs\\Python\\Python39\\lib\\site-packages\\numpy\\lib\\function_base.py:2542: RuntimeWarning:\n",
      "\n",
      "divide by zero encountered in true_divide\n",
      "\n",
      "C:\\Users\\User\\AppData\\Local\\Programs\\Python\\Python39\\lib\\site-packages\\numpy\\lib\\function_base.py:2542: RuntimeWarning:\n",
      "\n",
      "invalid value encountered in multiply\n",
      "\n",
      "C:\\Users\\User\\AppData\\Local\\Temp/ipykernel_4384/2452458082.py:30: DeprecationWarning:\n",
      "\n",
      "`np.float` is a deprecated alias for the builtin `float`. To silence this warning, use `float` by itself. Doing this will not modify any behavior and is safe. If you specifically wanted the numpy scalar type, use `np.float64` here.\n",
      "Deprecated in NumPy 1.20; for more details and guidance: https://numpy.org/devdocs/release/1.20.0-notes.html#deprecations\n",
      "\n",
      "C:\\Users\\User\\AppData\\Local\\Programs\\Python\\Python39\\lib\\site-packages\\numpy\\lib\\shape_base.py:652: VisibleDeprecationWarning:\n",
      "\n",
      "Creating an ndarray from ragged nested sequences (which is a list-or-tuple of lists-or-tuples-or ndarrays with different lengths or shapes) is deprecated. If you meant to do this, you must specify 'dtype=object' when creating the ndarray.\n",
      "\n"
     ]
    },
    {
     "data": {
      "text/plain": [
       "value.MEAN    0.001322\n",
       "dtype: float64"
      ]
     },
     "metadata": {},
     "output_type": "display_data"
    },
    {
     "data": {
      "text/plain": [
       "value.MEAN   -0.001607\n",
       "dtype: float64"
      ]
     },
     "metadata": {},
     "output_type": "display_data"
    },
    {
     "data": {
      "text/plain": [
       "-0.002256004940921934"
      ]
     },
     "metadata": {},
     "output_type": "display_data"
    },
    {
     "data": {
      "text/html": [
       "<div>\n",
       "<style scoped>\n",
       "    .dataframe tbody tr th:only-of-type {\n",
       "        vertical-align: middle;\n",
       "    }\n",
       "\n",
       "    .dataframe tbody tr th {\n",
       "        vertical-align: top;\n",
       "    }\n",
       "\n",
       "    .dataframe thead th {\n",
       "        text-align: right;\n",
       "    }\n",
       "</style>\n",
       "<table border=\"1\" class=\"dataframe\">\n",
       "  <thead>\n",
       "    <tr style=\"text-align: right;\">\n",
       "      <th>variable</th>\n",
       "      <th>ARDX</th>\n",
       "      <th>CHIS</th>\n",
       "      <th>CME</th>\n",
       "      <th>ECF</th>\n",
       "      <th>EDIT</th>\n",
       "      <th>EWP</th>\n",
       "      <th>GLG</th>\n",
       "      <th>GVP</th>\n",
       "      <th>LKOR</th>\n",
       "      <th>TAL</th>\n",
       "    </tr>\n",
       "  </thead>\n",
       "  <tbody>\n",
       "    <tr>\n",
       "      <th>0</th>\n",
       "      <td>0.157682</td>\n",
       "      <td>0.07035</td>\n",
       "      <td>0.157322</td>\n",
       "      <td>0.111414</td>\n",
       "      <td>0.015151</td>\n",
       "      <td>0.029271</td>\n",
       "      <td>0.130899</td>\n",
       "      <td>0.059885</td>\n",
       "      <td>0.170874</td>\n",
       "      <td>0.097151</td>\n",
       "    </tr>\n",
       "  </tbody>\n",
       "</table>\n",
       "</div>"
      ],
      "text/plain": [
       "variable      ARDX     CHIS       CME       ECF      EDIT       EWP       GLG  \\\n",
       "0         0.157682  0.07035  0.157322  0.111414  0.015151  0.029271  0.130899   \n",
       "\n",
       "variable       GVP      LKOR       TAL  \n",
       "0         0.059885  0.170874  0.097151  "
      ]
     },
     "metadata": {},
     "output_type": "display_data"
    },
    {
     "name": "stdout",
     "output_type": "stream",
     "text": [
      "0.05\n"
     ]
    },
    {
     "name": "stderr",
     "output_type": "stream",
     "text": [
      "C:\\Users\\User\\AppData\\Local\\Programs\\Python\\Python39\\lib\\site-packages\\pandas\\core\\frame.py:9525: RuntimeWarning:\n",
      "\n",
      "Degrees of freedom <= 0 for slice\n",
      "\n",
      "C:\\Users\\User\\AppData\\Local\\Programs\\Python\\Python39\\lib\\site-packages\\numpy\\lib\\function_base.py:2542: RuntimeWarning:\n",
      "\n",
      "divide by zero encountered in true_divide\n",
      "\n",
      "C:\\Users\\User\\AppData\\Local\\Programs\\Python\\Python39\\lib\\site-packages\\numpy\\lib\\function_base.py:2542: RuntimeWarning:\n",
      "\n",
      "invalid value encountered in multiply\n",
      "\n",
      "C:\\Users\\User\\AppData\\Local\\Temp/ipykernel_4384/2452458082.py:30: DeprecationWarning:\n",
      "\n",
      "`np.float` is a deprecated alias for the builtin `float`. To silence this warning, use `float` by itself. Doing this will not modify any behavior and is safe. If you specifically wanted the numpy scalar type, use `np.float64` here.\n",
      "Deprecated in NumPy 1.20; for more details and guidance: https://numpy.org/devdocs/release/1.20.0-notes.html#deprecations\n",
      "\n",
      "C:\\Users\\User\\AppData\\Local\\Programs\\Python\\Python39\\lib\\site-packages\\numpy\\lib\\shape_base.py:652: VisibleDeprecationWarning:\n",
      "\n",
      "Creating an ndarray from ragged nested sequences (which is a list-or-tuple of lists-or-tuples-or ndarrays with different lengths or shapes) is deprecated. If you meant to do this, you must specify 'dtype=object' when creating the ndarray.\n",
      "\n"
     ]
    },
    {
     "data": {
      "text/plain": [
       "value.MEAN   -0.000255\n",
       "dtype: float64"
      ]
     },
     "metadata": {},
     "output_type": "display_data"
    },
    {
     "data": {
      "text/plain": [
       "value.MEAN   -0.007786\n",
       "dtype: float64"
      ]
     },
     "metadata": {},
     "output_type": "display_data"
    },
    {
     "data": {
      "text/plain": [
       "-0.004456031992721991"
      ]
     },
     "metadata": {},
     "output_type": "display_data"
    },
    {
     "data": {
      "text/html": [
       "<div>\n",
       "<style scoped>\n",
       "    .dataframe tbody tr th:only-of-type {\n",
       "        vertical-align: middle;\n",
       "    }\n",
       "\n",
       "    .dataframe tbody tr th {\n",
       "        vertical-align: top;\n",
       "    }\n",
       "\n",
       "    .dataframe thead th {\n",
       "        text-align: right;\n",
       "    }\n",
       "</style>\n",
       "<table border=\"1\" class=\"dataframe\">\n",
       "  <thead>\n",
       "    <tr style=\"text-align: right;\">\n",
       "      <th>variable</th>\n",
       "      <th>AMZN</th>\n",
       "      <th>ARDX</th>\n",
       "      <th>CHIS</th>\n",
       "      <th>CYB</th>\n",
       "      <th>FLIA</th>\n",
       "      <th>KBAL</th>\n",
       "      <th>KSU</th>\n",
       "      <th>PML</th>\n",
       "      <th>TNA</th>\n",
       "      <th>VATE</th>\n",
       "    </tr>\n",
       "  </thead>\n",
       "  <tbody>\n",
       "    <tr>\n",
       "      <th>0</th>\n",
       "      <td>0.167322</td>\n",
       "      <td>0.035767</td>\n",
       "      <td>0.086291</td>\n",
       "      <td>0.14812</td>\n",
       "      <td>0.061052</td>\n",
       "      <td>0.141397</td>\n",
       "      <td>0.021324</td>\n",
       "      <td>0.103757</td>\n",
       "      <td>0.213694</td>\n",
       "      <td>0.021276</td>\n",
       "    </tr>\n",
       "  </tbody>\n",
       "</table>\n",
       "</div>"
      ],
      "text/plain": [
       "variable      AMZN      ARDX      CHIS      CYB      FLIA      KBAL       KSU  \\\n",
       "0         0.167322  0.035767  0.086291  0.14812  0.061052  0.141397  0.021324   \n",
       "\n",
       "variable       PML       TNA      VATE  \n",
       "0         0.103757  0.213694  0.021276  "
      ]
     },
     "metadata": {},
     "output_type": "display_data"
    },
    {
     "name": "stdout",
     "output_type": "stream",
     "text": [
      "0.05\n"
     ]
    },
    {
     "name": "stderr",
     "output_type": "stream",
     "text": [
      "C:\\Users\\User\\AppData\\Local\\Programs\\Python\\Python39\\lib\\site-packages\\pandas\\core\\frame.py:9525: RuntimeWarning:\n",
      "\n",
      "Degrees of freedom <= 0 for slice\n",
      "\n",
      "C:\\Users\\User\\AppData\\Local\\Programs\\Python\\Python39\\lib\\site-packages\\numpy\\lib\\function_base.py:2542: RuntimeWarning:\n",
      "\n",
      "divide by zero encountered in true_divide\n",
      "\n",
      "C:\\Users\\User\\AppData\\Local\\Programs\\Python\\Python39\\lib\\site-packages\\numpy\\lib\\function_base.py:2542: RuntimeWarning:\n",
      "\n",
      "invalid value encountered in multiply\n",
      "\n",
      "C:\\Users\\User\\AppData\\Local\\Temp/ipykernel_4384/2452458082.py:30: DeprecationWarning:\n",
      "\n",
      "`np.float` is a deprecated alias for the builtin `float`. To silence this warning, use `float` by itself. Doing this will not modify any behavior and is safe. If you specifically wanted the numpy scalar type, use `np.float64` here.\n",
      "Deprecated in NumPy 1.20; for more details and guidance: https://numpy.org/devdocs/release/1.20.0-notes.html#deprecations\n",
      "\n",
      "C:\\Users\\User\\AppData\\Local\\Programs\\Python\\Python39\\lib\\site-packages\\numpy\\lib\\shape_base.py:652: VisibleDeprecationWarning:\n",
      "\n",
      "Creating an ndarray from ragged nested sequences (which is a list-or-tuple of lists-or-tuples-or ndarrays with different lengths or shapes) is deprecated. If you meant to do this, you must specify 'dtype=object' when creating the ndarray.\n",
      "\n"
     ]
    },
    {
     "data": {
      "text/plain": [
       "value.MEAN    0.002157\n",
       "dtype: float64"
      ]
     },
     "metadata": {},
     "output_type": "display_data"
    },
    {
     "data": {
      "text/plain": [
       "value.MEAN   -0.001922\n",
       "dtype: float64"
      ]
     },
     "metadata": {},
     "output_type": "display_data"
    },
    {
     "data": {
      "text/plain": [
       "-0.002535739263991021"
      ]
     },
     "metadata": {},
     "output_type": "display_data"
    },
    {
     "data": {
      "text/html": [
       "<div>\n",
       "<style scoped>\n",
       "    .dataframe tbody tr th:only-of-type {\n",
       "        vertical-align: middle;\n",
       "    }\n",
       "\n",
       "    .dataframe tbody tr th {\n",
       "        vertical-align: top;\n",
       "    }\n",
       "\n",
       "    .dataframe thead th {\n",
       "        text-align: right;\n",
       "    }\n",
       "</style>\n",
       "<table border=\"1\" class=\"dataframe\">\n",
       "  <thead>\n",
       "    <tr style=\"text-align: right;\">\n",
       "      <th>variable</th>\n",
       "      <th>APRE</th>\n",
       "      <th>ARMK</th>\n",
       "      <th>BSTZ</th>\n",
       "      <th>ECF</th>\n",
       "      <th>JTD</th>\n",
       "      <th>LKOR</th>\n",
       "      <th>PGX</th>\n",
       "      <th>TAL</th>\n",
       "      <th>UDR</th>\n",
       "      <th>ULTR</th>\n",
       "    </tr>\n",
       "  </thead>\n",
       "  <tbody>\n",
       "    <tr>\n",
       "      <th>0</th>\n",
       "      <td>0.201051</td>\n",
       "      <td>0.050246</td>\n",
       "      <td>0.041909</td>\n",
       "      <td>0.046512</td>\n",
       "      <td>0.013029</td>\n",
       "      <td>0.068917</td>\n",
       "      <td>0.17645</td>\n",
       "      <td>0.151837</td>\n",
       "      <td>0.120654</td>\n",
       "      <td>0.129394</td>\n",
       "    </tr>\n",
       "  </tbody>\n",
       "</table>\n",
       "</div>"
      ],
      "text/plain": [
       "variable      APRE      ARMK      BSTZ       ECF       JTD      LKOR      PGX  \\\n",
       "0         0.201051  0.050246  0.041909  0.046512  0.013029  0.068917  0.17645   \n",
       "\n",
       "variable       TAL       UDR      ULTR  \n",
       "0         0.151837  0.120654  0.129394  "
      ]
     },
     "metadata": {},
     "output_type": "display_data"
    },
    {
     "name": "stdout",
     "output_type": "stream",
     "text": [
      "0.05\n"
     ]
    },
    {
     "name": "stderr",
     "output_type": "stream",
     "text": [
      "C:\\Users\\User\\AppData\\Local\\Programs\\Python\\Python39\\lib\\site-packages\\pandas\\core\\frame.py:9525: RuntimeWarning:\n",
      "\n",
      "Degrees of freedom <= 0 for slice\n",
      "\n",
      "C:\\Users\\User\\AppData\\Local\\Programs\\Python\\Python39\\lib\\site-packages\\numpy\\lib\\function_base.py:2542: RuntimeWarning:\n",
      "\n",
      "divide by zero encountered in true_divide\n",
      "\n",
      "C:\\Users\\User\\AppData\\Local\\Programs\\Python\\Python39\\lib\\site-packages\\numpy\\lib\\function_base.py:2542: RuntimeWarning:\n",
      "\n",
      "invalid value encountered in multiply\n",
      "\n",
      "C:\\Users\\User\\AppData\\Local\\Temp/ipykernel_4384/2452458082.py:30: DeprecationWarning:\n",
      "\n",
      "`np.float` is a deprecated alias for the builtin `float`. To silence this warning, use `float` by itself. Doing this will not modify any behavior and is safe. If you specifically wanted the numpy scalar type, use `np.float64` here.\n",
      "Deprecated in NumPy 1.20; for more details and guidance: https://numpy.org/devdocs/release/1.20.0-notes.html#deprecations\n",
      "\n",
      "C:\\Users\\User\\AppData\\Local\\Programs\\Python\\Python39\\lib\\site-packages\\numpy\\lib\\shape_base.py:652: VisibleDeprecationWarning:\n",
      "\n",
      "Creating an ndarray from ragged nested sequences (which is a list-or-tuple of lists-or-tuples-or ndarrays with different lengths or shapes) is deprecated. If you meant to do this, you must specify 'dtype=object' when creating the ndarray.\n",
      "\n"
     ]
    },
    {
     "data": {
      "text/plain": [
       "value.MEAN    0.000205\n",
       "dtype: float64"
      ]
     },
     "metadata": {},
     "output_type": "display_data"
    },
    {
     "data": {
      "text/plain": [
       "value.MEAN   -0.000271\n",
       "dtype: float64"
      ]
     },
     "metadata": {},
     "output_type": "display_data"
    },
    {
     "data": {
      "text/plain": [
       "-0.0003852520084721414"
      ]
     },
     "metadata": {},
     "output_type": "display_data"
    },
    {
     "data": {
      "text/html": [
       "<div>\n",
       "<style scoped>\n",
       "    .dataframe tbody tr th:only-of-type {\n",
       "        vertical-align: middle;\n",
       "    }\n",
       "\n",
       "    .dataframe tbody tr th {\n",
       "        vertical-align: top;\n",
       "    }\n",
       "\n",
       "    .dataframe thead th {\n",
       "        text-align: right;\n",
       "    }\n",
       "</style>\n",
       "<table border=\"1\" class=\"dataframe\">\n",
       "  <thead>\n",
       "    <tr style=\"text-align: right;\">\n",
       "      <th>variable</th>\n",
       "      <th>ACHC</th>\n",
       "      <th>AGO</th>\n",
       "      <th>AMZN</th>\n",
       "      <th>APEI</th>\n",
       "      <th>ARMK</th>\n",
       "      <th>BHFAP</th>\n",
       "      <th>CHIS</th>\n",
       "      <th>ESTA</th>\n",
       "      <th>KBAL</th>\n",
       "      <th>LEVI</th>\n",
       "    </tr>\n",
       "  </thead>\n",
       "  <tbody>\n",
       "    <tr>\n",
       "      <th>0</th>\n",
       "      <td>0.158365</td>\n",
       "      <td>0.068943</td>\n",
       "      <td>0.153725</td>\n",
       "      <td>0.118307</td>\n",
       "      <td>0.122454</td>\n",
       "      <td>0.056001</td>\n",
       "      <td>0.121154</td>\n",
       "      <td>0.028986</td>\n",
       "      <td>0.072399</td>\n",
       "      <td>0.099666</td>\n",
       "    </tr>\n",
       "  </tbody>\n",
       "</table>\n",
       "</div>"
      ],
      "text/plain": [
       "variable      ACHC       AGO      AMZN      APEI      ARMK     BHFAP  \\\n",
       "0         0.158365  0.068943  0.153725  0.118307  0.122454  0.056001   \n",
       "\n",
       "variable      CHIS      ESTA      KBAL      LEVI  \n",
       "0         0.121154  0.028986  0.072399  0.099666  "
      ]
     },
     "metadata": {},
     "output_type": "display_data"
    },
    {
     "name": "stdout",
     "output_type": "stream",
     "text": [
      "0.05\n"
     ]
    },
    {
     "name": "stderr",
     "output_type": "stream",
     "text": [
      "C:\\Users\\User\\AppData\\Local\\Programs\\Python\\Python39\\lib\\site-packages\\pandas\\core\\frame.py:9525: RuntimeWarning:\n",
      "\n",
      "Degrees of freedom <= 0 for slice\n",
      "\n",
      "C:\\Users\\User\\AppData\\Local\\Programs\\Python\\Python39\\lib\\site-packages\\numpy\\lib\\function_base.py:2542: RuntimeWarning:\n",
      "\n",
      "divide by zero encountered in true_divide\n",
      "\n",
      "C:\\Users\\User\\AppData\\Local\\Programs\\Python\\Python39\\lib\\site-packages\\numpy\\lib\\function_base.py:2542: RuntimeWarning:\n",
      "\n",
      "invalid value encountered in multiply\n",
      "\n",
      "C:\\Users\\User\\AppData\\Local\\Temp/ipykernel_4384/2452458082.py:30: DeprecationWarning:\n",
      "\n",
      "`np.float` is a deprecated alias for the builtin `float`. To silence this warning, use `float` by itself. Doing this will not modify any behavior and is safe. If you specifically wanted the numpy scalar type, use `np.float64` here.\n",
      "Deprecated in NumPy 1.20; for more details and guidance: https://numpy.org/devdocs/release/1.20.0-notes.html#deprecations\n",
      "\n",
      "C:\\Users\\User\\AppData\\Local\\Programs\\Python\\Python39\\lib\\site-packages\\numpy\\lib\\shape_base.py:652: VisibleDeprecationWarning:\n",
      "\n",
      "Creating an ndarray from ragged nested sequences (which is a list-or-tuple of lists-or-tuples-or ndarrays with different lengths or shapes) is deprecated. If you meant to do this, you must specify 'dtype=object' when creating the ndarray.\n",
      "\n"
     ]
    },
    {
     "data": {
      "text/plain": [
       "value.MEAN    0.000264\n",
       "dtype: float64"
      ]
     },
     "metadata": {},
     "output_type": "display_data"
    },
    {
     "data": {
      "text/plain": [
       "value.MEAN    0.000194\n",
       "dtype: float64"
      ]
     },
     "metadata": {},
     "output_type": "display_data"
    },
    {
     "data": {
      "text/plain": [
       "-0.0004863453274436741"
      ]
     },
     "metadata": {},
     "output_type": "display_data"
    },
    {
     "data": {
      "text/html": [
       "<div>\n",
       "<style scoped>\n",
       "    .dataframe tbody tr th:only-of-type {\n",
       "        vertical-align: middle;\n",
       "    }\n",
       "\n",
       "    .dataframe tbody tr th {\n",
       "        vertical-align: top;\n",
       "    }\n",
       "\n",
       "    .dataframe thead th {\n",
       "        text-align: right;\n",
       "    }\n",
       "</style>\n",
       "<table border=\"1\" class=\"dataframe\">\n",
       "  <thead>\n",
       "    <tr style=\"text-align: right;\">\n",
       "      <th>variable</th>\n",
       "      <th>BAC-PB</th>\n",
       "      <th>CHIS</th>\n",
       "      <th>ENR-PA</th>\n",
       "      <th>ERC</th>\n",
       "      <th>HOOK</th>\n",
       "      <th>PGX</th>\n",
       "      <th>PNBK</th>\n",
       "      <th>SMM</th>\n",
       "      <th>TWM</th>\n",
       "      <th>VCRA</th>\n",
       "    </tr>\n",
       "  </thead>\n",
       "  <tbody>\n",
       "    <tr>\n",
       "      <th>0</th>\n",
       "      <td>0.049146</td>\n",
       "      <td>0.120124</td>\n",
       "      <td>0.040061</td>\n",
       "      <td>0.220484</td>\n",
       "      <td>0.06311</td>\n",
       "      <td>0.113198</td>\n",
       "      <td>0.075657</td>\n",
       "      <td>0.133267</td>\n",
       "      <td>0.101036</td>\n",
       "      <td>0.083918</td>\n",
       "    </tr>\n",
       "  </tbody>\n",
       "</table>\n",
       "</div>"
      ],
      "text/plain": [
       "variable    BAC-PB      CHIS    ENR-PA       ERC     HOOK       PGX      PNBK  \\\n",
       "0         0.049146  0.120124  0.040061  0.220484  0.06311  0.113198  0.075657   \n",
       "\n",
       "variable       SMM       TWM      VCRA  \n",
       "0         0.133267  0.101036  0.083918  "
      ]
     },
     "metadata": {},
     "output_type": "display_data"
    },
    {
     "name": "stdout",
     "output_type": "stream",
     "text": [
      "0.05\n"
     ]
    },
    {
     "name": "stderr",
     "output_type": "stream",
     "text": [
      "C:\\Users\\User\\AppData\\Local\\Programs\\Python\\Python39\\lib\\site-packages\\pandas\\core\\frame.py:9525: RuntimeWarning:\n",
      "\n",
      "Degrees of freedom <= 0 for slice\n",
      "\n",
      "C:\\Users\\User\\AppData\\Local\\Programs\\Python\\Python39\\lib\\site-packages\\numpy\\lib\\function_base.py:2542: RuntimeWarning:\n",
      "\n",
      "divide by zero encountered in true_divide\n",
      "\n",
      "C:\\Users\\User\\AppData\\Local\\Programs\\Python\\Python39\\lib\\site-packages\\numpy\\lib\\function_base.py:2542: RuntimeWarning:\n",
      "\n",
      "invalid value encountered in multiply\n",
      "\n",
      "C:\\Users\\User\\AppData\\Local\\Temp/ipykernel_4384/2452458082.py:30: DeprecationWarning:\n",
      "\n",
      "`np.float` is a deprecated alias for the builtin `float`. To silence this warning, use `float` by itself. Doing this will not modify any behavior and is safe. If you specifically wanted the numpy scalar type, use `np.float64` here.\n",
      "Deprecated in NumPy 1.20; for more details and guidance: https://numpy.org/devdocs/release/1.20.0-notes.html#deprecations\n",
      "\n",
      "C:\\Users\\User\\AppData\\Local\\Programs\\Python\\Python39\\lib\\site-packages\\numpy\\lib\\shape_base.py:652: VisibleDeprecationWarning:\n",
      "\n",
      "Creating an ndarray from ragged nested sequences (which is a list-or-tuple of lists-or-tuples-or ndarrays with different lengths or shapes) is deprecated. If you meant to do this, you must specify 'dtype=object' when creating the ndarray.\n",
      "\n"
     ]
    },
    {
     "data": {
      "text/plain": [
       "value.MEAN    0.000843\n",
       "dtype: float64"
      ]
     },
     "metadata": {},
     "output_type": "display_data"
    },
    {
     "data": {
      "text/plain": [
       "value.MEAN    0.000757\n",
       "dtype: float64"
      ]
     },
     "metadata": {},
     "output_type": "display_data"
    },
    {
     "data": {
      "text/plain": [
       "0.0015080160661934696"
      ]
     },
     "metadata": {},
     "output_type": "display_data"
    },
    {
     "data": {
      "text/html": [
       "<div>\n",
       "<style scoped>\n",
       "    .dataframe tbody tr th:only-of-type {\n",
       "        vertical-align: middle;\n",
       "    }\n",
       "\n",
       "    .dataframe tbody tr th {\n",
       "        vertical-align: top;\n",
       "    }\n",
       "\n",
       "    .dataframe thead th {\n",
       "        text-align: right;\n",
       "    }\n",
       "</style>\n",
       "<table border=\"1\" class=\"dataframe\">\n",
       "  <thead>\n",
       "    <tr style=\"text-align: right;\">\n",
       "      <th>variable</th>\n",
       "      <th>AMZN</th>\n",
       "      <th>EEH</th>\n",
       "      <th>FLIA</th>\n",
       "      <th>IBHB</th>\n",
       "      <th>IGHG</th>\n",
       "      <th>MSA</th>\n",
       "      <th>PML</th>\n",
       "      <th>TWM</th>\n",
       "      <th>ULTR</th>\n",
       "      <th>VCRA</th>\n",
       "    </tr>\n",
       "  </thead>\n",
       "  <tbody>\n",
       "    <tr>\n",
       "      <th>0</th>\n",
       "      <td>0.065724</td>\n",
       "      <td>0.146362</td>\n",
       "      <td>0.027319</td>\n",
       "      <td>0.033207</td>\n",
       "      <td>0.179361</td>\n",
       "      <td>0.084851</td>\n",
       "      <td>0.023903</td>\n",
       "      <td>0.046727</td>\n",
       "      <td>0.174498</td>\n",
       "      <td>0.218049</td>\n",
       "    </tr>\n",
       "  </tbody>\n",
       "</table>\n",
       "</div>"
      ],
      "text/plain": [
       "variable      AMZN       EEH      FLIA      IBHB      IGHG       MSA  \\\n",
       "0         0.065724  0.146362  0.027319  0.033207  0.179361  0.084851   \n",
       "\n",
       "variable       PML       TWM      ULTR      VCRA  \n",
       "0         0.023903  0.046727  0.174498  0.218049  "
      ]
     },
     "metadata": {},
     "output_type": "display_data"
    },
    {
     "name": "stdout",
     "output_type": "stream",
     "text": [
      "0.05\n"
     ]
    },
    {
     "name": "stderr",
     "output_type": "stream",
     "text": [
      "C:\\Users\\User\\AppData\\Local\\Programs\\Python\\Python39\\lib\\site-packages\\pandas\\core\\frame.py:9525: RuntimeWarning:\n",
      "\n",
      "Degrees of freedom <= 0 for slice\n",
      "\n",
      "C:\\Users\\User\\AppData\\Local\\Programs\\Python\\Python39\\lib\\site-packages\\numpy\\lib\\function_base.py:2542: RuntimeWarning:\n",
      "\n",
      "divide by zero encountered in true_divide\n",
      "\n",
      "C:\\Users\\User\\AppData\\Local\\Programs\\Python\\Python39\\lib\\site-packages\\numpy\\lib\\function_base.py:2542: RuntimeWarning:\n",
      "\n",
      "invalid value encountered in multiply\n",
      "\n",
      "C:\\Users\\User\\AppData\\Local\\Temp/ipykernel_4384/2452458082.py:30: DeprecationWarning:\n",
      "\n",
      "`np.float` is a deprecated alias for the builtin `float`. To silence this warning, use `float` by itself. Doing this will not modify any behavior and is safe. If you specifically wanted the numpy scalar type, use `np.float64` here.\n",
      "Deprecated in NumPy 1.20; for more details and guidance: https://numpy.org/devdocs/release/1.20.0-notes.html#deprecations\n",
      "\n",
      "C:\\Users\\User\\AppData\\Local\\Programs\\Python\\Python39\\lib\\site-packages\\numpy\\lib\\shape_base.py:652: VisibleDeprecationWarning:\n",
      "\n",
      "Creating an ndarray from ragged nested sequences (which is a list-or-tuple of lists-or-tuples-or ndarrays with different lengths or shapes) is deprecated. If you meant to do this, you must specify 'dtype=object' when creating the ndarray.\n",
      "\n"
     ]
    },
    {
     "data": {
      "text/plain": [
       "value.MEAN   -0.000913\n",
       "dtype: float64"
      ]
     },
     "metadata": {},
     "output_type": "display_data"
    },
    {
     "data": {
      "text/plain": [
       "value.MEAN   -0.003406\n",
       "dtype: float64"
      ]
     },
     "metadata": {},
     "output_type": "display_data"
    },
    {
     "data": {
      "text/plain": [
       "-0.0025708326102860174"
      ]
     },
     "metadata": {},
     "output_type": "display_data"
    },
    {
     "data": {
      "text/html": [
       "<div>\n",
       "<style scoped>\n",
       "    .dataframe tbody tr th:only-of-type {\n",
       "        vertical-align: middle;\n",
       "    }\n",
       "\n",
       "    .dataframe tbody tr th {\n",
       "        vertical-align: top;\n",
       "    }\n",
       "\n",
       "    .dataframe thead th {\n",
       "        text-align: right;\n",
       "    }\n",
       "</style>\n",
       "<table border=\"1\" class=\"dataframe\">\n",
       "  <thead>\n",
       "    <tr style=\"text-align: right;\">\n",
       "      <th>variable</th>\n",
       "      <th>ABB</th>\n",
       "      <th>APEI</th>\n",
       "      <th>ARMK</th>\n",
       "      <th>BHFAP</th>\n",
       "      <th>IBHB</th>\n",
       "      <th>IGHG</th>\n",
       "      <th>INSW</th>\n",
       "      <th>JTD</th>\n",
       "      <th>MSA</th>\n",
       "      <th>VGR</th>\n",
       "    </tr>\n",
       "  </thead>\n",
       "  <tbody>\n",
       "    <tr>\n",
       "      <th>0</th>\n",
       "      <td>0.125042</td>\n",
       "      <td>0.003305</td>\n",
       "      <td>0.091225</td>\n",
       "      <td>0.14385</td>\n",
       "      <td>0.028366</td>\n",
       "      <td>0.082194</td>\n",
       "      <td>0.122067</td>\n",
       "      <td>0.160382</td>\n",
       "      <td>0.103812</td>\n",
       "      <td>0.139756</td>\n",
       "    </tr>\n",
       "  </tbody>\n",
       "</table>\n",
       "</div>"
      ],
      "text/plain": [
       "variable       ABB      APEI      ARMK    BHFAP      IBHB      IGHG      INSW  \\\n",
       "0         0.125042  0.003305  0.091225  0.14385  0.028366  0.082194  0.122067   \n",
       "\n",
       "variable       JTD       MSA       VGR  \n",
       "0         0.160382  0.103812  0.139756  "
      ]
     },
     "metadata": {},
     "output_type": "display_data"
    },
    {
     "name": "stdout",
     "output_type": "stream",
     "text": [
      "0.05\n"
     ]
    },
    {
     "name": "stderr",
     "output_type": "stream",
     "text": [
      "C:\\Users\\User\\AppData\\Local\\Programs\\Python\\Python39\\lib\\site-packages\\pandas\\core\\frame.py:9525: RuntimeWarning:\n",
      "\n",
      "Degrees of freedom <= 0 for slice\n",
      "\n",
      "C:\\Users\\User\\AppData\\Local\\Programs\\Python\\Python39\\lib\\site-packages\\numpy\\lib\\function_base.py:2542: RuntimeWarning:\n",
      "\n",
      "divide by zero encountered in true_divide\n",
      "\n",
      "C:\\Users\\User\\AppData\\Local\\Programs\\Python\\Python39\\lib\\site-packages\\numpy\\lib\\function_base.py:2542: RuntimeWarning:\n",
      "\n",
      "invalid value encountered in multiply\n",
      "\n",
      "C:\\Users\\User\\AppData\\Local\\Temp/ipykernel_4384/2452458082.py:30: DeprecationWarning:\n",
      "\n",
      "`np.float` is a deprecated alias for the builtin `float`. To silence this warning, use `float` by itself. Doing this will not modify any behavior and is safe. If you specifically wanted the numpy scalar type, use `np.float64` here.\n",
      "Deprecated in NumPy 1.20; for more details and guidance: https://numpy.org/devdocs/release/1.20.0-notes.html#deprecations\n",
      "\n",
      "C:\\Users\\User\\AppData\\Local\\Programs\\Python\\Python39\\lib\\site-packages\\numpy\\lib\\shape_base.py:652: VisibleDeprecationWarning:\n",
      "\n",
      "Creating an ndarray from ragged nested sequences (which is a list-or-tuple of lists-or-tuples-or ndarrays with different lengths or shapes) is deprecated. If you meant to do this, you must specify 'dtype=object' when creating the ndarray.\n",
      "\n"
     ]
    },
    {
     "data": {
      "text/plain": [
       "value.MEAN    0.000903\n",
       "dtype: float64"
      ]
     },
     "metadata": {},
     "output_type": "display_data"
    },
    {
     "data": {
      "text/plain": [
       "value.MEAN   -0.001251\n",
       "dtype: float64"
      ]
     },
     "metadata": {},
     "output_type": "display_data"
    },
    {
     "data": {
      "text/plain": [
       "-0.0025521921169608577"
      ]
     },
     "metadata": {},
     "output_type": "display_data"
    },
    {
     "data": {
      "text/html": [
       "<div>\n",
       "<style scoped>\n",
       "    .dataframe tbody tr th:only-of-type {\n",
       "        vertical-align: middle;\n",
       "    }\n",
       "\n",
       "    .dataframe tbody tr th {\n",
       "        vertical-align: top;\n",
       "    }\n",
       "\n",
       "    .dataframe thead th {\n",
       "        text-align: right;\n",
       "    }\n",
       "</style>\n",
       "<table border=\"1\" class=\"dataframe\">\n",
       "  <thead>\n",
       "    <tr style=\"text-align: right;\">\n",
       "      <th>variable</th>\n",
       "      <th>AGQ</th>\n",
       "      <th>APRE</th>\n",
       "      <th>ENR-PA</th>\n",
       "      <th>IJS</th>\n",
       "      <th>PRDO</th>\n",
       "      <th>SMLP</th>\n",
       "      <th>TAL</th>\n",
       "      <th>UDR</th>\n",
       "      <th>VGR</th>\n",
       "      <th>WBND</th>\n",
       "    </tr>\n",
       "  </thead>\n",
       "  <tbody>\n",
       "    <tr>\n",
       "      <th>0</th>\n",
       "      <td>0.146888</td>\n",
       "      <td>0.10519</td>\n",
       "      <td>0.155738</td>\n",
       "      <td>0.03896</td>\n",
       "      <td>0.043011</td>\n",
       "      <td>0.043257</td>\n",
       "      <td>0.163826</td>\n",
       "      <td>0.090021</td>\n",
       "      <td>0.049366</td>\n",
       "      <td>0.163743</td>\n",
       "    </tr>\n",
       "  </tbody>\n",
       "</table>\n",
       "</div>"
      ],
      "text/plain": [
       "variable       AGQ     APRE    ENR-PA      IJS      PRDO      SMLP       TAL  \\\n",
       "0         0.146888  0.10519  0.155738  0.03896  0.043011  0.043257  0.163826   \n",
       "\n",
       "variable       UDR       VGR      WBND  \n",
       "0         0.090021  0.049366  0.163743  "
      ]
     },
     "metadata": {},
     "output_type": "display_data"
    },
    {
     "name": "stdout",
     "output_type": "stream",
     "text": [
      "0.05\n"
     ]
    },
    {
     "name": "stderr",
     "output_type": "stream",
     "text": [
      "C:\\Users\\User\\AppData\\Local\\Programs\\Python\\Python39\\lib\\site-packages\\pandas\\core\\frame.py:9525: RuntimeWarning:\n",
      "\n",
      "Degrees of freedom <= 0 for slice\n",
      "\n",
      "C:\\Users\\User\\AppData\\Local\\Programs\\Python\\Python39\\lib\\site-packages\\numpy\\lib\\function_base.py:2542: RuntimeWarning:\n",
      "\n",
      "divide by zero encountered in true_divide\n",
      "\n",
      "C:\\Users\\User\\AppData\\Local\\Programs\\Python\\Python39\\lib\\site-packages\\numpy\\lib\\function_base.py:2542: RuntimeWarning:\n",
      "\n",
      "invalid value encountered in multiply\n",
      "\n",
      "C:\\Users\\User\\AppData\\Local\\Temp/ipykernel_4384/2452458082.py:30: DeprecationWarning:\n",
      "\n",
      "`np.float` is a deprecated alias for the builtin `float`. To silence this warning, use `float` by itself. Doing this will not modify any behavior and is safe. If you specifically wanted the numpy scalar type, use `np.float64` here.\n",
      "Deprecated in NumPy 1.20; for more details and guidance: https://numpy.org/devdocs/release/1.20.0-notes.html#deprecations\n",
      "\n",
      "C:\\Users\\User\\AppData\\Local\\Programs\\Python\\Python39\\lib\\site-packages\\numpy\\lib\\shape_base.py:652: VisibleDeprecationWarning:\n",
      "\n",
      "Creating an ndarray from ragged nested sequences (which is a list-or-tuple of lists-or-tuples-or ndarrays with different lengths or shapes) is deprecated. If you meant to do this, you must specify 'dtype=object' when creating the ndarray.\n",
      "\n"
     ]
    },
    {
     "data": {
      "text/plain": [
       "value.MEAN    0.000783\n",
       "dtype: float64"
      ]
     },
     "metadata": {},
     "output_type": "display_data"
    },
    {
     "data": {
      "text/plain": [
       "value.MEAN   -0.000467\n",
       "dtype: float64"
      ]
     },
     "metadata": {},
     "output_type": "display_data"
    },
    {
     "data": {
      "text/plain": [
       "-0.00036409566820770904"
      ]
     },
     "metadata": {},
     "output_type": "display_data"
    },
    {
     "data": {
      "text/html": [
       "<div>\n",
       "<style scoped>\n",
       "    .dataframe tbody tr th:only-of-type {\n",
       "        vertical-align: middle;\n",
       "    }\n",
       "\n",
       "    .dataframe tbody tr th {\n",
       "        vertical-align: top;\n",
       "    }\n",
       "\n",
       "    .dataframe thead th {\n",
       "        text-align: right;\n",
       "    }\n",
       "</style>\n",
       "<table border=\"1\" class=\"dataframe\">\n",
       "  <thead>\n",
       "    <tr style=\"text-align: right;\">\n",
       "      <th>variable</th>\n",
       "      <th>APEI</th>\n",
       "      <th>CHIS</th>\n",
       "      <th>CPHC</th>\n",
       "      <th>ESTA</th>\n",
       "      <th>HOOK</th>\n",
       "      <th>IGHG</th>\n",
       "      <th>INSW</th>\n",
       "      <th>PMAR</th>\n",
       "      <th>TTAI</th>\n",
       "      <th>VCRA</th>\n",
       "    </tr>\n",
       "  </thead>\n",
       "  <tbody>\n",
       "    <tr>\n",
       "      <th>0</th>\n",
       "      <td>0.160069</td>\n",
       "      <td>0.117328</td>\n",
       "      <td>0.015703</td>\n",
       "      <td>0.160286</td>\n",
       "      <td>0.039151</td>\n",
       "      <td>0.165605</td>\n",
       "      <td>0.050528</td>\n",
       "      <td>0.165274</td>\n",
       "      <td>0.075216</td>\n",
       "      <td>0.050838</td>\n",
       "    </tr>\n",
       "  </tbody>\n",
       "</table>\n",
       "</div>"
      ],
      "text/plain": [
       "variable      APEI      CHIS      CPHC      ESTA      HOOK      IGHG  \\\n",
       "0         0.160069  0.117328  0.015703  0.160286  0.039151  0.165605   \n",
       "\n",
       "variable      INSW      PMAR      TTAI      VCRA  \n",
       "0         0.050528  0.165274  0.075216  0.050838  "
      ]
     },
     "metadata": {},
     "output_type": "display_data"
    },
    {
     "name": "stdout",
     "output_type": "stream",
     "text": [
      "0.05\n"
     ]
    },
    {
     "name": "stderr",
     "output_type": "stream",
     "text": [
      "C:\\Users\\User\\AppData\\Local\\Programs\\Python\\Python39\\lib\\site-packages\\pandas\\core\\frame.py:9525: RuntimeWarning:\n",
      "\n",
      "Degrees of freedom <= 0 for slice\n",
      "\n",
      "C:\\Users\\User\\AppData\\Local\\Programs\\Python\\Python39\\lib\\site-packages\\numpy\\lib\\function_base.py:2542: RuntimeWarning:\n",
      "\n",
      "divide by zero encountered in true_divide\n",
      "\n",
      "C:\\Users\\User\\AppData\\Local\\Programs\\Python\\Python39\\lib\\site-packages\\numpy\\lib\\function_base.py:2542: RuntimeWarning:\n",
      "\n",
      "invalid value encountered in multiply\n",
      "\n",
      "C:\\Users\\User\\AppData\\Local\\Temp/ipykernel_4384/2452458082.py:30: DeprecationWarning:\n",
      "\n",
      "`np.float` is a deprecated alias for the builtin `float`. To silence this warning, use `float` by itself. Doing this will not modify any behavior and is safe. If you specifically wanted the numpy scalar type, use `np.float64` here.\n",
      "Deprecated in NumPy 1.20; for more details and guidance: https://numpy.org/devdocs/release/1.20.0-notes.html#deprecations\n",
      "\n",
      "C:\\Users\\User\\AppData\\Local\\Programs\\Python\\Python39\\lib\\site-packages\\numpy\\lib\\shape_base.py:652: VisibleDeprecationWarning:\n",
      "\n",
      "Creating an ndarray from ragged nested sequences (which is a list-or-tuple of lists-or-tuples-or ndarrays with different lengths or shapes) is deprecated. If you meant to do this, you must specify 'dtype=object' when creating the ndarray.\n",
      "\n"
     ]
    },
    {
     "data": {
      "text/plain": [
       "value.MEAN    0.000465\n",
       "dtype: float64"
      ]
     },
     "metadata": {},
     "output_type": "display_data"
    },
    {
     "data": {
      "text/plain": [
       "value.MEAN   -0.000309\n",
       "dtype: float64"
      ]
     },
     "metadata": {},
     "output_type": "display_data"
    },
    {
     "data": {
      "text/plain": [
       "4.341452165569306e-05"
      ]
     },
     "metadata": {},
     "output_type": "display_data"
    },
    {
     "data": {
      "text/html": [
       "<div>\n",
       "<style scoped>\n",
       "    .dataframe tbody tr th:only-of-type {\n",
       "        vertical-align: middle;\n",
       "    }\n",
       "\n",
       "    .dataframe tbody tr th {\n",
       "        vertical-align: top;\n",
       "    }\n",
       "\n",
       "    .dataframe thead th {\n",
       "        text-align: right;\n",
       "    }\n",
       "</style>\n",
       "<table border=\"1\" class=\"dataframe\">\n",
       "  <thead>\n",
       "    <tr style=\"text-align: right;\">\n",
       "      <th>variable</th>\n",
       "      <th>CYB</th>\n",
       "      <th>ERC</th>\n",
       "      <th>FUN</th>\n",
       "      <th>GVP</th>\n",
       "      <th>IJS</th>\n",
       "      <th>KSU</th>\n",
       "      <th>OGS</th>\n",
       "      <th>SMM</th>\n",
       "      <th>TTAI</th>\n",
       "      <th>TWM</th>\n",
       "    </tr>\n",
       "  </thead>\n",
       "  <tbody>\n",
       "    <tr>\n",
       "      <th>0</th>\n",
       "      <td>0.109109</td>\n",
       "      <td>0.090687</td>\n",
       "      <td>0.151246</td>\n",
       "      <td>0.136734</td>\n",
       "      <td>0.080554</td>\n",
       "      <td>0.061651</td>\n",
       "      <td>0.068288</td>\n",
       "      <td>0.019961</td>\n",
       "      <td>0.111124</td>\n",
       "      <td>0.170647</td>\n",
       "    </tr>\n",
       "  </tbody>\n",
       "</table>\n",
       "</div>"
      ],
      "text/plain": [
       "variable       CYB       ERC       FUN       GVP       IJS       KSU  \\\n",
       "0         0.109109  0.090687  0.151246  0.136734  0.080554  0.061651   \n",
       "\n",
       "variable       OGS       SMM      TTAI       TWM  \n",
       "0         0.068288  0.019961  0.111124  0.170647  "
      ]
     },
     "metadata": {},
     "output_type": "display_data"
    },
    {
     "name": "stdout",
     "output_type": "stream",
     "text": [
      "0.03\n"
     ]
    },
    {
     "name": "stderr",
     "output_type": "stream",
     "text": [
      "C:\\Users\\User\\AppData\\Local\\Programs\\Python\\Python39\\lib\\site-packages\\pandas\\core\\frame.py:9525: RuntimeWarning:\n",
      "\n",
      "Degrees of freedom <= 0 for slice\n",
      "\n",
      "C:\\Users\\User\\AppData\\Local\\Programs\\Python\\Python39\\lib\\site-packages\\numpy\\lib\\function_base.py:2542: RuntimeWarning:\n",
      "\n",
      "divide by zero encountered in true_divide\n",
      "\n",
      "C:\\Users\\User\\AppData\\Local\\Programs\\Python\\Python39\\lib\\site-packages\\numpy\\lib\\function_base.py:2542: RuntimeWarning:\n",
      "\n",
      "invalid value encountered in multiply\n",
      "\n",
      "C:\\Users\\User\\AppData\\Local\\Temp/ipykernel_4384/2452458082.py:30: DeprecationWarning:\n",
      "\n",
      "`np.float` is a deprecated alias for the builtin `float`. To silence this warning, use `float` by itself. Doing this will not modify any behavior and is safe. If you specifically wanted the numpy scalar type, use `np.float64` here.\n",
      "Deprecated in NumPy 1.20; for more details and guidance: https://numpy.org/devdocs/release/1.20.0-notes.html#deprecations\n",
      "\n",
      "C:\\Users\\User\\AppData\\Local\\Programs\\Python\\Python39\\lib\\site-packages\\numpy\\lib\\shape_base.py:652: VisibleDeprecationWarning:\n",
      "\n",
      "Creating an ndarray from ragged nested sequences (which is a list-or-tuple of lists-or-tuples-or ndarrays with different lengths or shapes) is deprecated. If you meant to do this, you must specify 'dtype=object' when creating the ndarray.\n",
      "\n"
     ]
    },
    {
     "data": {
      "text/plain": [
       "value.MEAN    0.0001\n",
       "dtype: float64"
      ]
     },
     "metadata": {},
     "output_type": "display_data"
    },
    {
     "data": {
      "text/plain": [
       "value.MEAN    0.002204\n",
       "dtype: float64"
      ]
     },
     "metadata": {},
     "output_type": "display_data"
    },
    {
     "data": {
      "text/plain": [
       "0.002334710406608449"
      ]
     },
     "metadata": {},
     "output_type": "display_data"
    },
    {
     "data": {
      "text/html": [
       "<div>\n",
       "<style scoped>\n",
       "    .dataframe tbody tr th:only-of-type {\n",
       "        vertical-align: middle;\n",
       "    }\n",
       "\n",
       "    .dataframe tbody tr th {\n",
       "        vertical-align: top;\n",
       "    }\n",
       "\n",
       "    .dataframe thead th {\n",
       "        text-align: right;\n",
       "    }\n",
       "</style>\n",
       "<table border=\"1\" class=\"dataframe\">\n",
       "  <thead>\n",
       "    <tr style=\"text-align: right;\">\n",
       "      <th>variable</th>\n",
       "      <th>EEH</th>\n",
       "      <th>ERC</th>\n",
       "      <th>GLG</th>\n",
       "      <th>KBAL</th>\n",
       "      <th>LKOR</th>\n",
       "      <th>MGNI</th>\n",
       "      <th>MSA</th>\n",
       "      <th>OGS</th>\n",
       "      <th>PMAR</th>\n",
       "      <th>SMM</th>\n",
       "    </tr>\n",
       "  </thead>\n",
       "  <tbody>\n",
       "    <tr>\n",
       "      <th>0</th>\n",
       "      <td>0.048353</td>\n",
       "      <td>0.185427</td>\n",
       "      <td>0.073626</td>\n",
       "      <td>0.149316</td>\n",
       "      <td>0.03992</td>\n",
       "      <td>0.078193</td>\n",
       "      <td>0.163176</td>\n",
       "      <td>0.14976</td>\n",
       "      <td>0.040053</td>\n",
       "      <td>0.072176</td>\n",
       "    </tr>\n",
       "  </tbody>\n",
       "</table>\n",
       "</div>"
      ],
      "text/plain": [
       "variable       EEH       ERC       GLG      KBAL     LKOR      MGNI       MSA  \\\n",
       "0         0.048353  0.185427  0.073626  0.149316  0.03992  0.078193  0.163176   \n",
       "\n",
       "variable      OGS      PMAR       SMM  \n",
       "0         0.14976  0.040053  0.072176  "
      ]
     },
     "metadata": {},
     "output_type": "display_data"
    },
    {
     "name": "stdout",
     "output_type": "stream",
     "text": [
      "0.04\n"
     ]
    },
    {
     "name": "stderr",
     "output_type": "stream",
     "text": [
      "C:\\Users\\User\\AppData\\Local\\Programs\\Python\\Python39\\lib\\site-packages\\pandas\\core\\frame.py:9525: RuntimeWarning:\n",
      "\n",
      "Degrees of freedom <= 0 for slice\n",
      "\n",
      "C:\\Users\\User\\AppData\\Local\\Programs\\Python\\Python39\\lib\\site-packages\\numpy\\lib\\function_base.py:2542: RuntimeWarning:\n",
      "\n",
      "divide by zero encountered in true_divide\n",
      "\n",
      "C:\\Users\\User\\AppData\\Local\\Programs\\Python\\Python39\\lib\\site-packages\\numpy\\lib\\function_base.py:2542: RuntimeWarning:\n",
      "\n",
      "invalid value encountered in multiply\n",
      "\n",
      "C:\\Users\\User\\AppData\\Local\\Temp/ipykernel_4384/2452458082.py:30: DeprecationWarning:\n",
      "\n",
      "`np.float` is a deprecated alias for the builtin `float`. To silence this warning, use `float` by itself. Doing this will not modify any behavior and is safe. If you specifically wanted the numpy scalar type, use `np.float64` here.\n",
      "Deprecated in NumPy 1.20; for more details and guidance: https://numpy.org/devdocs/release/1.20.0-notes.html#deprecations\n",
      "\n",
      "C:\\Users\\User\\AppData\\Local\\Programs\\Python\\Python39\\lib\\site-packages\\numpy\\lib\\shape_base.py:652: VisibleDeprecationWarning:\n",
      "\n",
      "Creating an ndarray from ragged nested sequences (which is a list-or-tuple of lists-or-tuples-or ndarrays with different lengths or shapes) is deprecated. If you meant to do this, you must specify 'dtype=object' when creating the ndarray.\n",
      "\n"
     ]
    },
    {
     "data": {
      "text/plain": [
       "value.MEAN    0.000946\n",
       "dtype: float64"
      ]
     },
     "metadata": {},
     "output_type": "display_data"
    },
    {
     "data": {
      "text/plain": [
       "value.MEAN   -0.000125\n",
       "dtype: float64"
      ]
     },
     "metadata": {},
     "output_type": "display_data"
    },
    {
     "data": {
      "text/plain": [
       "-0.00010443334102768842"
      ]
     },
     "metadata": {},
     "output_type": "display_data"
    },
    {
     "data": {
      "text/html": [
       "<div>\n",
       "<style scoped>\n",
       "    .dataframe tbody tr th:only-of-type {\n",
       "        vertical-align: middle;\n",
       "    }\n",
       "\n",
       "    .dataframe tbody tr th {\n",
       "        vertical-align: top;\n",
       "    }\n",
       "\n",
       "    .dataframe thead th {\n",
       "        text-align: right;\n",
       "    }\n",
       "</style>\n",
       "<table border=\"1\" class=\"dataframe\">\n",
       "  <thead>\n",
       "    <tr style=\"text-align: right;\">\n",
       "      <th>variable</th>\n",
       "      <th>APRE</th>\n",
       "      <th>BSTZ</th>\n",
       "      <th>CME</th>\n",
       "      <th>EEH</th>\n",
       "      <th>GVP</th>\n",
       "      <th>JTD</th>\n",
       "      <th>KSU</th>\n",
       "      <th>PMAR</th>\n",
       "      <th>SMM</th>\n",
       "      <th>ULTR</th>\n",
       "    </tr>\n",
       "  </thead>\n",
       "  <tbody>\n",
       "    <tr>\n",
       "      <th>0</th>\n",
       "      <td>0.002147</td>\n",
       "      <td>0.118026</td>\n",
       "      <td>0.131172</td>\n",
       "      <td>0.233544</td>\n",
       "      <td>0.015836</td>\n",
       "      <td>0.061973</td>\n",
       "      <td>0.066084</td>\n",
       "      <td>0.07472</td>\n",
       "      <td>0.193659</td>\n",
       "      <td>0.10284</td>\n",
       "    </tr>\n",
       "  </tbody>\n",
       "</table>\n",
       "</div>"
      ],
      "text/plain": [
       "variable      APRE      BSTZ       CME       EEH       GVP       JTD  \\\n",
       "0         0.002147  0.118026  0.131172  0.233544  0.015836  0.061973   \n",
       "\n",
       "variable       KSU     PMAR       SMM     ULTR  \n",
       "0         0.066084  0.07472  0.193659  0.10284  "
      ]
     },
     "metadata": {},
     "output_type": "display_data"
    },
    {
     "name": "stdout",
     "output_type": "stream",
     "text": [
      "0.06\n"
     ]
    },
    {
     "name": "stderr",
     "output_type": "stream",
     "text": [
      "C:\\Users\\User\\AppData\\Local\\Programs\\Python\\Python39\\lib\\site-packages\\pandas\\core\\frame.py:9525: RuntimeWarning:\n",
      "\n",
      "Degrees of freedom <= 0 for slice\n",
      "\n",
      "C:\\Users\\User\\AppData\\Local\\Programs\\Python\\Python39\\lib\\site-packages\\numpy\\lib\\function_base.py:2542: RuntimeWarning:\n",
      "\n",
      "divide by zero encountered in true_divide\n",
      "\n",
      "C:\\Users\\User\\AppData\\Local\\Programs\\Python\\Python39\\lib\\site-packages\\numpy\\lib\\function_base.py:2542: RuntimeWarning:\n",
      "\n",
      "invalid value encountered in multiply\n",
      "\n",
      "C:\\Users\\User\\AppData\\Local\\Temp/ipykernel_4384/2452458082.py:30: DeprecationWarning:\n",
      "\n",
      "`np.float` is a deprecated alias for the builtin `float`. To silence this warning, use `float` by itself. Doing this will not modify any behavior and is safe. If you specifically wanted the numpy scalar type, use `np.float64` here.\n",
      "Deprecated in NumPy 1.20; for more details and guidance: https://numpy.org/devdocs/release/1.20.0-notes.html#deprecations\n",
      "\n",
      "C:\\Users\\User\\AppData\\Local\\Programs\\Python\\Python39\\lib\\site-packages\\numpy\\lib\\shape_base.py:652: VisibleDeprecationWarning:\n",
      "\n",
      "Creating an ndarray from ragged nested sequences (which is a list-or-tuple of lists-or-tuples-or ndarrays with different lengths or shapes) is deprecated. If you meant to do this, you must specify 'dtype=object' when creating the ndarray.\n",
      "\n"
     ]
    },
    {
     "data": {
      "text/plain": [
       "value.MEAN    0.000086\n",
       "dtype: float64"
      ]
     },
     "metadata": {},
     "output_type": "display_data"
    },
    {
     "data": {
      "text/plain": [
       "value.MEAN    0.000184\n",
       "dtype: float64"
      ]
     },
     "metadata": {},
     "output_type": "display_data"
    },
    {
     "data": {
      "text/plain": [
       "5.7475497775707854e-05"
      ]
     },
     "metadata": {},
     "output_type": "display_data"
    },
    {
     "data": {
      "text/html": [
       "<div>\n",
       "<style scoped>\n",
       "    .dataframe tbody tr th:only-of-type {\n",
       "        vertical-align: middle;\n",
       "    }\n",
       "\n",
       "    .dataframe tbody tr th {\n",
       "        vertical-align: top;\n",
       "    }\n",
       "\n",
       "    .dataframe thead th {\n",
       "        text-align: right;\n",
       "    }\n",
       "</style>\n",
       "<table border=\"1\" class=\"dataframe\">\n",
       "  <thead>\n",
       "    <tr style=\"text-align: right;\">\n",
       "      <th>variable</th>\n",
       "      <th>CYB</th>\n",
       "      <th>ECF</th>\n",
       "      <th>EEH</th>\n",
       "      <th>FLIA</th>\n",
       "      <th>IJS</th>\n",
       "      <th>IXP</th>\n",
       "      <th>KBAL</th>\n",
       "      <th>TTAI</th>\n",
       "      <th>VATE</th>\n",
       "      <th>VGR</th>\n",
       "    </tr>\n",
       "  </thead>\n",
       "  <tbody>\n",
       "    <tr>\n",
       "      <th>0</th>\n",
       "      <td>0.095134</td>\n",
       "      <td>0.081527</td>\n",
       "      <td>0.182253</td>\n",
       "      <td>0.149147</td>\n",
       "      <td>0.1586</td>\n",
       "      <td>0.077584</td>\n",
       "      <td>0.096326</td>\n",
       "      <td>0.001902</td>\n",
       "      <td>0.107813</td>\n",
       "      <td>0.049715</td>\n",
       "    </tr>\n",
       "  </tbody>\n",
       "</table>\n",
       "</div>"
      ],
      "text/plain": [
       "variable       CYB       ECF       EEH      FLIA     IJS       IXP      KBAL  \\\n",
       "0         0.095134  0.081527  0.182253  0.149147  0.1586  0.077584  0.096326   \n",
       "\n",
       "variable      TTAI      VATE       VGR  \n",
       "0         0.001902  0.107813  0.049715  "
      ]
     },
     "metadata": {},
     "output_type": "display_data"
    },
    {
     "name": "stdout",
     "output_type": "stream",
     "text": [
      "0.05\n"
     ]
    },
    {
     "name": "stderr",
     "output_type": "stream",
     "text": [
      "C:\\Users\\User\\AppData\\Local\\Programs\\Python\\Python39\\lib\\site-packages\\pandas\\core\\frame.py:9525: RuntimeWarning:\n",
      "\n",
      "Degrees of freedom <= 0 for slice\n",
      "\n",
      "C:\\Users\\User\\AppData\\Local\\Programs\\Python\\Python39\\lib\\site-packages\\numpy\\lib\\function_base.py:2542: RuntimeWarning:\n",
      "\n",
      "divide by zero encountered in true_divide\n",
      "\n",
      "C:\\Users\\User\\AppData\\Local\\Programs\\Python\\Python39\\lib\\site-packages\\numpy\\lib\\function_base.py:2542: RuntimeWarning:\n",
      "\n",
      "invalid value encountered in multiply\n",
      "\n",
      "C:\\Users\\User\\AppData\\Local\\Temp/ipykernel_4384/2452458082.py:30: DeprecationWarning:\n",
      "\n",
      "`np.float` is a deprecated alias for the builtin `float`. To silence this warning, use `float` by itself. Doing this will not modify any behavior and is safe. If you specifically wanted the numpy scalar type, use `np.float64` here.\n",
      "Deprecated in NumPy 1.20; for more details and guidance: https://numpy.org/devdocs/release/1.20.0-notes.html#deprecations\n",
      "\n",
      "C:\\Users\\User\\AppData\\Local\\Programs\\Python\\Python39\\lib\\site-packages\\numpy\\lib\\shape_base.py:652: VisibleDeprecationWarning:\n",
      "\n",
      "Creating an ndarray from ragged nested sequences (which is a list-or-tuple of lists-or-tuples-or ndarrays with different lengths or shapes) is deprecated. If you meant to do this, you must specify 'dtype=object' when creating the ndarray.\n",
      "\n"
     ]
    },
    {
     "data": {
      "text/plain": [
       "value.MEAN    0.000392\n",
       "dtype: float64"
      ]
     },
     "metadata": {},
     "output_type": "display_data"
    },
    {
     "data": {
      "text/plain": [
       "value.MEAN    0.002404\n",
       "dtype: float64"
      ]
     },
     "metadata": {},
     "output_type": "display_data"
    },
    {
     "data": {
      "text/plain": [
       "0.0026122372510204413"
      ]
     },
     "metadata": {},
     "output_type": "display_data"
    },
    {
     "data": {
      "text/html": [
       "<div>\n",
       "<style scoped>\n",
       "    .dataframe tbody tr th:only-of-type {\n",
       "        vertical-align: middle;\n",
       "    }\n",
       "\n",
       "    .dataframe tbody tr th {\n",
       "        vertical-align: top;\n",
       "    }\n",
       "\n",
       "    .dataframe thead th {\n",
       "        text-align: right;\n",
       "    }\n",
       "</style>\n",
       "<table border=\"1\" class=\"dataframe\">\n",
       "  <thead>\n",
       "    <tr style=\"text-align: right;\">\n",
       "      <th>variable</th>\n",
       "      <th>CME</th>\n",
       "      <th>ERC</th>\n",
       "      <th>ESGY</th>\n",
       "      <th>GENE</th>\n",
       "      <th>GLG</th>\n",
       "      <th>IGHG</th>\n",
       "      <th>JTD</th>\n",
       "      <th>LEVI</th>\n",
       "      <th>PGX</th>\n",
       "      <th>ULTR</th>\n",
       "    </tr>\n",
       "  </thead>\n",
       "  <tbody>\n",
       "    <tr>\n",
       "      <th>0</th>\n",
       "      <td>0.125762</td>\n",
       "      <td>0.154855</td>\n",
       "      <td>0.149226</td>\n",
       "      <td>0.075784</td>\n",
       "      <td>0.086359</td>\n",
       "      <td>0.108586</td>\n",
       "      <td>0.007546</td>\n",
       "      <td>0.014633</td>\n",
       "      <td>0.173801</td>\n",
       "      <td>0.103449</td>\n",
       "    </tr>\n",
       "  </tbody>\n",
       "</table>\n",
       "</div>"
      ],
      "text/plain": [
       "variable       CME       ERC      ESGY      GENE       GLG      IGHG  \\\n",
       "0         0.125762  0.154855  0.149226  0.075784  0.086359  0.108586   \n",
       "\n",
       "variable       JTD      LEVI       PGX      ULTR  \n",
       "0         0.007546  0.014633  0.173801  0.103449  "
      ]
     },
     "metadata": {},
     "output_type": "display_data"
    },
    {
     "name": "stdout",
     "output_type": "stream",
     "text": [
      "0.05\n"
     ]
    },
    {
     "name": "stderr",
     "output_type": "stream",
     "text": [
      "C:\\Users\\User\\AppData\\Local\\Programs\\Python\\Python39\\lib\\site-packages\\pandas\\core\\frame.py:9525: RuntimeWarning:\n",
      "\n",
      "Degrees of freedom <= 0 for slice\n",
      "\n",
      "C:\\Users\\User\\AppData\\Local\\Programs\\Python\\Python39\\lib\\site-packages\\numpy\\lib\\function_base.py:2542: RuntimeWarning:\n",
      "\n",
      "divide by zero encountered in true_divide\n",
      "\n",
      "C:\\Users\\User\\AppData\\Local\\Programs\\Python\\Python39\\lib\\site-packages\\numpy\\lib\\function_base.py:2542: RuntimeWarning:\n",
      "\n",
      "invalid value encountered in multiply\n",
      "\n",
      "C:\\Users\\User\\AppData\\Local\\Temp/ipykernel_4384/2452458082.py:30: DeprecationWarning:\n",
      "\n",
      "`np.float` is a deprecated alias for the builtin `float`. To silence this warning, use `float` by itself. Doing this will not modify any behavior and is safe. If you specifically wanted the numpy scalar type, use `np.float64` here.\n",
      "Deprecated in NumPy 1.20; for more details and guidance: https://numpy.org/devdocs/release/1.20.0-notes.html#deprecations\n",
      "\n",
      "C:\\Users\\User\\AppData\\Local\\Programs\\Python\\Python39\\lib\\site-packages\\numpy\\lib\\shape_base.py:652: VisibleDeprecationWarning:\n",
      "\n",
      "Creating an ndarray from ragged nested sequences (which is a list-or-tuple of lists-or-tuples-or ndarrays with different lengths or shapes) is deprecated. If you meant to do this, you must specify 'dtype=object' when creating the ndarray.\n",
      "\n"
     ]
    },
    {
     "data": {
      "text/plain": [
       "value.MEAN    0.000864\n",
       "dtype: float64"
      ]
     },
     "metadata": {},
     "output_type": "display_data"
    },
    {
     "data": {
      "text/plain": [
       "value.MEAN    0.001413\n",
       "dtype: float64"
      ]
     },
     "metadata": {},
     "output_type": "display_data"
    },
    {
     "data": {
      "text/plain": [
       "0.002095474294772069"
      ]
     },
     "metadata": {},
     "output_type": "display_data"
    },
    {
     "data": {
      "text/html": [
       "<div>\n",
       "<style scoped>\n",
       "    .dataframe tbody tr th:only-of-type {\n",
       "        vertical-align: middle;\n",
       "    }\n",
       "\n",
       "    .dataframe tbody tr th {\n",
       "        vertical-align: top;\n",
       "    }\n",
       "\n",
       "    .dataframe thead th {\n",
       "        text-align: right;\n",
       "    }\n",
       "</style>\n",
       "<table border=\"1\" class=\"dataframe\">\n",
       "  <thead>\n",
       "    <tr style=\"text-align: right;\">\n",
       "      <th>variable</th>\n",
       "      <th>AGO</th>\n",
       "      <th>ENR-PA</th>\n",
       "      <th>ESTA</th>\n",
       "      <th>GVP</th>\n",
       "      <th>IBHB</th>\n",
       "      <th>IDIV</th>\n",
       "      <th>PBTP</th>\n",
       "      <th>TAL</th>\n",
       "      <th>TTAI</th>\n",
       "      <th>UDR</th>\n",
       "    </tr>\n",
       "  </thead>\n",
       "  <tbody>\n",
       "    <tr>\n",
       "      <th>0</th>\n",
       "      <td>0.14476</td>\n",
       "      <td>0.183375</td>\n",
       "      <td>0.005589</td>\n",
       "      <td>0.201763</td>\n",
       "      <td>0.061298</td>\n",
       "      <td>0.143397</td>\n",
       "      <td>0.159489</td>\n",
       "      <td>0.043598</td>\n",
       "      <td>0.028918</td>\n",
       "      <td>0.027814</td>\n",
       "    </tr>\n",
       "  </tbody>\n",
       "</table>\n",
       "</div>"
      ],
      "text/plain": [
       "variable      AGO    ENR-PA      ESTA       GVP      IBHB      IDIV      PBTP  \\\n",
       "0         0.14476  0.183375  0.005589  0.201763  0.061298  0.143397  0.159489   \n",
       "\n",
       "variable       TAL      TTAI       UDR  \n",
       "0         0.043598  0.028918  0.027814  "
      ]
     },
     "metadata": {},
     "output_type": "display_data"
    },
    {
     "name": "stdout",
     "output_type": "stream",
     "text": [
      "0.06\n"
     ]
    },
    {
     "name": "stderr",
     "output_type": "stream",
     "text": [
      "C:\\Users\\User\\AppData\\Local\\Programs\\Python\\Python39\\lib\\site-packages\\pandas\\core\\frame.py:9525: RuntimeWarning:\n",
      "\n",
      "Degrees of freedom <= 0 for slice\n",
      "\n",
      "C:\\Users\\User\\AppData\\Local\\Programs\\Python\\Python39\\lib\\site-packages\\numpy\\lib\\function_base.py:2542: RuntimeWarning:\n",
      "\n",
      "divide by zero encountered in true_divide\n",
      "\n",
      "C:\\Users\\User\\AppData\\Local\\Programs\\Python\\Python39\\lib\\site-packages\\numpy\\lib\\function_base.py:2542: RuntimeWarning:\n",
      "\n",
      "invalid value encountered in multiply\n",
      "\n",
      "C:\\Users\\User\\AppData\\Local\\Temp/ipykernel_4384/2452458082.py:30: DeprecationWarning:\n",
      "\n",
      "`np.float` is a deprecated alias for the builtin `float`. To silence this warning, use `float` by itself. Doing this will not modify any behavior and is safe. If you specifically wanted the numpy scalar type, use `np.float64` here.\n",
      "Deprecated in NumPy 1.20; for more details and guidance: https://numpy.org/devdocs/release/1.20.0-notes.html#deprecations\n",
      "\n",
      "C:\\Users\\User\\AppData\\Local\\Programs\\Python\\Python39\\lib\\site-packages\\numpy\\lib\\shape_base.py:652: VisibleDeprecationWarning:\n",
      "\n",
      "Creating an ndarray from ragged nested sequences (which is a list-or-tuple of lists-or-tuples-or ndarrays with different lengths or shapes) is deprecated. If you meant to do this, you must specify 'dtype=object' when creating the ndarray.\n",
      "\n"
     ]
    },
    {
     "data": {
      "text/plain": [
       "value.MEAN    0.002267\n",
       "dtype: float64"
      ]
     },
     "metadata": {},
     "output_type": "display_data"
    },
    {
     "data": {
      "text/plain": [
       "value.MEAN   -0.001438\n",
       "dtype: float64"
      ]
     },
     "metadata": {},
     "output_type": "display_data"
    },
    {
     "data": {
      "text/plain": [
       "-0.0016569729780584548"
      ]
     },
     "metadata": {},
     "output_type": "display_data"
    },
    {
     "data": {
      "text/html": [
       "<div>\n",
       "<style scoped>\n",
       "    .dataframe tbody tr th:only-of-type {\n",
       "        vertical-align: middle;\n",
       "    }\n",
       "\n",
       "    .dataframe tbody tr th {\n",
       "        vertical-align: top;\n",
       "    }\n",
       "\n",
       "    .dataframe thead th {\n",
       "        text-align: right;\n",
       "    }\n",
       "</style>\n",
       "<table border=\"1\" class=\"dataframe\">\n",
       "  <thead>\n",
       "    <tr style=\"text-align: right;\">\n",
       "      <th>variable</th>\n",
       "      <th>AMZN</th>\n",
       "      <th>CSWI</th>\n",
       "      <th>FUN</th>\n",
       "      <th>GENE</th>\n",
       "      <th>INSW</th>\n",
       "      <th>KSU</th>\n",
       "      <th>LEVI</th>\n",
       "      <th>LKOR</th>\n",
       "      <th>MINC</th>\n",
       "      <th>PRDO</th>\n",
       "    </tr>\n",
       "  </thead>\n",
       "  <tbody>\n",
       "    <tr>\n",
       "      <th>0</th>\n",
       "      <td>0.185498</td>\n",
       "      <td>0.138502</td>\n",
       "      <td>0.002365</td>\n",
       "      <td>0.100529</td>\n",
       "      <td>0.12216</td>\n",
       "      <td>0.181684</td>\n",
       "      <td>0.000699</td>\n",
       "      <td>0.042719</td>\n",
       "      <td>0.11914</td>\n",
       "      <td>0.106705</td>\n",
       "    </tr>\n",
       "  </tbody>\n",
       "</table>\n",
       "</div>"
      ],
      "text/plain": [
       "variable      AMZN      CSWI       FUN      GENE     INSW       KSU      LEVI  \\\n",
       "0         0.185498  0.138502  0.002365  0.100529  0.12216  0.181684  0.000699   \n",
       "\n",
       "variable      LKOR     MINC      PRDO  \n",
       "0         0.042719  0.11914  0.106705  "
      ]
     },
     "metadata": {},
     "output_type": "display_data"
    },
    {
     "name": "stdout",
     "output_type": "stream",
     "text": [
      "0.05\n"
     ]
    },
    {
     "name": "stderr",
     "output_type": "stream",
     "text": [
      "C:\\Users\\User\\AppData\\Local\\Programs\\Python\\Python39\\lib\\site-packages\\pandas\\core\\frame.py:9525: RuntimeWarning:\n",
      "\n",
      "Degrees of freedom <= 0 for slice\n",
      "\n",
      "C:\\Users\\User\\AppData\\Local\\Programs\\Python\\Python39\\lib\\site-packages\\numpy\\lib\\function_base.py:2542: RuntimeWarning:\n",
      "\n",
      "divide by zero encountered in true_divide\n",
      "\n",
      "C:\\Users\\User\\AppData\\Local\\Programs\\Python\\Python39\\lib\\site-packages\\numpy\\lib\\function_base.py:2542: RuntimeWarning:\n",
      "\n",
      "invalid value encountered in multiply\n",
      "\n",
      "C:\\Users\\User\\AppData\\Local\\Temp/ipykernel_4384/2452458082.py:30: DeprecationWarning:\n",
      "\n",
      "`np.float` is a deprecated alias for the builtin `float`. To silence this warning, use `float` by itself. Doing this will not modify any behavior and is safe. If you specifically wanted the numpy scalar type, use `np.float64` here.\n",
      "Deprecated in NumPy 1.20; for more details and guidance: https://numpy.org/devdocs/release/1.20.0-notes.html#deprecations\n",
      "\n",
      "C:\\Users\\User\\AppData\\Local\\Programs\\Python\\Python39\\lib\\site-packages\\numpy\\lib\\shape_base.py:652: VisibleDeprecationWarning:\n",
      "\n",
      "Creating an ndarray from ragged nested sequences (which is a list-or-tuple of lists-or-tuples-or ndarrays with different lengths or shapes) is deprecated. If you meant to do this, you must specify 'dtype=object' when creating the ndarray.\n",
      "\n"
     ]
    },
    {
     "data": {
      "text/plain": [
       "value.MEAN   -0.000041\n",
       "dtype: float64"
      ]
     },
     "metadata": {},
     "output_type": "display_data"
    },
    {
     "data": {
      "text/plain": [
       "value.MEAN    0.000296\n",
       "dtype: float64"
      ]
     },
     "metadata": {},
     "output_type": "display_data"
    },
    {
     "data": {
      "text/plain": [
       "0.0007351429033756356"
      ]
     },
     "metadata": {},
     "output_type": "display_data"
    },
    {
     "data": {
      "text/html": [
       "<div>\n",
       "<style scoped>\n",
       "    .dataframe tbody tr th:only-of-type {\n",
       "        vertical-align: middle;\n",
       "    }\n",
       "\n",
       "    .dataframe tbody tr th {\n",
       "        vertical-align: top;\n",
       "    }\n",
       "\n",
       "    .dataframe thead th {\n",
       "        text-align: right;\n",
       "    }\n",
       "</style>\n",
       "<table border=\"1\" class=\"dataframe\">\n",
       "  <thead>\n",
       "    <tr style=\"text-align: right;\">\n",
       "      <th>variable</th>\n",
       "      <th>ABB</th>\n",
       "      <th>ACWX</th>\n",
       "      <th>EWP</th>\n",
       "      <th>MGNI</th>\n",
       "      <th>MINC</th>\n",
       "      <th>PML</th>\n",
       "      <th>SMLP</th>\n",
       "      <th>SMM</th>\n",
       "      <th>UDR</th>\n",
       "      <th>VATE</th>\n",
       "    </tr>\n",
       "  </thead>\n",
       "  <tbody>\n",
       "    <tr>\n",
       "      <th>0</th>\n",
       "      <td>0.12134</td>\n",
       "      <td>0.042425</td>\n",
       "      <td>0.05518</td>\n",
       "      <td>0.013389</td>\n",
       "      <td>0.174276</td>\n",
       "      <td>0.134871</td>\n",
       "      <td>0.066854</td>\n",
       "      <td>0.044722</td>\n",
       "      <td>0.170328</td>\n",
       "      <td>0.176615</td>\n",
       "    </tr>\n",
       "  </tbody>\n",
       "</table>\n",
       "</div>"
      ],
      "text/plain": [
       "variable      ABB      ACWX      EWP      MGNI      MINC       PML      SMLP  \\\n",
       "0         0.12134  0.042425  0.05518  0.013389  0.174276  0.134871  0.066854   \n",
       "\n",
       "variable       SMM       UDR      VATE  \n",
       "0         0.044722  0.170328  0.176615  "
      ]
     },
     "metadata": {},
     "output_type": "display_data"
    }
   ],
   "source": [
    "#m[\"Lookback Window\"] = 252\n",
    "\n",
    "n_portfolio = 100\n",
    "\n",
    "stocksp = 0.2\n",
    "mfundsp = 0.1\n",
    "bondsp = 0.2\n",
    "commp = 0.2\n",
    "\n",
    "\n",
    "#simulation\n",
    "\n",
    "randomSet = list(np.sort(np.random.choice(range(0, len(Training)), nran)))\n",
    "\n",
    "for tensor in randomSet:\n",
    "\n",
    "    bestSharpe = 0\n",
    "    runs = 0\n",
    "    weight = None\n",
    "    bestMean = 0\n",
    "    bestStd = 0\n",
    "    means = np.array([])\n",
    "    stds = np.array([])\n",
    "    sharpes = np.array([])\n",
    "    bestWeights = None\n",
    "    weights = np.array([])\n",
    "    \n",
    "    names = Training_query.T.columns\n",
    "\n",
    "    randomsymbols = list(np.random.choice(pf.data.columns, 10, replace=False))\n",
    "    \n",
    "    Training_dates = list(Training[tensor].ravel())\n",
    "    \n",
    "    TREASURY_BILL_RATE =  FRED_pvt.interpolate()[FRED_pvt.index==Training_dates[-1]]['DTB4WK'].dropna().values[-1]\n",
    "    print(TREASURY_BILL_RATE)\n",
    "    \n",
    "    Holdout_dates = list(Holdout[tensor].ravel())\n",
    "    \n",
    "    Training_query = \\\n",
    "    (\n",
    "        cube.query(\n",
    "            m[\"value.MEAN\"],\n",
    "            levels=[l[\"variable\"]],\n",
    "            condition=(\n",
    "            (l[\"variable\"].isin(*randomsymbols))\n",
    "            & (l[\"Date\"].isin(*Training_dates))\n",
    "            ),\n",
    "        )\n",
    "    )\n",
    "    \n",
    "    Holdout_query = \\\n",
    "    (\n",
    "        cube.query(\n",
    "            m[\"value.MEAN\"],\n",
    "            levels=[l[\"variable\"]],\n",
    "            condition=(\n",
    "            (l[\"variable\"].isin(*randomsymbols))\n",
    "            & (l[\"Date\"].isin(*Holdout_dates))\n",
    "            ),\n",
    "        )\n",
    "    )\n",
    "    \n",
    "    #display([dates[0],dates[-1]])\n",
    "    #display(query.T)\n",
    "    \n",
    "    #Monte Carlo efficient frontier\n",
    "    for _ in range(n_portfolio):\n",
    "        means2, stds2, sharpes2, weights2 = np.column_stack(\n",
    "            [random_portfolio((TREASURY_BILL_RATE*1/252.75),Training_query.T) for _ in range(len(Training_query.T.columns))]\n",
    "        )\n",
    "        means_ = means2\n",
    "        stds_ = stds2\n",
    "        sharpes_ = sharpes2\n",
    "        weights_ = weights2\n",
    "\n",
    "        bestWeights = weights_[sharpes_.argmax()]\n",
    "\n",
    "        means = np.append(means, means_)\n",
    "        stds = np.append(stds, stds_)\n",
    "        sharpes = np.append(sharpes, sharpes_)\n",
    "        weights = np.append(weights, weights_)\n",
    "\n",
    "    df_ = pd.DataFrame(weights[sharpes.argmax()]).set_index(Training_query.T.columns)\n",
    "    df_.columns = [\"Weights\"]\n",
    "\n",
    "    #next4weeks = returns.loc[[i[0] for i in Holdout[tensor]]][randomsymbols]\n",
    "\n",
    "    df_.sort_values(by=[\"Weights\"], ascending=False, inplace=True)\n",
    "\n",
    "    wr = np.array(\n",
    "        weighted_return(\n",
    "            np.array((np.exp(Holdout_query.T) - 1).cumsum().tail(1)),\n",
    "            weights[sharpes.argmax()],\n",
    "        )\n",
    "    )[0][0]\n",
    "    \n",
    "    max_sr_ret = means[sharpes.argmax()]\n",
    "    max_sr_vol = stds[sharpes.argmax()]\n",
    "    max_sharpe = sharpes[sharpes.argmax()]\n",
    "    \n",
    "    display(Training_query.mean())    \n",
    "    display(Holdout_query.mean())\n",
    "    display(wr)\n",
    "\n",
    "    #display([bestWeights, max_sr_ret, max_sr_vol, max_sharpe, wr])\n",
    "    display(pd.DataFrame(bestWeights).set_index(names).T)\n",
    "    #'''\n",
    "    "
   ]
  }
 ],
 "metadata": {
  "kernelspec": {
   "display_name": "Python 3 (ipykernel)",
   "language": "python",
   "name": "python3"
  },
  "language_info": {
   "codemirror_mode": {
    "name": "ipython",
    "version": 3
   },
   "file_extension": ".py",
   "mimetype": "text/x-python",
   "name": "python",
   "nbconvert_exporter": "python",
   "pygments_lexer": "ipython3",
   "version": "3.9.7"
  }
 },
 "nbformat": 4,
 "nbformat_minor": 5
}
