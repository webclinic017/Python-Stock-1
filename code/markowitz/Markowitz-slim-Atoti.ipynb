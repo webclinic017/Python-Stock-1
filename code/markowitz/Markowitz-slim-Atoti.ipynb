{
 "cells": [
  {
   "cell_type": "code",
   "execution_count": 19,
   "id": "9e87ad91",
   "metadata": {},
   "outputs": [],
   "source": [
    "# !pip install numpy matplotlib cvxopt pandas yfinance finquant plotly cufflinks chart_studio pandas_datareader atoti atoti-jupyterlab"
   ]
  },
  {
   "cell_type": "code",
   "execution_count": 20,
   "id": "62cc3386",
   "metadata": {},
   "outputs": [],
   "source": [
    "%matplotlib inline\n",
    "import random\n",
    "\n",
    "import cvxopt as opt\n",
    "import matplotlib.pyplot as plt\n",
    "import numpy as np\n",
    "import pandas as pd\n",
    "import yfinance as yf\n",
    "from cvxopt import blas, solvers\n",
    "from finquant.portfolio import build_portfolio\n",
    "from scipy.optimize import minimize\n",
    "\n",
    "np.random.seed(123)\n",
    "\n",
    "# Turn off progress printing\n",
    "solvers.options[\"show_progress\"] = False\n",
    "import concurrent.futures\n",
    "import os\n",
    "import random\n",
    "import urllib\n",
    "import urllib.request\n",
    "from concurrent.futures import ALL_COMPLETED, wait\n",
    "\n",
    "import atoti as tt\n",
    "import cufflinks\n",
    "import numpy as np\n",
    "import pandas_market_calendars as mcal\n",
    "\n",
    "# (*) To communicate with Plotly's server, sign in with credentials file\n",
    "import plotly as py\n",
    "\n",
    "# (*) Useful Python/Plotly tools\n",
    "import plotly.tools as tls\n",
    "\n",
    "# (*) Graph objects to piece together plots\n",
    "from plotly.graph_objs import *"
   ]
  },
  {
   "cell_type": "code",
   "execution_count": 21,
   "id": "ed0874e2",
   "metadata": {},
   "outputs": [],
   "source": [
    "# ndays = 252*10+7\n",
    "ndays = 252 * 1.5 + 7\n",
    "# ~training\n",
    "dback = 252\n",
    "# ~forecast\n",
    "dahead = 20\n",
    "# sample size\n",
    "# if to randomize\n",
    "rand = True\n",
    "nran = 20\n",
    "nstocks = 100\n",
    "# this should match tbill 20, 91, 126, 252\n",
    "\n",
    "end = pd.Timestamp.utcnow()\n",
    "start = end - int(ndays) * pd.tseries.offsets.BDay()\n",
    "one_week_end = end - int(ndays - 7) * pd.tseries.offsets.BDay()\n",
    "one_week_end = one_week_end.strftime(\"%Y-%m-%d\")\n",
    "start = start.strftime(\"%Y-%m-%d\")\n",
    "end = end.strftime(\"%Y-%m-%d\")"
   ]
  },
  {
   "cell_type": "code",
   "execution_count": 22,
   "id": "127d6c62",
   "metadata": {},
   "outputs": [],
   "source": [
    "# pd.tseries.offsets.BDay(100)\n",
    "nyse = mcal.get_calendar(\"NYSE\")\n",
    "\n",
    "# Show available calendars\n",
    "# print(mcal.get_calendar_names())\n",
    "tradingDays = list(\n",
    "    nyse.schedule(start_date=start, end_date=end).index.strftime(\"%Y-%m-%d\")\n",
    ")"
   ]
  },
  {
   "cell_type": "code",
   "execution_count": null,
   "id": "e9f3778f-5209-406f-8c78-e7749e3582ce",
   "metadata": {},
   "outputs": [],
   "source": []
  },
  {
   "cell_type": "code",
   "execution_count": 23,
   "id": "852dceca",
   "metadata": {},
   "outputs": [],
   "source": [
    "def rand_weights(n):\n",
    "    \"\"\" Produces n random weights that sum to 1 \"\"\"\n",
    "    k = np.random.rand(n)\n",
    "    return k / sum(k)\n",
    "\n",
    "\n",
    "def weighted_return(returns, weights):\n",
    "    w = weights\n",
    "\n",
    "    p = np.asmatrix(np.mean(returns, axis=0))\n",
    "\n",
    "    mu = np.asmatrix(w) * p.T\n",
    "    return mu\n",
    "\n",
    "\n",
    "def random_portfolio(returns):\n",
    "\n",
    "    w = rand_weights(len(pd.DataFrame(returns).columns))\n",
    "\n",
    "    p = np.asmatrix(np.mean(returns, axis=0))\n",
    "\n",
    "    C = np.array(pd.DataFrame(returns).cov().values)\n",
    "\n",
    "    mu = np.asmatrix(w) * p.T\n",
    "    sigma = np.sqrt(np.asmatrix(w) * C * np.asmatrix(w).T)\n",
    "\n",
    "    sharpe = mu / sigma\n",
    "\n",
    "    return np.float(mu), np.float(sigma), np.float(sharpe), np.array(w, dtype=object)\n",
    "\n",
    "\n",
    "def unique(list1):\n",
    "\n",
    "    # intilize a null list\n",
    "    unique_list = []\n",
    "\n",
    "    # traverse for all elements\n",
    "    for x in list1:\n",
    "        # check if exists in unique_list or not\n",
    "        if x not in unique_list:\n",
    "            unique_list.append(x)\n",
    "\n",
    "    return unique_list\n",
    "\n",
    "\n",
    "def split_sequences(sequences, n_steps_in, n_steps_out):\n",
    "\n",
    "    X, y = list(), list()\n",
    "    for i in range(len(sequences)):\n",
    "        # find the end of this pattern\n",
    "        end_ix = i + n_steps_in\n",
    "        out_end_ix = end_ix + n_steps_out\n",
    "        # check if we are beyond the dataset\n",
    "        if out_end_ix > len(sequences):\n",
    "            break\n",
    "        # gather input and output parts of the pattern\n",
    "        seq_x, seq_y = sequences[i:end_ix, :], sequences[end_ix:out_end_ix, :]\n",
    "        X.append(seq_x)\n",
    "        y.append(seq_y)\n",
    "\n",
    "    return np.array(X), np.array(y)"
   ]
  },
  {
   "cell_type": "code",
   "execution_count": 24,
   "id": "3237d7ae",
   "metadata": {},
   "outputs": [],
   "source": [
    "url = \"ftp://ftp.nasdaqtrader.com/symboldirectory/nasdaqtraded.txt\"\n",
    "\n",
    "urllib.request.urlretrieve(url, \"nasdaqtraded.txt\")\n",
    "urllib.request.urlretrieve(url, \"mfundslist.txt\")\n",
    "urllib.request.urlretrieve(url, \"bonds.txt\")\n",
    "\n",
    "df1 = pd.read_csv(\"nasdaqtraded.txt\", sep=\"|\")[0:-1]\n",
    "df2 = pd.read_csv(\"mfundslist.txt\", sep=\"|\")[0:-1]\n",
    "df3 = pd.read_csv(\"bonds.txt\", sep=\"|\")[0:-1]\n",
    "\n",
    "# combined = pd.concat([df1['Symbol'],df2['Symbol'],df3['Symbol']],axis=0)\n",
    "\n",
    "# process symbols for bad characters\n",
    "BAD_CHARS = [\"$\", \".\"]\n",
    "# pat = '|'.join(['({})'.format(re.escape(c)) for c in BAD_CHARS])\n",
    "# cleaned = unique(combined.replace(BAD_CHARS,'-'))\n",
    "\n",
    "# choose size\n",
    "size = nstocks\n",
    "# stocks = list(df1[\"Symbol\"].sample(n=int(size/3)))\n",
    "stocks = list(\n",
    "    df1[\"Symbol\"]\n",
    "    .replace(\".\", \"-\")\n",
    "    .replace(\"\\\\$\", \"-P\", regex=True)\n",
    "    .sample(n=int(size / 3))\n",
    ")\n",
    "mfunds = list(\n",
    "    df2[\"Symbol\"]\n",
    "    .replace(\".\", \"-\")\n",
    "    .replace(\"\\\\$\", \"-P\", regex=True)\n",
    "    .sample(n=int(size / 3))\n",
    ")\n",
    "bonds = list(\n",
    "    df3[\"Symbol\"]\n",
    "    .replace(\".\", \"-\")\n",
    "    .replace(\"\\\\$\", \"-P\", regex=True)\n",
    "    .sample(n=int(size / 3))\n",
    ")\n",
    "symbols = list(set(stocks + mfunds + bonds))  # unique(stocks + mfunds + bonds)\n",
    "# symbols = unique(stocks)"
   ]
  },
  {
   "cell_type": "code",
   "execution_count": 25,
   "id": "1c0d1a28",
   "metadata": {},
   "outputs": [
    {
     "name": "stdout",
     "output_type": "stream",
     "text": [
      "2020-05-18 2020-05-27\n"
     ]
    }
   ],
   "source": [
    "print(start, one_week_end)"
   ]
  },
  {
   "cell_type": "code",
   "execution_count": 26,
   "id": "0cf68126",
   "metadata": {},
   "outputs": [
    {
     "name": "stdout",
     "output_type": "stream",
     "text": [
      "[*********************100%***********************]  99 of 99 completed\n",
      "\n",
      "25 Failed downloads:\n",
      "- RNR-PG: Data doesn't exist for startDate = 1589778000, endDate = 1590555600\n",
      "- QPX: Data doesn't exist for startDate = 1589778000, endDate = 1590555600\n",
      "- WSO.B: No data found, symbol may be delisted\n",
      "- PTRA: Data doesn't exist for startDate = 1589778000, endDate = 1590555600\n",
      "- VMACU: Data doesn't exist for startDate = 1589778000, endDate = 1590555600\n",
      "- MDWT: Data doesn't exist for startDate = 1589778000, endDate = 1590555600\n",
      "- IIAC.U: No data found, symbol may be delisted\n",
      "- IRNT.W: No data found, symbol may be delisted\n",
      "- YALA: Data doesn't exist for startDate = 1589778000, endDate = 1590555600\n",
      "- TGH-PB: Data doesn't exist for startDate = 1589778000, endDate = 1590555600\n",
      "- EFIV: Data doesn't exist for startDate = 1589778000, endDate = 1590555600\n",
      "- GWH.W: No data found, symbol may be delisted\n",
      "- MUDSU: Data doesn't exist for startDate = 1589778000, endDate = 1590555600\n",
      "- TUYA: Data doesn't exist for startDate = 1589778000, endDate = 1590555600\n",
      "- YAC.W: No data found, symbol may be delisted\n",
      "- ACHR.W: No data found, symbol may be delisted\n",
      "- BMEA: Data doesn't exist for startDate = 1589778000, endDate = 1590555600\n",
      "- AFTR.W: No data found, symbol may be delisted\n",
      "- BAC-PO: Data doesn't exist for startDate = 1589778000, endDate = 1590555600\n",
      "- WSBCP: Data doesn't exist for startDate = 1589778000, endDate = 1590555600\n",
      "- ATHN.W: No data found, symbol may be delisted\n",
      "- FFIE: Data doesn't exist for startDate = 1589778000, endDate = 1590555600\n",
      "- BDSX: Data doesn't exist for startDate = 1589778000, endDate = 1590555600\n",
      "- COMSP: Data doesn't exist for startDate = 1589778000, endDate = 1590555600\n",
      "- COVAW: No data found for this date range, symbol may be delisted\n"
     ]
    }
   ],
   "source": [
    "pf_pre = build_portfolio(\n",
    "    names=symbols, start_date=start, end_date=one_week_end, data_api=\"yfinance\"\n",
    ")"
   ]
  },
  {
   "cell_type": "code",
   "execution_count": 27,
   "id": "802e610b",
   "metadata": {},
   "outputs": [],
   "source": [
    "vetted_symbols = list(\n",
    "    pf_pre.data.loc[\n",
    "        (np.intersect1d(list(pf_pre.data.index.strftime(\"%Y-%m-%d\")), tradingDays))\n",
    "    ]\n",
    "    .head(-1)\n",
    "    .tail(-1)\n",
    "    .dropna(axis=1)\n",
    "    .columns\n",
    ")"
   ]
  },
  {
   "cell_type": "code",
   "execution_count": 28,
   "id": "c298590e",
   "metadata": {},
   "outputs": [
    {
     "name": "stdout",
     "output_type": "stream",
     "text": [
      "[*********************100%***********************]  74 of 74 completed\n"
     ]
    }
   ],
   "source": [
    "# combinedList = unique(list(np.append(random.sample(symbols_sp500,int(len(symbols_sp500)*.05)),np.append(random.sample(dividendAristocraft,int(len(dividendAristocraft)*.25)),np.append(top10,random.sample(symbols_ns100,int(len(symbols_ns100)*.25)))))))\n",
    "\n",
    "# add index\n",
    "# vetted_symbols.append('TQQQ')\n",
    "\n",
    "pf = build_portfolio(\n",
    "    names=list(vetted_symbols), start_date=start, end_date=end, data_api=\"yfinance\"\n",
    ")"
   ]
  },
  {
   "cell_type": "code",
   "execution_count": 29,
   "id": "a14f19da",
   "metadata": {},
   "outputs": [],
   "source": [
    "\"\"\"\n",
    "import pandas_datareader.data as web\n",
    "\n",
    "import datetime\n",
    "\n",
    "# Multiple series:\n",
    "fred_data = web.DataReader(FRED_Indicators, 'fred', start, end)\n",
    "\"\"\"\n",
    "\n",
    "FRED_Indicators = [\"DTB4WK\", \"DTB3\", \"DTB6\", \"DTB1YR\"]\n",
    "\n",
    "import pandas_datareader.data as web\n",
    "\n",
    "\n",
    "def Fred_Data(name):\n",
    "    temp = web.DataReader(str(name), \"fred\", start, end)\n",
    "    temp.index = pd.to_datetime(temp.index)\n",
    "    # temp = temp.resample(frequency).mean().dropna()\n",
    "    return temp\n",
    "\n",
    "\n",
    "FRED_set = []\n",
    "FRED_completed = []\n",
    "for i in FRED_Indicators:\n",
    "    FRED_completed.append(i)\n",
    "    FRED_set.append(Fred_Data(i))\n",
    "\n",
    "FRED_pvt = pd.DataFrame()\n",
    "\n",
    "for x in range(0, len(FRED_completed)):\n",
    "    values = FRED_set[x]\n",
    "    values = values.loc[~values.index.duplicated(keep=\"last\")]\n",
    "\n",
    "    FRED_pvt = pd.concat([FRED_pvt, values], axis=1)"
   ]
  },
  {
   "cell_type": "code",
   "execution_count": null,
   "id": "e13d8714",
   "metadata": {},
   "outputs": [],
   "source": []
  },
  {
   "cell_type": "code",
   "execution_count": 30,
   "id": "cf86df8a",
   "metadata": {},
   "outputs": [
    {
     "data": {
      "text/plain": [
       "74"
      ]
     },
     "execution_count": 30,
     "metadata": {},
     "output_type": "execute_result"
    }
   ],
   "source": [
    "returns = np.log(\n",
    "    1\n",
    "    + pf.data.loc[\n",
    "        (np.intersect1d(list(pf.data.index.strftime(\"%Y-%m-%d\")), tradingDays))\n",
    "    ]\n",
    "    .head(-1)\n",
    "    .interpolate(method=\"time\")\n",
    "    .pct_change()\n",
    "    .tail(-1)\n",
    ")\n",
    "returns = returns.dropna(axis=1)\n",
    "# returns.columns = stocks.dropna(axis=1)\n",
    "len(returns.columns)\n",
    "# np.sum(returns.isin([np.inf, -np.inf, np.NaN])).sort_values(kind=\"quicksort\", ascending=True)"
   ]
  },
  {
   "cell_type": "code",
   "execution_count": 31,
   "id": "8cef60ed",
   "metadata": {},
   "outputs": [],
   "source": [
    "selectedmfunds = set(mfunds) & set(returns.columns)\n",
    "selectedstocks = set(stocks) & set(returns.columns)\n",
    "selectedbonds = set(bonds) & set(returns.columns)"
   ]
  },
  {
   "cell_type": "code",
   "execution_count": 32,
   "id": "c61f091c",
   "metadata": {},
   "outputs": [],
   "source": [
    "n_steps_in = dback\n",
    "\n",
    "n_steps_out = dahead\n",
    "\n",
    "Training, Holdout = split_sequences(\n",
    "    np.array(pd.DataFrame(returns.index.strftime(\"%Y-%m-%d\"))), n_steps_in, n_steps_out\n",
    ")"
   ]
  },
  {
   "cell_type": "code",
   "execution_count": null,
   "id": "62b38eb5",
   "metadata": {},
   "outputs": [],
   "source": []
  },
  {
   "cell_type": "code",
   "execution_count": null,
   "id": "e981fd15",
   "metadata": {},
   "outputs": [],
   "source": []
  },
  {
   "cell_type": "code",
   "execution_count": 33,
   "id": "118df51b",
   "metadata": {},
   "outputs": [],
   "source": [
    "randomSet = list(np.sort(np.random.choice(range(0, len(Training)), nran)))\n",
    "\n",
    "randomsymbols = list(np.random.choice(pf.data.columns, 10, replace=False))\n",
    "\n",
    "# random columns\n",
    "stocks = returns.loc[[i[0] for i in Training[randomSet[1]]]][randomsymbols]\n",
    "\n",
    "\"\"\"\n",
    "returns_table = session.read_csv(\n",
    "    \"returns.csv\", keys=[\"stock\"], store_name=\"Returns\", array_sep=\";\"\n",
    ")\n",
    "\n",
    "returns_table.head()\n",
    "\"\"\"\n",
    "return_vec = np.array(stocks)"
   ]
  },
  {
   "cell_type": "code",
   "execution_count": 54,
   "id": "0ab22986-b73d-494a-81b1-105fe88540fb",
   "metadata": {},
   "outputs": [],
   "source": [
    "#stocks.melt(ignore_index=False)\n",
    "prices = stocks.melt(ignore_index=False).reset_index()"
   ]
  },
  {
   "cell_type": "code",
   "execution_count": 56,
   "id": "a3360561-abab-4400-8139-9556627e94db",
   "metadata": {},
   "outputs": [
    {
     "data": {
      "text/html": [
       "<div>\n",
       "<style scoped>\n",
       "    .dataframe tbody tr th:only-of-type {\n",
       "        vertical-align: middle;\n",
       "    }\n",
       "\n",
       "    .dataframe tbody tr th {\n",
       "        vertical-align: top;\n",
       "    }\n",
       "\n",
       "    .dataframe thead th {\n",
       "        text-align: right;\n",
       "    }\n",
       "</style>\n",
       "<table border=\"1\" class=\"dataframe\">\n",
       "  <thead>\n",
       "    <tr style=\"text-align: right;\">\n",
       "      <th></th>\n",
       "      <th>Date</th>\n",
       "      <th>variable</th>\n",
       "      <th>value</th>\n",
       "    </tr>\n",
       "  </thead>\n",
       "  <tbody>\n",
       "    <tr>\n",
       "      <th>0</th>\n",
       "      <td>2020-05-21</td>\n",
       "      <td>DXC</td>\n",
       "      <td>-0.068867</td>\n",
       "    </tr>\n",
       "    <tr>\n",
       "      <th>1</th>\n",
       "      <td>2020-05-22</td>\n",
       "      <td>DXC</td>\n",
       "      <td>-0.023621</td>\n",
       "    </tr>\n",
       "    <tr>\n",
       "      <th>2</th>\n",
       "      <td>2020-05-26</td>\n",
       "      <td>DXC</td>\n",
       "      <td>0.055291</td>\n",
       "    </tr>\n",
       "    <tr>\n",
       "      <th>3</th>\n",
       "      <td>2020-05-27</td>\n",
       "      <td>DXC</td>\n",
       "      <td>0.077595</td>\n",
       "    </tr>\n",
       "    <tr>\n",
       "      <th>4</th>\n",
       "      <td>2020-05-28</td>\n",
       "      <td>DXC</td>\n",
       "      <td>-0.064840</td>\n",
       "    </tr>\n",
       "    <tr>\n",
       "      <th>...</th>\n",
       "      <td>...</td>\n",
       "      <td>...</td>\n",
       "      <td>...</td>\n",
       "    </tr>\n",
       "    <tr>\n",
       "      <th>2515</th>\n",
       "      <td>2021-05-14</td>\n",
       "      <td>SPWR</td>\n",
       "      <td>0.061665</td>\n",
       "    </tr>\n",
       "    <tr>\n",
       "      <th>2516</th>\n",
       "      <td>2021-05-17</td>\n",
       "      <td>SPWR</td>\n",
       "      <td>-0.013125</td>\n",
       "    </tr>\n",
       "    <tr>\n",
       "      <th>2517</th>\n",
       "      <td>2021-05-18</td>\n",
       "      <td>SPWR</td>\n",
       "      <td>0.011325</td>\n",
       "    </tr>\n",
       "    <tr>\n",
       "      <th>2518</th>\n",
       "      <td>2021-05-19</td>\n",
       "      <td>SPWR</td>\n",
       "      <td>0.038007</td>\n",
       "    </tr>\n",
       "    <tr>\n",
       "      <th>2519</th>\n",
       "      <td>2021-05-20</td>\n",
       "      <td>SPWR</td>\n",
       "      <td>0.032426</td>\n",
       "    </tr>\n",
       "  </tbody>\n",
       "</table>\n",
       "<p>2520 rows × 3 columns</p>\n",
       "</div>"
      ],
      "text/plain": [
       "           Date variable     value\n",
       "0    2020-05-21      DXC -0.068867\n",
       "1    2020-05-22      DXC -0.023621\n",
       "2    2020-05-26      DXC  0.055291\n",
       "3    2020-05-27      DXC  0.077595\n",
       "4    2020-05-28      DXC -0.064840\n",
       "...         ...      ...       ...\n",
       "2515 2021-05-14     SPWR  0.061665\n",
       "2516 2021-05-17     SPWR -0.013125\n",
       "2517 2021-05-18     SPWR  0.011325\n",
       "2518 2021-05-19     SPWR  0.038007\n",
       "2519 2021-05-20     SPWR  0.032426\n",
       "\n",
       "[2520 rows x 3 columns]"
      ]
     },
     "execution_count": 56,
     "metadata": {},
     "output_type": "execute_result"
    }
   ],
   "source": [
    "prices"
   ]
  },
  {
   "cell_type": "code",
   "execution_count": 55,
   "id": "a2a7e7e7-29e0-4af9-9306-00ed41e2e18c",
   "metadata": {},
   "outputs": [
    {
     "name": "stderr",
     "output_type": "stream",
     "text": [
      "Deleting existing \"Unnamed\" session to create the new one.\n"
     ]
    }
   ],
   "source": [
    "session = tt.create_session(config={\"user_content_storage\": \"./content\"})"
   ]
  },
  {
   "cell_type": "code",
   "execution_count": 58,
   "id": "50716d7d-c8a2-4c84-9084-5a78291899d8",
   "metadata": {},
   "outputs": [
    {
     "data": {
      "text/html": [
       "<div>\n",
       "<style scoped>\n",
       "    .dataframe tbody tr th:only-of-type {\n",
       "        vertical-align: middle;\n",
       "    }\n",
       "\n",
       "    .dataframe tbody tr th {\n",
       "        vertical-align: top;\n",
       "    }\n",
       "\n",
       "    .dataframe thead th {\n",
       "        text-align: right;\n",
       "    }\n",
       "</style>\n",
       "<table border=\"1\" class=\"dataframe\">\n",
       "  <thead>\n",
       "    <tr style=\"text-align: right;\">\n",
       "      <th></th>\n",
       "      <th></th>\n",
       "      <th>value</th>\n",
       "    </tr>\n",
       "    <tr>\n",
       "      <th>variable</th>\n",
       "      <th>Date</th>\n",
       "      <th></th>\n",
       "    </tr>\n",
       "  </thead>\n",
       "  <tbody>\n",
       "    <tr>\n",
       "      <th rowspan=\"5\" valign=\"top\">DXC</th>\n",
       "      <th>2020-05-21</th>\n",
       "      <td>-0.068867</td>\n",
       "    </tr>\n",
       "    <tr>\n",
       "      <th>2020-05-22</th>\n",
       "      <td>-0.023621</td>\n",
       "    </tr>\n",
       "    <tr>\n",
       "      <th>2020-05-26</th>\n",
       "      <td>0.055291</td>\n",
       "    </tr>\n",
       "    <tr>\n",
       "      <th>2020-05-27</th>\n",
       "      <td>0.077595</td>\n",
       "    </tr>\n",
       "    <tr>\n",
       "      <th>2020-05-28</th>\n",
       "      <td>-0.064840</td>\n",
       "    </tr>\n",
       "  </tbody>\n",
       "</table>\n",
       "</div>"
      ],
      "text/plain": [
       "                        value\n",
       "variable Date                \n",
       "DXC      2020-05-21 -0.068867\n",
       "         2020-05-22 -0.023621\n",
       "         2020-05-26  0.055291\n",
       "         2020-05-27  0.077595\n",
       "         2020-05-28 -0.064840"
      ]
     },
     "execution_count": 58,
     "metadata": {},
     "output_type": "execute_result"
    }
   ],
   "source": [
    "price_table = session.read_pandas(\n",
    "    prices,\n",
    "    keys=[\"Date\", \"variable\"],\n",
    "    table_name=\"prices\",\n",
    ")\n",
    "price_table.head()"
   ]
  },
  {
   "cell_type": "code",
   "execution_count": 34,
   "id": "117429b0",
   "metadata": {},
   "outputs": [
    {
     "data": {
      "text/html": [
       "<div>\n",
       "<style scoped>\n",
       "    .dataframe tbody tr th:only-of-type {\n",
       "        vertical-align: middle;\n",
       "    }\n",
       "\n",
       "    .dataframe tbody tr th {\n",
       "        vertical-align: top;\n",
       "    }\n",
       "\n",
       "    .dataframe thead th {\n",
       "        text-align: right;\n",
       "    }\n",
       "</style>\n",
       "<table border=\"1\" class=\"dataframe\">\n",
       "  <thead>\n",
       "    <tr style=\"text-align: right;\">\n",
       "      <th></th>\n",
       "      <th>DXC</th>\n",
       "      <th>UBP</th>\n",
       "      <th>ACST</th>\n",
       "      <th>HPP</th>\n",
       "      <th>GER</th>\n",
       "      <th>KAMN</th>\n",
       "      <th>IBTF</th>\n",
       "      <th>UBX</th>\n",
       "      <th>SREV</th>\n",
       "      <th>SPWR</th>\n",
       "    </tr>\n",
       "    <tr>\n",
       "      <th>Date</th>\n",
       "      <th></th>\n",
       "      <th></th>\n",
       "      <th></th>\n",
       "      <th></th>\n",
       "      <th></th>\n",
       "      <th></th>\n",
       "      <th></th>\n",
       "      <th></th>\n",
       "      <th></th>\n",
       "      <th></th>\n",
       "    </tr>\n",
       "  </thead>\n",
       "  <tbody>\n",
       "    <tr>\n",
       "      <th>2020-05-21</th>\n",
       "      <td>-0.068867</td>\n",
       "      <td>0.052993</td>\n",
       "      <td>-0.015748</td>\n",
       "      <td>0.020619</td>\n",
       "      <td>-0.014737</td>\n",
       "      <td>0.006195</td>\n",
       "      <td>-0.000191</td>\n",
       "      <td>0.004216</td>\n",
       "      <td>-0.024391</td>\n",
       "      <td>-0.038549</td>\n",
       "    </tr>\n",
       "    <tr>\n",
       "      <th>2020-05-22</th>\n",
       "      <td>-0.023621</td>\n",
       "      <td>-0.047179</td>\n",
       "      <td>0.031253</td>\n",
       "      <td>-0.015896</td>\n",
       "      <td>0.002373</td>\n",
       "      <td>0.006691</td>\n",
       "      <td>0.000574</td>\n",
       "      <td>0.029028</td>\n",
       "      <td>0.024391</td>\n",
       "      <td>-0.022076</td>\n",
       "    </tr>\n",
       "    <tr>\n",
       "      <th>2020-05-26</th>\n",
       "      <td>0.055291</td>\n",
       "      <td>0.055439</td>\n",
       "      <td>0.000000</td>\n",
       "      <td>0.086619</td>\n",
       "      <td>0.016452</td>\n",
       "      <td>0.035119</td>\n",
       "      <td>-0.000574</td>\n",
       "      <td>0.059502</td>\n",
       "      <td>0.029676</td>\n",
       "      <td>0.080043</td>\n",
       "    </tr>\n",
       "    <tr>\n",
       "      <th>2020-05-27</th>\n",
       "      <td>0.077595</td>\n",
       "      <td>-0.008261</td>\n",
       "      <td>-0.015504</td>\n",
       "      <td>0.043549</td>\n",
       "      <td>0.008125</td>\n",
       "      <td>0.051448</td>\n",
       "      <td>-0.000192</td>\n",
       "      <td>-0.016829</td>\n",
       "      <td>-0.041797</td>\n",
       "      <td>0.001373</td>\n",
       "    </tr>\n",
       "    <tr>\n",
       "      <th>2020-05-28</th>\n",
       "      <td>-0.064840</td>\n",
       "      <td>0.045053</td>\n",
       "      <td>0.000000</td>\n",
       "      <td>0.055134</td>\n",
       "      <td>-0.011628</td>\n",
       "      <td>-0.003185</td>\n",
       "      <td>0.000192</td>\n",
       "      <td>0.024502</td>\n",
       "      <td>-0.018462</td>\n",
       "      <td>-0.037740</td>\n",
       "    </tr>\n",
       "    <tr>\n",
       "      <th>...</th>\n",
       "      <td>...</td>\n",
       "      <td>...</td>\n",
       "      <td>...</td>\n",
       "      <td>...</td>\n",
       "      <td>...</td>\n",
       "      <td>...</td>\n",
       "      <td>...</td>\n",
       "      <td>...</td>\n",
       "      <td>...</td>\n",
       "      <td>...</td>\n",
       "    </tr>\n",
       "    <tr>\n",
       "      <th>2021-05-14</th>\n",
       "      <td>0.037313</td>\n",
       "      <td>0.003361</td>\n",
       "      <td>0.022989</td>\n",
       "      <td>0.005204</td>\n",
       "      <td>0.041952</td>\n",
       "      <td>0.019339</td>\n",
       "      <td>0.000039</td>\n",
       "      <td>-0.014185</td>\n",
       "      <td>0.007435</td>\n",
       "      <td>0.061665</td>\n",
       "    </tr>\n",
       "    <tr>\n",
       "      <th>2021-05-17</th>\n",
       "      <td>-0.002717</td>\n",
       "      <td>0.014657</td>\n",
       "      <td>0.000000</td>\n",
       "      <td>-0.007070</td>\n",
       "      <td>0.005231</td>\n",
       "      <td>-0.009437</td>\n",
       "      <td>-0.000039</td>\n",
       "      <td>0.044245</td>\n",
       "      <td>-0.037740</td>\n",
       "      <td>-0.013125</td>\n",
       "    </tr>\n",
       "    <tr>\n",
       "      <th>2021-05-18</th>\n",
       "      <td>0.000000</td>\n",
       "      <td>-0.008635</td>\n",
       "      <td>0.022473</td>\n",
       "      <td>0.024346</td>\n",
       "      <td>-0.003484</td>\n",
       "      <td>-0.023893</td>\n",
       "      <td>0.000311</td>\n",
       "      <td>0.006811</td>\n",
       "      <td>-0.023347</td>\n",
       "      <td>0.011325</td>\n",
       "    </tr>\n",
       "    <tr>\n",
       "      <th>2021-05-19</th>\n",
       "      <td>0.004614</td>\n",
       "      <td>-0.011406</td>\n",
       "      <td>0.182322</td>\n",
       "      <td>-0.007682</td>\n",
       "      <td>-0.013175</td>\n",
       "      <td>-0.013804</td>\n",
       "      <td>-0.001477</td>\n",
       "      <td>-0.036870</td>\n",
       "      <td>-0.007905</td>\n",
       "      <td>0.038007</td>\n",
       "    </tr>\n",
       "    <tr>\n",
       "      <th>2021-05-20</th>\n",
       "      <td>-0.002711</td>\n",
       "      <td>0.006725</td>\n",
       "      <td>-0.076961</td>\n",
       "      <td>0.028599</td>\n",
       "      <td>0.018397</td>\n",
       "      <td>-0.006197</td>\n",
       "      <td>0.001555</td>\n",
       "      <td>0.030060</td>\n",
       "      <td>0.000000</td>\n",
       "      <td>0.032426</td>\n",
       "    </tr>\n",
       "  </tbody>\n",
       "</table>\n",
       "<p>252 rows × 10 columns</p>\n",
       "</div>"
      ],
      "text/plain": [
       "                 DXC       UBP      ACST       HPP       GER      KAMN  \\\n",
       "Date                                                                     \n",
       "2020-05-21 -0.068867  0.052993 -0.015748  0.020619 -0.014737  0.006195   \n",
       "2020-05-22 -0.023621 -0.047179  0.031253 -0.015896  0.002373  0.006691   \n",
       "2020-05-26  0.055291  0.055439  0.000000  0.086619  0.016452  0.035119   \n",
       "2020-05-27  0.077595 -0.008261 -0.015504  0.043549  0.008125  0.051448   \n",
       "2020-05-28 -0.064840  0.045053  0.000000  0.055134 -0.011628 -0.003185   \n",
       "...              ...       ...       ...       ...       ...       ...   \n",
       "2021-05-14  0.037313  0.003361  0.022989  0.005204  0.041952  0.019339   \n",
       "2021-05-17 -0.002717  0.014657  0.000000 -0.007070  0.005231 -0.009437   \n",
       "2021-05-18  0.000000 -0.008635  0.022473  0.024346 -0.003484 -0.023893   \n",
       "2021-05-19  0.004614 -0.011406  0.182322 -0.007682 -0.013175 -0.013804   \n",
       "2021-05-20 -0.002711  0.006725 -0.076961  0.028599  0.018397 -0.006197   \n",
       "\n",
       "                IBTF       UBX      SREV      SPWR  \n",
       "Date                                                \n",
       "2020-05-21 -0.000191  0.004216 -0.024391 -0.038549  \n",
       "2020-05-22  0.000574  0.029028  0.024391 -0.022076  \n",
       "2020-05-26 -0.000574  0.059502  0.029676  0.080043  \n",
       "2020-05-27 -0.000192 -0.016829 -0.041797  0.001373  \n",
       "2020-05-28  0.000192  0.024502 -0.018462 -0.037740  \n",
       "...              ...       ...       ...       ...  \n",
       "2021-05-14  0.000039 -0.014185  0.007435  0.061665  \n",
       "2021-05-17 -0.000039  0.044245 -0.037740 -0.013125  \n",
       "2021-05-18  0.000311  0.006811 -0.023347  0.011325  \n",
       "2021-05-19 -0.001477 -0.036870 -0.007905  0.038007  \n",
       "2021-05-20  0.001555  0.030060  0.000000  0.032426  \n",
       "\n",
       "[252 rows x 10 columns]"
      ]
     },
     "execution_count": 34,
     "metadata": {},
     "output_type": "execute_result"
    }
   ],
   "source": [
    "stocks[randomsymbols]"
   ]
  },
  {
   "cell_type": "code",
   "execution_count": null,
   "id": "023d7d90",
   "metadata": {},
   "outputs": [],
   "source": [
    "# data = pd.DataFrame()\n",
    "# for i in randomsymbols:\n",
    "#     data = pd.concat([pd.DataFrame({i: [stocks[i].values]}), data], axis=1)"
   ]
  },
  {
   "cell_type": "code",
   "execution_count": null,
   "id": "6fcb3c96",
   "metadata": {},
   "outputs": [],
   "source": [
    "# data.transpose()"
   ]
  },
  {
   "cell_type": "markdown",
   "id": "ec7ac0d7",
   "metadata": {},
   "source": [
    "### Converting daily returns into list"
   ]
  },
  {
   "cell_type": "code",
   "execution_count": null,
   "id": "c1226255",
   "metadata": {},
   "outputs": [],
   "source": [
    "data_transpose = stocks[randomsymbols].T\n",
    "data_transpose.head()"
   ]
  },
  {
   "cell_type": "code",
   "execution_count": null,
   "id": "028122c2",
   "metadata": {},
   "outputs": [],
   "source": [
    "data_transpose['returns_vector'] = data_transpose.values.tolist()\n",
    "data_transpose['returns_vector'].head()"
   ]
  },
  {
   "cell_type": "code",
   "execution_count": null,
   "id": "f0725e4f",
   "metadata": {},
   "outputs": [],
   "source": [
    "return_vector = data_transpose['returns_vector'].to_frame()\n",
    "return_vector[\"symbol\"] = return_vector.index\n",
    "return_vector.head()"
   ]
  },
  {
   "cell_type": "markdown",
   "id": "6eb9936b",
   "metadata": {},
   "source": [
    "### Getting list of dates for the return list"
   ]
  },
  {
   "cell_type": "code",
   "execution_count": null,
   "id": "2c761bb1",
   "metadata": {},
   "outputs": [],
   "source": [
    "ret = stocks.reset_index().copy()\n",
    "ret[\"Date\"].head()"
   ]
  },
  {
   "cell_type": "code",
   "execution_count": null,
   "id": "1f17311d",
   "metadata": {},
   "outputs": [],
   "source": []
  },
  {
   "cell_type": "code",
   "execution_count": null,
   "id": "cb9ae814",
   "metadata": {},
   "outputs": [],
   "source": [
    "import atoti as tt\n"
   ]
  },
  {
   "cell_type": "code",
   "execution_count": null,
   "id": "d8996618",
   "metadata": {},
   "outputs": [],
   "source": [
    "session = tt.create_session()"
   ]
  },
  {
   "cell_type": "code",
   "execution_count": null,
   "id": "006b9ad6",
   "metadata": {},
   "outputs": [],
   "source": []
  },
  {
   "cell_type": "code",
   "execution_count": null,
   "id": "8c32e48b",
   "metadata": {},
   "outputs": [],
   "source": [
    "# https://towardsdatascience.com/shape-tables-like-jelly-with-pandas-melt-and-pivot-f2e13e666d6\n",
    "\n",
    "returns_table = session.read_pandas(\n",
    "    #\"Returns\n",
    "    return_vector,\n",
    "    table_name=\"Returns\",\n",
    "    keys=[\"symbol\"],\n",
    "    #store_name=\"Returns\",\n",
    ")\n",
    "\n",
    "returns_table.head()"
   ]
  },
  {
   "cell_type": "code",
   "execution_count": null,
   "id": "a3d083de",
   "metadata": {},
   "outputs": [],
   "source": [
    "cube = session.create_cube(returns_table, \"Return Cube\")"
   ]
  },
  {
   "cell_type": "code",
   "execution_count": null,
   "id": "0c81a2aa",
   "metadata": {},
   "outputs": [],
   "source": [
    "h, l, m = cube.hierarchies, cube.levels, cube.measures"
   ]
  },
  {
   "cell_type": "code",
   "execution_count": null,
   "id": "9f14082d",
   "metadata": {},
   "outputs": [],
   "source": [
    "# import graphviz\n",
    "cube.schema"
   ]
  },
  {
   "cell_type": "code",
   "execution_count": null,
   "id": "3eeedd05",
   "metadata": {},
   "outputs": [],
   "source": [
    "# pip list"
   ]
  },
  {
   "cell_type": "code",
   "execution_count": null,
   "id": "5c913b5b-50fe-4ba1-ae00-50b1af42766e",
   "metadata": {},
   "outputs": [],
   "source": []
  },
  {
   "cell_type": "code",
   "execution_count": null,
   "id": "9d802d0b",
   "metadata": {},
   "outputs": [],
   "source": [
    "# years = 10\n",
    "\n",
    "import contextlib\n",
    "\n",
    "stocksp = 0.2\n",
    "mfundsp = 0.1\n",
    "bondsp = 0.2\n",
    "commp = 0.2\n",
    "\n",
    "n_portfolio = 100\n",
    "\n",
    "bestSharpe = 0\n",
    "runs = 0\n",
    "weight = None\n",
    "bestMean = 0\n",
    "bestStd = 0\n",
    "means = np.array([])\n",
    "stds = np.array([])\n",
    "sharpes = np.array([])\n",
    "bestWeights = None\n",
    "weights = np.array([])\n",
    "\n",
    "# random dates using X_index\n",
    "\n",
    "randomSet = list(np.sort(np.random.choice(range(0, len(Training)), nran)))\n",
    "\n",
    "for tensor in randomSet:\n",
    "\n",
    "    randomsymbols = list(np.random.choice(pf.data.columns, 10, replace=False))\n",
    "    # random columns\n",
    "    stocks = returns.loc[[i[0] for i in Training[tensor]]][randomsymbols]\n",
    "\n",
    "    return_vec = np.array(stocks)\n",
    "\n",
    "    # display(pd.DataFrame(stocks.cumsum().iloc[-1]).transpose())\n",
    "\n",
    "    for _ in range(n_portfolio):\n",
    "        means2, stds2, sharpes2, weights2 = np.column_stack(\n",
    "            [random_portfolio(return_vec) for _ in range(len(stocks.columns))]\n",
    "        )\n",
    "        means_ = means2\n",
    "        stds_ = stds2\n",
    "        sharpes_ = sharpes2\n",
    "        weights_ = weights2\n",
    "\n",
    "        bestWeights = weights_[sharpes_.argmax()]\n",
    "\n",
    "        means = np.append(means, means_)\n",
    "        stds = np.append(stds, stds_)\n",
    "        sharpes = np.append(sharpes, sharpes_)\n",
    "        weights = np.append(weights, weights_)\n",
    "\n",
    "    df_ = pd.DataFrame(weights[sharpes.argmax()]).set_index(stocks.columns)\n",
    "    df_.columns = [\"Weights\"]\n",
    "\n",
    "    next4weeks = returns.loc[[i[0] for i in Holdout[tensor]]][randomsymbols]\n",
    "\n",
    "    df_.sort_values(by=[\"Weights\"], ascending=False, inplace=True)\n",
    "\n",
    "    wr = np.array(\n",
    "        weighted_return(\n",
    "            np.array((np.exp(next4weeks) - 1).cumsum().tail(1)),\n",
    "            weights[sharpes.argmax()],\n",
    "        )\n",
    "    )[0][0]\n",
    "\n",
    "    max_sr_ret = means[sharpes.argmax()]\n",
    "    max_sr_vol = stds[sharpes.argmax()]\n",
    "    max_sharpe = sharpes[sharpes.argmax()]\n",
    "\n",
    "    display([bestWeights, max_sr_ret, max_sr_vol, max_sharpe, wr])"
   ]
  },
  {
   "cell_type": "code",
   "execution_count": null,
   "id": "cf2e2d1f",
   "metadata": {},
   "outputs": [],
   "source": []
  },
  {
   "cell_type": "code",
   "execution_count": null,
   "id": "5c3f8e46",
   "metadata": {},
   "outputs": [],
   "source": [
    "cube.create_parameter_hierarchy_from_members(\n",
    "    \"Dates\", ret[\"Date\"].tolist(), \n",
    "    index_measure_name=\"Date Index\",\n",
    "    #name=\"Dates\"\n",
    "    #store_name=\"Dates\"\n",
    ")\n",
    "# Setting the hierarchy to non-slicing, as required by\n",
    "# the max_member aggregation function - see later - this behavior might change in future versions.\n",
    "h[\"Dates\"].slicing = False"
   ]
  },
  {
   "cell_type": "code",
   "execution_count": null,
   "id": "9a33d2ec",
   "metadata": {},
   "outputs": [],
   "source": [
    "cube.schema"
   ]
  },
  {
   "cell_type": "code",
   "execution_count": null,
   "id": "4b5032eb-d76e-4a18-b92a-0e2a78d026d6",
   "metadata": {},
   "outputs": [],
   "source": []
  },
  {
   "cell_type": "code",
   "execution_count": null,
   "id": "ec588d50-335d-42e6-86fc-79e10155861d",
   "metadata": {},
   "outputs": [],
   "source": []
  },
  {
   "cell_type": "code",
   "execution_count": null,
   "id": "e3634c06-192d-4386-a4f3-cf76562d6ea9",
   "metadata": {},
   "outputs": [],
   "source": []
  },
  {
   "cell_type": "code",
   "execution_count": null,
   "id": "b5036d8d",
   "metadata": {},
   "outputs": [],
   "source": [
    "m[\"daily returns\"] = m[\"returns_vector.SUM\"][m[\"Date Index\"]]\n"
   ]
  },
  {
   "cell_type": "code",
   "execution_count": null,
   "id": "0baf40e0-3249-4659-be72-8b79f5d52a5f",
   "metadata": {},
   "outputs": [],
   "source": [
    "m[\"daily returns\"].formatter = \"DOUBLE[#,###.0000000000]\""
   ]
  },
  {
   "cell_type": "code",
   "execution_count": null,
   "id": "1c124af2-4a24-4c4a-85f0-9197b8d3c8ac",
   "metadata": {},
   "outputs": [],
   "source": [
    "randomsymbols[1]"
   ]
  },
  {
   "cell_type": "code",
   "execution_count": null,
   "id": "8de1d742-4e35-4104-ae19-87649ca9a675",
   "metadata": {
    "atoti": {
     "widget": {
      "mapping": {
       "columns": [
        "ALL_MEASURES"
       ],
       "measures": [],
       "rows": [
        "[Returns].[symbol].[symbol]",
        "[Epoch].[Epoch].[Branch]"
       ]
      },
      "query": {
       "mdx": "SELECT NON EMPTY Crossjoin(Hierarchize(Descendants({[Returns].[symbol].[AllMember]}, 1, SELF_AND_BEFORE)), [Epoch].[Epoch].[Branch].Members) ON ROWS FROM [Return Cube]",
       "updateMode": "once"
      },
      "serverKey": "default",
      "widgetKey": "pivot-table"
     }
    },
    "tags": []
   },
   "outputs": [],
   "source": [
    "session.visualize()"
   ]
  },
  {
   "cell_type": "code",
   "execution_count": null,
   "id": "abde1723",
   "metadata": {
    "atoti": {
     "widget": {
      "filters": [
       "[Returns].[symbol].[AllMember].[BXP]"
      ],
      "mapping": {
       "columns": [
        "ALL_MEASURES"
       ],
       "measures": [
        "[Measures].[daily returns]"
       ],
       "rows": [
        "[Dates].[Dates].[Dates]"
       ]
      },
      "query": {
       "mdx": "SELECT NON EMPTY Hierarchize(Descendants({[Dates].[Dates].[AllMember]}, 1, SELF_AND_BEFORE)) ON ROWS, NON EMPTY {[Measures].[daily returns]} ON COLUMNS FROM [Return Cube]",
       "updateMode": "once"
      },
      "serverKey": "default",
      "widgetKey": "pivot-table"
     }
    }
   },
   "outputs": [],
   "source": [
    "session.visualize(\"Weight 0 simulation\")"
   ]
  },
  {
   "cell_type": "code",
   "execution_count": null,
   "id": "01ab5c0e",
   "metadata": {},
   "outputs": [],
   "source": []
  }
 ],
 "metadata": {
  "kernelspec": {
   "display_name": "Python 3 (ipykernel)",
   "language": "python",
   "name": "python3"
  },
  "language_info": {
   "codemirror_mode": {
    "name": "ipython",
    "version": 3
   },
   "file_extension": ".py",
   "mimetype": "text/x-python",
   "name": "python",
   "nbconvert_exporter": "python",
   "pygments_lexer": "ipython3",
   "version": "3.9.7"
  }
 },
 "nbformat": 4,
 "nbformat_minor": 5
}
