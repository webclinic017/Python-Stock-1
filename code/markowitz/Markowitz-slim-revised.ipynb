{
 "cells": [
  {
   "cell_type": "code",
   "execution_count": 1,
   "id": "9e87ad91",
   "metadata": {},
   "outputs": [],
   "source": [
    "# !pip install numpy matplotlib cvxopt pandas yfinance finquant plotly cufflinks chart_studio pandas_datareader atoti atoti-jupyterlab"
   ]
  },
  {
   "cell_type": "code",
   "execution_count": 2,
   "id": "62cc3386",
   "metadata": {},
   "outputs": [
    {
     "name": "stdout",
     "output_type": "stream",
     "text": [
      "Welcome to atoti 0.6.2!\n",
      "\n",
      "By using this community edition, you agree with the license available at https://docs.atoti.io/latest/eula.html.\n",
      "Browse the official documentation at https://docs.atoti.io.\n",
      "Join the community at https://www.atoti.io/register.\n",
      "\n",
      "atoti collects telemetry data, which is used to help understand how to improve the product.\n",
      "If you don't wish to send usage data, set the ATOTI_DISABLE_TELEMETRY environment variable to True.\n",
      "\n",
      "You can hide this message by setting the ATOTI_HIDE_EULA_MESSAGE environment variable to True.\n"
     ]
    }
   ],
   "source": [
    "%matplotlib inline\n",
    "import random\n",
    "\n",
    "import cvxopt as opt\n",
    "import matplotlib.pyplot as plt\n",
    "import numpy as np\n",
    "import pandas as pd\n",
    "import yfinance as yf\n",
    "from cvxopt import blas, solvers\n",
    "from finquant.portfolio import build_portfolio\n",
    "from scipy.optimize import minimize\n",
    "\n",
    "np.random.seed(123)\n",
    "\n",
    "# Turn off progress printing\n",
    "solvers.options[\"show_progress\"] = False\n",
    "import concurrent.futures\n",
    "import os\n",
    "import random\n",
    "import urllib\n",
    "import urllib.request\n",
    "from concurrent.futures import ALL_COMPLETED, wait\n",
    "\n",
    "import cufflinks\n",
    "import numpy as np\n",
    "import pandas_market_calendars as mcal\n",
    "\n",
    "# (*) To communicate with Plotly's server, sign in with credentials file\n",
    "import plotly as py\n",
    "\n",
    "# (*) Useful Python/Plotly tools\n",
    "import plotly.tools as tls\n",
    "\n",
    "# (*) Graph objects to piece together plots\n",
    "from plotly.graph_objs import *\n",
    "\n",
    "import atoti as tt"
   ]
  },
  {
   "cell_type": "code",
   "execution_count": 3,
   "id": "ed0874e2",
   "metadata": {},
   "outputs": [],
   "source": [
    "# ndays = 252*10+7\n",
    "ndays = 252 * 1.5 + 7\n",
    "# ~training\n",
    "dback = 252\n",
    "# ~forecast\n",
    "dahead = 20\n",
    "# sample size\n",
    "# if to randomize\n",
    "rand = True\n",
    "nran = 20\n",
    "nstocks = 100\n",
    "# this should match tbill 20, 91, 126, 252\n",
    "\n",
    "end = pd.Timestamp.utcnow()\n",
    "start = end - int(ndays) * pd.tseries.offsets.BDay()\n",
    "one_week_end = end - int(ndays - 7) * pd.tseries.offsets.BDay()\n",
    "one_week_end = one_week_end.strftime(\"%Y-%m-%d\")\n",
    "start = start.strftime(\"%Y-%m-%d\")\n",
    "end = end.strftime(\"%Y-%m-%d\")"
   ]
  },
  {
   "cell_type": "code",
   "execution_count": 4,
   "id": "127d6c62",
   "metadata": {},
   "outputs": [],
   "source": [
    "# pd.tseries.offsets.BDay(100)\n",
    "nyse = mcal.get_calendar(\"NYSE\")\n",
    "\n",
    "# Show available calendars\n",
    "# print(mcal.get_calendar_names())\n",
    "tradingDays = list(\n",
    "    nyse.schedule(start_date=start, end_date=end).index.strftime(\"%Y-%m-%d\")\n",
    ")"
   ]
  },
  {
   "cell_type": "markdown",
   "id": "0898ef11",
   "metadata": {},
   "source": []
  },
  {
   "cell_type": "code",
   "execution_count": 5,
   "id": "852dceca",
   "metadata": {},
   "outputs": [],
   "source": [
    "def rand_weights(n):\n",
    "    \"\"\"Produces n random weights that sum to 1\"\"\"\n",
    "    k = np.random.rand(n)\n",
    "    return k / sum(k)\n",
    "\n",
    "\n",
    "def weighted_return(returns, weights):\n",
    "    w = weights\n",
    "\n",
    "    p = np.asmatrix(np.mean(returns, axis=0))\n",
    "\n",
    "    mu = np.asmatrix(w) * p.T\n",
    "    return mu\n",
    "\n",
    "\n",
    "def random_portfolio(returns):\n",
    "\n",
    "    w = rand_weights(len(pd.DataFrame(returns).columns))\n",
    "\n",
    "    p = np.asmatrix(np.mean(returns, axis=0))\n",
    "\n",
    "    C = np.array(pd.DataFrame(returns).cov().values)\n",
    "\n",
    "    mu = np.asmatrix(w) * p.T\n",
    "    sigma = np.sqrt(np.asmatrix(w) * C * np.asmatrix(w).T)\n",
    "\n",
    "    sharpe = mu / sigma\n",
    "\n",
    "    return np.float(mu), np.float(sigma), np.float(sharpe), np.array(w, dtype=object)\n",
    "\n",
    "\n",
    "def unique(list1):\n",
    "\n",
    "    # intilize a null list\n",
    "    unique_list = []\n",
    "\n",
    "    # traverse for all elements\n",
    "    for x in list1:\n",
    "        # check if exists in unique_list or not\n",
    "        if x not in unique_list:\n",
    "            unique_list.append(x)\n",
    "\n",
    "    return unique_list\n",
    "\n",
    "\n",
    "def split_sequences(sequences, n_steps_in, n_steps_out):\n",
    "\n",
    "    X, y = list(), list()\n",
    "    for i in range(len(sequences)):\n",
    "        # find the end of this pattern\n",
    "        end_ix = i + n_steps_in\n",
    "        out_end_ix = end_ix + n_steps_out\n",
    "        # check if we are beyond the dataset\n",
    "        if out_end_ix > len(sequences):\n",
    "            break\n",
    "        # gather input and output parts of the pattern\n",
    "        seq_x, seq_y = sequences[i:end_ix, :], sequences[end_ix:out_end_ix, :]\n",
    "        X.append(seq_x)\n",
    "        y.append(seq_y)\n",
    "\n",
    "    return np.array(X), np.array(y)"
   ]
  },
  {
   "cell_type": "code",
   "execution_count": 6,
   "id": "3237d7ae",
   "metadata": {},
   "outputs": [],
   "source": [
    "url = \"ftp://ftp.nasdaqtrader.com/symboldirectory/nasdaqtraded.txt\"\n",
    "\n",
    "urllib.request.urlretrieve(url, \"nasdaqtraded.txt\")\n",
    "urllib.request.urlretrieve(url, \"mfundslist.txt\")\n",
    "urllib.request.urlretrieve(url, \"bonds.txt\")\n",
    "\n",
    "df1 = pd.read_csv(\"nasdaqtraded.txt\", sep=\"|\")[0:-1]\n",
    "df2 = pd.read_csv(\"mfundslist.txt\", sep=\"|\")[0:-1]\n",
    "df3 = pd.read_csv(\"bonds.txt\", sep=\"|\")[0:-1]\n",
    "\n",
    "# combined = pd.concat([df1['Symbol'],df2['Symbol'],df3['Symbol']],axis=0)\n",
    "\n",
    "# process symbols for bad characters\n",
    "BAD_CHARS = [\"$\", \".\"]\n",
    "# pat = '|'.join(['({})'.format(re.escape(c)) for c in BAD_CHARS])\n",
    "# cleaned = unique(combined.replace(BAD_CHARS,'-'))\n",
    "\n",
    "# choose size\n",
    "size = nstocks\n",
    "# stocks = list(df1[\"Symbol\"].sample(n=int(size/3)))\n",
    "stocks = list(\n",
    "    df1[\"Symbol\"]\n",
    "    .replace(\".\", \"-\")\n",
    "    .replace(\"\\\\$\", \"-P\", regex=True)\n",
    "    .sample(n=int(size / 3))\n",
    ")\n",
    "mfunds = list(\n",
    "    df2[\"Symbol\"]\n",
    "    .replace(\".\", \"-\")\n",
    "    .replace(\"\\\\$\", \"-P\", regex=True)\n",
    "    .sample(n=int(size / 3))\n",
    ")\n",
    "bonds = list(\n",
    "    df3[\"Symbol\"]\n",
    "    .replace(\".\", \"-\")\n",
    "    .replace(\"\\\\$\", \"-P\", regex=True)\n",
    "    .sample(n=int(size / 3))\n",
    ")\n",
    "symbols = list(set(stocks + mfunds + bonds))  # unique(stocks + mfunds + bonds)\n",
    "# symbols = unique(stocks)"
   ]
  },
  {
   "cell_type": "code",
   "execution_count": 7,
   "id": "1c0d1a28",
   "metadata": {},
   "outputs": [
    {
     "name": "stdout",
     "output_type": "stream",
     "text": [
      "2020-05-18 2020-05-27\n"
     ]
    }
   ],
   "source": [
    "print(start, one_week_end)"
   ]
  },
  {
   "cell_type": "code",
   "execution_count": 8,
   "id": "0cf68126",
   "metadata": {},
   "outputs": [
    {
     "name": "stdout",
     "output_type": "stream",
     "text": [
      "[*********************100%***********************]  99 of 99 completed\n",
      "\n",
      "25 Failed downloads:\n",
      "- TGH-PB: Data doesn't exist for startDate = 1589778000, endDate = 1590555600\n",
      "- WSO.B: No data found, symbol may be delisted\n",
      "- TUYA: Data doesn't exist for startDate = 1589778000, endDate = 1590555600\n",
      "- BMEA: Data doesn't exist for startDate = 1589778000, endDate = 1590555600\n",
      "- IIAC.U: No data found, symbol may be delisted\n",
      "- FFIE: Data doesn't exist for startDate = 1589778000, endDate = 1590555600\n",
      "- QPX: Data doesn't exist for startDate = 1589778000, endDate = 1590555600\n",
      "- YALA: Data doesn't exist for startDate = 1589778000, endDate = 1590555600\n",
      "- GWH.W: No data found, symbol may be delisted\n",
      "- ATHN.W: No data found, symbol may be delisted\n",
      "- BDSX: Data doesn't exist for startDate = 1589778000, endDate = 1590555600\n",
      "- MDWT: Data doesn't exist for startDate = 1589778000, endDate = 1590555600\n",
      "- VMACU: Data doesn't exist for startDate = 1589778000, endDate = 1590555600\n",
      "- AFTR.W: No data found, symbol may be delisted\n",
      "- IRNT.W: No data found, symbol may be delisted\n",
      "- RNR-PG: Data doesn't exist for startDate = 1589778000, endDate = 1590555600\n",
      "- COVAW: No data found for this date range, symbol may be delisted\n",
      "- COMSP: Data doesn't exist for startDate = 1589778000, endDate = 1590555600\n",
      "- MUDSU: Data doesn't exist for startDate = 1589778000, endDate = 1590555600\n",
      "- PTRA: Data doesn't exist for startDate = 1589778000, endDate = 1590555600\n",
      "- YAC.W: No data found, symbol may be delisted\n",
      "- WSBCP: Data doesn't exist for startDate = 1589778000, endDate = 1590555600\n",
      "- BAC-PO: Data doesn't exist for startDate = 1589778000, endDate = 1590555600\n",
      "- EFIV: Data doesn't exist for startDate = 1589778000, endDate = 1590555600\n",
      "- ACHR.W: No data found, symbol may be delisted\n"
     ]
    }
   ],
   "source": [
    "pf_pre = build_portfolio(\n",
    "    names=symbols, start_date=start, end_date=one_week_end, data_api=\"yfinance\"\n",
    ")"
   ]
  },
  {
   "cell_type": "code",
   "execution_count": 9,
   "id": "802e610b",
   "metadata": {},
   "outputs": [],
   "source": [
    "vetted_symbols = list(\n",
    "    pf_pre.data.loc[\n",
    "        (np.intersect1d(list(pf_pre.data.index.strftime(\"%Y-%m-%d\")), tradingDays))\n",
    "    ]\n",
    "    .head(-1)\n",
    "    .tail(-1)\n",
    "    .dropna(axis=1)\n",
    "    .columns\n",
    ")"
   ]
  },
  {
   "cell_type": "code",
   "execution_count": 10,
   "id": "c298590e",
   "metadata": {},
   "outputs": [
    {
     "name": "stdout",
     "output_type": "stream",
     "text": [
      "[*********************100%***********************]  74 of 74 completed\n"
     ]
    }
   ],
   "source": [
    "# combinedList = unique(list(np.append(random.sample(symbols_sp500,int(len(symbols_sp500)*.05)),np.append(random.sample(dividendAristocraft,int(len(dividendAristocraft)*.25)),np.append(top10,random.sample(symbols_ns100,int(len(symbols_ns100)*.25)))))))\n",
    "\n",
    "# add index\n",
    "# vetted_symbols.append('TQQQ')\n",
    "\n",
    "pf = build_portfolio(\n",
    "    names=list(vetted_symbols), start_date=start, end_date=end, data_api=\"yfinance\"\n",
    ")"
   ]
  },
  {
   "cell_type": "code",
   "execution_count": 11,
   "id": "a14f19da",
   "metadata": {},
   "outputs": [],
   "source": [
    "\"\"\"\n",
    "import pandas_datareader.data as web\n",
    "\n",
    "import datetime\n",
    "\n",
    "# Multiple series:\n",
    "fred_data = web.DataReader(FRED_Indicators, 'fred', start, end)\n",
    "\"\"\"\n",
    "\n",
    "FRED_Indicators = [\"DTB4WK\", \"DTB3\", \"DTB6\", \"DTB1YR\"]\n",
    "\n",
    "import pandas_datareader.data as web\n",
    "\n",
    "\n",
    "def Fred_Data(name):\n",
    "    temp = web.DataReader(str(name), \"fred\", start, end)\n",
    "    temp.index = pd.to_datetime(temp.index)\n",
    "    # temp = temp.resample(frequency).mean().dropna()\n",
    "    return temp\n",
    "\n",
    "\n",
    "FRED_set = []\n",
    "FRED_completed = []\n",
    "for i in FRED_Indicators:\n",
    "    FRED_completed.append(i)\n",
    "    FRED_set.append(Fred_Data(i))\n",
    "\n",
    "FRED_pvt = pd.DataFrame()\n",
    "\n",
    "for x in range(0, len(FRED_completed)):\n",
    "    values = FRED_set[x]\n",
    "    values = values.loc[~values.index.duplicated(keep=\"last\")]\n",
    "\n",
    "    FRED_pvt = pd.concat([FRED_pvt, values], axis=1)"
   ]
  },
  {
   "cell_type": "code",
   "execution_count": null,
   "id": "e13d8714",
   "metadata": {},
   "outputs": [],
   "source": []
  },
  {
   "cell_type": "code",
   "execution_count": 12,
   "id": "cf86df8a",
   "metadata": {},
   "outputs": [
    {
     "data": {
      "text/plain": [
       "74"
      ]
     },
     "execution_count": 12,
     "metadata": {},
     "output_type": "execute_result"
    }
   ],
   "source": [
    "returns = np.log(\n",
    "    1\n",
    "    + pf.data.loc[\n",
    "        (np.intersect1d(list(pf.data.index.strftime(\"%Y-%m-%d\")), tradingDays))\n",
    "    ]\n",
    "    .head(-1)\n",
    "    .interpolate(method=\"time\")\n",
    "    .pct_change()\n",
    "    .tail(-1)\n",
    ")\n",
    "returns = returns.dropna(axis=1)\n",
    "# returns.columns = stocks.dropna(axis=1)\n",
    "len(returns.columns)\n",
    "# np.sum(returns.isin([np.inf, -np.inf, np.NaN])).sort_values(kind=\"quicksort\", ascending=True)"
   ]
  },
  {
   "cell_type": "code",
   "execution_count": 13,
   "id": "8cef60ed",
   "metadata": {},
   "outputs": [],
   "source": [
    "selectedmfunds = set(mfunds) & set(returns.columns)\n",
    "selectedstocks = set(stocks) & set(returns.columns)\n",
    "selectedbonds = set(bonds) & set(returns.columns)"
   ]
  },
  {
   "cell_type": "code",
   "execution_count": 14,
   "id": "c61f091c",
   "metadata": {},
   "outputs": [],
   "source": [
    "n_steps_in = dback\n",
    "\n",
    "n_steps_out = dahead\n",
    "\n",
    "Training, Holdout = split_sequences(\n",
    "    np.array(pd.DataFrame(returns.index.strftime(\"%Y-%m-%d\"))), n_steps_in, n_steps_out\n",
    ")"
   ]
  },
  {
   "cell_type": "code",
   "execution_count": null,
   "id": "62b38eb5",
   "metadata": {},
   "outputs": [],
   "source": []
  },
  {
   "cell_type": "code",
   "execution_count": null,
   "id": "e981fd15",
   "metadata": {},
   "outputs": [],
   "source": []
  },
  {
   "cell_type": "code",
   "execution_count": 15,
   "id": "118df51b",
   "metadata": {},
   "outputs": [],
   "source": [
    "randomSet = list(np.sort(np.random.choice(range(0, len(Training)), nran)))\n",
    "\n",
    "randomsymbols = list(np.random.choice(pf.data.columns, 10, replace=False))\n",
    "\n",
    "# random columns\n",
    "stocks = returns.loc[[i[0] for i in Training[randomSet[1]]]][randomsymbols]\n",
    "\n",
    "\"\"\"\n",
    "returns_table = session.read_csv(\n",
    "    \"returns.csv\", keys=[\"stock\"], store_name=\"Returns\", array_sep=\";\"\n",
    ")\n",
    "\n",
    "returns_table.head()\n",
    "\"\"\"\n",
    "return_vec = np.array(stocks)"
   ]
  },
  {
   "cell_type": "code",
   "execution_count": 16,
   "id": "117429b0",
   "metadata": {},
   "outputs": [
    {
     "data": {
      "text/html": [
       "<div>\n",
       "<style scoped>\n",
       "    .dataframe tbody tr th:only-of-type {\n",
       "        vertical-align: middle;\n",
       "    }\n",
       "\n",
       "    .dataframe tbody tr th {\n",
       "        vertical-align: top;\n",
       "    }\n",
       "\n",
       "    .dataframe thead th {\n",
       "        text-align: right;\n",
       "    }\n",
       "</style>\n",
       "<table border=\"1\" class=\"dataframe\">\n",
       "  <thead>\n",
       "    <tr style=\"text-align: right;\">\n",
       "      <th></th>\n",
       "      <th>TLTE</th>\n",
       "      <th>GYLD</th>\n",
       "      <th>ACER</th>\n",
       "      <th>BGR</th>\n",
       "      <th>LIZI</th>\n",
       "      <th>VABK</th>\n",
       "      <th>MVST</th>\n",
       "      <th>CYTH</th>\n",
       "      <th>IRT</th>\n",
       "      <th>WHG</th>\n",
       "    </tr>\n",
       "    <tr>\n",
       "      <th>Date</th>\n",
       "      <th></th>\n",
       "      <th></th>\n",
       "      <th></th>\n",
       "      <th></th>\n",
       "      <th></th>\n",
       "      <th></th>\n",
       "      <th></th>\n",
       "      <th></th>\n",
       "      <th></th>\n",
       "      <th></th>\n",
       "    </tr>\n",
       "  </thead>\n",
       "  <tbody>\n",
       "    <tr>\n",
       "      <th>2020-05-21</th>\n",
       "      <td>-0.006627</td>\n",
       "      <td>0.005391</td>\n",
       "      <td>-0.094537</td>\n",
       "      <td>-0.005540</td>\n",
       "      <td>-0.023716</td>\n",
       "      <td>0.000000</td>\n",
       "      <td>0.004457</td>\n",
       "      <td>0.117783</td>\n",
       "      <td>0.005157</td>\n",
       "      <td>0.004845</td>\n",
       "    </tr>\n",
       "    <tr>\n",
       "      <th>2020-05-22</th>\n",
       "      <td>-0.020149</td>\n",
       "      <td>0.008032</td>\n",
       "      <td>-0.014266</td>\n",
       "      <td>0.001388</td>\n",
       "      <td>-0.087969</td>\n",
       "      <td>0.005375</td>\n",
       "      <td>0.000000</td>\n",
       "      <td>-0.057158</td>\n",
       "      <td>0.003082</td>\n",
       "      <td>0.010152</td>\n",
       "    </tr>\n",
       "    <tr>\n",
       "      <th>2020-05-26</th>\n",
       "      <td>0.019437</td>\n",
       "      <td>0.016748</td>\n",
       "      <td>-0.047068</td>\n",
       "      <td>0.016507</td>\n",
       "      <td>0.011429</td>\n",
       "      <td>0.000000</td>\n",
       "      <td>-0.005946</td>\n",
       "      <td>0.000000</td>\n",
       "      <td>0.037246</td>\n",
       "      <td>0.001063</td>\n",
       "    </tr>\n",
       "    <tr>\n",
       "      <th>2020-05-27</th>\n",
       "      <td>0.004268</td>\n",
       "      <td>0.011300</td>\n",
       "      <td>0.017911</td>\n",
       "      <td>0.010855</td>\n",
       "      <td>-0.034686</td>\n",
       "      <td>0.015346</td>\n",
       "      <td>0.003968</td>\n",
       "      <td>0.057158</td>\n",
       "      <td>0.009833</td>\n",
       "      <td>0.050231</td>\n",
       "    </tr>\n",
       "    <tr>\n",
       "      <th>2020-05-28</th>\n",
       "      <td>-0.003318</td>\n",
       "      <td>0.001727</td>\n",
       "      <td>-0.033086</td>\n",
       "      <td>-0.016327</td>\n",
       "      <td>-0.021404</td>\n",
       "      <td>0.015114</td>\n",
       "      <td>-0.003968</td>\n",
       "      <td>0.054067</td>\n",
       "      <td>-0.004904</td>\n",
       "      <td>-0.040191</td>\n",
       "    </tr>\n",
       "    <tr>\n",
       "      <th>...</th>\n",
       "      <td>...</td>\n",
       "      <td>...</td>\n",
       "      <td>...</td>\n",
       "      <td>...</td>\n",
       "      <td>...</td>\n",
       "      <td>...</td>\n",
       "      <td>...</td>\n",
       "      <td>...</td>\n",
       "      <td>...</td>\n",
       "      <td>...</td>\n",
       "    </tr>\n",
       "    <tr>\n",
       "      <th>2021-05-14</th>\n",
       "      <td>0.012651</td>\n",
       "      <td>0.007931</td>\n",
       "      <td>0.042725</td>\n",
       "      <td>0.021142</td>\n",
       "      <td>0.052947</td>\n",
       "      <td>0.017459</td>\n",
       "      <td>0.006683</td>\n",
       "      <td>0.036368</td>\n",
       "      <td>0.006177</td>\n",
       "      <td>0.014247</td>\n",
       "    </tr>\n",
       "    <tr>\n",
       "      <th>2021-05-17</th>\n",
       "      <td>-0.006226</td>\n",
       "      <td>0.000661</td>\n",
       "      <td>0.018833</td>\n",
       "      <td>0.006257</td>\n",
       "      <td>-0.018100</td>\n",
       "      <td>0.056089</td>\n",
       "      <td>0.005693</td>\n",
       "      <td>0.005698</td>\n",
       "      <td>-0.001232</td>\n",
       "      <td>-0.007835</td>\n",
       "    </tr>\n",
       "    <tr>\n",
       "      <th>2021-05-18</th>\n",
       "      <td>0.013361</td>\n",
       "      <td>0.004616</td>\n",
       "      <td>0.014815</td>\n",
       "      <td>-0.004167</td>\n",
       "      <td>0.097798</td>\n",
       "      <td>-0.030772</td>\n",
       "      <td>0.015955</td>\n",
       "      <td>0.030772</td>\n",
       "      <td>0.000000</td>\n",
       "      <td>0.020439</td>\n",
       "    </tr>\n",
       "    <tr>\n",
       "      <th>2021-05-19</th>\n",
       "      <td>-0.001740</td>\n",
       "      <td>-0.009917</td>\n",
       "      <td>0.028988</td>\n",
       "      <td>-0.024301</td>\n",
       "      <td>-0.059719</td>\n",
       "      <td>-0.008473</td>\n",
       "      <td>-0.023553</td>\n",
       "      <td>-0.025106</td>\n",
       "      <td>-0.007426</td>\n",
       "      <td>-0.004345</td>\n",
       "    </tr>\n",
       "    <tr>\n",
       "      <th>2021-05-20</th>\n",
       "      <td>0.004422</td>\n",
       "      <td>0.001328</td>\n",
       "      <td>0.031637</td>\n",
       "      <td>-0.006438</td>\n",
       "      <td>0.047219</td>\n",
       "      <td>0.007848</td>\n",
       "      <td>0.013258</td>\n",
       "      <td>0.056295</td>\n",
       "      <td>0.017852</td>\n",
       "      <td>-0.015111</td>\n",
       "    </tr>\n",
       "  </tbody>\n",
       "</table>\n",
       "<p>252 rows × 10 columns</p>\n",
       "</div>"
      ],
      "text/plain": [
       "                TLTE      GYLD      ACER       BGR      LIZI      VABK  \\\n",
       "Date                                                                     \n",
       "2020-05-21 -0.006627  0.005391 -0.094537 -0.005540 -0.023716  0.000000   \n",
       "2020-05-22 -0.020149  0.008032 -0.014266  0.001388 -0.087969  0.005375   \n",
       "2020-05-26  0.019437  0.016748 -0.047068  0.016507  0.011429  0.000000   \n",
       "2020-05-27  0.004268  0.011300  0.017911  0.010855 -0.034686  0.015346   \n",
       "2020-05-28 -0.003318  0.001727 -0.033086 -0.016327 -0.021404  0.015114   \n",
       "...              ...       ...       ...       ...       ...       ...   \n",
       "2021-05-14  0.012651  0.007931  0.042725  0.021142  0.052947  0.017459   \n",
       "2021-05-17 -0.006226  0.000661  0.018833  0.006257 -0.018100  0.056089   \n",
       "2021-05-18  0.013361  0.004616  0.014815 -0.004167  0.097798 -0.030772   \n",
       "2021-05-19 -0.001740 -0.009917  0.028988 -0.024301 -0.059719 -0.008473   \n",
       "2021-05-20  0.004422  0.001328  0.031637 -0.006438  0.047219  0.007848   \n",
       "\n",
       "                MVST      CYTH       IRT       WHG  \n",
       "Date                                                \n",
       "2020-05-21  0.004457  0.117783  0.005157  0.004845  \n",
       "2020-05-22  0.000000 -0.057158  0.003082  0.010152  \n",
       "2020-05-26 -0.005946  0.000000  0.037246  0.001063  \n",
       "2020-05-27  0.003968  0.057158  0.009833  0.050231  \n",
       "2020-05-28 -0.003968  0.054067 -0.004904 -0.040191  \n",
       "...              ...       ...       ...       ...  \n",
       "2021-05-14  0.006683  0.036368  0.006177  0.014247  \n",
       "2021-05-17  0.005693  0.005698 -0.001232 -0.007835  \n",
       "2021-05-18  0.015955  0.030772  0.000000  0.020439  \n",
       "2021-05-19 -0.023553 -0.025106 -0.007426 -0.004345  \n",
       "2021-05-20  0.013258  0.056295  0.017852 -0.015111  \n",
       "\n",
       "[252 rows x 10 columns]"
      ]
     },
     "execution_count": 16,
     "metadata": {},
     "output_type": "execute_result"
    }
   ],
   "source": [
    "stocks[randomsymbols]"
   ]
  },
  {
   "cell_type": "code",
   "execution_count": 17,
   "id": "023d7d90",
   "metadata": {},
   "outputs": [],
   "source": [
    "# data = pd.DataFrame()\n",
    "# for i in randomsymbols:\n",
    "#     data = pd.concat([pd.DataFrame({i: [stocks[i].values]}), data], axis=1)"
   ]
  },
  {
   "cell_type": "code",
   "execution_count": 18,
   "id": "6fcb3c96",
   "metadata": {},
   "outputs": [],
   "source": [
    "# data.transpose()"
   ]
  },
  {
   "cell_type": "markdown",
   "id": "ec7ac0d7",
   "metadata": {},
   "source": [
    "### Converting daily returns into list"
   ]
  },
  {
   "cell_type": "code",
   "execution_count": 19,
   "id": "c1226255",
   "metadata": {},
   "outputs": [
    {
     "data": {
      "text/html": [
       "<div>\n",
       "<style scoped>\n",
       "    .dataframe tbody tr th:only-of-type {\n",
       "        vertical-align: middle;\n",
       "    }\n",
       "\n",
       "    .dataframe tbody tr th {\n",
       "        vertical-align: top;\n",
       "    }\n",
       "\n",
       "    .dataframe thead th {\n",
       "        text-align: right;\n",
       "    }\n",
       "</style>\n",
       "<table border=\"1\" class=\"dataframe\">\n",
       "  <thead>\n",
       "    <tr style=\"text-align: right;\">\n",
       "      <th>Date</th>\n",
       "      <th>2020-05-21</th>\n",
       "      <th>2020-05-22</th>\n",
       "      <th>2020-05-26</th>\n",
       "      <th>2020-05-27</th>\n",
       "      <th>2020-05-28</th>\n",
       "      <th>2020-05-29</th>\n",
       "      <th>2020-06-01</th>\n",
       "      <th>2020-06-02</th>\n",
       "      <th>2020-06-03</th>\n",
       "      <th>2020-06-04</th>\n",
       "      <th>...</th>\n",
       "      <th>2021-05-07</th>\n",
       "      <th>2021-05-10</th>\n",
       "      <th>2021-05-11</th>\n",
       "      <th>2021-05-12</th>\n",
       "      <th>2021-05-13</th>\n",
       "      <th>2021-05-14</th>\n",
       "      <th>2021-05-17</th>\n",
       "      <th>2021-05-18</th>\n",
       "      <th>2021-05-19</th>\n",
       "      <th>2021-05-20</th>\n",
       "    </tr>\n",
       "  </thead>\n",
       "  <tbody>\n",
       "    <tr>\n",
       "      <th>TLTE</th>\n",
       "      <td>-0.006627</td>\n",
       "      <td>-0.020149</td>\n",
       "      <td>0.019437</td>\n",
       "      <td>0.004268</td>\n",
       "      <td>-0.003318</td>\n",
       "      <td>0.011566</td>\n",
       "      <td>0.022280</td>\n",
       "      <td>0.024261</td>\n",
       "      <td>0.022592</td>\n",
       "      <td>-0.013450</td>\n",
       "      <td>...</td>\n",
       "      <td>0.013962</td>\n",
       "      <td>-0.009442</td>\n",
       "      <td>-0.003896</td>\n",
       "      <td>-0.032046</td>\n",
       "      <td>0.000322</td>\n",
       "      <td>0.012651</td>\n",
       "      <td>-0.006226</td>\n",
       "      <td>0.013361</td>\n",
       "      <td>-0.001740</td>\n",
       "      <td>0.004422</td>\n",
       "    </tr>\n",
       "    <tr>\n",
       "      <th>GYLD</th>\n",
       "      <td>0.005391</td>\n",
       "      <td>0.008032</td>\n",
       "      <td>0.016748</td>\n",
       "      <td>0.011300</td>\n",
       "      <td>0.001727</td>\n",
       "      <td>-0.003457</td>\n",
       "      <td>0.006042</td>\n",
       "      <td>0.024651</td>\n",
       "      <td>0.032221</td>\n",
       "      <td>0.000000</td>\n",
       "      <td>...</td>\n",
       "      <td>0.011976</td>\n",
       "      <td>0.000661</td>\n",
       "      <td>-0.002647</td>\n",
       "      <td>-0.004650</td>\n",
       "      <td>0.003323</td>\n",
       "      <td>0.007931</td>\n",
       "      <td>0.000661</td>\n",
       "      <td>0.004616</td>\n",
       "      <td>-0.009917</td>\n",
       "      <td>0.001328</td>\n",
       "    </tr>\n",
       "    <tr>\n",
       "      <th>ACER</th>\n",
       "      <td>-0.094537</td>\n",
       "      <td>-0.014266</td>\n",
       "      <td>-0.047068</td>\n",
       "      <td>0.017911</td>\n",
       "      <td>-0.033086</td>\n",
       "      <td>-0.063112</td>\n",
       "      <td>0.044593</td>\n",
       "      <td>0.015456</td>\n",
       "      <td>0.003063</td>\n",
       "      <td>-0.053388</td>\n",
       "      <td>...</td>\n",
       "      <td>0.041282</td>\n",
       "      <td>-0.052843</td>\n",
       "      <td>0.045462</td>\n",
       "      <td>-0.037740</td>\n",
       "      <td>-0.031253</td>\n",
       "      <td>0.042725</td>\n",
       "      <td>0.018833</td>\n",
       "      <td>0.014815</td>\n",
       "      <td>0.028988</td>\n",
       "      <td>0.031637</td>\n",
       "    </tr>\n",
       "    <tr>\n",
       "      <th>BGR</th>\n",
       "      <td>-0.005540</td>\n",
       "      <td>0.001388</td>\n",
       "      <td>0.016507</td>\n",
       "      <td>0.010855</td>\n",
       "      <td>-0.016327</td>\n",
       "      <td>0.000000</td>\n",
       "      <td>0.021710</td>\n",
       "      <td>0.019934</td>\n",
       "      <td>0.020834</td>\n",
       "      <td>-0.001290</td>\n",
       "      <td>...</td>\n",
       "      <td>0.015932</td>\n",
       "      <td>0.006303</td>\n",
       "      <td>-0.012645</td>\n",
       "      <td>0.003176</td>\n",
       "      <td>-0.006602</td>\n",
       "      <td>0.021142</td>\n",
       "      <td>0.006257</td>\n",
       "      <td>-0.004167</td>\n",
       "      <td>-0.024301</td>\n",
       "      <td>-0.006438</td>\n",
       "    </tr>\n",
       "    <tr>\n",
       "      <th>LIZI</th>\n",
       "      <td>-0.023716</td>\n",
       "      <td>-0.087969</td>\n",
       "      <td>0.011429</td>\n",
       "      <td>-0.034686</td>\n",
       "      <td>-0.021404</td>\n",
       "      <td>-0.014528</td>\n",
       "      <td>-0.012270</td>\n",
       "      <td>0.054067</td>\n",
       "      <td>0.037870</td>\n",
       "      <td>0.025571</td>\n",
       "      <td>...</td>\n",
       "      <td>0.033152</td>\n",
       "      <td>-0.065505</td>\n",
       "      <td>-0.063894</td>\n",
       "      <td>-0.037820</td>\n",
       "      <td>-0.098957</td>\n",
       "      <td>0.052947</td>\n",
       "      <td>-0.018100</td>\n",
       "      <td>0.097798</td>\n",
       "      <td>-0.059719</td>\n",
       "      <td>0.047219</td>\n",
       "    </tr>\n",
       "  </tbody>\n",
       "</table>\n",
       "<p>5 rows × 252 columns</p>\n",
       "</div>"
      ],
      "text/plain": [
       "Date  2020-05-21  2020-05-22  2020-05-26  2020-05-27  2020-05-28  2020-05-29  \\\n",
       "TLTE   -0.006627   -0.020149    0.019437    0.004268   -0.003318    0.011566   \n",
       "GYLD    0.005391    0.008032    0.016748    0.011300    0.001727   -0.003457   \n",
       "ACER   -0.094537   -0.014266   -0.047068    0.017911   -0.033086   -0.063112   \n",
       "BGR    -0.005540    0.001388    0.016507    0.010855   -0.016327    0.000000   \n",
       "LIZI   -0.023716   -0.087969    0.011429   -0.034686   -0.021404   -0.014528   \n",
       "\n",
       "Date  2020-06-01  2020-06-02  2020-06-03  2020-06-04  ...  2021-05-07  \\\n",
       "TLTE    0.022280    0.024261    0.022592   -0.013450  ...    0.013962   \n",
       "GYLD    0.006042    0.024651    0.032221    0.000000  ...    0.011976   \n",
       "ACER    0.044593    0.015456    0.003063   -0.053388  ...    0.041282   \n",
       "BGR     0.021710    0.019934    0.020834   -0.001290  ...    0.015932   \n",
       "LIZI   -0.012270    0.054067    0.037870    0.025571  ...    0.033152   \n",
       "\n",
       "Date  2021-05-10  2021-05-11  2021-05-12  2021-05-13  2021-05-14  2021-05-17  \\\n",
       "TLTE   -0.009442   -0.003896   -0.032046    0.000322    0.012651   -0.006226   \n",
       "GYLD    0.000661   -0.002647   -0.004650    0.003323    0.007931    0.000661   \n",
       "ACER   -0.052843    0.045462   -0.037740   -0.031253    0.042725    0.018833   \n",
       "BGR     0.006303   -0.012645    0.003176   -0.006602    0.021142    0.006257   \n",
       "LIZI   -0.065505   -0.063894   -0.037820   -0.098957    0.052947   -0.018100   \n",
       "\n",
       "Date  2021-05-18  2021-05-19  2021-05-20  \n",
       "TLTE    0.013361   -0.001740    0.004422  \n",
       "GYLD    0.004616   -0.009917    0.001328  \n",
       "ACER    0.014815    0.028988    0.031637  \n",
       "BGR    -0.004167   -0.024301   -0.006438  \n",
       "LIZI    0.097798   -0.059719    0.047219  \n",
       "\n",
       "[5 rows x 252 columns]"
      ]
     },
     "execution_count": 19,
     "metadata": {},
     "output_type": "execute_result"
    }
   ],
   "source": [
    "data_transpose = stocks[randomsymbols].T\n",
    "data_transpose.head()"
   ]
  },
  {
   "cell_type": "code",
   "execution_count": 20,
   "id": "028122c2",
   "metadata": {},
   "outputs": [
    {
     "data": {
      "text/plain": [
       "TLTE    [-0.006627330642544011, -0.020149188232669944,...\n",
       "GYLD    [0.005390724720720196, 0.008032173942892431, 0...\n",
       "ACER    [-0.09453732028993911, -0.014265563573054692, ...\n",
       "BGR     [-0.005540187577050592, 0.0013879451611966457,...\n",
       "LIZI    [-0.023716494462178217, -0.08796879486950487, ...\n",
       "Name: returns_vector, dtype: object"
      ]
     },
     "execution_count": 20,
     "metadata": {},
     "output_type": "execute_result"
    }
   ],
   "source": [
    "data_transpose[\"returns_vector\"] = data_transpose.values.tolist()\n",
    "data_transpose[\"returns_vector\"].head()"
   ]
  },
  {
   "cell_type": "code",
   "execution_count": 21,
   "id": "f0725e4f",
   "metadata": {},
   "outputs": [
    {
     "data": {
      "text/html": [
       "<div>\n",
       "<style scoped>\n",
       "    .dataframe tbody tr th:only-of-type {\n",
       "        vertical-align: middle;\n",
       "    }\n",
       "\n",
       "    .dataframe tbody tr th {\n",
       "        vertical-align: top;\n",
       "    }\n",
       "\n",
       "    .dataframe thead th {\n",
       "        text-align: right;\n",
       "    }\n",
       "</style>\n",
       "<table border=\"1\" class=\"dataframe\">\n",
       "  <thead>\n",
       "    <tr style=\"text-align: right;\">\n",
       "      <th></th>\n",
       "      <th>returns_vector</th>\n",
       "      <th>symbol</th>\n",
       "    </tr>\n",
       "  </thead>\n",
       "  <tbody>\n",
       "    <tr>\n",
       "      <th>TLTE</th>\n",
       "      <td>[-0.006627330642544011, -0.020149188232669944,...</td>\n",
       "      <td>TLTE</td>\n",
       "    </tr>\n",
       "    <tr>\n",
       "      <th>GYLD</th>\n",
       "      <td>[0.005390724720720196, 0.008032173942892431, 0...</td>\n",
       "      <td>GYLD</td>\n",
       "    </tr>\n",
       "    <tr>\n",
       "      <th>ACER</th>\n",
       "      <td>[-0.09453732028993911, -0.014265563573054692, ...</td>\n",
       "      <td>ACER</td>\n",
       "    </tr>\n",
       "    <tr>\n",
       "      <th>BGR</th>\n",
       "      <td>[-0.005540187577050592, 0.0013879451611966457,...</td>\n",
       "      <td>BGR</td>\n",
       "    </tr>\n",
       "    <tr>\n",
       "      <th>LIZI</th>\n",
       "      <td>[-0.023716494462178217, -0.08796879486950487, ...</td>\n",
       "      <td>LIZI</td>\n",
       "    </tr>\n",
       "  </tbody>\n",
       "</table>\n",
       "</div>"
      ],
      "text/plain": [
       "                                         returns_vector symbol\n",
       "TLTE  [-0.006627330642544011, -0.020149188232669944,...   TLTE\n",
       "GYLD  [0.005390724720720196, 0.008032173942892431, 0...   GYLD\n",
       "ACER  [-0.09453732028993911, -0.014265563573054692, ...   ACER\n",
       "BGR   [-0.005540187577050592, 0.0013879451611966457,...    BGR\n",
       "LIZI  [-0.023716494462178217, -0.08796879486950487, ...   LIZI"
      ]
     },
     "execution_count": 21,
     "metadata": {},
     "output_type": "execute_result"
    }
   ],
   "source": [
    "return_vector = data_transpose[\"returns_vector\"].to_frame()\n",
    "return_vector[\"symbol\"] = return_vector.index\n",
    "return_vector.head()"
   ]
  },
  {
   "cell_type": "markdown",
   "id": "6eb9936b",
   "metadata": {},
   "source": [
    "### Getting list of dates for the return list"
   ]
  },
  {
   "cell_type": "code",
   "execution_count": 22,
   "id": "2c761bb1",
   "metadata": {},
   "outputs": [
    {
     "data": {
      "text/plain": [
       "0   2020-05-21\n",
       "1   2020-05-22\n",
       "2   2020-05-26\n",
       "3   2020-05-27\n",
       "4   2020-05-28\n",
       "Name: Date, dtype: datetime64[ns]"
      ]
     },
     "execution_count": 22,
     "metadata": {},
     "output_type": "execute_result"
    }
   ],
   "source": [
    "ret = stocks.reset_index().copy()\n",
    "ret[\"Date\"].head()"
   ]
  },
  {
   "cell_type": "code",
   "execution_count": null,
   "id": "1f17311d",
   "metadata": {},
   "outputs": [],
   "source": []
  },
  {
   "cell_type": "code",
   "execution_count": 23,
   "id": "cb9ae814",
   "metadata": {},
   "outputs": [],
   "source": [
    "import numpy as np\n",
    "import pandas as pd\n",
    "\n",
    "import atoti as tt"
   ]
  },
  {
   "cell_type": "code",
   "execution_count": 24,
   "id": "d8996618",
   "metadata": {},
   "outputs": [],
   "source": [
    "session = tt.create_session()"
   ]
  },
  {
   "cell_type": "code",
   "execution_count": null,
   "id": "006b9ad6",
   "metadata": {},
   "outputs": [],
   "source": []
  },
  {
   "cell_type": "code",
   "execution_count": 25,
   "id": "8c32e48b",
   "metadata": {},
   "outputs": [
    {
     "data": {
      "text/html": [
       "<div>\n",
       "<style scoped>\n",
       "    .dataframe tbody tr th:only-of-type {\n",
       "        vertical-align: middle;\n",
       "    }\n",
       "\n",
       "    .dataframe tbody tr th {\n",
       "        vertical-align: top;\n",
       "    }\n",
       "\n",
       "    .dataframe thead th {\n",
       "        text-align: right;\n",
       "    }\n",
       "</style>\n",
       "<table border=\"1\" class=\"dataframe\">\n",
       "  <thead>\n",
       "    <tr style=\"text-align: right;\">\n",
       "      <th></th>\n",
       "      <th>returns_vector</th>\n",
       "    </tr>\n",
       "    <tr>\n",
       "      <th>symbol</th>\n",
       "      <th></th>\n",
       "    </tr>\n",
       "  </thead>\n",
       "  <tbody>\n",
       "    <tr>\n",
       "      <th>TLTE</th>\n",
       "      <td>doubleVector[252]{-0.006627330642544011, ...}</td>\n",
       "    </tr>\n",
       "    <tr>\n",
       "      <th>GYLD</th>\n",
       "      <td>doubleVector[252]{0.005390724720720196, ...}</td>\n",
       "    </tr>\n",
       "    <tr>\n",
       "      <th>ACER</th>\n",
       "      <td>doubleVector[252]{-0.09453732028993911, ...}</td>\n",
       "    </tr>\n",
       "    <tr>\n",
       "      <th>BGR</th>\n",
       "      <td>doubleVector[252]{-0.005540187577050592, ...}</td>\n",
       "    </tr>\n",
       "    <tr>\n",
       "      <th>LIZI</th>\n",
       "      <td>doubleVector[252]{-0.023716494462178217, ...}</td>\n",
       "    </tr>\n",
       "  </tbody>\n",
       "</table>\n",
       "</div>"
      ],
      "text/plain": [
       "                                       returns_vector\n",
       "symbol                                               \n",
       "TLTE    doubleVector[252]{-0.006627330642544011, ...}\n",
       "GYLD     doubleVector[252]{0.005390724720720196, ...}\n",
       "ACER     doubleVector[252]{-0.09453732028993911, ...}\n",
       "BGR     doubleVector[252]{-0.005540187577050592, ...}\n",
       "LIZI    doubleVector[252]{-0.023716494462178217, ...}"
      ]
     },
     "execution_count": 25,
     "metadata": {},
     "output_type": "execute_result"
    }
   ],
   "source": [
    "# https://towardsdatascience.com/shape-tables-like-jelly-with-pandas-melt-and-pivot-f2e13e666d6\n",
    "\n",
    "returns_table = session.read_pandas(\n",
    "    return_vector,\n",
    "    keys=[\"symbol\"],\n",
    "    table_name=\"Returns\",\n",
    ")\n",
    "\n",
    "returns_table.head()"
   ]
  },
  {
   "cell_type": "code",
   "execution_count": 26,
   "id": "a3d083de",
   "metadata": {},
   "outputs": [],
   "source": [
    "cube = session.create_cube(returns_table, \"Return Cube\")"
   ]
  },
  {
   "cell_type": "code",
   "execution_count": 27,
   "id": "0c81a2aa",
   "metadata": {},
   "outputs": [],
   "source": [
    "h, l, m = cube.hierarchies, cube.levels, cube.measures"
   ]
  },
  {
   "cell_type": "code",
   "execution_count": 28,
   "id": "9f14082d",
   "metadata": {},
   "outputs": [
    {
     "data": {
      "image/svg+xml": [
       "<svg xmlns=\"http://www.w3.org/2000/svg\" xmlns:xlink=\"http://www.w3.org/1999/xlink\" width=\"201px\" height=\"90px\" viewBox=\"0.00 0.00 201.00 90.00\">\n",
       "<g id=\"graph0\" class=\"graph\" transform=\"scale(1.0 1.0) rotate(0) translate(4 86)\">\n",
       "<title>Return Cube schema</title>\n",
       "<polygon fill=\"white\" stroke=\"transparent\" points=\"-4,4 -4,-86 197,-86 197,4 -4,4\"/>\n",
       "<!-- Returns -->\n",
       "<g id=\"node1\" class=\"node\">\n",
       "<title>Returns</title>\n",
       "<text text-anchor=\"start\" x=\"73\" y=\"-62.6\" font-family=\"-apple-system, BlinkMacSystemFont, 'Segoe UI', Helvetica, Arial, sans-serif, 'Apple Color Emoji', 'Segoe UI Emoji', 'Segoe UI Symbol'\" font-weight=\"bold\" font-size=\"13.00\">Returns</text>\n",
       "<polygon fill=\"#f5f5f5\" stroke=\"transparent\" points=\"9.5,-29 9.5,-53 40.5,-53 40.5,-29 9.5,-29\"/>\n",
       "<polygon fill=\"#f5f5f5\" stroke=\"transparent\" points=\"40.5,-29 40.5,-53 129.5,-53 129.5,-29 40.5,-29\"/>\n",
       "<text text-anchor=\"start\" x=\"45.5\" y=\"-37.6\" font-family=\"-apple-system, BlinkMacSystemFont, 'Segoe UI', Helvetica, Arial, sans-serif, 'Apple Color Emoji', 'Segoe UI Emoji', 'Segoe UI Symbol'\" font-size=\"13.00\">returns_vector</text>\n",
       "<polygon fill=\"#f5f5f5\" stroke=\"transparent\" points=\"129.5,-29 129.5,-53 184.5,-53 184.5,-29 129.5,-29\"/>\n",
       "<text text-anchor=\"start\" x=\"134.5\" y=\"-38.6\" font-family=\"-apple-system, BlinkMacSystemFont, 'Segoe UI', Helvetica, Arial, sans-serif, 'Apple Color Emoji', 'Segoe UI Emoji', 'Segoe UI Symbol'\" font-style=\"italic\" font-size=\"13.00\">double[]</text>\n",
       "<polygon fill=\"#ffffff\" stroke=\"transparent\" points=\"9.5,-5 9.5,-29 40.5,-29 40.5,-5 9.5,-5\"/>\n",
       "<text text-anchor=\"start\" x=\"14.5\" y=\"-14.6\" font-family=\"-apple-system, BlinkMacSystemFont, 'Segoe UI', Helvetica, Arial, sans-serif, 'Apple Color Emoji', 'Segoe UI Emoji', 'Segoe UI Symbol'\" font-weight=\"bold\" font-size=\"13.00\">key</text>\n",
       "<polygon fill=\"#ffffff\" stroke=\"transparent\" points=\"40.5,-5 40.5,-29 129.5,-29 129.5,-5 40.5,-5\"/>\n",
       "<text text-anchor=\"start\" x=\"45.5\" y=\"-13.6\" font-family=\"-apple-system, BlinkMacSystemFont, 'Segoe UI', Helvetica, Arial, sans-serif, 'Apple Color Emoji', 'Segoe UI Emoji', 'Segoe UI Symbol'\" font-size=\"13.00\">symbol</text>\n",
       "<polygon fill=\"#ffffff\" stroke=\"transparent\" points=\"129.5,-5 129.5,-29 184.5,-29 184.5,-5 129.5,-5\"/>\n",
       "<text text-anchor=\"start\" x=\"146.5\" y=\"-14.6\" font-family=\"-apple-system, BlinkMacSystemFont, 'Segoe UI', Helvetica, Arial, sans-serif, 'Apple Color Emoji', 'Segoe UI Emoji', 'Segoe UI Symbol'\" font-style=\"italic\" font-size=\"13.00\">String</text>\n",
       "<polygon fill=\"none\" stroke=\"black\" points=\"8,-4 8,-78 185,-78 185,-4 8,-4\"/>\n",
       "</g>\n",
       "</g>\n",
       "</svg>"
      ],
      "text/plain": [
       "<IPython.core.display.SVG object>"
      ]
     },
     "execution_count": 28,
     "metadata": {},
     "output_type": "execute_result"
    }
   ],
   "source": [
    "# import graphviz\n",
    "cube.schema"
   ]
  },
  {
   "cell_type": "code",
   "execution_count": 29,
   "id": "3eeedd05",
   "metadata": {},
   "outputs": [],
   "source": [
    "# pip list"
   ]
  },
  {
   "cell_type": "code",
   "execution_count": 31,
   "id": "9d802d0b",
   "metadata": {
    "tags": []
   },
   "outputs": [
    {
     "name": "stderr",
     "output_type": "stream",
     "text": [
      "C:\\Users\\User\\AppData\\Local\\Temp/ipykernel_16792/3782030468.py:29: DeprecationWarning:\n",
      "\n",
      "`np.float` is a deprecated alias for the builtin `float`. To silence this warning, use `float` by itself. Doing this will not modify any behavior and is safe. If you specifically wanted the numpy scalar type, use `np.float64` here.\n",
      "Deprecated in NumPy 1.20; for more details and guidance: https://numpy.org/devdocs/release/1.20.0-notes.html#deprecations\n",
      "\n",
      "C:\\Users\\User\\AppData\\Local\\Programs\\Python\\Python39\\lib\\site-packages\\numpy\\lib\\shape_base.py:652: VisibleDeprecationWarning:\n",
      "\n",
      "Creating an ndarray from ragged nested sequences (which is a list-or-tuple of lists-or-tuples-or ndarrays with different lengths or shapes) is deprecated. If you meant to do this, you must specify 'dtype=object' when creating the ndarray.\n",
      "\n"
     ]
    },
    {
     "data": {
      "text/plain": [
       "[array([0.030069064674228246, 0.04642890530285115, 0.11292957064476775,\n",
       "        0.09193752214164405, 0.07912955791639639, 0.15802422244179481,\n",
       "        0.041613136826041515, 0.18409646954636288, 0.15805185936460214,\n",
       "        0.09771969114131097], dtype=object),\n",
       " 0.0010727285540891827,\n",
       " 0.011792294752171093,\n",
       " 0.09096860082230233,\n",
       " -0.01710400894121977]"
      ]
     },
     "metadata": {},
     "output_type": "display_data"
    },
    {
     "data": {
      "text/plain": [
       "[array([0.16675740194178573, 0.03436816822918109, 0.020821134058819118,\n",
       "        0.05840983910373055, 0.1066463458144166, 0.10905500693783275,\n",
       "        0.01914562381402587, 0.20307441728628542, 0.16402983841570104,\n",
       "        0.11769222439822197], dtype=object),\n",
       " 0.002198612311037016,\n",
       " 0.015040528355949215,\n",
       " 0.14617919390892703,\n",
       " 0.0264738965384773]"
      ]
     },
     "metadata": {},
     "output_type": "display_data"
    },
    {
     "data": {
      "text/plain": [
       "[array([0.17427049503741765, 0.2059876185092452, 0.05982286712434569,\n",
       "        0.0199711436317208, 0.05865251530887288, 0.1103347932236036,\n",
       "        0.19146563842994666, 0.012573056829683104, 0.027274066314131193,\n",
       "        0.13964780559103304], dtype=object),\n",
       " 0.0021113714288148048,\n",
       " 0.012260313360586526,\n",
       " 0.17221186495952645,\n",
       " -0.00534465506017767]"
      ]
     },
     "metadata": {},
     "output_type": "display_data"
    },
    {
     "data": {
      "text/plain": [
       "[array([0.23874732128317952, 0.005839979483459468, 0.21382940094632216,\n",
       "        0.07294775383537061, 0.10290232998005289, 0.12932532466779362,\n",
       "        0.020087279255613988, 0.03990351024905513, 0.169417606871457,\n",
       "        0.006999493427695727], dtype=object),\n",
       " 0.0021113714288148048,\n",
       " 0.012260313360586526,\n",
       " 0.17221186495952645,\n",
       " 0.02685556682654278]"
      ]
     },
     "metadata": {},
     "output_type": "display_data"
    },
    {
     "data": {
      "text/plain": [
       "[array([0.11505309118063478, 0.1304630490102172, 0.09041906133139703,\n",
       "        0.08605135525910503, 0.07088526338829276, 0.030327186577137188,\n",
       "        0.05750602431332664, 0.140039880040274, 0.11714527466967461,\n",
       "        0.16210981422994067], dtype=object),\n",
       " 0.0021113714288148048,\n",
       " 0.012260313360586526,\n",
       " 0.17221186495952645,\n",
       " -0.06873068260320739]"
      ]
     },
     "metadata": {},
     "output_type": "display_data"
    },
    {
     "data": {
      "text/plain": [
       "[array([0.17023936661610573, 0.07450304258956865, 0.05267038306034383,\n",
       "        0.24309890002893592, 0.014623962674037514, 0.13762057032226038,\n",
       "        0.16416144954788406, 0.06803468171184586, 0.0324672862354397,\n",
       "        0.04258035721357842], dtype=object),\n",
       " 0.0021113714288148048,\n",
       " 0.012260313360586526,\n",
       " 0.17221186495952645,\n",
       " -0.027518687934953285]"
      ]
     },
     "metadata": {},
     "output_type": "display_data"
    },
    {
     "data": {
      "text/plain": [
       "[array([0.1704358002665466, 0.08064330335483234, 0.10902713069154736,\n",
       "        0.004390993402219259, 0.12979870739223956, 0.12490289005147931,\n",
       "        0.15198535159845283, 0.06730709499611767, 0.022757210358479763,\n",
       "        0.1387515178880853], dtype=object),\n",
       " 0.0021113714288148048,\n",
       " 0.012260313360586526,\n",
       " 0.17221186495952645,\n",
       " -0.04561894359144346]"
      ]
     },
     "metadata": {},
     "output_type": "display_data"
    },
    {
     "data": {
      "text/plain": [
       "[array([0.1353844990051402, 0.01918165374478779, 0.0307949757411905,\n",
       "        0.15229263930021242, 0.1639002053204549, 0.0354029908465249,\n",
       "        0.16730259689576402, 0.20517582676121898, 0.005335562845126106,\n",
       "        0.0852290495395801], dtype=object),\n",
       " 0.0021113714288148048,\n",
       " 0.012260313360586526,\n",
       " 0.17221186495952645,\n",
       " -0.06145682844558753]"
      ]
     },
     "metadata": {},
     "output_type": "display_data"
    },
    {
     "data": {
      "text/plain": [
       "[array([0.1431720739808797, 0.01410974110755423, 0.12405960698456005,\n",
       "        0.09527909062250586, 0.10916212440467862, 0.013921830091252837,\n",
       "        0.11511235395793577, 0.13539107486376606, 0.0541378380434421,\n",
       "        0.19565426594342467], dtype=object),\n",
       " 0.0021113714288148048,\n",
       " 0.012260313360586526,\n",
       " 0.17221186495952645,\n",
       " 0.05361737001026868]"
      ]
     },
     "metadata": {},
     "output_type": "display_data"
    },
    {
     "data": {
      "text/plain": [
       "[array([0.11995795397958574, 0.20814745947356617, 0.19041436504787024,\n",
       "        0.013804395343400501, 0.07136264358730367, 0.2240914215325787,\n",
       "        0.05145464131774163, 0.04949453765361544, 0.010082903180098975,\n",
       "        0.06118967888423882], dtype=object),\n",
       " 0.0021113714288148048,\n",
       " 0.012260313360586526,\n",
       " 0.17221186495952645,\n",
       " -0.028224392051380002]"
      ]
     },
     "metadata": {},
     "output_type": "display_data"
    },
    {
     "data": {
      "text/plain": [
       "[array([0.05648194981429017, 0.06088306645219095, 0.05993294891398829,\n",
       "        0.14908504733668365, 0.19496496684632464, 0.012430452268608025,\n",
       "        0.008120093615495766, 0.077341880770612, 0.08667928544260985,\n",
       "        0.29408030853919653], dtype=object),\n",
       " 0.0021113714288148048,\n",
       " 0.012260313360586526,\n",
       " 0.17221186495952645,\n",
       " -0.016434727727578622]"
      ]
     },
     "metadata": {},
     "output_type": "display_data"
    },
    {
     "data": {
      "text/plain": [
       "[array([0.05126579323614416, 0.07253044469807501, 0.06431924786755373,\n",
       "        0.1636038684424654, 0.15315348328537431, 0.10512847279393563,\n",
       "        0.07524848923106928, 0.09587610690290695, 0.13370443195194232,\n",
       "        0.08516966159053323], dtype=object),\n",
       " 0.0021113714288148048,\n",
       " 0.012260313360586526,\n",
       " 0.17221186495952645,\n",
       " -0.11066081659656159]"
      ]
     },
     "metadata": {},
     "output_type": "display_data"
    },
    {
     "data": {
      "text/plain": [
       "[array([0.05664173381762116, 0.04418442339715443, 0.09056614744050374,\n",
       "        0.12916523362808435, 0.1482083876623946, 0.09597347790440888,\n",
       "        0.07034095469348037, 0.15628424085684137, 0.07145567732119588,\n",
       "        0.13717972327831515], dtype=object),\n",
       " 0.0021113714288148048,\n",
       " 0.012260313360586526,\n",
       " 0.17221186495952645,\n",
       " 0.025853271186752194]"
      ]
     },
     "metadata": {},
     "output_type": "display_data"
    },
    {
     "data": {
      "text/plain": [
       "[array([0.1287226745541661, 0.0586701076377336, 0.008035909504255387,\n",
       "        0.1257784696834641, 0.08772116419493907, 0.1568829932030582,\n",
       "        0.06266286692066154, 0.15214355671243956, 0.15745695874056387,\n",
       "        0.06192529884871869], dtype=object),\n",
       " 0.0021751191678416474,\n",
       " 0.011840119460759057,\n",
       " 0.18370753564189146,\n",
       " 0.004740443302371826]"
      ]
     },
     "metadata": {},
     "output_type": "display_data"
    },
    {
     "data": {
      "text/plain": [
       "[array([0.13336434391076418, 0.042651276204309405, 0.10045582123464177,\n",
       "        0.14580364355821201, 0.1357468378652764, 0.05261728303919558,\n",
       "        0.08879786853080929, 0.13633727624623446, 0.13931230762532026,\n",
       "        0.02491334178523674], dtype=object),\n",
       " 0.0021751191678416474,\n",
       " 0.011840119460759057,\n",
       " 0.18370753564189146,\n",
       " -0.0541671529908538]"
      ]
     },
     "metadata": {},
     "output_type": "display_data"
    },
    {
     "data": {
      "text/plain": [
       "[array([0.1397851381820345, 0.17283569550766067, 0.061676227897187935,\n",
       "        0.23826593157633574, 0.08331346963504244, 0.14404745771431313,\n",
       "        0.018593975658724598, 0.0009647565019655441, 0.054052792774545645,\n",
       "        0.08646455455218975], dtype=object),\n",
       " 0.0023911987291087597,\n",
       " 0.011632405797057528,\n",
       " 0.20556355846127933,\n",
       " 0.04349804526765896]"
      ]
     },
     "metadata": {},
     "output_type": "display_data"
    },
    {
     "data": {
      "text/plain": [
       "[array([0.22597943457300598, 0.022708352733823763, 0.05778316761709947,\n",
       "        0.11590044881519727, 0.05267756306945163, 0.16392081475899473,\n",
       "        0.04253449717062364, 0.14450436726013605, 0.03906171783523334,\n",
       "        0.13492963616643422], dtype=object),\n",
       " 0.0023911987291087597,\n",
       " 0.011632405797057528,\n",
       " 0.20556355846127933,\n",
       " 0.0019311664930726762]"
      ]
     },
     "metadata": {},
     "output_type": "display_data"
    },
    {
     "data": {
      "text/plain": [
       "[array([0.15972421844900334, 0.0765936536014917, 0.059742315099870213,\n",
       "        0.12244352392361049, 0.029407752645899645, 0.06225469867687381,\n",
       "        0.15502170596008227, 0.051087341676475696, 0.14910263648668912,\n",
       "        0.13462215348000384], dtype=object),\n",
       " 0.0023911987291087597,\n",
       " 0.011632405797057528,\n",
       " 0.20556355846127933,\n",
       " -0.011220273343675159]"
      ]
     },
     "metadata": {},
     "output_type": "display_data"
    },
    {
     "data": {
      "text/plain": [
       "[array([0.1324607198232896, 0.05384743445970713, 0.04756628954524833,\n",
       "        0.17323687005117866, 0.07324209677300668, 0.14138288949731623,\n",
       "        0.10041163359594615, 0.018257352554332792, 0.13269997856401486,\n",
       "        0.12689473513595947], dtype=object),\n",
       " 0.0023911987291087597,\n",
       " 0.011632405797057528,\n",
       " 0.20556355846127933,\n",
       " 0.013235181713809063]"
      ]
     },
     "metadata": {},
     "output_type": "display_data"
    },
    {
     "data": {
      "text/plain": [
       "[array([0.054046295616525845, 0.17753407025417414, 0.19166398875093543,\n",
       "        0.08857281457325804, 0.04698558940419119, 0.09100241059724973,\n",
       "        0.04049206505055273, 0.17111339787405716, 0.025598504792827288,\n",
       "        0.11299086308622834], dtype=object),\n",
       " 0.0023911987291087597,\n",
       " 0.011632405797057528,\n",
       " 0.20556355846127933,\n",
       " -0.012050027446311075]"
      ]
     },
     "metadata": {},
     "output_type": "display_data"
    }
   ],
   "source": [
    "# years = 10\n",
    "\n",
    "import contextlib\n",
    "\n",
    "stocksp = 0.2\n",
    "mfundsp = 0.1\n",
    "bondsp = 0.2\n",
    "commp = 0.2\n",
    "\n",
    "n_portfolio = 100\n",
    "\n",
    "bestSharpe = 0\n",
    "runs = 0\n",
    "weight = None\n",
    "bestMean = 0\n",
    "bestStd = 0\n",
    "means = np.array([])\n",
    "stds = np.array([])\n",
    "sharpes = np.array([])\n",
    "bestWeights = None\n",
    "weights = np.array([])\n",
    "\n",
    "# random dates using X_index\n",
    "\n",
    "randomSet = list(np.sort(np.random.choice(range(0, len(Training)), nran)))\n",
    "\n",
    "for tensor in randomSet:\n",
    "\n",
    "    randomsymbols = list(np.random.choice(pf.data.columns, 10, replace=False))\n",
    "    # random columns\n",
    "    stocks = returns.loc[[i[0] for i in Training[tensor]]][randomsymbols]\n",
    "\n",
    "    return_vec = np.array(stocks)\n",
    "\n",
    "    # display(pd.DataFrame(stocks.cumsum().iloc[-1]).transpose())\n",
    "\n",
    "    for _ in range(n_portfolio):\n",
    "        means2, stds2, sharpes2, weights2 = np.column_stack(\n",
    "            [random_portfolio(return_vec) for _ in range(len(stocks.columns))]\n",
    "        )\n",
    "        means_ = means2\n",
    "        stds_ = stds2\n",
    "        sharpes_ = sharpes2\n",
    "        weights_ = weights2\n",
    "\n",
    "        bestWeights = weights_[sharpes_.argmax()]\n",
    "\n",
    "        means = np.append(means, means_)\n",
    "        stds = np.append(stds, stds_)\n",
    "        sharpes = np.append(sharpes, sharpes_)\n",
    "        weights = np.append(weights, weights_)\n",
    "\n",
    "    df_ = pd.DataFrame(weights[sharpes.argmax()]).set_index(stocks.columns)\n",
    "    df_.columns = [\"Weights\"]\n",
    "\n",
    "    next4weeks = returns.loc[[i[0] for i in Holdout[tensor]]][randomsymbols]\n",
    "\n",
    "    df_.sort_values(by=[\"Weights\"], ascending=False, inplace=True)\n",
    "\n",
    "    wr = np.array(\n",
    "        weighted_return(\n",
    "            np.array((np.exp(next4weeks) - 1).cumsum().tail(1)),\n",
    "            weights[sharpes.argmax()],\n",
    "        )\n",
    "    )[0][0]\n",
    "\n",
    "    max_sr_ret = means[sharpes.argmax()]\n",
    "    max_sr_vol = stds[sharpes.argmax()]\n",
    "    max_sharpe = sharpes[sharpes.argmax()]\n",
    "\n",
    "    display([bestWeights, max_sr_ret, max_sr_vol, max_sharpe, wr])"
   ]
  },
  {
   "cell_type": "code",
   "execution_count": null,
   "id": "cf2e2d1f",
   "metadata": {},
   "outputs": [],
   "source": []
  },
  {
   "cell_type": "code",
   "execution_count": null,
   "id": "5c3f8e46",
   "metadata": {},
   "outputs": [],
   "source": [
    "cube.create_parameter_hierarchy_from_members(\n",
    "    \"Dates\", ret[\"Date\"].tolist(), index_measure_name=\"Date Index\"\n",
    ")\n",
    "\n",
    "# Setting the hierarchy to non-slicing, as required by\n",
    "# the max_member aggregation function - see later - this behavior might change in future versions.\n",
    "h[\"Dates\"].slicing = False"
   ]
  },
  {
   "cell_type": "code",
   "execution_count": null,
   "id": "9a33d2ec",
   "metadata": {},
   "outputs": [],
   "source": [
    "cube.schema"
   ]
  },
  {
   "cell_type": "code",
   "execution_count": null,
   "id": "b5036d8d",
   "metadata": {},
   "outputs": [],
   "source": [
    "m[\"daily returns\"] = m[\"returns_vector.SUM\"][m[\"Date Index\"]]\n",
    "m[\"daily returns\"].formatter = \"DOUBLE[#,###.0000000000]\""
   ]
  },
  {
   "cell_type": "code",
   "execution_count": null,
   "id": "abde1723",
   "metadata": {
    "atoti": {
     "height": 437,
     "widget": {
      "filters": [],
      "mapping": {
       "columns": [
        "ALL_MEASURES"
       ],
       "measures": [
        "[Measures].[daily returns]",
        "[Measures].[contributors.COUNT]"
       ],
       "rows": [
        "[Returns].[symbol].[symbol] => [Dates].[Dates].[Dates]"
       ]
      },
      "query": {
       "mdx": "SELECT NON EMPTY {[Measures].[daily returns], [Measures].[contributors.COUNT]} ON COLUMNS, NON EMPTY Hierarchize(Descendants({[Returns].[symbol].[AllMember]}, 1, SELF_AND_BEFORE)) ON ROWS FROM [Return Cube]",
       "updateMode": "once"
      },
      "serverKey": "default",
      "widgetKey": "pivot-table"
     }
    },
    "tags": []
   },
   "outputs": [],
   "source": [
    "session.visualize(\"Daily returns\")"
   ]
  }
 ],
 "metadata": {
  "kernelspec": {
   "display_name": "Python 3 (ipykernel)",
   "language": "python",
   "name": "python3"
  },
  "language_info": {
   "codemirror_mode": {
    "name": "ipython",
    "version": 3
   },
   "file_extension": ".py",
   "mimetype": "text/x-python",
   "name": "python",
   "nbconvert_exporter": "python",
   "pygments_lexer": "ipython3",
   "version": "3.9.7"
  }
 },
 "nbformat": 4,
 "nbformat_minor": 5
}
