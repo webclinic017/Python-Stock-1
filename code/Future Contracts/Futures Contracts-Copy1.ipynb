{
 "cells": [
  {
   "cell_type": "code",
   "execution_count": 18,
   "id": "2ed0083e-146a-48fd-be04-5d3d5b2e8fd7",
   "metadata": {},
   "outputs": [],
   "source": [
    "from ibapi.client import EClient\n",
    "from ibapi.wrapper import EWrapper\n",
    "from ibapi.common import *\n",
    "from ibapi.contract import *\n",
    "from ContractSamples import ContractSamples\n",
    "import pandas as pd\n",
    "\n",
    "\n",
    "class TestApp(EClient, EWrapper):\n",
    "    def __init__(self):\n",
    "        EClient.__init__(self, self)\n",
    "        self.contract_details = {} #Contract details will be stored here using reqId as a dictionary key\n",
    "\n",
    "    def nextValidId(self, orderId:int):\n",
    "        print(\"id\", orderId)                \n",
    "        \n",
    "        self.reqContractDetails(0, contract)\n",
    "\n",
    "    def error(self, reqId:TickerId, errorCode:int, errorString:str):\n",
    "        print(\"Error: \", reqId, \"\", errorCode, \"\", errorString)    \n",
    "    \n",
    "    def contractDetails(self, reqId:int, contractDetails:ContractDetails):\n",
    "        #print(type(contractDetails))        \n",
    "        print(\"contractDetail: \", reqId, \"6,7,8,9\", contractDetails)\n",
    "    \n",
    "    def contractDetailsEnd(self, reqId:int):\n",
    "        print(\"end, disconnecting\")\n",
    "        self.disconnect()\n",
    "\n",
    "    def historicalData(self, reqId, bar):\n",
    "        print(\"HistoricalData. \", reqId, \" Date:\", bar.date, \"Open:\", bar.open, \"High:\", bar.high, \"Low:\", bar.low, \"Close:\", bar.close, \"Volume:\", bar.volum, \"Count:\", bar.barCount)        \n",
    "\n",
    "def main():\n",
    "    app = TestApp()\n",
    "\n",
    "    app.connect(\"127.0.0.1\", 7497, 0)\n",
    "    contract = Contract()\n",
    "    contract.symbol = \"ES\"\n",
    "    contract.secType = \"FUT\"\n",
    "    contract.exchange = \"GLOBEX\"\n",
    "    contract.currency = \"USD\"\n",
    "    \n",
    "    #contract.primaryExchange = \"NASDAQ\"\n",
    "    app.reqMarketDataType(3)\n",
    "    app.reqHistoricalData(0, contract, \"20220501\", \"100 D\", \"1 D\", \"TRADES\", 0, 1, False, [])\n",
    "    app.run()\n",
    "\n",
    "if __name__ == \"__main__\":\n",
    "    main()"
   ]
  },
  {
   "cell_type": "code",
   "execution_count": 11,
   "id": "20f85fbc-0cb9-464c-b5c0-5e23dd4d5184",
   "metadata": {},
   "outputs": [],
   "source": []
  }
 ],
 "metadata": {
  "kernelspec": {
   "display_name": "Python 3 (ipykernel)",
   "language": "python",
   "name": "python3"
  },
  "language_info": {
   "codemirror_mode": {
    "name": "ipython",
    "version": 3
   },
   "file_extension": ".py",
   "mimetype": "text/x-python",
   "name": "python",
   "nbconvert_exporter": "python",
   "pygments_lexer": "ipython3",
   "version": "3.9.7"
  }
 },
 "nbformat": 4,
 "nbformat_minor": 5
}
