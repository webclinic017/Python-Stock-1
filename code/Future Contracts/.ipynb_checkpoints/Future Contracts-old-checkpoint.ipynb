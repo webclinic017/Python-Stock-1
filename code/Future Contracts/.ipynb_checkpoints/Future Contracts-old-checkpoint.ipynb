{
 "cells": [
  {
   "cell_type": "code",
   "execution_count": 18,
   "id": "c4249974-b220-474f-879a-32398908e27c",
   "metadata": {},
   "outputs": [
    {
     "name": "stderr",
     "output_type": "stream",
     "text": [
      "ERROR -1 2104 Market data farm connection is OK:usfarm.nj\n",
      "ERROR -1 2104 Market data farm connection is OK:cashfarm\n",
      "ERROR -1 2104 Market data farm connection is OK:usfarm\n",
      "ERROR -1 2106 HMDS data farm connection is OK:ushmds.nj\n",
      "ERROR -1 2106 HMDS data farm connection is OK:ushmds\n",
      "ERROR -1 2158 Sec-def data farm connection is OK:secdefil\n",
      "ERROR 1 200 No security definition has been found for the request\n"
     ]
    }
   ],
   "source": [
    "from ibapi.client import EClient\n",
    "from ibapi.wrapper import EWrapper\n",
    "from ibapi.contract import Contract\n",
    "from ibapi.ticktype import TickTypeEnum\n",
    "\n",
    "import threading\n",
    "import time\n",
    "\n",
    "\n",
    "class IBapi(EWrapper, EClient):\n",
    "    def __init__(self):\n",
    "        EClient.__init__(self, self)\n",
    "    def tickPrice(self, reqId, tickType, price, attrib):\n",
    "        print(\"Tick Price. Ticker Id:\", reqId, \"tickType:\", TickTypeEnum.to_str(tickType), \"Price:\", price, end=' ')\n",
    "        \"\"\"\n",
    "        if tickType == 2 and reqId == 1:\n",
    "            print('The current ask price is: ', price)\n",
    "        \"\"\"\n",
    "\n",
    "def run_loop():\n",
    "\tapp.run()\n",
    "\n",
    "app = IBapi()\n",
    "app.connect('127.0.0.1', 7497, 123)\n",
    "#app.connect('127.0.0.1',4002,101)\n",
    "#app.connect('127.0.0.1',4002,123)\n",
    "\n",
    "#Start the socket in a thread\n",
    "api_thread = threading.Thread(target=run_loop, daemon=True)\n",
    "api_thread.start()\n",
    "\n",
    "time.sleep(1) #Sleep interval to allow time for connection to server\n",
    "\n",
    "#Create contract object\n",
    "apple_contract = Contract()\n",
    "apple_contract.symbol = 'AAPL'\n",
    "apple_contract.secType = 'STK'\n",
    "apple_contract.exchange = 'SMART'\n",
    "apple_contract.currency = 'USD'\n",
    "apple_contract.primaryExchange = 'NASDAQ'\n",
    "\n",
    "contract = Contract()\n",
    "contract.symbol = \"DAX\"\n",
    "contract.secType = \"FUT\"\n",
    "contract.exchange = \"DTB\"\n",
    "contract.currency = \"EUR\"\n",
    "contract.lastTradeDateOrContractMonth = \"201903\"\n",
    "contract.multiplier = \"5\"\n",
    "\n",
    "#Request Market Data\n",
    "#app.reqMktData(1, apple_contract, '', False, False, [])\n",
    "#snapshot\n",
    "#app.reqMarketDataType(4)\n",
    "#app.reqMktData(1, apple_contract, '', False, False, [])\n",
    "\n",
    "app.reqContractDetails(1,contract)\n",
    "app.contractDetails(1,contract)\n",
    "\n",
    "time.sleep(10) #Sleep interval to allow time for incoming price data\n",
    "app.disconnect()"
   ]
  },
  {
   "cell_type": "code",
   "execution_count": null,
   "id": "9682f09e-a5a8-4c98-be90-d73373a4d482",
   "metadata": {},
   "outputs": [],
   "source": [
    "\""
   ]
  }
 ],
 "metadata": {
  "kernelspec": {
   "display_name": "Python 3 (ipykernel)",
   "language": "python",
   "name": "python3"
  },
  "language_info": {
   "codemirror_mode": {
    "name": "ipython",
    "version": 3
   },
   "file_extension": ".py",
   "mimetype": "text/x-python",
   "name": "python",
   "nbconvert_exporter": "python",
   "pygments_lexer": "ipython3",
   "version": "3.9.7"
  }
 },
 "nbformat": 4,
 "nbformat_minor": 5
}
