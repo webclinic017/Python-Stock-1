{
 "cells": [
  {
   "cell_type": "code",
   "execution_count": null,
   "id": "0687cbda-a661-44d4-97af-2966791e330b",
   "metadata": {},
   "outputs": [],
   "source": [
    "import pandas_datareader as web\n",
    "import matplotlib.pyplot as plt\n",
    "import pandas as pd\n",
    "from dask.distributed import Client\n",
    "from dask.distributed import as_completed\n",
    "import pandas_market_calendars as mcal\n",
    "from sklearn.model_selection import KFold\n",
    "from sklearn.linear_model import LinearRegression\n",
    "import numpy as np\n",
    "import statsmodels.api as sm\n",
    "\n",
    "from dask.distributed import Client\n",
    "from dask.distributed import as_completed\n",
    "\n",
    "pd.set_option(\"max_rows\", 10)"
   ]
  },
  {
   "cell_type": "code",
   "execution_count": null,
   "id": "897c307b-567d-459d-b2ba-6f3f11ec9491",
   "metadata": {},
   "outputs": [],
   "source": [
    "sp500 = web.DataReader(\"^GSPC\", \"yahoo\")\n",
    "vix = web.DataReader(\"VIXCLS\",\"fred\")\n",
    "T10Y3M = web.DataReader(\"T10Y3M\",\"fred\")\n",
    "FEDFUNDS = web.DataReader(\"FEDFUNDS\",\"fred\")\n"
   ]
  },
  {
   "cell_type": "code",
   "execution_count": null,
   "id": "aeabb1b9-3893-4c0a-8da9-1852bd18a5a5",
   "metadata": {},
   "outputs": [],
   "source": [
    "tickers = ['^FTSE', '^N225', '^GDAXI', '^FCHI', '^HSI', '^BVSP',\n",
    "                   '^RUT', 'IXY', 'IXR', 'IXE', 'IXM', 'IXV', 'IXT',\n",
    "                   'IXB', 'IXU', '^IRX', '^FVX', '^TNX', '^TYX', 'VWEHX',\n",
    "                   'VFSTX', 'VWESX']\n",
    "\n",
    "\"\"\"\n",
    "def process_data(ticker):\n",
    "    df = web.DataReader(ticker, \"yahoo\")\n",
    "    return(df)\n",
    "\n",
    "client = Client('192.168.3.100:8786',timeout=3)\n",
    "\n",
    "future_ = client.map(process_data,tickers)\n",
    "results = list()\n",
    "\n",
    "for f in as_completed(future_):\n",
    "        if(f.status==\"error\"):\n",
    "            results.append(\"error\")\n",
    "        else:\n",
    "            results.append(f.result())     \n",
    "\n",
    "client.close()\n",
    "\"\"\""
   ]
  },
  {
   "cell_type": "code",
   "execution_count": null,
   "id": "67276886-3509-4b76-a663-80ee55ea2942",
   "metadata": {},
   "outputs": [],
   "source": []
  },
  {
   "cell_type": "code",
   "execution_count": null,
   "id": "e4332d00-62d5-483b-893e-fe78a2a4a268",
   "metadata": {},
   "outputs": [],
   "source": []
  },
  {
   "cell_type": "code",
   "execution_count": null,
   "id": "f3e3425f-84ec-496e-aace-56eefcf48592",
   "metadata": {},
   "outputs": [],
   "source": []
  },
  {
   "cell_type": "code",
   "execution_count": null,
   "id": "bce94ff8-ac1e-4f58-9043-931093b92fca",
   "metadata": {},
   "outputs": [],
   "source": [
    "nyse = mcal.get_calendar('NYSE')\n",
    "early = nyse.schedule(start_date=sp500.index[0].strftime('%Y-%m-%d'), end_date=sp500.index[-1].strftime('%Y-%m-%d'))"
   ]
  },
  {
   "cell_type": "code",
   "execution_count": null,
   "id": "055131dc-4f59-4363-be0e-1c5c3510d192",
   "metadata": {},
   "outputs": [],
   "source": [
    "#ax2=ax.twinx()\n",
    "\n",
    "# create figure and axis objects with subplots()\n",
    "fig,ax2=plt.subplots()\n",
    "\n",
    "ax2.plot(T10Y3M.index,T10Y3M.replace([np.inf, -np.inf], 0))\n",
    "#plt.set_xlabel(\"T10Y3M\")\n",
    "ax2.set_ylabel(\"T10Y3M\")\n",
    "#ax2.set_ylabel(\"lifeExp\")\n",
    "\n",
    "\n",
    "ax2.plot(T10Y3M.index,T10Y3M.pct_change().replace([np.inf, -np.inf]))\n",
    "#ax.set_xlabel(\"10Y3M-Delta\")\n",
    "plt.show()\n"
   ]
  },
  {
   "cell_type": "code",
   "execution_count": null,
   "id": "62676290-8e46-4261-a45f-7f41eebce9a3",
   "metadata": {},
   "outputs": [],
   "source": []
  },
  {
   "cell_type": "code",
   "execution_count": null,
   "id": "647b58ac-6864-4aec-b94e-21b877a97675",
   "metadata": {},
   "outputs": [],
   "source": [
    "newData = pd.concat([vix.reindex(early.index),T10Y3M.reindex(early.index),sp500.reindex(early.index)['Adj Close'],FEDFUNDS.reindex(early.index)],axis=1).interpolate(method='time')"
   ]
  },
  {
   "cell_type": "code",
   "execution_count": null,
   "id": "a83756ea-3aeb-4cb6-8701-b8b272cfa6bf",
   "metadata": {},
   "outputs": [],
   "source": [
    "newData.corr()"
   ]
  },
  {
   "cell_type": "code",
   "execution_count": null,
   "id": "1d127530-7d0e-4998-abae-08042c9309c6",
   "metadata": {},
   "outputs": [],
   "source": [
    "newDataDelta = newData.pct_change().replace([np.inf, -np.inf], 0).dropna()\n",
    "newDataDelta.corr()"
   ]
  },
  {
   "cell_type": "code",
   "execution_count": null,
   "id": "812edbbc-310c-457e-9793-794caad4a144",
   "metadata": {},
   "outputs": [],
   "source": []
  },
  {
   "cell_type": "code",
   "execution_count": null,
   "id": "f6ebec25-09ad-4b75-b811-923550e96f1e",
   "metadata": {},
   "outputs": [],
   "source": []
  },
  {
   "cell_type": "code",
   "execution_count": null,
   "id": "e40254cc-9f86-43ef-810f-74fe92075e14",
   "metadata": {},
   "outputs": [],
   "source": [
    "# create figure and axis objects with subplots()\n",
    "fig,ax = plt.subplots()\n",
    "# make a plot\n",
    "\n",
    "# make a plot with different y-axis using second axis object\n",
    "#ax2.plot(sp500.index, sp500['Adj Close'].diff(), marker=\".\",color=\"yellow\")\n",
    "ax.plot(newDataDelta.index, newDataDelta['Adj Close'].pct_change(), marker=\".\",color=\"blue\")\n",
    "ax.set_ylabel(\"SP500\",color=\"blue\",fontsize=8)\n",
    "\n",
    "ax3=ax.twinx()\n",
    "# make a plot with different y-axis using second axis object\n",
    "#ax2.plot(sp500.index, sp500['Adj Close'].diff(), marker=\".\",color=\"yellow\")\n",
    "ax3.plot(newDataDelta.index, newDataDelta['T10Y3M'].pct_change(), marker=\".\",color=\"green\")\n",
    "ax3.set_ylabel(\"T10Y3M\",color=\"green\",fontsize=8)\n",
    "plt.show()\n",
    "\n",
    "fig,ax = plt.subplots()\n",
    "# make a plot\n",
    "\n",
    "# make a plot with different y-axis using second axis object\n",
    "#ax2.plot(sp500.index, sp500['Adj Close'].diff(), marker=\".\",color=\"yellow\")\n",
    "ax.plot(newDataDelta.index, newDataDelta['Adj Close'].pct_change(), marker=\".\",color=\"blue\")\n",
    "ax.set_ylabel(\"SP500\",color=\"blue\",fontsize=8)\n",
    "\n",
    "ax2=ax.twinx()\n",
    "\n",
    "ax2.plot(newDataDelta.index, newDataDelta['VIXCLS'].pct_change(), marker=\".\", color=\"red\")\n",
    "# set x-axis label\n",
    "#ax.set_xlabel(\"year\",fontsize=14)\n",
    "# set y-axis label\n",
    "ax2.set_ylabel(\"VIX\",color=\"red\",fontsize=8)\n",
    "\n",
    "plt.show()\n",
    "\n",
    "\n",
    "\n",
    "#plt.scatter(newDataDelta['Adj Close'].pct_change(),newDataDelta['T10Y3M'].pct_change())\n",
    "#plt.show()"
   ]
  },
  {
   "cell_type": "code",
   "execution_count": null,
   "id": "be71c442-4dab-42ba-bedc-9802df0037fe",
   "metadata": {},
   "outputs": [],
   "source": []
  },
  {
   "cell_type": "code",
   "execution_count": null,
   "id": "c02e2f06-cf9f-4301-a286-e1829836ef4c",
   "metadata": {},
   "outputs": [],
   "source": [
    "newDataDelta.columns"
   ]
  },
  {
   "cell_type": "code",
   "execution_count": null,
   "id": "424e3b99-d9cd-43b8-b947-b63254c0ab92",
   "metadata": {},
   "outputs": [],
   "source": []
  },
  {
   "cell_type": "code",
   "execution_count": null,
   "id": "ee7bfa1a-8645-41b0-9619-8381a00aed2e",
   "metadata": {},
   "outputs": [],
   "source": [
    "\n",
    "scores = []\n",
    "\n",
    "corrscores = []\n",
    "\n",
    "scores = []\n",
    "\n",
    "def compare_x_lag_y(npa_):\n",
    "                \n",
    "    k_=10\n",
    "\n",
    "    cv_outer = KFold(n_splits=k_, shuffle=False)\n",
    "    cv_inner = KFold(n_splits=k_, shuffle=False)\n",
    "\n",
    "    i = npa_[0]\n",
    "    sp500_ = npa_[1]\n",
    "    vix_ = npa_[2]\n",
    "    formula = npa_[3]\n",
    "    \n",
    "    #default\n",
    "    if(formula==0):\n",
    "        combined = pd.concat([vix_.reindex(early.index),sp500_.reindex(early.index)['Adj Close'].shift(i)],axis=1).interpolate(method='time').dropna()\n",
    "    #sp500 differenced twice\n",
    "    if(formula==1):\n",
    "        combined = pd.concat([vix_.reindex(early.index),sp500_.reindex(early.index)['Adj Close'].pct_change().shift(i)],axis=1).interpolate(method='time').dropna()\n",
    "        \n",
    "\n",
    "    corrscores.append(combined.corr())\n",
    "    \n",
    "    X=combined[['VIXCLS']]\n",
    "    y=combined[['Adj Close']]\n",
    "\n",
    "    outer_results = list()\n",
    "\n",
    "    for trainv_ix, test_ix in cv_outer.split(X):\n",
    "        # split data\n",
    "        X_trainv, X_test = X.iloc[trainv_ix], X.iloc[test_ix, :]\n",
    "        y_trainv, y_test = y.iloc[trainv_ix], y.iloc[test_ix]\n",
    "\n",
    "        inner_results = list()\n",
    "        inner_models = list()\n",
    "\n",
    "        #good juncture to fork locally\n",
    "        for train_ix, valid_ix in cv_inner.split(X_trainv):\n",
    "            # split data\n",
    "            X_train, X_valid = X_trainv.iloc[train_ix, :], X_trainv.iloc[valid_ix, :]\n",
    "            y_train, y_valid = y_trainv.iloc[train_ix], y_trainv.iloc[valid_ix]\n",
    "            model = LinearRegression()\n",
    "            #just getting hyper-parm's (fit)\n",
    "            lm = model.fit(X_train,y_train)\n",
    "            inner_models.append(lm)\n",
    "\n",
    "            #print(pd.concat([X_train,y_train],axis=1).corr())\n",
    "            #print(lm.coef_)\n",
    "            #yhat = gam.predict(X_valid[t])\n",
    "            # evaluate the model\n",
    "            #acc = np.mean(abs(y_valid.values.ravel()-yhat))\n",
    "            # store the result\n",
    "            #inner_results.append(acc)\n",
    "\n",
    "        #good juncture to fork locally\n",
    "        model_scores = list()\n",
    "\n",
    "        #test inner model as ansemble\n",
    "        for m in inner_models:\n",
    "            model_scores.append(np.mean(abs(m.predict(X_test)-y_test.values.ravel())))\n",
    "\n",
    "        #average internal model results and report as outer_result which*\n",
    "        outer_results.append(np.mean(np.abs(model_scores)))\n",
    "\n",
    "        #print('I Accuracy: %.3f (%.3f)' % (mean(inner_results), std(inner_results)))\n",
    "\n",
    "    #*will in turn be averaged over all folds to determine that combination of term's outer score (real world performance, which will be our model evaluating metric).\n",
    "    score = [np.mean(outer_results), np.std(outer_results)]\n",
    "    #scores.append(([i,score]))\n",
    "    return([i,score])\n",
    "    \n",
    "#for i in range(-92,92,1):\n"
   ]
  },
  {
   "cell_type": "code",
   "execution_count": null,
   "id": "bb0100aa-d6d1-4364-8bc6-af2c157f562c",
   "metadata": {},
   "outputs": [],
   "source": []
  },
  {
   "cell_type": "code",
   "execution_count": null,
   "id": "704d46b1-5758-446a-9828-279d9d482827",
   "metadata": {},
   "outputs": [],
   "source": []
  },
  {
   "cell_type": "code",
   "execution_count": null,
   "id": "12f35f0f-a56e-4a7b-8c86-f3a9fef069dd",
   "metadata": {},
   "outputs": [],
   "source": []
  },
  {
   "cell_type": "code",
   "execution_count": null,
   "id": "9c8ff156-ac14-434b-a642-5cb13ed84ee1",
   "metadata": {},
   "outputs": [],
   "source": []
  },
  {
   "cell_type": "code",
   "execution_count": null,
   "id": "642d18bb-b1f1-4544-99e0-bb39223512cb",
   "metadata": {},
   "outputs": [],
   "source": [
    "npa0 = []\n",
    "\n",
    "for t in range(-92,0,1):\n",
    "    npa0.append([t,newDataDelta[['Adj Close']],newDataDelta[['VIXCLS']],0])\n",
    "#print(npa)\n",
    "\n",
    "compare_x_lag_y(npa0[0])\n",
    "\n",
    "client0 = Client('192.168.3.100:8786')\n",
    "#client.restart()\n",
    "\n",
    "future0 = client0.map(compare_x_lag_y, npa0)\n",
    "\n",
    "results0 = client0.gather(future0)\n",
    "\n",
    "plt.plot(pd.DataFrame([r[1][0] for r in results0]).set_index(np.array(range(-92,0,1))))\n",
    "plt.show()\n"
   ]
  },
  {
   "cell_type": "code",
   "execution_count": null,
   "id": "70af7963-95ca-4e73-9915-039dcf07e6b5",
   "metadata": {},
   "outputs": [],
   "source": [
    "results0"
   ]
  },
  {
   "cell_type": "code",
   "execution_count": null,
   "id": "cf7ce9d4-c024-492c-b39a-6c4950319eee",
   "metadata": {},
   "outputs": [],
   "source": [
    "np.array(range(-92,0,1))"
   ]
  },
  {
   "cell_type": "code",
   "execution_count": null,
   "id": "f3277530-2e9f-450d-a639-68af0a32aa24",
   "metadata": {},
   "outputs": [],
   "source": [
    "len(range(-92,0,1))"
   ]
  },
  {
   "cell_type": "code",
   "execution_count": null,
   "id": "13b40863-965a-433b-b36c-31ebbfc7691a",
   "metadata": {},
   "outputs": [],
   "source": [
    "lag = range(-92,0,1)[np.argmin([r[1][0] for r in results0])]"
   ]
  },
  {
   "cell_type": "code",
   "execution_count": null,
   "id": "ae68d803-8098-4070-81e4-d0fb292fcc02",
   "metadata": {},
   "outputs": [],
   "source": []
  },
  {
   "cell_type": "code",
   "execution_count": null,
   "id": "88dff765-9dcf-4374-b761-f07c11aef966",
   "metadata": {},
   "outputs": [],
   "source": [
    "npa1 = []\n",
    "\n",
    "#differenced y (twice)\n",
    "for t in range(-92,1,1):\n",
    "    npa1.append([t,newDataDelta[['Adj Close']],newDataDelta[['VIXCLS']],1])\n",
    "#print(npa)\n",
    "\n",
    "client1 = Client('192.168.3.100:8786')\n",
    "#client.restart()\n",
    "\n",
    "future1 = client1.map(compare_x_lag_y, npa1)\n",
    "\n",
    "results1 = client1.gather(future1)\n",
    "\n",
    "plt.plot(pd.DataFrame([r[1][0] for r in results1]).set_index(np.array(range(-92,1,1))))\n",
    "plt.show()\n"
   ]
  },
  {
   "cell_type": "code",
   "execution_count": null,
   "id": "21b4fbda-1b25-44a0-a249-73c83e0f8404",
   "metadata": {},
   "outputs": [],
   "source": []
  },
  {
   "cell_type": "code",
   "execution_count": null,
   "id": "184b0202-cb97-40ba-a070-1640f06b9263",
   "metadata": {},
   "outputs": [],
   "source": []
  },
  {
   "cell_type": "code",
   "execution_count": null,
   "id": "c2ba777d-40cf-4f40-9848-7c5d2ca91e93",
   "metadata": {},
   "outputs": [],
   "source": []
  },
  {
   "cell_type": "code",
   "execution_count": null,
   "id": "26981fde-cde1-45c9-b76d-8854d7fe848a",
   "metadata": {},
   "outputs": [],
   "source": []
  },
  {
   "cell_type": "code",
   "execution_count": null,
   "id": "ebcc9aeb-fe4c-4eb7-b809-397fde3f2b8f",
   "metadata": {},
   "outputs": [],
   "source": []
  },
  {
   "cell_type": "code",
   "execution_count": null,
   "id": "37f6dbc3-003b-4d72-9371-f39a3e5bb76c",
   "metadata": {},
   "outputs": [],
   "source": [
    "\"\"\"\n",
    "plt.plot([abs(c.values[0][1]) for c in corrscores])\n",
    "#plt.xticks(range(-92,92,1),[c.values[0][1] for c in corrscores], rotation=45)\n",
    "plt.show()\n",
    "range(-92,92,1)[np.argmax([abs(c.values[0][1]) for c in corrscores])]\n",
    "\"\"\""
   ]
  },
  {
   "cell_type": "code",
   "execution_count": null,
   "id": "3c14f768-4f63-4ad1-bc12-3dd1f1707974",
   "metadata": {},
   "outputs": [],
   "source": [
    "#pd.concat([vix.reindex(early.index),sp500.reindex(early.index)['Adj Close'].pct_change().shift(range(-92,92,1)[np.argmin([s[1][0] for s in scores])])],axis=1).interpolate(method='time').dropna().corr()"
   ]
  },
  {
   "cell_type": "code",
   "execution_count": 44,
   "id": "6effb127-904f-42c2-a1a8-a21ba3c66cf1",
   "metadata": {},
   "outputs": [
    {
     "name": "stdout",
     "output_type": "stream",
     "text": [
      "[0.00046398]\n",
      "[[0.01097137]]\n"
     ]
    }
   ],
   "source": [
    "combined = pd.concat([newDataDelta[['VIXCLS']],newDataDelta[['Adj Close']].shift(lag)],axis=1).dropna()\n",
    "model = LinearRegression(fit_intercept=True)\n",
    "#just getting hyper-parm's (fit)\n",
    "lm = model.fit(combined[['VIXCLS']],combined[['Adj Close']])\n",
    "print(lm.intercept_)\n",
    "print(lm.coef_)"
   ]
  },
  {
   "cell_type": "code",
   "execution_count": 40,
   "id": "7a2d07f0-d337-4dc2-8fa5-f20a2f712c1d",
   "metadata": {},
   "outputs": [
    {
     "data": {
      "text/plain": [
       "array([0.00433178])"
      ]
     },
     "execution_count": 40,
     "metadata": {},
     "output_type": "execute_result"
    }
   ],
   "source": []
  },
  {
   "cell_type": "code",
   "execution_count": 41,
   "id": "773571c8-238a-4879-b446-dee1aeac2419",
   "metadata": {},
   "outputs": [],
   "source": [
    "#dir(lm)"
   ]
  },
  {
   "cell_type": "code",
   "execution_count": null,
   "id": "35c64a60-3fbf-44c3-9385-bfa446290bb5",
   "metadata": {},
   "outputs": [],
   "source": []
  },
  {
   "cell_type": "code",
   "execution_count": null,
   "id": "138bf245-51fb-4b97-8077-e1ba655a22a8",
   "metadata": {},
   "outputs": [],
   "source": [
    "y"
   ]
  },
  {
   "cell_type": "code",
   "execution_count": 48,
   "id": "4cc65549-d902-4928-a867-2c16e2cec533",
   "metadata": {},
   "outputs": [
    {
     "data": {
      "text/html": [
       "<table class=\"simpletable\">\n",
       "<caption>OLS Regression Results</caption>\n",
       "<tr>\n",
       "  <th>Dep. Variable:</th>        <td>Adj Close</td>    <th>  R-squared:         </th> <td>   0.007</td>\n",
       "</tr>\n",
       "<tr>\n",
       "  <th>Model:</th>                   <td>OLS</td>       <th>  Adj. R-squared:    </th> <td>   0.006</td>\n",
       "</tr>\n",
       "<tr>\n",
       "  <th>Method:</th>             <td>Least Squares</td>  <th>  F-statistic:       </th> <td>   8.180</td>\n",
       "</tr>\n",
       "<tr>\n",
       "  <th>Date:</th>             <td>Fri, 06 May 2022</td> <th>  Prob (F-statistic):</th>  <td>0.00431</td>\n",
       "</tr>\n",
       "<tr>\n",
       "  <th>Time:</th>                 <td>02:48:54</td>     <th>  Log-Likelihood:    </th> <td>  3651.7</td>\n",
       "</tr>\n",
       "<tr>\n",
       "  <th>No. Observations:</th>      <td>  1239</td>      <th>  AIC:               </th> <td>  -7299.</td>\n",
       "</tr>\n",
       "<tr>\n",
       "  <th>Df Residuals:</th>          <td>  1237</td>      <th>  BIC:               </th> <td>  -7289.</td>\n",
       "</tr>\n",
       "<tr>\n",
       "  <th>Df Model:</th>              <td>     1</td>      <th>                     </th>     <td> </td>   \n",
       "</tr>\n",
       "<tr>\n",
       "  <th>Covariance Type:</th>      <td>nonrobust</td>    <th>                     </th>     <td> </td>   \n",
       "</tr>\n",
       "</table>\n",
       "<table class=\"simpletable\">\n",
       "<tr>\n",
       "     <td></td>       <th>coef</th>     <th>std err</th>      <th>t</th>      <th>P>|t|</th>  <th>[0.025</th>    <th>0.975]</th>  \n",
       "</tr>\n",
       "<tr>\n",
       "  <th>const</th>  <td>    0.0005</td> <td>    0.000</td> <td>    1.283</td> <td> 0.200</td> <td>   -0.000</td> <td>    0.001</td>\n",
       "</tr>\n",
       "<tr>\n",
       "  <th>VIXCLS</th> <td>    0.0110</td> <td>    0.004</td> <td>    2.860</td> <td> 0.004</td> <td>    0.003</td> <td>    0.018</td>\n",
       "</tr>\n",
       "</table>\n",
       "<table class=\"simpletable\">\n",
       "<tr>\n",
       "  <th>Omnibus:</th>       <td>376.786</td> <th>  Durbin-Watson:     </th> <td>   2.321</td> \n",
       "</tr>\n",
       "<tr>\n",
       "  <th>Prob(Omnibus):</th> <td> 0.000</td>  <th>  Jarque-Bera (JB):  </th> <td>13480.588</td>\n",
       "</tr>\n",
       "<tr>\n",
       "  <th>Skew:</th>          <td>-0.711</td>  <th>  Prob(JB):          </th> <td>    0.00</td> \n",
       "</tr>\n",
       "<tr>\n",
       "  <th>Kurtosis:</th>      <td>19.097</td>  <th>  Cond. No.          </th> <td>    10.6</td> \n",
       "</tr>\n",
       "</table><br/><br/>Notes:<br/>[1] Standard Errors assume that the covariance matrix of the errors is correctly specified."
      ],
      "text/plain": [
       "<class 'statsmodels.iolib.summary.Summary'>\n",
       "\"\"\"\n",
       "                            OLS Regression Results                            \n",
       "==============================================================================\n",
       "Dep. Variable:              Adj Close   R-squared:                       0.007\n",
       "Model:                            OLS   Adj. R-squared:                  0.006\n",
       "Method:                 Least Squares   F-statistic:                     8.180\n",
       "Date:                Fri, 06 May 2022   Prob (F-statistic):            0.00431\n",
       "Time:                        02:48:54   Log-Likelihood:                 3651.7\n",
       "No. Observations:                1239   AIC:                            -7299.\n",
       "Df Residuals:                    1237   BIC:                            -7289.\n",
       "Df Model:                           1                                         \n",
       "Covariance Type:            nonrobust                                         \n",
       "==============================================================================\n",
       "                 coef    std err          t      P>|t|      [0.025      0.975]\n",
       "------------------------------------------------------------------------------\n",
       "const          0.0005      0.000      1.283      0.200      -0.000       0.001\n",
       "VIXCLS         0.0110      0.004      2.860      0.004       0.003       0.018\n",
       "==============================================================================\n",
       "Omnibus:                      376.786   Durbin-Watson:                   2.321\n",
       "Prob(Omnibus):                  0.000   Jarque-Bera (JB):            13480.588\n",
       "Skew:                          -0.711   Prob(JB):                         0.00\n",
       "Kurtosis:                      19.097   Cond. No.                         10.6\n",
       "==============================================================================\n",
       "\n",
       "Notes:\n",
       "[1] Standard Errors assume that the covariance matrix of the errors is correctly specified.\n",
       "\"\"\""
      ]
     },
     "execution_count": 48,
     "metadata": {},
     "output_type": "execute_result"
    }
   ],
   "source": [
    "\n",
    "#X = sm.add_constant(pd.concat([newDataDelta[['VIXCLS']],newDataDelta[['Adj Close']].shift(lag)],axis=1).dropna())[['VIXCLS']]\n",
    "X = sm.add_constant(combined[['VIXCLS']])\n",
    "y = combined[['Adj Close']]\n",
    "results = sm.OLS(y,X).fit()\n",
    "results.summary()  \n",
    "\n"
   ]
  },
  {
   "cell_type": "code",
   "execution_count": 49,
   "id": "750d6892-4af7-46da-be20-9d933c25a63c",
   "metadata": {},
   "outputs": [
    {
     "data": {
      "text/plain": [
       "Adj Close    0.000515\n",
       "dtype: float64"
      ]
     },
     "execution_count": 49,
     "metadata": {},
     "output_type": "execute_result"
    }
   ],
   "source": []
  },
  {
   "cell_type": "code",
   "execution_count": 47,
   "id": "0266f1fe-f3c4-4684-a02c-289246b1faba",
   "metadata": {},
   "outputs": [
    {
     "data": {
      "text/plain": [
       "<matplotlib.collections.PathCollection at 0x7f9b669257f0>"
      ]
     },
     "execution_count": 47,
     "metadata": {},
     "output_type": "execute_result"
    },
    {
     "data": {
      "image/png": "[encoded data removed]",
      "text/plain": [
       "<Figure size 432x288 with 1 Axes>"
      ]
     },
     "metadata": {
      "needs_background": "light"
     },
     "output_type": "display_data"
    }
   ],
   "source": [
    "plt.scatter(results.predict(X),y)"
   ]
  }
 ],
 "metadata": {
  "kernelspec": {
   "display_name": "Python 3 (ipykernel)",
   "language": "python",
   "name": "python3"
  },
  "language_info": {
   "codemirror_mode": {
    "name": "ipython",
    "version": 3
   },
   "file_extension": ".py",
   "mimetype": "text/x-python",
   "name": "python",
   "nbconvert_exporter": "python",
   "pygments_lexer": "ipython3",
   "version": "3.9.9"
  }
 },
 "nbformat": 4,
 "nbformat_minor": 5
}
