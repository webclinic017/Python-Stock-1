{
 "cells": [
  {
   "cell_type": "code",
   "execution_count": null,
   "id": "d2d17485-23dd-483e-8c86-be2cea0e5b4e",
   "metadata": {},
   "outputs": [],
   "source": []
  },
  {
   "cell_type": "code",
   "execution_count": 1,
   "id": "7191004d-380d-41a8-b1f9-4baa99dabb5a",
   "metadata": {},
   "outputs": [],
   "source": [
    "import yfinance as yf\n",
    "import pandas as pd\n",
    "import datetime\n",
    "import numpy as np\n",
    "from datetime import datetime\n",
    "from dateutil.relativedelta import relativedelta\n",
    "from pandas_datareader import data\n",
    "from dask.distributed import Client\n",
    "from dask.distributed import as_completed\n",
    "import openpyxl\n",
    "import xlsxwriter"
   ]
  },
  {
   "cell_type": "code",
   "execution_count": 2,
   "id": "37ad8909-f0fb-48eb-b7d6-b940feec48a6",
   "metadata": {},
   "outputs": [],
   "source": [
    "end = datetime.today()\n",
    "start = end - relativedelta(years=2)"
   ]
  },
  {
   "cell_type": "code",
   "execution_count": 3,
   "id": "e62dae8b-702e-4dc6-a41f-406f54339ef6",
   "metadata": {},
   "outputs": [
    {
     "data": {
      "text/plain": [
       "'2022-06-01'"
      ]
     },
     "execution_count": 3,
     "metadata": {},
     "output_type": "execute_result"
    }
   ],
   "source": [
    "end.strftime('%Y-%m-%d')"
   ]
  },
  {
   "cell_type": "code",
   "execution_count": 4,
   "id": "73ec357b-b4a7-4cef-ab26-21b0067836ed",
   "metadata": {},
   "outputs": [],
   "source": [
    "SP500ticker_list = pd.read_html('http://en.wikipedia.org/wiki/List_of_S%26P_500_companies')[0]\n",
    "SP600ticker_list = pd.read_html('https://en.wikipedia.org/wiki/List_of_S%26P_600_companies')[1]\n",
    "SP400ticker_list = pd.read_html('https://en.wikipedia.org/wiki/List_of_S%26P_400_companies')[0]\n"
   ]
  },
  {
   "cell_type": "code",
   "execution_count": 5,
   "id": "03ef454c-a181-47bd-86e1-a4057d2ef192",
   "metadata": {},
   "outputs": [],
   "source": [
    "sp500 = SP500ticker_list['Symbol']\n",
    "sp600 = SP600ticker_list['Ticker symbol']\n",
    "sp400 = SP400ticker_list['Ticker symbol']\n"
   ]
  },
  {
   "cell_type": "code",
   "execution_count": 6,
   "id": "37854ad3-4fe2-483f-9597-dcc7504b50af",
   "metadata": {},
   "outputs": [
    {
     "data": {
      "text/plain": [
       "1505"
      ]
     },
     "execution_count": 6,
     "metadata": {},
     "output_type": "execute_result"
    }
   ],
   "source": [
    "len(sp500)+len(sp600)+len(sp400)"
   ]
  },
  {
   "cell_type": "code",
   "execution_count": 7,
   "id": "cb70dc73-5b3a-4865-aa4e-ece09235a43c",
   "metadata": {},
   "outputs": [
    {
     "name": "stdout",
     "output_type": "stream",
     "text": [
      "504\n",
      "601\n",
      "400\n"
     ]
    }
   ],
   "source": [
    "print(len(sp500))\n",
    "SP1500 = list()\n",
    "SP1500.extend(sp500)\n",
    "sp600 = list(set(sp600).difference(SP1500))\n",
    "print(len(sp600))\n",
    "SP1500.extend(sp600)\n",
    "sp400 = list(set(sp400).difference(SP1500))\n",
    "print(len(sp400))\n",
    "SP1500.extend(set(sp400).difference(SP1500))"
   ]
  },
  {
   "cell_type": "code",
   "execution_count": null,
   "id": "8f83930a-c582-4686-9d56-c73712d25db7",
   "metadata": {},
   "outputs": [],
   "source": []
  },
  {
   "cell_type": "code",
   "execution_count": null,
   "id": "4675c840-534a-41ca-861e-d0accdb076e1",
   "metadata": {},
   "outputs": [],
   "source": []
  },
  {
   "cell_type": "code",
   "execution_count": null,
   "id": "ff4c2cdb-9ae2-44e7-834d-fc35e39d417b",
   "metadata": {},
   "outputs": [],
   "source": []
  },
  {
   "cell_type": "code",
   "execution_count": null,
   "id": "ae9be00b-7d31-426b-a859-5591e02a7d4a",
   "metadata": {},
   "outputs": [],
   "source": []
  },
  {
   "cell_type": "code",
   "execution_count": null,
   "id": "65e0e422-c87d-49c4-ac26-fe1e419e45ba",
   "metadata": {},
   "outputs": [],
   "source": []
  },
  {
   "cell_type": "code",
   "execution_count": 8,
   "id": "d569a219-261e-4ec8-bff4-3b645aad7be6",
   "metadata": {},
   "outputs": [
    {
     "name": "stdout",
     "output_type": "stream",
     "text": [
      "504\n",
      "601\n",
      "400\n"
     ]
    }
   ],
   "source": [
    "sp1500_index_df = pd.DataFrame()\n",
    "\n",
    "lists = [\"sp500\",\"sp600\",\"sp400\"]\n",
    "\n",
    "for l in lists:\n",
    "    if(l=='sp500'):\n",
    "        df = pd.DataFrame(sp500,columns=['Symbol'])\n",
    "        print(len(df))\n",
    "        #range_ = \n",
    "        #print(range_)\n",
    "        df['Market Index'] = pd.Series([\"SP500\" for x in range(0,len(df.index),1)])\n",
    "    elif(l=='sp600'):\n",
    "        df = pd.DataFrame(np.array(sp600),columns=['Symbol'])        \n",
    "        print(len(df))        \n",
    "        df['Market Index'] = pd.Series([\"SP600\" for x in range(len(df.index))])\n",
    "        df.index = range(len(sp500),(len(sp500)+len(df.index)),1)        \n",
    "    else:\n",
    "        df = pd.DataFrame(np.array(sp400),columns=['Symbol'])\n",
    "        print(len(df))\n",
    "        df['Market Index'] = pd.Series([\"SP400\" for x in range(len(df.index))])\n",
    "        df.index = range((len(sp500)+len(sp600)),(len(sp500)+len(sp600)+len(df.index)),1)\n",
    "    sp1500_index_df = pd.concat([sp1500_index_df,df],axis=0)"
   ]
  },
  {
   "cell_type": "code",
   "execution_count": 9,
   "id": "3afecc03-b536-4a60-9742-6be019181891",
   "metadata": {},
   "outputs": [
    {
     "data": {
      "text/plain": [
       "0"
      ]
     },
     "execution_count": 9,
     "metadata": {},
     "output_type": "execute_result"
    }
   ],
   "source": [
    "len(sp1500_index_df)-len(SP1500)"
   ]
  },
  {
   "cell_type": "code",
   "execution_count": null,
   "id": "4d084364-b2ea-41b6-a824-00d418a993f4",
   "metadata": {},
   "outputs": [],
   "source": []
  },
  {
   "cell_type": "code",
   "execution_count": null,
   "id": "ed84b613-5a31-4543-98c6-d37725183967",
   "metadata": {},
   "outputs": [],
   "source": []
  },
  {
   "cell_type": "code",
   "execution_count": null,
   "id": "b8c1d1f2-1525-4ae8-b7dd-2d4c008d1b71",
   "metadata": {},
   "outputs": [],
   "source": []
  },
  {
   "cell_type": "code",
   "execution_count": null,
   "id": "31b9d29c-3d80-4b4f-931b-352b10fc4840",
   "metadata": {},
   "outputs": [],
   "source": []
  },
  {
   "cell_type": "code",
   "execution_count": 10,
   "id": "b3ea87bb-f40b-49a9-9060-4b8a4dd809fc",
   "metadata": {},
   "outputs": [],
   "source": [
    "def getStock(npa):\n",
    "    #position = npa[0]\n",
    "    symbol = npa[0]\n",
    "    start_=npa[1]\n",
    "    end_=npa[2]\n",
    "    #print(symbol)\n",
    "    \n",
    "    #tickerdata.history(period=\"2Y\")\n",
    "    #tickerdata = yf.Ticker(symbol)\n",
    "    #data_ = tickerdata.history(start=start_,end=end_)\n",
    "    data_ = yf.download(symbol, start=start_,end=end_)\n",
    "    #data_['Sector'] = tickerdata.info['sector']\n",
    "    #data_['Symbol'] = symbol\n",
    "    #data_['Market Cap'] = data.get_quote_yahoo(names[n])['marketCap']\n",
    "    #data_['Sector'] = tickerdata.info['sector']\n",
    "    \n",
    "    \"\"\"\n",
    "    tickerdata.info\n",
    "    tickerdata.quarterly_balance_sheet\n",
    "    tickerdata.quarterly_cashflow\n",
    "    tickerdata.quarterly_dividends\n",
    "    tickerdata.quarterly_earnings\n",
    "    tickerdata.quarterly_financials\n",
    "    tickerdata.actions\n",
    "    tickerdata.mutualfund_holders\n",
    "    tickerdata.options\n",
    "    tickerdata.sustainability\n",
    "    \"\"\"\n",
    "    \n",
    "    return([symbol,data_])"
   ]
  },
  {
   "cell_type": "code",
   "execution_count": null,
   "id": "f6f009c3-0390-4caf-ba6b-9c8de57e8cac",
   "metadata": {},
   "outputs": [],
   "source": []
  },
  {
   "cell_type": "code",
   "execution_count": 11,
   "id": "ac2521e1-d0dc-4b2b-ad44-676ed7af6a0d",
   "metadata": {},
   "outputs": [],
   "source": [
    "def getMarketCap(npa):\n",
    "    symbol = npa[0]\n",
    "\n",
    "    #start_=npa[2]\n",
    "    #end_=npa[3]\n",
    "    #print(symbol)\n",
    "    \n",
    "    #tickerdata.history(period=\"2Y\")\n",
    "    #tickerdata = yf.Ticker(symbol)\n",
    "    #data_ = tickerdata.history(start=start_,end=end_)\n",
    "    data_ = data.get_quote_yahoo(symbol)['marketCap']\n",
    "    #data_['Sector'] = tickerdata.info['sector']\n",
    "    \n",
    "    \"\"\"\n",
    "    tickerdata.info\n",
    "    tickerdata.quarterly_balance_sheet\n",
    "    tickerdata.quarterly_cashflow\n",
    "    tickerdata.quarterly_dividends\n",
    "    tickerdata.quarterly_earnings\n",
    "    tickerdata.quarterly_financials\n",
    "    tickerdata.actions\n",
    "    tickerdata.mutualfund_holders\n",
    "    tickerdata.options\n",
    "    tickerdata.sustainability\n",
    "    \"\"\"\n",
    "    \n",
    "    return([symbol,data_])"
   ]
  },
  {
   "cell_type": "code",
   "execution_count": 12,
   "id": "881e051b-43f4-4b43-9cbd-0a9e6ffc4b29",
   "metadata": {},
   "outputs": [],
   "source": [
    "def getSector(npa):\n",
    "    #position = npa[0]\n",
    "    symbol = npa[0]\n",
    "    #start_=npa[2]\n",
    "    #end_=npa[3]\n",
    "    \n",
    "    tickerdata = yf.Ticker(symbol)\n",
    "    return([symbol,tickerdata.info['sector']])"
   ]
  },
  {
   "cell_type": "code",
   "execution_count": 13,
   "id": "bd578a91-56d8-415c-ad14-f75a00ff6a2f",
   "metadata": {},
   "outputs": [],
   "source": [
    "def getFinObject(npa):\n",
    "    #position = npa[0]\n",
    "    symbol = npa[0]\n",
    "    #start_=npa[2]\n",
    "    #end_=npa[3]\n",
    "    \n",
    "    tickerdata = yf.Ticker(symbol)\n",
    "    return([symbol,tickerdata])"
   ]
  },
  {
   "cell_type": "code",
   "execution_count": 51,
   "id": "98802d47-bc74-42d5-bb94-21ee8a12b6fa",
   "metadata": {},
   "outputs": [],
   "source": [
    "def calculateMinMax(data_):\n",
    "    data_df = data_\n",
    "    n_ = data_df['Symbol'].values[-1]\n",
    "    \n",
    "    latest_p = pd.DataFrame(data_df)['Close'][-1]\n",
    "    oneYearDate = pd.DataFrame(data_df)['Close'][[-1]].index[0] - relativedelta(years=1)\n",
    "    \n",
    "    past_year = data_df[data_df.index>=oneYearDate.strftime('%Y-%m-%d')]\n",
    "    \n",
    "    #np.max(npa[np.where(np.array(names_prices)=='GBX')[0][0]]['High'])\n",
    "    max_2y = np.max(pd.DataFrame(data_df)['High'])\n",
    "    min_2y = np.min(pd.DataFrame(data_df)['Low'])\n",
    "    quantiles_close_2y = pd.DataFrame(data_df)['Close'].quantile(q=[0, .02, .09, .25, .5, .75, .91, .98, 1])\n",
    "    std_2y = np.std(pd.DataFrame(data_df)['Close'])\n",
    "    mean_2y = np.mean(pd.DataFrame(data_df)['Close'])\n",
    "    \n",
    "    max_1y = np.max(past_year['High'])\n",
    "    min_1y = np.min(past_year['Low'])\n",
    "    quantiles_close_1y = pd.DataFrame(data_df)['Close'].quantile(q=[0, .02, .09, .25, .5, .75, .91, .98, 1])\n",
    "    std_1y = np.std(past_year['Close'])\n",
    "    mean_1y = np.mean(past_year['Close'])\n",
    "    risk_trend = data_df['risk_per_share'][-1]\n",
    "    \n",
    "    return([n_,max_2y,min_2y,std_2y,mean_2y,max_1y,min_1y,std_1y,mean_1y,latest_p,*quantiles_close_2y,*quantiles_close_1y,risk_trend])"
   ]
  },
  {
   "cell_type": "code",
   "execution_count": 15,
   "id": "3393b8a2-5999-4feb-85f1-c0a76282f443",
   "metadata": {},
   "outputs": [
    {
     "name": "stderr",
     "output_type": "stream",
     "text": [
      "C:\\Users\\User\\AppData\\Local\\Programs\\Python\\Python39\\lib\\site-packages\\distributed\\client.py:1265: VersionMismatchWarning: Mismatched versions found\n",
      "\n",
      "+-------------+---------------+---------------+---------------+\n",
      "| Package     | client        | scheduler     | workers       |\n",
      "+-------------+---------------+---------------+---------------+\n",
      "| dask        | 2022.01.1     | 2021.11.2     | 2021.11.2     |\n",
      "| distributed | 2022.01.1     | 2021.11.2     | 2021.11.2     |\n",
      "| lz4         | 3.1.3         | 3.1.10        | 3.1.10        |\n",
      "| python      | 3.9.7.final.0 | 3.9.9.final.0 | 3.9.9.final.0 |\n",
      "| toolz       | 0.11.1        | 0.11.2        | 0.11.2        |\n",
      "+-------------+---------------+---------------+---------------+\n",
      "  warnings.warn(version_module.VersionMismatchWarning(msg[0][\"warning\"]))\n"
     ]
    }
   ],
   "source": [
    "npa = []\n",
    "for i in range(0,len(SP1500)):\n",
    "    npa.append([SP1500[i],start.strftime('%Y-%m-%d'),end.strftime('%Y-%m-%d')])\n",
    "    \n",
    "# = getStock(npa[0])\n",
    "    \n",
    "client = Client('192.168.3.100:8786')\n",
    "client.restart()\n",
    "future = client.map(getStock, npa)\n",
    "results_prices = []\n",
    "#my intent was to capture future objects vs results and this gave me results\n",
    "for f in as_completed(future):\n",
    "    if(f.status==\"error\"):\n",
    "        results_prices.append(\"error\")\n",
    "    else:\n",
    "        results_prices.append(f.result()) \n",
    "client.close()\n"
   ]
  },
  {
   "cell_type": "code",
   "execution_count": null,
   "id": "d707cd76-6f71-45d8-a712-6d98e3c044d0",
   "metadata": {},
   "outputs": [],
   "source": []
  },
  {
   "cell_type": "code",
   "execution_count": 16,
   "id": "f347227d-1496-4651-b726-80c878f66d10",
   "metadata": {},
   "outputs": [],
   "source": [
    "npa = []\n",
    "for i in range(0,len(SP1500)):\n",
    "    npa.append([SP1500[i]])\n",
    "\n",
    "#getSector(npa[0])\n",
    "\n",
    "client = Client('192.168.3.100:8786')\n",
    "client.restart()\n",
    "\n",
    "future = client.map(getSector, npa)\n",
    "results_sectors = []\n",
    "#my intent was to capture future objects vs results and this gave me results\n",
    "for f in as_completed(future):\n",
    "    if(f.status==\"error\"):\n",
    "        results_sectors.append(\"error\")\n",
    "    else:\n",
    "        results_sectors.append(f.result()) \n",
    "client.close()\n"
   ]
  },
  {
   "cell_type": "code",
   "execution_count": 17,
   "id": "149e7499-cdb3-4a20-b5aa-32ffd73ddd88",
   "metadata": {},
   "outputs": [
    {
     "data": {
      "text/plain": [
       "1148"
      ]
     },
     "execution_count": 17,
     "metadata": {},
     "output_type": "execute_result"
    }
   ],
   "source": [
    "len(np.unique([r[0] for r in results_sectors]))"
   ]
  },
  {
   "cell_type": "code",
   "execution_count": null,
   "id": "79041790-49ec-44b6-ae4d-ced592cc5505",
   "metadata": {},
   "outputs": [],
   "source": []
  },
  {
   "cell_type": "code",
   "execution_count": 18,
   "id": "0c730c72-11fe-42a0-9856-b3b97d033e5c",
   "metadata": {},
   "outputs": [],
   "source": [
    "sectors_df = pd.DataFrame()\n",
    "\n",
    "for r in range(0,len(results_sectors)):\n",
    "    r_ = results_sectors[r]\n",
    "    if(r_=='error'):\n",
    "        pass#sectors_df = pd.concat([sectors_df,pd.DataFrame([np.nan],index=[i_],columns=['Sector'])],axis=0)\n",
    "    else:\n",
    "        s_ = np.array(r_)[1]\n",
    "        i_ = np.array(r_)[0]\n",
    "        sectors_df = pd.concat([sectors_df,pd.DataFrame([s_],index=[i_],columns=['Sector'])],axis=0)\n",
    "\n",
    "missing_sectors = list(set(SP1500).difference([r[0] for r in results_sectors]))\n",
    "\n",
    "for r in range(0,len(missing_sectors)):\n",
    "    r_ = missing_sectors[r]\n",
    "    #s_ = np.array(r_)[1]\n",
    "    #i_ = np.array(r_)[0]\n",
    "    sectors_df = pd.concat([sectors_df,pd.DataFrame(['error'],index=[r_],columns=['Sector'])],axis=0)"
   ]
  },
  {
   "cell_type": "code",
   "execution_count": null,
   "id": "b990a045-2680-438b-8806-95253a57655d",
   "metadata": {},
   "outputs": [],
   "source": []
  },
  {
   "cell_type": "code",
   "execution_count": 19,
   "id": "36db1228-819c-4898-9b69-944137a9368e",
   "metadata": {},
   "outputs": [],
   "source": [
    "#sectors_df"
   ]
  },
  {
   "cell_type": "code",
   "execution_count": 20,
   "id": "593a56c1-0ab1-442f-9b9b-5b1f7a791c41",
   "metadata": {},
   "outputs": [],
   "source": [
    "#mktcap_df"
   ]
  },
  {
   "cell_type": "code",
   "execution_count": 21,
   "id": "dbc7cb02-cbbe-4160-9b62-8e23cfe97fcd",
   "metadata": {},
   "outputs": [],
   "source": [
    "#np.sum(sectors_df.index.duplicated())"
   ]
  },
  {
   "cell_type": "code",
   "execution_count": null,
   "id": "9c52ba63-1a3a-4f4a-9487-619ff23c8fca",
   "metadata": {},
   "outputs": [],
   "source": []
  },
  {
   "cell_type": "code",
   "execution_count": null,
   "id": "aa2d9507-81a0-486c-9d02-bafcb99ad8e3",
   "metadata": {},
   "outputs": [],
   "source": []
  },
  {
   "cell_type": "code",
   "execution_count": null,
   "id": "84d35b51-f40c-408a-b844-39235309f2aa",
   "metadata": {},
   "outputs": [],
   "source": []
  },
  {
   "cell_type": "code",
   "execution_count": 22,
   "id": "aae832b1-7cea-4fe9-ab1a-8bae4f6d7d92",
   "metadata": {},
   "outputs": [],
   "source": [
    "#sectors_df.reindex(mktcap_df.index.duplicated())"
   ]
  },
  {
   "cell_type": "code",
   "execution_count": null,
   "id": "a5a0b613-30db-41fc-8cf9-8a6177d7a293",
   "metadata": {},
   "outputs": [],
   "source": []
  },
  {
   "cell_type": "code",
   "execution_count": null,
   "id": "112ae9cd-66eb-45c9-bf5f-511ee3266326",
   "metadata": {},
   "outputs": [],
   "source": []
  },
  {
   "cell_type": "code",
   "execution_count": null,
   "id": "b80f8f31-0201-422a-96a7-5a0a4d4caa68",
   "metadata": {},
   "outputs": [],
   "source": []
  },
  {
   "cell_type": "code",
   "execution_count": null,
   "id": "50faf270-562b-40a1-852d-525a14967797",
   "metadata": {},
   "outputs": [],
   "source": []
  },
  {
   "cell_type": "code",
   "execution_count": null,
   "id": "f79e4ef8-ce6b-4d35-a17f-685a39c523c4",
   "metadata": {},
   "outputs": [],
   "source": []
  },
  {
   "cell_type": "code",
   "execution_count": null,
   "id": "9d5bc91a-2167-4419-a70e-fd3da7989f4f",
   "metadata": {},
   "outputs": [],
   "source": []
  },
  {
   "cell_type": "code",
   "execution_count": null,
   "id": "8c1df626-207c-42d1-9357-0b2cfc091eae",
   "metadata": {},
   "outputs": [],
   "source": []
  },
  {
   "cell_type": "code",
   "execution_count": 23,
   "id": "5db05c54-25b2-481d-a867-c859bd0f81bb",
   "metadata": {},
   "outputs": [],
   "source": [
    "npa = []\n",
    "for i in range(0,len(SP1500)):\n",
    "    npa.append([SP1500[i]])\n",
    "\n",
    "#getMarketCap(npa[0])\n",
    "\n",
    "client = Client('192.168.3.100:8786')\n",
    "client.restart()\n",
    "\n",
    "future = client.map(getMarketCap, npa)\n",
    "results_mktcp = []\n",
    "#my intent was to capture future objects vs results and this gave me results\n",
    "for f in as_completed(future):\n",
    "    if(f.status==\"error\"):\n",
    "        results_mktcp.append(\"error\")\n",
    "    else:\n",
    "        results_mktcp.append(f.result()) \n",
    "client.restart()\n",
    "client.close()\n"
   ]
  },
  {
   "cell_type": "code",
   "execution_count": 24,
   "id": "f7c5e555-867b-456e-bad6-f8796f692c4a",
   "metadata": {},
   "outputs": [],
   "source": [
    "#results_mktcp[0]"
   ]
  },
  {
   "cell_type": "code",
   "execution_count": 25,
   "id": "7037f921-601a-4dd8-9452-1f835f5ddf33",
   "metadata": {},
   "outputs": [
    {
     "name": "stderr",
     "output_type": "stream",
     "text": [
      "C:\\Users\\User\\AppData\\Local\\Temp/ipykernel_21460/2928409512.py:11: VisibleDeprecationWarning: Creating an ndarray from ragged nested sequences (which is a list-or-tuple of lists-or-tuples-or ndarrays with different lengths or shapes) is deprecated. If you meant to do this, you must specify 'dtype=object' when creating the ndarray.\n",
      "  s_ = np.array(r_)[1]\n",
      "C:\\Users\\User\\AppData\\Local\\Temp/ipykernel_21460/2928409512.py:13: VisibleDeprecationWarning: Creating an ndarray from ragged nested sequences (which is a list-or-tuple of lists-or-tuples-or ndarrays with different lengths or shapes) is deprecated. If you meant to do this, you must specify 'dtype=object' when creating the ndarray.\n",
      "  i_ = np.array(r_)[0]\n"
     ]
    }
   ],
   "source": [
    "#np.array([r[0] for r in results_mktcp])\n",
    "#names_mktcap = [n[0] for n in results_mktcp]\n",
    "\n",
    "mktcap_df = pd.DataFrame()\n",
    "\n",
    "for r in range(0,len(results_mktcp)):\n",
    "    r_ = results_mktcp[r]\n",
    "    if(r_=='error'):\n",
    "        pass#sectors_df = pd.concat([sectors_df,pd.DataFrame([np.nan],index=[i_],columns=['Sector'])],axis=0)\n",
    "    else:\n",
    "        s_ = np.array(r_)[1]\n",
    "        #print(s_[0])\n",
    "        i_ = np.array(r_)[0]\n",
    "        mktcap_df = pd.concat([mktcap_df,pd.DataFrame([s_[0]],index=[i_],columns=['Market Cap'])],axis=0)\n",
    "\n",
    "missing_mktcaps = list(set(SP1500).difference([n[0] for n in results_mktcp]))\n",
    "\n",
    "for r in range(0,len(missing_mktcaps)):\n",
    "    r_ = missing_mktcaps[r]\n",
    "    #s_ = np.array(r_)[1]\n",
    "    #i_ = np.array(r_)[0]\n",
    "    mktcap_df = pd.concat([mktcap_df,pd.DataFrame([np.nan],index=[r_],columns=['Market Cap'])],axis=0)\n"
   ]
  },
  {
   "cell_type": "code",
   "execution_count": 26,
   "id": "ed5fbb2b-8eb4-42d5-ad00-205bfbdbddee",
   "metadata": {},
   "outputs": [
    {
     "data": {
      "text/html": [
       "<div>\n",
       "<style scoped>\n",
       "    .dataframe tbody tr th:only-of-type {\n",
       "        vertical-align: middle;\n",
       "    }\n",
       "\n",
       "    .dataframe tbody tr th {\n",
       "        vertical-align: top;\n",
       "    }\n",
       "\n",
       "    .dataframe thead th {\n",
       "        text-align: right;\n",
       "    }\n",
       "</style>\n",
       "<table border=\"1\" class=\"dataframe\">\n",
       "  <thead>\n",
       "    <tr style=\"text-align: right;\">\n",
       "      <th></th>\n",
       "      <th>Market Cap</th>\n",
       "    </tr>\n",
       "  </thead>\n",
       "  <tbody>\n",
       "    <tr>\n",
       "      <th>NWE</th>\n",
       "      <td>3.355174e+09</td>\n",
       "    </tr>\n",
       "    <tr>\n",
       "      <th>WOR</th>\n",
       "      <td>2.349591e+09</td>\n",
       "    </tr>\n",
       "    <tr>\n",
       "      <th>FICO</th>\n",
       "      <td>1.111435e+10</td>\n",
       "    </tr>\n",
       "    <tr>\n",
       "      <th>TCMD</th>\n",
       "      <td>1.948601e+08</td>\n",
       "    </tr>\n",
       "    <tr>\n",
       "      <th>LTHM</th>\n",
       "      <td>4.402919e+09</td>\n",
       "    </tr>\n",
       "    <tr>\n",
       "      <th>...</th>\n",
       "      <td>...</td>\n",
       "    </tr>\n",
       "    <tr>\n",
       "      <th>V</th>\n",
       "      <td>NaN</td>\n",
       "    </tr>\n",
       "    <tr>\n",
       "      <th>SBUX</th>\n",
       "      <td>NaN</td>\n",
       "    </tr>\n",
       "    <tr>\n",
       "      <th>WBD</th>\n",
       "      <td>NaN</td>\n",
       "    </tr>\n",
       "    <tr>\n",
       "      <th>APA</th>\n",
       "      <td>NaN</td>\n",
       "    </tr>\n",
       "    <tr>\n",
       "      <th>EMBC</th>\n",
       "      <td>NaN</td>\n",
       "    </tr>\n",
       "  </tbody>\n",
       "</table>\n",
       "<p>1505 rows × 1 columns</p>\n",
       "</div>"
      ],
      "text/plain": [
       "        Market Cap\n",
       "NWE   3.355174e+09\n",
       "WOR   2.349591e+09\n",
       "FICO  1.111435e+10\n",
       "TCMD  1.948601e+08\n",
       "LTHM  4.402919e+09\n",
       "...            ...\n",
       "V              NaN\n",
       "SBUX           NaN\n",
       "WBD            NaN\n",
       "APA            NaN\n",
       "EMBC           NaN\n",
       "\n",
       "[1505 rows x 1 columns]"
      ]
     },
     "execution_count": 26,
     "metadata": {},
     "output_type": "execute_result"
    }
   ],
   "source": [
    "mktcap_df"
   ]
  },
  {
   "cell_type": "code",
   "execution_count": 27,
   "id": "fabb105e-5e71-4393-a909-0e284581465a",
   "metadata": {},
   "outputs": [
    {
     "data": {
      "text/html": [
       "<div>\n",
       "<style scoped>\n",
       "    .dataframe tbody tr th:only-of-type {\n",
       "        vertical-align: middle;\n",
       "    }\n",
       "\n",
       "    .dataframe tbody tr th {\n",
       "        vertical-align: top;\n",
       "    }\n",
       "\n",
       "    .dataframe thead th {\n",
       "        text-align: right;\n",
       "    }\n",
       "</style>\n",
       "<table border=\"1\" class=\"dataframe\">\n",
       "  <thead>\n",
       "    <tr style=\"text-align: right;\">\n",
       "      <th></th>\n",
       "      <th>Market Cap</th>\n",
       "    </tr>\n",
       "  </thead>\n",
       "  <tbody>\n",
       "    <tr>\n",
       "      <th>AAPL</th>\n",
       "      <td>2.439796e+12</td>\n",
       "    </tr>\n",
       "    <tr>\n",
       "      <th>MSFT</th>\n",
       "      <td>2.045324e+12</td>\n",
       "    </tr>\n",
       "    <tr>\n",
       "      <th>GOOG</th>\n",
       "      <td>1.515107e+12</td>\n",
       "    </tr>\n",
       "    <tr>\n",
       "      <th>GOOGL</th>\n",
       "      <td>1.512033e+12</td>\n",
       "    </tr>\n",
       "    <tr>\n",
       "      <th>AMZN</th>\n",
       "      <td>1.234236e+12</td>\n",
       "    </tr>\n",
       "    <tr>\n",
       "      <th>...</th>\n",
       "      <td>...</td>\n",
       "    </tr>\n",
       "    <tr>\n",
       "      <th>V</th>\n",
       "      <td>NaN</td>\n",
       "    </tr>\n",
       "    <tr>\n",
       "      <th>SBUX</th>\n",
       "      <td>NaN</td>\n",
       "    </tr>\n",
       "    <tr>\n",
       "      <th>WBD</th>\n",
       "      <td>NaN</td>\n",
       "    </tr>\n",
       "    <tr>\n",
       "      <th>APA</th>\n",
       "      <td>NaN</td>\n",
       "    </tr>\n",
       "    <tr>\n",
       "      <th>EMBC</th>\n",
       "      <td>NaN</td>\n",
       "    </tr>\n",
       "  </tbody>\n",
       "</table>\n",
       "<p>1505 rows × 1 columns</p>\n",
       "</div>"
      ],
      "text/plain": [
       "         Market Cap\n",
       "AAPL   2.439796e+12\n",
       "MSFT   2.045324e+12\n",
       "GOOG   1.515107e+12\n",
       "GOOGL  1.512033e+12\n",
       "AMZN   1.234236e+12\n",
       "...             ...\n",
       "V               NaN\n",
       "SBUX            NaN\n",
       "WBD             NaN\n",
       "APA             NaN\n",
       "EMBC            NaN\n",
       "\n",
       "[1505 rows x 1 columns]"
      ]
     },
     "execution_count": 27,
     "metadata": {},
     "output_type": "execute_result"
    }
   ],
   "source": [
    "mktcap_df.sort_values(by='Market Cap',ascending=False)"
   ]
  },
  {
   "cell_type": "code",
   "execution_count": 28,
   "id": "0d8a846e-177a-47ea-8fbb-831b97f08457",
   "metadata": {},
   "outputs": [
    {
     "data": {
      "text/html": [
       "<div>\n",
       "<style scoped>\n",
       "    .dataframe tbody tr th:only-of-type {\n",
       "        vertical-align: middle;\n",
       "    }\n",
       "\n",
       "    .dataframe tbody tr th {\n",
       "        vertical-align: top;\n",
       "    }\n",
       "\n",
       "    .dataframe thead th {\n",
       "        text-align: right;\n",
       "    }\n",
       "</style>\n",
       "<table border=\"1\" class=\"dataframe\">\n",
       "  <thead>\n",
       "    <tr style=\"text-align: right;\">\n",
       "      <th></th>\n",
       "      <th>Sector</th>\n",
       "    </tr>\n",
       "  </thead>\n",
       "  <tbody>\n",
       "    <tr>\n",
       "      <th>NWE</th>\n",
       "      <td>Utilities</td>\n",
       "    </tr>\n",
       "    <tr>\n",
       "      <th>WOR</th>\n",
       "      <td>Industrials</td>\n",
       "    </tr>\n",
       "    <tr>\n",
       "      <th>FICO</th>\n",
       "      <td>Technology</td>\n",
       "    </tr>\n",
       "    <tr>\n",
       "      <th>TCMD</th>\n",
       "      <td>Healthcare</td>\n",
       "    </tr>\n",
       "    <tr>\n",
       "      <th>LTHM</th>\n",
       "      <td>Basic Materials</td>\n",
       "    </tr>\n",
       "    <tr>\n",
       "      <th>...</th>\n",
       "      <td>...</td>\n",
       "    </tr>\n",
       "    <tr>\n",
       "      <th>V</th>\n",
       "      <td>Financial Services</td>\n",
       "    </tr>\n",
       "    <tr>\n",
       "      <th>SBUX</th>\n",
       "      <td>Consumer Cyclical</td>\n",
       "    </tr>\n",
       "    <tr>\n",
       "      <th>WBD</th>\n",
       "      <td>Communication Services</td>\n",
       "    </tr>\n",
       "    <tr>\n",
       "      <th>APA</th>\n",
       "      <td>Energy</td>\n",
       "    </tr>\n",
       "    <tr>\n",
       "      <th>EMBC</th>\n",
       "      <td>Healthcare</td>\n",
       "    </tr>\n",
       "  </tbody>\n",
       "</table>\n",
       "<p>1505 rows × 1 columns</p>\n",
       "</div>"
      ],
      "text/plain": [
       "                      Sector\n",
       "NWE                Utilities\n",
       "WOR              Industrials\n",
       "FICO              Technology\n",
       "TCMD              Healthcare\n",
       "LTHM         Basic Materials\n",
       "...                      ...\n",
       "V         Financial Services\n",
       "SBUX       Consumer Cyclical\n",
       "WBD   Communication Services\n",
       "APA                   Energy\n",
       "EMBC              Healthcare\n",
       "\n",
       "[1505 rows x 1 columns]"
      ]
     },
     "execution_count": 28,
     "metadata": {},
     "output_type": "execute_result"
    }
   ],
   "source": [
    "sectors_df.loc[~sectors_df.index.duplicated(), :].reindex(mktcap_df.loc[~mktcap_df.index.duplicated(), :].index)"
   ]
  },
  {
   "cell_type": "code",
   "execution_count": 29,
   "id": "e54c15f7-c3e9-4e88-8783-931d27852a48",
   "metadata": {},
   "outputs": [
    {
     "data": {
      "text/html": [
       "<div>\n",
       "<style scoped>\n",
       "    .dataframe tbody tr th:only-of-type {\n",
       "        vertical-align: middle;\n",
       "    }\n",
       "\n",
       "    .dataframe tbody tr th {\n",
       "        vertical-align: top;\n",
       "    }\n",
       "\n",
       "    .dataframe thead th {\n",
       "        text-align: right;\n",
       "    }\n",
       "</style>\n",
       "<table border=\"1\" class=\"dataframe\">\n",
       "  <thead>\n",
       "    <tr style=\"text-align: right;\">\n",
       "      <th></th>\n",
       "      <th>Sector</th>\n",
       "      <th>Market Cap</th>\n",
       "    </tr>\n",
       "  </thead>\n",
       "  <tbody>\n",
       "    <tr>\n",
       "      <th>PNC</th>\n",
       "      <td>Financial Services</td>\n",
       "      <td>7.288021e+10</td>\n",
       "    </tr>\n",
       "    <tr>\n",
       "      <th>MMM</th>\n",
       "      <td>Industrials</td>\n",
       "      <td>8.437496e+10</td>\n",
       "    </tr>\n",
       "    <tr>\n",
       "      <th>CBRE</th>\n",
       "      <td>Real Estate</td>\n",
       "      <td>2.663606e+10</td>\n",
       "    </tr>\n",
       "    <tr>\n",
       "      <th>WOR</th>\n",
       "      <td>Industrials</td>\n",
       "      <td>2.349591e+09</td>\n",
       "    </tr>\n",
       "    <tr>\n",
       "      <th>LVS</th>\n",
       "      <td>Consumer Cyclical</td>\n",
       "      <td>2.686189e+10</td>\n",
       "    </tr>\n",
       "    <tr>\n",
       "      <th>...</th>\n",
       "      <td>...</td>\n",
       "      <td>...</td>\n",
       "    </tr>\n",
       "    <tr>\n",
       "      <th>CADE</th>\n",
       "      <td>error</td>\n",
       "      <td>5.092842e+09</td>\n",
       "    </tr>\n",
       "    <tr>\n",
       "      <th>RLGY</th>\n",
       "      <td>error</td>\n",
       "      <td>1.428203e+09</td>\n",
       "    </tr>\n",
       "    <tr>\n",
       "      <th>LHCG</th>\n",
       "      <td>error</td>\n",
       "      <td>5.258370e+09</td>\n",
       "    </tr>\n",
       "    <tr>\n",
       "      <th>MSEX</th>\n",
       "      <td>error</td>\n",
       "      <td>1.479196e+09</td>\n",
       "    </tr>\n",
       "    <tr>\n",
       "      <th>HCI</th>\n",
       "      <td>error</td>\n",
       "      <td>7.079133e+08</td>\n",
       "    </tr>\n",
       "  </tbody>\n",
       "</table>\n",
       "<p>1505 rows × 2 columns</p>\n",
       "</div>"
      ],
      "text/plain": [
       "                  Sector    Market Cap\n",
       "PNC   Financial Services  7.288021e+10\n",
       "MMM          Industrials  8.437496e+10\n",
       "CBRE         Real Estate  2.663606e+10\n",
       "WOR          Industrials  2.349591e+09\n",
       "LVS    Consumer Cyclical  2.686189e+10\n",
       "...                  ...           ...\n",
       "CADE               error  5.092842e+09\n",
       "RLGY               error  1.428203e+09\n",
       "LHCG               error  5.258370e+09\n",
       "MSEX               error  1.479196e+09\n",
       "HCI                error  7.079133e+08\n",
       "\n",
       "[1505 rows x 2 columns]"
      ]
     },
     "execution_count": 29,
     "metadata": {},
     "output_type": "execute_result"
    }
   ],
   "source": [
    "pd.concat([sectors_df,mktcap_df],axis=1)"
   ]
  },
  {
   "cell_type": "code",
   "execution_count": 30,
   "id": "24225fc9-0736-421a-8de8-03158a7a7f6f",
   "metadata": {},
   "outputs": [],
   "source": [
    "#total_mkt_cap = mktcap_df.replace([np.nan], 0).sum()\n",
    "#mktcap_df['mkt_cap_pct'] = mktcap_df.replace([np.nan], 0)/total_mkt_cap"
   ]
  },
  {
   "cell_type": "code",
   "execution_count": null,
   "id": "64775fa7-69f1-42fa-be65-4d052ffd9a62",
   "metadata": {},
   "outputs": [],
   "source": []
  },
  {
   "cell_type": "code",
   "execution_count": 31,
   "id": "4005498d-cb05-42b0-9eec-ce0e5531f564",
   "metadata": {},
   "outputs": [],
   "source": [
    "#[rp[2] for rp in results_prices][0].info['sector']"
   ]
  },
  {
   "cell_type": "code",
   "execution_count": null,
   "id": "85ecc631-d351-4173-bd36-6f0e2844a4e1",
   "metadata": {},
   "outputs": [],
   "source": []
  },
  {
   "cell_type": "code",
   "execution_count": null,
   "id": "aec7367e-8278-4230-977b-206d1b37bb9f",
   "metadata": {},
   "outputs": [],
   "source": []
  },
  {
   "cell_type": "code",
   "execution_count": 32,
   "id": "1816e358-d346-4b98-afa7-99db332e69e7",
   "metadata": {},
   "outputs": [
    {
     "data": {
      "text/plain": [
       "'\\narr=np.array(names_prices)\\npd.Series(arr).value_counts()\\nset_ = pd.Series(arr).value_counts()[pd.Series(arr).value_counts()>1]\\nif(len(set_)==0):\\n    duplicates = []\\n    pass\\nelse:\\n    duplicates = set_.index[0]\\n    '"
      ]
     },
     "execution_count": 32,
     "metadata": {},
     "output_type": "execute_result"
    }
   ],
   "source": [
    "\"\"\"\n",
    "arr=np.array(names_prices)\n",
    "pd.Series(arr).value_counts()\n",
    "set_ = pd.Series(arr).value_counts()[pd.Series(arr).value_counts()>1]\n",
    "if(len(set_)==0):\n",
    "    duplicates = []\n",
    "    pass\n",
    "else:\n",
    "    duplicates = set_.index[0]\n",
    "    \"\"\""
   ]
  },
  {
   "cell_type": "code",
   "execution_count": null,
   "id": "5f7b51f5-c16a-43c1-89c6-9cbb75ec47b8",
   "metadata": {},
   "outputs": [],
   "source": []
  },
  {
   "cell_type": "code",
   "execution_count": 33,
   "id": "92cff6fb-95a2-4470-9537-96ae4e4e44ab",
   "metadata": {},
   "outputs": [],
   "source": [
    "#len(results)"
   ]
  },
  {
   "cell_type": "code",
   "execution_count": null,
   "id": "4b54d7e2-39cb-48a4-9cb2-313a406aa903",
   "metadata": {},
   "outputs": [],
   "source": []
  },
  {
   "cell_type": "code",
   "execution_count": 34,
   "id": "b4223738-183b-4bb9-8bab-8dfb350bc136",
   "metadata": {},
   "outputs": [],
   "source": [
    "names_prices = [rp[0] for rp in results_prices]"
   ]
  },
  {
   "cell_type": "code",
   "execution_count": 37,
   "id": "5904954a-8598-44fe-b925-267c10964913",
   "metadata": {},
   "outputs": [],
   "source": [
    "prices_df = pd.DataFrame()\n",
    "\n",
    "#def process_df(data_):\n",
    "    \n",
    "for n in range(0,len(names_prices)):\n",
    "    #print(names_prices[n])\n",
    "    data_ = results_prices[n][1]\n",
    "    data_['Symbol'] = names_prices[n]\n",
    "    \"\"\"\n",
    "    if(np.sum(duplicates==names_prices[n])>0):\n",
    "        #potential duplicate\n",
    "        if((np.sum((np.unique(prices_df['Symbol']))==n))>0):\n",
    "            pass\n",
    "        else:\n",
    "            prices_df = pd.concat([prices_df,data_],axis=0)            \n",
    "    else:\n",
    "    \"\"\"\n",
    "    \n",
    "    data_['trailing_1yr_max'] = (pd.DataFrame(data_)['High']).rolling(252).max()\n",
    "    data_['trailing_1yr_min'] = (pd.DataFrame(data_)['High']).rolling(252).min()\n",
    "\n",
    "    data_['trailing_60d_max'] = (pd.DataFrame(data_)['High']).rolling(42).min()\n",
    "    data_['trailing_60d_min'] = (pd.DataFrame(data_)['High']).rolling(42).min()\n",
    "    \n",
    "    data_['trailing_30d_max'] = (pd.DataFrame(data_)['High']).rolling(21).min()\n",
    "    data_['trailing_30d_min'] = (pd.DataFrame(data_)['High']).rolling(21).min()\n",
    "\n",
    "    data_['trailing_risk_max'] = (pd.DataFrame(data_)['High']).rolling(40).max()\n",
    "    data_['trailing_risk_min'] = (pd.DataFrame(data_)['High']).rolling(40).min()\n",
    "    \n",
    "    data_['risk'] = data_['trailing_risk_max']-data_['trailing_risk_min']\n",
    "    \n",
    "    data_['momentum_1yr'] = (data_['trailing_1yr_max']-data_['trailing_1yr_min']) + (data_['trailing_60d_max']-data_['trailing_60d_min']) + (data_['trailing_30d_max']-data_['trailing_30d_min']) + (data_['trailing_risk_max']-data_['trailing_risk_min'])\n",
    "    \n",
    "    data_['risk_per_share'] = data_['momentum_1yr']/data_['risk']\n",
    "    \n",
    "    prices_df = pd.concat([prices_df,data_],axis=0)"
   ]
  },
  {
   "cell_type": "code",
   "execution_count": null,
   "id": "e319b0ed-d29f-4cc4-b0b9-8c236cad6edb",
   "metadata": {},
   "outputs": [],
   "source": []
  },
  {
   "cell_type": "code",
   "execution_count": null,
   "id": "18ee21a8-8a87-4e39-ba06-1e0fb6401f7b",
   "metadata": {},
   "outputs": [],
   "source": []
  },
  {
   "cell_type": "code",
   "execution_count": null,
   "id": "5d454900-fcb6-401e-a060-744534924c0b",
   "metadata": {},
   "outputs": [],
   "source": [
    "#sectors_df.reindex(mktcap_df.index.duplicated())"
   ]
  },
  {
   "cell_type": "code",
   "execution_count": null,
   "id": "03fd2f28-718b-44df-9952-990ca5b479ad",
   "metadata": {},
   "outputs": [],
   "source": []
  },
  {
   "cell_type": "code",
   "execution_count": null,
   "id": "9ba41273-34e7-4b11-a1b0-0347d4540675",
   "metadata": {},
   "outputs": [],
   "source": []
  },
  {
   "cell_type": "code",
   "execution_count": null,
   "id": "6206e42a-0776-415f-a5ea-738860e7927d",
   "metadata": {},
   "outputs": [],
   "source": []
  },
  {
   "cell_type": "code",
   "execution_count": 38,
   "id": "400365a0-c03e-4cb5-a8ce-a92179faa37b",
   "metadata": {},
   "outputs": [],
   "source": []
  },
  {
   "cell_type": "code",
   "execution_count": null,
   "id": "99c45887-558d-46b9-9790-2dc4e0102ae1",
   "metadata": {},
   "outputs": [],
   "source": []
  },
  {
   "cell_type": "code",
   "execution_count": null,
   "id": "6148b354-6eac-4483-80e6-6416bed0c345",
   "metadata": {},
   "outputs": [],
   "source": []
  },
  {
   "cell_type": "code",
   "execution_count": null,
   "id": "bd36d6f9-4261-4ef2-9fed-20db6316d591",
   "metadata": {},
   "outputs": [],
   "source": [
    "\"\"\"\n",
    "screenerMetrics = []\n",
    "\n",
    "for n in npa:\n",
    "    \n",
    "    #data_df = pd.DataFrame(n[0])\n",
    "    data_df = n\n",
    "    n_ = data_df['Symbol'].values[-1]\n",
    "    #print(n_)\n",
    "    value = calculateMinMax(n)\n",
    "    #print(value)\n",
    "    screenerMetrics.append(value)\n",
    "\"\"\""
   ]
  },
  {
   "cell_type": "code",
   "execution_count": 52,
   "id": "4f07d49c-9042-4179-9fda-36a4e62accf7",
   "metadata": {},
   "outputs": [
    {
     "name": "stderr",
     "output_type": "stream",
     "text": [
      "C:\\Users\\User\\AppData\\Local\\Programs\\Python\\Python39\\lib\\site-packages\\distributed\\client.py:1265: VersionMismatchWarning: Mismatched versions found\n",
      "\n",
      "+-------------+---------------+---------------+---------------+\n",
      "| Package     | client        | scheduler     | workers       |\n",
      "+-------------+---------------+---------------+---------------+\n",
      "| dask        | 2022.01.1     | 2021.11.2     | 2021.11.2     |\n",
      "| distributed | 2022.01.1     | 2021.11.2     | 2021.11.2     |\n",
      "| lz4         | 3.1.3         | 3.1.10        | 3.1.10        |\n",
      "| python      | 3.9.7.final.0 | 3.9.9.final.0 | 3.9.9.final.0 |\n",
      "| toolz       | 0.11.1        | 0.11.2        | 0.11.2        |\n",
      "+-------------+---------------+---------------+---------------+\n",
      "  warnings.warn(version_module.VersionMismatchWarning(msg[0][\"warning\"]))\n"
     ]
    }
   ],
   "source": [
    "npa = []\n",
    "for s in names_prices:\n",
    "    subset = prices_df.iloc[np.where(prices_df['Symbol']==s)]\n",
    "    if(len(subset)==0):\n",
    "        pass\n",
    "    else:\n",
    "        npa.append(subset)\n",
    "    \n",
    "screenerMetrics = []\n",
    "\n",
    "client = Client('192.168.3.100:8786')\n",
    "client.restart()\n",
    "\n",
    "future = client.map(calculateMinMax, npa)\n",
    "\n",
    "#my intent was to capture future objects vs results and this gave me results\n",
    "for f in as_completed(future):\n",
    "    if(f.status==\"error\"):\n",
    "        screenerMetrics.append(\"error\")\n",
    "    else:\n",
    "        screenerMetrics.append(f.result()) \n",
    "client.close()\n"
   ]
  },
  {
   "cell_type": "code",
   "execution_count": null,
   "id": "53f3b840-f810-494c-b4e8-cb1f753a4d25",
   "metadata": {},
   "outputs": [],
   "source": [
    "#names_prices[np.where(np.array(names_prices)=='MMM')[0][0]]"
   ]
  },
  {
   "cell_type": "code",
   "execution_count": null,
   "id": "9739e908-184d-4c6d-a187-ff82141eb3df",
   "metadata": {},
   "outputs": [],
   "source": []
  },
  {
   "cell_type": "code",
   "execution_count": null,
   "id": "29ba03fb-9956-4343-9205-4f244bb906d6",
   "metadata": {},
   "outputs": [],
   "source": [
    "#np.min(npa[np.where(np.array(names_prices)=='GBX')[0][0]]['Open'])"
   ]
  },
  {
   "cell_type": "code",
   "execution_count": 49,
   "id": "9b617ca2-ec24-4888-aae0-03b95dd729fe",
   "metadata": {},
   "outputs": [],
   "source": [
    "#calculateMinMax(npa[np.where(np.array(names_prices)=='GBX')[0][0]])"
   ]
  },
  {
   "cell_type": "code",
   "execution_count": 59,
   "id": "02e283b6-7ac9-4204-9ab9-7d21204a110a",
   "metadata": {},
   "outputs": [
    {
     "data": {
      "text/html": [
       "<div>\n",
       "<style scoped>\n",
       "    .dataframe tbody tr th:only-of-type {\n",
       "        vertical-align: middle;\n",
       "    }\n",
       "\n",
       "    .dataframe tbody tr th {\n",
       "        vertical-align: top;\n",
       "    }\n",
       "\n",
       "    .dataframe thead th {\n",
       "        text-align: right;\n",
       "    }\n",
       "</style>\n",
       "<table border=\"1\" class=\"dataframe\">\n",
       "  <thead>\n",
       "    <tr style=\"text-align: right;\">\n",
       "      <th></th>\n",
       "      <th>risk_trend</th>\n",
       "    </tr>\n",
       "  </thead>\n",
       "  <tbody>\n",
       "    <tr>\n",
       "      <th>1054</th>\n",
       "      <td>53.026171</td>\n",
       "    </tr>\n",
       "    <tr>\n",
       "      <th>1392</th>\n",
       "      <td>31.060938</td>\n",
       "    </tr>\n",
       "    <tr>\n",
       "      <th>108</th>\n",
       "      <td>21.902852</td>\n",
       "    </tr>\n",
       "    <tr>\n",
       "      <th>714</th>\n",
       "      <td>17.411716</td>\n",
       "    </tr>\n",
       "    <tr>\n",
       "      <th>1010</th>\n",
       "      <td>15.649131</td>\n",
       "    </tr>\n",
       "    <tr>\n",
       "      <th>...</th>\n",
       "      <td>...</td>\n",
       "    </tr>\n",
       "    <tr>\n",
       "      <th>818</th>\n",
       "      <td>NaN</td>\n",
       "    </tr>\n",
       "    <tr>\n",
       "      <th>853</th>\n",
       "      <td>NaN</td>\n",
       "    </tr>\n",
       "    <tr>\n",
       "      <th>1107</th>\n",
       "      <td>NaN</td>\n",
       "    </tr>\n",
       "    <tr>\n",
       "      <th>1143</th>\n",
       "      <td>NaN</td>\n",
       "    </tr>\n",
       "    <tr>\n",
       "      <th>1320</th>\n",
       "      <td>NaN</td>\n",
       "    </tr>\n",
       "  </tbody>\n",
       "</table>\n",
       "<p>1501 rows × 1 columns</p>\n",
       "</div>"
      ],
      "text/plain": [
       "      risk_trend\n",
       "1054   53.026171\n",
       "1392   31.060938\n",
       "108    21.902852\n",
       "714    17.411716\n",
       "1010   15.649131\n",
       "...          ...\n",
       "818          NaN\n",
       "853          NaN\n",
       "1107         NaN\n",
       "1143         NaN\n",
       "1320         NaN\n",
       "\n",
       "[1501 rows x 1 columns]"
      ]
     },
     "execution_count": 59,
     "metadata": {},
     "output_type": "execute_result"
    }
   ],
   "source": [
    "#pd.DataFrame(screener['risk_trend']).sort_values(by='risk_trend',ascending=False)"
   ]
  },
  {
   "cell_type": "code",
   "execution_count": 60,
   "id": "9ed589a9-2bb5-485a-bc33-9769a199f24d",
   "metadata": {},
   "outputs": [
    {
     "data": {
      "text/plain": [
       "\"\\nworkbook = xlsxwriter.Workbook('SP1500_screener_multiple.xlsx')\\nworkbook.define_name('Prices', '=SP1500Prices!$A$1:$J$'+str(len(prices_df)+1))\\nworkbook.define_name('Sectors', '=stock_sectors!$A$1:$B$'+str(len(sectors_df)+1))\\nworkbook.define_name('market_caps', '=market_caps!$A$1:$B$'+str(len(mktcap_df)+1))\\nworkbook.define_name('SP1500', '=SP1500!$B$1:$C$'+str(len(sp1500_index_df)+1))\\n\\nworkbook.close()\\n\""
      ]
     },
     "execution_count": 60,
     "metadata": {},
     "output_type": "execute_result"
    }
   ],
   "source": [
    "writer = pd.ExcelWriter('SP1500_screener_multiple.xlsx', engine='xlsxwriter')\n",
    "\n",
    "\n",
    "prices_df.to_excel(writer, sheet_name='SP1500Prices')\n",
    "#prices_df.drop(['Sector', 'Market Cap'], axis=1).to_excel(writer, sheet_name='SP1500Prices')\n",
    "\n",
    "sectors_df.to_excel(writer, sheet_name='stock_sectors')\n",
    "\n",
    "mktcap_df.to_excel(writer, sheet_name='market_caps')\n",
    "\n",
    "sp1500_index_df.to_excel(writer, sheet_name='SP1500')\n",
    "\n",
    "pd.DataFrame(sp500).to_excel(writer, sheet_name='SP500')\n",
    "pd.DataFrame(sp600).to_excel(writer, sheet_name='SP600')\n",
    "pd.DataFrame(sp400).to_excel(writer, sheet_name='SP400')\n",
    "screener = pd.DataFrame(screenerMetrics,columns=['Symbol','max_2y','min_2y','std_2y','mean_2y','max_1y','min_1y','std_1y','mean_1y','latest_p','2yr_close_0pct','2yr_close_2pct','2yr_close_9pct','2yr_close_25pct','2yr_close_50pct','2yr_close_75pct','2yr_close_91pct','2yr_close_98pct','2yr_close_100pct','1yr_close_0pct','1yr_close_2pct','1yr_close_9pct','1yr_close_25pct','1yr_close_50pct','2yr_close_75pct','1yr_close_91pct','1yr_close_98pct','1yr_close_100pct','risk_trend'])\n",
    "screener['2yr_pct'] = (screener['latest_p']-screener['min_2y'])/(screener['max_2y']-screener['min_2y'])\n",
    "screener['1yr_pct'] = (screener['latest_p']-screener['min_1y'])/(screener['max_1y']-screener['min_1y'])\n",
    "screener.sort_values(kind=\"quicksort\", ascending=True,by='risk_trend',inplace=True)\n",
    "screener.to_excel(writer, sheet_name='Screener')\n",
    "\n",
    "writer.save()\n",
    "\n",
    "wb = openpyxl.load_workbook('SP1500_screener_multiple.xlsx')\n",
    "#openpyxl.Workbook()\n",
    "new_range = openpyxl.workbook.defined_name.DefinedName('Prices', attr_text='SP1500Prices!$A$1:$H$'+str(len(prices_df)+1))\n",
    "wb.defined_names.append(new_range)\n",
    "new_range = openpyxl.workbook.defined_name.DefinedName('Sectors', attr_text='stock_sectors!$A$1:$B$'+str(len(sectors_df)+1))\n",
    "wb.defined_names.append(new_range)\n",
    "new_range = openpyxl.workbook.defined_name.DefinedName('market_caps', attr_text='market_caps!$A$1:$B$'+str(len(mktcap_df)+1))\n",
    "wb.defined_names.append(new_range)\n",
    "new_range = openpyxl.workbook.defined_name.DefinedName('SP1500', attr_text='SP1500!$B$1:$C$'+str(len(sp1500_index_df)+1))\n",
    "wb.defined_names.append(new_range)\n",
    "\n",
    "#wb.defined_names.append(new_range)\n",
    "wb.save('SP1500_screener_multiple.xlsx')\n",
    "wb.close()\n",
    "#named_range = NamedRange(\"test_nr\", [(new_sheet, \"A1\")])\n",
    "#wb.add_named_range(new_range)\n",
    "\"\"\"\n",
    "workbook = xlsxwriter.Workbook('SP1500_screener_multiple.xlsx')\n",
    "workbook.define_name('Prices', '=SP1500Prices!$A$1:$J$'+str(len(prices_df)+1))\n",
    "workbook.define_name('Sectors', '=stock_sectors!$A$1:$B$'+str(len(sectors_df)+1))\n",
    "workbook.define_name('market_caps', '=market_caps!$A$1:$B$'+str(len(mktcap_df)+1))\n",
    "workbook.define_name('SP1500', '=SP1500!$B$1:$C$'+str(len(sp1500_index_df)+1))\n",
    "\n",
    "workbook.close()\n",
    "\"\"\""
   ]
  },
  {
   "cell_type": "code",
   "execution_count": null,
   "id": "5735f5d4-1c34-4b16-9112-c7ddf324336d",
   "metadata": {},
   "outputs": [],
   "source": []
  },
  {
   "cell_type": "code",
   "execution_count": null,
   "id": "21feff41-645a-42c9-a47e-1468ed9034d8",
   "metadata": {},
   "outputs": [],
   "source": []
  },
  {
   "cell_type": "code",
   "execution_count": null,
   "id": "53e7ca0f-2a81-42dc-9126-bb12778894b6",
   "metadata": {},
   "outputs": [],
   "source": []
  }
 ],
 "metadata": {
  "kernelspec": {
   "display_name": "Python 3 (ipykernel)",
   "language": "python",
   "name": "python3"
  },
  "language_info": {
   "codemirror_mode": {
    "name": "ipython",
    "version": 3
   },
   "file_extension": ".py",
   "mimetype": "text/x-python",
   "name": "python",
   "nbconvert_exporter": "python",
   "pygments_lexer": "ipython3",
   "version": "3.9.7"
  }
 },
 "nbformat": 4,
 "nbformat_minor": 5
}
