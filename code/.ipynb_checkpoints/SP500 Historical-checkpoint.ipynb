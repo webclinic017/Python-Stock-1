{
 "cells": [
  {
   "cell_type": "code",
   "execution_count": null,
   "id": "46d7e913-5b50-46c5-9f60-25fa1da87569",
   "metadata": {},
   "outputs": [],
   "source": [
    "import datetime as dt\n",
    "import pandas as pd\n",
    "import numpy as np\n",
    "from datetime import datetime\n"
   ]
  },
  {
   "cell_type": "code",
   "execution_count": null,
   "id": "2c4d7cbb-b179-4fa2-948d-775876d21c62",
   "metadata": {},
   "outputs": [],
   "source": [
    "url = 'https://en.wikipedia.org/wiki/List_of_S%26P_500_companies'\n",
    "data = pd.read_html(url)"
   ]
  },
  {
   "cell_type": "code",
   "execution_count": null,
   "id": "662076d5-ade9-4d4e-b089-c353e32fa1a2",
   "metadata": {},
   "outputs": [],
   "source": [
    "sp500 = data[0].iloc[:, [0,1,6,7]]\n",
    "sp500.columns = ['ticker', 'name', 'date' , 'cik']\n",
    "\n",
    "# Get rows where date is missing or not formatted correctly.\n",
    "mask = sp500['date'].str.strip().str.fullmatch('\\d{4}-\\d{2}-\\d{2}')\n",
    "mask.loc[mask.isnull()] = False\n",
    "mask = mask == False\n",
    "sp500[mask].head()"
   ]
  },
  {
   "cell_type": "code",
   "execution_count": null,
   "id": "786e30a7-82f7-48ac-af5f-7b8c2a869fff",
   "metadata": {},
   "outputs": [],
   "source": [
    "current = sp500.copy()\n",
    "current.loc[mask, 'date'] = '1900-01-01'\n",
    "current.loc[:, 'date'] = pd.to_datetime(current['date'])\n",
    "current.loc[:, 'cik'] = current['cik'].apply(str).str.zfill(10)"
   ]
  },
  {
   "cell_type": "code",
   "execution_count": null,
   "id": "093c67d9-28a8-4b5f-abd0-a556abfe3972",
   "metadata": {},
   "outputs": [],
   "source": [
    "# Get the adjustments dataframe and rename columns\n",
    "adjustments = data[1]\n",
    "columns = ['date', 'ticker_added','name_added', 'ticker_removed', 'name_removed', 'reason']\n",
    "adjustments.columns = columns\n",
    "\n",
    "# Create additions dataframe.\n",
    "additions = adjustments[~adjustments['ticker_added'].isnull()][['date','ticker_added', 'name_added']]\n",
    "additions.columns = ['date','ticker','name']\n",
    "additions['action'] = 'added'\n",
    "\n",
    "# Create removals dataframe.\n",
    "removals = adjustments[~adjustments['ticker_removed'].isnull()][['date','ticker_removed','name_removed']]\n",
    "removals.columns = ['date','ticker','name']\n",
    "removals['action'] = 'removed'\n",
    "\n",
    "# Merge the additions and removals into one dataframe.\n",
    "historical = pd.concat([additions, removals])\n",
    "historical.head()"
   ]
  },
  {
   "cell_type": "code",
   "execution_count": null,
   "id": "6b3b06f2-3384-4e21-ae42-2a2e5677e3d7",
   "metadata": {},
   "outputs": [],
   "source": []
  },
  {
   "cell_type": "code",
   "execution_count": null,
   "id": "8eabc586-93b5-4109-ae06-3c3f28b3015c",
   "metadata": {},
   "outputs": [],
   "source": [
    "\"\"\"\n",
    "missing = current[~current['ticker'].isin(historical['ticker'])].copy()\n",
    "missing['action'] = 'added'\n",
    "missing = missing[['date','ticker','name','action', 'cik']]\n",
    "missing.loc[:, 'cik'] = current['cik'].apply(str).str.zfill(10)\n",
    "missing.head()\n",
    "\"\"\""
   ]
  },
  {
   "cell_type": "code",
   "execution_count": null,
   "id": "f06bc39f-16d7-4ed3-93ae-73b382b01cb9",
   "metadata": {},
   "outputs": [],
   "source": [
    "#sp500_history = pd.concat([historical, missing])\n",
    "sp500_history = historical\n",
    "sp500_history = sp500_history.sort_values(by=['date','ticker'], ascending=[False, True])\n",
    "sp500_history = sp500_history.drop_duplicates(subset=['date','ticker'])\n",
    "sp500_history"
   ]
  },
  {
   "cell_type": "code",
   "execution_count": null,
   "id": "14e2dd1d-c023-418b-88ec-528fcd940f20",
   "metadata": {},
   "outputs": [],
   "source": [
    "starting = list(sp500['ticker'].values)"
   ]
  },
  {
   "cell_type": "code",
   "execution_count": null,
   "id": "df72e472-ab52-4e19-a9ff-1064fef0d9fc",
   "metadata": {},
   "outputs": [],
   "source": []
  },
  {
   "cell_type": "code",
   "execution_count": null,
   "id": "0c3ca51a-e512-41f3-b546-982915415c84",
   "metadata": {},
   "outputs": [],
   "source": []
  },
  {
   "cell_type": "code",
   "execution_count": null,
   "id": "8f71bf4e-cafa-4695-90ed-ba479668b448",
   "metadata": {},
   "outputs": [],
   "source": [
    "sp500_history"
   ]
  },
  {
   "cell_type": "code",
   "execution_count": null,
   "id": "c06b7a39-f107-43cd-82ed-a627ad96abd3",
   "metadata": {},
   "outputs": [],
   "source": [
    "type(sp500_history[['date']].values[-1][0])"
   ]
  },
  {
   "cell_type": "code",
   "execution_count": null,
   "id": "5df96f4e-82af-4a0f-8819-4499427ec73a",
   "metadata": {},
   "outputs": [],
   "source": []
  },
  {
   "cell_type": "code",
   "execution_count": null,
   "id": "281eaaf7-00e4-4d67-a3db-4c57bf8463e6",
   "metadata": {},
   "outputs": [],
   "source": [
    "def format_date(x):\n",
    "    if(type(x)==pd._libs.tslibs.timestamps.Timestamp):\n",
    "        return(x.strftime('%Y-%m-%d'))\n",
    "    else:\n",
    "        return(datetime.strptime(x, '%B %d, %Y'))\n",
    "    #return datetime.strptime(x, '%B %d, %Y')\n",
    "\n",
    "#sp500_history['date'].transform(format_date)\n",
    "\n",
    "sp500_history_sorted = sp500_history.set_index(sp500_history['date'].transform(format_date)).sort_index(ascending=False)\n"
   ]
  },
  {
   "cell_type": "code",
   "execution_count": null,
   "id": "1beacb0a-7b9a-4980-87bb-f5e5bdc1c5a4",
   "metadata": {},
   "outputs": [],
   "source": [
    "sp500_history_sorted"
   ]
  },
  {
   "cell_type": "code",
   "execution_count": null,
   "id": "6f64eca0-a72f-42b1-a794-be98a0d3a735",
   "metadata": {},
   "outputs": [],
   "source": [
    "sp500_history_sorted['ticker'][0]"
   ]
  },
  {
   "cell_type": "code",
   "execution_count": null,
   "id": "89f67170-8a1e-41cd-a9b0-911e317f0c12",
   "metadata": {},
   "outputs": [],
   "source": [
    "starting = list(sp500['ticker'].values)"
   ]
  },
  {
   "cell_type": "code",
   "execution_count": null,
   "id": "3835e963-8a46-4826-a943-1330f3d56b5a",
   "metadata": {},
   "outputs": [],
   "source": [
    "sp500_history_sorted"
   ]
  },
  {
   "cell_type": "code",
   "execution_count": null,
   "id": "377b1fad-da2b-41a6-aa6c-eda39e1f82bb",
   "metadata": {},
   "outputs": [],
   "source": [
    "starting"
   ]
  },
  {
   "cell_type": "code",
   "execution_count": null,
   "id": "bde6c0ae-14f3-4bae-82ea-1dad3f6d72c3",
   "metadata": {},
   "outputs": [],
   "source": [
    "np.sort(list(sp500['ticker'].values))"
   ]
  },
  {
   "cell_type": "code",
   "execution_count": null,
   "id": "3caa0936-b61c-4caf-96d6-ad73c9365018",
   "metadata": {},
   "outputs": [],
   "source": [
    "#np.where(np.array(list(sp500['ticker'].values))=='Q')"
   ]
  },
  {
   "cell_type": "code",
   "execution_count": null,
   "id": "da87c503-7f1e-4639-bce1-555d99e324f5",
   "metadata": {},
   "outputs": [],
   "source": []
  },
  {
   "cell_type": "code",
   "execution_count": null,
   "id": "61be0af8-b77e-42a1-abef-114551aaa5d6",
   "metadata": {},
   "outputs": [],
   "source": [
    "starting = list(sp500['ticker'].values)\n",
    "\n",
    "sp500members_df = pd.DataFrame()\n",
    "#missing Q\n",
    "\n",
    "for d in (np.unique(sp500_history_sorted.index)[::-1]):\n",
    "    #print(d)\n",
    "    d_subset = sp500_history_sorted.loc[[d]].sort_values(by='action',ascending=True)\n",
    "    print(d_subset)\n",
    "    sp500members_df = pd.concat([sp500members_df,pd.DataFrame([[starting]],index=[d],columns=['members'])],axis=0)\n",
    "    \n",
    "    for d_ in range(0,len(d_subset)):\n",
    "        d_data = d_subset.iloc[[d_]]\n",
    "\n",
    "        ticker = d_data['ticker'][0]\n",
    "        print(ticker)\n",
    "        #print(starting)\n",
    "        if(d_data['action'][0]=='added'):\n",
    "            #print(\"removing\",ticker)\n",
    "            remove = np.where(np.array(starting)==ticker)\n",
    "            if(len(remove[0])==0):\n",
    "                pass\n",
    "            else:\n",
    "                starting.pop(remove[0][0])\n",
    "            \n",
    "        else:\n",
    "            #print(starting)\n",
    "            #print(\"adding\", ticker)\n",
    "            starting.extend([ticker])\n",
    "    print(len(starting))\n",
    "    #print(starting)\n",
    "    pd.DataFrame(starting)\n"
   ]
  },
  {
   "cell_type": "code",
   "execution_count": null,
   "id": "41611d54-e72c-4637-b2a2-dc9518f288a6",
   "metadata": {},
   "outputs": [],
   "source": [
    "sp500members_df.to_csv(\"sp500_historical_members.csv\")"
   ]
  }
 ],
 "metadata": {
  "kernelspec": {
   "display_name": "Python 3 (ipykernel)",
   "language": "python",
   "name": "python3"
  },
  "language_info": {
   "codemirror_mode": {
    "name": "ipython",
    "version": 3
   },
   "file_extension": ".py",
   "mimetype": "text/x-python",
   "name": "python",
   "nbconvert_exporter": "python",
   "pygments_lexer": "ipython3",
   "version": "3.9.7"
  }
 },
 "nbformat": 4,
 "nbformat_minor": 5
}
