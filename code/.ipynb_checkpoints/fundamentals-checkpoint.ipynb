{
 "cells": [
  {
   "cell_type": "code",
   "execution_count": null,
   "metadata": {},
   "outputs": [],
   "source": [
    "#pulled from\n",
    "#https://github.com/GregBland/yfinance_article/blob/master/example_code.ipynb\n",
    "import yfinance as yf\n",
    "import matplotlib.pyplot as plt\n",
    "\n",
    "import datetime as dt\n",
    "import datetime\n",
    "\n",
    "apple = yf.Ticker(\"aapl\")\n",
    "\n",
    "# show actions (dividends, splits)\n",
    "apple.actions\n",
    "\n",
    "# show dividends\n",
    "apple.dividends\n",
    "\n",
    "# show splits\n",
    "apple.splits"
   ]
  },
  {
   "cell_type": "code",
   "execution_count": null,
   "metadata": {},
   "outputs": [],
   "source": [
    "import yfinance as yf\n",
    "\n",
    "aapl = yf.Ticker(\"aapl\")\n",
    "aapl"
   ]
  },
  {
   "cell_type": "code",
   "execution_count": null,
   "metadata": {},
   "outputs": [],
   "source": []
  },
  {
   "cell_type": "code",
   "execution_count": null,
   "metadata": {},
   "outputs": [],
   "source": [
    "import yfinance as yf\n",
    "\n",
    "aapl = yf.Ticker(\"aapl\")\n",
    "\n",
    "# get stock info\n",
    "aapl_historical = aapl.history(start=\"2020-06-02\", end=\"2020-06-07\", interval=\"1d\")\n",
    "aapl_historical"
   ]
  },
  {
   "cell_type": "code",
   "execution_count": null,
   "metadata": {},
   "outputs": [],
   "source": [
    "tickers = yf.Tickers('msft aapl goog')"
   ]
  },
  {
   "cell_type": "code",
   "execution_count": null,
   "metadata": {},
   "outputs": [],
   "source": [
    "tickers"
   ]
  },
  {
   "cell_type": "code",
   "execution_count": null,
   "metadata": {},
   "outputs": [],
   "source": []
  },
  {
   "cell_type": "code",
   "execution_count": null,
   "metadata": {},
   "outputs": [],
   "source": [
    "# TICKERS OBJECT IS BROKEN\n",
    "#tickers.MSFT.info"
   ]
  },
  {
   "cell_type": "code",
   "execution_count": null,
   "metadata": {},
   "outputs": [],
   "source": [
    "data = yf.download(\"AMZN AAPL GOOG\", start=\"2017-01-01\", end=\"2017-04-30\", group_by = 'column')\n",
    "data"
   ]
  },
  {
   "cell_type": "code",
   "execution_count": null,
   "metadata": {},
   "outputs": [],
   "source": []
  },
  {
   "cell_type": "code",
   "execution_count": null,
   "metadata": {},
   "outputs": [],
   "source": [
    "aapl = yf.Ticker(\"aapl\") \n",
    "aapl.info"
   ]
  },
  {
   "cell_type": "code",
   "execution_count": null,
   "metadata": {},
   "outputs": [],
   "source": [
    "aapl = yf.Ticker(\"aapl\")\n",
    "aapl.info['forwardPE']"
   ]
  },
  {
   "cell_type": "code",
   "execution_count": null,
   "metadata": {},
   "outputs": [],
   "source": [
    "aapl.info['dividendRate']"
   ]
  },
  {
   "cell_type": "code",
   "execution_count": null,
   "metadata": {},
   "outputs": [],
   "source": [
    "aapl.dividends"
   ]
  },
  {
   "cell_type": "code",
   "execution_count": null,
   "metadata": {},
   "outputs": [],
   "source": [
    "aapl.financials"
   ]
  },
  {
   "cell_type": "code",
   "execution_count": null,
   "metadata": {},
   "outputs": [],
   "source": [
    "aapl.earnings"
   ]
  },
  {
   "cell_type": "code",
   "execution_count": null,
   "metadata": {},
   "outputs": [],
   "source": [
    "aapl.quarterly_earnings"
   ]
  },
  {
   "cell_type": "code",
   "execution_count": null,
   "metadata": {},
   "outputs": [],
   "source": [
    "aapl.cashflow"
   ]
  },
  {
   "cell_type": "code",
   "execution_count": null,
   "metadata": {},
   "outputs": [],
   "source": [
    "aapl.balance_sheet"
   ]
  },
  {
   "cell_type": "code",
   "execution_count": null,
   "metadata": {},
   "outputs": [],
   "source": [
    "import pandas as pd\n",
    "\n",
    "tickers_list = [\"aapl\", \"goog\", \"amzn\", \"BAC\", \"BA\"] # example list\n",
    "tickers_data = {} # empty dictionary"
   ]
  },
  {
   "cell_type": "code",
   "execution_count": null,
   "metadata": {},
   "outputs": [],
   "source": [
    "for ticker in tickers_list:\n",
    "    ticker_object = yf.Ticker(ticker)\n",
    "\n",
    "    #convert info() output from dictionary to dataframe\n",
    "    temp = pd.DataFrame.from_dict(ticker_object.info, orient=\"index\")\n",
    "    temp.reset_index(inplace=True)\n",
    "    temp.columns = [\"Attribute\", \"Recent\"]\n",
    "    \n",
    "    # add (ticker, dataframe) to main dictionary\n",
    "    tickers_data[ticker] = temp\n",
    "\n",
    "tickers_data"
   ]
  },
  {
   "cell_type": "code",
   "execution_count": null,
   "metadata": {},
   "outputs": [],
   "source": [
    "# combine all the info dataframes for each ticker into a single data frame\n",
    "combined_data = pd.concat(tickers_data)\n",
    "combined_data = combined_data.reset_index()\n",
    "combined_data"
   ]
  },
  {
   "cell_type": "code",
   "execution_count": null,
   "metadata": {},
   "outputs": [],
   "source": [
    "del combined_data[\"level_1\"] # clean up unnecessary column\n",
    "combined_data.columns = [\"Ticker\", \"Attribute\", \"Recent\"] # update column names\n",
    "\n",
    "combined_data"
   ]
  },
  {
   "cell_type": "code",
   "execution_count": null,
   "metadata": {},
   "outputs": [],
   "source": [
    "employees = combined_data[combined_data[\"Attribute\"]==\"fullTimeEmployees\"].reset_index()\n",
    "del employees[\"index\"] # clean up unnecessary column\n",
    "\n",
    "employees"
   ]
  },
  {
   "cell_type": "code",
   "execution_count": null,
   "metadata": {},
   "outputs": [],
   "source": [
    "employees_sorted = employees.sort_values('Recent',ascending=False)\n",
    "employees_sorted"
   ]
  },
  {
   "cell_type": "code",
   "execution_count": null,
   "metadata": {},
   "outputs": [],
   "source": [
    "aapl.info[\"marketCap\"]"
   ]
  },
  {
   "cell_type": "code",
   "execution_count": null,
   "metadata": {},
   "outputs": [],
   "source": [
    "aapl.info[\"volume\"]"
   ]
  },
  {
   "cell_type": "code",
   "execution_count": null,
   "metadata": {},
   "outputs": [],
   "source": [
    "aapl.info[\"averageVolume\"]"
   ]
  },
  {
   "cell_type": "code",
   "execution_count": null,
   "metadata": {},
   "outputs": [],
   "source": [
    "aapl.info[\"averageVolume10days\"]"
   ]
  },
  {
   "cell_type": "code",
   "execution_count": null,
   "metadata": {},
   "outputs": [],
   "source": [
    "aapl_historical = aapl.history(period=\"max\", interval=\"1wk\")\n",
    "aapl_historical"
   ]
  },
  {
   "cell_type": "code",
   "execution_count": null,
   "metadata": {},
   "outputs": [],
   "source": [
    "aapl.info[\"fiftyTwoWeekHigh\"]"
   ]
  },
  {
   "cell_type": "code",
   "execution_count": null,
   "metadata": {},
   "outputs": [],
   "source": [
    "aapl.options"
   ]
  },
  {
   "cell_type": "code",
   "execution_count": null,
   "metadata": {},
   "outputs": [],
   "source": [
    "# get option chain calls data for specific expiration date\n",
    "opt = aapl.option_chain(date=aapl.options[-1])\n",
    "opt.calls"
   ]
  },
  {
   "cell_type": "code",
   "execution_count": null,
   "metadata": {},
   "outputs": [],
   "source": [
    "opt.puts"
   ]
  },
  {
   "cell_type": "code",
   "execution_count": null,
   "metadata": {},
   "outputs": [],
   "source": [
    "opt"
   ]
  },
  {
   "cell_type": "code",
   "execution_count": null,
   "metadata": {},
   "outputs": [],
   "source": []
  },
  {
   "cell_type": "code",
   "execution_count": null,
   "metadata": {},
   "outputs": [],
   "source": [
    "#### OTHER METHODS NOT USED IN ARTICLE ####"
   ]
  },
  {
   "cell_type": "code",
   "execution_count": null,
   "metadata": {},
   "outputs": [],
   "source": [
    "# show actions (dividends, splits)\n",
    "aapl.actions"
   ]
  },
  {
   "cell_type": "code",
   "execution_count": null,
   "metadata": {},
   "outputs": [],
   "source": [
    "# show splits\n",
    "aapl.splits"
   ]
  },
  {
   "cell_type": "code",
   "execution_count": null,
   "metadata": {},
   "outputs": [],
   "source": [
    "aapl.financials"
   ]
  },
  {
   "cell_type": "code",
   "execution_count": null,
   "metadata": {},
   "outputs": [],
   "source": [
    "# show financials BROKEN\n",
    "CAGR = ((aapl.financials.loc['Total Revenue'][3]/aapl.financials.loc['Total Revenue'][0])**(1/4)-1)*100\n",
    "EPS =  aapl.financials.loc['Net Income']/aapl.balance_sheet.loc['Common Stock']"
   ]
  },
  {
   "cell_type": "code",
   "execution_count": null,
   "metadata": {},
   "outputs": [],
   "source": []
  },
  {
   "cell_type": "code",
   "execution_count": 292,
   "metadata": {},
   "outputs": [
    {
     "data": {
      "text/plain": [
       "-4.406527456139986"
      ]
     },
     "execution_count": 292,
     "metadata": {},
     "output_type": "execute_result"
    }
   ],
   "source": []
  },
  {
   "cell_type": "code",
   "execution_count": null,
   "metadata": {},
   "outputs": [],
   "source": []
  },
  {
   "cell_type": "code",
   "execution_count": null,
   "metadata": {},
   "outputs": [],
   "source": [
    "\n",
    "start_date = dt.datetime.strptime(EPS.index[3].strftime('%Y-%m-%d'), \"%Y-%m-%d\").date()\n",
    "end_date   = dt.datetime.strptime(EPS.index[0].strftime('%Y-%m-%d'), \"%Y-%m-%d\").date()\n",
    "\n",
    "dates_ = [ start_date + datetime.timedelta(n) for n in range(int ((end_date - start_date).days))]"
   ]
  },
  {
   "cell_type": "code",
   "execution_count": null,
   "metadata": {},
   "outputs": [],
   "source": [
    "#pd.to_datetime(data.index)"
   ]
  },
  {
   "cell_type": "code",
   "execution_count": 250,
   "metadata": {},
   "outputs": [
    {
     "data": {
      "text/plain": [
       "'2020-09-26T00:00:00'"
      ]
     },
     "execution_count": 250,
     "metadata": {},
     "output_type": "execute_result"
    }
   ],
   "source": []
  },
  {
   "cell_type": "code",
   "execution_count": 259,
   "metadata": {},
   "outputs": [
    {
     "data": {
      "text/plain": [
       "'2017-09-25'"
      ]
     },
     "execution_count": 259,
     "metadata": {},
     "output_type": "execute_result"
    }
   ],
   "source": [
    "\n"
   ]
  },
  {
   "cell_type": "code",
   "execution_count": 260,
   "metadata": {},
   "outputs": [
    {
     "name": "stdout",
     "output_type": "stream",
     "text": [
      "[*********************100%***********************]  1 of 1 completed\n"
     ]
    }
   ],
   "source": [
    "data = yf.download(\"AAPL\", start=(EPS.index[3]-datetime.timedelta(15)).strftime('%Y-%m-%d'), end=(EPS.index[0]+datetime.timedelta(5)).strftime('%Y-%m-%d'), group_by = 'column')"
   ]
  },
  {
   "cell_type": "code",
   "execution_count": 261,
   "metadata": {},
   "outputs": [],
   "source": [
    "newdata = data.reindex(dates_)\n",
    "newdata.index = pd.to_datetime(dates_)\n",
    "#data.interpolate(method='time')\n",
    "newdata = newdata.interpolate(method='time')\n",
    "newdata = newdata.fillna(method='bfill',axis=0)\n",
    "\n",
    "date_ = []\n",
    "for i in range(0,len(newdata.index)):\n",
    "    date_.append(newdata.index[i].isoformat())\n",
    "    \n",
    "newdata.index = date_"
   ]
  },
  {
   "cell_type": "code",
   "execution_count": 262,
   "metadata": {},
   "outputs": [
    {
     "data": {
      "text/plain": [
       "Index(['2017-09-30T00:00:00', '2017-10-01T00:00:00', '2017-10-02T00:00:00',\n",
       "       '2017-10-03T00:00:00', '2017-10-04T00:00:00', '2017-10-05T00:00:00',\n",
       "       '2017-10-06T00:00:00', '2017-10-07T00:00:00', '2017-10-08T00:00:00',\n",
       "       '2017-10-09T00:00:00',\n",
       "       ...\n",
       "       '2020-09-16T00:00:00', '2020-09-17T00:00:00', '2020-09-18T00:00:00',\n",
       "       '2020-09-19T00:00:00', '2020-09-20T00:00:00', '2020-09-21T00:00:00',\n",
       "       '2020-09-22T00:00:00', '2020-09-23T00:00:00', '2020-09-24T00:00:00',\n",
       "       '2020-09-25T00:00:00'],\n",
       "      dtype='object', length=1092)"
      ]
     },
     "execution_count": 262,
     "metadata": {},
     "output_type": "execute_result"
    }
   ],
   "source": [
    "newdata.index"
   ]
  },
  {
   "cell_type": "code",
   "execution_count": 276,
   "metadata": {},
   "outputs": [],
   "source": [
    "start_ = dt.datetime.strptime(EPS.index[3].strftime('%Y-%m-%d'), \"%Y-%m-%d\").isoformat()\n",
    "y1 = dt.datetime.strptime(EPS.index[2].strftime('%Y-%m-%d'), \"%Y-%m-%d\").isoformat()\n",
    "y2 = dt.datetime.strptime(EPS.index[1].strftime('%Y-%m-%d'), \"%Y-%m-%d\").isoformat()\n",
    "end_ = dt.datetime.strptime(EPS.index[0].strftime('%Y-%m-%d'), \"%Y-%m-%d\").isoformat()"
   ]
  },
  {
   "cell_type": "code",
   "execution_count": 283,
   "metadata": {},
   "outputs": [],
   "source": [
    "prices_ = [newdata.loc[start_:].iloc[0]['Adj Close'],newdata.loc[:y1].iloc[-1]['Adj Close'],newdata.loc[:y2].iloc[-1]['Adj Close'],newdata.loc[:end_].iloc[-1]['Adj Close']]"
   ]
  },
  {
   "cell_type": "code",
   "execution_count": 286,
   "metadata": {},
   "outputs": [],
   "source": [
    "P_E = EPS/prices_"
   ]
  },
  {
   "cell_type": "code",
   "execution_count": 293,
   "metadata": {},
   "outputs": [
    {
     "ename": "SyntaxError",
     "evalue": "invalid syntax (Temp/ipykernel_10632/4164258588.py, line 3)",
     "output_type": "error",
     "traceback": [
      "\u001b[1;36m  File \u001b[1;32m\"C:\\Users\\User\\AppData\\Local\\Temp/ipykernel_10632/4164258588.py\"\u001b[1;36m, line \u001b[1;32m3\u001b[0m\n\u001b[1;33m    plt.plot(P_E)\u001b[0m\n\u001b[1;37m    ^\u001b[0m\n\u001b[1;31mSyntaxError\u001b[0m\u001b[1;31m:\u001b[0m invalid syntax\n"
     ]
    }
   ],
   "source": [
    "\n",
    "print(\"P/E\")\n",
    "plt.plot(P_E)\n",
    "plt.xticks(rotation = 60)\n",
    "plt.show()\n",
    "      \n",
    "print(\"CAGR\")\n",
    "print(CAGR)"
   ]
  },
  {
   "cell_type": "code",
   "execution_count": 220,
   "metadata": {},
   "outputs": [],
   "source": []
  },
  {
   "cell_type": "code",
   "execution_count": 221,
   "metadata": {},
   "outputs": [
    {
     "data": {
      "text/html": [
       "<div>\n",
       "<style scoped>\n",
       "    .dataframe tbody tr th:only-of-type {\n",
       "        vertical-align: middle;\n",
       "    }\n",
       "\n",
       "    .dataframe tbody tr th {\n",
       "        vertical-align: top;\n",
       "    }\n",
       "\n",
       "    .dataframe thead th {\n",
       "        text-align: right;\n",
       "    }\n",
       "</style>\n",
       "<table border=\"1\" class=\"dataframe\">\n",
       "  <thead>\n",
       "    <tr style=\"text-align: right;\">\n",
       "      <th></th>\n",
       "      <th>Open</th>\n",
       "      <th>High</th>\n",
       "      <th>Low</th>\n",
       "      <th>Close</th>\n",
       "      <th>Adj Close</th>\n",
       "      <th>Volume</th>\n",
       "    </tr>\n",
       "  </thead>\n",
       "  <tbody>\n",
       "    <tr>\n",
       "      <th>2017-09-30T00:00:00</th>\n",
       "      <td>38.564999</td>\n",
       "      <td>38.612499</td>\n",
       "      <td>38.180000</td>\n",
       "      <td>38.452499</td>\n",
       "      <td>36.698429</td>\n",
       "      <td>74795200.0</td>\n",
       "    </tr>\n",
       "    <tr>\n",
       "      <th>2017-10-01T00:00:00</th>\n",
       "      <td>38.564999</td>\n",
       "      <td>38.612499</td>\n",
       "      <td>38.180000</td>\n",
       "      <td>38.452499</td>\n",
       "      <td>36.698429</td>\n",
       "      <td>74795200.0</td>\n",
       "    </tr>\n",
       "    <tr>\n",
       "      <th>2017-10-02T00:00:00</th>\n",
       "      <td>38.564999</td>\n",
       "      <td>38.612499</td>\n",
       "      <td>38.180000</td>\n",
       "      <td>38.452499</td>\n",
       "      <td>36.698429</td>\n",
       "      <td>74795200.0</td>\n",
       "    </tr>\n",
       "    <tr>\n",
       "      <th>2017-10-03T00:00:00</th>\n",
       "      <td>38.502499</td>\n",
       "      <td>38.772499</td>\n",
       "      <td>38.477501</td>\n",
       "      <td>38.619999</td>\n",
       "      <td>36.858295</td>\n",
       "      <td>64921200.0</td>\n",
       "    </tr>\n",
       "    <tr>\n",
       "      <th>2017-10-04T00:00:00</th>\n",
       "      <td>38.407501</td>\n",
       "      <td>38.465000</td>\n",
       "      <td>38.115002</td>\n",
       "      <td>38.369999</td>\n",
       "      <td>36.619701</td>\n",
       "      <td>80655200.0</td>\n",
       "    </tr>\n",
       "    <tr>\n",
       "      <th>...</th>\n",
       "      <td>...</td>\n",
       "      <td>...</td>\n",
       "      <td>...</td>\n",
       "      <td>...</td>\n",
       "      <td>...</td>\n",
       "      <td>...</td>\n",
       "    </tr>\n",
       "    <tr>\n",
       "      <th>2020-09-21T00:00:00</th>\n",
       "      <td>104.540001</td>\n",
       "      <td>110.190002</td>\n",
       "      <td>103.099998</td>\n",
       "      <td>110.080002</td>\n",
       "      <td>109.376511</td>\n",
       "      <td>195713800.0</td>\n",
       "    </tr>\n",
       "    <tr>\n",
       "      <th>2020-09-22T00:00:00</th>\n",
       "      <td>112.680000</td>\n",
       "      <td>112.860001</td>\n",
       "      <td>109.160004</td>\n",
       "      <td>111.809998</td>\n",
       "      <td>111.095444</td>\n",
       "      <td>183055400.0</td>\n",
       "    </tr>\n",
       "    <tr>\n",
       "      <th>2020-09-23T00:00:00</th>\n",
       "      <td>111.620003</td>\n",
       "      <td>112.110001</td>\n",
       "      <td>106.769997</td>\n",
       "      <td>107.120003</td>\n",
       "      <td>106.435432</td>\n",
       "      <td>150718700.0</td>\n",
       "    </tr>\n",
       "    <tr>\n",
       "      <th>2020-09-24T00:00:00</th>\n",
       "      <td>105.169998</td>\n",
       "      <td>110.250000</td>\n",
       "      <td>105.000000</td>\n",
       "      <td>108.220001</td>\n",
       "      <td>107.528404</td>\n",
       "      <td>167743300.0</td>\n",
       "    </tr>\n",
       "    <tr>\n",
       "      <th>2020-09-25T00:00:00</th>\n",
       "      <td>108.430000</td>\n",
       "      <td>112.440002</td>\n",
       "      <td>107.669998</td>\n",
       "      <td>112.279999</td>\n",
       "      <td>111.562439</td>\n",
       "      <td>149981400.0</td>\n",
       "    </tr>\n",
       "  </tbody>\n",
       "</table>\n",
       "<p>1092 rows × 6 columns</p>\n",
       "</div>"
      ],
      "text/plain": [
       "                           Open        High         Low       Close  \\\n",
       "2017-09-30T00:00:00   38.564999   38.612499   38.180000   38.452499   \n",
       "2017-10-01T00:00:00   38.564999   38.612499   38.180000   38.452499   \n",
       "2017-10-02T00:00:00   38.564999   38.612499   38.180000   38.452499   \n",
       "2017-10-03T00:00:00   38.502499   38.772499   38.477501   38.619999   \n",
       "2017-10-04T00:00:00   38.407501   38.465000   38.115002   38.369999   \n",
       "...                         ...         ...         ...         ...   \n",
       "2020-09-21T00:00:00  104.540001  110.190002  103.099998  110.080002   \n",
       "2020-09-22T00:00:00  112.680000  112.860001  109.160004  111.809998   \n",
       "2020-09-23T00:00:00  111.620003  112.110001  106.769997  107.120003   \n",
       "2020-09-24T00:00:00  105.169998  110.250000  105.000000  108.220001   \n",
       "2020-09-25T00:00:00  108.430000  112.440002  107.669998  112.279999   \n",
       "\n",
       "                      Adj Close       Volume  \n",
       "2017-09-30T00:00:00   36.698429   74795200.0  \n",
       "2017-10-01T00:00:00   36.698429   74795200.0  \n",
       "2017-10-02T00:00:00   36.698429   74795200.0  \n",
       "2017-10-03T00:00:00   36.858295   64921200.0  \n",
       "2017-10-04T00:00:00   36.619701   80655200.0  \n",
       "...                         ...          ...  \n",
       "2020-09-21T00:00:00  109.376511  195713800.0  \n",
       "2020-09-22T00:00:00  111.095444  183055400.0  \n",
       "2020-09-23T00:00:00  106.435432  150718700.0  \n",
       "2020-09-24T00:00:00  107.528404  167743300.0  \n",
       "2020-09-25T00:00:00  111.562439  149981400.0  \n",
       "\n",
       "[1092 rows x 6 columns]"
      ]
     },
     "execution_count": 221,
     "metadata": {},
     "output_type": "execute_result"
    }
   ],
   "source": []
  },
  {
   "cell_type": "code",
   "execution_count": null,
   "metadata": {},
   "outputs": [],
   "source": [
    "newdata.loc[dt.datetime.strptime(EPS.index[0].strftime('%Y-%m-%d'), \"%Y-%m-%d\").date()]  "
   ]
  },
  {
   "cell_type": "code",
   "execution_count": null,
   "metadata": {},
   "outputs": [],
   "source": [
    "for e in EPS.index:\n",
    "    d_ = e.strftime('%Y-%m-%d')\n",
    "    print(newdata.iloc[d_])\n",
    "    #print(aapl.history(start=EPS.index[0].strftime('%Y-%m-%d'), end=EPS.index[3].strftime('%Y-%m-%d'), interval=\"1d\",auto_adjust=True))"
   ]
  },
  {
   "cell_type": "code",
   "execution_count": null,
   "metadata": {},
   "outputs": [],
   "source": [
    "aapl.history(start=\"2020-06-02\", end=\"2020-06-07\", interval=\"1d\",auto_adjust=True)"
   ]
  },
  {
   "cell_type": "code",
   "execution_count": null,
   "metadata": {},
   "outputs": [],
   "source": [
    "aapl.quarterly_financials"
   ]
  },
  {
   "cell_type": "code",
   "execution_count": null,
   "metadata": {},
   "outputs": [],
   "source": [
    "# show quarterly_financials BROKEN\n",
    "aapl.quarterly_financials\n"
   ]
  },
  {
   "cell_type": "code",
   "execution_count": null,
   "metadata": {},
   "outputs": [],
   "source": [
    "# show major holders \n",
    "aapl.major_holders"
   ]
  },
  {
   "cell_type": "code",
   "execution_count": null,
   "metadata": {},
   "outputs": [],
   "source": [
    "# show institutional holders\n",
    "aapl.institutional_holders"
   ]
  },
  {
   "cell_type": "code",
   "execution_count": null,
   "metadata": {},
   "outputs": [],
   "source": [
    "# show balance sheet BROKEN\n",
    "aapl.balance_sheet"
   ]
  },
  {
   "cell_type": "code",
   "execution_count": null,
   "metadata": {},
   "outputs": [],
   "source": [
    "# BROKEN\n",
    "aapl.quarterly_balance_sheet"
   ]
  },
  {
   "cell_type": "code",
   "execution_count": null,
   "metadata": {},
   "outputs": [],
   "source": [
    "# show cashflow BROKEN\n",
    "aapl.cashflow"
   ]
  },
  {
   "cell_type": "code",
   "execution_count": null,
   "metadata": {},
   "outputs": [],
   "source": [
    "# BROKEN\n",
    "aapl.quarterly_cashflow\n"
   ]
  },
  {
   "cell_type": "code",
   "execution_count": null,
   "metadata": {},
   "outputs": [],
   "source": [
    "# show earnings BROKEN\n",
    "aapl.earnings"
   ]
  },
  {
   "cell_type": "code",
   "execution_count": null,
   "metadata": {},
   "outputs": [],
   "source": [
    "# BROKEN\n",
    "aapl.quarterly_earnings"
   ]
  },
  {
   "cell_type": "code",
   "execution_count": null,
   "metadata": {},
   "outputs": [],
   "source": [
    "# show sustainability BROKEN\n",
    "aapl.sustainability"
   ]
  },
  {
   "cell_type": "code",
   "execution_count": null,
   "metadata": {},
   "outputs": [],
   "source": [
    "# show analysts recommendations\n",
    "aapl.recommendations"
   ]
  },
  {
   "cell_type": "code",
   "execution_count": null,
   "metadata": {},
   "outputs": [],
   "source": [
    "# show next event (earnings, etc)\n",
    "aapl.calendar\n"
   ]
  },
  {
   "cell_type": "code",
   "execution_count": null,
   "metadata": {},
   "outputs": [],
   "source": [
    "# show ISIN code - *experimental*\n",
    "# ISIN = International Securities Identification Number\n",
    "aapl.isin"
   ]
  },
  {
   "cell_type": "code",
   "execution_count": null,
   "metadata": {},
   "outputs": [],
   "source": [
    "# show options expirations\n",
    "aapl.options"
   ]
  },
  {
   "cell_type": "code",
   "execution_count": null,
   "metadata": {},
   "outputs": [],
   "source": [
    "# get option chain for specific expiration\n",
    "opt = aapl.option_chain()\n",
    "opt"
   ]
  }
 ],
 "metadata": {
  "kernelspec": {
   "display_name": "Python 3 (ipykernel)",
   "language": "python",
   "name": "python3"
  },
  "language_info": {
   "codemirror_mode": {
    "name": "ipython",
    "version": 3
   },
   "file_extension": ".py",
   "mimetype": "text/x-python",
   "name": "python",
   "nbconvert_exporter": "python",
   "pygments_lexer": "ipython3",
   "version": "3.9.6"
  }
 },
 "nbformat": 4,
 "nbformat_minor": 4
}
