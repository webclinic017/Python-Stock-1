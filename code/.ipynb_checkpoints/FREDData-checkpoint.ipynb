{
 "cells": [
  {
   "cell_type": "code",
   "execution_count": null,
   "id": "2ec6684d",
   "metadata": {},
   "outputs": [],
   "source": [
    "!python -V"
   ]
  },
  {
   "cell_type": "code",
   "execution_count": null,
   "id": "08d626f2",
   "metadata": {},
   "outputs": [],
   "source": [
    "!pip install pandas==1.2.5 pandas_datareader yfinance==0.1.62 ipywidgets pandas_market_calendars matplotlib numpy pycorrelate\n"
   ]
  },
  {
   "cell_type": "code",
   "execution_count": null,
   "id": "8655e344-79c7-4326-a116-a163805e71cc",
   "metadata": {},
   "outputs": [],
   "source": [
    "import os\n",
    "from datetime import datetime\n",
    "import concurrent\n",
    "import pandas_datareader.data as web\n",
    "import pandas as pd\n",
    "import datetime\n",
    "import concurrent.futures\n",
    "from concurrent.futures import wait, ALL_COMPLETED\n",
    "import yfinance as yf\n",
    "import urllib\n",
    "import urllib.request\n",
    "import time\n",
    "from datetime import timedelta\n",
    "\n",
    "from ipywidgets import interactive\n",
    "import numpy as np\n",
    "\n",
    "from ipywidgets import interact, interactive, fixed, interact_manual\n",
    "import ipywidgets as widgets\n",
    "import numpy as np\n",
    "import pycorrelate as pyc\n",
    "import seaborn as sns\n",
    "from yahoofinancials import YahooFinancials"
   ]
  },
  {
   "cell_type": "code",
   "execution_count": null,
   "id": "de3c8e1c-3d8e-4408-95cb-312ae590387c",
   "metadata": {},
   "outputs": [],
   "source": [
    "def split_sequences(sequences, n_steps_in, n_steps_out):\n",
    "\n",
    "    X, y = list(), list()\n",
    "    for i in range(len(sequences)):\n",
    "        # find the end of this pattern\n",
    "        end_ix = i + n_steps_in\n",
    "        out_end_ix = end_ix + n_steps_out\n",
    "        # check if we are beyond the dataset\n",
    "        if out_end_ix > len(sequences):\n",
    "            break\n",
    "        # gather input and output parts of the pattern\n",
    "        seq_x, seq_y = sequences[i:end_ix, :], sequences[end_ix:out_end_ix, :]\n",
    "        X.append(seq_x)\n",
    "        y.append(seq_y)\n",
    "\n",
    "    return np.array(X), np.array(y)\n"
   ]
  },
  {
   "cell_type": "code",
   "execution_count": null,
   "id": "3eec4b2f",
   "metadata": {},
   "outputs": [],
   "source": [
    "\n",
    "\n",
    "#frequency = output_variable.value\n",
    "frequency = \"D\"\n",
    "\n",
    "w=117*8\n",
    "#start = datetime.datetime(2010, 1, 1)\n",
    "\n",
    "#end = datetime.datetime(2013, 1, 27)\n",
    "end_date = datetime.date.today()\n",
    "\n",
    "start_date = end_date - timedelta(weeks=w)\n",
    "\n",
    "pd.set_option('display.max_columns', None) #replace n with the number of columns you want to see completely\n",
    "pd.set_option('display.max_rows', None) #replace n with the number of rows you want to see completely\n",
    "\n",
    "#cores = int(len(os.sched_getaffinity(0)))\n",
    "\n",
    "print(end_date)\n",
    "print(start_date)\n",
    "\n",
    "#Ultra-Low-Sulfur No. 2 Diesel Fuel Prices: Los Angeles (WDFUELLA)\n",
    "#US Regular All Formulations Gas Price (GASREGW)\n",
    "#Trade Weighted U.S. Dollar Index: Broad, Goods and Services (DTWEXBGS)\n",
    "\n",
    "\n",
    "etf_commodities = ['DBO','CORN', 'WEAT', 'SOYB', 'JO', 'SGG', 'BAL', 'COW', 'MOO', 'TAGS', 'KOL' ]\n",
    "#Gold, Silver, Platinum, Copper, Paladium, Aluminum, Iron, Steel\n",
    "etf_metals = ['IAU', 'SLV', 'PGM', 'JJC', 'PALL', 'JJU', 'IFUNX', 'SLX']\n",
    "#US dollar, European Euro, Japanese yen, Pound sterling, Australian dollar, Canadian dollar, Swiss franc, Chinese Yuan Renminbi, Swedish Krona, Peso, India\n",
    "#defunct: Russia: XRU, Mexico: FXM\n",
    "etf_foreign_exchanges = ['UUP','FXE','FXY','FXB','FXA','FXC','FXF','CYB', 'FXS', 'INR']\n",
    "#residential, Ishares all NAmerica\n",
    "etf_real_estate = ['REZ', 'IYR']\n",
    "#Russia, Germany, UK, Japan, China, Euro, Euro, Brazil, Latin America, Mexico, India\n",
    "etf_economies = ['ERUS','EWG','EWU','EWJ','MCHI','EZU','IEUR','EWZ','ILF','EWW','INDA']\n",
    "#Ishares Investment Grade, IShares core aggregate Investment grade, Short, Total, 1-5 Years, 5-10 Years, 10 Years, Gov/Credit\n",
    "#defunct:\n",
    "\n",
    "etf_spdr_indexes = ['XLC','XLY','XLP','XLE','XLF','XLV','XLI','XLB','XLRE','XLK','XLU']\n",
    "etf_dow_components = ['MMM','AXP','AMGN','AAPL','BA','CAT','CVX','CSCO','KO','DOW','GS','HD','HON','IBM','INTC','JNJ','JPM','MCD','MRK','MSFT','NKE','PG','CRM','TRV','UNH','VZ','V','WMT','WBA','DIS']\n",
    "\n",
    "etf_bonds = ['LQD', 'AGG', 'NEAR', 'IUSB', 'ISTB', 'IMTB', 'ILTB', 'GBF']\n",
    "etf_muni_bonds = ['MUB', 'SUB', 'MEAR']\n",
    "\n",
    "etf_treasuries = ['AGZ', 'GOVT', 'BIL', 'SHV', 'SHY', 'IEI', 'IEF', 'TLT']\n",
    "\n",
    "crypto = ['BTC-USD','ETH','RPL','BCH','EOS','LTC']\n",
    "\n",
    "#,'GOLDAMGBD228NLBM',\n",
    "FRED_Indicators = ['WDFUELLA','DTWEXBGS','GASREGW','DGS2','CPALTT01USQ657N','PAYEMS','IRLTLT01USM156N','MABMM301USM189S','LFWA64TTUSM647S','MANMM101USA189S','MICH','UMCSENT','CSCICP03USM665S','DGS10','DTB3','DGS3MO','CASTHPI','GDPC1','CIVPART','POPTOTUSA647NWDB','MEHOINUSA672N','HOSMEDUSM052N','MORTGAGE30US','TTLHH','CSUSHPINSA','EMRATIO','CPIAUCSL','PSAVERT','LRUN64TTUSQ156S','USSTHPI','NYSTHPI','M2V','GFDEBTN','DFII10','GFDEGDQ188S','CUSR0000SEHA','ETOTALUSQ176N','ERENTUSQ176N','RECPROUSM156N','T5YIFR','BAMLHYH0A0HYM2TRIV','BAMLCC0A1AAATRIV','GVZCLS','DGS1','BAMLCC0A4BBBTRIV','VXVCLS','IC4WSA','WILLMICROCAPPR','WILLLRGCAPVAL','CFNAIDIFF','MZMSL','KCFSI','T5YIE','TOTALSA','USSLIND','AWHAETP','CES0500000003','TCU','WTB3MS','WGS3MO','TWEXB','DEXCHUS','DEXUSUK','CILACBQ158SBOG','CES4348400001','FEDFUNDS','TDSP','PERMIT','CP','PRFI','DRSFRMACBS','DRCCLACBS','DRBLACBS','DALLCIACBEP','USROA','USROE','RSAHORUSQ156S','MEFAINUSA672N','COMREPUSQ159N','HDTGPDUSQ163N','POP','NROU','FGCCSAQ027S','TEDRATE', 'VIXCLS', 'NFCI','INDPRO','LES1252881600Q','CUUR0000SEHA','LEU0252918500Q','BAA10Y','BAMLC0A0CM','BAMLH0A3HYC','BOGMBASE','DCOILBRENTEU','DCOILWTICO','DFF','DGS1MO','DGS30','DGS5','FPCPITOTLZGUSA','ICSA','INTDSRUSM193N','M1','M1V','MPRIME','PPIACO','SPCS20RSA','STLFSI2','T10Y2Y','T10Y3M','TB3MS','TREAST','UNRATE','WPU0911']\n",
    "#FRED_Indicators = [\"CPALTT01USQ657N\",\"PAYEMS\",\"IRLTLT01USM156N\",\"MABMM301USM189S\",\"LFWA64TTUSM647S\",\"MANMM101USA189S\",\"MICH\",\"UMCSENT\",\"CSCICP03USM665S\",\"DGS10\",\"DTB3\",\"DGS3MO\",\"CASTHPI\",\"GDPC1\",\"CIVPART\",\"POPTOTUSA647NWDB\",\"MEHOINUSA672N\",\"HOSMEDUSM052N\",\"MORTGAGE30US\",\"TTLHH\",\"CSUSHPINSA\",\"EMRATIO\",\"CPIAUCSL\",\"PSAVERT\",\"LRUN64TTUSQ156S\",\"USSTHPI\",\"NYSTHPI\",\"M2V\",\"GFDEBTN\",\"DFII10\",\"GFDEGDQ188S\",\"CUSR0000SEHA\",\"ETOTALUSQ176N\",\"ERENTUSQ176N\",\"RECPROUSM156N\",\"T5YIFR\",\"BAMLHYH0A0HYM2TRIV\",\"BAMLCC0A1AAATRIV\",\"GVZCLS\",\"DGS1\",\"BAMLCC0A4BBBTRIV\",\"VXVCLS\",\"IC4WSA\",\"WILLMICROCAPPR\",\"WILLLRGCAPVAL\",\"CFNAIDIFF\",\"MZMSL\",\"KCFSI\",\"T5YIE\",\"TOTALSA\",\"USSLIND\",\"AWHAETP\",\"CES0500000003\",\"TCU\",\"WTB3MS\",\"WGS3MO\",\"TWEXB\",\"DEXCHUS\",\"DEXUSUK\",\"CILACBQ158SBOG\",\"CES4348400001\",\"FEDFUNDS\",\"TDSP\",\"PERMIT\",\"GFDEGDQ188S\",\"CP\",\"PRFI\",\"DRSFRMACBS\",\"DRCCLACBS\",\"DRBLACBS\",\"DALLCIACBEP\",\"USROA\",\"USROE\",\"RSAHORUSQ156S\",\"MEFAINUSA672N\",\"COMREPUSQ159N\",\"HDTGPDUSQ163N\",\"POP\",\"NROU\",\"FGCCSAQ027S\",\"TEDRATE\", \"VIXCLS\", \"NFCI\",\"INDPRO\",\"LES1252881600Q\",\"CUUR0000SEHA\",\"LEU0252918500Q\",\"BAA10Y\",\"BAMLC0A0CM\",\"BAMLH0A3HYC\",\"BOGMBASE\",\"DCOILBRENTEU\",\"DCOILWTICO\",\"DFF\",\"DGS1MO\",\"DGS30\",\"DGS5\",\"FPCPITOTLZGUSA\",\"GOLDAMGBD228NLBM\",\"ICSA\",\"INTDSRUSM193N\",\"M1\",\"M1V\",\"MPRIME\",\"PPIACO\",\"SPCS20RSA\",\"STLFSI2\",\"T10Y2Y\",\"T10Y3M\",\"TB3MS\",\"TREAST\",\"UNRATE\",\"WPU0911\"]\n",
    "\n",
    "Indexes = ['^SP500TR', '^GSPC', 'QQQ', 'DIA', 'VTWO']\n",
    "\n",
    "ManualStocks = ['VOO','SPY']\n",
    "\n",
    "etf_indexes_and_Crypto_list = [Indexes, ManualStocks, etf_commodities, etf_metals, etf_foreign_exchanges, etf_real_estate, etf_economies, etf_bonds, etf_muni_bonds, etf_treasuries, crypto, etf_spdr_indexes, etf_dow_components]\n",
    "\n",
    "commodities = []\n",
    "for sublist in etf_indexes_and_Crypto_list:\n",
    "    for val in sublist:\n",
    "        commodities.append(val)\n",
    "\n",
    "#pool2 = concurrent.futures.ProcessPoolExecutor(cores)\n",
    "\n",
    "completed = []\n",
    "def dl(name):\n",
    "    subset = yf.download(name, start=start_date, end=end_date, auto_adjust=True).iloc[:, :6].dropna(axis=0, how='any')\n",
    "    subset = subset[start_date.strftime('%Y-%m-%d'):end_date.strftime('%Y-%m-%d')]\n",
    "    #sleep(4)\n",
    "    if len(subset) != 0:\n",
    "        completed.append(name)\n",
    "        return (subset)\n",
    "    \n",
    "def dl2(assets):\n",
    "    #https://webcache.googleusercontent.com/search?q=cache:Em9Ge5B9ue8J:https://stackoverflow.com/questions/62614282/is-the-yfinance-module-broken-i-keep-getting-a-jsondecodeerror+&cd=3&hl=en&ct=clnk&gl=us\n",
    "\n",
    "    yahoo_financials = YahooFinancials(assets)\n",
    "\n",
    "    data = yahoo_financials.get_historical_price_data(start_date=start_date.strftime('%Y-%m-%d'), end_date=end_date.strftime('%Y-%m-%d'), time_interval='daily')\n",
    "    return(data)\n",
    "\n",
    "\n",
    "#futures2 = [pool2.submit(dl, args) for args in commodities]\n",
    "#wait(futures2, timeout=4, return_when=ALL_COMPLETED)\n",
    "futures2 = []\n",
    "#'''\n",
    "for i in commodities:\n",
    "    futures2.append(dl(i))\n",
    "#'''\n",
    "\n",
    "'''\n",
    "ohlcv_data = dl2(commodities)\n",
    "for i in commodities:\n",
    "    subset = pd.DataFrame(ohlcv_data[i]['prices']).set_index(['formatted_date'])[['open','high','low','close','adjclose','volume']].dropna()\n",
    "    #sleep(4)\n",
    "    if len(subset) != 0:\n",
    "        completed.append(i)\n",
    "        futures2.append(subset)\n",
    "'''\n",
    "#print(futures2.describe())\n"
   ]
  },
  {
   "cell_type": "code",
   "execution_count": null,
   "id": "7120b6d9-7f81-46e1-9ff4-d8c5df92fae9",
   "metadata": {},
   "outputs": [],
   "source": []
  },
  {
   "cell_type": "code",
   "execution_count": null,
   "id": "881313f8-b5dd-4481-b5b9-e4f6dcf66742",
   "metadata": {},
   "outputs": [],
   "source": []
  },
  {
   "cell_type": "code",
   "execution_count": null,
   "id": "fce1456c",
   "metadata": {},
   "outputs": [],
   "source": [
    "import pandas_market_calendars as mcal\n",
    "\n",
    "# Create a calendar\n",
    "nyse = mcal.get_calendar('NYSE')\n",
    "\n",
    "# Show available calendars\n",
    "print(mcal.get_calendar_names())\n",
    "early = nyse.schedule(start_date, end_date)\n"
   ]
  },
  {
   "cell_type": "code",
   "execution_count": null,
   "id": "1504f295-39b0-4439-9dc9-54786e2d9431",
   "metadata": {},
   "outputs": [],
   "source": []
  },
  {
   "cell_type": "code",
   "execution_count": null,
   "id": "b4f93f02",
   "metadata": {},
   "outputs": [],
   "source": [
    "\n",
    "commodities_ = pd.DataFrame()\n",
    "\n",
    "for x in range(0,len(completed)):\n",
    "    values = futures2[x]\n",
    "    values.index = pd.to_datetime(values.index)\n",
    "    values = values.resample(frequency).mean().dropna()\n",
    "    values['Symbol'] = x\n",
    "    values = values.loc[~values.index.duplicated(keep='last')]\n",
    "    values = values.reset_index()\n",
    "\n",
    "    commodities_ = pd.concat([commodities_,values], axis=0)\n",
    "\n"
   ]
  },
  {
   "cell_type": "code",
   "execution_count": null,
   "id": "6d258d0c-001a-4565-8433-19a895e1ad7e",
   "metadata": {},
   "outputs": [],
   "source": []
  },
  {
   "cell_type": "code",
   "execution_count": null,
   "id": "f60d4720",
   "metadata": {},
   "outputs": [],
   "source": [
    "import re\n",
    "\n",
    "#yahoofinancials\n",
    "#commodities_pvt = pd.pivot_table(commodities_, values='close', index=['formatted_date'],columns=['Symbol'])\n",
    "\n",
    "#yfinance\n",
    "commodities_pvt = pd.pivot_table(commodities_, values='Close', index=['Date'],columns=['Symbol'])\n",
    "commodities_pvt.columns = completed\n",
    "wd = os.getcwd()\n",
    "\n",
    "commodities_pvt.to_csv(re.sub('code', 'data', wd)+\"\\commodities.csv\")\n"
   ]
  },
  {
   "cell_type": "code",
   "execution_count": null,
   "id": "4f8ae416",
   "metadata": {},
   "outputs": [],
   "source": [
    "#commodities_pvt.describe()"
   ]
  },
  {
   "cell_type": "code",
   "execution_count": null,
   "id": "6acd6c78",
   "metadata": {},
   "outputs": [],
   "source": [
    "def Fred_Data(name):\n",
    "    temp = web.DataReader(str(name), 'fred', start_date, end_date)\n",
    "    temp.index = pd.to_datetime(temp.index)\n",
    "    temp = temp.resample(frequency).mean().dropna()\n",
    "    return(temp)\n",
    "\n",
    "#pool1 = concurrent.futures.ProcessPoolExecutor(cores)\n",
    "\n",
    "#futures1 = [pool1.submit(Fred_Data, args) for args in FRED_Indicators]\n",
    "#wait(futures1, timeout=None, return_when=ALL_COMPLETED)\n",
    "\n",
    "FRED_set = []\n",
    "FRED_completed = []\n",
    "for i in FRED_Indicators:\n",
    "    FRED_completed.append(i)\n",
    "    FRED_set.append(Fred_Data(i))\n",
    "\n"
   ]
  },
  {
   "cell_type": "code",
   "execution_count": null,
   "id": "aec2e54f",
   "metadata": {},
   "outputs": [],
   "source": []
  },
  {
   "cell_type": "code",
   "execution_count": null,
   "id": "02687812",
   "metadata": {},
   "outputs": [],
   "source": [
    "\n",
    "FRED_pvt = pd.DataFrame()\n",
    "\n",
    "for x in range(0,len(FRED_completed)):\n",
    "    values = FRED_set[x]\n",
    "    #values.index = pd.to_datetime(FRED_set[\"DATE\"])\n",
    "    values = values.resample(frequency).mean().dropna()\n",
    "    #values['Symbol'] = x\n",
    "    values = values.loc[~values.index.duplicated(keep='last')]\n",
    "    #values = values.reset_index()\n",
    "\n",
    "    FRED_pvt = pd.concat([FRED_pvt,values], axis=1)\n",
    "\n",
    "#FRED_ = pd.pivot_table(commodities_, values='Close', index=['Date'],columns=['Symbol'])\n",
    "#FRED_.to_csv(\"/mnt/distvol/FRED_set.csv\")\n",
    "\n"
   ]
  },
  {
   "cell_type": "code",
   "execution_count": null,
   "id": "d405d624",
   "metadata": {},
   "outputs": [],
   "source": []
  },
  {
   "cell_type": "code",
   "execution_count": null,
   "id": "4dbea38c",
   "metadata": {},
   "outputs": [],
   "source": [
    "\n",
    "#FRED_pvt = pd.pivot_table(FRED_, index=['DATE'])\n",
    "FRED_pvt.to_csv(re.sub('code', 'data', wd)+\"\\FRED_pvt.csv\")\n",
    "\n",
    "#print(len(FRED_.columns))\n",
    "#print(len(FRED_))\n",
    "#FRED_pvt.columns = FRED_completed\n",
    "#FRED_pvt.describe()"
   ]
  },
  {
   "cell_type": "code",
   "execution_count": null,
   "id": "e2c7c2b0",
   "metadata": {},
   "outputs": [],
   "source": [
    "#FRED_pvt.set_index(FRED_pvt.index)"
   ]
  },
  {
   "cell_type": "code",
   "execution_count": null,
   "id": "4e41c6ab",
   "metadata": {},
   "outputs": [],
   "source": [
    "combined_set = pd.concat([FRED_pvt.set_index(FRED_pvt.index),commodities_pvt],axis=1)"
   ]
  },
  {
   "cell_type": "code",
   "execution_count": null,
   "id": "d1f4f4c7",
   "metadata": {},
   "outputs": [],
   "source": [
    "if True:\n",
    "    combined_set = combined_set.interpolate(method='linear', limit_direction='forward', axis=0)"
   ]
  },
  {
   "cell_type": "code",
   "execution_count": null,
   "id": "364348f3-2789-4432-a3e9-497557d7563e",
   "metadata": {},
   "outputs": [],
   "source": []
  },
  {
   "cell_type": "code",
   "execution_count": null,
   "id": "d80cd85e",
   "metadata": {},
   "outputs": [],
   "source": [
    "combined_set.describe().loc['count'].index[combined_set.describe().loc['count']<(len(combined_set)-1)]"
   ]
  },
  {
   "cell_type": "code",
   "execution_count": null,
   "id": "03fc346c-e48a-4c48-a555-56cf78db622d",
   "metadata": {},
   "outputs": [],
   "source": [
    "pd.concat([combined_set['^SP500TR'].describe(),combined_set['T10Y3M'].describe()],axis=1)"
   ]
  },
  {
   "cell_type": "code",
   "execution_count": null,
   "id": "2ecde09b-18e9-4505-b3c8-37456233619d",
   "metadata": {},
   "outputs": [],
   "source": []
  },
  {
   "cell_type": "code",
   "execution_count": null,
   "id": "dacfb786",
   "metadata": {},
   "outputs": [],
   "source": [
    "\n",
    "drops = combined_set.describe().loc['count'].index[combined_set.describe().loc['count']<(len(combined_set)*.99)]\n",
    "print(drops)\n",
    "filtered = combined_set.columns.tolist()\n",
    "\n",
    "for d in drops:\n",
    "    #print(d)\n",
    "    filtered.remove(d)\n",
    "#filtered.remove(drops.tolist())\n",
    "#combined_set[filtered].to_csv(\"/mnt/distvol/combined_set.csv\")\n",
    "\n",
    "#drop first/last row\n",
    "all_data = combined_set[filtered]\n",
    "all_data = all_data.iloc[:-1,:]\n",
    "all_data = all_data.iloc[1:,:]\n",
    "\n",
    "all_data.loc[:, (all_data != all_data.iloc[0]).any()] \n",
    "\n",
    "all_data.to_csv(re.sub('code', 'data', wd)+\"\\combined_set.csv\")\n",
    "#filtered\n",
    "all_data.describe()"
   ]
  },
  {
   "cell_type": "code",
   "execution_count": null,
   "id": "80a8f8e0-62df-43c0-baf4-5134c22bdc45",
   "metadata": {},
   "outputs": [],
   "source": []
  },
  {
   "cell_type": "code",
   "execution_count": null,
   "id": "3547faad-34f0-46f4-b7b0-1d4b04108be8",
   "metadata": {},
   "outputs": [],
   "source": []
  },
  {
   "cell_type": "code",
   "execution_count": null,
   "id": "e61b34f4-63f8-4593-aa39-292dfaafc6e1",
   "metadata": {},
   "outputs": [],
   "source": [
    "truncatedData = all_data.reindex(early.index).interpolate(method='time')\n",
    "#len(truncatedData.dropna(axis=0).columns)\n",
    "#truncatedData = truncatedData.replace([np.inf, -np.inf, np.NaN], 0).interpolate(method='time')"
   ]
  },
  {
   "cell_type": "code",
   "execution_count": null,
   "id": "721b8125-3823-4c5c-93a3-686b031d4981",
   "metadata": {},
   "outputs": [],
   "source": [
    "len(truncatedData.columns)\n"
   ]
  },
  {
   "cell_type": "code",
   "execution_count": null,
   "id": "4f8e0b47-ea38-4fa0-8b1e-21db68aff32a",
   "metadata": {},
   "outputs": [],
   "source": [
    "deltas = truncatedData[all_data.columns].dropna().pct_change().dropna()\n",
    "deltas = deltas.replace([np.inf, -np.inf, np.NaN], 0)\n",
    "#deltas = (truncatedData[all_data.columns]/truncatedData[all_data.columns].shift(-1))-1\n"
   ]
  },
  {
   "cell_type": "code",
   "execution_count": null,
   "id": "fc23f172-ff5d-491c-af1f-a8875075e1a2",
   "metadata": {},
   "outputs": [],
   "source": [
    "np.sum(deltas.isin([np.inf, -np.inf, np.NaN])).sort_values(kind=\"quicksort\", ascending=True)"
   ]
  },
  {
   "cell_type": "code",
   "execution_count": null,
   "id": "673829c5-6201-4c46-b0c8-ff0a8872a498",
   "metadata": {},
   "outputs": [],
   "source": [
    "\n",
    "Training, Holdout = split_sequences(np.array(pd.DataFrame(truncatedData.index.strftime('%Y-%m-%d'))), 1009, 0)"
   ]
  },
  {
   "cell_type": "code",
   "execution_count": null,
   "id": "46674a8d-37f0-480c-ade2-4f2cf6b52416",
   "metadata": {},
   "outputs": [],
   "source": []
  },
  {
   "cell_type": "code",
   "execution_count": null,
   "id": "0f32a3e0",
   "metadata": {},
   "outputs": [],
   "source": [
    "compare = 'DGS2'\n",
    "#compare = 'T10Y3M'\n",
    "#compare = 'T10Y2Y'\n",
    "#target = '^SP500TR'\n",
    "target = '^GSPC'\n",
    "\n",
    "pd.concat([truncatedData[compare].pct_change(),truncatedData[target].pct_change()],axis=1).dropna().corr()"
   ]
  },
  {
   "cell_type": "code",
   "execution_count": null,
   "id": "3674b397-30ba-4421-be78-87200f3adf55",
   "metadata": {},
   "outputs": [],
   "source": [
    "def crosscorrelation(x, y, maxlag, mode='corr'):\n",
    "\t\"\"\"\n",
    "\tCross correlation with a maximum number of lags.\n",
    "\n",
    "\t`x` and `y` must be one-dimensional numpy arrays with the same length.\n",
    "\n",
    "\tThis computes the same result as\n",
    "\t\tnumpy.correlate(x, y, mode='full')[len(a)-maxlag-1:len(a)+maxlag]\n",
    "\n",
    "\tThe return vaue has length 2*maxlag + 1.\n",
    "\t\"\"\"\n",
    "\tpy = np.pad(y.conj(), 2*maxlag, mode='constant')\n",
    "\tT = np.lib.stride_tricks.as_strided(py[2*maxlag:], shape=(2*maxlag+1, len(y) + 2*maxlag),\n",
    "\t\t\t\t   strides=(-py.strides[0], py.strides[0]))\n",
    "\tpx = np.pad(x, maxlag, mode='constant')\n",
    "\tif mode == 'dot':       # get lagged dot product\n",
    "\t\treturn T.dot(px)\n",
    "\telif mode == 'corr':    # gets Pearson correlation\n",
    "\t\treturn (T.dot(px)/px.size - (T.mean(axis=1)*px.mean())) / \\\n",
    "\t\t\t   (np.std(T, axis=1) * np.std(px))\n"
   ]
  },
  {
   "cell_type": "code",
   "execution_count": null,
   "id": "e9ebbb81-8c05-4e90-88e8-573d1c83dadb",
   "metadata": {},
   "outputs": [],
   "source": [
    "#sets = range(0,len(Training),252)\n",
    "from sklearn.model_selection import train_test_split\n",
    "X_train, X_test, y_train, y_test = train_test_split(deltas[set(deltas.columns).difference(target)], deltas[target], test_size=0.33, random_state=0, shuffle=False)"
   ]
  },
  {
   "cell_type": "code",
   "execution_count": null,
   "id": "429429eb-da38-477e-9aee-0b0e16727d0f",
   "metadata": {},
   "outputs": [],
   "source": []
  },
  {
   "cell_type": "code",
   "execution_count": null,
   "id": "bb6c0020-25ab-4c94-9f26-d84298435cdb",
   "metadata": {},
   "outputs": [],
   "source": [
    "#len(crosscorrelation(np.array(X_train[i]),np.array(y_train), 63))"
   ]
  },
  {
   "cell_type": "code",
   "execution_count": null,
   "id": "bf03fa6c-9429-49bc-a4d8-fb9090c261a8",
   "metadata": {},
   "outputs": [],
   "source": [
    "\n",
    "\n",
    "from scipy import stats # For in-built method to get PCC\n",
    "from scipy.ndimage.interpolation import shift\n",
    "\n"
   ]
  },
  {
   "cell_type": "code",
   "execution_count": null,
   "id": "ebabd21c-8c19-4123-9ec3-3154d69a793d",
   "metadata": {},
   "outputs": [],
   "source": [
    "import matplotlib.pyplot as plt\n",
    "#pd.concat([X_train[\"T10Y3M\"],y_train],axis=1)#.corr()\n",
    "#plt.scatter(X_train[\"T10Y3M\"], y_train)"
   ]
  },
  {
   "cell_type": "code",
   "execution_count": null,
   "id": "c541fdd6-f4b2-4b9c-8cab-053150cbc960",
   "metadata": {},
   "outputs": [],
   "source": []
  },
  {
   "cell_type": "code",
   "execution_count": null,
   "id": "3ac492a8-5a92-4082-9120-ae94b1e52940",
   "metadata": {},
   "outputs": [],
   "source": [
    "from scipy.stats import pearsonr\n",
    "#import statsmodels.formula.api as sm\n",
    "import scipy.stats  as stats\n",
    "for i in range(0,lagn):\n",
    "    temp = pd.concat([X_train[\"T10Y3M\"].shift(i),y_train],axis=1).dropna()\n",
    "    c = temp.corr()\n",
    "    #p_value = pearsonr(temp.iloc[:,0],temp.iloc[:,1])\n",
    "    #print(c.iloc[:,1][0], p_value.f_stat['p-value'])\n",
    "    "
   ]
  },
  {
   "cell_type": "code",
   "execution_count": null,
   "id": "65cb7620-6695-4938-b293-41eda9b629f6",
   "metadata": {},
   "outputs": [],
   "source": [
    "crosscorrelation(np.array(X_train[\"T10Y3M\"]),np.array(y_train), lagn)"
   ]
  },
  {
   "cell_type": "code",
   "execution_count": null,
   "id": "74e698b8-6a48-4224-bc99-14bae16947bb",
   "metadata": {},
   "outputs": [],
   "source": []
  },
  {
   "cell_type": "code",
   "execution_count": 307,
   "id": "3de683ae-f0a3-4422-809b-d1ff35ffef99",
   "metadata": {},
   "outputs": [
    {
     "name": "stdout",
     "output_type": "stream",
     "text": [
      "LQD\n",
      "lag: 0   -8\n",
      "dtype: int64\n",
      "Pearson Correlation Coefficient:  0.037835598544759284 and a P-value of: 0.042288529007859926\n",
      "TCU\n",
      "lag: 0   -51\n",
      "dtype: int64\n",
      "Pearson Correlation Coefficient:  0.04050547288176172 and a P-value of: 0.030945081384485127\n",
      "CSCICP03USM665S\n",
      "lag: 0   -7\n",
      "dtype: int64\n",
      "Pearson Correlation Coefficient:  0.037892008671293574 and a P-value of: 0.04194630103309227\n",
      "LES1252881600Q\n",
      "lag: 0   -46\n",
      "dtype: int64\n",
      "Pearson Correlation Coefficient:  -0.040338402565821725 and a P-value of: 0.03149478028200861\n",
      "SPCS20RSA\n",
      "lag: 0   -27\n",
      "dtype: int64\n",
      "Pearson Correlation Coefficient:  0.05121807520006047 and a P-value of: 0.0061317938258142945\n",
      "DTB3\n",
      "lag: 0   -51\n",
      "dtype: int64\n",
      "Pearson Correlation Coefficient:  0.05500687329942451 and a P-value of: 0.0033754324411823483\n",
      "INDPRO\n",
      "lag: 0   -51\n",
      "dtype: int64\n",
      "Pearson Correlation Coefficient:  0.04121026992679512 and a P-value of: 0.028138122284621384\n",
      "CASTHPI\n",
      "lag: 0   -63\n",
      "dtype: int64\n",
      "Pearson Correlation Coefficient:  0.03978177562405082 and a P-value of: 0.03445500790540476\n",
      "GFDEGDQ188S\n",
      "lag: 0   -27\n",
      "dtype: int64\n",
      "Pearson Correlation Coefficient:  -0.041159730183480216 and a P-value of: 0.02767092086004732\n",
      "M2V\n",
      "lag: 0   -27\n",
      "dtype: int64\n",
      "Pearson Correlation Coefficient:  0.057415674356578746 and a P-value of: 0.0021206230945868512\n",
      "DGS3MO\n",
      "lag: 0   -51\n",
      "dtype: int64\n",
      "Pearson Correlation Coefficient:  0.05375429533809396 and a P-value of: 0.004177265285103149\n"
     ]
    }
   ],
   "source": [
    "lagn=63\n",
    "\n",
    "chosen = pd.DataFrame()\n",
    "for i in X_train.columns:\n",
    "    \n",
    "    setc = crosscorrelation(np.array(X_train[i]),np.array(y_train), lagn)\n",
    "    lag = pd.DataFrame(abs(setc)).idxmax()\n",
    "    #print(f\"correlation: {setc[lag]}\")\n",
    "    temp = pd.concat([X_train[i].shift((lag-lagn)[0]),y_train], axis=1).dropna()\n",
    "    pearson_coef, p_value = stats.pearsonr(np.array(temp.iloc[:,0]),np.array(temp.iloc[:,1])) #define the columns to perform calculations on\n",
    "    if (p_value < .05) and ((lag-lagn)[0] < 0):\n",
    "        print(i)\n",
    "        print(f\"lag: {lag-lagn}\")\n",
    "        print(\"Pearson Correlation Coefficient: \", pearson_coef, \"and a P-value of:\", p_value) # Results\n",
    "        temp1 = pd.DataFrame([i,(lag-lagn)[0]]).T\n",
    "        temp1.columns = [\"name\",\"lag\"]\n",
    "        temp1\n",
    "        chosen = pd.concat([temp1,chosen],axis=0)"
   ]
  },
  {
   "cell_type": "code",
   "execution_count": null,
   "id": "e897e386-3cd0-493e-b54b-e2dd3e13bc28",
   "metadata": {},
   "outputs": [],
   "source": []
  },
  {
   "cell_type": "code",
   "execution_count": null,
   "id": "d3c4f0c4-ad8a-4291-b988-9a1bbcc9dc28",
   "metadata": {},
   "outputs": [
    {
     "name": "stdout",
     "output_type": "stream",
     "text": [
      "name: DGS3MO lag: -51 corr: 0.02289509094083025 p-value: 0.3967810384995424\n",
      "l    0.126394\n",
      "u    0.241994\n",
      "Name: 0, dtype: float64\n"
     ]
    }
   ],
   "source": [
    "for i in range(0,len(chosen)):\n",
    "    values = chosen.reset_index().iloc[i]\n",
    "    name = values['name']\n",
    "    lag = values['lag']\n",
    "    #print(lag)\n",
    "    aggregate = pd.DataFrame()\n",
    "    \n",
    "    innerSet = pd.concat([X_test[name].shift(lag),y_test],axis=1).dropna()\n",
    "    \n",
    "    for p in range(0,len(innerSet)):     \n",
    "        #print(innerSet.iloc[p][name] )\n",
    "        if(innerSet.iloc[p][name] < 0):\n",
    "            d = pd.DataFrame([innerSet.iloc[p][target], np.nan, 'l'])\n",
    "            #print(\"lower\")\n",
    "        elif (innerSet.iloc[p][name] > 0):\n",
    "            d = pd.DataFrame([np.nan, innerSet.iloc[p][target], 'u'])\n",
    "            #print(\"upper\")\n",
    "        else:\n",
    "            d = pd.DataFrame([np.nan, np.nan])\n",
    "\n",
    "        aggregate = pd.concat([d.T,aggregate],axis=0)\n",
    "    #print(aggregate.loc[:,['l','u']].replace([np.inf, -np.inf, np.NaN], 0).cumsum().iloc[-1])\n",
    "    \n",
    "    aggregate.columns = [\"l\",\"u\",\"class\"]\n",
    "    \n",
    "    pearson_coef, p_value = stats.pearsonr(np.array(innerSet.iloc[:,0]),np.array(innerSet.iloc[:,1])) #define the columns to perform calculations on\n",
    "    \n",
    "    #print(f\"name: {name}\", f\"lag: {lag}\", f\"corr: {innerSet.corr().iloc[0][1]}\")\n",
    "    if p_value < .05:\n",
    "        print(f\"name: {name}\", f\"lag: {lag}\", f\"corr: {pearson_coef}\", f\"p-value: {p_value}\")\n",
    "        #print(lag)\n",
    "        #print(innerSet.corr())\n",
    "        print(aggregate.loc[:,['l','u']].replace([np.inf, -np.inf, np.NaN], 0).cumsum().iloc[-1])"
   ]
  },
  {
   "cell_type": "code",
   "execution_count": null,
   "id": "91afbd82-67be-4636-acc6-9e88ef8761df",
   "metadata": {},
   "outputs": [],
   "source": [
    "from itertools import cycle\n",
    "import matplotlib.pyplot as plt"
   ]
  },
  {
   "cell_type": "code",
   "execution_count": null,
   "id": "5366497a-eefa-400d-a20f-6be294e25a6a",
   "metadata": {},
   "outputs": [],
   "source": []
  },
  {
   "cell_type": "code",
   "execution_count": null,
   "id": "6466f895-7803-423a-958a-0ca15c52499a",
   "metadata": {},
   "outputs": [],
   "source": []
  },
  {
   "cell_type": "code",
   "execution_count": null,
   "id": "024b514f-54bc-42f0-ad9a-af75f9e93921",
   "metadata": {},
   "outputs": [],
   "source": []
  },
  {
   "cell_type": "code",
   "execution_count": null,
   "id": "9199f5b6-1cb5-463d-b913-46e91f4e16ad",
   "metadata": {},
   "outputs": [],
   "source": []
  },
  {
   "cell_type": "code",
   "execution_count": null,
   "id": "130b5a42-8ce8-49d3-8324-b706b77780e7",
   "metadata": {},
   "outputs": [],
   "source": [
    "aggregate = pd.DataFrame()\n",
    "\n",
    "for s in Training:\n",
    "    #print(s)\n",
    "    set_dates = s\n",
    "    #print(set_dates[1])\n",
    "    #print(set_dates[-1])\n",
    "    \n",
    "    #rate of change compare\n",
    "    filtered2 =  pd.concat([truncatedData.loc[[i[0] for i in set_dates]][compare],truncatedData.loc[[i[0] for i in set_dates]][target]],axis=1).pct_change().dropna().replace([np.inf, -np.inf, np.NaN], 0)\n",
    "    #quantiles2 = filtered2[compare].quantile(q=[0, .25, .5, .75, 1], interpolation='linear')\n",
    "\n",
    "    #prop_cycle = plt.rcParams['axes.prop_cycle']\n",
    "    #colors = cycle(prop_cycle.by_key()['color'])\n",
    "    \n",
    "    #subset, Holdout = split_sequences(np.array(pd.DataFrame(filtered2.index.strftime('%Y-%m-%d'))), 126, 0)\n",
    "    \n",
    "    #for i in subset:\n",
    "        \n",
    "    #quantiles = pd.DataFrame(filtered2.iloc[0:-2][compare].quantile([0,.5,1]),columns=['min','median','max'])\n",
    "    #np.percentile((filtered2.iloc[0:-2][compare]),50)\n",
    "    \n",
    "    t = pd.DataFrame(filtered2.iloc[0:-3][compare].quantile([0,.5,1])).T\n",
    "    t.columns = ['min','median','max']\n",
    "    quantiles = t.reset_index(drop=True)\n",
    "\n",
    "    #lower = filtered2.iloc[0:-1][(filtered2.iloc[0:-2][compare]<=quantile)].index\n",
    "    #upper = ~filtered2.iloc[0:-2].index.isin(lower)\n",
    "\n",
    "\n",
    "\n",
    "    #my_dpi = 100\n",
    "    #fig, axes = plt.subplots(figsize=(12, 4),ncols=3, nrows=1)\n",
    "    #ax1, ax2, ax3 = axes.ravel()\n",
    "    #sns.set(style=\"ticks\")\n",
    "    #sns.despine(fig=fig)\n",
    "\n",
    "    #dataframe = filtered2.loc[dates]\n",
    "    #returns = dataframe[target].dropna()\n",
    "\n",
    "    #l = np.where(filtered2.iloc[0:-2][compare] <= quantile, filtered2.iloc[-1][target], 0)\n",
    "    #u = np.where(filtered2.iloc[upper][compare] > quantile, filtered2.iloc[-1][target], 0)\n",
    "    if((filtered2.iloc[-2][compare] <= quantiles['median'][0])):\n",
    "        d = pd.DataFrame([filtered2.iloc[-1][target], np.nan, 'l'])\n",
    "    else:\n",
    "        d = pd.DataFrame([np.nan, filtered2.iloc[-1][target], 'u'])\n",
    "    #d = pd.concat([pd.DataFrame(l.tolist()),pd.DataFrame(u.tolist())],axis=1)\n",
    "    #print(len(d))\n",
    "    #print(d)\n",
    "    \n",
    "    #print(pd.concat([d.T, quantiles.T.reset_index(drop=True)],axis=1))\n",
    "    #aggregate = pd.concat([d.T, quantiles.T.reset_index(drop=True), aggregate],axis=0)\n",
    "    aggregate = pd.concat([pd.concat([d.T, quantiles],axis=1),aggregate],axis=0)\n",
    "    #print(aggregate)\n",
    "    #print(len(aggregate))\n",
    "    #print(aggregate)\n",
    "    #d.index = filtered2.iloc[-1].name.strftime('%Y-%m-%d')\n",
    "   \n",
    "    #sns.regplot(x=compare, y=target, data=dataframe, ax=ax1)\n",
    "\n",
    "    #sns.violinplot(x=dataframe[compare].dropna(),color=next(colors), ax=ax2)\n",
    "\n",
    "    #sns.vioinplot(x=returns,color=next(colors), ax=ax3) \n",
    "    #plt.show()\n",
    "\n",
    "\n"
   ]
  },
  {
   "cell_type": "code",
   "execution_count": null,
   "id": "e9982434-a0db-4230-803b-0c250ef3c9ed",
   "metadata": {},
   "outputs": [],
   "source": [
    "len(Training)\n",
    "\n",
    "aggregate.columns = ['l','u','class','min','median','max']"
   ]
  },
  {
   "cell_type": "code",
   "execution_count": null,
   "id": "82770c63-0235-4afa-9075-addb7841d22c",
   "metadata": {},
   "outputs": [],
   "source": [
    "dates = []\n",
    "for item in Training:\n",
    "    last = item[-1]\n",
    "    dates.append(last[0])"
   ]
  },
  {
   "cell_type": "code",
   "execution_count": null,
   "id": "9c5c08f9-20a6-4965-b46f-b30e1992a3e2",
   "metadata": {},
   "outputs": [],
   "source": [
    "aggregate.head()"
   ]
  },
  {
   "cell_type": "code",
   "execution_count": null,
   "id": "af59bc88-4236-470b-a936-89f8e7d8475c",
   "metadata": {},
   "outputs": [],
   "source": []
  },
  {
   "cell_type": "code",
   "execution_count": null,
   "id": "3d79a496-0fac-4c90-9f27-1705b6f9e12f",
   "metadata": {},
   "outputs": [],
   "source": [
    "aggregate.loc[:,['l','u']].replace([np.inf, -np.inf, np.NaN], 0).cumsum().iloc[-1]"
   ]
  },
  {
   "cell_type": "code",
   "execution_count": null,
   "id": "69742a47-bd84-48ab-b803-17dbe7517067",
   "metadata": {},
   "outputs": [],
   "source": []
  },
  {
   "cell_type": "code",
   "execution_count": null,
   "id": "bf355a4a-d0ee-4608-929e-75137a61517a",
   "metadata": {},
   "outputs": [],
   "source": [
    "aggregate.index=dates"
   ]
  },
  {
   "cell_type": "code",
   "execution_count": null,
   "id": "7f312308-8c03-4906-b299-4913fbcd66eb",
   "metadata": {},
   "outputs": [],
   "source": [
    "\n",
    "#print(aggregate.cumsum().iloc[-1])\n",
    "#aggregate.reset_index()\n",
    "#ax = sns.regplot(x=aggregate.columns[1], y='index', data=aggregate.reset_index())\n",
    "\n",
    "x_ticks = aggregate.index[np.arange(0, len(aggregate.index), 200)]\n",
    "\n",
    "plt.plot(aggregate.loc[:,['l']].replace([np.inf, -np.inf, np.NaN], 0).cumsum())\n",
    "\n",
    "plt.xticks(x_ticks, rotation = 45)\n",
    "plt.show()"
   ]
  },
  {
   "cell_type": "raw",
   "id": "a4fcfcec-2b75-4120-a065-ab5725d63205",
   "metadata": {},
   "source": []
  },
  {
   "cell_type": "code",
   "execution_count": null,
   "id": "d832ca3d-ee1e-489f-8a4a-68b9044e730d",
   "metadata": {},
   "outputs": [],
   "source": []
  },
  {
   "cell_type": "code",
   "execution_count": null,
   "id": "eeb49747-11d0-4e27-9d16-c3e4234164c1",
   "metadata": {},
   "outputs": [],
   "source": []
  },
  {
   "cell_type": "code",
   "execution_count": null,
   "id": "43a51829-f0e8-4c01-8916-2c2deb6d496a",
   "metadata": {},
   "outputs": [],
   "source": [
    "temp1 = pd.concat([truncatedData[compare].pct_change(),truncatedData[target]],axis=1).loc[dates]\n",
    "temp2 = pd.concat([truncatedData[compare].pct_change(),truncatedData[target].pct_change()],axis=1).loc[dates]\n",
    "temp1.index = temp1.index.copy().strftime('%Y-%m-%d')\n",
    "temp2.index = temp2.index.copy().strftime('%Y-%m-%d')\n",
    "temp = pd.concat([temp1,temp2,aggregate],axis=1)\n",
    "newNames = [compare,target,compare+\"_pct_change\",target+\"_pct_change\"]\n",
    "newNames.extend(temp.columns[4:10])\n",
    "temp.columns = newNames\n",
    "\n",
    "temp.to_csv('../data/processed/output.csv', index=True) "
   ]
  },
  {
   "cell_type": "code",
   "execution_count": null,
   "id": "132e5e50-2826-47ee-8223-b8daa2f203fa",
   "metadata": {},
   "outputs": [],
   "source": [
    "from sklearn import metrics\n",
    "#scores = np.where(temp[compare] > 1, 1, 0)\n",
    "\n",
    "#idk why this library uses 2, 1 vs 1 and 0\n",
    "fpr, tpr, thresholds = metrics.roc_curve(np.where(temp[target+\"_pct_change\"] > 0, 2, 1), np.array(temp[compare+\"_pct_change\"].shift(-1)) , pos_label=2)"
   ]
  },
  {
   "cell_type": "code",
   "execution_count": null,
   "id": "5fa15229-dd40-409c-86c4-094143a72967",
   "metadata": {},
   "outputs": [],
   "source": [
    "metrics.plot_roc_curve(clf, X_test, y_test)  "
   ]
  },
  {
   "cell_type": "code",
   "execution_count": null,
   "id": "76d3179b-a4d3-46e6-9553-a3763ae8cba9",
   "metadata": {},
   "outputs": [],
   "source": [
    "from sklearn.metrics import roc_curve\n",
    "#plt.plot(fpr,tpr, label='AUC = ' + str(round(roc_auc_score(y,m.oob_decision_function_[:,1]), 2)))\n",
    "#plt.legend(loc='lower right')\n",
    "\n",
    "from plot_metric.functions import BinaryClassification\n",
    "# Visualisation with plot_metric\n",
    "bc = BinaryClassification(np.where(temp[target+\"_pct_change\"] > 0, 1, 0), np.array(temp[compare+\"_pct_change\"]), labels=[\"Class 1\", \"Class 2\"])\n",
    "\n",
    "# Figures\n",
    "plt.figure(figsize=(5,5))\n",
    "bc.plot_roc_curve()\n",
    "plt.show()"
   ]
  },
  {
   "cell_type": "code",
   "execution_count": null,
   "id": "46da249f-be20-4b24-b594-9ed3612fd179",
   "metadata": {},
   "outputs": [],
   "source": [
    "def Find_Optimal_Cutoff(target, predicted):\n",
    "    \"\"\" Find the optimal probability cutoff point for a classification model related to event rate\n",
    "    Parameters\n",
    "    ----------\n",
    "    target : Matrix with dependent or target data, where rows are observations\n",
    "\n",
    "    predicted : Matrix with predicted data, where rows are observations\n",
    "\n",
    "    Returns\n",
    "    -------     \n",
    "    list type, with optimal cutoff value\n",
    "        \n",
    "    \"\"\"\n",
    "    fpr, tpr, threshold = roc_curve(target, predicted)\n",
    "    i = np.arange(len(tpr)) \n",
    "    roc = pd.DataFrame({'tf' : pd.Series(tpr-(1-fpr), index=i), 'threshold' : pd.Series(threshold, index=i)})\n",
    "    roc_t = roc.iloc[(roc.tf-0).abs().argsort()[:1]]\n",
    "\n",
    "    return list(roc_t['threshold']) \n",
    "\n",
    "print(\"optimal cutoff\")\n",
    "#https://stackoverflow.com/questions/28719067/roc-curve-and-cut-off-point-python\n",
    "Find_Optimal_Cutoff(np.where(temp[target+\"_pct_change\"] > 0, 1, 0), np.array(temp[compare+\"_pct_change\"]))\n"
   ]
  },
  {
   "cell_type": "code",
   "execution_count": null,
   "id": "e7e19fe4-ed2b-464a-b0a2-08536a924dca",
   "metadata": {},
   "outputs": [],
   "source": [
    "from kneed import DataGenerator, KneeLocator\n",
    "kneedle = KneeLocator(fpr, tpr, S=1.0, curve=\"concave\", direction=\"increasing\")\n",
    "#kneedle.plot_knee_normalized()\n",
    "kneedle.plot_knee()"
   ]
  },
  {
   "cell_type": "code",
   "execution_count": null,
   "id": "b1bf2a1e-3f0a-49de-844d-dca3c37f787c",
   "metadata": {},
   "outputs": [],
   "source": []
  },
  {
   "cell_type": "code",
   "execution_count": null,
   "id": "4c724826-6c51-4e93-827e-c55cc83ab675",
   "metadata": {},
   "outputs": [],
   "source": []
  },
  {
   "cell_type": "code",
   "execution_count": null,
   "id": "3db525f5-aeb2-45fd-934b-efb782ecf9bd",
   "metadata": {},
   "outputs": [],
   "source": []
  },
  {
   "cell_type": "code",
   "execution_count": null,
   "id": "15badd1f-eab0-411a-aaf8-5ba8efe5387b",
   "metadata": {},
   "outputs": [],
   "source": [
    "optimal_idx = np.argmax(tpr - fpr)\n",
    "optimal_threshold = thresholds[optimal_idx]\n"
   ]
  },
  {
   "cell_type": "code",
   "execution_count": null,
   "id": "d415802f-c6dc-45b0-a604-a0439104ee55",
   "metadata": {},
   "outputs": [],
   "source": [
    "plt.scatter(aggregate[aggregate['bifur']=='l'].iloc[:,0].cumsum(),  truncatedData[target].pct_change().loc[aggregate[aggregate['bifur']=='l'].iloc[:,0].index.tolist()])\n",
    "plt.show()\n",
    "aggregate[aggregate['bifur']=='l'].iloc[:,0].hist()\n",
    "plt.show()"
   ]
  },
  {
   "cell_type": "code",
   "execution_count": null,
   "id": "e0b50107-1e96-4169-abd4-97efb6203f70",
   "metadata": {},
   "outputs": [],
   "source": [
    "plt.scatter(aggregate[aggregate['bifur']=='u'].iloc[:,1].cumsum(),  truncatedData[target].pct_change().loc[aggregate[aggregate['bifur']=='u'].iloc[:,1].index.tolist()])\n",
    "plt.show()\n",
    "aggregate[aggregate['bifur']=='u'].iloc[:,1].hist()\n",
    "plt.show()"
   ]
  },
  {
   "cell_type": "code",
   "execution_count": null,
   "id": "2f23aeba-1baf-43ba-8ed1-1f886304456d",
   "metadata": {},
   "outputs": [],
   "source": [
    "#252 trading days a year\n",
    "#30 days = 21\n",
    "#60 = 42\n",
    "#90 = 63\n",
    "\n",
    "#return = current - prior / prior\n",
    "\n",
    "#for i in range(1,63): #[1,21,42,63]\n",
    "for i in [1,21,42,63,84]: #[1,21,42,84]\n",
    "    print(i)\n",
    "    rate_of_change = (truncatedData[compare]-truncatedData[compare].shift(i))/truncatedData[compare].shift(i)\n",
    "    \n",
    "    newDF = pd.concat([rate_of_change,truncatedData[target].pct_change()],axis=1).dropna()\n",
    "\n",
    "    set1 = newDF[compare]\n",
    "    set2 = newDF[target]\n",
    "    \n",
    "    lags = range(0,85) #[0,21,42,63]\n",
    "    mcorrs_ = []\n",
    "    mlags = []\n",
    "    for j in lags:\n",
    "        \n",
    "        newSet = pd.concat([set1.shift(j),set2],axis=1).dropna()\n",
    "      \n",
    "        mcorrs_.append(np.array(newSet.corr())[1,0])\n",
    "        \n",
    "    plt.plot(mcorrs_)\n",
    "    plt.show()\n",
    "\n",
    "\n",
    "\n"
   ]
  },
  {
   "cell_type": "code",
   "execution_count": null,
   "id": "22d193fa-397f-4061-909e-5086d2087334",
   "metadata": {},
   "outputs": [],
   "source": [
    "pd.concat([(truncatedData[compare]-truncatedData[compare].shift(1))/truncatedData[compare].shift(1),truncatedData[target].pct_change().shift(0)],axis=1).dropna().corr()"
   ]
  },
  {
   "cell_type": "code",
   "execution_count": null,
   "id": "0e0985e2-7c25-4c96-bb60-b9dcb8e5148e",
   "metadata": {},
   "outputs": [],
   "source": []
  },
  {
   "cell_type": "code",
   "execution_count": null,
   "id": "671a5775-b45a-4420-9eb5-56f125f350b7",
   "metadata": {},
   "outputs": [],
   "source": [
    "plt.scatter((truncatedData[compare]-truncatedData[compare].shift(1))/truncatedData[compare].shift(1),truncatedData[target].pct_change().shift(0))"
   ]
  },
  {
   "cell_type": "code",
   "execution_count": null,
   "id": "2031f472-f7f1-4d61-9002-d2f9c109f327",
   "metadata": {},
   "outputs": [],
   "source": []
  },
  {
   "cell_type": "code",
   "execution_count": null,
   "id": "e0cf7810",
   "metadata": {},
   "outputs": [],
   "source": [
    "#import matplotlib.pyplot as plt\n",
    "#plt.matshow(\n",
    "df = combined_set.loc[combined_set.index>=start_date.strftime('%Y-%m-%d')]\n",
    "\n",
    "r_ = df.corr()\n",
    "\n",
    "filter = r_[compare]\n",
    "                       \n",
    "filter = filter[filter<1]\n",
    "filter = filter.sort_values(kind=\"quicksort\", ascending=True)\n",
    "print(filter.head(10))\n",
    "print(filter.tail(10))\n"
   ]
  },
  {
   "cell_type": "code",
   "execution_count": null,
   "id": "99a40b66",
   "metadata": {},
   "outputs": [],
   "source": []
  }
 ],
 "metadata": {
  "kernelspec": {
   "display_name": "Python 3 (ipykernel)",
   "language": "python",
   "name": "python3"
  },
  "language_info": {
   "codemirror_mode": {
    "name": "ipython",
    "version": 3
   },
   "file_extension": ".py",
   "mimetype": "text/x-python",
   "name": "python",
   "nbconvert_exporter": "python",
   "pygments_lexer": "ipython3",
   "version": "3.9.6"
  }
 },
 "nbformat": 4,
 "nbformat_minor": 5
}
