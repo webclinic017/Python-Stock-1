{
 "cells": [
  {
   "cell_type": "code",
   "execution_count": null,
   "id": "d2d17485-23dd-483e-8c86-be2cea0e5b4e",
   "metadata": {},
   "outputs": [],
   "source": []
  },
  {
   "cell_type": "code",
   "execution_count": 89,
   "id": "7191004d-380d-41a8-b1f9-4baa99dabb5a",
   "metadata": {},
   "outputs": [],
   "source": [
    "import yfinance as yf\n",
    "import pandas as pd\n",
    "import datetime\n",
    "import numpy as np\n",
    "from datetime import datetime\n",
    "from dateutil.relativedelta import relativedelta\n",
    "from pandas_datareader import data\n",
    "from dask.distributed import Client\n",
    "from dask.distributed import as_completed\n",
    "from dask.distributed import Client, LocalCluster\n"
   ]
  },
  {
   "cell_type": "code",
   "execution_count": 90,
   "id": "37ad8909-f0fb-48eb-b7d6-b940feec48a6",
   "metadata": {},
   "outputs": [],
   "source": [
    "end = datetime.today()\n",
    "start = end - relativedelta(years=2)"
   ]
  },
  {
   "cell_type": "code",
   "execution_count": 91,
   "id": "e62dae8b-702e-4dc6-a41f-406f54339ef6",
   "metadata": {},
   "outputs": [
    {
     "data": {
      "text/plain": [
       "'2022-05-21'"
      ]
     },
     "execution_count": 91,
     "metadata": {},
     "output_type": "execute_result"
    }
   ],
   "source": [
    "end.strftime('%Y-%m-%d')"
   ]
  },
  {
   "cell_type": "code",
   "execution_count": 92,
   "id": "73ec357b-b4a7-4cef-ab26-21b0067836ed",
   "metadata": {},
   "outputs": [],
   "source": [
    "SP500ticker_list = pd.read_html('http://en.wikipedia.org/wiki/List_of_S%26P_500_companies')[0]\n",
    "SP400ticker_list = pd.read_html('https://en.wikipedia.org/wiki/List_of_S%26P_600_companies')[1]\n",
    "SP600ticker_list = pd.read_html('https://en.wikipedia.org/wiki/List_of_S%26P_400_companies')[0]\n",
    "SP1500 = list()"
   ]
  },
  {
   "cell_type": "code",
   "execution_count": 93,
   "id": "03ef454c-a181-47bd-86e1-a4057d2ef192",
   "metadata": {},
   "outputs": [],
   "source": [
    "SP1500.extend(SP500ticker_list['Symbol'])\n",
    "SP1500.extend(SP400ticker_list['Ticker symbol'])\n",
    "SP1500.extend(SP600ticker_list['Ticker symbol'])"
   ]
  },
  {
   "cell_type": "code",
   "execution_count": 94,
   "id": "ed84b613-5a31-4543-98c6-d37725183967",
   "metadata": {},
   "outputs": [
    {
     "data": {
      "text/plain": [
       "1505"
      ]
     },
     "execution_count": 94,
     "metadata": {},
     "output_type": "execute_result"
    }
   ],
   "source": [
    "len(SP1500)"
   ]
  },
  {
   "cell_type": "code",
   "execution_count": null,
   "id": "b8c1d1f2-1525-4ae8-b7dd-2d4c008d1b71",
   "metadata": {},
   "outputs": [],
   "source": []
  },
  {
   "cell_type": "code",
   "execution_count": null,
   "id": "31b9d29c-3d80-4b4f-931b-352b10fc4840",
   "metadata": {},
   "outputs": [],
   "source": []
  },
  {
   "cell_type": "code",
   "execution_count": 108,
   "id": "b3ea87bb-f40b-49a9-9060-4b8a4dd809fc",
   "metadata": {},
   "outputs": [],
   "source": [
    "def getStock(npa):\n",
    "    #position = npa[0]\n",
    "    symbol = npa[0]\n",
    "    start_=npa[1]\n",
    "    end_=npa[2]\n",
    "    #print(symbol)\n",
    "    \n",
    "    #tickerdata.history(period=\"2Y\")\n",
    "    tickerdata = yf.Ticker(symbol)\n",
    "    data_ = tickerdata.history(start=start_,end=end_)\n",
    "    #data_['Sector'] = tickerdata.info['sector']\n",
    "    #data_['Symbol'] = symbol\n",
    "    #data_['Market Cap'] = data.get_quote_yahoo(names[n])['marketCap']\n",
    "    #data_['Sector'] = tickerdata.info['sector']\n",
    "    \n",
    "    \"\"\"\n",
    "    tickerdata.info\n",
    "    tickerdata.quarterly_balance_sheet\n",
    "    tickerdata.quarterly_cashflow\n",
    "    tickerdata.quarterly_dividends\n",
    "    tickerdata.quarterly_earnings\n",
    "    tickerdata.quarterly_financials\n",
    "    tickerdata.actions\n",
    "    tickerdata.mutualfund_holders\n",
    "    tickerdata.options\n",
    "    tickerdata.sustainability\n",
    "    \"\"\"\n",
    "    \n",
    "    return([symbol,data_])"
   ]
  },
  {
   "cell_type": "code",
   "execution_count": null,
   "id": "f6f009c3-0390-4caf-ba6b-9c8de57e8cac",
   "metadata": {},
   "outputs": [],
   "source": []
  },
  {
   "cell_type": "code",
   "execution_count": 101,
   "id": "ac2521e1-d0dc-4b2b-ad44-676ed7af6a0d",
   "metadata": {},
   "outputs": [],
   "source": [
    "def getMarketCap(symbol):\n",
    "    #symbol = npa\n",
    "\n",
    "    #start_=npa[2]\n",
    "    #end_=npa[3]\n",
    "    #print(symbol)\n",
    "    \n",
    "    #tickerdata.history(period=\"2Y\")\n",
    "    #tickerdata = yf.Ticker(symbol)\n",
    "    #data_ = tickerdata.history(start=start_,end=end_)\n",
    "    data_ = data.get_quote_yahoo(symbol)['marketCap']\n",
    "    #data_['Sector'] = tickerdata.info['sector']\n",
    "    \n",
    "    \"\"\"\n",
    "    tickerdata.info\n",
    "    tickerdata.quarterly_balance_sheet\n",
    "    tickerdata.quarterly_cashflow\n",
    "    tickerdata.quarterly_dividends\n",
    "    tickerdata.quarterly_earnings\n",
    "    tickerdata.quarterly_financials\n",
    "    tickerdata.actions\n",
    "    tickerdata.mutualfund_holders\n",
    "    tickerdata.options\n",
    "    tickerdata.sustainability\n",
    "    \"\"\"\n",
    "    \n",
    "    return([symbol,data_])"
   ]
  },
  {
   "cell_type": "code",
   "execution_count": null,
   "id": "881e051b-43f4-4b43-9cbd-0a9e6ffc4b29",
   "metadata": {},
   "outputs": [],
   "source": []
  },
  {
   "cell_type": "code",
   "execution_count": null,
   "id": "bd578a91-56d8-415c-ad14-f75a00ff6a2f",
   "metadata": {},
   "outputs": [],
   "source": []
  },
  {
   "cell_type": "code",
   "execution_count": 112,
   "id": "98802d47-bc74-42d5-bb94-21ee8a12b6fa",
   "metadata": {},
   "outputs": [],
   "source": [
    "client.close()"
   ]
  },
  {
   "cell_type": "code",
   "execution_count": null,
   "id": "3393b8a2-5999-4feb-85f1-c0a76282f443",
   "metadata": {},
   "outputs": [
    {
     "name": "stderr",
     "output_type": "stream",
     "text": [
      "C:\\Users\\User\\AppData\\Local\\Programs\\Python\\Python39\\lib\\site-packages\\distributed\\node.py:181: UserWarning: Port 8787 is already in use.\n",
      "Perhaps you already have a cluster running?\n",
      "Hosting the HTTP server on port 52454 instead\n",
      "  warnings.warn(\n"
     ]
    }
   ],
   "source": [
    "npa = []\n",
    "for i in range(0,len(SP1500)):\n",
    "    npa.append([SP1500[i], start.strftime('%Y-%m-%d'),end.strftime('%Y-%m-%d')])\n",
    "    \n",
    "# = getStock(npa[0])\n",
    "    \n",
    "#client = Client('192.168.3.100:8786')\n",
    "cluster = LocalCluster()  # Launches a scheduler and workers locally\n",
    "client = Client(cluster) \n",
    "client.restart()\n",
    "\n",
    "future = client.map(getStock, npa=npa,)\n",
    "\n",
    "\n",
    "results_prices = []\n",
    "\n",
    "#model_results = client.gather(future)\n",
    "#my intent was to capture future objects vs results and this gave me results\n",
    "\n",
    "for f in as_completed(future):\n",
    "    if(f.status==\"error\"):\n",
    "        results_prices.append(\"error\")\n",
    "    else:\n",
    "        results_prices.append(f.result()) \n",
    "#\n",
    "client.close()\n"
   ]
  },
  {
   "cell_type": "code",
   "execution_count": null,
   "id": "d707cd76-6f71-45d8-a712-6d98e3c044d0",
   "metadata": {},
   "outputs": [],
   "source": []
  },
  {
   "cell_type": "code",
   "execution_count": null,
   "id": "e6f77904-e6fe-4f92-bcf6-76a2c14a3aa0",
   "metadata": {},
   "outputs": [],
   "source": [
    "def getSector(npa):\n",
    "    position = npa[0]\n",
    "    symbol = npa[1]\n",
    "    start_=npa[2]\n",
    "    end_=npa[3]\n",
    "    \n",
    "    tickerdata = yf.Ticker(symbol)\n",
    "    return([symbol,tickerdata.info['sector']])"
   ]
  },
  {
   "cell_type": "code",
   "execution_count": null,
   "id": "e8cfa5a7-3069-434f-b407-5584e62afaa7",
   "metadata": {},
   "outputs": [],
   "source": [
    "npa = []\n",
    "for i in range(0,len(SP1500)):\n",
    "    npa.append([SP1500[i]])\n",
    "    \n",
    "getSector(npa[0])"
   ]
  },
  {
   "cell_type": "code",
   "execution_count": null,
   "id": "f347227d-1496-4651-b726-80c878f66d10",
   "metadata": {},
   "outputs": [],
   "source": [
    "npa = []\n",
    "for i in range(0,len(SP1500)):\n",
    "    npa.append([SP1500[i]])\n",
    "    \n",
    "client = Client('192.168.3.100:8786')\n",
    "\n",
    "future = client.map(getSector, npa)\n",
    "results_prices = []\n",
    "#my intent was to capture future objects vs results and this gave me results\n",
    "for f in as_completed(future):\n",
    "    if(f.status==\"error\"):\n",
    "        results_prices.append(\"error\")\n",
    "    else:\n",
    "        results_prices.append(f.result()) \n",
    "client.restart()\n",
    "client.close()\n"
   ]
  },
  {
   "cell_type": "code",
   "execution_count": null,
   "id": "1942fa09-0710-4093-b73c-63352420d6c6",
   "metadata": {},
   "outputs": [],
   "source": [
    "names_prices = [r[0] for r in results_prices]\n",
    "#names = np.array([n[1] for n in npa])[np.array([r[0] for r in results])]"
   ]
  },
  {
   "cell_type": "code",
   "execution_count": null,
   "id": "5eef53d6-34a1-494e-86e5-d0c9e57906c3",
   "metadata": {},
   "outputs": [],
   "source": []
  },
  {
   "cell_type": "code",
   "execution_count": null,
   "id": "b80f8f31-0201-422a-96a7-5a0a4d4caa68",
   "metadata": {},
   "outputs": [],
   "source": [
    "#find mkt_cap_values\n",
    "prices_df = pd.DataFrame()\n",
    "\n",
    "for n in range(0,len(names_prices)):\n",
    "    df = results_prices[n][1]\n",
    "    if(len(df)!=0):\n",
    "        df['Symbol'] = names_prices[n]\n",
    "        #df['Sector'] = results_prices[n][2]\n",
    "    \n",
    "    prices_df = pd.concat([prices_df,df],axis=0)"
   ]
  },
  {
   "cell_type": "code",
   "execution_count": null,
   "id": "50faf270-562b-40a1-852d-525a14967797",
   "metadata": {},
   "outputs": [],
   "source": [
    "prices_df.head()"
   ]
  },
  {
   "cell_type": "code",
   "execution_count": null,
   "id": "f79e4ef8-ce6b-4d35-a17f-685a39c523c4",
   "metadata": {},
   "outputs": [],
   "source": []
  },
  {
   "cell_type": "code",
   "execution_count": null,
   "id": "9d5bc91a-2167-4419-a70e-fd3da7989f4f",
   "metadata": {},
   "outputs": [],
   "source": []
  },
  {
   "cell_type": "code",
   "execution_count": null,
   "id": "8c1df626-207c-42d1-9357-0b2cfc091eae",
   "metadata": {},
   "outputs": [],
   "source": [
    "getMarketCap(npa[0])"
   ]
  },
  {
   "cell_type": "code",
   "execution_count": null,
   "id": "5db05c54-25b2-481d-a867-c859bd0f81bb",
   "metadata": {},
   "outputs": [],
   "source": [
    "npa = []\n",
    "for i in range(0,len(SP1500)):\n",
    "    npa.append([i,SP1500[i]])\n",
    "    \n",
    "client = Client('192.168.3.100:8786')\n",
    "\n",
    "future = client.map(getMarketCap, npa)\n",
    "results_mktcp = []\n",
    "#my intent was to capture future objects vs results and this gave me results\n",
    "for f in as_completed(future):\n",
    "    if(f.status==\"error\"):\n",
    "        results_mktcp.append(\"error\")\n",
    "    else:\n",
    "        results_mktcp.append(f.result()) \n",
    "client.restart()\n",
    "client.close()\n"
   ]
  },
  {
   "cell_type": "code",
   "execution_count": null,
   "id": "7037f921-601a-4dd8-9452-1f835f5ddf33",
   "metadata": {},
   "outputs": [],
   "source": [
    "#np.array([r[0] for r in results_mktcp])\n",
    "names_mktcap = [n[0] for n in results_mktcp]\n"
   ]
  },
  {
   "cell_type": "code",
   "execution_count": null,
   "id": "7798deb5-971c-4478-a1ed-cdab308de15d",
   "metadata": {},
   "outputs": [],
   "source": [
    "mkt_cap_pos = [np.where(np.array(names_mktcap)==\"PUMP\")]\n",
    "element = np.array([rm for rm in results_mktcp])[mkt_cap_pos]"
   ]
  },
  {
   "cell_type": "code",
   "execution_count": null,
   "id": "a6c4b234-45c9-4fd6-adb7-85600c37313c",
   "metadata": {},
   "outputs": [],
   "source": []
  },
  {
   "cell_type": "code",
   "execution_count": null,
   "id": "f8a37bac-4a61-4d58-9b1f-68b04c0f00be",
   "metadata": {},
   "outputs": [],
   "source": [
    "mkt_cap_df = pd.DataFrame()\n",
    "\n",
    "for n in range(0,len(np.unique(names_mktcap))):\n",
    "    if(np.unique(names_mktcap)[n]!='e'):\n",
    "        names_mkt = np.unique(names_mktcap)[n]\n",
    "        mkt_cap_pos = [np.where(np.array(names_mktcap)==names_mkt)]\n",
    "        element = np.array([rm for rm in results_mktcp])[mkt_cap_pos][0][0][1][0]\n",
    "        value_df = pd.DataFrame([element],columns=[\"Market Cap\"],index=[names_mktcap[n]])\n",
    "        mkt_cap_df = pd.concat([mkt_cap_df,value_df],axis=0)\n"
   ]
  },
  {
   "cell_type": "code",
   "execution_count": null,
   "id": "da1b8474-5025-449f-8cdc-676dd1ca12e3",
   "metadata": {},
   "outputs": [],
   "source": []
  },
  {
   "cell_type": "code",
   "execution_count": null,
   "id": "24875aae-b9c8-412e-b4d7-b984c48b683f",
   "metadata": {},
   "outputs": [],
   "source": [
    "error_mkt_cap = list(set(SP1500).difference(names_mktcap))\n",
    "for n in range(0,len(error_mkt_cap)):\n",
    "    names_mkt = error_mkt_cap[n]\n",
    "    print(names_mkt)\n",
    "    value_df = pd.DataFrame(\"error\",columns=[\"Market Cap\"],index=[error_mkt_cap[n]])\n",
    "    mkt_cap_df = pd.concat([mkt_cap_df,value_df],axis=0)"
   ]
  },
  {
   "cell_type": "code",
   "execution_count": null,
   "id": "2e8bf046-d5bb-49ca-b7c1-6985b00a0ef2",
   "metadata": {},
   "outputs": [],
   "source": []
  },
  {
   "cell_type": "code",
   "execution_count": null,
   "id": "17c726c5-7ede-4c30-9515-45d6123b521d",
   "metadata": {},
   "outputs": [],
   "source": []
  },
  {
   "cell_type": "code",
   "execution_count": null,
   "id": "1f190125-4ddd-4a05-80c0-cfa4c388cef7",
   "metadata": {},
   "outputs": [],
   "source": [
    "#pd.DataFrame([\"error\"],columns=[\"Market Cap\"],index=[names_mktcap[n]])"
   ]
  },
  {
   "cell_type": "code",
   "execution_count": null,
   "id": "22e31f7a-5046-4b16-9577-635c9a665a95",
   "metadata": {},
   "outputs": [],
   "source": []
  },
  {
   "cell_type": "code",
   "execution_count": null,
   "id": "d93a0c37-3233-4907-8ad5-459fc7427f65",
   "metadata": {},
   "outputs": [],
   "source": []
  },
  {
   "cell_type": "code",
   "execution_count": null,
   "id": "2f4bfc41-da92-4ca0-bb15-58d51c54b547",
   "metadata": {},
   "outputs": [],
   "source": [
    "dir(results_prices[0][2].info)"
   ]
  },
  {
   "cell_type": "code",
   "execution_count": null,
   "id": "24225fc9-0736-421a-8de8-03158a7a7f6f",
   "metadata": {},
   "outputs": [],
   "source": [
    "total_mkt_cap = mkt_cap_df.replace(['error'], 0).sum()\n",
    "mkt_cap_df['mkt_cap_pct'] = mkt_cap_df.replace(['error'], 0)/total_mkt_cap"
   ]
  },
  {
   "cell_type": "code",
   "execution_count": null,
   "id": "64775fa7-69f1-42fa-be65-4d052ffd9a62",
   "metadata": {},
   "outputs": [],
   "source": [
    "mkt_cap_df.sort_values(by='mkt_cap_pct',ascending=False)"
   ]
  },
  {
   "cell_type": "code",
   "execution_count": null,
   "id": "4005498d-cb05-42b0-9eec-ce0e5531f564",
   "metadata": {},
   "outputs": [],
   "source": [
    "[rp[2] for rp in results_prices][0].info['sector']"
   ]
  },
  {
   "cell_type": "code",
   "execution_count": null,
   "id": "1816e358-d346-4b98-afa7-99db332e69e7",
   "metadata": {},
   "outputs": [],
   "source": [
    "#find mkt_cap_values\n",
    "sector_df = pd.DataFrame()\n",
    "\n",
    "for n in range(0,len(names_prices)):\n",
    "    name_price = names_prices[n]\n",
    "    #print(names_mkt)\n",
    "    element = np.array([rp[2] for rp in results_prices])[n]\n",
    "    print(element.info['sector'])\n",
    "    \"\"\"\n",
    "    if(element != \"error\")[0][0]:\n",
    "        value_df = pd.DataFrame([element[0][0][1][0]],columns=[\"Market Cap\"],index=[names_mktcap[n]])\n",
    "    else:\n",
    "        value_df = pd.DataFrame([\"error\"],columns=[\"Market Cap\"],index=[names_mktcap[n]])\n",
    "    mkt_cap_df = pd.concat([mkt_cap_df,value_df],axis=0)\n",
    "    \"\"\""
   ]
  },
  {
   "cell_type": "code",
   "execution_count": null,
   "id": "92cff6fb-95a2-4470-9537-96ae4e4e44ab",
   "metadata": {},
   "outputs": [],
   "source": [
    "#len(results)"
   ]
  },
  {
   "cell_type": "code",
   "execution_count": null,
   "id": "4b54d7e2-39cb-48a4-9cb2-313a406aa903",
   "metadata": {},
   "outputs": [],
   "source": [
    "sector_df"
   ]
  },
  {
   "cell_type": "code",
   "execution_count": null,
   "id": "5904954a-8598-44fe-b925-267c10964913",
   "metadata": {},
   "outputs": [],
   "source": []
  },
  {
   "cell_type": "code",
   "execution_count": null,
   "id": "5d454900-fcb6-401e-a060-744534924c0b",
   "metadata": {},
   "outputs": [],
   "source": []
  },
  {
   "cell_type": "code",
   "execution_count": null,
   "id": "4f07d49c-9042-4179-9fda-36a4e62accf7",
   "metadata": {},
   "outputs": [],
   "source": [
    "len(sp1500_df)"
   ]
  },
  {
   "cell_type": "code",
   "execution_count": null,
   "id": "79ce6291-5a75-4e0b-afc5-bfa1d83e6574",
   "metadata": {},
   "outputs": [],
   "source": [
    "sp1500_df.to_csv(\"SP1500.csv\")"
   ]
  },
  {
   "cell_type": "code",
   "execution_count": null,
   "id": "d4d504f8-99f9-4cb0-aac7-4739f3a5b5ae",
   "metadata": {},
   "outputs": [],
   "source": [
    "names"
   ]
  },
  {
   "cell_type": "code",
   "execution_count": null,
   "id": "391c8fcd-9661-4ed3-8115-7a9997dcc112",
   "metadata": {},
   "outputs": [],
   "source": [
    "data.get_quote_yahoo(SP1500)"
   ]
  },
  {
   "cell_type": "code",
   "execution_count": null,
   "id": "e99d2f71-1585-4c1d-bd39-baeaae12a22a",
   "metadata": {},
   "outputs": [],
   "source": [
    "#for n in range(0,len(names)):\n",
    "    #print(data.get_quote_yahoo(names[n])['marketCap'])"
   ]
  },
  {
   "cell_type": "code",
   "execution_count": null,
   "id": "5005f906-cef4-489e-8e56-d37355c7dcce",
   "metadata": {},
   "outputs": [],
   "source": []
  }
 ],
 "metadata": {
  "kernelspec": {
   "display_name": "Python 3 (ipykernel)",
   "language": "python",
   "name": "python3"
  },
  "language_info": {
   "codemirror_mode": {
    "name": "ipython",
    "version": 3
   },
   "file_extension": ".py",
   "mimetype": "text/x-python",
   "name": "python",
   "nbconvert_exporter": "python",
   "pygments_lexer": "ipython3",
   "version": "3.9.7"
  }
 },
 "nbformat": 4,
 "nbformat_minor": 5
}
