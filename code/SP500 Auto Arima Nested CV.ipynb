{
 "cells": [
  {
   "cell_type": "code",
   "execution_count": 727,
   "id": "a198babb-66b8-4bce-a5d9-cc61beb382e8",
   "metadata": {},
   "outputs": [],
   "source": [
    "import pandas_datareader as web\n",
    "import matplotlib.pyplot as plt\n",
    "import pandas as pd\n",
    "from dask.distributed import Client\n",
    "from dask.distributed import as_completed\n",
    "import pandas_market_calendars as mcal\n",
    "from sklearn.model_selection import KFold\n",
    "from sklearn.model_selection import GridSearchCV, KFold, cross_val_score, RepeatedKFold, train_test_split\n",
    "from sklearn.linear_model import LinearRegression\n",
    "import numpy as np\n",
    "import statsmodels.api as sm\n",
    "\n",
    "from dask.distributed import Client\n",
    "from dask.distributed import as_completed\n",
    "from IPython.display import clear_output\n",
    "import time \n",
    "from statsmodels.tsa.stattools import adfuller\n",
    "from statsmodels.tsa.arima.model import ARIMA\n",
    "import pmdarima as pm\n",
    "from sklearn.model_selection import TimeSeriesSplit\n",
    "\n",
    "from statsmodels.tsa.statespace.sarimax import SARIMAX\n",
    "\n",
    "\n",
    "from dask.distributed import Client\n",
    "from dask.distributed import as_completed\n",
    "\n",
    "pd.set_option(\"max_rows\", 10)\n",
    "\n",
    "start = \"1970-01-01\""
   ]
  },
  {
   "cell_type": "code",
   "execution_count": 728,
   "id": "1d61da52-3213-4aaf-803f-715478b2909e",
   "metadata": {},
   "outputs": [],
   "source": [
    "#sp500_ancient = web.DataReader(\"^GSPC\", \"yahoo\",start=start)\n",
    "sp500 = web.DataReader(\"^GSPC\", \"yahoo\",start=start)\n",
    "vix = web.DataReader(\"VIXCLS\",\"fred\",start=start)\n",
    "T10Y3M = web.DataReader(\"T10Y3M\",\"fred\",start=start)\n",
    "FEDFUNDS = web.DataReader(\"FEDFUNDS\",\"fred\",start=start)\n"
   ]
  },
  {
   "cell_type": "code",
   "execution_count": 729,
   "id": "e3ba1031-ae05-491b-b285-bcd7a8b9279e",
   "metadata": {},
   "outputs": [],
   "source": [
    "def ts_cv_kfolds(dataindex,k,sized=False,tratio=2):\n",
    "    divisor = len(dataindex)/(k+1)\n",
    "    train_ = []\n",
    "    test_ = []\n",
    "    \n",
    "    for x in range(1,k+1,1):\n",
    "        if(sized):\n",
    "            train_size = int(np.round(divisor*x+divisor/tratio,0))\n",
    "            test_size = int(np.round(divisor*x/x/tratio,0))\n",
    "            #total_size = train_size+test_size\n",
    "            #train_size = int(np.round(total_size*tproportion))\n",
    "            #test_size = total_size-train_size\n",
    "            train = dataindex[int(np.round(divisor*(x-1),0)):train_size]\n",
    "            test = dataindex[train_size:train_size+test_size]\n",
    "            train_.append(train)\n",
    "            test_.append(test)\n",
    "        #growing\n",
    "        else:   \n",
    "            train_size = int(np.round(divisor*x+divisor/tratio,0))\n",
    "            test_size = int(np.round(divisor*x/x/tratio,0))\n",
    "            train = dataindex[0:train_size]\n",
    "            test = dataindex[train_size:train_size+test_size]\n",
    "            train_.append(train)\n",
    "            test_.append(test)\n",
    "    return [train_, test_]"
   ]
  },
  {
   "cell_type": "code",
   "execution_count": null,
   "id": "f6a4112b-b0b2-41de-a593-2bec7ccf1743",
   "metadata": {},
   "outputs": [],
   "source": []
  },
  {
   "cell_type": "code",
   "execution_count": null,
   "id": "24ae4ed5-8ddc-47a1-8947-60c76b5b1e4c",
   "metadata": {},
   "outputs": [],
   "source": []
  },
  {
   "cell_type": "code",
   "execution_count": null,
   "id": "6a94223b-9993-4114-820a-17985329fbf9",
   "metadata": {},
   "outputs": [],
   "source": []
  },
  {
   "cell_type": "code",
   "execution_count": null,
   "id": "b06032d7-4d4c-45c9-b29e-d4c7444b4f5f",
   "metadata": {},
   "outputs": [],
   "source": []
  },
  {
   "cell_type": "code",
   "execution_count": 730,
   "id": "0adb4c5c-a727-40ba-af31-f2505066f3f7",
   "metadata": {},
   "outputs": [],
   "source": [
    "data_ = sp500[['Adj Close']].asfreq('Q',method='Pad')\n",
    "\n",
    "k_=5\n",
    "\n",
    "#cv_outer = KFold(n_splits=k_, shuffle=False)\n",
    "#cv_outer = train_test_split(data_, test_size=0.3, random_state=0,shuffle=False,)\n",
    "\n",
    "#tscv_outer = TimeSeriesSplit(n_splits=k_,max_train_size=int(len(data_)/k_),test_size=int(len(data_)/k_))\n",
    "\n",
    "outer_results = []\n",
    "outer_models = []\n",
    "\n",
    "outer_sets = []\n",
    "#for trainv_ix, test_ix in tscv_outer.split(data_):\n",
    "#for trainv_ix, test_ix in cv_outer.split(data_):\n",
    "#for trainv_ix, test_ix in cv_outer.split(data_):\n",
    "\n",
    "data_index = ts_cv_kfolds(data_.index,k_,True)\n",
    "\n",
    "for di in range(0,len(data_index[0]),1):\n",
    "    trainv_ix = data_index[0][di]\n",
    "    test_ix = data_index[1][di]\n",
    "    \n",
    "    # split data\n",
    "    X_trainv, X_test = data_.loc[trainv_ix], data_.loc[test_ix]\n",
    "    outer_sets.append([X_trainv, X_test])\n",
    "    #y_trainv, y_test = y.iloc[trainv_ix], y.iloc[test_ix]\n"
   ]
  },
  {
   "cell_type": "code",
   "execution_count": null,
   "id": "e6fcff86-f624-4a7d-b920-c345660cecde",
   "metadata": {},
   "outputs": [],
   "source": []
  },
  {
   "cell_type": "code",
   "execution_count": null,
   "id": "ce550f31-d3f9-40e1-9e05-f7bf934097df",
   "metadata": {},
   "outputs": [],
   "source": []
  },
  {
   "cell_type": "code",
   "execution_count": null,
   "id": "fa0e0090-85e3-44eb-9d7f-1fa08344bfb1",
   "metadata": {},
   "outputs": [],
   "source": [
    "[o[0] for o in outer_sets]"
   ]
  },
  {
   "cell_type": "code",
   "execution_count": 772,
   "id": "2b7b0d7c-0316-4c9a-920d-2ad5f9bcecc9",
   "metadata": {},
   "outputs": [],
   "source": [
    "def inner_arima(test_sets,model_=False):\n",
    "    \n",
    "    k_=3\n",
    "    \n",
    "    #cv_inner = KFold(n_splits=k_, shuffle=False)\n",
    "    #tscv_inner = TimeSeriesSplit(n_splits=k_,max_train_size=int(len(test_sets[0])/k_),test_size=int(len(test_sets[0])/k_))    \n",
    "    \n",
    "    X_trainv = test_sets[0]\n",
    "    X_test = test_sets[1]\n",
    "    #print(X_test.index)\n",
    "    \n",
    "    inner_results = list()\n",
    "    inner_models = list()\n",
    "\n",
    "    #for trainv_ix, test_ix in ts_cv_kfolds(data_.index,k_):\n",
    "    \n",
    "    # split data\n",
    "    \n",
    "    #X_trainv, X_test = data_.loc[trainv_ix], data_.loc[test_ix]\n",
    "    \n",
    "    #good juncture to fork locally\n",
    "    #for train_ix, valid_ix in tscv_inner.split(X_trainv):\n",
    "    #for train_ix, valid_ix in cv_inner.split(X_trainv):\n",
    "    data_index = ts_cv_kfolds(X_trainv.index,k_,True)\n",
    "    \n",
    "    for di in range(0,len(data_index[0]),1):\n",
    "        train_ix = data_index[0][di]\n",
    "        valid_ix = data_index[1][di]\n",
    "        \n",
    "        # split data\n",
    "        #print(train_ix)\n",
    "        X_train, X_valid = X_trainv.loc[train_ix], X_trainv.loc[valid_ix]\n",
    "        #print(X_train)\n",
    "        #print(X_valid)\n",
    "        #y_train, y_valid = y_trainv.iloc[train_ix], y_trainv.iloc[valid_ix]\n",
    "        \n",
    "        if (model_==False):\n",
    "            #print(np.shape(X_train))\n",
    "            #model = pm.auto_arima(X_train, seasonal=True, m=4,stepwise=True)\n",
    "            model = pm.auto_arima(X_train, seasonal=True, m=4)\n",
    "            forecasts = model.predict(len(X_valid))  # predict N steps into the future\n",
    "        else:\n",
    "            #else:\n",
    "            model = SARIMAX(X_train,order=model_.order,seasonal_order=model_.seasonal_order, intercept=model_.with_intercept)\n",
    "            #model.fit(disp=0)\n",
    "            #forecasts = model.predict(start=len(X_train)+1,end=len(X_train)+len(X_valid))\n",
    "            \n",
    "            #model_fit = model.fit(start=0, end=len(X_train),exog=X_train,disp=False)\n",
    "            model_fit = model.fit(disp=False)\n",
    "            \n",
    "            forecasts = model_fit.predict(start=len(model_fit.fittedvalues)+1, end=len(model_fit.fittedvalues)+len(X_valid),dynamic=True)\n",
    "            #print(forecasts)\n",
    "            #print(X_valid)\n",
    "            #sm.tsa.statespace.SARIMAX(X_train, seasonal=True, m=4, order=my_order, seasonal_order=my_seasonal_order, ...)\n",
    "            #pm.auto_arima(X_train, seasonal=True, m=4,)\n",
    "            \n",
    "        #plt.figure(figsize  = (8,8))\n",
    "        #plt.title('Forecast result and Test data')\n",
    "        # Visualize the forecasts (blue=train, green=forecasts)\n",
    "        #x = np.arange(y.shape[0])\n",
    "        #plt.plot(x[:150], train, c='blue')\n",
    "        #plt.plot(x[150:], forecasts, c='green', label = 'ARIMA Forecast')\n",
    "        #plt.plot(x[150:], test, c='red', label = 'Test Data')\n",
    "        #plt.legend()\n",
    "        #plt.show()\n",
    "        \n",
    "        inner_models.append(model)\n",
    "\n",
    "        #yhat = model.predict(X_valid[t])\n",
    "        yhat = forecasts\n",
    "        # evaluate the model\n",
    "        acc = np.mean(abs(X_valid.values.ravel()-forecasts))\n",
    "        # store the result\n",
    "        inner_results.append(acc)\n",
    "        # report progress\n",
    "        #print('>acc=%.3f, est=%.3f, cfg=%s' % (acc, result.best_score_, result.best_params_))\n",
    "        # summarize the estimated performance of the model\n",
    "\n",
    "    #good juncture to fork locally\n",
    "    model_scores = list()\n",
    "\n",
    "    #test inner model as ansemble\n",
    "    for m_ in range(0,len(inner_models),1):\n",
    "        m = inner_models[m_]\n",
    "        X_valid = data_index[1][m_]\n",
    "        \n",
    "        if(str(type(m))==\"<class 'statsmodels.tsa.statespace.sarimax.SARIMAX'>\"):\n",
    "            \n",
    "            #model_fit = m.fit(disp=0)\n",
    "            model_fit = m.fit(disp=False)\n",
    "            forecasts = model_fit.predict(start=len(model_fit.fittedvalues)+1,end=len(X_test)+len(X_valid))\n",
    "\n",
    "            predict = model_fit.predict(start=(len(model_fit.fittedvalues)+len(X_valid)+1),end=(len(model_fit.fittedvalues)+len(X_valid)+len(X_test)))\n",
    "            #print(predict)\n",
    "            model_scores.append(np.mean(abs(predict)-X_test.values.ravel()))\n",
    "        else:\n",
    "            \n",
    "            model_scores.append(np.mean(abs(m.predict(len(X_test))-X_test.values.ravel())))\n",
    "\n",
    "    #average internal model results and report as outer_result which*\n",
    "    return([np.mean(np.abs(model_scores)),inner_models])\n",
    "    #outer_results.append(np.mean(np.abs(model_scores)))\n",
    "    #outer_models.append(inner_models)\n",
    "\n",
    "    #print('I Accuracy: %.3f (%.3f)' % (mean(inner_results), std(inner_results)))\n"
   ]
  },
  {
   "cell_type": "code",
   "execution_count": null,
   "id": "7db8c8a3-73ec-4d37-be47-55bed95850a1",
   "metadata": {},
   "outputs": [],
   "source": [
    "outer_sets"
   ]
  },
  {
   "cell_type": "code",
   "execution_count": 758,
   "id": "0084c306-f594-4817-bd38-6a9a05afd574",
   "metadata": {},
   "outputs": [
    {
     "data": {
      "text/plain": [
       "[79.3215060773795,\n",
       " [ARIMA(order=(1, 0, 0), scoring_args={}, seasonal_order=(0, 0, 0, 4),\n",
       "        suppress_warnings=True),\n",
       "  ARIMA(order=(2, 0, 0), scoring_args={}, seasonal_order=(0, 1, 0, 4),\n",
       "        suppress_warnings=True, with_intercept=False),\n",
       "  ARIMA(order=(0, 1, 0), scoring_args={}, seasonal_order=(1, 1, 0, 4),\n",
       "        suppress_warnings=True, with_intercept=False)]]"
      ]
     },
     "execution_count": 758,
     "metadata": {},
     "output_type": "execute_result"
    }
   ],
   "source": [
    "inner_arima(outer_sets[0])"
   ]
  },
  {
   "cell_type": "code",
   "execution_count": 759,
   "id": "f704265a-da19-41ba-971c-a8b158ae4a2f",
   "metadata": {},
   "outputs": [],
   "source": [
    "client = Client('192.168.3.100:8786')\n",
    "#client.restart()\n",
    "\n",
    "future = client.map(inner_arima, outer_sets)\n",
    "\n",
    "results = client.gather(future)"
   ]
  },
  {
   "cell_type": "code",
   "execution_count": 760,
   "id": "1a12c3a7-8e7b-4896-a168-fd7e49b0eac6",
   "metadata": {},
   "outputs": [
    {
     "data": {
      "text/plain": [
       "[[79.3215060773795,\n",
       "  [ARIMA(order=(1, 0, 0), scoring_args={}, seasonal_order=(0, 0, 0, 4),\n",
       "         suppress_warnings=True),\n",
       "   ARIMA(order=(2, 0, 0), scoring_args={}, seasonal_order=(0, 1, 0, 4),\n",
       "         suppress_warnings=True, with_intercept=False),\n",
       "   ARIMA(order=(0, 1, 0), scoring_args={}, seasonal_order=(1, 1, 0, 4),\n",
       "         suppress_warnings=True, with_intercept=False)]],\n",
       " [188.7966012535078,\n",
       "  [ARIMA(order=(0, 0, 2), scoring_args={}, seasonal_order=(2, 1, 0, 4),\n",
       "         suppress_warnings=True),\n",
       "   ARIMA(order=(1, 0, 0), scoring_args={}, seasonal_order=(0, 1, 0, 4),\n",
       "         suppress_warnings=True),\n",
       "   ARIMA(order=(0, 1, 0), scoring_args={}, seasonal_order=(0, 0, 0, 4),\n",
       "         suppress_warnings=True, with_intercept=False)]],\n",
       " [541.8351189883024,\n",
       "  [ARIMA(order=(0, 1, 0), scoring_args={}, seasonal_order=(0, 0, 0, 4),\n",
       "         suppress_warnings=True, with_intercept=False),\n",
       "   ARIMA(order=(0, 1, 0), scoring_args={}, seasonal_order=(1, 0, 0, 4),\n",
       "         suppress_warnings=True),\n",
       "   ARIMA(order=(1, 1, 0), scoring_args={}, seasonal_order=(1, 0, 0, 4),\n",
       "         suppress_warnings=True)]],\n",
       " [499.28068724599143,\n",
       "  [ARIMA(order=(0, 1, 0), scoring_args={}, seasonal_order=(0, 0, 0, 4),\n",
       "         suppress_warnings=True),\n",
       "   ARIMA(order=(2, 0, 0), scoring_args={}, seasonal_order=(2, 1, 0, 4),\n",
       "         suppress_warnings=True),\n",
       "   ARIMA(order=(1, 1, 0), scoring_args={}, seasonal_order=(0, 0, 0, 4),\n",
       "         suppress_warnings=True)]],\n",
       " [1925.0197678762088,\n",
       "  [ARIMA(order=(2, 0, 0), scoring_args={}, seasonal_order=(0, 1, 0, 4),\n",
       "         suppress_warnings=True, with_intercept=False),\n",
       "   ARIMA(order=(1, 0, 1), scoring_args={}, seasonal_order=(0, 0, 0, 4),\n",
       "         suppress_warnings=True),\n",
       "   ARIMA(order=(1, 0, 0), scoring_args={}, seasonal_order=(0, 1, 0, 4),\n",
       "         suppress_warnings=True, with_intercept=False)]]]"
      ]
     },
     "execution_count": 760,
     "metadata": {},
     "output_type": "execute_result"
    }
   ],
   "source": [
    "results"
   ]
  },
  {
   "cell_type": "code",
   "execution_count": 761,
   "id": "5ea06f9b-e0b0-4c8d-8d52-e1d3a00747ba",
   "metadata": {},
   "outputs": [
    {
     "data": {
      "text/plain": [
       "646.850736288278"
      ]
     },
     "execution_count": 761,
     "metadata": {},
     "output_type": "execute_result"
    }
   ],
   "source": [
    "np.mean([r[0] for r in results])"
   ]
  },
  {
   "cell_type": "code",
   "execution_count": 762,
   "id": "f7f176f8-94d8-4c47-8dbb-819c53eb6e5e",
   "metadata": {},
   "outputs": [
    {
     "data": {
      "text/plain": [
       "(0, 0, 0, 4)"
      ]
     },
     "execution_count": 762,
     "metadata": {},
     "output_type": "execute_result"
    }
   ],
   "source": [
    "results[0][1][0].seasonal_order"
   ]
  },
  {
   "cell_type": "code",
   "execution_count": 763,
   "id": "68a71aac-b779-4539-b267-61dfeb18835b",
   "metadata": {},
   "outputs": [
    {
     "data": {
      "text/plain": [
       "(1, 0, 0)"
      ]
     },
     "execution_count": 763,
     "metadata": {},
     "output_type": "execute_result"
    }
   ],
   "source": [
    "results[0][1][0].order"
   ]
  },
  {
   "cell_type": "code",
   "execution_count": null,
   "id": "26679e12-11b9-4941-8fc6-100e43af8351",
   "metadata": {},
   "outputs": [],
   "source": [
    "#dir(results[0][1][0])"
   ]
  },
  {
   "cell_type": "code",
   "execution_count": null,
   "id": "89667b30-c66f-4510-8f56-d83497b01d8f",
   "metadata": {},
   "outputs": [],
   "source": [
    "#outer_sets[0],results[0][1][0]\n",
    "\n",
    "#model_ = pm.auto_arima(data_, seasonal=True, m=4)\n",
    "\n"
   ]
  },
  {
   "cell_type": "code",
   "execution_count": null,
   "id": "02c5a3a2-673e-4cde-9980-c478cf8c2e6c",
   "metadata": {},
   "outputs": [],
   "source": [
    "#forecasts = model_.predict(5)  # predict N steps into the future"
   ]
  },
  {
   "cell_type": "code",
   "execution_count": 736,
   "id": "6da778ff-2e1d-492e-8826-37f5d6746777",
   "metadata": {},
   "outputs": [
    {
     "name": "stderr",
     "output_type": "stream",
     "text": [
      "/mnt/distvol/py39_jupyterlab/lib/python3.9/site-packages/statsmodels/base/optimizer.py:17: FutureWarning: Keyword arguments have been passed to the optimizer that have no effect. The list of allowed keyword arguments for method lbfgs is: m, pgtol, factr, maxfun, epsilon, approx_grad, bounds, loglike_and_score. The list of unsupported keyword arguments passed include: end, exog, start. After release 0.14, this will raise.\n",
      "  warnings.warn(\n",
      "/mnt/distvol/py39_jupyterlab/lib/python3.9/site-packages/statsmodels/base/model.py:604: ConvergenceWarning: Maximum Likelihood optimization failed to converge. Check mle_retvals\n",
      "  warnings.warn(\"Maximum Likelihood optimization failed to \"\n",
      "/mnt/distvol/py39_jupyterlab/lib/python3.9/site-packages/statsmodels/tsa/statespace/kalman_filter.py:2290: ValueWarning: Dynamic prediction specified to begin during out-of-sample forecasting period, and so has no effect.\n",
      "  warn('Dynamic prediction specified to begin during'\n"
     ]
    }
   ],
   "source": [
    "model = SARIMAX(data_,order=model_.order,seasonal_order=model_.seasonal_order, intercept=model_.with_intercept)\n",
    "#model.fit(disp=0)\n",
    "#forecasts = model.predict(start=len(X_train)+1,end=len(X_train)+len(X_valid))\n",
    "\n",
    "model_fit = model.fit(start=0, end=len(data_),exog=data_,disp=False)\n",
    "forecasts = model_fit.predict(start=len(data_)+1, end=len(data_)+10,dynamic=True)"
   ]
  },
  {
   "cell_type": "code",
   "execution_count": 749,
   "id": "abaff535-aaa6-444e-a8f0-fb19a9bf0d1a",
   "metadata": {},
   "outputs": [
    {
     "name": "stderr",
     "output_type": "stream",
     "text": [
      "/mnt/distvol/py39_jupyterlab/lib/python3.9/site-packages/statsmodels/base/model.py:604: ConvergenceWarning: Maximum Likelihood optimization failed to converge. Check mle_retvals\n",
      "  warnings.warn(\"Maximum Likelihood optimization failed to \"\n"
     ]
    },
    {
     "data": {
      "text/plain": [
       "<statsmodels.tsa.statespace.sarimax.SARIMAXResultsWrapper at 0x7f494856aa30>"
      ]
     },
     "execution_count": 749,
     "metadata": {},
     "output_type": "execute_result"
    }
   ],
   "source": [
    "model.fit(disp=False)"
   ]
  },
  {
   "cell_type": "code",
   "execution_count": 755,
   "id": "242f8424-ae79-4aff-a7b2-111042c242ec",
   "metadata": {},
   "outputs": [
    {
     "data": {
      "text/plain": [
       "209"
      ]
     },
     "execution_count": 755,
     "metadata": {},
     "output_type": "execute_result"
    }
   ],
   "source": [
    "len(data_)"
   ]
  },
  {
   "cell_type": "code",
   "execution_count": 756,
   "id": "9e8bd6d7-b302-4111-a1bf-9729031630c2",
   "metadata": {},
   "outputs": [
    {
     "data": {
      "text/plain": [
       "209"
      ]
     },
     "execution_count": 756,
     "metadata": {},
     "output_type": "execute_result"
    }
   ],
   "source": [
    "len(model_fit.fittedvalues)"
   ]
  },
  {
   "cell_type": "code",
   "execution_count": null,
   "id": "bad1abb3-2aa2-40a8-897f-5de9f90f7870",
   "metadata": {},
   "outputs": [],
   "source": []
  },
  {
   "cell_type": "code",
   "execution_count": null,
   "id": "79d7b00e-5d6d-49fd-b73c-28f48f5b43da",
   "metadata": {},
   "outputs": [],
   "source": []
  },
  {
   "cell_type": "code",
   "execution_count": null,
   "id": "38624de8-bd41-4fa1-9cd2-81f172bad3b1",
   "metadata": {},
   "outputs": [],
   "source": []
  },
  {
   "cell_type": "code",
   "execution_count": 773,
   "id": "b1315afb-a166-4bd4-9272-4504d1f5c0ea",
   "metadata": {},
   "outputs": [
    {
     "name": "stderr",
     "output_type": "stream",
     "text": [
      "/mnt/distvol/py39_jupyterlab/lib/python3.9/site-packages/statsmodels/tsa/statespace/kalman_filter.py:2290: ValueWarning: Dynamic prediction specified to begin during out-of-sample forecasting period, and so has no effect.\n",
      "  warn('Dynamic prediction specified to begin during'\n",
      "/mnt/distvol/py39_jupyterlab/lib/python3.9/site-packages/statsmodels/tsa/statespace/kalman_filter.py:2290: ValueWarning: Dynamic prediction specified to begin during out-of-sample forecasting period, and so has no effect.\n",
      "  warn('Dynamic prediction specified to begin during'\n",
      "/mnt/distvol/py39_jupyterlab/lib/python3.9/site-packages/statsmodels/tsa/statespace/sarimax.py:966: UserWarning: Non-stationary starting autoregressive parameters found. Using zeros as starting parameters.\n",
      "  warn('Non-stationary starting autoregressive parameters'\n",
      "/mnt/distvol/py39_jupyterlab/lib/python3.9/site-packages/statsmodels/tsa/statespace/kalman_filter.py:2290: ValueWarning: Dynamic prediction specified to begin during out-of-sample forecasting period, and so has no effect.\n",
      "  warn('Dynamic prediction specified to begin during'\n",
      "/mnt/distvol/py39_jupyterlab/lib/python3.9/site-packages/statsmodels/tsa/statespace/sarimax.py:966: UserWarning: Non-stationary starting autoregressive parameters found. Using zeros as starting parameters.\n",
      "  warn('Non-stationary starting autoregressive parameters'\n"
     ]
    },
    {
     "data": {
      "text/plain": [
       "[102.07585859728299,\n",
       " [<statsmodels.tsa.statespace.sarimax.SARIMAX at 0x7f493fc88a30>,\n",
       "  <statsmodels.tsa.statespace.sarimax.SARIMAX at 0x7f493f9870a0>,\n",
       "  <statsmodels.tsa.statespace.sarimax.SARIMAX at 0x7f493fedaeb0>]]"
      ]
     },
     "execution_count": 773,
     "metadata": {},
     "output_type": "execute_result"
    }
   ],
   "source": [
    "inner_arima(outer_sets[0],results[0][1][0])"
   ]
  },
  {
   "cell_type": "code",
   "execution_count": 774,
   "id": "e0a0b436-3315-4282-bdf1-1402c7eeb7e0",
   "metadata": {},
   "outputs": [],
   "source": [
    "strings = []\n",
    "for i in list(matplotlib.cbook.flatten([r[1] for r in results])):\n",
    "    strings.append(str(i))"
   ]
  },
  {
   "cell_type": "code",
   "execution_count": 775,
   "id": "61b18b67-8f77-4475-a064-75dd7b98117c",
   "metadata": {},
   "outputs": [],
   "source": [
    "strings.sort()"
   ]
  },
  {
   "cell_type": "code",
   "execution_count": 777,
   "id": "1cf43035-d81f-40a2-8bea-86e2dbbff2e1",
   "metadata": {},
   "outputs": [
    {
     "data": {
      "text/plain": [
       "[' ARIMA(0,0,2)(2,1,0)[4] intercept',\n",
       " ' ARIMA(0,1,0)(0,0,0)[4]          ',\n",
       " ' ARIMA(0,1,0)(0,0,0)[4]          ',\n",
       " ' ARIMA(0,1,0)(0,0,0)[4] intercept',\n",
       " ' ARIMA(0,1,0)(1,0,0)[4] intercept',\n",
       " ' ARIMA(0,1,0)(1,1,0)[4]          ',\n",
       " ' ARIMA(1,0,0)(0,0,0)[4] intercept',\n",
       " ' ARIMA(1,0,0)(0,1,0)[4]          ',\n",
       " ' ARIMA(1,0,0)(0,1,0)[4] intercept',\n",
       " ' ARIMA(1,0,1)(0,0,0)[4] intercept',\n",
       " ' ARIMA(1,1,0)(0,0,0)[4] intercept',\n",
       " ' ARIMA(1,1,0)(1,0,0)[4] intercept',\n",
       " ' ARIMA(2,0,0)(0,1,0)[4]          ',\n",
       " ' ARIMA(2,0,0)(0,1,0)[4]          ',\n",
       " ' ARIMA(2,0,0)(2,1,0)[4] intercept']"
      ]
     },
     "execution_count": 777,
     "metadata": {},
     "output_type": "execute_result"
    }
   ],
   "source": []
  },
  {
   "cell_type": "code",
   "execution_count": 776,
   "id": "505aebab-b188-4d28-b2e9-1aae8ec65945",
   "metadata": {},
   "outputs": [
    {
     "data": {
      "text/plain": [
       "[ARIMA(order=(1, 0, 0), scoring_args={}, seasonal_order=(0, 0, 0, 4),\n",
       "       suppress_warnings=True),\n",
       " ARIMA(order=(2, 0, 0), scoring_args={}, seasonal_order=(0, 1, 0, 4),\n",
       "       suppress_warnings=True, with_intercept=False),\n",
       " ARIMA(order=(0, 1, 0), scoring_args={}, seasonal_order=(1, 1, 0, 4),\n",
       "       suppress_warnings=True, with_intercept=False),\n",
       " ARIMA(order=(0, 0, 2), scoring_args={}, seasonal_order=(2, 1, 0, 4),\n",
       "       suppress_warnings=True),\n",
       " ARIMA(order=(1, 0, 0), scoring_args={}, seasonal_order=(0, 1, 0, 4),\n",
       "       suppress_warnings=True),\n",
       " ARIMA(order=(0, 1, 0), scoring_args={}, seasonal_order=(0, 0, 0, 4),\n",
       "       suppress_warnings=True, with_intercept=False),\n",
       " ARIMA(order=(0, 1, 0), scoring_args={}, seasonal_order=(0, 0, 0, 4),\n",
       "       suppress_warnings=True, with_intercept=False),\n",
       " ARIMA(order=(0, 1, 0), scoring_args={}, seasonal_order=(1, 0, 0, 4),\n",
       "       suppress_warnings=True),\n",
       " ARIMA(order=(1, 1, 0), scoring_args={}, seasonal_order=(1, 0, 0, 4),\n",
       "       suppress_warnings=True),\n",
       " ARIMA(order=(0, 1, 0), scoring_args={}, seasonal_order=(0, 0, 0, 4),\n",
       "       suppress_warnings=True),\n",
       " ARIMA(order=(2, 0, 0), scoring_args={}, seasonal_order=(2, 1, 0, 4),\n",
       "       suppress_warnings=True),\n",
       " ARIMA(order=(1, 1, 0), scoring_args={}, seasonal_order=(0, 0, 0, 4),\n",
       "       suppress_warnings=True),\n",
       " ARIMA(order=(2, 0, 0), scoring_args={}, seasonal_order=(0, 1, 0, 4),\n",
       "       suppress_warnings=True, with_intercept=False),\n",
       " ARIMA(order=(1, 0, 1), scoring_args={}, seasonal_order=(0, 0, 0, 4),\n",
       "       suppress_warnings=True),\n",
       " ARIMA(order=(1, 0, 0), scoring_args={}, seasonal_order=(0, 1, 0, 4),\n",
       "       suppress_warnings=True, with_intercept=False)]"
      ]
     },
     "execution_count": 776,
     "metadata": {},
     "output_type": "execute_result"
    }
   ],
   "source": [
    "[l.order for l in list(matplotlib.cbook.flatten([r[1] for r in results]))]\n",
    "[l.seasonal_order for l in list(matplotlib.cbook.flatten([r[1] for r in results]))]\n",
    "[l for l in list(matplotlib.cbook.flatten([r[1] for r in results]))]"
   ]
  },
  {
   "cell_type": "code",
   "execution_count": null,
   "id": "6403d984-715b-4792-8b3e-2627ebb20d2e",
   "metadata": {},
   "outputs": [],
   "source": [
    "strings"
   ]
  },
  {
   "cell_type": "code",
   "execution_count": 778,
   "id": "4918b980-7612-4a65-8382-a09389307a6e",
   "metadata": {},
   "outputs": [],
   "source": [
    "string_counts = []\n",
    "\n",
    "for u in np.unique(strings):\n",
    "    #print(u)\n",
    "    count = np.count_nonzero(np.array(strings)==u)\n",
    "    string_counts.append([u,count])\n",
    "    #print(np.array(strings)==u)"
   ]
  },
  {
   "cell_type": "code",
   "execution_count": null,
   "id": "721a35f4-1fea-474f-9a42-3def8b1a0d81",
   "metadata": {},
   "outputs": [],
   "source": []
  },
  {
   "cell_type": "code",
   "execution_count": 779,
   "id": "312f3128-7a7b-46e3-b6e7-38caf1041013",
   "metadata": {},
   "outputs": [
    {
     "data": {
      "text/plain": [
       "[' ARIMA(0,0,2)(2,1,0)[4] intercept',\n",
       " ' ARIMA(0,1,0)(0,0,0)[4]          ',\n",
       " ' ARIMA(0,1,0)(0,0,0)[4] intercept',\n",
       " ' ARIMA(0,1,0)(1,0,0)[4] intercept',\n",
       " ' ARIMA(0,1,0)(1,1,0)[4]          ',\n",
       " ' ARIMA(1,0,0)(0,0,0)[4] intercept',\n",
       " ' ARIMA(1,0,0)(0,1,0)[4]          ',\n",
       " ' ARIMA(1,0,0)(0,1,0)[4] intercept',\n",
       " ' ARIMA(1,0,1)(0,0,0)[4] intercept',\n",
       " ' ARIMA(1,1,0)(0,0,0)[4] intercept',\n",
       " ' ARIMA(1,1,0)(1,0,0)[4] intercept',\n",
       " ' ARIMA(2,0,0)(0,1,0)[4]          ',\n",
       " ' ARIMA(2,0,0)(2,1,0)[4] intercept']"
      ]
     },
     "execution_count": 779,
     "metadata": {},
     "output_type": "execute_result"
    }
   ],
   "source": [
    "[s[0] for s in string_counts]"
   ]
  },
  {
   "cell_type": "code",
   "execution_count": 780,
   "id": "a7227039-b324-4d94-ad60-611c2fe69fcd",
   "metadata": {},
   "outputs": [],
   "source": [
    "sorted_string_counts_df = pd.DataFrame(string_counts,columns=['arima model','times occurred in nested cv']).sort_values(by='times occurred in nested cv',ascending=False)"
   ]
  },
  {
   "cell_type": "code",
   "execution_count": 782,
   "id": "400f7246-06b6-4374-b3a0-b4e2df395809",
   "metadata": {},
   "outputs": [
    {
     "data": {
      "text/plain": [
       "13"
      ]
     },
     "execution_count": 782,
     "metadata": {},
     "output_type": "execute_result"
    }
   ],
   "source": [
    "len(sorted_string_counts_df)"
   ]
  },
  {
   "cell_type": "code",
   "execution_count": 781,
   "id": "68161c86-3a2d-4033-8c23-c8fa3f46bf70",
   "metadata": {},
   "outputs": [
    {
     "data": {
      "text/html": [
       "<div>\n",
       "<style scoped>\n",
       "    .dataframe tbody tr th:only-of-type {\n",
       "        vertical-align: middle;\n",
       "    }\n",
       "\n",
       "    .dataframe tbody tr th {\n",
       "        vertical-align: top;\n",
       "    }\n",
       "\n",
       "    .dataframe thead th {\n",
       "        text-align: right;\n",
       "    }\n",
       "</style>\n",
       "<table border=\"1\" class=\"dataframe\">\n",
       "  <thead>\n",
       "    <tr style=\"text-align: right;\">\n",
       "      <th></th>\n",
       "      <th>arima model</th>\n",
       "      <th>times occurred in nested cv</th>\n",
       "    </tr>\n",
       "  </thead>\n",
       "  <tbody>\n",
       "    <tr>\n",
       "      <th>1</th>\n",
       "      <td>ARIMA(0,1,0)(0,0,0)[4]</td>\n",
       "      <td>2</td>\n",
       "    </tr>\n",
       "    <tr>\n",
       "      <th>11</th>\n",
       "      <td>ARIMA(2,0,0)(0,1,0)[4]</td>\n",
       "      <td>2</td>\n",
       "    </tr>\n",
       "    <tr>\n",
       "      <th>0</th>\n",
       "      <td>ARIMA(0,0,2)(2,1,0)[4] intercept</td>\n",
       "      <td>1</td>\n",
       "    </tr>\n",
       "    <tr>\n",
       "      <th>2</th>\n",
       "      <td>ARIMA(0,1,0)(0,0,0)[4] intercept</td>\n",
       "      <td>1</td>\n",
       "    </tr>\n",
       "    <tr>\n",
       "      <th>3</th>\n",
       "      <td>ARIMA(0,1,0)(1,0,0)[4] intercept</td>\n",
       "      <td>1</td>\n",
       "    </tr>\n",
       "    <tr>\n",
       "      <th>4</th>\n",
       "      <td>ARIMA(0,1,0)(1,1,0)[4]</td>\n",
       "      <td>1</td>\n",
       "    </tr>\n",
       "    <tr>\n",
       "      <th>5</th>\n",
       "      <td>ARIMA(1,0,0)(0,0,0)[4] intercept</td>\n",
       "      <td>1</td>\n",
       "    </tr>\n",
       "    <tr>\n",
       "      <th>6</th>\n",
       "      <td>ARIMA(1,0,0)(0,1,0)[4]</td>\n",
       "      <td>1</td>\n",
       "    </tr>\n",
       "    <tr>\n",
       "      <th>7</th>\n",
       "      <td>ARIMA(1,0,0)(0,1,0)[4] intercept</td>\n",
       "      <td>1</td>\n",
       "    </tr>\n",
       "    <tr>\n",
       "      <th>8</th>\n",
       "      <td>ARIMA(1,0,1)(0,0,0)[4] intercept</td>\n",
       "      <td>1</td>\n",
       "    </tr>\n",
       "  </tbody>\n",
       "</table>\n",
       "</div>"
      ],
      "text/plain": [
       "                          arima model  times occurred in nested cv\n",
       "1    ARIMA(0,1,0)(0,0,0)[4]                                      2\n",
       "11   ARIMA(2,0,0)(0,1,0)[4]                                      2\n",
       "0    ARIMA(0,0,2)(2,1,0)[4] intercept                            1\n",
       "2    ARIMA(0,1,0)(0,0,0)[4] intercept                            1\n",
       "3    ARIMA(0,1,0)(1,0,0)[4] intercept                            1\n",
       "4    ARIMA(0,1,0)(1,1,0)[4]                                      1\n",
       "5    ARIMA(1,0,0)(0,0,0)[4] intercept                            1\n",
       "6    ARIMA(1,0,0)(0,1,0)[4]                                      1\n",
       "7    ARIMA(1,0,0)(0,1,0)[4] intercept                            1\n",
       "8    ARIMA(1,0,1)(0,0,0)[4] intercept                            1"
      ]
     },
     "execution_count": 781,
     "metadata": {},
     "output_type": "execute_result"
    }
   ],
   "source": [
    "sorted_string_counts_df.head(10)"
   ]
  },
  {
   "cell_type": "code",
   "execution_count": null,
   "id": "3261a96c-ca08-48c1-8c0b-024ba71ee423",
   "metadata": {},
   "outputs": [],
   "source": [
    "inner_arima(outer_sets[0],"
   ]
  },
  {
   "cell_type": "code",
   "execution_count": null,
   "id": "87e5a284-68d8-446f-a271-a12a72ff2fc1",
   "metadata": {},
   "outputs": [],
   "source": [
    "strings==np.unique(strings)"
   ]
  }
 ],
 "metadata": {
  "kernelspec": {
   "display_name": "Python 3 (ipykernel)",
   "language": "python",
   "name": "python3"
  },
  "language_info": {
   "codemirror_mode": {
    "name": "ipython",
    "version": 3
   },
   "file_extension": ".py",
   "mimetype": "text/x-python",
   "name": "python",
   "nbconvert_exporter": "python",
   "pygments_lexer": "ipython3",
   "version": "3.9.9"
  }
 },
 "nbformat": 4,
 "nbformat_minor": 5
}
