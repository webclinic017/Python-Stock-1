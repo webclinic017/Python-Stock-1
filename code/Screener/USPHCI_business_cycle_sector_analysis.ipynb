{
 "cells": [
  {
   "cell_type": "code",
   "execution_count": 1,
   "id": "2c69845c-c469-4686-b06a-4b9d2a4b1432",
   "metadata": {
    "tags": []
   },
   "outputs": [
    {
     "name": "stderr",
     "output_type": "stream",
     "text": [
      "C:\\Users\\User\\AppData\\Local\\Temp\\ipykernel_23072\\2277229180.py:17: DeprecationWarning: Importing display from IPython.core.display is deprecated since IPython 7.14, please import from IPython display\n",
      "  from IPython.core.display import display, HTML\n"
     ]
    }
   ],
   "source": [
    "import numpy as np\n",
    "import pandas as pd\n",
    "from datetime import datetime\n",
    "from dateutil.relativedelta import relativedelta\n",
    "import matplotlib.pyplot as plt\n",
    "import matplotlib.transforms as mtransforms\n",
    "import pandas_datareader.data as pdr\n",
    "from cytoolz import sliding_window\n",
    "import pickle\n",
    "from itertools import groupby\n",
    "import yfinance as yf\n",
    "from sklearn.preprocessing import StandardScaler\n",
    "import scipy.stats as st\n",
    "from scipy.stats import t\n",
    "\n",
    "#from IPython import display\n",
    "from IPython.core.display import display, HTML\n",
    "import pandas_market_calendars as mcal\n"
   ]
  },
  {
   "cell_type": "code",
   "execution_count": 2,
   "id": "eb860619-3523-4ecf-b99c-4f369ac72b6d",
   "metadata": {
    "tags": []
   },
   "outputs": [],
   "source": [
    "def test_increasing_value(v):\n",
    "    if(v>0):\n",
    "        return 1\n",
    "    else:\n",
    "        return 0\n",
    "\n",
    "def test_decreasing_value(v):\n",
    "    if(v<0):\n",
    "        return 1\n",
    "    else:\n",
    "        return 0\n",
    "\n",
    "def display_side_by_side(dfs:list, captions:list, tablespacing=5):\n",
    "    \"\"\"Display tables side by side to save vertical space\n",
    "    Input:\n",
    "        dfs: list of pandas.DataFrame\n",
    "        captions: list of table captions\n",
    "    \"\"\"\n",
    "    output = \"\"\n",
    "    for (caption, df) in zip(captions, dfs):\n",
    "        output += df.style.set_table_attributes(\"style='display:inline'\").set_caption(caption)._repr_html_()\n",
    "        output += tablespacing * \"\\xa0\"\n",
    "    display(HTML(output))"
   ]
  },
  {
   "cell_type": "code",
   "execution_count": 3,
   "id": "14c95e72-eede-4d55-9415-74c42a2654ca",
   "metadata": {
    "tags": []
   },
   "outputs": [],
   "source": [
    "dict_sectors = {'Basic Materials':'VAW', 'Communication Services':'VOX', 'Consumer Cyclical':'VCR',\n",
    "       'Consumer Defensive':'VDC', 'Energy':'VDE', 'Financial Services':'VFH', 'Healthcare':'VHT',\n",
    "       'Industrials':'VIS', 'Real Estate':'VNQ', 'Technology':'VGT', 'Utilities':'VPU', 'error':'error'}\n",
    "\n",
    "dict_indexes = {'SPTM':'SP1500', 'SPY':'SP500', 'SLY':'SP600', 'MDYG':'SP400','DIA':'DOW','error':'error'}\n",
    "\n",
    "dict_sectors_reverse = {'VAW':'Basic Materials',\n",
    " 'VOX':'Communication Services',\n",
    " 'VCR':'Consumer Cyclical',\n",
    " 'VDC':'Consumer Defensive',\n",
    " 'VDE':'Energy',\n",
    " 'VFH':'Financial Services',\n",
    " 'VHT':'Healthcare',\n",
    " 'VIS':'Industrials',\n",
    " 'VNQ':'Real Estate',\n",
    " 'VGT':'Technology',\n",
    " 'VPU':'Utilities',\n",
    " 'error': 'error'}\n",
    "\n",
    "indexes = ['SPTM', 'SPY', 'SLY', 'MDYG', 'DIA']\n",
    "sectors = ['VOX', 'VCR', 'VDC', 'VDE', 'VFH', 'VHT', 'VIS', 'VGT', 'VAW',\n",
    "       'VNQ', 'VPU']"
   ]
  },
  {
   "cell_type": "code",
   "execution_count": 4,
   "id": "66d788f1-ffba-4ce6-b95b-5fef2e7cd8ae",
   "metadata": {
    "tags": []
   },
   "outputs": [],
   "source": [
    "#SPDR Sector ETF\n",
    "spdr_sector_symbols = ['XLK','XLV','XLY','XLC','XLF','XLI','XLP','XLU','XLB','XLRE','XLE']\n",
    "\n",
    "spdr_sector_names = ['Information Technology','Health Care','Consumer Discretionary','Communication Services','Financials','Industrials','Consumer Staples','Utilities','Materials','Real Estate','Energy']\n",
    "\n",
    "dict_spdr_sectors = dict(zip(*[spdr_sector_symbols,spdr_sector_names]))"
   ]
  },
  {
   "cell_type": "code",
   "execution_count": null,
   "id": "87d66342-c1b7-47f1-be08-4a0b6dadae13",
   "metadata": {
    "tags": []
   },
   "outputs": [],
   "source": []
  },
  {
   "cell_type": "code",
   "execution_count": 5,
   "id": "7337635b-8463-48e5-8a83-506ca08d9b37",
   "metadata": {
    "tags": []
   },
   "outputs": [],
   "source": [
    "today = datetime.today().strftime('%Y-%m-%d')\n",
    "#today = end\n",
    "\n",
    "past = (datetime.strptime(today, '%Y-%m-%d') - relativedelta(months=64*4)).strftime('%Y-%m-%d')\n",
    "#past = start\n",
    "start = past\n",
    "end = today\n",
    "\n",
    "nyse = mcal.get_calendar('NYSE')\n",
    "nyse_dates = nyse.schedule(start_date=past, end_date=today)"
   ]
  },
  {
   "cell_type": "code",
   "execution_count": 6,
   "id": "2318e575-1614-4cee-bccf-2918562de6ed",
   "metadata": {
    "tags": []
   },
   "outputs": [],
   "source": [
    "def getStock(npa):\n",
    "    symbol = npa[0]\n",
    "    start_=npa[1]\n",
    "    end_=npa[2]\n",
    "    \n",
    "    data_ = yf.download(symbol, start=start_,end=end_)\n",
    "  \n",
    "    return([symbol,data_])"
   ]
  },
  {
   "cell_type": "code",
   "execution_count": 7,
   "id": "01253548-829f-401e-95ee-d830545e1619",
   "metadata": {
    "tags": []
   },
   "outputs": [],
   "source": [
    "#yf.download(sectors).dropna()"
   ]
  },
  {
   "cell_type": "code",
   "execution_count": 8,
   "id": "09dbb6ad-a1ee-43d3-9fd8-7f16498daa49",
   "metadata": {
    "tags": []
   },
   "outputs": [
    {
     "name": "stdout",
     "output_type": "stream",
     "text": [
      "[*********************100%***********************]  1 of 1 completed\n",
      "[*********************100%***********************]  1 of 1 completed\n",
      "[*********************100%***********************]  1 of 1 completed\n",
      "[*********************100%***********************]  1 of 1 completed\n",
      "[*********************100%***********************]  1 of 1 completed\n",
      "[*********************100%***********************]  1 of 1 completed\n",
      "[*********************100%***********************]  1 of 1 completed\n",
      "[*********************100%***********************]  1 of 1 completed\n",
      "[*********************100%***********************]  1 of 1 completed\n",
      "[*********************100%***********************]  1 of 1 completed\n",
      "[*********************100%***********************]  1 of 1 completed\n",
      "[*********************100%***********************]  1 of 1 completed\n",
      "[*********************100%***********************]  1 of 1 completed\n",
      "[*********************100%***********************]  1 of 1 completed\n",
      "[*********************100%***********************]  1 of 1 completed\n",
      "[*********************100%***********************]  1 of 1 completed\n"
     ]
    }
   ],
   "source": [
    "\n",
    "prices_df = pd.DataFrame()\n",
    "for f in [*indexes,*sectors]:\n",
    "    temp = getStock([f,start,end])\n",
    "    temp_df = temp[1]\n",
    "    temp_df['Symbol'] = temp[0]\n",
    "    prices_df = pd.concat([prices_df,temp_df],axis=0)"
   ]
  },
  {
   "cell_type": "code",
   "execution_count": 9,
   "id": "49ef6f85-4313-4e94-9f0c-d7b04ade4434",
   "metadata": {
    "jupyter": {
     "source_hidden": true
    }
   },
   "outputs": [],
   "source": [
    "def highlight_cells(val,threshold):\n",
    "    color = 'yellow' if val < threshold else ''\n",
    "    return 'background-color: {}'.format(color)"
   ]
  },
  {
   "cell_type": "code",
   "execution_count": 10,
   "id": "757c8a58-a031-47a7-a053-adb5ad5c7995",
   "metadata": {
    "jupyter": {
     "source_hidden": true
    }
   },
   "outputs": [],
   "source": [
    "si = ['03-31','06-30','09-30','12-31']\n",
    "               \n",
    "#[start,end, prices_df, sp1500_index_df, sp500, sp600, sp400, market_data, completed_fred_pvt, completed_bonds, completed_bonds_pvt, sectors, indexes, screener_sorted] = pickle.load(open('./data_object.pkl', 'rb'))\n",
    "\n",
    "#prices = prices_df\n",
    "#prices = pd.read_excel('SP1500_screener_multiple.xlsx',sheet_name=\"SP1500_Sectors_Indexes_Prices\")"
   ]
  },
  {
   "cell_type": "code",
   "execution_count": null,
   "id": "a70ba93b-eb19-4161-9cb6-da501ac988d5",
   "metadata": {
    "jupyter": {
     "source_hidden": true
    }
   },
   "outputs": [],
   "source": []
  },
  {
   "cell_type": "code",
   "execution_count": null,
   "id": "f38af48d-3798-43c3-8320-67ac2019d141",
   "metadata": {
    "tags": []
   },
   "outputs": [],
   "source": []
  },
  {
   "cell_type": "code",
   "execution_count": null,
   "id": "c00cac61-82d0-4c60-8eb8-f9a139b3d7bd",
   "metadata": {
    "jupyter": {
     "source_hidden": true
    }
   },
   "outputs": [],
   "source": []
  },
  {
   "cell_type": "code",
   "execution_count": null,
   "id": "ada439cb-f60c-473f-952a-43d2927da6e5",
   "metadata": {
    "jupyter": {
     "source_hidden": true
    }
   },
   "outputs": [],
   "source": []
  },
  {
   "cell_type": "code",
   "execution_count": 11,
   "id": "667f2f9b-3cf4-4e70-8d80-e34d536de11b",
   "metadata": {
    "jupyter": {
     "source_hidden": true
    }
   },
   "outputs": [],
   "source": [
    "indexes_df = pd.DataFrame()\n",
    "\n",
    "for s in indexes:\n",
    "    indexes_df = pd.concat([prices_df[prices_df['Symbol'] == s][['Adj Close']],indexes_df],axis=1)\n",
    "    \n",
    "indexes_df.columns = indexes\n",
    "                     \n",
    "indexes_df_qtr_pvt = indexes_df.asfreq('d').interpolate().resample('4W-'+nyse_dates.index[-1].strftime('%a')).mean()\n",
    "\n",
    "sectors_df = pd.DataFrame()\n",
    "\n",
    "for s in sectors:\n",
    "    sectors_df = pd.concat([prices_df[prices_df['Symbol'] == s][['Adj Close']],sectors_df],axis=1)\n",
    "    \n",
    "sectors_df.columns = sectors\n",
    "\n",
    "sectors_df_qtr_pvt = sectors_df.asfreq('d').interpolate().resample('4W-'+nyse_dates.index[-1].strftime('%a')).mean()\n",
    "\n",
    "combined_indexes_sectors_df = pd.concat([indexes_df_qtr_pvt,sectors_df_qtr_pvt],axis=1)\n",
    "combined_indexes_sectors_return_pvt_df = combined_indexes_sectors_df.pct_change().dropna()"
   ]
  },
  {
   "cell_type": "code",
   "execution_count": null,
   "id": "5e94ebe4-f9d4-4bf1-a9fa-dc0734b7cda7",
   "metadata": {
    "tags": []
   },
   "outputs": [],
   "source": []
  },
  {
   "cell_type": "code",
   "execution_count": null,
   "id": "451bbf30-9909-4720-a25a-59fc3536ed0e",
   "metadata": {
    "tags": []
   },
   "outputs": [],
   "source": []
  },
  {
   "cell_type": "code",
   "execution_count": 12,
   "id": "36f2e20f-e511-4474-9f57-c1fe8adb2efd",
   "metadata": {
    "tags": []
   },
   "outputs": [
    {
     "data": {
      "text/plain": [
       "'\\ncli_df = pd.read_csv(\"https://stats.oecd.org/sdmx-json/data/DP_LIVE/.CLI.../OECD?contentType=csv&detail=USA&separator=comma&csv-lang=en\")\\n#cli_df = pd.read_csv(\"https://stats.oecd.org/sdmx-json/data/DP_LIVE/.CLI.../OECD?contentType=csv&detail=code&separator=comma&csv-lang=en\")\\nbci_df = pd.read_csv(\"https://stats.oecd.org/sdmx-json/data/DP_LIVE/.BCI.../OECD?contentType=csv&detail=code&separator=comma&csv-lang=en\")\\ncci_df = pd.read_csv(\"https://stats.oecd.org/sdmx-json/data/DP_LIVE/.CCI.../OECD?contentType=csv&detail=code&separator=comma&csv-lang=en\")\\n\\nprint(np.unique(cci_df.LOCATION))\\n\\nbci_df_USA = bci_df[bci_df[\\'LOCATION\\']==\\'USA\\']\\nbci_df_USA.index = bci_df_USA[bci_df_USA[\\'LOCATION\\']==\\'USA\\'].set_index(\\'TIME\\').index.map(lambda t: datetime.strptime(t,\\'%Y-%m\\'))\\ncci_df_USA = cci_df[cci_df[\\'LOCATION\\']==\\'USA\\']\\ncci_df_USA.index = cci_df_USA[cci_df_USA[\\'LOCATION\\']==\\'USA\\'].set_index(\\'TIME\\').index.map(lambda t: datetime.strptime(t,\\'%Y-%m\\'))\\ncli_df_USA = cli_df[cli_df[\\'LOCATION\\']==\\'USA\\']\\ncli_df_USA.index = cli_df_USA[cli_df_USA[\\'LOCATION\\']==\\'USA\\'].set_index(\\'TIME\\').index.map(lambda t: datetime.strptime(t,\\'%Y-%m\\'))\\n'"
      ]
     },
     "execution_count": 12,
     "metadata": {},
     "output_type": "execute_result"
    }
   ],
   "source": [
    "\"\"\"\n",
    "cli_df = pd.read_csv(\"https://stats.oecd.org/sdmx-json/data/DP_LIVE/.CLI.../OECD?contentType=csv&detail=USA&separator=comma&csv-lang=en\")\n",
    "#cli_df = pd.read_csv(\"https://stats.oecd.org/sdmx-json/data/DP_LIVE/.CLI.../OECD?contentType=csv&detail=code&separator=comma&csv-lang=en\")\n",
    "bci_df = pd.read_csv(\"https://stats.oecd.org/sdmx-json/data/DP_LIVE/.BCI.../OECD?contentType=csv&detail=code&separator=comma&csv-lang=en\")\n",
    "cci_df = pd.read_csv(\"https://stats.oecd.org/sdmx-json/data/DP_LIVE/.CCI.../OECD?contentType=csv&detail=code&separator=comma&csv-lang=en\")\n",
    "\n",
    "print(np.unique(cci_df.LOCATION))\n",
    "\n",
    "bci_df_USA = bci_df[bci_df['LOCATION']=='USA']\n",
    "bci_df_USA.index = bci_df_USA[bci_df_USA['LOCATION']=='USA'].set_index('TIME').index.map(lambda t: datetime.strptime(t,'%Y-%m'))\n",
    "cci_df_USA = cci_df[cci_df['LOCATION']=='USA']\n",
    "cci_df_USA.index = cci_df_USA[cci_df_USA['LOCATION']=='USA'].set_index('TIME').index.map(lambda t: datetime.strptime(t,'%Y-%m'))\n",
    "cli_df_USA = cli_df[cli_df['LOCATION']=='USA']\n",
    "cli_df_USA.index = cli_df_USA[cli_df_USA['LOCATION']=='USA'].set_index('TIME').index.map(lambda t: datetime.strptime(t,'%Y-%m'))\n",
    "\"\"\""
   ]
  },
  {
   "cell_type": "code",
   "execution_count": 13,
   "id": "56751056-0f82-4601-892c-8125911b626f",
   "metadata": {
    "jupyter": {
     "source_hidden": true
    },
    "tags": []
   },
   "outputs": [
    {
     "data": {
      "text/plain": [
       "<matplotlib.legend.Legend at 0x197508bed60>"
      ]
     },
     "execution_count": 13,
     "metadata": {},
     "output_type": "execute_result"
    },
    {
     "data": {
      "image/png": "[encoded data removed]",
      "text/plain": [
       "<Figure size 2160x288 with 1 Axes>"
      ]
     },
     "metadata": {
      "needs_background": "light"
     },
     "output_type": "display_data"
    }
   ],
   "source": [
    "#Leading Indicators OECD: Leading indicators: CLI: Normalised for the United States\n",
    "USALOLITONOSTSAM = pdr.DataReader('USALOLITONOSTSAM','fred','1955-01-01',end)-100\n",
    "\n",
    "#Coincident Economic Activity Index for the United States\n",
    "USPHCI = pdr.DataReader('USPHCI','fred','1955-01-01',end)\n",
    "#USPHCI_signal = USPHCI.rolling(4).mean()-USPHCI.rolling(12*4).mean()\n",
    "\n",
    "#Gross Domestic Product \n",
    "GDP = pdr.DataReader('GDP','fred','1955-01-01',end)\n",
    "\n",
    "#Real personal income excluding current transfer receipts\n",
    "W875RX1 = pdr.DataReader('W875RX1','fred','1955-01-01',end)\n",
    "\"\"\"\n",
    "signal = USALOLITONOSTSAM['USALOLITONOSTSAM']\n",
    "\n",
    "Recovery = (signal<0)*(signal.pct_change(1)>0)\n",
    "Expansion = (signal>0)*(signal.pct_change(1)>0)\n",
    "Slowdown = (signal>0)*(signal.pct_change(1)<0)\n",
    "Recession = (signal<0)*(signal.pct_change(1)<0)\n",
    "\"\"\"\n",
    "#combined_leading = pd.concat([cli_df_USA['Value']-100,USALOLITONOSTSAM],axis=1)\n",
    "#combined_leading = pd.concat([cli_df_USA['Value'],USALOLITONOSTSAM+100],axis=1)\n",
    "#proposed_signal_pre = pd.concat([USPHCI,GDP,W875RX1],axis=1)\n",
    "#proposed_signal_pre = pd.concat([USPHCI,W875RX1],axis=1)\n",
    "proposed_signal_pre = pd.concat([USPHCI],axis=1)\n",
    "data_pre_scaled = proposed_signal_pre.interpolate(limit_area='inside').dropna()\n",
    "\n",
    "#signal = combined_leading.mean(axis=1)\n",
    "#signal = combined_leading.mean(axis=1).asfreq('d').interpolate().asfreq('4W-'+nyse_dates.index[-1].strftime('%a'))\n",
    "#signal = combined_leading.mean(axis=1).asfreq('d').interpolate().resample('4W-'+nyse_dates.index[-1].strftime('%a')).mean()\n",
    "\n",
    "scaler = StandardScaler()\n",
    "\n",
    "scaler.fit(data_pre_scaled)\n",
    "#data_scaled = pd.DataFrame(scaler.fit_transform(data_pre_scaled),index=data_pre_scaled.index)\n",
    "#data_scaled.plot()\n",
    "\n",
    "#QTR_SMA = cli_df_USA['Value'].rolling(3).mean()\n",
    "\n",
    "fig, ax1 = plt.subplots( figsize=(30,4) )\n",
    "\n",
    "#plt.plot(signal1)\n",
    "\n",
    "#ax2 = ax1.twinx()\n",
    "\n",
    "data_pre_t_scaled = ((data_pre_scaled-data_pre_scaled.mean())/(data_pre_scaled.std()*np.sqrt(len(data_pre_scaled)))).mean(axis=1)\n",
    "proposed_signal = pd.DataFrame(t.cdf(data_pre_t_scaled,df=len(data_pre_t_scaled)),index=data_pre_t_scaled.index)\n",
    "\n",
    "signal = proposed_signal.asfreq('D').interpolate().resample('4W-'+nyse_dates.index[-1].strftime('%a')).mean().pct_change(13)\n",
    "\n",
    "ST_SMA = signal.rolling(13).mean()\n",
    "LT_SMA = signal.rolling(13*4).mean()\n",
    "#signal = ST_SMA - LT_SMA\n",
    "signal_ = ST_SMA-LT_SMA\n",
    "\n",
    "ax1.plot(signal, color='orange')\n",
    "\n",
    "ax1.axhline(y = 0, color = 'black', linestyle = '-')\n",
    "\n",
    "#troughs\n",
    "troughs = signal.rolling(13*4).min()\n",
    "ax1.plot(troughs,color='magenta')\n",
    "#troughs = trough\n",
    "\n",
    "#peaks\n",
    "peaks = signal.rolling(13*4).max()\n",
    "ax1.plot(peaks, color='blue')\n",
    "#ax1.legend(['signal','SMA_signal','peaks','troughs'])\n",
    "ax1.legend(['signal','peaks','troughs'])\n",
    "#peaks = peak\n",
    "\n",
    "#plt.plot(combined_leading)\n",
    "#plt.plot(signal_MACD)\n",
    "#plt.show()"
   ]
  },
  {
   "cell_type": "code",
   "execution_count": 14,
   "id": "0954891b-f88c-43e0-a779-4f579105e826",
   "metadata": {
    "jupyter": {
     "source_hidden": true
    }
   },
   "outputs": [],
   "source": [
    "#cli_range_df = cli_df_USA[(cli_df_USA.index<=today) & (cli_df_USA.index>=past)]"
   ]
  },
  {
   "cell_type": "code",
   "execution_count": null,
   "id": "96dc6755-c9c5-409a-9f5b-7372ada2df01",
   "metadata": {
    "jupyter": {
     "source_hidden": true
    }
   },
   "outputs": [],
   "source": []
  },
  {
   "cell_type": "code",
   "execution_count": null,
   "id": "55b2967e-1a6e-469f-9896-f9877e501535",
   "metadata": {
    "jupyter": {
     "source_hidden": true
    }
   },
   "outputs": [],
   "source": []
  },
  {
   "cell_type": "code",
   "execution_count": null,
   "id": "9bf49f96-1af9-4838-a887-2e2f991dbee5",
   "metadata": {
    "jupyter": {
     "source_hidden": true
    }
   },
   "outputs": [],
   "source": []
  },
  {
   "cell_type": "code",
   "execution_count": null,
   "id": "87b8878c-95c2-48fa-af62-8d0eecfcd83a",
   "metadata": {
    "jupyter": {
     "source_hidden": true
    }
   },
   "outputs": [],
   "source": []
  },
  {
   "cell_type": "code",
   "execution_count": 15,
   "id": "d7adc4bb-b1e6-4a30-8f40-cc1de5214ec0",
   "metadata": {
    "jupyter": {
     "source_hidden": true
    }
   },
   "outputs": [],
   "source": [
    "#plt.plot(USPHCI.pct_change())"
   ]
  },
  {
   "cell_type": "code",
   "execution_count": null,
   "id": "1ac39e12-0dc8-4e47-93a9-c3c89c782aa3",
   "metadata": {
    "jupyter": {
     "source_hidden": true
    }
   },
   "outputs": [],
   "source": []
  },
  {
   "cell_type": "code",
   "execution_count": 16,
   "id": "a2e6a089-c5b2-40e1-9bd0-288503932bcd",
   "metadata": {
    "jupyter": {
     "source_hidden": true
    }
   },
   "outputs": [
    {
     "data": {
      "text/plain": [
       "\"\\nslowdown = (business_cycle['ST_SMA']<business_cycle['ST_SMA'].shift(1))& (expansion==False) & (recovery==False) & (business_cycle['signal']<business_cycle['peak'])# & (business_cycle['signal']!=business_cycle['troughs'])#\\nnp.sum(slowdown)\\n\""
      ]
     },
     "execution_count": 16,
     "metadata": {},
     "output_type": "execute_result"
    }
   ],
   "source": [
    "\"\"\"\n",
    "slowdown = (business_cycle['ST_SMA']<business_cycle['ST_SMA'].shift(1))& (expansion==False) & (recovery==False) & (business_cycle['signal']<business_cycle['peak'])# & (business_cycle['signal']!=business_cycle['troughs'])#\n",
    "np.sum(slowdown)\n",
    "\"\"\""
   ]
  },
  {
   "cell_type": "code",
   "execution_count": null,
   "id": "5910f7dc-c151-4f84-a5e5-b89ce0289a52",
   "metadata": {
    "jupyter": {
     "source_hidden": true
    }
   },
   "outputs": [],
   "source": []
  },
  {
   "cell_type": "code",
   "execution_count": null,
   "id": "12074826-8fcd-4115-8034-78516131f4ec",
   "metadata": {
    "jupyter": {
     "source_hidden": true
    }
   },
   "outputs": [],
   "source": []
  },
  {
   "cell_type": "code",
   "execution_count": null,
   "id": "120bbc9d-899c-4714-bd24-1ef3c047de5e",
   "metadata": {
    "jupyter": {
     "source_hidden": true
    }
   },
   "outputs": [],
   "source": []
  },
  {
   "cell_type": "code",
   "execution_count": null,
   "id": "416eda66-fa2d-40a0-a695-c05bf909a5ce",
   "metadata": {
    "jupyter": {
     "source_hidden": true
    }
   },
   "outputs": [],
   "source": []
  },
  {
   "cell_type": "code",
   "execution_count": 17,
   "id": "4fd677ce-1925-4e33-aaa4-c37eab3c9f21",
   "metadata": {
    "jupyter": {
     "source_hidden": true
    }
   },
   "outputs": [],
   "source": [
    "business_cycle = pd.concat([signal,troughs,peaks,ST_SMA,LT_SMA],axis=1)\n",
    "business_cycle.columns = [\"signal\",\"troughs\",\"peaks\",\"ST_SMA\",\"LT_SMA\"]\n",
    "\n",
    "if(True):\n",
    "    #expansion = (business_cycle['ST_SMA']>business_cycle['LT_SMA'])&(business_cycle['ST_SMA']>0)\n",
    "    \n",
    "    slowdown = (business_cycle['signal']<business_cycle['signal'].shift(1))&(business_cycle['signal']>0)\n",
    "    \n",
    "    expansion = (business_cycle['signal']>business_cycle['signal'].shift(1))&(business_cycle['signal']>0)\n",
    "    \n",
    "    #useful for extending slowdown's\n",
    "    if(False):\n",
    "        #for i in range(0,100,1):\n",
    "        condition = True\n",
    "        while condition:\n",
    "            expansion_pre = (business_cycle['signal']>business_cycle['signal'].shift(1))&(business_cycle['signal']>0)\n",
    "            expansion = expansion_pre & (slowdown.shift(1)==False)\n",
    "            slowdown_new = expansion_pre&(expansion==False)&(slowdown==False)\n",
    "            slowdown[slowdown_new.values]=True\n",
    "\n",
    "            if(len(slowdown[slowdown_new.values])==0):\n",
    "                condition=False\n",
    "            else:\n",
    "                condition=True\n",
    "\n",
    "    #expansion = (business_cycle['signal']==business_cycle['peaks'])&(business_cycle['signal']>0)\n",
    "    \n",
    "    #expansion = (business_cycle['ST_SMA'].pct_change()>0)&(business_cycle['signal']>0)\n",
    "    \n",
    "    recovery = (business_cycle['signal']>business_cycle['signal'].shift(1))&(business_cycle['signal']<0)\n",
    "    #recovery = (business_cycle['ST_SMA'].pct_change()>0)&(business_cycle['signal']<0)\n",
    "    \n",
    "    #recession = (business_cycle['ST_SMA']>business_cycle['LT_SMA'])&(business_cycle['ST_SMA']<0)\n",
    "    recession = (business_cycle['signal']<business_cycle['signal'].shift(1))&(business_cycle['signal']<0)\n",
    "    #recession = (business_cycle['ST_SMA'].pct_change()<0)&(business_cycle['signal']<0)\n",
    "    \n",
    "    #slowdown = (business_cycle['signal']<business_cycle['signal'].shift(1))&(business_cycle['signal']>0)\n",
    "    #slowdown = (business_cycle['signal']<business_cycle['peaks'])&(business_cycle['signal']>0)\n",
    "    #slowdown = (business_cycle['ST_SMA'].pct_change()<0)&(business_cycle['signal']>0)\n",
    "\n",
    "if(False):\n",
    "    expansion = (business_cycle['ST_SMA']>business_cycle['LT_SMA']) #& (business_cycle['signal']==business_cycle['peak'])\n",
    "    #recovery = (business_cycle['ST_SMA']>business_cycle['ST_SMA'].shift(1)) & (business_cycle['signal']>business_cycle['troughs']) & (business_cycle['ST_SMA']<business_cycle['LT_SMA']) #& (business_cycle['ST_SMA']<business_cycle['LT_SMA'])\n",
    "    recovery = (expansion==False) & (business_cycle['signal']>business_cycle['troughs'])\n",
    "    expansion = (expansion) & (recovery==False) \n",
    "    #expansion = (business_cycle['ST_SMA']>business_cycle['LT_SMA'])\n",
    "    #slowdown = (combined['ST_SMA']>combined['LT_SMA']) & (combined['signal']<combined['peak'])\n",
    "\n",
    "    #slowdown = (business_cycle['ST_SMA']<business_cycle['ST_SMA'].shift(1)) & (expansion==False) & (recovery==False) & (business_cycle['signal']<business_cycle['peak']) & (business_cycle['signal']!=business_cycle['troughs'])\n",
    "    slowdown = (business_cycle['ST_SMA']<business_cycle['ST_SMA'].shift(1))& (expansion==False) & (recovery==False) & (business_cycle['signal']<business_cycle['peak'])# & (business_cycle['signal']!=business_cycle['troughs'])#\n",
    "    np.sum(slowdown)\n",
    "    #recession = (combined['ST_SMA']<combined['LT_SMA']) & (combined['signal']==combined['troughs'])\n",
    "    #if yesterday's difference less than today's difference\n",
    "    #recession = (business_cycle['ST_SMA']<business_cycle['LT_SMA']) & (business_cycle['signal']==business_cycle['troughs']) & (business_cycle['signal']<business_cycle['signal'].shift(1)) & (abs(business_cycle['signal'].pct_change())>abs(business_cycle['signal'].pct_change().shift(1)))\n",
    "\n",
    "    #recession = ((business_cycle['peak']-business_cycle['troughs'])>(business_cycle['peak']-business_cycle['troughs']).shift(1)) & (business_cycle['signal'] < business_cycle['signal'].shift(1)) & (abs(business_cycle['signal'].diff())>(abs(business_cycle['signal'].shift(1).diff()))**2) & (business_cycle['signal']<business_cycle['ST_SMA']) & (((business_cycle['signal']<business_cycle['ST_SMA']) & ((business_cycle['ST_SMA']-business_cycle['signal'])>(((business_cycle['ST_SMA']-business_cycle['signal']).shift(1))))))\n",
    "    recession = ((business_cycle['signal']==business_cycle['troughs'])&((business_cycle['ST_SMA']-business_cycle['signal'])/(business_cycle['peak']-business_cycle['signal'])>.25)) #\\\n",
    "    \"\"\"\n",
    "    &\\\n",
    "    ((business_cycle['signal'].pct_change()/business_cycle['signal'].pct_change().shift(1))>1.5)\n",
    "    \"\"\"\n",
    "    \"\"\"\n",
    "    &\\\n",
    "    ((business_cycle['LT_SMA']-business_cycle['ST_SMA'])>(business_cycle['LT_SMA']-business_cycle['ST_SMA']).shift(1))\\\n",
    "    &((business_cycle['ST_SMA']-business_cycle['signal'])>(business_cycle['ST_SMA']-business_cycle['signal']).shift(1))\\\n",
    "    &((business_cycle['peak']-business_cycle['LT_SMA'])>(business_cycle['peak']-business_cycle['LT_SMA']).shift(1))\\\n",
    "    &((business_cycle['peak']-business_cycle['troughs'])>(business_cycle['peak']-business_cycle['troughs']).shift(1))\\\n",
    "    \"\"\"\n",
    "    #&(business_cycle['signal'].pct_change()<-.25)\n",
    "\n",
    "    #& ((business_cycle['peak']-business_cycle['troughs'])>(business_cycle['peak']-business_cycle['troughs']).shift(1)) & (business_cycle['signal'] < business_cycle['signal'].shift(1)) & (abs(business_cycle['signal'].diff())>(abs(business_cycle['signal'].shift(1).diff()))**2) & (business_cycle['signal']<business_cycle['ST_SMA']) & (((business_cycle['signal']<business_cycle['ST_SMA']) & ((business_cycle['ST_SMA']-business_cycle['signal'])>(((business_cycle['ST_SMA']-business_cycle['signal']).shift(1))))))\n",
    "\n",
    "    #recession = (business_cycle['troughs']<business_cycle['troughs'].shift(1))&(abs(business_cycle['troughs'].pct_change())>abs(business_cycle['troughs'].pct_change()).shift(1))\n",
    "    #((business_cycle['signal']<business_cycle['ST_SMA'])&(abs(business_cycle['signal']<business_cycle['ST_SMA']))>(abs(business_cycle['LT_SMA']-business_cycle['ST_SMA'])))\n",
    "\n",
    "    #recession = (business_cycle['ST_SMA']<business_cycle['LT_SMA']) & (business_cycle['signal']<business_cycle['signal'].shift(1)) & (abs(business_cycle['signal'].pct_change())>abs(2*business_cycle['signal'].pct_change().shift(1))) & (business_cycle['ST_SMA']<business_cycle['ST_SMA'].shift(1)) & (abs(business_cycle['ST_SMA'].pct_change())>abs(business_cycle['ST_SMA'].pct_change().shift(1))) \\\n",
    "    #& ((business_cycle['peak']-business_cycle['troughs'])>(business_cycle['peak']-business_cycle['troughs']).shift(1))\n",
    "    slowdown = (slowdown) & (slowdown!=recession) & (slowdown!=recovery) & (slowdown!=expansion)\n",
    "\n",
    "business_cycle = pd.concat([business_cycle,recovery,expansion,slowdown,recession],axis=1)\n",
    "business_cycle = business_cycle.dropna()\n",
    "business_cycle.columns = [*business_cycle.columns[0:5],'recovery','expansion','slowdown','recession']\n",
    "#slowdown = combined['ST_SMA']<combined['LT_SMA']\n",
    "    \n"
   ]
  },
  {
   "cell_type": "code",
   "execution_count": 18,
   "id": "0c248b8f-7207-4407-823d-ddce8b6cc687",
   "metadata": {
    "jupyter": {
     "source_hidden": true
    }
   },
   "outputs": [
    {
     "data": {
      "text/plain": [
       "\"\\n#The LEI Index YoY changes are positive and above long-term trends\\n#Expansion = (cli_df_USA['Value']>LT_SMA) * (ST_SMA.pct_change()>0) * (cli_df_USA['Value']>cli_df_USA['Value'].shift(1))\\n\\n#***\\n#Expansion = (signal>LT_SMA) * (ST_SMA.pct_change()>0) * (signal>signal.shift(1))\\n\\n#Expansion = (signal>LT_SMA) * np.logical_or(((ST_SMA>LT_SMA).values),((ST_SMA.pct_change()>0).values))# * (signal>signal.shift(1))\\nExpansion =  (signal>signal.shift(1)) * np.logical_or(((ST_SMA>LT_SMA).values),((ST_SMA.pct_change()>0).values))# *\\nnp.sum(Expansion)\\n\\n#Recovery = (cli_df_USA['Value'] > troughs) * (cli_df_USA['Value']<LT_SMA) * (cli_df_USA['Value']>cli_df_USA['Value'].shift(1))\\nRecovery = (signal > troughs) * (signal>signal.shift(1)) * (Expansion==0) * (signal<LT_SMA)\\nnp.sum(Recovery)\\n\\nprint(np.sum(Recovery*Expansion))\\n\\nDeclining = ((Recovery!=1)*(Expansion!=1))\\nprint(np.sum(Declining))\\n\\n###Recession\\n\\ntoday_minus_yesterday = signal-signal.shift(1)\\n\\nyesterday_minus_today = signal.shift(1)-signal\\n\\n#rapidly declines to a troughs\\n\\n#today is less than yesterday\\n#at an accelerating pace OR\\n    #yesterday was receding\\n#Recession = ((today_minus_yesterday<0) * ((np.abs(today_minus_yesterday)>np.abs(today_minus_yesterday.shift(1))).values|(today_minus_yesterday.shift(1)<0).values)) # * (signal == troughs))\\nRecession = ((today_minus_yesterday<0) * ((np.abs(today_minus_yesterday)>np.abs(today_minus_yesterday.shift(1))).values)) * (signal == troughs)\\n\\nprint(np.sum(Recession))\\n\\n#prior_recession = [1 if a[0] else 0 for a in (Recession.shift(1)==1).values]\\n\\nNot_recession = (Recession==0)*(Recovery==0)*(Expansion==0)#*(signal<peak)\\nSlowdown = Not_recession\\nprint(Slowdown)\\n\\n#Slowdown = (ST_SMA < peaks)\\n#recession = Recession\\n#slowdown = Slowdown\\n#recovery = Recovery\\n#expansion = Expansion\\n\""
      ]
     },
     "execution_count": 18,
     "metadata": {},
     "output_type": "execute_result"
    }
   ],
   "source": [
    "\"\"\"\n",
    "#The LEI Index YoY changes are positive and above long-term trends\n",
    "#Expansion = (cli_df_USA['Value']>LT_SMA) * (ST_SMA.pct_change()>0) * (cli_df_USA['Value']>cli_df_USA['Value'].shift(1))\n",
    "\n",
    "#***\n",
    "#Expansion = (signal>LT_SMA) * (ST_SMA.pct_change()>0) * (signal>signal.shift(1))\n",
    "\n",
    "#Expansion = (signal>LT_SMA) * np.logical_or(((ST_SMA>LT_SMA).values),((ST_SMA.pct_change()>0).values))# * (signal>signal.shift(1))\n",
    "Expansion =  (signal>signal.shift(1)) * np.logical_or(((ST_SMA>LT_SMA).values),((ST_SMA.pct_change()>0).values))# *\n",
    "np.sum(Expansion)\n",
    "\n",
    "#Recovery = (cli_df_USA['Value'] > troughs) * (cli_df_USA['Value']<LT_SMA) * (cli_df_USA['Value']>cli_df_USA['Value'].shift(1))\n",
    "Recovery = (signal > troughs) * (signal>signal.shift(1)) * (Expansion==0) * (signal<LT_SMA)\n",
    "np.sum(Recovery)\n",
    "\n",
    "print(np.sum(Recovery*Expansion))\n",
    "\n",
    "Declining = ((Recovery!=1)*(Expansion!=1))\n",
    "print(np.sum(Declining))\n",
    "\n",
    "###Recession\n",
    "\n",
    "today_minus_yesterday = signal-signal.shift(1)\n",
    "\n",
    "yesterday_minus_today = signal.shift(1)-signal\n",
    "\n",
    "#rapidly declines to a troughs\n",
    "\n",
    "#today is less than yesterday\n",
    "#at an accelerating pace OR\n",
    "    #yesterday was receding\n",
    "#Recession = ((today_minus_yesterday<0) * ((np.abs(today_minus_yesterday)>np.abs(today_minus_yesterday.shift(1))).values|(today_minus_yesterday.shift(1)<0).values)) # * (signal == troughs))\n",
    "Recession = ((today_minus_yesterday<0) * ((np.abs(today_minus_yesterday)>np.abs(today_minus_yesterday.shift(1))).values)) * (signal == troughs)\n",
    "\n",
    "print(np.sum(Recession))\n",
    "\n",
    "#prior_recession = [1 if a[0] else 0 for a in (Recession.shift(1)==1).values]\n",
    "\n",
    "Not_recession = (Recession==0)*(Recovery==0)*(Expansion==0)#*(signal<peak)\n",
    "Slowdown = Not_recession\n",
    "print(Slowdown)\n",
    "\n",
    "#Slowdown = (ST_SMA < peaks)\n",
    "#recession = Recession\n",
    "#slowdown = Slowdown\n",
    "#recovery = Recovery\n",
    "#expansion = Expansion\n",
    "\"\"\""
   ]
  },
  {
   "cell_type": "code",
   "execution_count": null,
   "id": "fccc73d2-dddd-4bd4-9248-841f70a28ac0",
   "metadata": {
    "jupyter": {
     "source_hidden": true
    }
   },
   "outputs": [],
   "source": []
  },
  {
   "cell_type": "code",
   "execution_count": 19,
   "id": "026d7cff-bb8c-4f4d-9946-ffd99fb7366e",
   "metadata": {
    "jupyter": {
     "source_hidden": true
    }
   },
   "outputs": [
    {
     "data": {
      "text/plain": [
       "\"\\nnp.sum(((business_cycle['LT_SMA']-business_cycle['ST_SMA'])>(business_cycle['LT_SMA']-business_cycle['ST_SMA']).shift(1))&((business_cycle['ST_SMA']-business_cycle['signal'])>(business_cycle['ST_SMA']-business_cycle['signal']).shift(1))&((business_cycle['peak']-business_cycle['LT_SMA'])>(business_cycle['peak']-business_cycle['LT_SMA']).shift(1))&((business_cycle['peak']-business_cycle['troughs'])>(business_cycle['peak']-business_cycle['troughs']).shift(1))      )\\n\""
      ]
     },
     "execution_count": 19,
     "metadata": {},
     "output_type": "execute_result"
    }
   ],
   "source": [
    "\"\"\"\n",
    "np.sum(\\\n",
    "((business_cycle['LT_SMA']-business_cycle['ST_SMA'])>(business_cycle['LT_SMA']-business_cycle['ST_SMA']).shift(1))\\\n",
    "&((business_cycle['ST_SMA']-business_cycle['signal'])>(business_cycle['ST_SMA']-business_cycle['signal']).shift(1))\\\n",
    "&((business_cycle['peak']-business_cycle['LT_SMA'])>(business_cycle['peak']-business_cycle['LT_SMA']).shift(1))\\\n",
    "&((business_cycle['peak']-business_cycle['troughs'])>(business_cycle['peak']-business_cycle['troughs']).shift(1))\\\n",
    "      )\n",
    "\"\"\""
   ]
  },
  {
   "cell_type": "code",
   "execution_count": 20,
   "id": "5823633b-1f25-4a66-bcc9-f8efd076dec3",
   "metadata": {
    "jupyter": {
     "source_hidden": true
    }
   },
   "outputs": [],
   "source": [
    "#(business_cycle['signal']<business_cycle['ST_SMA']) & (business_cycle['ST_SMA']-business_cycle['signal'])>(2*((business_cycle['ST_SMA']-business_cycle['signal']).shift(1)))"
   ]
  },
  {
   "cell_type": "code",
   "execution_count": null,
   "id": "c218efa7-1933-4d6c-9fb1-12de1fabeffb",
   "metadata": {
    "jupyter": {
     "source_hidden": true
    }
   },
   "outputs": [],
   "source": []
  },
  {
   "cell_type": "code",
   "execution_count": 21,
   "id": "f606064c-f793-4a60-ba21-1c15ebd53ca2",
   "metadata": {
    "jupyter": {
     "source_hidden": true
    }
   },
   "outputs": [],
   "source": [
    "#plt.plot(business_cycle['signal'].pct_change())"
   ]
  },
  {
   "cell_type": "code",
   "execution_count": 22,
   "id": "689b5fe3-c62a-40fe-b139-30c4622b4a5b",
   "metadata": {
    "tags": []
   },
   "outputs": [],
   "source": [
    "#business_cycle['signal'][business_cycle['signal'].index>'2020-01-01'].pct_change().head(30)"
   ]
  },
  {
   "cell_type": "code",
   "execution_count": 51,
   "id": "6fb95a61-234d-436b-a417-cd82301afc24",
   "metadata": {
    "jupyter": {
     "source_hidden": true
    },
    "tags": []
   },
   "outputs": [
    {
     "data": {
      "image/png": "[encoded data removed]",
      "text/plain": [
       "<Figure size 2160x432 with 2 Axes>"
      ]
     },
     "metadata": {
      "needs_background": "light"
     },
     "output_type": "display_data"
    }
   ],
   "source": [
    "fig, ax1 = plt.subplots( figsize=(30,6) )\n",
    "#plt.plot(cli_df_USA['Value'])\n",
    "ax1.plot(business_cycle['signal'])\n",
    "\n",
    "ax1.plot(business_cycle['peaks'])\n",
    "ax1.plot(business_cycle['troughs'])\n",
    "ax1.plot(business_cycle['ST_SMA'])\n",
    "ax1.plot(business_cycle['LT_SMA'])\n",
    "ax1.axhline(y = 0, color = 'black', linestyle = '--')\n",
    "ax1.legend(['current','peaks','troughs','ST_SMA','LT_SMA'],loc=1)\n",
    "#plt.legend(['current','ST_SMA','LT_SMA'],loc=1)\n",
    "\n",
    "ax2 = ax1.twinx()\n",
    "\n",
    "trans = mtransforms.blended_transform_factory(ax2.transData, ax2.transAxes)\n",
    "\n",
    "ax2.vlines((recovery == 1).index[(recovery == 1).values],color='blue', alpha=0.33, ymin=0, ymax=1, colors=None, linestyles='solid',label='Recovery')\n",
    "ax2.vlines((expansion == 1).index[(expansion == 1).values],color='green', alpha=0.33, ymin=0, ymax=1, colors=None, linestyles='solid',label='Expansion')\n",
    "ax2.vlines((slowdown == 1).index[(slowdown == 1).values],color='orange', alpha=0.33, ymin=0, ymax=1, colors=None, linestyles='solid',label='Slowdown')\n",
    "ax2.vlines((recession == 1).index[(recession == 1).values],color='red', alpha=0.33, ymin=0, ymax=1, colors=None, linestyles='solid',label='Recession')\n",
    "\n",
    "ax2.legend(['Recovery','Expansion','Slowdown','Recession'],loc=3)\n",
    "plt.show()"
   ]
  },
  {
   "cell_type": "code",
   "execution_count": 52,
   "id": "2c3e4288-b824-4584-98a3-2f5c3bb3779a",
   "metadata": {
    "jupyter": {
     "source_hidden": true
    },
    "tags": []
   },
   "outputs": [
    {
     "data": {
      "image/png": "[encoded data removed]",
      "text/plain": [
       "<Figure size 2160x432 with 2 Axes>"
      ]
     },
     "metadata": {
      "needs_background": "light"
     },
     "output_type": "display_data"
    }
   ],
   "source": [
    "fig, ax1 = plt.subplots( figsize=(30,6) )\n",
    "#plt.plot(cli_df_USA['Value'])\n",
    "ax1.plot(business_cycle['signal'].reindex(combined_indexes_sectors_return_pvt_df.index))\n",
    "\n",
    "ax1.plot(business_cycle['peaks'].reindex(combined_indexes_sectors_return_pvt_df.index))\n",
    "ax1.plot(business_cycle['troughs'].reindex(combined_indexes_sectors_return_pvt_df.index))\n",
    "ax1.plot(business_cycle['ST_SMA'].reindex(combined_indexes_sectors_return_pvt_df.index))\n",
    "ax1.plot(business_cycle['LT_SMA'].reindex(combined_indexes_sectors_return_pvt_df.index))\n",
    "ax1.axhline(y = 0, color = 'black', linestyle = '--')\n",
    "ax1.legend(['current','peaks','troughs','ST_SMA','LT_SMA'],loc=1)\n",
    "#plt.legend(['current','ST_SMA','LT_SMA'],loc=1)\n",
    "\n",
    "ax2 = ax1.twinx()\n",
    "\n",
    "trans = mtransforms.blended_transform_factory(ax2.transData, ax2.transAxes)\n",
    "\n",
    "\"\"\"\n",
    "ax2.fill_between(business_cycle.index, 0, 1, where=Recovery['USPHCI'].reindex(business_cycle.index) == 1,facecolor='blue', alpha=0.5, transform=trans)\n",
    "ax2.fill_between(business_cycle.index, 0, 1, where=Expansion['USPHCI'].reindex(business_cycle.index) == 1,facecolor='orange', alpha=0.5, transform=trans)\n",
    "ax2.fill_between(business_cycle.index, 0, 1, where=Slowdown['USPHCI'].reindex(business_cycle.index) == 1,facecolor='green', alpha=0.5, transform=trans)\n",
    "ax2.fill_between(business_cycle.index, 0, 1, where=Recession['USPHCI'].reindex(business_cycle.index) == 1,facecolor='red', alpha=0.5, transform=trans)\n",
    "\"\"\"   \n",
    " \n",
    "ax2.vlines((recovery.reindex(combined_indexes_sectors_return_pvt_df.index) == 1).index[(recovery.reindex(combined_indexes_sectors_return_pvt_df.index) == 1).values],color='blue', alpha=0.5, ymin=0, ymax=1, colors=None, linestyles='solid',label='Recovery')\n",
    "ax2.vlines((expansion.reindex(combined_indexes_sectors_return_pvt_df.index) == 1).index[(expansion.reindex(combined_indexes_sectors_return_pvt_df.index) == 1).values],color='green', alpha=0.5, ymin=0, ymax=1, colors=None, linestyles='solid',label='Expansion')\n",
    "ax2.vlines((slowdown.reindex(combined_indexes_sectors_return_pvt_df.index) == 1).index[(slowdown.reindex(combined_indexes_sectors_return_pvt_df.index) == 1).values],color='orange', alpha=0.5, ymin=0, ymax=1, colors=None, linestyles='solid',label='Slowdown')\n",
    "ax2.vlines((recession.reindex(combined_indexes_sectors_return_pvt_df.index) == 1).index[(recession.reindex(combined_indexes_sectors_return_pvt_df.index) == 1).values],color='red', alpha=0.5, ymin=0, ymax=1, colors=None, linestyles='solid',label='Recession')\n",
    "\n",
    "ax2.legend(['Recovery','Expansion','Slowdown','Recession'],loc=3)\n",
    "plt.show()"
   ]
  },
  {
   "cell_type": "code",
   "execution_count": null,
   "id": "1890ec1b-05dd-4e1c-a4da-4888e7dcad33",
   "metadata": {
    "jupyter": {
     "source_hidden": true
    }
   },
   "outputs": [],
   "source": []
  },
  {
   "cell_type": "code",
   "execution_count": null,
   "id": "37b712a7-29b9-48d2-a34a-7d3525a01172",
   "metadata": {
    "jupyter": {
     "source_hidden": true
    }
   },
   "outputs": [],
   "source": []
  },
  {
   "cell_type": "code",
   "execution_count": null,
   "id": "04e2f46e-059c-48f7-a712-11597f6fe3b2",
   "metadata": {
    "jupyter": {
     "source_hidden": true
    },
    "tags": []
   },
   "outputs": [],
   "source": []
  },
  {
   "cell_type": "code",
   "execution_count": null,
   "id": "2b9eccca-fa4f-4cf1-bd56-a0a6c7081cd9",
   "metadata": {
    "jupyter": {
     "source_hidden": true
    }
   },
   "outputs": [],
   "source": []
  },
  {
   "cell_type": "code",
   "execution_count": null,
   "id": "a1f09a81-7363-4c14-9167-e9f462e16cab",
   "metadata": {
    "tags": []
   },
   "outputs": [],
   "source": []
  },
  {
   "cell_type": "code",
   "execution_count": 26,
   "id": "2812b3be-e84f-4e5c-b9f8-4f44de07311f",
   "metadata": {
    "jupyter": {
     "source_hidden": true
    }
   },
   "outputs": [
    {
     "data": {
      "text/plain": [
       "recovery      24\n",
       "expansion    235\n",
       "slowdown     220\n",
       "recession     22\n",
       "dtype: int64"
      ]
     },
     "execution_count": 26,
     "metadata": {},
     "output_type": "execute_result"
    }
   ],
   "source": [
    "np.sum(business_cycle.iloc[:,-4:])"
   ]
  },
  {
   "cell_type": "code",
   "execution_count": 27,
   "id": "594b99f1-b330-4274-aa3b-904d5b78ff7a",
   "metadata": {
    "jupyter": {
     "source_hidden": true
    }
   },
   "outputs": [
    {
     "data": {
      "text/plain": [
       "501"
      ]
     },
     "execution_count": 27,
     "metadata": {},
     "output_type": "execute_result"
    }
   ],
   "source": [
    "np.sum(np.sum(business_cycle.iloc[:,-4:]))"
   ]
  },
  {
   "cell_type": "code",
   "execution_count": 28,
   "id": "28fa7b05-dd53-4449-8597-edd5a4d0e660",
   "metadata": {
    "jupyter": {
     "source_hidden": true
    }
   },
   "outputs": [],
   "source": [
    "#Slowdown = (ST_SMA < peak)\n",
    "#np.sum(Slowdown)"
   ]
  },
  {
   "cell_type": "code",
   "execution_count": 29,
   "id": "f3a03e0d-bac8-4c0f-b338-443f1b1e12fb",
   "metadata": {
    "jupyter": {
     "source_hidden": true
    }
   },
   "outputs": [
    {
     "data": {
      "text/plain": [
       "\"\\nSlowdown = (ST_SMA.pct_change()<0) * (cli_df_USA['Value']<peaks)# (ST_SMA<LT_SMA)\\nSlowdown = (signal.pct_change()<0) * (signal<peak)# (ST_SMA<LT_SMA)\\nnp.sum(Slowdown)\\n\""
      ]
     },
     "execution_count": 29,
     "metadata": {},
     "output_type": "execute_result"
    }
   ],
   "source": [
    "\"\"\"\n",
    "Slowdown = (ST_SMA.pct_change()<0) * (cli_df_USA['Value']<peaks)# (ST_SMA<LT_SMA)\n",
    "Slowdown = (signal.pct_change()<0) * (signal<peak)# (ST_SMA<LT_SMA)\n",
    "np.sum(Slowdown)\n",
    "\"\"\""
   ]
  },
  {
   "cell_type": "code",
   "execution_count": null,
   "id": "82346100-e6c9-4981-b215-e600592ba1e0",
   "metadata": {
    "jupyter": {
     "source_hidden": true
    }
   },
   "outputs": [],
   "source": []
  },
  {
   "cell_type": "code",
   "execution_count": 30,
   "id": "5ecd3de0-724c-4ebb-b2cb-86213fc205b0",
   "metadata": {
    "jupyter": {
     "source_hidden": true
    }
   },
   "outputs": [],
   "source": [
    "#plt.plot(prior_recession * Slowdown['USPHCI'])"
   ]
  },
  {
   "cell_type": "code",
   "execution_count": null,
   "id": "aae6ec01-cf3b-4f61-93b3-62b542045ef1",
   "metadata": {
    "jupyter": {
     "source_hidden": true
    }
   },
   "outputs": [],
   "source": []
  },
  {
   "cell_type": "code",
   "execution_count": 31,
   "id": "73e9a3aa-6f9b-4df4-9558-d7262d2ed103",
   "metadata": {
    "jupyter": {
     "source_hidden": true
    }
   },
   "outputs": [
    {
     "data": {
      "text/plain": [
       "\"\\nprint(np.sum(Slowdown))\\n\\nwhile (np.sum(prior_recession * Slowdown['USPHCI'])>0):\\n     \\n    positions = prior_recession * Slowdown['USPHCI']\\n    \\n    #print(np.where(positions))\\n    \\n    Recession.iloc[positions] = True\\n    Slowdown.iloc[positions] = False\\n\\n    prior_recession = [1 if a[0] else 0 for a in (Recession.shift(1)==1).values]\\n    Slowdown = (Recession==0)*(Recovery==0)*(Expansion==0)*(signal<peak)\\n    #positions = np.intersect1d(prior_recession,Slowdown)\\n    #Recession.iloc[positions] = True\\n    #Slowdown.iloc[positions] = False\\n    #prior_recession = [1 if a[0] else 0 for a in (Recession.shift(1)==1).values]\\n    #Slowdown = (Recession==0)*(Recovery==0)*(Expansion==0)*(signal<peak)\\n    \\n    \\n    \\n    #print(np.sum(Slowdown))\\n\\n    \\n\""
      ]
     },
     "execution_count": 31,
     "metadata": {},
     "output_type": "execute_result"
    }
   ],
   "source": [
    "\"\"\"\n",
    "print(np.sum(Slowdown))\n",
    "\n",
    "while (np.sum(prior_recession * Slowdown['USPHCI'])>0):\n",
    "     \n",
    "    positions = prior_recession * Slowdown['USPHCI']\n",
    "    \n",
    "    #print(np.where(positions))\n",
    "    \n",
    "    Recession.iloc[positions] = True\n",
    "    Slowdown.iloc[positions] = False\n",
    "\n",
    "    prior_recession = [1 if a[0] else 0 for a in (Recession.shift(1)==1).values]\n",
    "    Slowdown = (Recession==0)*(Recovery==0)*(Expansion==0)*(signal<peak)\n",
    "    #positions = np.intersect1d(prior_recession,Slowdown)\n",
    "    #Recession.iloc[positions] = True\n",
    "    #Slowdown.iloc[positions] = False\n",
    "    #prior_recession = [1 if a[0] else 0 for a in (Recession.shift(1)==1).values]\n",
    "    #Slowdown = (Recession==0)*(Recovery==0)*(Expansion==0)*(signal<peak)\n",
    "    \n",
    "    \n",
    "    \n",
    "    #print(np.sum(Slowdown))\n",
    "\n",
    "    \n",
    "\"\"\""
   ]
  },
  {
   "cell_type": "code",
   "execution_count": null,
   "id": "ab91f5d7-bd63-4888-9b32-023ab272acd6",
   "metadata": {
    "jupyter": {
     "source_hidden": true
    }
   },
   "outputs": [],
   "source": []
  },
  {
   "cell_type": "code",
   "execution_count": null,
   "id": "3821a61f-5f75-4aba-82b0-f93e52e730ac",
   "metadata": {
    "jupyter": {
     "source_hidden": true
    }
   },
   "outputs": [],
   "source": []
  },
  {
   "cell_type": "code",
   "execution_count": 32,
   "id": "ff84c63a-1a5e-45c4-ae54-416149f7ba03",
   "metadata": {
    "jupyter": {
     "source_hidden": true
    }
   },
   "outputs": [
    {
     "data": {
      "text/plain": [
       "'\\nfor c_ in range(1,len(business_cycle.iloc[:,1:].columns)+1):\\n    c = business_cycle.iloc[:,1:].columns[c_-1]\\n    business_cycle[c][business_cycle[c]==True] = c_\\n    business_cycle[c][business_cycle[c]==False] = np.nan\\n\\nrepeats = business_cycle.iloc[:,1:].bfill(axis=1).iloc[:, 0]\\n\\n#list1 = [-1, -1, 1, 1, 1, -1, 1]\\ncount_dups = [sum(1 for _ in group) for _, group in groupby(repeats)]\\nprint(count_dups)\\n\\n'"
      ]
     },
     "execution_count": 32,
     "metadata": {},
     "output_type": "execute_result"
    }
   ],
   "source": [
    "\"\"\"\n",
    "list1 = [-1, -1, 1, 1, 1, -1, 1]\n",
    "count_dups = [sum(1 for _ in group) for _, group in groupby(list1)]\n",
    "print(count_dups)\n",
    "\"\"\"\n",
    "\n",
    "#business_cycle = pd.concat([signal,Recovery,Expansion,Slowdown,Recession],axis=1)\n",
    "#business_cycle.columns=['Leading','Recovery','Expansion','Slowdown','Recession']\n",
    "#business_cycle = business_cycle.reindex(peak.dropna().index).dropna()\n",
    "\n",
    "\"\"\"\n",
    "for c_ in range(1,len(business_cycle.iloc[:,1:].columns)+1):\n",
    "    c = business_cycle.iloc[:,1:].columns[c_-1]\n",
    "    business_cycle[c][business_cycle[c]==True] = c_\n",
    "    business_cycle[c][business_cycle[c]==False] = np.nan\n",
    "\n",
    "repeats = business_cycle.iloc[:,1:].bfill(axis=1).iloc[:, 0]\n",
    "\n",
    "#list1 = [-1, -1, 1, 1, 1, -1, 1]\n",
    "count_dups = [sum(1 for _ in group) for _, group in groupby(repeats)]\n",
    "print(count_dups)\n",
    "\n",
    "\"\"\""
   ]
  },
  {
   "cell_type": "code",
   "execution_count": null,
   "id": "b4c3dcb3-c310-4027-80be-b474e19b8871",
   "metadata": {
    "jupyter": {
     "source_hidden": true
    }
   },
   "outputs": [],
   "source": []
  },
  {
   "cell_type": "code",
   "execution_count": 33,
   "id": "97a43da7-cff8-4e5c-91e3-d62f7697ec7f",
   "metadata": {
    "jupyter": {
     "source_hidden": true
    }
   },
   "outputs": [
    {
     "data": {
      "text/plain": [
       "'\\niter = 0\\nvalues = []\\niterator=0\\nfor c_ in range(0,len(count_dups)):\\n    c = count_dups[c_]\\n    #values.append()\\n    #c_* len(iterator)\\n    iterator = iterator + c - 1\\n    values.append(repeats[c_+iterator])\\n    \\nvalues_df = pd.DataFrame(values)\\n\\nvalues_df[(values_df==3)*(values_df.shift(1)==4)] = 4\\n'"
      ]
     },
     "execution_count": 33,
     "metadata": {},
     "output_type": "execute_result"
    }
   ],
   "source": [
    "\"\"\"\n",
    "iter = 0\n",
    "values = []\n",
    "iterator=0\n",
    "for c_ in range(0,len(count_dups)):\n",
    "    c = count_dups[c_]\n",
    "    #values.append()\n",
    "    #c_* len(iterator)\n",
    "    iterator = iterator + c - 1\n",
    "    values.append(repeats[c_+iterator])\n",
    "    \n",
    "values_df = pd.DataFrame(values)\n",
    "\n",
    "values_df[(values_df==3)*(values_df.shift(1)==4)] = 4\n",
    "\"\"\""
   ]
  },
  {
   "cell_type": "code",
   "execution_count": null,
   "id": "57216f1d-059f-4d94-9bd4-ca26b814605d",
   "metadata": {
    "jupyter": {
     "source_hidden": true
    }
   },
   "outputs": [],
   "source": []
  },
  {
   "cell_type": "code",
   "execution_count": 34,
   "id": "faa8eed7-b350-486b-8fd5-829c7be1ae87",
   "metadata": {
    "jupyter": {
     "source_hidden": true
    }
   },
   "outputs": [],
   "source": [
    "nyse = mcal.get_calendar('NYSE')\n",
    "nyse_dates = nyse.schedule(start_date=start, end_date=end)"
   ]
  },
  {
   "cell_type": "code",
   "execution_count": 35,
   "id": "2886c2e4-ed82-4b98-9a83-dfbfe0e705a9",
   "metadata": {
    "jupyter": {
     "source_hidden": true
    }
   },
   "outputs": [
    {
     "data": {
      "text/plain": [
       "\"\\nfig, ax1 = plt.subplots( figsize=(30,4) )\\nplt.plot(recession.reindex(combined_indexes_sectors_return_pvt_df.index))\\n#plt.fill_between(recession.reindex(combined_indexes_sectors_return_pvt_df.index), 0, 1, where=recession.reindex(combined_indexes_sectors_return_pvt_df.index),\\n    #facecolor='blue', alpha=0.5, transform=trans)\\n#plt.legend(loc=1)\\n#plt.legend(loc=3)\\nplt.show()\\n\""
      ]
     },
     "execution_count": 35,
     "metadata": {},
     "output_type": "execute_result"
    }
   ],
   "source": [
    "\"\"\"\n",
    "fig, ax1 = plt.subplots( figsize=(30,4) )\n",
    "plt.plot(recession.reindex(combined_indexes_sectors_return_pvt_df.index))\n",
    "#plt.fill_between(recession.reindex(combined_indexes_sectors_return_pvt_df.index), 0, 1, where=recession.reindex(combined_indexes_sectors_return_pvt_df.index),\n",
    "    #facecolor='blue', alpha=0.5, transform=trans)\n",
    "#plt.legend(loc=1)\n",
    "#plt.legend(loc=3)\n",
    "plt.show()\n",
    "\"\"\""
   ]
  },
  {
   "cell_type": "code",
   "execution_count": 36,
   "id": "50c7282c-0355-47d5-a0a8-2e0174954793",
   "metadata": {
    "jupyter": {
     "source_hidden": true
    }
   },
   "outputs": [],
   "source": [
    "business_cycles_sectors_indexes = pd.concat([business_cycle,combined_indexes_sectors_return_pvt_df],axis=1).dropna()"
   ]
  },
  {
   "cell_type": "code",
   "execution_count": null,
   "id": "42d9cb7f-ebf3-4601-bdae-35864971fe0b",
   "metadata": {
    "jupyter": {
     "source_hidden": true
    }
   },
   "outputs": [],
   "source": []
  },
  {
   "cell_type": "code",
   "execution_count": null,
   "id": "1b0dc148-d8d2-4b63-9e8e-c22239f506c9",
   "metadata": {
    "jupyter": {
     "source_hidden": true
    },
    "tags": []
   },
   "outputs": [],
   "source": []
  },
  {
   "cell_type": "code",
   "execution_count": 50,
   "id": "af607dca-6924-4bcf-8588-8662abd0ad8a",
   "metadata": {
    "jupyter": {
     "source_hidden": true
    },
    "tags": []
   },
   "outputs": [],
   "source": [
    "#business_cycles_sectors_indexes[business_cycles_sectors_indexes['recession']==True]"
   ]
  },
  {
   "cell_type": "code",
   "execution_count": null,
   "id": "de8f2e85-399b-46cd-b6a3-a8c5017441b2",
   "metadata": {
    "jupyter": {
     "source_hidden": true
    }
   },
   "outputs": [],
   "source": [
    "#plt.plot(business_cycles_sectors_indexes[business_cycles_sectors_indexes[bc]==True]['SPY'])"
   ]
  },
  {
   "cell_type": "code",
   "execution_count": 100,
   "id": "563a7d54-c71f-41af-9b9b-ad3bbb2e1a74",
   "metadata": {
    "tags": []
   },
   "outputs": [
    {
     "data": {
      "text/plain": [
       "VOX    0.007368\n",
       "VCR    0.007462\n",
       "VDC    0.008355\n",
       "VDE    0.011600\n",
       "VFH    0.008186\n",
       "VHT    0.008996\n",
       "VIS    0.005607\n",
       "VGT    0.006024\n",
       "VAW    0.007959\n",
       "VNQ    0.010248\n",
       "VPU    0.006281\n",
       "Name: 0, dtype: float64"
      ]
     },
     "execution_count": 100,
     "metadata": {},
     "output_type": "execute_result"
    }
   ],
   "source": [
    "pd.DataFrame(business_cycles_sectors_indexes.mean(axis=0)).T.loc[0][14:]"
   ]
  },
  {
   "cell_type": "code",
   "execution_count": 102,
   "id": "7023e45b-7f80-428a-ad90-829982a08e0d",
   "metadata": {},
   "outputs": [
    {
     "data": {
      "text/html": [
       "<div>\n",
       "<style scoped>\n",
       "    .dataframe tbody tr th:only-of-type {\n",
       "        vertical-align: middle;\n",
       "    }\n",
       "\n",
       "    .dataframe tbody tr th {\n",
       "        vertical-align: top;\n",
       "    }\n",
       "\n",
       "    .dataframe thead th {\n",
       "        text-align: right;\n",
       "    }\n",
       "</style>\n",
       "<table border=\"1\" class=\"dataframe\">\n",
       "  <thead>\n",
       "    <tr style=\"text-align: right;\">\n",
       "      <th></th>\n",
       "      <th>VOX</th>\n",
       "      <th>VCR</th>\n",
       "      <th>VDC</th>\n",
       "      <th>VDE</th>\n",
       "      <th>VFH</th>\n",
       "      <th>VHT</th>\n",
       "      <th>VIS</th>\n",
       "      <th>VGT</th>\n",
       "      <th>VAW</th>\n",
       "      <th>VNQ</th>\n",
       "      <th>VPU</th>\n",
       "    </tr>\n",
       "  </thead>\n",
       "  <tbody>\n",
       "    <tr>\n",
       "      <th>2008-10-03</th>\n",
       "      <td>-0.068826</td>\n",
       "      <td>-0.012961</td>\n",
       "      <td>-0.101203</td>\n",
       "      <td>-0.111345</td>\n",
       "      <td>-0.088527</td>\n",
       "      <td>-0.050431</td>\n",
       "      <td>0.001173</td>\n",
       "      <td>-0.090239</td>\n",
       "      <td>-0.010404</td>\n",
       "      <td>-0.041220</td>\n",
       "      <td>-0.081333</td>\n",
       "    </tr>\n",
       "    <tr>\n",
       "      <th>2008-10-31</th>\n",
       "      <td>-0.178405</td>\n",
       "      <td>-0.287705</td>\n",
       "      <td>-0.302198</td>\n",
       "      <td>-0.209774</td>\n",
       "      <td>-0.245124</td>\n",
       "      <td>-0.158095</td>\n",
       "      <td>-0.234471</td>\n",
       "      <td>-0.271484</td>\n",
       "      <td>-0.144397</td>\n",
       "      <td>-0.267902</td>\n",
       "      <td>-0.229334</td>\n",
       "    </tr>\n",
       "    <tr>\n",
       "      <th>2008-11-28</th>\n",
       "      <td>0.020145</td>\n",
       "      <td>-0.216537</td>\n",
       "      <td>-0.108137</td>\n",
       "      <td>-0.102904</td>\n",
       "      <td>-0.079116</td>\n",
       "      <td>-0.048209</td>\n",
       "      <td>-0.155989</td>\n",
       "      <td>-0.013350</td>\n",
       "      <td>-0.027506</td>\n",
       "      <td>-0.110635</td>\n",
       "      <td>-0.024889</td>\n",
       "    </tr>\n",
       "    <tr>\n",
       "      <th>2008-12-26</th>\n",
       "      <td>-0.002443</td>\n",
       "      <td>0.008638</td>\n",
       "      <td>-0.018396</td>\n",
       "      <td>-0.012080</td>\n",
       "      <td>-0.004980</td>\n",
       "      <td>-0.006027</td>\n",
       "      <td>-0.034463</td>\n",
       "      <td>-0.045699</td>\n",
       "      <td>-0.011691</td>\n",
       "      <td>0.042484</td>\n",
       "      <td>0.048067</td>\n",
       "    </tr>\n",
       "    <tr>\n",
       "      <th>2009-01-23</th>\n",
       "      <td>0.023085</td>\n",
       "      <td>0.005841</td>\n",
       "      <td>0.023956</td>\n",
       "      <td>0.020888</td>\n",
       "      <td>0.014871</td>\n",
       "      <td>0.042434</td>\n",
       "      <td>-0.063930</td>\n",
       "      <td>0.031813</td>\n",
       "      <td>0.009780</td>\n",
       "      <td>0.023748</td>\n",
       "      <td>0.012459</td>\n",
       "    </tr>\n",
       "    <tr>\n",
       "      <th>2009-02-20</th>\n",
       "      <td>-0.007496</td>\n",
       "      <td>-0.113564</td>\n",
       "      <td>-0.043746</td>\n",
       "      <td>0.004462</td>\n",
       "      <td>-0.097627</td>\n",
       "      <td>0.017761</td>\n",
       "      <td>-0.161160</td>\n",
       "      <td>-0.019321</td>\n",
       "      <td>-0.050058</td>\n",
       "      <td>-0.074740</td>\n",
       "      <td>-0.025518</td>\n",
       "    </tr>\n",
       "    <tr>\n",
       "      <th>2009-03-20</th>\n",
       "      <td>-0.154057</td>\n",
       "      <td>-0.184415</td>\n",
       "      <td>-0.105229</td>\n",
       "      <td>-0.070042</td>\n",
       "      <td>-0.173770</td>\n",
       "      <td>-0.117011</td>\n",
       "      <td>-0.161251</td>\n",
       "      <td>-0.132190</td>\n",
       "      <td>-0.078030</td>\n",
       "      <td>-0.087528</td>\n",
       "      <td>-0.061748</td>\n",
       "    </tr>\n",
       "    <tr>\n",
       "      <th>2009-04-17</th>\n",
       "      <td>0.071042</td>\n",
       "      <td>0.139231</td>\n",
       "      <td>0.198151</td>\n",
       "      <td>0.156081</td>\n",
       "      <td>0.166424</td>\n",
       "      <td>0.044121</td>\n",
       "      <td>0.264180</td>\n",
       "      <td>0.112870</td>\n",
       "      <td>0.075265</td>\n",
       "      <td>0.198977</td>\n",
       "      <td>0.143373</td>\n",
       "    </tr>\n",
       "    <tr>\n",
       "      <th>2009-05-15</th>\n",
       "      <td>0.018274</td>\n",
       "      <td>0.169006</td>\n",
       "      <td>0.101352</td>\n",
       "      <td>0.069543</td>\n",
       "      <td>0.123574</td>\n",
       "      <td>0.018628</td>\n",
       "      <td>0.134678</td>\n",
       "      <td>0.068953</td>\n",
       "      <td>0.030340</td>\n",
       "      <td>0.111253</td>\n",
       "      <td>0.031053</td>\n",
       "    </tr>\n",
       "    <tr>\n",
       "      <th>2009-06-12</th>\n",
       "      <td>0.020384</td>\n",
       "      <td>0.044007</td>\n",
       "      <td>0.072753</td>\n",
       "      <td>0.049191</td>\n",
       "      <td>0.044205</td>\n",
       "      <td>0.041247</td>\n",
       "      <td>0.057120</td>\n",
       "      <td>0.082976</td>\n",
       "      <td>0.055253</td>\n",
       "      <td>0.024689</td>\n",
       "      <td>0.025984</td>\n",
       "    </tr>\n",
       "    <tr>\n",
       "      <th>2009-07-10</th>\n",
       "      <td>0.040876</td>\n",
       "      <td>-0.049679</td>\n",
       "      <td>-0.053564</td>\n",
       "      <td>0.019960</td>\n",
       "      <td>-0.040490</td>\n",
       "      <td>0.019588</td>\n",
       "      <td>-0.030193</td>\n",
       "      <td>-0.060743</td>\n",
       "      <td>-0.001864</td>\n",
       "      <td>-0.024536</td>\n",
       "      <td>0.007983</td>\n",
       "    </tr>\n",
       "    <tr>\n",
       "      <th>2009-08-07</th>\n",
       "      <td>0.042271</td>\n",
       "      <td>0.088973</td>\n",
       "      <td>0.095411</td>\n",
       "      <td>0.083612</td>\n",
       "      <td>0.065479</td>\n",
       "      <td>0.053001</td>\n",
       "      <td>0.079729</td>\n",
       "      <td>0.039231</td>\n",
       "      <td>0.048902</td>\n",
       "      <td>0.087226</td>\n",
       "      <td>0.022402</td>\n",
       "    </tr>\n",
       "    <tr>\n",
       "      <th>2009-09-04</th>\n",
       "      <td>0.023766</td>\n",
       "      <td>0.155688</td>\n",
       "      <td>0.067871</td>\n",
       "      <td>0.037062</td>\n",
       "      <td>0.071983</td>\n",
       "      <td>0.039490</td>\n",
       "      <td>0.124185</td>\n",
       "      <td>0.033241</td>\n",
       "      <td>0.018664</td>\n",
       "      <td>0.066866</td>\n",
       "      <td>0.003539</td>\n",
       "    </tr>\n",
       "    <tr>\n",
       "      <th>2020-04-03</th>\n",
       "      <td>-0.195570</td>\n",
       "      <td>-0.262186</td>\n",
       "      <td>-0.245767</td>\n",
       "      <td>-0.195802</td>\n",
       "      <td>-0.274270</td>\n",
       "      <td>-0.155083</td>\n",
       "      <td>-0.301775</td>\n",
       "      <td>-0.427078</td>\n",
       "      <td>-0.138600</td>\n",
       "      <td>-0.250649</td>\n",
       "      <td>-0.210717</td>\n",
       "    </tr>\n",
       "    <tr>\n",
       "      <th>2020-05-01</th>\n",
       "      <td>0.066116</td>\n",
       "      <td>0.058481</td>\n",
       "      <td>0.118196</td>\n",
       "      <td>0.112333</td>\n",
       "      <td>0.055925</td>\n",
       "      <td>0.139718</td>\n",
       "      <td>0.055166</td>\n",
       "      <td>0.163948</td>\n",
       "      <td>0.076916</td>\n",
       "      <td>0.135374</td>\n",
       "      <td>0.090278</td>\n",
       "    </tr>\n",
       "  </tbody>\n",
       "</table>\n",
       "</div>"
      ],
      "text/plain": [
       "                 VOX       VCR       VDC       VDE       VFH       VHT  \\\n",
       "2008-10-03 -0.068826 -0.012961 -0.101203 -0.111345 -0.088527 -0.050431   \n",
       "2008-10-31 -0.178405 -0.287705 -0.302198 -0.209774 -0.245124 -0.158095   \n",
       "2008-11-28  0.020145 -0.216537 -0.108137 -0.102904 -0.079116 -0.048209   \n",
       "2008-12-26 -0.002443  0.008638 -0.018396 -0.012080 -0.004980 -0.006027   \n",
       "2009-01-23  0.023085  0.005841  0.023956  0.020888  0.014871  0.042434   \n",
       "2009-02-20 -0.007496 -0.113564 -0.043746  0.004462 -0.097627  0.017761   \n",
       "2009-03-20 -0.154057 -0.184415 -0.105229 -0.070042 -0.173770 -0.117011   \n",
       "2009-04-17  0.071042  0.139231  0.198151  0.156081  0.166424  0.044121   \n",
       "2009-05-15  0.018274  0.169006  0.101352  0.069543  0.123574  0.018628   \n",
       "2009-06-12  0.020384  0.044007  0.072753  0.049191  0.044205  0.041247   \n",
       "2009-07-10  0.040876 -0.049679 -0.053564  0.019960 -0.040490  0.019588   \n",
       "2009-08-07  0.042271  0.088973  0.095411  0.083612  0.065479  0.053001   \n",
       "2009-09-04  0.023766  0.155688  0.067871  0.037062  0.071983  0.039490   \n",
       "2020-04-03 -0.195570 -0.262186 -0.245767 -0.195802 -0.274270 -0.155083   \n",
       "2020-05-01  0.066116  0.058481  0.118196  0.112333  0.055925  0.139718   \n",
       "\n",
       "                 VIS       VGT       VAW       VNQ       VPU  \n",
       "2008-10-03  0.001173 -0.090239 -0.010404 -0.041220 -0.081333  \n",
       "2008-10-31 -0.234471 -0.271484 -0.144397 -0.267902 -0.229334  \n",
       "2008-11-28 -0.155989 -0.013350 -0.027506 -0.110635 -0.024889  \n",
       "2008-12-26 -0.034463 -0.045699 -0.011691  0.042484  0.048067  \n",
       "2009-01-23 -0.063930  0.031813  0.009780  0.023748  0.012459  \n",
       "2009-02-20 -0.161160 -0.019321 -0.050058 -0.074740 -0.025518  \n",
       "2009-03-20 -0.161251 -0.132190 -0.078030 -0.087528 -0.061748  \n",
       "2009-04-17  0.264180  0.112870  0.075265  0.198977  0.143373  \n",
       "2009-05-15  0.134678  0.068953  0.030340  0.111253  0.031053  \n",
       "2009-06-12  0.057120  0.082976  0.055253  0.024689  0.025984  \n",
       "2009-07-10 -0.030193 -0.060743 -0.001864 -0.024536  0.007983  \n",
       "2009-08-07  0.079729  0.039231  0.048902  0.087226  0.022402  \n",
       "2009-09-04  0.124185  0.033241  0.018664  0.066866  0.003539  \n",
       "2020-04-03 -0.301775 -0.427078 -0.138600 -0.250649 -0.210717  \n",
       "2020-05-01  0.055166  0.163948  0.076916  0.135374  0.090278  "
      ]
     },
     "execution_count": 102,
     "metadata": {},
     "output_type": "execute_result"
    }
   ],
   "source": [
    "subset[sectors]#-pd.DataFrame(business_cycles_sectors_indexes.mean(axis=0)).T.loc[0][14:]"
   ]
  },
  {
   "cell_type": "code",
   "execution_count": 103,
   "id": "a1bbdd12-3921-4d6e-b3b2-d778fb69b002",
   "metadata": {},
   "outputs": [
    {
     "data": {
      "text/html": [
       "<div>\n",
       "<style scoped>\n",
       "    .dataframe tbody tr th:only-of-type {\n",
       "        vertical-align: middle;\n",
       "    }\n",
       "\n",
       "    .dataframe tbody tr th {\n",
       "        vertical-align: top;\n",
       "    }\n",
       "\n",
       "    .dataframe thead th {\n",
       "        text-align: right;\n",
       "    }\n",
       "</style>\n",
       "<table border=\"1\" class=\"dataframe\">\n",
       "  <thead>\n",
       "    <tr style=\"text-align: right;\">\n",
       "      <th></th>\n",
       "      <th>VOX</th>\n",
       "      <th>VCR</th>\n",
       "      <th>VDC</th>\n",
       "      <th>VDE</th>\n",
       "      <th>VFH</th>\n",
       "      <th>VHT</th>\n",
       "      <th>VIS</th>\n",
       "      <th>VGT</th>\n",
       "      <th>VAW</th>\n",
       "      <th>VNQ</th>\n",
       "      <th>VPU</th>\n",
       "    </tr>\n",
       "  </thead>\n",
       "  <tbody>\n",
       "    <tr>\n",
       "      <th>2008-10-03</th>\n",
       "      <td>-0.076194</td>\n",
       "      <td>-0.020423</td>\n",
       "      <td>-0.109558</td>\n",
       "      <td>-0.122945</td>\n",
       "      <td>-0.096713</td>\n",
       "      <td>-0.059428</td>\n",
       "      <td>-0.004434</td>\n",
       "      <td>-0.096263</td>\n",
       "      <td>-0.018363</td>\n",
       "      <td>-0.051468</td>\n",
       "      <td>-0.087614</td>\n",
       "    </tr>\n",
       "    <tr>\n",
       "      <th>2008-10-31</th>\n",
       "      <td>-0.185773</td>\n",
       "      <td>-0.295166</td>\n",
       "      <td>-0.310553</td>\n",
       "      <td>-0.221374</td>\n",
       "      <td>-0.253310</td>\n",
       "      <td>-0.167092</td>\n",
       "      <td>-0.240078</td>\n",
       "      <td>-0.277507</td>\n",
       "      <td>-0.152356</td>\n",
       "      <td>-0.278150</td>\n",
       "      <td>-0.235615</td>\n",
       "    </tr>\n",
       "    <tr>\n",
       "      <th>2008-11-28</th>\n",
       "      <td>0.012776</td>\n",
       "      <td>-0.223999</td>\n",
       "      <td>-0.116492</td>\n",
       "      <td>-0.114504</td>\n",
       "      <td>-0.087302</td>\n",
       "      <td>-0.057205</td>\n",
       "      <td>-0.161596</td>\n",
       "      <td>-0.019374</td>\n",
       "      <td>-0.035465</td>\n",
       "      <td>-0.120883</td>\n",
       "      <td>-0.031170</td>\n",
       "    </tr>\n",
       "    <tr>\n",
       "      <th>2008-12-26</th>\n",
       "      <td>-0.009811</td>\n",
       "      <td>0.001176</td>\n",
       "      <td>-0.026751</td>\n",
       "      <td>-0.023680</td>\n",
       "      <td>-0.013166</td>\n",
       "      <td>-0.015024</td>\n",
       "      <td>-0.040070</td>\n",
       "      <td>-0.051723</td>\n",
       "      <td>-0.019650</td>\n",
       "      <td>0.032237</td>\n",
       "      <td>0.041786</td>\n",
       "    </tr>\n",
       "    <tr>\n",
       "      <th>2009-01-23</th>\n",
       "      <td>0.015717</td>\n",
       "      <td>-0.001621</td>\n",
       "      <td>0.015601</td>\n",
       "      <td>0.009287</td>\n",
       "      <td>0.006685</td>\n",
       "      <td>0.033438</td>\n",
       "      <td>-0.069538</td>\n",
       "      <td>0.025789</td>\n",
       "      <td>0.001820</td>\n",
       "      <td>0.013500</td>\n",
       "      <td>0.006178</td>\n",
       "    </tr>\n",
       "    <tr>\n",
       "      <th>2009-02-20</th>\n",
       "      <td>-0.014864</td>\n",
       "      <td>-0.121026</td>\n",
       "      <td>-0.052101</td>\n",
       "      <td>-0.007138</td>\n",
       "      <td>-0.105813</td>\n",
       "      <td>0.008765</td>\n",
       "      <td>-0.166767</td>\n",
       "      <td>-0.025345</td>\n",
       "      <td>-0.058017</td>\n",
       "      <td>-0.084988</td>\n",
       "      <td>-0.031798</td>\n",
       "    </tr>\n",
       "    <tr>\n",
       "      <th>2009-03-20</th>\n",
       "      <td>-0.161425</td>\n",
       "      <td>-0.191877</td>\n",
       "      <td>-0.113584</td>\n",
       "      <td>-0.081642</td>\n",
       "      <td>-0.181956</td>\n",
       "      <td>-0.126008</td>\n",
       "      <td>-0.166859</td>\n",
       "      <td>-0.138214</td>\n",
       "      <td>-0.085990</td>\n",
       "      <td>-0.097775</td>\n",
       "      <td>-0.068029</td>\n",
       "    </tr>\n",
       "    <tr>\n",
       "      <th>2009-04-17</th>\n",
       "      <td>0.063673</td>\n",
       "      <td>0.131769</td>\n",
       "      <td>0.189796</td>\n",
       "      <td>0.144480</td>\n",
       "      <td>0.158237</td>\n",
       "      <td>0.035124</td>\n",
       "      <td>0.258572</td>\n",
       "      <td>0.106847</td>\n",
       "      <td>0.067305</td>\n",
       "      <td>0.188729</td>\n",
       "      <td>0.137092</td>\n",
       "    </tr>\n",
       "    <tr>\n",
       "      <th>2009-05-15</th>\n",
       "      <td>0.010906</td>\n",
       "      <td>0.161544</td>\n",
       "      <td>0.092997</td>\n",
       "      <td>0.057943</td>\n",
       "      <td>0.115387</td>\n",
       "      <td>0.009632</td>\n",
       "      <td>0.129070</td>\n",
       "      <td>0.062929</td>\n",
       "      <td>0.022381</td>\n",
       "      <td>0.101005</td>\n",
       "      <td>0.024773</td>\n",
       "    </tr>\n",
       "    <tr>\n",
       "      <th>2009-06-12</th>\n",
       "      <td>0.013015</td>\n",
       "      <td>0.036545</td>\n",
       "      <td>0.064398</td>\n",
       "      <td>0.037591</td>\n",
       "      <td>0.036019</td>\n",
       "      <td>0.032250</td>\n",
       "      <td>0.051513</td>\n",
       "      <td>0.076952</td>\n",
       "      <td>0.047293</td>\n",
       "      <td>0.014441</td>\n",
       "      <td>0.019703</td>\n",
       "    </tr>\n",
       "    <tr>\n",
       "      <th>2009-07-10</th>\n",
       "      <td>0.033508</td>\n",
       "      <td>-0.057141</td>\n",
       "      <td>-0.061919</td>\n",
       "      <td>0.008360</td>\n",
       "      <td>-0.048677</td>\n",
       "      <td>0.010592</td>\n",
       "      <td>-0.035800</td>\n",
       "      <td>-0.066766</td>\n",
       "      <td>-0.009824</td>\n",
       "      <td>-0.034784</td>\n",
       "      <td>0.001702</td>\n",
       "    </tr>\n",
       "    <tr>\n",
       "      <th>2009-08-07</th>\n",
       "      <td>0.034903</td>\n",
       "      <td>0.081511</td>\n",
       "      <td>0.087056</td>\n",
       "      <td>0.072011</td>\n",
       "      <td>0.057293</td>\n",
       "      <td>0.044005</td>\n",
       "      <td>0.074121</td>\n",
       "      <td>0.033207</td>\n",
       "      <td>0.040943</td>\n",
       "      <td>0.076978</td>\n",
       "      <td>0.016121</td>\n",
       "    </tr>\n",
       "    <tr>\n",
       "      <th>2009-09-04</th>\n",
       "      <td>0.016398</td>\n",
       "      <td>0.148226</td>\n",
       "      <td>0.059516</td>\n",
       "      <td>0.025461</td>\n",
       "      <td>0.063797</td>\n",
       "      <td>0.030493</td>\n",
       "      <td>0.118577</td>\n",
       "      <td>0.027217</td>\n",
       "      <td>0.010705</td>\n",
       "      <td>0.056618</td>\n",
       "      <td>-0.002742</td>\n",
       "    </tr>\n",
       "    <tr>\n",
       "      <th>2020-04-03</th>\n",
       "      <td>-0.202938</td>\n",
       "      <td>-0.269648</td>\n",
       "      <td>-0.254122</td>\n",
       "      <td>-0.207402</td>\n",
       "      <td>-0.282456</td>\n",
       "      <td>-0.164079</td>\n",
       "      <td>-0.307382</td>\n",
       "      <td>-0.433101</td>\n",
       "      <td>-0.146560</td>\n",
       "      <td>-0.260897</td>\n",
       "      <td>-0.216998</td>\n",
       "    </tr>\n",
       "    <tr>\n",
       "      <th>2020-05-01</th>\n",
       "      <td>0.058748</td>\n",
       "      <td>0.051019</td>\n",
       "      <td>0.109841</td>\n",
       "      <td>0.100733</td>\n",
       "      <td>0.047738</td>\n",
       "      <td>0.130722</td>\n",
       "      <td>0.049558</td>\n",
       "      <td>0.157924</td>\n",
       "      <td>0.068957</td>\n",
       "      <td>0.125126</td>\n",
       "      <td>0.083997</td>\n",
       "    </tr>\n",
       "  </tbody>\n",
       "</table>\n",
       "</div>"
      ],
      "text/plain": [
       "                 VOX       VCR       VDC       VDE       VFH       VHT  \\\n",
       "2008-10-03 -0.076194 -0.020423 -0.109558 -0.122945 -0.096713 -0.059428   \n",
       "2008-10-31 -0.185773 -0.295166 -0.310553 -0.221374 -0.253310 -0.167092   \n",
       "2008-11-28  0.012776 -0.223999 -0.116492 -0.114504 -0.087302 -0.057205   \n",
       "2008-12-26 -0.009811  0.001176 -0.026751 -0.023680 -0.013166 -0.015024   \n",
       "2009-01-23  0.015717 -0.001621  0.015601  0.009287  0.006685  0.033438   \n",
       "2009-02-20 -0.014864 -0.121026 -0.052101 -0.007138 -0.105813  0.008765   \n",
       "2009-03-20 -0.161425 -0.191877 -0.113584 -0.081642 -0.181956 -0.126008   \n",
       "2009-04-17  0.063673  0.131769  0.189796  0.144480  0.158237  0.035124   \n",
       "2009-05-15  0.010906  0.161544  0.092997  0.057943  0.115387  0.009632   \n",
       "2009-06-12  0.013015  0.036545  0.064398  0.037591  0.036019  0.032250   \n",
       "2009-07-10  0.033508 -0.057141 -0.061919  0.008360 -0.048677  0.010592   \n",
       "2009-08-07  0.034903  0.081511  0.087056  0.072011  0.057293  0.044005   \n",
       "2009-09-04  0.016398  0.148226  0.059516  0.025461  0.063797  0.030493   \n",
       "2020-04-03 -0.202938 -0.269648 -0.254122 -0.207402 -0.282456 -0.164079   \n",
       "2020-05-01  0.058748  0.051019  0.109841  0.100733  0.047738  0.130722   \n",
       "\n",
       "                 VIS       VGT       VAW       VNQ       VPU  \n",
       "2008-10-03 -0.004434 -0.096263 -0.018363 -0.051468 -0.087614  \n",
       "2008-10-31 -0.240078 -0.277507 -0.152356 -0.278150 -0.235615  \n",
       "2008-11-28 -0.161596 -0.019374 -0.035465 -0.120883 -0.031170  \n",
       "2008-12-26 -0.040070 -0.051723 -0.019650  0.032237  0.041786  \n",
       "2009-01-23 -0.069538  0.025789  0.001820  0.013500  0.006178  \n",
       "2009-02-20 -0.166767 -0.025345 -0.058017 -0.084988 -0.031798  \n",
       "2009-03-20 -0.166859 -0.138214 -0.085990 -0.097775 -0.068029  \n",
       "2009-04-17  0.258572  0.106847  0.067305  0.188729  0.137092  \n",
       "2009-05-15  0.129070  0.062929  0.022381  0.101005  0.024773  \n",
       "2009-06-12  0.051513  0.076952  0.047293  0.014441  0.019703  \n",
       "2009-07-10 -0.035800 -0.066766 -0.009824 -0.034784  0.001702  \n",
       "2009-08-07  0.074121  0.033207  0.040943  0.076978  0.016121  \n",
       "2009-09-04  0.118577  0.027217  0.010705  0.056618 -0.002742  \n",
       "2020-04-03 -0.307382 -0.433101 -0.146560 -0.260897 -0.216998  \n",
       "2020-05-01  0.049558  0.157924  0.068957  0.125126  0.083997  "
      ]
     },
     "execution_count": 103,
     "metadata": {},
     "output_type": "execute_result"
    }
   ],
   "source": [
    "subset[sectors]-pd.DataFrame(business_cycles_sectors_indexes.mean(axis=0)).T.loc[0][14:]"
   ]
  },
  {
   "cell_type": "code",
   "execution_count": 114,
   "id": "2fe9ef43-7113-4485-9c45-3c4f2fd0b893",
   "metadata": {},
   "outputs": [
    {
     "data": {
      "text/plain": [
       "['SPTM', 'SPY', 'SLY', 'MDYG', 'DIA']"
      ]
     },
     "execution_count": 114,
     "metadata": {},
     "output_type": "execute_result"
    }
   ],
   "source": [
    "indexes"
   ]
  },
  {
   "cell_type": "code",
   "execution_count": 117,
   "id": "6558cdb4-583c-4066-9429-bacba6e54381",
   "metadata": {},
   "outputs": [
    {
     "data": {
      "text/html": [
       "<div>\n",
       "<style scoped>\n",
       "    .dataframe tbody tr th:only-of-type {\n",
       "        vertical-align: middle;\n",
       "    }\n",
       "\n",
       "    .dataframe tbody tr th {\n",
       "        vertical-align: top;\n",
       "    }\n",
       "\n",
       "    .dataframe thead th {\n",
       "        text-align: right;\n",
       "    }\n",
       "</style>\n",
       "<table border=\"1\" class=\"dataframe\">\n",
       "  <thead>\n",
       "    <tr style=\"text-align: right;\">\n",
       "      <th></th>\n",
       "      <th>SPTM</th>\n",
       "      <th>SPY</th>\n",
       "      <th>SLY</th>\n",
       "      <th>MDYG</th>\n",
       "      <th>DIA</th>\n",
       "    </tr>\n",
       "  </thead>\n",
       "  <tbody>\n",
       "    <tr>\n",
       "      <th>2009-10-02</th>\n",
       "      <td>0.023062</td>\n",
       "      <td>0.058454</td>\n",
       "      <td>0.052360</td>\n",
       "      <td>0.030725</td>\n",
       "      <td>0.033924</td>\n",
       "    </tr>\n",
       "    <tr>\n",
       "      <th>2009-10-30</th>\n",
       "      <td>0.015383</td>\n",
       "      <td>0.014363</td>\n",
       "      <td>0.001192</td>\n",
       "      <td>0.013603</td>\n",
       "      <td>0.011421</td>\n",
       "    </tr>\n",
       "    <tr>\n",
       "      <th>2009-11-27</th>\n",
       "      <td>0.027549</td>\n",
       "      <td>-0.015409</td>\n",
       "      <td>-0.034513</td>\n",
       "      <td>0.007765</td>\n",
       "      <td>0.003221</td>\n",
       "    </tr>\n",
       "    <tr>\n",
       "      <th>2009-12-25</th>\n",
       "      <td>0.014778</td>\n",
       "      <td>0.026252</td>\n",
       "      <td>0.028071</td>\n",
       "      <td>0.012867</td>\n",
       "      <td>0.013945</td>\n",
       "    </tr>\n",
       "    <tr>\n",
       "      <th>2010-01-22</th>\n",
       "      <td>0.008938</td>\n",
       "      <td>0.049110</td>\n",
       "      <td>0.048027</td>\n",
       "      <td>0.017536</td>\n",
       "      <td>0.020989</td>\n",
       "    </tr>\n",
       "    <tr>\n",
       "      <th>2010-02-19</th>\n",
       "      <td>-0.045912</td>\n",
       "      <td>-0.059653</td>\n",
       "      <td>-0.048814</td>\n",
       "      <td>-0.050590</td>\n",
       "      <td>-0.048628</td>\n",
       "    </tr>\n",
       "    <tr>\n",
       "      <th>2010-03-19</th>\n",
       "      <td>0.030092</td>\n",
       "      <td>0.062657</td>\n",
       "      <td>0.068467</td>\n",
       "      <td>0.037128</td>\n",
       "      <td>0.043376</td>\n",
       "    </tr>\n",
       "    <tr>\n",
       "      <th>2010-04-16</th>\n",
       "      <td>0.033213</td>\n",
       "      <td>0.044224</td>\n",
       "      <td>0.050327</td>\n",
       "      <td>0.037674</td>\n",
       "      <td>0.039133</td>\n",
       "    </tr>\n",
       "    <tr>\n",
       "      <th>2020-05-29</th>\n",
       "      <td>0.025358</td>\n",
       "      <td>0.082088</td>\n",
       "      <td>0.051613</td>\n",
       "      <td>0.039541</td>\n",
       "      <td>0.041214</td>\n",
       "    </tr>\n",
       "    <tr>\n",
       "      <th>2020-06-26</th>\n",
       "      <td>0.069204</td>\n",
       "      <td>0.070989</td>\n",
       "      <td>0.096652</td>\n",
       "      <td>0.056619</td>\n",
       "      <td>0.059444</td>\n",
       "    </tr>\n",
       "    <tr>\n",
       "      <th>2020-07-24</th>\n",
       "      <td>-0.002705</td>\n",
       "      <td>0.000122</td>\n",
       "      <td>-0.016366</td>\n",
       "      <td>0.014137</td>\n",
       "      <td>0.011765</td>\n",
       "    </tr>\n",
       "    <tr>\n",
       "      <th>2020-08-21</th>\n",
       "      <td>0.033165</td>\n",
       "      <td>0.061696</td>\n",
       "      <td>0.069715</td>\n",
       "      <td>0.040984</td>\n",
       "      <td>0.042602</td>\n",
       "    </tr>\n",
       "    <tr>\n",
       "      <th>2020-09-18</th>\n",
       "      <td>0.026193</td>\n",
       "      <td>-0.013638</td>\n",
       "      <td>-0.013110</td>\n",
       "      <td>0.022009</td>\n",
       "      <td>0.019598</td>\n",
       "    </tr>\n",
       "    <tr>\n",
       "      <th>2020-10-16</th>\n",
       "      <td>-0.015169</td>\n",
       "      <td>0.004949</td>\n",
       "      <td>-0.016423</td>\n",
       "      <td>-0.017444</td>\n",
       "      <td>-0.016658</td>\n",
       "    </tr>\n",
       "    <tr>\n",
       "      <th>2020-11-13</th>\n",
       "      <td>-0.001128</td>\n",
       "      <td>0.031839</td>\n",
       "      <td>0.041778</td>\n",
       "      <td>0.007983</td>\n",
       "      <td>0.010186</td>\n",
       "    </tr>\n",
       "    <tr>\n",
       "      <th>2020-12-11</th>\n",
       "      <td>0.058022</td>\n",
       "      <td>0.069590</td>\n",
       "      <td>0.129410</td>\n",
       "      <td>0.051126</td>\n",
       "      <td>0.055744</td>\n",
       "    </tr>\n",
       "    <tr>\n",
       "      <th>2021-01-08</th>\n",
       "      <td>0.010076</td>\n",
       "      <td>0.045512</td>\n",
       "      <td>0.056678</td>\n",
       "      <td>0.015236</td>\n",
       "      <td>0.017850</td>\n",
       "    </tr>\n",
       "    <tr>\n",
       "      <th>2021-02-05</th>\n",
       "      <td>0.008675</td>\n",
       "      <td>0.049625</td>\n",
       "      <td>0.078828</td>\n",
       "      <td>0.017338</td>\n",
       "      <td>0.020631</td>\n",
       "    </tr>\n",
       "    <tr>\n",
       "      <th>2021-03-05</th>\n",
       "      <td>0.013425</td>\n",
       "      <td>0.015217</td>\n",
       "      <td>0.053097</td>\n",
       "      <td>0.014321</td>\n",
       "      <td>0.016735</td>\n",
       "    </tr>\n",
       "  </tbody>\n",
       "</table>\n",
       "</div>"
      ],
      "text/plain": [
       "                SPTM       SPY       SLY      MDYG       DIA\n",
       "2009-10-02  0.023062  0.058454  0.052360  0.030725  0.033924\n",
       "2009-10-30  0.015383  0.014363  0.001192  0.013603  0.011421\n",
       "2009-11-27  0.027549 -0.015409 -0.034513  0.007765  0.003221\n",
       "2009-12-25  0.014778  0.026252  0.028071  0.012867  0.013945\n",
       "2010-01-22  0.008938  0.049110  0.048027  0.017536  0.020989\n",
       "2010-02-19 -0.045912 -0.059653 -0.048814 -0.050590 -0.048628\n",
       "2010-03-19  0.030092  0.062657  0.068467  0.037128  0.043376\n",
       "2010-04-16  0.033213  0.044224  0.050327  0.037674  0.039133\n",
       "2020-05-29  0.025358  0.082088  0.051613  0.039541  0.041214\n",
       "2020-06-26  0.069204  0.070989  0.096652  0.056619  0.059444\n",
       "2020-07-24 -0.002705  0.000122 -0.016366  0.014137  0.011765\n",
       "2020-08-21  0.033165  0.061696  0.069715  0.040984  0.042602\n",
       "2020-09-18  0.026193 -0.013638 -0.013110  0.022009  0.019598\n",
       "2020-10-16 -0.015169  0.004949 -0.016423 -0.017444 -0.016658\n",
       "2020-11-13 -0.001128  0.031839  0.041778  0.007983  0.010186\n",
       "2020-12-11  0.058022  0.069590  0.129410  0.051126  0.055744\n",
       "2021-01-08  0.010076  0.045512  0.056678  0.015236  0.017850\n",
       "2021-02-05  0.008675  0.049625  0.078828  0.017338  0.020631\n",
       "2021-03-05  0.013425  0.015217  0.053097  0.014321  0.016735"
      ]
     },
     "execution_count": 117,
     "metadata": {},
     "output_type": "execute_result"
    }
   ],
   "source": []
  },
  {
   "cell_type": "code",
   "execution_count": 120,
   "id": "00b0dff3-ad00-4d80-a86b-c4e7c0e15902",
   "metadata": {},
   "outputs": [
    {
     "data": {
      "text/plain": [
       "VOX    0.007368\n",
       "VCR    0.007462\n",
       "VDC    0.008355\n",
       "VDE    0.011600\n",
       "VFH    0.008186\n",
       "VHT    0.008996\n",
       "VIS    0.005607\n",
       "VGT    0.006024\n",
       "VAW    0.007959\n",
       "VNQ    0.010248\n",
       "VPU    0.006281\n",
       "Name: 0, dtype: float64"
      ]
     },
     "execution_count": 120,
     "metadata": {},
     "output_type": "execute_result"
    }
   ],
   "source": []
  },
  {
   "cell_type": "code",
   "execution_count": 121,
   "id": "1a7f11ca-3e0f-4daa-8652-0661244c899c",
   "metadata": {},
   "outputs": [
    {
     "data": {
      "text/plain": [
       "Index(['SP1500', 'SP500', 'SP600', 'SP400', 'DOW'], dtype='object')"
      ]
     },
     "execution_count": 121,
     "metadata": {},
     "output_type": "execute_result"
    }
   ],
   "source": [
    "i_m.columns"
   ]
  },
  {
   "cell_type": "code",
   "execution_count": 133,
   "id": "68e7dffd-f385-46d1-ab30-6bd78d4b2c07",
   "metadata": {},
   "outputs": [
    {
     "data": {
      "text/html": [
       "<div>\n",
       "<style scoped>\n",
       "    .dataframe tbody tr th:only-of-type {\n",
       "        vertical-align: middle;\n",
       "    }\n",
       "\n",
       "    .dataframe tbody tr th {\n",
       "        vertical-align: top;\n",
       "    }\n",
       "\n",
       "    .dataframe thead th {\n",
       "        text-align: right;\n",
       "    }\n",
       "</style>\n",
       "<table border=\"1\" class=\"dataframe\">\n",
       "  <thead>\n",
       "    <tr style=\"text-align: right;\">\n",
       "      <th></th>\n",
       "      <th>0</th>\n",
       "    </tr>\n",
       "  </thead>\n",
       "  <tbody>\n",
       "    <tr>\n",
       "      <th>SPTM</th>\n",
       "      <td>0.005752</td>\n",
       "    </tr>\n",
       "    <tr>\n",
       "      <th>SPY</th>\n",
       "      <td>0.008377</td>\n",
       "    </tr>\n",
       "    <tr>\n",
       "      <th>SLY</th>\n",
       "      <td>0.010730</td>\n",
       "    </tr>\n",
       "    <tr>\n",
       "      <th>MDYG</th>\n",
       "      <td>0.005599</td>\n",
       "    </tr>\n",
       "    <tr>\n",
       "      <th>DIA</th>\n",
       "      <td>0.005802</td>\n",
       "    </tr>\n",
       "  </tbody>\n",
       "</table>\n",
       "</div>"
      ],
      "text/plain": [
       "             0\n",
       "SPTM  0.005752\n",
       "SPY   0.008377\n",
       "SLY   0.010730\n",
       "MDYG  0.005599\n",
       "DIA   0.005802"
      ]
     },
     "execution_count": 133,
     "metadata": {},
     "output_type": "execute_result"
    }
   ],
   "source": [
    "(i_s/np.sqrt(n)).T"
   ]
  },
  {
   "cell_type": "code",
   "execution_count": 141,
   "id": "e6910fcc-b9dc-477b-ba0b-1e2d208a6f1d",
   "metadata": {},
   "outputs": [
    {
     "data": {
      "text/html": [
       "<div>\n",
       "<style scoped>\n",
       "    .dataframe tbody tr th:only-of-type {\n",
       "        vertical-align: middle;\n",
       "    }\n",
       "\n",
       "    .dataframe tbody tr th {\n",
       "        vertical-align: top;\n",
       "    }\n",
       "\n",
       "    .dataframe thead th {\n",
       "        text-align: right;\n",
       "    }\n",
       "</style>\n",
       "<table border=\"1\" class=\"dataframe\">\n",
       "  <thead>\n",
       "    <tr style=\"text-align: right;\">\n",
       "      <th></th>\n",
       "      <th>SPTM</th>\n",
       "      <th>SPY</th>\n",
       "      <th>SLY</th>\n",
       "      <th>MDYG</th>\n",
       "      <th>DIA</th>\n",
       "    </tr>\n",
       "  </thead>\n",
       "  <tbody>\n",
       "    <tr>\n",
       "      <th>2009-10-02 00:00:00</th>\n",
       "      <td>NaN</td>\n",
       "      <td>NaN</td>\n",
       "      <td>NaN</td>\n",
       "      <td>NaN</td>\n",
       "      <td>NaN</td>\n",
       "    </tr>\n",
       "    <tr>\n",
       "      <th>2009-10-30 00:00:00</th>\n",
       "      <td>NaN</td>\n",
       "      <td>NaN</td>\n",
       "      <td>NaN</td>\n",
       "      <td>NaN</td>\n",
       "      <td>NaN</td>\n",
       "    </tr>\n",
       "    <tr>\n",
       "      <th>2009-11-27 00:00:00</th>\n",
       "      <td>NaN</td>\n",
       "      <td>NaN</td>\n",
       "      <td>NaN</td>\n",
       "      <td>NaN</td>\n",
       "      <td>NaN</td>\n",
       "    </tr>\n",
       "    <tr>\n",
       "      <th>2009-12-25 00:00:00</th>\n",
       "      <td>NaN</td>\n",
       "      <td>NaN</td>\n",
       "      <td>NaN</td>\n",
       "      <td>NaN</td>\n",
       "      <td>NaN</td>\n",
       "    </tr>\n",
       "    <tr>\n",
       "      <th>2010-01-22 00:00:00</th>\n",
       "      <td>NaN</td>\n",
       "      <td>NaN</td>\n",
       "      <td>NaN</td>\n",
       "      <td>NaN</td>\n",
       "      <td>NaN</td>\n",
       "    </tr>\n",
       "    <tr>\n",
       "      <th>2010-02-19 00:00:00</th>\n",
       "      <td>NaN</td>\n",
       "      <td>NaN</td>\n",
       "      <td>NaN</td>\n",
       "      <td>NaN</td>\n",
       "      <td>NaN</td>\n",
       "    </tr>\n",
       "    <tr>\n",
       "      <th>2010-03-19 00:00:00</th>\n",
       "      <td>NaN</td>\n",
       "      <td>NaN</td>\n",
       "      <td>NaN</td>\n",
       "      <td>NaN</td>\n",
       "      <td>NaN</td>\n",
       "    </tr>\n",
       "    <tr>\n",
       "      <th>2010-04-16 00:00:00</th>\n",
       "      <td>NaN</td>\n",
       "      <td>NaN</td>\n",
       "      <td>NaN</td>\n",
       "      <td>NaN</td>\n",
       "      <td>NaN</td>\n",
       "    </tr>\n",
       "    <tr>\n",
       "      <th>2020-05-29 00:00:00</th>\n",
       "      <td>NaN</td>\n",
       "      <td>NaN</td>\n",
       "      <td>NaN</td>\n",
       "      <td>NaN</td>\n",
       "      <td>NaN</td>\n",
       "    </tr>\n",
       "    <tr>\n",
       "      <th>2020-06-26 00:00:00</th>\n",
       "      <td>NaN</td>\n",
       "      <td>NaN</td>\n",
       "      <td>NaN</td>\n",
       "      <td>NaN</td>\n",
       "      <td>NaN</td>\n",
       "    </tr>\n",
       "    <tr>\n",
       "      <th>2020-07-24 00:00:00</th>\n",
       "      <td>NaN</td>\n",
       "      <td>NaN</td>\n",
       "      <td>NaN</td>\n",
       "      <td>NaN</td>\n",
       "      <td>NaN</td>\n",
       "    </tr>\n",
       "    <tr>\n",
       "      <th>2020-08-21 00:00:00</th>\n",
       "      <td>NaN</td>\n",
       "      <td>NaN</td>\n",
       "      <td>NaN</td>\n",
       "      <td>NaN</td>\n",
       "      <td>NaN</td>\n",
       "    </tr>\n",
       "    <tr>\n",
       "      <th>2020-09-18 00:00:00</th>\n",
       "      <td>NaN</td>\n",
       "      <td>NaN</td>\n",
       "      <td>NaN</td>\n",
       "      <td>NaN</td>\n",
       "      <td>NaN</td>\n",
       "    </tr>\n",
       "    <tr>\n",
       "      <th>2020-10-16 00:00:00</th>\n",
       "      <td>NaN</td>\n",
       "      <td>NaN</td>\n",
       "      <td>NaN</td>\n",
       "      <td>NaN</td>\n",
       "      <td>NaN</td>\n",
       "    </tr>\n",
       "    <tr>\n",
       "      <th>2020-11-13 00:00:00</th>\n",
       "      <td>NaN</td>\n",
       "      <td>NaN</td>\n",
       "      <td>NaN</td>\n",
       "      <td>NaN</td>\n",
       "      <td>NaN</td>\n",
       "    </tr>\n",
       "    <tr>\n",
       "      <th>2020-12-11 00:00:00</th>\n",
       "      <td>NaN</td>\n",
       "      <td>NaN</td>\n",
       "      <td>NaN</td>\n",
       "      <td>NaN</td>\n",
       "      <td>NaN</td>\n",
       "    </tr>\n",
       "    <tr>\n",
       "      <th>2021-01-08 00:00:00</th>\n",
       "      <td>NaN</td>\n",
       "      <td>NaN</td>\n",
       "      <td>NaN</td>\n",
       "      <td>NaN</td>\n",
       "      <td>NaN</td>\n",
       "    </tr>\n",
       "    <tr>\n",
       "      <th>2021-02-05 00:00:00</th>\n",
       "      <td>NaN</td>\n",
       "      <td>NaN</td>\n",
       "      <td>NaN</td>\n",
       "      <td>NaN</td>\n",
       "      <td>NaN</td>\n",
       "    </tr>\n",
       "    <tr>\n",
       "      <th>2021-03-05 00:00:00</th>\n",
       "      <td>NaN</td>\n",
       "      <td>NaN</td>\n",
       "      <td>NaN</td>\n",
       "      <td>NaN</td>\n",
       "      <td>NaN</td>\n",
       "    </tr>\n",
       "    <tr>\n",
       "      <th>0</th>\n",
       "      <td>NaN</td>\n",
       "      <td>NaN</td>\n",
       "      <td>NaN</td>\n",
       "      <td>NaN</td>\n",
       "      <td>NaN</td>\n",
       "    </tr>\n",
       "  </tbody>\n",
       "</table>\n",
       "</div>"
      ],
      "text/plain": [
       "                     SPTM  SPY  SLY  MDYG  DIA\n",
       "2009-10-02 00:00:00   NaN  NaN  NaN   NaN  NaN\n",
       "2009-10-30 00:00:00   NaN  NaN  NaN   NaN  NaN\n",
       "2009-11-27 00:00:00   NaN  NaN  NaN   NaN  NaN\n",
       "2009-12-25 00:00:00   NaN  NaN  NaN   NaN  NaN\n",
       "2010-01-22 00:00:00   NaN  NaN  NaN   NaN  NaN\n",
       "2010-02-19 00:00:00   NaN  NaN  NaN   NaN  NaN\n",
       "2010-03-19 00:00:00   NaN  NaN  NaN   NaN  NaN\n",
       "2010-04-16 00:00:00   NaN  NaN  NaN   NaN  NaN\n",
       "2020-05-29 00:00:00   NaN  NaN  NaN   NaN  NaN\n",
       "2020-06-26 00:00:00   NaN  NaN  NaN   NaN  NaN\n",
       "2020-07-24 00:00:00   NaN  NaN  NaN   NaN  NaN\n",
       "2020-08-21 00:00:00   NaN  NaN  NaN   NaN  NaN\n",
       "2020-09-18 00:00:00   NaN  NaN  NaN   NaN  NaN\n",
       "2020-10-16 00:00:00   NaN  NaN  NaN   NaN  NaN\n",
       "2020-11-13 00:00:00   NaN  NaN  NaN   NaN  NaN\n",
       "2020-12-11 00:00:00   NaN  NaN  NaN   NaN  NaN\n",
       "2021-01-08 00:00:00   NaN  NaN  NaN   NaN  NaN\n",
       "2021-02-05 00:00:00   NaN  NaN  NaN   NaN  NaN\n",
       "2021-03-05 00:00:00   NaN  NaN  NaN   NaN  NaN\n",
       "0                     NaN  NaN  NaN   NaN  NaN"
      ]
     },
     "execution_count": 141,
     "metadata": {},
     "output_type": "execute_result"
    }
   ],
   "source": []
  },
  {
   "cell_type": "code",
   "execution_count": 176,
   "id": "5aec0ecb-3967-4719-bb43-09a08e134780",
   "metadata": {},
   "outputs": [
    {
     "data": {
      "text/html": [
       "<div>\n",
       "<style scoped>\n",
       "    .dataframe tbody tr th:only-of-type {\n",
       "        vertical-align: middle;\n",
       "    }\n",
       "\n",
       "    .dataframe tbody tr th {\n",
       "        vertical-align: top;\n",
       "    }\n",
       "\n",
       "    .dataframe thead th {\n",
       "        text-align: right;\n",
       "    }\n",
       "</style>\n",
       "<table border=\"1\" class=\"dataframe\">\n",
       "  <thead>\n",
       "    <tr style=\"text-align: right;\">\n",
       "      <th></th>\n",
       "      <th>SPTM</th>\n",
       "      <th>SPY</th>\n",
       "      <th>SLY</th>\n",
       "      <th>MDYG</th>\n",
       "      <th>DIA</th>\n",
       "    </tr>\n",
       "  </thead>\n",
       "  <tbody>\n",
       "    <tr>\n",
       "      <th>0</th>\n",
       "      <td>0.007924</td>\n",
       "      <td>0.008542</td>\n",
       "      <td>0.008813</td>\n",
       "      <td>0.00818</td>\n",
       "      <td>0.008228</td>\n",
       "    </tr>\n",
       "  </tbody>\n",
       "</table>\n",
       "</div>"
      ],
      "text/plain": [
       "       SPTM       SPY       SLY     MDYG       DIA\n",
       "0  0.007924  0.008542  0.008813  0.00818  0.008228"
      ]
     },
     "execution_count": 176,
     "metadata": {},
     "output_type": "execute_result"
    }
   ],
   "source": []
  },
  {
   "cell_type": "code",
   "execution_count": 179,
   "id": "d5ad6c1a-4d49-4dbb-921e-54c5b4cacf91",
   "metadata": {},
   "outputs": [
    {
     "data": {
      "text/html": [
       "<div>\n",
       "<style scoped>\n",
       "    .dataframe tbody tr th:only-of-type {\n",
       "        vertical-align: middle;\n",
       "    }\n",
       "\n",
       "    .dataframe tbody tr th {\n",
       "        vertical-align: top;\n",
       "    }\n",
       "\n",
       "    .dataframe thead th {\n",
       "        text-align: right;\n",
       "    }\n",
       "</style>\n",
       "<table border=\"1\" class=\"dataframe\">\n",
       "  <thead>\n",
       "    <tr style=\"text-align: right;\">\n",
       "      <th></th>\n",
       "      <th>VOX</th>\n",
       "      <th>VCR</th>\n",
       "      <th>VDC</th>\n",
       "      <th>VDE</th>\n",
       "      <th>VFH</th>\n",
       "      <th>VHT</th>\n",
       "      <th>VIS</th>\n",
       "      <th>VGT</th>\n",
       "      <th>VAW</th>\n",
       "      <th>VNQ</th>\n",
       "      <th>VPU</th>\n",
       "    </tr>\n",
       "  </thead>\n",
       "  <tbody>\n",
       "    <tr>\n",
       "      <th>0</th>\n",
       "      <td>0.007819</td>\n",
       "      <td>0.027972</td>\n",
       "      <td>0.034829</td>\n",
       "      <td>0.036559</td>\n",
       "      <td>0.037216</td>\n",
       "      <td>0.021493</td>\n",
       "      <td>0.031788</td>\n",
       "      <td>0.033414</td>\n",
       "      <td>0.017077</td>\n",
       "      <td>0.047275</td>\n",
       "      <td>0.033924</td>\n",
       "    </tr>\n",
       "  </tbody>\n",
       "</table>\n",
       "</div>"
      ],
      "text/plain": [
       "        VOX       VCR       VDC       VDE       VFH       VHT       VIS  \\\n",
       "0  0.007819  0.027972  0.034829  0.036559  0.037216  0.021493  0.031788   \n",
       "\n",
       "        VGT       VAW       VNQ       VPU  \n",
       "0  0.033414  0.017077  0.047275  0.033924  "
      ]
     },
     "execution_count": 179,
     "metadata": {},
     "output_type": "execute_result"
    }
   ],
   "source": [
    "s_m_subset_mean"
   ]
  },
  {
   "cell_type": "code",
   "execution_count": 165,
   "id": "80512a97-5c4a-4dc7-acd4-15fb98e54b35",
   "metadata": {},
   "outputs": [
    {
     "data": {
      "text/plain": [
       "SPTM   -0.025496\n",
       "SPY    -0.024676\n",
       "SLY    -0.030076\n",
       "MDYG   -0.025972\n",
       "DIA    -0.026468\n",
       "DIA    -0.026468\n",
       "dtype: float64"
      ]
     },
     "execution_count": 165,
     "metadata": {},
     "output_type": "execute_result"
    }
   ],
   "source": [
    "sectors_across_cycles.mean(axis=0)"
   ]
  },
  {
   "cell_type": "code",
   "execution_count": 181,
   "id": "360b7716-c505-488b-966a-31d1a82b58cd",
   "metadata": {
    "tags": []
   },
   "outputs": [
    {
     "name": "stdout",
     "output_type": "stream",
     "text": [
      "recovery 19\n"
     ]
    },
    {
     "data": {
      "text/html": [
       "<style  type=\"text/css\" >\n",
       "</style><table id=\"T_486f2_\" style='display:inline'><caption>Index Return</caption><thead>    <tr>        <th class=\"blank level0\" ></th>        <th class=\"col_heading level0 col0\" >0</th>    </tr></thead><tbody>\n",
       "                <tr>\n",
       "                        <th id=\"T_486f2_level0_row0\" class=\"row_heading level0 row0\" >SP600</th>\n",
       "                        <td id=\"T_486f2_row0_col0\" class=\"data row0 col0\" >0.008813</td>\n",
       "            </tr>\n",
       "            <tr>\n",
       "                        <th id=\"T_486f2_level0_row1\" class=\"row_heading level0 row1\" >SP500</th>\n",
       "                        <td id=\"T_486f2_row1_col0\" class=\"data row1 col0\" >0.008542</td>\n",
       "            </tr>\n",
       "            <tr>\n",
       "                        <th id=\"T_486f2_level0_row2\" class=\"row_heading level0 row2\" >DOW</th>\n",
       "                        <td id=\"T_486f2_row2_col0\" class=\"data row2 col0\" >0.008228</td>\n",
       "            </tr>\n",
       "            <tr>\n",
       "                        <th id=\"T_486f2_level0_row3\" class=\"row_heading level0 row3\" >SP400</th>\n",
       "                        <td id=\"T_486f2_row3_col0\" class=\"data row3 col0\" >0.008180</td>\n",
       "            </tr>\n",
       "            <tr>\n",
       "                        <th id=\"T_486f2_level0_row4\" class=\"row_heading level0 row4\" >SP1500</th>\n",
       "                        <td id=\"T_486f2_row4_col0\" class=\"data row4 col0\" >0.007924</td>\n",
       "            </tr>\n",
       "    </tbody></table>     <style  type=\"text/css\" >\n",
       "</style><table id=\"T_9243b_\" style='display:inline'><caption>Index p-values</caption><thead>    <tr>        <th class=\"blank level0\" ></th>        <th class=\"col_heading level0 col0\" >recovery</th>    </tr></thead><tbody>\n",
       "                <tr>\n",
       "                        <th id=\"T_9243b_level0_row0\" class=\"row_heading level0 row0\" >SP600</th>\n",
       "                        <td id=\"T_9243b_row0_col0\" class=\"data row0 col0\" >0.788581</td>\n",
       "            </tr>\n",
       "            <tr>\n",
       "                        <th id=\"T_9243b_level0_row1\" class=\"row_heading level0 row1\" >SP500</th>\n",
       "                        <td id=\"T_9243b_row1_col0\" class=\"data row1 col0\" >0.838936</td>\n",
       "            </tr>\n",
       "            <tr>\n",
       "                        <th id=\"T_9243b_level0_row2\" class=\"row_heading level0 row2\" >SP1500</th>\n",
       "                        <td id=\"T_9243b_row2_col0\" class=\"data row2 col0\" >0.906910</td>\n",
       "            </tr>\n",
       "            <tr>\n",
       "                        <th id=\"T_9243b_level0_row3\" class=\"row_heading level0 row3\" >DOW</th>\n",
       "                        <td id=\"T_9243b_row3_col0\" class=\"data row3 col0\" >0.912891</td>\n",
       "            </tr>\n",
       "            <tr>\n",
       "                        <th id=\"T_9243b_level0_row4\" class=\"row_heading level0 row4\" >SP400</th>\n",
       "                        <td id=\"T_9243b_row4_col0\" class=\"data row4 col0\" >0.918854</td>\n",
       "            </tr>\n",
       "    </tbody></table>     <style  type=\"text/css\" >\n",
       "</style><table id=\"T_8b757_\" style='display:inline'><caption>Sector Return</caption><thead>    <tr>        <th class=\"blank level0\" ></th>        <th class=\"col_heading level0 col0\" >0</th>    </tr></thead><tbody>\n",
       "                <tr>\n",
       "                        <th id=\"T_8b757_level0_row0\" class=\"row_heading level0 row0\" >Real Estate</th>\n",
       "                        <td id=\"T_8b757_row0_col0\" class=\"data row0 col0\" >0.047275</td>\n",
       "            </tr>\n",
       "            <tr>\n",
       "                        <th id=\"T_8b757_level0_row1\" class=\"row_heading level0 row1\" >Financial Services</th>\n",
       "                        <td id=\"T_8b757_row1_col0\" class=\"data row1 col0\" >0.037216</td>\n",
       "            </tr>\n",
       "            <tr>\n",
       "                        <th id=\"T_8b757_level0_row2\" class=\"row_heading level0 row2\" >Energy</th>\n",
       "                        <td id=\"T_8b757_row2_col0\" class=\"data row2 col0\" >0.036559</td>\n",
       "            </tr>\n",
       "            <tr>\n",
       "                        <th id=\"T_8b757_level0_row3\" class=\"row_heading level0 row3\" >Consumer Defensive</th>\n",
       "                        <td id=\"T_8b757_row3_col0\" class=\"data row3 col0\" >0.034829</td>\n",
       "            </tr>\n",
       "            <tr>\n",
       "                        <th id=\"T_8b757_level0_row4\" class=\"row_heading level0 row4\" >Utilities</th>\n",
       "                        <td id=\"T_8b757_row4_col0\" class=\"data row4 col0\" >0.033924</td>\n",
       "            </tr>\n",
       "            <tr>\n",
       "                        <th id=\"T_8b757_level0_row5\" class=\"row_heading level0 row5\" >Technology</th>\n",
       "                        <td id=\"T_8b757_row5_col0\" class=\"data row5 col0\" >0.033414</td>\n",
       "            </tr>\n",
       "            <tr>\n",
       "                        <th id=\"T_8b757_level0_row6\" class=\"row_heading level0 row6\" >Industrials</th>\n",
       "                        <td id=\"T_8b757_row6_col0\" class=\"data row6 col0\" >0.031788</td>\n",
       "            </tr>\n",
       "            <tr>\n",
       "                        <th id=\"T_8b757_level0_row7\" class=\"row_heading level0 row7\" >Consumer Cyclical</th>\n",
       "                        <td id=\"T_8b757_row7_col0\" class=\"data row7 col0\" >0.027972</td>\n",
       "            </tr>\n",
       "            <tr>\n",
       "                        <th id=\"T_8b757_level0_row8\" class=\"row_heading level0 row8\" >Healthcare</th>\n",
       "                        <td id=\"T_8b757_row8_col0\" class=\"data row8 col0\" >0.021493</td>\n",
       "            </tr>\n",
       "            <tr>\n",
       "                        <th id=\"T_8b757_level0_row9\" class=\"row_heading level0 row9\" >Basic Materials</th>\n",
       "                        <td id=\"T_8b757_row9_col0\" class=\"data row9 col0\" >0.017077</td>\n",
       "            </tr>\n",
       "            <tr>\n",
       "                        <th id=\"T_8b757_level0_row10\" class=\"row_heading level0 row10\" >Communication Services</th>\n",
       "                        <td id=\"T_8b757_row10_col0\" class=\"data row10 col0\" >0.007819</td>\n",
       "            </tr>\n",
       "    </tbody></table>     <style  type=\"text/css\" >\n",
       "</style><table id=\"T_c021a_\" style='display:inline'><caption>Sector p-values</caption><thead>    <tr>        <th class=\"blank level0\" ></th>        <th class=\"col_heading level0 col0\" >recovery</th>    </tr></thead><tbody>\n",
       "                <tr>\n",
       "                        <th id=\"T_c021a_level0_row0\" class=\"row_heading level0 row0\" >Communication Services</th>\n",
       "                        <td id=\"T_c021a_row0_col0\" class=\"data row0 col0\" >0.852802</td>\n",
       "            </tr>\n",
       "            <tr>\n",
       "                        <th id=\"T_c021a_level0_row1\" class=\"row_heading level0 row1\" >Technology</th>\n",
       "                        <td id=\"T_c021a_row1_col0\" class=\"data row1 col0\" >0.944815</td>\n",
       "            </tr>\n",
       "            <tr>\n",
       "                        <th id=\"T_c021a_level0_row2\" class=\"row_heading level0 row2\" >Consumer Cyclical</th>\n",
       "                        <td id=\"T_c021a_row2_col0\" class=\"data row2 col0\" >0.993637</td>\n",
       "            </tr>\n",
       "            <tr>\n",
       "                        <th id=\"T_c021a_level0_row3\" class=\"row_heading level0 row3\" >Industrials</th>\n",
       "                        <td id=\"T_c021a_row3_col0\" class=\"data row3 col0\" >0.996454</td>\n",
       "            </tr>\n",
       "            <tr>\n",
       "                        <th id=\"T_c021a_level0_row4\" class=\"row_heading level0 row4\" >Utilities</th>\n",
       "                        <td id=\"T_c021a_row4_col0\" class=\"data row4 col0\" >0.998978</td>\n",
       "            </tr>\n",
       "            <tr>\n",
       "                        <th id=\"T_c021a_level0_row5\" class=\"row_heading level0 row5\" >Basic Materials</th>\n",
       "                        <td id=\"T_c021a_row5_col0\" class=\"data row5 col0\" >0.999256</td>\n",
       "            </tr>\n",
       "            <tr>\n",
       "                        <th id=\"T_c021a_level0_row6\" class=\"row_heading level0 row6\" >Consumer Defensive</th>\n",
       "                        <td id=\"T_c021a_row6_col0\" class=\"data row6 col0\" >0.999696</td>\n",
       "            </tr>\n",
       "            <tr>\n",
       "                        <th id=\"T_c021a_level0_row7\" class=\"row_heading level0 row7\" >Financial Services</th>\n",
       "                        <td id=\"T_c021a_row7_col0\" class=\"data row7 col0\" >0.999778</td>\n",
       "            </tr>\n",
       "            <tr>\n",
       "                        <th id=\"T_c021a_level0_row8\" class=\"row_heading level0 row8\" >Energy</th>\n",
       "                        <td id=\"T_c021a_row8_col0\" class=\"data row8 col0\" >0.999924</td>\n",
       "            </tr>\n",
       "            <tr>\n",
       "                        <th id=\"T_c021a_level0_row9\" class=\"row_heading level0 row9\" >Healthcare</th>\n",
       "                        <td id=\"T_c021a_row9_col0\" class=\"data row9 col0\" >0.999945</td>\n",
       "            </tr>\n",
       "            <tr>\n",
       "                        <th id=\"T_c021a_level0_row10\" class=\"row_heading level0 row10\" >Real Estate</th>\n",
       "                        <td id=\"T_c021a_row10_col0\" class=\"data row10 col0\" >0.999992</td>\n",
       "            </tr>\n",
       "    </tbody></table>     "
      ],
      "text/plain": [
       "<IPython.core.display.HTML object>"
      ]
     },
     "metadata": {},
     "output_type": "display_data"
    },
    {
     "name": "stdout",
     "output_type": "stream",
     "text": [
      "expansion 83\n"
     ]
    },
    {
     "data": {
      "text/html": [
       "<style  type=\"text/css\" >\n",
       "</style><table id=\"T_e8257_\" style='display:inline'><caption>Index Return</caption><thead>    <tr>        <th class=\"blank level0\" ></th>        <th class=\"col_heading level0 col0\" >0</th>    </tr></thead><tbody>\n",
       "                <tr>\n",
       "                        <th id=\"T_e8257_level0_row0\" class=\"row_heading level0 row0\" >SP600</th>\n",
       "                        <td id=\"T_e8257_row0_col0\" class=\"data row0 col0\" >0.008813</td>\n",
       "            </tr>\n",
       "            <tr>\n",
       "                        <th id=\"T_e8257_level0_row1\" class=\"row_heading level0 row1\" >SP500</th>\n",
       "                        <td id=\"T_e8257_row1_col0\" class=\"data row1 col0\" >0.008542</td>\n",
       "            </tr>\n",
       "            <tr>\n",
       "                        <th id=\"T_e8257_level0_row2\" class=\"row_heading level0 row2\" >DOW</th>\n",
       "                        <td id=\"T_e8257_row2_col0\" class=\"data row2 col0\" >0.008228</td>\n",
       "            </tr>\n",
       "            <tr>\n",
       "                        <th id=\"T_e8257_level0_row3\" class=\"row_heading level0 row3\" >SP400</th>\n",
       "                        <td id=\"T_e8257_row3_col0\" class=\"data row3 col0\" >0.008180</td>\n",
       "            </tr>\n",
       "            <tr>\n",
       "                        <th id=\"T_e8257_level0_row4\" class=\"row_heading level0 row4\" >SP1500</th>\n",
       "                        <td id=\"T_e8257_row4_col0\" class=\"data row4 col0\" >0.007924</td>\n",
       "            </tr>\n",
       "    </tbody></table>     <style  type=\"text/css\" >\n",
       "</style><table id=\"T_de893_\" style='display:inline'><caption>Index p-values</caption><thead>    <tr>        <th class=\"blank level0\" ></th>        <th class=\"col_heading level0 col0\" >expansion</th>    </tr></thead><tbody>\n",
       "                <tr>\n",
       "                        <th id=\"T_de893_level0_row0\" class=\"row_heading level0 row0\" >SP600</th>\n",
       "                        <td id=\"T_de893_row0_col0\" class=\"data row0 col0\" >0.990550</td>\n",
       "            </tr>\n",
       "            <tr>\n",
       "                        <th id=\"T_de893_level0_row1\" class=\"row_heading level0 row1\" >SP500</th>\n",
       "                        <td id=\"T_de893_row1_col0\" class=\"data row1 col0\" >0.992806</td>\n",
       "            </tr>\n",
       "            <tr>\n",
       "                        <th id=\"T_de893_level0_row2\" class=\"row_heading level0 row2\" >DOW</th>\n",
       "                        <td id=\"T_de893_row2_col0\" class=\"data row2 col0\" >0.997059</td>\n",
       "            </tr>\n",
       "            <tr>\n",
       "                        <th id=\"T_de893_level0_row3\" class=\"row_heading level0 row3\" >SP400</th>\n",
       "                        <td id=\"T_de893_row3_col0\" class=\"data row3 col0\" >0.997395</td>\n",
       "            </tr>\n",
       "            <tr>\n",
       "                        <th id=\"T_de893_level0_row4\" class=\"row_heading level0 row4\" >SP1500</th>\n",
       "                        <td id=\"T_de893_row4_col0\" class=\"data row4 col0\" >0.998103</td>\n",
       "            </tr>\n",
       "    </tbody></table>     <style  type=\"text/css\" >\n",
       "</style><table id=\"T_ed8f2_\" style='display:inline'><caption>Sector Return</caption><thead>    <tr>        <th class=\"blank level0\" ></th>        <th class=\"col_heading level0 col0\" >0</th>    </tr></thead><tbody>\n",
       "                <tr>\n",
       "                        <th id=\"T_ed8f2_level0_row0\" class=\"row_heading level0 row0\" >Energy</th>\n",
       "                        <td id=\"T_ed8f2_row0_col0\" class=\"data row0 col0\" >0.015716</td>\n",
       "            </tr>\n",
       "            <tr>\n",
       "                        <th id=\"T_ed8f2_level0_row1\" class=\"row_heading level0 row1\" >Real Estate</th>\n",
       "                        <td id=\"T_ed8f2_row1_col0\" class=\"data row1 col0\" >0.013480</td>\n",
       "            </tr>\n",
       "            <tr>\n",
       "                        <th id=\"T_ed8f2_level0_row2\" class=\"row_heading level0 row2\" >Healthcare</th>\n",
       "                        <td id=\"T_ed8f2_row2_col0\" class=\"data row2 col0\" >0.012036</td>\n",
       "            </tr>\n",
       "            <tr>\n",
       "                        <th id=\"T_ed8f2_level0_row3\" class=\"row_heading level0 row3\" >Financial Services</th>\n",
       "                        <td id=\"T_ed8f2_row3_col0\" class=\"data row3 col0\" >0.010630</td>\n",
       "            </tr>\n",
       "            <tr>\n",
       "                        <th id=\"T_ed8f2_level0_row4\" class=\"row_heading level0 row4\" >Communication Services</th>\n",
       "                        <td id=\"T_ed8f2_row4_col0\" class=\"data row4 col0\" >0.010629</td>\n",
       "            </tr>\n",
       "            <tr>\n",
       "                        <th id=\"T_ed8f2_level0_row5\" class=\"row_heading level0 row5\" >Consumer Defensive</th>\n",
       "                        <td id=\"T_ed8f2_row5_col0\" class=\"data row5 col0\" >0.009991</td>\n",
       "            </tr>\n",
       "            <tr>\n",
       "                        <th id=\"T_ed8f2_level0_row6\" class=\"row_heading level0 row6\" >Basic Materials</th>\n",
       "                        <td id=\"T_ed8f2_row6_col0\" class=\"data row6 col0\" >0.009526</td>\n",
       "            </tr>\n",
       "            <tr>\n",
       "                        <th id=\"T_ed8f2_level0_row7\" class=\"row_heading level0 row7\" >Consumer Cyclical</th>\n",
       "                        <td id=\"T_ed8f2_row7_col0\" class=\"data row7 col0\" >0.008916</td>\n",
       "            </tr>\n",
       "            <tr>\n",
       "                        <th id=\"T_ed8f2_level0_row8\" class=\"row_heading level0 row8\" >Industrials</th>\n",
       "                        <td id=\"T_ed8f2_row8_col0\" class=\"data row8 col0\" >0.008746</td>\n",
       "            </tr>\n",
       "            <tr>\n",
       "                        <th id=\"T_ed8f2_level0_row9\" class=\"row_heading level0 row9\" >Utilities</th>\n",
       "                        <td id=\"T_ed8f2_row9_col0\" class=\"data row9 col0\" >0.008451</td>\n",
       "            </tr>\n",
       "            <tr>\n",
       "                        <th id=\"T_ed8f2_level0_row10\" class=\"row_heading level0 row10\" >Technology</th>\n",
       "                        <td id=\"T_ed8f2_row10_col0\" class=\"data row10 col0\" >0.005714</td>\n",
       "            </tr>\n",
       "    </tbody></table>     <style  type=\"text/css\" >\n",
       "</style><table id=\"T_80341_\" style='display:inline'><caption>Sector p-values</caption><thead>    <tr>        <th class=\"blank level0\" ></th>        <th class=\"col_heading level0 col0\" >expansion</th>    </tr></thead><tbody>\n",
       "                <tr>\n",
       "                        <th id=\"T_80341_level0_row0\" class=\"row_heading level0 row0\" >Technology</th>\n",
       "                        <td id=\"T_80341_row0_col0\" class=\"data row0 col0\" >0.856087</td>\n",
       "            </tr>\n",
       "            <tr>\n",
       "                        <th id=\"T_80341_level0_row1\" class=\"row_heading level0 row1\" >Industrials</th>\n",
       "                        <td id=\"T_80341_row1_col0\" class=\"data row1 col0\" >0.989371</td>\n",
       "            </tr>\n",
       "            <tr>\n",
       "                        <th id=\"T_80341_level0_row2\" class=\"row_heading level0 row2\" >Consumer Cyclical</th>\n",
       "                        <td id=\"T_80341_row2_col0\" class=\"data row2 col0\" >0.993884</td>\n",
       "            </tr>\n",
       "            <tr>\n",
       "                        <th id=\"T_80341_level0_row3\" class=\"row_heading level0 row3\" >Consumer Defensive</th>\n",
       "                        <td id=\"T_80341_row3_col0\" class=\"data row3 col0\" >0.994260</td>\n",
       "            </tr>\n",
       "            <tr>\n",
       "                        <th id=\"T_80341_level0_row4\" class=\"row_heading level0 row4\" >Utilities</th>\n",
       "                        <td id=\"T_80341_row4_col0\" class=\"data row4 col0\" >0.997032</td>\n",
       "            </tr>\n",
       "            <tr>\n",
       "                        <th id=\"T_80341_level0_row5\" class=\"row_heading level0 row5\" >Financial Services</th>\n",
       "                        <td id=\"T_80341_row5_col0\" class=\"data row5 col0\" >0.997326</td>\n",
       "            </tr>\n",
       "            <tr>\n",
       "                        <th id=\"T_80341_level0_row6\" class=\"row_heading level0 row6\" >Healthcare</th>\n",
       "                        <td id=\"T_80341_row6_col0\" class=\"data row6 col0\" >0.999891</td>\n",
       "            </tr>\n",
       "            <tr>\n",
       "                        <th id=\"T_80341_level0_row7\" class=\"row_heading level0 row7\" >Real Estate</th>\n",
       "                        <td id=\"T_80341_row7_col0\" class=\"data row7 col0\" >0.999949</td>\n",
       "            </tr>\n",
       "            <tr>\n",
       "                        <th id=\"T_80341_level0_row8\" class=\"row_heading level0 row8\" >Communication Services</th>\n",
       "                        <td id=\"T_80341_row8_col0\" class=\"data row8 col0\" >0.999952</td>\n",
       "            </tr>\n",
       "            <tr>\n",
       "                        <th id=\"T_80341_level0_row9\" class=\"row_heading level0 row9\" >Basic Materials</th>\n",
       "                        <td id=\"T_80341_row9_col0\" class=\"data row9 col0\" >0.999960</td>\n",
       "            </tr>\n",
       "            <tr>\n",
       "                        <th id=\"T_80341_level0_row10\" class=\"row_heading level0 row10\" >Energy</th>\n",
       "                        <td id=\"T_80341_row10_col0\" class=\"data row10 col0\" >0.999976</td>\n",
       "            </tr>\n",
       "    </tbody></table>     "
      ],
      "text/plain": [
       "<IPython.core.display.HTML object>"
      ]
     },
     "metadata": {},
     "output_type": "display_data"
    },
    {
     "name": "stdout",
     "output_type": "stream",
     "text": [
      "slowdown 96\n"
     ]
    },
    {
     "data": {
      "text/html": [
       "<style  type=\"text/css\" >\n",
       "</style><table id=\"T_6746b_\" style='display:inline'><caption>Index Return</caption><thead>    <tr>        <th class=\"blank level0\" ></th>        <th class=\"col_heading level0 col0\" >0</th>    </tr></thead><tbody>\n",
       "                <tr>\n",
       "                        <th id=\"T_6746b_level0_row0\" class=\"row_heading level0 row0\" >SP600</th>\n",
       "                        <td id=\"T_6746b_row0_col0\" class=\"data row0 col0\" >0.008813</td>\n",
       "            </tr>\n",
       "            <tr>\n",
       "                        <th id=\"T_6746b_level0_row1\" class=\"row_heading level0 row1\" >SP500</th>\n",
       "                        <td id=\"T_6746b_row1_col0\" class=\"data row1 col0\" >0.008542</td>\n",
       "            </tr>\n",
       "            <tr>\n",
       "                        <th id=\"T_6746b_level0_row2\" class=\"row_heading level0 row2\" >DOW</th>\n",
       "                        <td id=\"T_6746b_row2_col0\" class=\"data row2 col0\" >0.008228</td>\n",
       "            </tr>\n",
       "            <tr>\n",
       "                        <th id=\"T_6746b_level0_row3\" class=\"row_heading level0 row3\" >SP400</th>\n",
       "                        <td id=\"T_6746b_row3_col0\" class=\"data row3 col0\" >0.008180</td>\n",
       "            </tr>\n",
       "            <tr>\n",
       "                        <th id=\"T_6746b_level0_row4\" class=\"row_heading level0 row4\" >SP1500</th>\n",
       "                        <td id=\"T_6746b_row4_col0\" class=\"data row4 col0\" >0.007924</td>\n",
       "            </tr>\n",
       "    </tbody></table>     <style  type=\"text/css\" >\n",
       "</style><table id=\"T_e9a9e_\" style='display:inline'><caption>Index p-values</caption><thead>    <tr>        <th class=\"blank level0\" ></th>        <th class=\"col_heading level0 col0\" >slowdown</th>    </tr></thead><tbody>\n",
       "                <tr>\n",
       "                        <th id=\"T_e9a9e_level0_row0\" class=\"row_heading level0 row0\" >SP600</th>\n",
       "                        <td id=\"T_e9a9e_row0_col0\" class=\"data row0 col0\" >0.992875</td>\n",
       "            </tr>\n",
       "            <tr>\n",
       "                        <th id=\"T_e9a9e_level0_row1\" class=\"row_heading level0 row1\" >SP500</th>\n",
       "                        <td id=\"T_e9a9e_row1_col0\" class=\"data row1 col0\" >0.994568</td>\n",
       "            </tr>\n",
       "            <tr>\n",
       "                        <th id=\"T_e9a9e_level0_row2\" class=\"row_heading level0 row2\" >SP1500</th>\n",
       "                        <td id=\"T_e9a9e_row2_col0\" class=\"data row2 col0\" >0.996998</td>\n",
       "            </tr>\n",
       "            <tr>\n",
       "                        <th id=\"T_e9a9e_level0_row3\" class=\"row_heading level0 row3\" >DOW</th>\n",
       "                        <td id=\"T_e9a9e_row3_col0\" class=\"data row3 col0\" >0.998152</td>\n",
       "            </tr>\n",
       "            <tr>\n",
       "                        <th id=\"T_e9a9e_level0_row4\" class=\"row_heading level0 row4\" >SP400</th>\n",
       "                        <td id=\"T_e9a9e_row4_col0\" class=\"data row4 col0\" >0.998342</td>\n",
       "            </tr>\n",
       "    </tbody></table>     <style  type=\"text/css\" >\n",
       "</style><table id=\"T_34f5e_\" style='display:inline'><caption>Sector Return</caption><thead>    <tr>        <th class=\"blank level0\" ></th>        <th class=\"col_heading level0 col0\" >0</th>    </tr></thead><tbody>\n",
       "                <tr>\n",
       "                        <th id=\"T_34f5e_level0_row0\" class=\"row_heading level0 row0\" >Communication Services</th>\n",
       "                        <td id=\"T_34f5e_row0_col0\" class=\"data row0 col0\" >0.008536</td>\n",
       "            </tr>\n",
       "            <tr>\n",
       "                        <th id=\"T_34f5e_level0_row1\" class=\"row_heading level0 row1\" >Consumer Cyclical</th>\n",
       "                        <td id=\"T_34f5e_row1_col0\" class=\"data row1 col0\" >0.008073</td>\n",
       "            </tr>\n",
       "            <tr>\n",
       "                        <th id=\"T_34f5e_level0_row2\" class=\"row_heading level0 row2\" >Basic Materials</th>\n",
       "                        <td id=\"T_34f5e_row2_col0\" class=\"data row2 col0\" >0.007579</td>\n",
       "            </tr>\n",
       "            <tr>\n",
       "                        <th id=\"T_34f5e_level0_row3\" class=\"row_heading level0 row3\" >Technology</th>\n",
       "                        <td id=\"T_34f5e_row3_col0\" class=\"data row3 col0\" >0.007302</td>\n",
       "            </tr>\n",
       "            <tr>\n",
       "                        <th id=\"T_34f5e_level0_row4\" class=\"row_heading level0 row4\" >Healthcare</th>\n",
       "                        <td id=\"T_34f5e_row4_col0\" class=\"data row4 col0\" >0.006539</td>\n",
       "            </tr>\n",
       "            <tr>\n",
       "                        <th id=\"T_34f5e_level0_row5\" class=\"row_heading level0 row5\" >Energy</th>\n",
       "                        <td id=\"T_34f5e_row5_col0\" class=\"data row5 col0\" >0.006465</td>\n",
       "            </tr>\n",
       "            <tr>\n",
       "                        <th id=\"T_34f5e_level0_row6\" class=\"row_heading level0 row6\" >Financial Services</th>\n",
       "                        <td id=\"T_34f5e_row6_col0\" class=\"data row6 col0\" >0.006413</td>\n",
       "            </tr>\n",
       "            <tr>\n",
       "                        <th id=\"T_34f5e_level0_row7\" class=\"row_heading level0 row7\" >Consumer Defensive</th>\n",
       "                        <td id=\"T_34f5e_row7_col0\" class=\"data row7 col0\" >0.006137</td>\n",
       "            </tr>\n",
       "            <tr>\n",
       "                        <th id=\"T_34f5e_level0_row8\" class=\"row_heading level0 row8\" >Real Estate</th>\n",
       "                        <td id=\"T_34f5e_row8_col0\" class=\"data row8 col0\" >0.003462</td>\n",
       "            </tr>\n",
       "            <tr>\n",
       "                        <th id=\"T_34f5e_level0_row9\" class=\"row_heading level0 row9\" >Industrials</th>\n",
       "                        <td id=\"T_34f5e_row9_col0\" class=\"data row9 col0\" >0.003037</td>\n",
       "            </tr>\n",
       "            <tr>\n",
       "                        <th id=\"T_34f5e_level0_row10\" class=\"row_heading level0 row10\" >Utilities</th>\n",
       "                        <td id=\"T_34f5e_row10_col0\" class=\"data row10 col0\" >0.002502</td>\n",
       "            </tr>\n",
       "    </tbody></table>     <style  type=\"text/css\" >\n",
       "</style><table id=\"T_73352_\" style='display:inline'><caption>Sector p-values</caption><thead>    <tr>        <th class=\"blank level0\" ></th>        <th class=\"col_heading level0 col0\" >slowdown</th>    </tr></thead><tbody>\n",
       "                <tr>\n",
       "                        <th id=\"T_73352_level0_row0\" class=\"row_heading level0 row0\" >Utilities</th>\n",
       "                        <td id=\"T_73352_row0_col0\" class=\"data row0 col0\" >0.758391</td>\n",
       "            </tr>\n",
       "            <tr>\n",
       "                        <th id=\"T_73352_level0_row1\" class=\"row_heading level0 row1\" >Industrials</th>\n",
       "                        <td id=\"T_73352_row1_col0\" class=\"data row1 col0\" >0.779158</td>\n",
       "            </tr>\n",
       "            <tr>\n",
       "                        <th id=\"T_73352_level0_row2\" class=\"row_heading level0 row2\" >Real Estate</th>\n",
       "                        <td id=\"T_73352_row2_col0\" class=\"data row2 col0\" >0.831031</td>\n",
       "            </tr>\n",
       "            <tr>\n",
       "                        <th id=\"T_73352_level0_row3\" class=\"row_heading level0 row3\" >Technology</th>\n",
       "                        <td id=\"T_73352_row3_col0\" class=\"data row3 col0\" >0.916019</td>\n",
       "            </tr>\n",
       "            <tr>\n",
       "                        <th id=\"T_73352_level0_row4\" class=\"row_heading level0 row4\" >Consumer Defensive</th>\n",
       "                        <td id=\"T_73352_row4_col0\" class=\"data row4 col0\" >0.943496</td>\n",
       "            </tr>\n",
       "            <tr>\n",
       "                        <th id=\"T_73352_level0_row5\" class=\"row_heading level0 row5\" >Energy</th>\n",
       "                        <td id=\"T_73352_row5_col0\" class=\"data row5 col0\" >0.951603</td>\n",
       "            </tr>\n",
       "            <tr>\n",
       "                        <th id=\"T_73352_level0_row6\" class=\"row_heading level0 row6\" >Financial Services</th>\n",
       "                        <td id=\"T_73352_row6_col0\" class=\"data row6 col0\" >0.969689</td>\n",
       "            </tr>\n",
       "            <tr>\n",
       "                        <th id=\"T_73352_level0_row7\" class=\"row_heading level0 row7\" >Consumer Cyclical</th>\n",
       "                        <td id=\"T_73352_row7_col0\" class=\"data row7 col0\" >0.983714</td>\n",
       "            </tr>\n",
       "            <tr>\n",
       "                        <th id=\"T_73352_level0_row8\" class=\"row_heading level0 row8\" >Healthcare</th>\n",
       "                        <td id=\"T_73352_row8_col0\" class=\"data row8 col0\" >0.988549</td>\n",
       "            </tr>\n",
       "            <tr>\n",
       "                        <th id=\"T_73352_level0_row9\" class=\"row_heading level0 row9\" >Communication Services</th>\n",
       "                        <td id=\"T_73352_row9_col0\" class=\"data row9 col0\" >0.997622</td>\n",
       "            </tr>\n",
       "            <tr>\n",
       "                        <th id=\"T_73352_level0_row10\" class=\"row_heading level0 row10\" >Basic Materials</th>\n",
       "                        <td id=\"T_73352_row10_col0\" class=\"data row10 col0\" >0.999778</td>\n",
       "            </tr>\n",
       "    </tbody></table>     "
      ],
      "text/plain": [
       "<IPython.core.display.HTML object>"
      ]
     },
     "metadata": {},
     "output_type": "display_data"
    },
    {
     "name": "stdout",
     "output_type": "stream",
     "text": [
      "recession 15\n"
     ]
    },
    {
     "data": {
      "text/html": [
       "<style  type=\"text/css\" >\n",
       "</style><table id=\"T_a16a2_\" style='display:inline'><caption>Index Return</caption><thead>    <tr>        <th class=\"blank level0\" ></th>        <th class=\"col_heading level0 col0\" >0</th>    </tr></thead><tbody>\n",
       "                <tr>\n",
       "                        <th id=\"T_a16a2_level0_row0\" class=\"row_heading level0 row0\" >SP600</th>\n",
       "                        <td id=\"T_a16a2_row0_col0\" class=\"data row0 col0\" >0.008813</td>\n",
       "            </tr>\n",
       "            <tr>\n",
       "                        <th id=\"T_a16a2_level0_row1\" class=\"row_heading level0 row1\" >SP500</th>\n",
       "                        <td id=\"T_a16a2_row1_col0\" class=\"data row1 col0\" >0.008542</td>\n",
       "            </tr>\n",
       "            <tr>\n",
       "                        <th id=\"T_a16a2_level0_row2\" class=\"row_heading level0 row2\" >DOW</th>\n",
       "                        <td id=\"T_a16a2_row2_col0\" class=\"data row2 col0\" >0.008228</td>\n",
       "            </tr>\n",
       "            <tr>\n",
       "                        <th id=\"T_a16a2_level0_row3\" class=\"row_heading level0 row3\" >SP400</th>\n",
       "                        <td id=\"T_a16a2_row3_col0\" class=\"data row3 col0\" >0.008180</td>\n",
       "            </tr>\n",
       "            <tr>\n",
       "                        <th id=\"T_a16a2_level0_row4\" class=\"row_heading level0 row4\" >SP1500</th>\n",
       "                        <td id=\"T_a16a2_row4_col0\" class=\"data row4 col0\" >0.007924</td>\n",
       "            </tr>\n",
       "    </tbody></table>     <style  type=\"text/css\" >\n",
       "</style><table id=\"T_e1984_\" style='display:inline'><caption>Index p-values</caption><thead>    <tr>        <th class=\"blank level0\" ></th>        <th class=\"col_heading level0 col0\" >recession</th>    </tr></thead><tbody>\n",
       "                <tr>\n",
       "                        <th id=\"T_e1984_level0_row0\" class=\"row_heading level0 row0\" >SP600</th>\n",
       "                        <td id=\"T_e1984_row0_col0\" class=\"data row0 col0\" >0.597111</td>\n",
       "            </tr>\n",
       "            <tr>\n",
       "                        <th id=\"T_e1984_level0_row1\" class=\"row_heading level0 row1\" >SP500</th>\n",
       "                        <td id=\"T_e1984_row1_col0\" class=\"data row1 col0\" >0.599228</td>\n",
       "            </tr>\n",
       "            <tr>\n",
       "                        <th id=\"T_e1984_level0_row2\" class=\"row_heading level0 row2\" >DOW</th>\n",
       "                        <td id=\"T_e1984_row2_col0\" class=\"data row2 col0\" >0.618447</td>\n",
       "            </tr>\n",
       "            <tr>\n",
       "                        <th id=\"T_e1984_level0_row3\" class=\"row_heading level0 row3\" >SP400</th>\n",
       "                        <td id=\"T_e1984_row3_col0\" class=\"data row3 col0\" >0.618919</td>\n",
       "            </tr>\n",
       "            <tr>\n",
       "                        <th id=\"T_e1984_level0_row4\" class=\"row_heading level0 row4\" >SP1500</th>\n",
       "                        <td id=\"T_e1984_row4_col0\" class=\"data row4 col0\" >0.620630</td>\n",
       "            </tr>\n",
       "    </tbody></table>     <style  type=\"text/css\" >\n",
       "</style><table id=\"T_c9c91_\" style='display:inline'><caption>Sector Return</caption><thead>    <tr>        <th class=\"blank level0\" ></th>        <th class=\"col_heading level0 col0\" >0</th>    </tr></thead><tbody>\n",
       "                <tr>\n",
       "                        <th id=\"T_c9c91_level0_row0\" class=\"row_heading level0 row0\" >Healthcare</th>\n",
       "                        <td id=\"T_c9c91_row0_col0\" class=\"data row0 col0\" >-0.007925</td>\n",
       "            </tr>\n",
       "            <tr>\n",
       "                        <th id=\"T_c9c91_level0_row1\" class=\"row_heading level0 row1\" >Basic Materials</th>\n",
       "                        <td id=\"T_c9c91_row1_col0\" class=\"data row1 col0\" >-0.009829</td>\n",
       "            </tr>\n",
       "            <tr>\n",
       "                        <th id=\"T_c9c91_level0_row2\" class=\"row_heading level0 row2\" >Energy</th>\n",
       "                        <td id=\"T_c9c91_row2_col0\" class=\"data row2 col0\" >-0.009921</td>\n",
       "            </tr>\n",
       "            <tr>\n",
       "                        <th id=\"T_c9c91_level0_row3\" class=\"row_heading level0 row3\" >Real Estate</th>\n",
       "                        <td id=\"T_c9c91_row3_col0\" class=\"data row3 col0\" >-0.011106</td>\n",
       "            </tr>\n",
       "            <tr>\n",
       "                        <th id=\"T_c9c91_level0_row4\" class=\"row_heading level0 row4\" >Utilities</th>\n",
       "                        <td id=\"T_c9c91_row4_col0\" class=\"data row4 col0\" >-0.016560</td>\n",
       "            </tr>\n",
       "            <tr>\n",
       "                        <th id=\"T_c9c91_level0_row5\" class=\"row_heading level0 row5\" >Communication Services</th>\n",
       "                        <td id=\"T_c9c91_row5_col0\" class=\"data row5 col0\" >-0.018723</td>\n",
       "            </tr>\n",
       "            <tr>\n",
       "                        <th id=\"T_c9c91_level0_row6\" class=\"row_heading level0 row6\" >Consumer Defensive</th>\n",
       "                        <td id=\"T_c9c91_row6_col0\" class=\"data row6 col0\" >-0.020037</td>\n",
       "            </tr>\n",
       "            <tr>\n",
       "                        <th id=\"T_c9c91_level0_row7\" class=\"row_heading level0 row7\" >Industrials</th>\n",
       "                        <td id=\"T_c9c91_row7_col0\" class=\"data row7 col0\" >-0.028467</td>\n",
       "            </tr>\n",
       "            <tr>\n",
       "                        <th id=\"T_c9c91_level0_row8\" class=\"row_heading level0 row8\" >Consumer Cyclical</th>\n",
       "                        <td id=\"T_c9c91_row8_col0\" class=\"data row8 col0\" >-0.030479</td>\n",
       "            </tr>\n",
       "            <tr>\n",
       "                        <th id=\"T_c9c91_level0_row9\" class=\"row_heading level0 row9\" >Financial Services</th>\n",
       "                        <td id=\"T_c9c91_row9_col0\" class=\"data row9 col0\" >-0.030763</td>\n",
       "            </tr>\n",
       "            <tr>\n",
       "                        <th id=\"T_c9c91_level0_row10\" class=\"row_heading level0 row10\" >Technology</th>\n",
       "                        <td id=\"T_c9c91_row10_col0\" class=\"data row10 col0\" >-0.035138</td>\n",
       "            </tr>\n",
       "    </tbody></table>     <style  type=\"text/css\" >\n",
       "</style><table id=\"T_64379_\" style='display:inline'><caption>Sector p-values</caption><thead>    <tr>        <th class=\"blank level0\" ></th>        <th class=\"col_heading level0 col0\" >recession</th>    </tr></thead><tbody>\n",
       "                <tr>\n",
       "                        <th id=\"T_64379_level0_row0\" class=\"row_heading level0 row0\" >Financial Services</th>\n",
       "                        <td id=\"T_64379_row0_col0\" class=\"data row0 col0\" >0.186938</td>\n",
       "            </tr>\n",
       "            <tr>\n",
       "                        <th id=\"T_64379_level0_row1\" class=\"row_heading level0 row1\" >Technology</th>\n",
       "                        <td id=\"T_64379_row1_col0\" class=\"data row1 col0\" >0.193796</td>\n",
       "            </tr>\n",
       "            <tr>\n",
       "                        <th id=\"T_64379_level0_row2\" class=\"row_heading level0 row2\" >Communication Services</th>\n",
       "                        <td id=\"T_64379_row2_col0\" class=\"data row2 col0\" >0.212464</td>\n",
       "            </tr>\n",
       "            <tr>\n",
       "                        <th id=\"T_64379_level0_row3\" class=\"row_heading level0 row3\" >Consumer Cyclical</th>\n",
       "                        <td id=\"T_64379_row3_col0\" class=\"data row3 col0\" >0.224311</td>\n",
       "            </tr>\n",
       "            <tr>\n",
       "                        <th id=\"T_64379_level0_row4\" class=\"row_heading level0 row4\" >Industrials</th>\n",
       "                        <td id=\"T_64379_row4_col0\" class=\"data row4 col0\" >0.243471</td>\n",
       "            </tr>\n",
       "            <tr>\n",
       "                        <th id=\"T_64379_level0_row5\" class=\"row_heading level0 row5\" >Utilities</th>\n",
       "                        <td id=\"T_64379_row5_col0\" class=\"data row5 col0\" >0.264737</td>\n",
       "            </tr>\n",
       "            <tr>\n",
       "                        <th id=\"T_64379_level0_row6\" class=\"row_heading level0 row6\" >Consumer Defensive</th>\n",
       "                        <td id=\"T_64379_row6_col0\" class=\"data row6 col0\" >0.291834</td>\n",
       "            </tr>\n",
       "            <tr>\n",
       "                        <th id=\"T_64379_level0_row7\" class=\"row_heading level0 row7\" >Basic Materials</th>\n",
       "                        <td id=\"T_64379_row7_col0\" class=\"data row7 col0\" >0.295187</td>\n",
       "            </tr>\n",
       "            <tr>\n",
       "                        <th id=\"T_64379_level0_row8\" class=\"row_heading level0 row8\" >Healthcare</th>\n",
       "                        <td id=\"T_64379_row8_col0\" class=\"data row8 col0\" >0.359192</td>\n",
       "            </tr>\n",
       "            <tr>\n",
       "                        <th id=\"T_64379_level0_row9\" class=\"row_heading level0 row9\" >Energy</th>\n",
       "                        <td id=\"T_64379_row9_col0\" class=\"data row9 col0\" >0.363484</td>\n",
       "            </tr>\n",
       "            <tr>\n",
       "                        <th id=\"T_64379_level0_row10\" class=\"row_heading level0 row10\" >Real Estate</th>\n",
       "                        <td id=\"T_64379_row10_col0\" class=\"data row10 col0\" >0.375334</td>\n",
       "            </tr>\n",
       "    </tbody></table>     "
      ],
      "text/plain": [
       "<IPython.core.display.HTML object>"
      ]
     },
     "metadata": {},
     "output_type": "display_data"
    }
   ],
   "source": [
    "for bc in ['recovery','expansion','slowdown','recession']:    \n",
    "    subset = business_cycles_sectors_indexes[business_cycles_sectors_indexes[bc]==True]\n",
    "    #print(subset)\n",
    "    n = len(subset)\n",
    "    print(bc,n)    \n",
    "    #i_m_subset_mean = pd.DataFrame(subset[indexes].mean(axis=0))#T#-business_cycles_sectors_indexes[business_cycles_sectors_indexes[bc]==True]['DIA'].mean()\n",
    "    #i_m = pd.DataFrame(business_cycles_sectors_indexes.mean().loc[i_m_subset_mean.index]).T\n",
    "    i_m = pd.DataFrame(business_cycles_sectors_indexes.mean().loc[i_m_subset_mean.index]).T\n",
    "    \n",
    "    \"\"\"\n",
    "    indexes_across_cycles = pd.DataFrame()\n",
    "    for ei in indexes:\n",
    "        indexes_across_cycles = pd.concat([indexes_across_cycles,subset[ei]-pd.DataFrame(business_cycles_sectors_indexes.mean(axis=0)).T.loc[0][ei]],axis=1)\n",
    "    \"\"\" \n",
    "    \n",
    "    #i_m = subset[indexes]-pd.DataFrame(business_cycles_sectors_indexes.mean(axis=0)).T.loc[0][9:14]\n",
    "    #i_m_over_index = pd.DataFrame(subset[indexes].mean(axis=0)).T-business_cycles_sectors_indexes[business_cycles_sectors_indexes[bc]==True]['DIA'].mean()\n",
    "    i_s = pd.DataFrame(subset[indexes].std(axis=0)).T\n",
    "    \n",
    "    #i_z = i_m/i_s\n",
    "    \n",
    "    #testing if aggregated index/cycle performance is significantly different from 0\n",
    "    \n",
    "    i_t = (i_m)/(i_s/np.sqrt(n))\n",
    "    i_m.columns = [dict_indexes[i] for i in i_m.columns]\n",
    "    p_values = pd.DataFrame(t.cdf(i_t, df=n-2),index=[bc],columns=i_m.columns)\n",
    "    st.norm.cdf(1.64)\n",
    "    \n",
    "    df0 = i_m.T.sort_values(by=0,ascending=False)\n",
    "    #display(i_m.T.sort_values(by=0,ascending=False))\n",
    "    \n",
    "    df1 = p_values.T.sort_values(by=p_values.index[0])\n",
    "    #display(p_values.T.sort_values(by=p_values.index[0]))#.style.applymap(highlight_cells, threshold=.05)\n",
    "    \n",
    "    s_m = pd.DataFrame(subset[sectors].mean(axis=0)).T\n",
    "    #s_m_subset_mean = pd.DataFrame(subset[sectors].mean(axis=0))##-business_cycles_sectors_indexes[business_cycles_sectors_indexes[bc]==True]['DIA'].mean()\n",
    "    #s_m = pd.DataFrame(business_cycles_sectors_indexes.mean().loc[s_m_subset_mean.index]).T\n",
    "    \n",
    "    sectors_across_cycles = pd.DataFrame()\n",
    "    for es in indexes:\n",
    "        sectors_across_cycles = pd.concat([sector_across_cycles,subset[es]-pd.DataFrame(business_cycles_sectors_indexes.mean(axis=0)).T.loc[0][es]],axis=1)\n",
    "    \n",
    "    #s_m = pd.DataFrame(subset[sectors].mean(axis=0)).T-pd.DataFrame(business_cycles_sectors_indexes.mean(axis=0)).T.loc[0][14:]\n",
    "    #s_m_over_index = pd.DataFrame(subset[sectors].mean(axis=0)).T-business_cycles_sectors_indexes[business_cycles_sectors_indexes[bc]==True]['DIA'].mean()\n",
    "    #sector_over_cycle = s_m_over_sector = pd.DataFrame(subset[sectors].mean(axis=0)).T-business_cycles_sectors_indexes[business_cycles_sectors_indexes[bc]==True]['DIA'].mean()\n",
    "    \n",
    "    s_s = pd.DataFrame(subset[sectors].std(axis=0)).T\n",
    "    #s_z = s_m/s_s\n",
    "    \n",
    "    #A p score < .05 would indicate that the return (represented as a t-score) is significantly different than 0.\n",
    "    #testing if aggregated sector/cycle performance is significantly different from 0\n",
    "    s_t = (s_m)/(s_s/np.sqrt(n))\n",
    "    s_m.columns = [dict_sectors_reverse[s] for s in s_m.columns]\n",
    "    p_values = pd.DataFrame(t.cdf(s_t, df=n-2),index=[bc],columns=s_m.columns)\n",
    "    s_m = s_m.T.sort_values(by=0,ascending=False).T\n",
    "    \n",
    "    df2 = s_m.T.sort_values(by=0,ascending=False)\n",
    "    #display(s_m.T.sort_values(by=0,ascending=False))\n",
    "    #print(pd.DataFrame(t.cdf(s_t, df=n-2),index=[bc],columns=sectors))\n",
    "     \n",
    "    df3 = p_values.T.sort_values(by=p_values.index[0])\n",
    "    #df3 = p_values.T.sort_values(by=p_values.index[0]).style.applymap(highlight_cells, threshold=.5)\n",
    "    #display(p_values.T.sort_values(by=p_values.index[0]).style.applymap(highlight_cells, threshold=.5))\n",
    "    \n",
    "    display_side_by_side([df0, df1, df2, df3], ['Index Return', 'Index p-values', 'Sector Return', 'Sector p-values'])\n",
    "    #print(s_.T.sort_values(by=0,ascending=False))\n",
    "    "
   ]
  },
  {
   "cell_type": "code",
   "execution_count": null,
   "id": "6b1cf20d-6ffd-454f-adbc-775031b95e19",
   "metadata": {
    "jupyter": {
     "source_hidden": true
    }
   },
   "outputs": [],
   "source": []
  },
  {
   "cell_type": "code",
   "execution_count": 39,
   "id": "72d85ebe-1def-4b70-8647-f9d6d0615a12",
   "metadata": {
    "jupyter": {
     "source_hidden": true
    }
   },
   "outputs": [
    {
     "data": {
      "text/plain": [
       "213"
      ]
     },
     "execution_count": 39,
     "metadata": {},
     "output_type": "execute_result"
    }
   ],
   "source": [
    "np.sum(business_cycles_sectors_indexes.reindex(business_cycles_sectors_indexes.index).iloc[:,5:9].sum(axis=0))"
   ]
  }
 ],
 "metadata": {
  "kernelspec": {
   "display_name": "Python 3 (ipykernel)",
   "language": "python",
   "name": "python3"
  },
  "language_info": {
   "codemirror_mode": {
    "name": "ipython",
    "version": 3
   },
   "file_extension": ".py",
   "mimetype": "text/x-python",
   "name": "python",
   "nbconvert_exporter": "python",
   "pygments_lexer": "ipython3",
   "version": "3.9.7"
  }
 },
 "nbformat": 4,
 "nbformat_minor": 5
}
