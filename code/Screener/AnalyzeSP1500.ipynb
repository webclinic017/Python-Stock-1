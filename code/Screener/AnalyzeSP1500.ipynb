{
 "cells": [
  {
   "cell_type": "code",
   "execution_count": 1,
   "id": "d1ade43c-b6c3-4b09-8331-8cfeea94eeef",
   "metadata": {},
   "outputs": [],
   "source": [
    "import pandas as pd\n",
    "import os\n",
    "import sqlite3\n",
    "import numpy as np\n",
    "import matplotlib.pyplot as plt\n",
    "from datetime import datetime\n",
    "from scipy import stats\n",
    "import matplotlib\n",
    "from matplotlib.dates import DateFormatter\n",
    "import matplotlib.dates as md\n",
    "import datetime as dt\n",
    "from pivottablejs import pivot_ui\n",
    "from IPython.display import HTML\n",
    "import seaborn as sns\n",
    "#import qgrid\n",
    "#import ipywidgets as widgets"
   ]
  },
  {
   "cell_type": "code",
   "execution_count": 2,
   "id": "19e4c743-7f04-4405-b0a4-a20d02cd34b2",
   "metadata": {},
   "outputs": [],
   "source": [
    "def time_to_int(dateobj):\n",
    "    total = int(dateobj.strftime('%S'))\n",
    "    total += int(dateobj.strftime('%M')) * 60\n",
    "    total += int(dateobj.strftime('%H')) * 60 * 60\n",
    "    total += (int(dateobj.strftime('%j')) - 1) * 60 * 60 * 24\n",
    "    total += (int(dateobj.strftime('%Y')) - 1970) * 60 * 60 * 24 * 365\n",
    "    return total\n",
    "\n",
    "def myfunc(x):\n",
    "    return slope * x + intercept"
   ]
  },
  {
   "cell_type": "code",
   "execution_count": 3,
   "id": "17edba80-547f-484b-8b97-39cbb2030d2f",
   "metadata": {},
   "outputs": [
    {
     "name": "stdout",
     "output_type": "stream",
     "text": [
      "Database exists, assume schema does, too.\n"
     ]
    }
   ],
   "source": [
    "db_filename = 'todo.db'\n",
    "\n",
    "db_is_new = not os.path.exists(db_filename)\n",
    "\n",
    "conn = sqlite3.connect(db_filename)\n",
    "\n",
    "if db_is_new:\n",
    "    print('Need to create schema')\n",
    "else:\n",
    "    print('Database exists, assume schema does, too.')\n",
    "\n",
    "conn.close()"
   ]
  },
  {
   "cell_type": "code",
   "execution_count": 4,
   "id": "d1eda05e-aeab-4f3f-b98b-6ff5275874ba",
   "metadata": {},
   "outputs": [],
   "source": [
    "prices = pd.read_excel('SP1500_screener_multiple.xlsx',sheet_name=\"SP1500_Sectors_Indexes_Prices\")"
   ]
  },
  {
   "cell_type": "code",
   "execution_count": 5,
   "id": "4bf3ca9d-729a-4fd1-91c9-6a5ada30bf12",
   "metadata": {},
   "outputs": [],
   "source": [
    "stock_fundamentals = pd.read_excel('SP1500_screener_multiple.xlsx',sheet_name=\"Stock_Fundamentals\")"
   ]
  },
  {
   "cell_type": "code",
   "execution_count": 6,
   "id": "6a134fa0-64e0-4b41-a91d-d2f366ef5c5a",
   "metadata": {},
   "outputs": [
    {
     "name": "stdout",
     "output_type": "stream",
     "text": [
      "Index(['CDW', 'FDS', 'CDMO', 'SEIC', 'VCEL', 'AHH', 'PMT', 'HAE', 'CALM',\n",
      "       'ALGT',\n",
      "       ...\n",
      "       'NCR', 'AMCX', 'HLX', 'BSX', 'PYPL', 'ATGE', 'KNX', 'RCII', 'TR',\n",
      "       'JBSS'],\n",
      "      dtype='object', name='Unnamed: 0', length=1520)\n"
     ]
    }
   ],
   "source": [
    "print(stock_fundamentals.set_index(stock_fundamentals.iloc[:, 0]).index)"
   ]
  },
  {
   "cell_type": "code",
   "execution_count": 8,
   "id": "4cf5c419-d4ba-4283-8aca-4943626873f7",
   "metadata": {},
   "outputs": [
    {
     "data": {
      "text/html": [
       "<div>\n",
       "<style scoped>\n",
       "    .dataframe tbody tr th:only-of-type {\n",
       "        vertical-align: middle;\n",
       "    }\n",
       "\n",
       "    .dataframe tbody tr th {\n",
       "        vertical-align: top;\n",
       "    }\n",
       "\n",
       "    .dataframe thead th {\n",
       "        text-align: right;\n",
       "    }\n",
       "</style>\n",
       "<table border=\"1\" class=\"dataframe\">\n",
       "  <thead>\n",
       "    <tr style=\"text-align: right;\">\n",
       "      <th></th>\n",
       "      <th>Unnamed: 0</th>\n",
       "      <th>beta</th>\n",
       "      <th>currentRatio</th>\n",
       "      <th>debtToEquity</th>\n",
       "      <th>dividendRate</th>\n",
       "      <th>dividendYield</th>\n",
       "      <th>earningsGrowth</th>\n",
       "      <th>ebitda</th>\n",
       "      <th>ebitdaMargins</th>\n",
       "      <th>forwardPE</th>\n",
       "      <th>...</th>\n",
       "      <th>revenueGrowth</th>\n",
       "      <th>revenuePerShare</th>\n",
       "      <th>sector</th>\n",
       "      <th>shortRatio</th>\n",
       "      <th>totalAssets</th>\n",
       "      <th>totalCash</th>\n",
       "      <th>totalCashPerShare</th>\n",
       "      <th>totalDebt</th>\n",
       "      <th>totalRevenue</th>\n",
       "      <th>trailingPE</th>\n",
       "    </tr>\n",
       "  </thead>\n",
       "  <tbody>\n",
       "    <tr>\n",
       "      <th>0</th>\n",
       "      <td>CDW</td>\n",
       "      <td>1.109803</td>\n",
       "      <td>1.271</td>\n",
       "      <td>1065.991</td>\n",
       "      <td>2</td>\n",
       "      <td>0.0118</td>\n",
       "      <td>-0.05</td>\n",
       "      <td>1664499968</td>\n",
       "      <td>0.07994</td>\n",
       "      <td>19.137213</td>\n",
       "      <td>...</td>\n",
       "      <td>0.117</td>\n",
       "      <td>150.331</td>\n",
       "      <td>Technology</td>\n",
       "      <td>1.52</td>\n",
       "      <td>NaN</td>\n",
       "      <td>258100000</td>\n",
       "      <td>1.913</td>\n",
       "      <td>7522699776</td>\n",
       "      <td>20820799488</td>\n",
       "      <td>24.499718</td>\n",
       "    </tr>\n",
       "    <tr>\n",
       "      <th>1</th>\n",
       "      <td>FDS</td>\n",
       "      <td>0.812745</td>\n",
       "      <td>3.719</td>\n",
       "      <td>68.99</td>\n",
       "      <td>3.56</td>\n",
       "      <td>0.0096</td>\n",
       "      <td>0.136</td>\n",
       "      <td>563214976</td>\n",
       "      <td>0.3378</td>\n",
       "      <td>27.783026</td>\n",
       "      <td>...</td>\n",
       "      <td>0.1</td>\n",
       "      <td>44.204</td>\n",
       "      <td>Financial Services</td>\n",
       "      <td>1.73</td>\n",
       "      <td>NaN</td>\n",
       "      <td>808816000</td>\n",
       "      <td>21.343</td>\n",
       "      <td>838910016</td>\n",
       "      <td>1667296000</td>\n",
       "      <td>35.751186</td>\n",
       "    </tr>\n",
       "    <tr>\n",
       "      <th>2</th>\n",
       "      <td>CDMO</td>\n",
       "      <td>2.190196</td>\n",
       "      <td>2.632</td>\n",
       "      <td>324.065</td>\n",
       "      <td>NaN</td>\n",
       "      <td>NaN</td>\n",
       "      <td>2.647</td>\n",
       "      <td>21414000</td>\n",
       "      <td>0.18464</td>\n",
       "      <td>43.46875</td>\n",
       "      <td>...</td>\n",
       "      <td>0.445</td>\n",
       "      <td>1.893</td>\n",
       "      <td>Healthcare</td>\n",
       "      <td>10.53</td>\n",
       "      <td>NaN</td>\n",
       "      <td>149956992</td>\n",
       "      <td>2.429</td>\n",
       "      <td>183340000</td>\n",
       "      <td>115977000</td>\n",
       "      <td>102.2794</td>\n",
       "    </tr>\n",
       "    <tr>\n",
       "      <th>3</th>\n",
       "      <td>SEIC</td>\n",
       "      <td>1.058333</td>\n",
       "      <td>5.194</td>\n",
       "      <td>3.356</td>\n",
       "      <td>0.8</td>\n",
       "      <td>0.0146</td>\n",
       "      <td>0.528</td>\n",
       "      <td>683624000</td>\n",
       "      <td>0.33444</td>\n",
       "      <td>14.080883</td>\n",
       "      <td>...</td>\n",
       "      <td>0.276</td>\n",
       "      <td>14.611</td>\n",
       "      <td>Financial Services</td>\n",
       "      <td>4.32</td>\n",
       "      <td>NaN</td>\n",
       "      <td>907830976</td>\n",
       "      <td>6.614</td>\n",
       "      <td>66216000</td>\n",
       "      <td>2044066048</td>\n",
       "      <td>15.731107</td>\n",
       "    </tr>\n",
       "    <tr>\n",
       "      <th>4</th>\n",
       "      <td>VCEL</td>\n",
       "      <td>1.864215</td>\n",
       "      <td>6.083</td>\n",
       "      <td>29.439</td>\n",
       "      <td>NaN</td>\n",
       "      <td>NaN</td>\n",
       "      <td>-0.639</td>\n",
       "      <td>-4889000</td>\n",
       "      <td>-0.0313</td>\n",
       "      <td>84.21876</td>\n",
       "      <td>...</td>\n",
       "      <td>0.052</td>\n",
       "      <td>3.361</td>\n",
       "      <td>Healthcare</td>\n",
       "      <td>15.33</td>\n",
       "      <td>NaN</td>\n",
       "      <td>103398000</td>\n",
       "      <td>2.201</td>\n",
       "      <td>50182000</td>\n",
       "      <td>156184000</td>\n",
       "      <td>5390.0005</td>\n",
       "    </tr>\n",
       "    <tr>\n",
       "      <th>...</th>\n",
       "      <td>...</td>\n",
       "      <td>...</td>\n",
       "      <td>...</td>\n",
       "      <td>...</td>\n",
       "      <td>...</td>\n",
       "      <td>...</td>\n",
       "      <td>...</td>\n",
       "      <td>...</td>\n",
       "      <td>...</td>\n",
       "      <td>...</td>\n",
       "      <td>...</td>\n",
       "      <td>...</td>\n",
       "      <td>...</td>\n",
       "      <td>...</td>\n",
       "      <td>...</td>\n",
       "      <td>...</td>\n",
       "      <td>...</td>\n",
       "      <td>...</td>\n",
       "      <td>...</td>\n",
       "      <td>...</td>\n",
       "      <td>...</td>\n",
       "    </tr>\n",
       "    <tr>\n",
       "      <th>1515</th>\n",
       "      <td>ATGE</td>\n",
       "      <td>1.211274</td>\n",
       "      <td>1.227</td>\n",
       "      <td>144.548</td>\n",
       "      <td>NaN</td>\n",
       "      <td>NaN</td>\n",
       "      <td>-0.194</td>\n",
       "      <td>270456992</td>\n",
       "      <td>0.20498</td>\n",
       "      <td>7.934146</td>\n",
       "      <td>...</td>\n",
       "      <td>0.584</td>\n",
       "      <td>26.387</td>\n",
       "      <td>Consumer Defensive</td>\n",
       "      <td>12.17</td>\n",
       "      <td>NaN</td>\n",
       "      <td>275420000</td>\n",
       "      <td>5.53</td>\n",
       "      <td>1864210048</td>\n",
       "      <td>1319426048</td>\n",
       "      <td>error</td>\n",
       "    </tr>\n",
       "    <tr>\n",
       "      <th>1516</th>\n",
       "      <td>KNX</td>\n",
       "      <td>1.231696</td>\n",
       "      <td>1.257</td>\n",
       "      <td>32.239</td>\n",
       "      <td>0.48</td>\n",
       "      <td>0.0104</td>\n",
       "      <td>0.623</td>\n",
       "      <td>1612974976</td>\n",
       "      <td>0.24432</td>\n",
       "      <td>9.957716</td>\n",
       "      <td>...</td>\n",
       "      <td>0.494</td>\n",
       "      <td>39.931</td>\n",
       "      <td>Industrials</td>\n",
       "      <td>3.07</td>\n",
       "      <td>NaN</td>\n",
       "      <td>242860000</td>\n",
       "      <td>1.485</td>\n",
       "      <td>2121666048</td>\n",
       "      <td>6601994240</td>\n",
       "      <td>9.546007</td>\n",
       "    </tr>\n",
       "    <tr>\n",
       "      <th>1517</th>\n",
       "      <td>RCII</td>\n",
       "      <td>1.55491</td>\n",
       "      <td>0.504</td>\n",
       "      <td>325.321</td>\n",
       "      <td>1.36</td>\n",
       "      <td>0.0491</td>\n",
       "      <td>NaN</td>\n",
       "      <td>429055008</td>\n",
       "      <td>0.09116</td>\n",
       "      <td>4.881206</td>\n",
       "      <td>...</td>\n",
       "      <td>0.119</td>\n",
       "      <td>83.404</td>\n",
       "      <td>Industrials</td>\n",
       "      <td>5.45</td>\n",
       "      <td>NaN</td>\n",
       "      <td>95684000</td>\n",
       "      <td>1.618</td>\n",
       "      <td>1701619968</td>\n",
       "      <td>4706391040</td>\n",
       "      <td>19.862915</td>\n",
       "    </tr>\n",
       "    <tr>\n",
       "      <th>1518</th>\n",
       "      <td>TR</td>\n",
       "      <td>0.005357</td>\n",
       "      <td>3.435</td>\n",
       "      <td>2.053</td>\n",
       "      <td>0.35</td>\n",
       "      <td>0.0109</td>\n",
       "      <td>0.13</td>\n",
       "      <td>101389000</td>\n",
       "      <td>0.16671</td>\n",
       "      <td>-17.225641</td>\n",
       "      <td>...</td>\n",
       "      <td>0.362</td>\n",
       "      <td>8.783</td>\n",
       "      <td>Consumer Defensive</td>\n",
       "      <td>17.42</td>\n",
       "      <td>NaN</td>\n",
       "      <td>145527008</td>\n",
       "      <td>2.106</td>\n",
       "      <td>15795000</td>\n",
       "      <td>608184000</td>\n",
       "      <td>34.91684</td>\n",
       "    </tr>\n",
       "    <tr>\n",
       "      <th>1519</th>\n",
       "      <td>JBSS</td>\n",
       "      <td>error</td>\n",
       "      <td>error</td>\n",
       "      <td>error</td>\n",
       "      <td>error</td>\n",
       "      <td>error</td>\n",
       "      <td>error</td>\n",
       "      <td>error</td>\n",
       "      <td>error</td>\n",
       "      <td>error</td>\n",
       "      <td>...</td>\n",
       "      <td>error</td>\n",
       "      <td>error</td>\n",
       "      <td>error</td>\n",
       "      <td>error</td>\n",
       "      <td>error</td>\n",
       "      <td>error</td>\n",
       "      <td>error</td>\n",
       "      <td>error</td>\n",
       "      <td>error</td>\n",
       "      <td>error</td>\n",
       "    </tr>\n",
       "  </tbody>\n",
       "</table>\n",
       "<p>1520 rows × 36 columns</p>\n",
       "</div>"
      ],
      "text/plain": [
       "     Unnamed: 0      beta currentRatio debtToEquity dividendRate  \\\n",
       "0           CDW  1.109803        1.271     1065.991            2   \n",
       "1           FDS  0.812745        3.719        68.99         3.56   \n",
       "2          CDMO  2.190196        2.632      324.065          NaN   \n",
       "3          SEIC  1.058333        5.194        3.356          0.8   \n",
       "4          VCEL  1.864215        6.083       29.439          NaN   \n",
       "...         ...       ...          ...          ...          ...   \n",
       "1515       ATGE  1.211274        1.227      144.548          NaN   \n",
       "1516        KNX  1.231696        1.257       32.239         0.48   \n",
       "1517       RCII   1.55491        0.504      325.321         1.36   \n",
       "1518         TR  0.005357        3.435        2.053         0.35   \n",
       "1519       JBSS     error        error        error        error   \n",
       "\n",
       "     dividendYield earningsGrowth      ebitda ebitdaMargins  forwardPE  ...  \\\n",
       "0           0.0118          -0.05  1664499968       0.07994  19.137213  ...   \n",
       "1           0.0096          0.136   563214976        0.3378  27.783026  ...   \n",
       "2              NaN          2.647    21414000       0.18464   43.46875  ...   \n",
       "3           0.0146          0.528   683624000       0.33444  14.080883  ...   \n",
       "4              NaN         -0.639    -4889000       -0.0313   84.21876  ...   \n",
       "...            ...            ...         ...           ...        ...  ...   \n",
       "1515           NaN         -0.194   270456992       0.20498   7.934146  ...   \n",
       "1516        0.0104          0.623  1612974976       0.24432   9.957716  ...   \n",
       "1517        0.0491            NaN   429055008       0.09116   4.881206  ...   \n",
       "1518        0.0109           0.13   101389000       0.16671 -17.225641  ...   \n",
       "1519         error          error       error         error      error  ...   \n",
       "\n",
       "     revenueGrowth revenuePerShare              sector shortRatio totalAssets  \\\n",
       "0            0.117         150.331          Technology       1.52         NaN   \n",
       "1              0.1          44.204  Financial Services       1.73         NaN   \n",
       "2            0.445           1.893          Healthcare      10.53         NaN   \n",
       "3            0.276          14.611  Financial Services       4.32         NaN   \n",
       "4            0.052           3.361          Healthcare      15.33         NaN   \n",
       "...            ...             ...                 ...        ...         ...   \n",
       "1515         0.584          26.387  Consumer Defensive      12.17         NaN   \n",
       "1516         0.494          39.931         Industrials       3.07         NaN   \n",
       "1517         0.119          83.404         Industrials       5.45         NaN   \n",
       "1518         0.362           8.783  Consumer Defensive      17.42         NaN   \n",
       "1519         error           error               error      error       error   \n",
       "\n",
       "      totalCash totalCashPerShare   totalDebt totalRevenue trailingPE  \n",
       "0     258100000             1.913  7522699776  20820799488  24.499718  \n",
       "1     808816000            21.343   838910016   1667296000  35.751186  \n",
       "2     149956992             2.429   183340000    115977000   102.2794  \n",
       "3     907830976             6.614    66216000   2044066048  15.731107  \n",
       "4     103398000             2.201    50182000    156184000  5390.0005  \n",
       "...         ...               ...         ...          ...        ...  \n",
       "1515  275420000              5.53  1864210048   1319426048      error  \n",
       "1516  242860000             1.485  2121666048   6601994240   9.546007  \n",
       "1517   95684000             1.618  1701619968   4706391040  19.862915  \n",
       "1518  145527008             2.106    15795000    608184000   34.91684  \n",
       "1519      error             error       error        error      error  \n",
       "\n",
       "[1520 rows x 36 columns]"
      ]
     },
     "execution_count": 8,
     "metadata": {},
     "output_type": "execute_result"
    }
   ],
   "source": []
  },
  {
   "cell_type": "code",
   "execution_count": 14,
   "id": "ea4c8c75-0d75-450d-8795-4b59396fd6ad",
   "metadata": {},
   "outputs": [
    {
     "ename": "NameError",
     "evalue": "name 'screener' is not defined",
     "output_type": "error",
     "traceback": [
      "\u001b[1;31m---------------------------------------------------------------------------\u001b[0m",
      "\u001b[1;31mNameError\u001b[0m                                 Traceback (most recent call last)",
      "Input \u001b[1;32mIn [14]\u001b[0m, in \u001b[0;36m<cell line: 1>\u001b[1;34m()\u001b[0m\n\u001b[1;32m----> 1\u001b[0m \u001b[43mscreener\u001b[49m\n",
      "\u001b[1;31mNameError\u001b[0m: name 'screener' is not defined"
     ]
    }
   ],
   "source": []
  },
  {
   "cell_type": "code",
   "execution_count": 12,
   "id": "6e6de89e-adb2-4171-ad36-5de8df9339a7",
   "metadata": {},
   "outputs": [
    {
     "data": {
      "text/html": [
       "<div>\n",
       "<style scoped>\n",
       "    .dataframe tbody tr th:only-of-type {\n",
       "        vertical-align: middle;\n",
       "    }\n",
       "\n",
       "    .dataframe tbody tr th {\n",
       "        vertical-align: top;\n",
       "    }\n",
       "\n",
       "    .dataframe thead th {\n",
       "        text-align: right;\n",
       "    }\n",
       "</style>\n",
       "<table border=\"1\" class=\"dataframe\">\n",
       "  <thead>\n",
       "    <tr style=\"text-align: right;\">\n",
       "      <th></th>\n",
       "      <th>Unnamed: 0</th>\n",
       "      <th>beta</th>\n",
       "      <th>currentRatio</th>\n",
       "      <th>debtToEquity</th>\n",
       "      <th>dividendRate</th>\n",
       "      <th>dividendYield</th>\n",
       "      <th>earningsGrowth</th>\n",
       "      <th>ebitda</th>\n",
       "      <th>ebitdaMargins</th>\n",
       "      <th>forwardPE</th>\n",
       "      <th>...</th>\n",
       "      <th>revenueGrowth</th>\n",
       "      <th>revenuePerShare</th>\n",
       "      <th>sector</th>\n",
       "      <th>shortRatio</th>\n",
       "      <th>totalAssets</th>\n",
       "      <th>totalCash</th>\n",
       "      <th>totalCashPerShare</th>\n",
       "      <th>totalDebt</th>\n",
       "      <th>totalRevenue</th>\n",
       "      <th>trailingPE</th>\n",
       "    </tr>\n",
       "  </thead>\n",
       "  <tbody>\n",
       "    <tr>\n",
       "      <th>542</th>\n",
       "      <td>VOX</td>\n",
       "      <td>error</td>\n",
       "      <td>error</td>\n",
       "      <td>error</td>\n",
       "      <td>error</td>\n",
       "      <td>error</td>\n",
       "      <td>error</td>\n",
       "      <td>error</td>\n",
       "      <td>error</td>\n",
       "      <td>error</td>\n",
       "      <td>...</td>\n",
       "      <td>error</td>\n",
       "      <td>error</td>\n",
       "      <td>error</td>\n",
       "      <td>error</td>\n",
       "      <td>error</td>\n",
       "      <td>error</td>\n",
       "      <td>error</td>\n",
       "      <td>error</td>\n",
       "      <td>error</td>\n",
       "      <td>error</td>\n",
       "    </tr>\n",
       "  </tbody>\n",
       "</table>\n",
       "<p>1 rows × 36 columns</p>\n",
       "</div>"
      ],
      "text/plain": [
       "    Unnamed: 0   beta currentRatio debtToEquity dividendRate dividendYield  \\\n",
       "542        VOX  error        error        error        error         error   \n",
       "\n",
       "    earningsGrowth ebitda ebitdaMargins forwardPE  ... revenueGrowth  \\\n",
       "542          error  error         error     error  ...         error   \n",
       "\n",
       "    revenuePerShare sector shortRatio totalAssets totalCash totalCashPerShare  \\\n",
       "542           error  error      error       error     error             error   \n",
       "\n",
       "    totalDebt totalRevenue trailingPE  \n",
       "542     error        error      error  \n",
       "\n",
       "[1 rows x 36 columns]"
      ]
     },
     "execution_count": 12,
     "metadata": {},
     "output_type": "execute_result"
    }
   ],
   "source": [
    "stock_fundamentals[stock_fundamentals.set_index(stock_fundamentals.iloc[:, 0]).index=='VOX']\n"
   ]
  },
  {
   "cell_type": "code",
   "execution_count": 13,
   "id": "a784d46a-f78f-4914-9ccf-5d437eb66183",
   "metadata": {},
   "outputs": [
    {
     "data": {
      "text/plain": [
       "[<matplotlib.lines.Line2D at 0x1a593424fd0>]"
      ]
     },
     "execution_count": 13,
     "metadata": {},
     "output_type": "execute_result"
    },
    {
     "data": {
      "image/png": "[encoded data removed]",
      "text/plain": [
       "<Figure size 432x288 with 1 Axes>"
      ]
     },
     "metadata": {
      "needs_background": "light"
     },
     "output_type": "display_data"
    }
   ],
   "source": [
    "plt.plot(prices[prices['Symbol']=='VOX'].set_index('Date')['Adj Close'])"
   ]
  },
  {
   "cell_type": "code",
   "execution_count": 15,
   "id": "1387d6c7-6072-4941-bc02-dcd767bf6e02",
   "metadata": {},
   "outputs": [],
   "source": [
    "screener = pd.read_excel('SP1500_screener_multiple.xlsx',sheet_name=\"Screener\")"
   ]
  },
  {
   "cell_type": "code",
   "execution_count": 20,
   "id": "52145219-6f83-4050-92cd-811b08988cdd",
   "metadata": {},
   "outputs": [
    {
     "data": {
      "text/plain": [
       "max_2y                         278.570007\n",
       "min_2y                         117.080002\n",
       "std_2y                          31.238273\n",
       "mean_2y                         202.95362\n",
       "max_1y                         252.300003\n",
       "min_1y                         117.080002\n",
       "std_1y                          29.866367\n",
       "mean_1y                         202.58384\n",
       "latest_p                       140.820007\n",
       "2yr_close_0pct                 119.400002\n",
       "2yr_close_2pct                 129.490799\n",
       "2yr_close_9pct                 159.788394\n",
       "2yr_close_25pct                178.630005\n",
       "2yr_close_50pct                209.899994\n",
       "2yr_close_75pct                224.460007\n",
       "2yr_close_91pct                241.971204\n",
       "2yr_close_98pct                254.729196\n",
       "2yr_close_100pct               269.190002\n",
       "1yr_close_0pct                 119.400002\n",
       "1yr_close_2pct                    124.157\n",
       "1yr_close_9pct                 148.886194\n",
       "1yr_close_25pct                190.617504\n",
       "1yr_close_50pct                211.475006\n",
       "2yr_close_75pct.1              222.257504\n",
       "1yr_close_91pct                236.700695\n",
       "1yr_close_98pct                248.013198\n",
       "1yr_close_100pct               252.759995\n",
       "risk_trend_factor               -6.127799\n",
       "supply_trend_1yr                18.220009\n",
       "supply_trend_180d               18.220009\n",
       "supply_trend_90d                18.220009\n",
       "supply_trend_60d                18.220009\n",
       "supply_trend_30d                18.220009\n",
       "vol_30d_2yr              336042829.896907\n",
       "pct_1yr                          0.175566\n",
       "pct_2yr                          0.147006\n",
       "MIN_Lookback_One_Year          252.300003\n",
       "MIN_Lookback_6_Months          252.300003\n",
       "MIN_Lookback_2_Months          252.300003\n",
       "MIN_Lookback_1_Months          252.300003\n",
       "Name: BA, dtype: object"
      ]
     },
     "execution_count": 20,
     "metadata": {},
     "output_type": "execute_result"
    }
   ],
   "source": [
    "screener.set_index('Symbol').loc['BA']"
   ]
  },
  {
   "cell_type": "code",
   "execution_count": null,
   "id": "e4c3dc2f-4373-42e2-92e3-94b2de10e18b",
   "metadata": {},
   "outputs": [],
   "source": [
    "fundamentals = pd.read_excel('SP1500_screener_multiple.xlsx',sheet_name=\"Stock_Fundamentals\")\n",
    "fundamentals.set_index(fundamentals.columns[0],inplace=True)\n"
   ]
  },
  {
   "cell_type": "code",
   "execution_count": null,
   "id": "856a11c3-fb88-48bf-99d1-5e1b247d5c03",
   "metadata": {},
   "outputs": [],
   "source": []
  },
  {
   "cell_type": "code",
   "execution_count": null,
   "id": "2ea51c53-c08b-40cb-90f5-69d71f326a99",
   "metadata": {},
   "outputs": [],
   "source": [
    "stock_indexes = pd.read_excel('SP1500_screener_multiple.xlsx',sheet_name=\"SP1500\")\n",
    "stock_indexes.drop(stock_indexes.columns[0], axis=1, inplace=True)\n",
    "stock_indexes.set_index(stock_indexes.columns[0],inplace=True)\n",
    "stock_indexes"
   ]
  },
  {
   "cell_type": "code",
   "execution_count": null,
   "id": "cf7bc540-48e4-416a-a4b2-60e0dd9ece35",
   "metadata": {},
   "outputs": [],
   "source": [
    "spdr_indexes = pd.read_excel('SP1500_screener_multiple.xlsx',sheet_name=\"spdr_indexes\")\n",
    "#vanguard_sectors.drop(vanguard_sectors.columns[0], axis=1, inplace=True)\n",
    "spdr_indexes.set_index(spdr_indexes.columns[0],inplace=True)\n",
    "spdr_indexes.columns=['Symbol']\n",
    "spdr_indexes"
   ]
  },
  {
   "cell_type": "code",
   "execution_count": null,
   "id": "5d3acd2b-8d6b-4267-aff5-80c5c339ef70",
   "metadata": {},
   "outputs": [],
   "source": [
    "vanguard_sectors = pd.read_excel('SP1500_screener_multiple.xlsx',sheet_name=\"vanguard_sectors\")\n",
    "#vanguard_sectors.drop(vanguard_sectors.columns[0], axis=1, inplace=True)\n",
    "vanguard_sectors.set_index(vanguard_sectors.columns[0],inplace=True)\n",
    "vanguard_sectors.columns=['Symbol']\n",
    "vanguard_sectors"
   ]
  },
  {
   "cell_type": "code",
   "execution_count": null,
   "id": "10eb660d-aca1-47da-8eeb-65da35a48f71",
   "metadata": {},
   "outputs": [],
   "source": []
  },
  {
   "cell_type": "code",
   "execution_count": null,
   "id": "04e1bd8c-ba39-4daf-a37a-7fb3d99e4037",
   "metadata": {},
   "outputs": [],
   "source": []
  },
  {
   "cell_type": "code",
   "execution_count": null,
   "id": "e9089c8f-5933-4e1a-9025-144f46eb630b",
   "metadata": {},
   "outputs": [],
   "source": [
    "#[*spdr_indexes['Symbol'],*vanguard_sectors['Symbol']]"
   ]
  },
  {
   "cell_type": "code",
   "execution_count": null,
   "id": "fcb13377-4048-4d99-a047-5fd7db41a458",
   "metadata": {},
   "outputs": [],
   "source": []
  },
  {
   "cell_type": "code",
   "execution_count": null,
   "id": "a44a2b10-dacb-4077-8b2a-49bae6c4773e",
   "metadata": {},
   "outputs": [],
   "source": [
    "sector_performance_return = pd.DataFrame()\n",
    "\n",
    "for v in [*spdr_indexes['Symbol'],*vanguard_sectors['Symbol']]:\n",
    "    subset = prices[prices['Symbol'] == v]\n",
    "    subset_ = subset.set_index('Date').asfreq('Q')[['Adj Close']].pct_change()\n",
    "    subset_.index = subset_.index.values.astype('M8[D]')\n",
    "    dt_str = subset_.index[-1].strftime('%Y-%m-%d')\n",
    "    tail = subset[subset.set_index('Date').index>=dt_str]\n",
    "    dt_str = subset.set_index('Date').index[-1].strftime('%Y-%m-%d')\n",
    "    tail_ = pd.DataFrame([(tail.set_index('Date')['Adj Close'][-1]-tail.set_index('Date')['Adj Close'][0])/tail.set_index('Date')['Adj Close'][0]],index=[datetime.strptime(dt_str, '%Y-%m-%d')],columns=['Adj Close'])\n",
    "    subset__ = pd.concat([subset_,tail_],axis=0)\n",
    "    sector_performance_return = pd.concat([sector_performance_return,subset__],axis=1)"
   ]
  },
  {
   "cell_type": "code",
   "execution_count": null,
   "id": "48e3295b-db3a-402b-bdf0-fa26c4873aa6",
   "metadata": {},
   "outputs": [],
   "source": [
    "sector_performance_return"
   ]
  },
  {
   "cell_type": "code",
   "execution_count": null,
   "id": "5336ecbb-628e-4db6-a5d1-f3aa1ef66059",
   "metadata": {},
   "outputs": [],
   "source": [
    "sector_performance_return.columns = [*[i for i in spdr_indexes.index],*[v for v in vanguard_sectors.index]]\n",
    "sector_performance_return = sector_performance_return.T"
   ]
  },
  {
   "cell_type": "code",
   "execution_count": null,
   "id": "347472bf-f40d-47ec-a7da-eaeb54df83ff",
   "metadata": {},
   "outputs": [],
   "source": [
    "cm = sns.color_palette(\"blend:red,yellow,green\", as_cmap=True)\n",
    "\n",
    "sector_performance_return.style.background_gradient(cmap = cm,axis=1)"
   ]
  },
  {
   "cell_type": "code",
   "execution_count": null,
   "id": "d2198365-55b8-4f23-9f7f-faaaf4dbdbe5",
   "metadata": {},
   "outputs": [],
   "source": []
  },
  {
   "cell_type": "code",
   "execution_count": null,
   "id": "f023d5ff-92f8-49c8-9ea3-79b43ba074cb",
   "metadata": {},
   "outputs": [],
   "source": [
    "sector_performance_return"
   ]
  },
  {
   "cell_type": "code",
   "execution_count": null,
   "id": "327fa38b-7efd-4925-8927-943f0a77e54f",
   "metadata": {},
   "outputs": [],
   "source": []
  },
  {
   "cell_type": "code",
   "execution_count": null,
   "id": "0bb7f688-565f-4516-96db-06b324b0d599",
   "metadata": {},
   "outputs": [],
   "source": [
    "sector_performances = pd.DataFrame()\n",
    "sector_performances_values = pd.DataFrame()\n",
    "for c in sector_performance_return.columns:\n",
    "    print(c)\n",
    "    temp = pd.DataFrame(sector_performance_return[c].sort_values(ascending=False).index,columns=[c])\n",
    "    temp2 = pd.DataFrame(sector_performance_return[c].sort_values(ascending=False),columns=[c])\n",
    "    temp2.reset_index(drop=True,inplace=True)    \n",
    "    sector_performances = pd.concat([sector_performances,temp],axis=1)\n",
    "    sector_performances_values = pd.concat([sector_performances_values,temp2],axis=1)\n",
    "    #print(sector_performance_return[c].sort_values(ascending=False))\n",
    "sector_performances_values"
   ]
  },
  {
   "cell_type": "code",
   "execution_count": null,
   "id": "865b4e9f-2eeb-4ddf-b831-6f6ce3c45918",
   "metadata": {},
   "outputs": [],
   "source": []
  },
  {
   "cell_type": "code",
   "execution_count": null,
   "id": "74b67922-c9b4-4ef8-a5df-2874c44d5111",
   "metadata": {},
   "outputs": [],
   "source": [
    "sector_performances = pd.DataFrame()\n",
    "for c in sector_performance_return.columns:\n",
    "    print(c)\n",
    "    temp = pd.DataFrame(sector_performance_return[c].sort_values(ascending=False).index,columns=[c])\n",
    "    sector_performances = pd.concat([sector_performances,temp],axis=1)\n",
    "    #print(sector_performance_return[c].sort_values(ascending=False))"
   ]
  },
  {
   "cell_type": "code",
   "execution_count": null,
   "id": "438fa431-7730-4d8d-ae9b-aa1a3aad0666",
   "metadata": {},
   "outputs": [],
   "source": []
  },
  {
   "cell_type": "code",
   "execution_count": null,
   "id": "85348b41-8193-4444-8768-4098cb5d2649",
   "metadata": {},
   "outputs": [],
   "source": [
    "import matplotlib as mp\n",
    "cycles_ = ['Expansion','Slowdown','Recession','Recovery']\n",
    "from IPython.display import display\n",
    "from PIL import Image\n",
    "\n",
    "path=r\"C:\\Users\\User\\Documents\\wiki\\wiki\\dev\\python\\Python-Stock\\reports\\figures\\Business cycles.png\"\n",
    "display(Image.open(path))\n",
    "\n",
    "def b_g(s, cmap=cm, low=0, high=0):\n",
    "    # Pass the columns from Dataframe A \n",
    "    a = A.loc[:,s.name].copy()\n",
    "    #rng = a.max() - a.min()\n",
    "    rng = np.nanmax(A.values.ravel()) - np.nanmin(A.values.ravel())\n",
    "    norm = mp.colors.Normalize(np.nanmin(A.values.ravel()) - (rng * low),\n",
    "                        np.nanmax(A.values.ravel()) + (rng * high))\n",
    "    normed = norm(a.values)\n",
    "    #c = [mp.colors.rgb2hex(x) for x in plt.cm.get_cmap(cmap)(normed)]\n",
    "    c = [mp.colors.rgb2hex(x) for x in plt.cm.get_cmap(cm)(normed)]\n",
    "    return ['background-color: %s' % color for color in c]\n",
    "\n",
    "A = sector_performances_values\n",
    "B = sector_performances\n",
    "df = B.style.apply(b_g,cmap='RdYlGn')\n",
    "#sector_performances.style.background_gradient(cmap = cm,axis=1,)\n",
    "df\n"
   ]
  },
  {
   "cell_type": "code",
   "execution_count": null,
   "id": "f60d032d-0cf3-400a-a801-185619948a14",
   "metadata": {},
   "outputs": [],
   "source": []
  },
  {
   "cell_type": "code",
   "execution_count": null,
   "id": "a56630f8-6533-4540-856b-d8d9451ef65b",
   "metadata": {},
   "outputs": [],
   "source": [
    "sector_performance = []\n",
    "for v in vanguard_sectors['Symbol']:\n",
    "    sector_performance.append([v,screener[screener['Symbol']==v]['risk_trend_factor'].values[0]])\n",
    "    #print([v,)\n",
    "    "
   ]
  },
  {
   "cell_type": "code",
   "execution_count": null,
   "id": "4d3073b5-df6f-4357-9b8c-4197e53a3159",
   "metadata": {},
   "outputs": [],
   "source": [
    "temp_v = vanguard_sectors.reset_index()\n",
    "temp_v.columns = ['Sector','Symbol']"
   ]
  },
  {
   "cell_type": "code",
   "execution_count": null,
   "id": "44aaf9b1-4d2a-4a4f-b598-bd1924f417c1",
   "metadata": {},
   "outputs": [],
   "source": []
  },
  {
   "cell_type": "code",
   "execution_count": null,
   "id": "aefad337-0afe-4961-9242-3eac2e49b1e5",
   "metadata": {},
   "outputs": [],
   "source": [
    "pd.DataFrame(sector_performance,columns=['Symbol','risk_trend_factor']).merge(temp_v, on='Symbol', how='left').sort_values(by='risk_trend_factor',ascending=False)\n"
   ]
  },
  {
   "cell_type": "code",
   "execution_count": null,
   "id": "cf9a2ec6-395f-4da5-bfa5-7e7c988ae08a",
   "metadata": {},
   "outputs": [],
   "source": []
  },
  {
   "cell_type": "code",
   "execution_count": null,
   "id": "939a771c-5610-4928-a935-9b82d1fb9cb7",
   "metadata": {},
   "outputs": [],
   "source": []
  },
  {
   "cell_type": "code",
   "execution_count": null,
   "id": "7f13a3ec-5048-4acc-ab5c-f798e1216b86",
   "metadata": {},
   "outputs": [],
   "source": [
    "for v in sector_performance_return.index:\n",
    "    subset = pd.DataFrame(sector_performance_return.loc[v])\n",
    "    subset.columns = ['Return']\n",
    "    plt.plot(subset)\n",
    "    plt.xticks(subset.index, rotation=45)\n",
    "plt.legend(sector_performance_return.index,loc=2)    \n",
    "plt.show()\n"
   ]
  },
  {
   "cell_type": "code",
   "execution_count": null,
   "id": "77e5a1ec-4fae-4bf9-b5c1-cbf5896926a4",
   "metadata": {},
   "outputs": [],
   "source": [
    "sector_performance_return.T.iloc[-1].sort_values(ascending=False).index"
   ]
  },
  {
   "cell_type": "code",
   "execution_count": null,
   "id": "50e140f7-a8df-4f63-b507-ff25f5c3a72c",
   "metadata": {},
   "outputs": [],
   "source": [
    "sector_performance_return"
   ]
  },
  {
   "cell_type": "code",
   "execution_count": null,
   "id": "09def25f-d658-4662-a14f-b22011049e30",
   "metadata": {},
   "outputs": [],
   "source": [
    "sector_performance_return.T[sector_performance_return.T.iloc[-1].sort_values(ascending=False).index].style.background_gradient(cmap = cm,axis=None)"
   ]
  },
  {
   "cell_type": "code",
   "execution_count": null,
   "id": "201325e5-41f6-40d7-9813-838392f74be8",
   "metadata": {},
   "outputs": [],
   "source": []
  },
  {
   "cell_type": "code",
   "execution_count": null,
   "id": "8fd477d5-6c18-4afe-a963-cb0da248040d",
   "metadata": {},
   "outputs": [],
   "source": [
    "#qgrid.show_grid(sector_dataset_pivot)"
   ]
  },
  {
   "cell_type": "code",
   "execution_count": null,
   "id": "9d326023-6ee2-4e23-abfd-72be6c6f4c80",
   "metadata": {},
   "outputs": [],
   "source": []
  },
  {
   "cell_type": "code",
   "execution_count": null,
   "id": "f5c13ce4-1039-4371-abc8-b77ae463fba9",
   "metadata": {},
   "outputs": [],
   "source": []
  },
  {
   "cell_type": "code",
   "execution_count": null,
   "id": "c750bb45-7e00-463d-8f62-ac55699125a3",
   "metadata": {},
   "outputs": [],
   "source": []
  },
  {
   "cell_type": "code",
   "execution_count": null,
   "id": "cf4c4762-d622-4199-b881-f00b1d4554b2",
   "metadata": {},
   "outputs": [],
   "source": []
  },
  {
   "cell_type": "code",
   "execution_count": null,
   "id": "7076c414-af60-4499-8532-6c6e5ac3b851",
   "metadata": {},
   "outputs": [],
   "source": []
  },
  {
   "cell_type": "code",
   "execution_count": null,
   "id": "afef3319-8c61-40f5-ac93-4a72ee751588",
   "metadata": {},
   "outputs": [],
   "source": []
  },
  {
   "cell_type": "code",
   "execution_count": null,
   "id": "df09d102-daa9-4620-bd05-0dc2df39f316",
   "metadata": {},
   "outputs": [],
   "source": []
  },
  {
   "cell_type": "code",
   "execution_count": null,
   "id": "29b9a366-e134-4217-8686-18f9cce19793",
   "metadata": {},
   "outputs": [],
   "source": []
  },
  {
   "cell_type": "code",
   "execution_count": null,
   "id": "d07a954f-1e41-4112-a980-a9691a8f63c3",
   "metadata": {},
   "outputs": [],
   "source": [
    "threshold = .9875"
   ]
  },
  {
   "cell_type": "code",
   "execution_count": null,
   "id": "bb59a21d-0820-4a62-908f-54ecac2e45f7",
   "metadata": {},
   "outputs": [],
   "source": []
  },
  {
   "cell_type": "code",
   "execution_count": null,
   "id": "3683e62d-4d0e-476d-afa3-52ad82a1c96c",
   "metadata": {},
   "outputs": [],
   "source": [
    "screener_good = screener[screener['risk_trend_factor']!='missing']\n",
    "\n",
    "risk_trend_threshold = screener_good['risk_trend_factor'].quantile(q=[threshold]).values[0]\n"
   ]
  },
  {
   "cell_type": "code",
   "execution_count": null,
   "id": "9e546c98-ca0c-425c-acb2-7a3f965c2a4b",
   "metadata": {},
   "outputs": [],
   "source": [
    "risk_trend_threshold"
   ]
  },
  {
   "cell_type": "code",
   "execution_count": null,
   "id": "eadf398b-c971-4a14-a7ed-9fd5c2b7a3ab",
   "metadata": {},
   "outputs": [],
   "source": [
    "temp = stock_sectors.reset_index()\n",
    "temp.columns = ['Symbol','Sector']"
   ]
  },
  {
   "cell_type": "code",
   "execution_count": null,
   "id": "30182061-c798-4ec6-91a8-c940247f4b9f",
   "metadata": {},
   "outputs": [],
   "source": []
  },
  {
   "cell_type": "code",
   "execution_count": null,
   "id": "a887c1c3-269e-4ff7-97d7-0f629b1e02e6",
   "metadata": {},
   "outputs": [],
   "source": [
    "risk_screened = screener_good[screener_good['risk_trend_factor']>risk_trend_threshold]\n",
    "risk_screened\n",
    "#left join sector\n",
    "risk_screened.merge(temp, on='Symbol', how='left')"
   ]
  },
  {
   "cell_type": "code",
   "execution_count": null,
   "id": "26d8cae3-bd44-467b-a09e-e1927a979f96",
   "metadata": {},
   "outputs": [],
   "source": [
    "screener.columns"
   ]
  },
  {
   "cell_type": "code",
   "execution_count": null,
   "id": "3e7c6281-1bb0-440c-b1b7-e0f656d204b7",
   "metadata": {},
   "outputs": [],
   "source": []
  },
  {
   "cell_type": "code",
   "execution_count": null,
   "id": "93908a82-0b90-4060-ae23-4e59eb2a046b",
   "metadata": {},
   "outputs": [],
   "source": [
    "\"\"\"\n",
    "above_1yearSDev = screener_good[screener_good['latest_p']>screener['mean_1y']+screener_good['std_1y']]['Symbol'].values\n",
    "above_2yearSDev = screener_good[screener_good['latest_p']>screener['mean_2y']+screener_good['std_2y']]['Symbol'].values\n",
    "above_yearSDev = np.intersect1d(above_1yearSDev,above_2yearSDev)\n",
    "\"\"\""
   ]
  },
  {
   "cell_type": "code",
   "execution_count": null,
   "id": "8f71b65a-b9ae-4df8-bdb3-018bcc680443",
   "metadata": {},
   "outputs": [],
   "source": [
    "#above_yearSDev"
   ]
  },
  {
   "cell_type": "code",
   "execution_count": null,
   "id": "418a8256-64bb-4b08-b454-f0c87086c170",
   "metadata": {},
   "outputs": [],
   "source": [
    "\"\"\"\n",
    "above_2year_t = screener[screener['pct_2yr']>threshold]['Symbol'].values\n",
    "above_1year_t = screener[screener['pct_1yr']>threshold]['Symbol'].values\n",
    "above_years_t = np.intersect1d(above_2year_t,above_1year_t)\n",
    "\"\"\""
   ]
  },
  {
   "cell_type": "code",
   "execution_count": null,
   "id": "e8698fc4-014d-4806-897d-1edb83033707",
   "metadata": {},
   "outputs": [],
   "source": [
    "#above_years_t"
   ]
  },
  {
   "cell_type": "code",
   "execution_count": null,
   "id": "bbc42c14-8dd3-4c95-97db-f08067281258",
   "metadata": {},
   "outputs": [],
   "source": [
    "#above_combined = np.intersect1d(above_yearSDev,above_years_t)"
   ]
  },
  {
   "cell_type": "code",
   "execution_count": null,
   "id": "519163cc-4b2c-46b8-b199-2567cc1adf4f",
   "metadata": {},
   "outputs": [],
   "source": [
    "#above_combined"
   ]
  },
  {
   "cell_type": "code",
   "execution_count": null,
   "id": "cce08031-d71f-4c15-9185-0a36d2eb3d4b",
   "metadata": {},
   "outputs": [],
   "source": [
    "#screened_final_set = np.intersect1d(risk_screened,above_combined)"
   ]
  },
  {
   "cell_type": "code",
   "execution_count": null,
   "id": "154b38ab-fe7c-4f96-803b-3f901fc68526",
   "metadata": {},
   "outputs": [],
   "source": [
    "screened_final_set = risk_screened.set_index('Symbol')\n",
    "#screened_final_set"
   ]
  },
  {
   "cell_type": "code",
   "execution_count": null,
   "id": "79fdf2a1-98cf-43b8-8a30-93062948d593",
   "metadata": {},
   "outputs": [],
   "source": []
  },
  {
   "cell_type": "code",
   "execution_count": null,
   "id": "e9769f43-93f1-40f8-aea6-13d8f51c5692",
   "metadata": {},
   "outputs": [],
   "source": []
  },
  {
   "cell_type": "code",
   "execution_count": null,
   "id": "a659b86c-9710-4a24-a969-6d448497b064",
   "metadata": {},
   "outputs": [],
   "source": []
  },
  {
   "cell_type": "code",
   "execution_count": null,
   "id": "ef1ce8db-0df5-471d-9c85-cf3e5a25689c",
   "metadata": {},
   "outputs": [],
   "source": []
  },
  {
   "cell_type": "code",
   "execution_count": null,
   "id": "4e47e363-0dc5-4115-8c47-b324a8b61f73",
   "metadata": {},
   "outputs": [],
   "source": []
  },
  {
   "cell_type": "code",
   "execution_count": null,
   "id": "e3191e95-0d95-4860-9faf-5f7758b667a9",
   "metadata": {},
   "outputs": [],
   "source": [
    "#pivot_ui(prices, outfile_path='pivottablejs.html')\n",
    "#HTML('pivottablejs.html')"
   ]
  },
  {
   "cell_type": "code",
   "execution_count": null,
   "id": "be39ed83-14cb-49e0-8bed-5a143bc34afa",
   "metadata": {},
   "outputs": [],
   "source": [
    "for s in np.setdiff1d(np.setdiff1d(screened_final_set.index,temp_v['Symbol'].values),spdr_indexes.iloc[:,0].values):\n",
    "    print(s)\n",
    "    subset=prices[prices['Symbol']==s]\n",
    "    \n",
    "    dates = []\n",
    "    for t in subset['Date'].values:\n",
    "        d = pd.Timestamp(t).strftime('%Y-%m-%d')\n",
    "        dates.append(d)\n",
    "        dto = datetime.strptime(d, '%Y-%m-%d').date()\n",
    "\n",
    "    old_ordinal = [datetime.strptime(i, '%Y-%m-%d').toordinal() for i in dates]\n",
    "    new_ordinal = old_ordinal + md.date2num(np.datetime64('0000-12-31'))\n",
    "    x = new_ordinal\n",
    "    y= subset['Adj Close']\n",
    "\n",
    "    slope, intercept, r, p, std_err = stats.linregress(x, y)\n",
    "\n",
    "    mymodel = list(map(myfunc, x))\n",
    "\n",
    "    fig, ax = plt.subplots()\n",
    "    \n",
    "    plt.scatter(x, y)\n",
    "    plt.scatter(x, subset['trailing_1yr_max'])\n",
    "    plt.scatter(x, subset['trailing_1yr_min'])\n",
    "    \n",
    "    #plt.scatter(x, subset['supply_trend'])\n",
    "    plt.scatter(x, subset['supply_trend_1yr'])\n",
    "    print(\"supply trend:\",screener.loc[np.where(screener.set_index('Symbol').index==s)[0][0]]['vol_30d_2yr'])\n",
    "    print(\"Sector:\", stock_sectors.iloc[np.where(np.array(stock_sectors.index)==s)[0][0]][0])\n",
    "    print(\"Index:\", stock_indexes.iloc[np.where(np.array(stock_indexes.index)==s)[0][0]][0])\n",
    "    \n",
    "    #print(\"Sector:\",screener.loc[np.where(screener.set_index('Symbol').index==s)[0][0]]['Sector'])\n",
    "    #print(\"Sector:\",screener.loc[np.where(screener.set_index('Symbol').index==s)[0][0]]['vol_30d_2yr'])\n",
    "\n",
    "    plt.plot(x, mymodel)\n",
    "    \n",
    "    l = matplotlib.dates.AutoDateLocator()\n",
    "    f = matplotlib.dates.ConciseDateFormatter(l)    \n",
    "    \n",
    "    ax.set_xticklabels(ax.get_xticks(), rotation = 45)\n",
    "    \n",
    "    locator = matplotlib.dates.AutoDateLocator()\n",
    "    formatter = matplotlib.dates.ConciseDateFormatter(locator)\n",
    "\n",
    "    ax.xaxis.set_major_locator(locator)\n",
    "    ax.xaxis.set_major_formatter(formatter)\n",
    "    \n",
    "    date_form = DateFormatter(\"%Y-%m-%d\")\n",
    "    ax.xaxis.set_major_formatter(date_form)\n",
    "    plt.show()"
   ]
  }
 ],
 "metadata": {
  "kernelspec": {
   "display_name": "Python 3 (ipykernel)",
   "language": "python",
   "name": "python3"
  },
  "language_info": {
   "codemirror_mode": {
    "name": "ipython",
    "version": 3
   },
   "file_extension": ".py",
   "mimetype": "text/x-python",
   "name": "python",
   "nbconvert_exporter": "python",
   "pygments_lexer": "ipython3",
   "version": "3.9.7"
  }
 },
 "nbformat": 4,
 "nbformat_minor": 5
}
