{
 "cells": [
  {
   "cell_type": "code",
   "execution_count": null,
   "id": "d1ade43c-b6c3-4b09-8331-8cfeea94eeef",
   "metadata": {},
   "outputs": [],
   "source": [
    "import pandas as pd\n",
    "import os\n",
    "import sqlite3\n",
    "import numpy as np\n",
    "import matplotlib.pyplot as plt\n",
    "from datetime import datetime\n",
    "from scipy import stats\n",
    "import matplotlib\n",
    "from matplotlib.dates import DateFormatter\n",
    "import matplotlib.dates as md\n",
    "import datetime as dt\n"
   ]
  },
  {
   "cell_type": "code",
   "execution_count": null,
   "id": "19e4c743-7f04-4405-b0a4-a20d02cd34b2",
   "metadata": {},
   "outputs": [],
   "source": [
    "def time_to_int(dateobj):\n",
    "    total = int(dateobj.strftime('%S'))\n",
    "    total += int(dateobj.strftime('%M')) * 60\n",
    "    total += int(dateobj.strftime('%H')) * 60 * 60\n",
    "    total += (int(dateobj.strftime('%j')) - 1) * 60 * 60 * 24\n",
    "    total += (int(dateobj.strftime('%Y')) - 1970) * 60 * 60 * 24 * 365\n",
    "    return total\n",
    "\n",
    "def myfunc(x):\n",
    "    return slope * x + intercept"
   ]
  },
  {
   "cell_type": "code",
   "execution_count": null,
   "id": "17edba80-547f-484b-8b97-39cbb2030d2f",
   "metadata": {},
   "outputs": [],
   "source": [
    "db_filename = 'todo.db'\n",
    "\n",
    "db_is_new = not os.path.exists(db_filename)\n",
    "\n",
    "conn = sqlite3.connect(db_filename)\n",
    "\n",
    "if db_is_new:\n",
    "    print('Need to create schema')\n",
    "else:\n",
    "    print('Database exists, assume schema does, too.')\n",
    "\n",
    "conn.close()"
   ]
  },
  {
   "cell_type": "code",
   "execution_count": null,
   "id": "d1eda05e-aeab-4f3f-b98b-6ff5275874ba",
   "metadata": {},
   "outputs": [],
   "source": [
    "prices = pd.read_excel('SP1500_screener_multiple.xlsx',sheet_name=\"SP1500_Sectors_Indexes_Prices\")"
   ]
  },
  {
   "cell_type": "code",
   "execution_count": null,
   "id": "1387d6c7-6072-4941-bc02-dcd767bf6e02",
   "metadata": {},
   "outputs": [],
   "source": [
    "screener = pd.read_excel('SP1500_screener_multiple.xlsx',sheet_name=\"Screener\")"
   ]
  },
  {
   "cell_type": "code",
   "execution_count": null,
   "id": "29b9a366-e134-4217-8686-18f9cce19793",
   "metadata": {},
   "outputs": [],
   "source": [
    "screener['Symbol']"
   ]
  },
  {
   "cell_type": "code",
   "execution_count": 30,
   "id": "d07a954f-1e41-4112-a980-a9691a8f63c3",
   "metadata": {},
   "outputs": [],
   "source": [
    "threshold = .5"
   ]
  },
  {
   "cell_type": "code",
   "execution_count": 31,
   "id": "3683e62d-4d0e-476d-afa3-52ad82a1c96c",
   "metadata": {},
   "outputs": [],
   "source": [
    "risk_trend_threshold = screener[['risk_trend']].quantile(q=[threshold])\n",
    "risk_screened = screener[screener['risk_trend']>risk_trend_threshold['risk_trend'].values[0]]['Symbol'].values"
   ]
  },
  {
   "cell_type": "code",
   "execution_count": 32,
   "id": "a887c1c3-269e-4ff7-97d7-0f629b1e02e6",
   "metadata": {},
   "outputs": [
    {
     "data": {
      "text/plain": [
       "array(['INT', 'GHC', 'BBWI', 'DBI', 'CDW', 'SCL', 'JHG', 'HXL', 'CHDN',\n",
       "       'HNGR', 'MHK', 'M', 'MTDR', 'XRX', 'NTRS', 'WNC', 'PXD', 'NFLX',\n",
       "       'PNM', 'CFG', 'NI', 'GIS', 'UNP', 'SLB', 'KELYA', 'MPC', 'ZD',\n",
       "       'DEA', 'DXC', 'HUM', 'MCS', 'UBA', 'CCL', 'CBU', 'SRDX', 'BDC',\n",
       "       'LECO', 'AEL', 'HAE', 'OHI', 'TFC', 'ACHC', 'CARS', 'JAZZ', 'DTE',\n",
       "       'NSP', 'CTRA', 'PBF', 'FLR', 'RS', 'TTEC', 'FITB', 'FCN', 'CTVA',\n",
       "       'ALEX', 'MUR', 'CVET', 'ADM', 'FBP', 'CLB', 'VCR', 'PRI', 'MLI',\n",
       "       'AVD', 'MEDP', 'UAL', 'CHTR', 'HCC', 'LII', 'STBA', 'WBS', 'FBK',\n",
       "       'DHC', 'RC', 'MTRN', 'HQY', 'MIDD', 'IBOC', 'SBCF', 'CMS', 'MAS',\n",
       "       'CABO', 'PM', 'CSGS', 'COP', 'TT', 'UNM', 'CPRI', 'MTB', 'AZZ',\n",
       "       'PBH', 'HSY', 'INTU', 'UNVR', 'KMI', 'LDOS', 'LAD', 'KFY', 'MXL',\n",
       "       'BAC', 'WAB', 'VLY', 'ZBH', 'ABTX', 'WEC', 'CBT', 'DUK', 'ANSS',\n",
       "       'SNEX', 'GO', 'PETS', 'CSL', 'GNL', 'CMCSA', 'HES', 'UAA', 'BLK',\n",
       "       'LGND', 'MERC', 'AEE', 'OXY', 'LNW', 'CASY', 'PRGO', 'PTEN',\n",
       "       'ALGN', 'EMN', 'OLED', 'ASIX', 'SLCA', 'CRL', 'EL', 'WSR', 'ZBRA',\n",
       "       'EZPW', 'GPN', 'NXPI', 'XOM', 'MNRO', 'MRO', 'VIVO', 'CPRT', 'TPR',\n",
       "       'CADE', 'CDNS', 'CVBF', 'TALO', 'ODFL', 'PPBI', 'GS', 'AMED',\n",
       "       'RRC', 'IBTX', 'MYRG', 'FCFS', 'MLAB', 'PGR', 'SENEA', 'SVC',\n",
       "       'WGO', 'RF', 'MO', 'SCVL', 'FLO', 'WAT', 'UVV', 'IVZ', 'NX',\n",
       "       'CELH', 'SONO', 'CATO', 'WU', 'FARO', 'NVT', 'CARR', 'ADUS', 'EQT',\n",
       "       'WIRE', 'RGR', 'BRBR', 'GLW', 'MTD', 'ACA', 'VVI', 'VAW', 'DIS',\n",
       "       'MPWR', 'NOW', 'PLUS', 'UFPI', 'LUV', 'FWRD', 'EAT', 'WHR', 'MUSA',\n",
       "       'BIO', 'ROL', 'SPXC', 'AVGO', 'GNTX', 'TCBI', 'UE', 'PATK', 'CHE',\n",
       "       'SPSC', 'DORM', 'LUMN', 'G', 'HBI', 'PTC', 'AYI', 'HLIT', 'TILE',\n",
       "       'PDCE', 'WEN', 'USPH', 'TDS', 'FUL', 'HNI', 'LIN', 'GTLS', 'VFC',\n",
       "       'SCI', 'BLKB', 'ORCL', 'AGO', 'NJR', 'NDSN', 'EPC', 'FANG', 'FBC',\n",
       "       'LKFN', 'AZTA', 'CNC', 'GMS', 'LSTR', 'AIZ', 'LMT', 'BRKL', 'WING',\n",
       "       'VCEL', 'AXON', 'UPS', 'RILY', 'BCPC', 'PNW', 'PFE', 'ATI', 'CI',\n",
       "       'AJRD', 'IR', 'SWK', 'JBGS', 'UFI', 'CLX', 'BLD', 'AOS', 'BKR',\n",
       "       'TTGT', 'QDEL', 'UNFI', 'RMAX', 'EVTC', 'ECL', 'TWNK', 'BKNG',\n",
       "       'ARLO', 'CNX', 'HZO', 'PLMR', 'TAP', 'CIR', 'SHAK', 'ADTN', 'LVS',\n",
       "       'VTRS', 'SMP', 'EBS', 'AXL', 'KNX', 'CDMO', 'ADI', 'KMPR', 'URBN',\n",
       "       'BC', 'TPH', 'NMIH', 'FRC', 'HSKA', 'OGS', 'FBNC', 'PVH', 'SXI',\n",
       "       'STRA', 'NPK', 'APA', 'HTLD', 'BBY', 'ABC', 'ATO', 'DD', 'SHW',\n",
       "       'ENDP', 'PII', 'SFBS', 'LLY', 'CRMT', 'LOW', 'BANR', 'MSA', 'CZR',\n",
       "       'MDU', 'DECK', 'A', 'USB', 'ANTM', 'SAFM', 'OPCH', 'AGYS', 'COHU',\n",
       "       'VIAV', 'FOSL', 'GILD', 'AIR', 'VGR', 'SBH', 'NBHC', 'NYCB', 'OZK',\n",
       "       'CBRE', 'WAFD', 'MRCY', 'LL', 'XPO', 'TWTR', 'SKYW', 'SKX', 'CNP',\n",
       "       'KLAC', 'VSAT', 'AVY', 'JEF', 'NOV', 'CPSI', 'RLGY', 'CSII', 'NPO',\n",
       "       'HAFC', 'OSK', 'FICO', 'TREE', 'ABCB', 'ELY', 'CYTK', 'GBX',\n",
       "       'PLXS', 'WEX', 'LMAT', 'OSUR', 'KALU', 'HAL', 'IEX', 'EXP', 'THO',\n",
       "       'NAVI', 'DPZ', 'SR', 'TMHC', 'LCII', 'DIN', 'RGP', 'TRUP', 'HFWA',\n",
       "       'MNST', 'JBHT', 'TRMB', 'ADNT', 'FIX', 'AMG', 'ALLE', 'BIG',\n",
       "       'CIEN', 'QCOM', 'WMB', 'F', 'ARWR', 'ATNI', 'SLAB', 'ENOV', 'AMBC',\n",
       "       'RNST', 'TRGP', 'ONTO', 'JBL', 'MAN', 'EBAY', 'CNSL', 'DVAX',\n",
       "       'CAR', 'PCTY', 'MATW', 'NYMT', 'OFG', 'MCHP', 'MHO', 'MYGN', 'ITW',\n",
       "       'KOP', 'VRTS', 'EBIX', 'HP', 'CNK', 'SBRA', 'IDCC', 'CVX', 'EFX',\n",
       "       'CAKE', 'SRE', 'NVR', 'BRC', 'CONN', 'SNX', 'LITE', 'TG', 'FSLR',\n",
       "       'PHM', 'OSIS', 'ASTE', 'LNTH', 'XNCR', 'PRK', 'HWC', 'CTRE', 'HON',\n",
       "       'MTX', 'NEOG', 'CENT', 'NFG', 'RWT', 'MTCH', 'QURE', 'ETRN',\n",
       "       'TROW', 'IBP', 'AX', 'CVLT', 'JPM', 'SPTN', 'CENTA', 'HSC', 'TRST',\n",
       "       'FIZZ', 'MTG', 'CF', 'SFNC', 'CNXC', 'WWW', 'VREX', 'OTIS', 'WYNN',\n",
       "       'RPM', 'OSPN', 'IFF', 'AOSL', 'BANF', 'VBTX', 'FBHS', 'REX', 'RSG',\n",
       "       'WSFS', 'PFS', 'ED', 'INDB', 'KLIC', 'AMAT', 'BSIG', 'MGPI',\n",
       "       'VSTO', 'KEX', 'BK', 'TTC', 'JBT', 'SPNT', 'CMI', 'ARNC', 'TMUS',\n",
       "       'THRM', 'NOC', 'CFFN', 'ATGE', 'BHE', 'CB', 'ACIW', 'ENR', 'COHR',\n",
       "       'DBD', 'LRCX', 'APH', 'STC', 'KMX', 'RRGB', 'UCBI', 'MLKN', 'VRTV',\n",
       "       'TGNA', 'CCS', 'SO', 'PRFT', 'CRSR', 'CEVA', 'THRY', 'ANIP',\n",
       "       'CHUY', 'XEL', 'EGHT', 'QNST', 'FFIN', 'BJRI', 'KEYS', 'MAC',\n",
       "       'OPRX', 'BFH', 'OMCL', 'NBTB', 'AMSF', 'COLB', 'APPS', 'GNRC',\n",
       "       'VG', 'DLX', 'AEP', 'TEX', 'KTB', 'MU', 'FDX', 'BLDR', 'NFBK',\n",
       "       'SSD', 'AMD', 'IRBT', 'UFCS', 'CRM', 'GEO', 'DGX', 'MDC', 'APTV',\n",
       "       'VNT', 'TTMI', 'SAFE', 'UNF', 'KBH', 'GVA', 'TRIP', 'LEG', 'HCSG',\n",
       "       'PPG', 'GM', 'HI', 'FTV', 'TBK', 'DFIN', 'CMTL', 'GME', 'APD',\n",
       "       'YETI', 'IP', 'PBI', 'HD', 'TER', 'MTH', 'UCTT', 'ENS', 'LEN',\n",
       "       'BRKR', 'PIPR', 'EXC', 'SWKS', 'ETSY', 'MTZ', 'AMWD', 'KWR',\n",
       "       'RMBS', 'NLSN', 'ALRM', 'SAIA', 'LZB', 'CUBI', 'KMT', 'SBSI',\n",
       "       'GBCI', 'MED', 'B', 'AMCX', 'FSS', 'WDFC', 'CAMP', 'PAYC', 'DHI',\n",
       "       'OLLI', 'SMG', 'POWI', 'XPER', 'TPX', 'BLFS', 'SITM', 'AEIS',\n",
       "       'AAN', 'DAN', 'AAON', 'TKR', 'MODV', 'STX', 'LEA', 'KN', 'WRB',\n",
       "       'AEO', 'DIOD', 'DCI', 'PMT', 'FB', 'GPS', 'TEL', 'BKE', 'TCMD',\n",
       "       'ICHR', 'RH', 'BWA', 'MATX', 'BEN', 'MPAA', 'RUN', 'ADBE', 'C',\n",
       "       'GRMN', 'SBUX', 'SGH', 'PLCE', 'LPSN', 'ARR', 'LW', 'RGEN', 'GPMT',\n",
       "       'ORGO', 'GT', 'VNDA', 'GCI', 'FAF', 'AMKR', 'ECPG', 'ITT', 'RDNT',\n",
       "       'MKSI', 'SXT', 'EPAC', 'AAWW', 'ARCB', 'CROX', 'MCK', 'FHN',\n",
       "       'SYNA', 'PAHC', 'DDD', 'QRVO', 'JYNT', 'CVGW', 'ROG', 'NTGR',\n",
       "       'PNR', 'HIBB', 'TOL', 'BOOM', 'ADSK', 'IAA', 'PKE', 'ANIK', 'EVR',\n",
       "       'LSCC', 'JRVR', 'XPEL', 'IPGP', 'NP', 'CALX', 'FOXF', 'SWM', 'VIR',\n",
       "       'FIS', 'ACLS', 'SMTC', 'LGIH', 'INGN', 'TWO', 'PNTG', 'SEM',\n",
       "       'STAA', 'BMY', 'ESE', 'WTS', 'MMM', 'NKTR', 'CDAY', 'MASI', 'PDFS',\n",
       "       'FLGT', 'ONB', 'XYL', 'SNBR', 'EPAM', 'PENN', 'HVT', 'FL', 'PYPL',\n",
       "       'ROCK', 'GDOT', 'UEIC', 'SHEN', 'PRLB', 'TREX', 'IVR', 'CCMP',\n",
       "       'AMEH', 'LOCO', 'ZYXI', 'VRA', 'VICR', 'PRG', 'NEO', 'HSTM',\n",
       "       'MKTX', 'UVE', 'ITRI', 'MRNA', 'WW', 'BIIB', 'SJI', 'RCII', 'HCI',\n",
       "       'ATVI', 'SAM', 'CRNC', 'TVTY', 'CERN', 'Y', 'GCP', 'POLY', 'EHTH',\n",
       "       'CTXS', 'CDK', 'SLQT', 'MTOR', 'LHCG', 'REGI'], dtype=object)"
      ]
     },
     "execution_count": 32,
     "metadata": {},
     "output_type": "execute_result"
    }
   ],
   "source": [
    "risk_screened"
   ]
  },
  {
   "cell_type": "code",
   "execution_count": null,
   "id": "26d8cae3-bd44-467b-a09e-e1927a979f96",
   "metadata": {},
   "outputs": [],
   "source": [
    "screener.columns"
   ]
  },
  {
   "cell_type": "code",
   "execution_count": null,
   "id": "93908a82-0b90-4060-ae23-4e59eb2a046b",
   "metadata": {},
   "outputs": [],
   "source": [
    "above_1yearSDev = screener[screener['latest_p']>screener['mean_1y']+screener['std_1y']]['Symbol'].values\n",
    "above_2yearSDev = screener[screener['latest_p']>screener['mean_2y']+screener['std_2y']]['Symbol'].values\n",
    "above_yearSDev = np.intersect1d(above_1yearSDev,above_2yearSDev)"
   ]
  },
  {
   "cell_type": "code",
   "execution_count": 25,
   "id": "8f71b65a-b9ae-4df8-bdb3-018bcc680443",
   "metadata": {},
   "outputs": [
    {
     "data": {
      "text/plain": [
       "array(['ABM', 'ACC', 'ACHC', 'ADM', 'AEE', 'AEL', 'AEP', 'AGO', 'AIR',\n",
       "       'AIT', 'AIZ', 'ALB', 'AM', 'AMCR', 'AMPH', 'ANTM', 'APA', 'AROC',\n",
       "       'ASH', 'ATEN', 'ATI', 'ATO', 'AVD', 'AVT', 'AZO', 'AZPN', 'BANF',\n",
       "       'BCC', 'BKH', 'BKR', 'BMY', 'CACI', 'CAL', 'CASY', 'CB', 'CBT',\n",
       "       'CC', 'CDK', 'CEIX', 'CERN', 'CF', 'CHEF', 'CHRW', 'CI', 'CIVI',\n",
       "       'CMC', 'CMS', 'CNP', 'CNX', 'COKE', 'COP', 'CSGS', 'CSL', 'CTRA',\n",
       "       'CTS', 'CTVA', 'CVBF', 'CVX', 'CXW', 'CYTK', 'D', 'DAR', 'DGII',\n",
       "       'DINO', 'DLTR', 'DNOW', 'DOW', 'DRH', 'DTE', 'DUK', 'DVN', 'DY',\n",
       "       'ED', 'EIX', 'EOG', 'EQT', 'ES', 'ETR', 'EVRG', 'EXC', 'EXLS',\n",
       "       'EZPW', 'FANG', 'FBP', 'FCN', 'FHN', 'FLR', 'GD', 'GFF', 'GOGO',\n",
       "       'GPC', 'HAL', 'HALO', 'HCC', 'HES', 'HII', 'HP', 'HPQ', 'HRB',\n",
       "       'HST', 'HT', 'HWM', 'IBM', 'IIIN', 'IOSP', 'IRM', 'JKHY', 'K',\n",
       "       'KBR', 'KEX', 'KMI', 'KNSL', 'KO', 'KR', 'L', 'LDOS', 'LIN', 'LLY',\n",
       "       'LMT', 'LNT', 'LNTH', 'LPG', 'LPI', 'LPX', 'LTHM', 'LYB', 'MANT',\n",
       "       'MAR', 'MAT', 'MCK', 'MERC', 'MGPI', 'MO', 'MOS', 'MPC', 'MRK',\n",
       "       'MRO', 'MRTN', 'MTB', 'MTDR', 'MTOR', 'MUR', 'MUSA', 'MYE', 'NBR',\n",
       "       'NFG', 'NI', 'NJR', 'NLSN', 'NOC', 'NOV', 'NRG', 'NTCT', 'NTUS',\n",
       "       'NWN', 'OFG', 'OGE', 'OGS', 'OI', 'OIS', 'OKE', 'OLN', 'OPCH',\n",
       "       'OXY', 'PARR', 'PBF', 'PDCE', 'PEG', 'PGR', 'PKG', 'PLAB', 'PLUS',\n",
       "       'PM', 'POLY', 'POST', 'PPC', 'PPL', 'PRGS', 'PSB', 'PSX', 'PTEN',\n",
       "       'PUMP', 'PWR', 'PXD', 'RES', 'RGP', 'RLI', 'ROCC', 'RRC', 'RS',\n",
       "       'RTX', 'RYN', 'SAFM', 'SAFT', 'SAIL', 'SANM', 'SCI', 'SCSC',\n",
       "       'SENEA', 'SJI', 'SLB', 'SLCA', 'SLGN', 'SM', 'SNEX', 'SO', 'SPTN',\n",
       "       'SR', 'SRE', 'STLD', 'STZ', 'SWN', 'SWX', 'SYY', 'TALO', 'TGNA',\n",
       "       'THG', 'TMST', 'TRGP', 'TRV', 'TVTY', 'TWI', 'UFCS', 'ULTA', 'UNM',\n",
       "       'UNVR', 'UTHR', 'UTL', 'UVV', 'VAW', 'VIS', 'VIVO', 'VLO', 'VMI',\n",
       "       'VRTV', 'VRTX', 'WAB', 'WEC', 'WIRE', 'WMB', 'WRB', 'WSR', 'WWE',\n",
       "       'XEL', 'XOM', 'Y', 'ZEUS'], dtype=object)"
      ]
     },
     "execution_count": 25,
     "metadata": {},
     "output_type": "execute_result"
    }
   ],
   "source": [
    "above_yearSDev"
   ]
  },
  {
   "cell_type": "code",
   "execution_count": null,
   "id": "418a8256-64bb-4b08-b454-f0c87086c170",
   "metadata": {},
   "outputs": [],
   "source": [
    "above_2year_t = screener[screener['pct_2yr']>threshold]['Symbol'].values\n",
    "above_1year_t = screener[screener['pct_1yr']>threshold]['Symbol'].values\n",
    "above_years_t = np.intersect1d(above_2year_t,above_1year_t)"
   ]
  },
  {
   "cell_type": "code",
   "execution_count": 24,
   "id": "e8698fc4-014d-4806-897d-1edb83033707",
   "metadata": {},
   "outputs": [
    {
     "data": {
      "text/plain": [
       "array(['COP', 'LPI', 'PBF', 'ROCC', 'TALO'], dtype=object)"
      ]
     },
     "execution_count": 24,
     "metadata": {},
     "output_type": "execute_result"
    }
   ],
   "source": [
    "above_years_t"
   ]
  },
  {
   "cell_type": "code",
   "execution_count": null,
   "id": "bbc42c14-8dd3-4c95-97db-f08067281258",
   "metadata": {},
   "outputs": [],
   "source": [
    "above_combined = np.intersect1d(above_yearSDev,above_years_t)"
   ]
  },
  {
   "cell_type": "code",
   "execution_count": 26,
   "id": "519163cc-4b2c-46b8-b199-2567cc1adf4f",
   "metadata": {},
   "outputs": [
    {
     "data": {
      "text/plain": [
       "array(['COP', 'LPI', 'PBF', 'ROCC', 'TALO'], dtype=object)"
      ]
     },
     "execution_count": 26,
     "metadata": {},
     "output_type": "execute_result"
    }
   ],
   "source": [
    "above_combined"
   ]
  },
  {
   "cell_type": "code",
   "execution_count": 33,
   "id": "cce08031-d71f-4c15-9185-0a36d2eb3d4b",
   "metadata": {},
   "outputs": [],
   "source": [
    "screened_final_set = np.intersect1d(risk_screened,above_combined)"
   ]
  },
  {
   "cell_type": "code",
   "execution_count": 34,
   "id": "154b38ab-fe7c-4f96-803b-3f901fc68526",
   "metadata": {},
   "outputs": [
    {
     "data": {
      "text/plain": [
       "array(['COP', 'PBF', 'TALO'], dtype=object)"
      ]
     },
     "execution_count": 34,
     "metadata": {},
     "output_type": "execute_result"
    }
   ],
   "source": [
    "screened_final_set"
   ]
  },
  {
   "cell_type": "code",
   "execution_count": 36,
   "id": "e9769f43-93f1-40f8-aea6-13d8f51c5692",
   "metadata": {},
   "outputs": [],
   "source": []
  },
  {
   "cell_type": "code",
   "execution_count": 37,
   "id": "a659b86c-9710-4a24-a969-6d448497b064",
   "metadata": {},
   "outputs": [],
   "source": []
  },
  {
   "cell_type": "code",
   "execution_count": null,
   "id": "ef1ce8db-0df5-471d-9c85-cf3e5a25689c",
   "metadata": {},
   "outputs": [],
   "source": [
    "pd.plotting.plot_params = {'x_compat': True}"
   ]
  },
  {
   "cell_type": "code",
   "execution_count": 39,
   "id": "be39ed83-14cb-49e0-8bed-5a143bc34afa",
   "metadata": {},
   "outputs": [
    {
     "name": "stdout",
     "output_type": "stream",
     "text": [
      "COP\n"
     ]
    },
    {
     "name": "stderr",
     "output_type": "stream",
     "text": [
      "C:\\Users\\User\\AppData\\Local\\Temp/ipykernel_15260/2871192158.py:31: UserWarning: FixedFormatter should only be used together with FixedLocator\n",
      "  ax.set_xticklabels(ax.get_xticks(), rotation = 45)\n"
     ]
    },
    {
     "data": {
      "image/png": "[encoded data removed]",
      "text/plain": [
       "<Figure size 432x288 with 1 Axes>"
      ]
     },
     "metadata": {
      "needs_background": "light"
     },
     "output_type": "display_data"
    },
    {
     "name": "stdout",
     "output_type": "stream",
     "text": [
      "PBF\n"
     ]
    },
    {
     "data": {
      "image/png": "[encoded data removed]",
      "text/plain": [
       "<Figure size 432x288 with 1 Axes>"
      ]
     },
     "metadata": {
      "needs_background": "light"
     },
     "output_type": "display_data"
    },
    {
     "name": "stdout",
     "output_type": "stream",
     "text": [
      "TALO\n"
     ]
    },
    {
     "data": {
      "image/png": "[encoded data removed]",
      "text/plain": [
       "<Figure size 432x288 with 1 Axes>"
      ]
     },
     "metadata": {
      "needs_background": "light"
     },
     "output_type": "display_data"
    }
   ],
   "source": [
    "for s in screened_final_set:\n",
    "    print(s)\n",
    "    subset=prices[prices['Symbol']==s]\n",
    "    \n",
    "    dates = []\n",
    "    for t in subset['Date'].values:\n",
    "        d = pd.Timestamp(t).strftime('%Y-%m-%d')\n",
    "        dates.append(d)\n",
    "        dto = datetime.strptime(d, '%Y-%m-%d').date()\n",
    "\n",
    "    old_ordinal = [datetime.strptime(i, '%Y-%m-%d').toordinal() for i in dates]\n",
    "    new_ordinal = old_ordinal + md.date2num(np.datetime64('0000-12-31'))\n",
    "    x = new_ordinal\n",
    "    y= subset['Adj Close']\n",
    "\n",
    "    slope, intercept, r, p, std_err = stats.linregress(x, y)\n",
    "\n",
    "    mymodel = list(map(myfunc, x))\n",
    "\n",
    "    fig, ax = plt.subplots()\n",
    "    \n",
    "    plt.scatter(x, y)\n",
    "    plt.scatter(x, subset['trailing_1yr_max'])\n",
    "    plt.scatter(x, subset['trailing_1yr_min'])\n",
    "\n",
    "    plt.plot(x, mymodel)\n",
    "    \n",
    "    l = matplotlib.dates.AutoDateLocator()\n",
    "    f = matplotlib.dates.ConciseDateFormatter(l)    \n",
    "    \n",
    "    ax.set_xticklabels(ax.get_xticks(), rotation = 45)\n",
    "    \n",
    "    locator = matplotlib.dates.AutoDateLocator()\n",
    "    formatter = matplotlib.dates.ConciseDateFormatter(locator)\n",
    "\n",
    "    ax.xaxis.set_major_locator(locator)\n",
    "    ax.xaxis.set_major_formatter(formatter)\n",
    "    \n",
    "    date_form = DateFormatter(\"%Y-%m-%d\")\n",
    "    ax.xaxis.set_major_formatter(date_form)\n",
    "    plt.show()"
   ]
  }
 ],
 "metadata": {
  "kernelspec": {
   "display_name": "Python 3 (ipykernel)",
   "language": "python",
   "name": "python3"
  },
  "language_info": {
   "codemirror_mode": {
    "name": "ipython",
    "version": 3
   },
   "file_extension": ".py",
   "mimetype": "text/x-python",
   "name": "python",
   "nbconvert_exporter": "python",
   "pygments_lexer": "ipython3",
   "version": "3.9.7"
  }
 },
 "nbformat": 4,
 "nbformat_minor": 5
}
