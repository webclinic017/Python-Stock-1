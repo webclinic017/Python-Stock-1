{
 "cells": [
  {
   "cell_type": "code",
   "execution_count": 74,
   "id": "d1ade43c-b6c3-4b09-8331-8cfeea94eeef",
   "metadata": {},
   "outputs": [],
   "source": [
    "import pandas as pd\n",
    "import os\n",
    "import sqlite3\n",
    "import numpy as np\n",
    "import matplotlib.pyplot as plt\n",
    "from datetime import datetime\n",
    "from scipy import stats\n",
    "import matplotlib\n",
    "from matplotlib.dates import DateFormatter\n",
    "import matplotlib.dates as md\n",
    "import datetime as dt\n",
    "import pivottablejs"
   ]
  },
  {
   "cell_type": "code",
   "execution_count": 75,
   "id": "19e4c743-7f04-4405-b0a4-a20d02cd34b2",
   "metadata": {},
   "outputs": [],
   "source": [
    "def time_to_int(dateobj):\n",
    "    total = int(dateobj.strftime('%S'))\n",
    "    total += int(dateobj.strftime('%M')) * 60\n",
    "    total += int(dateobj.strftime('%H')) * 60 * 60\n",
    "    total += (int(dateobj.strftime('%j')) - 1) * 60 * 60 * 24\n",
    "    total += (int(dateobj.strftime('%Y')) - 1970) * 60 * 60 * 24 * 365\n",
    "    return total\n",
    "\n",
    "def myfunc(x):\n",
    "    return slope * x + intercept"
   ]
  },
  {
   "cell_type": "code",
   "execution_count": 76,
   "id": "17edba80-547f-484b-8b97-39cbb2030d2f",
   "metadata": {},
   "outputs": [
    {
     "name": "stdout",
     "output_type": "stream",
     "text": [
      "Database exists, assume schema does, too.\n"
     ]
    }
   ],
   "source": [
    "db_filename = 'todo.db'\n",
    "\n",
    "db_is_new = not os.path.exists(db_filename)\n",
    "\n",
    "conn = sqlite3.connect(db_filename)\n",
    "\n",
    "if db_is_new:\n",
    "    print('Need to create schema')\n",
    "else:\n",
    "    print('Database exists, assume schema does, too.')\n",
    "\n",
    "conn.close()"
   ]
  },
  {
   "cell_type": "code",
   "execution_count": 77,
   "id": "d1eda05e-aeab-4f3f-b98b-6ff5275874ba",
   "metadata": {},
   "outputs": [],
   "source": [
    "prices = pd.read_excel('SP1500_screener_multiple.xlsx',sheet_name=\"SP1500_Sectors_Indexes_Prices\")"
   ]
  },
  {
   "cell_type": "code",
   "execution_count": 78,
   "id": "1387d6c7-6072-4941-bc02-dcd767bf6e02",
   "metadata": {},
   "outputs": [],
   "source": [
    "screener = pd.read_excel('SP1500_screener_multiple.xlsx',sheet_name=\"Screener\")"
   ]
  },
  {
   "cell_type": "code",
   "execution_count": 79,
   "id": "29b9a366-e134-4217-8686-18f9cce19793",
   "metadata": {},
   "outputs": [
    {
     "data": {
      "text/plain": [
       "0      VOX\n",
       "1      VDE\n",
       "2      VDE\n",
       "3      VGT\n",
       "4      VIS\n",
       "5      VFH\n",
       "6      VAW\n",
       "7      VHT\n",
       "8      SLY\n",
       "9     MDYG\n",
       "10     VNQ\n",
       "11     VDC\n",
       "12     VPU\n",
       "13     VHT\n",
       "14     VFH\n",
       "15     VOX\n",
       "16    SPTM\n",
       "17     SPY\n",
       "18     VIS\n",
       "19     VCR\n",
       "20     VGT\n",
       "21     VDC\n",
       "22     VNQ\n",
       "23     VCR\n",
       "24     VPU\n",
       "25     VAW\n",
       "Name: Symbol, dtype: object"
      ]
     },
     "execution_count": 79,
     "metadata": {},
     "output_type": "execute_result"
    }
   ],
   "source": [
    "screener['Symbol']"
   ]
  },
  {
   "cell_type": "code",
   "execution_count": 80,
   "id": "d07a954f-1e41-4112-a980-a9691a8f63c3",
   "metadata": {},
   "outputs": [],
   "source": [
    "threshold = .9"
   ]
  },
  {
   "cell_type": "code",
   "execution_count": 81,
   "id": "3683e62d-4d0e-476d-afa3-52ad82a1c96c",
   "metadata": {},
   "outputs": [],
   "source": [
    "risk_trend_threshold = screener[['risk_trend']].quantile(q=[threshold])\n",
    "risk_screened = screener[screener['risk_trend']>risk_trend_threshold['risk_trend'].values[0]]['Symbol'].values"
   ]
  },
  {
   "cell_type": "code",
   "execution_count": 82,
   "id": "a887c1c3-269e-4ff7-97d7-0f629b1e02e6",
   "metadata": {},
   "outputs": [
    {
     "data": {
      "text/plain": [
       "array(['VPU', 'VAW'], dtype=object)"
      ]
     },
     "execution_count": 82,
     "metadata": {},
     "output_type": "execute_result"
    }
   ],
   "source": [
    "risk_screened"
   ]
  },
  {
   "cell_type": "code",
   "execution_count": 83,
   "id": "26d8cae3-bd44-467b-a09e-e1927a979f96",
   "metadata": {},
   "outputs": [
    {
     "data": {
      "text/plain": [
       "Index(['Unnamed: 0', 'Symbol', 'max_2y', 'min_2y', 'std_2y', 'mean_2y',\n",
       "       'max_1y', 'min_1y', 'std_1y', 'mean_1y', 'latest_p', '2yr_close_0pct',\n",
       "       '2yr_close_2pct', '2yr_close_9pct', '2yr_close_25pct',\n",
       "       '2yr_close_50pct', '2yr_close_75pct', '2yr_close_91pct',\n",
       "       '2yr_close_98pct', '2yr_close_100pct', '1yr_close_0pct',\n",
       "       '1yr_close_2pct', '1yr_close_9pct', '1yr_close_25pct',\n",
       "       '1yr_close_50pct', '2yr_close_75pct.1', '1yr_close_91pct',\n",
       "       '1yr_close_98pct', '1yr_close_100pct', 'risk_trend', 'supply_trend_1yr',\n",
       "       'supply_trend_180d', 'supply_trend_90d', 'supply_trend_60d',\n",
       "       'supply_trend_30d', 'vol_30d_2yr', 'pct_1yr', 'pct_2yr'],\n",
       "      dtype='object')"
      ]
     },
     "execution_count": 83,
     "metadata": {},
     "output_type": "execute_result"
    }
   ],
   "source": [
    "screener.columns"
   ]
  },
  {
   "cell_type": "code",
   "execution_count": 84,
   "id": "93908a82-0b90-4060-ae23-4e59eb2a046b",
   "metadata": {},
   "outputs": [],
   "source": [
    "#above_1yearSDev = screener[screener['latest_p']>screener['mean_1y']+screener['std_1y']]['Symbol'].values\n",
    "#above_2yearSDev = screener[screener['latest_p']>screener['mean_2y']+screener['std_2y']]['Symbol'].values\n",
    "#above_yearSDev = np.intersect1d(above_1yearSDev,above_2yearSDev)"
   ]
  },
  {
   "cell_type": "code",
   "execution_count": 85,
   "id": "8f71b65a-b9ae-4df8-bdb3-018bcc680443",
   "metadata": {},
   "outputs": [],
   "source": [
    "#above_yearSDev"
   ]
  },
  {
   "cell_type": "code",
   "execution_count": 86,
   "id": "418a8256-64bb-4b08-b454-f0c87086c170",
   "metadata": {},
   "outputs": [],
   "source": [
    "#above_2year_t = screener[screener['pct_2yr']>threshold]['Symbol'].values\n",
    "#above_1year_t = screener[screener['pct_1yr']>threshold]['Symbol'].values\n",
    "#above_years_t = np.intersect1d(above_2year_t,above_1year_t)"
   ]
  },
  {
   "cell_type": "code",
   "execution_count": 87,
   "id": "e8698fc4-014d-4806-897d-1edb83033707",
   "metadata": {},
   "outputs": [],
   "source": [
    "#above_years_t"
   ]
  },
  {
   "cell_type": "code",
   "execution_count": 88,
   "id": "bbc42c14-8dd3-4c95-97db-f08067281258",
   "metadata": {},
   "outputs": [],
   "source": [
    "#above_combined = np.intersect1d(above_yearSDev,above_years_t)"
   ]
  },
  {
   "cell_type": "code",
   "execution_count": 89,
   "id": "519163cc-4b2c-46b8-b199-2567cc1adf4f",
   "metadata": {},
   "outputs": [],
   "source": [
    "#above_combined"
   ]
  },
  {
   "cell_type": "code",
   "execution_count": 90,
   "id": "cce08031-d71f-4c15-9185-0a36d2eb3d4b",
   "metadata": {},
   "outputs": [],
   "source": [
    "#screened_final_set = np.intersect1d(risk_screened,above_combined)"
   ]
  },
  {
   "cell_type": "code",
   "execution_count": 91,
   "id": "154b38ab-fe7c-4f96-803b-3f901fc68526",
   "metadata": {},
   "outputs": [],
   "source": [
    "screened_final_set = risk_screened"
   ]
  },
  {
   "cell_type": "code",
   "execution_count": 72,
   "id": "e9769f43-93f1-40f8-aea6-13d8f51c5692",
   "metadata": {},
   "outputs": [
    {
     "data": {
      "text/plain": [
       "429299             NaN\n",
       "429300             NaN\n",
       "429301             NaN\n",
       "429302             NaN\n",
       "429303             NaN\n",
       "              ...     \n",
       "429799    2.221632e+07\n",
       "429800    2.224651e+07\n",
       "429801    2.227933e+07\n",
       "429802    2.231008e+07\n",
       "429803    2.233618e+07\n",
       "Name: 30d_vol, Length: 505, dtype: float64"
      ]
     },
     "execution_count": 72,
     "metadata": {},
     "output_type": "execute_result"
    }
   ],
   "source": []
  },
  {
   "cell_type": "code",
   "execution_count": null,
   "id": "a659b86c-9710-4a24-a969-6d448497b064",
   "metadata": {},
   "outputs": [],
   "source": [
    "subset.columns"
   ]
  },
  {
   "cell_type": "code",
   "execution_count": null,
   "id": "ef1ce8db-0df5-471d-9c85-cf3e5a25689c",
   "metadata": {},
   "outputs": [],
   "source": [
    "pd.plotting.plot_params = {'x_compat': True}"
   ]
  },
  {
   "cell_type": "code",
   "execution_count": 63,
   "id": "4e47e363-0dc5-4115-8c47-b324a8b61f73",
   "metadata": {},
   "outputs": [
    {
     "data": {
      "text/plain": [
       "1516"
      ]
     },
     "execution_count": 63,
     "metadata": {},
     "output_type": "execute_result"
    }
   ],
   "source": [
    "np.sum(np.isnan(screener['vol_30d_2yr']))"
   ]
  },
  {
   "cell_type": "code",
   "execution_count": 56,
   "id": "be39ed83-14cb-49e0-8bed-5a143bc34afa",
   "metadata": {},
   "outputs": [
    {
     "name": "stdout",
     "output_type": "stream",
     "text": [
      "COP\n",
      "supply trend: nan\n"
     ]
    },
    {
     "name": "stderr",
     "output_type": "stream",
     "text": [
      "C:\\Users\\User\\AppData\\Local\\Temp/ipykernel_15260/3097878683.py:34: UserWarning: FixedFormatter should only be used together with FixedLocator\n",
      "  ax.set_xticklabels(ax.get_xticks(), rotation = 45)\n"
     ]
    },
    {
     "data": {
      "image/png": "[encoded data removed]",
      "text/plain": [
       "<Figure size 432x288 with 1 Axes>"
      ]
     },
     "metadata": {
      "needs_background": "light"
     },
     "output_type": "display_data"
    },
    {
     "name": "stdout",
     "output_type": "stream",
     "text": [
      "PBF\n",
      "supply trend: nan\n"
     ]
    },
    {
     "data": {
      "image/png": "[encoded data removed]",
      "text/plain": [
       "<Figure size 432x288 with 1 Axes>"
      ]
     },
     "metadata": {
      "needs_background": "light"
     },
     "output_type": "display_data"
    },
    {
     "name": "stdout",
     "output_type": "stream",
     "text": [
      "TALO\n",
      "supply trend: nan\n"
     ]
    },
    {
     "data": {
      "image/png": "[encoded data removed]",
      "text/plain": [
       "<Figure size 432x288 with 1 Axes>"
      ]
     },
     "metadata": {
      "needs_background": "light"
     },
     "output_type": "display_data"
    }
   ],
   "source": [
    "for s in screened_final_set:\n",
    "    print(s)\n",
    "    subset=prices[prices['Symbol']==s]\n",
    "    \n",
    "    dates = []\n",
    "    for t in subset['Date'].values:\n",
    "        d = pd.Timestamp(t).strftime('%Y-%m-%d')\n",
    "        dates.append(d)\n",
    "        dto = datetime.strptime(d, '%Y-%m-%d').date()\n",
    "\n",
    "    old_ordinal = [datetime.strptime(i, '%Y-%m-%d').toordinal() for i in dates]\n",
    "    new_ordinal = old_ordinal + md.date2num(np.datetime64('0000-12-31'))\n",
    "    x = new_ordinal\n",
    "    y= subset['Adj Close']\n",
    "\n",
    "    slope, intercept, r, p, std_err = stats.linregress(x, y)\n",
    "\n",
    "    mymodel = list(map(myfunc, x))\n",
    "\n",
    "    fig, ax = plt.subplots()\n",
    "    \n",
    "    plt.scatter(x, y)\n",
    "    plt.scatter(x, subset['trailing_1yr_max'])\n",
    "    plt.scatter(x, subset['trailing_1yr_min'])\n",
    "    \n",
    "    plt.scatter(x, subset['supply_trend'])\n",
    "    print(\"supply trend:\",screener.loc[np.where(screener.set_index('Symbol').index==s)[0][0]]['vol_30d_2yr'])\n",
    "\n",
    "    plt.plot(x, mymodel)\n",
    "    \n",
    "    l = matplotlib.dates.AutoDateLocator()\n",
    "    f = matplotlib.dates.ConciseDateFormatter(l)    \n",
    "    \n",
    "    ax.set_xticklabels(ax.get_xticks(), rotation = 45)\n",
    "    \n",
    "    locator = matplotlib.dates.AutoDateLocator()\n",
    "    formatter = matplotlib.dates.ConciseDateFormatter(locator)\n",
    "\n",
    "    ax.xaxis.set_major_locator(locator)\n",
    "    ax.xaxis.set_major_formatter(formatter)\n",
    "    \n",
    "    date_form = DateFormatter(\"%Y-%m-%d\")\n",
    "    ax.xaxis.set_major_formatter(date_form)\n",
    "    plt.show()"
   ]
  }
 ],
 "metadata": {
  "kernelspec": {
   "display_name": "Python 3 (ipykernel)",
   "language": "python",
   "name": "python3"
  },
  "language_info": {
   "codemirror_mode": {
    "name": "ipython",
    "version": 3
   },
   "file_extension": ".py",
   "mimetype": "text/x-python",
   "name": "python",
   "nbconvert_exporter": "python",
   "pygments_lexer": "ipython3",
   "version": "3.9.7"
  }
 },
 "nbformat": 4,
 "nbformat_minor": 5
}
