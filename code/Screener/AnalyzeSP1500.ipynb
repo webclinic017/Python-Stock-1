{
 "cells": [
  {
   "cell_type": "code",
   "execution_count": null,
   "id": "d1ade43c-b6c3-4b09-8331-8cfeea94eeef",
   "metadata": {},
   "outputs": [],
   "source": [
    "import pandas as pd\n",
    "import os\n",
    "import sqlite3\n",
    "import numpy as np\n",
    "import matplotlib.pyplot as plt\n",
    "from datetime import datetime\n",
    "from scipy import stats\n",
    "import matplotlib\n",
    "from matplotlib.dates import DateFormatter\n",
    "import matplotlib.dates as md\n",
    "import datetime as dt\n",
    "from pivottablejs import pivot_ui\n",
    "from IPython.display import HTML\n",
    "import qgrid\n",
    "import ipywidgets as widgets"
   ]
  },
  {
   "cell_type": "code",
   "execution_count": null,
   "id": "19e4c743-7f04-4405-b0a4-a20d02cd34b2",
   "metadata": {},
   "outputs": [],
   "source": [
    "def time_to_int(dateobj):\n",
    "    total = int(dateobj.strftime('%S'))\n",
    "    total += int(dateobj.strftime('%M')) * 60\n",
    "    total += int(dateobj.strftime('%H')) * 60 * 60\n",
    "    total += (int(dateobj.strftime('%j')) - 1) * 60 * 60 * 24\n",
    "    total += (int(dateobj.strftime('%Y')) - 1970) * 60 * 60 * 24 * 365\n",
    "    return total\n",
    "\n",
    "def myfunc(x):\n",
    "    return slope * x + intercept"
   ]
  },
  {
   "cell_type": "code",
   "execution_count": null,
   "id": "17edba80-547f-484b-8b97-39cbb2030d2f",
   "metadata": {},
   "outputs": [],
   "source": [
    "db_filename = 'todo.db'\n",
    "\n",
    "db_is_new = not os.path.exists(db_filename)\n",
    "\n",
    "conn = sqlite3.connect(db_filename)\n",
    "\n",
    "if db_is_new:\n",
    "    print('Need to create schema')\n",
    "else:\n",
    "    print('Database exists, assume schema does, too.')\n",
    "\n",
    "conn.close()"
   ]
  },
  {
   "cell_type": "code",
   "execution_count": null,
   "id": "d1eda05e-aeab-4f3f-b98b-6ff5275874ba",
   "metadata": {},
   "outputs": [],
   "source": [
    "prices = pd.read_excel('SP1500_screener_multiple.xlsx',sheet_name=\"SP1500_Sectors_Indexes_Prices\")"
   ]
  },
  {
   "cell_type": "code",
   "execution_count": null,
   "id": "1387d6c7-6072-4941-bc02-dcd767bf6e02",
   "metadata": {},
   "outputs": [],
   "source": [
    "screener = pd.read_excel('SP1500_screener_multiple.xlsx',sheet_name=\"Screener\")"
   ]
  },
  {
   "cell_type": "code",
   "execution_count": null,
   "id": "e4c3dc2f-4373-42e2-92e3-94b2de10e18b",
   "metadata": {},
   "outputs": [],
   "source": [
    "stock_sectors = pd.read_excel('SP1500_screener_multiple.xlsx',sheet_name=\"stock_sectors\")\n",
    "stock_sectors.set_index(stock_sectors.columns[0],inplace=True)\n",
    "stock_sectors.columns = ['Symbol']"
   ]
  },
  {
   "cell_type": "code",
   "execution_count": null,
   "id": "2ea51c53-c08b-40cb-90f5-69d71f326a99",
   "metadata": {},
   "outputs": [],
   "source": [
    "stock_indexes = pd.read_excel('SP1500_screener_multiple.xlsx',sheet_name=\"SP1500\")\n",
    "stock_indexes.drop(stock_indexes.columns[0], axis=1, inplace=True)\n",
    "stock_indexes.set_index(stock_indexes.columns[0],inplace=True)\n",
    "stock_indexes"
   ]
  },
  {
   "cell_type": "code",
   "execution_count": null,
   "id": "cf7bc540-48e4-416a-a4b2-60e0dd9ece35",
   "metadata": {},
   "outputs": [],
   "source": [
    "spdr_indexes = pd.read_excel('SP1500_screener_multiple.xlsx',sheet_name=\"spdr_indexes\")\n",
    "#vanguard_sectors.drop(vanguard_sectors.columns[0], axis=1, inplace=True)\n",
    "spdr_indexes.set_index(spdr_indexes.columns[0],inplace=True)\n",
    "spdr_indexes.columns=['Symbol']\n",
    "spdr_indexes"
   ]
  },
  {
   "cell_type": "code",
   "execution_count": null,
   "id": "5d3acd2b-8d6b-4267-aff5-80c5c339ef70",
   "metadata": {},
   "outputs": [],
   "source": [
    "vanguard_sectors = pd.read_excel('SP1500_screener_multiple.xlsx',sheet_name=\"vanguard_sectors\")\n",
    "#vanguard_sectors.drop(vanguard_sectors.columns[0], axis=1, inplace=True)\n",
    "vanguard_sectors.set_index(vanguard_sectors.columns[0],inplace=True)\n",
    "vanguard_sectors.columns=['Symbol']\n",
    "vanguard_sectors"
   ]
  },
  {
   "cell_type": "code",
   "execution_count": null,
   "id": "a44a2b10-dacb-4077-8b2a-49bae6c4773e",
   "metadata": {},
   "outputs": [],
   "source": []
  },
  {
   "cell_type": "code",
   "execution_count": null,
   "id": "a56630f8-6533-4540-856b-d8d9451ef65b",
   "metadata": {},
   "outputs": [],
   "source": []
  },
  {
   "cell_type": "code",
   "execution_count": null,
   "id": "7f13a3ec-5048-4acc-ab5c-f798e1216b86",
   "metadata": {},
   "outputs": [],
   "source": [
    "sector_dataset = pd.DataFrame()\n",
    "\n",
    "for v in vanguard_sectors['Symbol']:\n",
    "    subset = prices[prices['Symbol']==v].set_index('Date')[['Adj Close']].asfreq('Q').pct_change()\n",
    "    \n",
    "    plt.plot(subset)\n",
    "    subset['Symbol'] = v\n",
    "    sector_dataset = pd.concat([sector_dataset,subset],axis=0)\n",
    "    #plt.xticks(np.array(subset.index)[np.arange(0,len(subset.index),int(len(subset.index)))], rotation=45)\n",
    "    plt.xticks(subset.index, rotation=45)\n",
    "plt.legend(vanguard_sectors['Symbol'].index,loc=2)    \n",
    "plt.show()\n",
    "\n",
    "d_ = []\n",
    "for d in sector_dataset.reset_index()['Date']:\n",
    "    d_.append(d.strftime('%Y-%m-%d'))\n"
   ]
  },
  {
   "cell_type": "code",
   "execution_count": null,
   "id": "201325e5-41f6-40d7-9813-838392f74be8",
   "metadata": {},
   "outputs": [],
   "source": [
    "\n",
    "sector_dataset['Date'] = d_\n",
    "\n",
    "sector_dataset = sector_dataset.reset_index(drop=True).set_index('Date')\n",
    "sector_dataset_pivot = sector_dataset.reset_index().pivot_table(values=['Adj Close'], index=['Symbol'],columns=['Date'])\n",
    "\n",
    "sector_dataset_pivot.columns = sector_dataset_pivot.columns.droplevel(0)\n",
    "sector_dataset_pivot"
   ]
  },
  {
   "cell_type": "code",
   "execution_count": null,
   "id": "8fd477d5-6c18-4afe-a963-cb0da248040d",
   "metadata": {},
   "outputs": [],
   "source": [
    "qgrid.show_grid(sector_dataset_pivot)"
   ]
  },
  {
   "cell_type": "code",
   "execution_count": null,
   "id": "9d326023-6ee2-4e23-abfd-72be6c6f4c80",
   "metadata": {},
   "outputs": [],
   "source": []
  },
  {
   "cell_type": "code",
   "execution_count": null,
   "id": "f5c13ce4-1039-4371-abc8-b77ae463fba9",
   "metadata": {},
   "outputs": [],
   "source": []
  },
  {
   "cell_type": "code",
   "execution_count": null,
   "id": "c750bb45-7e00-463d-8f62-ac55699125a3",
   "metadata": {},
   "outputs": [],
   "source": []
  },
  {
   "cell_type": "code",
   "execution_count": null,
   "id": "cf4c4762-d622-4199-b881-f00b1d4554b2",
   "metadata": {},
   "outputs": [],
   "source": []
  },
  {
   "cell_type": "code",
   "execution_count": null,
   "id": "7076c414-af60-4499-8532-6c6e5ac3b851",
   "metadata": {},
   "outputs": [],
   "source": []
  },
  {
   "cell_type": "code",
   "execution_count": null,
   "id": "afef3319-8c61-40f5-ac93-4a72ee751588",
   "metadata": {},
   "outputs": [],
   "source": []
  },
  {
   "cell_type": "code",
   "execution_count": null,
   "id": "df09d102-daa9-4620-bd05-0dc2df39f316",
   "metadata": {},
   "outputs": [],
   "source": [
    "for v in spdr_indexes['Symbol']:\n",
    "    subset = prices[prices['Symbol']==v].set_index('Date')\n",
    "    plt.plot(subset[['Adj Close']].asfreq('Q').pct_change())\n",
    "    plt.xticks(np.array(subset.index)[np.arange(0,len(subset.index),int(len(subset.index)/10))], rotation=45)\n",
    "plt.legend(spdr_indexes['Symbol'].index)    \n",
    "plt.show()"
   ]
  },
  {
   "cell_type": "code",
   "execution_count": null,
   "id": "29b9a366-e134-4217-8686-18f9cce19793",
   "metadata": {},
   "outputs": [],
   "source": [
    "screener['Symbol']"
   ]
  },
  {
   "cell_type": "code",
   "execution_count": null,
   "id": "d07a954f-1e41-4112-a980-a9691a8f63c3",
   "metadata": {},
   "outputs": [],
   "source": [
    "threshold = .75"
   ]
  },
  {
   "cell_type": "code",
   "execution_count": null,
   "id": "3683e62d-4d0e-476d-afa3-52ad82a1c96c",
   "metadata": {},
   "outputs": [],
   "source": [
    "risk_trend_threshold = screener[['risk_trend']].quantile(q=[threshold])\n",
    "risk_screened = screener[screener['risk_trend']>risk_trend_threshold['risk_trend'].values[0]]['Symbol'].values"
   ]
  },
  {
   "cell_type": "code",
   "execution_count": null,
   "id": "a887c1c3-269e-4ff7-97d7-0f629b1e02e6",
   "metadata": {},
   "outputs": [],
   "source": [
    "risk_screened"
   ]
  },
  {
   "cell_type": "code",
   "execution_count": null,
   "id": "26d8cae3-bd44-467b-a09e-e1927a979f96",
   "metadata": {},
   "outputs": [],
   "source": [
    "screener.columns"
   ]
  },
  {
   "cell_type": "code",
   "execution_count": null,
   "id": "93908a82-0b90-4060-ae23-4e59eb2a046b",
   "metadata": {},
   "outputs": [],
   "source": [
    "above_1yearSDev = screener[screener['latest_p']>screener['mean_1y']+screener['std_1y']]['Symbol'].values\n",
    "above_2yearSDev = screener[screener['latest_p']>screener['mean_2y']+screener['std_2y']]['Symbol'].values\n",
    "above_yearSDev = np.intersect1d(above_1yearSDev,above_2yearSDev)"
   ]
  },
  {
   "cell_type": "code",
   "execution_count": null,
   "id": "8f71b65a-b9ae-4df8-bdb3-018bcc680443",
   "metadata": {},
   "outputs": [],
   "source": [
    "#above_yearSDev"
   ]
  },
  {
   "cell_type": "code",
   "execution_count": null,
   "id": "418a8256-64bb-4b08-b454-f0c87086c170",
   "metadata": {},
   "outputs": [],
   "source": [
    "above_2year_t = screener[screener['pct_2yr']>threshold]['Symbol'].values\n",
    "above_1year_t = screener[screener['pct_1yr']>threshold]['Symbol'].values\n",
    "above_years_t = np.intersect1d(above_2year_t,above_1year_t)"
   ]
  },
  {
   "cell_type": "code",
   "execution_count": null,
   "id": "e8698fc4-014d-4806-897d-1edb83033707",
   "metadata": {},
   "outputs": [],
   "source": [
    "#above_years_t"
   ]
  },
  {
   "cell_type": "code",
   "execution_count": null,
   "id": "bbc42c14-8dd3-4c95-97db-f08067281258",
   "metadata": {},
   "outputs": [],
   "source": [
    "above_combined = np.intersect1d(above_yearSDev,above_years_t)"
   ]
  },
  {
   "cell_type": "code",
   "execution_count": null,
   "id": "519163cc-4b2c-46b8-b199-2567cc1adf4f",
   "metadata": {},
   "outputs": [],
   "source": [
    "#above_combined"
   ]
  },
  {
   "cell_type": "code",
   "execution_count": null,
   "id": "cce08031-d71f-4c15-9185-0a36d2eb3d4b",
   "metadata": {},
   "outputs": [],
   "source": [
    "screened_final_set = np.intersect1d(risk_screened,above_combined)"
   ]
  },
  {
   "cell_type": "code",
   "execution_count": null,
   "id": "154b38ab-fe7c-4f96-803b-3f901fc68526",
   "metadata": {},
   "outputs": [],
   "source": [
    "#screened_final_set = risk_screened\n",
    "screened_final_set"
   ]
  },
  {
   "cell_type": "code",
   "execution_count": null,
   "id": "e9769f43-93f1-40f8-aea6-13d8f51c5692",
   "metadata": {},
   "outputs": [],
   "source": []
  },
  {
   "cell_type": "code",
   "execution_count": null,
   "id": "a659b86c-9710-4a24-a969-6d448497b064",
   "metadata": {},
   "outputs": [],
   "source": []
  },
  {
   "cell_type": "code",
   "execution_count": null,
   "id": "ef1ce8db-0df5-471d-9c85-cf3e5a25689c",
   "metadata": {},
   "outputs": [],
   "source": []
  },
  {
   "cell_type": "code",
   "execution_count": null,
   "id": "4e47e363-0dc5-4115-8c47-b324a8b61f73",
   "metadata": {},
   "outputs": [],
   "source": []
  },
  {
   "cell_type": "code",
   "execution_count": null,
   "id": "e3191e95-0d95-4860-9faf-5f7758b667a9",
   "metadata": {},
   "outputs": [],
   "source": [
    "#pivot_ui(prices, outfile_path='pivottablejs.html')\n",
    "#HTML('pivottablejs.html')"
   ]
  },
  {
   "cell_type": "code",
   "execution_count": null,
   "id": "be39ed83-14cb-49e0-8bed-5a143bc34afa",
   "metadata": {},
   "outputs": [],
   "source": [
    "for s in screened_final_set:\n",
    "    print(s)\n",
    "    subset=prices[prices['Symbol']==s]\n",
    "    \n",
    "    dates = []\n",
    "    for t in subset['Date'].values:\n",
    "        d = pd.Timestamp(t).strftime('%Y-%m-%d')\n",
    "        dates.append(d)\n",
    "        dto = datetime.strptime(d, '%Y-%m-%d').date()\n",
    "\n",
    "    old_ordinal = [datetime.strptime(i, '%Y-%m-%d').toordinal() for i in dates]\n",
    "    new_ordinal = old_ordinal + md.date2num(np.datetime64('0000-12-31'))\n",
    "    x = new_ordinal\n",
    "    y= subset['Adj Close']\n",
    "\n",
    "    slope, intercept, r, p, std_err = stats.linregress(x, y)\n",
    "\n",
    "    mymodel = list(map(myfunc, x))\n",
    "\n",
    "    fig, ax = plt.subplots()\n",
    "    \n",
    "    plt.scatter(x, y)\n",
    "    plt.scatter(x, subset['trailing_1yr_max'])\n",
    "    plt.scatter(x, subset['trailing_1yr_min'])\n",
    "    \n",
    "    #plt.scatter(x, subset['supply_trend'])\n",
    "    plt.scatter(x, subset['supply_trend_1yr'])\n",
    "    print(\"supply trend:\",screener.loc[np.where(screener.set_index('Symbol').index==s)[0][0]]['vol_30d_2yr'])\n",
    "    print(\"Sector:\", stock_sectors.iloc[np.where(np.array(stock_sectors.index)==s)[0][0]][0])\n",
    "    print(\"Index:\", stock_indexes.iloc[np.where(np.array(stock_indexes.index)==s)[0][0]][0])\n",
    "    \n",
    "    #print(\"Sector:\",screener.loc[np.where(screener.set_index('Symbol').index==s)[0][0]]['Sector'])\n",
    "    #print(\"Sector:\",screener.loc[np.where(screener.set_index('Symbol').index==s)[0][0]]['vol_30d_2yr'])\n",
    "\n",
    "    plt.plot(x, mymodel)\n",
    "    \n",
    "    l = matplotlib.dates.AutoDateLocator()\n",
    "    f = matplotlib.dates.ConciseDateFormatter(l)    \n",
    "    \n",
    "    ax.set_xticklabels(ax.get_xticks(), rotation = 45)\n",
    "    \n",
    "    locator = matplotlib.dates.AutoDateLocator()\n",
    "    formatter = matplotlib.dates.ConciseDateFormatter(locator)\n",
    "\n",
    "    ax.xaxis.set_major_locator(locator)\n",
    "    ax.xaxis.set_major_formatter(formatter)\n",
    "    \n",
    "    date_form = DateFormatter(\"%Y-%m-%d\")\n",
    "    ax.xaxis.set_major_formatter(date_form)\n",
    "    plt.show()"
   ]
  }
 ],
 "metadata": {
  "kernelspec": {
   "display_name": "Python 3 (ipykernel)",
   "language": "python",
   "name": "python3"
  },
  "language_info": {
   "codemirror_mode": {
    "name": "ipython",
    "version": 3
   },
   "file_extension": ".py",
   "mimetype": "text/x-python",
   "name": "python",
   "nbconvert_exporter": "python",
   "pygments_lexer": "ipython3",
   "version": "3.9.7"
  }
 },
 "nbformat": 4,
 "nbformat_minor": 5
}
