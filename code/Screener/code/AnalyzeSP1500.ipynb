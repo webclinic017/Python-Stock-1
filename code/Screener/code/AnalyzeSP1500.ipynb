{
 "cells": [
  {
   "cell_type": "code",
   "execution_count": null,
   "id": "54a9d05a-a1d5-4f4c-a68f-884d49aeb201",
   "metadata": {},
   "outputs": [],
   "source": []
  },
  {
   "cell_type": "code",
   "execution_count": null,
   "id": "71e2d4bb-dcca-41bb-9c62-081bb5f88e02",
   "metadata": {},
   "outputs": [],
   "source": []
  },
  {
   "cell_type": "code",
   "execution_count": null,
   "id": "b0b7a6d5-288f-435a-8cb8-e7513a912d47",
   "metadata": {},
   "outputs": [],
   "source": []
  },
  {
   "cell_type": "code",
   "execution_count": null,
   "id": "d1ade43c-b6c3-4b09-8331-8cfeea94eeef",
   "metadata": {
    "tags": []
   },
   "outputs": [],
   "source": [
    "from IPython.display import HTML\n",
    "from vevestaX import vevesta as v\n",
    "from IPython.display import display, HTML\n",
    "from PIL import Image\n",
    "from dask.distributed import Client\n",
    "from dask.distributed import as_completed\n",
    "from datetime import datetime\n",
    "from dateutil.relativedelta import relativedelta\n",
    "from matplotlib.dates import DateFormatter\n",
    "from pandas.io.formats.style import Styler\n",
    "from pivottablejs import pivot_ui\n",
    "from pmdarima.arima import auto_arima\n",
    "from scipy import stats\n",
    "from sklearn.metrics import mean_squared_error\n",
    "from sklearn.model_selection import TimeSeriesSplit\n",
    "from statsmodels.tsa.statespace.varmax import VARMAX\n",
    "from random import random\n",
    "import pyfolio as pf\n",
    "from random import sample\n",
    "import scipy.stats as st\n",
    "import scipy\n",
    "from itertools import combinations\n",
    "from scipy import stats\n",
    "import random\n",
    "from mlxtend.feature_selection import SequentialFeatureSelector as SFS\n",
    "from sklearn.linear_model import LinearRegression\n",
    "\n",
    "\n",
    "# use automatically configured elastic net algorithm\n",
    "from numpy import arange\n",
    "from pandas import read_csv\n",
    "from sklearn.linear_model import ElasticNetCV\n",
    "from sklearn.model_selection import RepeatedKFold\n",
    "\n",
    "\n",
    "from numpy import array\n",
    "from numpy import hstack\n",
    "from keras.models import Sequential\n",
    "from keras.layers import LSTM\n",
    "from keras.layers import Dense\n",
    "from keras.layers import RepeatVector\n",
    "from keras.layers import TimeDistributed\n",
    "\n",
    "import re\n",
    "from statsmodels.stats.outliers_influence import summary_table\n",
    "import datetime as dt\n",
    "import matplotlib\n",
    "import matplotlib as mp\n",
    "import matplotlib as mpl\n",
    "import matplotlib.dates as md\n",
    "import matplotlib.pyplot as plt\n",
    "import numpy as np\n",
    "import os\n",
    "import pandas as pd\n",
    "import pandas_market_calendars as mcal\n",
    "import pickle\n",
    "import rpy2\n",
    "import seaborn as sns\n",
    "import sqlite3\n",
    "import statsmodels.api as sm\n",
    "import warnings\n",
    "from ipywidgets import interact, interactive, fixed, interact_manual\n",
    "import ipywidgets as widgets\n",
    "import statsmodels\n",
    "from statsmodels.tsa.exponential_smoothing.ets import ETSModel\n",
    "from rpy2.robjects import pandas2ri\n",
    "from rpy2.robjects.conversion import localconverter\n",
    "from rpy2.robjects.packages import importr\n",
    "import rpy2\n",
    "import rpy2.robjects as ro\n",
    "import time\n",
    "from clustergram import Clustergram\n",
    "from sklearn.cluster import DBSCAN\n",
    "from sklearn.cluster import KMeans\n",
    "from sklearn.decomposition import PCA\n",
    "from scipy.cluster.vq import vq\n",
    "from sklearn.metrics import silhouette_samples, silhouette_score\n",
    "from sklearn.preprocessing import scale\n",
    "from k_means_constrained import KMeansConstrained\n",
    "from scipy.stats import f as f_\n",
    "from matplotlib.colors import LinearSegmentedColormap\n",
    "from IPython.display import HTML as html_print\n",
    "from IPython.display import display\n",
    "import statsmodels.formula.api as smf\n",
    "\n",
    "\n",
    "\n",
    "from itertools import permutations \n",
    "  \n",
    "# univariate bidirectional lstm example\n",
    "from numpy import array\n",
    "\n",
    "\"\"\"\n",
    "from tensorflow.keras.layers import Input, Multiply\n",
    "from tensorflow.keras.models import Model\n",
    "\"\"\"\n",
    "\n",
    "from keras.models import Sequential\n",
    "from keras.layers import LSTM\n",
    "from keras.layers import Dense\n",
    "from keras.layers import Bidirectional\n",
    "\n",
    "import tensorflow as tf\n",
    "print(\"Num GPUs Available: \", len(tf.config.list_physical_devices('GPU')))\n",
    "gpus = tf.config.list_logical_devices('GPU')\n",
    "\n",
    "pd.options.display.max_columns = 50\n",
    "pd.options.display.max_rows = 200\n",
    "\n",
    "import pandas as pd\n",
    "from rpy2.robjects import pandas2ri\n",
    "from prophet import Prophet\n",
    "from multi_prophet.multi_prophet import MultiProphet\n",
    "\n",
    "from statsmodels.tsa.statespace.varmax import VARMAX\n",
    "import joblib"
   ]
  },
  {
   "cell_type": "code",
   "execution_count": null,
   "id": "86ec93b6-a52b-4aac-afe8-4b405ac9d9c8",
   "metadata": {},
   "outputs": [],
   "source": [
    "def split_sequence(sequence, n_steps_in, n_steps_out):\n",
    "\tX, y = list(), list()\n",
    "\tfor i in range(len(sequence)):\n",
    "\t\t# find the end of this pattern\n",
    "\t\tend_ix = i + n_steps_in\n",
    "\t\tout_end_ix = end_ix + n_steps_out\n",
    "\t\t# check if we are beyond the sequence\n",
    "\t\tif out_end_ix > len(sequence):\n",
    "\t\t\tbreak\n",
    "\t\t# gather input and output parts of the pattern\n",
    "\t\tseq_x, seq_y = sequence[i:end_ix], sequence[end_ix:out_end_ix]\n",
    "\t\tX.append(seq_x)\n",
    "\t\ty.append(seq_y)\n",
    "\treturn array(X), array(y)"
   ]
  },
  {
   "cell_type": "code",
   "execution_count": null,
   "id": "2120b7c8-6f66-4e05-94c3-cf6a5baa5460",
   "metadata": {},
   "outputs": [],
   "source": [
    "\"\"\"\n",
    "# split a univariate sequence\n",
    "def split_sequence(sequence, n_steps):\n",
    "\tX, y = list(), list()\n",
    "\tfor i in range(len(sequence)):\n",
    "\t\t# find the end of this pattern\n",
    "\t\tend_ix = i + n_steps\n",
    "\t\t# check if we are beyond the sequence\n",
    "\t\tif end_ix > len(sequence)-1:\n",
    "\t\t\tbreak\n",
    "\t\t# gather input and output parts of the pattern\n",
    "\t\tseq_x, seq_y = sequence[i:end_ix], sequence[end_ix]\n",
    "\t\tX.append(seq_x)\n",
    "\t\ty.append(seq_y)\n",
    "\treturn array(X), array(y)\n",
    "\"\"\""
   ]
  },
  {
   "cell_type": "code",
   "execution_count": null,
   "id": "d5f54772-8e5b-4d1c-b5c7-46b644c45beb",
   "metadata": {},
   "outputs": [],
   "source": [
    "def convert_dates(ds):\n",
    "    date = pd.to_datetime(ds)\n",
    "    return(date)"
   ]
  },
  {
   "cell_type": "code",
   "execution_count": null,
   "id": "2a7f7e3d-658b-42c3-a2c5-2ffb792b37ef",
   "metadata": {},
   "outputs": [],
   "source": [
    "def format_vertical_headers(df):\n",
    "    \"\"\"Display a dataframe with vertical column headers\"\"\"\n",
    "    styles = [dict(selector=\"th\", props=[('width', '40px')]),\n",
    "              dict(selector=\"th.col_heading\",\n",
    "                   props=[(\"writing-mode\", \"vertical-rl\"),\n",
    "                          ('transform', 'rotateZ(180deg)'), \n",
    "                          ('height', '290px'),\n",
    "                          ('vertical-align', 'top')])]\n",
    "    return (df.fillna('').style.set_table_styles(styles))"
   ]
  },
  {
   "cell_type": "code",
   "execution_count": null,
   "id": "8e37e766-4331-4821-99bd-0680ffdf3bd7",
   "metadata": {},
   "outputs": [],
   "source": [
    "#if not sys.warnoptions:\n",
    "#    import warnings\n",
    "#    warnings.simplefilter(\"ignore\")\n",
    "\n",
    "wd = os.getcwd()\n",
    "\n",
    "if (os.defpath==\".;C:\\\\bin\"):\n",
    "    os.environ['R_HOME'] = 'C:/Users/User/Documents/R/R-4.1.2'\n",
    "    os.environ['R_LIBS'] = 'C:/Users/User/Documents/R/R-4.1.2/library'\n",
    "    from OLS_LR_DiagnosticPlots.ModelDiagnostics import Plot\n",
    "else:\n",
    "    os.environ['R_HOME'] = '/mnt/distvol/R/4.0.5/lib64/R/'\n",
    "\n",
    "pandas2ri.activate()\n"
   ]
  },
  {
   "cell_type": "code",
   "execution_count": null,
   "id": "c955f43d-9872-4b22-8b0b-686d51bbacfb",
   "metadata": {},
   "outputs": [],
   "source": [
    "\n",
    "#robjects.ro['version']\n",
    "\n",
    "base = importr('base')\n",
    "#grdevices = importr('grDevices')\n",
    "print(base._libPaths())\n",
    "\n",
    "timetk = importr('timetk')\n",
    "magrittr = importr('magrittr')\n",
    "dplyr = importr('dplyr')\n",
    "tidyverse = importr('tidyverse')\n",
    "nbclust = importr('NbClust')\n",
    "grdevices = importr('grDevices')\n"
   ]
  },
  {
   "cell_type": "code",
   "execution_count": null,
   "id": "d88fb26c-a7cf-4b8d-b96c-8a1abf3a73a6",
   "metadata": {},
   "outputs": [],
   "source": []
  },
  {
   "cell_type": "code",
   "execution_count": null,
   "id": "89df587e-2842-43ff-b29d-8132fb0d798e",
   "metadata": {},
   "outputs": [],
   "source": []
  },
  {
   "cell_type": "code",
   "execution_count": null,
   "id": "514b479a-a439-4905-9d5b-758e15b99163",
   "metadata": {},
   "outputs": [],
   "source": []
  },
  {
   "cell_type": "code",
   "execution_count": null,
   "id": "59ccb3eb-f028-43da-aa35-2afd62c7fd95",
   "metadata": {},
   "outputs": [],
   "source": [
    "si = ['03-31','06-30','09-30','12-31']\n",
    "\n",
    "#future_commodities_n_w_index_pvt_w_Fred is fred index's and not futures merged with futures data\n",
    "#future_commodities_n_w_index_pvt_w_Fred = pd.read_csv('..\\\\data\\\\processed\\\\'+end.strftime('%Y-%m-%d')+'_future_commodities_n_w_index_pvt_w_Fred.csv')\n",
    "#[start,end,prices_df, sp1500_index_df, sp500, sp600, sp400, market_data, completed_fred_pvt, completed_bonds, completed_bonds_pvt, sectors, indexes, screener_sorted, dict_sectors, dict_indexes, dict_sectors_reverse, invert_dict_indexes, list_sector_n_indexes, list_stocks] = pickle.load(open('..\\\\data\\\\interim\\\\data_object.pkl', 'rb'))\n",
    "[start,end,prices_df, sp1500_index_df, sp500, sp600, sp400, market_data, completed_fred_pvt, completed_bonds, completed_bonds_pvt, sectors, indexes, screener_sorted, dict_sectors, dict_indexes, dict_sectors_reverse, invert_dict_indexes, list_sector_n_indexes, list_stocks,future_commodities_n_w_index_pvt_w_Fred, price_comm_df_pvt] = pickle.load(open('..\\\\data\\\\interim\\\\data_object.pkl', 'rb'))\n",
    "completed_fred_pvt.columns = completed_fred_pvt.columns.droplevel(0)\n",
    "\n",
    "fred_friendly_names = ['Consumer Loans','Copper','Iron and Steel','Gold','Unemployment','Market volatility','Commercial-Industrial Loans','Average Weekly Hours','Credit to Income','Consumer Confidence','Oil Prices','Inflation','Housing Prices','Interest Rates','10 Year to 3 Month','Recession Indicator','OECD Leading Indicator','Coincident Index','Index: Industrial Production','Mfr Orders Excl AC','Personal Expenditures',]\n",
    "fred_names = ['CONSUMER','WPUSI019011','WPU101','GVZCLS','UNRATE','VIXCLS','BUSLOANS','AWHAETP','UMCSENT','TDSP','DCOILWTICO','CPIAUCSL','CSUSHPINSA','FEDFUNDS','T10Y3M','USREC','USALOLITONOSTSAM','USPHCI','INDPRO','NEWORDER','PCE']\n",
    "\n",
    "dict_fred = dict(zip(*[fred_names,fred_friendly_names]))\n",
    "\n",
    "nyse = mcal.get_calendar('NYSE')\n",
    "nyse_dates = nyse.schedule(start_date=start, end_date=end)\n",
    "\n",
    "fundamentals_quarterlies = pickle.load(open('..\\\\data\\\\interim\\\\fundamental.pkl', 'rb'))\n",
    "fundamental_entries = [e[0] for e in fundamentals_quarterlies]\n",
    "\n",
    "sectors.columns = ['Symbol']\n",
    "indexes.columns = ['Symbol']\n",
    "\n",
    "newDates = pd.date_range((end+ dt.timedelta(7)).strftime('%Y-%m-%d'), (end + dt.timedelta(92)).strftime('%Y-%m-%d'), freq='W-'+nyse_dates.index[-1].strftime('%a')).map(lambda t: t.strftime('%Y-%m-%d'))\n"
   ]
  },
  {
   "cell_type": "code",
   "execution_count": null,
   "id": "44c278ef-91a0-4245-94bc-a8e6398e0efb",
   "metadata": {},
   "outputs": [],
   "source": [
    "#prices_df.to_csv(\"prices_df.csv\")"
   ]
  },
  {
   "cell_type": "code",
   "execution_count": null,
   "id": "f7d9d190-7107-42e0-99a8-6f2e0eb24b7b",
   "metadata": {},
   "outputs": [],
   "source": [
    "#temp_df = prices_df[['Open','High','Low','Close','Adj Close','Volume','Symbol']]"
   ]
  },
  {
   "cell_type": "code",
   "execution_count": null,
   "id": "85bc02b8-0d3b-4c4f-a86b-967205c67c32",
   "metadata": {},
   "outputs": [],
   "source": [
    "#pd.melt(temp_df.reset_index(), id_vars=['Open','High','Low','Close','Adj Close','Volume','Symbol'], var_name=['index'])"
   ]
  },
  {
   "cell_type": "code",
   "execution_count": null,
   "id": "265b7ddb-65da-44dc-bd9c-93daed9f8f6a",
   "metadata": {},
   "outputs": [],
   "source": []
  },
  {
   "cell_type": "code",
   "execution_count": null,
   "id": "9fb023f9-b103-4dcd-a261-f9a752762d0c",
   "metadata": {},
   "outputs": [],
   "source": []
  },
  {
   "cell_type": "code",
   "execution_count": null,
   "id": "3b867886-af69-4522-adad-fc6aa79dd7b0",
   "metadata": {},
   "outputs": [],
   "source": []
  },
  {
   "cell_type": "code",
   "execution_count": null,
   "id": "8731b300-1c6e-4444-b89a-c5d9cd6f4edb",
   "metadata": {},
   "outputs": [],
   "source": []
  },
  {
   "cell_type": "code",
   "execution_count": null,
   "id": "57699d5b-ae89-436e-8741-9d949550b724",
   "metadata": {},
   "outputs": [],
   "source": []
  },
  {
   "cell_type": "code",
   "execution_count": null,
   "id": "ec64383b-7f56-4e05-8401-01a69fd88df0",
   "metadata": {},
   "outputs": [],
   "source": [
    "def clientFunction(function_name,vars):\n",
    "    client = Client('192.168.3.100:8786')\n",
    "    client.restart()\n",
    "    future_ = client.map(function_name,vars)\n",
    "    results = []\n",
    "    #my intent was to capture future objects vs results and this gave me results\n",
    "    for f in as_completed(future_):\n",
    "        if(f.status==\"error\"):\n",
    "            results.append(\"error\")\n",
    "        else:\n",
    "            results.append(f.result()) \n",
    "    client.close()\n",
    "    return results"
   ]
  },
  {
   "cell_type": "code",
   "execution_count": null,
   "id": "02a6e6b2-5822-47c0-a6f3-ff484b8fdbff",
   "metadata": {},
   "outputs": [],
   "source": []
  },
  {
   "cell_type": "code",
   "execution_count": null,
   "id": "733c3131-2491-418a-bf36-b27bea96a46d",
   "metadata": {},
   "outputs": [],
   "source": [
    "def pearsonr(x, y):\n",
    "    # Assume len(x) == len(y)\n",
    "    n = len(x)\n",
    "    sum_x = float(sum(x))\n",
    "    sum_y = float(sum(y))\n",
    "    sum_x_sq = sum(xi*xi for xi in x)\n",
    "    sum_y_sq = sum(yi*yi for yi in y)\n",
    "    psum = sum(xi*yi for xi, yi in zip(x, y))\n",
    "    num = psum - (sum_x * sum_y/n)\n",
    "    den = pow((sum_x_sq - pow(sum_x, 2) / n) * (sum_y_sq - pow(sum_y, 2) / n), 0.5)\n",
    "    if den == 0: return 0\n",
    "    return num / den\n"
   ]
  },
  {
   "cell_type": "code",
   "execution_count": null,
   "id": "3292a8f6-bf35-4b76-aa90-54086a32249f",
   "metadata": {},
   "outputs": [],
   "source": []
  },
  {
   "cell_type": "code",
   "execution_count": null,
   "id": "e08339b5-fe59-41b6-b91a-ba2ba0920c0a",
   "metadata": {},
   "outputs": [],
   "source": []
  },
  {
   "cell_type": "code",
   "execution_count": null,
   "id": "9bc02b4b-4c47-4aba-b037-fc64a76fe734",
   "metadata": {},
   "outputs": [],
   "source": []
  },
  {
   "cell_type": "code",
   "execution_count": null,
   "id": "2c7faad4-8bb1-4303-a133-bc27cceb4011",
   "metadata": {},
   "outputs": [],
   "source": []
  },
  {
   "cell_type": "code",
   "execution_count": null,
   "id": "febe4a61-b00a-48fa-9a2e-583e5755e970",
   "metadata": {},
   "outputs": [],
   "source": [
    "#return_=True\n",
    "#npa_ = m\n",
    "def plot_returns(npa_,return_=True):\n",
    "\n",
    "    best_lag = int(npa_[2])\n",
    "    print(npa_[0],npa_[1],\"best lag:\",best_lag)\n",
    "\n",
    "    left_data = setup[[npa_[0]]].iloc[:,0].dropna()\n",
    "    right_data = setup[[npa_[1]]].iloc[:,0].shift(best_lag).dropna()\n",
    "\n",
    "    if(return_):\n",
    "        df = left_data.pct_change().dropna()\n",
    "        ff = right_data.pct_change().dropna()\n",
    "    else:\n",
    "        df = left_data\n",
    "        ff = right_data        \n",
    "\n",
    "    #print('percent significant:', npa_[3])\n",
    "    #print(\"n:\",n_)\n",
    "    #print(ff.head(10))\n",
    "    #print(df.head(10))\n",
    "\n",
    "    corr_df = ff.rolling(n_).corr(df)\n",
    "    #print((corr_df).head())\n",
    "    #print((corr_df).tail())\n",
    "    \n",
    "    corr_df.replace([np.nan,np.inf,-np.inf], 0, inplace=True)\n",
    "    print(len(corr_df))\n",
    "\n",
    "    #using crit_r1 because these are one-sided tests\n",
    "    \n",
    "    #print(corr_df)    \n",
    "    #p_sig = np.sum(abs(corr_df)>crit_r1)/len(corr_df)\n",
    "\n",
    "    p_sig_p = np.sum(abs(corr_df[corr_df>0])>crit_r1)/len(corr_df)\n",
    "    p_sig_n = np.sum(abs(corr_df[corr_df<0])>crit_r1)/len(corr_df)\n",
    "\n",
    "    #print(p_sig_p)\n",
    "    #print(p_sig_n)\n",
    "    print([p_sig_p,p_sig_n])\n",
    "    #p_sig = np.max([p_sig_p,p_sig_n])\n",
    "    #print(\"best correlation:\", p_sig)\n",
    "\n",
    "    fig, ax1 = plt.subplots( figsize=(24,6) )\n",
    "\n",
    "    ax2 = ax1.twinx()\n",
    "\n",
    "    ax3 = ax2.twinx()\n",
    "    ax4 = ax1.twinx()\n",
    "\n",
    "    ax1.plot((abs(corr_df)>crit_r1),linestyle = 'dotted')\n",
    "    #print(np.mean((abs(corr_df)>crit_r1)))\n",
    "    #ax1.plot(p)\n",
    "\n",
    "    ax1.axhline(y = crit_r1, color = 'r', linestyle = '-')\n",
    "    ax1.axhline(y = crit_r1*-1, color = 'r', linestyle = '-')\n",
    "    ax1.axhline(y = crit_r2, color = 'r', linestyle = '-')\n",
    "\n",
    "    ax2.plot(corr_df,color='purple' )\n",
    "\n",
    "    ax3.plot(df,color='blue')\n",
    "\n",
    "    ax1.legend(labels=['sig'],loc=4)\n",
    "    ax2.legend(labels=['correlation'],loc=1)\n",
    "\n",
    "    ax3.legend(labels=pd.DataFrame(df).columns,loc=2)\n",
    "    ax4.plot(ff,color='magenta')    \n",
    "\n",
    "    ax4.legend(labels=pd.DataFrame(ff).columns,loc=3)\n",
    "\n",
    "    plt.show()\n"
   ]
  },
  {
   "cell_type": "code",
   "execution_count": null,
   "id": "7bd9c02c-f8ef-4faa-a91b-1c392cc5a343",
   "metadata": {},
   "outputs": [],
   "source": [
    "\n",
    "#npa_ = npa_true[v[0]]\n",
    "def findMaxCorr(npa_):\n",
    "    #print(npa_[0])\n",
    "\n",
    "    left_data = pd.DataFrame(npa_[0]).iloc[:,0]\n",
    "    right_data = pd.DataFrame(npa_[0]).iloc[:,1]\n",
    "\n",
    "    return_=npa_[1]\n",
    "    n_ = npa_[2]\n",
    "\n",
    "    p_sigs = []\n",
    "\n",
    "    for t in range(1,n_+1):\n",
    "        #print(t)\n",
    "\n",
    "        if(return_):\n",
    "\n",
    "            df = left_data.pct_change().dropna()\n",
    "            ff = right_data.shift(t).pct_change().dropna()\n",
    "\n",
    "        else:\n",
    "            df = left_data.dropna()\n",
    "            ff = right_data.shift(t).dropna()\n",
    "\n",
    "        #print(\"n:\",n_)\n",
    "        #print(ff.head(10))\n",
    "        #print(df.head(10))\n",
    "\n",
    "        corr_df = ff.rolling(n_).corr(df)        \n",
    "        #print((corr_df).head())\n",
    "        #print((corr_df).tail())\n",
    "\n",
    "        #if(len(corr_df.dropna()<(len(corr_df)*.9))):\n",
    "\n",
    "        #print(\"percent na:\", corr_df.isna().sum()/len(corr_df))\n",
    "\n",
    "        corr_df.replace([np.nan,np.inf,-np.inf], 0, inplace=True)\n",
    "        #print(len(corr_df))\n",
    "\n",
    "        #p = pd.DataFrame(2*dist.cdf(-abs(corr_df)),index=corr_df.index)\n",
    "\n",
    "        #one sided tests\n",
    "        \n",
    "        p_sig_p = np.sum(abs(corr_df[corr_df>0])>crit_r1)/len(corr_df)\n",
    "        p_sig_n = np.sum(abs(corr_df[corr_df<0])>crit_r1)/len(corr_df)\n",
    "\n",
    "        #print(p_sig_p,p_sig_n)\n",
    "\n",
    "        #p_sig = np.max([p_sig_p,p_sig_n])\n",
    "        #print(\"best correlation:\", p_sig)\n",
    "\n",
    "        p_sigs.append([p_sig_p,p_sig_n])\n",
    "\n",
    "\n",
    "    #print(p_sigs)\n",
    "    result_set = np.max(p_sigs,axis=0)\n",
    "    #print(result_set)\n",
    "    #return(result_set)\n",
    "\n",
    "    #checks for greater between negative and positive correlations\n",
    "\n",
    "    if(result_set[0]>result_set[1]):\n",
    "        check = 'positive'\n",
    "        #print([[p[1] for p in p_sigs]])\n",
    "        p_sig = np.argmax([[p[0] for p in p_sigs]])\n",
    "        best_sig = p_sigs[p_sig][0]\n",
    "    else:\n",
    "        check = 'negative'\n",
    "        #print([[p[2] for p in p_sigs]])\n",
    "        p_sig = np.argmax([[p[1] for p in p_sigs]])\n",
    "        best_sig = p_sigs[p_sig][1]\n",
    "\n",
    "    best_lag = np.array(range(1,n_+1))[p_sig]\n",
    "\n",
    "    #print([pd.DataFrame(left_data).columns[0],pd.DataFrame(right_data).columns[0],best_lag,best_sig,check])\n",
    "    return([pd.DataFrame(left_data).columns[0],pd.DataFrame(right_data).columns[0],best_lag,best_sig,check])\n"
   ]
  },
  {
   "cell_type": "code",
   "execution_count": null,
   "id": "f61cc3de-ef1c-4d9a-943b-a2c01f18877a",
   "metadata": {},
   "outputs": [],
   "source": [
    "def backtest(df_):\n",
    "    \n",
    "    df = df_\n",
    "    #df[['Adj Close']] = df.iloc[:,0].copy()\n",
    "    \n",
    "    #df=prices_df[prices_df['Symbol']==samples[0]]\n",
    "    \n",
    "\n",
    "    #df = prices_df[prices_df['Symbol']==s]\n",
    "    # calculating buy and hold strategy returns\n",
    "    \n",
    "    #return(df)\n",
    "    df['ma21'] = df['Adj Close'].rolling(window=21).mean()\n",
    "    df['std'] = df['Adj Close'].rolling(window=21).std()\n",
    "    df['upper_band'] = df['ma21'] + (2 * df['std'])\n",
    "    df['lower_band'] = df['ma21'] - (2 * df['std'])\n",
    "    \n",
    "    df['signal_bbands'] = np.where( (df['Adj Close'] < df['lower_band']) &\n",
    "                          (df['Adj Close'].shift(1) >= df['lower_band']),1,0)\n",
    "\n",
    "    # SELL condition\n",
    "    df['signal_bbands'] = np.where( (df['Adj Close'] > df['upper_band']) &\n",
    "                              (df['Adj Close'].shift(1) <= df['upper_band']),-1,df['signal_bbands'])\n",
    "    \n",
    "    df['signal_bbands'].replace(to_replace=0, method='ffill')\n",
    "    \n",
    "    df['ma50'] = df['Adj Close'].rolling(window=50).mean()\n",
    "    df['ma200'] = df['Adj Close'].rolling(window=200).mean()\n",
    "    \n",
    "    df['signal_crossover'] = np.where( (df['ma50'] > df['ma200']),1,-1)\n",
    "    \n",
    "    df['signal_tvv_50'] = np.where( df['50td_tvf_vel'] > 0 ,1,-1)\n",
    "    \n",
    "    df['signal_tvv_20'] = np.where( df['20td_tvf_vel'] > 0 ,1,-1)\n",
    "    \n",
    "    # SELL condition\n",
    "    #df['signal_50tvv'] = np.where( (df['50td_tvf_vel'] < 0),-1,df['signal'])\n",
    "    \n",
    "    df['signal'] = np.where( (df['signal_tvv_50'] + df['signal_tvv_20']+df['signal_crossover']) > 1,1,-1)\n",
    "\n",
    "    df['bnh_returns'] = np.log(df['Adj Close']/df['Adj Close'].shift(1))\n",
    "    #print(df.head(3))    \n",
    "    \n",
    "    # creating long and short positions \n",
    "    df['position'] = df['signal'].replace(to_replace=0, method='ffill')\n",
    "\n",
    "    # shifting by 1, to account of close price return calculations\n",
    "    df['position'] = df['position'].shift(1)\n",
    "\n",
    "    # calculating stretegy returns\n",
    "    df['strategy_returns'] = df['bnh_returns'] * (df['position'])\n",
    "\n",
    "    # comparing buy & hold strategy / bollinger bands strategy returns\n",
    "    #print(\"Buy and hold returns:\",df['bnh_returns'].cumsum()[-1])\n",
    "    #print(\"Strategy returns:\",df['strategy_returns'].cumsum()[-1])\n",
    "\n",
    "    # plotting strategy historical performance over time\n",
    "    df[['bnh_returns','strategy_returns']] = df[['bnh_returns','strategy_returns']].cumsum()\n",
    "    #df[['bnh_returns','strategy_returns']].plot(grid=True, figsize=(12, 8))\n",
    "\n",
    "    #plt.show()\n",
    "\n",
    "    #print(pf.create_simple_tear_sheet(df['strategy_returns'].diff())['Cumulative returns'])\n",
    "    \n",
    "    return df['strategy_returns'][-1]\n",
    "        \n",
    "def backtest_pos(npa_):\n",
    "    df = npa_[0]\n",
    "    lag = npa_[1]\n",
    "    df[['Adj Close']] = df.iloc[:,0].copy()\n",
    "    \n",
    "    #df=prices_df[prices_df['Symbol']==samples[0]]\n",
    "    \n",
    "\n",
    "    #df = prices_df[prices_df['Symbol']==s]\n",
    "    # calculating buy and hold strategy returns\n",
    "    \n",
    "    #return(df)\n",
    "    df['ma21'] = df['Adj Close'].rolling(window=21).mean()\n",
    "    df['std'] = df['Adj Close'].rolling(window=21).std()\n",
    "    df['upper_band'] = df['ma21'] + (2 * df['std'])\n",
    "    df['lower_band'] = df['ma21'] - (2 * df['std'])\n",
    "    \n",
    "    df['signal_bbands'] = np.where( (df['Adj Close'] < df['lower_band']) &\n",
    "                          (df['Adj Close'].shift(1) >= df['lower_band']),1,0)\n",
    "\n",
    "    # SELL condition\n",
    "    df['signal_bbands'] = np.where( (df['Adj Close'] > df['upper_band']) &\n",
    "                              (df['Adj Close'].shift(1) <= df['upper_band']),-1,df['signal_bbands'])\n",
    "    \n",
    "    df['signal_bbands'].replace(to_replace=0, method='ffill')\n",
    "    \n",
    "    df['ma50'] = df['Adj Close'].rolling(window=50).mean()\n",
    "    df['ma200'] = df['Adj Close'].rolling(window=200).mean()\n",
    "    \n",
    "    df['signal_crossover'] = np.where( (df['ma50'] > df['ma200']),1,-1)\n",
    "    \n",
    "    df['newsignal'] = np.where( (df.iloc[:,1].shift(lag).pct_change()>0),1,0)\n",
    "    \n",
    "    # SELL condition\n",
    "    #df['signal_50tvv'] = np.where( (df['50td_tvf_vel'] < 0),-1,df['signal'])\n",
    "    \n",
    "    #df['signal'] = np.where( (df['signal_crossover']) > 1,1,-1)\n",
    "    df['signal'] = np.where( (df['signal_crossover'] > 1) | (df['newsignal'] > 0),1,-1) \n",
    "\n",
    "    df['bnh_returns'] = np.log(df[['Adj Close']])\n",
    "    #print(df.head(3))    \n",
    "    \n",
    "    # creating long and short positions \n",
    "    df['position'] = df['signal'].replace(to_replace=0, method='ffill')\n",
    "\n",
    "    # shifting by 1, to account of close price return calculations\n",
    "    df['position'] = df['position'].shift(1)\n",
    "\n",
    "    # calculating stretegy returns\n",
    "    df['strategy_returns'] = df['bnh_returns'] * (df['position'])\n",
    "\n",
    "    # comparing buy & hold strategy / bollinger bands strategy returns\n",
    "    #print(\"Buy and hold returns:\",df['bnh_returns'].cumsum()[-1])\n",
    "    #print(\"Strategy returns:\",df['strategy_returns'].cumsum()[-1])\n",
    "\n",
    "    # plotting strategy historical performance over time\n",
    "    df[['bnh_returns','strategy_returns']] = df[['bnh_returns','strategy_returns']].cumsum()\n",
    "    df[['bnh_returns','strategy_returns']].plot(grid=True, figsize=(12, 8))\n",
    "\n",
    "    #plt.show()\n",
    "\n",
    "    #print(df['strategy_returns'].diff())\n",
    "    pf.create_simple_tear_sheet(df['strategy_returns'].diff())\n",
    "    \n",
    "    return df['strategy_returns'][-1]\n",
    "    \n",
    "def backtest_neg(npa_):\n",
    "    df = npa_[0]\n",
    "    lag = npa_[1]\n",
    "    df[['Adj Close']] = df.iloc[:,0].copy()\n",
    "    \n",
    "    #df=prices_df[prices_df['Symbol']==samples[0]]\n",
    "    \n",
    "\n",
    "    #df = prices_df[prices_df['Symbol']==s]\n",
    "    # calculating buy and hold strategy returns\n",
    "    \n",
    "    #return(df)\n",
    "    df['ma21'] = df['Adj Close'].rolling(window=21).mean()\n",
    "    df['std'] = df['Adj Close'].rolling(window=21).std()\n",
    "    df['upper_band'] = df['ma21'] + (2 * df['std'])\n",
    "    df['lower_band'] = df['ma21'] - (2 * df['std'])\n",
    "    \n",
    "    df['signal_bbands'] = np.where( (df['Adj Close'] < df['lower_band']) &\n",
    "                          (df['Adj Close'].shift(1) >= df['lower_band']),1,0)\n",
    "\n",
    "    # SELL condition\n",
    "    df['signal_bbands'] = np.where( (df['Adj Close'] > df['upper_band']) &\n",
    "                              (df['Adj Close'].shift(1) <= df['upper_band']),-1,df['signal_bbands'])\n",
    "    \n",
    "    df['signal_bbands'].replace(to_replace=0, method='ffill')\n",
    "    \n",
    "    df['ma50'] = df['Adj Close'].rolling(window=50).mean()\n",
    "    df['ma200'] = df['Adj Close'].rolling(window=200).mean()\n",
    "    \n",
    "    df['signal_crossover'] = np.where( (df['ma50'] > df['ma200']),1,-1)\n",
    "    \n",
    "    df['newsignal'] = np.where( (df.iloc[:,1].shift(lag).pct_change()>0),1,0)\n",
    "    \n",
    "    # SELL condition\n",
    "    #df['signal_50tvv'] = np.where( (df['50td_tvf_vel'] < 0),-1,df['signal'])\n",
    "    \n",
    "    #df['signal'] = np.where( (df['signal_crossover']) > 1,1,-1)\n",
    "    df['signal'] = np.where( (df['signal_crossover'] > 1) | (df['newsignal'] < 0),1,-1) \n",
    "\n",
    "    df['bnh_returns'] = np.log(df[['Adj Close']])\n",
    "    #print(df.head(3))    \n",
    "    \n",
    "    # creating long and short positions \n",
    "    df['position'] = df['signal'].replace(to_replace=0, method='ffill')\n",
    "\n",
    "    # shifting by 1, to account of close price return calculations\n",
    "    df['position'] = df['position'].shift(1)\n",
    "\n",
    "    # calculating stretegy returns\n",
    "    df['strategy_returns'] = df['bnh_returns'] * (df['position'])\n",
    "\n",
    "    # comparing buy & hold strategy / bollinger bands strategy returns\n",
    "    #print(\"Buy and hold returns:\",df['bnh_returns'].cumsum()[-1])\n",
    "    #print(\"Strategy returns:\",df['strategy_returns'].cumsum()[-1])\n",
    "\n",
    "    # plotting strategy historical performance over time\n",
    "    df[['bnh_returns','strategy_returns']] = df[['bnh_returns','strategy_returns']].cumsum()\n",
    "    df[['bnh_returns','strategy_returns']].plot(grid=True, figsize=(12, 8))\n",
    "\n",
    "    #plt.show()\n",
    "\n",
    "    #print(df['strategy_returns'].diff())\n",
    "    pf.create_simple_tear_sheet(df['strategy_returns'].diff())\n",
    "    \n",
    "    return df['strategy_returns'][-1]\n",
    "    \n"
   ]
  },
  {
   "cell_type": "code",
   "execution_count": null,
   "id": "96cdc629-4321-4349-b130-597b2101cfff",
   "metadata": {},
   "outputs": [],
   "source": [
    "#Studnt, n=999, p<0.05, 2-tail\n",
    "#equivalent to Excel TINV(0.05,999)\n",
    "def crit_r(X):\n",
    "\n",
    "    p_v = .1\n",
    "    n_=len(X)\n",
    "\n",
    "    #n = 4\n",
    "    #dist = scipy.stats.beta(n/2 - 1, n/2 - 1, loc=-1, scale=2)\n",
    "\n",
    "    t1=stats.t.ppf(1-p_v, n_-2)\n",
    "    t2=stats.t.ppf(1-p_v/2, n_-2)\n",
    "    #print(t1)\n",
    "    #print(t2)\n",
    "    crit_r1 = (t1/np.sqrt(t1*t1+n_-2))\n",
    "    crit_r2 = (t2/np.sqrt(t2*t2+n_-2))\n",
    "    #Studnt, n=999, p<0.05%, Single tail\n",
    "    #equivalent to Excel TINV(2*0.05,999)\n",
    "    #print(stats.t.ppf(1-0.05, 21-2))\n",
    "\n",
    "    #same as t1\n",
    "\n",
    "    p_ = 0.95\n",
    "    #n=n_\n",
    "    # retrieve value <= probability\n",
    "    value = stats.t.ppf(p_, n_-2)\n",
    "    #print(value)\n",
    "\n",
    "    #print(stats.t.ppf(1-0.025, 999))\n",
    "\n",
    "    p_1 = stats.t.ppf(stats.t.cdf(t1, n_-2),n_-2)\n",
    "    #print(p_1)\n",
    "\n",
    "    p_2 = stats.t.ppf(stats.t.cdf(t2, n_-2),n_-2)\n",
    "    #print(p_2)\n",
    "\n",
    "\n",
    "    df_n = n_\n",
    "    alpha = .05\n",
    "    q = 1-alpha\n",
    "    stats.t.ppf(q, df_n)\n",
    "\n",
    "    return[crit_r1,crit_r2]\n",
    "\n"
   ]
  },
  {
   "cell_type": "code",
   "execution_count": null,
   "id": "b64223d6-53ce-4124-bbca-d27871862bc6",
   "metadata": {},
   "outputs": [],
   "source": [
    "#for t in range(0,len(train)):\n",
    "def return_sfs_cv_lm_signal(npa_):\n",
    "    #t = 0\n",
    "    #print(t)\n",
    "\n",
    "    \n",
    "    train_rows = npa_[0]\n",
    "    test_row = npa_[1]\n",
    "    results = npa_[2]\n",
    "    \n",
    "    #results = lagged_results\n",
    "\n",
    "    filtered_lags_inside = results.loc[test_row][results.loc[test_row]>1].dropna(axis=1)\n",
    "    filtered_lags_inside = filtered_lags_inside.T.sort_values(by=filtered_lags_inside.T.columns[0],ascending=False)\n",
    "\n",
    "    final_frame = pd.DataFrame()\n",
    "    \n",
    "    y = setup[[focus]].pct_change().loc[[*train[t],*test[t]]]\n",
    "    \n",
    "    final_frame = pd.concat([final_frame,y],axis=1)\n",
    "\n",
    "    #final_lags = []\n",
    "    #print(filtered_lags_inside.values)\n",
    "    \n",
    "    for n in np.unique(filtered_lags_inside.values.ravel()):\n",
    "        n_subset = filtered_lags_inside[filtered_lags_inside==n].dropna(axis=0)\n",
    "        \n",
    "        data = np.array(lagged_returns)[np.argwhere([l[0]==n for l in lagged_returns])][0][0][1].loc[[*train[t],*test[t]]][[focus,*n_subset.T.columns]]\n",
    "        #np.array(lagged_returns)[np.argwhere([l[0]==n for l in lagged_returns])][0][0][1].loc[[*train[t],*pd.to_datetime(test[t])]][[focus,*n_subset.columns]]\n",
    "        \n",
    "        X = data.iloc[:,1:]\n",
    "        #setup[['focus']].loc[train[t]\n",
    "        \n",
    "        #final_lags.append(n_subset)\n",
    "        \n",
    "        #print(X.columns)\n",
    "        \n",
    "        final_frame = pd.concat([final_frame,X],axis=1)\n",
    "    \n",
    "    #print(final_frame.columns)\n",
    "    warnings.filterwarnings('ignore')\n",
    "\n",
    "    lm = LinearRegression()\n",
    "    sfs1 = SFS(lm, \n",
    "               k_features=len(final_frame.columns)-1, \n",
    "               forward=True, \n",
    "               floating=False, \n",
    "               verbose=0,\n",
    "               scoring='neg_mean_squared_error',\n",
    "               cv=2)\n",
    "\n",
    "    sfs1 = sfs1.fit(final_frame.iloc[:-1,1:], y.iloc[:-1,[0]])\n",
    "    \n",
    "    best_subset = pd.DataFrame(sfs1.subsets_).T.iloc[np.argmax(pd.DataFrame(sfs1.subsets_).T['avg_score'])]['feature_names']    \n",
    "    \n",
    "    final_frame_filtered = final_frame.iloc[:,pd.DataFrame(range(0,len(final_frame.columns))*np.where((final_frame.columns.isin(np.array(best_subset))),1,np.nan)).dropna().index]\n",
    "\n",
    "    X = sm.add_constant(final_frame_filtered.iloc[:-1,1:])\n",
    "    results_ = sm.OLS(final_frame_filtered.iloc[:-1,0],X).fit()\n",
    "    \n",
    "    \n",
    "    #print(results_.summary())\n",
    "    #pd.to_datetime(train_rows[-1])\n",
    "    signal = np.sum(np.array(pd.DataFrame([results_.params],index=final_frame_filtered.iloc[[-1],1:].index)[final_frame_filtered.iloc[[-1],1:].columns]*final_frame_filtered.iloc[[-1],1:]))+pd.DataFrame([results_.params],index=final_frame_filtered.iloc[[-1],1:].index)[['const']].values[0][0]\n",
    "    return([pd.to_datetime(train_rows[-1]),signal])\n",
    "        "
   ]
  },
  {
   "cell_type": "raw",
   "id": "7625d7a0-baac-4ae5-bbea-038d0c07e56f",
   "metadata": {},
   "source": []
  },
  {
   "cell_type": "code",
   "execution_count": null,
   "id": "7ad6b766-a6ff-4c59-8e6c-81a0a878c378",
   "metadata": {},
   "outputs": [],
   "source": []
  },
  {
   "cell_type": "code",
   "execution_count": null,
   "id": "0b29cc00-ebd9-4762-885e-4b90ae5592f1",
   "metadata": {},
   "outputs": [],
   "source": []
  },
  {
   "cell_type": "code",
   "execution_count": null,
   "id": "0fe214e2-f2fe-409c-9368-c7b8e5c3f01d",
   "metadata": {},
   "outputs": [],
   "source": []
  },
  {
   "cell_type": "code",
   "execution_count": null,
   "id": "0be91213-6208-4552-9ca8-21960d2ad3e1",
   "metadata": {},
   "outputs": [],
   "source": [
    "#for s in sectors['Symbol']:\n",
    "#    prices_df[prices_df['Symbol']==s]"
   ]
  },
  {
   "cell_type": "code",
   "execution_count": null,
   "id": "cab19f70-d10b-4075-8ce1-a047b7aeea53",
   "metadata": {},
   "outputs": [],
   "source": []
  },
  {
   "cell_type": "code",
   "execution_count": null,
   "id": "d848ee82-9702-420c-8a95-04f45d714862",
   "metadata": {},
   "outputs": [],
   "source": []
  },
  {
   "cell_type": "code",
   "execution_count": null,
   "id": "78e6322a-ec5d-4807-952b-ee8060202ee0",
   "metadata": {},
   "outputs": [],
   "source": []
  },
  {
   "cell_type": "code",
   "execution_count": null,
   "id": "82c0d73d-a9f9-472f-a900-f2d199f7572a",
   "metadata": {},
   "outputs": [],
   "source": [
    "\n",
    "#4 weeks\n",
    "n_=len(pd.DataFrame(np.array(range(0,4))))\n",
    "\n",
    "crit_r1 = crit_r(pd.DataFrame(np.array(range(0,4))))[0]\n",
    "\n",
    "crit_r2 = crit_r(pd.DataFrame(np.array(range(0,4))))[1]\n",
    "\n"
   ]
  },
  {
   "cell_type": "code",
   "execution_count": null,
   "id": "db893404-49b9-4704-915b-34ecc36d03a9",
   "metadata": {},
   "outputs": [],
   "source": [
    "setup = completed_fred_pvt.merge(price_comm_df_pvt,left_index=True, right_index=True).asfreq('D').interpolate(time='method',limit_area='inside')\n",
    "#setup.dropna(thresh=int(.1*len(completed_fred_pvt)),axis='columns')\n",
    "setup = setup.loc[:, setup.isnull().mean() < .1]\n",
    "\n",
    "setup = setup.asfreq('W-'+end.strftime('%a')).dropna()\n",
    "\n",
    "# Get all permutations of length 2 \n",
    "# and length 2 \n",
    "perm = combinations(setup.columns, 2)\n",
    "iter_perm = []\n",
    "for i in list(perm): \n",
    "    iter_perm.append(i)\n",
    "\n",
    "#[setup[[i[0],i[1]]] for i in [iter_perm[0]]]\n",
    "npa_true = [[setup[[i[0],i[1]]],True,n_] for i in iter_perm]\n",
    "\n",
    "npa_false = [[setup[[i[0],i[1]]],False,n_] for i in iter_perm]"
   ]
  },
  {
   "cell_type": "code",
   "execution_count": null,
   "id": "724fb1fc-9b16-43c8-95ac-bdd73f8579a1",
   "metadata": {},
   "outputs": [],
   "source": []
  },
  {
   "cell_type": "code",
   "execution_count": null,
   "id": "3cc9636f-1bf1-4b7a-85b1-82317cd68ae8",
   "metadata": {},
   "outputs": [],
   "source": [
    "setup.columns.ravel()"
   ]
  },
  {
   "cell_type": "code",
   "execution_count": null,
   "id": "05815f22-3fb3-4b3a-9b13-46112853cbd8",
   "metadata": {},
   "outputs": [],
   "source": [
    "setup"
   ]
  },
  {
   "cell_type": "code",
   "execution_count": null,
   "id": "b522daf0-3d7a-4c9b-b7f0-c935be673ea8",
   "metadata": {},
   "outputs": [],
   "source": []
  },
  {
   "cell_type": "code",
   "execution_count": null,
   "id": "5c074123-6b42-4839-9b7a-f293d1ac8129",
   "metadata": {},
   "outputs": [],
   "source": []
  },
  {
   "cell_type": "code",
   "execution_count": null,
   "id": "bb29659d-e28c-4bb9-9b83-572b2a031816",
   "metadata": {},
   "outputs": [],
   "source": []
  },
  {
   "cell_type": "code",
   "execution_count": null,
   "id": "ceb5ef42-f6ae-495c-bf08-8d6d805aaf7e",
   "metadata": {},
   "outputs": [],
   "source": []
  },
  {
   "cell_type": "code",
   "execution_count": null,
   "id": "1a32918d-a7cf-471a-9882-aaf1a927e4b0",
   "metadata": {},
   "outputs": [],
   "source": []
  },
  {
   "cell_type": "code",
   "execution_count": null,
   "id": "ccd5728e-ea88-4f7b-9965-8f90c1ad2e18",
   "metadata": {},
   "outputs": [],
   "source": [
    "_outer_corrs = []\n",
    "for s in [*sectors['Symbol'],*indexes['Symbol']]:\n",
    "    #np.argwhere([pd.DataFrame(n[0]).columns[0]=='VOX' for n in npa_true])\n",
    "    _corrs_items = np.argwhere([n[0].columns[0]==s for n in npa_true])\n",
    "\n",
    "    _corrs = []\n",
    "    for v in _corrs_items:\n",
    "        #print(v)\n",
    "        _corrs.append(findMaxCorr(npa_true[v[0]]))\n",
    "        #print(v)\n",
    "        #vox_corrs.append(findMaxCorr(v))\n",
    "    _outer_corrs.append(*[_corrs])"
   ]
  },
  {
   "cell_type": "code",
   "execution_count": null,
   "id": "3cff65d8-3635-4c00-bf91-6565bc398c19",
   "metadata": {},
   "outputs": [],
   "source": []
  },
  {
   "cell_type": "code",
   "execution_count": null,
   "id": "9293b8e0-474b-47e1-89d0-57015ade2691",
   "metadata": {},
   "outputs": [],
   "source": []
  },
  {
   "cell_type": "code",
   "execution_count": null,
   "id": "064cb37d-dbfb-4723-8f94-ade14eb9807f",
   "metadata": {},
   "outputs": [],
   "source": []
  },
  {
   "cell_type": "code",
   "execution_count": null,
   "id": "3331e316-1eb2-4aeb-a3cb-2da72beedcac",
   "metadata": {},
   "outputs": [],
   "source": []
  },
  {
   "cell_type": "code",
   "execution_count": null,
   "id": "006adf97-b921-4db7-b297-104fba981fb3",
   "metadata": {},
   "outputs": [],
   "source": []
  },
  {
   "cell_type": "code",
   "execution_count": null,
   "id": "6b75c5be-f28e-4b07-834d-820712bf94e0",
   "metadata": {},
   "outputs": [],
   "source": []
  },
  {
   "cell_type": "code",
   "execution_count": null,
   "id": "bdb02918-6a00-463a-8b7f-cfdf5880f207",
   "metadata": {},
   "outputs": [],
   "source": []
  },
  {
   "cell_type": "code",
   "execution_count": null,
   "id": "a295d65a-0d72-4541-9058-1a5c9643baa9",
   "metadata": {},
   "outputs": [],
   "source": [
    "#ensures first 5 values will be populated for the below metrics\n"
   ]
  },
  {
   "cell_type": "code",
   "execution_count": null,
   "id": "404c9b8b-324e-4337-9ba6-19929b3a39b7",
   "metadata": {},
   "outputs": [],
   "source": [
    "#[i,(setup[[focus]].rolling(n_).corr(setup[spy_set[:,1]].shift(i).pct_change().dropna()))]#.loc[train[t]]]"
   ]
  },
  {
   "cell_type": "code",
   "execution_count": null,
   "id": "85f056d4-2d5e-4192-8e1b-817407628e0c",
   "metadata": {},
   "outputs": [],
   "source": []
  },
  {
   "cell_type": "code",
   "execution_count": null,
   "id": "b79a3c5d-43e7-4f77-b3f6-4870a9cb9de4",
   "metadata": {},
   "outputs": [],
   "source": []
  },
  {
   "cell_type": "code",
   "execution_count": null,
   "id": "04143c54-8c90-408c-b7dd-17923cbf311a",
   "metadata": {},
   "outputs": [],
   "source": []
  },
  {
   "cell_type": "code",
   "execution_count": null,
   "id": "dd857b45-dbbf-4328-b553-8c5bd00e0a6b",
   "metadata": {},
   "outputs": [],
   "source": []
  },
  {
   "cell_type": "code",
   "execution_count": null,
   "id": "d77e32cd-9f2b-442d-9c5f-9c9e97b603c5",
   "metadata": {},
   "outputs": [],
   "source": [
    "focus = 'SPY'\n",
    "\n",
    "df = prices_df[prices_df['Symbol']=='SPY'][['Adj Close']].asfreq('D').interpolate(method='time').asfreq('W-'+end.strftime('%a')).reset_index()\n",
    "\n",
    "spy_set = np.array(iter_perm)[[int(n[0]) for n in np.argwhere([i[0]==focus for i in iter_perm])]]\n",
    "\n",
    "train, test = split_sequence(setup[5:].index,4,1)\n",
    "\n",
    "delayed_sets = []\n",
    "for i in range(1,n_+1):\n",
    "    delayed_sets.append([i,(setup[[focus]].pct_change().rolling(n_).corr(setup[spy_set[:,1]].shift(i).pct_change().dropna()))])\n",
    "\n",
    "warnings.filterwarnings('ignore')\n",
    "\n",
    "lagged_corrs = []\n",
    "lagged_returns = []\n",
    "\n",
    "delayed_sets = []\n",
    "\n",
    "for i in range(1,n_+1):\n",
    "    \n",
    "    inside_df = pd.DataFrame()\n",
    "    \n",
    "    for s in spy_set[:,1]:\n",
    "        temp_ = setup[[focus]].pct_change().rolling(n_).corr(setup[s].shift(i).pct_change().dropna())\n",
    "        temp_.replace([np.nan,np.inf,-np.inf], 0, inplace=True)\n",
    "        temp_.columns = [s]\n",
    "        inside_df = pd.concat([inside_df,temp_],axis=1)\n",
    "        delayed_sets.append(inside_df)        \n",
    "\n",
    "    lagged_corrs.append([i,inside_df])\n",
    "    lagged_returns.append([i,setup.shift(i).pct_change()])\n",
    "\n",
    "warnings.filterwarnings('ignore')\n",
    "results = pd.DataFrame()\n",
    "\n",
    "for t in range(0,len(train)):\n",
    "    #t = 0\n",
    "    #print(t)\n",
    "    train_rows = train[t]\n",
    "    test_row = test[t]\n",
    "    #print(train_rows)\n",
    "\n",
    "    now = datetime.now()\n",
    "    #print (\"Current date and time : \")\n",
    "    #print (now.strftime(\"%Y-%m-%d %H:%M:%S\"))\n",
    "\n",
    "    positives = pd.DataFrame([ np.sum((l[1].loc[train[t]]>crit_r1),axis=0)/n_ for l in lagged_corrs],index=np.array(range(1,5)))\n",
    "    pos_vals = ((np.argmax(np.array(positives),axis=0)+1)*np.where(np.max(np.array(positives),axis=0)!=0,1,0))\n",
    "    negatives = pd.DataFrame([ np.sum((l[1].loc[train[t]]<-crit_r1),axis=0)/n_ for l in lagged_corrs],index=np.array(range(1,5)))\n",
    "    neg_vals = ((np.argmax(np.array(negatives),axis=0)+1)*np.where(np.max(np.array(negatives),axis=0)!=0,1,0))\n",
    "    #print(test_row)\n",
    "    best_lags = pd.DataFrame([np.where(np.max(positives)==np.max(negatives),0,np.where(np.max(positives)>np.max(negatives),pos_vals,neg_vals))],index=test_row,columns=spy_set[:,1])\n",
    "    #print(best_lags)\n",
    "\n",
    "    results = pd.concat([results,best_lags],axis=0)\n",
    "\n",
    "    #filtered_lags = results.loc[test_row][results.loc[test_row]>1].dropna(axis=1)\n",
    "    \n",
    "plt.plot(results.describe().loc['mean'])\n",
    "plt.plot(results.describe().loc['50%'])\n",
    "plt.plot(results.describe().loc['mean']+results.describe().loc['std'])\n",
    "plt.plot(results.describe().loc['mean']-results.describe().loc['std'])\n",
    "plt.xticks(rotation = 45)\n",
    "plt.show()\n",
    "\n",
    "npa = []\n",
    "for t in range(0,len(train)):\n",
    "    npa.append([train[t],test[t],results])\n",
    "    \n",
    "signals = clientFunction(return_sfs_cv_lm_signal,npa)\n",
    "signals_df = pd.DataFrame(signals).set_index(pd.DataFrame(signals).columns[0]).sort_index()\n",
    "signals_df.columns = ['signal']\n"
   ]
  },
  {
   "cell_type": "code",
   "execution_count": null,
   "id": "9d8c62b2-d292-4da1-9c5c-9cdbcff400cc",
   "metadata": {},
   "outputs": [],
   "source": []
  },
  {
   "cell_type": "code",
   "execution_count": null,
   "id": "63a7e6b8-7bfa-4bfc-a2fd-f7970faae12c",
   "metadata": {},
   "outputs": [],
   "source": []
  },
  {
   "cell_type": "code",
   "execution_count": 73,
   "id": "769398fe-70d0-48fe-9ea9-03086a7861d3",
   "metadata": {},
   "outputs": [
    {
     "data": {
      "text/html": [
       "<div>\n",
       "<style scoped>\n",
       "    .dataframe tbody tr th:only-of-type {\n",
       "        vertical-align: middle;\n",
       "    }\n",
       "\n",
       "    .dataframe tbody tr th {\n",
       "        vertical-align: top;\n",
       "    }\n",
       "\n",
       "    .dataframe thead th {\n",
       "        text-align: right;\n",
       "    }\n",
       "</style>\n",
       "<table border=\"1\" class=\"dataframe\">\n",
       "  <thead>\n",
       "    <tr style=\"text-align: right;\">\n",
       "      <th></th>\n",
       "      <th>signal</th>\n",
       "    </tr>\n",
       "    <tr>\n",
       "      <th>0</th>\n",
       "      <th></th>\n",
       "    </tr>\n",
       "  </thead>\n",
       "  <tbody>\n",
       "    <tr>\n",
       "      <th>2017-10-13</th>\n",
       "      <td>1</td>\n",
       "    </tr>\n",
       "    <tr>\n",
       "      <th>2017-10-20</th>\n",
       "      <td>1</td>\n",
       "    </tr>\n",
       "    <tr>\n",
       "      <th>2017-10-27</th>\n",
       "      <td>1</td>\n",
       "    </tr>\n",
       "    <tr>\n",
       "      <th>2017-11-03</th>\n",
       "      <td>1</td>\n",
       "    </tr>\n",
       "    <tr>\n",
       "      <th>2017-11-10</th>\n",
       "      <td>1</td>\n",
       "    </tr>\n",
       "    <tr>\n",
       "      <th>...</th>\n",
       "      <td>...</td>\n",
       "    </tr>\n",
       "    <tr>\n",
       "      <th>2022-03-25</th>\n",
       "      <td>-1</td>\n",
       "    </tr>\n",
       "    <tr>\n",
       "      <th>2022-04-01</th>\n",
       "      <td>1</td>\n",
       "    </tr>\n",
       "    <tr>\n",
       "      <th>2022-04-08</th>\n",
       "      <td>1</td>\n",
       "    </tr>\n",
       "    <tr>\n",
       "      <th>2022-04-15</th>\n",
       "      <td>-1</td>\n",
       "    </tr>\n",
       "    <tr>\n",
       "      <th>2022-04-22</th>\n",
       "      <td>-1</td>\n",
       "    </tr>\n",
       "  </tbody>\n",
       "</table>\n",
       "<p>237 rows × 1 columns</p>\n",
       "</div>"
      ],
      "text/plain": [
       "            signal\n",
       "0                 \n",
       "2017-10-13       1\n",
       "2017-10-20       1\n",
       "2017-10-27       1\n",
       "2017-11-03       1\n",
       "2017-11-10       1\n",
       "...            ...\n",
       "2022-03-25      -1\n",
       "2022-04-01       1\n",
       "2022-04-08       1\n",
       "2022-04-15      -1\n",
       "2022-04-22      -1\n",
       "\n",
       "[237 rows x 1 columns]"
      ]
     },
     "execution_count": 73,
     "metadata": {},
     "output_type": "execute_result"
    }
   ],
   "source": []
  },
  {
   "cell_type": "code",
   "execution_count": 121,
   "id": "e5504fc1-6713-4e8a-963e-736d2c72fb2b",
   "metadata": {},
   "outputs": [
    {
     "data": {
      "text/plain": [
       "array([0, 0, 0, 0, 0, 0, 0, 0, 1, 1, 1, 1, 1, 1, 1, 0, 0, 1, 1, 1, 0, 0,\n",
       "       0, 0, 0, 0, 0, 0, 0, 1, 1, 1, 0, 1, 0, 1, 0, 0, 0, 0, 0, 0, 1, 1,\n",
       "       0, 1, 1, 1, 1, 0, 0, 0, 0, 1, 0, 0, 1, 0, 1, 1, 1, 0, 0, 0, 0, 1,\n",
       "       0, 1, 1, 1, 1, 1, 1, 1, 0, 0, 1, 1, 0, 0, 0, 0, 1, 1, 1, 1, 1, 1,\n",
       "       1, 1, 1, 1, 0, 0, 0, 0, 1, 0, 0, 1, 0, 0, 0, 0, 0, 0, 0, 0, 0, 0,\n",
       "       0, 0, 0, 0, 1, 1, 0, 1, 1, 1, 1, 1, 1, 1, 0, 0, 1, 0, 0, 1, 0, 1,\n",
       "       1, 1, 0, 1, 1, 0, 0, 0, 1, 1, 0, 1, 1, 1, 1, 0, 1, 1, 1, 0, 0, 1,\n",
       "       0, 0, 0, 1, 1, 0, 1, 1, 1, 0, 0, 0, 1, 1, 0, 1, 1, 0, 0, 1, 0, 1,\n",
       "       1, 1, 0, 0, 1, 1, 1, 1, 1, 0, 1, 1, 1, 1, 1, 1, 0, 0, 0, 0, 1, 1,\n",
       "       1, 1, 1, 1, 1, 0, 0, 1, 1, 1, 0, 0, 0, 0, 0, 0, 1, 1, 1, 0, 0, 1,\n",
       "       1, 0, 0, 1, 1, 1, 1, 0, 0, 0, 0, 0, 0, 0, 0, 0, 1, 1, 0, 1, 0, 1,\n",
       "       1, 0, 0, 0])"
      ]
     },
     "execution_count": 121,
     "metadata": {},
     "output_type": "execute_result"
    }
   ],
   "source": [
    "np.where(df['signal']==1,1,0)"
   ]
  },
  {
   "cell_type": "code",
   "execution_count": 116,
   "id": "f41d7643-3a2e-478f-9052-12a199e82fd5",
   "metadata": {},
   "outputs": [
    {
     "data": {
      "text/plain": [
       "array([0, 0, 0, 0, 0, 0, 0, 0, 1, 1, 1, 1, 1, 1, 1, 0, 0, 1, 1, 1, 0, 0,\n",
       "       0, 0, 0, 0, 0, 0, 0, 1, 1, 1, 0, 1, 0, 1, 0, 0, 0, 0, 0, 0, 1, 1,\n",
       "       0, 1, 1, 1, 1, 0, 0, 0, 0, 1, 0, 0, 1, 0, 1, 1, 1, 0, 0, 0, 0, 1,\n",
       "       0, 1, 1, 1, 1, 1, 1, 1, 0, 0, 1, 1, 0, 0, 0, 0, 1, 1, 1, 1, 1, 1,\n",
       "       1, 1, 1, 1, 0, 0, 0, 0, 1, 0, 0, 1, 0, 0, 0, 0, 0, 0, 0, 0, 0, 0,\n",
       "       0, 0, 0, 0, 1, 1, 0, 1, 1, 1, 1, 1, 1, 1, 0, 0, 1, 0, 0, 1, 0, 1,\n",
       "       1, 1, 0, 1, 1, 0, 0, 0, 1, 1, 0, 1, 1, 1, 1, 0, 1, 1, 1, 0, 0, 1,\n",
       "       0, 0, 0, 1, 1, 0, 1, 1, 1, 0, 0, 0, 1, 1, 0, 1, 1, 0, 0, 1, 0, 1,\n",
       "       1, 1, 0, 0, 1, 1, 1, 1, 1, 0, 1, 1, 1, 1, 1, 1, 0, 0, 0, 0, 1, 1,\n",
       "       1, 1, 1, 1, 1, 1, 1, 1, 1, 1, 1, 1, 1, 1, 1, 1, 1, 1, 1, 1, 1, 1,\n",
       "       1, 1, 1, 1, 1, 1, 1, 1, 1, 1, 1, 1, 1, 1, 1, 1, 1, 1, 1, 1, 1, 1,\n",
       "       1, 1, 1, 0])"
      ]
     },
     "execution_count": 116,
     "metadata": {},
     "output_type": "execute_result"
    }
   ],
   "source": [
    "np.where(df['signal']==1,1,np.where( ( (df['signal'] == 0) & df['ma50'] > df['ma200']),1,0))"
   ]
  },
  {
   "cell_type": "code",
   "execution_count": 125,
   "id": "487d0fdc-da6f-412f-b891-d4d877380e65",
   "metadata": {},
   "outputs": [
    {
     "data": {
      "text/plain": [
       "array([-1, -1, -1, -1, -1, -1, -1, -1,  1,  1,  1,  1,  1,  1,  1, -1, -1,\n",
       "        1,  1,  1, -1, -1, -1, -1, -1, -1, -1, -1, -1,  1,  1,  1, -1,  1,\n",
       "       -1,  1, -1, -1, -1, -1, -1, -1,  1,  1, -1,  1,  1,  1,  1, -1, -1,\n",
       "       -1, -1,  1, -1, -1,  1, -1,  1,  1,  1, -1, -1, -1, -1,  1, -1,  1,\n",
       "        1,  1,  1,  1,  1,  1, -1, -1,  1,  1, -1, -1, -1, -1,  1,  1,  1,\n",
       "        1,  1,  1,  1,  1,  1,  1, -1, -1, -1, -1,  1, -1, -1,  1, -1, -1,\n",
       "       -1, -1, -1, -1, -1, -1, -1, -1, -1, -1, -1, -1,  1,  1, -1,  1,  1,\n",
       "        1,  1,  1,  1,  1, -1, -1,  1, -1, -1,  1, -1,  1,  1,  1, -1,  1,\n",
       "        1, -1, -1, -1,  1,  1, -1,  1,  1,  1,  1, -1,  1,  1,  1, -1, -1,\n",
       "        1, -1, -1, -1,  1,  1, -1,  1,  1,  1, -1, -1, -1,  1,  1, -1,  1,\n",
       "        1, -1, -1,  1, -1,  1,  1,  1, -1, -1,  1,  1,  1,  1,  1, -1,  1,\n",
       "        1,  1,  1,  1,  1, -1, -1, -1, -1,  1,  1,  1,  1,  1,  1,  1,  1,\n",
       "        1,  1,  1,  1,  1,  1,  1,  1,  1,  1,  1,  1,  1,  1,  1,  1,  1,\n",
       "        1,  1,  1,  1,  1,  1,  1,  1,  1,  1,  1,  1,  1,  1,  1,  1,  1,\n",
       "        1,  1,  1,  1,  1,  1,  1, -1])"
      ]
     },
     "execution_count": 125,
     "metadata": {},
     "output_type": "execute_result"
    }
   ],
   "source": [
    "np.where(df['signal']==1,1,-1)"
   ]
  },
  {
   "cell_type": "code",
   "execution_count": 113,
   "id": "87e43714-af51-4cf2-8f25-73c17aa8218a",
   "metadata": {},
   "outputs": [
    {
     "data": {
      "text/plain": [
       "array([0, 0, 0, 0, 0, 0, 0, 0, 0, 0, 0, 0, 0, 0, 0, 0, 0, 0, 0, 0, 0, 0,\n",
       "       0, 0, 0, 0, 0, 0, 0, 0, 0, 0, 0, 0, 0, 0, 0, 0, 0, 0, 0, 0, 0, 0,\n",
       "       0, 0, 0, 0, 0, 0, 0, 0, 0, 0, 0, 0, 0, 0, 0, 0, 0, 0, 0, 0, 0, 0,\n",
       "       0, 0, 0, 0, 0, 0, 0, 0, 0, 0, 0, 0, 0, 0, 0, 0, 0, 0, 0, 0, 0, 0,\n",
       "       0, 0, 0, 0, 0, 0, 0, 0, 0, 0, 0, 0, 0, 0, 0, 0, 0, 0, 0, 0, 0, 0,\n",
       "       0, 0, 0, 0, 0, 0, 0, 0, 0, 0, 0, 0, 0, 0, 0, 0, 0, 0, 0, 0, 0, 0,\n",
       "       0, 0, 0, 0, 0, 0, 0, 0, 0, 0, 0, 0, 0, 0, 0, 0, 0, 0, 0, 0, 0, 0,\n",
       "       0, 0, 0, 0, 0, 0, 0, 0, 0, 0, 0, 0, 0, 0, 0, 0, 0, 0, 0, 0, 0, 0,\n",
       "       0, 0, 0, 0, 0, 0, 0, 0, 0, 0, 0, 0, 0, 0, 0, 0, 0, 0, 0, 0, 0, 0,\n",
       "       0, 0, 0, 0, 0, 1, 1, 0, 0, 0, 1, 1, 1, 1, 1, 1, 0, 0, 0, 1, 1, 0,\n",
       "       0, 1, 1, 0, 0, 0, 0, 1, 1, 1, 1, 1, 1, 1, 1, 1, 0, 0, 1, 0, 1, 0,\n",
       "       0, 1, 1, 0])"
      ]
     },
     "execution_count": 113,
     "metadata": {},
     "output_type": "execute_result"
    }
   ],
   "source": [
    "np.where( ( (df['signal'] == 0) & df['ma50'] > df['ma200']),1,0)"
   ]
  },
  {
   "cell_type": "code",
   "execution_count": 205,
   "id": "9279f90b-90b1-4d01-9e22-b7dcc57df2b7",
   "metadata": {},
   "outputs": [
    {
     "ename": "KeyError",
     "evalue": "'signal_up'",
     "output_type": "error",
     "traceback": [
      "\u001b[1;31m---------------------------------------------------------------------------\u001b[0m",
      "\u001b[1;31mKeyError\u001b[0m                                  Traceback (most recent call last)",
      "File \u001b[1;32m~\\AppData\\Local\\Programs\\3.9-JupyterLab\\lib\\site-packages\\pandas\\core\\indexes\\base.py:3081\u001b[0m, in \u001b[0;36mIndex.get_loc\u001b[1;34m(self, key, method, tolerance)\u001b[0m\n\u001b[0;32m   3080\u001b[0m \u001b[38;5;28;01mtry\u001b[39;00m:\n\u001b[1;32m-> 3081\u001b[0m     \u001b[38;5;28;01mreturn\u001b[39;00m \u001b[38;5;28;43mself\u001b[39;49m\u001b[38;5;241;43m.\u001b[39;49m\u001b[43m_engine\u001b[49m\u001b[38;5;241;43m.\u001b[39;49m\u001b[43mget_loc\u001b[49m\u001b[43m(\u001b[49m\u001b[43mcasted_key\u001b[49m\u001b[43m)\u001b[49m\n\u001b[0;32m   3082\u001b[0m \u001b[38;5;28;01mexcept\u001b[39;00m \u001b[38;5;167;01mKeyError\u001b[39;00m \u001b[38;5;28;01mas\u001b[39;00m err:\n",
      "File \u001b[1;32mpandas\\_libs\\index.pyx:70\u001b[0m, in \u001b[0;36mpandas._libs.index.IndexEngine.get_loc\u001b[1;34m()\u001b[0m\n",
      "File \u001b[1;32mpandas\\_libs\\index.pyx:101\u001b[0m, in \u001b[0;36mpandas._libs.index.IndexEngine.get_loc\u001b[1;34m()\u001b[0m\n",
      "File \u001b[1;32mpandas\\_libs\\hashtable_class_helper.pxi:4554\u001b[0m, in \u001b[0;36mpandas._libs.hashtable.PyObjectHashTable.get_item\u001b[1;34m()\u001b[0m\n",
      "File \u001b[1;32mpandas\\_libs\\hashtable_class_helper.pxi:4562\u001b[0m, in \u001b[0;36mpandas._libs.hashtable.PyObjectHashTable.get_item\u001b[1;34m()\u001b[0m\n",
      "\u001b[1;31mKeyError\u001b[0m: 'signal_up'",
      "\nThe above exception was the direct cause of the following exception:\n",
      "\u001b[1;31mKeyError\u001b[0m                                  Traceback (most recent call last)",
      "Input \u001b[1;32mIn [205]\u001b[0m, in \u001b[0;36m<cell line: 1>\u001b[1;34m()\u001b[0m\n\u001b[1;32m----> 1\u001b[0m \u001b[43mdf\u001b[49m\u001b[43m[\u001b[49m\u001b[38;5;124;43m'\u001b[39;49m\u001b[38;5;124;43msignal_up\u001b[39;49m\u001b[38;5;124;43m'\u001b[39;49m\u001b[43m]\u001b[49m\n",
      "File \u001b[1;32m~\\AppData\\Local\\Programs\\3.9-JupyterLab\\lib\\site-packages\\pandas\\core\\frame.py:3024\u001b[0m, in \u001b[0;36mDataFrame.__getitem__\u001b[1;34m(self, key)\u001b[0m\n\u001b[0;32m   3022\u001b[0m \u001b[38;5;28;01mif\u001b[39;00m \u001b[38;5;28mself\u001b[39m\u001b[38;5;241m.\u001b[39mcolumns\u001b[38;5;241m.\u001b[39mnlevels \u001b[38;5;241m>\u001b[39m \u001b[38;5;241m1\u001b[39m:\n\u001b[0;32m   3023\u001b[0m     \u001b[38;5;28;01mreturn\u001b[39;00m \u001b[38;5;28mself\u001b[39m\u001b[38;5;241m.\u001b[39m_getitem_multilevel(key)\n\u001b[1;32m-> 3024\u001b[0m indexer \u001b[38;5;241m=\u001b[39m \u001b[38;5;28;43mself\u001b[39;49m\u001b[38;5;241;43m.\u001b[39;49m\u001b[43mcolumns\u001b[49m\u001b[38;5;241;43m.\u001b[39;49m\u001b[43mget_loc\u001b[49m\u001b[43m(\u001b[49m\u001b[43mkey\u001b[49m\u001b[43m)\u001b[49m\n\u001b[0;32m   3025\u001b[0m \u001b[38;5;28;01mif\u001b[39;00m is_integer(indexer):\n\u001b[0;32m   3026\u001b[0m     indexer \u001b[38;5;241m=\u001b[39m [indexer]\n",
      "File \u001b[1;32m~\\AppData\\Local\\Programs\\3.9-JupyterLab\\lib\\site-packages\\pandas\\core\\indexes\\base.py:3083\u001b[0m, in \u001b[0;36mIndex.get_loc\u001b[1;34m(self, key, method, tolerance)\u001b[0m\n\u001b[0;32m   3081\u001b[0m         \u001b[38;5;28;01mreturn\u001b[39;00m \u001b[38;5;28mself\u001b[39m\u001b[38;5;241m.\u001b[39m_engine\u001b[38;5;241m.\u001b[39mget_loc(casted_key)\n\u001b[0;32m   3082\u001b[0m     \u001b[38;5;28;01mexcept\u001b[39;00m \u001b[38;5;167;01mKeyError\u001b[39;00m \u001b[38;5;28;01mas\u001b[39;00m err:\n\u001b[1;32m-> 3083\u001b[0m         \u001b[38;5;28;01mraise\u001b[39;00m \u001b[38;5;167;01mKeyError\u001b[39;00m(key) \u001b[38;5;28;01mfrom\u001b[39;00m \u001b[38;5;21;01merr\u001b[39;00m\n\u001b[0;32m   3085\u001b[0m \u001b[38;5;28;01mif\u001b[39;00m tolerance \u001b[38;5;129;01mis\u001b[39;00m \u001b[38;5;129;01mnot\u001b[39;00m \u001b[38;5;28;01mNone\u001b[39;00m:\n\u001b[0;32m   3086\u001b[0m     tolerance \u001b[38;5;241m=\u001b[39m \u001b[38;5;28mself\u001b[39m\u001b[38;5;241m.\u001b[39m_convert_tolerance(tolerance, np\u001b[38;5;241m.\u001b[39masarray(key))\n",
      "\u001b[1;31mKeyError\u001b[0m: 'signal_up'"
     ]
    }
   ],
   "source": [
    "df['signal_up']"
   ]
  },
  {
   "cell_type": "code",
   "execution_count": 207,
   "id": "e9a18bdf-c7c2-4c41-b2f3-7b9a4a914237",
   "metadata": {},
   "outputs": [],
   "source": []
  },
  {
   "cell_type": "code",
   "execution_count": 212,
   "id": "093d0809-f332-45f5-93df-a24b28a541b5",
   "metadata": {},
   "outputs": [
    {
     "data": {
      "text/plain": [
       "2017-08-18    0\n",
       "2017-08-25    0\n",
       "2017-09-01    0\n",
       "2017-09-08    0\n",
       "2017-09-15    0\n",
       "             ..\n",
       "2022-04-01    1\n",
       "2022-04-08    1\n",
       "2022-04-15    1\n",
       "2022-04-22    1\n",
       "2022-04-29    1\n",
       "Freq: W-FRI, Length: 246, dtype: int32"
      ]
     },
     "execution_count": 212,
     "metadata": {},
     "output_type": "execute_result"
    }
   ],
   "source": []
  },
  {
   "cell_type": "code",
   "execution_count": 210,
   "id": "fd2ec037-6cee-407f-b8ff-fef01c7a059d",
   "metadata": {},
   "outputs": [],
   "source": []
  },
  {
   "cell_type": "code",
   "execution_count": 213,
   "id": "86988a5a-baaf-4d2f-8ddf-37c319619373",
   "metadata": {},
   "outputs": [
    {
     "data": {
      "text/plain": [
       "array([0, 0, 0, 0, 0, 0, 0, 0, 1, 1, 1, 1, 1, 1, 1, 0, 0, 1, 1, 1, 0, 0,\n",
       "       0, 0, 0, 0, 0, 0, 0, 1, 1, 1, 0, 1, 0, 1, 0, 0, 0, 0, 0, 0, 1, 1,\n",
       "       0, 1, 1, 1, 1, 0, 0, 0, 1, 1, 1, 1, 1, 1, 1, 1, 1, 1, 1, 1, 1, 1,\n",
       "       1, 1, 1, 1, 1, 1, 1, 1, 1, 1, 1, 1, 1, 1, 1, 1, 1, 1, 1, 1, 1, 1,\n",
       "       1, 1, 1, 1, 1, 1, 1, 1, 1, 1, 1, 1, 1, 1, 1, 1, 1, 1, 1, 1, 1, 1,\n",
       "       1, 1, 1, 1, 1, 1, 1, 1, 1, 1, 1, 1, 1, 1, 1, 1, 1, 1, 1, 1, 1, 1,\n",
       "       1, 1, 1, 1, 1, 1, 1, 1, 1, 1, 1, 1, 1, 1, 1, 1, 1, 1, 1, 1, 1, 1,\n",
       "       1, 1, 1, 1, 1, 1, 1, 1, 1, 1, 1, 1, 1, 1, 1, 1, 1, 1, 1, 1, 1, 1,\n",
       "       1, 1, 1, 1, 1, 1, 1, 1, 1, 1, 1, 1, 1, 1, 1, 1, 1, 1, 1, 1, 1, 1,\n",
       "       1, 1, 1, 1, 1, 1, 1, 1, 1, 1, 1, 1, 1, 1, 1, 1, 1, 1, 1, 1, 1, 1,\n",
       "       1, 1, 1, 1, 1, 1, 1, 1, 1, 1, 1, 1, 1, 1, 1, 1, 1, 1, 1, 1, 1, 1,\n",
       "       1, 1, 1, 1])"
      ]
     },
     "execution_count": 213,
     "metadata": {},
     "output_type": "execute_result"
    }
   ],
   "source": []
  },
  {
   "cell_type": "code",
   "execution_count": 222,
   "id": "b21f5c4a-1950-48c0-868f-6236dc6e3ae9",
   "metadata": {},
   "outputs": [
    {
     "data": {
      "image/png": "[encoded data removed]",
      "text/plain": [
       "<Figure size 432x288 with 1 Axes>"
      ]
     },
     "metadata": {
      "needs_background": "light"
     },
     "output_type": "display_data"
    },
    {
     "data": {
      "text/plain": [
       "[0.6350753031295172, 0.6895832972824075]"
      ]
     },
     "execution_count": 222,
     "metadata": {},
     "output_type": "execute_result"
    },
    {
     "data": {
      "image/png": "[encoded data removed]",
      "text/plain": [
       "<Figure size 864x576 with 1 Axes>"
      ]
     },
     "metadata": {
      "needs_background": "light"
     },
     "output_type": "display_data"
    }
   ],
   "source": [
    "def backtest_price(df_):\n",
    "    df = df_\n",
    "\n",
    "    #df = pd.concat([setup['SPY'].pct_change(),pd.DataFrame(np.where(signals_df>0,1,0),index=signals_df.index,columns=signals_df.columns)],axis=1)\n",
    "    #df = pd.concat([y,np.sum(X*results.params,axis=1)],axis=1).dropna()\n",
    "    #df['signal'] = np.where( (df.iloc[:,1]>0),1,-1)\n",
    "\n",
    "    #print(results.params)\n",
    "\n",
    "    \"\"\"\n",
    "    plt.plot(np.cumprod(1+df.iloc[:,0]))\n",
    "    plt.plot(np.cumprod(1+df.iloc[:,0]*df['signal']))\n",
    "    plt.legend(['hold','rules'])\n",
    "    plt.show()\n",
    "    \"\"\"\n",
    "\n",
    "    df['bnh_returns'] = df.iloc[:,0]\n",
    "    #df['signal'] = df.iloc[:,1]\n",
    "\n",
    "    df['max_52'] = df.iloc[:,0].rolling(window=52).max()\n",
    "    df['min_52'] = df.iloc[:,0].rolling(window=52).min()\n",
    "\n",
    "    df['pct_w_in_range'] = (df['bnh_returns'] + df['min_52']) / (df['max_52']-df['min_52'])\n",
    "\n",
    "    #df['position'] = df.iloc[:,1]\n",
    "    #print(df.head(3))    \n",
    "\n",
    "    # creating long and short positions \n",
    "    #df['position'] = df['signal'].replace(to_replace=0, method='ffill')\n",
    "\n",
    "    df['ma50'] = df.iloc[:,0].rolling(window=50).mean()\n",
    "    df['ma200'] = df.iloc[:,0].rolling(window=200).mean()\n",
    "\n",
    "    #buy/sell\n",
    "\n",
    "    df['signal_ma_up'] = np.where(df['signal']==1,1,np.where( ( (df['signal'] == 0) & df['ma50'] > df['ma200']),1,df['signal']))\n",
    "\n",
    "    df['signal_dn'] = np.where(df['signal']==1,1,np.where( ( (df['signal'] == 0) & (df['pct_w_in_range'] < .05)),-1,df['signal']))\n",
    "\n",
    "    df['signal_up'] = np.where(df['signal']==1,1,np.where( ( (df['signal'] == 0) & (df['pct_w_in_range'] > .95)),1,df['signal']))\n",
    "\n",
    "    df['signal_ma_dn'] = np.where(df['signal']==1,1,np.where( ( (df['signal'] == 0) & df['ma50'] < df['ma200']),-1,df['signal']))\n",
    "\n",
    "    df['signal_up'] = np.where(df['signal']==1,1,np.where( ( (df['signal'] == 0) & (df['pct_w_in_range'] < .05)),-1,df['signal']))\n",
    "    df['signal_ma_up'] = np.where(df['signal']==1,1,np.where( ( (df['signal'] == 0) & df['ma50'] > df['ma200']),1,df['signal']))\n",
    "    #df['signal'] = np.where(df['signal']==1,1,np.where(df['signal_ma_up']*df['signal_up']==1,1,df['signal']))\n",
    "    #df['signal'] = np.where(df['signal']==1,1,np.where(df['signal_ma_dn']*df['signal_dn']==1,-1,df['signal']))\n",
    "    \"\"\"\n",
    "    df['signal'] = np.where(df['signal']>0,1,-1)\n",
    "    \"\"\"\n",
    "    df['position'] = df['signal'].replace(to_replace=0, method='ffill')\n",
    "    plt.plot(df['position'])\n",
    "    plt.show()\n",
    "\n",
    "    #df['position'] = np.where( (df['position'] > 0),1,-1)#.replace(to_replace=0, method='ffill')\n",
    "\n",
    "    # creating long and short positions \n",
    "\n",
    "    # shifting by 1, to account of close price return calculations\n",
    "    #I derive return outside\n",
    "    #df['position'] = df['position'].shift(1)    \n",
    "\n",
    "    #df['position'] = np.where((df['signal']&df['signal_crossover'])>0,1,0)\n",
    "\n",
    "    #df['position'] = df['signal_crossover']#df['signal']\n",
    "\n",
    "    #df['position'] = np.where( ( (df['signal']<0) & (df['signal_crossover']==False)),-1,0)\n",
    "\n",
    "    # shifting by 1, to account of close price return calculations\n",
    "    df['position'] = df['position'].shift(1)\n",
    "\n",
    "    # calculating stretegy returns\n",
    "    df['strategy_returns'] = df['bnh_returns'] * (df['position'])\n",
    "\n",
    "    # comparing buy & hold strategy / bollinger bands strategy returns\n",
    "    #print(\"Buy and hold returns:\",df['bnh_returns'].cumsum()[-1])\n",
    "    #print(\"Strategy returns:\",df['strategy_returns'].cumsum()[-1])\n",
    "\n",
    "    # plotting strategy historical performance over time\n",
    "    df[['bnh_returns','strategy_returns']] = df[['bnh_returns','strategy_returns']].cumsum()\n",
    "    df[['bnh_returns','strategy_returns']].plot(grid=True, figsize=(12, 8))\n",
    "\n",
    "    #print(df['strategy_returns'].diff())\n",
    "    #pf.create_simple_tear_sheet(df['strategy_returns'].diff().dropna())\n",
    "\n",
    "    return ([df['strategy_returns'][-1],df['bnh_returns'][-1]])  \n",
    "\n",
    "backtest_price(pd.concat([setup['SPY'].pct_change(),pd.DataFrame(np.where(signals_df>0,1,0),index=signals_df.index,columns=signals_df.columns)],axis=1))"
   ]
  },
  {
   "cell_type": "code",
   "execution_count": null,
   "id": "f04a9903-e44f-410d-ba5f-09d191d3f671",
   "metadata": {},
   "outputs": [],
   "source": []
  },
  {
   "cell_type": "code",
   "execution_count": null,
   "id": "24fb076f-85ca-4e50-b4ea-921b8c0ec306",
   "metadata": {},
   "outputs": [],
   "source": []
  },
  {
   "cell_type": "code",
   "execution_count": null,
   "id": "4aac0a3a-8934-4a48-a233-84b7b2c250b3",
   "metadata": {},
   "outputs": [],
   "source": []
  },
  {
   "cell_type": "code",
   "execution_count": null,
   "id": "06fdeeff-3a8d-48eb-91db-a5e129a8d8f5",
   "metadata": {},
   "outputs": [],
   "source": [
    "np.cumprod(temp_df['SPY']*temp_df['signal'])"
   ]
  },
  {
   "cell_type": "code",
   "execution_count": null,
   "id": "ded06c67-00ef-4fd5-9f99-fe8ab2e99fc3",
   "metadata": {},
   "outputs": [],
   "source": [
    "np.cumprod(temp_df['SPY']*(1+temp_df['signal']))"
   ]
  },
  {
   "cell_type": "code",
   "execution_count": null,
   "id": "6f4dc2c2-e602-49c9-bb63-f405a1ee3393",
   "metadata": {},
   "outputs": [],
   "source": [
    "plt.plot(np.cumprod(1+setup[[focus]].pct_change()))\n",
    "temp_df = pd.concat([1+(setup[[focus]].pct_change()).shift(1),signals_df>0],axis=1).dropna()\n",
    "plt.plot(np.cumprod(temp_df['SPY']*temp_df['signal']))\n",
    "\n",
    "plt.legend(['hold','rules'])\n",
    "    "
   ]
  },
  {
   "cell_type": "code",
   "execution_count": null,
   "id": "d3de4cad-755e-436d-bb5b-019341eac479",
   "metadata": {},
   "outputs": [],
   "source": [
    "#backtest_price(pd.concat([setup[[focus]].pct_change(),setup[[focus]].pct_change()>0],axis=1).dropna())\n",
    "backtest_price(pd.concat([setup[[focus]].pct_change(),signals_df>0],axis=1).dropna())"
   ]
  },
  {
   "cell_type": "code",
   "execution_count": null,
   "id": "ad32bc90-9744-4af0-8130-d0fa5ac684e4",
   "metadata": {},
   "outputs": [],
   "source": []
  },
  {
   "cell_type": "code",
   "execution_count": null,
   "id": "a0c5edd2-56c4-453b-b702-9ef36944a2cf",
   "metadata": {},
   "outputs": [],
   "source": []
  },
  {
   "cell_type": "code",
   "execution_count": null,
   "id": "c92b7fcc-b054-477a-8ff2-7295d08f2a13",
   "metadata": {},
   "outputs": [],
   "source": []
  },
  {
   "cell_type": "code",
   "execution_count": null,
   "id": "14188c13-9177-48f1-884e-d0f63a96e59c",
   "metadata": {},
   "outputs": [],
   "source": []
  },
  {
   "cell_type": "code",
   "execution_count": null,
   "id": "6dbd1755-70d8-4353-853b-da51af47766d",
   "metadata": {},
   "outputs": [],
   "source": []
  },
  {
   "cell_type": "code",
   "execution_count": null,
   "id": "66237755-db8b-4678-b9af-16fb62beb245",
   "metadata": {},
   "outputs": [],
   "source": []
  },
  {
   "cell_type": "code",
   "execution_count": null,
   "id": "df470e73-7f7d-4168-9ccc-e35784e9a56a",
   "metadata": {},
   "outputs": [],
   "source": []
  },
  {
   "cell_type": "code",
   "execution_count": null,
   "id": "a142513a-767d-4e04-b59d-d61716a54da4",
   "metadata": {},
   "outputs": [],
   "source": []
  },
  {
   "cell_type": "code",
   "execution_count": null,
   "id": "7cf6c338-9f1e-40ec-8d58-656799adb4b8",
   "metadata": {},
   "outputs": [],
   "source": []
  },
  {
   "cell_type": "code",
   "execution_count": null,
   "id": "e989c44d-da53-420f-893f-42eff443b1c8",
   "metadata": {},
   "outputs": [],
   "source": []
  },
  {
   "cell_type": "code",
   "execution_count": null,
   "id": "03d0be60-dd30-4313-8175-3b6005e91edc",
   "metadata": {},
   "outputs": [],
   "source": []
  },
  {
   "cell_type": "code",
   "execution_count": null,
   "id": "795b4d03-66ab-44bd-bfa5-5d7130fc6881",
   "metadata": {},
   "outputs": [],
   "source": []
  },
  {
   "cell_type": "code",
   "execution_count": null,
   "id": "a7cb36e9-1ca6-45c1-9d08-66120109a035",
   "metadata": {},
   "outputs": [],
   "source": []
  },
  {
   "cell_type": "code",
   "execution_count": null,
   "id": "22fab2e7-aab7-485a-9d89-998cd64f3826",
   "metadata": {},
   "outputs": [],
   "source": []
  },
  {
   "cell_type": "code",
   "execution_count": null,
   "id": "2edbe916-dc3a-4fda-843c-8ed81f4d3bb3",
   "metadata": {},
   "outputs": [],
   "source": [
    "#setup[[focus]].loc[train[t]].pct_change()"
   ]
  },
  {
   "cell_type": "code",
   "execution_count": null,
   "id": "40dafefb-ebaf-4f8f-a67b-1f559c9f6472",
   "metadata": {},
   "outputs": [],
   "source": []
  },
  {
   "cell_type": "code",
   "execution_count": null,
   "id": "ef41c857-a358-4d5e-a985-8b006d39330c",
   "metadata": {},
   "outputs": [],
   "source": []
  },
  {
   "cell_type": "code",
   "execution_count": null,
   "id": "5c2fac93-3535-43cf-a951-99405aab3b70",
   "metadata": {},
   "outputs": [],
   "source": []
  },
  {
   "cell_type": "code",
   "execution_count": null,
   "id": "ca12e2d0-862b-4124-893a-c6a26700df1e",
   "metadata": {},
   "outputs": [],
   "source": []
  },
  {
   "cell_type": "code",
   "execution_count": null,
   "id": "c883ab98-c9e6-408a-8e6d-86d849d087c1",
   "metadata": {},
   "outputs": [],
   "source": []
  },
  {
   "cell_type": "code",
   "execution_count": null,
   "id": "daf1044c-84a4-4a62-8ae0-3e5ab48132b8",
   "metadata": {},
   "outputs": [],
   "source": []
  },
  {
   "cell_type": "code",
   "execution_count": null,
   "id": "248b1f2d-3366-4f0e-a317-a46959681baf",
   "metadata": {},
   "outputs": [],
   "source": []
  },
  {
   "cell_type": "code",
   "execution_count": null,
   "id": "17b7e761-a583-4b6f-ab53-5db4f4ea2975",
   "metadata": {},
   "outputs": [],
   "source": []
  },
  {
   "cell_type": "code",
   "execution_count": null,
   "id": "87810ee4-18d0-4284-bbb5-9f0d9c00fa02",
   "metadata": {},
   "outputs": [],
   "source": []
  },
  {
   "cell_type": "code",
   "execution_count": null,
   "id": "b9e96747-bb05-4200-962e-5416b461e163",
   "metadata": {},
   "outputs": [],
   "source": []
  },
  {
   "cell_type": "code",
   "execution_count": null,
   "id": "b17a92ac-54a7-4584-adf1-fb673473c49e",
   "metadata": {},
   "outputs": [],
   "source": []
  },
  {
   "cell_type": "code",
   "execution_count": null,
   "id": "97468a11-033d-4f19-863e-9bff2a512843",
   "metadata": {},
   "outputs": [],
   "source": []
  },
  {
   "cell_type": "code",
   "execution_count": null,
   "id": "86bbc88d-ef17-4574-84c6-54fd94c413a2",
   "metadata": {},
   "outputs": [],
   "source": []
  },
  {
   "cell_type": "code",
   "execution_count": null,
   "id": "d5da1aa8-2d9e-4877-8432-2d15058363c5",
   "metadata": {},
   "outputs": [],
   "source": []
  },
  {
   "cell_type": "code",
   "execution_count": null,
   "id": "fe96eb8b-d6b1-4ccc-aa88-b638cb81e0b0",
   "metadata": {},
   "outputs": [],
   "source": []
  },
  {
   "cell_type": "code",
   "execution_count": null,
   "id": "518823bc-1a73-4181-a7b0-ffaa9d3dcf5c",
   "metadata": {},
   "outputs": [],
   "source": []
  },
  {
   "cell_type": "code",
   "execution_count": null,
   "id": "5a49ec49-b255-4f15-9983-df9a024208bc",
   "metadata": {},
   "outputs": [],
   "source": []
  },
  {
   "cell_type": "code",
   "execution_count": null,
   "id": "f4188842-7d8f-4647-a30e-0761fa21eac3",
   "metadata": {},
   "outputs": [],
   "source": []
  },
  {
   "cell_type": "code",
   "execution_count": null,
   "id": "8cad9f12-056a-4067-b848-fa3578dd432b",
   "metadata": {},
   "outputs": [],
   "source": []
  },
  {
   "cell_type": "code",
   "execution_count": null,
   "id": "286fb3a7-1951-4241-9197-ee176f6c8304",
   "metadata": {},
   "outputs": [],
   "source": []
  },
  {
   "cell_type": "code",
   "execution_count": null,
   "id": "734d1a91-724a-4293-8178-d5a03c0beeda",
   "metadata": {},
   "outputs": [],
   "source": []
  },
  {
   "cell_type": "code",
   "execution_count": null,
   "id": "e4445a88-bde7-497e-88a0-173c1158da0f",
   "metadata": {},
   "outputs": [],
   "source": []
  },
  {
   "cell_type": "code",
   "execution_count": null,
   "id": "8d6197d2-822e-405a-837b-3cc1519d4031",
   "metadata": {},
   "outputs": [],
   "source": []
  },
  {
   "cell_type": "code",
   "execution_count": null,
   "id": "e73fc519-1136-4aaf-9bd5-f767370d6901",
   "metadata": {},
   "outputs": [],
   "source": []
  },
  {
   "cell_type": "code",
   "execution_count": null,
   "id": "42bfe4eb-bca3-4512-9f0e-3d8391d62dc2",
   "metadata": {},
   "outputs": [],
   "source": []
  },
  {
   "cell_type": "code",
   "execution_count": null,
   "id": "ee39025b-c6e0-4f9d-894c-212fdf1dbf0a",
   "metadata": {},
   "outputs": [],
   "source": []
  },
  {
   "cell_type": "code",
   "execution_count": null,
   "id": "ae0b42cc-b040-4790-9429-cd5c7a7ea490",
   "metadata": {},
   "outputs": [],
   "source": []
  },
  {
   "cell_type": "code",
   "execution_count": null,
   "id": "f75fefbf-4d97-4de0-b8ec-d5352b52edac",
   "metadata": {},
   "outputs": [],
   "source": []
  },
  {
   "cell_type": "code",
   "execution_count": null,
   "id": "37044842-e85c-4b91-b266-00090a9029a5",
   "metadata": {},
   "outputs": [],
   "source": []
  },
  {
   "cell_type": "code",
   "execution_count": null,
   "id": "b5d2c158-384c-40f5-aa55-89169e756525",
   "metadata": {},
   "outputs": [],
   "source": []
  },
  {
   "cell_type": "code",
   "execution_count": null,
   "id": "6d11f719-b9f3-4a91-80b2-4b6094f9e4f1",
   "metadata": {},
   "outputs": [],
   "source": []
  },
  {
   "cell_type": "code",
   "execution_count": null,
   "id": "9d2b545b-fd1d-4edc-905f-8df54fd10515",
   "metadata": {},
   "outputs": [],
   "source": []
  },
  {
   "cell_type": "code",
   "execution_count": null,
   "id": "8aaa2cb9-6a6c-4eb8-9660-c7b672ab7266",
   "metadata": {},
   "outputs": [],
   "source": [
    "\n",
    "final_spy_set = spy_set[['rf','rf_lag']]\n",
    "final_spy_set.index = [s for s in final_spy_set['rf'].values.ravel()]\n",
    "\n",
    "print(final_spy_set['rf_lag'].loc[[c for c in spy_cv_test.columns[1:]]])\n",
    "backtest_price(pd.concat([y,np.sum(X*results.params,axis=1)],axis=1))"
   ]
  },
  {
   "cell_type": "code",
   "execution_count": null,
   "id": "897d868b-0beb-449f-abe7-a9bd4be8995c",
   "metadata": {},
   "outputs": [],
   "source": []
  },
  {
   "cell_type": "code",
   "execution_count": null,
   "id": "9ba7c05b-b298-4666-97cd-b1730ecc7641",
   "metadata": {},
   "outputs": [],
   "source": []
  },
  {
   "cell_type": "code",
   "execution_count": null,
   "id": "01bac92c-4633-4e69-a503-28180ce92456",
   "metadata": {},
   "outputs": [],
   "source": []
  },
  {
   "cell_type": "code",
   "execution_count": null,
   "id": "ca4836b1-fe6c-4bc7-9c31-1c00ed8c2513",
   "metadata": {},
   "outputs": [],
   "source": []
  },
  {
   "cell_type": "code",
   "execution_count": null,
   "id": "b8fce3cf-d9e8-4fbf-b17c-bb606b832575",
   "metadata": {},
   "outputs": [],
   "source": []
  },
  {
   "cell_type": "code",
   "execution_count": null,
   "id": "8b7d6d73-28a5-48e5-9681-86aa1aefa842",
   "metadata": {},
   "outputs": [],
   "source": []
  },
  {
   "cell_type": "code",
   "execution_count": null,
   "id": "e5cbe136-e9d6-4abf-bbc3-4ae683eaf992",
   "metadata": {},
   "outputs": [],
   "source": []
  },
  {
   "cell_type": "code",
   "execution_count": null,
   "id": "0db09471-55fa-4122-9b92-ec3c870a7130",
   "metadata": {},
   "outputs": [],
   "source": []
  },
  {
   "cell_type": "code",
   "execution_count": null,
   "id": "f7ae29e3-5bd4-4627-887b-7aa2d81dd269",
   "metadata": {},
   "outputs": [],
   "source": []
  },
  {
   "cell_type": "code",
   "execution_count": null,
   "id": "3d824fa5-fcad-47cc-9336-5f73dc5a583b",
   "metadata": {},
   "outputs": [],
   "source": []
  },
  {
   "cell_type": "code",
   "execution_count": null,
   "id": "0e73c487-0638-413b-8edc-d14c7c534779",
   "metadata": {},
   "outputs": [],
   "source": []
  },
  {
   "cell_type": "code",
   "execution_count": null,
   "id": "dec94d5f-7544-437a-9659-888f8350019e",
   "metadata": {},
   "outputs": [],
   "source": []
  },
  {
   "cell_type": "code",
   "execution_count": null,
   "id": "b445a907-23d1-42df-a863-f695df03964c",
   "metadata": {},
   "outputs": [],
   "source": []
  },
  {
   "cell_type": "code",
   "execution_count": null,
   "id": "0c097e71-4bbe-4ec8-b855-db0073f65f3c",
   "metadata": {},
   "outputs": [],
   "source": []
  },
  {
   "cell_type": "code",
   "execution_count": null,
   "id": "0f0f8760-b4f4-4ea2-81b9-7e5ff2d2774f",
   "metadata": {},
   "outputs": [],
   "source": [
    "plt.plot(results.describe().loc['50%'])"
   ]
  },
  {
   "cell_type": "code",
   "execution_count": null,
   "id": "abca20d1-fb2d-49c6-9dfb-acf9d54ac854",
   "metadata": {},
   "outputs": [],
   "source": [
    "pd.DataFrame(results,columns=['rf','Date','best_lag','positive','negative'])"
   ]
  },
  {
   "cell_type": "code",
   "execution_count": null,
   "id": "4ed330f5-000c-4f20-8b48-e5513ec99e58",
   "metadata": {},
   "outputs": [],
   "source": [
    "pd.DataFrame(results)"
   ]
  },
  {
   "cell_type": "code",
   "execution_count": null,
   "id": "352756ec-8739-4fd5-947d-5c812feeb174",
   "metadata": {},
   "outputs": [],
   "source": [
    "np.argmax([[p for p in p_sigs]])"
   ]
  },
  {
   "cell_type": "code",
   "execution_count": null,
   "id": "44b3891d-8eaa-47fa-a509-6da627a6524a",
   "metadata": {},
   "outputs": [],
   "source": [
    "pd.DataFrame(results)"
   ]
  },
  {
   "cell_type": "code",
   "execution_count": null,
   "id": "33dc3603-b79c-466e-bbcb-2b3d2075a072",
   "metadata": {},
   "outputs": [],
   "source": [
    "sectors_indexes_correlations = pd.DataFrame([n for n in np.concatenate(_outer_corrs)],columns=[['lf','rf','rf_lag','pct_sig','corr_dir']])\n",
    "#sectors_indexes_correlations\n",
    "pd.DataFrame([float(n[0]) for n in sectors_indexes_correlations['pct_sig'].values]).hist()\n",
    "sectors_indexes_correlations = sectors_indexes_correlations.loc[pd.DataFrame([float(n[0]) for n in sectors_indexes_correlations['pct_sig'].values]).sort_values(by=0,ascending=False).index]\n"
   ]
  },
  {
   "cell_type": "code",
   "execution_count": null,
   "id": "818f1899-688e-47ea-91bf-b7efc7c3414c",
   "metadata": {},
   "outputs": [],
   "source": [
    "#plot_returns(npa_true[vox_corrs_items[0]])"
   ]
  },
  {
   "cell_type": "code",
   "execution_count": null,
   "id": "451096ea-cbf3-4104-8710-fae01f9878a7",
   "metadata": {},
   "outputs": [],
   "source": [
    "#clientFunction(findMaxCorr,npa_true[0:1600])"
   ]
  },
  {
   "cell_type": "code",
   "execution_count": null,
   "id": "5d5a0b55-2d56-49be-945a-0b5b1117af96",
   "metadata": {},
   "outputs": [],
   "source": [
    "#results_corrs_true = clientFunction(findMaxCorr,sample(npa_true,200))\n",
    "results_corrs_true = clientFunction(findMaxCorr,npa_true)\n",
    "len(results_corrs_true)\n",
    "\n",
    "#results_corrs_false = clientFunction(findMaxCorr,sample(npa_false,2000))\n",
    "results_corrs_false = clientFunction(findMaxCorr,npa_false)\n",
    "len(results_corrs_false)"
   ]
  },
  {
   "cell_type": "code",
   "execution_count": null,
   "id": "af1d3225-cc6f-48de-b820-991384e8fc9b",
   "metadata": {},
   "outputs": [],
   "source": [
    "print('returns')\n",
    "positives = [[x[0],x[1],x[2],x[3]] for x in results_corrs_true if (x[4] == 'positive')]\n",
    "\n",
    "plt.plot(np.sort([p[3] for p in positives]))\n",
    "positives = [[x[0],x[1],x[2],x[3]] for x in positives if ((x[3] > (.1+.3)/2))]\n",
    "plt.show()\n",
    "\n",
    "negatives = [[x[0],x[1],x[2],x[3]] for x in results_corrs_true if (x[4] == 'negative')]\n",
    "#print(np.max([n[3] for n in negatives]))\n",
    "plt.plot(np.sort([p[3] for p in negatives]))\n",
    "plt.show()\n",
    "negatives = [[x[0],x[1],x[2],x[3]] for x in negatives if (x[3] > (.1+.3)/2) & (x[2] > 0)]\n",
    "\n",
    "for m in [*np.array(pd.DataFrame(np.array([*negatives,*positives]),columns=['f1','f2','lag','pct_sig']).sort_values(by='pct_sig',ascending=False))]:\n",
    "    plot_returns(m,return_=True)\n",
    "#print('nominal')\n",
    "#for m in [*np.array(pd.DataFrame(np.array([*negatives,*positives]),columns=['f1','f2','lag','pct_sig']).sort_values(by='pct_sig',ascending=False))]:\n",
    "#    plot_returns(m,return_=False)        "
   ]
  },
  {
   "cell_type": "code",
   "execution_count": null,
   "id": "a77b2a7e-25e0-4881-8b87-3957e9882c4b",
   "metadata": {},
   "outputs": [],
   "source": []
  },
  {
   "cell_type": "code",
   "execution_count": null,
   "id": "af2111b4-03b9-4133-9584-e52de8b099db",
   "metadata": {},
   "outputs": [],
   "source": []
  },
  {
   "cell_type": "code",
   "execution_count": null,
   "id": "781af85c-0e75-457d-a7cd-e67eed75baed",
   "metadata": {},
   "outputs": [],
   "source": [
    "#print('nominal')\n",
    "positives = [[x[0],x[1],x[2],x[3]] for x in results_corrs_false if (x[4] == 'positive')]\n",
    "\n",
    "plt.plot(np.sort([p[3] for p in positives]))\n",
    "plt.show()\n",
    "positives = [[x[0],x[1],x[2],x[3]] for x in positives if ((x[3] > (.525+1)/2))]\n",
    "\n",
    "\n",
    "negatives = [[x[0],x[1],x[2],x[3]] for x in results_corrs_false if (x[4] == 'negative')]\n",
    "#print(np.max([n[3] for n in negatives]))\n",
    "plt.plot(np.sort([p[3] for p in negatives]))\n",
    "plt.show()\n",
    "negatives = [[x[0],x[1],x[2],x[3]] for x in negatives if (x[3] > (.525+1)/2) & (x[2] > 0)]\n",
    "#for m in [*np.array(pd.DataFrame(np.array([*negatives,*positives]),columns=['f1','f2','lag','pct_sig']).sort_values(by='pct_sig',ascending=False))]:\n",
    "#    plot_returns(m,return_=False)\n",
    "print('returns')    \n",
    "for m in [*np.array(pd.DataFrame(np.array([*negatives,*positives]),columns=['f1','f2','lag','pct_sig']).sort_values(by='pct_sig',ascending=False))]:\n",
    "    plot_returns(m,return_=True)    "
   ]
  },
  {
   "cell_type": "code",
   "execution_count": null,
   "id": "4721c550-3628-450e-b3fe-87bd81aa786b",
   "metadata": {},
   "outputs": [],
   "source": []
  },
  {
   "cell_type": "code",
   "execution_count": null,
   "id": "f10e3153-4666-4a33-8b67-3bd5be0fa35a",
   "metadata": {},
   "outputs": [],
   "source": []
  },
  {
   "cell_type": "code",
   "execution_count": null,
   "id": "63074068-8c18-4d21-9e91-62ab1274606f",
   "metadata": {},
   "outputs": [],
   "source": []
  },
  {
   "cell_type": "code",
   "execution_count": null,
   "id": "b96e3184-8863-4369-85e9-5ca37295cd82",
   "metadata": {},
   "outputs": [],
   "source": []
  },
  {
   "cell_type": "code",
   "execution_count": null,
   "id": "21a03222-6dd2-4410-80ae-94aa404c9696",
   "metadata": {},
   "outputs": [],
   "source": []
  },
  {
   "cell_type": "code",
   "execution_count": null,
   "id": "3437b9f1-21d6-4b2a-973d-e5f04ac655d7",
   "metadata": {},
   "outputs": [],
   "source": []
  },
  {
   "cell_type": "code",
   "execution_count": null,
   "id": "f9f8ba08-bcd0-4d30-ab25-2a2942634b61",
   "metadata": {},
   "outputs": [],
   "source": []
  },
  {
   "cell_type": "code",
   "execution_count": null,
   "id": "0775ba4a-db12-4dd8-bf58-95518a2f6499",
   "metadata": {},
   "outputs": [],
   "source": []
  },
  {
   "cell_type": "code",
   "execution_count": null,
   "id": "0660ebb6-b057-4945-bdf1-24b19f0b2418",
   "metadata": {},
   "outputs": [],
   "source": [
    "#np.sum((setup['BZ=F'].pct_change()*setup['DCOILBRENTEU'].shift(1).pct_change())>0)/len(setup)"
   ]
  },
  {
   "cell_type": "code",
   "execution_count": null,
   "id": "9b606658-f505-4294-8f99-137c0c8bd5f4",
   "metadata": {},
   "outputs": [],
   "source": []
  },
  {
   "cell_type": "code",
   "execution_count": null,
   "id": "3ba70649-a84c-45bb-85b7-550d90d5b4a5",
   "metadata": {},
   "outputs": [],
   "source": [
    "#plt.plot(setup['BZ=F'].pct_change(4).corr(setup['DCOILBRENTEU'].shift(1)))"
   ]
  },
  {
   "cell_type": "code",
   "execution_count": null,
   "id": "a49f0579-c823-4a50-ba86-271a79c7a085",
   "metadata": {},
   "outputs": [],
   "source": []
  },
  {
   "cell_type": "code",
   "execution_count": null,
   "id": "23a8545f-5176-4491-baf4-889352fe5a34",
   "metadata": {},
   "outputs": [],
   "source": []
  },
  {
   "cell_type": "code",
   "execution_count": null,
   "id": "bc8f2dba-96ef-4a5d-b807-4d2a0c328f28",
   "metadata": {},
   "outputs": [],
   "source": [
    "#plot_returns(findMaxCorr(npa_true[146]))"
   ]
  },
  {
   "cell_type": "code",
   "execution_count": null,
   "id": "618a0a9c-653c-4b11-92dc-fdafd091f278",
   "metadata": {},
   "outputs": [],
   "source": []
  },
  {
   "cell_type": "code",
   "execution_count": null,
   "id": "92ca01dd-01ed-44ca-ab95-60b45cae2659",
   "metadata": {},
   "outputs": [],
   "source": []
  },
  {
   "cell_type": "code",
   "execution_count": null,
   "id": "0110351e-5a04-4c1f-9044-3fa470d2cdd5",
   "metadata": {},
   "outputs": [],
   "source": []
  },
  {
   "cell_type": "code",
   "execution_count": null,
   "id": "337584dd-69ac-43a1-a206-c52c29dfe758",
   "metadata": {},
   "outputs": [],
   "source": []
  },
  {
   "cell_type": "code",
   "execution_count": null,
   "id": "c75014b0-3cc1-4f01-bf4e-60905e5ad9e4",
   "metadata": {},
   "outputs": [],
   "source": []
  },
  {
   "cell_type": "code",
   "execution_count": null,
   "id": "e9c4351b-9657-40fc-a7c7-dc0a97e0c083",
   "metadata": {},
   "outputs": [],
   "source": []
  },
  {
   "cell_type": "code",
   "execution_count": null,
   "id": "1aa7b8f5-e07a-4f0b-bbb4-fa25bb9b630f",
   "metadata": {},
   "outputs": [],
   "source": []
  },
  {
   "cell_type": "code",
   "execution_count": null,
   "id": "4d8f0cc7-c261-497b-86be-9797644389fe",
   "metadata": {},
   "outputs": [],
   "source": []
  },
  {
   "cell_type": "code",
   "execution_count": null,
   "id": "fc1800b2-7bb9-4c7b-9ba6-a3bbd5e55206",
   "metadata": {},
   "outputs": [],
   "source": [
    "\"\"\"\n",
    "pd.DataFrame(p_sigs_outer).hist()\n",
    "\n",
    "vals,counts = np.unique(np.round(p_sigs,2), return_counts=True)\n",
    "index = np.argmax(counts)\n",
    "vals[index]\n",
    "\"\"\""
   ]
  },
  {
   "cell_type": "code",
   "execution_count": null,
   "id": "b7b9ea9b-a4da-487a-a0b4-bf97abe018d1",
   "metadata": {},
   "outputs": [],
   "source": []
  },
  {
   "cell_type": "code",
   "execution_count": null,
   "id": "45620dea-4a30-4aa8-9eba-cc25cc071035",
   "metadata": {},
   "outputs": [],
   "source": []
  },
  {
   "cell_type": "code",
   "execution_count": null,
   "id": "9b15dc0c-05c4-411f-98e4-3d0bf3513918",
   "metadata": {},
   "outputs": [],
   "source": []
  },
  {
   "cell_type": "code",
   "execution_count": null,
   "id": "4608b7c6-d919-40e9-b18b-bdacc9f3f523",
   "metadata": {},
   "outputs": [],
   "source": []
  },
  {
   "cell_type": "code",
   "execution_count": null,
   "id": "f50179dc-a347-4d2c-b2ed-9824ead0c738",
   "metadata": {},
   "outputs": [],
   "source": []
  },
  {
   "cell_type": "code",
   "execution_count": null,
   "id": "7ff940b0-2750-4b47-9626-149ee1b6b836",
   "metadata": {},
   "outputs": [],
   "source": []
  },
  {
   "cell_type": "code",
   "execution_count": null,
   "id": "d629e4d4-2287-435f-8ee3-7d10ca7b09dc",
   "metadata": {},
   "outputs": [],
   "source": []
  },
  {
   "cell_type": "code",
   "execution_count": null,
   "id": "46f89776-4887-47da-a4af-78170a1df6e5",
   "metadata": {},
   "outputs": [],
   "source": []
  },
  {
   "cell_type": "code",
   "execution_count": null,
   "id": "e078a8d3-496e-458c-9afb-2a7d852296a0",
   "metadata": {},
   "outputs": [],
   "source": [
    "#build an elastic net model\n",
    "spy_set = sectors_indexes_correlations.loc[sectors_indexes_correlations.index[(sectors_indexes_correlations['lf']=='SPY').values.ravel()]]\n",
    "\n",
    "spy_df_setup = setup[['SPY']].pct_change()\n",
    "for v in sectors_indexes_correlations.loc[spy_set.index].values:\n",
    "    spy_df_setup = pd.concat([spy_df_setup,setup[[v[1]]].shift(int(v[2])).pct_change()],axis=1)\n",
    "    \n",
    "spy_df_setup = spy_df_setup.dropna()"
   ]
  },
  {
   "cell_type": "code",
   "execution_count": null,
   "id": "ee8c1790-72bc-4bb7-b85c-b98025457947",
   "metadata": {},
   "outputs": [],
   "source": [
    "\n",
    "\n",
    "\n",
    "# load the dataset\n",
    "X, y = spy_df_setup.iloc[:,1:], spy_df_setup.iloc[:,0]\n",
    "# define model evaluation method\n",
    "cv = RepeatedKFold(n_splits=10, n_repeats=3, random_state=1)\n",
    "# define model\n",
    "ratios = arange(0, 1, 0.01)\n",
    "alphas = [1e-5, 1e-4, 1e-3, 1e-2, 1e-1, 0.0, 1.0, 10.0, 100.0]\n",
    "model = ElasticNetCV(l1_ratio=ratios, alphas=alphas, cv=cv, n_jobs=-1)\n",
    "# fit model\n",
    "model.fit(X, y)\n",
    "# summarize chosen configuration\n",
    "print('alpha: %f' % model.alpha_)\n",
    "print('l1_ratio_: %f' % model.l1_ratio_)"
   ]
  },
  {
   "cell_type": "code",
   "execution_count": null,
   "id": "c4f84c77-179b-400f-9514-b68b08fc17d4",
   "metadata": {},
   "outputs": [],
   "source": [
    "\n",
    "lm = LinearRegression()\n",
    "sfs1 = SFS(lm, \n",
    "           k_features=len(X.columns), \n",
    "           forward=True, \n",
    "           floating=False, \n",
    "           verbose=2,\n",
    "           scoring='neg_mean_squared_error',\n",
    "           cv=10)\n",
    "\n",
    "sfs1 = sfs1.fit(X, y)"
   ]
  },
  {
   "cell_type": "code",
   "execution_count": null,
   "id": "455d9d8b-d29d-49b7-842b-89a98cfc9cb5",
   "metadata": {},
   "outputs": [],
   "source": [
    "X.columns"
   ]
  },
  {
   "cell_type": "code",
   "execution_count": null,
   "id": "6fa0bae1-e9fb-4f42-bd87-c39bda8e7fbb",
   "metadata": {},
   "outputs": [],
   "source": []
  },
  {
   "cell_type": "code",
   "execution_count": null,
   "id": "5eb87c0a-62d2-4c49-9e55-ef59d7b559e1",
   "metadata": {},
   "outputs": [],
   "source": []
  },
  {
   "cell_type": "code",
   "execution_count": null,
   "id": "b685650e-5203-42af-a525-9c064a488889",
   "metadata": {},
   "outputs": [],
   "source": []
  },
  {
   "cell_type": "code",
   "execution_count": null,
   "id": "441eac5f-c23d-4ae6-9308-22a801ce238d",
   "metadata": {},
   "outputs": [],
   "source": []
  },
  {
   "cell_type": "code",
   "execution_count": null,
   "id": "ec1e8dcd-2b63-4667-bb2c-2842dd39ea8d",
   "metadata": {},
   "outputs": [],
   "source": []
  },
  {
   "cell_type": "code",
   "execution_count": null,
   "id": "7fef9764-2ac1-46fb-ad48-210afdb837c5",
   "metadata": {},
   "outputs": [],
   "source": []
  },
  {
   "cell_type": "code",
   "execution_count": null,
   "id": "c6e5f222-5c64-4351-bc5f-4226c298f4f0",
   "metadata": {},
   "outputs": [],
   "source": [
    "\n",
    "\n",
    "\n",
    "\n",
    "spy_cv_test = pd.concat([y,X[[c for c in pd.DataFrame(pd.DataFrame(sfs1.subsets_).T.loc[np.argmax(pd.DataFrame(sfs1.subsets_).T['avg_score'])]).loc['feature_names'].values[0]]]],axis=1)\n",
    "\n",
    "X = sm.add_constant(spy_cv_test.iloc[:,1:])\n",
    "results = sm.OLS(spy_cv_test.iloc[:,0],X).fit()\n",
    "results.summary()  \n"
   ]
  },
  {
   "cell_type": "code",
   "execution_count": null,
   "id": "e932fd23-1559-4608-988e-ac859e6d1989",
   "metadata": {},
   "outputs": [],
   "source": []
  },
  {
   "cell_type": "code",
   "execution_count": null,
   "id": "7291d4bf-b083-4d55-8ebd-afbe3b9ec9f3",
   "metadata": {},
   "outputs": [],
   "source": []
  },
  {
   "cell_type": "code",
   "execution_count": null,
   "id": "8e774716-1857-4fa4-948b-a15a13c3fa28",
   "metadata": {},
   "outputs": [],
   "source": []
  },
  {
   "cell_type": "code",
   "execution_count": null,
   "id": "868706e8-2cc9-4ccb-b145-56a7048a09a6",
   "metadata": {},
   "outputs": [],
   "source": []
  },
  {
   "cell_type": "code",
   "execution_count": null,
   "id": "1aa174dc-89e5-425c-a77d-ca0fd36c92e0",
   "metadata": {},
   "outputs": [],
   "source": []
  },
  {
   "cell_type": "code",
   "execution_count": null,
   "id": "22639676-86ae-4012-9647-0450b472fa2e",
   "metadata": {},
   "outputs": [],
   "source": []
  },
  {
   "cell_type": "code",
   "execution_count": null,
   "id": "8b134f87-9415-4e90-9227-31deca880ca5",
   "metadata": {},
   "outputs": [],
   "source": []
  },
  {
   "cell_type": "code",
   "execution_count": null,
   "id": "268cd276-4593-4392-8903-9377d087be7c",
   "metadata": {},
   "outputs": [],
   "source": []
  },
  {
   "cell_type": "code",
   "execution_count": null,
   "id": "99cb8f1c-6211-4e9e-9450-086255e85591",
   "metadata": {},
   "outputs": [],
   "source": []
  },
  {
   "cell_type": "code",
   "execution_count": null,
   "id": "535d6cef-b417-4131-a8d7-ee29da551794",
   "metadata": {},
   "outputs": [],
   "source": []
  },
  {
   "cell_type": "code",
   "execution_count": null,
   "id": "a4d67e62-2bd5-4c70-9b7d-3929548cabdc",
   "metadata": {},
   "outputs": [],
   "source": []
  },
  {
   "cell_type": "code",
   "execution_count": null,
   "id": "e5b0ceb0-10ff-467f-af21-7069e98da581",
   "metadata": {},
   "outputs": [],
   "source": []
  },
  {
   "cell_type": "code",
   "execution_count": null,
   "id": "95d61d73-5abe-42b8-9ffe-ac1411620467",
   "metadata": {},
   "outputs": [],
   "source": []
  },
  {
   "cell_type": "code",
   "execution_count": null,
   "id": "06383320-bf25-4b4e-a50e-0b38d85c7764",
   "metadata": {},
   "outputs": [],
   "source": [
    "pd.concat([y,X.iloc[:,1:]],axis=1).corr().style.applymap(highlight_cells,threshold=crit_r(X)[0])\n",
    "\n"
   ]
  },
  {
   "cell_type": "code",
   "execution_count": null,
   "id": "848602e8-c322-4fd8-9758-e4471df79bbb",
   "metadata": {},
   "outputs": [],
   "source": [
    "final_spy_set = spy_set[['rf','rf_lag']]\n",
    "final_spy_set.index = [s for s in final_spy_set['rf'].values.ravel()]\n",
    "\n",
    "print(final_spy_set['rf_lag'].loc[[c for c in spy_cv_test.columns[1:]]])\n",
    "backtest_price(pd.concat([y,np.sum(X*results.params,axis=1)],axis=1))"
   ]
  },
  {
   "cell_type": "code",
   "execution_count": null,
   "id": "1ed63ef3-d1fa-4a15-8af1-f3acb626c173",
   "metadata": {},
   "outputs": [],
   "source": []
  },
  {
   "cell_type": "code",
   "execution_count": null,
   "id": "df51364d-c3e0-4861-8134-57ed5faf6e08",
   "metadata": {},
   "outputs": [],
   "source": []
  },
  {
   "cell_type": "code",
   "execution_count": null,
   "id": "154b6a32-3209-4afe-8467-b3b011cee4ca",
   "metadata": {},
   "outputs": [],
   "source": []
  },
  {
   "cell_type": "code",
   "execution_count": null,
   "id": "b4cb2445-add0-45cf-8a2a-f875e6f09785",
   "metadata": {},
   "outputs": [],
   "source": [
    "warnings.filterwarnings('ignore')\n",
    "backtest_pos([setup[['DGORDER', 'NFCI']],3])"
   ]
  },
  {
   "cell_type": "code",
   "execution_count": null,
   "id": "ac467b3d-9c32-4d1b-916a-fc33e91b8518",
   "metadata": {},
   "outputs": [],
   "source": [
    "warnings.filterwarnings('ignore')\n",
    "#randome luck\n",
    "backtest_neg([setup[['VFH', 'VPU']],1])"
   ]
  },
  {
   "cell_type": "code",
   "execution_count": null,
   "id": "4d06b095-ce53-44d7-bda0-f502adac943f",
   "metadata": {},
   "outputs": [],
   "source": [
    "warnings.filterwarnings('ignore')\n",
    "backtest_pos([setup[['VFH', 'ZO=F']],2])"
   ]
  },
  {
   "cell_type": "code",
   "execution_count": null,
   "id": "9a6fda97-2d66-46a5-88d0-98d22fc12b70",
   "metadata": {},
   "outputs": [],
   "source": [
    "warnings.filterwarnings('ignore')\n",
    "backtest_pos([setup[['MDYG', 'SB=F']],2])"
   ]
  },
  {
   "cell_type": "code",
   "execution_count": null,
   "id": "eabce62a-5182-4902-8c97-ec00aeecf261",
   "metadata": {},
   "outputs": [],
   "source": [
    "#np.cumsum(setup[['DGORDER']].pct_change())"
   ]
  },
  {
   "cell_type": "code",
   "execution_count": null,
   "id": "e33f547e-0dbd-4083-bdae-182dc9100c6c",
   "metadata": {},
   "outputs": [],
   "source": [
    "#client.close()\n",
    "\n",
    "results = clientFunction(backtest,npa)\n",
    "\n",
    "pd.DataFrame(results).hist()"
   ]
  },
  {
   "cell_type": "code",
   "execution_count": null,
   "id": "18292e28-dbdb-493b-b0ae-80d24c1c099a",
   "metadata": {},
   "outputs": [],
   "source": []
  },
  {
   "cell_type": "code",
   "execution_count": null,
   "id": "45d76e0e-0de7-439d-a3da-c7ac72915477",
   "metadata": {},
   "outputs": [],
   "source": []
  },
  {
   "cell_type": "code",
   "execution_count": null,
   "id": "20605e55-2f61-4d52-9fa5-268b8a366dfe",
   "metadata": {},
   "outputs": [],
   "source": []
  },
  {
   "cell_type": "code",
   "execution_count": null,
   "id": "1847aae8-20b9-4fcb-94af-c2999e5ed9c3",
   "metadata": {},
   "outputs": [],
   "source": []
  },
  {
   "cell_type": "code",
   "execution_count": null,
   "id": "279cc7b1-5aab-48a5-b2a7-31eafa1198cf",
   "metadata": {},
   "outputs": [],
   "source": []
  },
  {
   "cell_type": "code",
   "execution_count": null,
   "id": "10105afc-f8e4-4197-bdfe-42d4c74b0d3f",
   "metadata": {},
   "outputs": [],
   "source": [
    "df_ = pd.merge(completed_fred_pvt, df, left_index=True, right_index=True)"
   ]
  },
  {
   "cell_type": "code",
   "execution_count": null,
   "id": "65c58c59-9740-4696-a8fb-d6b2681b6c89",
   "metadata": {},
   "outputs": [],
   "source": []
  },
  {
   "cell_type": "code",
   "execution_count": null,
   "id": "a2e1ec10-c08f-46c4-94fb-2b5b01338a05",
   "metadata": {},
   "outputs": [],
   "source": []
  },
  {
   "cell_type": "code",
   "execution_count": null,
   "id": "7a7a2cd1-cbd5-40d0-839c-7f6be5b3e337",
   "metadata": {},
   "outputs": [],
   "source": []
  },
  {
   "cell_type": "code",
   "execution_count": null,
   "id": "a9df9c34-dedc-4917-940d-a9dfaa333833",
   "metadata": {},
   "outputs": [],
   "source": []
  },
  {
   "cell_type": "code",
   "execution_count": null,
   "id": "0c3126cc-dcc4-4cb0-8003-6b19eff20b3d",
   "metadata": {},
   "outputs": [],
   "source": []
  },
  {
   "cell_type": "code",
   "execution_count": null,
   "id": "3a47b5ce-1bf7-404e-9bfd-e7af76417251",
   "metadata": {},
   "outputs": [],
   "source": [
    "#completed_fred_pvt_df = completed_fred_pvt.asfreq('D').reindex(nyse_dates.index).interpolate(method='time')\n",
    "completed_fred_pvt_df = completed_fred_pvt\n",
    "\n",
    "temp_new = completed_fred_pvt.asfreq('D').interpolate(method='time',limit_area='inside').reindex(nyse_dates.index)\n",
    "temp_dates = pd.date_range(completed_fred_pvt.index[0].strftime('%Y-%m-%d'), completed_fred_pvt.index[-1].strftime('%Y-%m-%d'), freq='D').map(lambda t: t.strftime('%Y-%m-%d'))\n",
    "nyse_inbetween_temp_dates = nyse_dates.index[(nyse_dates.index >= temp_dates[0]) & (nyse_dates.index <= temp_dates[-1])]\n",
    "temp_new = temp_new.reindex(nyse_inbetween_temp_dates)\n",
    "\n",
    "completed_fred_pvt_df = temp_new\n",
    "completed_fred_pvt_df.columns = [name[1] for name in completed_fred_pvt_df.columns]\n",
    "\n",
    "np.array(completed_fred_pvt_df.index.map(lambda t: t.strftime('%Y-%m-%d')))[np.arange(0,len(completed_fred_pvt_df.index),int(len(completed_fred_pvt_df.index)/10))]"
   ]
  },
  {
   "cell_type": "code",
   "execution_count": null,
   "id": "9f7d68f4-e6ea-41dd-8b87-4fd29cb22e5c",
   "metadata": {
    "tags": []
   },
   "outputs": [],
   "source": [
    "n_ahead = 13\n",
    "\n",
    "cv_inner = TimeSeriesSplit(n_splits=10,test_size=n_ahead)\n",
    "cv_outer = TimeSeriesSplit(n_splits=11,test_size=n_ahead)\n"
   ]
  },
  {
   "cell_type": "code",
   "execution_count": null,
   "id": "2f75f256-bd00-463f-b5bf-36d429b1e45a",
   "metadata": {},
   "outputs": [],
   "source": [
    "\n",
    "def cstr(s, color='black'):\n",
    "    return \"<text style=color:{}>{}</text>\".format(color, s)\n",
    "\n",
    "def print_color(t):\n",
    "    print(t)\n",
    "    display(html_print(' '.join([cstr(ti, color=ci) for ti,ci in t])))\n"
   ]
  },
  {
   "cell_type": "code",
   "execution_count": null,
   "id": "33dc38bd-0235-4486-b957-a7674fefc307",
   "metadata": {},
   "outputs": [],
   "source": [
    "def findknee(xdata):\n",
    "    rate_of_change=(xdata[0]-xdata[-1])/(len(xdata)-1)\n",
    "    #print(rate_of_change)\n",
    "    delta = xdata-xdata[-1]\n",
    "    deltas = []\n",
    "    deltas.append(delta[0])\n",
    "    for d in range(1,len(xdata)):\n",
    "        deltas.append(deltas[d-1]-rate_of_change)\n",
    "    #print(deltas)\n",
    "    for d in range(0,len(xdata)):\n",
    "        deltas[d]=delta[d]-deltas[d]\n",
    "    return(np.round(np.abs(deltas)))\n",
    "\n",
    "def deriveANOVA(clf, df):\n",
    "\n",
    "    labels = clf.labels_\n",
    "    clusters = clf.n_clusters\n",
    "    centers = clf.cluster_centers_\n",
    "        \n",
    "    within_ss = []\n",
    "\n",
    "    for n in range(0,clusters):\n",
    "      #WSS means the sum of distances between the points and the corresponding centroids for each cluster\n",
    "      data = df[labels==(n)]\n",
    "      within_ss.append(((data - centers[n])**2).sum(1).sum())\n",
    "\n",
    "    WSS = total_within_ss = np.sum(within_ss)\n",
    "\n",
    "    print('wss',total_within_ss)\n",
    "\n",
    "    #sum of ((deviation from variable means) squared)\n",
    "    tot_ss = np.sum(np.sum((df-df.mean())**2))\n",
    "    print('tot_ss',tot_ss)\n",
    "\n",
    "    cluster_BSS = []\n",
    "    for n in range(0,clusters):\n",
    "      #sum((variable/column means cluster - variable/column means data)^2)*len(cluster members)\n",
    "      BSS = np.sum((df[labels==(n)].mean()-np.array(np.mean(df)))**2)*len(df[labels==(n)])\n",
    "      cluster_BSS.append(BSS)\n",
    "\n",
    "    BSS = np.sum(cluster_BSS)\n",
    "    print('bss',BSS)\n",
    "    \n",
    "    return(tot_ss, BSS, within_ss)\n",
    "\n",
    "def findOptimalK_ANOVA(df, mink=2, maxk=6, init_min=2, init_max=5):\n",
    "\n",
    "    tss = []\n",
    "    bss = []\n",
    "    wss = []\n",
    "\n",
    "    for k in range(mink,maxk):\n",
    "        print(k)\n",
    "\n",
    "        print(max(init_min,k+1))\n",
    "        size_min_ = max(init_min,k+1)\n",
    "        size_max_ = max(np.ceil(len(df)/k),init_max)\n",
    "        if(size_min_>size_max_):\n",
    "            break\n",
    "        else:\n",
    "            clf = KMeansConstrained(n_clusters=k, size_min=size_min_, size_max=size_max_, init='k-means++', n_init=100, max_iter=100, tol=0.0001, verbose=False, random_state=int(time.time()), copy_x=True, n_jobs=4)\n",
    "            clf.fit_predict(np.array(df))\n",
    "\n",
    "            tot_ss, BSS, within_ss = deriveANOVA(clf, df)\n",
    "\n",
    "            wss.append(within_ss)\n",
    "            tss.append(tot_ss)\n",
    "            bss.append(BSS)\n",
    "\n",
    "    return(tss, bss, wss)"
   ]
  },
  {
   "cell_type": "code",
   "execution_count": null,
   "id": "49ed1442-0c89-43a1-ab60-ba829fa4b086",
   "metadata": {},
   "outputs": [],
   "source": []
  },
  {
   "cell_type": "code",
   "execution_count": null,
   "id": "19e4c743-7f04-4405-b0a4-a20d02cd34b2",
   "metadata": {
    "tags": []
   },
   "outputs": [],
   "source": [
    "def time_to_int(dateobj):\n",
    "    total = int(dateobj.strftime('%S'))\n",
    "    total += int(dateobj.strftime('%M')) * 60\n",
    "    total += int(dateobj.strftime('%H')) * 60 * 60\n",
    "    total += (int(dateobj.strftime('%j')) - 1) * 60 * 60 * 24\n",
    "    total += (int(dateobj.strftime('%Y')) - 1970) * 60 * 60 * 24 * 365\n",
    "    return total\n"
   ]
  },
  {
   "cell_type": "code",
   "execution_count": null,
   "id": "b9ca18dd-3ef1-4b3d-ae25-688131622be0",
   "metadata": {},
   "outputs": [],
   "source": [
    "\"\"\"\n",
    "def highlight_cells(val, color_if_true, color_if_false, threshold_):\n",
    "    color = color_if_true if float(val) >= threshold_ else color_if_false\n",
    "    return 'background-color: {}'.format(color)\n",
    "\"\"\"\n",
    "\n",
    "\n",
    "def highlight_cells(val,threshold=0):\n",
    "    color = 'green' if abs(val) > threshold else ''\n",
    "    return 'background-color: {}'.format(color)\n"
   ]
  },
  {
   "cell_type": "code",
   "execution_count": null,
   "id": "c0e93ff1-1957-4260-b7f6-a013c5cfb763",
   "metadata": {},
   "outputs": [],
   "source": []
  },
  {
   "cell_type": "code",
   "execution_count": null,
   "id": "c9d7dc96-9214-40de-be05-b8ddb0fa4180",
   "metadata": {},
   "outputs": [],
   "source": []
  },
  {
   "cell_type": "code",
   "execution_count": null,
   "id": "bddbfcad-ace0-4f5e-a474-cdf2d25e01fe",
   "metadata": {},
   "outputs": [],
   "source": [
    "def derive_fb_test_error(npa):\n",
    "    n_ahead = 13\n",
    "\n",
    "    subset_train = npa[0]\n",
    "    subset_test = npa[1]\n",
    "\n",
    "    base_model = Prophet()\n",
    "\n",
    "    prophet_df_base = subset_train['Adj Close'].reset_index()#data.reset_index()\n",
    "    prophet_df_base.columns = ['ds','y']\n",
    "    prophet_df_base['y'] = np.log(prophet_df_base['y'])\n",
    "\n",
    "    base_model.fit(prophet_df_base)\n",
    "\n",
    "    future_base = base_model.make_future_dataframe(periods = n_ahead,freq='W-'+subset_train.index[-1].strftime('%a'))\n",
    "\n",
    "    forecast_base = base_model.predict(future_base).set_index('ds')[['yhat','yhat_lower','yhat_upper']]\n",
    "    df_pred_base = np.exp(forecast_base)\n",
    "\n",
    "    rmse_ = mean_squared_error(subset_test['Adj Close'].tail(n_ahead), df_pred_base['yhat'].tail(n_ahead), squared=True)\n",
    "    return([[subset_test['Adj Close'].tail(n_ahead)],[df_pred_base['yhat'].tail(n_ahead)],rmse_])"
   ]
  },
  {
   "cell_type": "code",
   "execution_count": null,
   "id": "a24ee731-6770-4f82-b064-0050b2944473",
   "metadata": {},
   "outputs": [],
   "source": [
    "\"\"\"\n",
    "symbol_ = 'BA'\n",
    "\n",
    "if(str(symbol_)=='None'):\n",
    "    run=False\n",
    "else:\n",
    "    run=True\n",
    "\n",
    "if(run):\n",
    "    client = Client('192.168.3.100:8786')\n",
    "    #client = Client(n_workers=4,threads_per_worker=1)\n",
    "\n",
    "    s = symbol_\n",
    "    msize = 2\n",
    "    date_form = DateFormatter(\"%Y-%m-%d\")\n",
    "\n",
    "    metrics_df_ = pd.DataFrame(pd.DataFrame(screener_sorted.loc[s]).T[['volume_factor','Adj Close','adf','hurst']])\n",
    "    subset=prices_df[prices_df['Symbol']==s]\n",
    "    \n",
    "    y = subset['Adj Close']\n",
    "    data = subset[['Adj Close']].asfreq('D').interpolate().asfreq('W-'+subset.index[-1].strftime('%a'))\n",
    "\"\"\""
   ]
  },
  {
   "cell_type": "code",
   "execution_count": null,
   "id": "d027b0ca-06f8-4679-b42f-59adcbe223f2",
   "metadata": {},
   "outputs": [],
   "source": []
  },
  {
   "cell_type": "code",
   "execution_count": null,
   "id": "deacbc06-9e40-4e44-b3c5-96ad4dc72c96",
   "metadata": {},
   "outputs": [],
   "source": []
  },
  {
   "cell_type": "code",
   "execution_count": null,
   "id": "8a0bf8bd-a49c-4bc5-891a-daabca660927",
   "metadata": {},
   "outputs": [],
   "source": []
  },
  {
   "cell_type": "code",
   "execution_count": null,
   "id": "74cdcbb8-de81-4ff4-b20c-cca4d39a3406",
   "metadata": {},
   "outputs": [],
   "source": []
  },
  {
   "cell_type": "code",
   "execution_count": null,
   "id": "fa5b2b18-9da2-4b50-be2e-731c373182e9",
   "metadata": {},
   "outputs": [],
   "source": []
  },
  {
   "cell_type": "code",
   "execution_count": null,
   "id": "3a98258f-e184-49a0-90e0-9a94bffe3ac1",
   "metadata": {},
   "outputs": [],
   "source": [
    "sequences = split_sequence(range(1,127),127-(13+10),13)\n",
    "a=1\n",
    "for s in range(0,len(sequences[0])):\n",
    "    \n",
    "    print(\"set:\",a)\n",
    "    sequences2 = split_sequence(range(1,len(sequences[0][s])),127-(13+10)*2,13)\n",
    "    for s_ in range(0,len(sequences2[0])):\n",
    "        #print(\"train\")\n",
    "        print((sequences2[0][s_]))\n",
    "        #print(\"inner valid\")\n",
    "        print((sequences2[1][s_]))\n",
    "    print(\"outer test\")\n",
    "    print((sequences[1][s]))\n",
    "    a=a+1\n",
    "        \n",
    "    "
   ]
  },
  {
   "cell_type": "code",
   "execution_count": null,
   "id": "2018ca9e-d18c-42d8-82cf-80ab94d78891",
   "metadata": {},
   "outputs": [],
   "source": []
  },
  {
   "cell_type": "code",
   "execution_count": null,
   "id": "0a3c9e9d-0487-400a-a083-bf3e4d492e58",
   "metadata": {},
   "outputs": [],
   "source": []
  },
  {
   "cell_type": "code",
   "execution_count": null,
   "id": "70735d23-c826-4ca3-a6f8-be47db1a2198",
   "metadata": {},
   "outputs": [],
   "source": []
  },
  {
   "cell_type": "code",
   "execution_count": null,
   "id": "14951c47-6bc8-4f40-b5e4-b790334db91d",
   "metadata": {},
   "outputs": [],
   "source": []
  },
  {
   "cell_type": "code",
   "execution_count": null,
   "id": "9a9752c0-c023-4c4c-a400-358b576bf3c9",
   "metadata": {},
   "outputs": [],
   "source": []
  },
  {
   "cell_type": "code",
   "execution_count": null,
   "id": "e700f0e0-60b1-4f32-8ac2-fe908bc6f5f4",
   "metadata": {},
   "outputs": [],
   "source": []
  },
  {
   "cell_type": "code",
   "execution_count": null,
   "id": "b13ba380-237c-4328-b85b-4f0ad13594da",
   "metadata": {},
   "outputs": [],
   "source": []
  },
  {
   "cell_type": "code",
   "execution_count": null,
   "id": "2aaed78c-4b4c-4a7c-b390-99b4ace54fa5",
   "metadata": {},
   "outputs": [],
   "source": []
  },
  {
   "cell_type": "code",
   "execution_count": null,
   "id": "797e0773-6602-45c9-9aae-99218a8fc282",
   "metadata": {},
   "outputs": [],
   "source": []
  },
  {
   "cell_type": "code",
   "execution_count": null,
   "id": "ebee7dda-a400-4239-a768-1fa96d044ad9",
   "metadata": {},
   "outputs": [],
   "source": []
  },
  {
   "cell_type": "code",
   "execution_count": null,
   "id": "f3b7f37b-05c3-4c51-a2e3-e7c1e24f0f9f",
   "metadata": {},
   "outputs": [],
   "source": [
    "\n",
    "def plot_(symbols):\n",
    "\n",
    "    #symbols = ['ITOS']\n",
    "    #symbols = ['VPU']\n",
    "    #symbols = ['MTRN']\n",
    "    decision_metrics_df = pd.DataFrame()\n",
    "\n",
    "    forecast_winners_df = pd.DataFrame()\n",
    "\n",
    "    for symbol_ in symbols:\n",
    "\n",
    "        print(symbol_)\n",
    "        if(str(symbol_)=='None'):\n",
    "            run=False\n",
    "        else:\n",
    "            run=True\n",
    "\n",
    "        if(run):\n",
    "            client = Client('192.168.3.100:8786')\n",
    "            #client = Client(n_workers=4,threads_per_worker=1)\n",
    "\n",
    "            s = symbol_\n",
    "            msize = 2\n",
    "            date_form = DateFormatter(\"%Y-%m-%d\")\n",
    "\n",
    "            metrics_df_ = pd.DataFrame(pd.DataFrame(screener_sorted.loc[s]).T)#[['volume_factor','Adj Close','adf','hurst']])\n",
    "            subset=prices_df[prices_df['Symbol']==s]\n",
    "\n",
    "            #if less than 2 years of data.\n",
    "            print(len(subset))\n",
    "            process = True;\n",
    "            if(len(subset)<512):\n",
    "                process=False\n",
    "\n",
    "            if(process):\n",
    "\n",
    "                dates = []\n",
    "                for t in subset.index.values:\n",
    "                    d = pd.Timestamp(t).strftime('%Y-%m-%d')\n",
    "                    dates.append(d)\n",
    "                    dto = datetime.strptime(d, '%Y-%m-%d').date()\n",
    "\n",
    "                old_ordinal = [datetime.strptime(i, '%Y-%m-%d').toordinal() for i in dates]\n",
    "                new_ordinal = old_ordinal + md.date2num(np.datetime64('0000-12-31'))\n",
    "                x = new_ordinal    \n",
    "\n",
    "                lookup_index_ = []\n",
    "\n",
    "                labels = list()\n",
    "                print(\"symbol:\",s)\n",
    "\n",
    "                symbol_sector = screener_sorted.loc[symbol_]['Sector Symbol']\n",
    "\n",
    "                print(\"sector:\",dict_sectors_reverse[symbol_sector])\n",
    "                symbol_index = screener_sorted.loc[s]['Index Symbol']\n",
    "\n",
    "                try:\n",
    "                    matched_index_name = indexes.iloc[np.where(indexes['Symbol'].values==s)].index[0]\n",
    "                except:\n",
    "                    try:\n",
    "                        matched_index_name = screener_sorted.loc[s]['Index Symbol']\n",
    "                    except:\n",
    "                        matched_index_name = \"error\"\n",
    "\n",
    "                try:\n",
    "                    print(\"Index:\",dict_indexes[matched_index_name])\n",
    "                except:\n",
    "                    print(\"Index: no index\")\n",
    "\n",
    "                print(\"Volume Factor:\",screener_sorted.iloc[np.where(screener_sorted.index==s)]['volume_factor'][0])\n",
    "\n",
    "                print(\"sector_50td_tvf_vel:\",screener_sorted[screener_sorted.index==s]['sector_50td_tvf_vel'][0])\n",
    "                print(\"risk trend factor:\",screener_sorted.iloc[np.where(screener_sorted.index==s)]['50td_tvf_vel'][0])\n",
    "\n",
    "                temp = pd.DataFrame(market_data.loc[s])\n",
    "                print(temp[np.array(temp!='error')].replace([np.inf,'inf','error', -np.inf], np.nan).dropna().T)\n",
    "\n",
    "                last_date = pd.DataFrame(subset.iloc[-1][['50tdBOLD','50tdMA-TP','50tdBOLU']],index=[prices_df[prices_df['Symbol']==s].index[-1].strftime('%Y-%m-%d')]).index[0]\n",
    "\n",
    "                bbands = pd.DataFrame(subset.iloc[-1][['Adj Close','50tdBOLD','50tdMA-TP','50tdBOLU','200tdSMA','200tdSDev']]).T\n",
    "                bbands['200td_lower'] = bbands['200tdSMA']-bbands['200tdSDev']*2\n",
    "                bbands['200td_upper'] = bbands['200tdSMA']+bbands['200tdSDev']*2\n",
    "\n",
    "                bbands.index = [last_date]\n",
    "                display(bbands)\n",
    "\n",
    "                display(metrics_df_)\n",
    "\n",
    "                mean_revert_flag = False\n",
    "\n",
    "                if(metrics_df_['adf_50td'][0]<.05):\n",
    "                    print(\"ADFuller H0 rejected @ .05, Mean Reverting TS\")\n",
    "                    if(bbands['Adj Close'][0]<bbands['200td_lower'][0]):\n",
    "                        colored_text = colored(255, 0, 0, \"Quarter Mean Reverting buy signal\")\n",
    "                        print(colored_text)\n",
    "                        mean_revert_flag = True\n",
    "                    if(bbands['Adj Close'][0]<bbands['50tdBOLU'][0]):\n",
    "                        colored_text = colored(255, 0, 0, \"50 td Mean Reverting buy signal\")\n",
    "                        print(colored_text)\n",
    "                        mean_revert_flag = True    \n",
    "\n",
    "                l_axis_legend = pd.DataFrame(['symbol', 'trailing_1yr_max', 'trailing_1yr_min', '30d_vol_2yr','50td_tvf_vel/linear','supply_trend_1yr'],index=['blue','green','red','orange','black','yellow'],columns=['legend'])\n",
    "\n",
    "                r_axis_legend = pd.DataFrame(['sector','index'],index=['magenta','cyan'],columns=['legend'])\n",
    "\n",
    "                display_side_by_side([l_axis_legend, r_axis_legend], ['l axis', 'r axis'])        \n",
    "\n",
    "                f, (ax1, ax2, ax3, ax4, ax5) = plt.subplots(1, 5, sharey=False,figsize=(22,5))\n",
    "                ax1.plot(subset['30d_vol_2yr'],color='orange')\n",
    "                #plt.title('30d_vol_2yr')\n",
    "                ax1.set_xticklabels(subset[['30d_vol_2yr']].dropna().index, rotation = 45)\n",
    "\n",
    "                locator = matplotlib.dates.AutoDateLocator()\n",
    "                formatter = matplotlib.dates.ConciseDateFormatter(locator)\n",
    "\n",
    "                ax1.xaxis.set_major_locator(locator)\n",
    "                ax1.xaxis.set_major_formatter(formatter)\n",
    "\n",
    "                ax1.xaxis.set_major_formatter(date_form)\n",
    "\n",
    "                ax2.plot(subset['50td_tvf_vel'],color='black')\n",
    "                ax2.set_xticklabels(subset[['50td_tvf_vel']].dropna().index, rotation = 45)\n",
    "\n",
    "                locator = matplotlib.dates.AutoDateLocator()\n",
    "                formatter = matplotlib.dates.ConciseDateFormatter(locator)\n",
    "\n",
    "                ax2.xaxis.set_major_locator(locator)\n",
    "                ax2.xaxis.set_major_formatter(formatter)\n",
    "\n",
    "                ax2.xaxis.set_major_formatter(date_form)\n",
    "\n",
    "                ax3_ = ax3.twinx()\n",
    "                ax5_ = ax5.twinx()        \n",
    "                ax4_ = ax4.twinx()\n",
    "\n",
    "                y = subset['Adj Close']\n",
    "\n",
    "                def myfunc(x):\n",
    "                    return slope * x + intercept\n",
    "\n",
    "                slope, intercept, r, p, std_err = stats.linregress(x, y)\n",
    "\n",
    "                mymodel = list(map(myfunc, x))\n",
    "\n",
    "                ax3.plot(x, y,marker = '.',markersize=msize, color = 'b')\n",
    "                ax3.plot(x, subset['trailing_1yr_max'],marker = '.',markersize=msize, color = 'g')\n",
    "                ax3.plot(x, subset['trailing_1yr_min'],marker = '.',markersize=msize, color = 'r')\n",
    "                ax3_.plot(x, subset['supply_trend_1yr'],marker = '.',markersize=msize, color = 'y')\n",
    "                ax3.plot(x, mymodel, color = 'k')\n",
    "\n",
    "                l = matplotlib.dates.AutoDateLocator()\n",
    "                f = matplotlib.dates.ConciseDateFormatter(l)    \n",
    "\n",
    "                ax3.set_xticklabels(ax3.get_xticks(), rotation = 45)\n",
    "\n",
    "                locator = matplotlib.dates.AutoDateLocator()\n",
    "                formatter = matplotlib.dates.ConciseDateFormatter(locator)\n",
    "\n",
    "                ax3.xaxis.set_major_locator(locator)\n",
    "                ax3.xaxis.set_major_formatter(formatter)\n",
    "                ax3.xaxis.set_major_formatter(date_form)\n",
    "\n",
    "                if(symbol_sector=='error'):\n",
    "                    pass\n",
    "                else:\n",
    "                    if(np.sum(sectors['Symbol'].values==s)>0):\n",
    "                        pass\n",
    "                    else:\n",
    "                        sector_subset = prices_df[prices_df['Symbol']==symbol_sector]\n",
    "                        print(\"Sector Volume Factor:\",screener_sorted.iloc[np.where(screener_sorted.index==symbol_sector)]['volume_factor'][0])\n",
    "                        print(\"Sector 50td_tvf_vel:\",screener_sorted.iloc[np.where(screener_sorted.index==symbol_sector)]['sector_50td_tvf_vel'][0])\n",
    "                        #ax3_.plot(x, (sector_subset['Adj Close']).iloc[-len(subset):],marker = '.',markersize=msize,color='m',linestyle=(0, (3, 10, 1, 10)))\n",
    "                        ax4.plot(x, (sector_subset['Adj Close']).iloc[-len(subset):],marker = '.',markersize=msize,color='m',linestyle=(0, (3, 10, 1, 10)))\n",
    "                        ax4.plot(x, (sector_subset['trailing_1yr_max']).iloc[-len(subset):],marker = '.',markersize=msize, color = 'g')\n",
    "                        ax4.plot(x, (sector_subset['trailing_1yr_min']).iloc[-len(subset):],marker = '.',markersize=msize, color = 'r')\n",
    "                        ax4_.plot(x, (sector_subset['supply_trend_1yr']).iloc[-len(subset):],marker = '.',markersize=msize,color='y',linestyle=(0, (3, 10, 1, 10)))\n",
    "                        ax4.set_xticklabels(subset.dropna().index, rotation = 45)\n",
    "                        ax4.xaxis.set_major_formatter(date_form)\n",
    "\n",
    "                if(str(screener_sorted.loc[s]['Index Symbol'])!='nan'):\n",
    "                    if(screener_sorted.loc[s]['Index Symbol']!='error'):\n",
    "                        index_subset = prices_df[prices_df['Symbol']==screener_sorted.loc[s]['Index Symbol']]\n",
    "                        print(\"Index Volume Factor:\",screener_sorted.iloc[np.where(screener_sorted.index==screener_sorted.loc[s]['Index Symbol'])]['volume_factor'][0])\n",
    "                        #print(\"Index 50td_tvf_vel:\",screener_sorted.iloc[np.where(screener_sorted.index==screener_sorted.loc[s]['Index Symbol'])]['50td_tvf_vel'][0])\n",
    "                        ax5.plot(x, index_subset['Adj Close'].iloc[-len(subset):],marker = '.',markersize=msize,color='c',linestyle=(0, (1, 10)))\n",
    "                        ax5.plot(x, index_subset['trailing_1yr_max'].iloc[-len(subset):],marker = '.',markersize=msize, color = 'g')\n",
    "                        ax5.plot(x, index_subset['trailing_1yr_min'].iloc[-len(subset):],marker = '.',markersize=msize, color = 'r')\n",
    "                        ax5_.plot(x, index_subset['supply_trend_1yr'].iloc[-len(subset):],marker = '.',markersize=msize,color='y',linestyle=(0, (1, 10)))\n",
    "                        ax5.set_xticklabels(index_subset.dropna().index, rotation = 45)\n",
    "                        ax5.xaxis.set_major_formatter(date_form)\n",
    "\n",
    "                plt.show()\n",
    "\n",
    "                data = subset[['Adj Close']].asfreq('D').interpolate(method='time').asfreq('W-'+subset.index[-1].strftime('%a'))\n",
    "\n",
    "                \n",
    "                npa_rmse_inner = []\n",
    "\n",
    "                for trainv_ix, test_ix in cv_inner.split(data.index):\n",
    "\n",
    "                    npa_rmse_inner.append([data.iloc[trainv_ix],data.iloc[test_ix]])\n",
    "                \n",
    "\n",
    "                \"\"\"\n",
    "                x_y_sets = split_sequence(data.index,52*2,13)\n",
    "\n",
    "                for s in random.sample(list(range(0,len(x_y_sets[0]))),32):\n",
    "                    npa_rmse_inner.append([data.loc[x_y_sets[0][s]],data.loc[x_y_sets[1][s]]])    \n",
    "\n",
    "                \"\"\"\n",
    "                npa_rmse_outer = []\n",
    "                \n",
    "                for trainv_ix, test_ix in cv_outer.split(data.index):\n",
    "\n",
    "                    npa_rmse_outer.append([data.iloc[trainv_ix],data.iloc[test_ix]])        \n",
    "                \"\"\"\n",
    "                for s in random.sample(list(range(0,len(x_y_sets[0]))),32):\n",
    "                    npa_rmse_outer.append([data.loc[x_y_sets[0][s]],data.loc[x_y_sets[1][s]]])            \n",
    "                \"\"\"\n",
    "                print(\"fbprophet next 13 weeks\")\n",
    "\n",
    "                #starting from next week\n",
    "\n",
    "                future = client.map(derive_fb_test_error, npa_rmse_inner)        \n",
    "\n",
    "                rmses_inner = []\n",
    "\n",
    "                for f in as_completed(future):\n",
    "                    if(f.status==\"error\"):\n",
    "                        rmses_inner.append(np.nan)\n",
    "                    else:\n",
    "                        rmses_inner.append(f.result())\n",
    "\n",
    "                rmses_inner_ = [t[2] for t in rmses_inner]\n",
    "                rmse_ = [r for r in rmses_inner_]\n",
    "\n",
    "                rmse_inner_flags = [np.nanmean(rmse_),np.nanstd(rmse_)]\n",
    "\n",
    "                print(\"inner cv scores:\")\n",
    "                inner_rmse_df = pd.DataFrame([rmse_inner_flags],columns=['mean','std'])\n",
    "\n",
    "                scores = inner_rmse_df['mean'].values\n",
    "                sdevs = inner_rmse_df['std'].values\n",
    "                print(\"best inner cv score, sdev (11 folds):\",scores[np.argmin(scores)],sdevs[np.argmin(scores)])\n",
    "\n",
    "                future = client.map(derive_fb_test_error, npa_rmse_outer)\n",
    "                results_rmses_outer = []\n",
    "\n",
    "                for f in as_completed(future):\n",
    "                    if(f.status==\"error\"):\n",
    "                        results_rmses_outer.append([np.nan])\n",
    "                    else:\n",
    "                        results_rmses_outer.append(f.result()) \n",
    "\n",
    "                results_rmses_outer_ = [t[2] for t in results_rmses_outer]\n",
    "                test_score_mean = np.nanmean([r for r in results_rmses_outer_])\n",
    "                test_score_std = np.nanstd([r for r in results_rmses_outer_])\n",
    "\n",
    "                client = Client('192.168.3.100:8786')\n",
    "\n",
    "                y_s = [t[0] for t in results_rmses_outer]\n",
    "                y_hats = [t[1] for t in results_rmses_outer]\n",
    "                test_errors_ = np.array(y_s)-np.array(y_hats)\n",
    "                np.std(test_errors_,axis=0)\n",
    "                std_resid = test_errors_/((np.sum(test_errors_)**2)/(len(test_errors_)-2)**.5)\n",
    "\n",
    "                std_error_test = np.std(test_errors_,axis=0)\n",
    "\n",
    "                print(\"test cv mean error, stdev (10 folds):\",test_score_mean,test_score_std)\n",
    "\n",
    "                m = Prophet(interval_width=0.95)\n",
    "\n",
    "                prophet_df = data['Adj Close'].reset_index()#data.reset_index()\n",
    "                prophet_df.columns = ['ds','y']\n",
    "                prophet_df['y'] = np.log(prophet_df['y'])\n",
    "                m.fit(prophet_df)\n",
    "\n",
    "                future_ = m.make_future_dataframe(periods = n_ahead,freq='W-'+nyse_dates.index[-1].strftime('%a'))\n",
    "\n",
    "                forecast = m.predict(future_).set_index('ds')[['yhat','yhat_lower','yhat_upper']]\n",
    "                df_pred = np.exp(forecast)\n",
    "\n",
    "                #fb forecast\n",
    "                temp_df = pd.DataFrame(data['Adj Close']).reset_index()\n",
    "                temp_df.columns = ['ds','Adj Close']\n",
    "                temp_df.set_index('ds',inplace=True)\n",
    "\n",
    "                s_date = df_pred.tail(n_ahead).index[np.argmax(df_pred['yhat'].tail(n_ahead).values)].strftime('%Y-%m-%d')\n",
    "\n",
    "                print(\"sell date:\",s_date)\n",
    "                e_return = np.array((np.max(df_pred['yhat'].tail(n_ahead).values)-metrics_df_['Adj Close'])/metrics_df_['Adj Close'])[0]\n",
    "                p_metrics = pd.DataFrame(df_pred.tail(n_ahead).iloc[np.argmax(df_pred['yhat'].tail(n_ahead).values)]).T\n",
    "                print(\"expected return:\",e_return)\n",
    "\n",
    "                days_delta = (datetime.strptime(s_date, '%Y-%m-%d') - datetime.strptime(end.strftime('%Y-%m-%d'), '%Y-%m-%d')).days\n",
    "                try:\n",
    "                    discounted_return = (1+e_return)**(1/days_delta)-1\n",
    "                except:\n",
    "                    discounted_return = 0\n",
    "                qtr_return = (1+discounted_return)**92\n",
    "\n",
    "                print(\"discounted return:\",discounted_return)\n",
    "                print(\"quarter return:\",qtr_return)\n",
    "\n",
    "                #95% 2 tail\n",
    "                t_score = stats.t.ppf(1-0.025, len(test_errors_))\n",
    "\n",
    "                prediction_interval_yhat_upper = df_pred[['yhat']].tail(n_ahead)+(std_error_test.reshape(n_ahead,1)*t_score)\n",
    "                prediction_interval_yhat_lower = df_pred[['yhat']].tail(n_ahead)-(std_error_test.reshape(n_ahead,1)*t_score)\n",
    "\n",
    "                cv_outter_std_ratio = test_score_std / e_return\n",
    "                cv_outter_err_ratio = test_score_mean / e_return                        \n",
    "\n",
    "                stop_loss_price = pd.DataFrame(np.mean(pd.concat([df_pred[['yhat']].tail(n_ahead),prediction_interval_yhat_lower],axis=1),axis=1)).iloc[0].values[0]\n",
    "                decision_metrics_df_ = pd.DataFrame([s,e_return,discounted_return,qtr_return,s_date,stop_loss_price,days_delta,discounted_return,qtr_return,test_score_mean,test_score_std,mean_revert_flag,p_metrics['yhat_upper'].values[0],p_metrics['yhat_lower'].values[0]])#,columns=)#,index=[s_])#.sort_values(by='disc_rtn',ascending=False,inplace=True)\n",
    "                decision_metrics_df_ = decision_metrics_df_.T\n",
    "                decision_metrics_df_.columns=['SYMBOL','exp_return','discounted_return','qtr_return','sell_date','stop_loss_price','days_delta','disc_rtn','qtr_rtn','outer_cv_avg_abs_err_n11','outer_cv_std_n11','mean_revert_flag','yhat_upper','yhat_lower']\n",
    "                decision_metrics_df_.index = [symbol_]       \n",
    "\n",
    "                bbands_ = bbands[set(bbands.columns).difference(['Adj Close'])]\n",
    "                bbands_.index = [symbol_]\n",
    "\n",
    "                outer_cv_avg_abs_err_n11_ratio = pd.DataFrame(test_score_mean/screener_sorted.loc[symbol_]['Adj Close'],columns=['outer_cv_avg_abs_err_n11_ratio'],index=[symbol_])\n",
    "                outer_cv_std_n11_ratio = pd.DataFrame(test_score_std/screener_sorted.loc[symbol_]['Adj Close'],columns=['outer_cv_std_n11_ratio'],index=[symbol_])\n",
    "\n",
    "\n",
    "                decision_metrics_df_ = pd.concat([decision_metrics_df_,bbands_,metrics_df_[metrics_df_.columns.difference(['50tdBOLD', '50tdMA-TP', '50tdBOLU','200tdSMA', '200tdSDev'])],outer_cv_avg_abs_err_n11_ratio,outer_cv_std_n11_ratio],axis=1)\n",
    "                #decision_metrics_df_ = decision_metrics_df_.sort_values(by='exp_return',ascending=True)                        \n",
    "\n",
    "                print(\"Outer CV Error / Price Ratio\",decision_metrics_df_['outer_cv_avg_abs_err_n11_ratio'])\n",
    "                print(\" Outer CV StdDev / Price Ratio\",decision_metrics_df_['outer_cv_std_n11_ratio'])\n",
    "\n",
    "                decision_metrics_df = pd.concat([decision_metrics_df,decision_metrics_df_],axis=0)            \n",
    "\n",
    "                savePlot=False\n",
    "                if(decision_metrics_df_['outer_cv_avg_abs_err_n11_ratio'].values[0]<.9):\n",
    "                    if(decision_metrics_df_['outer_cv_std_n11_ratio'].values[0]<.9):\n",
    "                        if(decision_metrics_df_['qtr_return'].values[0]>1.089):\n",
    "                            forecast_winners_df = pd.concat([forecast_winners_df,decision_metrics_df_],axis=0)\n",
    "                            savePlot=True                 \n",
    "\n",
    "                plt.plot(temp_df)\n",
    "                plt.plot(df_pred)\n",
    "                plt.legend(['Adj Close','yhat','yhat_lower','yhat_upper'],loc=2)\n",
    "                plt.xticks(rotation = 45,size=8)\n",
    "\n",
    "                if(savePlot):\n",
    "                    plt.savefig('..\\\\reports\\\\figures\\\\'+end.strftime('%Y-%m-%d')+'_'+symbol_+'_full_forecast.png', dpi=300, format='png', bbox_inches='tight')           \n",
    "                plt.show()\n",
    "\n",
    "                plt.plot(temp_df.tail(n_ahead))\n",
    "                plt.plot(df_pred.tail(n_ahead*2))\n",
    "                plt.plot(prediction_interval_yhat_upper,linestyle = 'dashed')\n",
    "                plt.plot(prediction_interval_yhat_lower,linestyle = 'dashed')\n",
    "\n",
    "                plt.legend(['Adj Close','yhat','yhat_lower','yhat_upper','pi_upper','pi_lower'],loc=2)\n",
    "\n",
    "                plt.xticks(rotation = 45,size=8)\n",
    "\n",
    "                if(savePlot):\n",
    "                    plt.savefig('..\\\\reports\\\\figures\\\\'+end.strftime('%Y-%m-%d')+'_'+symbol_+'_13w_forecast.png', dpi=300, format='png', bbox_inches='tight')\n",
    "                plt.show()\n",
    "\n",
    "                fcst = m.predict(future_)\n",
    "                fig = m.plot(fcst)\n",
    "\n",
    "                if(savePlot):\n",
    "                    plt.savefig('..\\\\reports\\\\figures\\\\'+end.strftime('%Y-%m-%d')+'_'+symbol_+'_fb_sim_forecast.png', dpi=300, format='png', bbox_inches='tight')\n",
    "                plt.show()            \n",
    "\n",
    "                if(np.sum(np.array(fundamental_entries)==s)>0):\n",
    "                    loc = np.where(np.array(fundamental_entries)==s)[0][0]\n",
    "                    for item in fundamentals_quarterlies[loc][1]:\n",
    "                        if(type(item[1]) == type(None)):\n",
    "                            pass\n",
    "                        else:\n",
    "                            if(len(item[1])>0):\n",
    "                                #print(len(item[1]))\n",
    "                                #print(item)\n",
    "                                print(item[0])\n",
    "                                #with pd.option_context('display.precision', 2):\n",
    "                                    #display(format_vertical_headers(pd.DataFrame(item[1]).T.sort_index(ascending=True)))\n",
    "                                display(pd.DataFrame(item[1]).sort_index(ascending=True))\n",
    "                client.close()\n",
    "\n",
    "    decision_metrics_df.sort_values(by='exp_return',ascending=False,inplace=True) \n",
    "\n",
    "    #V.dump(techniqueUsed = end.strftime('%Y-%m-%d')+'_FBProphet', filename = 'fbpropet_metrics.xlsx', message = \"FBProphet\", version =1)\n",
    "    decision_metrics_df.to_csv('..\\\\data\\\\processed\\\\'+end.strftime('%Y-%m-%d')+'_decision_metrics_df.csv')\n",
    "    forecast_winners_df.to_csv('..\\\\data\\\\processed\\\\'+end.strftime('%Y-%m-%d')+'_forecast_winners_df.csv')\n",
    "\n",
    "    display(decision_metrics_df)\n",
    "\n"
   ]
  },
  {
   "cell_type": "code",
   "execution_count": null,
   "id": "ba8b055c-2464-4903-9bbb-993c7f4c4e8a",
   "metadata": {},
   "outputs": [],
   "source": []
  },
  {
   "cell_type": "code",
   "execution_count": null,
   "id": "855c8fdd-14d1-49ab-b0c4-2e3c33c20fbe",
   "metadata": {},
   "outputs": [],
   "source": []
  },
  {
   "cell_type": "code",
   "execution_count": null,
   "id": "5260d1e6-607a-472e-a52e-920c057b4efe",
   "metadata": {},
   "outputs": [],
   "source": []
  },
  {
   "cell_type": "code",
   "execution_count": null,
   "id": "17edba80-547f-484b-8b97-39cbb2030d2f",
   "metadata": {
    "tags": []
   },
   "outputs": [],
   "source": []
  },
  {
   "cell_type": "code",
   "execution_count": null,
   "id": "6a889c11-8b78-48dc-bad1-0f7eef45f11d",
   "metadata": {},
   "outputs": [],
   "source": []
  },
  {
   "cell_type": "code",
   "execution_count": null,
   "id": "d1eda05e-aeab-4f3f-b98b-6ff5275874ba",
   "metadata": {
    "tags": []
   },
   "outputs": [],
   "source": []
  },
  {
   "cell_type": "code",
   "execution_count": null,
   "id": "54c27f57-caf2-4839-9878-8746ba9d7257",
   "metadata": {},
   "outputs": [],
   "source": []
  },
  {
   "cell_type": "code",
   "execution_count": null,
   "id": "854b008f-6a32-4f90-9746-0e93cde00bcc",
   "metadata": {},
   "outputs": [],
   "source": [
    "def colored(r, g, b, text):\n",
    "    return f\"\\033[38;2;{r};{g};{b}m{text}\\033[0m\""
   ]
  },
  {
   "cell_type": "code",
   "execution_count": null,
   "id": "01062e39-ec5e-4aff-9b7d-a4881369b6e9",
   "metadata": {},
   "outputs": [],
   "source": [
    "def display_side_by_side(dfs:list, captions:list, tablespacing=5):\n",
    "    \"\"\"Display tables side by side to save vertical space\n",
    "    Input:\n",
    "        dfs: list of pandas.DataFrame\n",
    "        captions: list of table captions\n",
    "    \"\"\"\n",
    "    output = \"\"\n",
    "    for (caption, df) in zip(captions, dfs):\n",
    "        output += df.style.set_table_attributes(\"style='display:inline'\").set_caption(caption)._repr_html_()\n",
    "        output += tablespacing * \"\\xa0\"\n",
    "    display(HTML(output))"
   ]
  },
  {
   "cell_type": "code",
   "execution_count": null,
   "id": "9834d092-79f2-4351-bb3f-d5824664ca21",
   "metadata": {},
   "outputs": [],
   "source": [
    "cm = sns.color_palette(\"blend:red,yellow,green\", as_cmap=True)\n",
    "\n",
    "def b_g(s, cmap=cm, low=0, high=0):\n",
    "    # Pass the columns from Dataframe A \n",
    "    a = A.loc[:,s.name].copy()\n",
    "    #rng = a.max() - a.min()\n",
    "    rng = np.nanmax(A.values.ravel()) - np.nanmin(A.values.ravel())\n",
    "    norm = mp.colors.Normalize(np.nanmin(A.values.ravel()) - (rng * low),\n",
    "                        np.nanmax(A.values.ravel()) + (rng * high))\n",
    "    normed = norm(a.values)\n",
    "    #c = [mp.colors.rgb2hex(x) for x in plt.cm.get_cmap(cmap)(normed)]\n",
    "    c = [mp.colors.rgb2hex(x) for x in plt.cm.get_cmap(cm)(normed)]\n",
    "    return ['background-color: %s' % color for color in c]"
   ]
  },
  {
   "cell_type": "code",
   "execution_count": null,
   "id": "33406af6-de98-4076-8ba5-3d3f01cf8ba0",
   "metadata": {
    "tags": []
   },
   "outputs": [],
   "source": [
    "nyse = mcal.get_calendar('NYSE')\n",
    "nyse_dates = nyse.schedule(start_date=start, end_date=end)"
   ]
  },
  {
   "cell_type": "code",
   "execution_count": null,
   "id": "4bf3ca9d-729a-4fd1-91c9-6a5ada30bf12",
   "metadata": {
    "tags": []
   },
   "outputs": [],
   "source": []
  },
  {
   "cell_type": "code",
   "execution_count": null,
   "id": "8471b2ef-d9e2-43ac-8da6-9fcb1974aec2",
   "metadata": {},
   "outputs": [],
   "source": []
  },
  {
   "cell_type": "code",
   "execution_count": null,
   "id": "a44a2b10-dacb-4077-8b2a-49bae6c4773e",
   "metadata": {
    "tags": []
   },
   "outputs": [],
   "source": [
    "sector_performance_return = pd.DataFrame()\n",
    "sector_performance_Q_smoothed_return = pd.DataFrame()\n",
    "\n",
    "for v in [*indexes['Symbol'],*sectors['Symbol']]:\n",
    "    subset = prices_df[prices_df['Symbol'] == v]\n",
    "    #subset_ = subset.set_index('Date').asfreq('Q')[['Adj Close']].pct_change()\n",
    "    subset_ = subset.asfreq('D').interpolate(method='time').asfreq('Q')[['Adj Close']].pct_change()\n",
    "    #print(subset_)\n",
    "    #subset_qs = subset.set_index('Date')[['Adj Close']].pct_change().rolling(63).mean()\n",
    "    subset_qs = subset[['Adj Close']].pct_change().rolling(63).mean()\n",
    "    subset_.index = subset_.index.values.astype('M8[D]')\n",
    "    subset_qs.index = subset_qs.index.values.astype('M8[D]')\n",
    "    dt_str = subset_.index[-1].strftime('%Y-%m-%d')\n",
    "    #tail = subset[subset.set_index('Date').index>=dt_str]\n",
    "    tail = subset[subset.index>=dt_str]\n",
    "    #dt_str = subset.set_index('Date').index[-1].strftime('%Y-%m-%d')\n",
    "    dt_str = subset.index[-1].strftime('%Y-%m-%d')\n",
    "    #tail_ = pd.DataFrame([(tail.set_index('Date')['Adj Close'][-1]-tail.set_index('Date')['Adj Close'][0])/tail.set_index('Date')['Adj Close'][0]],index=[datetime.strptime(dt_str, '%Y-%m-%d')],columns=['Adj Close'])\n",
    "    tail_ = pd.DataFrame([(tail['Adj Close'][-1]-tail['Adj Close'][0])/tail['Adj Close'][0]],index=[datetime.strptime(dt_str, '%Y-%m-%d')],columns=['Adj Close'])\n",
    "    subset__ = pd.concat([subset_,tail_],axis=0)\n",
    "    sector_performance_return = pd.concat([sector_performance_return,subset__],axis=1)\n",
    "    sector_performance_Q_smoothed_return = pd.concat([sector_performance_Q_smoothed_return,subset_qs],axis=1)"
   ]
  },
  {
   "cell_type": "code",
   "execution_count": null,
   "id": "19c20583-f7e6-44d0-81b2-565578e81943",
   "metadata": {
    "tags": []
   },
   "outputs": [],
   "source": [
    "sector_performance_Q_smoothed_return.columns = [*[i for i in indexes.index],*[v for v in sectors.index]]\n",
    "sector_performance_return.columns = [*[i for i in indexes.index],*[v for v in sectors.index]]"
   ]
  },
  {
   "cell_type": "code",
   "execution_count": null,
   "id": "ae6c4c77-278c-4ac8-837d-5634d3e7fded",
   "metadata": {
    "tags": []
   },
   "outputs": [],
   "source": []
  },
  {
   "cell_type": "code",
   "execution_count": null,
   "id": "32d1a300-3a80-4a2e-8103-1a0c38f77503",
   "metadata": {
    "tags": []
   },
   "outputs": [],
   "source": [
    "\"\"\"\n",
    "from scipy import stats as st\n",
    "from scipy.stats import t\n",
    "\n",
    "std_indexes = pd.DataFrame()\n",
    "seasonal_indexes = pd.DataFrame()\n",
    "\n",
    "warnings.filterwarnings('ignore')\n",
    "for spr in sector_performance_return.columns:\n",
    "    #print(spr)\n",
    "    s = sector_performance_return[[spr]]\n",
    "    #print(s)\n",
    "    years = []\n",
    "    quarters = []\n",
    "    for d in sector_performance_return[spr].index:\n",
    "\n",
    "        d_ = d.strftime('%Y-%m-%d')\n",
    "        #print(d_)\n",
    "\n",
    "        datem = dt.datetime.strptime(d_, \"%Y-%m-%d\")\n",
    "        years.append(str(datem.year))\n",
    "        #print(datem.year)       # 2021\n",
    "        m = datem.month\n",
    "        d = datem.day\n",
    "        if(len(str(m))==1):\n",
    "            m = '0'+str(m)\n",
    "        else:\n",
    "            m = str(m)\n",
    "        if(len(str(d))==1):\n",
    "            d = '0'+str(d)\n",
    "        else:\n",
    "            d = str(d)\n",
    "        quarters.append(m+\"-\"+d)\n",
    "\n",
    "    s['Years'] = years\n",
    "    s['Quarters'] = quarters\n",
    "    ct = pd.crosstab(s['Years'], s['Quarters'],values=s[spr],aggfunc=np.mean).mean(axis=0).sort_index()\n",
    "    ct.columns = [spr]\n",
    "    \n",
    "    ct_std = pd.crosstab(s['Years'], s['Quarters'],values=s[spr],aggfunc=np.mean).std(axis=0).sort_index()\n",
    "    ct_std.columns = [spr]\n",
    "    \n",
    "    std_indexes = pd.concat([std_indexes,ct_std],axis=1)\n",
    "    seasonal_indexes = pd.concat([seasonal_indexes,ct],axis=1)\n",
    "\n",
    "seasonal_indexes.columns = sector_performance_return.columns\n",
    "\n",
    "std_indexes.columns = sector_performance_return.columns\n",
    "    \n",
    "seasonal_indexes = seasonal_indexes.T\n",
    "\n",
    "std_indexes = std_indexes.T\n",
    "\n",
    "si = ['03-31','06-30','09-30','12-31']\n",
    "\n",
    "print(\"Seasonal Indexes\")\n",
    "\n",
    "seasonal_index_values_sorted = []\n",
    "seasonal_index_names_sorted = []\n",
    "#B = seasonal_indexes[si]\n",
    "for c in seasonal_indexes[si].columns:\n",
    "    seasonal_index_values_sorted.append(seasonal_indexes[si][c].sort_values(ascending=False).values)\n",
    "    seasonal_index_names_sorted.append(seasonal_indexes[si][c].sort_values(ascending=False).index.values)\n",
    "\n",
    "temp_seasonal_index_values_sorted = pd.DataFrame(seasonal_index_values_sorted).T\n",
    "temp_seasonal_index_values_sorted.columns = seasonal_indexes[si].columns\n",
    "\n",
    "temp_seasonal_index_names_sorted = pd.DataFrame(seasonal_index_names_sorted).T\n",
    "temp_seasonal_index_names_sorted.columns = seasonal_indexes[si].columns\n",
    "\n",
    "A = temp_seasonal_index_values_sorted\n",
    "B = temp_seasonal_index_names_sorted \n",
    "\n",
    "display(B.style.apply(b_g,cmap=cm))\n",
    "\n",
    "display(seasonal_indexes[si].style.background_gradient(cmap = cm,axis=0))\n",
    "\n",
    "print(\"Note if the final data in the prices ends on a quarter, this will aggregate into the seasonal_index above and there will be no comparison\")\n",
    "print(\"Current\")\n",
    "\n",
    "display(seasonal_indexes[seasonal_indexes.columns.difference(si)].sort_values(by=seasonal_indexes[seasonal_indexes.columns.difference(si)].columns[0],ascending=False).style.background_gradient(cmap = cm,axis=0))    \n",
    "\n",
    "#calculate p-value\n",
    "n=5\n",
    "\n",
    "print(\"standard deviations\")\n",
    "display(std_indexes[si])\n",
    "t_scores = (seasonal_indexes[si])/(std_indexes[si]/np.sqrt(n))\n",
    "print(\"t scores\")\n",
    "display(t_scores)\n",
    "print(\"p values\")\n",
    "p_values = pd.DataFrame(t.cdf(t_scores, df=n-2),index=seasonal_indexes[si].index,columns=seasonal_indexes[si].columns)\n",
    "\n",
    "display(p_values.style.applymap(highlight_cells, color_if_true='green', color_if_false='yellow', threshold_=.5))\n",
    "\n",
    "p_values.hist()\n",
    "\"\"\""
   ]
  },
  {
   "cell_type": "code",
   "execution_count": null,
   "id": "9f7c1ddd-9e58-4720-beaf-5d7f1512dc79",
   "metadata": {},
   "outputs": [],
   "source": []
  },
  {
   "cell_type": "code",
   "execution_count": null,
   "id": "a4e7eb29-705b-4e85-b229-a4555630ba35",
   "metadata": {
    "tags": []
   },
   "outputs": [],
   "source": [
    "cycles_ = ['Expansion','Slowdown','Recession','Recovery']\n",
    "\n",
    "path=r\"..\\data\\\\interim\\\\Business cycles.png\"\n",
    "display(Image.open(path))\n",
    "path=r\"..\\data\\\\interim\\\\Business Cycles-2.png\"\n",
    "display(Image.open(path))"
   ]
  },
  {
   "cell_type": "code",
   "execution_count": null,
   "id": "30b9c801-d5fd-4f10-bd02-4e4c40cd0ed4",
   "metadata": {},
   "outputs": [],
   "source": []
  },
  {
   "cell_type": "code",
   "execution_count": null,
   "id": "eb933634-e9ed-4668-9284-a118f4f07d21",
   "metadata": {},
   "outputs": [],
   "source": []
  },
  {
   "cell_type": "code",
   "execution_count": null,
   "id": "c0414d0e-36bd-4b64-b5a4-24b8b7932aca",
   "metadata": {},
   "outputs": [],
   "source": []
  },
  {
   "cell_type": "code",
   "execution_count": null,
   "id": "6c62134d-c867-414f-804b-400d0e8e29b1",
   "metadata": {},
   "outputs": [],
   "source": []
  },
  {
   "cell_type": "code",
   "execution_count": null,
   "id": "9c54d0ec-a466-4feb-9471-6b523521c8f1",
   "metadata": {},
   "outputs": [],
   "source": []
  },
  {
   "cell_type": "code",
   "execution_count": null,
   "id": "ca435f40-9712-4d35-b805-724d8d8b1a79",
   "metadata": {},
   "outputs": [],
   "source": []
  },
  {
   "cell_type": "code",
   "execution_count": null,
   "id": "7257bf38-1952-4509-be46-715f579645cc",
   "metadata": {
    "tags": []
   },
   "outputs": [],
   "source": [
    "sector_performance_returned_no_dup = sector_performance_return.loc[~sector_performance_return.index.duplicated(keep ='first')]\n",
    "sector_performance_return_pvt = sector_performance_returned_no_dup[sector_performance_returned_no_dup.iloc[-1].sort_values(ascending=False).index]\n",
    "\n",
    "sector_performance_return_pvt_heatmap = sector_performance_return_pvt.style.background_gradient(cmap = cm,axis=None)\n",
    "display(sector_performance_return_pvt_heatmap)\n",
    "\n",
    "sector_performances = pd.DataFrame()\n",
    "sector_performances_values = pd.DataFrame()\n",
    "for c in sector_performance_returned_no_dup.T.columns:\n",
    "    #print(c)\n",
    "    temp = pd.DataFrame(sector_performance_returned_no_dup.T[c].sort_values(ascending=False).index,columns=[c])\n",
    "    #print(temp)\n",
    "    temp2 = pd.DataFrame(sector_performance_returned_no_dup.T[c].sort_values(ascending=False),columns=[c])\n",
    "    #print(temp2)\n",
    "    temp2.reset_index(drop=True,inplace=True)    \n",
    "    sector_performances = pd.concat([sector_performances,temp],axis=1)\n",
    "    sector_performances_values = pd.concat([sector_performances_values,temp2],axis=1)\n",
    "    \n",
    "A = sector_performances_values\n",
    "B = sector_performance_returned_no_dup.T\n",
    "\n",
    "df = B.style.apply(b_g,cmap='RdYlGn')\n",
    "\n",
    "display(df)\n"
   ]
  },
  {
   "cell_type": "code",
   "execution_count": null,
   "id": "2c12f766-8f48-4ea5-b403-425a5dd952f6",
   "metadata": {},
   "outputs": [],
   "source": []
  },
  {
   "cell_type": "code",
   "execution_count": null,
   "id": "63dfff60-c3f0-496e-a6ce-375edac96d52",
   "metadata": {
    "tags": []
   },
   "outputs": [],
   "source": []
  },
  {
   "cell_type": "code",
   "execution_count": null,
   "id": "982011bf-09cf-4749-8f63-b077931fc4d6",
   "metadata": {
    "tags": []
   },
   "outputs": [],
   "source": [
    "\"\"\"\n",
    "#cm = sns.color_palette(\"blend:red,yellow,green\", as_cmap=True)\n",
    "#pd.crosstab(shares_viz['Year'], shares_viz['Month'])\n",
    "\n",
    "#seasonal_indexes[si]\n",
    "seasonally_adjusted = pd.DataFrame()\n",
    "\n",
    "for s in sector_performance_return.columns:\n",
    "    \n",
    "    s_ = pd.DataFrame(sector_performance_return[s])\n",
    "    #print(sector_performance_return[s])\n",
    "    years = []\n",
    "    quarters = []\n",
    "    \n",
    "    for d in s_.index:\n",
    "        d_ = d.strftime('%Y-%m-%d')\n",
    "        #print(d_)\n",
    "\n",
    "        datem = dt.datetime.strptime(d_, \"%Y-%m-%d\")\n",
    "        years.append(str(datem.year))\n",
    "        #print(datem.year)       # 2021\n",
    "        m = datem.month\n",
    "        d = datem.day\n",
    "        if(len(str(m))==1):\n",
    "            m = '0'+str(m)\n",
    "        else:\n",
    "            m = str(m)\n",
    "        if(len(str(d))==1):\n",
    "            d = '0'+str(d)\n",
    "        else:\n",
    "            d = str(d)\n",
    "        quarters.append(m+\"-\"+d)\n",
    "        \n",
    "    s_['Quarter'] = quarters\n",
    "    si_ = seasonal_indexes.loc[s]\n",
    "    \n",
    "    modified = pd.DataFrame()\n",
    "    #print(si_.index)\n",
    "    for s_i_ in si_.index:\n",
    "        #print(s_i_)\n",
    "        #when it finds the last date (which hopefully isn't a quarter date)\n",
    "        if(np.sum(np.array(si)==s_i_)==0):\n",
    "            #print(\"don't modify\")\n",
    "            #print(s_i_)\n",
    "            match = []\n",
    "            for entry in si:\n",
    "                if(int(s_i_.rsplit(\"-\")[0])<=int(entry.rsplit(\"-\")[0])):\n",
    "                    match = entry\n",
    "                    break            \n",
    "\n",
    "            delta_months = int(match.rsplit(\"-\")[0])-int(s_i_.rsplit(\"-\")[0])\n",
    "            delta_days_ = int(match.rsplit(\"-\")[1])-int(s_i_.rsplit(\"-\")[1])\n",
    "            \n",
    "            delta_days = int(delta_months*(91.25/3)+delta_days_)\n",
    "            #daily interest\n",
    "            \n",
    "            #print(delta_days)\n",
    "            #print(seasonal_indexes.loc[s].loc[match])\n",
    "            seasonal_index_to_daily = (1+seasonal_indexes.loc[s].loc[match])**(1/91.25)-1\n",
    "            #print(\"Seasonal Index to Daily Discounted Interest Rate:\",seasonal_index_to_daily)\n",
    "            daily_extrapolated = (1+seasonal_index_to_daily)**delta_days-1\n",
    "            #print(daily_extrapolated)\n",
    "            #print(\"Daily ^ delta_days:\",daily_extrapolated)\n",
    "            \n",
    "            #print(match)\n",
    "            #print(s_i_)\n",
    "            seasonally_adjusted_column = pd.DataFrame([seasonal_indexes.loc[s].loc[match] - daily_extrapolated],columns=[s],index=[s_.index[-1]])\n",
    "            \n",
    "            \n",
    "        else:\n",
    "            seasonally_adjusted_column = pd.DataFrame(s_[s][s_['Quarter']==s_i_] - seasonal_indexes.loc[s].loc[s_i_],columns=[s])\n",
    "        modified = pd.concat([modified,seasonally_adjusted_column],axis=0)\n",
    "        modified.sort_index(inplace=True)\n",
    "    #print(modified)\n",
    "    seasonally_adjusted = pd.concat([seasonally_adjusted,modified],axis=1)\n",
    "\n",
    "print(\"Comparative to Seasonal Indexes, tells you who is over or underperforming.\")\n",
    "print(\"This is Seasonal Index - Extrapolated Current Quarter.\")\n",
    "print(\"+: seasonal > current\")\n",
    "print(\"-: current > seasonal\")\n",
    "\n",
    "print(\"Note if the final data in the prices ends on a quarter, this will aggregate into the seasonal_index above and there will be no comparison\")\n",
    "    \n",
    "    \n",
    "std_indexes_seas_adj = pd.DataFrame()\n",
    "seasonal_indexes_seas_adj = pd.DataFrame()\n",
    "\n",
    "temp_ = pd.DataFrame(seasonally_adjusted.T.iloc[:,-1])\n",
    "temp_.columns = pd.DataFrame(seasonally_adjusted.T.iloc[:,-1]).columns.strftime('%Y-%m-%d')\n",
    "display(temp_.sort_values(by=temp_.columns[0],ascending=False).style.background_gradient(cmap = cm,axis=0))\n",
    "\n",
    "#display(seasonally_adjusted[seasonally_adjusted.columns.difference(si)].style.background_gradient(cmap = cm,axis=0))\n",
    "\n",
    "for spr in seasonally_adjusted.columns:\n",
    "    #print(spr)\n",
    "    s = seasonally_adjusted[[spr]]\n",
    "    #print(s)\n",
    "    years = []\n",
    "    quarters = []\n",
    "    for d in seasonally_adjusted[spr].index:\n",
    "        d_ = d.strftime('%Y-%m-%d')\n",
    "        #print(d_)\n",
    "\n",
    "        datem = dt.datetime.strptime(d_, \"%Y-%m-%d\")\n",
    "        years.append(str(datem.year))\n",
    "        #print(datem.year)       # 2021\n",
    "        m = datem.month\n",
    "        d = datem.day\n",
    "        if(len(str(m))==1):\n",
    "            m = '0'+str(m)\n",
    "        else:\n",
    "            m = str(m)\n",
    "        if(len(str(d))==1):\n",
    "            d = '0'+str(d)\n",
    "        else:\n",
    "            d = str(d)\n",
    "        quarters.append(m+\"-\"+d)\n",
    "\n",
    "    s['Years'] = years\n",
    "    s['Quarters'] = quarters\n",
    "    ct = pd.crosstab(s['Years'], s['Quarters'],values=s[spr],aggfunc=np.mean).mean(axis=0).sort_index()\n",
    "    ct.columns = [spr]\n",
    "    #print(ct)\n",
    "    \n",
    "    ct_std = pd.crosstab(s['Years'], s['Quarters'],values=s[spr],aggfunc=np.mean).std(axis=0).sort_index()\n",
    "    ct_std.columns = [spr]\n",
    "    \n",
    "    std_indexes_seas_adj = pd.concat([std_indexes_seas_adj,ct_std],axis=1)\n",
    "    seasonal_indexes_seas_adj = pd.concat([seasonal_indexes_seas_adj,ct],axis=1)\n",
    "\n",
    "seasonal_indexes_seas_adj.columns = seasonally_adjusted.columns\n",
    "\n",
    "std_indexes_seas_adj.columns = seasonally_adjusted.columns\n",
    "    \n",
    "seasonal_indexes_seas_adj = seasonal_indexes_seas_adj.T\n",
    "\n",
    "std_indexes_seas_adj = std_indexes_seas_adj.T\n",
    "\n",
    "sector_performances_sea_adj = pd.DataFrame()\n",
    "sector_performances_values_sea_adj = pd.DataFrame()\n",
    "for c in seasonally_adjusted.T.columns:\n",
    "    temp = pd.DataFrame(seasonally_adjusted.T[c].sort_values(ascending=False).index,columns=[c])\n",
    "    temp2 = pd.DataFrame(seasonally_adjusted.T[c].sort_values(ascending=False),columns=[c])\n",
    "    temp2.reset_index(drop=True,inplace=True)    \n",
    "    sector_performances_sea_adj = pd.concat([sector_performances_sea_adj,temp],axis=1)\n",
    "    sector_performances_values_sea_adj = pd.concat([sector_performances_values_sea_adj,temp2],axis=1)\n",
    "\n",
    "A = sector_performances_values_sea_adj\n",
    "B = sector_performances_sea_adj\n",
    "\n",
    "df_sea_adj = B.style.apply(b_g,cmap='RdYlGn')\n",
    "display(df_sea_adj)\n",
    "\"\"\""
   ]
  },
  {
   "cell_type": "code",
   "execution_count": null,
   "id": "920b39b6-9237-4645-bbdb-8a34dfa1c6fb",
   "metadata": {
    "tags": []
   },
   "outputs": [],
   "source": []
  },
  {
   "cell_type": "code",
   "execution_count": null,
   "id": "f60d032d-0cf3-400a-a801-185619948a14",
   "metadata": {
    "tags": []
   },
   "outputs": [],
   "source": [
    "\"\"\"\n",
    "index_performance = []\n",
    "for v in indexes['Symbol'].values:\n",
    "    index_performance.append([v,screener.loc[v]['risk_trend_factor']])\n",
    "temp_i = pd.DataFrame(index_performance,index=indexes.index)\n",
    "temp_i.columns = ['Symbol','risk_trend_factor']\n",
    "index_risk_sorted = pd.DataFrame(index_performance,columns=['Symbol','risk_trend_factor'],index=indexes.index).sort_values(by='risk_trend_factor',ascending=False).reset_index()\n",
    "index_risk_sorted.columns = ['Index','Symbol','risk_trend_factor']\n",
    "index_risk_sorted\n",
    "\"\"\""
   ]
  },
  {
   "cell_type": "code",
   "execution_count": null,
   "id": "a56630f8-6533-4540-856b-d8d9451ef65b",
   "metadata": {
    "tags": []
   },
   "outputs": [],
   "source": [
    "\"\"\"\n",
    "sector_performance = []\n",
    "for v in sectors['Symbol'].values:\n",
    "    sector_performance.append([v,screener.loc[v]['risk_trend_factor']])\n",
    "temp_v = sectors.reset_index()\n",
    "temp_v.columns = ['Sector','Symbol']\n",
    "sectors_risk_sorted = pd.DataFrame(sector_performance,columns=['Symbol','risk_trend_factor']).merge(temp_v, on='Symbol', how='left').sort_values(by='risk_trend_factor',ascending=False)    \n",
    "sectors_risk_sorted\n",
    "\"\"\""
   ]
  },
  {
   "cell_type": "code",
   "execution_count": null,
   "id": "cf9a2ec6-395f-4da5-bfa5-7e7c988ae08a",
   "metadata": {
    "tags": []
   },
   "outputs": [],
   "source": []
  },
  {
   "cell_type": "code",
   "execution_count": null,
   "id": "939a771c-5610-4928-a935-9b82d1fb9cb7",
   "metadata": {
    "tags": []
   },
   "outputs": [],
   "source": [
    "print(\"Rolling Quarterly Mean Return\")\n",
    "plt.plot(sector_performance_Q_smoothed_return)\n",
    "plt.legend([*[i for i in indexes.index],*[v for v in sectors.index]],loc=2,fontsize=7)\n",
    "plt.show()"
   ]
  },
  {
   "cell_type": "code",
   "execution_count": null,
   "id": "5e6c50ea-5870-498b-b7da-617d97c578f1",
   "metadata": {
    "tags": []
   },
   "outputs": [],
   "source": []
  },
  {
   "cell_type": "code",
   "execution_count": null,
   "id": "7f13a3ec-5048-4acc-ab5c-f798e1216b86",
   "metadata": {
    "tags": []
   },
   "outputs": [],
   "source": [
    "print (\"Quarterly Returns\")\n",
    "for v in sector_performance_return.T.index:\n",
    "    subset = pd.DataFrame(sector_performance_return.T.loc[v])\n",
    "    subset.columns = ['Return']\n",
    "    plt.plot(subset)\n",
    "    plt.xticks(subset.index, rotation=45)\n",
    "plt.legend(sector_performance_return.T.index,loc=2)    \n",
    "plt.show()\n"
   ]
  },
  {
   "cell_type": "code",
   "execution_count": null,
   "id": "cf881ad7-da51-46d1-b8c9-eb903b7aa6f3",
   "metadata": {},
   "outputs": [],
   "source": []
  },
  {
   "cell_type": "code",
   "execution_count": null,
   "id": "e1e0716a-3b2d-43e9-93b3-c659efa306d2",
   "metadata": {
    "tags": []
   },
   "outputs": [],
   "source": [
    "\"\"\"\n",
    "plt.plot(seasonal_indexes[si].T)\n",
    "plt.legend(seasonal_indexes[si].T.columns,loc=2,fontsize=8)\n",
    "plt.show()\n",
    "\"\"\""
   ]
  },
  {
   "cell_type": "code",
   "execution_count": null,
   "id": "d07a954f-1e41-4112-a980-a9691a8f63c3",
   "metadata": {
    "tags": []
   },
   "outputs": [],
   "source": []
  },
  {
   "cell_type": "code",
   "execution_count": null,
   "id": "bb59a21d-0820-4a62-908f-54ecac2e45f7",
   "metadata": {
    "tags": []
   },
   "outputs": [],
   "source": []
  },
  {
   "cell_type": "code",
   "execution_count": null,
   "id": "3683e62d-4d0e-476d-afa3-52ad82a1c96c",
   "metadata": {
    "tags": []
   },
   "outputs": [],
   "source": []
  },
  {
   "cell_type": "code",
   "execution_count": null,
   "id": "9e546c98-ca0c-425c-acb2-7a3f965c2a4b",
   "metadata": {
    "tags": []
   },
   "outputs": [],
   "source": [
    "#risk_trend_threshold"
   ]
  },
  {
   "cell_type": "code",
   "execution_count": null,
   "id": "8ebd8fd4-950c-4bc9-ba28-af6baf1ae54a",
   "metadata": {},
   "outputs": [],
   "source": []
  },
  {
   "cell_type": "code",
   "execution_count": null,
   "id": "ce71ada5-3b22-4191-90d1-f15b7fb7e5cb",
   "metadata": {
    "tags": []
   },
   "outputs": [],
   "source": [
    "#market_data['sector'] = stock_fundamentals['sector']"
   ]
  },
  {
   "cell_type": "code",
   "execution_count": null,
   "id": "b5aa318b-d659-4ccc-a9f0-690cf4ceac36",
   "metadata": {
    "tags": []
   },
   "outputs": [],
   "source": []
  },
  {
   "cell_type": "code",
   "execution_count": null,
   "id": "eadf398b-c971-4a14-a7ed-9fd5c2b7a3ab",
   "metadata": {
    "tags": []
   },
   "outputs": [],
   "source": []
  },
  {
   "cell_type": "code",
   "execution_count": null,
   "id": "d5c01705-6411-4957-90f6-521e7155ce71",
   "metadata": {
    "tags": []
   },
   "outputs": [],
   "source": []
  },
  {
   "cell_type": "code",
   "execution_count": null,
   "id": "0a825ee5-d4bd-4637-b588-f5118cf49f39",
   "metadata": {
    "tags": []
   },
   "outputs": [],
   "source": [
    "#screener[['risk_trend_factor']].replace(['missing','error'], np.NaN).dropna().hist()"
   ]
  },
  {
   "cell_type": "code",
   "execution_count": null,
   "id": "25448842-ee84-4647-87e3-d992eef0bc9a",
   "metadata": {
    "tags": []
   },
   "outputs": [],
   "source": [
    "#len(screener)"
   ]
  },
  {
   "cell_type": "code",
   "execution_count": null,
   "id": "062f3156-444c-451b-a326-9df38293d66c",
   "metadata": {
    "tags": []
   },
   "outputs": [],
   "source": []
  },
  {
   "cell_type": "code",
   "execution_count": null,
   "id": "75e93bc0-29aa-45fe-8c9e-6a8a5596a8e9",
   "metadata": {
    "tags": []
   },
   "outputs": [],
   "source": [
    "#prices_df.columns"
   ]
  },
  {
   "cell_type": "code",
   "execution_count": null,
   "id": "5b194139-71d1-4533-a98f-365fd3091584",
   "metadata": {
    "tags": []
   },
   "outputs": [],
   "source": []
  },
  {
   "cell_type": "code",
   "execution_count": null,
   "id": "a887c1c3-269e-4ff7-97d7-0f629b1e02e6",
   "metadata": {
    "tags": []
   },
   "outputs": [],
   "source": []
  },
  {
   "cell_type": "code",
   "execution_count": null,
   "id": "ccfda1b2-a4a5-4d30-a1cb-de0c8cf35c62",
   "metadata": {},
   "outputs": [],
   "source": []
  },
  {
   "cell_type": "code",
   "execution_count": null,
   "id": "c82bceec-0d5c-4f79-a610-dead31b3a405",
   "metadata": {},
   "outputs": [],
   "source": []
  },
  {
   "cell_type": "code",
   "execution_count": null,
   "id": "e607a019-d78d-40f1-b870-f3e9c8b0f7fa",
   "metadata": {
    "tags": []
   },
   "outputs": [],
   "source": []
  },
  {
   "cell_type": "code",
   "execution_count": null,
   "id": "d4f70f23-e164-4cbc-9b36-56179475fe52",
   "metadata": {},
   "outputs": [],
   "source": [
    "#threshold"
   ]
  },
  {
   "cell_type": "code",
   "execution_count": null,
   "id": "b16abc74-da31-4bb2-bd4b-f4c04e0a671f",
   "metadata": {},
   "outputs": [],
   "source": [
    "#threshold_value = summary.dropna()['risk_trend_factor'].quantile([threshold])"
   ]
  },
  {
   "cell_type": "code",
   "execution_count": null,
   "id": "e82b6deb-8a67-4153-82df-5c163093db01",
   "metadata": {},
   "outputs": [],
   "source": []
  },
  {
   "cell_type": "code",
   "execution_count": null,
   "id": "752e4361-ac3b-4d6e-b549-eb253ef708ed",
   "metadata": {},
   "outputs": [],
   "source": []
  },
  {
   "cell_type": "code",
   "execution_count": null,
   "id": "af351818-c6ba-4266-a7c4-e51749929cd2",
   "metadata": {},
   "outputs": [],
   "source": []
  },
  {
   "cell_type": "code",
   "execution_count": null,
   "id": "70ae8bc3-ac12-4d8e-813f-8a40be23dfd2",
   "metadata": {},
   "outputs": [],
   "source": []
  },
  {
   "cell_type": "code",
   "execution_count": null,
   "id": "de65f6cf-37e8-4d73-934b-5f59ad2c69f7",
   "metadata": {},
   "outputs": [],
   "source": []
  },
  {
   "cell_type": "code",
   "execution_count": null,
   "id": "2a417218-6f64-46c7-98b4-86a5f7f3257a",
   "metadata": {},
   "outputs": [],
   "source": [
    "threshold = 1"
   ]
  },
  {
   "cell_type": "code",
   "execution_count": null,
   "id": "7b9700e2-c4a4-43a9-8a16-247223bbee76",
   "metadata": {},
   "outputs": [],
   "source": [
    "screener_sorted.columns"
   ]
  },
  {
   "cell_type": "code",
   "execution_count": null,
   "id": "60f712bf-fdfc-4ad7-91a8-a06e2eaeead1",
   "metadata": {},
   "outputs": [],
   "source": [
    "fred_pvt_sample = completed_fred_pvt_df[fred_names].asfreq('D').interpolate(method='time').asfreq('Q').dropna()"
   ]
  },
  {
   "cell_type": "code",
   "execution_count": null,
   "id": "4802753b-506c-41cc-b7c1-101a9252a5ad",
   "metadata": {},
   "outputs": [],
   "source": []
  },
  {
   "cell_type": "code",
   "execution_count": null,
   "id": "0bcc7c77-508c-4251-b118-2b6d98e32bf2",
   "metadata": {},
   "outputs": [],
   "source": []
  },
  {
   "cell_type": "code",
   "execution_count": null,
   "id": "53de2713-c9ce-48da-b383-7b43984d14f6",
   "metadata": {},
   "outputs": [],
   "source": [
    "tvv_50td_filter = screener_sorted['50td_tvf_vel'].replace(['missing','missingmissing','error'], np.nan).dropna()\n",
    "tvv_50td_filter = tvv_50td_filter[tvv_50td_filter>np.max([tvv_50td_filter.median(),tvv_50td_filter.mean()])]\n",
    "\n",
    "tvv_20td_filter = screener_sorted['20td_tvf_vel'].replace(['missing','missingmissing','error'], np.nan).dropna()\n",
    "tvv_20td_filter = tvv_50td_filter[tvv_20td_filter>np.max([tvv_20td_filter.median(),tvv_20td_filter.mean()])]\n",
    "\n",
    "risk_trend_factor_filter = screener_sorted['risk_trend_factor'].replace(['missing','missingmissing','error'], np.nan).dropna()\n",
    "risk_trend_factor_filter = risk_trend_factor_filter[risk_trend_factor_filter>np.max([risk_trend_factor_filter.median(),risk_trend_factor_filter.mean()])]\n",
    "\n",
    "filtered = np.unique([*tvv_50td_filter.index,*tvv_20td_filter.index, *risk_trend_factor_filter.index])\n",
    "\n",
    "filtered = set(risk_trend_factor_filter.index).intersection(set(tvv_50td_filter.index).intersection(tvv_20td_filter.index))\n",
    "\n",
    "filtered = screener_sorted.loc[filtered][['50td_tvf_vel','20td_tvf_vel','risk_trend_factor']]\n",
    "filtered = (filtered>filtered.median()).all(axis=1)\n",
    "filtered = filtered[filtered].index\n",
    "\n",
    "#filtered = screener_sorted.loc[filtered][['50td_tvf_vel','20td_tvf_vel','risk_trend_factor']]\n",
    "#filtered = filtered[filtered>np.max([filtered.median()])]\n",
    "print(len(filtered))"
   ]
  },
  {
   "cell_type": "code",
   "execution_count": null,
   "id": "cc7c7f72-2513-4f5c-9667-905ccaf3887b",
   "metadata": {
    "tags": []
   },
   "outputs": [],
   "source": [
    "filtered_screener_sorted = screener_sorted.loc[filtered]"
   ]
  },
  {
   "cell_type": "code",
   "execution_count": null,
   "id": "e1d4468e-9e99-4b7f-bb2c-f11ebd72279d",
   "metadata": {},
   "outputs": [],
   "source": []
  },
  {
   "cell_type": "code",
   "execution_count": null,
   "id": "3f103181-630a-4d27-9f84-00fed7a121e1",
   "metadata": {},
   "outputs": [],
   "source": []
  },
  {
   "cell_type": "code",
   "execution_count": null,
   "id": "906292e2-912d-49ee-ad5b-d1128c0f3538",
   "metadata": {},
   "outputs": [],
   "source": []
  },
  {
   "cell_type": "code",
   "execution_count": null,
   "id": "b82868ce-8cd8-4f8f-af52-712a09a280c0",
   "metadata": {},
   "outputs": [],
   "source": []
  },
  {
   "cell_type": "code",
   "execution_count": null,
   "id": "74c34240-3bca-4e91-9e10-46349d9df6bc",
   "metadata": {},
   "outputs": [],
   "source": []
  },
  {
   "cell_type": "code",
   "execution_count": null,
   "id": "17bd232d-8b14-4a80-8936-9aef1d831282",
   "metadata": {},
   "outputs": [],
   "source": []
  },
  {
   "cell_type": "code",
   "execution_count": null,
   "id": "a13f9bc2-d935-4b61-82a7-b71a59ecaf08",
   "metadata": {},
   "outputs": [],
   "source": [
    "len(filtered_screener_sorted)"
   ]
  },
  {
   "cell_type": "code",
   "execution_count": null,
   "id": "f15d6116-d3eb-4e6f-abc2-7c0590e2c51b",
   "metadata": {},
   "outputs": [],
   "source": []
  },
  {
   "cell_type": "code",
   "execution_count": null,
   "id": "a8ff5e6f-7fdc-45af-93bb-5805a16c3f13",
   "metadata": {},
   "outputs": [],
   "source": []
  },
  {
   "cell_type": "code",
   "execution_count": null,
   "id": "9e18049f-28ca-456f-afbe-7d16941b6235",
   "metadata": {},
   "outputs": [],
   "source": [
    "\n",
    "with localconverter(ro.default_converter + pandas2ri.converter):\n",
    "      r_from_pd_df = ro.conversion.py2rpy(fred_pvt_sample.melt(ignore_index=False).reset_index().rename(columns={'index': 'Date'}))\n"
   ]
  },
  {
   "cell_type": "code",
   "execution_count": null,
   "id": "839c0e51-bf0c-4aac-bcf5-bbce8e0fc97c",
   "metadata": {},
   "outputs": [],
   "source": []
  },
  {
   "cell_type": "code",
   "execution_count": null,
   "id": "d136679c-5478-4f78-8256-52cabe04debe",
   "metadata": {},
   "outputs": [],
   "source": []
  },
  {
   "cell_type": "code",
   "execution_count": null,
   "id": "c6fd0649-1c64-4f77-8a14-ee9db088a4f2",
   "metadata": {
    "tags": []
   },
   "outputs": [],
   "source": [
    "#ro.X11()\n",
    "#ro.windows()\n",
    "ro.r('''\n",
    "\n",
    "my_mean <- function(x, na.rm=TRUE) {\n",
    "  mean(x, na.rm = na.rm)\n",
    "}\n",
    "\n",
    "f <- function(y) {\n",
    "#print(y)\n",
    "\n",
    "#library(arfima)\n",
    "#varvefd = arfima(y)\n",
    "#d = summary(varvefd)$coef[[1]][1]\n",
    "#return(d)\n",
    "\n",
    "tsfeature_tbl <- y %>%\n",
    "group_by(variable) %>%\n",
    "tk_tsfeatures(\n",
    "  .date_var = Date,\n",
    "  .value    = value,\n",
    "  .period   = 4,\n",
    "  .features = c(\"frequency\", \"stl_features\", \"entropy\", \"acf_features\", \"my_mean\"),\n",
    "  .scale    = TRUE,\n",
    "  .prefix   = \"ts_\"\n",
    ") %>%\n",
    "ungroup()\n",
    "    \n",
    "print(tsfeature_tbl)\n",
    "\n",
    "set.seed(123)\n",
    "\n",
    "cluster_tbl <- tibble(\n",
    "    cluster = tsfeature_tbl %>% \n",
    "        select(-variable) %>%\n",
    "        as.matrix() %>%\n",
    "        kmeans(centers = 7, nstart = 100) %>%\n",
    "        pluck(\"cluster\")\n",
    ") %>%\n",
    "    bind_cols(\n",
    "        tsfeature_tbl\n",
    "    )\n",
    "\n",
    "cluster_tbl\n",
    "\n",
    "cluster_tbl %>%\n",
    "    select(cluster, variable) %>%\n",
    "    right_join(y, by = \"variable\") %>%\n",
    "    group_by(variable) %>%\n",
    "    plot_time_series(\n",
    "      Date, value, \n",
    "      .color_var   = cluster, \n",
    "      .facet_ncol  = 2, \n",
    "      .interactive = FALSE\n",
    "    )\n",
    "plot(cluster_tbl)\n",
    "\n",
    "return(tsfeature_tbl)\n",
    "}\n",
    "''')\n",
    "grdevices.png(file=\"..\\\\reports\\\\figures\\\\cluster_tbl.png\", width=4096, height=1024)\n",
    "r_f = ro.globalenv['f']\n",
    "\n",
    "d=ro.conversion.rpy2py((r_f(ro.conversion.py2rpy(r_from_pd_df))))\n",
    "\n",
    "#rprint(pp)\n",
    "\n",
    "time.sleep(3)\n",
    "#grdevices.dev_copy(device = r.png, filename = \"plot.png\", width = 1000, height = 500)\n",
    "grdevices.dev_off()\n",
    "\n",
    "#From here optional, if you want a waiting time\n",
    "#Elsewise close the plot manually afterwards with grdevices.dev_off()\n",
    "\n",
    "#grdevices.dev_off()\n",
    "#grdevices.dev_off()\n"
   ]
  },
  {
   "cell_type": "code",
   "execution_count": null,
   "id": "c975dc5b-4d2c-494f-a3ce-aeeb91e867e6",
   "metadata": {},
   "outputs": [],
   "source": []
  },
  {
   "cell_type": "code",
   "execution_count": null,
   "id": "2c8d8a46-c161-40fe-8491-3fb0662a136a",
   "metadata": {},
   "outputs": [],
   "source": []
  },
  {
   "cell_type": "code",
   "execution_count": null,
   "id": "0594f8e8-ba4a-47bc-a41d-63ac2150b4ca",
   "metadata": {},
   "outputs": [],
   "source": []
  },
  {
   "cell_type": "code",
   "execution_count": null,
   "id": "873a8247-911b-467d-b2b8-b777e9b3b500",
   "metadata": {},
   "outputs": [],
   "source": []
  },
  {
   "cell_type": "code",
   "execution_count": null,
   "id": "f4b3f3de-8061-4f38-af34-954d2ffe48e6",
   "metadata": {},
   "outputs": [],
   "source": [
    "pca = PCA(n_components=0.99, svd_solver='full')\n",
    "\n",
    "X = np.array(d.iloc[:,1:])\n",
    "\n",
    "pca.fit(scale(X))\n",
    "#pca.explained_variance_\n",
    "pca.explained_variance_ratio_.cumsum()\n",
    "X_pca = pd.DataFrame(pca.transform(d.iloc[0:,1:]))\n",
    "X_pca.index = d.index\n",
    "X_pca.sort_values(by=[0],ascending=False,inplace=True)\n",
    "\n",
    "TSS_ = []\n",
    "BSS_ = []\n",
    "WSS_ = []\n",
    "silhouettes_ = []\n",
    "\n",
    "for k in range(2,int(len(d)/2)):\n",
    "    model = KMeans(n_clusters=k, random_state=0, n_init=100).fit(X)\n",
    "    #print(model.inertia_)\n",
    "\n",
    "    codebook = np.array(model.cluster_centers_)\n",
    "    partition, euc_distance_to_centroids = vq(X, codebook)\n",
    "    WSS = np.sum(euc_distance_to_centroids**2)\n",
    "    \n",
    "    silhouette_avg = silhouette_score(X, model.labels_)\n",
    "\n",
    "    silhouettes_.append(silhouette_avg)\n",
    "    \n",
    "    TSS = np.sum((X-X.mean(0))**2)\n",
    "\n",
    "    BSS = TSS - WSS\n",
    "\n",
    "    TSS_.append(TSS)\n",
    "    BSS_.append(BSS)\n",
    "    WSS_.append(WSS)\n",
    "    \n",
    "    #print(TSS, WSS, BSS)\n"
   ]
  },
  {
   "cell_type": "code",
   "execution_count": null,
   "id": "653a9a21-21c3-4031-80f2-d4fc12e11b24",
   "metadata": {},
   "outputs": [],
   "source": [
    "\n",
    "init_min = 2\n",
    "init_max = 5\n",
    "\n",
    "\n",
    "mink = 2\n",
    "maxk = 6\n",
    "\n",
    "tss, bss, wss = findOptimalK_ANOVA(X_pca, mink = mink, maxk = maxk)"
   ]
  },
  {
   "cell_type": "code",
   "execution_count": null,
   "id": "0182f2bd-0ff2-40af-a11e-b7bf788584f0",
   "metadata": {},
   "outputs": [],
   "source": [
    "plt.plot(np.array(BSS_)/np.array(TSS_))\n",
    "plt.show()\n",
    "plt.plot(np.array(WSS_))\n",
    "plt.show()\n",
    "plt.plot(np.array(silhouettes_))\n",
    "plt.show()\n",
    "\n"
   ]
  },
  {
   "cell_type": "code",
   "execution_count": null,
   "id": "10cb8154-dbdd-499b-9c36-db1a30aa1c40",
   "metadata": {},
   "outputs": [],
   "source": []
  },
  {
   "cell_type": "code",
   "execution_count": null,
   "id": "1e15fa52-a62e-4ba0-922a-bd573c1c9495",
   "metadata": {},
   "outputs": [],
   "source": [
    "\n",
    "bss_ = findknee(bss)\n",
    "bss_ = bss_/np.max(bss_)\n",
    "\n",
    "wss_ = findknee(np.array(pd.DataFrame(wss).mean(1)))\n",
    "wss_ = wss_/np.max(wss_)\n",
    "\n",
    "temp_df = pd.DataFrame(bss_/wss_).replace([np.inf, -np.inf, np.NaN], 0)\n",
    "temp_df.index = np.array(range(0,len(wss_)))+mink\n",
    "#plt.plot(temp_df)\n",
    "\n",
    "set_ = np.abs(temp_df-1)\n",
    "plt.plot(set_)\n",
    "\n",
    "optimal_k = np.argmin(set_)+mink\n",
    "plt.plot(abs(set_-1))\n",
    " \n",
    "print(optimal_k)\n"
   ]
  },
  {
   "cell_type": "code",
   "execution_count": null,
   "id": "028bfb7a-bfe8-49a1-909e-6d43111d55fd",
   "metadata": {},
   "outputs": [],
   "source": [
    "clf = KMeansConstrained(n_clusters=optimal_k, size_min=init_min, size_max=max(np.ceil(len(X_pca)/optimal_k),init_max), init='k-means++', n_init=100, max_iter=100, tol=0.0001, verbose=False, random_state=None, copy_x=True, n_jobs=4)\n",
    "clf.fit_predict(X_pca)\n",
    "\n",
    "labels = clf.labels_\n",
    "clusters = clf.n_clusters\n",
    "centers = clf.cluster_centers_\n",
    "\n",
    "print(labels)\n",
    "\n",
    "tot_ss, BSS, within_ss = deriveANOVA(clf, X_pca)\n",
    "\n",
    "Global_F = (BSS/(optimal_k-1))/(np.mean(within_ss)/(len(X_pca)-optimal_k))\n",
    "global_sig = 1-f_.cdf(Global_F, (len(X_pca)-optimal_k), len(X_pca)-1)\n",
    "\n",
    "ind_F_scores = []\n",
    "\n",
    "for w in range(0,len(within_ss)):\n",
    "\n",
    "    dfn = (optimal_k-1)\n",
    "    dfd = np.sum(labels==w)-optimal_k\n",
    "\n",
    "    F_score = (BSS/dfn)/(within_ss[w]/(dfd))\n",
    "    ind_F_scores.append(F_score)\n",
    "\n",
    "print(\"Global F:\",Global_F)\n",
    "print(\"Global Sig:\",global_sig)\n",
    "print(\"F-Scores:\", ind_F_scores)\n",
    "\n",
    "print(\"P-Scores:\", 1-f_.cdf(ind_F_scores, dfn, dfd))\n",
    "\n",
    "X_pca['cluster'] = labels"
   ]
  },
  {
   "cell_type": "code",
   "execution_count": null,
   "id": "a04cef0f-e105-4f71-b08b-5226cc57ed97",
   "metadata": {},
   "outputs": [],
   "source": [
    "\n",
    "\n",
    "cgram = Clustergram(range(1, 8))\n",
    "cgram.fit(X_pca)\n",
    "cgram.plot()\n",
    "cgram"
   ]
  },
  {
   "cell_type": "code",
   "execution_count": null,
   "id": "93ba7236-c48f-496f-8982-1945d80ab96e",
   "metadata": {},
   "outputs": [],
   "source": []
  },
  {
   "cell_type": "code",
   "execution_count": null,
   "id": "6b676e27-10c3-4b4e-b2f9-6f4079bc73f8",
   "metadata": {},
   "outputs": [],
   "source": []
  },
  {
   "cell_type": "code",
   "execution_count": null,
   "id": "d3ba281e-7c0e-4626-ba07-09de582ca029",
   "metadata": {},
   "outputs": [],
   "source": []
  },
  {
   "cell_type": "code",
   "execution_count": null,
   "id": "ab4ad7c2-9624-425c-b37c-f084137f72ad",
   "metadata": {},
   "outputs": [],
   "source": []
  },
  {
   "cell_type": "code",
   "execution_count": null,
   "id": "92dba091-352c-46b7-8441-f7e546783143",
   "metadata": {},
   "outputs": [],
   "source": []
  },
  {
   "cell_type": "code",
   "execution_count": null,
   "id": "316d785d-3520-4bfc-afa4-c2df19c65b96",
   "metadata": {},
   "outputs": [],
   "source": []
  },
  {
   "cell_type": "code",
   "execution_count": null,
   "id": "f1467172-addd-4eff-a114-b2d69da4c465",
   "metadata": {},
   "outputs": [],
   "source": []
  },
  {
   "cell_type": "code",
   "execution_count": null,
   "id": "8dbbf7be-e25a-4e46-9ec9-b14efeb6124f",
   "metadata": {},
   "outputs": [],
   "source": []
  },
  {
   "cell_type": "code",
   "execution_count": null,
   "id": "68ba2503-ae16-452e-8881-13a9b5403f5c",
   "metadata": {},
   "outputs": [],
   "source": []
  },
  {
   "cell_type": "code",
   "execution_count": null,
   "id": "9585498f-046a-4816-a69f-6c19e41c1910",
   "metadata": {},
   "outputs": [],
   "source": [
    "\"\"\"\n",
    "model = VARMAX(future_commodities_n_w_index_pvt_w_Fred_, order=(1,1,))\n",
    "model_fit = model.fit(disp=False)\n",
    "yhat = model_fit.forecast(13)\n",
    "print(yhat)\n",
    "\"\"\""
   ]
  },
  {
   "cell_type": "code",
   "execution_count": null,
   "id": "8db8ad00-876f-4195-8bb2-ec182817c429",
   "metadata": {},
   "outputs": [],
   "source": [
    "prices_pvt = pd.pivot_table(prices_df, values=['Adj Close'], index=prices_df.index,columns='Symbol').asfreq('D').interpolate(method='time',limit_direction='forward',limit_area='inside').reindex(nyse_dates.index)\n",
    "prices_pvt.index = [d.strftime('%Y-%m-%d') for d in prices_pvt.index]\n",
    "prices_pvt.columns = prices_pvt.columns.droplevel(0)\n",
    "prices_pvt.index = [pd.to_datetime(d) for d in prices_pvt.index]\n",
    "combined_prices_w_commodities = prices_pvt.join(future_commodities_n_w_index_pvt_w_Fred.reindex(prices_pvt.index)).dropna()"
   ]
  },
  {
   "cell_type": "code",
   "execution_count": null,
   "id": "9022738a-27fe-4c76-9328-dd6376622317",
   "metadata": {},
   "outputs": [],
   "source": []
  },
  {
   "cell_type": "code",
   "execution_count": null,
   "id": "f6e15bdb-89e0-44c5-96bb-5e070187d1ef",
   "metadata": {},
   "outputs": [],
   "source": []
  },
  {
   "cell_type": "code",
   "execution_count": null,
   "id": "eab0122e-d488-4d81-a6a0-a5193669ebb0",
   "metadata": {},
   "outputs": [],
   "source": []
  },
  {
   "cell_type": "code",
   "execution_count": null,
   "id": "dfed1825-65f6-470e-b16c-17fd47637773",
   "metadata": {},
   "outputs": [],
   "source": []
  },
  {
   "cell_type": "code",
   "execution_count": null,
   "id": "7560344f-5d3c-4094-8134-cd4d8e7f6d0a",
   "metadata": {},
   "outputs": [],
   "source": []
  },
  {
   "cell_type": "code",
   "execution_count": null,
   "id": "f3dbc568-8ecb-4ff5-8475-8f93118a634e",
   "metadata": {},
   "outputs": [],
   "source": []
  },
  {
   "cell_type": "code",
   "execution_count": null,
   "id": "034cb614-e77d-433b-973b-e12d73f3f2a7",
   "metadata": {},
   "outputs": [],
   "source": []
  },
  {
   "cell_type": "code",
   "execution_count": null,
   "id": "cdbc809f-27df-4db2-918d-eb5496f5299d",
   "metadata": {},
   "outputs": [],
   "source": [
    "\n",
    "lengths = []\n",
    "for i in range(0,max(X_pca['cluster'])+1):\n",
    "    subset = d.loc[X_pca[X_pca['cluster']==i].index]\n",
    "    lengths.append(len(subset))\n",
    "    \n",
    "colors = ['purple','cyan','magenta','green','red','black','pink','yellow','blue','brown','orange','grey']\n",
    "my_cmap = LinearSegmentedColormap.from_list(\n",
    "    'color_map', colors, N=max(lengths))\n",
    "\n",
    "rescale = lambda y: (y - 0) / (np.max(lengths) - 0)    \n"
   ]
  },
  {
   "cell_type": "code",
   "execution_count": null,
   "id": "94de78e2-847e-4044-9fcb-e0798132dbea",
   "metadata": {},
   "outputs": [],
   "source": []
  },
  {
   "cell_type": "code",
   "execution_count": null,
   "id": "f0ce802a-6ce4-44d7-9e77-0704dc7d495f",
   "metadata": {},
   "outputs": [],
   "source": [
    "\n",
    "for i in range(0,max(X_pca['cluster'])+1):\n",
    "    print(\"Group: \",i)\n",
    "    subset = d.loc[X_pca[X_pca['cluster']==i].index]\n",
    "    #\n",
    "    for c_ in range(0,len(subset['variable'])):\n",
    "        c = subset['variable'].values[c_]\n",
    "        try:\n",
    "            #print(dict_fred[c])\n",
    "            display(html_print(' '.join([cstr(ti, color=ci) for ti,ci in ((dict_fred[c], colors[c_]),)])))\n",
    "\n",
    "            #display(html_print(' '.join([cstr(ti, color=my_cmap(rescale(c_))) for ti in (('hello my name is'),)])))\n",
    "            #print(colored(\"hello red world\", my_cmap(rescale(c_))))\n",
    "            if(c_==0):\n",
    "                fig, ax1 = plt.subplots( figsize=(30,4))\n",
    "                ax1.plot(fred_pvt_sample[c],color=my_cmap(rescale(c_)))\n",
    "                ax1.get_yaxis().set_ticks([])\n",
    "            else: \n",
    "                ax2 = ax1.twinx()\n",
    "                ax2.plot(fred_pvt_sample[c],color=my_cmap(rescale(c_)))\n",
    "                ax2.get_yaxis().set_ticks([])\n",
    "        #ax1.legend(subset['variable'].values,loc=2)\n",
    "        except:\n",
    "            pass\n",
    "    plt.show()"
   ]
  },
  {
   "cell_type": "code",
   "execution_count": null,
   "id": "54ef1d40-755f-43a0-a306-b26273cc1393",
   "metadata": {},
   "outputs": [],
   "source": [
    "filter_ = fred_pvt_sample.columns.tolist()\n",
    "def f3(Y):\n",
    "    \n",
    "    #Y = x\n",
    "    #output_slider_variable.value\n",
    "    internalFilter = filter_.copy()\n",
    "    internalFilter.remove(Y)\n",
    "    all_data_ = pd.concat([fred_pvt_sample[Y],fred_pvt_sample[internalFilter]], axis=1)    \n",
    "    #print(all_data_.describe())\n",
    "    display(fred_pvt_sample.describe())\n",
    "    #x_ticks = all_data_.index[np.arange(0, len(all_data.index), int(len(internalFilter)/5))]\n",
    "    x_ticks  = []\n",
    "    for index, element in enumerate(fred_pvt_sample.index):\n",
    "        if index % int(np.round(len(fred_pvt_sample.index)/10)) == 0:\n",
    "            x_ticks.append(element)\n",
    "    plt.plot(fred_pvt_sample[Y])\n",
    "    plt.xticks(x_ticks, rotation = 45)\n",
    "    plt.show()        \n",
    "    plt.hist(fred_pvt_sample[Y], bins='auto')\n",
    "    plt.show()\n",
    "    diff = pd.DataFrame((fred_pvt_sample[Y].pct_change())).dropna()\n",
    "    plt.hist(diff, bins='auto')\n",
    "    plt.show()\n",
    "    return(fred_pvt_sample)\n",
    "    \n",
    "out = interactive(f3, Y=filter_)\n",
    "\n",
    "#output_slider_variable.observe(f4, 'value')\n",
    "\n",
    "print(\"choose Y\")\n",
    "display(out)\n"
   ]
  },
  {
   "cell_type": "code",
   "execution_count": null,
   "id": "3c81fcd6-e8a7-4fb6-a874-e9edb8f4f3b5",
   "metadata": {},
   "outputs": [],
   "source": []
  },
  {
   "cell_type": "code",
   "execution_count": null,
   "id": "098b2b91-888f-4d53-9336-295f64e41028",
   "metadata": {
    "tags": []
   },
   "outputs": [],
   "source": [
    "print('nominal,','pct_change,','pct_change().cumsum')\n",
    "for pos in range(0,len(fred_names)):\n",
    "    print(fred_friendly_names[pos],fred_names[pos])\n",
    "    name = fred_names[pos]\n",
    "    \n",
    "    \n",
    "    f, (ax1, ax2, ax3) = plt.subplots(1, 3, sharey=False,figsize=(15,6))\n",
    "    ax1.plot(completed_fred_pvt_df[name])\n",
    "    ax1.set_xticklabels(np.array(completed_fred_pvt_df.index.map(lambda t: t.strftime('%Y-%m-%d')))[np.arange(0,len(completed_fred_pvt_df.index),int(len(completed_fred_pvt_df.index)/10))], rotation=45)\n",
    "    ax2.plot(completed_fred_pvt_df[name].pct_change())\n",
    "    ax2.set_xticklabels(np.array(completed_fred_pvt_df.index.map(lambda t: t.strftime('%Y-%m-%d')))[np.arange(0,len(completed_fred_pvt_df.index),int(len(completed_fred_pvt_df.index)/10))], rotation=45)\n",
    "    ax3.plot(completed_fred_pvt_df[name].pct_change().cumsum())\n",
    "    ax3.set_xticklabels(np.array(completed_fred_pvt_df.index.map(lambda t: t.strftime('%Y-%m-%d')))[np.arange(0,len(completed_fred_pvt_df.index),int(len(completed_fred_pvt_df.index)/10))], rotation=45)\n",
    "    plt.show()"
   ]
  },
  {
   "cell_type": "code",
   "execution_count": null,
   "id": "97f248ba-d0b2-4b25-a9ca-ac78643ce98d",
   "metadata": {},
   "outputs": [],
   "source": [
    "#screener['vol_30d_2yr']"
   ]
  },
  {
   "cell_type": "code",
   "execution_count": null,
   "id": "d77c752f-c4e7-4beb-bb9a-2dad9d0f4aa2",
   "metadata": {},
   "outputs": [],
   "source": []
  },
  {
   "cell_type": "code",
   "execution_count": null,
   "id": "3447fa06-6e2a-4b18-b40c-817411a5980e",
   "metadata": {},
   "outputs": [],
   "source": [
    "#pd.DataFrame(np.mean(np.exp(final_model.get_prediction(start=end,end=(end + dt.timedelta(92)).strftime('%Y-%m-%d')).summary_frame())[['mean','pi_lower']],axis=1)).iloc[0].values[0]\n",
    "#[s,e_return,s_date,stop_loss_price,days_delta,discounted_return,qtr_return,test_score_mean,test_score_std,mean_revert_flag,p_metrics['pi_lower'].values[0],p_metrics['pi_upper'].values[0]]\n",
    "#screener['Adj Close'].loc[decision_metrics_df.index]"
   ]
  },
  {
   "cell_type": "code",
   "execution_count": null,
   "id": "f2c39487-0321-4d3e-94f9-ae163abafb33",
   "metadata": {},
   "outputs": [],
   "source": []
  },
  {
   "cell_type": "code",
   "execution_count": null,
   "id": "a0fcedb9-fc57-4852-9bc6-dd38793ae013",
   "metadata": {},
   "outputs": [],
   "source": [
    "mpl.rcParams['figure.figsize'] = (8, 6)\n",
    "mpl.rcParams['axes.grid'] = False\n",
    "\n",
    "#tscv = expanding_window(initial =52*2, horizon = 13,period = 26)\n",
    "\n",
    "#batchClearLimit = round(len(list__)/7)\n",
    "\n",
    "print(\"adf < .05 or .01, mean reverting\")\n",
    "print(\"Hurst\")\n",
    "print(\"> .5 - The time series is mean reverting.\")\n",
    "print(\"= .5 - The time series is a Geometric Brownian Motion.\")\n",
    "print(\"< .5 - The time series is trending.\")\n",
    "\"\"\"*indexes['Symbol'].values,*sectors['Symbol'].values,\"\"\"\n",
    "\"\"\"\n",
    "widgets.Dropdown(\n",
    "    #options=stocks_,\n",
    "    #value=None,\n",
    "    description='Choose Stock:',\n",
    "    disabled=False,\n",
    ")\n",
    "\n",
    "#y_=widgets.Select(options=stocks_,disabled=False)\n",
    "y_=widgets.Select(options=np.sort([*list_sector_n_indexes,*list_stocks]),value=None,disabled=False)\n",
    "\n",
    "a=interact(plot_,symbol_=y_)\n",
    "\"\"\""
   ]
  },
  {
   "cell_type": "code",
   "execution_count": null,
   "id": "c93930c9-b48a-4210-8bb1-548985765530",
   "metadata": {},
   "outputs": [],
   "source": []
  },
  {
   "cell_type": "code",
   "execution_count": null,
   "id": "128ef090-f524-44f4-931d-41bdb26338b2",
   "metadata": {},
   "outputs": [],
   "source": []
  },
  {
   "cell_type": "code",
   "execution_count": null,
   "id": "ebbef826-dcaf-4e7e-bb8a-e601fc41b7bb",
   "metadata": {},
   "outputs": [],
   "source": []
  },
  {
   "cell_type": "code",
   "execution_count": null,
   "id": "bc2c975e-e0d8-4b90-9e56-81c8f8a6ec7a",
   "metadata": {},
   "outputs": [],
   "source": [
    "observer_set = [*[d for d in dict_sectors_reverse]][:-1]"
   ]
  },
  {
   "cell_type": "code",
   "execution_count": null,
   "id": "af39fd0e-7ff4-452e-88a4-6a2cffe8d657",
   "metadata": {},
   "outputs": [],
   "source": []
  },
  {
   "cell_type": "code",
   "execution_count": null,
   "id": "3449d260-c085-4d31-8f21-4fb6f7361281",
   "metadata": {},
   "outputs": [],
   "source": []
  },
  {
   "cell_type": "code",
   "execution_count": null,
   "id": "077bf6ff-84c6-4344-98dc-33f23d3112c4",
   "metadata": {},
   "outputs": [],
   "source": [
    "\n",
    "df = prices_df[prices_df['Symbol']=='SPY'][['Adj Close']].asfreq('D').interpolate(method='time').asfreq('W-'+end.strftime('%a')).reset_index()\n",
    "df.columns = ['ds','y']\n",
    "\n",
    "m = Prophet()\n",
    "#m = MultiProphet(columns=observer_set)\n",
    "\n",
    "for o in observer_set:\n",
    "    temp = prices_df[prices_df['Symbol']==o][['Adj Close']].asfreq('D').interpolate(method='time').asfreq('W-'+end.strftime('%a')).reset_index()[['Adj Close']]\n",
    "    temp.columns = [o]\n",
    "    \n",
    "    df = pd.concat([df,temp],axis=1)\n",
    "    \n",
    "#plt.plot(df['y'])\n",
    "\n",
    "m.fit(df[['ds','y']])\n",
    "future_ = m.make_future_dataframe(periods = 14,freq='W-'+nyse_dates.index[-1].strftime('%a')).tail(13)\n",
    "\n",
    "forecast = m.predict(future_).set_index('ds')[['yhat','yhat_lower','yhat_upper']]\n",
    "\n",
    "m.plot(forecast.reset_index())"
   ]
  },
  {
   "cell_type": "code",
   "execution_count": null,
   "id": "d9a61915-f490-4ca9-8b4a-084fa7447646",
   "metadata": {},
   "outputs": [],
   "source": [
    "#VARMAX\n",
    "\n",
    "dates = [pd.to_datetime(d).value for d in df['ds']]\n",
    "dates = np.array(dates)-np.array(dates[0])/10**11\n",
    "dates=dates-dates.min()\n",
    "dates = [int((d/10**11)/32) for d in dates]\n",
    "\n",
    "orders = []\n",
    "for p in range(1,13):\n",
    "    for q in range(1,13):\n",
    "        orders.append([p,q])\n",
    "\n",
    "        \n",
    "#cnn reqs #s\n",
    "df2 = df.copy()\n",
    "df2['ds'] = dates\n",
    "\n",
    "df2.index=[pd.Timestamp(d).strftime('%Y-%m-%d') for d in df['ds'].values]\n"
   ]
  },
  {
   "cell_type": "code",
   "execution_count": null,
   "id": "7ba87780-bcc1-4cda-981b-16c2669b44cf",
   "metadata": {},
   "outputs": [],
   "source": []
  },
  {
   "cell_type": "code",
   "execution_count": null,
   "id": "09ee6911-fedd-4033-9963-ceb18190062d",
   "metadata": {},
   "outputs": [],
   "source": [
    "#VARMAX\n",
    "\n",
    "\n",
    "quarterly_13_index = []\n",
    "for i in range(df.index[0],df.index[-1],13):\n",
    "    quarterly_13_index.append(i)\n",
    "    \n",
    "#add delta of last two records\n",
    "quarterly_13_index = np.array(quarterly_13_index) + df.index[-1]-quarterly_13_index[-1]  \n",
    "\n",
    "\"\"\"\n",
    "for o in orders:\n",
    "    model = VARMAX(df2,order=o)\n",
    "    model_fit = model.fit(disp=False)\n",
    "    yhat = model_fit.forecast(n_ahead)\n",
    "    print(yhat)\n",
    "\"\"\"\n",
    "\n",
    "\"\"\"\n",
    "from zca import zca\n",
    "zca = zca.ZCA()\n",
    "zca.fit(df.set_index('ds').iloc[quarterly_13_index])\n",
    "\n",
    "\n",
    "model = VARMAX(zca.fit_transform(df.set_index('ds').iloc[quarterly_13_index]),order=(1,1))\n",
    "model_fit = model.fit(disp=False)\n",
    "yhat = model_fit.forecast(n_ahead)        \n",
    "\"\"\""
   ]
  },
  {
   "cell_type": "code",
   "execution_count": null,
   "id": "bba1dd10-10df-4a92-93cf-1a9729758d66",
   "metadata": {},
   "outputs": [],
   "source": []
  },
  {
   "cell_type": "code",
   "execution_count": null,
   "id": "8a179328-9cac-4994-81e1-c75a02becea5",
   "metadata": {},
   "outputs": [],
   "source": []
  },
  {
   "cell_type": "code",
   "execution_count": null,
   "id": "237c1352-fe82-4bc3-9f52-024a109eafbd",
   "metadata": {},
   "outputs": [],
   "source": []
  },
  {
   "cell_type": "code",
   "execution_count": null,
   "id": "95de53c8-30de-4390-b18e-b7a08889b5b8",
   "metadata": {},
   "outputs": [],
   "source": []
  },
  {
   "cell_type": "code",
   "execution_count": null,
   "id": "0f945c6d-3b5d-43e7-9dd5-e21df54d8818",
   "metadata": {},
   "outputs": [],
   "source": []
  },
  {
   "cell_type": "code",
   "execution_count": null,
   "id": "e1d37b30-434b-4697-aa81-ee7cd232f329",
   "metadata": {},
   "outputs": [],
   "source": []
  },
  {
   "cell_type": "code",
   "execution_count": null,
   "id": "7506d564-c0ed-4836-9fe3-ef3ede60fe50",
   "metadata": {},
   "outputs": [],
   "source": [
    "df2.index"
   ]
  },
  {
   "cell_type": "code",
   "execution_count": null,
   "id": "1a94c89c-02eb-4d01-a3a5-bf551145d2ef",
   "metadata": {},
   "outputs": [],
   "source": []
  },
  {
   "cell_type": "code",
   "execution_count": null,
   "id": "618c15ca-bcbf-4c11-b5de-a0a44214485b",
   "metadata": {},
   "outputs": [],
   "source": []
  },
  {
   "cell_type": "code",
   "execution_count": null,
   "id": "e6bd7b7d-ec2e-4fd8-a316-264399b211c3",
   "metadata": {},
   "outputs": [],
   "source": []
  },
  {
   "cell_type": "code",
   "execution_count": null,
   "id": "18e8675e-2e97-49c1-a090-053c28da66ea",
   "metadata": {},
   "outputs": [],
   "source": [
    "#pd.concat([df_,fred_data])"
   ]
  },
  {
   "cell_type": "code",
   "execution_count": null,
   "id": "64b7f9fe-837c-435f-a380-c2d693693ae0",
   "metadata": {},
   "outputs": [],
   "source": [
    "#df_ = df.iloc[quarterly_13_index]\n",
    "\n",
    "fred_data = completed_fred_pvt_df.asfreq('d').interpolate(method='time')\n",
    "\n",
    "#fred_data = fred_data.iloc[df_.index].dropna(axis=1, thresh = int(0.95*fred_data.shape[0]))\n",
    "fred_data.index=[pd.Timestamp(d).strftime('%Y-%m-%d') for d in fred_data.index]\n",
    "\n",
    "#combined_fred_sectors_sp500 = pd.concat([df2.iloc[quarterly_13_index],fred_data.loc[df2.iloc[quarterly_13_index].index]],axis=1)\n",
    "combined_fred_sectors_sp500 = pd.concat([df2,fred_data.loc[df2.index]],axis=1)\n",
    "\"\"\"\n",
    "df_['ds'] = [int(d/32) for d in df_['ds']]\n",
    "df_.columns\n",
    "\n",
    "df_ = pd.concat([df_,fred_data],axis=1)\n",
    "#df_ = df_.apply(np.log)\n",
    "\"\"\""
   ]
  },
  {
   "cell_type": "code",
   "execution_count": null,
   "id": "cef5d830-8ff0-4e53-a113-e99a86e87e0c",
   "metadata": {},
   "outputs": [],
   "source": []
  },
  {
   "cell_type": "code",
   "execution_count": null,
   "id": "b6f87187-4a9e-47b4-a9ec-ffd0cf66d9d9",
   "metadata": {},
   "outputs": [],
   "source": [
    "from sklearn.preprocessing import PowerTransformer\n",
    "power = PowerTransformer(method='yeo-johnson')\n",
    "\n",
    "def stable_sigmoid(x):\n",
    "\n",
    "    sig = np.where(x < 0, np.exp(x)/(1 + np.exp(x)), 1/(1 + np.exp(-x)))\n",
    "    return sig\n",
    "\n",
    "def inverse_sigmoid(x):\n",
    "    inv_sig = -np.log((1 / (x + 1e-8)) - 1)\n",
    "    return inv_sig\n",
    "\n",
    "#from sklearn.preprocessing import MinMaxScaler\n",
    "#scaler = MinMaxScaler()\n",
    "\n",
    "df_ = combined_fred_sectors_sp500\n",
    "\n",
    "df_.dropna(axis=1, thresh = int(1*df_.shape[0]), inplace=True)\n",
    "subset_df_ = df_[[\n",
    "    'ds',\n",
    "    'y',\n",
    "    'VAW',\n",
    "    'VOX',\n",
    "    'VCR',\n",
    "    'VDC',\n",
    "    'VDE',\n",
    "    'VFH',\n",
    "    'VHT',\n",
    "    'VIS',\n",
    "    'VNQ',\n",
    "    'VGT',\n",
    "    'VPU',\n",
    "    'DGS3MO',\n",
    "    'DGS2',\n",
    "    'DGS10'\n",
    "    #'USALOLITONOSTSAM',\n",
    "    #'BUSLOANS',\n",
    "    #'CPIAUCSL'\n",
    "]]\n",
    "\n",
    "power.fit(np.array(subset_df_))\n",
    "\n",
    "#from zca import zca\n",
    "#from zca.zca import ZCA\n",
    "#zca = zca.ZCA()\n",
    "#from zca import ZCA\n",
    "\n",
    "#trf = ZCA().fit(np.array(subset_df_))\n",
    "#X_whitened = trf.transform(np.array(subset_df_))\n",
    "\n",
    "#df_t = pd.DataFrame(X_whitened,columns=subset_df_.columns)\n",
    "\n",
    "df_t = pd.DataFrame(stable_sigmoid(power.transform(np.array(subset_df_))),columns=subset_df_.columns)"
   ]
  },
  {
   "cell_type": "code",
   "execution_count": null,
   "id": "a0c70e7d-1c9a-4bb6-9813-cccacee3958e",
   "metadata": {},
   "outputs": [],
   "source": []
  },
  {
   "cell_type": "code",
   "execution_count": null,
   "id": "293b57f2-8040-4b67-a099-748e17d48bc7",
   "metadata": {},
   "outputs": [],
   "source": []
  },
  {
   "cell_type": "code",
   "execution_count": null,
   "id": "e473cc2f-5518-4cbb-aa39-b6ba80ed69ac",
   "metadata": {},
   "outputs": [],
   "source": []
  },
  {
   "cell_type": "code",
   "execution_count": null,
   "id": "cc252b5c-50c6-49c2-875b-40f223f084fc",
   "metadata": {},
   "outputs": [],
   "source": []
  },
  {
   "cell_type": "code",
   "execution_count": null,
   "id": "52e2fd98-df1f-476a-8374-d55400a6fb45",
   "metadata": {},
   "outputs": [],
   "source": []
  },
  {
   "cell_type": "code",
   "execution_count": null,
   "id": "7ab96429-fa16-4bc4-bbdb-94f296f5451a",
   "metadata": {},
   "outputs": [],
   "source": []
  },
  {
   "cell_type": "code",
   "execution_count": null,
   "id": "822f4e7e-4388-4e93-b774-aaad8ab28724",
   "metadata": {},
   "outputs": [],
   "source": []
  },
  {
   "cell_type": "code",
   "execution_count": null,
   "id": "07f24a43-c400-4054-af99-228fbbb7a7a5",
   "metadata": {},
   "outputs": [],
   "source": [
    "#future_commodities_n_w_index_pvt_w_Fred"
   ]
  },
  {
   "cell_type": "code",
   "execution_count": null,
   "id": "993763bf-e20c-4a75-9fda-11c4c2860233",
   "metadata": {},
   "outputs": [],
   "source": []
  },
  {
   "cell_type": "code",
   "execution_count": null,
   "id": "3224995c-b431-4a7d-a1a5-18703d39f860",
   "metadata": {},
   "outputs": [],
   "source": []
  },
  {
   "cell_type": "code",
   "execution_count": null,
   "id": "0ccbe0ca-be30-4038-848d-24b17a8b04ed",
   "metadata": {},
   "outputs": [],
   "source": []
  },
  {
   "cell_type": "code",
   "execution_count": null,
   "id": "5b3fc61e-7b2f-4b74-9d1b-f171006ad40f",
   "metadata": {},
   "outputs": [],
   "source": [
    "\n",
    "# multivariate multi-step encoder-decoder lstm example\n",
    "\n",
    " \n",
    "\n",
    "#not used atm\n",
    "# define input sequence\n",
    "in_seq = []\n",
    "for s in range(0,len(df_.columns)):\n",
    "    in_seq.append([np.array(df_.iloc[:,[s]])])\n"
   ]
  },
  {
   "cell_type": "code",
   "execution_count": null,
   "id": "8733b064-a867-4153-a047-56a41aa75c2b",
   "metadata": {},
   "outputs": [],
   "source": []
  },
  {
   "cell_type": "code",
   "execution_count": null,
   "id": "a45edafd-473e-4e88-b8fe-97851a023bcc",
   "metadata": {},
   "outputs": [],
   "source": [
    "# multivariate multi-step stacked lstm example\n",
    "# split a multivariate sequence into samples\n",
    "\n",
    "# split a multivariate sequence into samples\n",
    "def split_sequences(sequences, n_steps_in, n_steps_out):\n",
    "\tX, y = list(), list()\n",
    "\tfor i in range(len(sequences)):\n",
    "\t\t# find the end of this pattern\n",
    "\t\tend_ix = i + n_steps_in\n",
    "\t\tout_end_ix = end_ix + n_steps_out\n",
    "\t\t# check if we are beyond the dataset\n",
    "\t\tif out_end_ix > len(sequences):\n",
    "\t\t\tbreak\n",
    "\t\t# gather input and output parts of the pattern\n",
    "\t\tseq_x, seq_y = sequences[i:end_ix, 0:2], sequences[end_ix-1:out_end_ix, 1][1:3]\n",
    "\t\tX.append(seq_x)\n",
    "\t\ty.append(seq_y)\n",
    "\treturn array(X), array(y)\n",
    "     \n",
    "# define input sequence\n"
   ]
  },
  {
   "cell_type": "code",
   "execution_count": null,
   "id": "e250b6a9-6812-414f-adcc-d6b0aa4cfb4a",
   "metadata": {},
   "outputs": [],
   "source": []
  },
  {
   "cell_type": "code",
   "execution_count": null,
   "id": "559e1541-296d-4585-8906-d5d8579d2d58",
   "metadata": {},
   "outputs": [],
   "source": []
  },
  {
   "cell_type": "code",
   "execution_count": null,
   "id": "f7a61e87-3154-4443-b90f-5099d03934e8",
   "metadata": {},
   "outputs": [],
   "source": []
  },
  {
   "cell_type": "code",
   "execution_count": null,
   "id": "31ec7b97-a352-4619-b298-782037cb39d4",
   "metadata": {},
   "outputs": [],
   "source": []
  },
  {
   "cell_type": "code",
   "execution_count": null,
   "id": "ccfc1fb7-783a-4da1-b15f-aa93744f67ef",
   "metadata": {},
   "outputs": [],
   "source": []
  },
  {
   "cell_type": "code",
   "execution_count": null,
   "id": "abafc51c-f333-45ea-b8e9-590488c563dd",
   "metadata": {},
   "outputs": [],
   "source": []
  },
  {
   "cell_type": "code",
   "execution_count": null,
   "id": "ac93501b-515f-491d-96d7-b2bbe4d9e10a",
   "metadata": {},
   "outputs": [],
   "source": []
  },
  {
   "cell_type": "code",
   "execution_count": null,
   "id": "1a7a4ee0-6dd9-4453-a0b3-9737338be882",
   "metadata": {},
   "outputs": [],
   "source": []
  },
  {
   "cell_type": "code",
   "execution_count": null,
   "id": "1bdc0d8f-4eca-4d56-8c55-8ab954860ee8",
   "metadata": {},
   "outputs": [],
   "source": [
    "#yhat"
   ]
  },
  {
   "cell_type": "code",
   "execution_count": null,
   "id": "9bc799d4-f39e-4342-b8fd-f3147dc663fb",
   "metadata": {},
   "outputs": [],
   "source": []
  },
  {
   "cell_type": "code",
   "execution_count": null,
   "id": "3cd72ed6-4621-45f7-889f-5c1230c3e576",
   "metadata": {},
   "outputs": [],
   "source": []
  },
  {
   "cell_type": "code",
   "execution_count": null,
   "id": "f4749c78-2d4b-4a8d-a6a4-3a37954dcf03",
   "metadata": {},
   "outputs": [],
   "source": []
  },
  {
   "cell_type": "code",
   "execution_count": null,
   "id": "253b9f49-5585-417b-a8cd-7eddcd887d88",
   "metadata": {},
   "outputs": [],
   "source": []
  },
  {
   "cell_type": "code",
   "execution_count": null,
   "id": "73e15144-ff75-4243-9ee2-a23a7b8e04cd",
   "metadata": {},
   "outputs": [],
   "source": [
    "#np.exp(np.log(10))"
   ]
  },
  {
   "cell_type": "code",
   "execution_count": null,
   "id": "f2d5f4f1-5405-4db6-89cb-6441ce4d5feb",
   "metadata": {},
   "outputs": [],
   "source": [
    "#X_reconstructed = X_whitened)\n",
    "#assert(np.allclose(X, X_reconstructed)) # True\n"
   ]
  },
  {
   "cell_type": "code",
   "execution_count": null,
   "id": "6a402eec-421d-4730-bbab-d9937f64fbd8",
   "metadata": {},
   "outputs": [],
   "source": []
  },
  {
   "cell_type": "code",
   "execution_count": null,
   "id": "c2e847be-2eb1-4f8e-9a3a-9f8aebf03bb1",
   "metadata": {},
   "outputs": [],
   "source": []
  },
  {
   "cell_type": "code",
   "execution_count": null,
   "id": "e23186b8-d250-4adc-a611-0998baaef097",
   "metadata": {},
   "outputs": [],
   "source": []
  },
  {
   "cell_type": "code",
   "execution_count": null,
   "id": "a81cb7fc-14d0-4525-ba35-2f3b1f55734a",
   "metadata": {},
   "outputs": [],
   "source": []
  },
  {
   "cell_type": "code",
   "execution_count": null,
   "id": "f7acbd34-bac2-4086-85db-e33eb1dd1a32",
   "metadata": {},
   "outputs": [],
   "source": []
  },
  {
   "cell_type": "code",
   "execution_count": null,
   "id": "3ccfbbd2-6780-43b3-9df4-5ecf10444345",
   "metadata": {},
   "outputs": [],
   "source": []
  },
  {
   "cell_type": "code",
   "execution_count": null,
   "id": "649b3146-08bb-43ce-b084-b596d98b0524",
   "metadata": {},
   "outputs": [],
   "source": []
  },
  {
   "cell_type": "code",
   "execution_count": null,
   "id": "ecc3d4ea-a9cc-42b4-a778-b7ed40306341",
   "metadata": {},
   "outputs": [],
   "source": [
    "\n",
    "#import numpy as np\n",
    "#X = np.random.random((10000, 15)) # data array\n",
    "#trf = ZCA().fit(X)\n",
    "#X_whitened = trf.transform(X)\n",
    "#X_reconstructed = zca.inverse_transform(yhat[0][0][:-1].re.shape(1, -1))\n",
    "#assert(np.allclose(X, X_reconstructed)) # True"
   ]
  },
  {
   "cell_type": "code",
   "execution_count": null,
   "id": "7cdf59d4-602c-40a0-a929-d48ddb871df5",
   "metadata": {},
   "outputs": [],
   "source": []
  },
  {
   "cell_type": "code",
   "execution_count": null,
   "id": "d1bd00ef-395a-45b5-972f-c4000dc34009",
   "metadata": {},
   "outputs": [],
   "source": []
  },
  {
   "cell_type": "code",
   "execution_count": null,
   "id": "8be15e5c-af62-4c56-926a-39f85b7e302d",
   "metadata": {},
   "outputs": [],
   "source": []
  },
  {
   "cell_type": "code",
   "execution_count": null,
   "id": "f7f5708a-f448-458b-b3de-0ae595202811",
   "metadata": {},
   "outputs": [],
   "source": [
    "#plt.plot(df_.iloc[-1][1:n_features])\n",
    "#plt.plot(yhat[0][-1])"
   ]
  },
  {
   "cell_type": "code",
   "execution_count": null,
   "id": "987bc4c0-96e6-467c-84d6-9ba47d8bcc8c",
   "metadata": {},
   "outputs": [],
   "source": []
  },
  {
   "cell_type": "code",
   "execution_count": null,
   "id": "e0702428-bc9a-4c3d-8843-1091543021af",
   "metadata": {},
   "outputs": [],
   "source": []
  },
  {
   "cell_type": "code",
   "execution_count": null,
   "id": "018ba427-6773-4fc3-98c8-8f3a1c7444bd",
   "metadata": {},
   "outputs": [],
   "source": []
  },
  {
   "cell_type": "code",
   "execution_count": null,
   "id": "b16571ca-2c75-4ef5-8ffc-7dad68cfd6c5",
   "metadata": {},
   "outputs": [],
   "source": [
    "#pd.DataFrame(X[-1])"
   ]
  },
  {
   "cell_type": "code",
   "execution_count": null,
   "id": "7f927440-540d-47f2-a782-30bae0d31184",
   "metadata": {},
   "outputs": [],
   "source": []
  },
  {
   "cell_type": "code",
   "execution_count": null,
   "id": "2451f8ab-9ee8-4035-b4d3-3388d12434d0",
   "metadata": {},
   "outputs": [],
   "source": []
  },
  {
   "cell_type": "code",
   "execution_count": null,
   "id": "feeca09b-4390-4b37-a760-355f3ae09fd7",
   "metadata": {},
   "outputs": [],
   "source": []
  },
  {
   "cell_type": "code",
   "execution_count": null,
   "id": "ede37b33-94e2-455a-b576-dd112c7fb213",
   "metadata": {},
   "outputs": [],
   "source": []
  },
  {
   "cell_type": "code",
   "execution_count": null,
   "id": "c9687691-8d0b-4f2f-ae5f-01c7d598ee4c",
   "metadata": {},
   "outputs": [],
   "source": []
  },
  {
   "cell_type": "code",
   "execution_count": null,
   "id": "5f3e98bd-51a0-448a-9734-44d916a5e2ac",
   "metadata": {},
   "outputs": [],
   "source": []
  },
  {
   "cell_type": "code",
   "execution_count": null,
   "id": "1b24f119-10bd-4c6d-8abb-4611f38c48c4",
   "metadata": {},
   "outputs": [],
   "source": []
  },
  {
   "cell_type": "code",
   "execution_count": null,
   "id": "f08f7077-7cd6-49b1-99d6-045da9d54677",
   "metadata": {},
   "outputs": [],
   "source": []
  },
  {
   "cell_type": "code",
   "execution_count": null,
   "id": "bfc80fb9-1722-46f0-b87c-e64fb612b812",
   "metadata": {},
   "outputs": [],
   "source": []
  },
  {
   "cell_type": "code",
   "execution_count": null,
   "id": "a120addd-a1b3-437a-a691-c9f88cc05b0d",
   "metadata": {},
   "outputs": [],
   "source": []
  },
  {
   "cell_type": "code",
   "execution_count": null,
   "id": "9c3cf869-88d5-4eab-9920-ea134b5dde03",
   "metadata": {},
   "outputs": [],
   "source": [
    "\n",
    "\"\"\"\n",
    "m = Prophet()\n",
    "#m = MultiProphet(columns=observer_set)\n",
    "\n",
    "for o in observer_set:\n",
    "    temp = prices_df[prices_df['Symbol']==o][['Adj Close']].asfreq('D').interpolate(method='time').asfreq('W-'+end.strftime('%a')).reset_index()[['Adj Close']]\n",
    "    temp.columns = [o]\n",
    "    \n",
    "    df = pd.concat([df,temp],axis=1)\n",
    "\n",
    "for o in observer_set:\n",
    "    m.add_regressor(o)\n",
    "    \n",
    "    \n",
    "m.fit(df)\n",
    "\n",
    "#have to have future values, pretty much multiple regression (find stationary (cv tested?) ccf lead/lag? values)\n",
    "future_ = m.make_future_dataframe(periods = 14,freq='W-'+end.strftime('%a')).tail(13)\n",
    "forecast = m.predict(pd.concat([df.set_index('ds')[observer_set],future_.set_index('ds')],axis=0).reset_index().dropna()).set_index('ds')\n",
    "\n",
    "m.plot(forecast.reset_index())\n",
    "    \n",
    "#plt.plot(df['y'])\n",
    "\"\"\""
   ]
  },
  {
   "cell_type": "code",
   "execution_count": null,
   "id": "27a14834-b9a1-47c7-be49-87764f699324",
   "metadata": {},
   "outputs": [],
   "source": []
  },
  {
   "cell_type": "code",
   "execution_count": null,
   "id": "f680a334-faa2-4fe7-bdcb-9e06c9b51e64",
   "metadata": {},
   "outputs": [],
   "source": []
  },
  {
   "cell_type": "code",
   "execution_count": null,
   "id": "cb6caa00-54b5-45d1-8180-395050b35964",
   "metadata": {},
   "outputs": [],
   "source": [
    "A = pd.pivot_table(prices_df, values=['Adj Close'], index=prices_df.index,columns=['Symbol']).asfreq('D').interpolate(method='time').asfreq('W-'+end.strftime('%a'))\n",
    "A.columns = A.columns.droplevel(0)\n",
    "A = A[[*sectors['Symbol'].values,*indexes['Symbol'].values]]\n",
    "B = completed_fred_pvt_df[fred_names].asfreq('D').interpolate(method='time').asfreq('W-'+end.strftime('%a')).dropna()\n",
    "#B.columns = B.columns.droplevel(0)\n",
    "C = future_commodities_n_w_index_pvt_w_Fred.asfreq('D').interpolate().asfreq('W-'+end.strftime('%a'))\n",
    "A.join(B).join(C).to_csv('..\\\\data\\\\processed\\\\weekly_stocks_w_fred_n_commodities.csv')"
   ]
  },
  {
   "cell_type": "code",
   "execution_count": null,
   "id": "ca27382f-ba19-4183-a194-bcef3ecf80b3",
   "metadata": {},
   "outputs": [],
   "source": [
    "len(filtered_screener_sorted)"
   ]
  },
  {
   "cell_type": "code",
   "execution_count": null,
   "id": "0526ba40-0c06-496b-a60f-fdaef16a7cb5",
   "metadata": {
    "tags": []
   },
   "outputs": [],
   "source": [
    "def process_values(values):\n",
    "    \n",
    "    sector_list = []\n",
    "    symbol_list = []\n",
    "    for i in np.array(values):\n",
    "        t= dict_sectors[i]\n",
    "        sector_list.append(t)\n",
    "        \n",
    "        sublist = filtered_screener_sorted[filtered_screener_sorted['Sector Symbol']==t].index\n",
    "        temp_df = filtered_screener_sorted.loc[sublist]\n",
    "        #temp_df_ = temp_df['risk_trend_factor'].replace(['error','missing'], np.nan).dropna()\n",
    "        \n",
    "        #temp_df_filtered = temp_df_[temp_df_>0]\n",
    "        \n",
    "        flat_list = [item for item in temp_df.index]\n",
    "        symbol_list.extend(flat_list)        \n",
    "    \n",
    "    button = widgets.Button(description=\"Process\")\n",
    "    output = widgets.Output()\n",
    "\n",
    "    display(button, output)\n",
    "\n",
    "    print(\"Symbols > 1 (50td_tvf_vel + risk_trend_factor)\")\n",
    "    print(len(sector_list),sector_list)\n",
    "    print(len(symbol_list),symbol_list)\n",
    "    \n",
    "    def on_button_clicked(b):\n",
    "        with output:            \n",
    "            plot_(symbol_list)\n",
    "\n",
    "    button.on_click(on_button_clicked)    \n",
    "    \n",
    "    \n",
    "y_=widgets.SelectMultiple(\n",
    "    options=list(dict_sectors.keys()),\n",
    "    description='Choose Sectors: ',\n",
    "    disabled=False)\n",
    "\n",
    "a=interact(process_values,values=y_)\n",
    "    "
   ]
  },
  {
   "cell_type": "code",
   "execution_count": null,
   "id": "08d84cc2-b80b-40d8-b615-9a4429c1c4a7",
   "metadata": {},
   "outputs": [],
   "source": []
  },
  {
   "cell_type": "code",
   "execution_count": null,
   "id": "4c4af2c1-bc8d-4ffd-90a3-d42460ab1f7a",
   "metadata": {},
   "outputs": [],
   "source": []
  },
  {
   "cell_type": "code",
   "execution_count": null,
   "id": "fba99821-8eb1-427b-a706-d523f74d7f78",
   "metadata": {
    "tags": []
   },
   "outputs": [],
   "source": [
    "decision_metrics_df = pd.read_csv('..\\\\data\\\\processed\\\\'+end.strftime('%Y-%m-%d')+'_decision_metrics_df.csv')\n",
    "decision_metrics_df.set_index(decision_metrics_df.iloc[:, 0],inplace=True)\n",
    "\n",
    "counts_df = pd.DataFrame(decision_metrics_df['Sector'].value_counts())\n",
    "\n",
    "print(counts_df)\n",
    "fig, ax = plt.subplots()\n",
    "ax.pie(counts_df['Sector'], labels=counts_df.index)\n",
    "ax.set_title('Sector Participartion > (50td_tvf_vel + risk_trend_factor) of 0')\n",
    "plt.tight_layout()\n",
    "plt.savefig('..\\\\reports\\\\figures\\\\'+end.strftime('%Y-%m-%d')+'_piechart-sectors.png', dpi=300, format='png', bbox_inches='tight')"
   ]
  },
  {
   "cell_type": "code",
   "execution_count": null,
   "id": "8d95bca4-2b67-429b-8285-c5d28d320785",
   "metadata": {},
   "outputs": [],
   "source": [
    "\n",
    "prices_pvt_wk = pd.pivot_table(prices_df, values=['Adj Close'], index=prices_df.index,columns=['Symbol']).asfreq('d').interpolate(method='time').asfreq('W-'+nyse_dates.index[-1].strftime('%a'))\n",
    "prices_pvt_wk.columns = prices_pvt_wk.columns.droplevel(0)\n"
   ]
  },
  {
   "cell_type": "code",
   "execution_count": null,
   "id": "3e71c0d4-6268-41e6-8d53-473e6e3edbe3",
   "metadata": {},
   "outputs": [],
   "source": []
  },
  {
   "cell_type": "code",
   "execution_count": null,
   "id": "4d21de0e-8726-45dd-982c-0bb8d01817eb",
   "metadata": {},
   "outputs": [],
   "source": [
    "\n",
    "c_df = prices_pvt_wk.corr()\n",
    "c_df.sort_values(by='SPY',inplace=True,ascending=False,axis=1)\n",
    "c_df.sort_values(by='SPY',inplace=True,ascending=False,axis=0)\n",
    "c_df.to_csv('..\\\\reports\\\\'+end.strftime('%Y-%m-%d')+'_corr_5_yr_prices_pvt_wk.csv')"
   ]
  },
  {
   "cell_type": "code",
   "execution_count": null,
   "id": "c8edbe29-7393-42d2-8729-cd1bad2cb72b",
   "metadata": {},
   "outputs": [],
   "source": []
  },
  {
   "cell_type": "code",
   "execution_count": null,
   "id": "e8298663-0813-465b-8044-251da8d62ac1",
   "metadata": {},
   "outputs": [],
   "source": [
    "\"\"\"\n",
    "from vevestaX import vevesta as v\n",
    "\n",
    "try:\n",
    "    V=v.Experiment(speedUp = True)\n",
    "    V.start()\n",
    "    V.ds=decision_metrics_df\n",
    "    V.fe=decision_metrics_df\n",
    "    V.end()\n",
    "    V.dump(techniqueUsed='fbprophet',filename='..\\\\reports\\\\'+end.strftime('%Y-%m-%d')+'_decision_metrics_df.xlsx',message=\"EDA-fbprophet-nested-CV\",version=1)\n",
    "    os.rename('EDA.pdf','..\\\\reports\\\\'+end.strftime('%Y-%m-%d')+'_decision_metrics_df.pdf')\n",
    "    #os.remove('EDA.pdf')\n",
    "except:\n",
    "    pass\n",
    "\n",
    "try:\n",
    "    V=v.Experiment()\n",
    "    V.start()\n",
    "    V.ds=fred_pvt_sample\n",
    "    V.fe=fred_pvt_sample\n",
    "    V.end()\n",
    "    V.dump(techniqueUsed='fred_data',filename='..\\\\reports\\\\'+end.strftime('%Y-%m-%d')+'_completed_fred_pvt.xlsx',message=\"EDA-fred\",version=2)\n",
    "    os.rename('EDA.pdf','..\\\\reports\\\\'+end.strftime('%Y-%m-%d')+'_completed_fred_pvt.pdf')\n",
    "    \n",
    "except:\n",
    "    pass\n",
    "\n",
    "try:\n",
    "    V=v.Experiment()\n",
    "    V.start()\n",
    "    V.ds=prices_pvt_wk[filtered_screener_sorted.index]\n",
    "    V.fe=prices_pvt_wk[filtered_screener_sorted.index]\n",
    "    V.end()\n",
    "    V.dump(techniqueUsed='price_data',filename='..\\\\reports\\\\'+end.strftime('%Y-%m-%d')+'_completed_prices_pvt_wk.xlsx',message=\"EDA-prices\",version=3)\n",
    "    os.rename('EDA.pdf','..\\\\reports\\\\'+end.strftime('%Y-%m-%d')+'_completed_prices_pvt_wk.pdf')\n",
    "except:\n",
    "    pass\n",
    "\"\"\"\n"
   ]
  },
  {
   "cell_type": "code",
   "execution_count": null,
   "id": "602598b5-84c9-4685-ae45-40ecc992bb2d",
   "metadata": {},
   "outputs": [],
   "source": []
  },
  {
   "cell_type": "code",
   "execution_count": null,
   "id": "70399d47-07ec-4e2d-98f8-ebd9460ab980",
   "metadata": {},
   "outputs": [],
   "source": []
  },
  {
   "cell_type": "code",
   "execution_count": null,
   "id": "18fcd37b-e001-4f83-a746-3d71f50189d1",
   "metadata": {},
   "outputs": [],
   "source": []
  },
  {
   "cell_type": "code",
   "execution_count": null,
   "id": "e4ecd805-8b46-4cf7-a458-37a38ece109b",
   "metadata": {},
   "outputs": [],
   "source": []
  },
  {
   "cell_type": "code",
   "execution_count": null,
   "id": "5724c490-2b1d-4814-93e2-6b49dd051b5b",
   "metadata": {},
   "outputs": [],
   "source": []
  },
  {
   "cell_type": "code",
   "execution_count": null,
   "id": "0035a898-3346-45e1-babf-3cf735302212",
   "metadata": {},
   "outputs": [],
   "source": []
  },
  {
   "cell_type": "code",
   "execution_count": null,
   "id": "d1988288-7c28-4ea7-b6c2-bd7a62a9680c",
   "metadata": {},
   "outputs": [],
   "source": []
  },
  {
   "cell_type": "code",
   "execution_count": null,
   "id": "314f0eb1-61b0-4688-9c57-0769608b31df",
   "metadata": {},
   "outputs": [],
   "source": []
  },
  {
   "cell_type": "code",
   "execution_count": null,
   "id": "6449e787-9380-414a-8071-6789be0ec5a1",
   "metadata": {},
   "outputs": [],
   "source": []
  },
  {
   "cell_type": "code",
   "execution_count": null,
   "id": "b0a203bb-7593-4f4c-8fe5-fd0b5b7a827a",
   "metadata": {},
   "outputs": [],
   "source": []
  },
  {
   "cell_type": "code",
   "execution_count": null,
   "id": "355c60d6-a648-4553-91b6-079a7d279b75",
   "metadata": {},
   "outputs": [],
   "source": []
  },
  {
   "cell_type": "code",
   "execution_count": null,
   "id": "798491da-4b87-4320-9df1-e486e322db66",
   "metadata": {},
   "outputs": [],
   "source": []
  },
  {
   "cell_type": "code",
   "execution_count": null,
   "id": "3503b39a-5c13-42ef-9a70-1f29c5fd7970",
   "metadata": {},
   "outputs": [],
   "source": []
  },
  {
   "cell_type": "code",
   "execution_count": null,
   "id": "ed5a1e4a-5431-4387-8d69-290dab90ffb3",
   "metadata": {},
   "outputs": [],
   "source": []
  },
  {
   "cell_type": "code",
   "execution_count": null,
   "id": "8296b0c5-0c1b-404a-9720-80bbc9fb0d26",
   "metadata": {},
   "outputs": [],
   "source": []
  },
  {
   "cell_type": "code",
   "execution_count": null,
   "id": "16d7a1c7-ed09-4688-8445-bf6c4d046dda",
   "metadata": {},
   "outputs": [],
   "source": []
  },
  {
   "cell_type": "code",
   "execution_count": null,
   "id": "f06e9c1e-eb4b-4971-bee6-3068a36135e9",
   "metadata": {},
   "outputs": [],
   "source": []
  },
  {
   "cell_type": "code",
   "execution_count": null,
   "id": "0359b07d-be67-493a-8689-d74bc45ca26a",
   "metadata": {},
   "outputs": [],
   "source": []
  },
  {
   "cell_type": "code",
   "execution_count": null,
   "id": "4568abb2-b2b9-493a-99ee-e77813ccf43f",
   "metadata": {},
   "outputs": [],
   "source": []
  }
 ],
 "metadata": {
  "kernelspec": {
   "display_name": "Python 3 (ipykernel)",
   "language": "python",
   "name": "python3"
  },
  "language_info": {
   "codemirror_mode": {
    "name": "ipython",
    "version": 3
   },
   "file_extension": ".py",
   "mimetype": "text/x-python",
   "name": "python",
   "nbconvert_exporter": "python",
   "pygments_lexer": "ipython3",
   "version": "3.9.9"
  }
 },
 "nbformat": 4,
 "nbformat_minor": 5
}
