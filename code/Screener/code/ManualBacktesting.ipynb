{
 "cells": [
  {
   "cell_type": "code",
   "execution_count": null,
   "id": "39566202-83e0-4abd-9ff6-b1a1941fd57e",
   "metadata": {},
   "outputs": [],
   "source": [
    "import pandas as pd\n",
    "import numpy as np\n",
    "import yfinance as yf\n",
    "import matplotlib.pyplot as plt"
   ]
  },
  {
   "cell_type": "code",
   "execution_count": null,
   "id": "c36faa51-fb3a-40f2-8d7f-1208810aecea",
   "metadata": {},
   "outputs": [],
   "source": [
    "spy = yf.Ticker('SPY')\n",
    "hist = spy.history(period = '5y')\n",
    "pers = hist.loc[:,'Close'].apply(np.log).diff(1)"
   ]
  },
  {
   "cell_type": "code",
   "execution_count": null,
   "id": "7f751741-653c-4415-b683-7830c57445bb",
   "metadata": {},
   "outputs": [],
   "source": [
    "def sma(prices, period):\n",
    "    return prices.loc[:,'Close'].rolling(window=period).mean()"
   ]
  },
  {
   "cell_type": "code",
   "execution_count": null,
   "id": "3680dbf4-4ab5-44d7-bc23-c1072f39b132",
   "metadata": {},
   "outputs": [],
   "source": [
    "sma50 = sma(hist,50).fillna(0).shift(periods=1, fill_value=0)\n",
    "sma50[:200] = 0\n",
    "sma200 = sma(hist,200).fillna(0).shift(periods=1,fill_value=0)\n",
    "signal = sma50 - sma200\n",
    "sig = signal.apply(np.sign)"
   ]
  },
  {
   "cell_type": "code",
   "execution_count": null,
   "id": "df2cc725-8734-4682-962a-550e1cef5772",
   "metadata": {},
   "outputs": [],
   "source": [
    "returns = sig * pers\n",
    "print(returns.cumsum().apply(np.exp))"
   ]
  },
  {
   "cell_type": "code",
   "execution_count": null,
   "id": "a7cccc4e-803a-4cdb-ad88-aa2ebd8f8e4c",
   "metadata": {},
   "outputs": [],
   "source": [
    "prices = hist.loc[:,'Close'].to_numpy()\n",
    "running_sma50 = prices[150:200].mean()\n",
    "running_sma200 = prices[:200].mean()"
   ]
  },
  {
   "cell_type": "code",
   "execution_count": null,
   "id": "8deb5268-5885-4495-9670-d4837ad42dcd",
   "metadata": {},
   "outputs": [],
   "source": [
    "event = 0\n",
    "rets = [0]\n",
    "for i in range(200, hist.shape[0]):\n",
    "    rets.append(rets[-1] + (event * (pers.iloc[i])))\n",
    "    running_sma50+=(prices[i] - prices[i-50])/50\n",
    "    running_sma200+=(prices[i] - prices[i-200])/200\n",
    "    event = np.sign(running_sma50 - running_sma200)"
   ]
  },
  {
   "cell_type": "code",
   "execution_count": 24,
   "id": "0d37cbcb-e9ed-4c83-ba59-b94ad1d6e01e",
   "metadata": {},
   "outputs": [
    {
     "data": {
      "text/html": [
       "<div>\n",
       "<style scoped>\n",
       "    .dataframe tbody tr th:only-of-type {\n",
       "        vertical-align: middle;\n",
       "    }\n",
       "\n",
       "    .dataframe tbody tr th {\n",
       "        vertical-align: top;\n",
       "    }\n",
       "\n",
       "    .dataframe thead th {\n",
       "        text-align: right;\n",
       "    }\n",
       "</style>\n",
       "<table border=\"1\" class=\"dataframe\">\n",
       "  <thead>\n",
       "    <tr style=\"text-align: right;\">\n",
       "      <th></th>\n",
       "      <th>0</th>\n",
       "    </tr>\n",
       "  </thead>\n",
       "  <tbody>\n",
       "    <tr>\n",
       "      <th>0</th>\n",
       "      <td>223.709061</td>\n",
       "    </tr>\n",
       "    <tr>\n",
       "      <th>1</th>\n",
       "      <td>224.231689</td>\n",
       "    </tr>\n",
       "    <tr>\n",
       "      <th>2</th>\n",
       "      <td>224.240875</td>\n",
       "    </tr>\n",
       "    <tr>\n",
       "      <th>3</th>\n",
       "      <td>224.497589</td>\n",
       "    </tr>\n",
       "    <tr>\n",
       "      <th>4</th>\n",
       "      <td>225.561142</td>\n",
       "    </tr>\n",
       "    <tr>\n",
       "      <th>...</th>\n",
       "      <td>...</td>\n",
       "    </tr>\n",
       "    <tr>\n",
       "      <th>1253</th>\n",
       "      <td>426.649994</td>\n",
       "    </tr>\n",
       "    <tr>\n",
       "      <th>1254</th>\n",
       "      <td>427.890015</td>\n",
       "    </tr>\n",
       "    <tr>\n",
       "      <th>1255</th>\n",
       "      <td>422.140015</td>\n",
       "    </tr>\n",
       "    <tr>\n",
       "      <th>1256</th>\n",
       "      <td>413.350006</td>\n",
       "    </tr>\n",
       "    <tr>\n",
       "      <th>1257</th>\n",
       "      <td>412.350006</td>\n",
       "    </tr>\n",
       "  </tbody>\n",
       "</table>\n",
       "<p>1258 rows × 1 columns</p>\n",
       "</div>"
      ],
      "text/plain": [
       "               0\n",
       "0     223.709061\n",
       "1     224.231689\n",
       "2     224.240875\n",
       "3     224.497589\n",
       "4     225.561142\n",
       "...          ...\n",
       "1253  426.649994\n",
       "1254  427.890015\n",
       "1255  422.140015\n",
       "1256  413.350006\n",
       "1257  412.350006\n",
       "\n",
       "[1258 rows x 1 columns]"
      ]
     },
     "execution_count": 24,
     "metadata": {},
     "output_type": "execute_result"
    }
   ],
   "source": []
  },
  {
   "cell_type": "code",
   "execution_count": null,
   "id": "0f1ad2d2-ea72-431a-8a9d-dce8d225c3ab",
   "metadata": {},
   "outputs": [],
   "source": []
  },
  {
   "cell_type": "code",
   "execution_count": 30,
   "id": "4dfa2b99-f4de-4fbe-bb81-2b2db77ae116",
   "metadata": {},
   "outputs": [
    {
     "data": {
      "text/plain": [
       "[<matplotlib.lines.Line2D at 0x1d37dee1e80>]"
      ]
     },
     "execution_count": 30,
     "metadata": {},
     "output_type": "execute_result"
    },
    {
     "data": {
      "image/png": "[encoded data removed]",
      "text/plain": [
       "<Figure size 432x288 with 1 Axes>"
      ]
     },
     "metadata": {
      "needs_background": "light"
     },
     "output_type": "display_data"
    }
   ],
   "source": [
    "plt.plot(pd.DataFrame(prices))"
   ]
  },
  {
   "cell_type": "code",
   "execution_count": 28,
   "id": "a612dbf8-1bf3-4450-bd34-56a7bf825698",
   "metadata": {},
   "outputs": [
    {
     "data": {
      "text/plain": [
       "[<matplotlib.lines.Line2D at 0x1d37e103610>]"
      ]
     },
     "execution_count": 28,
     "metadata": {},
     "output_type": "execute_result"
    },
    {
     "data": {
      "image/png": "[encoded data removed]",
      "text/plain": [
       "<Figure size 432x288 with 1 Axes>"
      ]
     },
     "metadata": {
      "needs_background": "light"
     },
     "output_type": "display_data"
    }
   ],
   "source": [
    "plt.plot(np.exp(rets))"
   ]
  },
  {
   "cell_type": "code",
   "execution_count": null,
   "id": "584fb59a-e9d2-4001-981c-7f962e70877b",
   "metadata": {},
   "outputs": [],
   "source": [
    "from blankly import Alpaca, Interface, Strategy, StrategyState\n",
    "from blankly.indicators import sma\n",
    "\n",
    "def init(symbol, state: StrategyState):\n",
    "    interface: Interface = state.interface\n",
    "    resolution: float = state.resolution\n",
    "    variables = state.variables\n",
    "    # initialize the historical data\n",
    "    variables[\"history\"] = interface.history(symbol, 800, resolution, return_as='deque')[\"close\"]\n",
    "    variables[\"has_bought\"] = False\n",
    "\n",
    "def price_event(price, symbol, state: StrategyState):\n",
    "    interface: Interface = state.interface\n",
    "    # allow the resolution to be any resolution: 15m, 30m, 1d, etc.\n",
    "    resolution: float = state.resolution\n",
    "    variables = state.variables\n",
    "\n",
    "    variables[\"history\"].append(price)\n",
    "\n",
    "    sma200 = sma(variables[\"history\"], period=20)\n",
    "    sma50 = sma(variables[\"history\"], period=10)[-len(sma200):]\n",
    "    diff = sma200 - sma50\n",
    "    slope_sma50 = (\n",
    "        sma50[-1] - sma50[-5]\n",
    "    ) / 5  # get the slope of the last 5 SMA50 Data Points\n",
    "    prev_diff = diff[-2]\n",
    "    curr_diff = diff[-1]\n",
    "    is_cross_up = slope_sma50 > 0 and curr_diff >= 0 and prev_diff < 0\n",
    "    is_cross_down = slope_sma50 < 0 and curr_diff <= 0 and prev_diff > 0\n",
    "    # comparing prev diff with current diff will show a cross\n",
    "    if is_cross_up and not variables[\"has_bought\"]:\n",
    "        interface.market_order(symbol, 'buy', int(interface.cash / price))\n",
    "        variables[\"has_bought\"] = True\n",
    "    elif is_cross_down and variables[\"has_bought\"]:\n",
    "        interface.market_order(\n",
    "            symbol, 'sell', int(interface.account[symbol].available)\n",
    "        )\n",
    "        variables[\"has_bought\"] = False\n",
    "\n",
    "if __name__ == \"__main__\":\n",
    "    alpaca = Alpaca()\n",
    "    s = Strategy(alpaca)\n",
    "    s.add_price_event(price_event, \"MSFT\", resolution=\"1d\", init=init)\n",
    "    s.add_price_event(price_event, \"AAPL\", resolution=\"1d\", init=init)\n",
    "    s.backtest(initial_values={\"USD\": 10000}, to=\"2y\")"
   ]
  }
 ],
 "metadata": {
  "kernelspec": {
   "display_name": "Python 3 (ipykernel)",
   "language": "python",
   "name": "python3"
  },
  "language_info": {
   "codemirror_mode": {
    "name": "ipython",
    "version": 3
   },
   "file_extension": ".py",
   "mimetype": "text/x-python",
   "name": "python",
   "nbconvert_exporter": "python",
   "pygments_lexer": "ipython3",
   "version": "3.9.9"
  }
 },
 "nbformat": 4,
 "nbformat_minor": 5
}
