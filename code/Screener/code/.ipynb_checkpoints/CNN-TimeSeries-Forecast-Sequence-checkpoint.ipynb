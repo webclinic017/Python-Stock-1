{
 "cells": [
  {
   "cell_type": "code",
   "execution_count": null,
   "id": "4d0601ea-9997-4a44-852c-e62f88bb20cb",
   "metadata": {},
   "outputs": [],
   "source": [
    "# multivariate multi-step stacked lstm example\n",
    "\n",
    "# multivariate multi-step stacked lstm example\n",
    "from numpy import array\n",
    "from numpy import hstack\n",
    "from keras.models import Sequential\n",
    "from keras.layers import Embedding\n",
    "from keras.layers import LSTM\n",
    "from keras.layers import Dense\n",
    "from keras.layers import Layer\n",
    "from numpy import array\n",
    "from numpy import hstack\n",
    "from keras.layers import *\n",
    "from keras.models import *\n",
    "from keras import backend as K\n",
    "import numpy as np\n",
    "from datetime import datetime\n",
    "from sklearn.metrics import mean_squared_error\n",
    "import matplotlib.pyplot as plt\n",
    "\n",
    "from sklearn.preprocessing import PowerTransformer\n",
    "import pandas as pd\n",
    "from sklearn.preprocessing import StandardScaler\n",
    "\n",
    "import dataframe_image as dfi\n",
    "pd.set_option(\"precision\", 2)\n",
    "\n",
    "\"\"\"\n",
    "from zca import zca\n",
    "zca = zca.ZCA()\n",
    "\"\"\""
   ]
  },
  {
   "cell_type": "code",
   "execution_count": null,
   "id": "2134514c-9257-421c-bd70-9f8d4cab75b4",
   "metadata": {},
   "outputs": [],
   "source": []
  },
  {
   "cell_type": "code",
   "execution_count": null,
   "id": "ae500bdf-12ae-4aa1-a035-f3cdd8d31ba7",
   "metadata": {},
   "outputs": [],
   "source": [
    "def format_vertical_headers(df):\n",
    "    cm = sn.color_palette(\"blend:red,yellow,green\", as_cmap=True)\n",
    "    \"\"\"Display a dataframe with vertical column headers\"\"\"\n",
    "    styles = [dict(selector=\"th\", props=[('width', '40px')]),\n",
    "              dict(selector=\"th.col_heading\",\n",
    "                   props=[(\"writing-mode\", \"vertical-rl\"),\n",
    "                          ('transform', 'rotateZ(225deg)'), \n",
    "                          ('height', '90px'),\n",
    "                          ('vertical-align', 'top')])]\n",
    "    return (df.fillna('').style.set_table_styles(styles).background_gradient(cmap = cm,axis=None))\n"
   ]
  },
  {
   "cell_type": "code",
   "execution_count": null,
   "id": "aaf3264f-56a6-46b6-a7a5-a991c31691f1",
   "metadata": {},
   "outputs": [],
   "source": [
    "def MAPE(Y_actual,Y_Predicted):\n",
    "    mape = np.mean(np.abs((Y_actual - Y_Predicted)/Y_actual))*100\n",
    "    return mape    \n",
    "    \n",
    "power = PowerTransformer(method='yeo-johnson')\n",
    " \n",
    "def split_sequence(sequence, n_steps_in, n_steps_out):\n",
    "\tX, y = list(), list()\n",
    "\tfor i in range(len(sequence)):\n",
    "\t\t# find the end of this pattern\n",
    "\t\tend_ix = i + n_steps_in\n",
    "\t\tout_end_ix = end_ix + n_steps_out\n",
    "\t\t# check if we are beyond the sequence\n",
    "\t\tif out_end_ix > len(sequence):\n",
    "\t\t\tbreak\n",
    "\t\t# gather input and output parts of the pattern\n",
    "\t\tseq_x, seq_y = sequence[i:end_ix], sequence[end_ix:out_end_ix]\n",
    "\t\tX.append(seq_x)\n",
    "\t\ty.append(seq_y)\n",
    "\treturn array(X), array(y)\n",
    "\n",
    "# Add attention layer to the deep learning network\n",
    "class attention(Layer):\n",
    "    def __init__(self, return_sequences=True):\n",
    "        self.return_sequences = return_sequences\n",
    "        super(attention,self).__init__()\n",
    " \n",
    "    def build(self,input_shape):\n",
    "        self.W=self.add_weight(name='attention_weight', shape=(input_shape[-1],1), \n",
    "                               initializer='random_normal', trainable=True)\n",
    "        self.b=self.add_weight(name='attention_bias', shape=(input_shape[1],1), \n",
    "                               initializer='zeros', trainable=True)        \n",
    "        super(attention, self).build(input_shape)\n",
    " \n",
    "    def call(self,x):\n",
    "        # Alignment scores. Pass them through tanh function\n",
    "        e = K.tanh(K.dot(x,self.W)+self.b)\n",
    "        # Remove dimension of size 1\n",
    "        e = K.squeeze(e, axis=-1)   \n",
    "        # Compute the weights\n",
    "        alpha = K.softmax(e)\n",
    "        # Reshape to tensorFlow format\n",
    "        alpha = K.expand_dims(alpha, axis=-1)\n",
    "        # Compute the context vector\n",
    "        context = x * alpha\n",
    "        context = K.sum(context, axis=1)\n",
    "        return context\n",
    "    \n",
    "def stable_sigmoid(x):\n",
    "    sig = np.where(x < 0, np.exp(x)/(1 + np.exp(x)), 1/(1 + np.exp(-x)))\n",
    "    return sig\n",
    "\n",
    "def inverse_sigmoid(x):\n",
    "    inv_sig = -np.log((1 / (x + 1e-8)) - 1)\n",
    "    return inv_sig\n",
    "    \n",
    "# split a multivariate sequence into samples\n",
    "# split a multivariate sequence into samples\n",
    "def split_sequences(sequences, n_steps_in, n_steps_out):\n",
    "\tX, y = list(), list()\n",
    "\tfor i in range(len(sequences)):\n",
    "\t\t# find the end of this pattern\n",
    "\t\tend_ix = i + n_steps_in\n",
    "\t\tout_end_ix = end_ix + n_steps_out\n",
    "\t\t# check if we are beyond the dataset\n",
    "\t\tif out_end_ix > len(sequences):\n",
    "\t\t\tbreak\n",
    "\t\t# gather input and output parts of the pattern\n",
    "\t\tseq_x, seq_y = sequences[i:end_ix, 1:], sequences[end_ix-1:out_end_ix, 0][1:1+n_steps_out]\n",
    "\t\tX.append(seq_x)\n",
    "\t\ty.append(seq_y)\n",
    "\treturn array(X), array(y)\n"
   ]
  },
  {
   "cell_type": "code",
   "execution_count": null,
   "id": "c773f468-5f34-4671-ae32-81fb3fc9b253",
   "metadata": {},
   "outputs": [],
   "source": []
  },
  {
   "cell_type": "code",
   "execution_count": null,
   "id": "ca0f3fc6-2c0e-4a3f-9315-094975ea1257",
   "metadata": {},
   "outputs": [],
   "source": [
    "\"\"\"\n",
    "#build an elastic net model\n",
    "spy_set = sectors_indexes_correlations.loc[sectors_indexes_correlations.index[(sectors_indexes_correlations['lf']=='SPY').values.ravel()]]\n",
    "\n",
    "spy_df_setup = setup[['SPY']].pct_change()\n",
    "for v in sectors_indexaes_correlations.loc[spy_set.index].values:\n",
    "    spy_df_setup = pd.concat([spy_df_setup,setup[[v[1]]].shift(int(v[2])).pct_change()],axis=1)\n",
    "    \n",
    "spy_df_setup = spy_df_setup.dropna()\n",
    "\"\"\"\n",
    "\n",
    "#npa_ = npa[0]\n",
    "def process_return(npa_):\n",
    "\n",
    "    train_set = npa_[0]\n",
    "    test_set = npa_[1]\n",
    "\n",
    "    # load the dataset\n",
    "    print(test_set)\n",
    "    print(test_set.iloc[:,[0]])\n",
    "    \n",
    "    X_train, y_train = train_set.iloc[:,1:], train_set.iloc[:,[0]]\n",
    "    X_test, y_test = test_set.iloc[:,1:], test_set.iloc[:,[0]]\n",
    "\n",
    "    \"\"\"\n",
    "    print(y_test)\n",
    "    clf = svm.SVC()\n",
    "    rlf = svm.SVR()\n",
    "    lm = LinearRegression()\n",
    "\n",
    "    sfs1 = SFS(lm, \n",
    "               k_features=len(X_train.columns), \n",
    "               forward=True, \n",
    "               floating=False, \n",
    "               verbose=0,\n",
    "               scoring='neg_mean_squared_error',\n",
    "               cv=4)\n",
    "\n",
    "    sfs1 = sfs1.fit(X_train, y_train)\n",
    "    \n",
    "    best_subset = pd.DataFrame(sfs1.subsets_).T.iloc[np.argmax(pd.DataFrame(sfs1.subsets_).T['avg_score'])]['feature_names']    \n",
    "    \n",
    "    \"\"\"\n",
    "\n",
    "    lm.fit(X_train[np.array(best_subset)], y_train)\n",
    "\n",
    "    lagged_signal = pd.DataFrame(lm.predict(X_test[np.array(best_subset)]),index=X_test.index,columns = ['signal'])\n",
    "    \n",
    "    #print(y_test)\n",
    "    return([y_test,lm.predict(X_test[np.array(best_subset)]),pd.DataFrame(lm.coef_,columns=best_subset,index=[X_test.index[-1]])])\n",
    "    \"\"\"\n",
    "    #print(pd.concat([y_test,lagged_signal],axis=1))\n",
    "    df = pd.concat([y_test,lagged_signal],axis=1)\n",
    "    \n",
    "    df['signal'] = np.where(df['signal'] > 0,1,-1)\n",
    "    #sometimes forecasts 0\n",
    "    df['position'] = df['signal'].replace(to_replace=0, method='ffill')\n",
    "\n",
    "    #df.dropna(inplace=True)\n",
    "    #display(df.head(20))\n",
    "\n",
    "    df['bnh_returns'] = df.iloc[:,0]\n",
    "\n",
    "    # calculating stretegy returns\n",
    "    #df['strategy_returns'] = np.cumprod(df['bnh_returns'] * (df['position']))\n",
    "    df['strategy_returns'] = df['bnh_returns'] * (df['position'])  \n",
    "    return(df)\n",
    "    #return([y_test.index[-1],backtest_price_(pd.concat([y_test,lagged_signal],axis=1))])\n",
    "    \"\"\""
   ]
  },
  {
   "cell_type": "code",
   "execution_count": null,
   "id": "bbfaf416-7c90-4bfa-a14b-275525101354",
   "metadata": {},
   "outputs": [],
   "source": [
    "power = PowerTransformer(method='yeo-johnson')\n"
   ]
  },
  {
   "cell_type": "code",
   "execution_count": null,
   "id": "8095a4fc-175b-425d-b064-b9e0f2c81b90",
   "metadata": {},
   "outputs": [],
   "source": []
  },
  {
   "cell_type": "code",
   "execution_count": null,
   "id": "6d5a0faa-01a9-4912-9565-19422ee2e1e4",
   "metadata": {},
   "outputs": [],
   "source": [
    "\n",
    "# choose a number of time steps\n",
    "n_steps_in, n_steps_out = 52*2, 1\n",
    "\n",
    "data = pd.read_csv('..\\\\data\\\\processed\\\\weekly_stocks_w_fred_n_commodities.csv').set_index('Unnamed: 0')\n",
    "data.index.names = ['Date']\n",
    "#data.dropna(inplace=True)\n",
    "\n",
    "focus = 'SPY'\n",
    "#set_ = [focus,*set_[[i for i, item in enumerate(set_) if item not in focus]]]\n",
    "\n",
    "data = pd.concat([data[focus].shift(-1),data[data.columns[[i for i, item in enumerate(data.columns) if item not in focus]]]],axis=1)\n",
    "\n",
    "data = data.pct_change().dropna(axis=1,thresh=.9*(len(data))).dropna().replace([np.inf, -np.inf], 0)\n",
    "\n",
    "set_ = data.columns\n"
   ]
  },
  {
   "cell_type": "code",
   "execution_count": null,
   "id": "34f53b72-3d0a-44f6-a39a-5fcc8a1c51dc",
   "metadata": {},
   "outputs": [],
   "source": []
  },
  {
   "cell_type": "code",
   "execution_count": null,
   "id": "4ff32a49-281f-42ea-88f0-2e868f450551",
   "metadata": {},
   "outputs": [],
   "source": []
  },
  {
   "cell_type": "code",
   "execution_count": null,
   "id": "60e4eed7-3f37-4b43-bfee-2b467cd78afd",
   "metadata": {},
   "outputs": [],
   "source": []
  },
  {
   "cell_type": "code",
   "execution_count": null,
   "id": "69f741a5-83c9-4a64-942a-6b2be1d30941",
   "metadata": {},
   "outputs": [],
   "source": []
  },
  {
   "cell_type": "code",
   "execution_count": null,
   "id": "be4decf0-7895-402d-9b2b-2b12c72ffa60",
   "metadata": {},
   "outputs": [],
   "source": [
    "\"\"\"\n",
    "pd.DataFrame(np.mean(data.corr(),axis=0)).sort_values(0)\n",
    "\n",
    "corr_sort = pd.DataFrame(np.mean(data.corr(),axis=0)).sort_values(0,ascending=False).index\n",
    "\n",
    "dfi.export(format_vertical_headers(pd.DataFrame(data.corr().loc[corr_sort][corr_sort])), '..\\\\data\\\\processed\\\\weekly_stocks_w_fred_n_commodities_corr_styled.png',max_cols=-1)\n",
    "\n",
    "format_vertical_headers(pd.DataFrame(data.corr().loc[corr_sort][corr_sort]))\n",
    "\"\"\""
   ]
  },
  {
   "cell_type": "code",
   "execution_count": null,
   "id": "da320558-683f-4c45-ba0c-c689a936d9e7",
   "metadata": {},
   "outputs": [],
   "source": []
  },
  {
   "cell_type": "code",
   "execution_count": null,
   "id": "74306964-7bcc-4231-9188-f50a29ec0d76",
   "metadata": {},
   "outputs": [],
   "source": []
  },
  {
   "cell_type": "code",
   "execution_count": null,
   "id": "d3af0456-6bbe-44b4-a516-38b511c7eb1d",
   "metadata": {},
   "outputs": [],
   "source": []
  },
  {
   "cell_type": "code",
   "execution_count": null,
   "id": "367879d6-ba4a-47cc-b4a4-d11dc54b1117",
   "metadata": {},
   "outputs": [],
   "source": []
  },
  {
   "cell_type": "code",
   "execution_count": null,
   "id": "9bc1a1fa-f497-4a6f-b028-8e74e4b7d040",
   "metadata": {},
   "outputs": [],
   "source": []
  },
  {
   "cell_type": "code",
   "execution_count": null,
   "id": "9eacf910-197b-484e-a83d-12c312fc4b7c",
   "metadata": {
    "tags": []
   },
   "outputs": [],
   "source": []
  },
  {
   "cell_type": "code",
   "execution_count": null,
   "id": "344d2802-df77-4d2d-9ede-7c588b97496d",
   "metadata": {},
   "outputs": [],
   "source": []
  },
  {
   "cell_type": "code",
   "execution_count": null,
   "id": "b2c94f80-2492-4116-9b38-f68338bd8e2a",
   "metadata": {},
   "outputs": [],
   "source": [
    "\"\"\"\n",
    "# Separate fit and transform\n",
    "zca.fit(data)\n",
    "data_zca = zca.transform(data)\n",
    "\n",
    "# Or joint\n",
    "data_zca = zca.fit_transdataset.loc[158:162]form(x_train)\n",
    "\"\"\""
   ]
  },
  {
   "cell_type": "code",
   "execution_count": null,
   "id": "583492b4-0e87-4657-b8d9-2abb9ee2a3d1",
   "metadata": {},
   "outputs": [],
   "source": [
    "#len(X[0])"
   ]
  },
  {
   "cell_type": "code",
   "execution_count": null,
   "id": "27be24ef-adc8-4561-933f-8fc9fdb4a32e",
   "metadata": {},
   "outputs": [],
   "source": [
    "#data.head(len(X[0])+1)"
   ]
  },
  {
   "cell_type": "code",
   "execution_count": null,
   "id": "f5d033b5-dcf3-4236-8f61-5b0921b28214",
   "metadata": {},
   "outputs": [],
   "source": [
    "#pd.DataFrame(X[0])"
   ]
  },
  {
   "cell_type": "code",
   "execution_count": null,
   "id": "bcdd73bf-73b9-4fa8-8d5c-4f50bff03f51",
   "metadata": {},
   "outputs": [],
   "source": [
    "#pd.DataFrame(y)"
   ]
  },
  {
   "cell_type": "code",
   "execution_count": null,
   "id": "56347ce6-7b55-47a4-98a4-51cd7fcca8ea",
   "metadata": {},
   "outputs": [],
   "source": []
  },
  {
   "cell_type": "code",
   "execution_count": null,
   "id": "8732e8c9-2823-49a8-be7a-0093409bc175",
   "metadata": {},
   "outputs": [],
   "source": []
  },
  {
   "cell_type": "code",
   "execution_count": null,
   "id": "0184c931-b475-4eb3-b72c-e36ba3e899b1",
   "metadata": {},
   "outputs": [],
   "source": []
  },
  {
   "cell_type": "code",
   "execution_count": null,
   "id": "e961ec22-76ec-45c2-b111-412ea1308c87",
   "metadata": {},
   "outputs": [],
   "source": []
  },
  {
   "cell_type": "code",
   "execution_count": null,
   "id": "9fa2f15c-2f45-444b-9095-7e61dca80995",
   "metadata": {},
   "outputs": [],
   "source": []
  },
  {
   "cell_type": "code",
   "execution_count": null,
   "id": "f688666e-4e66-42d7-81d0-75f179951dfa",
   "metadata": {},
   "outputs": [],
   "source": []
  },
  {
   "cell_type": "code",
   "execution_count": null,
   "id": "48b246c2-bc66-4625-a4d5-36db743ef0de",
   "metadata": {},
   "outputs": [],
   "source": []
  },
  {
   "cell_type": "code",
   "execution_count": null,
   "id": "a23b827d-a8a5-4079-b83f-9689c384b3e2",
   "metadata": {},
   "outputs": [],
   "source": [
    "\"\"\"\n",
    "X, y = split_sequences(data, n_steps_in, n_steps_out)\n",
    "\n",
    "\n",
    "npa = []\n",
    "\n",
    "for n in range(0,len(X)):\n",
    "    npa.append([X[n],y[n]])\n",
    "\"\"\""
   ]
  },
  {
   "cell_type": "code",
   "execution_count": null,
   "id": "649561ff-fbaf-4b7f-b90e-f0a2a7c5b280",
   "metadata": {},
   "outputs": [],
   "source": []
  },
  {
   "cell_type": "code",
   "execution_count": null,
   "id": "037172e0-4242-4a61-a131-52d26078af1a",
   "metadata": {},
   "outputs": [],
   "source": [
    "\n",
    "# choose a number of time steps\n",
    "n_steps_in, n_steps_out = 52*2, 1\n",
    "# covert into input/output\n",
    "train_indexes, holdout_indexes = split_sequence(data.index[:-1], n_steps_in, n_steps_out)"
   ]
  },
  {
   "cell_type": "code",
   "execution_count": null,
   "id": "5ba0072d-ba20-42d4-80bb-7ccc4c9b6f69",
   "metadata": {},
   "outputs": [],
   "source": [
    "train_indexes[-1][-1]\n",
    "\n",
    "holdout_indexes[-1][-1]\n",
    "\n",
    "final_index = data.index[-1]\n",
    "final_index"
   ]
  },
  {
   "cell_type": "code",
   "execution_count": null,
   "id": "542d3709-c17f-4779-a612-8ef07d26afb1",
   "metadata": {},
   "outputs": [],
   "source": []
  },
  {
   "cell_type": "code",
   "execution_count": null,
   "id": "d3bb0dd9-2505-4365-93f9-1ed51c14dc84",
   "metadata": {},
   "outputs": [],
   "source": []
  },
  {
   "cell_type": "code",
   "execution_count": 105,
   "id": "5fb6359d-ea56-4f1a-af16-2f7bc4f6dc77",
   "metadata": {},
   "outputs": [
    {
     "data": {
      "text/plain": [
       "array([0.33191009])"
      ]
     },
     "execution_count": 105,
     "metadata": {},
     "output_type": "execute_result"
    }
   ],
   "source": []
  },
  {
   "cell_type": "code",
   "execution_count": null,
   "id": "51a05a01-7d4f-4aae-a07d-75309451202e",
   "metadata": {},
   "outputs": [],
   "source": [
    "npa = []\n",
    "\n",
    "for n in range(0,len(train_indexes)):\n",
    "    npa.append([data.loc[train_indexes[n]],data.loc[holdout_indexes[n]]])"
   ]
  },
  {
   "cell_type": "code",
   "execution_count": 120,
   "id": "5ad18824-b12d-4f71-8598-68c884f1e11c",
   "metadata": {},
   "outputs": [
    {
     "data": {
      "text/plain": [
       "41"
      ]
     },
     "execution_count": 120,
     "metadata": {},
     "output_type": "execute_result"
    }
   ],
   "source": []
  },
  {
   "cell_type": "code",
   "execution_count": 126,
   "id": "db13d67b-4dd3-4aa6-baa7-64483a0fc6c5",
   "metadata": {},
   "outputs": [
    {
     "data": {
      "text/plain": [
       "[<matplotlib.lines.Line2D at 0x1fac28b0e80>]"
      ]
     },
     "execution_count": 126,
     "metadata": {},
     "output_type": "execute_result"
    },
    {
     "data": {
      "image/png": "[encoded data removed]",
      "text/plain": [
       "<Figure size 432x288 with 1 Axes>"
      ]
     },
     "metadata": {
      "needs_background": "light"
     },
     "output_type": "display_data"
    }
   ],
   "source": []
  },
  {
   "cell_type": "code",
   "execution_count": 128,
   "id": "79f466cf-2552-472d-a5dd-0311916b8e0f",
   "metadata": {},
   "outputs": [
    {
     "name": "stdout",
     "output_type": "stream",
     "text": [
      "2019-07-12\n",
      "(105, 81)\n",
      "(105, 1)\n",
      "(105, 82)\n",
      "(41, 52, 81) (41, 13)\n",
      "81\n",
      "Current Time = 07:05:44\n",
      "Current Time = 07:06:10\n",
      "Current Time = 07:06:11\n"
     ]
    },
    {
     "data": {
      "image/png": "[encoded data removed]",
      "text/plain": [
       "<Figure size 432x288 with 1 Axes>"
      ]
     },
     "metadata": {
      "needs_background": "light"
     },
     "output_type": "display_data"
    },
    {
     "name": "stdout",
     "output_type": "stream",
     "text": [
      "RMSE: 0.0004089193818067682 MAPE: 97.34646394290299\n",
      "2019-08-30\n",
      "(105, 81)\n",
      "(105, 1)\n",
      "(105, 82)\n",
      "(41, 52, 81) (41, 13)\n",
      "81\n",
      "Current Time = 07:06:13\n",
      "Current Time = 07:06:38\n",
      "Current Time = 07:06:40\n"
     ]
    },
    {
     "data": {
      "image/png": "[encoded data removed]",
      "text/plain": [
       "<Figure size 432x288 with 1 Axes>"
      ]
     },
     "metadata": {
      "needs_background": "light"
     },
     "output_type": "display_data"
    },
    {
     "name": "stdout",
     "output_type": "stream",
     "text": [
      "RMSE: 0.00027536183220298036 MAPE: 99.30239318991079\n",
      "2019-10-18\n",
      "(105, 81)\n",
      "(105, 1)\n",
      "(105, 82)\n",
      "(41, 52, 81) (41, 13)\n",
      "81\n",
      "Current Time = 07:06:41\n",
      "Current Time = 07:07:07\n",
      "Current Time = 07:07:08\n"
     ]
    },
    {
     "data": {
      "image/png": "[encoded data removed]",
      "text/plain": [
       "<Figure size 432x288 with 1 Axes>"
      ]
     },
     "metadata": {
      "needs_background": "light"
     },
     "output_type": "display_data"
    },
    {
     "name": "stdout",
     "output_type": "stream",
     "text": [
      "RMSE: 0.00022305971770021575 MAPE: 106.07796080111147\n",
      "2019-12-06\n",
      "(105, 81)\n",
      "(105, 1)\n",
      "(105, 82)\n",
      "(41, 52, 81) (41, 13)\n",
      "81\n",
      "Current Time = 07:07:10\n",
      "Current Time = 07:07:35\n",
      "Current Time = 07:07:37\n"
     ]
    },
    {
     "data": {
      "image/png": "[encoded data removed]",
      "text/plain": [
       "<Figure size 432x288 with 1 Axes>"
      ]
     },
     "metadata": {
      "needs_background": "light"
     },
     "output_type": "display_data"
    },
    {
     "name": "stdout",
     "output_type": "stream",
     "text": [
      "RMSE: 6.379177399128525e-05 MAPE: 98.10283476617586\n",
      "2020-01-24\n",
      "(105, 81)\n",
      "(105, 1)\n",
      "(105, 82)\n",
      "(41, 52, 81) (41, 13)\n",
      "81\n",
      "Current Time = 07:07:38\n",
      "Current Time = 07:08:04\n",
      "Current Time = 07:08:06\n"
     ]
    },
    {
     "data": {
      "image/png": "[encoded data removed]",
      "text/plain": [
       "<Figure size 432x288 with 1 Axes>"
      ]
     },
     "metadata": {
      "needs_background": "light"
     },
     "output_type": "display_data"
    },
    {
     "name": "stdout",
     "output_type": "stream",
     "text": [
      "RMSE: 0.00011074119461751702 MAPE: 120.77086150774964\n",
      "2020-03-13\n",
      "(105, 81)\n",
      "(105, 1)\n",
      "(105, 82)\n",
      "(41, 52, 81) (41, 13)\n",
      "81\n",
      "Current Time = 07:08:07\n",
      "Current Time = 07:08:33\n",
      "Current Time = 07:08:34\n"
     ]
    },
    {
     "data": {
      "image/png": "[encoded data removed]",
      "text/plain": [
       "<Figure size 432x288 with 1 Axes>"
      ]
     },
     "metadata": {
      "needs_background": "light"
     },
     "output_type": "display_data"
    },
    {
     "name": "stdout",
     "output_type": "stream",
     "text": [
      "RMSE: 0.0036289290136506274 MAPE: 113.2848187494603\n",
      "2020-05-01\n",
      "(105, 81)\n",
      "(105, 1)\n",
      "(105, 82)\n",
      "(41, 52, 81) (41, 13)\n",
      "81\n",
      "Current Time = 07:08:36\n"
     ]
    },
    {
     "ename": "KeyboardInterrupt",
     "evalue": "",
     "output_type": "error",
     "traceback": [
      "\u001b[1;31m---------------------------------------------------------------------------\u001b[0m",
      "\u001b[1;31mKeyboardInterrupt\u001b[0m                         Traceback (most recent call last)",
      "Input \u001b[1;32mIn [128]\u001b[0m, in \u001b[0;36m<cell line: 1>\u001b[1;34m()\u001b[0m\n\u001b[0;32m     58\u001b[0m model\u001b[38;5;241m.\u001b[39mcompile(optimizer\u001b[38;5;241m=\u001b[39m\u001b[38;5;124m'\u001b[39m\u001b[38;5;124madam\u001b[39m\u001b[38;5;124m'\u001b[39m, loss\u001b[38;5;241m=\u001b[39m\u001b[38;5;124m'\u001b[39m\u001b[38;5;124mmse\u001b[39m\u001b[38;5;124m'\u001b[39m)\n\u001b[0;32m     59\u001b[0m \u001b[38;5;66;03m# fit model\u001b[39;00m\n\u001b[1;32m---> 60\u001b[0m \u001b[43mmodel\u001b[49m\u001b[38;5;241;43m.\u001b[39;49m\u001b[43mfit\u001b[49m\u001b[43m(\u001b[49m\u001b[43mX\u001b[49m\u001b[43m[\u001b[49m\u001b[43m:\u001b[49m\u001b[38;5;241;43m-\u001b[39;49m\u001b[38;5;241;43m1\u001b[39;49m\u001b[43m]\u001b[49m\u001b[43m,\u001b[49m\u001b[43m \u001b[49m\u001b[43my\u001b[49m\u001b[43m[\u001b[49m\u001b[43m:\u001b[49m\u001b[38;5;241;43m-\u001b[39;49m\u001b[38;5;241;43m1\u001b[39;49m\u001b[43m]\u001b[49m\u001b[43m,\u001b[49m\u001b[43m \u001b[49m\u001b[43mepochs\u001b[49m\u001b[38;5;241;43m=\u001b[39;49m\u001b[38;5;241;43m512\u001b[39;49m\u001b[43m,\u001b[49m\u001b[43m \u001b[49m\u001b[43mverbose\u001b[49m\u001b[38;5;241;43m=\u001b[39;49m\u001b[38;5;241;43m0\u001b[39;49m\u001b[43m,\u001b[49m\u001b[43mbatch_size\u001b[49m\u001b[43m \u001b[49m\u001b[38;5;241;43m=\u001b[39;49m\u001b[43m \u001b[49m\u001b[38;5;241;43m128\u001b[39;49m\u001b[43m)\u001b[49m\n\u001b[0;32m     62\u001b[0m now \u001b[38;5;241m=\u001b[39m datetime\u001b[38;5;241m.\u001b[39mnow()\n\u001b[0;32m     64\u001b[0m current_time \u001b[38;5;241m=\u001b[39m now\u001b[38;5;241m.\u001b[39mstrftime(\u001b[38;5;124m\"\u001b[39m\u001b[38;5;124m%\u001b[39m\u001b[38;5;124mH:\u001b[39m\u001b[38;5;124m%\u001b[39m\u001b[38;5;124mM:\u001b[39m\u001b[38;5;124m%\u001b[39m\u001b[38;5;124mS\u001b[39m\u001b[38;5;124m\"\u001b[39m)\n",
      "File \u001b[1;32m~\\AppData\\Local\\Programs\\3.9-JupyterLab\\lib\\site-packages\\keras\\utils\\traceback_utils.py:64\u001b[0m, in \u001b[0;36mfilter_traceback.<locals>.error_handler\u001b[1;34m(*args, **kwargs)\u001b[0m\n\u001b[0;32m     62\u001b[0m filtered_tb \u001b[38;5;241m=\u001b[39m \u001b[38;5;28;01mNone\u001b[39;00m\n\u001b[0;32m     63\u001b[0m \u001b[38;5;28;01mtry\u001b[39;00m:\n\u001b[1;32m---> 64\u001b[0m   \u001b[38;5;28;01mreturn\u001b[39;00m fn(\u001b[38;5;241m*\u001b[39margs, \u001b[38;5;241m*\u001b[39m\u001b[38;5;241m*\u001b[39mkwargs)\n\u001b[0;32m     65\u001b[0m \u001b[38;5;28;01mexcept\u001b[39;00m \u001b[38;5;167;01mException\u001b[39;00m \u001b[38;5;28;01mas\u001b[39;00m e:  \u001b[38;5;66;03m# pylint: disable=broad-except\u001b[39;00m\n\u001b[0;32m     66\u001b[0m   filtered_tb \u001b[38;5;241m=\u001b[39m _process_traceback_frames(e\u001b[38;5;241m.\u001b[39m__traceback__)\n",
      "File \u001b[1;32m~\\AppData\\Local\\Programs\\3.9-JupyterLab\\lib\\site-packages\\keras\\engine\\training.py:1384\u001b[0m, in \u001b[0;36mModel.fit\u001b[1;34m(self, x, y, batch_size, epochs, verbose, callbacks, validation_split, validation_data, shuffle, class_weight, sample_weight, initial_epoch, steps_per_epoch, validation_steps, validation_batch_size, validation_freq, max_queue_size, workers, use_multiprocessing)\u001b[0m\n\u001b[0;32m   1377\u001b[0m \u001b[38;5;28;01mwith\u001b[39;00m tf\u001b[38;5;241m.\u001b[39mprofiler\u001b[38;5;241m.\u001b[39mexperimental\u001b[38;5;241m.\u001b[39mTrace(\n\u001b[0;32m   1378\u001b[0m     \u001b[38;5;124m'\u001b[39m\u001b[38;5;124mtrain\u001b[39m\u001b[38;5;124m'\u001b[39m,\n\u001b[0;32m   1379\u001b[0m     epoch_num\u001b[38;5;241m=\u001b[39mepoch,\n\u001b[0;32m   1380\u001b[0m     step_num\u001b[38;5;241m=\u001b[39mstep,\n\u001b[0;32m   1381\u001b[0m     batch_size\u001b[38;5;241m=\u001b[39mbatch_size,\n\u001b[0;32m   1382\u001b[0m     _r\u001b[38;5;241m=\u001b[39m\u001b[38;5;241m1\u001b[39m):\n\u001b[0;32m   1383\u001b[0m   callbacks\u001b[38;5;241m.\u001b[39mon_train_batch_begin(step)\n\u001b[1;32m-> 1384\u001b[0m   tmp_logs \u001b[38;5;241m=\u001b[39m \u001b[38;5;28;43mself\u001b[39;49m\u001b[38;5;241;43m.\u001b[39;49m\u001b[43mtrain_function\u001b[49m\u001b[43m(\u001b[49m\u001b[43miterator\u001b[49m\u001b[43m)\u001b[49m\n\u001b[0;32m   1385\u001b[0m   \u001b[38;5;28;01mif\u001b[39;00m data_handler\u001b[38;5;241m.\u001b[39mshould_sync:\n\u001b[0;32m   1386\u001b[0m     context\u001b[38;5;241m.\u001b[39masync_wait()\n",
      "File \u001b[1;32m~\\AppData\\Local\\Programs\\3.9-JupyterLab\\lib\\site-packages\\tensorflow\\python\\util\\traceback_utils.py:150\u001b[0m, in \u001b[0;36mfilter_traceback.<locals>.error_handler\u001b[1;34m(*args, **kwargs)\u001b[0m\n\u001b[0;32m    148\u001b[0m filtered_tb \u001b[38;5;241m=\u001b[39m \u001b[38;5;28;01mNone\u001b[39;00m\n\u001b[0;32m    149\u001b[0m \u001b[38;5;28;01mtry\u001b[39;00m:\n\u001b[1;32m--> 150\u001b[0m   \u001b[38;5;28;01mreturn\u001b[39;00m fn(\u001b[38;5;241m*\u001b[39margs, \u001b[38;5;241m*\u001b[39m\u001b[38;5;241m*\u001b[39mkwargs)\n\u001b[0;32m    151\u001b[0m \u001b[38;5;28;01mexcept\u001b[39;00m \u001b[38;5;167;01mException\u001b[39;00m \u001b[38;5;28;01mas\u001b[39;00m e:\n\u001b[0;32m    152\u001b[0m   filtered_tb \u001b[38;5;241m=\u001b[39m _process_traceback_frames(e\u001b[38;5;241m.\u001b[39m__traceback__)\n",
      "File \u001b[1;32m~\\AppData\\Local\\Programs\\3.9-JupyterLab\\lib\\site-packages\\tensorflow\\python\\eager\\def_function.py:915\u001b[0m, in \u001b[0;36mFunction.__call__\u001b[1;34m(self, *args, **kwds)\u001b[0m\n\u001b[0;32m    912\u001b[0m compiler \u001b[38;5;241m=\u001b[39m \u001b[38;5;124m\"\u001b[39m\u001b[38;5;124mxla\u001b[39m\u001b[38;5;124m\"\u001b[39m \u001b[38;5;28;01mif\u001b[39;00m \u001b[38;5;28mself\u001b[39m\u001b[38;5;241m.\u001b[39m_jit_compile \u001b[38;5;28;01melse\u001b[39;00m \u001b[38;5;124m\"\u001b[39m\u001b[38;5;124mnonXla\u001b[39m\u001b[38;5;124m\"\u001b[39m\n\u001b[0;32m    914\u001b[0m \u001b[38;5;28;01mwith\u001b[39;00m OptionalXlaContext(\u001b[38;5;28mself\u001b[39m\u001b[38;5;241m.\u001b[39m_jit_compile):\n\u001b[1;32m--> 915\u001b[0m   result \u001b[38;5;241m=\u001b[39m \u001b[38;5;28mself\u001b[39m\u001b[38;5;241m.\u001b[39m_call(\u001b[38;5;241m*\u001b[39margs, \u001b[38;5;241m*\u001b[39m\u001b[38;5;241m*\u001b[39mkwds)\n\u001b[0;32m    917\u001b[0m new_tracing_count \u001b[38;5;241m=\u001b[39m \u001b[38;5;28mself\u001b[39m\u001b[38;5;241m.\u001b[39mexperimental_get_tracing_count()\n\u001b[0;32m    918\u001b[0m without_tracing \u001b[38;5;241m=\u001b[39m (tracing_count \u001b[38;5;241m==\u001b[39m new_tracing_count)\n",
      "File \u001b[1;32m~\\AppData\\Local\\Programs\\3.9-JupyterLab\\lib\\site-packages\\tensorflow\\python\\eager\\def_function.py:947\u001b[0m, in \u001b[0;36mFunction._call\u001b[1;34m(self, *args, **kwds)\u001b[0m\n\u001b[0;32m    944\u001b[0m   \u001b[38;5;28mself\u001b[39m\u001b[38;5;241m.\u001b[39m_lock\u001b[38;5;241m.\u001b[39mrelease()\n\u001b[0;32m    945\u001b[0m   \u001b[38;5;66;03m# In this case we have created variables on the first call, so we run the\u001b[39;00m\n\u001b[0;32m    946\u001b[0m   \u001b[38;5;66;03m# defunned version which is guaranteed to never create variables.\u001b[39;00m\n\u001b[1;32m--> 947\u001b[0m   \u001b[38;5;28;01mreturn\u001b[39;00m \u001b[38;5;28mself\u001b[39m\u001b[38;5;241m.\u001b[39m_stateless_fn(\u001b[38;5;241m*\u001b[39margs, \u001b[38;5;241m*\u001b[39m\u001b[38;5;241m*\u001b[39mkwds)  \u001b[38;5;66;03m# pylint: disable=not-callable\u001b[39;00m\n\u001b[0;32m    948\u001b[0m \u001b[38;5;28;01melif\u001b[39;00m \u001b[38;5;28mself\u001b[39m\u001b[38;5;241m.\u001b[39m_stateful_fn \u001b[38;5;129;01mis\u001b[39;00m \u001b[38;5;129;01mnot\u001b[39;00m \u001b[38;5;28;01mNone\u001b[39;00m:\n\u001b[0;32m    949\u001b[0m   \u001b[38;5;66;03m# Release the lock early so that multiple threads can perform the call\u001b[39;00m\n\u001b[0;32m    950\u001b[0m   \u001b[38;5;66;03m# in parallel.\u001b[39;00m\n\u001b[0;32m    951\u001b[0m   \u001b[38;5;28mself\u001b[39m\u001b[38;5;241m.\u001b[39m_lock\u001b[38;5;241m.\u001b[39mrelease()\n",
      "File \u001b[1;32m~\\AppData\\Local\\Programs\\3.9-JupyterLab\\lib\\site-packages\\tensorflow\\python\\eager\\function.py:2956\u001b[0m, in \u001b[0;36mFunction.__call__\u001b[1;34m(self, *args, **kwargs)\u001b[0m\n\u001b[0;32m   2953\u001b[0m \u001b[38;5;28;01mwith\u001b[39;00m \u001b[38;5;28mself\u001b[39m\u001b[38;5;241m.\u001b[39m_lock:\n\u001b[0;32m   2954\u001b[0m   (graph_function,\n\u001b[0;32m   2955\u001b[0m    filtered_flat_args) \u001b[38;5;241m=\u001b[39m \u001b[38;5;28mself\u001b[39m\u001b[38;5;241m.\u001b[39m_maybe_define_function(args, kwargs)\n\u001b[1;32m-> 2956\u001b[0m \u001b[38;5;28;01mreturn\u001b[39;00m \u001b[43mgraph_function\u001b[49m\u001b[38;5;241;43m.\u001b[39;49m\u001b[43m_call_flat\u001b[49m\u001b[43m(\u001b[49m\n\u001b[0;32m   2957\u001b[0m \u001b[43m    \u001b[49m\u001b[43mfiltered_flat_args\u001b[49m\u001b[43m,\u001b[49m\u001b[43m \u001b[49m\u001b[43mcaptured_inputs\u001b[49m\u001b[38;5;241;43m=\u001b[39;49m\u001b[43mgraph_function\u001b[49m\u001b[38;5;241;43m.\u001b[39;49m\u001b[43mcaptured_inputs\u001b[49m\u001b[43m)\u001b[49m\n",
      "File \u001b[1;32m~\\AppData\\Local\\Programs\\3.9-JupyterLab\\lib\\site-packages\\tensorflow\\python\\eager\\function.py:1853\u001b[0m, in \u001b[0;36mConcreteFunction._call_flat\u001b[1;34m(self, args, captured_inputs, cancellation_manager)\u001b[0m\n\u001b[0;32m   1849\u001b[0m possible_gradient_type \u001b[38;5;241m=\u001b[39m gradients_util\u001b[38;5;241m.\u001b[39mPossibleTapeGradientTypes(args)\n\u001b[0;32m   1850\u001b[0m \u001b[38;5;28;01mif\u001b[39;00m (possible_gradient_type \u001b[38;5;241m==\u001b[39m gradients_util\u001b[38;5;241m.\u001b[39mPOSSIBLE_GRADIENT_TYPES_NONE\n\u001b[0;32m   1851\u001b[0m     \u001b[38;5;129;01mand\u001b[39;00m executing_eagerly):\n\u001b[0;32m   1852\u001b[0m   \u001b[38;5;66;03m# No tape is watching; skip to running the function.\u001b[39;00m\n\u001b[1;32m-> 1853\u001b[0m   \u001b[38;5;28;01mreturn\u001b[39;00m \u001b[38;5;28mself\u001b[39m\u001b[38;5;241m.\u001b[39m_build_call_outputs(\u001b[38;5;28;43mself\u001b[39;49m\u001b[38;5;241;43m.\u001b[39;49m\u001b[43m_inference_function\u001b[49m\u001b[38;5;241;43m.\u001b[39;49m\u001b[43mcall\u001b[49m\u001b[43m(\u001b[49m\n\u001b[0;32m   1854\u001b[0m \u001b[43m      \u001b[49m\u001b[43mctx\u001b[49m\u001b[43m,\u001b[49m\u001b[43m \u001b[49m\u001b[43margs\u001b[49m\u001b[43m,\u001b[49m\u001b[43m \u001b[49m\u001b[43mcancellation_manager\u001b[49m\u001b[38;5;241;43m=\u001b[39;49m\u001b[43mcancellation_manager\u001b[49m\u001b[43m)\u001b[49m)\n\u001b[0;32m   1855\u001b[0m forward_backward \u001b[38;5;241m=\u001b[39m \u001b[38;5;28mself\u001b[39m\u001b[38;5;241m.\u001b[39m_select_forward_and_backward_functions(\n\u001b[0;32m   1856\u001b[0m     args,\n\u001b[0;32m   1857\u001b[0m     possible_gradient_type,\n\u001b[0;32m   1858\u001b[0m     executing_eagerly)\n\u001b[0;32m   1859\u001b[0m forward_function, args_with_tangents \u001b[38;5;241m=\u001b[39m forward_backward\u001b[38;5;241m.\u001b[39mforward()\n",
      "File \u001b[1;32m~\\AppData\\Local\\Programs\\3.9-JupyterLab\\lib\\site-packages\\tensorflow\\python\\eager\\function.py:499\u001b[0m, in \u001b[0;36m_EagerDefinedFunction.call\u001b[1;34m(self, ctx, args, cancellation_manager)\u001b[0m\n\u001b[0;32m    497\u001b[0m \u001b[38;5;28;01mwith\u001b[39;00m _InterpolateFunctionError(\u001b[38;5;28mself\u001b[39m):\n\u001b[0;32m    498\u001b[0m   \u001b[38;5;28;01mif\u001b[39;00m cancellation_manager \u001b[38;5;129;01mis\u001b[39;00m \u001b[38;5;28;01mNone\u001b[39;00m:\n\u001b[1;32m--> 499\u001b[0m     outputs \u001b[38;5;241m=\u001b[39m \u001b[43mexecute\u001b[49m\u001b[38;5;241;43m.\u001b[39;49m\u001b[43mexecute\u001b[49m\u001b[43m(\u001b[49m\n\u001b[0;32m    500\u001b[0m \u001b[43m        \u001b[49m\u001b[38;5;28;43mstr\u001b[39;49m\u001b[43m(\u001b[49m\u001b[38;5;28;43mself\u001b[39;49m\u001b[38;5;241;43m.\u001b[39;49m\u001b[43msignature\u001b[49m\u001b[38;5;241;43m.\u001b[39;49m\u001b[43mname\u001b[49m\u001b[43m)\u001b[49m\u001b[43m,\u001b[49m\n\u001b[0;32m    501\u001b[0m \u001b[43m        \u001b[49m\u001b[43mnum_outputs\u001b[49m\u001b[38;5;241;43m=\u001b[39;49m\u001b[38;5;28;43mself\u001b[39;49m\u001b[38;5;241;43m.\u001b[39;49m\u001b[43m_num_outputs\u001b[49m\u001b[43m,\u001b[49m\n\u001b[0;32m    502\u001b[0m \u001b[43m        \u001b[49m\u001b[43minputs\u001b[49m\u001b[38;5;241;43m=\u001b[39;49m\u001b[43margs\u001b[49m\u001b[43m,\u001b[49m\n\u001b[0;32m    503\u001b[0m \u001b[43m        \u001b[49m\u001b[43mattrs\u001b[49m\u001b[38;5;241;43m=\u001b[39;49m\u001b[43mattrs\u001b[49m\u001b[43m,\u001b[49m\n\u001b[0;32m    504\u001b[0m \u001b[43m        \u001b[49m\u001b[43mctx\u001b[49m\u001b[38;5;241;43m=\u001b[39;49m\u001b[43mctx\u001b[49m\u001b[43m)\u001b[49m\n\u001b[0;32m    505\u001b[0m   \u001b[38;5;28;01melse\u001b[39;00m:\n\u001b[0;32m    506\u001b[0m     outputs \u001b[38;5;241m=\u001b[39m execute\u001b[38;5;241m.\u001b[39mexecute_with_cancellation(\n\u001b[0;32m    507\u001b[0m         \u001b[38;5;28mstr\u001b[39m(\u001b[38;5;28mself\u001b[39m\u001b[38;5;241m.\u001b[39msignature\u001b[38;5;241m.\u001b[39mname),\n\u001b[0;32m    508\u001b[0m         num_outputs\u001b[38;5;241m=\u001b[39m\u001b[38;5;28mself\u001b[39m\u001b[38;5;241m.\u001b[39m_num_outputs,\n\u001b[1;32m   (...)\u001b[0m\n\u001b[0;32m    511\u001b[0m         ctx\u001b[38;5;241m=\u001b[39mctx,\n\u001b[0;32m    512\u001b[0m         cancellation_manager\u001b[38;5;241m=\u001b[39mcancellation_manager)\n",
      "File \u001b[1;32m~\\AppData\\Local\\Programs\\3.9-JupyterLab\\lib\\site-packages\\tensorflow\\python\\eager\\execute.py:54\u001b[0m, in \u001b[0;36mquick_execute\u001b[1;34m(op_name, num_outputs, inputs, attrs, ctx, name)\u001b[0m\n\u001b[0;32m     52\u001b[0m \u001b[38;5;28;01mtry\u001b[39;00m:\n\u001b[0;32m     53\u001b[0m   ctx\u001b[38;5;241m.\u001b[39mensure_initialized()\n\u001b[1;32m---> 54\u001b[0m   tensors \u001b[38;5;241m=\u001b[39m \u001b[43mpywrap_tfe\u001b[49m\u001b[38;5;241;43m.\u001b[39;49m\u001b[43mTFE_Py_Execute\u001b[49m\u001b[43m(\u001b[49m\u001b[43mctx\u001b[49m\u001b[38;5;241;43m.\u001b[39;49m\u001b[43m_handle\u001b[49m\u001b[43m,\u001b[49m\u001b[43m \u001b[49m\u001b[43mdevice_name\u001b[49m\u001b[43m,\u001b[49m\u001b[43m \u001b[49m\u001b[43mop_name\u001b[49m\u001b[43m,\u001b[49m\n\u001b[0;32m     55\u001b[0m \u001b[43m                                      \u001b[49m\u001b[43minputs\u001b[49m\u001b[43m,\u001b[49m\u001b[43m \u001b[49m\u001b[43mattrs\u001b[49m\u001b[43m,\u001b[49m\u001b[43m \u001b[49m\u001b[43mnum_outputs\u001b[49m\u001b[43m)\u001b[49m\n\u001b[0;32m     56\u001b[0m \u001b[38;5;28;01mexcept\u001b[39;00m core\u001b[38;5;241m.\u001b[39m_NotOkStatusException \u001b[38;5;28;01mas\u001b[39;00m e:\n\u001b[0;32m     57\u001b[0m   \u001b[38;5;28;01mif\u001b[39;00m name \u001b[38;5;129;01mis\u001b[39;00m \u001b[38;5;129;01mnot\u001b[39;00m \u001b[38;5;28;01mNone\u001b[39;00m:\n",
      "\u001b[1;31mKeyboardInterrupt\u001b[0m: "
     ]
    }
   ],
   "source": [
    "for n in range(0,len(npa),7):\n",
    "    data_ = pd.concat([npa[n][0],npa[n][1]],axis=0)\n",
    "    print(data_.index[-1])\n",
    "    in_seq = np.array(data_)\n",
    "\n",
    "    #in_seq = np.transpose(np.transpose(np.array(data[set_])).reshape(len(set_),int(len(data[set_].values.ravel())/len(set_))))\n",
    "    print(in_seq.shape)\n",
    "\n",
    "    scaler = StandardScaler()\n",
    "\n",
    "    #ensuring scaling isn't extracted from test data\n",
    "    x_train = in_seq[:-1]\n",
    "    scaler.fit(x_train)\n",
    "    in_seq = scaler.transform(in_seq)\n",
    "    in_seq = stable_sigmoid(in_seq)\n",
    "\n",
    "    out_seq = np.sum(np.array(in_seq),axis=1)\n",
    "\n",
    "    out_seq = out_seq.reshape(len(out_seq), 1)\n",
    "\n",
    "    print(out_seq.shape)\n",
    "\n",
    "    dataset = hstack((in_seq,out_seq))\n",
    "    print(dataset.shape)\n",
    "\n",
    "    # choose a number of time steps\n",
    "    n_steps_in, n_steps_out = 52, 13\n",
    "    # covert into input/output\n",
    "    X, y = split_sequences(dataset, n_steps_in, n_steps_out)\n",
    "\n",
    "    #x_train = preprocessing.scale(dataset, with_mean=True, with_std=True)\n",
    "\n",
    "    print(X.shape, y.shape)\n",
    "    # summarize the data\n",
    "\n",
    "    \"\"\"\n",
    "    for i in range(len(X)):\n",
    "        print(X[i], y[i])\n",
    "    \"\"\"\n",
    "\n",
    "    n_features = X.shape[2]\n",
    "    print(n_features)\n",
    "    # define model\n",
    "    model = Sequential()\n",
    "    model.add(Bidirectional(LSTM(128, activation='tanh', return_sequences=True), input_shape=(n_steps_in, n_features)))\n",
    "    model.add((LSTM(128, activation='tanh', return_sequences=True)))\n",
    "    model.add((LSTM(128, activation='tanh', return_sequences=True)))\n",
    "    #model.add(BatchNormalization())\n",
    "    model.add(attention(return_sequences=True)) #\n",
    "    model.add(Dropout(0.5))\n",
    "    model.add(Dense(n_steps_out))\n",
    "\n",
    "    now = datetime.now()\n",
    "\n",
    "    current_time = now.strftime(\"%H:%M:%S\")\n",
    "    print(\"Current Time =\", current_time)\n",
    "\n",
    "    model.compile(optimizer='adam', loss='mse')\n",
    "    # fit model\n",
    "    model.fit(X[:-1], y[:-1], epochs=512, verbose=0,batch_size = 128)\n",
    "\n",
    "    now = datetime.now()\n",
    "\n",
    "    current_time = now.strftime(\"%H:%M:%S\")\n",
    "    print(\"Current Time =\", current_time)\n",
    "\n",
    "    # demonstrate prediction\n",
    "    x_input = X[-1]\n",
    "    x_input = x_input.reshape((1, n_steps_in, n_features))\n",
    "    #print(x_input)\n",
    "    yhat = model.predict(x_input, verbose=0)\n",
    "\n",
    "    now = datetime.now()\n",
    "\n",
    "    current_time = now.strftime(\"%H:%M:%S\")\n",
    "    print(\"Current Time =\", current_time)\n",
    "\n",
    "    y_ = inverse_sigmoid(y[-1])*scaler.scale_[0]+scaler.mean_[0]\n",
    "    yhat = inverse_sigmoid(yhat)*scaler.scale_[0]+scaler.mean_[0]\n",
    "    #print(y_)\n",
    "    #print(*yhat)\n",
    "    plt.plot(np.cumprod(y_+1))\n",
    "    plt.plot(np.cumprod(*yhat+1))\n",
    "    plt.show()\n",
    "\n",
    "    rmse = mean_squared_error(y_, *yhat, squared=True)\n",
    "    print(\"RMSE:\",rmse,\"MAPE:\",MAPE(y_, yhat))"
   ]
  },
  {
   "cell_type": "code",
   "execution_count": null,
   "id": "e48225e9-b5e6-4f15-ba33-6c1926036762",
   "metadata": {},
   "outputs": [],
   "source": []
  }
 ],
 "metadata": {
  "kernelspec": {
   "display_name": "Python 3 (ipykernel)",
   "language": "python",
   "name": "python3"
  },
  "language_info": {
   "codemirror_mode": {
    "name": "ipython",
    "version": 3
   },
   "file_extension": ".py",
   "mimetype": "text/x-python",
   "name": "python",
   "nbconvert_exporter": "python",
   "pygments_lexer": "ipython3",
   "version": "3.9.9"
  }
 },
 "nbformat": 4,
 "nbformat_minor": 5
}
