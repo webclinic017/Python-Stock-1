{
 "cells": [
  {
   "cell_type": "code",
   "execution_count": 4,
   "id": "39566202-83e0-4abd-9ff6-b1a1941fd57e",
   "metadata": {},
   "outputs": [],
   "source": [
    "import pandas as pd\n",
    "import numpy as np\n",
    "import yfinance as yf"
   ]
  },
  {
   "cell_type": "code",
   "execution_count": 5,
   "id": "c36faa51-fb3a-40f2-8d7f-1208810aecea",
   "metadata": {},
   "outputs": [],
   "source": [
    "spy = yf.Ticker('SPY')\n",
    "hist = spy.history(period = '5y')\n",
    "pers = hist.loc[:,'Close'].apply(np.log).diff(1)"
   ]
  },
  {
   "cell_type": "code",
   "execution_count": 6,
   "id": "7f751741-653c-4415-b683-7830c57445bb",
   "metadata": {},
   "outputs": [],
   "source": [
    "def sma(prices, period):\n",
    "    return prices.loc[:,'Close'].rolling(window=period).mean()"
   ]
  },
  {
   "cell_type": "code",
   "execution_count": 7,
   "id": "3680dbf4-4ab5-44d7-bc23-c1072f39b132",
   "metadata": {},
   "outputs": [],
   "source": [
    "sma50 = sma(hist,50).fillna(0).shift(periods=1, fill_value=0)\n",
    "sma50[:200] = 0\n",
    "sma200 = sma(hist,200).fillna(0).shift(periods=1,fill_value=0)\n",
    "signal = sma50 - sma200\n",
    "sig = signal.apply(np.sign)"
   ]
  },
  {
   "cell_type": "code",
   "execution_count": 8,
   "id": "df2cc725-8734-4682-962a-550e1cef5772",
   "metadata": {},
   "outputs": [
    {
     "name": "stdout",
     "output_type": "stream",
     "text": [
      "Date\n",
      "2017-08-24         NaN\n",
      "2017-08-25    1.000000\n",
      "2017-08-28    1.000000\n",
      "2017-08-29    1.000000\n",
      "2017-08-30    1.000000\n",
      "                ...   \n",
      "2022-08-17    0.968374\n",
      "2022-08-18    0.965568\n",
      "2022-08-19    0.978720\n",
      "2022-08-22    0.999533\n",
      "2022-08-23    1.001957\n",
      "Name: Close, Length: 1258, dtype: float64\n"
     ]
    }
   ],
   "source": [
    "returns = sig * pers\n",
    "print(returns.cumsum().apply(np.exp))"
   ]
  },
  {
   "cell_type": "code",
   "execution_count": 9,
   "id": "a7cccc4e-803a-4cdb-ad88-aa2ebd8f8e4c",
   "metadata": {},
   "outputs": [],
   "source": [
    "prices = hist.loc[:,'Close'].to_numpy()\n",
    "running_sma50 = prices[150:200].mean()\n",
    "running_sma200 = prices[:200].mean()"
   ]
  },
  {
   "cell_type": "code",
   "execution_count": 10,
   "id": "8deb5268-5885-4495-9670-d4837ad42dcd",
   "metadata": {},
   "outputs": [],
   "source": [
    "event = 0\n",
    "rets = [0]\n",
    "for i in range(200, hist.shape[0]):\n",
    "    rets.append(rets[-1] + (event * (pers.iloc[i])))\n",
    "    running_sma50+=(prices[i] - prices[i-50])/50\n",
    "    running_sma200+=(prices[i] - prices[i-200])/200\n",
    "    event = np.sign(running_sma50 - running_sma200)"
   ]
  },
  {
   "cell_type": "code",
   "execution_count": 11,
   "id": "0d37cbcb-e9ed-4c83-ba59-b94ad1d6e01e",
   "metadata": {},
   "outputs": [],
   "source": [
    "import matplotlib.pyplot as plt"
   ]
  },
  {
   "cell_type": "code",
   "execution_count": null,
   "id": "4dfa2b99-f4de-4fbe-bb81-2b2db77ae116",
   "metadata": {},
   "outputs": [],
   "source": []
  },
  {
   "cell_type": "code",
   "execution_count": 14,
   "id": "a612dbf8-1bf3-4450-bd34-56a7bf825698",
   "metadata": {},
   "outputs": [
    {
     "data": {
      "text/plain": [
       "[<matplotlib.lines.Line2D at 0x1d37d096ee0>]"
      ]
     },
     "execution_count": 14,
     "metadata": {},
     "output_type": "execute_result"
    },
    {
     "data": {
      "image/png": "[encoded data removed]",
      "text/plain": [
       "<Figure size 432x288 with 1 Axes>"
      ]
     },
     "metadata": {
      "needs_background": "light"
     },
     "output_type": "display_data"
    }
   ],
   "source": [
    "plt.plot(np.exp(rets))"
   ]
  },
  {
   "cell_type": "code",
   "execution_count": 1,
   "id": "584fb59a-e9d2-4001-981c-7f962e70877b",
   "metadata": {},
   "outputs": [
    {
     "ename": "FileNotFoundError",
     "evalue": "Make sure a settings.json file is placed in the same folder as the project working directory!",
     "output_type": "error",
     "traceback": [
      "\u001b[1;31m---------------------------------------------------------------------------\u001b[0m",
      "\u001b[1;31mFileNotFoundError\u001b[0m                         Traceback (most recent call last)",
      "File \u001b[1;32m~\\AppData\\Local\\Programs\\3.9-JupyterLab\\lib\\site-packages\\blankly\\utils\\utils.py:187\u001b[0m, in \u001b[0;36m__BlanklySettings.load\u001b[1;34m(self, override_path, override_allow_nonexistent)\u001b[0m\n\u001b[0;32m    186\u001b[0m \u001b[38;5;28;01mtry\u001b[39;00m:\n\u001b[1;32m--> 187\u001b[0m     preferences \u001b[38;5;241m=\u001b[39m \u001b[43mload_json_file\u001b[49m\u001b[43m(\u001b[49m\u001b[38;5;28;43mself\u001b[39;49m\u001b[38;5;241;43m.\u001b[39;49m\u001b[43m__default_path\u001b[49m\u001b[43m)\u001b[49m\n\u001b[0;32m    188\u001b[0m \u001b[38;5;28;01mexcept\u001b[39;00m \u001b[38;5;167;01mFileNotFoundError\u001b[39;00m:\n",
      "File \u001b[1;32m~\\AppData\\Local\\Programs\\3.9-JupyterLab\\lib\\site-packages\\blankly\\utils\\utils.py:134\u001b[0m, in \u001b[0;36mload_json_file\u001b[1;34m(override_path)\u001b[0m\n\u001b[0;32m    133\u001b[0m \u001b[38;5;28;01mdef\u001b[39;00m \u001b[38;5;21mload_json_file\u001b[39m(override_path\u001b[38;5;241m=\u001b[39m\u001b[38;5;28;01mNone\u001b[39;00m):\n\u001b[1;32m--> 134\u001b[0m     f \u001b[38;5;241m=\u001b[39m \u001b[38;5;28;43mopen\u001b[39;49m\u001b[43m(\u001b[49m\u001b[43moverride_path\u001b[49m\u001b[43m,\u001b[49m\u001b[43m \u001b[49m\u001b[43m)\u001b[49m\n\u001b[0;32m    135\u001b[0m     json_file \u001b[38;5;241m=\u001b[39m json\u001b[38;5;241m.\u001b[39mload(f)\n",
      "\u001b[1;31mFileNotFoundError\u001b[0m: [Errno 2] No such file or directory: './settings.json'",
      "\nDuring handling of the above exception, another exception occurred:\n",
      "\u001b[1;31mFileNotFoundError\u001b[0m                         Traceback (most recent call last)",
      "Input \u001b[1;32mIn [1]\u001b[0m, in \u001b[0;36m<cell line: 40>\u001b[1;34m()\u001b[0m\n\u001b[0;32m     38\u001b[0m         variables[\u001b[38;5;124m\"\u001b[39m\u001b[38;5;124mhas_bought\u001b[39m\u001b[38;5;124m\"\u001b[39m] \u001b[38;5;241m=\u001b[39m \u001b[38;5;28;01mFalse\u001b[39;00m\n\u001b[0;32m     40\u001b[0m \u001b[38;5;28;01mif\u001b[39;00m \u001b[38;5;18m__name__\u001b[39m \u001b[38;5;241m==\u001b[39m \u001b[38;5;124m\"\u001b[39m\u001b[38;5;124m__main__\u001b[39m\u001b[38;5;124m\"\u001b[39m:\n\u001b[1;32m---> 41\u001b[0m     alpaca \u001b[38;5;241m=\u001b[39m \u001b[43mAlpaca\u001b[49m\u001b[43m(\u001b[49m\u001b[43m)\u001b[49m\n\u001b[0;32m     42\u001b[0m     s \u001b[38;5;241m=\u001b[39m Strategy(alpaca)\n\u001b[0;32m     43\u001b[0m     s\u001b[38;5;241m.\u001b[39madd_price_event(price_event, \u001b[38;5;124m\"\u001b[39m\u001b[38;5;124mMSFT\u001b[39m\u001b[38;5;124m\"\u001b[39m, resolution\u001b[38;5;241m=\u001b[39m\u001b[38;5;124m\"\u001b[39m\u001b[38;5;124m1d\u001b[39m\u001b[38;5;124m\"\u001b[39m, init\u001b[38;5;241m=\u001b[39minit)\n",
      "File \u001b[1;32m~\\AppData\\Local\\Programs\\3.9-JupyterLab\\lib\\site-packages\\blankly\\exchanges\\interfaces\\alpaca\\alpaca.py:28\u001b[0m, in \u001b[0;36mAlpaca.__init__\u001b[1;34m(self, portfolio_name, keys_path, settings_path)\u001b[0m\n\u001b[0;32m     27\u001b[0m \u001b[38;5;28;01mdef\u001b[39;00m \u001b[38;5;21m__init__\u001b[39m(\u001b[38;5;28mself\u001b[39m, portfolio_name\u001b[38;5;241m=\u001b[39m\u001b[38;5;28;01mNone\u001b[39;00m, keys_path\u001b[38;5;241m=\u001b[39m\u001b[38;5;124m\"\u001b[39m\u001b[38;5;124mkeys.json\u001b[39m\u001b[38;5;124m\"\u001b[39m, settings_path\u001b[38;5;241m=\u001b[39m\u001b[38;5;28;01mNone\u001b[39;00m):\n\u001b[1;32m---> 28\u001b[0m     \u001b[43mExchange\u001b[49m\u001b[38;5;241;43m.\u001b[39;49m\u001b[38;5;21;43m__init__\u001b[39;49m\u001b[43m(\u001b[49m\u001b[38;5;28;43mself\u001b[39;49m\u001b[43m,\u001b[49m\u001b[43m \u001b[49m\u001b[38;5;124;43m\"\u001b[39;49m\u001b[38;5;124;43malpaca\u001b[39;49m\u001b[38;5;124;43m\"\u001b[39;49m\u001b[43m,\u001b[49m\u001b[43m \u001b[49m\u001b[43mportfolio_name\u001b[49m\u001b[43m,\u001b[49m\u001b[43m \u001b[49m\u001b[43msettings_path\u001b[49m\u001b[43m)\u001b[49m\n\u001b[0;32m     30\u001b[0m     \u001b[38;5;66;03m# Load the auth from the keys file\u001b[39;00m\n\u001b[0;32m     31\u001b[0m     auth \u001b[38;5;241m=\u001b[39m AuthConstructor(keys_path, portfolio_name, \u001b[38;5;124m'\u001b[39m\u001b[38;5;124malpaca\u001b[39m\u001b[38;5;124m'\u001b[39m, [\u001b[38;5;124m'\u001b[39m\u001b[38;5;124mAPI_KEY\u001b[39m\u001b[38;5;124m'\u001b[39m, \u001b[38;5;124m'\u001b[39m\u001b[38;5;124mAPI_SECRET\u001b[39m\u001b[38;5;124m'\u001b[39m, \u001b[38;5;124m'\u001b[39m\u001b[38;5;124msandbox\u001b[39m\u001b[38;5;124m'\u001b[39m])\n",
      "File \u001b[1;32m~\\AppData\\Local\\Programs\\3.9-JupyterLab\\lib\\site-packages\\blankly\\exchanges\\exchange.py:44\u001b[0m, in \u001b[0;36mExchange.__init__\u001b[1;34m(self, exchange_type, portfolio_name, preferences_path)\u001b[0m\n\u001b[0;32m     41\u001b[0m \u001b[38;5;66;03m# Make a public version of portfolio name\u001b[39;00m\n\u001b[0;32m     42\u001b[0m \u001b[38;5;28mself\u001b[39m\u001b[38;5;241m.\u001b[39mportfolio_name \u001b[38;5;241m=\u001b[39m \u001b[38;5;28mself\u001b[39m\u001b[38;5;241m.\u001b[39m__name\n\u001b[1;32m---> 44\u001b[0m \u001b[38;5;28mself\u001b[39m\u001b[38;5;241m.\u001b[39mpreferences \u001b[38;5;241m=\u001b[39m \u001b[43mblankly\u001b[49m\u001b[38;5;241;43m.\u001b[39;49m\u001b[43mutils\u001b[49m\u001b[38;5;241;43m.\u001b[39;49m\u001b[43mload_user_preferences\u001b[49m\u001b[43m(\u001b[49m\u001b[43mpreferences_path\u001b[49m\u001b[43m)\u001b[49m\n\u001b[0;32m     46\u001b[0m \u001b[38;5;28mself\u001b[39m\u001b[38;5;241m.\u001b[39mmodels \u001b[38;5;241m=\u001b[39m {}\n\u001b[0;32m     48\u001b[0m \u001b[38;5;66;03m# Fill this in the method below\u001b[39;00m\n",
      "File \u001b[1;32m~\\AppData\\Local\\Programs\\3.9-JupyterLab\\lib\\site-packages\\blankly\\utils\\utils.py:232\u001b[0m, in \u001b[0;36mload_user_preferences\u001b[1;34m(override_path, override_allow_nonexistent)\u001b[0m\n\u001b[0;32m    231\u001b[0m \u001b[38;5;28;01mdef\u001b[39;00m \u001b[38;5;21mload_user_preferences\u001b[39m(override_path\u001b[38;5;241m=\u001b[39m\u001b[38;5;28;01mNone\u001b[39;00m, override_allow_nonexistent\u001b[38;5;241m=\u001b[39m\u001b[38;5;28;01mFalse\u001b[39;00m) \u001b[38;5;241m-\u001b[39m\u001b[38;5;241m>\u001b[39m \u001b[38;5;28mdict\u001b[39m:\n\u001b[1;32m--> 232\u001b[0m     \u001b[38;5;28;01mreturn\u001b[39;00m \u001b[43mgeneral_settings\u001b[49m\u001b[38;5;241;43m.\u001b[39;49m\u001b[43mload\u001b[49m\u001b[43m(\u001b[49m\u001b[43moverride_path\u001b[49m\u001b[43m,\u001b[49m\u001b[43m \u001b[49m\u001b[43moverride_allow_nonexistent\u001b[49m\u001b[38;5;241;43m=\u001b[39;49m\u001b[43moverride_allow_nonexistent\u001b[49m\u001b[43m)\u001b[49m\n",
      "File \u001b[1;32m~\\AppData\\Local\\Programs\\3.9-JupyterLab\\lib\\site-packages\\blankly\\utils\\utils.py:195\u001b[0m, in \u001b[0;36m__BlanklySettings.load\u001b[1;34m(self, override_path, override_allow_nonexistent)\u001b[0m\n\u001b[0;32m    190\u001b[0m         \u001b[38;5;28;01mreturn\u001b[39;00m \u001b[38;5;28mself\u001b[39m\u001b[38;5;241m.\u001b[39m__default_settings\n\u001b[0;32m    191\u001b[0m         \u001b[38;5;66;03m# self.write(self.__default_settings)\u001b[39;00m\n\u001b[0;32m    192\u001b[0m         \u001b[38;5;66;03m# # Recursively run this\u001b[39;00m\n\u001b[0;32m    193\u001b[0m         \u001b[38;5;66;03m# return self.load(override_path)\u001b[39;00m\n\u001b[0;32m    194\u001b[0m     \u001b[38;5;28;01melse\u001b[39;00m:\n\u001b[1;32m--> 195\u001b[0m         \u001b[38;5;28;01mraise\u001b[39;00m \u001b[38;5;167;01mFileNotFoundError\u001b[39;00m(\u001b[38;5;28mself\u001b[39m\u001b[38;5;241m.\u001b[39m__not_found_err)\n\u001b[0;32m    196\u001b[0m preferences \u001b[38;5;241m=\u001b[39m \u001b[38;5;28mself\u001b[39m\u001b[38;5;241m.\u001b[39m__compare_dicts(\u001b[38;5;28mself\u001b[39m\u001b[38;5;241m.\u001b[39m__default_settings, preferences)\n\u001b[0;32m    197\u001b[0m \u001b[38;5;28mself\u001b[39m\u001b[38;5;241m.\u001b[39m__settings_cache[\u001b[38;5;28mself\u001b[39m\u001b[38;5;241m.\u001b[39m__default_path] \u001b[38;5;241m=\u001b[39m preferences\n",
      "\u001b[1;31mFileNotFoundError\u001b[0m: Make sure a settings.json file is placed in the same folder as the project working directory!"
     ]
    }
   ],
   "source": [
    "from blankly import Alpaca, Interface, Strategy, StrategyState\n",
    "from blankly.indicators import sma\n",
    "\n",
    "def init(symbol, state: StrategyState):\n",
    "    interface: Interface = state.interface\n",
    "    resolution: float = state.resolution\n",
    "    variables = state.variables\n",
    "    # initialize the historical data\n",
    "    variables[\"history\"] = interface.history(symbol, 800, resolution, return_as='deque')[\"close\"]\n",
    "    variables[\"has_bought\"] = False\n",
    "\n",
    "def price_event(price, symbol, state: StrategyState):\n",
    "    interface: Interface = state.interface\n",
    "    # allow the resolution to be any resolution: 15m, 30m, 1d, etc.\n",
    "    resolution: float = state.resolution\n",
    "    variables = state.variables\n",
    "\n",
    "    variables[\"history\"].append(price)\n",
    "\n",
    "    sma200 = sma(variables[\"history\"], period=20)\n",
    "    sma50 = sma(variables[\"history\"], period=10)[-len(sma200):]\n",
    "    diff = sma200 - sma50\n",
    "    slope_sma50 = (\n",
    "        sma50[-1] - sma50[-5]\n",
    "    ) / 5  # get the slope of the last 5 SMA50 Data Points\n",
    "    prev_diff = diff[-2]\n",
    "    curr_diff = diff[-1]\n",
    "    is_cross_up = slope_sma50 > 0 and curr_diff >= 0 and prev_diff < 0\n",
    "    is_cross_down = slope_sma50 < 0 and curr_diff <= 0 and prev_diff > 0\n",
    "    # comparing prev diff with current diff will show a cross\n",
    "    if is_cross_up and not variables[\"has_bought\"]:\n",
    "        interface.market_order(symbol, 'buy', int(interface.cash / price))\n",
    "        variables[\"has_bought\"] = True\n",
    "    elif is_cross_down and variables[\"has_bought\"]:\n",
    "        interface.market_order(\n",
    "            symbol, 'sell', int(interface.account[symbol].available)\n",
    "        )\n",
    "        variables[\"has_bought\"] = False\n",
    "\n",
    "if __name__ == \"__main__\":\n",
    "    alpaca = Alpaca()\n",
    "    s = Strategy(alpaca)\n",
    "    s.add_price_event(price_event, \"MSFT\", resolution=\"1d\", init=init)\n",
    "    s.add_price_event(price_event, \"AAPL\", resolution=\"1d\", init=init)\n",
    "    s.backtest(initial_values={\"USD\": 10000}, to=\"2y\")"
   ]
  }
 ],
 "metadata": {
  "kernelspec": {
   "display_name": "Python 3 (ipykernel)",
   "language": "python",
   "name": "python3"
  },
  "language_info": {
   "codemirror_mode": {
    "name": "ipython",
    "version": 3
   },
   "file_extension": ".py",
   "mimetype": "text/x-python",
   "name": "python",
   "nbconvert_exporter": "python",
   "pygments_lexer": "ipython3",
   "version": "3.9.9"
  }
 },
 "nbformat": 4,
 "nbformat_minor": 5
}
