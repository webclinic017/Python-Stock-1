{
 "cells": [
  {
   "cell_type": "code",
   "execution_count": null,
   "id": "f1db181c-f744-4c82-8684-860bcc7ba200",
   "metadata": {},
   "outputs": [],
   "source": [
    "from autots import AutoTS, load_daily\n",
    "\n",
    "# sample datasets can be used in either of the long or wide import shapes\n",
    "long = False\n",
    "#df = load_daily(long=long)\n",
    "df = prices_pvt_wk['HSY']\n",
    "\n",
    "model = AutoTS(\n",
    "    forecast_length=13,\n",
    "    frequency='infer',\n",
    "    prediction_interval=0.9,\n",
    "    ensemble=False,\n",
    "    model_list=\"fast_parallel\",  # \"superfast\", \"default\", \"fast_parallel\"\n",
    "    transformer_list=\"superfast\",  # \"superfast\",\n",
    "    drop_most_recent=1,\n",
    "    max_generations=4,\n",
    "    num_validations=2,\n",
    "    validation_method=\"backwards\"\n",
    ")\n",
    "model = model.fit(\n",
    "    df,\n",
    "    date_col='datetime' if long else None,\n",
    "    value_col='value' if long else None,\n",
    "    id_col='series_id' if long else None,\n",
    ")\n",
    "\n",
    "prediction = model.predict()\n",
    "# plot a sample\n",
    "prediction.plot(model.df_wide_numeric,\n",
    "                series=model.df_wide_numeric.columns[0],\n",
    "                start_date=\"2019-01-01\")\n",
    "# Print the details of the best model\n",
    "print(model)\n",
    "\n",
    "# point forecasts dataframe\n",
    "forecasts_df = prediction.forecast\n",
    "# upper and lower forecasts\n",
    "forecasts_up, forecasts_low = prediction.upper_forecast, prediction.lower_forecast\n",
    "\n",
    "# accuracy of all tried model results\n",
    "model_results = model.results()\n",
    "# and aggregated from cross validation\n",
    "validation_results = model.results(\"validation\")"
   ]
  }
 ],
 "metadata": {
  "kernelspec": {
   "display_name": "Python 3 (ipykernel)",
   "language": "python",
   "name": "python3"
  },
  "language_info": {
   "codemirror_mode": {
    "name": "ipython",
    "version": 3
   },
   "file_extension": ".py",
   "mimetype": "text/x-python",
   "name": "python",
   "nbconvert_exporter": "python",
   "pygments_lexer": "ipython3",
   "version": "3.9.9"
  }
 },
 "nbformat": 4,
 "nbformat_minor": 5
}
