{
 "cells": [
  {
   "cell_type": "code",
   "execution_count": null,
   "id": "d2d17485-23dd-483e-8c86-be2cea0e5b4e",
   "metadata": {},
   "outputs": [],
   "source": []
  },
  {
   "cell_type": "code",
   "execution_count": null,
   "id": "7191004d-380d-41a8-b1f9-4baa99dabb5a",
   "metadata": {},
   "outputs": [],
   "source": [
    "import yfinance as yf\n",
    "import pandas as pd\n",
    "import datetime\n",
    "import numpy as np\n",
    "from datetime import datetime\n",
    "from dateutil.relativedelta import relativedelta\n",
    "from pandas_datareader import data\n",
    "from dask.distributed import Client\n",
    "from dask.distributed import as_completed\n",
    "import openpyxl\n",
    "import xlsxwriter\n",
    "import pandas_datareader.data as web"
   ]
  },
  {
   "cell_type": "code",
   "execution_count": null,
   "id": "daf0814e-c3ad-4c26-9c51-e39a16c802ae",
   "metadata": {},
   "outputs": [],
   "source": []
  },
  {
   "cell_type": "code",
   "execution_count": null,
   "id": "37ad8909-f0fb-48eb-b7d6-b940feec48a6",
   "metadata": {},
   "outputs": [],
   "source": [
    "end = datetime.today()\n",
    "#start = end - relativedelta(years=2) - relativedelta(days=3)\n",
    "start = end - relativedelta(years=2)"
   ]
  },
  {
   "cell_type": "code",
   "execution_count": null,
   "id": "e62dae8b-702e-4dc6-a41f-406f54339ef6",
   "metadata": {},
   "outputs": [],
   "source": [
    "print(end.strftime('%Y-%m-%d'))\n",
    "print(start.strftime('%Y-%m-%d'))"
   ]
  },
  {
   "cell_type": "code",
   "execution_count": null,
   "id": "efc96e28-ecf6-40fb-8eb3-541de2039c67",
   "metadata": {},
   "outputs": [],
   "source": [
    "etf_bonds = ['LQD', 'AGG', 'NEAR', 'IUSB', 'ISTB', 'IMTB', 'ILTB', 'GBF']\n",
    "etf_muni_bonds = ['MUB', 'SUB', 'MEAR']\n",
    "\n",
    "etf_treasuries = ['AGZ', 'GOVT', 'BIL', 'SHV', 'SHY', 'IEI', 'IEF', 'TLT']\n",
    "\n",
    "FRED_Indicators = [\n",
    "\"ASPUS\",\\\n",
    "\"AWHAETP\",\\\n",
    "\"B432RG3A086NBEA\",\\\n",
    "\"BAA10Y\",\\\n",
    "\"BACDINA066MNFRBNY\",\\\n",
    "\"BACTSAMFRBDAL\",\\\n",
    "\"BAMLC0A0CM\",\\\n",
    "\"BAMLCC0A1AAATRIV\",\\\n",
    "\"BAMLCC0A4BBBTRIV\",\\\n",
    "\"BAMLH0A3HYC\",\\\n",
    "\"BAMLHYH0A0HYM2TRIV\",\\\n",
    "\"BOGMBASE\",\\\n",
    "\"BOGZ1FA105015103Q\",\\\n",
    "\"BOGZ1FA145050005Q\",\\\n",
    "\"BOGZ1FA205050005Q\",\\\n",
    "\"BOGZ1FA315050005Q\",\\\n",
    "\"BOGZ1FA385050005Q\",\\\n",
    "\"BOGZ1FL105015105Q\",\\\n",
    "\"BUSAPPWNSACA\",\\\n",
    "\"CASTHPI\",\\\n",
    "\"CES0500000003\",\\\n",
    "\"CES4348400001\",\\\n",
    "\"CFNAI\",\\\n",
    "\"CFNAIDIFF\",\\\n",
    "\"CFSBCACTIVITYMFG\",\\\n",
    "\"CILACBQ158SBOG\",\\\n",
    "\"CIVPART\",\\\n",
    "\"COMREPUSQ159N\",\\\n",
    "\"CP\",\\\n",
    "\"CPALTT01USQ657N\",\\\n",
    "\"CPIAUCSL\",\\\n",
    "\"CSCICP03USM665S\",\\\n",
    "\"CSUSHPINSA\",\\\n",
    "\"CUSR0000SEHA\",\\\n",
    "\"CUUR0000SEHA\",\\\n",
    "\"DALLCIACBEP\",\\\n",
    "\"DCOILBRENTEU\",\\\n",
    "\"DCOILWTICO\",\\\n",
    "\"DEXCHUS\",\\\n",
    "\"DEXUSUK\",\\\n",
    "\"DFF\",\\\n",
    "\"DFII10\",\\\n",
    "\"DGORDER\",\\\n",
    "\"DGS1\",\\\n",
    "\"DGS10\",\\\n",
    "\"DGS1MO\",\\\n",
    "\"DGS2\",\\\n",
    "\"DGS30\",\\\n",
    "\"DGS3MO\",\\\n",
    "\"DGS5\",\\\n",
    "\"DRBLACBS\",\\\n",
    "\"DRCCLACBS\",\\\n",
    "\"DRSFRMACBS\",\\\n",
    "\"DTB3\",\\\n",
    "\"DTWEXBGS\",\\\n",
    "\"EMRATIO\",\\\n",
    "\"ERENTUSQ176N\",\\\n",
    "\"ETOTALUSQ176N\",\\\n",
    "\"FEDFUNDS\",\\\n",
    "\"FGCCSAQ027S\",\\\n",
    "\"FPCPITOTLZGUSA\",\\\n",
    "\"GASREGW\",\\\n",
    "\"GDPC1\",\\\n",
    "\"GFDEBTN\",\\\n",
    "\"GFDEGDQ188S\",\\\n",
    "\"GOLDAMGBD228NLBM\",\\\n",
    "\"GVZCLS\",\\\n",
    "\"HDTGPDUSQ163N\",\\\n",
    "\"HOSMEDUSM052N\",\\\n",
    "\"IC4WSA\",\\\n",
    "\"ICSA\",\\\n",
    "\"IIPUSNETIQ\",\\\n",
    "\"INDPRO\",\\\n",
    "\"INTDSRUSM193N\",\\\n",
    "\"IRLTLT01USM156N\",\\\n",
    "\"KCFSI\",\\\n",
    "\"LES1250881600Q\",\\\n",
    "\"LEU0250918500Q\",\\\n",
    "\"LFWA64TTUSM647S\",\\\n",
    "\"LRUN64TTUSQ156S\",\\\n",
    "\"LXXRCSA\",\\\n",
    "\"M1\",\\\n",
    "\"M1V\",\\\n",
    "\"M2V\",\\\n",
    "\"MABMM301USM189S\",\\\n",
    "\"MANMM101USA189S\",\\\n",
    "\"MEFAINUSA672N\",\\\n",
    "\"MEHOINUSA672N\",\\\n",
    "\"MEPAINUSA672N\",\\\n",
    "\"MICH\",\\\n",
    "\"MORTGAGE30US\",\\\n",
    "\"MPRIME\",\\\n",
    "\"MSPUS\",\\\n",
    "\"MZMSL\",\\\n",
    "\"NFCI\",\\\n",
    "\"NROU\",\\\n",
    "\"NYSTHPI\",\\\n",
    "\"PAYEMS\",\\\n",
    "\"PERMIT\",\\\n",
    "\"POP\",\\\n",
    "\"POPTOTUSA647NWDB\",\\\n",
    "\"PPIACO\",\\\n",
    "\"PRFI\",\\\n",
    "\"PSAVERT\",\\\n",
    "\"Q10096USQ144NNBR\",\\\n",
    "\"RECPROUSM156N\",\\\n",
    "\"RSAHORUSQ156S\",\\\n",
    "\"SPCS20RSA\",\\\n",
    "\"STLFSI2\",\\\n",
    "\"T10Y2Y\",\\\n",
    "\"T10Y3M\",\\\n",
    "\"T10YIE\",\\\n",
    "\"T5YIE\",\\\n",
    "\"T5YIFR\",\\\n",
    "\"TB3MS\",\\\n",
    "\"TCU\",\\\n",
    "\"TDSP\",\\\n",
    "\"TEDRATE\",\\\n",
    "\"TOTALSA\",\\\n",
    "\"TREAST\",\\\n",
    "\"TTLHH\",\\\n",
    "\"TWEXB\",\\\n",
    "\"UMCSENT\",\\\n",
    "\"U6RATE\",\\\n",
    "\"UNRATE\",\\\n",
    "\"USPHCI\",\\\n",
    "\"USREC\",\\\n",
    "\"USROA\",\\\n",
    "\"USROE\",\\\n",
    "\"USSLIND\",\\\n",
    "\"USSTHPI\",\\\n",
    "\"VIXCLS\",\\\n",
    "\"VXVCLS\",\\\n",
    "\"WDFUELLA\",\\\n",
    "\"WGS3MO\",\\\n",
    "\"WILLLRGCAPVAL\",\\\n",
    "\"WILLMICROCAPPR\",\\\n",
    "\"WPU0911\",\\\n",
    "\"WTB3MS\"    \n",
    "]\n",
    "\n",
    "etf_bonds = [*etf_bonds,*etf_muni_bonds,*etf_treasuries]"
   ]
  },
  {
   "cell_type": "code",
   "execution_count": null,
   "id": "73ec357b-b4a7-4cef-ab26-21b0067836ed",
   "metadata": {},
   "outputs": [],
   "source": [
    "SP500ticker_list = pd.read_html('http://en.wikipedia.org/wiki/List_of_S%26P_500_companies')[0]\n",
    "SP600ticker_list = pd.read_html('https://en.wikipedia.org/wiki/List_of_S%26P_600_companies')[1]\n",
    "SP400ticker_list = pd.read_html('https://en.wikipedia.org/wiki/List_of_S%26P_400_companies')[0]\n"
   ]
  },
  {
   "cell_type": "code",
   "execution_count": null,
   "id": "03ef454c-a181-47bd-86e1-a4057d2ef192",
   "metadata": {},
   "outputs": [],
   "source": [
    "sp500 = SP500ticker_list['Symbol']\n",
    "sp500 = [w.replace('.', '-') for w in sp500]\n",
    "sp600 = SP600ticker_list['Ticker symbol']\n",
    "sp600 = [w.replace('.', '-') for w in sp600]\n",
    "sp400 = SP400ticker_list['Ticker symbol']\n",
    "sp400 = [w.replace('.', '-') for w in sp400]\n"
   ]
  },
  {
   "cell_type": "code",
   "execution_count": null,
   "id": "37854ad3-4fe2-483f-9597-dcc7504b50af",
   "metadata": {},
   "outputs": [],
   "source": [
    "len(sp500)+len(sp600)+len(sp400)"
   ]
  },
  {
   "cell_type": "code",
   "execution_count": null,
   "id": "cb70dc73-5b3a-4865-aa4e-ece09235a43c",
   "metadata": {},
   "outputs": [],
   "source": [
    "print(len(sp500))\n",
    "SP1500 = list()\n",
    "SP1500.extend(sp500)\n",
    "sp600 = list(set(sp600).difference(SP1500))\n",
    "print(len(sp600))\n",
    "SP1500.extend(sp600)\n",
    "sp400 = list(set(sp400).difference(SP1500))\n",
    "print(len(sp400))\n",
    "SP1500.extend(set(sp400).difference(SP1500))"
   ]
  },
  {
   "cell_type": "code",
   "execution_count": null,
   "id": "f4fc2a30-097c-470d-b6bf-f524c965bc83",
   "metadata": {},
   "outputs": [],
   "source": []
  },
  {
   "cell_type": "code",
   "execution_count": null,
   "id": "8f83930a-c582-4686-9d56-c73712d25db7",
   "metadata": {},
   "outputs": [],
   "source": []
  },
  {
   "cell_type": "code",
   "execution_count": null,
   "id": "4675c840-534a-41ca-861e-d0accdb076e1",
   "metadata": {},
   "outputs": [],
   "source": []
  },
  {
   "cell_type": "code",
   "execution_count": null,
   "id": "ff4c2cdb-9ae2-44e7-834d-fc35e39d417b",
   "metadata": {},
   "outputs": [],
   "source": []
  },
  {
   "cell_type": "code",
   "execution_count": null,
   "id": "ae9be00b-7d31-426b-a859-5591e02a7d4a",
   "metadata": {},
   "outputs": [],
   "source": []
  },
  {
   "cell_type": "code",
   "execution_count": null,
   "id": "65e0e422-c87d-49c4-ac26-fe1e419e45ba",
   "metadata": {},
   "outputs": [],
   "source": []
  },
  {
   "cell_type": "code",
   "execution_count": null,
   "id": "d569a219-261e-4ec8-bff4-3b645aad7be6",
   "metadata": {},
   "outputs": [],
   "source": [
    "sp1500_index_df = pd.DataFrame()\n",
    "\n",
    "lists = [\"sp500\",\"sp600\",\"sp400\"]\n",
    "\n",
    "for l in lists:\n",
    "    if(l=='sp500'):\n",
    "        df = pd.DataFrame(sp500,columns=['Symbol'])\n",
    "        print(len(df))\n",
    "        #range_ = \n",
    "        #print(range_)\n",
    "        df['Market Index'] = pd.Series([\"SP500\" for x in range(0,len(df.index),1)])\n",
    "    elif(l=='sp600'):\n",
    "        df = pd.DataFrame(np.array(sp600),columns=['Symbol'])        \n",
    "        print(len(df))        \n",
    "        df['Market Index'] = pd.Series([\"SP600\" for x in range(len(df.index))])\n",
    "        df.index = range(len(sp500),(len(sp500)+len(df.index)),1)        \n",
    "    else:\n",
    "        df = pd.DataFrame(np.array(sp400),columns=['Symbol'])\n",
    "        print(len(df))\n",
    "        df['Market Index'] = pd.Series([\"SP400\" for x in range(len(df.index))])\n",
    "        df.index = range((len(sp500)+len(sp600)),(len(sp500)+len(sp600)+len(df.index)),1)\n",
    "    sp1500_index_df = pd.concat([sp1500_index_df,df],axis=0)"
   ]
  },
  {
   "cell_type": "code",
   "execution_count": null,
   "id": "3afecc03-b536-4a60-9742-6be019181891",
   "metadata": {},
   "outputs": [],
   "source": [
    "len(sp1500_index_df)-len(SP1500)"
   ]
  },
  {
   "cell_type": "code",
   "execution_count": null,
   "id": "4d084364-b2ea-41b6-a824-00d418a993f4",
   "metadata": {},
   "outputs": [],
   "source": []
  },
  {
   "cell_type": "code",
   "execution_count": null,
   "id": "ed84b613-5a31-4543-98c6-d37725183967",
   "metadata": {},
   "outputs": [],
   "source": []
  },
  {
   "cell_type": "code",
   "execution_count": null,
   "id": "b8c1d1f2-1525-4ae8-b7dd-2d4c008d1b71",
   "metadata": {},
   "outputs": [],
   "source": []
  },
  {
   "cell_type": "code",
   "execution_count": null,
   "id": "31b9d29c-3d80-4b4f-931b-352b10fc4840",
   "metadata": {},
   "outputs": [],
   "source": [
    "def Fred_Data(npa):\n",
    "    name = npa[0]\n",
    "    start_ = npa[1]\n",
    "    end_ = npa[2]\n",
    "    temp = web.DataReader(str(name), 'fred', start_, end_)\n",
    "    temp.index = pd.to_datetime(temp.index)\n",
    "    temp.columns = ['Value']\n",
    "    temp['Symbol'] = name\n",
    "    #temp = temp.resample(frequency).mean().dropna()\n",
    "    return(temp)\n",
    "\n",
    "def dl(npa):\n",
    "    name = npa[0]\n",
    "    start_ = npa[1]\n",
    "    end_ = npa[2]\n",
    "    subset = yf.download(name, start=start_, end=end_, auto_adjust=True).iloc[:, :6].dropna(axis=0, how='any')\n",
    "    subset['Symbol'] = name\n",
    "\n",
    "    return (subset)\n",
    "    \n",
    "def dl2(assets):\n",
    "\n",
    "    yahoo_financials = YahooFinancials(assets)\n",
    "\n",
    "    data = yahoo_financials.get_historical_price_data(start_date=start_date.strftime('%Y-%m-%d'), end_date=end_date.strftime('%Y-%m-%d'), time_interval='daily')\n",
    "    return(data)"
   ]
  },
  {
   "cell_type": "code",
   "execution_count": null,
   "id": "b3ea87bb-f40b-49a9-9060-4b8a4dd809fc",
   "metadata": {},
   "outputs": [],
   "source": [
    "def getStock(npa):\n",
    "    #position = npa[0]\n",
    "    symbol = npa[0]\n",
    "    start_=npa[1]\n",
    "    end_=npa[2]\n",
    "    #print(symbol)\n",
    "    \n",
    "    #tickerdata.history(period=\"2Y\")\n",
    "    #tickerdata = yf.Ticker(symbol)\n",
    "    #data_ = tickerdata.history(start=start_,end=end_)\n",
    "    data_ = yf.download(symbol, start=start_,end=end_)\n",
    "    #data_['Sector'] = tickerdata.info['sector']\n",
    "    #data_['Symbol'] = symbol\n",
    "    #data_['Market Cap'] = data.get_quote_yahoo(names[n])['marketCap']\n",
    "    #data_['Sector'] = tickerdata.info['sector']\n",
    "    \n",
    "    \"\"\"\n",
    "    tickerdata.info\n",
    "    tickerdata.quarterly_balance_sheet\n",
    "    tickerdata.quarterly_cashflow\n",
    "    tickerdata.quarterly_dividends\n",
    "    tickerdata.quarterly_earnings\n",
    "    tickerdata.quarterly_financials\n",
    "    tickerdata.actions\n",
    "    tickerdata.mutualfund_holders\n",
    "    tickerdata.options\n",
    "    tickerdata.sustainability\n",
    "    \"\"\"\n",
    "    \n",
    "    return([symbol,data_])"
   ]
  },
  {
   "cell_type": "code",
   "execution_count": null,
   "id": "f6f009c3-0390-4caf-ba6b-9c8de57e8cac",
   "metadata": {},
   "outputs": [],
   "source": [
    "def getTickerData(npa):\n",
    "    symbol = npa[0]\n",
    "    \n",
    "    stock_data = yf.Ticker(symbol) \n",
    "    return([symbol,stock_data])"
   ]
  },
  {
   "cell_type": "code",
   "execution_count": null,
   "id": "ac2521e1-d0dc-4b2b-ad44-676ed7af6a0d",
   "metadata": {},
   "outputs": [],
   "source": [
    "def getMarketData(npa):\n",
    "    symbol = npa[0]\n",
    "\n",
    "    #start_=npa[2]\n",
    "    #end_=npa[3]\n",
    "    #print(symbol)\n",
    "    \n",
    "    #tickerdata.history(period=\"2Y\")\n",
    "    #tickerdata = yf.Ticker(symbol)\n",
    "    #data_ = tickerdata.history(start=start_,end=end_)\n",
    "    #data_ = data.get_quote_yahoo(symbol)['marketCap']\n",
    "    data_ = data.get_quote_yahoo(symbol)\n",
    "    #data_['Sector'] = tickerdata.info['sector']\n",
    "    \n",
    "    \"\"\"\n",
    "    tickerdata.info\n",
    "    tickerdata.quarterly_balance_sheet\n",
    "    tickerdata.quarterly_cashflow\n",
    "    tickerdata.quarterly_dividends\n",
    "    tickerdata.quarterly_earnings\n",
    "    tickerdata.quarterly_financials\n",
    "    tickerdata.actions\n",
    "    tickerdata.mutualfund_holders\n",
    "    tickerdata.options\n",
    "    tickerdata.sustainability\n",
    "    \"\"\"\n",
    "    \n",
    "    return([symbol,data_])"
   ]
  },
  {
   "cell_type": "code",
   "execution_count": null,
   "id": "881e051b-43f4-4b43-9cbd-0a9e6ffc4b29",
   "metadata": {},
   "outputs": [],
   "source": [
    "def getSector(npa):\n",
    "    #position = npa[0]\n",
    "    symbol = npa[0]\n",
    "    #start_=npa[2]\n",
    "    #end_=npa[3]\n",
    "    \n",
    "    tickerdata = yf.Ticker(symbol)\n",
    "    return([symbol,tickerdata.info['sector']])"
   ]
  },
  {
   "cell_type": "code",
   "execution_count": null,
   "id": "c9b5c137-7afa-463b-8d0d-f91a4e5cab19",
   "metadata": {},
   "outputs": [],
   "source": []
  },
  {
   "cell_type": "code",
   "execution_count": null,
   "id": "34c4ce13-ea4c-46fa-adc8-3672abc8823e",
   "metadata": {},
   "outputs": [],
   "source": []
  },
  {
   "cell_type": "code",
   "execution_count": null,
   "id": "51d9be04-361c-4dbc-967e-f652a6565c6f",
   "metadata": {},
   "outputs": [],
   "source": []
  },
  {
   "cell_type": "code",
   "execution_count": null,
   "id": "bd578a91-56d8-415c-ad14-f75a00ff6a2f",
   "metadata": {},
   "outputs": [],
   "source": []
  },
  {
   "cell_type": "code",
   "execution_count": null,
   "id": "fc1221f6-2044-4b19-a905-6711e405f756",
   "metadata": {},
   "outputs": [],
   "source": [
    "def derive_price_supply_trends(npa_):\n",
    "    name = npa_[0]\n",
    "    data = npa_[1]\n",
    "    data_ = data\n",
    "    data_['Symbol'] = name\n",
    "    \"\"\"\n",
    "    if(np.sum(duplicates==names_prices[n])>0):\n",
    "        #potential duplicate\n",
    "        if((np.sum((np.unique(prices_df['Symbol']))==n))>0):\n",
    "            pass\n",
    "        else:\n",
    "            prices_df = pd.concat([prices_df,data_],axis=0)            \n",
    "    else:\n",
    "    \"\"\"\n",
    "    \n",
    "    data_['trailing_1yr_max'] = (pd.DataFrame(data_)['High']).rolling(250).max()\n",
    "    data_['MIN_Lookback_One_Year'] = data_['trailing_1yr_max'].rolling(250).min()\n",
    "    data_['MIN_Lookback_6_Months'] = data_['trailing_1yr_max'].rolling(125).min()\n",
    "    data_['MIN_Lookback_2_Months'] = data_['trailing_1yr_max'].rolling(42).min()\n",
    "    data_['MIN_Lookback_1_Months'] = data_['trailing_1yr_max'].rolling(21).min()\n",
    "\n",
    "    data_['trailing_1yr_min'] = (pd.DataFrame(data_)['Low']).rolling(250).min()\n",
    "    \n",
    "    data_['supply_trend_1yr'] = pd.DataFrame(data_)['Adj Close']-(pd.DataFrame(data_)['High']).rolling(250).min()\n",
    "    \n",
    "    data_['supply_trend_180d'] = pd.DataFrame(data_)['Adj Close']-(pd.DataFrame(data_)['High']).rolling(125).min()\n",
    "    \n",
    "    data_['supply_trend_90d'] = pd.DataFrame(data_)['Adj Close']-(pd.DataFrame(data_)['High']).rolling(63).min()\n",
    "    \n",
    "    data_['supply_trend_60d'] = pd.DataFrame(data_)['Adj Close']-(pd.DataFrame(data_)['High']).rolling(42).min()\n",
    "    \n",
    "    data_['supply_trend_30d'] = pd.DataFrame(data_)['Adj Close']-(pd.DataFrame(data_)['High']).rolling(21).min()\n",
    "\n",
    "    data_['trailing_60d_max'] = (pd.DataFrame(data_)['High']).rolling(42).max()\n",
    "    data_['trailing_60d_min'] = (pd.DataFrame(data_)['Low']).rolling(42).min()\n",
    "    \n",
    "    data_['trailing_30d_max'] = (pd.DataFrame(data_)['High']).rolling(21).max()\n",
    "    data_['trailing_30d_min'] = (pd.DataFrame(data_)['Low']).rolling(21).min()\n",
    "\n",
    "    data_['trailing_risk_40d_max'] = (pd.DataFrame(data_)['High']).rolling(40).max()\n",
    "    data_['trailing_risk_40d_min'] = (pd.DataFrame(data_)['Low']).rolling(40).min()\n",
    "    \n",
    "    data_['risk_per_share'] = data_['trailing_risk_40d_max']-data_['trailing_risk_40d_min']\n",
    "    \n",
    "    data_['30d_vol'] = (pd.DataFrame(data_)['Volume']).rolling(21).sum()\n",
    "    \n",
    "    data_['momentum_1yr'] = (data_['Adj Close']-data_['MIN_Lookback_One_Year']) + (data_['Adj Close']-data_['MIN_Lookback_6_Months']) + (data_['Adj Close']-data_['MIN_Lookback_2_Months']) + (data_['Adj Close']-data_['MIN_Lookback_1_Months'])\n",
    "    \n",
    "    data_['risk_trend_factor'] = data_['momentum_1yr']/data_['risk_per_share']\n",
    "    \n",
    "    return(data_)"
   ]
  },
  {
   "cell_type": "code",
   "execution_count": null,
   "id": "dfcd5932-c32a-4569-a95e-cb41fd87df8a",
   "metadata": {},
   "outputs": [],
   "source": [
    "def extractTickerValues(npa):\n",
    "    n_ = npa[0]\n",
    "    r_ = npa[1]\n",
    "    #print(r_)\n",
    "    \n",
    "    subset = pd.DataFrame([r_.info])\n",
    "    #print(subset)\n",
    "    \n",
    "    if(np.sum(np.where(subset.columns=='beta'))==0):\n",
    "        b_ = 'error'\n",
    "    else:\n",
    "        b_ = subset['beta'].values[0]\n",
    "        \n",
    "    if(np.sum(np.where(subset.columns=='returnOnAssets'))==0):\n",
    "        roa_ = 'error'\n",
    "    else:\n",
    "        roa_ = subset['returnOnAssets'].values[0]\n",
    "                \n",
    "    if(np.sum(np.where(subset.columns=='returnOnEquity'))==0):\n",
    "        roe_ = 'error'\n",
    "    else:\n",
    "        roe_ = subset['returnOnEquity'].values[0]\n",
    "        \n",
    "    if(np.sum(np.where(subset.columns=='debtToEquity'))==0):\n",
    "        debtToEquity = 'error'\n",
    "    else:\n",
    "        debtToEquity = subset['debtToEquity'].values[0]\n",
    "        \n",
    "    if(np.sum(np.where(subset.columns=='quickRatio'))==0):\n",
    "        quickRatio = 'error'\n",
    "    else:\n",
    "        quickRatio = subset['quickRatio'].values[0]\n",
    "        \n",
    "    if(np.sum(np.where(subset.columns=='dividendRate'))==0):\n",
    "        dividendRate = 'error'\n",
    "    else:        \n",
    "        dividendRate = subset['dividendRate'].values[0]    \n",
    "\n",
    "    data_ = pd.DataFrame([[b_,roa_,roe_,quickRatio,debtToEquity,dividendRate]],columns=['beta','roa','roe','debtToEquity','quickRatio','dividendDate'],index=['n_'])\n",
    "    \n",
    "    return([n_,data_])"
   ]
  },
  {
   "cell_type": "code",
   "execution_count": null,
   "id": "98802d47-bc74-42d5-bb94-21ee8a12b6fa",
   "metadata": {},
   "outputs": [],
   "source": [
    "def calculateMetrics(data_):\n",
    "    data_df = data_\n",
    "    n_ = data_df['Symbol'].values[-1]\n",
    "    \n",
    "    latest_p = pd.DataFrame(data_df)['Adj Close'][-1]\n",
    "    oneYearDate = pd.DataFrame(data_df)['Adj Close'][[-1]].index[0] - relativedelta(years=1)\n",
    "    \n",
    "    #separate subset for past year.\n",
    "    past_year = data_df[data_df.index>=oneYearDate.strftime('%Y-%m-%d')]\n",
    "    \n",
    "    #np.max(npa[np.where(np.array(names_prices)=='GBX')[0][0]]['High'])\n",
    "    max_2y = pd.DataFrame(data_df)['High'].rolling(500).max()[-1]\n",
    "    min_2y = pd.DataFrame(data_df)['Low'].rolling(500).min()[-1]\n",
    "    \n",
    "    #quantiles_close_2y = data_df['Adj Close'].rolling(500).quantile(q=[0, .02, .09, .25, .5, .75, .91, .98, 1])[-1]\n",
    "    quantiles_close_2y = data_df['Adj Close'].quantile(q=[0, .02, .09, .25, .5, .75, .91, .98, 1])\n",
    "    \n",
    "    std_2y = pd.DataFrame(data_df)['Adj Close'].rolling(500).std()[-1]\n",
    "    mean_2y = pd.DataFrame(data_df)['Adj Close'].rolling(500).mean()[-1]\n",
    "    \n",
    "    max_1y = past_year['High'].rolling(250).max()[-1]\n",
    "    min_1y = past_year['Low'].rolling(250).min()[-1]\n",
    "    \n",
    "    #quantiles_close_1y = data_df['Adj Close'].rolling(250).quantile(q=[0, .02, .09, .25, .5, .75, .91, .98, 1])[-1]\n",
    "    quantiles_close_1y = past_year['Adj Close'].quantile(q=[0, .02, .09, .25, .5, .75, .91, .98, 1])\n",
    "    \n",
    "    std_1y = past_year['Adj Close'].rolling(250).std()[-1]\n",
    "    mean_1y = past_year['Adj Close'].rolling(250).mean()[-1]\n",
    "    \n",
    "    risk_trend_factor = data_df['risk_trend_factor'][-1]\n",
    "    \n",
    "    supply_trend_1yr = data_df['supply_trend_1yr'][-1]\n",
    "    supply_trend_180d = data_df['supply_trend_180d'][-1]\n",
    "    supply_trend_90d = data_df['supply_trend_90d'][-1]\n",
    "    supply_trend_60d = data_df['supply_trend_60d'][-1]\n",
    "    supply_trend_30d = data_df['supply_trend_30d'][-1]\n",
    "    \n",
    "    MIN_Lookback_One_Year = data_df['MIN_Lookback_One_Year'][-1]\n",
    "    MIN_Lookback_6_Months = data_df['MIN_Lookback_6_Months'][-1]\n",
    "    MIN_Lookback_2_Months = data_df['MIN_Lookback_2_Months'][-1]\n",
    "    MIN_Lookback_1_Months = data_df['MIN_Lookback_1_Months'][-1]\n",
    "    \n",
    "    #vol_30d_2yr = data_df['30d_vol'].rolling(500).mean()[-1]\n",
    "    vol_30d_2yr = np.mean(data_df['30d_vol'])\n",
    "    \n",
    "    pct_2yr = (latest_p - min_2y)/(max_2y-min_2y)\n",
    "    pct_1yr = (latest_p - min_1y)/(max_1y-min_1y)\n",
    "    \n",
    "    return([n_,max_2y,min_2y,std_2y,mean_2y,max_1y,min_1y,std_1y,mean_1y,latest_p,*quantiles_close_2y,*quantiles_close_1y,risk_trend_factor,supply_trend_1yr,supply_trend_180d,supply_trend_90d,supply_trend_60d,supply_trend_30d,vol_30d_2yr,pct_1yr,pct_2yr,MIN_Lookback_One_Year, MIN_Lookback_6_Months, MIN_Lookback_2_Months, MIN_Lookback_1_Months])"
   ]
  },
  {
   "cell_type": "code",
   "execution_count": null,
   "id": "c43bd8bc-1cff-4640-937b-40623195a3d4",
   "metadata": {},
   "outputs": [],
   "source": []
  },
  {
   "cell_type": "code",
   "execution_count": null,
   "id": "358e9f1f-2e9e-4a5b-8256-714590c08089",
   "metadata": {},
   "outputs": [],
   "source": [
    "#test\n",
    "\"\"\"\n",
    "dates = []\n",
    "for d in pd.read_csv('sample.csv')['Date']:\n",
    "    dates.append(datetime.strptime(d, '%d-%b-%y'))\n",
    "\n",
    "temp = pd.read_csv('sample.csv',thousands=\",\")\n",
    "temp.index = dates\n",
    "temp = temp.iloc[:,1:]\n",
    "temp.columns = ['Open','High','Low','Adj Close','Volume']\n",
    "#temp['Close'] = temp['Close'].astype(float)\n",
    "temp.sort_index(inplace=True)\n",
    "temp\n",
    "\n",
    "derive_price_supply_trends(['test',temp]).sort_index(ascending=False)\n",
    "calculateMetrics(temp)\n",
    "\"\"\""
   ]
  },
  {
   "cell_type": "code",
   "execution_count": null,
   "id": "b8edcd27-14b7-43cc-a201-63874d880c18",
   "metadata": {},
   "outputs": [],
   "source": []
  },
  {
   "cell_type": "code",
   "execution_count": null,
   "id": "36a0eb5a-0485-4449-950d-bb2306d95aab",
   "metadata": {},
   "outputs": [],
   "source": []
  },
  {
   "cell_type": "code",
   "execution_count": null,
   "id": "bb3f1776-9873-4073-9461-b39ad3b44eba",
   "metadata": {},
   "outputs": [],
   "source": []
  },
  {
   "cell_type": "code",
   "execution_count": null,
   "id": "8ddc3297-7bc0-45fd-b8bd-61a0a50e71fa",
   "metadata": {},
   "outputs": [],
   "source": []
  },
  {
   "cell_type": "code",
   "execution_count": null,
   "id": "3393b8a2-5999-4feb-85f1-c0a76282f443",
   "metadata": {},
   "outputs": [],
   "source": [
    "npa = []\n",
    "for i in range(0,len(SP1500)):\n",
    "    npa.append([SP1500[i],start.strftime('%Y-%m-%d'),end.strftime('%Y-%m-%d')])\n",
    "    \n",
    "# = getStock(npa[0])\n",
    "    \n",
    "client = Client('192.168.3.100:8786')\n",
    "client.restart()\n",
    "future = client.map(getStock, npa)\n",
    "results_prices = []\n",
    "#my intent was to capture future objects vs results and this gave me results\n",
    "for f in as_completed(future):\n",
    "    if(f.status==\"error\"):\n",
    "        results_prices.append(\"error\")\n",
    "    else:\n",
    "        results_prices.append(f.result()) \n",
    "client.close()\n"
   ]
  },
  {
   "cell_type": "code",
   "execution_count": null,
   "id": "d707cd76-6f71-45d8-a712-6d98e3c044d0",
   "metadata": {},
   "outputs": [],
   "source": []
  },
  {
   "cell_type": "code",
   "execution_count": null,
   "id": "f347227d-1496-4651-b726-80c878f66d10",
   "metadata": {},
   "outputs": [],
   "source": [
    "npa = []\n",
    "for i in range(0,len(SP1500)):\n",
    "    npa.append([SP1500[i]])\n",
    "\n",
    "#getSector(npa[0])\n",
    "\n",
    "client = Client('192.168.3.100:8786')\n",
    "client.restart()\n",
    "\n",
    "future = client.map(getSector, npa)\n",
    "results_sectors = []\n",
    "#my intent was to capture future objects vs results and this gave me results\n",
    "for f in as_completed(future):\n",
    "    if(f.status==\"error\"):\n",
    "        results_sectors.append(\"error\")\n",
    "    else:\n",
    "        results_sectors.append(f.result()) \n",
    "client.close()\n"
   ]
  },
  {
   "cell_type": "code",
   "execution_count": null,
   "id": "149e7499-cdb3-4a20-b5aa-32ffd73ddd88",
   "metadata": {},
   "outputs": [],
   "source": [
    "len(np.unique([r[0] for r in results_sectors]))"
   ]
  },
  {
   "cell_type": "code",
   "execution_count": null,
   "id": "79041790-49ec-44b6-ae4d-ced592cc5505",
   "metadata": {},
   "outputs": [],
   "source": [
    "#Drop Down screen metrics\n",
    "#by sector\n",
    "#further subdivide by market\n",
    "#https://stackoverflow.com/questions/64919511/dateformatter-is-bringing-1970-as-year-not-the-original-year-in-the-dataset\n"
   ]
  },
  {
   "cell_type": "code",
   "execution_count": null,
   "id": "0c730c72-11fe-42a0-9856-b3b97d033e5c",
   "metadata": {},
   "outputs": [],
   "source": [
    "sectors_df = pd.DataFrame()\n",
    "\n",
    "for r in range(0,len(results_sectors)):\n",
    "    r_ = results_sectors[r]\n",
    "    if(r_=='error'):\n",
    "        pass#sectors_df = pd.concat([sectors_df,pd.DataFrame([np.nan],index=[i_],columns=['Sector'])],axis=0)\n",
    "    else:\n",
    "        s_ = np.array(r_)[1]\n",
    "        i_ = np.array(r_)[0]\n",
    "        sectors_df = pd.concat([sectors_df,pd.DataFrame([s_],index=[i_],columns=['Sector'])],axis=0)\n",
    "\n",
    "missing_sectors = list(set(SP1500).difference([r[0] for r in results_sectors]))\n",
    "\n",
    "for r in range(0,len(missing_sectors)):\n",
    "    r_ = missing_sectors[r]\n",
    "    #s_ = np.array(r_)[1]\n",
    "    #i_ = np.array(r_)[0]\n",
    "    sectors_df = pd.concat([sectors_df,pd.DataFrame(['error'],index=[r_],columns=['Sector'])],axis=0)"
   ]
  },
  {
   "cell_type": "code",
   "execution_count": null,
   "id": "b990a045-2680-438b-8806-95253a57655d",
   "metadata": {},
   "outputs": [],
   "source": []
  },
  {
   "cell_type": "code",
   "execution_count": null,
   "id": "36db1228-819c-4898-9b69-944137a9368e",
   "metadata": {},
   "outputs": [],
   "source": [
    "#sectors_df"
   ]
  },
  {
   "cell_type": "code",
   "execution_count": null,
   "id": "593a56c1-0ab1-442f-9b9b-5b1f7a791c41",
   "metadata": {},
   "outputs": [],
   "source": [
    "#mktcap_df"
   ]
  },
  {
   "cell_type": "code",
   "execution_count": null,
   "id": "dbc7cb02-cbbe-4160-9b62-8e23cfe97fcd",
   "metadata": {},
   "outputs": [],
   "source": [
    "#np.sum(sectors_df.index.duplicated())"
   ]
  },
  {
   "cell_type": "code",
   "execution_count": null,
   "id": "9c52ba63-1a3a-4f4a-9487-619ff23c8fca",
   "metadata": {},
   "outputs": [],
   "source": []
  },
  {
   "cell_type": "code",
   "execution_count": null,
   "id": "aa2d9507-81a0-486c-9d02-bafcb99ad8e3",
   "metadata": {},
   "outputs": [],
   "source": []
  },
  {
   "cell_type": "code",
   "execution_count": null,
   "id": "84d35b51-f40c-408a-b844-39235309f2aa",
   "metadata": {},
   "outputs": [],
   "source": []
  },
  {
   "cell_type": "code",
   "execution_count": null,
   "id": "aae832b1-7cea-4fe9-ab1a-8bae4f6d7d92",
   "metadata": {},
   "outputs": [],
   "source": [
    "#sectors_df.reindex(mktcap_df.index.duplicated())"
   ]
  },
  {
   "cell_type": "code",
   "execution_count": null,
   "id": "a5a0b613-30db-41fc-8cf9-8a6177d7a293",
   "metadata": {},
   "outputs": [],
   "source": []
  },
  {
   "cell_type": "code",
   "execution_count": null,
   "id": "112ae9cd-66eb-45c9-bf5f-511ee3266326",
   "metadata": {},
   "outputs": [],
   "source": []
  },
  {
   "cell_type": "code",
   "execution_count": null,
   "id": "b80f8f31-0201-422a-96a7-5a0a4d4caa68",
   "metadata": {},
   "outputs": [],
   "source": []
  },
  {
   "cell_type": "code",
   "execution_count": null,
   "id": "50faf270-562b-40a1-852d-525a14967797",
   "metadata": {},
   "outputs": [],
   "source": []
  },
  {
   "cell_type": "code",
   "execution_count": null,
   "id": "f79e4ef8-ce6b-4d35-a17f-685a39c523c4",
   "metadata": {},
   "outputs": [],
   "source": []
  },
  {
   "cell_type": "code",
   "execution_count": null,
   "id": "9d5bc91a-2167-4419-a70e-fd3da7989f4f",
   "metadata": {},
   "outputs": [],
   "source": []
  },
  {
   "cell_type": "code",
   "execution_count": null,
   "id": "8c1df626-207c-42d1-9357-0b2cfc091eae",
   "metadata": {},
   "outputs": [],
   "source": []
  },
  {
   "cell_type": "code",
   "execution_count": null,
   "id": "5db05c54-25b2-481d-a867-c859bd0f81bb",
   "metadata": {},
   "outputs": [],
   "source": [
    "npa = []\n",
    "for i in range(0,len(SP1500)):\n",
    "    npa.append([SP1500[i]])\n",
    "\n",
    "#getMarketCap(npa[0])\n",
    "\n",
    "client = Client('192.168.3.100:8786')\n",
    "client.restart()\n",
    "\n",
    "future = client.map(getMarketData, npa)\n",
    "results_mkt_data = []\n",
    "#my intent was to capture future objects vs results and this gave me results\n",
    "for f in as_completed(future):\n",
    "    if(f.status==\"error\"):\n",
    "        results_mkt_data.append(\"error\")\n",
    "    else:\n",
    "        results_mkt_data.append(f.result()) \n",
    "client.restart()\n",
    "client.close()\n"
   ]
  },
  {
   "cell_type": "code",
   "execution_count": null,
   "id": "1fadb689-ebaa-4861-b892-cf078bd56394",
   "metadata": {},
   "outputs": [],
   "source": []
  },
  {
   "cell_type": "code",
   "execution_count": null,
   "id": "a47eaa40-4d71-4643-8154-f21747a73a3c",
   "metadata": {},
   "outputs": [],
   "source": []
  },
  {
   "cell_type": "code",
   "execution_count": null,
   "id": "8ddc5c8b-ad33-407e-bf24-b71054cfcbd9",
   "metadata": {},
   "outputs": [],
   "source": []
  },
  {
   "cell_type": "code",
   "execution_count": null,
   "id": "77f94d96-4697-4bab-8ceb-a14af9f8b46d",
   "metadata": {},
   "outputs": [],
   "source": []
  },
  {
   "cell_type": "code",
   "execution_count": null,
   "id": "7c4d06ae-a311-43c4-8343-7dd0614d2d0d",
   "metadata": {},
   "outputs": [],
   "source": [
    "#results_mkt_data = results_mktcp"
   ]
  },
  {
   "cell_type": "code",
   "execution_count": null,
   "id": "6b40452d-9df3-4309-8aad-ecefb4f95893",
   "metadata": {},
   "outputs": [],
   "source": [
    "results_mkt_data[0][1].columns"
   ]
  },
  {
   "cell_type": "code",
   "execution_count": null,
   "id": "f7c5e555-867b-456e-bad6-f8796f692c4a",
   "metadata": {},
   "outputs": [],
   "source": [
    "#results_mktcp[10][1].columns"
   ]
  },
  {
   "cell_type": "code",
   "execution_count": null,
   "id": "2ea4e1f5-71ea-4e91-92f9-66493fed6227",
   "metadata": {},
   "outputs": [],
   "source": []
  },
  {
   "cell_type": "code",
   "execution_count": null,
   "id": "7037f921-601a-4dd8-9452-1f835f5ddf33",
   "metadata": {},
   "outputs": [],
   "source": [
    "#np.array([r[0] for r in results_mktcp])\n",
    "#names_mktcap = [n[0] for n in results_mktcp]\n",
    "\n",
    "mktcap_df = pd.DataFrame()\n",
    "\n",
    "for r in range(0,len(results_mkt_data)):\n",
    "    r_ = results_mkt_data[r]\n",
    "    if(r_=='error'):\n",
    "        pass#sectors_df = pd.concat([sectors_df,pd.DataFrame([np.nan],index=[i_],columns=['Sector'])],axis=0)\n",
    "    else:\n",
    "        if(np.sum(np.where(np.array(r_[1].columns)=='marketCap'))==0):\n",
    "            pass\n",
    "        else:\n",
    "            m_ = r_[1]['marketCap'][0]\n",
    "            #print(s_[0])\n",
    "            i_ = np.array(r_)[0]\n",
    "            mktcap_df = pd.concat([mktcap_df,pd.DataFrame([m_],index=[i_],columns=['Market Cap'])],axis=0)\n",
    "\n"
   ]
  },
  {
   "cell_type": "code",
   "execution_count": null,
   "id": "dc7043ea-5e77-41d7-8570-4fc4c1c97849",
   "metadata": {},
   "outputs": [],
   "source": []
  },
  {
   "cell_type": "code",
   "execution_count": null,
   "id": "259cab62-7153-469e-aae0-e1fe70ef61e0",
   "metadata": {},
   "outputs": [],
   "source": [
    "missing_mktcaps = list(set(SP1500).difference([n for n in mktcap_df.index]))\n",
    "\n",
    "for r in range(0,len(missing_mktcaps)):\n",
    "    r_ = missing_mktcaps[r]\n",
    "    #s_ = np.array(r_)[1]\n",
    "    #i_ = np.array(r_)[0]\n",
    "    mktcap_df = pd.concat([mktcap_df,pd.DataFrame([np.nan],index=[r_],columns=['Market Cap'])],axis=0)"
   ]
  },
  {
   "cell_type": "code",
   "execution_count": null,
   "id": "ce77b3ff-2a65-444a-bba9-50444fb5ce7a",
   "metadata": {},
   "outputs": [],
   "source": [
    "mktcap_df"
   ]
  },
  {
   "cell_type": "code",
   "execution_count": null,
   "id": "0cc82c18-9695-4f55-804b-277977568099",
   "metadata": {},
   "outputs": [],
   "source": [
    "pe_trailing_df = pd.DataFrame()\n",
    "    \n",
    "npa = []\n",
    "for r in range(0,len(results_mkt_data)):\n",
    "    r_ = results_mkt_data[r]\n",
    "    if(r_=='error'):\n",
    "        pass\n",
    "    else:\n",
    "        if(np.sum(np.where(r_[1].columns=='trailingPE'))==0):\n",
    "            pass\n",
    "        else:\n",
    "            pe_trailing_df = pd.concat([pe_trailing_df,pd.DataFrame(r_[1]['trailingPE'])],axis=0)\n",
    "            \n",
    "missing_pe_trailing = list(set(SP1500).difference([n for n in pe_trailing_df.index]))\n",
    "\n",
    "for r in range(0,len(missing_pe_trailing)):\n",
    "    r_ = missing_pe_trailing[r]\n",
    "    #s_ = np.array(r_)[1]\n",
    "    #i_ = np.array(r_)[0]\n",
    "    pe_trailing_df = pd.concat([pe_trailing_df,pd.DataFrame([np.nan],index=[r_],columns=['trailingPE'])],axis=0)\n",
    "            \n"
   ]
  },
  {
   "cell_type": "code",
   "execution_count": null,
   "id": "71b2c7a2-5ad7-45db-ae06-eb9aeac74a10",
   "metadata": {},
   "outputs": [],
   "source": [
    "pe_trailing_df"
   ]
  },
  {
   "cell_type": "code",
   "execution_count": null,
   "id": "57139ce0-933c-4aa5-9204-679b9647c384",
   "metadata": {},
   "outputs": [],
   "source": []
  },
  {
   "cell_type": "code",
   "execution_count": null,
   "id": "d631c447-3ee0-40d3-8f6a-1c89e2e6461d",
   "metadata": {},
   "outputs": [],
   "source": []
  },
  {
   "cell_type": "code",
   "execution_count": null,
   "id": "cebbfd56-5b9c-440f-8e5d-ddaabd8a4aaa",
   "metadata": {},
   "outputs": [],
   "source": [
    "pe_forward_df = pd.DataFrame()\n",
    "    \n",
    "npa = []\n",
    "for r in range(0,len(results_mkt_data)):\n",
    "    r_ = results_mkt_data[r]\n",
    "    if(r_=='error'):\n",
    "        pass\n",
    "    else:\n",
    "        if(np.sum(np.where(r_[1].columns=='forwardPE'))==0):\n",
    "            pass\n",
    "        else:\n",
    "            pe_forward_df = pd.concat([pe_forward_df,pd.DataFrame(r_[1]['forwardPE'])],axis=0)\n",
    "            \n",
    "missing_pe_forward = list(set(SP1500).difference([n for n in pe_forward_df.index]))\n",
    "\n",
    "for r in range(0,len(missing_pe_forward)):\n",
    "    r_ = missing_pe_forward[r]\n",
    "    #s_ = np.array(r_)[1]\n",
    "    #i_ = np.array(r_)[0]\n",
    "    pe_forward_df = pd.concat([pe_forward_df,pd.DataFrame([np.nan],index=[r_],columns=['forwardPE'])],axis=0)\n",
    "            \n"
   ]
  },
  {
   "cell_type": "code",
   "execution_count": null,
   "id": "2b186923-6ea6-4a78-bf94-e8e0f02ec788",
   "metadata": {},
   "outputs": [],
   "source": [
    "pe_forward_df"
   ]
  },
  {
   "cell_type": "code",
   "execution_count": null,
   "id": "720d6b7b-880c-4ddd-bc34-1eba75edf342",
   "metadata": {},
   "outputs": [],
   "source": []
  },
  {
   "cell_type": "code",
   "execution_count": null,
   "id": "feafd0e0-67f4-4b09-9f9e-e3cb949aebb9",
   "metadata": {},
   "outputs": [],
   "source": [
    "npa = []\n",
    "for i in range(0,len(SP1500)):\n",
    "    npa.append([SP1500[i]])\n",
    "\n",
    "#getMarketCap(npa[0])\n",
    "\n",
    "client = Client('192.168.3.100:8786')\n",
    "client.restart()\n",
    "\n",
    "future = client.map(getTickerData, npa)\n",
    "\n",
    "results_ticker_data = []\n",
    "\n",
    "#my intent was to capture future objects vs results and this gave me results\n",
    "for f in as_completed(future):\n",
    "    if(f.status==\"error\"):\n",
    "        results_ticker_data.append(\"error\")\n",
    "    else:\n",
    "        results_ticker_data.append(f.result()) \n",
    "client.restart()\n",
    "client.close()\n"
   ]
  },
  {
   "cell_type": "code",
   "execution_count": null,
   "id": "7d32e5c9-9e3b-4b85-b17a-72024d1d56cd",
   "metadata": {},
   "outputs": [],
   "source": [
    "print(results_ticker_data[0][1].info)\n",
    "print(results_ticker_data[0][1].quarterly_balance_sheet)\n",
    "print(results_ticker_data[0][1].quarterly_cashflow)\n",
    "#print(results_ticker_data[0][1].quarterly_dividends)\n",
    "print(results_ticker_data[0][1].quarterly_earnings)\n",
    "print(results_ticker_data[0][1].quarterly_financials)\n"
   ]
  },
  {
   "cell_type": "code",
   "execution_count": null,
   "id": "590a3971-2e6b-4e50-8ae4-fef713653413",
   "metadata": {},
   "outputs": [],
   "source": [
    "results_ticker_data[0][1].info"
   ]
  },
  {
   "cell_type": "code",
   "execution_count": null,
   "id": "986e3984-bdb7-44bd-8aa5-8e27d42a5ee4",
   "metadata": {},
   "outputs": [],
   "source": [
    "npa = []\n",
    "results_ticker_names = [r[0] for r in results_ticker_data]\n",
    "for n in range(0,len(results_ticker_names),1):\n",
    "    npa.append([results_ticker_names[n],results_ticker_data[n][1]])"
   ]
  },
  {
   "cell_type": "code",
   "execution_count": null,
   "id": "375ab2ff-426b-467c-ade3-3aab268a38b1",
   "metadata": {},
   "outputs": [],
   "source": []
  },
  {
   "cell_type": "code",
   "execution_count": null,
   "id": "6680817c-d961-499e-9fab-a2f04735cea7",
   "metadata": {},
   "outputs": [],
   "source": []
  },
  {
   "cell_type": "code",
   "execution_count": null,
   "id": "f53e36fa-894c-4a3e-9ccd-5784084a3f08",
   "metadata": {},
   "outputs": [],
   "source": []
  },
  {
   "cell_type": "code",
   "execution_count": null,
   "id": "8c6b774c-eaac-4c6f-8f76-a2ca85731321",
   "metadata": {},
   "outputs": [],
   "source": []
  },
  {
   "cell_type": "code",
   "execution_count": null,
   "id": "deb109a0-98ce-402d-bb4a-f071ba45bb84",
   "metadata": {},
   "outputs": [],
   "source": []
  },
  {
   "cell_type": "code",
   "execution_count": null,
   "id": "13b7d19e-7435-4fde-90bc-0f6bf8a06ffb",
   "metadata": {},
   "outputs": [],
   "source": []
  },
  {
   "cell_type": "code",
   "execution_count": null,
   "id": "af75c411-3d2e-4ff9-bde1-5a1956a0dcd8",
   "metadata": {},
   "outputs": [],
   "source": []
  },
  {
   "cell_type": "code",
   "execution_count": null,
   "id": "513afe01-7bdf-45d2-93b2-332200ac1d0c",
   "metadata": {},
   "outputs": [],
   "source": [
    "\n",
    "client = Client('192.168.3.100:8786')\n",
    "client.restart()\n",
    "\n",
    "future = client.map(extractTickerValues, npa)\n",
    "\n",
    "results_ticker_values = []\n",
    "\n",
    "#my intent was to capture future objects vs results and this gave me results\n",
    "for f in as_completed(future):\n",
    "    if(f.status==\"error\"):\n",
    "        results_ticker_values.append(\"error\")\n",
    "    else:\n",
    "        results_ticker_values.append(f.result()) \n",
    "client.restart()\n",
    "client.close()\n",
    "\n"
   ]
  },
  {
   "cell_type": "code",
   "execution_count": null,
   "id": "0f936edc-bafe-44ae-bbd6-0f4eb2bbe7a6",
   "metadata": {},
   "outputs": [],
   "source": []
  },
  {
   "cell_type": "code",
   "execution_count": null,
   "id": "5f7f9112-ad67-48f5-acba-695672cd4d2c",
   "metadata": {},
   "outputs": [],
   "source": [
    "ticker_values = pd.DataFrame()\n",
    "\n",
    "for r in results_ticker_values:\n",
    "    if(r=='error'):\n",
    "        pass\n",
    "    else:                \n",
    "        #print(r[1])\n",
    "        subset = pd.DataFrame(r[1])\n",
    "        subset.index = [r[0]]\n",
    "        #print(subset)\n",
    "        ticker_values = pd.concat([ticker_values,subset],axis=0)\n",
    "        #ticker_values = pd.concat([ticker_values,pd.DataFrame(r[1],index=[r[0]])],axis=0)"
   ]
  },
  {
   "cell_type": "code",
   "execution_count": null,
   "id": "dd561775-8857-47c1-9c70-ac8a8f6d74c0",
   "metadata": {},
   "outputs": [],
   "source": []
  },
  {
   "cell_type": "code",
   "execution_count": null,
   "id": "3d927673-bfca-433c-b0a0-91bea67e0ca2",
   "metadata": {},
   "outputs": [],
   "source": []
  },
  {
   "cell_type": "code",
   "execution_count": null,
   "id": "2e38373e-e06b-40da-a786-3659b4a3060d",
   "metadata": {},
   "outputs": [],
   "source": []
  },
  {
   "cell_type": "code",
   "execution_count": null,
   "id": "2047a9d4-3997-41a4-b57b-bc3320766730",
   "metadata": {},
   "outputs": [],
   "source": []
  },
  {
   "cell_type": "code",
   "execution_count": null,
   "id": "ed5fbb2b-8eb4-42d5-ad00-205bfbdbddee",
   "metadata": {},
   "outputs": [],
   "source": [
    "market_data = pd.concat([mktcap_df,ticker_values,sectors_df.loc[~sectors_df.index.duplicated(), :].reindex(mktcap_df.loc[~mktcap_df.index.duplicated(), :].index)],axis=1)"
   ]
  },
  {
   "cell_type": "code",
   "execution_count": null,
   "id": "fabb105e-5e71-4393-a909-0e284581465a",
   "metadata": {},
   "outputs": [],
   "source": [
    "market_data.sort_values(by='Market Cap',ascending=False)"
   ]
  },
  {
   "cell_type": "code",
   "execution_count": null,
   "id": "0d8a846e-177a-47ea-8fbb-831b97f08457",
   "metadata": {},
   "outputs": [],
   "source": [
    "market_data"
   ]
  },
  {
   "cell_type": "code",
   "execution_count": null,
   "id": "e54c15f7-c3e9-4e88-8783-931d27852a48",
   "metadata": {},
   "outputs": [],
   "source": []
  },
  {
   "cell_type": "code",
   "execution_count": null,
   "id": "24225fc9-0736-421a-8de8-03158a7a7f6f",
   "metadata": {},
   "outputs": [],
   "source": [
    "#total_mkt_cap = mktcap_df.replace([np.nan], 0).sum()\n",
    "#mktcap_df['mkt_cap_pct'] = mktcap_df.replace([np.nan], 0)/total_mkt_cap"
   ]
  },
  {
   "cell_type": "code",
   "execution_count": null,
   "id": "64775fa7-69f1-42fa-be65-4d052ffd9a62",
   "metadata": {},
   "outputs": [],
   "source": []
  },
  {
   "cell_type": "code",
   "execution_count": null,
   "id": "4005498d-cb05-42b0-9eec-ce0e5531f564",
   "metadata": {},
   "outputs": [],
   "source": [
    "#[rp[2] for rp in results_prices][0].info['sector']"
   ]
  },
  {
   "cell_type": "code",
   "execution_count": null,
   "id": "85ecc631-d351-4173-bd36-6f0e2844a4e1",
   "metadata": {},
   "outputs": [],
   "source": []
  },
  {
   "cell_type": "code",
   "execution_count": null,
   "id": "aec7367e-8278-4230-977b-206d1b37bb9f",
   "metadata": {},
   "outputs": [],
   "source": []
  },
  {
   "cell_type": "code",
   "execution_count": null,
   "id": "1816e358-d346-4b98-afa7-99db332e69e7",
   "metadata": {},
   "outputs": [],
   "source": [
    "\"\"\"\n",
    "arr=np.array(names_prices)\n",
    "pd.Series(arr).value_counts()\n",
    "set_ = pd.Series(arr).value_counts()[pd.Series(arr).value_counts()>1]\n",
    "if(len(set_)==0):\n",
    "    duplicates = []\n",
    "    pass\n",
    "else:\n",
    "    duplicates = set_.index[0]\n",
    "    \"\"\""
   ]
  },
  {
   "cell_type": "code",
   "execution_count": null,
   "id": "5f7b51f5-c16a-43c1-89c6-9cbb75ec47b8",
   "metadata": {},
   "outputs": [],
   "source": []
  },
  {
   "cell_type": "code",
   "execution_count": null,
   "id": "92cff6fb-95a2-4470-9537-96ae4e4e44ab",
   "metadata": {},
   "outputs": [],
   "source": [
    "#len(results)"
   ]
  },
  {
   "cell_type": "code",
   "execution_count": null,
   "id": "4b54d7e2-39cb-48a4-9cb2-313a406aa903",
   "metadata": {},
   "outputs": [],
   "source": []
  },
  {
   "cell_type": "code",
   "execution_count": null,
   "id": "b4223738-183b-4bb9-8bab-8dfb350bc136",
   "metadata": {},
   "outputs": [],
   "source": []
  },
  {
   "cell_type": "code",
   "execution_count": null,
   "id": "5904954a-8598-44fe-b925-267c10964913",
   "metadata": {},
   "outputs": [],
   "source": []
  },
  {
   "cell_type": "code",
   "execution_count": null,
   "id": "6c4a6002-4ada-4fb6-a494-63b32d737e12",
   "metadata": {},
   "outputs": [],
   "source": []
  },
  {
   "cell_type": "code",
   "execution_count": null,
   "id": "e0ae2222-3345-4267-a041-209115555cf7",
   "metadata": {},
   "outputs": [],
   "source": []
  },
  {
   "cell_type": "code",
   "execution_count": null,
   "id": "e319b0ed-d29f-4cc4-b0b9-8c236cad6edb",
   "metadata": {},
   "outputs": [],
   "source": [
    "names_prices = [rp[0] for rp in results_prices]\n",
    "\n",
    "#def process_df(data_):\n",
    "npa = []    \n",
    "for n in range(0,len(names_prices)):\n",
    "    #print(names_prices[n])\n",
    "    n_ = names_prices[n]\n",
    "    npa.append([n_,results_prices[n][1]])\n",
    "    \n",
    "prices_df = pd.DataFrame()\n",
    "\n",
    "client = Client('192.168.3.100:8786')\n",
    "client.restart()\n",
    "\n",
    "future = client.map(derive_price_supply_trends, npa)\n",
    "#results_sectors = []\n",
    "#my intent was to capture future objects vs results and this gave me results\n",
    "for f in as_completed(future):\n",
    "    if(f.status==\"error\"):\n",
    "        #results_sectors.append(\"error\")\n",
    "        pass\n",
    "    else:\n",
    "        #results_sectors.append(f.result()) \n",
    "        prices_df = pd.concat([f.result(),prices_df],axis=0)\n",
    "client.close()"
   ]
  },
  {
   "cell_type": "code",
   "execution_count": null,
   "id": "18ee21a8-8a87-4e39-ba06-1e0fb6401f7b",
   "metadata": {},
   "outputs": [],
   "source": [
    "#np.unique(np.array(prices_df['Symbol'].values))"
   ]
  },
  {
   "cell_type": "code",
   "execution_count": null,
   "id": "5d454900-fcb6-401e-a060-744534924c0b",
   "metadata": {},
   "outputs": [],
   "source": [
    "#sectors_df.reindex(mktcap_df.index.duplicated())"
   ]
  },
  {
   "cell_type": "code",
   "execution_count": null,
   "id": "03fd2f28-718b-44df-9952-990ca5b479ad",
   "metadata": {},
   "outputs": [],
   "source": [
    "  "
   ]
  },
  {
   "cell_type": "code",
   "execution_count": null,
   "id": "9ba41273-34e7-4b11-a1b0-0347d4540675",
   "metadata": {},
   "outputs": [],
   "source": []
  },
  {
   "cell_type": "code",
   "execution_count": null,
   "id": "6206e42a-0776-415f-a5ea-738860e7927d",
   "metadata": {},
   "outputs": [],
   "source": []
  },
  {
   "cell_type": "code",
   "execution_count": null,
   "id": "400365a0-c03e-4cb5-a8ce-a92179faa37b",
   "metadata": {},
   "outputs": [],
   "source": []
  },
  {
   "cell_type": "code",
   "execution_count": null,
   "id": "99c45887-558d-46b9-9790-2dc4e0102ae1",
   "metadata": {},
   "outputs": [],
   "source": []
  },
  {
   "cell_type": "code",
   "execution_count": null,
   "id": "6148b354-6eac-4483-80e6-6416bed0c345",
   "metadata": {},
   "outputs": [],
   "source": [
    "prices_df.columns"
   ]
  },
  {
   "cell_type": "code",
   "execution_count": null,
   "id": "bd36d6f9-4261-4ef2-9fed-20db6316d591",
   "metadata": {},
   "outputs": [],
   "source": []
  },
  {
   "cell_type": "code",
   "execution_count": null,
   "id": "45598716-e90e-4d90-b91e-a2783e5af7f9",
   "metadata": {},
   "outputs": [],
   "source": []
  },
  {
   "cell_type": "code",
   "execution_count": null,
   "id": "a6b67e18-3346-4bcd-a87f-244e86cd0583",
   "metadata": {},
   "outputs": [],
   "source": []
  },
  {
   "cell_type": "code",
   "execution_count": null,
   "id": "98cd0547-7f3f-48fd-bee3-30feb017db48",
   "metadata": {},
   "outputs": [],
   "source": []
  },
  {
   "cell_type": "code",
   "execution_count": null,
   "id": "ca207c82-b9b4-422f-8c74-10f199c4643b",
   "metadata": {},
   "outputs": [],
   "source": []
  },
  {
   "cell_type": "code",
   "execution_count": null,
   "id": "8809d872-d0a4-43cc-85e2-13f2ca323830",
   "metadata": {},
   "outputs": [],
   "source": [
    "#[rp[0] for rp in results_prices]"
   ]
  },
  {
   "cell_type": "code",
   "execution_count": null,
   "id": "4f07d49c-9042-4179-9fda-36a4e62accf7",
   "metadata": {},
   "outputs": [],
   "source": []
  },
  {
   "cell_type": "code",
   "execution_count": null,
   "id": "a0aef3b6-206b-4eee-92dd-951b93791911",
   "metadata": {},
   "outputs": [],
   "source": [
    "npa = []\n",
    "for s in names_prices:\n",
    "    #print(s)\n",
    "    subset = prices_df.iloc[np.where(prices_df['Symbol']==s)]\n",
    "    if(len(subset)==0):\n",
    "        pass\n",
    "    else:\n",
    "        npa.append(subset)\n",
    "    "
   ]
  },
  {
   "cell_type": "code",
   "execution_count": null,
   "id": "5cdd6ec8-930c-41d0-800b-01b6b56db1c5",
   "metadata": {},
   "outputs": [],
   "source": [
    "screenerMetrics = []\n",
    "\n",
    "client = Client('192.168.3.100:8786')\n",
    "client.restart()\n",
    "\n",
    "future = client.map(calculateMetrics, npa)\n",
    "\n",
    "#my intent was to capture future objects vs results and this gave me results\n",
    "for f in as_completed(future):\n",
    "    if(f.status==\"error\"):\n",
    "        screenerMetrics.append(\"error\")\n",
    "    else:\n",
    "        screenerMetrics.append(f.result()) \n",
    "client.close()\n",
    "\n",
    "missing_screener_metrics = list(set(SP1500).difference([n for n in pd.DataFrame(screenerMetrics).set_index(0).index]))\n",
    "print(missing_screener_metrics)\n",
    "\n",
    "for r in range(0,len(missing_screener_metrics)):\n",
    "    r_ = missing_screener_metrics[r]\n",
    "    test = np.array([r_,*np.repeat('missing',len(pd.DataFrame(screenerMetrics).set_index(0).iloc[[0]].columns))])\n",
    "    screenerMetrics.append(test)\n",
    "\n",
    "pd.DataFrame(screenerMetrics)\n"
   ]
  },
  {
   "cell_type": "code",
   "execution_count": null,
   "id": "c44bd964-2744-4e25-bd25-96aea2ad765c",
   "metadata": {},
   "outputs": [],
   "source": []
  },
  {
   "cell_type": "code",
   "execution_count": null,
   "id": "53f3b840-f810-494c-b4e8-cb1f753a4d25",
   "metadata": {},
   "outputs": [],
   "source": [
    "#calculateMetrics(npa[0])"
   ]
  },
  {
   "cell_type": "code",
   "execution_count": null,
   "id": "a51a5876-68e4-4063-87ad-41a0f1be755d",
   "metadata": {},
   "outputs": [],
   "source": []
  },
  {
   "cell_type": "code",
   "execution_count": null,
   "id": "0d0d6548-6b2a-4be0-bcc4-7c43869fffe2",
   "metadata": {},
   "outputs": [],
   "source": []
  },
  {
   "cell_type": "code",
   "execution_count": null,
   "id": "eeaf15ec-4138-4821-be39-0e3a679eb2f7",
   "metadata": {},
   "outputs": [],
   "source": []
  },
  {
   "cell_type": "code",
   "execution_count": null,
   "id": "5cb59884-f6b0-44db-ad1a-7b9b5bef4565",
   "metadata": {},
   "outputs": [],
   "source": []
  },
  {
   "cell_type": "code",
   "execution_count": null,
   "id": "cefbf2ba-3392-472d-8b6e-0c94f9fce59d",
   "metadata": {},
   "outputs": [],
   "source": []
  },
  {
   "cell_type": "code",
   "execution_count": null,
   "id": "fc2ebf66-e3f8-40c9-8ab9-3f5dc7a79501",
   "metadata": {},
   "outputs": [],
   "source": []
  },
  {
   "cell_type": "code",
   "execution_count": null,
   "id": "406b3122-44bf-442d-987a-6185b1cbcb83",
   "metadata": {},
   "outputs": [],
   "source": []
  },
  {
   "cell_type": "code",
   "execution_count": null,
   "id": "7eb2005b-aec3-4be9-8e15-24fde42684e2",
   "metadata": {},
   "outputs": [],
   "source": [
    "#list(set(SP1500).difference([n for n in pd.DataFrame(screenerMetrics).set_index(0).index]))"
   ]
  },
  {
   "cell_type": "code",
   "execution_count": null,
   "id": "261721cf-1441-44d0-8182-0ae3ba61c3a5",
   "metadata": {},
   "outputs": [],
   "source": []
  },
  {
   "cell_type": "code",
   "execution_count": null,
   "id": "4538632a-8b77-471c-9258-ca5d4ba00b72",
   "metadata": {},
   "outputs": [],
   "source": []
  },
  {
   "cell_type": "code",
   "execution_count": null,
   "id": "67c9f260-bdba-44b9-8531-fe47b4215d18",
   "metadata": {},
   "outputs": [],
   "source": []
  },
  {
   "cell_type": "code",
   "execution_count": null,
   "id": "d409ea3b-20e1-4bdb-b896-24c60f3ba5d3",
   "metadata": {},
   "outputs": [],
   "source": []
  },
  {
   "cell_type": "code",
   "execution_count": null,
   "id": "9739e908-184d-4c6d-a187-ff82141eb3df",
   "metadata": {},
   "outputs": [],
   "source": [
    "index_names = ['SP1500', 'SP500', 'SP600', 'SP400']\n",
    "indexes = ['SPTM','SPY','SLY','MDYG']\n",
    "sector_names = ['Communication Services ETF', 'Consumer Discretionary ETF', 'Consumer Staples ETF', 'Energy ETF', 'Financials ETF', 'Health Care ETF', 'Industrials ETF', 'Information Technology ETF', 'Materials ETF', 'Real Estate ETF', 'Utilities ETF']\n",
    "sectors = ['VOX','VCR','VDC','VDE','VFH','VHT','VIS','VGT','VAW','VNQ','VPU']"
   ]
  },
  {
   "cell_type": "code",
   "execution_count": null,
   "id": "d1c86ac6-932b-4583-a60d-2b9143a864b0",
   "metadata": {},
   "outputs": [],
   "source": [
    "npa = []\n",
    "for i in range(0,len(indexes)):\n",
    "    npa.append([indexes[i],start.strftime('%Y-%m-%d'),end.strftime('%Y-%m-%d')])\n",
    "    \n",
    "# = getStock(npa[0])\n",
    "    \n",
    "client = Client('192.168.3.100:8786')\n",
    "client.restart()\n",
    "future = client.map(getStock, npa)\n",
    "results_indexes = []\n",
    "#my intent was to capture future objects vs results and this gave me results\n",
    "for f in as_completed(future):\n",
    "    if(f.status==\"error\"):\n",
    "        results_indexes.append(\"error\")\n",
    "    else:\n",
    "        results_indexes.append(f.result()) \n",
    "client.close()\n"
   ]
  },
  {
   "cell_type": "code",
   "execution_count": null,
   "id": "53210562-e780-45d9-b979-85ac093cbcc3",
   "metadata": {},
   "outputs": [],
   "source": []
  },
  {
   "cell_type": "code",
   "execution_count": null,
   "id": "11c1fd53-3c7c-456c-b16f-745a3d1d8175",
   "metadata": {},
   "outputs": [],
   "source": [
    "npa = []\n",
    "for i in range(0,len(sectors)):\n",
    "    npa.append([sectors[i],start.strftime('%Y-%m-%d'),end.strftime('%Y-%m-%d')])\n",
    "    \n",
    "# = getStock(npa[0])\n",
    "    \n",
    "client = Client('192.168.3.100:8786')\n",
    "client.restart()\n",
    "future = client.map(getStock, npa)\n",
    "results_sectors = []\n",
    "#my intent was to capture future objects vs results and this gave me results\n",
    "for f in as_completed(future):\n",
    "    if(f.status==\"error\"):\n",
    "        results_sectors.append(\"error\")\n",
    "    else:\n",
    "        results_sectors.append(f.result()) \n",
    "client.close()\n"
   ]
  },
  {
   "cell_type": "code",
   "execution_count": null,
   "id": "fda997e6-169d-4239-ab4c-3a917196033b",
   "metadata": {},
   "outputs": [],
   "source": [
    "#def process_df(data_):\n",
    "npa = []    \n",
    "for n in range(0,len(indexes)):\n",
    "    #print()\n",
    "    data=results_indexes[n][1]\n",
    "    data['Symbol'] = indexes[n]\n",
    "    npa.append([indexes[n],data])\n",
    "    \n",
    "prices_indexes = pd.DataFrame()\n",
    "\n",
    "client = Client('192.168.3.100:8786')\n",
    "client.restart()\n",
    "\n",
    "future = client.map(derive_price_supply_trends, npa)\n",
    "#results_sectors = []\n",
    "#my intent was to capture future objects vs results and this gave me results\n",
    "for f in as_completed(future):\n",
    "    if(f.status==\"error\"):\n",
    "        #results_sectors.append(\"error\")\n",
    "        pass\n",
    "    else:\n",
    "        #results_sectors.append(f.result()) \n",
    "        prices_indexes = pd.concat([f.result(),prices_indexes],axis=0)\n",
    "client.close()\n",
    "\n"
   ]
  },
  {
   "cell_type": "code",
   "execution_count": null,
   "id": "850bba71-7423-43e5-aa32-7118c13bf32d",
   "metadata": {},
   "outputs": [],
   "source": [
    "\n",
    "#def process_df(data_):\n",
    "npa = []    \n",
    "for n in range(0,len(sectors)):\n",
    "    #print()\n",
    "    data=results_sectors[n][1]\n",
    "    data['Symbol'] = sectors[n]\n",
    "    npa.append([sectors[n],data])\n",
    "    \n",
    "prices_sectors = pd.DataFrame()\n",
    "\n",
    "client = Client('192.168.3.100:8786')\n",
    "client.restart()\n",
    "\n",
    "future = client.map(derive_price_supply_trends, npa)\n",
    "#results_sectors = []\n",
    "#my intent was to capture future objects vs results and this gave me results\n",
    "for f in as_completed(future):\n",
    "    if(f.status==\"error\"):\n",
    "        #results_sectors.append(\"error\")\n",
    "        pass\n",
    "    else:\n",
    "        #results_sectors.append(f.result()) \n",
    "        prices_sectors = pd.concat([f.result(),prices_sectors],axis=0)\n",
    "client.close()\n"
   ]
  },
  {
   "cell_type": "code",
   "execution_count": null,
   "id": "1cfa9341-e789-4148-b282-a66aca9f17c6",
   "metadata": {},
   "outputs": [],
   "source": []
  },
  {
   "cell_type": "code",
   "execution_count": null,
   "id": "1d37d191-7578-451b-9fac-bf183b089c20",
   "metadata": {},
   "outputs": [],
   "source": [
    "npa = []\n",
    "for s in indexes:\n",
    "    subset = prices_indexes.iloc[np.where(prices_indexes['Symbol']==s)]\n",
    "    if(len(subset)==0):\n",
    "        pass\n",
    "    else:\n",
    "        npa.append(subset)\n",
    "    \n",
    "indexMetrics = []\n",
    "\n",
    "client = Client('192.168.3.100:8786')\n",
    "client.restart()\n",
    "\n",
    "future = client.map(calculateMetrics, npa)\n",
    "\n",
    "#my intent was to capture future objects vs results and this gave me results\n",
    "for f in as_completed(future):\n",
    "    if(f.status==\"error\"):\n",
    "        indexMetrics.append(\"error\")\n",
    "    else:\n",
    "        indexMetrics.append(f.result()) \n",
    "client.close()\n"
   ]
  },
  {
   "cell_type": "code",
   "execution_count": null,
   "id": "20198566-a9bb-4882-93ec-cb271522ee9d",
   "metadata": {},
   "outputs": [],
   "source": [
    "npa = []\n",
    "for s in sectors:\n",
    "    subset = prices_sectors.iloc[np.where(prices_sectors['Symbol']==s)]\n",
    "    if(len(subset)==0):\n",
    "        pass\n",
    "    else:\n",
    "        npa.append(subset)\n",
    "    \n",
    "sectorMetrics = []\n",
    "\n",
    "client = Client('192.168.3.100:8786')\n",
    "client.restart()\n",
    "\n",
    "future = client.map(calculateMetrics, npa)\n",
    "\n",
    "#my intent was to capture future objects vs results and this gave me results\n",
    "for f in as_completed(future):\n",
    "    if(f.status==\"error\"):\n",
    "        sectorMetrics.append(\"error\")\n",
    "    else:\n",
    "        sectorMetrics.append(f.result()) \n",
    "client.close()\n"
   ]
  },
  {
   "cell_type": "code",
   "execution_count": null,
   "id": "f0e316e3-7e8b-4c3c-bf5c-405a01ac5026",
   "metadata": {},
   "outputs": [],
   "source": [
    "#market_data.index = [sub.replace('.', '-') for sub in market_data.index]\n"
   ]
  },
  {
   "cell_type": "code",
   "execution_count": null,
   "id": "2e432a36-7792-4d1f-a843-16f8c09a0dbc",
   "metadata": {},
   "outputs": [],
   "source": [
    "set(np.array(market_data.index)).difference(pd.DataFrame(screenerMetrics).set_index(0).index)"
   ]
  },
  {
   "cell_type": "code",
   "execution_count": null,
   "id": "e2831411-9f08-4f14-a907-763b3d0b4b45",
   "metadata": {},
   "outputs": [],
   "source": []
  },
  {
   "cell_type": "code",
   "execution_count": null,
   "id": "31eb0270-f116-48dd-b488-d17cc0eec592",
   "metadata": {},
   "outputs": [],
   "source": [
    "metrics = pd.concat([pd.DataFrame(screenerMetrics),pd.DataFrame(indexMetrics),pd.DataFrame(sectorMetrics)],axis=0)"
   ]
  },
  {
   "cell_type": "code",
   "execution_count": null,
   "id": "29ba03fb-9956-4343-9205-4f244bb906d6",
   "metadata": {},
   "outputs": [],
   "source": [
    "#np.min(npa[np.where(np.array(names_prices)=='GBX')[0][0]]['Open'])"
   ]
  },
  {
   "cell_type": "code",
   "execution_count": null,
   "id": "9b617ca2-ec24-4888-aae0-03b95dd729fe",
   "metadata": {},
   "outputs": [],
   "source": [
    "#calculateMinMax(npa[np.where(np.array(names_prices)=='GBX')[0][0]])"
   ]
  },
  {
   "cell_type": "code",
   "execution_count": null,
   "id": "02e283b6-7ac9-4204-9ab9-7d21204a110a",
   "metadata": {},
   "outputs": [],
   "source": [
    "#pd.DataFrame(screener['ririsk_trend_factorsk_trend']).sort_values(by='risk_trend_factor',ascending=False)"
   ]
  },
  {
   "cell_type": "code",
   "execution_count": null,
   "id": "87ad7ede-1e6e-41ca-901c-6d03d2caea3b",
   "metadata": {},
   "outputs": [],
   "source": [
    "prices_df = pd.concat([prices_df,prices_indexes,prices_sectors],axis=0)"
   ]
  },
  {
   "cell_type": "code",
   "execution_count": null,
   "id": "aa639191-3ec1-4471-91f5-283372618fe5",
   "metadata": {},
   "outputs": [],
   "source": []
  },
  {
   "cell_type": "code",
   "execution_count": null,
   "id": "048c25cb-e0e9-43b1-aa7c-97fec70c51e6",
   "metadata": {},
   "outputs": [],
   "source": []
  },
  {
   "cell_type": "code",
   "execution_count": null,
   "id": "83da72b1-2c92-4d3b-bc7d-f70f00189dfb",
   "metadata": {},
   "outputs": [],
   "source": []
  },
  {
   "cell_type": "code",
   "execution_count": null,
   "id": "235e759c-da0c-4d38-9afe-7b5e0b1c3154",
   "metadata": {},
   "outputs": [],
   "source": []
  },
  {
   "cell_type": "code",
   "execution_count": null,
   "id": "be9cf6ce-18c4-456d-95d0-f887e8f8f6be",
   "metadata": {},
   "outputs": [],
   "source": []
  },
  {
   "cell_type": "code",
   "execution_count": null,
   "id": "a7cde648-659a-4c7c-989d-0bc92361215c",
   "metadata": {},
   "outputs": [],
   "source": [
    "npa = []\n",
    "for f in FRED_Indicators:\n",
    "    npa.append([f,start.strftime('%Y-%m-%d'),end.strftime('%Y-%m-%d')])"
   ]
  },
  {
   "cell_type": "code",
   "execution_count": null,
   "id": "cd021273-137e-410a-9860-b4c76d8b0914",
   "metadata": {},
   "outputs": [],
   "source": []
  },
  {
   "cell_type": "code",
   "execution_count": null,
   "id": "c78c0913-ace2-4895-aef3-c798aec4e389",
   "metadata": {},
   "outputs": [],
   "source": []
  },
  {
   "cell_type": "code",
   "execution_count": null,
   "id": "412a6922-86bf-4d86-98ab-adbafc793d5d",
   "metadata": {},
   "outputs": [],
   "source": [
    "   \n",
    "completed_fred = pd.DataFrame()\n",
    "\n",
    "client = Client('192.168.3.100:8786')\n",
    "client.restart()\n",
    "\n",
    "future = client.map(Fred_Data, npa)\n",
    "\n",
    "#my intent was to capture future objects vs results and this gave me results\n",
    "for f in as_completed(future):\n",
    "    if(f.status==\"error\"):\n",
    "        pass\n",
    "    else:\n",
    "        completed_fred = pd.concat([completed_fred,f.result()],axis=0)\n",
    "client.close()\n",
    "\n",
    "completed_fred_pvt = pd.pivot_table(completed_fred, values=['Value'], index=['DATE'],columns=['Symbol'])\n",
    "completed_fred_pvt"
   ]
  },
  {
   "cell_type": "code",
   "execution_count": null,
   "id": "7af742db-dabd-47cb-9e4e-1abe93e4a40c",
   "metadata": {},
   "outputs": [],
   "source": [
    "npa = []\n",
    "for e in etf_bonds:\n",
    "    npa.append([e,start.strftime('%Y-%m-%d'),end.strftime('%Y-%m-%d')])\n",
    "    \n",
    "completed_bonds = pd.DataFrame()\n",
    "\n",
    "client = Client('192.168.3.100:8786')\n",
    "client.restart()\n",
    "\n",
    "future = client.map(dl, npa)\n",
    "\n",
    "#my intent was to capture future objects vs results and this gave me results\n",
    "for f in as_completed(future):\n",
    "    if(f.status==\"error\"):\n",
    "        pass\n",
    "    else:\n",
    "        completed_bonds = pd.concat([completed_bonds,f.result()],axis=0)\n",
    "client.close()\n",
    "\n",
    "completed_bonds_pvt = pd.pivot_table(completed_bonds, values='Close', index=['Date'],columns=['Symbol'])\n",
    "completed_bonds_pvt"
   ]
  },
  {
   "cell_type": "code",
   "execution_count": null,
   "id": "d9094491-57bc-4f28-bc3b-f6559581a93a",
   "metadata": {},
   "outputs": [],
   "source": []
  },
  {
   "cell_type": "code",
   "execution_count": null,
   "id": "c79d9222-03fc-4d4d-8098-997ef171f6be",
   "metadata": {},
   "outputs": [],
   "source": []
  },
  {
   "cell_type": "code",
   "execution_count": null,
   "id": "890810fd-343b-460f-b612-e1466f422b84",
   "metadata": {},
   "outputs": [],
   "source": [
    "#return([n_,max_2y,min_2y,std_2y,mean_2y,max_1y,min_1y,std_1y,mean_1y,latest_p,*quantiles_close_2y,*quantiles_close_1y,risk_trend_factor,supply_trend_1yr,supply_trend_180d,supply_trend_90d,supply_trend_60d,supply_trend_30d,vol_30d_2yr,pct_1yr,,pct_2yr])\n",
    "metrics.columns = ['Symbol','max_2y','min_2y','std_2y','mean_2y','max_1y','min_1y','std_1y','mean_1y','latest_p','2yr_close_0pct','2yr_close_2pct','2yr_close_9pct','2yr_close_25pct','2yr_close_50pct','2yr_close_75pct','2yr_close_91pct','2yr_close_98pct','2yr_close_100pct','1yr_close_0pct','1yr_close_2pct','1yr_close_9pct','1yr_close_25pct','1yr_close_50pct','2yr_close_75pct','1yr_close_91pct','1yr_close_98pct','1yr_close_100pct','risk_trend_factor','supply_trend_1yr','supply_trend_180d','supply_trend_90d','supply_trend_60d','supply_trend_30d','vol_30d_2yr','pct_1yr','pct_2yr','MIN_Lookback_One_Year', 'MIN_Lookback_6_Months', 'MIN_Lookback_2_Months', 'MIN_Lookback_1_Months']"
   ]
  },
  {
   "cell_type": "code",
   "execution_count": null,
   "id": "1ce68ae1-7b82-401d-b8ec-af8df5907392",
   "metadata": {},
   "outputs": [],
   "source": []
  },
  {
   "cell_type": "code",
   "execution_count": null,
   "id": "ceaac19c-16b9-40fb-9651-c8347fb032e4",
   "metadata": {},
   "outputs": [],
   "source": [
    "completed_bonds"
   ]
  },
  {
   "cell_type": "code",
   "execution_count": null,
   "id": "dfd02e11-f3f6-44f4-9d6c-aaed6e19b23f",
   "metadata": {},
   "outputs": [],
   "source": [
    "screener = metrics\n",
    "a = screener.set_index('Symbol')[screener.set_index('Symbol')['risk_trend_factor'].apply(type) != np.str_].sort_values(by='risk_trend_factor',ascending=False)\n",
    "b = screener.set_index('Symbol')[screener.set_index('Symbol')['risk_trend_factor'].apply(type) == np.str_]\n",
    "screener_sorted = pd.concat([a,b],axis=0)\n"
   ]
  },
  {
   "cell_type": "code",
   "execution_count": null,
   "id": "95312599-e62d-4010-ae52-45c8a8a790ad",
   "metadata": {},
   "outputs": [],
   "source": [
    "screener_sorted"
   ]
  },
  {
   "cell_type": "code",
   "execution_count": null,
   "id": "9ed589a9-2bb5-485a-bc33-9769a199f24d",
   "metadata": {},
   "outputs": [],
   "source": [
    "writer = pd.ExcelWriter('SP1500_screener_multiple.xlsx', engine='xlsxwriter')\n",
    "\n",
    "prices_df.to_excel(writer, sheet_name='SP1500_Sectors_Indexes_Prices')\n",
    "#prices_df.drop(['Sector', 'Market Cap'], axis=1).to_excel(writer, sheet_name='SP1500Prices')\n",
    "\n",
    "sectors_df.to_excel(writer, sheet_name='stock_sectors')\n",
    "\n",
    "mktcap_df.to_excel(writer, sheet_name='market_caps')\n",
    "\n",
    "sp1500_index_df.to_excel(writer, sheet_name='SP1500')\n",
    "\n",
    "pd.DataFrame(sp500).to_excel(writer, sheet_name='SP500')\n",
    "pd.DataFrame(sp600).to_excel(writer, sheet_name='SP600')\n",
    "pd.DataFrame(sp400).to_excel(writer, sheet_name='SP400')\n",
    "pd.DataFrame(market_data).to_excel(writer, sheet_name='Stock_Fundamentals')\n",
    "completed_fred_pvt.to_excel(writer, sheet_name='completed_fred_pvt')\n",
    "completed_bonds.to_excel(writer, sheet_name='completed_bonds')\n",
    "completed_bonds_pvt.to_excel(writer, sheet_name='completed_bonds_pvt')\n",
    "pd.DataFrame(pd.DataFrame(sectors,sector_names)).to_excel(writer, sheet_name='vanguard_sectors')\n",
    "pd.DataFrame(pd.DataFrame(indexes,index_names)).to_excel(writer, sheet_name='spdr_indexes')\n",
    "screener_sorted.to_excel(writer, sheet_name='Screener')\n",
    "\n",
    "writer.save()\n",
    "\n",
    "wb = openpyxl.load_workbook('SP1500_screener_multiple.xlsx')\n",
    "#openpyxl.Workbook()\n",
    "new_range = openpyxl.workbook.defined_name.DefinedName('Prices', attr_text='SP1500_Sectors_Indexes_Prices!$A$1:$H$'+str(len(prices_df)+1))\n",
    "wb.defined_names.append(new_range)\n",
    "new_range = openpyxl.workbook.defined_name.DefinedName('Sectors', attr_text='stock_sectors!$A$1:$B$'+str(len(sectors_df)+1))\n",
    "wb.defined_names.append(new_range)\n",
    "new_range = openpyxl.workbook.defined_name.DefinedName('market_caps', attr_text='market_caps!$A$1:$B$'+str(len(mktcap_df)+1))\n",
    "wb.defined_names.append(new_range)\n",
    "new_range = openpyxl.workbook.defined_name.DefinedName('SP1500', attr_text='SP1500!$B$1:$C$'+str(len(sp1500_index_df)+1))\n",
    "wb.defined_names.append(new_range)\n",
    "new_range = openpyxl.workbook.defined_name.DefinedName('Vanguard_Sectors', attr_text='vanguard_sectors!$B$1:$C$'+str(len(sectors)+1))\n",
    "wb.defined_names.append(new_range)\n",
    "new_range = openpyxl.workbook.defined_name.DefinedName('SPDR_Indexes', attr_text='spdr_indexes!$B$1:$C$'+str(len(indexes)+1))\n",
    "wb.defined_names.append(new_range)\n",
    "\n",
    "\n",
    "#wb.defined_names.append(new_range)\n",
    "wb.save('SP1500_screener_multiple.xlsx')\n",
    "wb.close()\n",
    "#named_range = NamedRange(\"test_nr\", [(new_sheet, \"A1\")])\n",
    "#wb.add_named_range(new_range)\n",
    "\"\"\"\n",
    "workbook = xlsxwriter.Workbook('SP1500_screener_multiple.xlsx')\n",
    "workbook.define_name('Prices', '=SP1500Prices!$A$1:$J$'+str(len(prices_df)+1))\n",
    "workbook.define_name('Sectors', '=stock_sectors!$A$1:$B$'+str(len(sectors_df)+1))\n",
    "workbook.define_name('market_caps', '=market_caps!$A$1:$B$'+str(len(mktcap_df)+1))\n",
    "workbook.define_name('SP1500', '=SP1500!$B$1:$C$'+str(len(sp1500_index_df)+1))\n",
    "\n",
    "workbook.close()\n",
    "\"\"\""
   ]
  },
  {
   "cell_type": "code",
   "execution_count": null,
   "id": "025519a3-132b-438f-bf87-a33048c58bd5",
   "metadata": {},
   "outputs": [],
   "source": []
  },
  {
   "cell_type": "code",
   "execution_count": null,
   "id": "bec31d8d-46ff-42e8-aff9-99891e7e0ff8",
   "metadata": {},
   "outputs": [],
   "source": []
  },
  {
   "cell_type": "code",
   "execution_count": null,
   "id": "4d7c5858-f15c-4556-8ef9-b95e8c80b6e1",
   "metadata": {},
   "outputs": [],
   "source": []
  },
  {
   "cell_type": "code",
   "execution_count": null,
   "id": "d3b3c95a-37f0-422e-a190-36fecf73a059",
   "metadata": {},
   "outputs": [],
   "source": []
  },
  {
   "cell_type": "code",
   "execution_count": null,
   "id": "3e842fbc-7484-4d55-90bc-acd5236f7bb0",
   "metadata": {},
   "outputs": [],
   "source": []
  },
  {
   "cell_type": "code",
   "execution_count": null,
   "id": "57415299-f6a7-485a-9711-107cf81ea99a",
   "metadata": {},
   "outputs": [],
   "source": []
  },
  {
   "cell_type": "code",
   "execution_count": null,
   "id": "449cc7e6-ef5f-4292-ae0f-bd853fd5a517",
   "metadata": {},
   "outputs": [],
   "source": []
  },
  {
   "cell_type": "code",
   "execution_count": null,
   "id": "c4c37f02-40c0-4847-89a1-bff3f501cb42",
   "metadata": {},
   "outputs": [],
   "source": []
  },
  {
   "cell_type": "code",
   "execution_count": null,
   "id": "7ecc4426-bb3d-462d-bab3-3452d198bddc",
   "metadata": {},
   "outputs": [],
   "source": []
  },
  {
   "cell_type": "code",
   "execution_count": null,
   "id": "5735f5d4-1c34-4b16-9112-c7ddf324336d",
   "metadata": {},
   "outputs": [],
   "source": []
  },
  {
   "cell_type": "code",
   "execution_count": null,
   "id": "21feff41-645a-42c9-a47e-1468ed9034d8",
   "metadata": {},
   "outputs": [],
   "source": []
  },
  {
   "cell_type": "code",
   "execution_count": null,
   "id": "53e7ca0f-2a81-42dc-9126-bb12778894b6",
   "metadata": {},
   "outputs": [],
   "source": []
  }
 ],
 "metadata": {
  "kernelspec": {
   "display_name": "Python 3 (ipykernel)",
   "language": "python",
   "name": "python3"
  },
  "language_info": {
   "codemirror_mode": {
    "name": "ipython",
    "version": 3
   },
   "file_extension": ".py",
   "mimetype": "text/x-python",
   "name": "python",
   "nbconvert_exporter": "python",
   "pygments_lexer": "ipython3",
   "version": "3.9.7"
  }
 },
 "nbformat": 4,
 "nbformat_minor": 5
}
