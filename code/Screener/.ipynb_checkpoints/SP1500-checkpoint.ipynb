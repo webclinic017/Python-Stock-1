{
 "cells": [
  {
   "cell_type": "code",
   "execution_count": null,
   "id": "d2d17485-23dd-483e-8c86-be2cea0e5b4e",
   "metadata": {},
   "outputs": [],
   "source": []
  },
  {
   "cell_type": "code",
   "execution_count": 16,
   "id": "7191004d-380d-41a8-b1f9-4baa99dabb5a",
   "metadata": {},
   "outputs": [],
   "source": [
    "import yfinance as yf\n",
    "import pandas as pd\n",
    "import datetime\n",
    "import numpy as np\n",
    "from datetime import datetime\n",
    "from dateutil.relativedelta import relativedelta\n",
    "from pandas_datareader import data\n",
    "from dask.distributed import Client\n",
    "from dask.distributed import as_completed\n",
    "import openpyxl\n",
    "import xlsxwriter"
   ]
  },
  {
   "cell_type": "code",
   "execution_count": 17,
   "id": "37ad8909-f0fb-48eb-b7d6-b940feec48a6",
   "metadata": {},
   "outputs": [],
   "source": [
    "end = datetime.today()\n",
    "start = end - relativedelta(years=2)"
   ]
  },
  {
   "cell_type": "code",
   "execution_count": 18,
   "id": "e62dae8b-702e-4dc6-a41f-406f54339ef6",
   "metadata": {},
   "outputs": [
    {
     "data": {
      "text/plain": [
       "'2022-06-04'"
      ]
     },
     "execution_count": 18,
     "metadata": {},
     "output_type": "execute_result"
    }
   ],
   "source": [
    "end.strftime('%Y-%m-%d')"
   ]
  },
  {
   "cell_type": "code",
   "execution_count": 19,
   "id": "73ec357b-b4a7-4cef-ab26-21b0067836ed",
   "metadata": {},
   "outputs": [],
   "source": [
    "SP500ticker_list = pd.read_html('http://en.wikipedia.org/wiki/List_of_S%26P_500_companies')[0]\n",
    "SP600ticker_list = pd.read_html('https://en.wikipedia.org/wiki/List_of_S%26P_600_companies')[1]\n",
    "SP400ticker_list = pd.read_html('https://en.wikipedia.org/wiki/List_of_S%26P_400_companies')[0]\n"
   ]
  },
  {
   "cell_type": "code",
   "execution_count": 20,
   "id": "03ef454c-a181-47bd-86e1-a4057d2ef192",
   "metadata": {},
   "outputs": [],
   "source": [
    "sp500 = SP500ticker_list['Symbol']\n",
    "sp600 = SP600ticker_list['Ticker symbol']\n",
    "sp400 = SP400ticker_list['Ticker symbol']\n"
   ]
  },
  {
   "cell_type": "code",
   "execution_count": 21,
   "id": "37854ad3-4fe2-483f-9597-dcc7504b50af",
   "metadata": {},
   "outputs": [
    {
     "data": {
      "text/plain": [
       "1505"
      ]
     },
     "execution_count": 21,
     "metadata": {},
     "output_type": "execute_result"
    }
   ],
   "source": [
    "len(sp500)+len(sp600)+len(sp400)"
   ]
  },
  {
   "cell_type": "code",
   "execution_count": 22,
   "id": "cb70dc73-5b3a-4865-aa4e-ece09235a43c",
   "metadata": {},
   "outputs": [
    {
     "name": "stdout",
     "output_type": "stream",
     "text": [
      "504\n",
      "601\n",
      "400\n"
     ]
    }
   ],
   "source": [
    "print(len(sp500))\n",
    "SP1500 = list()\n",
    "SP1500.extend(sp500)\n",
    "sp600 = list(set(sp600).difference(SP1500))\n",
    "print(len(sp600))\n",
    "SP1500.extend(sp600)\n",
    "sp400 = list(set(sp400).difference(SP1500))\n",
    "print(len(sp400))\n",
    "SP1500.extend(set(sp400).difference(SP1500))"
   ]
  },
  {
   "cell_type": "code",
   "execution_count": null,
   "id": "8f83930a-c582-4686-9d56-c73712d25db7",
   "metadata": {},
   "outputs": [],
   "source": []
  },
  {
   "cell_type": "code",
   "execution_count": null,
   "id": "4675c840-534a-41ca-861e-d0accdb076e1",
   "metadata": {},
   "outputs": [],
   "source": []
  },
  {
   "cell_type": "code",
   "execution_count": null,
   "id": "ff4c2cdb-9ae2-44e7-834d-fc35e39d417b",
   "metadata": {},
   "outputs": [],
   "source": []
  },
  {
   "cell_type": "code",
   "execution_count": null,
   "id": "ae9be00b-7d31-426b-a859-5591e02a7d4a",
   "metadata": {},
   "outputs": [],
   "source": []
  },
  {
   "cell_type": "code",
   "execution_count": null,
   "id": "65e0e422-c87d-49c4-ac26-fe1e419e45ba",
   "metadata": {},
   "outputs": [],
   "source": []
  },
  {
   "cell_type": "code",
   "execution_count": 23,
   "id": "d569a219-261e-4ec8-bff4-3b645aad7be6",
   "metadata": {},
   "outputs": [
    {
     "name": "stdout",
     "output_type": "stream",
     "text": [
      "504\n",
      "601\n",
      "400\n"
     ]
    }
   ],
   "source": [
    "sp1500_index_df = pd.DataFrame()\n",
    "\n",
    "lists = [\"sp500\",\"sp600\",\"sp400\"]\n",
    "\n",
    "for l in lists:\n",
    "    if(l=='sp500'):\n",
    "        df = pd.DataFrame(sp500,columns=['Symbol'])\n",
    "        print(len(df))\n",
    "        #range_ = \n",
    "        #print(range_)\n",
    "        df['Market Index'] = pd.Series([\"SP500\" for x in range(0,len(df.index),1)])\n",
    "    elif(l=='sp600'):\n",
    "        df = pd.DataFrame(np.array(sp600),columns=['Symbol'])        \n",
    "        print(len(df))        \n",
    "        df['Market Index'] = pd.Series([\"SP600\" for x in range(len(df.index))])\n",
    "        df.index = range(len(sp500),(len(sp500)+len(df.index)),1)        \n",
    "    else:\n",
    "        df = pd.DataFrame(np.array(sp400),columns=['Symbol'])\n",
    "        print(len(df))\n",
    "        df['Market Index'] = pd.Series([\"SP400\" for x in range(len(df.index))])\n",
    "        df.index = range((len(sp500)+len(sp600)),(len(sp500)+len(sp600)+len(df.index)),1)\n",
    "    sp1500_index_df = pd.concat([sp1500_index_df,df],axis=0)"
   ]
  },
  {
   "cell_type": "code",
   "execution_count": 24,
   "id": "3afecc03-b536-4a60-9742-6be019181891",
   "metadata": {},
   "outputs": [
    {
     "data": {
      "text/plain": [
       "0"
      ]
     },
     "execution_count": 24,
     "metadata": {},
     "output_type": "execute_result"
    }
   ],
   "source": [
    "len(sp1500_index_df)-len(SP1500)"
   ]
  },
  {
   "cell_type": "code",
   "execution_count": null,
   "id": "4d084364-b2ea-41b6-a824-00d418a993f4",
   "metadata": {},
   "outputs": [],
   "source": []
  },
  {
   "cell_type": "code",
   "execution_count": null,
   "id": "ed84b613-5a31-4543-98c6-d37725183967",
   "metadata": {},
   "outputs": [],
   "source": []
  },
  {
   "cell_type": "code",
   "execution_count": null,
   "id": "b8c1d1f2-1525-4ae8-b7dd-2d4c008d1b71",
   "metadata": {},
   "outputs": [],
   "source": []
  },
  {
   "cell_type": "code",
   "execution_count": null,
   "id": "31b9d29c-3d80-4b4f-931b-352b10fc4840",
   "metadata": {},
   "outputs": [],
   "source": []
  },
  {
   "cell_type": "code",
   "execution_count": 25,
   "id": "b3ea87bb-f40b-49a9-9060-4b8a4dd809fc",
   "metadata": {},
   "outputs": [],
   "source": [
    "def getStock(npa):\n",
    "    #position = npa[0]\n",
    "    symbol = npa[0]\n",
    "    start_=npa[1]\n",
    "    end_=npa[2]\n",
    "    #print(symbol)\n",
    "    \n",
    "    #tickerdata.history(period=\"2Y\")\n",
    "    #tickerdata = yf.Ticker(symbol)\n",
    "    #data_ = tickerdata.history(start=start_,end=end_)\n",
    "    data_ = yf.download(symbol, start=start_,end=end_)\n",
    "    #data_['Sector'] = tickerdata.info['sector']\n",
    "    #data_['Symbol'] = symbol\n",
    "    #data_['Market Cap'] = data.get_quote_yahoo(names[n])['marketCap']\n",
    "    #data_['Sector'] = tickerdata.info['sector']\n",
    "    \n",
    "    \"\"\"\n",
    "    tickerdata.info\n",
    "    tickerdata.quarterly_balance_sheet\n",
    "    tickerdata.quarterly_cashflow\n",
    "    tickerdata.quarterly_dividends\n",
    "    tickerdata.quarterly_earnings\n",
    "    tickerdata.quarterly_financials\n",
    "    tickerdata.actions\n",
    "    tickerdata.mutualfund_holders\n",
    "    tickerdata.options\n",
    "    tickerdata.sustainability\n",
    "    \"\"\"\n",
    "    \n",
    "    return([symbol,data_])"
   ]
  },
  {
   "cell_type": "code",
   "execution_count": null,
   "id": "f6f009c3-0390-4caf-ba6b-9c8de57e8cac",
   "metadata": {},
   "outputs": [],
   "source": []
  },
  {
   "cell_type": "code",
   "execution_count": 26,
   "id": "ac2521e1-d0dc-4b2b-ad44-676ed7af6a0d",
   "metadata": {},
   "outputs": [],
   "source": [
    "def getMarketCap(npa):\n",
    "    symbol = npa[0]\n",
    "\n",
    "    #start_=npa[2]\n",
    "    #end_=npa[3]\n",
    "    #print(symbol)\n",
    "    \n",
    "    #tickerdata.history(period=\"2Y\")\n",
    "    #tickerdata = yf.Ticker(symbol)\n",
    "    #data_ = tickerdata.history(start=start_,end=end_)\n",
    "    data_ = data.get_quote_yahoo(symbol)['marketCap']\n",
    "    #data_['Sector'] = tickerdata.info['sector']\n",
    "    \n",
    "    \"\"\"\n",
    "    tickerdata.info\n",
    "    tickerdata.quarterly_balance_sheet\n",
    "    tickerdata.quarterly_cashflow\n",
    "    tickerdata.quarterly_dividends\n",
    "    tickerdata.quarterly_earnings\n",
    "    tickerdata.quarterly_financials\n",
    "    tickerdata.actions\n",
    "    tickerdata.mutualfund_holders\n",
    "    tickerdata.options\n",
    "    tickerdata.sustainability\n",
    "    \"\"\"\n",
    "    \n",
    "    return([symbol,data_])"
   ]
  },
  {
   "cell_type": "code",
   "execution_count": 27,
   "id": "881e051b-43f4-4b43-9cbd-0a9e6ffc4b29",
   "metadata": {},
   "outputs": [],
   "source": [
    "def getSector(npa):\n",
    "    #position = npa[0]\n",
    "    symbol = npa[0]\n",
    "    #start_=npa[2]\n",
    "    #end_=npa[3]\n",
    "    \n",
    "    tickerdata = yf.Ticker(symbol)\n",
    "    return([symbol,tickerdata.info['sector']])"
   ]
  },
  {
   "cell_type": "code",
   "execution_count": 28,
   "id": "bd578a91-56d8-415c-ad14-f75a00ff6a2f",
   "metadata": {},
   "outputs": [],
   "source": [
    "def getFinObject(npa):\n",
    "    #position = npa[0]\n",
    "    symbol = npa[0]\n",
    "    #start_=npa[2]\n",
    "    #end_=npa[3]\n",
    "    \n",
    "    tickerdata = yf.Ticker(symbol)\n",
    "    return([symbol,tickerdata])"
   ]
  },
  {
   "cell_type": "code",
   "execution_count": 29,
   "id": "fc1221f6-2044-4b19-a905-6711e405f756",
   "metadata": {},
   "outputs": [],
   "source": [
    "def derive_price_supply_trends(npa_):\n",
    "    name = npa_[0]\n",
    "    data = npa_[1]\n",
    "    data_ = data\n",
    "    data_['Symbol'] = name\n",
    "    \"\"\"\n",
    "    if(np.sum(duplicates==names_prices[n])>0):\n",
    "        #potential duplicate\n",
    "        if((np.sum((np.unique(prices_df['Symbol']))==n))>0):\n",
    "            pass\n",
    "        else:\n",
    "            prices_df = pd.concat([prices_df,data_],axis=0)            \n",
    "    else:\n",
    "    \"\"\"\n",
    "    \n",
    "    data_['trailing_1yr_max'] = (pd.DataFrame(data_)['High']).rolling(252).max()\n",
    "    data_['trailing_1yr_min'] = (pd.DataFrame(data_)['Low']).rolling(252).min()\n",
    "    \n",
    "    data_['supply_trend'] = pd.DataFrame(data_)['Adj Close']-(pd.DataFrame(data_)['High']).rolling(252).min()\n",
    "    \n",
    "    data_['supply_trend_1yr'] = pd.DataFrame(data_)['Adj Close']-(pd.DataFrame(data_)['High']).rolling(252).min()\n",
    "    \n",
    "    data_['supply_trend_180d'] = pd.DataFrame(data_)['Adj Close']-(pd.DataFrame(data_)['High']).rolling(126).min()\n",
    "    \n",
    "    data_['supply_trend_90d'] = pd.DataFrame(data_)['Adj Close']-(pd.DataFrame(data_)['High']).rolling(63).min()\n",
    "    \n",
    "    data_['supply_trend_60d'] = pd.DataFrame(data_)['Adj Close']-(pd.DataFrame(data_)['High']).rolling(42).min()\n",
    "    \n",
    "    data_['supply_trend_30d'] = pd.DataFrame(data_)['Adj Close']-(pd.DataFrame(data_)['High']).rolling(21).min()\n",
    "\n",
    "    data_['trailing_60d_max'] = (pd.DataFrame(data_)['High']).rolling(42).max()\n",
    "    data_['trailing_60d_min'] = (pd.DataFrame(data_)['Low']).rolling(42).min()\n",
    "    \n",
    "    data_['trailing_30d_max'] = (pd.DataFrame(data_)['High']).rolling(21).max()\n",
    "    data_['trailing_30d_min'] = (pd.DataFrame(data_)['Low']).rolling(21).min()\n",
    "\n",
    "    data_['trailing_risk_max'] = (pd.DataFrame(data_)['High']).rolling(40).max()\n",
    "    data_['trailing_risk_min'] = (pd.DataFrame(data_)['Low']).rolling(40).min()\n",
    "    \n",
    "    data_['risk'] = data_['trailing_risk_max']-data_['trailing_risk_min']\n",
    "    \n",
    "    data_['30d_vol'] = (pd.DataFrame(data_)['Volume']).rolling(21).sum()\n",
    "    \n",
    "    data_['momentum_1yr'] = (data_['trailing_1yr_max']-data_['trailing_1yr_min']) + (data_['trailing_60d_max']-data_['trailing_60d_min']) + (data_['trailing_30d_max']-data_['trailing_30d_min']) + (data_['trailing_risk_max']-data_['trailing_risk_min'])\n",
    "    \n",
    "    data_['risk_per_share'] = data_['momentum_1yr']/data_['risk']\n",
    "    \n",
    "    return(data_)"
   ]
  },
  {
   "cell_type": "code",
   "execution_count": null,
   "id": "dfcd5932-c32a-4569-a95e-cb41fd87df8a",
   "metadata": {},
   "outputs": [],
   "source": []
  },
  {
   "cell_type": "code",
   "execution_count": 73,
   "id": "98802d47-bc74-42d5-bb94-21ee8a12b6fa",
   "metadata": {},
   "outputs": [],
   "source": [
    "def calculateMetrics(data_):\n",
    "    data_df = data_\n",
    "    n_ = data_df['Symbol'].values[-1]\n",
    "    \n",
    "    latest_p = pd.DataFrame(data_df)['Close'][-1]\n",
    "    oneYearDate = pd.DataFrame(data_df)['Close'][[-1]].index[0] - relativedelta(years=1)\n",
    "    \n",
    "    #separate subset for past year.\n",
    "    past_year = data_df[data_df.index>=oneYearDate.strftime('%Y-%m-%d')]\n",
    "    \n",
    "    #np.max(npa[np.where(np.array(names_prices)=='GBX')[0][0]]['High'])\n",
    "    max_2y = pd.DataFrame(data_df)['High'].rolling(504).max()[-1]\n",
    "    min_2y = pd.DataFrame(data_df)['Low'].rolling(504).max()[-1]\n",
    "    \n",
    "    #quantiles_close_2y = data_df['Close'].rolling(504).quantile(q=[0, .02, .09, .25, .5, .75, .91, .98, 1])[-1]\n",
    "    quantiles_close_2y = data_df['Close'].quantile(q=[0, .02, .09, .25, .5, .75, .91, .98, 1])\n",
    "    \n",
    "    std_2y = pd.DataFrame(data_df)['Close'].rolling(504).std()[-1]\n",
    "    mean_2y = pd.DataFrame(data_df)['Close'].rolling(504).mean()[-1]\n",
    "    \n",
    "    max_1y = past_year['High'].rolling(252).max()[-1]\n",
    "    min_1y = past_year['Low'].rolling(252).min()[-1]\n",
    "    \n",
    "    #quantiles_close_1y = data_df['Close'].rolling(252).quantile(q=[0, .02, .09, .25, .5, .75, .91, .98, 1])[-1]\n",
    "    quantiles_close_1y = past_year['Close'].quantile(q=[0, .02, .09, .25, .5, .75, .91, .98, 1])\n",
    "    \n",
    "    std_1y = past_year['Close'].rolling(252).std()[-1]\n",
    "    mean_1y = past_year['Close'].rolling(252).mean()[-1]\n",
    "    \n",
    "    risk_trend = data_df['risk_per_share'][-1]\n",
    "    \n",
    "    supply_trend_1yr = data_df['supply_trend_1yr'][-1]\n",
    "    supply_trend_180d = data_df['supply_trend_180d'][-1]\n",
    "    supply_trend_90d = data_df['supply_trend_90d'][-1]\n",
    "    supply_trend_60d = data_df['supply_trend_60d'][-1]\n",
    "    supply_trend_30d = data_df['supply_trend_30d'][-1]\n",
    "    \n",
    "    vol_30d_2yr = data_df['30d_vol'].rolling(504).mean()[-1]\n",
    "    \n",
    "    pct_2yr = (latest_p - min_2y)/(max_2y-min_2y)\n",
    "    pct_1yr = (latest_p - min_1y)/(max_1y-min_1y)\n",
    "    \n",
    "    return([n_,max_2y,min_2y,std_2y,mean_2y,max_1y,min_1y,std_1y,mean_1y,latest_p,*quantiles_close_2y,*quantiles_close_1y,risk_trend,supply_trend_1yr,supply_trend_180d,supply_trend_90d,supply_trend_60d,supply_trend_30d,vol_30d_2yr,pct_1yr,pct_2yr])"
   ]
  },
  {
   "cell_type": "code",
   "execution_count": 31,
   "id": "3393b8a2-5999-4feb-85f1-c0a76282f443",
   "metadata": {},
   "outputs": [
    {
     "name": "stderr",
     "output_type": "stream",
     "text": [
      "C:\\Users\\User\\AppData\\Local\\Programs\\Python\\Python39\\lib\\site-packages\\distributed\\client.py:1265: VersionMismatchWarning: Mismatched versions found\n",
      "\n",
      "+-------------+---------------+---------------+---------------+\n",
      "| Package     | client        | scheduler     | workers       |\n",
      "+-------------+---------------+---------------+---------------+\n",
      "| dask        | 2022.01.1     | 2021.11.2     | 2021.11.2     |\n",
      "| distributed | 2022.01.1     | 2021.11.2     | 2021.11.2     |\n",
      "| lz4         | 3.1.3         | 3.1.10        | 3.1.10        |\n",
      "| python      | 3.9.7.final.0 | 3.9.9.final.0 | 3.9.9.final.0 |\n",
      "| toolz       | 0.11.1        | 0.11.2        | 0.11.2        |\n",
      "+-------------+---------------+---------------+---------------+\n",
      "  warnings.warn(version_module.VersionMismatchWarning(msg[0][\"warning\"]))\n"
     ]
    }
   ],
   "source": [
    "npa = []\n",
    "for i in range(0,len(SP1500)):\n",
    "    npa.append([SP1500[i],start.strftime('%Y-%m-%d'),end.strftime('%Y-%m-%d')])\n",
    "    \n",
    "# = getStock(npa[0])\n",
    "    \n",
    "client = Client('192.168.3.100:8786')\n",
    "client.restart()\n",
    "future = client.map(getStock, npa)\n",
    "results_prices = []\n",
    "#my intent was to capture future objects vs results and this gave me results\n",
    "for f in as_completed(future):\n",
    "    if(f.status==\"error\"):\n",
    "        results_prices.append(\"error\")\n",
    "    else:\n",
    "        results_prices.append(f.result()) \n",
    "client.close()\n"
   ]
  },
  {
   "cell_type": "code",
   "execution_count": null,
   "id": "d707cd76-6f71-45d8-a712-6d98e3c044d0",
   "metadata": {},
   "outputs": [],
   "source": []
  },
  {
   "cell_type": "code",
   "execution_count": 32,
   "id": "f347227d-1496-4651-b726-80c878f66d10",
   "metadata": {},
   "outputs": [],
   "source": [
    "npa = []\n",
    "for i in range(0,len(SP1500)):\n",
    "    npa.append([SP1500[i]])\n",
    "\n",
    "#getSector(npa[0])\n",
    "\n",
    "client = Client('192.168.3.100:8786')\n",
    "client.restart()\n",
    "\n",
    "future = client.map(getSector, npa)\n",
    "results_sectors = []\n",
    "#my intent was to capture future objects vs results and this gave me results\n",
    "for f in as_completed(future):\n",
    "    if(f.status==\"error\"):\n",
    "        results_sectors.append(\"error\")\n",
    "    else:\n",
    "        results_sectors.append(f.result()) \n",
    "client.close()\n"
   ]
  },
  {
   "cell_type": "code",
   "execution_count": 33,
   "id": "149e7499-cdb3-4a20-b5aa-32ffd73ddd88",
   "metadata": {},
   "outputs": [
    {
     "data": {
      "text/plain": [
       "1046"
      ]
     },
     "execution_count": 33,
     "metadata": {},
     "output_type": "execute_result"
    }
   ],
   "source": [
    "len(np.unique([r[0] for r in results_sectors]))"
   ]
  },
  {
   "cell_type": "code",
   "execution_count": 34,
   "id": "79041790-49ec-44b6-ae4d-ced592cc5505",
   "metadata": {},
   "outputs": [],
   "source": [
    "#Drop Down screen metrics\n",
    "#by sector\n",
    "#further subdivide by market\n",
    "#https://stackoverflow.com/questions/64919511/dateformatter-is-bringing-1970-as-year-not-the-original-year-in-the-dataset\n"
   ]
  },
  {
   "cell_type": "code",
   "execution_count": 35,
   "id": "0c730c72-11fe-42a0-9856-b3b97d033e5c",
   "metadata": {},
   "outputs": [],
   "source": [
    "sectors_df = pd.DataFrame()\n",
    "\n",
    "for r in range(0,len(results_sectors)):\n",
    "    r_ = results_sectors[r]\n",
    "    if(r_=='error'):\n",
    "        pass#sectors_df = pd.concat([sectors_df,pd.DataFrame([np.nan],index=[i_],columns=['Sector'])],axis=0)\n",
    "    else:\n",
    "        s_ = np.array(r_)[1]\n",
    "        i_ = np.array(r_)[0]\n",
    "        sectors_df = pd.concat([sectors_df,pd.DataFrame([s_],index=[i_],columns=['Sector'])],axis=0)\n",
    "\n",
    "missing_sectors = list(set(SP1500).difference([r[0] for r in results_sectors]))\n",
    "\n",
    "for r in range(0,len(missing_sectors)):\n",
    "    r_ = missing_sectors[r]\n",
    "    #s_ = np.array(r_)[1]\n",
    "    #i_ = np.array(r_)[0]\n",
    "    sectors_df = pd.concat([sectors_df,pd.DataFrame(['error'],index=[r_],columns=['Sector'])],axis=0)"
   ]
  },
  {
   "cell_type": "code",
   "execution_count": null,
   "id": "b990a045-2680-438b-8806-95253a57655d",
   "metadata": {},
   "outputs": [],
   "source": []
  },
  {
   "cell_type": "code",
   "execution_count": 36,
   "id": "36db1228-819c-4898-9b69-944137a9368e",
   "metadata": {},
   "outputs": [],
   "source": [
    "#sectors_df"
   ]
  },
  {
   "cell_type": "code",
   "execution_count": 37,
   "id": "593a56c1-0ab1-442f-9b9b-5b1f7a791c41",
   "metadata": {},
   "outputs": [],
   "source": [
    "#mktcap_df"
   ]
  },
  {
   "cell_type": "code",
   "execution_count": 38,
   "id": "dbc7cb02-cbbe-4160-9b62-8e23cfe97fcd",
   "metadata": {},
   "outputs": [],
   "source": [
    "#np.sum(sectors_df.index.duplicated())"
   ]
  },
  {
   "cell_type": "code",
   "execution_count": null,
   "id": "9c52ba63-1a3a-4f4a-9487-619ff23c8fca",
   "metadata": {},
   "outputs": [],
   "source": []
  },
  {
   "cell_type": "code",
   "execution_count": null,
   "id": "aa2d9507-81a0-486c-9d02-bafcb99ad8e3",
   "metadata": {},
   "outputs": [],
   "source": []
  },
  {
   "cell_type": "code",
   "execution_count": null,
   "id": "84d35b51-f40c-408a-b844-39235309f2aa",
   "metadata": {},
   "outputs": [],
   "source": []
  },
  {
   "cell_type": "code",
   "execution_count": 39,
   "id": "aae832b1-7cea-4fe9-ab1a-8bae4f6d7d92",
   "metadata": {},
   "outputs": [],
   "source": [
    "#sectors_df.reindex(mktcap_df.index.duplicated())"
   ]
  },
  {
   "cell_type": "code",
   "execution_count": null,
   "id": "a5a0b613-30db-41fc-8cf9-8a6177d7a293",
   "metadata": {},
   "outputs": [],
   "source": []
  },
  {
   "cell_type": "code",
   "execution_count": null,
   "id": "112ae9cd-66eb-45c9-bf5f-511ee3266326",
   "metadata": {},
   "outputs": [],
   "source": []
  },
  {
   "cell_type": "code",
   "execution_count": null,
   "id": "b80f8f31-0201-422a-96a7-5a0a4d4caa68",
   "metadata": {},
   "outputs": [],
   "source": []
  },
  {
   "cell_type": "code",
   "execution_count": null,
   "id": "50faf270-562b-40a1-852d-525a14967797",
   "metadata": {},
   "outputs": [],
   "source": []
  },
  {
   "cell_type": "code",
   "execution_count": null,
   "id": "f79e4ef8-ce6b-4d35-a17f-685a39c523c4",
   "metadata": {},
   "outputs": [],
   "source": []
  },
  {
   "cell_type": "code",
   "execution_count": null,
   "id": "9d5bc91a-2167-4419-a70e-fd3da7989f4f",
   "metadata": {},
   "outputs": [],
   "source": []
  },
  {
   "cell_type": "code",
   "execution_count": null,
   "id": "8c1df626-207c-42d1-9357-0b2cfc091eae",
   "metadata": {},
   "outputs": [],
   "source": []
  },
  {
   "cell_type": "code",
   "execution_count": 40,
   "id": "5db05c54-25b2-481d-a867-c859bd0f81bb",
   "metadata": {},
   "outputs": [],
   "source": [
    "npa = []\n",
    "for i in range(0,len(SP1500)):\n",
    "    npa.append([SP1500[i]])\n",
    "\n",
    "#getMarketCap(npa[0])\n",
    "\n",
    "client = Client('192.168.3.100:8786')\n",
    "client.restart()\n",
    "\n",
    "future = client.map(getMarketCap, npa)\n",
    "results_mktcp = []\n",
    "#my intent was to capture future objects vs results and this gave me results\n",
    "for f in as_completed(future):\n",
    "    if(f.status==\"error\"):\n",
    "        results_mktcp.append(\"error\")\n",
    "    else:\n",
    "        results_mktcp.append(f.result()) \n",
    "client.restart()\n",
    "client.close()\n"
   ]
  },
  {
   "cell_type": "code",
   "execution_count": 41,
   "id": "f7c5e555-867b-456e-bad6-f8796f692c4a",
   "metadata": {},
   "outputs": [],
   "source": [
    "#results_mktcp[0]"
   ]
  },
  {
   "cell_type": "code",
   "execution_count": 42,
   "id": "7037f921-601a-4dd8-9452-1f835f5ddf33",
   "metadata": {},
   "outputs": [
    {
     "name": "stderr",
     "output_type": "stream",
     "text": [
      "C:\\Users\\User\\AppData\\Local\\Temp/ipykernel_6124/2928409512.py:11: VisibleDeprecationWarning: Creating an ndarray from ragged nested sequences (which is a list-or-tuple of lists-or-tuples-or ndarrays with different lengths or shapes) is deprecated. If you meant to do this, you must specify 'dtype=object' when creating the ndarray.\n",
      "  s_ = np.array(r_)[1]\n",
      "C:\\Users\\User\\AppData\\Local\\Temp/ipykernel_6124/2928409512.py:13: VisibleDeprecationWarning: Creating an ndarray from ragged nested sequences (which is a list-or-tuple of lists-or-tuples-or ndarrays with different lengths or shapes) is deprecated. If you meant to do this, you must specify 'dtype=object' when creating the ndarray.\n",
      "  i_ = np.array(r_)[0]\n"
     ]
    }
   ],
   "source": [
    "#np.array([r[0] for r in results_mktcp])\n",
    "#names_mktcap = [n[0] for n in results_mktcp]\n",
    "\n",
    "mktcap_df = pd.DataFrame()\n",
    "\n",
    "for r in range(0,len(results_mktcp)):\n",
    "    r_ = results_mktcp[r]\n",
    "    if(r_=='error'):\n",
    "        pass#sectors_df = pd.concat([sectors_df,pd.DataFrame([np.nan],index=[i_],columns=['Sector'])],axis=0)\n",
    "    else:\n",
    "        s_ = np.array(r_)[1]\n",
    "        #print(s_[0])\n",
    "        i_ = np.array(r_)[0]\n",
    "        mktcap_df = pd.concat([mktcap_df,pd.DataFrame([s_[0]],index=[i_],columns=['Market Cap'])],axis=0)\n",
    "\n",
    "missing_mktcaps = list(set(SP1500).difference([n[0] for n in results_mktcp]))\n",
    "\n",
    "for r in range(0,len(missing_mktcaps)):\n",
    "    r_ = missing_mktcaps[r]\n",
    "    #s_ = np.array(r_)[1]\n",
    "    #i_ = np.array(r_)[0]\n",
    "    mktcap_df = pd.concat([mktcap_df,pd.DataFrame([np.nan],index=[r_],columns=['Market Cap'])],axis=0)\n"
   ]
  },
  {
   "cell_type": "code",
   "execution_count": 43,
   "id": "ed5fbb2b-8eb4-42d5-ad00-205bfbdbddee",
   "metadata": {},
   "outputs": [
    {
     "data": {
      "text/html": [
       "<div>\n",
       "<style scoped>\n",
       "    .dataframe tbody tr th:only-of-type {\n",
       "        vertical-align: middle;\n",
       "    }\n",
       "\n",
       "    .dataframe tbody tr th {\n",
       "        vertical-align: top;\n",
       "    }\n",
       "\n",
       "    .dataframe thead th {\n",
       "        text-align: right;\n",
       "    }\n",
       "</style>\n",
       "<table border=\"1\" class=\"dataframe\">\n",
       "  <thead>\n",
       "    <tr style=\"text-align: right;\">\n",
       "      <th></th>\n",
       "      <th>Market Cap</th>\n",
       "    </tr>\n",
       "  </thead>\n",
       "  <tbody>\n",
       "    <tr>\n",
       "      <th>PNC</th>\n",
       "      <td>7.324369e+10</td>\n",
       "    </tr>\n",
       "    <tr>\n",
       "      <th>LVS</th>\n",
       "      <td>2.670909e+10</td>\n",
       "    </tr>\n",
       "    <tr>\n",
       "      <th>TMHC</th>\n",
       "      <td>3.497478e+09</td>\n",
       "    </tr>\n",
       "    <tr>\n",
       "      <th>CBRE</th>\n",
       "      <td>2.673981e+10</td>\n",
       "    </tr>\n",
       "    <tr>\n",
       "      <th>MMM</th>\n",
       "      <td>8.411565e+10</td>\n",
       "    </tr>\n",
       "    <tr>\n",
       "      <th>...</th>\n",
       "      <td>...</td>\n",
       "    </tr>\n",
       "    <tr>\n",
       "      <th>SBUX</th>\n",
       "      <td>NaN</td>\n",
       "    </tr>\n",
       "    <tr>\n",
       "      <th>BF.B</th>\n",
       "      <td>NaN</td>\n",
       "    </tr>\n",
       "    <tr>\n",
       "      <th>DINO</th>\n",
       "      <td>NaN</td>\n",
       "    </tr>\n",
       "    <tr>\n",
       "      <th>EMBC</th>\n",
       "      <td>NaN</td>\n",
       "    </tr>\n",
       "    <tr>\n",
       "      <th>WBD</th>\n",
       "      <td>NaN</td>\n",
       "    </tr>\n",
       "  </tbody>\n",
       "</table>\n",
       "<p>1505 rows × 1 columns</p>\n",
       "</div>"
      ],
      "text/plain": [
       "        Market Cap\n",
       "PNC   7.324369e+10\n",
       "LVS   2.670909e+10\n",
       "TMHC  3.497478e+09\n",
       "CBRE  2.673981e+10\n",
       "MMM   8.411565e+10\n",
       "...            ...\n",
       "SBUX           NaN\n",
       "BF.B           NaN\n",
       "DINO           NaN\n",
       "EMBC           NaN\n",
       "WBD            NaN\n",
       "\n",
       "[1505 rows x 1 columns]"
      ]
     },
     "execution_count": 43,
     "metadata": {},
     "output_type": "execute_result"
    }
   ],
   "source": [
    "mktcap_df"
   ]
  },
  {
   "cell_type": "code",
   "execution_count": 44,
   "id": "fabb105e-5e71-4393-a909-0e284581465a",
   "metadata": {},
   "outputs": [
    {
     "data": {
      "text/html": [
       "<div>\n",
       "<style scoped>\n",
       "    .dataframe tbody tr th:only-of-type {\n",
       "        vertical-align: middle;\n",
       "    }\n",
       "\n",
       "    .dataframe tbody tr th {\n",
       "        vertical-align: top;\n",
       "    }\n",
       "\n",
       "    .dataframe thead th {\n",
       "        text-align: right;\n",
       "    }\n",
       "</style>\n",
       "<table border=\"1\" class=\"dataframe\">\n",
       "  <thead>\n",
       "    <tr style=\"text-align: right;\">\n",
       "      <th></th>\n",
       "      <th>Market Cap</th>\n",
       "    </tr>\n",
       "  </thead>\n",
       "  <tbody>\n",
       "    <tr>\n",
       "      <th>AAPL</th>\n",
       "      <td>2.385163e+12</td>\n",
       "    </tr>\n",
       "    <tr>\n",
       "      <th>MSFT</th>\n",
       "      <td>2.027305e+12</td>\n",
       "    </tr>\n",
       "    <tr>\n",
       "      <th>GOOG</th>\n",
       "      <td>1.520775e+12</td>\n",
       "    </tr>\n",
       "    <tr>\n",
       "      <th>GOOGL</th>\n",
       "      <td>1.520649e+12</td>\n",
       "    </tr>\n",
       "    <tr>\n",
       "      <th>AMZN</th>\n",
       "      <td>1.240991e+12</td>\n",
       "    </tr>\n",
       "    <tr>\n",
       "      <th>...</th>\n",
       "      <td>...</td>\n",
       "    </tr>\n",
       "    <tr>\n",
       "      <th>SBUX</th>\n",
       "      <td>NaN</td>\n",
       "    </tr>\n",
       "    <tr>\n",
       "      <th>BF.B</th>\n",
       "      <td>NaN</td>\n",
       "    </tr>\n",
       "    <tr>\n",
       "      <th>DINO</th>\n",
       "      <td>NaN</td>\n",
       "    </tr>\n",
       "    <tr>\n",
       "      <th>EMBC</th>\n",
       "      <td>NaN</td>\n",
       "    </tr>\n",
       "    <tr>\n",
       "      <th>WBD</th>\n",
       "      <td>NaN</td>\n",
       "    </tr>\n",
       "  </tbody>\n",
       "</table>\n",
       "<p>1505 rows × 1 columns</p>\n",
       "</div>"
      ],
      "text/plain": [
       "         Market Cap\n",
       "AAPL   2.385163e+12\n",
       "MSFT   2.027305e+12\n",
       "GOOG   1.520775e+12\n",
       "GOOGL  1.520649e+12\n",
       "AMZN   1.240991e+12\n",
       "...             ...\n",
       "SBUX            NaN\n",
       "BF.B            NaN\n",
       "DINO            NaN\n",
       "EMBC            NaN\n",
       "WBD             NaN\n",
       "\n",
       "[1505 rows x 1 columns]"
      ]
     },
     "execution_count": 44,
     "metadata": {},
     "output_type": "execute_result"
    }
   ],
   "source": [
    "mktcap_df.sort_values(by='Market Cap',ascending=False)"
   ]
  },
  {
   "cell_type": "code",
   "execution_count": 45,
   "id": "0d8a846e-177a-47ea-8fbb-831b97f08457",
   "metadata": {},
   "outputs": [
    {
     "data": {
      "text/html": [
       "<div>\n",
       "<style scoped>\n",
       "    .dataframe tbody tr th:only-of-type {\n",
       "        vertical-align: middle;\n",
       "    }\n",
       "\n",
       "    .dataframe tbody tr th {\n",
       "        vertical-align: top;\n",
       "    }\n",
       "\n",
       "    .dataframe thead th {\n",
       "        text-align: right;\n",
       "    }\n",
       "</style>\n",
       "<table border=\"1\" class=\"dataframe\">\n",
       "  <thead>\n",
       "    <tr style=\"text-align: right;\">\n",
       "      <th></th>\n",
       "      <th>Sector</th>\n",
       "    </tr>\n",
       "  </thead>\n",
       "  <tbody>\n",
       "    <tr>\n",
       "      <th>PNC</th>\n",
       "      <td>Financial Services</td>\n",
       "    </tr>\n",
       "    <tr>\n",
       "      <th>LVS</th>\n",
       "      <td>Consumer Cyclical</td>\n",
       "    </tr>\n",
       "    <tr>\n",
       "      <th>TMHC</th>\n",
       "      <td>Consumer Cyclical</td>\n",
       "    </tr>\n",
       "    <tr>\n",
       "      <th>CBRE</th>\n",
       "      <td>Real Estate</td>\n",
       "    </tr>\n",
       "    <tr>\n",
       "      <th>MMM</th>\n",
       "      <td>Industrials</td>\n",
       "    </tr>\n",
       "    <tr>\n",
       "      <th>...</th>\n",
       "      <td>...</td>\n",
       "    </tr>\n",
       "    <tr>\n",
       "      <th>SBUX</th>\n",
       "      <td>Consumer Cyclical</td>\n",
       "    </tr>\n",
       "    <tr>\n",
       "      <th>BF.B</th>\n",
       "      <td>error</td>\n",
       "    </tr>\n",
       "    <tr>\n",
       "      <th>DINO</th>\n",
       "      <td>Energy</td>\n",
       "    </tr>\n",
       "    <tr>\n",
       "      <th>EMBC</th>\n",
       "      <td>Healthcare</td>\n",
       "    </tr>\n",
       "    <tr>\n",
       "      <th>WBD</th>\n",
       "      <td>Communication Services</td>\n",
       "    </tr>\n",
       "  </tbody>\n",
       "</table>\n",
       "<p>1505 rows × 1 columns</p>\n",
       "</div>"
      ],
      "text/plain": [
       "                      Sector\n",
       "PNC       Financial Services\n",
       "LVS        Consumer Cyclical\n",
       "TMHC       Consumer Cyclical\n",
       "CBRE             Real Estate\n",
       "MMM              Industrials\n",
       "...                      ...\n",
       "SBUX       Consumer Cyclical\n",
       "BF.B                   error\n",
       "DINO                  Energy\n",
       "EMBC              Healthcare\n",
       "WBD   Communication Services\n",
       "\n",
       "[1505 rows x 1 columns]"
      ]
     },
     "execution_count": 45,
     "metadata": {},
     "output_type": "execute_result"
    }
   ],
   "source": [
    "sectors_df.loc[~sectors_df.index.duplicated(), :].reindex(mktcap_df.loc[~mktcap_df.index.duplicated(), :].index)"
   ]
  },
  {
   "cell_type": "code",
   "execution_count": 46,
   "id": "e54c15f7-c3e9-4e88-8783-931d27852a48",
   "metadata": {},
   "outputs": [
    {
     "data": {
      "text/html": [
       "<div>\n",
       "<style scoped>\n",
       "    .dataframe tbody tr th:only-of-type {\n",
       "        vertical-align: middle;\n",
       "    }\n",
       "\n",
       "    .dataframe tbody tr th {\n",
       "        vertical-align: top;\n",
       "    }\n",
       "\n",
       "    .dataframe thead th {\n",
       "        text-align: right;\n",
       "    }\n",
       "</style>\n",
       "<table border=\"1\" class=\"dataframe\">\n",
       "  <thead>\n",
       "    <tr style=\"text-align: right;\">\n",
       "      <th></th>\n",
       "      <th>Sector</th>\n",
       "      <th>Market Cap</th>\n",
       "    </tr>\n",
       "  </thead>\n",
       "  <tbody>\n",
       "    <tr>\n",
       "      <th>EXR</th>\n",
       "      <td>Real Estate</td>\n",
       "      <td>2.387294e+10</td>\n",
       "    </tr>\n",
       "    <tr>\n",
       "      <th>MMM</th>\n",
       "      <td>Industrials</td>\n",
       "      <td>8.411565e+10</td>\n",
       "    </tr>\n",
       "    <tr>\n",
       "      <th>LVS</th>\n",
       "      <td>Consumer Cyclical</td>\n",
       "      <td>2.670909e+10</td>\n",
       "    </tr>\n",
       "    <tr>\n",
       "      <th>SM</th>\n",
       "      <td>Energy</td>\n",
       "      <td>6.100424e+09</td>\n",
       "    </tr>\n",
       "    <tr>\n",
       "      <th>CBRE</th>\n",
       "      <td>Real Estate</td>\n",
       "      <td>2.673981e+10</td>\n",
       "    </tr>\n",
       "    <tr>\n",
       "      <th>...</th>\n",
       "      <td>...</td>\n",
       "      <td>...</td>\n",
       "    </tr>\n",
       "    <tr>\n",
       "      <th>CLDT</th>\n",
       "      <td>error</td>\n",
       "      <td>6.271590e+08</td>\n",
       "    </tr>\n",
       "    <tr>\n",
       "      <th>PRG</th>\n",
       "      <td>error</td>\n",
       "      <td>1.493947e+09</td>\n",
       "    </tr>\n",
       "    <tr>\n",
       "      <th>ROIC</th>\n",
       "      <td>error</td>\n",
       "      <td>2.160133e+09</td>\n",
       "    </tr>\n",
       "    <tr>\n",
       "      <th>NPK</th>\n",
       "      <td>error</td>\n",
       "      <td>4.867421e+08</td>\n",
       "    </tr>\n",
       "    <tr>\n",
       "      <th>KOP</th>\n",
       "      <td>error</td>\n",
       "      <td>5.970026e+08</td>\n",
       "    </tr>\n",
       "  </tbody>\n",
       "</table>\n",
       "<p>1505 rows × 2 columns</p>\n",
       "</div>"
      ],
      "text/plain": [
       "                 Sector    Market Cap\n",
       "EXR         Real Estate  2.387294e+10\n",
       "MMM         Industrials  8.411565e+10\n",
       "LVS   Consumer Cyclical  2.670909e+10\n",
       "SM               Energy  6.100424e+09\n",
       "CBRE        Real Estate  2.673981e+10\n",
       "...                 ...           ...\n",
       "CLDT              error  6.271590e+08\n",
       "PRG               error  1.493947e+09\n",
       "ROIC              error  2.160133e+09\n",
       "NPK               error  4.867421e+08\n",
       "KOP               error  5.970026e+08\n",
       "\n",
       "[1505 rows x 2 columns]"
      ]
     },
     "execution_count": 46,
     "metadata": {},
     "output_type": "execute_result"
    }
   ],
   "source": [
    "pd.concat([sectors_df,mktcap_df],axis=1)"
   ]
  },
  {
   "cell_type": "code",
   "execution_count": 47,
   "id": "24225fc9-0736-421a-8de8-03158a7a7f6f",
   "metadata": {},
   "outputs": [],
   "source": [
    "#total_mkt_cap = mktcap_df.replace([np.nan], 0).sum()\n",
    "#mktcap_df['mkt_cap_pct'] = mktcap_df.replace([np.nan], 0)/total_mkt_cap"
   ]
  },
  {
   "cell_type": "code",
   "execution_count": null,
   "id": "64775fa7-69f1-42fa-be65-4d052ffd9a62",
   "metadata": {},
   "outputs": [],
   "source": []
  },
  {
   "cell_type": "code",
   "execution_count": 48,
   "id": "4005498d-cb05-42b0-9eec-ce0e5531f564",
   "metadata": {},
   "outputs": [],
   "source": [
    "#[rp[2] for rp in results_prices][0].info['sector']"
   ]
  },
  {
   "cell_type": "code",
   "execution_count": null,
   "id": "85ecc631-d351-4173-bd36-6f0e2844a4e1",
   "metadata": {},
   "outputs": [],
   "source": []
  },
  {
   "cell_type": "code",
   "execution_count": null,
   "id": "aec7367e-8278-4230-977b-206d1b37bb9f",
   "metadata": {},
   "outputs": [],
   "source": []
  },
  {
   "cell_type": "code",
   "execution_count": 49,
   "id": "1816e358-d346-4b98-afa7-99db332e69e7",
   "metadata": {},
   "outputs": [
    {
     "data": {
      "text/plain": [
       "'\\narr=np.array(names_prices)\\npd.Series(arr).value_counts()\\nset_ = pd.Series(arr).value_counts()[pd.Series(arr).value_counts()>1]\\nif(len(set_)==0):\\n    duplicates = []\\n    pass\\nelse:\\n    duplicates = set_.index[0]\\n    '"
      ]
     },
     "execution_count": 49,
     "metadata": {},
     "output_type": "execute_result"
    }
   ],
   "source": [
    "\"\"\"\n",
    "arr=np.array(names_prices)\n",
    "pd.Series(arr).value_counts()\n",
    "set_ = pd.Series(arr).value_counts()[pd.Series(arr).value_counts()>1]\n",
    "if(len(set_)==0):\n",
    "    duplicates = []\n",
    "    pass\n",
    "else:\n",
    "    duplicates = set_.index[0]\n",
    "    \"\"\""
   ]
  },
  {
   "cell_type": "code",
   "execution_count": null,
   "id": "5f7b51f5-c16a-43c1-89c6-9cbb75ec47b8",
   "metadata": {},
   "outputs": [],
   "source": []
  },
  {
   "cell_type": "code",
   "execution_count": 50,
   "id": "92cff6fb-95a2-4470-9537-96ae4e4e44ab",
   "metadata": {},
   "outputs": [],
   "source": [
    "#len(results)"
   ]
  },
  {
   "cell_type": "code",
   "execution_count": null,
   "id": "4b54d7e2-39cb-48a4-9cb2-313a406aa903",
   "metadata": {},
   "outputs": [],
   "source": []
  },
  {
   "cell_type": "code",
   "execution_count": null,
   "id": "b4223738-183b-4bb9-8bab-8dfb350bc136",
   "metadata": {},
   "outputs": [],
   "source": []
  },
  {
   "cell_type": "code",
   "execution_count": null,
   "id": "5904954a-8598-44fe-b925-267c10964913",
   "metadata": {},
   "outputs": [],
   "source": []
  },
  {
   "cell_type": "code",
   "execution_count": null,
   "id": "6c4a6002-4ada-4fb6-a494-63b32d737e12",
   "metadata": {},
   "outputs": [],
   "source": []
  },
  {
   "cell_type": "code",
   "execution_count": null,
   "id": "e0ae2222-3345-4267-a041-209115555cf7",
   "metadata": {},
   "outputs": [],
   "source": []
  },
  {
   "cell_type": "code",
   "execution_count": 51,
   "id": "e319b0ed-d29f-4cc4-b0b9-8c236cad6edb",
   "metadata": {},
   "outputs": [
    {
     "name": "stderr",
     "output_type": "stream",
     "text": [
      "C:\\Users\\User\\AppData\\Local\\Programs\\Python\\Python39\\lib\\site-packages\\distributed\\client.py:1265: VersionMismatchWarning: Mismatched versions found\n",
      "\n",
      "+-------------+---------------+---------------+---------------+\n",
      "| Package     | client        | scheduler     | workers       |\n",
      "+-------------+---------------+---------------+---------------+\n",
      "| dask        | 2022.01.1     | 2021.11.2     | 2021.11.2     |\n",
      "| distributed | 2022.01.1     | 2021.11.2     | 2021.11.2     |\n",
      "| lz4         | 3.1.3         | 3.1.10        | 3.1.10        |\n",
      "| python      | 3.9.7.final.0 | 3.9.9.final.0 | 3.9.9.final.0 |\n",
      "| toolz       | 0.11.1        | 0.11.2        | 0.11.2        |\n",
      "+-------------+---------------+---------------+---------------+\n",
      "  warnings.warn(version_module.VersionMismatchWarning(msg[0][\"warning\"]))\n"
     ]
    }
   ],
   "source": [
    "names_prices = [rp[0] for rp in results_prices]\n",
    "\n",
    "#def process_df(data_):\n",
    "npa = []    \n",
    "for n in range(0,len(names_prices)):\n",
    "    #print(names_prices[n])\n",
    "    n_ = names_prices[n]\n",
    "    npa.append([n_,results_prices[n][1]])\n",
    "    \n",
    "prices_df = pd.DataFrame()\n",
    "\n",
    "client = Client('192.168.3.100:8786')\n",
    "client.restart()\n",
    "\n",
    "future = client.map(derive_price_supply_trends, npa)\n",
    "#results_sectors = []\n",
    "#my intent was to capture future objects vs results and this gave me results\n",
    "for f in as_completed(future):\n",
    "    if(f.status==\"error\"):\n",
    "        #results_sectors.append(\"error\")\n",
    "        pass\n",
    "    else:\n",
    "        #results_sectors.append(f.result()) \n",
    "        prices_df = pd.concat([f.result(),prices_df],axis=0)\n",
    "client.close()"
   ]
  },
  {
   "cell_type": "code",
   "execution_count": 52,
   "id": "18ee21a8-8a87-4e39-ba06-1e0fb6401f7b",
   "metadata": {},
   "outputs": [],
   "source": [
    "#np.unique(np.array(prices_df['Symbol'].values))"
   ]
  },
  {
   "cell_type": "code",
   "execution_count": 53,
   "id": "5d454900-fcb6-401e-a060-744534924c0b",
   "metadata": {},
   "outputs": [],
   "source": [
    "#sectors_df.reindex(mktcap_df.index.duplicated())"
   ]
  },
  {
   "cell_type": "code",
   "execution_count": null,
   "id": "03fd2f28-718b-44df-9952-990ca5b479ad",
   "metadata": {},
   "outputs": [],
   "source": []
  },
  {
   "cell_type": "code",
   "execution_count": null,
   "id": "9ba41273-34e7-4b11-a1b0-0347d4540675",
   "metadata": {},
   "outputs": [],
   "source": []
  },
  {
   "cell_type": "code",
   "execution_count": null,
   "id": "6206e42a-0776-415f-a5ea-738860e7927d",
   "metadata": {},
   "outputs": [],
   "source": []
  },
  {
   "cell_type": "code",
   "execution_count": null,
   "id": "400365a0-c03e-4cb5-a8ce-a92179faa37b",
   "metadata": {},
   "outputs": [],
   "source": []
  },
  {
   "cell_type": "code",
   "execution_count": null,
   "id": "99c45887-558d-46b9-9790-2dc4e0102ae1",
   "metadata": {},
   "outputs": [],
   "source": []
  },
  {
   "cell_type": "code",
   "execution_count": 54,
   "id": "6148b354-6eac-4483-80e6-6416bed0c345",
   "metadata": {},
   "outputs": [
    {
     "data": {
      "text/plain": [
       "Index(['Open', 'High', 'Low', 'Close', 'Adj Close', 'Volume', 'Symbol',\n",
       "       'trailing_1yr_max', 'trailing_1yr_min', 'supply_trend',\n",
       "       'supply_trend_1yr', 'supply_trend_180d', 'supply_trend_90d',\n",
       "       'supply_trend_60d', 'supply_trend_30d', 'trailing_60d_max',\n",
       "       'trailing_60d_min', 'trailing_30d_max', 'trailing_30d_min',\n",
       "       'trailing_risk_max', 'trailing_risk_min', 'risk', '30d_vol',\n",
       "       'momentum_1yr', 'risk_per_share'],\n",
       "      dtype='object')"
      ]
     },
     "execution_count": 54,
     "metadata": {},
     "output_type": "execute_result"
    }
   ],
   "source": [
    "prices_df.columns"
   ]
  },
  {
   "cell_type": "code",
   "execution_count": 55,
   "id": "bd36d6f9-4261-4ef2-9fed-20db6316d591",
   "metadata": {},
   "outputs": [
    {
     "data": {
      "text/plain": [
       "\"\\nscreenerMetrics = []\\n\\nfor n in npa:\\n    \\n    #data_df = pd.DataFrame(n[0])\\n    data_df = n\\n    n_ = data_df['Symbol'].values[-1]\\n    #print(n_)\\n    value = calculateMinMax(n)\\n    #print(value)\\n    screenerMetrics.append(value)\\n\""
      ]
     },
     "execution_count": 55,
     "metadata": {},
     "output_type": "execute_result"
    }
   ],
   "source": [
    "\"\"\"\n",
    "screenerMetrics = []\n",
    "\n",
    "for n in npa:\n",
    "    \n",
    "    #data_df = pd.DataFrame(n[0])\n",
    "    data_df = n\n",
    "    n_ = data_df['Symbol'].values[-1]\n",
    "    #print(n_)\n",
    "    value = calculateMinMax(n)\n",
    "    #print(value)\n",
    "    screenerMetrics.append(value)\n",
    "\"\"\""
   ]
  },
  {
   "cell_type": "code",
   "execution_count": null,
   "id": "45598716-e90e-4d90-b91e-a2783e5af7f9",
   "metadata": {},
   "outputs": [],
   "source": []
  },
  {
   "cell_type": "code",
   "execution_count": null,
   "id": "a6b67e18-3346-4bcd-a87f-244e86cd0583",
   "metadata": {},
   "outputs": [],
   "source": []
  },
  {
   "cell_type": "code",
   "execution_count": null,
   "id": "98cd0547-7f3f-48fd-bee3-30feb017db48",
   "metadata": {},
   "outputs": [],
   "source": []
  },
  {
   "cell_type": "code",
   "execution_count": null,
   "id": "ca207c82-b9b4-422f-8c74-10f199c4643b",
   "metadata": {},
   "outputs": [],
   "source": []
  },
  {
   "cell_type": "code",
   "execution_count": 56,
   "id": "8809d872-d0a4-43cc-85e2-13f2ca323830",
   "metadata": {},
   "outputs": [],
   "source": [
    "#[rp[0] for rp in results_prices]"
   ]
  },
  {
   "cell_type": "code",
   "execution_count": 57,
   "id": "4f07d49c-9042-4179-9fda-36a4e62accf7",
   "metadata": {},
   "outputs": [],
   "source": [
    "npa = []\n",
    "for s in names_prices:\n",
    "    #print(s)\n",
    "    subset = prices_df.iloc[np.where(prices_df['Symbol']==s)]\n",
    "    if(len(subset)==0):\n",
    "        pass\n",
    "    else:\n",
    "        npa.append(subset)\n",
    "    "
   ]
  },
  {
   "cell_type": "code",
   "execution_count": null,
   "id": "a0aef3b6-206b-4eee-92dd-951b93791911",
   "metadata": {},
   "outputs": [],
   "source": []
  },
  {
   "cell_type": "code",
   "execution_count": 58,
   "id": "5cdd6ec8-930c-41d0-800b-01b6b56db1c5",
   "metadata": {},
   "outputs": [],
   "source": [
    "screenerMetrics = []\n",
    "\n",
    "client = Client('192.168.3.100:8786')\n",
    "client.restart()\n",
    "\n",
    "future = client.map(calculateMetrics, npa)\n",
    "\n",
    "#my intent was to capture future objects vs results and this gave me results\n",
    "for f in as_completed(future):\n",
    "    if(f.status==\"error\"):\n",
    "        screenerMetrics.append(\"error\")\n",
    "    else:\n",
    "        screenerMetrics.append(f.result()) \n",
    "client.close()\n"
   ]
  },
  {
   "cell_type": "code",
   "execution_count": 59,
   "id": "53f3b840-f810-494c-b4e8-cb1f753a4d25",
   "metadata": {},
   "outputs": [],
   "source": [
    "#names_prices[np.where(np.array(names_prices)=='MMM')[0][0]]"
   ]
  },
  {
   "cell_type": "code",
   "execution_count": null,
   "id": "67c9f260-bdba-44b9-8531-fe47b4215d18",
   "metadata": {},
   "outputs": [],
   "source": []
  },
  {
   "cell_type": "code",
   "execution_count": null,
   "id": "d409ea3b-20e1-4bdb-b896-24c60f3ba5d3",
   "metadata": {},
   "outputs": [],
   "source": []
  },
  {
   "cell_type": "code",
   "execution_count": 60,
   "id": "9739e908-184d-4c6d-a187-ff82141eb3df",
   "metadata": {},
   "outputs": [],
   "source": [
    "index_names = ['SP1500', 'SP500', 'SP600', 'SP400']\n",
    "indexes = ['SPTM','SPY','SLY','MDYG']\n",
    "sector_names = ['Communication Services ETF', 'Consumer Discretionary ETF', 'Consumer Staples ETF', 'Energy ETF', 'Financials ETF', 'Health Care ETF', 'Industrials ETF', 'Information Technology ETF', 'Materials ETF', 'Real Estate ETF', 'Utilities ETF']\n",
    "sectors = ['VOX','VCR','VDC','VDE','VFH','VHT','VIS','VGT','VAW','VNQ','VPU']"
   ]
  },
  {
   "cell_type": "code",
   "execution_count": 61,
   "id": "d1c86ac6-932b-4583-a60d-2b9143a864b0",
   "metadata": {},
   "outputs": [],
   "source": [
    "npa = []\n",
    "for i in range(0,len(indexes)):\n",
    "    npa.append([indexes[i],start.strftime('%Y-%m-%d'),end.strftime('%Y-%m-%d')])\n",
    "    \n",
    "# = getStock(npa[0])\n",
    "    \n",
    "client = Client('192.168.3.100:8786')\n",
    "client.restart()\n",
    "future = client.map(getStock, npa)\n",
    "results_indexes = []\n",
    "#my intent was to capture future objects vs results and this gave me results\n",
    "for f in as_completed(future):\n",
    "    if(f.status==\"error\"):\n",
    "        results_indexes.append(\"error\")\n",
    "    else:\n",
    "        results_indexes.append(f.result()) \n",
    "client.close()\n"
   ]
  },
  {
   "cell_type": "code",
   "execution_count": null,
   "id": "53210562-e780-45d9-b979-85ac093cbcc3",
   "metadata": {},
   "outputs": [],
   "source": []
  },
  {
   "cell_type": "code",
   "execution_count": 62,
   "id": "11c1fd53-3c7c-456c-b16f-745a3d1d8175",
   "metadata": {},
   "outputs": [],
   "source": [
    "npa = []\n",
    "for i in range(0,len(sectors)):\n",
    "    npa.append([sectors[i],start.strftime('%Y-%m-%d'),end.strftime('%Y-%m-%d')])\n",
    "    \n",
    "# = getStock(npa[0])\n",
    "    \n",
    "client = Client('192.168.3.100:8786')\n",
    "client.restart()\n",
    "future = client.map(getStock, npa)\n",
    "results_sectors = []\n",
    "#my intent was to capture future objects vs results and this gave me results\n",
    "for f in as_completed(future):\n",
    "    if(f.status==\"error\"):\n",
    "        results_sectors.append(\"error\")\n",
    "    else:\n",
    "        results_sectors.append(f.result()) \n",
    "client.close()\n"
   ]
  },
  {
   "cell_type": "code",
   "execution_count": 63,
   "id": "fda997e6-169d-4239-ab4c-3a917196033b",
   "metadata": {},
   "outputs": [],
   "source": [
    "#def process_df(data_):\n",
    "npa = []    \n",
    "for n in range(0,len(indexes)):\n",
    "    #print()\n",
    "    data=results_indexes[n][1]\n",
    "    data['Symbol'] = indexes[n]\n",
    "    npa.append([indexes[n],data])\n",
    "    \n",
    "prices_indexes = pd.DataFrame()\n",
    "\n",
    "client = Client('192.168.3.100:8786')\n",
    "client.restart()\n",
    "\n",
    "future = client.map(derive_price_supply_trends, npa)\n",
    "#results_sectors = []\n",
    "#my intent was to capture future objects vs results and this gave me results\n",
    "for f in as_completed(future):\n",
    "    if(f.status==\"error\"):\n",
    "        #results_sectors.append(\"error\")\n",
    "        pass\n",
    "    else:\n",
    "        #results_sectors.append(f.result()) \n",
    "        prices_indexes = pd.concat([f.result(),prices_indexes],axis=0)\n",
    "client.close()\n",
    "\n"
   ]
  },
  {
   "cell_type": "code",
   "execution_count": 64,
   "id": "850bba71-7423-43e5-aa32-7118c13bf32d",
   "metadata": {},
   "outputs": [],
   "source": [
    "\n",
    "#def process_df(data_):\n",
    "npa = []    \n",
    "for n in range(0,len(sectors)):\n",
    "    #print()\n",
    "    data=results_sectors[n][1]\n",
    "    data['Symbol'] = sectors[n]\n",
    "    npa.append([sectors[n],data])\n",
    "    \n",
    "prices_sectors = pd.DataFrame()\n",
    "\n",
    "client = Client('192.168.3.100:8786')\n",
    "client.restart()\n",
    "\n",
    "future = client.map(derive_price_supply_trends, npa)\n",
    "#results_sectors = []\n",
    "#my intent was to capture future objects vs results and this gave me results\n",
    "for f in as_completed(future):\n",
    "    if(f.status==\"error\"):\n",
    "        #results_sectors.append(\"error\")\n",
    "        pass\n",
    "    else:\n",
    "        #results_sectors.append(f.result()) \n",
    "        prices_sectors = pd.concat([f.result(),prices_sectors],axis=0)\n",
    "client.close()\n"
   ]
  },
  {
   "cell_type": "code",
   "execution_count": null,
   "id": "1cfa9341-e789-4148-b282-a66aca9f17c6",
   "metadata": {},
   "outputs": [],
   "source": []
  },
  {
   "cell_type": "code",
   "execution_count": 65,
   "id": "1d37d191-7578-451b-9fac-bf183b089c20",
   "metadata": {},
   "outputs": [],
   "source": [
    "npa = []\n",
    "for s in indexes:\n",
    "    subset = prices_indexes.iloc[np.where(prices_indexes['Symbol']==s)]\n",
    "    if(len(subset)==0):\n",
    "        pass\n",
    "    else:\n",
    "        npa.append(subset)\n",
    "    \n",
    "indexMetrics = []\n",
    "\n",
    "client = Client('192.168.3.100:8786')\n",
    "client.restart()\n",
    "\n",
    "future = client.map(calculateMetrics, npa)\n",
    "\n",
    "#my intent was to capture future objects vs results and this gave me results\n",
    "for f in as_completed(future):\n",
    "    if(f.status==\"error\"):\n",
    "        indexMetrics.append(\"error\")\n",
    "    else:\n",
    "        indexMetrics.append(f.result()) \n",
    "client.close()\n"
   ]
  },
  {
   "cell_type": "code",
   "execution_count": 66,
   "id": "20198566-a9bb-4882-93ec-cb271522ee9d",
   "metadata": {},
   "outputs": [],
   "source": [
    "npa = []\n",
    "for s in sectors:\n",
    "    subset = prices_sectors.iloc[np.where(prices_sectors['Symbol']==s)]\n",
    "    if(len(subset)==0):\n",
    "        pass\n",
    "    else:\n",
    "        npa.append(subset)\n",
    "    \n",
    "sectorMetrics = []\n",
    "\n",
    "client = Client('192.168.3.100:8786')\n",
    "client.restart()\n",
    "\n",
    "future = client.map(calculateMetrics, npa)\n",
    "\n",
    "#my intent was to capture future objects vs results and this gave me results\n",
    "for f in as_completed(future):\n",
    "    if(f.status==\"error\"):\n",
    "        sectorMetrics.append(\"error\")\n",
    "    else:\n",
    "        sectorMetrics.append(f.result()) \n",
    "client.close()\n"
   ]
  },
  {
   "cell_type": "code",
   "execution_count": null,
   "id": "f0e316e3-7e8b-4c3c-bf5c-405a01ac5026",
   "metadata": {},
   "outputs": [],
   "source": []
  },
  {
   "cell_type": "code",
   "execution_count": null,
   "id": "2e432a36-7792-4d1f-a843-16f8c09a0dbc",
   "metadata": {},
   "outputs": [],
   "source": []
  },
  {
   "cell_type": "code",
   "execution_count": 67,
   "id": "31eb0270-f116-48dd-b488-d17cc0eec592",
   "metadata": {},
   "outputs": [],
   "source": [
    "metrics = pd.concat([pd.DataFrame(screenerMetrics),pd.DataFrame(indexMetrics),pd.DataFrame(sectorMetrics)],axis=0)"
   ]
  },
  {
   "cell_type": "code",
   "execution_count": 68,
   "id": "29ba03fb-9956-4343-9205-4f244bb906d6",
   "metadata": {},
   "outputs": [],
   "source": [
    "#np.min(npa[np.where(np.array(names_prices)=='GBX')[0][0]]['Open'])"
   ]
  },
  {
   "cell_type": "code",
   "execution_count": 69,
   "id": "9b617ca2-ec24-4888-aae0-03b95dd729fe",
   "metadata": {},
   "outputs": [],
   "source": [
    "#calculateMinMax(npa[np.where(np.array(names_prices)=='GBX')[0][0]])"
   ]
  },
  {
   "cell_type": "code",
   "execution_count": 70,
   "id": "02e283b6-7ac9-4204-9ab9-7d21204a110a",
   "metadata": {},
   "outputs": [],
   "source": [
    "#pd.DataFrame(screener['risk_trend']).sort_values(by='risk_trend',ascending=False)"
   ]
  },
  {
   "cell_type": "code",
   "execution_count": 71,
   "id": "87ad7ede-1e6e-41ca-901c-6d03d2caea3b",
   "metadata": {},
   "outputs": [],
   "source": [
    "prices_df = pd.concat([prices_df,prices_indexes,prices_sectors],axis=0)"
   ]
  },
  {
   "cell_type": "code",
   "execution_count": null,
   "id": "aa639191-3ec1-4471-91f5-283372618fe5",
   "metadata": {},
   "outputs": [],
   "source": []
  },
  {
   "cell_type": "code",
   "execution_count": null,
   "id": "048c25cb-e0e9-43b1-aa7c-97fec70c51e6",
   "metadata": {},
   "outputs": [],
   "source": []
  },
  {
   "cell_type": "code",
   "execution_count": 72,
   "id": "890810fd-343b-460f-b612-e1466f422b84",
   "metadata": {},
   "outputs": [
    {
     "ename": "ValueError",
     "evalue": "Length mismatch: Expected axis has 1 elements, new values have 37 elements",
     "output_type": "error",
     "traceback": [
      "\u001b[1;31m---------------------------------------------------------------------------\u001b[0m",
      "\u001b[1;31mValueError\u001b[0m                                Traceback (most recent call last)",
      "\u001b[1;32m~\\AppData\\Local\\Temp/ipykernel_6124/2407241249.py\u001b[0m in \u001b[0;36m<module>\u001b[1;34m\u001b[0m\n\u001b[0;32m      1\u001b[0m \u001b[1;31m#return([n_,max_2y,min_2y,std_2y,mean_2y,max_1y,min_1y,std_1y,mean_1y,latest_p,*quantiles_close_2y,*quantiles_close_1y,risk_trend,supply_trend_1yr,supply_trend_180d,supply_trend_90d,supply_trend_60d,supply_trend_30d,vol_30d_2yr,pct_1yr,,pct_2yr])\u001b[0m\u001b[1;33m\u001b[0m\u001b[1;33m\u001b[0m\u001b[0m\n\u001b[1;32m----> 2\u001b[1;33m \u001b[0mmetrics\u001b[0m\u001b[1;33m.\u001b[0m\u001b[0mcolumns\u001b[0m \u001b[1;33m=\u001b[0m \u001b[1;33m[\u001b[0m\u001b[1;34m'Symbol'\u001b[0m\u001b[1;33m,\u001b[0m\u001b[1;34m'max_2y'\u001b[0m\u001b[1;33m,\u001b[0m\u001b[1;34m'min_2y'\u001b[0m\u001b[1;33m,\u001b[0m\u001b[1;34m'std_2y'\u001b[0m\u001b[1;33m,\u001b[0m\u001b[1;34m'mean_2y'\u001b[0m\u001b[1;33m,\u001b[0m\u001b[1;34m'max_1y'\u001b[0m\u001b[1;33m,\u001b[0m\u001b[1;34m'min_1y'\u001b[0m\u001b[1;33m,\u001b[0m\u001b[1;34m'std_1y'\u001b[0m\u001b[1;33m,\u001b[0m\u001b[1;34m'mean_1y'\u001b[0m\u001b[1;33m,\u001b[0m\u001b[1;34m'latest_p'\u001b[0m\u001b[1;33m,\u001b[0m\u001b[1;34m'2yr_close_0pct'\u001b[0m\u001b[1;33m,\u001b[0m\u001b[1;34m'2yr_close_2pct'\u001b[0m\u001b[1;33m,\u001b[0m\u001b[1;34m'2yr_close_9pct'\u001b[0m\u001b[1;33m,\u001b[0m\u001b[1;34m'2yr_close_25pct'\u001b[0m\u001b[1;33m,\u001b[0m\u001b[1;34m'2yr_close_50pct'\u001b[0m\u001b[1;33m,\u001b[0m\u001b[1;34m'2yr_close_75pct'\u001b[0m\u001b[1;33m,\u001b[0m\u001b[1;34m'2yr_close_91pct'\u001b[0m\u001b[1;33m,\u001b[0m\u001b[1;34m'2yr_close_98pct'\u001b[0m\u001b[1;33m,\u001b[0m\u001b[1;34m'2yr_close_100pct'\u001b[0m\u001b[1;33m,\u001b[0m\u001b[1;34m'1yr_close_0pct'\u001b[0m\u001b[1;33m,\u001b[0m\u001b[1;34m'1yr_close_2pct'\u001b[0m\u001b[1;33m,\u001b[0m\u001b[1;34m'1yr_close_9pct'\u001b[0m\u001b[1;33m,\u001b[0m\u001b[1;34m'1yr_close_25pct'\u001b[0m\u001b[1;33m,\u001b[0m\u001b[1;34m'1yr_close_50pct'\u001b[0m\u001b[1;33m,\u001b[0m\u001b[1;34m'2yr_close_75pct'\u001b[0m\u001b[1;33m,\u001b[0m\u001b[1;34m'1yr_close_91pct'\u001b[0m\u001b[1;33m,\u001b[0m\u001b[1;34m'1yr_close_98pct'\u001b[0m\u001b[1;33m,\u001b[0m\u001b[1;34m'1yr_close_100pct'\u001b[0m\u001b[1;33m,\u001b[0m\u001b[1;34m'risk_trend'\u001b[0m\u001b[1;33m,\u001b[0m\u001b[1;34m'supply_trend_1yr'\u001b[0m\u001b[1;33m,\u001b[0m\u001b[1;34m'supply_trend_180d'\u001b[0m\u001b[1;33m,\u001b[0m\u001b[1;34m'supply_trend_90d'\u001b[0m\u001b[1;33m,\u001b[0m\u001b[1;34m'supply_trend_60d'\u001b[0m\u001b[1;33m,\u001b[0m\u001b[1;34m'supply_trend_30d'\u001b[0m\u001b[1;33m,\u001b[0m\u001b[1;34m'vol_30d_2yr'\u001b[0m\u001b[1;33m,\u001b[0m\u001b[1;34m'pct_1yr'\u001b[0m\u001b[1;33m,\u001b[0m\u001b[1;34m'pct_2yr'\u001b[0m\u001b[1;33m]\u001b[0m\u001b[1;33m\u001b[0m\u001b[1;33m\u001b[0m\u001b[0m\n\u001b[0m",
      "\u001b[1;32m~\\AppData\\Local\\Programs\\Python\\Python39\\lib\\site-packages\\pandas\\core\\generic.py\u001b[0m in \u001b[0;36m__setattr__\u001b[1;34m(self, name, value)\u001b[0m\n\u001b[0;32m   5476\u001b[0m         \u001b[1;32mtry\u001b[0m\u001b[1;33m:\u001b[0m\u001b[1;33m\u001b[0m\u001b[1;33m\u001b[0m\u001b[0m\n\u001b[0;32m   5477\u001b[0m             \u001b[0mobject\u001b[0m\u001b[1;33m.\u001b[0m\u001b[0m__getattribute__\u001b[0m\u001b[1;33m(\u001b[0m\u001b[0mself\u001b[0m\u001b[1;33m,\u001b[0m \u001b[0mname\u001b[0m\u001b[1;33m)\u001b[0m\u001b[1;33m\u001b[0m\u001b[1;33m\u001b[0m\u001b[0m\n\u001b[1;32m-> 5478\u001b[1;33m             \u001b[1;32mreturn\u001b[0m \u001b[0mobject\u001b[0m\u001b[1;33m.\u001b[0m\u001b[0m__setattr__\u001b[0m\u001b[1;33m(\u001b[0m\u001b[0mself\u001b[0m\u001b[1;33m,\u001b[0m \u001b[0mname\u001b[0m\u001b[1;33m,\u001b[0m \u001b[0mvalue\u001b[0m\u001b[1;33m)\u001b[0m\u001b[1;33m\u001b[0m\u001b[1;33m\u001b[0m\u001b[0m\n\u001b[0m\u001b[0;32m   5479\u001b[0m         \u001b[1;32mexcept\u001b[0m \u001b[0mAttributeError\u001b[0m\u001b[1;33m:\u001b[0m\u001b[1;33m\u001b[0m\u001b[1;33m\u001b[0m\u001b[0m\n\u001b[0;32m   5480\u001b[0m             \u001b[1;32mpass\u001b[0m\u001b[1;33m\u001b[0m\u001b[1;33m\u001b[0m\u001b[0m\n",
      "\u001b[1;32mpandas\\_libs\\properties.pyx\u001b[0m in \u001b[0;36mpandas._libs.properties.AxisProperty.__set__\u001b[1;34m()\u001b[0m\n",
      "\u001b[1;32m~\\AppData\\Local\\Programs\\Python\\Python39\\lib\\site-packages\\pandas\\core\\generic.py\u001b[0m in \u001b[0;36m_set_axis\u001b[1;34m(self, axis, labels)\u001b[0m\n\u001b[0;32m    668\u001b[0m     \u001b[1;32mdef\u001b[0m \u001b[0m_set_axis\u001b[0m\u001b[1;33m(\u001b[0m\u001b[0mself\u001b[0m\u001b[1;33m,\u001b[0m \u001b[0maxis\u001b[0m\u001b[1;33m:\u001b[0m \u001b[0mint\u001b[0m\u001b[1;33m,\u001b[0m \u001b[0mlabels\u001b[0m\u001b[1;33m:\u001b[0m \u001b[0mIndex\u001b[0m\u001b[1;33m)\u001b[0m \u001b[1;33m->\u001b[0m \u001b[1;32mNone\u001b[0m\u001b[1;33m:\u001b[0m\u001b[1;33m\u001b[0m\u001b[1;33m\u001b[0m\u001b[0m\n\u001b[0;32m    669\u001b[0m         \u001b[0mlabels\u001b[0m \u001b[1;33m=\u001b[0m \u001b[0mensure_index\u001b[0m\u001b[1;33m(\u001b[0m\u001b[0mlabels\u001b[0m\u001b[1;33m)\u001b[0m\u001b[1;33m\u001b[0m\u001b[1;33m\u001b[0m\u001b[0m\n\u001b[1;32m--> 670\u001b[1;33m         \u001b[0mself\u001b[0m\u001b[1;33m.\u001b[0m\u001b[0m_mgr\u001b[0m\u001b[1;33m.\u001b[0m\u001b[0mset_axis\u001b[0m\u001b[1;33m(\u001b[0m\u001b[0maxis\u001b[0m\u001b[1;33m,\u001b[0m \u001b[0mlabels\u001b[0m\u001b[1;33m)\u001b[0m\u001b[1;33m\u001b[0m\u001b[1;33m\u001b[0m\u001b[0m\n\u001b[0m\u001b[0;32m    671\u001b[0m         \u001b[0mself\u001b[0m\u001b[1;33m.\u001b[0m\u001b[0m_clear_item_cache\u001b[0m\u001b[1;33m(\u001b[0m\u001b[1;33m)\u001b[0m\u001b[1;33m\u001b[0m\u001b[1;33m\u001b[0m\u001b[0m\n\u001b[0;32m    672\u001b[0m \u001b[1;33m\u001b[0m\u001b[0m\n",
      "\u001b[1;32m~\\AppData\\Local\\Programs\\Python\\Python39\\lib\\site-packages\\pandas\\core\\internals\\managers.py\u001b[0m in \u001b[0;36mset_axis\u001b[1;34m(self, axis, new_labels)\u001b[0m\n\u001b[0;32m    218\u001b[0m \u001b[1;33m\u001b[0m\u001b[0m\n\u001b[0;32m    219\u001b[0m         \u001b[1;32mif\u001b[0m \u001b[0mnew_len\u001b[0m \u001b[1;33m!=\u001b[0m \u001b[0mold_len\u001b[0m\u001b[1;33m:\u001b[0m\u001b[1;33m\u001b[0m\u001b[1;33m\u001b[0m\u001b[0m\n\u001b[1;32m--> 220\u001b[1;33m             raise ValueError(\n\u001b[0m\u001b[0;32m    221\u001b[0m                 \u001b[1;34mf\"Length mismatch: Expected axis has {old_len} elements, new \"\u001b[0m\u001b[1;33m\u001b[0m\u001b[1;33m\u001b[0m\u001b[0m\n\u001b[0;32m    222\u001b[0m                 \u001b[1;34mf\"values have {new_len} elements\"\u001b[0m\u001b[1;33m\u001b[0m\u001b[1;33m\u001b[0m\u001b[0m\n",
      "\u001b[1;31mValueError\u001b[0m: Length mismatch: Expected axis has 1 elements, new values have 37 elements"
     ]
    }
   ],
   "source": [
    "#return([n_,max_2y,min_2y,std_2y,mean_2y,max_1y,min_1y,std_1y,mean_1y,latest_p,*quantiles_close_2y,*quantiles_close_1y,risk_trend,supply_trend_1yr,supply_trend_180d,supply_trend_90d,supply_trend_60d,supply_trend_30d,vol_30d_2yr,pct_1yr,,pct_2yr])\n",
    "metrics.columns = ['Symbol','max_2y','min_2y','std_2y','mean_2y','max_1y','min_1y','std_1y','mean_1y','latest_p','2yr_close_0pct','2yr_close_2pct','2yr_close_9pct','2yr_close_25pct','2yr_close_50pct','2yr_close_75pct','2yr_close_91pct','2yr_close_98pct','2yr_close_100pct','1yr_close_0pct','1yr_close_2pct','1yr_close_9pct','1yr_close_25pct','1yr_close_50pct','2yr_close_75pct','1yr_close_91pct','1yr_close_98pct','1yr_close_100pct','risk_trend','supply_trend_1yr','supply_trend_180d','supply_trend_90d','supply_trend_60d','supply_trend_30d','vol_30d_2yr','pct_1yr','pct_2yr']"
   ]
  },
  {
   "cell_type": "code",
   "execution_count": null,
   "id": "1ce68ae1-7b82-401d-b8ec-af8df5907392",
   "metadata": {},
   "outputs": [],
   "source": [
    "metrics"
   ]
  },
  {
   "cell_type": "code",
   "execution_count": null,
   "id": "9ed589a9-2bb5-485a-bc33-9769a199f24d",
   "metadata": {},
   "outputs": [],
   "source": [
    "writer = pd.ExcelWriter('SP1500_screener_multiple.xlsx', engine='xlsxwriter')\n",
    "\n",
    "prices_df.to_excel(writer, sheet_name='SP1500_Sectors_Indexes_Prices')\n",
    "#prices_df.drop(['Sector', 'Market Cap'], axis=1).to_excel(writer, sheet_name='SP1500Prices')\n",
    "\n",
    "sectors_df.to_excel(writer, sheet_name='stock_sectors')\n",
    "\n",
    "mktcap_df.to_excel(writer, sheet_name='market_caps')\n",
    "\n",
    "sp1500_index_df.to_excel(writer, sheet_name='SP1500')\n",
    "\n",
    "pd.DataFrame(sp500).to_excel(writer, sheet_name='SP500')\n",
    "pd.DataFrame(sp600).to_excel(writer, sheet_name='SP600')\n",
    "pd.DataFrame(sp400).to_excel(writer, sheet_name='SP400')\n",
    "pd.DataFrame(pd.DataFrame(sectors,sector_names)).to_excel(writer, sheet_name='vanguard_sectors')\n",
    "pd.DataFrame(pd.DataFrame(indexes,index_names)).to_excel(writer, sheet_name='spdr_indexes')\n",
    "screener = metrics\n",
    "screener.sort_values(kind=\"quicksort\", ascending=True,by='risk_trend',inplace=True)\n",
    "screener.to_excel(writer, sheet_name='Screener')\n",
    "\n",
    "writer.save()\n",
    "\n",
    "wb = openpyxl.load_workbook('SP1500_screener_multiple.xlsx')\n",
    "#openpyxl.Workbook()\n",
    "new_range = openpyxl.workbook.defined_name.DefinedName('Prices', attr_text='SP1500_Sectors_Indexes_Prices!$A$1:$H$'+str(len(prices_df)+1))\n",
    "wb.defined_names.append(new_range)\n",
    "new_range = openpyxl.workbook.defined_name.DefinedName('Sectors', attr_text='stock_sectors!$A$1:$B$'+str(len(sectors_df)+1))\n",
    "wb.defined_names.append(new_range)\n",
    "new_range = openpyxl.workbook.defined_name.DefinedName('market_caps', attr_text='market_caps!$A$1:$B$'+str(len(mktcap_df)+1))\n",
    "wb.defined_names.append(new_range)\n",
    "new_range = openpyxl.workbook.defined_name.DefinedName('SP1500', attr_text='SP1500!$B$1:$C$'+str(len(sp1500_index_df)+1))\n",
    "wb.defined_names.append(new_range)\n",
    "new_range = openpyxl.workbook.defined_name.DefinedName('Vanguard_Sectors', attr_text='vanguard_sectors!$B$1:$C$'+str(len(sectors)+1))\n",
    "wb.defined_names.append(new_range)\n",
    "new_range = openpyxl.workbook.defined_name.DefinedName('SPDR_Indexes', attr_text='spdr_indexes!$B$1:$C$'+str(len(indexes)+1))\n",
    "wb.defined_names.append(new_range)\n",
    "\n",
    "\n",
    "#wb.defined_names.append(new_range)\n",
    "wb.save('SP1500_screener_multiple.xlsx')\n",
    "wb.close()\n",
    "#named_range = NamedRange(\"test_nr\", [(new_sheet, \"A1\")])\n",
    "#wb.add_named_range(new_range)\n",
    "\"\"\"\n",
    "workbook = xlsxwriter.Workbook('SP1500_screener_multiple.xlsx')\n",
    "workbook.define_name('Prices', '=SP1500Prices!$A$1:$J$'+str(len(prices_df)+1))\n",
    "workbook.define_name('Sectors', '=stock_sectors!$A$1:$B$'+str(len(sectors_df)+1))\n",
    "workbook.define_name('market_caps', '=market_caps!$A$1:$B$'+str(len(mktcap_df)+1))\n",
    "workbook.define_name('SP1500', '=SP1500!$B$1:$C$'+str(len(sp1500_index_df)+1))\n",
    "\n",
    "workbook.close()\n",
    "\"\"\""
   ]
  },
  {
   "cell_type": "code",
   "execution_count": null,
   "id": "5735f5d4-1c34-4b16-9112-c7ddf324336d",
   "metadata": {},
   "outputs": [],
   "source": []
  },
  {
   "cell_type": "code",
   "execution_count": null,
   "id": "21feff41-645a-42c9-a47e-1468ed9034d8",
   "metadata": {},
   "outputs": [],
   "source": []
  },
  {
   "cell_type": "code",
   "execution_count": null,
   "id": "53e7ca0f-2a81-42dc-9126-bb12778894b6",
   "metadata": {},
   "outputs": [],
   "source": []
  }
 ],
 "metadata": {
  "kernelspec": {
   "display_name": "Python 3 (ipykernel)",
   "language": "python",
   "name": "python3"
  },
  "language_info": {
   "codemirror_mode": {
    "name": "ipython",
    "version": 3
   },
   "file_extension": ".py",
   "mimetype": "text/x-python",
   "name": "python",
   "nbconvert_exporter": "python",
   "pygments_lexer": "ipython3",
   "version": "3.9.7"
  }
 },
 "nbformat": 4,
 "nbformat_minor": 5
}
