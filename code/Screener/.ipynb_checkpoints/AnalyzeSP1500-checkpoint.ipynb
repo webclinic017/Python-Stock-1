{
 "cells": [
  {
   "cell_type": "code",
   "execution_count": null,
   "id": "d1ade43c-b6c3-4b09-8331-8cfeea94eeef",
   "metadata": {},
   "outputs": [],
   "source": [
    "import pandas as pd\n",
    "import os\n",
    "import sqlite3\n",
    "import numpy as np\n",
    "import matplotlib.pyplot as plt\n",
    "from datetime import datetime\n",
    "from scipy import stats\n",
    "import matplotlib\n",
    "from matplotlib.dates import DateFormatter\n",
    "import matplotlib.dates as md\n",
    "import datetime as dt\n",
    "from pivottablejs import pivot_ui\n",
    "from IPython.display import HTML\n",
    "import seaborn as sns\n",
    "#import qgrid\n",
    "#import ipywidgets as widgets"
   ]
  },
  {
   "cell_type": "code",
   "execution_count": null,
   "id": "19e4c743-7f04-4405-b0a4-a20d02cd34b2",
   "metadata": {},
   "outputs": [],
   "source": [
    "def time_to_int(dateobj):\n",
    "    total = int(dateobj.strftime('%S'))\n",
    "    total += int(dateobj.strftime('%M')) * 60\n",
    "    total += int(dateobj.strftime('%H')) * 60 * 60\n",
    "    total += (int(dateobj.strftime('%j')) - 1) * 60 * 60 * 24\n",
    "    total += (int(dateobj.strftime('%Y')) - 1970) * 60 * 60 * 24 * 365\n",
    "    return total\n",
    "\n",
    "def myfunc(x):\n",
    "    return slope * x + intercept"
   ]
  },
  {
   "cell_type": "code",
   "execution_count": null,
   "id": "17edba80-547f-484b-8b97-39cbb2030d2f",
   "metadata": {},
   "outputs": [],
   "source": [
    "db_filename = 'todo.db'\n",
    "\n",
    "db_is_new = not os.path.exists(db_filename)\n",
    "\n",
    "conn = sqlite3.connect(db_filename)\n",
    "\n",
    "if db_is_new:\n",
    "    print('Need to create schema')\n",
    "else:\n",
    "    print('Database exists, assume schema does, too.')\n",
    "\n",
    "conn.close()"
   ]
  },
  {
   "cell_type": "code",
   "execution_count": null,
   "id": "d1eda05e-aeab-4f3f-b98b-6ff5275874ba",
   "metadata": {},
   "outputs": [],
   "source": [
    "prices = pd.read_excel('SP1500_screener_multiple.xlsx',sheet_name=\"SP1500_Sectors_Indexes_Prices\")"
   ]
  },
  {
   "cell_type": "code",
   "execution_count": null,
   "id": "a784d46a-f78f-4914-9ccf-5d437eb66183",
   "metadata": {},
   "outputs": [],
   "source": []
  },
  {
   "cell_type": "code",
   "execution_count": null,
   "id": "1387d6c7-6072-4941-bc02-dcd767bf6e02",
   "metadata": {},
   "outputs": [],
   "source": [
    "screener = pd.read_excel('SP1500_screener_multiple.xlsx',sheet_name=\"Screener\")"
   ]
  },
  {
   "cell_type": "code",
   "execution_count": null,
   "id": "e4c3dc2f-4373-42e2-92e3-94b2de10e18b",
   "metadata": {},
   "outputs": [],
   "source": [
    "fundamentals = pd.read_excel('SP1500_screener_multiple.xlsx',sheet_name=\"Stock_Fundamentals\")\n",
    "fundamentals.set_index(fundamentals.columns[0],inplace=True)\n"
   ]
  },
  {
   "cell_type": "code",
   "execution_count": null,
   "id": "856a11c3-fb88-48bf-99d1-5e1b247d5c03",
   "metadata": {},
   "outputs": [],
   "source": []
  },
  {
   "cell_type": "code",
   "execution_count": null,
   "id": "2ea51c53-c08b-40cb-90f5-69d71f326a99",
   "metadata": {},
   "outputs": [],
   "source": [
    "stock_indexes = pd.read_excel('SP1500_screener_multiple.xlsx',sheet_name=\"SP1500\")\n",
    "stock_indexes.drop(stock_indexes.columns[0], axis=1, inplace=True)\n",
    "stock_indexes.set_index(stock_indexes.columns[0],inplace=True)\n",
    "stock_indexes"
   ]
  },
  {
   "cell_type": "code",
   "execution_count": null,
   "id": "cf7bc540-48e4-416a-a4b2-60e0dd9ece35",
   "metadata": {},
   "outputs": [],
   "source": [
    "spdr_indexes = pd.read_excel('SP1500_screener_multiple.xlsx',sheet_name=\"spdr_indexes\")\n",
    "#vanguard_sectors.drop(vanguard_sectors.columns[0], axis=1, inplace=True)\n",
    "spdr_indexes.set_index(spdr_indexes.columns[0],inplace=True)\n",
    "spdr_indexes.columns=['Symbol']\n",
    "spdr_indexes"
   ]
  },
  {
   "cell_type": "code",
   "execution_count": null,
   "id": "5d3acd2b-8d6b-4267-aff5-80c5c339ef70",
   "metadata": {},
   "outputs": [],
   "source": [
    "vanguard_sectors = pd.read_excel('SP1500_screener_multiple.xlsx',sheet_name=\"vanguard_sectors\")\n",
    "#vanguard_sectors.drop(vanguard_sectors.columns[0], axis=1, inplace=True)\n",
    "vanguard_sectors.set_index(vanguard_sectors.columns[0],inplace=True)\n",
    "vanguard_sectors.columns=['Symbol']\n",
    "vanguard_sectors"
   ]
  },
  {
   "cell_type": "code",
   "execution_count": null,
   "id": "10eb660d-aca1-47da-8eeb-65da35a48f71",
   "metadata": {},
   "outputs": [],
   "source": []
  },
  {
   "cell_type": "code",
   "execution_count": null,
   "id": "04e1bd8c-ba39-4daf-a37a-7fb3d99e4037",
   "metadata": {},
   "outputs": [],
   "source": []
  },
  {
   "cell_type": "code",
   "execution_count": null,
   "id": "e9089c8f-5933-4e1a-9025-144f46eb630b",
   "metadata": {},
   "outputs": [],
   "source": [
    "#[*spdr_indexes['Symbol'],*vanguard_sectors['Symbol']]"
   ]
  },
  {
   "cell_type": "code",
   "execution_count": null,
   "id": "fcb13377-4048-4d99-a047-5fd7db41a458",
   "metadata": {},
   "outputs": [],
   "source": []
  },
  {
   "cell_type": "code",
   "execution_count": null,
   "id": "a44a2b10-dacb-4077-8b2a-49bae6c4773e",
   "metadata": {},
   "outputs": [],
   "source": [
    "sector_performance_return = pd.DataFrame()\n",
    "\n",
    "for v in [*spdr_indexes['Symbol'],*vanguard_sectors['Symbol']]:\n",
    "    subset = prices[prices['Symbol'] == v]\n",
    "    subset_ = subset.set_index('Date').asfreq('Q')[['Adj Close']].pct_change()\n",
    "    subset_.index = subset_.index.values.astype('M8[D]')\n",
    "    dt_str = subset_.index[-1].strftime('%Y-%m-%d')\n",
    "    tail = subset[subset.set_index('Date').index>=dt_str]\n",
    "    dt_str = subset.set_index('Date').index[-1].strftime('%Y-%m-%d')\n",
    "    tail_ = pd.DataFrame([(tail.set_index('Date')['Adj Close'][-1]-tail.set_index('Date')['Adj Close'][0])/tail.set_index('Date')['Adj Close'][0]],index=[datetime.strptime(dt_str, '%Y-%m-%d')],columns=['Adj Close'])\n",
    "    subset__ = pd.concat([subset_,tail_],axis=0)\n",
    "    sector_performance_return = pd.concat([sector_performance_return,subset__],axis=1)"
   ]
  },
  {
   "cell_type": "code",
   "execution_count": null,
   "id": "48e3295b-db3a-402b-bdf0-fa26c4873aa6",
   "metadata": {},
   "outputs": [],
   "source": [
    "sector_performance_return"
   ]
  },
  {
   "cell_type": "code",
   "execution_count": null,
   "id": "5336ecbb-628e-4db6-a5d1-f3aa1ef66059",
   "metadata": {},
   "outputs": [],
   "source": [
    "sector_performance_return.columns = [*[i for i in spdr_indexes.index],*[v for v in vanguard_sectors.index]]\n",
    "sector_performance_return = sector_performance_return.T"
   ]
  },
  {
   "cell_type": "code",
   "execution_count": null,
   "id": "347472bf-f40d-47ec-a7da-eaeb54df83ff",
   "metadata": {},
   "outputs": [],
   "source": [
    "cm = sns.color_palette(\"blend:red,yellow,green\", as_cmap=True)\n",
    "\n",
    "sector_performance_return.style.background_gradient(cmap = cm,axis=1)"
   ]
  },
  {
   "cell_type": "code",
   "execution_count": null,
   "id": "d2198365-55b8-4f23-9f7f-faaaf4dbdbe5",
   "metadata": {},
   "outputs": [],
   "source": []
  },
  {
   "cell_type": "code",
   "execution_count": null,
   "id": "f023d5ff-92f8-49c8-9ea3-79b43ba074cb",
   "metadata": {},
   "outputs": [],
   "source": [
    "sector_performance_return"
   ]
  },
  {
   "cell_type": "code",
   "execution_count": null,
   "id": "327fa38b-7efd-4925-8927-943f0a77e54f",
   "metadata": {},
   "outputs": [],
   "source": []
  },
  {
   "cell_type": "code",
   "execution_count": null,
   "id": "0bb7f688-565f-4516-96db-06b324b0d599",
   "metadata": {},
   "outputs": [],
   "source": [
    "sector_performances = pd.DataFrame()\n",
    "sector_performances_values = pd.DataFrame()\n",
    "for c in sector_performance_return.columns:\n",
    "    print(c)\n",
    "    temp = pd.DataFrame(sector_performance_return[c].sort_values(ascending=False).index,columns=[c])\n",
    "    temp2 = pd.DataFrame(sector_performance_return[c].sort_values(ascending=False),columns=[c])\n",
    "    temp2.reset_index(drop=True,inplace=True)    \n",
    "    sector_performances = pd.concat([sector_performances,temp],axis=1)\n",
    "    sector_performances_values = pd.concat([sector_performances_values,temp2],axis=1)\n",
    "    #print(sector_performance_return[c].sort_values(ascending=False))\n",
    "sector_performances_values"
   ]
  },
  {
   "cell_type": "code",
   "execution_count": null,
   "id": "865b4e9f-2eeb-4ddf-b831-6f6ce3c45918",
   "metadata": {},
   "outputs": [],
   "source": []
  },
  {
   "cell_type": "code",
   "execution_count": null,
   "id": "74b67922-c9b4-4ef8-a5df-2874c44d5111",
   "metadata": {},
   "outputs": [],
   "source": [
    "sector_performances = pd.DataFrame()\n",
    "for c in sector_performance_return.columns:\n",
    "    print(c)\n",
    "    temp = pd.DataFrame(sector_performance_return[c].sort_values(ascending=False).index,columns=[c])\n",
    "    sector_performances = pd.concat([sector_performances,temp],axis=1)\n",
    "    #print(sector_performance_return[c].sort_values(ascending=False))"
   ]
  },
  {
   "cell_type": "code",
   "execution_count": null,
   "id": "438fa431-7730-4d8d-ae9b-aa1a3aad0666",
   "metadata": {},
   "outputs": [],
   "source": []
  },
  {
   "cell_type": "code",
   "execution_count": null,
   "id": "85348b41-8193-4444-8768-4098cb5d2649",
   "metadata": {},
   "outputs": [],
   "source": [
    "import matplotlib as mp\n",
    "cycles_ = ['Expansion','Slowdown','Recession','Recovery']\n",
    "from IPython.display import display\n",
    "from PIL import Image\n",
    "\n",
    "path=r\"C:\\Users\\User\\Documents\\wiki\\wiki\\dev\\python\\Python-Stock\\reports\\figures\\Business cycles.png\"\n",
    "display(Image.open(path))\n",
    "\n",
    "def b_g(s, cmap=cm, low=0, high=0):\n",
    "    # Pass the columns from Dataframe A \n",
    "    a = A.loc[:,s.name].copy()\n",
    "    #rng = a.max() - a.min()\n",
    "    rng = np.nanmax(A.values.ravel()) - np.nanmin(A.values.ravel())\n",
    "    norm = mp.colors.Normalize(np.nanmin(A.values.ravel()) - (rng * low),\n",
    "                        np.nanmax(A.values.ravel()) + (rng * high))\n",
    "    normed = norm(a.values)\n",
    "    #c = [mp.colors.rgb2hex(x) for x in plt.cm.get_cmap(cmap)(normed)]\n",
    "    c = [mp.colors.rgb2hex(x) for x in plt.cm.get_cmap(cm)(normed)]\n",
    "    return ['background-color: %s' % color for color in c]\n",
    "\n",
    "A = sector_performances_values\n",
    "B = sector_performances\n",
    "df = B.style.apply(b_g,cmap='RdYlGn')\n",
    "#sector_performances.style.background_gradient(cmap = cm,axis=1,)\n",
    "df\n"
   ]
  },
  {
   "cell_type": "code",
   "execution_count": null,
   "id": "f60d032d-0cf3-400a-a801-185619948a14",
   "metadata": {},
   "outputs": [],
   "source": []
  },
  {
   "cell_type": "code",
   "execution_count": null,
   "id": "a56630f8-6533-4540-856b-d8d9451ef65b",
   "metadata": {},
   "outputs": [],
   "source": [
    "sector_performance = []\n",
    "for v in vanguard_sectors['Symbol']:\n",
    "    sector_performance.append([v,screener[screener['Symbol']==v]['risk_trend_factor'].values[0]])\n",
    "    #print([v,)\n",
    "    "
   ]
  },
  {
   "cell_type": "code",
   "execution_count": null,
   "id": "4d3073b5-df6f-4357-9b8c-4197e53a3159",
   "metadata": {},
   "outputs": [],
   "source": [
    "temp_v = vanguard_sectors.reset_index()\n",
    "temp_v.columns = ['Sector','Symbol']"
   ]
  },
  {
   "cell_type": "code",
   "execution_count": null,
   "id": "44aaf9b1-4d2a-4a4f-b598-bd1924f417c1",
   "metadata": {},
   "outputs": [],
   "source": []
  },
  {
   "cell_type": "code",
   "execution_count": null,
   "id": "aefad337-0afe-4961-9242-3eac2e49b1e5",
   "metadata": {},
   "outputs": [],
   "source": [
    "pd.DataFrame(sector_performance,columns=['Symbol','risk_trend_factor']).merge(temp_v, on='Symbol', how='left').sort_values(by='risk_trend_factor',ascending=False)\n"
   ]
  },
  {
   "cell_type": "code",
   "execution_count": null,
   "id": "cf9a2ec6-395f-4da5-bfa5-7e7c988ae08a",
   "metadata": {},
   "outputs": [],
   "source": []
  },
  {
   "cell_type": "code",
   "execution_count": null,
   "id": "939a771c-5610-4928-a935-9b82d1fb9cb7",
   "metadata": {},
   "outputs": [],
   "source": []
  },
  {
   "cell_type": "code",
   "execution_count": null,
   "id": "7f13a3ec-5048-4acc-ab5c-f798e1216b86",
   "metadata": {},
   "outputs": [],
   "source": [
    "for v in sector_performance_return.index:\n",
    "    subset = pd.DataFrame(sector_performance_return.loc[v])\n",
    "    subset.columns = ['Return']\n",
    "    plt.plot(subset)\n",
    "    plt.xticks(subset.index, rotation=45)\n",
    "plt.legend(sector_performance_return.index,loc=2)    \n",
    "plt.show()\n"
   ]
  },
  {
   "cell_type": "code",
   "execution_count": 628,
   "id": "77e5a1ec-4fae-4bf9-b5c1-cbf5896926a4",
   "metadata": {},
   "outputs": [
    {
     "data": {
      "text/plain": [
       "'Communication Services ETF'"
      ]
     },
     "execution_count": 628,
     "metadata": {},
     "output_type": "execute_result"
    }
   ],
   "source": [
    "sector_performance_return.T.iloc[-1].sort_values(ascending=False).index"
   ]
  },
  {
   "cell_type": "code",
   "execution_count": 629,
   "id": "50e140f7-a8df-4f63-b507-ff25f5c3a72c",
   "metadata": {},
   "outputs": [
    {
     "data": {
      "text/html": [
       "<div>\n",
       "<style scoped>\n",
       "    .dataframe tbody tr th:only-of-type {\n",
       "        vertical-align: middle;\n",
       "    }\n",
       "\n",
       "    .dataframe tbody tr th {\n",
       "        vertical-align: top;\n",
       "    }\n",
       "\n",
       "    .dataframe thead th {\n",
       "        text-align: right;\n",
       "    }\n",
       "</style>\n",
       "<table border=\"1\" class=\"dataframe\">\n",
       "  <thead>\n",
       "    <tr style=\"text-align: right;\">\n",
       "      <th></th>\n",
       "      <th>2020-06-30</th>\n",
       "      <th>2020-09-30</th>\n",
       "      <th>2020-12-31</th>\n",
       "      <th>2021-03-31</th>\n",
       "      <th>2021-06-30</th>\n",
       "      <th>2021-09-30</th>\n",
       "      <th>2021-12-31</th>\n",
       "      <th>2022-03-31</th>\n",
       "      <th>2022-06-06</th>\n",
       "    </tr>\n",
       "  </thead>\n",
       "  <tbody>\n",
       "    <tr>\n",
       "      <th>SP1500</th>\n",
       "      <td>NaN</td>\n",
       "      <td>0.086119</td>\n",
       "      <td>0.132216</td>\n",
       "      <td>0.070761</td>\n",
       "      <td>0.080495</td>\n",
       "      <td>0.000378</td>\n",
       "      <td>0.103038</td>\n",
       "      <td>-0.049102</td>\n",
       "      <td>-0.084923</td>\n",
       "    </tr>\n",
       "    <tr>\n",
       "      <th>SP500</th>\n",
       "      <td>NaN</td>\n",
       "      <td>0.090383</td>\n",
       "      <td>0.121185</td>\n",
       "      <td>0.063518</td>\n",
       "      <td>0.083593</td>\n",
       "      <td>0.002523</td>\n",
       "      <td>0.106772</td>\n",
       "      <td>-0.049099</td>\n",
       "      <td>-0.088234</td>\n",
       "    </tr>\n",
       "    <tr>\n",
       "      <th>SP600</th>\n",
       "      <td>NaN</td>\n",
       "      <td>0.032878</td>\n",
       "      <td>0.312278</td>\n",
       "      <td>0.184526</td>\n",
       "      <td>0.043034</td>\n",
       "      <td>-0.030694</td>\n",
       "      <td>0.049293</td>\n",
       "      <td>-0.058344</td>\n",
       "      <td>-0.047751</td>\n",
       "    </tr>\n",
       "    <tr>\n",
       "      <th>SP400</th>\n",
       "      <td>NaN</td>\n",
       "      <td>0.068091</td>\n",
       "      <td>0.211458</td>\n",
       "      <td>0.084662</td>\n",
       "      <td>0.033635</td>\n",
       "      <td>-0.024123</td>\n",
       "      <td>0.077726</td>\n",
       "      <td>-0.089783</td>\n",
       "      <td>-0.074518</td>\n",
       "    </tr>\n",
       "    <tr>\n",
       "      <th>Communication Services ETF</th>\n",
       "      <td>NaN</td>\n",
       "      <td>-0.188315</td>\n",
       "      <td>0.300830</td>\n",
       "      <td>0.324479</td>\n",
       "      <td>0.126094</td>\n",
       "      <td>-0.026222</td>\n",
       "      <td>0.050203</td>\n",
       "      <td>0.379204</td>\n",
       "      <td>0.167227</td>\n",
       "    </tr>\n",
       "    <tr>\n",
       "      <th>Consumer Discretionary ETF</th>\n",
       "      <td>NaN</td>\n",
       "      <td>0.097573</td>\n",
       "      <td>0.182130</td>\n",
       "      <td>0.083288</td>\n",
       "      <td>0.108092</td>\n",
       "      <td>-0.021207</td>\n",
       "      <td>-0.037011</td>\n",
       "      <td>-0.114414</td>\n",
       "      <td>-0.141025</td>\n",
       "    </tr>\n",
       "    <tr>\n",
       "      <th>Consumer Staples ETF</th>\n",
       "      <td>NaN</td>\n",
       "      <td>0.013268</td>\n",
       "      <td>0.092916</td>\n",
       "      <td>0.087920</td>\n",
       "      <td>0.115985</td>\n",
       "      <td>-0.000098</td>\n",
       "      <td>0.139811</td>\n",
       "      <td>-0.065856</td>\n",
       "      <td>-0.096060</td>\n",
       "    </tr>\n",
       "    <tr>\n",
       "      <th>Energy ETF</th>\n",
       "      <td>NaN</td>\n",
       "      <td>0.051209</td>\n",
       "      <td>0.073335</td>\n",
       "      <td>0.031042</td>\n",
       "      <td>-0.005272</td>\n",
       "      <td>0.002739</td>\n",
       "      <td>0.124048</td>\n",
       "      <td>0.034591</td>\n",
       "      <td>0.005253</td>\n",
       "    </tr>\n",
       "    <tr>\n",
       "      <th>Financials ETF</th>\n",
       "      <td>NaN</td>\n",
       "      <td>0.120087</td>\n",
       "      <td>0.138205</td>\n",
       "      <td>0.015110</td>\n",
       "      <td>0.114030</td>\n",
       "      <td>0.006319</td>\n",
       "      <td>0.141743</td>\n",
       "      <td>-0.090992</td>\n",
       "      <td>-0.134604</td>\n",
       "    </tr>\n",
       "    <tr>\n",
       "      <th>Health Care ETF</th>\n",
       "      <td>NaN</td>\n",
       "      <td>0.118587</td>\n",
       "      <td>0.178685</td>\n",
       "      <td>0.116450</td>\n",
       "      <td>0.040613</td>\n",
       "      <td>-0.043573</td>\n",
       "      <td>0.080207</td>\n",
       "      <td>-0.041831</td>\n",
       "      <td>-0.070756</td>\n",
       "    </tr>\n",
       "    <tr>\n",
       "      <th>Industrials ETF</th>\n",
       "      <td>NaN</td>\n",
       "      <td>0.120651</td>\n",
       "      <td>0.172363</td>\n",
       "      <td>0.105419</td>\n",
       "      <td>0.049264</td>\n",
       "      <td>-0.041816</td>\n",
       "      <td>0.136524</td>\n",
       "      <td>-0.014374</td>\n",
       "      <td>-0.012729</td>\n",
       "    </tr>\n",
       "    <tr>\n",
       "      <th>Information Technology ETF</th>\n",
       "      <td>NaN</td>\n",
       "      <td>0.192380</td>\n",
       "      <td>0.172875</td>\n",
       "      <td>0.073815</td>\n",
       "      <td>0.064435</td>\n",
       "      <td>-0.012866</td>\n",
       "      <td>0.099010</td>\n",
       "      <td>-0.103975</td>\n",
       "      <td>-0.155746</td>\n",
       "    </tr>\n",
       "    <tr>\n",
       "      <th>Materials ETF</th>\n",
       "      <td>NaN</td>\n",
       "      <td>0.062281</td>\n",
       "      <td>0.101111</td>\n",
       "      <td>0.025327</td>\n",
       "      <td>0.083442</td>\n",
       "      <td>0.000121</td>\n",
       "      <td>0.077925</td>\n",
       "      <td>-0.045192</td>\n",
       "      <td>-0.064510</td>\n",
       "    </tr>\n",
       "    <tr>\n",
       "      <th>Real Estate ETF</th>\n",
       "      <td>NaN</td>\n",
       "      <td>0.028859</td>\n",
       "      <td>0.253698</td>\n",
       "      <td>0.165207</td>\n",
       "      <td>0.074954</td>\n",
       "      <td>0.024323</td>\n",
       "      <td>0.042310</td>\n",
       "      <td>-0.032929</td>\n",
       "      <td>-0.080094</td>\n",
       "    </tr>\n",
       "    <tr>\n",
       "      <th>Utilities ETF</th>\n",
       "      <td>NaN</td>\n",
       "      <td>0.098022</td>\n",
       "      <td>0.074374</td>\n",
       "      <td>0.030385</td>\n",
       "      <td>0.029888</td>\n",
       "      <td>-0.018026</td>\n",
       "      <td>0.115277</td>\n",
       "      <td>-0.019862</td>\n",
       "      <td>-0.029401</td>\n",
       "    </tr>\n",
       "  </tbody>\n",
       "</table>\n",
       "</div>"
      ],
      "text/plain": [
       "                            2020-06-30  2020-09-30  2020-12-31  2021-03-31  \\\n",
       "SP1500                             NaN    0.086119    0.132216    0.070761   \n",
       "SP500                              NaN    0.090383    0.121185    0.063518   \n",
       "SP600                              NaN    0.032878    0.312278    0.184526   \n",
       "SP400                              NaN    0.068091    0.211458    0.084662   \n",
       "Communication Services ETF         NaN   -0.188315    0.300830    0.324479   \n",
       "Consumer Discretionary ETF         NaN    0.097573    0.182130    0.083288   \n",
       "Consumer Staples ETF               NaN    0.013268    0.092916    0.087920   \n",
       "Energy ETF                         NaN    0.051209    0.073335    0.031042   \n",
       "Financials ETF                     NaN    0.120087    0.138205    0.015110   \n",
       "Health Care ETF                    NaN    0.118587    0.178685    0.116450   \n",
       "Industrials ETF                    NaN    0.120651    0.172363    0.105419   \n",
       "Information Technology ETF         NaN    0.192380    0.172875    0.073815   \n",
       "Materials ETF                      NaN    0.062281    0.101111    0.025327   \n",
       "Real Estate ETF                    NaN    0.028859    0.253698    0.165207   \n",
       "Utilities ETF                      NaN    0.098022    0.074374    0.030385   \n",
       "\n",
       "                            2021-06-30  2021-09-30  2021-12-31  2022-03-31  \\\n",
       "SP1500                        0.080495    0.000378    0.103038   -0.049102   \n",
       "SP500                         0.083593    0.002523    0.106772   -0.049099   \n",
       "SP600                         0.043034   -0.030694    0.049293   -0.058344   \n",
       "SP400                         0.033635   -0.024123    0.077726   -0.089783   \n",
       "Communication Services ETF    0.126094   -0.026222    0.050203    0.379204   \n",
       "Consumer Discretionary ETF    0.108092   -0.021207   -0.037011   -0.114414   \n",
       "Consumer Staples ETF          0.115985   -0.000098    0.139811   -0.065856   \n",
       "Energy ETF                   -0.005272    0.002739    0.124048    0.034591   \n",
       "Financials ETF                0.114030    0.006319    0.141743   -0.090992   \n",
       "Health Care ETF               0.040613   -0.043573    0.080207   -0.041831   \n",
       "Industrials ETF               0.049264   -0.041816    0.136524   -0.014374   \n",
       "Information Technology ETF    0.064435   -0.012866    0.099010   -0.103975   \n",
       "Materials ETF                 0.083442    0.000121    0.077925   -0.045192   \n",
       "Real Estate ETF               0.074954    0.024323    0.042310   -0.032929   \n",
       "Utilities ETF                 0.029888   -0.018026    0.115277   -0.019862   \n",
       "\n",
       "                            2022-06-06  \n",
       "SP1500                       -0.084923  \n",
       "SP500                        -0.088234  \n",
       "SP600                        -0.047751  \n",
       "SP400                        -0.074518  \n",
       "Communication Services ETF    0.167227  \n",
       "Consumer Discretionary ETF   -0.141025  \n",
       "Consumer Staples ETF         -0.096060  \n",
       "Energy ETF                    0.005253  \n",
       "Financials ETF               -0.134604  \n",
       "Health Care ETF              -0.070756  \n",
       "Industrials ETF              -0.012729  \n",
       "Information Technology ETF   -0.155746  \n",
       "Materials ETF                -0.064510  \n",
       "Real Estate ETF              -0.080094  \n",
       "Utilities ETF                -0.029401  "
      ]
     },
     "execution_count": 629,
     "metadata": {},
     "output_type": "execute_result"
    }
   ],
   "source": [
    "sector_performance_return"
   ]
  },
  {
   "cell_type": "code",
   "execution_count": 630,
   "id": "09def25f-d658-4662-a14f-b22011049e30",
   "metadata": {},
   "outputs": [
    {
     "data": {
      "text/html": [
       "<style  type=\"text/css\" >\n",
       "#T_8dc8d_row0_col0,#T_8dc8d_row0_col1,#T_8dc8d_row0_col2,#T_8dc8d_row0_col3,#T_8dc8d_row0_col4,#T_8dc8d_row0_col5,#T_8dc8d_row0_col6,#T_8dc8d_row0_col7,#T_8dc8d_row0_col8,#T_8dc8d_row0_col9,#T_8dc8d_row0_col10,#T_8dc8d_row0_col11,#T_8dc8d_row0_col12,#T_8dc8d_row0_col13,#T_8dc8d_row0_col14{\n",
       "            background-color:  #000000;\n",
       "            color:  #f1f1f1;\n",
       "        }#T_8dc8d_row1_col0{\n",
       "            background-color:  #ff0000;\n",
       "            color:  #f1f1f1;\n",
       "        }#T_8dc8d_row1_col1{\n",
       "            background-color:  #ffd800;\n",
       "            color:  #000000;\n",
       "        }#T_8dc8d_row1_col2,#T_8dc8d_row1_col12,#T_8dc8d_row2_col10{\n",
       "            background-color:  #e8f400;\n",
       "            color:  #000000;\n",
       "        }#T_8dc8d_row1_col3,#T_8dc8d_row6_col14{\n",
       "            background-color:  #fcfe00;\n",
       "            color:  #000000;\n",
       "        }#T_8dc8d_row1_col4{\n",
       "            background-color:  #ffc600;\n",
       "            color:  #000000;\n",
       "        }#T_8dc8d_row1_col5,#T_8dc8d_row3_col10{\n",
       "            background-color:  #ffe200;\n",
       "            color:  #000000;\n",
       "        }#T_8dc8d_row1_col6{\n",
       "            background-color:  #eaf500;\n",
       "            color:  #000000;\n",
       "        }#T_8dc8d_row1_col7{\n",
       "            background-color:  #ffe600;\n",
       "            color:  #000000;\n",
       "        }#T_8dc8d_row1_col8{\n",
       "            background-color:  #ffc200;\n",
       "            color:  #000000;\n",
       "        }#T_8dc8d_row1_col9,#T_8dc8d_row3_col7{\n",
       "            background-color:  #fff600;\n",
       "            color:  #000000;\n",
       "        }#T_8dc8d_row1_col10{\n",
       "            background-color:  #fffa00;\n",
       "            color:  #000000;\n",
       "        }#T_8dc8d_row1_col11{\n",
       "            background-color:  #ffb400;\n",
       "            color:  #000000;\n",
       "        }#T_8dc8d_row1_col13{\n",
       "            background-color:  #feff00;\n",
       "            color:  #000000;\n",
       "        }#T_8dc8d_row1_col14{\n",
       "            background-color:  #a8d400;\n",
       "            color:  #000000;\n",
       "        }#T_8dc8d_row2_col0{\n",
       "            background-color:  #46a300;\n",
       "            color:  #000000;\n",
       "        }#T_8dc8d_row2_col1,#T_8dc8d_row2_col3,#T_8dc8d_row3_col14,#T_8dc8d_row4_col8{\n",
       "            background-color:  #ffec00;\n",
       "            color:  #000000;\n",
       "        }#T_8dc8d_row2_col2,#T_8dc8d_row2_col14{\n",
       "            background-color:  #badd00;\n",
       "            color:  #000000;\n",
       "        }#T_8dc8d_row2_col4{\n",
       "            background-color:  #3c9e00;\n",
       "            color:  #000000;\n",
       "        }#T_8dc8d_row2_col5{\n",
       "            background-color:  #fafd00;\n",
       "            color:  #000000;\n",
       "        }#T_8dc8d_row2_col6{\n",
       "            background-color:  #b4da00;\n",
       "            color:  #000000;\n",
       "        }#T_8dc8d_row2_col7{\n",
       "            background-color:  #96cb00;\n",
       "            color:  #000000;\n",
       "        }#T_8dc8d_row2_col8{\n",
       "            background-color:  #70b800;\n",
       "            color:  #000000;\n",
       "        }#T_8dc8d_row2_col9{\n",
       "            background-color:  #deef00;\n",
       "            color:  #000000;\n",
       "        }#T_8dc8d_row2_col11{\n",
       "            background-color:  #fffc00;\n",
       "            color:  #000000;\n",
       "        }#T_8dc8d_row2_col12{\n",
       "            background-color:  #d8ec00;\n",
       "            color:  #000000;\n",
       "        }#T_8dc8d_row2_col13{\n",
       "            background-color:  #b0d800;\n",
       "            color:  #000000;\n",
       "        }#T_8dc8d_row3_col0{\n",
       "            background-color:  #309800;\n",
       "            color:  #000000;\n",
       "        }#T_8dc8d_row3_col1,#T_8dc8d_row3_col3,#T_8dc8d_row4_col3{\n",
       "            background-color:  #ffc400;\n",
       "            color:  #000000;\n",
       "        }#T_8dc8d_row3_col2{\n",
       "            background-color:  #f6fb00;\n",
       "            color:  #000000;\n",
       "        }#T_8dc8d_row3_col4{\n",
       "            background-color:  #aed700;\n",
       "            color:  #000000;\n",
       "        }#T_8dc8d_row3_col5{\n",
       "            background-color:  #ffc000;\n",
       "            color:  #000000;\n",
       "        }#T_8dc8d_row3_col6,#T_8dc8d_row4_col11{\n",
       "            background-color:  #ecf600;\n",
       "            color:  #000000;\n",
       "        }#T_8dc8d_row3_col8{\n",
       "            background-color:  #c0e000;\n",
       "            color:  #000000;\n",
       "        }#T_8dc8d_row3_col9{\n",
       "            background-color:  #ffe800;\n",
       "            color:  #000000;\n",
       "        }#T_8dc8d_row3_col11{\n",
       "            background-color:  #fff800;\n",
       "            color:  #000000;\n",
       "        }#T_8dc8d_row3_col12{\n",
       "            background-color:  #ffb600;\n",
       "            color:  #000000;\n",
       "        }#T_8dc8d_row3_col13,#T_8dc8d_row4_col5,#T_8dc8d_row4_col10{\n",
       "            background-color:  #fff400;\n",
       "            color:  #000000;\n",
       "        }#T_8dc8d_row4_col0{\n",
       "            background-color:  #e4f200;\n",
       "            color:  #000000;\n",
       "        }#T_8dc8d_row4_col1{\n",
       "            background-color:  #ffa400;\n",
       "            color:  #000000;\n",
       "        }#T_8dc8d_row4_col2,#T_8dc8d_row6_col0,#T_8dc8d_row6_col4{\n",
       "            background-color:  #ffd600;\n",
       "            color:  #000000;\n",
       "        }#T_8dc8d_row4_col4,#T_8dc8d_row6_col8{\n",
       "            background-color:  #ffd000;\n",
       "            color:  #000000;\n",
       "        }#T_8dc8d_row4_col6{\n",
       "            background-color:  #ffce00;\n",
       "            color:  #000000;\n",
       "        }#T_8dc8d_row4_col7,#T_8dc8d_row7_col1{\n",
       "            background-color:  #ffc800;\n",
       "            color:  #000000;\n",
       "        }#T_8dc8d_row4_col9,#T_8dc8d_row6_col6{\n",
       "            background-color:  #fff200;\n",
       "            color:  #000000;\n",
       "        }#T_8dc8d_row4_col12,#T_8dc8d_row6_col3{\n",
       "            background-color:  #eef700;\n",
       "            color:  #000000;\n",
       "        }#T_8dc8d_row4_col13,#T_8dc8d_row6_col10{\n",
       "            background-color:  #f4fa00;\n",
       "            color:  #000000;\n",
       "        }#T_8dc8d_row4_col14{\n",
       "            background-color:  #ffe400;\n",
       "            color:  #000000;\n",
       "        }#T_8dc8d_row5_col0{\n",
       "            background-color:  #ff9200;\n",
       "            color:  #000000;\n",
       "        }#T_8dc8d_row5_col1,#T_8dc8d_row5_col10{\n",
       "            background-color:  #ffac00;\n",
       "            color:  #000000;\n",
       "        }#T_8dc8d_row5_col2,#T_8dc8d_row7_col6{\n",
       "            background-color:  #ff8400;\n",
       "            color:  #000000;\n",
       "        }#T_8dc8d_row5_col3{\n",
       "            background-color:  #ff9800;\n",
       "            color:  #000000;\n",
       "        }#T_8dc8d_row5_col4,#T_8dc8d_row8_col3{\n",
       "            background-color:  #ff8e00;\n",
       "            color:  #000000;\n",
       "        }#T_8dc8d_row5_col5,#T_8dc8d_row5_col9{\n",
       "            background-color:  #ffaa00;\n",
       "            color:  #000000;\n",
       "        }#T_8dc8d_row5_col6{\n",
       "            background-color:  #ff8200;\n",
       "            color:  #000000;\n",
       "        }#T_8dc8d_row5_col7{\n",
       "            background-color:  #ff9400;\n",
       "            color:  #000000;\n",
       "        }#T_8dc8d_row5_col8{\n",
       "            background-color:  #ffbe00;\n",
       "            color:  #000000;\n",
       "        }#T_8dc8d_row5_col11{\n",
       "            background-color:  #ffa800;\n",
       "            color:  #000000;\n",
       "        }#T_8dc8d_row5_col12,#T_8dc8d_row8_col1{\n",
       "            background-color:  #ffae00;\n",
       "            color:  #000000;\n",
       "        }#T_8dc8d_row5_col13,#T_8dc8d_row7_col3{\n",
       "            background-color:  #ff9600;\n",
       "            color:  #000000;\n",
       "        }#T_8dc8d_row5_col14,#T_8dc8d_row8_col2{\n",
       "            background-color:  #ff9e00;\n",
       "            color:  #000000;\n",
       "        }#T_8dc8d_row6_col1{\n",
       "            background-color:  #e6f300;\n",
       "            color:  #000000;\n",
       "        }#T_8dc8d_row6_col2{\n",
       "            background-color:  #daed00;\n",
       "            color:  #000000;\n",
       "        }#T_8dc8d_row6_col5,#T_8dc8d_row6_col7{\n",
       "            background-color:  #fff000;\n",
       "            color:  #000000;\n",
       "        }#T_8dc8d_row6_col9{\n",
       "            background-color:  #f8fc00;\n",
       "            color:  #000000;\n",
       "        }#T_8dc8d_row6_col11,#T_8dc8d_row6_col12{\n",
       "            background-color:  #d6eb00;\n",
       "            color:  #000000;\n",
       "        }#T_8dc8d_row6_col13{\n",
       "            background-color:  #ff8800;\n",
       "            color:  #000000;\n",
       "        }#T_8dc8d_row7_col0{\n",
       "            background-color:  #008000;\n",
       "            color:  #f1f1f1;\n",
       "        }#T_8dc8d_row7_col2{\n",
       "            background-color:  #ff9c00;\n",
       "            color:  #000000;\n",
       "        }#T_8dc8d_row7_col4{\n",
       "            background-color:  #ff7400;\n",
       "            color:  #000000;\n",
       "        }#T_8dc8d_row7_col5{\n",
       "            background-color:  #ff8000;\n",
       "            color:  #000000;\n",
       "        }#T_8dc8d_row7_col7{\n",
       "            background-color:  #ff5800;\n",
       "            color:  #000000;\n",
       "        }#T_8dc8d_row7_col8{\n",
       "            background-color:  #ff8c00;\n",
       "            color:  #000000;\n",
       "        }#T_8dc8d_row7_col9,#T_8dc8d_row7_col10{\n",
       "            background-color:  #ff7c00;\n",
       "            color:  #000000;\n",
       "        }#T_8dc8d_row7_col11,#T_8dc8d_row8_col5{\n",
       "            background-color:  #ff6e00;\n",
       "            color:  #000000;\n",
       "        }#T_8dc8d_row7_col12{\n",
       "            background-color:  #ff5600;\n",
       "            color:  #000000;\n",
       "        }#T_8dc8d_row7_col13{\n",
       "            background-color:  #ff4200;\n",
       "            color:  #f1f1f1;\n",
       "        }#T_8dc8d_row7_col14{\n",
       "            background-color:  #ff4c00;\n",
       "            color:  #000000;\n",
       "        }#T_8dc8d_row8_col0{\n",
       "            background-color:  #bedf00;\n",
       "            color:  #000000;\n",
       "        }#T_8dc8d_row8_col4{\n",
       "            background-color:  #ff7e00;\n",
       "            color:  #000000;\n",
       "        }#T_8dc8d_row8_col6{\n",
       "            background-color:  #ff6a00;\n",
       "            color:  #000000;\n",
       "        }#T_8dc8d_row8_col7{\n",
       "            background-color:  #ff6600;\n",
       "            color:  #000000;\n",
       "        }#T_8dc8d_row8_col8{\n",
       "            background-color:  #ff6000;\n",
       "            color:  #000000;\n",
       "        }#T_8dc8d_row8_col9{\n",
       "            background-color:  #ff5c00;\n",
       "            color:  #000000;\n",
       "        }#T_8dc8d_row8_col10{\n",
       "            background-color:  #ff5a00;\n",
       "            color:  #000000;\n",
       "        }#T_8dc8d_row8_col11{\n",
       "            background-color:  #ff5200;\n",
       "            color:  #000000;\n",
       "        }#T_8dc8d_row8_col12{\n",
       "            background-color:  #ff3000;\n",
       "            color:  #f1f1f1;\n",
       "        }#T_8dc8d_row8_col13{\n",
       "            background-color:  #ff2a00;\n",
       "            color:  #f1f1f1;\n",
       "        }#T_8dc8d_row8_col14{\n",
       "            background-color:  #ff1c00;\n",
       "            color:  #f1f1f1;\n",
       "        }</style><table id=\"T_8dc8d_\" ><thead>    <tr>        <th class=\"blank level0\" ></th>        <th class=\"col_heading level0 col0\" >Communication Services ETF</th>        <th class=\"col_heading level0 col1\" >Energy ETF</th>        <th class=\"col_heading level0 col2\" >Industrials ETF</th>        <th class=\"col_heading level0 col3\" >Utilities ETF</th>        <th class=\"col_heading level0 col4\" >SP600</th>        <th class=\"col_heading level0 col5\" >Materials ETF</th>        <th class=\"col_heading level0 col6\" >Health Care ETF</th>        <th class=\"col_heading level0 col7\" >SP400</th>        <th class=\"col_heading level0 col8\" >Real Estate ETF</th>        <th class=\"col_heading level0 col9\" >SP1500</th>        <th class=\"col_heading level0 col10\" >SP500</th>        <th class=\"col_heading level0 col11\" >Consumer Staples ETF</th>        <th class=\"col_heading level0 col12\" >Financials ETF</th>        <th class=\"col_heading level0 col13\" >Consumer Discretionary ETF</th>        <th class=\"col_heading level0 col14\" >Information Technology ETF</th>    </tr></thead><tbody>\n",
       "                <tr>\n",
       "                        <th id=\"T_8dc8d_level0_row0\" class=\"row_heading level0 row0\" >2020-06-30 00:00:00</th>\n",
       "                        <td id=\"T_8dc8d_row0_col0\" class=\"data row0 col0\" >nan</td>\n",
       "                        <td id=\"T_8dc8d_row0_col1\" class=\"data row0 col1\" >nan</td>\n",
       "                        <td id=\"T_8dc8d_row0_col2\" class=\"data row0 col2\" >nan</td>\n",
       "                        <td id=\"T_8dc8d_row0_col3\" class=\"data row0 col3\" >nan</td>\n",
       "                        <td id=\"T_8dc8d_row0_col4\" class=\"data row0 col4\" >nan</td>\n",
       "                        <td id=\"T_8dc8d_row0_col5\" class=\"data row0 col5\" >nan</td>\n",
       "                        <td id=\"T_8dc8d_row0_col6\" class=\"data row0 col6\" >nan</td>\n",
       "                        <td id=\"T_8dc8d_row0_col7\" class=\"data row0 col7\" >nan</td>\n",
       "                        <td id=\"T_8dc8d_row0_col8\" class=\"data row0 col8\" >nan</td>\n",
       "                        <td id=\"T_8dc8d_row0_col9\" class=\"data row0 col9\" >nan</td>\n",
       "                        <td id=\"T_8dc8d_row0_col10\" class=\"data row0 col10\" >nan</td>\n",
       "                        <td id=\"T_8dc8d_row0_col11\" class=\"data row0 col11\" >nan</td>\n",
       "                        <td id=\"T_8dc8d_row0_col12\" class=\"data row0 col12\" >nan</td>\n",
       "                        <td id=\"T_8dc8d_row0_col13\" class=\"data row0 col13\" >nan</td>\n",
       "                        <td id=\"T_8dc8d_row0_col14\" class=\"data row0 col14\" >nan</td>\n",
       "            </tr>\n",
       "            <tr>\n",
       "                        <th id=\"T_8dc8d_level0_row1\" class=\"row_heading level0 row1\" >2020-09-30 00:00:00</th>\n",
       "                        <td id=\"T_8dc8d_row1_col0\" class=\"data row1 col0\" >-0.188315</td>\n",
       "                        <td id=\"T_8dc8d_row1_col1\" class=\"data row1 col1\" >0.051209</td>\n",
       "                        <td id=\"T_8dc8d_row1_col2\" class=\"data row1 col2\" >0.120651</td>\n",
       "                        <td id=\"T_8dc8d_row1_col3\" class=\"data row1 col3\" >0.098022</td>\n",
       "                        <td id=\"T_8dc8d_row1_col4\" class=\"data row1 col4\" >0.032878</td>\n",
       "                        <td id=\"T_8dc8d_row1_col5\" class=\"data row1 col5\" >0.062281</td>\n",
       "                        <td id=\"T_8dc8d_row1_col6\" class=\"data row1 col6\" >0.118587</td>\n",
       "                        <td id=\"T_8dc8d_row1_col7\" class=\"data row1 col7\" >0.068091</td>\n",
       "                        <td id=\"T_8dc8d_row1_col8\" class=\"data row1 col8\" >0.028859</td>\n",
       "                        <td id=\"T_8dc8d_row1_col9\" class=\"data row1 col9\" >0.086119</td>\n",
       "                        <td id=\"T_8dc8d_row1_col10\" class=\"data row1 col10\" >0.090383</td>\n",
       "                        <td id=\"T_8dc8d_row1_col11\" class=\"data row1 col11\" >0.013268</td>\n",
       "                        <td id=\"T_8dc8d_row1_col12\" class=\"data row1 col12\" >0.120087</td>\n",
       "                        <td id=\"T_8dc8d_row1_col13\" class=\"data row1 col13\" >0.097573</td>\n",
       "                        <td id=\"T_8dc8d_row1_col14\" class=\"data row1 col14\" >0.192380</td>\n",
       "            </tr>\n",
       "            <tr>\n",
       "                        <th id=\"T_8dc8d_level0_row2\" class=\"row_heading level0 row2\" >2020-12-31 00:00:00</th>\n",
       "                        <td id=\"T_8dc8d_row2_col0\" class=\"data row2 col0\" >0.300830</td>\n",
       "                        <td id=\"T_8dc8d_row2_col1\" class=\"data row2 col1\" >0.073335</td>\n",
       "                        <td id=\"T_8dc8d_row2_col2\" class=\"data row2 col2\" >0.172363</td>\n",
       "                        <td id=\"T_8dc8d_row2_col3\" class=\"data row2 col3\" >0.074374</td>\n",
       "                        <td id=\"T_8dc8d_row2_col4\" class=\"data row2 col4\" >0.312278</td>\n",
       "                        <td id=\"T_8dc8d_row2_col5\" class=\"data row2 col5\" >0.101111</td>\n",
       "                        <td id=\"T_8dc8d_row2_col6\" class=\"data row2 col6\" >0.178685</td>\n",
       "                        <td id=\"T_8dc8d_row2_col7\" class=\"data row2 col7\" >0.211458</td>\n",
       "                        <td id=\"T_8dc8d_row2_col8\" class=\"data row2 col8\" >0.253698</td>\n",
       "                        <td id=\"T_8dc8d_row2_col9\" class=\"data row2 col9\" >0.132216</td>\n",
       "                        <td id=\"T_8dc8d_row2_col10\" class=\"data row2 col10\" >0.121185</td>\n",
       "                        <td id=\"T_8dc8d_row2_col11\" class=\"data row2 col11\" >0.092916</td>\n",
       "                        <td id=\"T_8dc8d_row2_col12\" class=\"data row2 col12\" >0.138205</td>\n",
       "                        <td id=\"T_8dc8d_row2_col13\" class=\"data row2 col13\" >0.182130</td>\n",
       "                        <td id=\"T_8dc8d_row2_col14\" class=\"data row2 col14\" >0.172875</td>\n",
       "            </tr>\n",
       "            <tr>\n",
       "                        <th id=\"T_8dc8d_level0_row3\" class=\"row_heading level0 row3\" >2021-03-31 00:00:00</th>\n",
       "                        <td id=\"T_8dc8d_row3_col0\" class=\"data row3 col0\" >0.324479</td>\n",
       "                        <td id=\"T_8dc8d_row3_col1\" class=\"data row3 col1\" >0.031042</td>\n",
       "                        <td id=\"T_8dc8d_row3_col2\" class=\"data row3 col2\" >0.105419</td>\n",
       "                        <td id=\"T_8dc8d_row3_col3\" class=\"data row3 col3\" >0.030385</td>\n",
       "                        <td id=\"T_8dc8d_row3_col4\" class=\"data row3 col4\" >0.184526</td>\n",
       "                        <td id=\"T_8dc8d_row3_col5\" class=\"data row3 col5\" >0.025327</td>\n",
       "                        <td id=\"T_8dc8d_row3_col6\" class=\"data row3 col6\" >0.116450</td>\n",
       "                        <td id=\"T_8dc8d_row3_col7\" class=\"data row3 col7\" >0.084662</td>\n",
       "                        <td id=\"T_8dc8d_row3_col8\" class=\"data row3 col8\" >0.165207</td>\n",
       "                        <td id=\"T_8dc8d_row3_col9\" class=\"data row3 col9\" >0.070761</td>\n",
       "                        <td id=\"T_8dc8d_row3_col10\" class=\"data row3 col10\" >0.063518</td>\n",
       "                        <td id=\"T_8dc8d_row3_col11\" class=\"data row3 col11\" >0.087920</td>\n",
       "                        <td id=\"T_8dc8d_row3_col12\" class=\"data row3 col12\" >0.015110</td>\n",
       "                        <td id=\"T_8dc8d_row3_col13\" class=\"data row3 col13\" >0.083288</td>\n",
       "                        <td id=\"T_8dc8d_row3_col14\" class=\"data row3 col14\" >0.073815</td>\n",
       "            </tr>\n",
       "            <tr>\n",
       "                        <th id=\"T_8dc8d_level0_row4\" class=\"row_heading level0 row4\" >2021-06-30 00:00:00</th>\n",
       "                        <td id=\"T_8dc8d_row4_col0\" class=\"data row4 col0\" >0.126094</td>\n",
       "                        <td id=\"T_8dc8d_row4_col1\" class=\"data row4 col1\" >-0.005272</td>\n",
       "                        <td id=\"T_8dc8d_row4_col2\" class=\"data row4 col2\" >0.049264</td>\n",
       "                        <td id=\"T_8dc8d_row4_col3\" class=\"data row4 col3\" >0.029888</td>\n",
       "                        <td id=\"T_8dc8d_row4_col4\" class=\"data row4 col4\" >0.043034</td>\n",
       "                        <td id=\"T_8dc8d_row4_col5\" class=\"data row4 col5\" >0.083442</td>\n",
       "                        <td id=\"T_8dc8d_row4_col6\" class=\"data row4 col6\" >0.040613</td>\n",
       "                        <td id=\"T_8dc8d_row4_col7\" class=\"data row4 col7\" >0.033635</td>\n",
       "                        <td id=\"T_8dc8d_row4_col8\" class=\"data row4 col8\" >0.074954</td>\n",
       "                        <td id=\"T_8dc8d_row4_col9\" class=\"data row4 col9\" >0.080495</td>\n",
       "                        <td id=\"T_8dc8d_row4_col10\" class=\"data row4 col10\" >0.083593</td>\n",
       "                        <td id=\"T_8dc8d_row4_col11\" class=\"data row4 col11\" >0.115985</td>\n",
       "                        <td id=\"T_8dc8d_row4_col12\" class=\"data row4 col12\" >0.114030</td>\n",
       "                        <td id=\"T_8dc8d_row4_col13\" class=\"data row4 col13\" >0.108092</td>\n",
       "                        <td id=\"T_8dc8d_row4_col14\" class=\"data row4 col14\" >0.064435</td>\n",
       "            </tr>\n",
       "            <tr>\n",
       "                        <th id=\"T_8dc8d_level0_row5\" class=\"row_heading level0 row5\" >2021-09-30 00:00:00</th>\n",
       "                        <td id=\"T_8dc8d_row5_col0\" class=\"data row5 col0\" >-0.026222</td>\n",
       "                        <td id=\"T_8dc8d_row5_col1\" class=\"data row5 col1\" >0.002739</td>\n",
       "                        <td id=\"T_8dc8d_row5_col2\" class=\"data row5 col2\" >-0.041816</td>\n",
       "                        <td id=\"T_8dc8d_row5_col3\" class=\"data row5 col3\" >-0.018026</td>\n",
       "                        <td id=\"T_8dc8d_row5_col4\" class=\"data row5 col4\" >-0.030694</td>\n",
       "                        <td id=\"T_8dc8d_row5_col5\" class=\"data row5 col5\" >0.000121</td>\n",
       "                        <td id=\"T_8dc8d_row5_col6\" class=\"data row5 col6\" >-0.043573</td>\n",
       "                        <td id=\"T_8dc8d_row5_col7\" class=\"data row5 col7\" >-0.024123</td>\n",
       "                        <td id=\"T_8dc8d_row5_col8\" class=\"data row5 col8\" >0.024323</td>\n",
       "                        <td id=\"T_8dc8d_row5_col9\" class=\"data row5 col9\" >0.000378</td>\n",
       "                        <td id=\"T_8dc8d_row5_col10\" class=\"data row5 col10\" >0.002523</td>\n",
       "                        <td id=\"T_8dc8d_row5_col11\" class=\"data row5 col11\" >-0.000098</td>\n",
       "                        <td id=\"T_8dc8d_row5_col12\" class=\"data row5 col12\" >0.006319</td>\n",
       "                        <td id=\"T_8dc8d_row5_col13\" class=\"data row5 col13\" >-0.021207</td>\n",
       "                        <td id=\"T_8dc8d_row5_col14\" class=\"data row5 col14\" >-0.012866</td>\n",
       "            </tr>\n",
       "            <tr>\n",
       "                        <th id=\"T_8dc8d_level0_row6\" class=\"row_heading level0 row6\" >2021-12-31 00:00:00</th>\n",
       "                        <td id=\"T_8dc8d_row6_col0\" class=\"data row6 col0\" >0.050203</td>\n",
       "                        <td id=\"T_8dc8d_row6_col1\" class=\"data row6 col1\" >0.124048</td>\n",
       "                        <td id=\"T_8dc8d_row6_col2\" class=\"data row6 col2\" >0.136524</td>\n",
       "                        <td id=\"T_8dc8d_row6_col3\" class=\"data row6 col3\" >0.115277</td>\n",
       "                        <td id=\"T_8dc8d_row6_col4\" class=\"data row6 col4\" >0.049293</td>\n",
       "                        <td id=\"T_8dc8d_row6_col5\" class=\"data row6 col5\" >0.077925</td>\n",
       "                        <td id=\"T_8dc8d_row6_col6\" class=\"data row6 col6\" >0.080207</td>\n",
       "                        <td id=\"T_8dc8d_row6_col7\" class=\"data row6 col7\" >0.077726</td>\n",
       "                        <td id=\"T_8dc8d_row6_col8\" class=\"data row6 col8\" >0.042310</td>\n",
       "                        <td id=\"T_8dc8d_row6_col9\" class=\"data row6 col9\" >0.103038</td>\n",
       "                        <td id=\"T_8dc8d_row6_col10\" class=\"data row6 col10\" >0.106772</td>\n",
       "                        <td id=\"T_8dc8d_row6_col11\" class=\"data row6 col11\" >0.139811</td>\n",
       "                        <td id=\"T_8dc8d_row6_col12\" class=\"data row6 col12\" >0.141743</td>\n",
       "                        <td id=\"T_8dc8d_row6_col13\" class=\"data row6 col13\" >-0.037011</td>\n",
       "                        <td id=\"T_8dc8d_row6_col14\" class=\"data row6 col14\" >0.099010</td>\n",
       "            </tr>\n",
       "            <tr>\n",
       "                        <th id=\"T_8dc8d_level0_row7\" class=\"row_heading level0 row7\" >2022-03-31 00:00:00</th>\n",
       "                        <td id=\"T_8dc8d_row7_col0\" class=\"data row7 col0\" >0.379204</td>\n",
       "                        <td id=\"T_8dc8d_row7_col1\" class=\"data row7 col1\" >0.034591</td>\n",
       "                        <td id=\"T_8dc8d_row7_col2\" class=\"data row7 col2\" >-0.014374</td>\n",
       "                        <td id=\"T_8dc8d_row7_col3\" class=\"data row7 col3\" >-0.019862</td>\n",
       "                        <td id=\"T_8dc8d_row7_col4\" class=\"data row7 col4\" >-0.058344</td>\n",
       "                        <td id=\"T_8dc8d_row7_col5\" class=\"data row7 col5\" >-0.045192</td>\n",
       "                        <td id=\"T_8dc8d_row7_col6\" class=\"data row7 col6\" >-0.041831</td>\n",
       "                        <td id=\"T_8dc8d_row7_col7\" class=\"data row7 col7\" >-0.089783</td>\n",
       "                        <td id=\"T_8dc8d_row7_col8\" class=\"data row7 col8\" >-0.032929</td>\n",
       "                        <td id=\"T_8dc8d_row7_col9\" class=\"data row7 col9\" >-0.049102</td>\n",
       "                        <td id=\"T_8dc8d_row7_col10\" class=\"data row7 col10\" >-0.049099</td>\n",
       "                        <td id=\"T_8dc8d_row7_col11\" class=\"data row7 col11\" >-0.065856</td>\n",
       "                        <td id=\"T_8dc8d_row7_col12\" class=\"data row7 col12\" >-0.090992</td>\n",
       "                        <td id=\"T_8dc8d_row7_col13\" class=\"data row7 col13\" >-0.114414</td>\n",
       "                        <td id=\"T_8dc8d_row7_col14\" class=\"data row7 col14\" >-0.103975</td>\n",
       "            </tr>\n",
       "            <tr>\n",
       "                        <th id=\"T_8dc8d_level0_row8\" class=\"row_heading level0 row8\" >2022-06-06 00:00:00</th>\n",
       "                        <td id=\"T_8dc8d_row8_col0\" class=\"data row8 col0\" >0.167227</td>\n",
       "                        <td id=\"T_8dc8d_row8_col1\" class=\"data row8 col1\" >0.005253</td>\n",
       "                        <td id=\"T_8dc8d_row8_col2\" class=\"data row8 col2\" >-0.012729</td>\n",
       "                        <td id=\"T_8dc8d_row8_col3\" class=\"data row8 col3\" >-0.029401</td>\n",
       "                        <td id=\"T_8dc8d_row8_col4\" class=\"data row8 col4\" >-0.047751</td>\n",
       "                        <td id=\"T_8dc8d_row8_col5\" class=\"data row8 col5\" >-0.064510</td>\n",
       "                        <td id=\"T_8dc8d_row8_col6\" class=\"data row8 col6\" >-0.070756</td>\n",
       "                        <td id=\"T_8dc8d_row8_col7\" class=\"data row8 col7\" >-0.074518</td>\n",
       "                        <td id=\"T_8dc8d_row8_col8\" class=\"data row8 col8\" >-0.080094</td>\n",
       "                        <td id=\"T_8dc8d_row8_col9\" class=\"data row8 col9\" >-0.084923</td>\n",
       "                        <td id=\"T_8dc8d_row8_col10\" class=\"data row8 col10\" >-0.088234</td>\n",
       "                        <td id=\"T_8dc8d_row8_col11\" class=\"data row8 col11\" >-0.096060</td>\n",
       "                        <td id=\"T_8dc8d_row8_col12\" class=\"data row8 col12\" >-0.134604</td>\n",
       "                        <td id=\"T_8dc8d_row8_col13\" class=\"data row8 col13\" >-0.141025</td>\n",
       "                        <td id=\"T_8dc8d_row8_col14\" class=\"data row8 col14\" >-0.155746</td>\n",
       "            </tr>\n",
       "    </tbody></table>"
      ],
      "text/plain": [
       "<pandas.io.formats.style.Styler at 0x1a5065a4bb0>"
      ]
     },
     "execution_count": 630,
     "metadata": {},
     "output_type": "execute_result"
    }
   ],
   "source": [
    "sector_performance_return.T[sector_performance_return.T.iloc[-1].sort_values(ascending=False).index].style.background_gradient(cmap = cm,axis=None)"
   ]
  },
  {
   "cell_type": "code",
   "execution_count": null,
   "id": "201325e5-41f6-40d7-9813-838392f74be8",
   "metadata": {},
   "outputs": [],
   "source": []
  },
  {
   "cell_type": "code",
   "execution_count": null,
   "id": "8fd477d5-6c18-4afe-a963-cb0da248040d",
   "metadata": {},
   "outputs": [],
   "source": [
    "#qgrid.show_grid(sector_dataset_pivot)"
   ]
  },
  {
   "cell_type": "code",
   "execution_count": null,
   "id": "9d326023-6ee2-4e23-abfd-72be6c6f4c80",
   "metadata": {},
   "outputs": [],
   "source": []
  },
  {
   "cell_type": "code",
   "execution_count": null,
   "id": "f5c13ce4-1039-4371-abc8-b77ae463fba9",
   "metadata": {},
   "outputs": [],
   "source": []
  },
  {
   "cell_type": "code",
   "execution_count": null,
   "id": "c750bb45-7e00-463d-8f62-ac55699125a3",
   "metadata": {},
   "outputs": [],
   "source": []
  },
  {
   "cell_type": "code",
   "execution_count": null,
   "id": "cf4c4762-d622-4199-b881-f00b1d4554b2",
   "metadata": {},
   "outputs": [],
   "source": []
  },
  {
   "cell_type": "code",
   "execution_count": null,
   "id": "7076c414-af60-4499-8532-6c6e5ac3b851",
   "metadata": {},
   "outputs": [],
   "source": []
  },
  {
   "cell_type": "code",
   "execution_count": null,
   "id": "afef3319-8c61-40f5-ac93-4a72ee751588",
   "metadata": {},
   "outputs": [],
   "source": []
  },
  {
   "cell_type": "code",
   "execution_count": 631,
   "id": "df09d102-daa9-4620-bd05-0dc2df39f316",
   "metadata": {},
   "outputs": [
    {
     "data": {
      "image/png": "[encoded data removed]",
      "text/plain": [
       "<Figure size 432x288 with 1 Axes>"
      ]
     },
     "metadata": {
      "needs_background": "light"
     },
     "output_type": "display_data"
    }
   ],
   "source": []
  },
  {
   "cell_type": "code",
   "execution_count": 632,
   "id": "29b9a366-e134-4217-8686-18f9cce19793",
   "metadata": {},
   "outputs": [
    {
     "data": {
      "text/plain": [
       "0       MTOR\n",
       "1       TVTY\n",
       "2          Y\n",
       "3        WRB\n",
       "4        MCK\n",
       "        ... \n",
       "1515    DOUG\n",
       "1516     CEG\n",
       "1517     OGN\n",
       "1518    ITOS\n",
       "1519    JW-A\n",
       "Name: Symbol, Length: 1520, dtype: object"
      ]
     },
     "execution_count": 632,
     "metadata": {},
     "output_type": "execute_result"
    }
   ],
   "source": []
  },
  {
   "cell_type": "code",
   "execution_count": 633,
   "id": "d07a954f-1e41-4112-a980-a9691a8f63c3",
   "metadata": {},
   "outputs": [],
   "source": [
    "threshold = .9875"
   ]
  },
  {
   "cell_type": "code",
   "execution_count": null,
   "id": "bb59a21d-0820-4a62-908f-54ecac2e45f7",
   "metadata": {},
   "outputs": [],
   "source": []
  },
  {
   "cell_type": "code",
   "execution_count": 634,
   "id": "3683e62d-4d0e-476d-afa3-52ad82a1c96c",
   "metadata": {},
   "outputs": [],
   "source": [
    "screener_good = screener[screener['risk_trend_factor']!='missing']\n",
    "\n",
    "risk_trend_threshold = screener_good['risk_trend_factor'].quantile(q=[threshold]).values[0]\n"
   ]
  },
  {
   "cell_type": "code",
   "execution_count": 635,
   "id": "9e546c98-ca0c-425c-acb2-7a3f965c2a4b",
   "metadata": {},
   "outputs": [
    {
     "data": {
      "text/plain": [
       "3.7495316661591693"
      ]
     },
     "execution_count": 635,
     "metadata": {},
     "output_type": "execute_result"
    }
   ],
   "source": [
    "risk_trend_threshold"
   ]
  },
  {
   "cell_type": "code",
   "execution_count": 636,
   "id": "eadf398b-c971-4a14-a7ed-9fd5c2b7a3ab",
   "metadata": {},
   "outputs": [],
   "source": [
    "temp = stock_sectors.reset_index()\n",
    "temp.columns = ['Symbol','Sector']"
   ]
  },
  {
   "cell_type": "code",
   "execution_count": null,
   "id": "30182061-c798-4ec6-91a8-c940247f4b9f",
   "metadata": {},
   "outputs": [],
   "source": []
  },
  {
   "cell_type": "code",
   "execution_count": 637,
   "id": "a887c1c3-269e-4ff7-97d7-0f629b1e02e6",
   "metadata": {},
   "outputs": [
    {
     "data": {
      "text/html": [
       "<div>\n",
       "<style scoped>\n",
       "    .dataframe tbody tr th:only-of-type {\n",
       "        vertical-align: middle;\n",
       "    }\n",
       "\n",
       "    .dataframe tbody tr th {\n",
       "        vertical-align: top;\n",
       "    }\n",
       "\n",
       "    .dataframe thead th {\n",
       "        text-align: right;\n",
       "    }\n",
       "</style>\n",
       "<table border=\"1\" class=\"dataframe\">\n",
       "  <thead>\n",
       "    <tr style=\"text-align: right;\">\n",
       "      <th></th>\n",
       "      <th>Symbol</th>\n",
       "      <th>max_2y</th>\n",
       "      <th>min_2y</th>\n",
       "      <th>std_2y</th>\n",
       "      <th>mean_2y</th>\n",
       "      <th>max_1y</th>\n",
       "      <th>min_1y</th>\n",
       "      <th>std_1y</th>\n",
       "      <th>mean_1y</th>\n",
       "      <th>latest_p</th>\n",
       "      <th>...</th>\n",
       "      <th>supply_trend_60d</th>\n",
       "      <th>supply_trend_30d</th>\n",
       "      <th>vol_30d_2yr</th>\n",
       "      <th>pct_1yr</th>\n",
       "      <th>pct_2yr</th>\n",
       "      <th>MIN_Lookback_One_Year</th>\n",
       "      <th>MIN_Lookback_6_Months</th>\n",
       "      <th>MIN_Lookback_2_Months</th>\n",
       "      <th>MIN_Lookback_1_Months</th>\n",
       "      <th>Sector</th>\n",
       "    </tr>\n",
       "  </thead>\n",
       "  <tbody>\n",
       "    <tr>\n",
       "      <th>0</th>\n",
       "      <td>MTOR</td>\n",
       "      <td>36.299999</td>\n",
       "      <td>18.16</td>\n",
       "      <td>4.571085</td>\n",
       "      <td>26.86054</td>\n",
       "      <td>36.299999</td>\n",
       "      <td>20.5</td>\n",
       "      <td>5.365425</td>\n",
       "      <td>27.69844</td>\n",
       "      <td>36.139999</td>\n",
       "      <td>...</td>\n",
       "      <td>0.559998</td>\n",
       "      <td>0.16</td>\n",
       "      <td>15230897.31405</td>\n",
       "      <td>0.989873</td>\n",
       "      <td>0.99118</td>\n",
       "      <td>32.93</td>\n",
       "      <td>32.93</td>\n",
       "      <td>36.240002</td>\n",
       "      <td>36.279999</td>\n",
       "      <td>error</td>\n",
       "    </tr>\n",
       "    <tr>\n",
       "      <th>1</th>\n",
       "      <td>TVTY</td>\n",
       "      <td>32.889999</td>\n",
       "      <td>9.58</td>\n",
       "      <td>5.665546</td>\n",
       "      <td>22.75498</td>\n",
       "      <td>32.889999</td>\n",
       "      <td>21.25</td>\n",
       "      <td>3.226041</td>\n",
       "      <td>26.70532</td>\n",
       "      <td>32.349998</td>\n",
       "      <td>...</td>\n",
       "      <td>0.719999</td>\n",
       "      <td>0.719999</td>\n",
       "      <td>10484569.421488</td>\n",
       "      <td>0.953608</td>\n",
       "      <td>0.976834</td>\n",
       "      <td>27.85</td>\n",
       "      <td>29.18</td>\n",
       "      <td>32.889999</td>\n",
       "      <td>32.889999</td>\n",
       "      <td>error</td>\n",
       "    </tr>\n",
       "    <tr>\n",
       "      <th>2</th>\n",
       "      <td>Y</td>\n",
       "      <td>862.869995</td>\n",
       "      <td>460.579987</td>\n",
       "      <td>88.947441</td>\n",
       "      <td>648.01372</td>\n",
       "      <td>862.869995</td>\n",
       "      <td>585.099976</td>\n",
       "      <td>74.177103</td>\n",
       "      <td>702.963921</td>\n",
       "      <td>834.130005</td>\n",
       "      <td>...</td>\n",
       "      <td>1.76001</td>\n",
       "      <td>1.76001</td>\n",
       "      <td>1609461.363636</td>\n",
       "      <td>0.896533</td>\n",
       "      <td>0.928559</td>\n",
       "      <td>737.890015</td>\n",
       "      <td>737.890015</td>\n",
       "      <td>862.869995</td>\n",
       "      <td>862.869995</td>\n",
       "      <td>Financial Services</td>\n",
       "    </tr>\n",
       "    <tr>\n",
       "      <th>3</th>\n",
       "      <td>WRB</td>\n",
       "      <td>71.800003</td>\n",
       "      <td>36.299999</td>\n",
       "      <td>8.883579</td>\n",
       "      <td>49.553621</td>\n",
       "      <td>71.800003</td>\n",
       "      <td>47.133331</td>\n",
       "      <td>7.554808</td>\n",
       "      <td>55.841188</td>\n",
       "      <td>71.559998</td>\n",
       "      <td>...</td>\n",
       "      <td>4.509995</td>\n",
       "      <td>4.509995</td>\n",
       "      <td>24453384.917355</td>\n",
       "      <td>0.99027</td>\n",
       "      <td>0.993239</td>\n",
       "      <td>54.953335</td>\n",
       "      <td>56.619999</td>\n",
       "      <td>67.580002</td>\n",
       "      <td>71.529999</td>\n",
       "      <td>Financial Services</td>\n",
       "    </tr>\n",
       "    <tr>\n",
       "      <th>4</th>\n",
       "      <td>MCK</td>\n",
       "      <td>339.940002</td>\n",
       "      <td>139.759995</td>\n",
       "      <td>51.897801</td>\n",
       "      <td>206.167513</td>\n",
       "      <td>339.940002</td>\n",
       "      <td>184.429993</td>\n",
       "      <td>48.068282</td>\n",
       "      <td>243.337929</td>\n",
       "      <td>317.660004</td>\n",
       "      <td>...</td>\n",
       "      <td>5.369995</td>\n",
       "      <td>-2.350006</td>\n",
       "      <td>22553855.371901</td>\n",
       "      <td>0.856729</td>\n",
       "      <td>0.8887</td>\n",
       "      <td>204.660004</td>\n",
       "      <td>229.130005</td>\n",
       "      <td>313.23999</td>\n",
       "      <td>335.600006</td>\n",
       "      <td>Healthcare</td>\n",
       "    </tr>\n",
       "    <tr>\n",
       "      <th>5</th>\n",
       "      <td>LNTH</td>\n",
       "      <td>73.709999</td>\n",
       "      <td>10.52</td>\n",
       "      <td>14.638634</td>\n",
       "      <td>25.93326</td>\n",
       "      <td>73.709999</td>\n",
       "      <td>22.200001</td>\n",
       "      <td>15.077099</td>\n",
       "      <td>35.61004</td>\n",
       "      <td>70.080002</td>\n",
       "      <td>...</td>\n",
       "      <td>11.325001</td>\n",
       "      <td>10.950001</td>\n",
       "      <td>13908942.975207</td>\n",
       "      <td>0.929528</td>\n",
       "      <td>0.942554</td>\n",
       "      <td>25.790001</td>\n",
       "      <td>31.6</td>\n",
       "      <td>59.130001</td>\n",
       "      <td>69.738998</td>\n",
       "      <td>Healthcare</td>\n",
       "    </tr>\n",
       "    <tr>\n",
       "      <th>6</th>\n",
       "      <td>SJI</td>\n",
       "      <td>35.32</td>\n",
       "      <td>18.24</td>\n",
       "      <td>4.464484</td>\n",
       "      <td>24.546619</td>\n",
       "      <td>35.32</td>\n",
       "      <td>20.75</td>\n",
       "      <td>4.699942</td>\n",
       "      <td>27.096614</td>\n",
       "      <td>34.650002</td>\n",
       "      <td>...</td>\n",
       "      <td>1.060001</td>\n",
       "      <td>1.060001</td>\n",
       "      <td>27438943.38843</td>\n",
       "      <td>0.954015</td>\n",
       "      <td>0.960773</td>\n",
       "      <td>29.24</td>\n",
       "      <td>29.24</td>\n",
       "      <td>35.32</td>\n",
       "      <td>35.32</td>\n",
       "      <td>error</td>\n",
       "    </tr>\n",
       "    <tr>\n",
       "      <th>7</th>\n",
       "      <td>CVX</td>\n",
       "      <td>180.960007</td>\n",
       "      <td>65.160004</td>\n",
       "      <td>29.030536</td>\n",
       "      <td>104.468974</td>\n",
       "      <td>180.960007</td>\n",
       "      <td>92.860001</td>\n",
       "      <td>27.644504</td>\n",
       "      <td>124.259728</td>\n",
       "      <td>176.830002</td>\n",
       "      <td>...</td>\n",
       "      <td>18.910004</td>\n",
       "      <td>12.639999</td>\n",
       "      <td>238978873.760331</td>\n",
       "      <td>0.953121</td>\n",
       "      <td>0.964335</td>\n",
       "      <td>113.110001</td>\n",
       "      <td>118.660004</td>\n",
       "      <td>174.759995</td>\n",
       "      <td>174.759995</td>\n",
       "      <td>Energy</td>\n",
       "    </tr>\n",
       "    <tr>\n",
       "      <th>8</th>\n",
       "      <td>EQT</td>\n",
       "      <td>50.41</td>\n",
       "      <td>10.52</td>\n",
       "      <td>7.690069</td>\n",
       "      <td>20.557017</td>\n",
       "      <td>50.41</td>\n",
       "      <td>15.71</td>\n",
       "      <td>8.438776</td>\n",
       "      <td>25.048644</td>\n",
       "      <td>49.02</td>\n",
       "      <td>...</td>\n",
       "      <td>11.990002</td>\n",
       "      <td>11.990002</td>\n",
       "      <td>137687669.008265</td>\n",
       "      <td>0.959942</td>\n",
       "      <td>0.965154</td>\n",
       "      <td>23.16</td>\n",
       "      <td>23.24</td>\n",
       "      <td>37.98</td>\n",
       "      <td>45.5</td>\n",
       "      <td>Energy</td>\n",
       "    </tr>\n",
       "    <tr>\n",
       "      <th>9</th>\n",
       "      <td>MPC</td>\n",
       "      <td>110.309998</td>\n",
       "      <td>26.559999</td>\n",
       "      <td>18.499972</td>\n",
       "      <td>55.288537</td>\n",
       "      <td>110.309998</td>\n",
       "      <td>50.189999</td>\n",
       "      <td>13.462512</td>\n",
       "      <td>69.379268</td>\n",
       "      <td>109.389999</td>\n",
       "      <td>...</td>\n",
       "      <td>24.400002</td>\n",
       "      <td>16.159996</td>\n",
       "      <td>139407207.024793</td>\n",
       "      <td>0.984697</td>\n",
       "      <td>0.989015</td>\n",
       "      <td>64.839996</td>\n",
       "      <td>68.779999</td>\n",
       "      <td>87.099998</td>\n",
       "      <td>96.900002</td>\n",
       "      <td>Energy</td>\n",
       "    </tr>\n",
       "    <tr>\n",
       "      <th>10</th>\n",
       "      <td>VOX</td>\n",
       "      <td>125.839996</td>\n",
       "      <td>36.619999</td>\n",
       "      <td>21.312285</td>\n",
       "      <td>70.817104</td>\n",
       "      <td>125.839996</td>\n",
       "      <td>62.919998</td>\n",
       "      <td>16.118025</td>\n",
       "      <td>86.882649</td>\n",
       "      <td>124.940002</td>\n",
       "      <td>...</td>\n",
       "      <td>21.100006</td>\n",
       "      <td>17.060005</td>\n",
       "      <td>25872947.31405</td>\n",
       "      <td>0.985696</td>\n",
       "      <td>0.989913</td>\n",
       "      <td>79.419998</td>\n",
       "      <td>84.209999</td>\n",
       "      <td>111.5</td>\n",
       "      <td>115.279999</td>\n",
       "      <td>NaN</td>\n",
       "    </tr>\n",
       "    <tr>\n",
       "      <th>11</th>\n",
       "      <td>WMB</td>\n",
       "      <td>37.970001</td>\n",
       "      <td>17.48</td>\n",
       "      <td>5.385231</td>\n",
       "      <td>24.524635</td>\n",
       "      <td>37.970001</td>\n",
       "      <td>23.530001</td>\n",
       "      <td>3.97064</td>\n",
       "      <td>28.771397</td>\n",
       "      <td>37.41</td>\n",
       "      <td>...</td>\n",
       "      <td>3.84</td>\n",
       "      <td>2.720001</td>\n",
       "      <td>179149590.909091</td>\n",
       "      <td>0.961219</td>\n",
       "      <td>0.97267</td>\n",
       "      <td>28.35</td>\n",
       "      <td>29.889999</td>\n",
       "      <td>34.389999</td>\n",
       "      <td>37.049999</td>\n",
       "      <td>Energy</td>\n",
       "    </tr>\n",
       "    <tr>\n",
       "      <th>12</th>\n",
       "      <td>XOM</td>\n",
       "      <td>99.779999</td>\n",
       "      <td>31.110001</td>\n",
       "      <td>16.976434</td>\n",
       "      <td>55.443595</td>\n",
       "      <td>99.779999</td>\n",
       "      <td>52.099998</td>\n",
       "      <td>13.128317</td>\n",
       "      <td>68.116693</td>\n",
       "      <td>98.839996</td>\n",
       "      <td>...</td>\n",
       "      <td>16.179993</td>\n",
       "      <td>12.459999</td>\n",
       "      <td>552266806.818182</td>\n",
       "      <td>0.980285</td>\n",
       "      <td>0.986311</td>\n",
       "      <td>64.019997</td>\n",
       "      <td>66.379997</td>\n",
       "      <td>91.510002</td>\n",
       "      <td>92.050003</td>\n",
       "      <td>Energy</td>\n",
       "    </tr>\n",
       "    <tr>\n",
       "      <th>13</th>\n",
       "      <td>EXC</td>\n",
       "      <td>50.709999</td>\n",
       "      <td>24.229671</td>\n",
       "      <td>7.047906</td>\n",
       "      <td>33.334341</td>\n",
       "      <td>50.709999</td>\n",
       "      <td>31.25535</td>\n",
       "      <td>5.654446</td>\n",
       "      <td>38.88876</td>\n",
       "      <td>48.549999</td>\n",
       "      <td>...</td>\n",
       "      <td>1.779999</td>\n",
       "      <td>1.779999</td>\n",
       "      <td>164147941.380165</td>\n",
       "      <td>0.888973</td>\n",
       "      <td>0.91843</td>\n",
       "      <td>33.495007</td>\n",
       "      <td>39.129814</td>\n",
       "      <td>49.84</td>\n",
       "      <td>50.709999</td>\n",
       "      <td>Utilities</td>\n",
       "    </tr>\n",
       "    <tr>\n",
       "      <th>14</th>\n",
       "      <td>CTRA</td>\n",
       "      <td>36.450001</td>\n",
       "      <td>14.28</td>\n",
       "      <td>4.539285</td>\n",
       "      <td>18.675841</td>\n",
       "      <td>36.450001</td>\n",
       "      <td>14.28</td>\n",
       "      <td>5.402239</td>\n",
       "      <td>21.047456</td>\n",
       "      <td>35.950001</td>\n",
       "      <td>...</td>\n",
       "      <td>8.870001</td>\n",
       "      <td>6.690001</td>\n",
       "      <td>167374188.223141</td>\n",
       "      <td>0.977447</td>\n",
       "      <td>0.977447</td>\n",
       "      <td>20.33</td>\n",
       "      <td>23.639999</td>\n",
       "      <td>29.49</td>\n",
       "      <td>33</td>\n",
       "      <td>Energy</td>\n",
       "    </tr>\n",
       "    <tr>\n",
       "      <th>15</th>\n",
       "      <td>HP</td>\n",
       "      <td>53.220001</td>\n",
       "      <td>12.87</td>\n",
       "      <td>9.024011</td>\n",
       "      <td>27.378273</td>\n",
       "      <td>53.220001</td>\n",
       "      <td>20.93</td>\n",
       "      <td>8.153456</td>\n",
       "      <td>33.119811</td>\n",
       "      <td>52.779999</td>\n",
       "      <td>...</td>\n",
       "      <td>9.059998</td>\n",
       "      <td>8.279999</td>\n",
       "      <td>31714464.876033</td>\n",
       "      <td>0.986373</td>\n",
       "      <td>0.989095</td>\n",
       "      <td>33.779999</td>\n",
       "      <td>36.259998</td>\n",
       "      <td>45.75</td>\n",
       "      <td>50.889999</td>\n",
       "      <td>Energy</td>\n",
       "    </tr>\n",
       "    <tr>\n",
       "      <th>16</th>\n",
       "      <td>COP</td>\n",
       "      <td>118.809998</td>\n",
       "      <td>27.530001</td>\n",
       "      <td>22.734886</td>\n",
       "      <td>59.62291</td>\n",
       "      <td>118.809998</td>\n",
       "      <td>51.41</td>\n",
       "      <td>18.279667</td>\n",
       "      <td>77.386066</td>\n",
       "      <td>117.379997</td>\n",
       "      <td>...</td>\n",
       "      <td>23.959999</td>\n",
       "      <td>17.719994</td>\n",
       "      <td>190971290.702479</td>\n",
       "      <td>0.978783</td>\n",
       "      <td>0.984334</td>\n",
       "      <td>61.279999</td>\n",
       "      <td>77.980003</td>\n",
       "      <td>107.519997</td>\n",
       "      <td>107.709999</td>\n",
       "      <td>Energy</td>\n",
       "    </tr>\n",
       "    <tr>\n",
       "      <th>17</th>\n",
       "      <td>ACC</td>\n",
       "      <td>65.220001</td>\n",
       "      <td>31.07</td>\n",
       "      <td>9.118074</td>\n",
       "      <td>45.705492</td>\n",
       "      <td>65.220001</td>\n",
       "      <td>46.720001</td>\n",
       "      <td>5.419933</td>\n",
       "      <td>53.283883</td>\n",
       "      <td>64.889999</td>\n",
       "      <td>...</td>\n",
       "      <td>7.639999</td>\n",
       "      <td>0.300003</td>\n",
       "      <td>25861244.834711</td>\n",
       "      <td>0.982162</td>\n",
       "      <td>0.990337</td>\n",
       "      <td>49.209999</td>\n",
       "      <td>55.150002</td>\n",
       "      <td>57.830002</td>\n",
       "      <td>65.019997</td>\n",
       "      <td>error</td>\n",
       "    </tr>\n",
       "    <tr>\n",
       "      <th>18</th>\n",
       "      <td>PBF</td>\n",
       "      <td>41.400002</td>\n",
       "      <td>4.06</td>\n",
       "      <td>6.596623</td>\n",
       "      <td>13.7036</td>\n",
       "      <td>41.400002</td>\n",
       "      <td>7.24</td>\n",
       "      <td>6.970207</td>\n",
       "      <td>17.18396</td>\n",
       "      <td>40.299999</td>\n",
       "      <td>...</td>\n",
       "      <td>14.209999</td>\n",
       "      <td>11.059999</td>\n",
       "      <td>92832491.735537</td>\n",
       "      <td>0.967799</td>\n",
       "      <td>0.970541</td>\n",
       "      <td>18.780001</td>\n",
       "      <td>18.780001</td>\n",
       "      <td>26.85</td>\n",
       "      <td>32.41</td>\n",
       "      <td>Energy</td>\n",
       "    </tr>\n",
       "  </tbody>\n",
       "</table>\n",
       "<p>19 rows × 42 columns</p>\n",
       "</div>"
      ],
      "text/plain": [
       "   Symbol      max_2y      min_2y     std_2y     mean_2y      max_1y  \\\n",
       "0    MTOR   36.299999       18.16   4.571085    26.86054   36.299999   \n",
       "1    TVTY   32.889999        9.58   5.665546    22.75498   32.889999   \n",
       "2       Y  862.869995  460.579987  88.947441   648.01372  862.869995   \n",
       "3     WRB   71.800003   36.299999   8.883579   49.553621   71.800003   \n",
       "4     MCK  339.940002  139.759995  51.897801  206.167513  339.940002   \n",
       "5    LNTH   73.709999       10.52  14.638634    25.93326   73.709999   \n",
       "6     SJI       35.32       18.24   4.464484   24.546619       35.32   \n",
       "7     CVX  180.960007   65.160004  29.030536  104.468974  180.960007   \n",
       "8     EQT       50.41       10.52   7.690069   20.557017       50.41   \n",
       "9     MPC  110.309998   26.559999  18.499972   55.288537  110.309998   \n",
       "10    VOX  125.839996   36.619999  21.312285   70.817104  125.839996   \n",
       "11    WMB   37.970001       17.48   5.385231   24.524635   37.970001   \n",
       "12    XOM   99.779999   31.110001  16.976434   55.443595   99.779999   \n",
       "13    EXC   50.709999   24.229671   7.047906   33.334341   50.709999   \n",
       "14   CTRA   36.450001       14.28   4.539285   18.675841   36.450001   \n",
       "15     HP   53.220001       12.87   9.024011   27.378273   53.220001   \n",
       "16    COP  118.809998   27.530001  22.734886    59.62291  118.809998   \n",
       "17    ACC   65.220001       31.07   9.118074   45.705492   65.220001   \n",
       "18    PBF   41.400002        4.06   6.596623     13.7036   41.400002   \n",
       "\n",
       "        min_1y     std_1y     mean_1y    latest_p  ... supply_trend_60d  \\\n",
       "0         20.5   5.365425    27.69844   36.139999  ...         0.559998   \n",
       "1        21.25   3.226041    26.70532   32.349998  ...         0.719999   \n",
       "2   585.099976  74.177103  702.963921  834.130005  ...          1.76001   \n",
       "3    47.133331   7.554808   55.841188   71.559998  ...         4.509995   \n",
       "4   184.429993  48.068282  243.337929  317.660004  ...         5.369995   \n",
       "5    22.200001  15.077099    35.61004   70.080002  ...        11.325001   \n",
       "6        20.75   4.699942   27.096614   34.650002  ...         1.060001   \n",
       "7    92.860001  27.644504  124.259728  176.830002  ...        18.910004   \n",
       "8        15.71   8.438776   25.048644       49.02  ...        11.990002   \n",
       "9    50.189999  13.462512   69.379268  109.389999  ...        24.400002   \n",
       "10   62.919998  16.118025   86.882649  124.940002  ...        21.100006   \n",
       "11   23.530001    3.97064   28.771397       37.41  ...             3.84   \n",
       "12   52.099998  13.128317   68.116693   98.839996  ...        16.179993   \n",
       "13    31.25535   5.654446    38.88876   48.549999  ...         1.779999   \n",
       "14       14.28   5.402239   21.047456   35.950001  ...         8.870001   \n",
       "15       20.93   8.153456   33.119811   52.779999  ...         9.059998   \n",
       "16       51.41  18.279667   77.386066  117.379997  ...        23.959999   \n",
       "17   46.720001   5.419933   53.283883   64.889999  ...         7.639999   \n",
       "18        7.24   6.970207    17.18396   40.299999  ...        14.209999   \n",
       "\n",
       "   supply_trend_30d       vol_30d_2yr   pct_1yr   pct_2yr  \\\n",
       "0              0.16    15230897.31405  0.989873   0.99118   \n",
       "1          0.719999   10484569.421488  0.953608  0.976834   \n",
       "2           1.76001    1609461.363636  0.896533  0.928559   \n",
       "3          4.509995   24453384.917355   0.99027  0.993239   \n",
       "4         -2.350006   22553855.371901  0.856729    0.8887   \n",
       "5         10.950001   13908942.975207  0.929528  0.942554   \n",
       "6          1.060001    27438943.38843  0.954015  0.960773   \n",
       "7         12.639999  238978873.760331  0.953121  0.964335   \n",
       "8         11.990002  137687669.008265  0.959942  0.965154   \n",
       "9         16.159996  139407207.024793  0.984697  0.989015   \n",
       "10        17.060005    25872947.31405  0.985696  0.989913   \n",
       "11         2.720001  179149590.909091  0.961219   0.97267   \n",
       "12        12.459999  552266806.818182  0.980285  0.986311   \n",
       "13         1.779999  164147941.380165  0.888973   0.91843   \n",
       "14         6.690001  167374188.223141  0.977447  0.977447   \n",
       "15         8.279999   31714464.876033  0.986373  0.989095   \n",
       "16        17.719994  190971290.702479  0.978783  0.984334   \n",
       "17         0.300003   25861244.834711  0.982162  0.990337   \n",
       "18        11.059999   92832491.735537  0.967799  0.970541   \n",
       "\n",
       "   MIN_Lookback_One_Year MIN_Lookback_6_Months MIN_Lookback_2_Months  \\\n",
       "0                  32.93                 32.93             36.240002   \n",
       "1                  27.85                 29.18             32.889999   \n",
       "2             737.890015            737.890015            862.869995   \n",
       "3              54.953335             56.619999             67.580002   \n",
       "4             204.660004            229.130005             313.23999   \n",
       "5              25.790001                  31.6             59.130001   \n",
       "6                  29.24                 29.24                 35.32   \n",
       "7             113.110001            118.660004            174.759995   \n",
       "8                  23.16                 23.24                 37.98   \n",
       "9              64.839996             68.779999             87.099998   \n",
       "10             79.419998             84.209999                 111.5   \n",
       "11                 28.35             29.889999             34.389999   \n",
       "12             64.019997             66.379997             91.510002   \n",
       "13             33.495007             39.129814                 49.84   \n",
       "14                 20.33             23.639999                 29.49   \n",
       "15             33.779999             36.259998                 45.75   \n",
       "16             61.279999             77.980003            107.519997   \n",
       "17             49.209999             55.150002             57.830002   \n",
       "18             18.780001             18.780001                 26.85   \n",
       "\n",
       "   MIN_Lookback_1_Months              Sector  \n",
       "0              36.279999               error  \n",
       "1              32.889999               error  \n",
       "2             862.869995  Financial Services  \n",
       "3              71.529999  Financial Services  \n",
       "4             335.600006          Healthcare  \n",
       "5              69.738998          Healthcare  \n",
       "6                  35.32               error  \n",
       "7             174.759995              Energy  \n",
       "8                   45.5              Energy  \n",
       "9              96.900002              Energy  \n",
       "10            115.279999                 NaN  \n",
       "11             37.049999              Energy  \n",
       "12             92.050003              Energy  \n",
       "13             50.709999           Utilities  \n",
       "14                    33              Energy  \n",
       "15             50.889999              Energy  \n",
       "16            107.709999              Energy  \n",
       "17             65.019997               error  \n",
       "18                 32.41              Energy  \n",
       "\n",
       "[19 rows x 42 columns]"
      ]
     },
     "execution_count": 637,
     "metadata": {},
     "output_type": "execute_result"
    }
   ],
   "source": [
    "risk_screened = screener_good[screener_good['risk_trend_factor']>risk_trend_threshold]\n",
    "risk_screened\n",
    "#left join sector\n",
    "risk_screened.merge(temp, on='Symbol', how='left')"
   ]
  },
  {
   "cell_type": "code",
   "execution_count": 638,
   "id": "26d8cae3-bd44-467b-a09e-e1927a979f96",
   "metadata": {},
   "outputs": [
    {
     "data": {
      "text/plain": [
       "Index(['Symbol', 'max_2y', 'min_2y', 'std_2y', 'mean_2y', 'max_1y', 'min_1y',\n",
       "       'std_1y', 'mean_1y', 'latest_p', '2yr_close_0pct', '2yr_close_2pct',\n",
       "       '2yr_close_9pct', '2yr_close_25pct', '2yr_close_50pct',\n",
       "       '2yr_close_75pct', '2yr_close_91pct', '2yr_close_98pct',\n",
       "       '2yr_close_100pct', '1yr_close_0pct', '1yr_close_2pct',\n",
       "       '1yr_close_9pct', '1yr_close_25pct', '1yr_close_50pct',\n",
       "       '2yr_close_75pct.1', '1yr_close_91pct', '1yr_close_98pct',\n",
       "       '1yr_close_100pct', 'risk_trend_factor', 'supply_trend_1yr',\n",
       "       'supply_trend_180d', 'supply_trend_90d', 'supply_trend_60d',\n",
       "       'supply_trend_30d', 'vol_30d_2yr', 'pct_1yr', 'pct_2yr',\n",
       "       'MIN_Lookback_One_Year', 'MIN_Lookback_6_Months',\n",
       "       'MIN_Lookback_2_Months', 'MIN_Lookback_1_Months'],\n",
       "      dtype='object')"
      ]
     },
     "execution_count": 638,
     "metadata": {},
     "output_type": "execute_result"
    }
   ],
   "source": [
    "screener.columns"
   ]
  },
  {
   "cell_type": "code",
   "execution_count": null,
   "id": "3e7c6281-1bb0-440c-b1b7-e0f656d204b7",
   "metadata": {},
   "outputs": [],
   "source": []
  },
  {
   "cell_type": "code",
   "execution_count": 639,
   "id": "93908a82-0b90-4060-ae23-4e59eb2a046b",
   "metadata": {},
   "outputs": [
    {
     "data": {
      "text/plain": [
       "\"\\nabove_1yearSDev = screener_good[screener_good['latest_p']>screener['mean_1y']+screener_good['std_1y']]['Symbol'].values\\nabove_2yearSDev = screener_good[screener_good['latest_p']>screener['mean_2y']+screener_good['std_2y']]['Symbol'].values\\nabove_yearSDev = np.intersect1d(above_1yearSDev,above_2yearSDev)\\n\""
      ]
     },
     "execution_count": 639,
     "metadata": {},
     "output_type": "execute_result"
    }
   ],
   "source": [
    "\"\"\"\n",
    "above_1yearSDev = screener_good[screener_good['latest_p']>screener['mean_1y']+screener_good['std_1y']]['Symbol'].values\n",
    "above_2yearSDev = screener_good[screener_good['latest_p']>screener['mean_2y']+screener_good['std_2y']]['Symbol'].values\n",
    "above_yearSDev = np.intersect1d(above_1yearSDev,above_2yearSDev)\n",
    "\"\"\""
   ]
  },
  {
   "cell_type": "code",
   "execution_count": 640,
   "id": "8f71b65a-b9ae-4df8-bdb3-018bcc680443",
   "metadata": {},
   "outputs": [],
   "source": [
    "#above_yearSDev"
   ]
  },
  {
   "cell_type": "code",
   "execution_count": 641,
   "id": "418a8256-64bb-4b08-b454-f0c87086c170",
   "metadata": {},
   "outputs": [
    {
     "data": {
      "text/plain": [
       "\"\\nabove_2year_t = screener[screener['pct_2yr']>threshold]['Symbol'].values\\nabove_1year_t = screener[screener['pct_1yr']>threshold]['Symbol'].values\\nabove_years_t = np.intersect1d(above_2year_t,above_1year_t)\\n\""
      ]
     },
     "execution_count": 641,
     "metadata": {},
     "output_type": "execute_result"
    }
   ],
   "source": [
    "\"\"\"\n",
    "above_2year_t = screener[screener['pct_2yr']>threshold]['Symbol'].values\n",
    "above_1year_t = screener[screener['pct_1yr']>threshold]['Symbol'].values\n",
    "above_years_t = np.intersect1d(above_2year_t,above_1year_t)\n",
    "\"\"\""
   ]
  },
  {
   "cell_type": "code",
   "execution_count": 642,
   "id": "e8698fc4-014d-4806-897d-1edb83033707",
   "metadata": {},
   "outputs": [],
   "source": [
    "#above_years_t"
   ]
  },
  {
   "cell_type": "code",
   "execution_count": 643,
   "id": "bbc42c14-8dd3-4c95-97db-f08067281258",
   "metadata": {},
   "outputs": [],
   "source": [
    "#above_combined = np.intersect1d(above_yearSDev,above_years_t)"
   ]
  },
  {
   "cell_type": "code",
   "execution_count": 644,
   "id": "519163cc-4b2c-46b8-b199-2567cc1adf4f",
   "metadata": {},
   "outputs": [],
   "source": [
    "#above_combined"
   ]
  },
  {
   "cell_type": "code",
   "execution_count": 645,
   "id": "cce08031-d71f-4c15-9185-0a36d2eb3d4b",
   "metadata": {},
   "outputs": [],
   "source": [
    "#screened_final_set = np.intersect1d(risk_screened,above_combined)"
   ]
  },
  {
   "cell_type": "code",
   "execution_count": 646,
   "id": "154b38ab-fe7c-4f96-803b-3f901fc68526",
   "metadata": {},
   "outputs": [],
   "source": [
    "screened_final_set = risk_screened.set_index('Symbol')\n",
    "#screened_final_set"
   ]
  },
  {
   "cell_type": "code",
   "execution_count": null,
   "id": "79fdf2a1-98cf-43b8-8a30-93062948d593",
   "metadata": {},
   "outputs": [],
   "source": []
  },
  {
   "cell_type": "code",
   "execution_count": null,
   "id": "e9769f43-93f1-40f8-aea6-13d8f51c5692",
   "metadata": {},
   "outputs": [],
   "source": []
  },
  {
   "cell_type": "code",
   "execution_count": null,
   "id": "a659b86c-9710-4a24-a969-6d448497b064",
   "metadata": {},
   "outputs": [],
   "source": []
  },
  {
   "cell_type": "code",
   "execution_count": null,
   "id": "ef1ce8db-0df5-471d-9c85-cf3e5a25689c",
   "metadata": {},
   "outputs": [],
   "source": []
  },
  {
   "cell_type": "code",
   "execution_count": null,
   "id": "4e47e363-0dc5-4115-8c47-b324a8b61f73",
   "metadata": {},
   "outputs": [],
   "source": []
  },
  {
   "cell_type": "code",
   "execution_count": 647,
   "id": "e3191e95-0d95-4860-9faf-5f7758b667a9",
   "metadata": {},
   "outputs": [],
   "source": [
    "#pivot_ui(prices, outfile_path='pivottablejs.html')\n",
    "#HTML('pivottablejs.html')"
   ]
  },
  {
   "cell_type": "code",
   "execution_count": 648,
   "id": "be39ed83-14cb-49e0-8bed-5a143bc34afa",
   "metadata": {},
   "outputs": [
    {
     "name": "stdout",
     "output_type": "stream",
     "text": [
      "ACC\n",
      "supply trend: 25861244.83471074\n",
      "Sector: error\n",
      "Index: SP400\n"
     ]
    },
    {
     "name": "stderr",
     "output_type": "stream",
     "text": [
      "C:\\Users\\User\\AppData\\Local\\Temp\\ipykernel_3352\\1587636196.py:40: UserWarning: FixedFormatter should only be used together with FixedLocator\n",
      "  ax.set_xticklabels(ax.get_xticks(), rotation = 45)\n"
     ]
    },
    {
     "data": {
      "image/png": "[encoded data removed]",
      "text/plain": [
       "<Figure size 432x288 with 1 Axes>"
      ]
     },
     "metadata": {
      "needs_background": "light"
     },
     "output_type": "display_data"
    },
    {
     "name": "stdout",
     "output_type": "stream",
     "text": [
      "COP\n",
      "supply trend: 190971290.7024793\n",
      "Sector: Energy\n",
      "Index: SP500\n"
     ]
    },
    {
     "data": {
      "image/png": "[encoded data removed]",
      "text/plain": [
       "<Figure size 432x288 with 1 Axes>"
      ]
     },
     "metadata": {
      "needs_background": "light"
     },
     "output_type": "display_data"
    },
    {
     "name": "stdout",
     "output_type": "stream",
     "text": [
      "CTRA\n",
      "supply trend: 167374188.2231405\n",
      "Sector: Energy\n",
      "Index: SP500\n"
     ]
    },
    {
     "data": {
      "image/png": "[encoded data removed]",
      "text/plain": [
       "<Figure size 432x288 with 1 Axes>"
      ]
     },
     "metadata": {
      "needs_background": "light"
     },
     "output_type": "display_data"
    },
    {
     "name": "stdout",
     "output_type": "stream",
     "text": [
      "CVX\n",
      "supply trend: 238978873.7603306\n",
      "Sector: Energy\n",
      "Index: SP500\n"
     ]
    },
    {
     "data": {
      "image/png": "[encoded data removed]",
      "text/plain": [
       "<Figure size 432x288 with 1 Axes>"
      ]
     },
     "metadata": {
      "needs_background": "light"
     },
     "output_type": "display_data"
    },
    {
     "name": "stdout",
     "output_type": "stream",
     "text": [
      "EQT\n",
      "supply trend: 137687669.0082645\n",
      "Sector: Energy\n",
      "Index: SP400\n"
     ]
    },
    {
     "data": {
      "image/png": "[encoded data removed]",
      "text/plain": [
       "<Figure size 432x288 with 1 Axes>"
      ]
     },
     "metadata": {
      "needs_background": "light"
     },
     "output_type": "display_data"
    },
    {
     "name": "stdout",
     "output_type": "stream",
     "text": [
      "EXC\n",
      "supply trend: 164147941.3801653\n",
      "Sector: Utilities\n",
      "Index: SP500\n"
     ]
    },
    {
     "data": {
      "image/png": "[encoded data removed]",
      "text/plain": [
       "<Figure size 432x288 with 1 Axes>"
      ]
     },
     "metadata": {
      "needs_background": "light"
     },
     "output_type": "display_data"
    },
    {
     "name": "stdout",
     "output_type": "stream",
     "text": [
      "HP\n",
      "supply trend: 31714464.87603306\n",
      "Sector: Energy\n",
      "Index: SP600\n"
     ]
    },
    {
     "data": {
      "image/png": "[encoded data removed]",
      "text/plain": [
       "<Figure size 432x288 with 1 Axes>"
      ]
     },
     "metadata": {
      "needs_background": "light"
     },
     "output_type": "display_data"
    },
    {
     "name": "stdout",
     "output_type": "stream",
     "text": [
      "LNTH\n",
      "supply trend: 13908942.97520661\n",
      "Sector: Healthcare\n",
      "Index: SP600\n"
     ]
    },
    {
     "data": {
      "image/png": "[encoded data removed]",
      "text/plain": [
       "<Figure size 432x288 with 1 Axes>"
      ]
     },
     "metadata": {
      "needs_background": "light"
     },
     "output_type": "display_data"
    },
    {
     "name": "stdout",
     "output_type": "stream",
     "text": [
      "MCK\n",
      "supply trend: 22553855.37190083\n",
      "Sector: Healthcare\n",
      "Index: SP500\n"
     ]
    },
    {
     "data": {
      "image/png": "[encoded data removed]",
      "text/plain": [
       "<Figure size 432x288 with 1 Axes>"
      ]
     },
     "metadata": {
      "needs_background": "light"
     },
     "output_type": "display_data"
    },
    {
     "name": "stdout",
     "output_type": "stream",
     "text": [
      "MPC\n",
      "supply trend: 139407207.0247934\n",
      "Sector: Energy\n",
      "Index: SP500\n"
     ]
    },
    {
     "data": {
      "image/png": "[encoded data removed]",
      "text/plain": [
       "<Figure size 432x288 with 1 Axes>"
      ]
     },
     "metadata": {
      "needs_background": "light"
     },
     "output_type": "display_data"
    },
    {
     "name": "stdout",
     "output_type": "stream",
     "text": [
      "MTOR\n",
      "supply trend: 15230897.31404959\n",
      "Sector: error\n",
      "Index: SP600\n"
     ]
    },
    {
     "data": {
      "image/png": "[encoded data removed]",
      "text/plain": [
       "<Figure size 432x288 with 1 Axes>"
      ]
     },
     "metadata": {
      "needs_background": "light"
     },
     "output_type": "display_data"
    },
    {
     "name": "stdout",
     "output_type": "stream",
     "text": [
      "PBF\n",
      "supply trend: 92832491.73553719\n",
      "Sector: Energy\n",
      "Index: SP600\n"
     ]
    },
    {
     "data": {
      "image/png": "[encoded data removed]",
      "text/plain": [
       "<Figure size 432x288 with 1 Axes>"
      ]
     },
     "metadata": {
      "needs_background": "light"
     },
     "output_type": "display_data"
    },
    {
     "name": "stdout",
     "output_type": "stream",
     "text": [
      "SJI\n",
      "supply trend: 27438943.38842975\n",
      "Sector: error\n",
      "Index: SP600\n"
     ]
    },
    {
     "data": {
      "image/png": "[encoded data removed]",
      "text/plain": [
       "<Figure size 432x288 with 1 Axes>"
      ]
     },
     "metadata": {
      "needs_background": "light"
     },
     "output_type": "display_data"
    },
    {
     "name": "stdout",
     "output_type": "stream",
     "text": [
      "TVTY\n",
      "supply trend: 10484569.4214876\n",
      "Sector: error\n",
      "Index: SP600\n"
     ]
    },
    {
     "data": {
      "image/png": "[encoded data removed]",
      "text/plain": [
       "<Figure size 432x288 with 1 Axes>"
      ]
     },
     "metadata": {
      "needs_background": "light"
     },
     "output_type": "display_data"
    },
    {
     "name": "stdout",
     "output_type": "stream",
     "text": [
      "WMB\n",
      "supply trend: 179149590.9090909\n",
      "Sector: Energy\n",
      "Index: SP500\n"
     ]
    },
    {
     "data": {
      "image/png": "[encoded data removed]",
      "text/plain": [
       "<Figure size 432x288 with 1 Axes>"
      ]
     },
     "metadata": {
      "needs_background": "light"
     },
     "output_type": "display_data"
    },
    {
     "name": "stdout",
     "output_type": "stream",
     "text": [
      "WRB\n",
      "supply trend: 24453384.91735537\n",
      "Sector: Financial Services\n",
      "Index: SP500\n"
     ]
    },
    {
     "data": {
      "image/png": "[encoded data removed]",
      "text/plain": [
       "<Figure size 432x288 with 1 Axes>"
      ]
     },
     "metadata": {
      "needs_background": "light"
     },
     "output_type": "display_data"
    },
    {
     "name": "stdout",
     "output_type": "stream",
     "text": [
      "XOM\n",
      "supply trend: 552266806.8181819\n",
      "Sector: Energy\n",
      "Index: SP500\n"
     ]
    },
    {
     "data": {
      "image/png": "[encoded data removed]",
      "text/plain": [
       "<Figure size 432x288 with 1 Axes>"
      ]
     },
     "metadata": {
      "needs_background": "light"
     },
     "output_type": "display_data"
    },
    {
     "name": "stdout",
     "output_type": "stream",
     "text": [
      "Y\n",
      "supply trend: 1609461.363636364\n",
      "Sector: Financial Services\n",
      "Index: SP400\n"
     ]
    },
    {
     "data": {
      "image/png": "[encoded data removed]",
      "text/plain": [
       "<Figure size 432x288 with 1 Axes>"
      ]
     },
     "metadata": {
      "needs_background": "light"
     },
     "output_type": "display_data"
    }
   ],
   "source": [
    "for s in np.setdiff1d(np.setdiff1d(screened_final_set.index,temp_v['Symbol'].values),spdr_indexes.iloc[:,0].values):\n",
    "    print(s)\n",
    "    subset=prices[prices['Symbol']==s]\n",
    "    \n",
    "    dates = []\n",
    "    for t in subset['Date'].values:\n",
    "        d = pd.Timestamp(t).strftime('%Y-%m-%d')\n",
    "        dates.append(d)\n",
    "        dto = datetime.strptime(d, '%Y-%m-%d').date()\n",
    "\n",
    "    old_ordinal = [datetime.strptime(i, '%Y-%m-%d').toordinal() for i in dates]\n",
    "    new_ordinal = old_ordinal + md.date2num(np.datetime64('0000-12-31'))\n",
    "    x = new_ordinal\n",
    "    y= subset['Adj Close']\n",
    "\n",
    "    slope, intercept, r, p, std_err = stats.linregress(x, y)\n",
    "\n",
    "    mymodel = list(map(myfunc, x))\n",
    "\n",
    "    fig, ax = plt.subplots()\n",
    "    \n",
    "    plt.scatter(x, y)\n",
    "    plt.scatter(x, subset['trailing_1yr_max'])\n",
    "    plt.scatter(x, subset['trailing_1yr_min'])\n",
    "    \n",
    "    #plt.scatter(x, subset['supply_trend'])\n",
    "    plt.scatter(x, subset['supply_trend_1yr'])\n",
    "    print(\"supply trend:\",screener.loc[np.where(screener.set_index('Symbol').index==s)[0][0]]['vol_30d_2yr'])\n",
    "    print(\"Sector:\", stock_sectors.iloc[np.where(np.array(stock_sectors.index)==s)[0][0]][0])\n",
    "    print(\"Index:\", stock_indexes.iloc[np.where(np.array(stock_indexes.index)==s)[0][0]][0])\n",
    "    \n",
    "    #print(\"Sector:\",screener.loc[np.where(screener.set_index('Symbol').index==s)[0][0]]['Sector'])\n",
    "    #print(\"Sector:\",screener.loc[np.where(screener.set_index('Symbol').index==s)[0][0]]['vol_30d_2yr'])\n",
    "\n",
    "    plt.plot(x, mymodel)\n",
    "    \n",
    "    l = matplotlib.dates.AutoDateLocator()\n",
    "    f = matplotlib.dates.ConciseDateFormatter(l)    \n",
    "    \n",
    "    ax.set_xticklabels(ax.get_xticks(), rotation = 45)\n",
    "    \n",
    "    locator = matplotlib.dates.AutoDateLocator()\n",
    "    formatter = matplotlib.dates.ConciseDateFormatter(locator)\n",
    "\n",
    "    ax.xaxis.set_major_locator(locator)\n",
    "    ax.xaxis.set_major_formatter(formatter)\n",
    "    \n",
    "    date_form = DateFormatter(\"%Y-%m-%d\")\n",
    "    ax.xaxis.set_major_formatter(date_form)\n",
    "    plt.show()"
   ]
  }
 ],
 "metadata": {
  "kernelspec": {
   "display_name": "Python 3 (ipykernel)",
   "language": "python",
   "name": "python3"
  },
  "language_info": {
   "codemirror_mode": {
    "name": "ipython",
    "version": 3
   },
   "file_extension": ".py",
   "mimetype": "text/x-python",
   "name": "python",
   "nbconvert_exporter": "python",
   "pygments_lexer": "ipython3",
   "version": "3.9.7"
  }
 },
 "nbformat": 4,
 "nbformat_minor": 5
}
