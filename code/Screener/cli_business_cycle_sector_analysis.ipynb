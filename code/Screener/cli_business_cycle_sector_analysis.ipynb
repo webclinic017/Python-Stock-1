{
 "cells": [
  {
   "cell_type": "code",
   "execution_count": 139,
   "id": "2c69845c-c469-4686-b06a-4b9d2a4b1432",
   "metadata": {},
   "outputs": [],
   "source": [
    "import numpy as np\n",
    "import pandas as pd\n",
    "from datetime import datetime\n",
    "from dateutil.relativedelta import relativedelta\n",
    "import matplotlib.pyplot as plt\n",
    "import matplotlib.transforms as mtransforms\n",
    "import pandas_datareader.data as pdr\n",
    "from cytoolz import sliding_window\n",
    "import pickle\n",
    "from itertools import groupby\n",
    "import yfinance as yf"
   ]
  },
  {
   "cell_type": "code",
   "execution_count": 2,
   "id": "eb860619-3523-4ecf-b99c-4f369ac72b6d",
   "metadata": {},
   "outputs": [],
   "source": [
    "def test_increasing_value(v):\n",
    "    if(v>0):\n",
    "        return 1\n",
    "    else:\n",
    "        return 0\n",
    "\n",
    "def test_decreasing_value(v):\n",
    "    if(v<0):\n",
    "        return 1\n",
    "    else:\n",
    "        return 0\n"
   ]
  },
  {
   "cell_type": "code",
   "execution_count": 134,
   "id": "14c95e72-eede-4d55-9415-74c42a2654ca",
   "metadata": {},
   "outputs": [],
   "source": [
    "dict_sectors = {'Basic Materials':'VAW', 'Communication Services':'VOX', 'Consumer Cyclical':'VCR',\n",
    "       'Consumer Defensive':'VDC', 'Energy':'VDE', 'Financial Services':'VFH', 'Healthcare':'VHT',\n",
    "       'Industrials':'VIS', 'Real Estate':'VNQ', 'Technology':'VGT', 'Utilities':'VPU', 'error':'error'}\n",
    "\n",
    "dict_indexes = {'SPTM':'SP1500', 'SPY':'SP500', 'SLY':'SP600', 'MDYG':'SP400','error':'error'}\n",
    "\n",
    "dict_sectors_reverse = {'VAW':'Basic Materials',\n",
    " 'VOX':'Communication Services',\n",
    " 'VCR':'Consumer Cyclical',\n",
    " 'VDC':'Consumer Defensive',\n",
    " 'VDE':'Energy',\n",
    " 'VFH':'Financial Services',\n",
    " 'VHT':'Healthcare',\n",
    " 'VIS':'Industrials',\n",
    " 'VNQ':'Real Estate',\n",
    " 'VGT':'Technology',\n",
    " 'VPU':'Utilities',\n",
    " 'error': 'error'}\n",
    "\n",
    "indexes = ['SPTM', 'SPY', 'SLY', 'MDYG']\n",
    "sectors = ['VOX', 'VCR', 'VDC', 'VDE', 'VFH', 'VHT', 'VIS', 'VGT', 'VAW',\n",
    "       'VNQ', 'VPU']"
   ]
  },
  {
   "cell_type": "code",
   "execution_count": null,
   "id": "87d66342-c1b7-47f1-be08-4a0b6dadae13",
   "metadata": {},
   "outputs": [],
   "source": []
  },
  {
   "cell_type": "code",
   "execution_count": 210,
   "id": "7337635b-8463-48e5-8a83-506ca08d9b37",
   "metadata": {},
   "outputs": [],
   "source": [
    "today = datetime.today().strftime('%Y-%m-%d')\n",
    "#today = end\n",
    "\n",
    "past = (datetime.strptime(today, '%Y-%m-%d') - relativedelta(months=64*4)).strftime('%Y-%m-%d')\n",
    "#past = start\n",
    "start = past\n",
    "end = today"
   ]
  },
  {
   "cell_type": "code",
   "execution_count": 211,
   "id": "2318e575-1614-4cee-bccf-2918562de6ed",
   "metadata": {},
   "outputs": [],
   "source": [
    "def getStock(npa):\n",
    "    symbol = npa[0]\n",
    "    start_=npa[1]\n",
    "    end_=npa[2]\n",
    "    \n",
    "    data_ = yf.download(symbol, start=start_,end=end_)\n",
    "  \n",
    "    return([symbol,data_])"
   ]
  },
  {
   "cell_type": "code",
   "execution_count": 212,
   "id": "01253548-829f-401e-95ee-d830545e1619",
   "metadata": {},
   "outputs": [],
   "source": [
    "#yf.download(sectors).dropna()"
   ]
  },
  {
   "cell_type": "code",
   "execution_count": 213,
   "id": "09dbb6ad-a1ee-43d3-9fd8-7f16498daa49",
   "metadata": {},
   "outputs": [
    {
     "name": "stdout",
     "output_type": "stream",
     "text": [
      "[*********************100%***********************]  1 of 1 completed\n",
      "[*********************100%***********************]  1 of 1 completed\n",
      "[*********************100%***********************]  1 of 1 completed\n",
      "[*********************100%***********************]  1 of 1 completed\n",
      "[*********************100%***********************]  1 of 1 completed\n",
      "[*********************100%***********************]  1 of 1 completed\n",
      "[*********************100%***********************]  1 of 1 completed\n",
      "[*********************100%***********************]  1 of 1 completed\n",
      "[*********************100%***********************]  1 of 1 completed\n",
      "[*********************100%***********************]  1 of 1 completed\n",
      "[*********************100%***********************]  1 of 1 completed\n",
      "[*********************100%***********************]  1 of 1 completed\n",
      "[*********************100%***********************]  1 of 1 completed\n",
      "[*********************100%***********************]  1 of 1 completed\n",
      "[*********************100%***********************]  1 of 1 completed\n"
     ]
    }
   ],
   "source": [
    "\n",
    "prices_df = pd.DataFrame()\n",
    "for f in [*indexes,*sectors]:\n",
    "    temp = getStock([f,start,end])\n",
    "    temp_df = temp[1]\n",
    "    temp_df['Symbol'] = temp[0]\n",
    "    prices_df = pd.concat([prices_df,temp_df],axis=0)"
   ]
  },
  {
   "cell_type": "code",
   "execution_count": 328,
   "id": "49ef6f85-4313-4e94-9f0c-d7b04ade4434",
   "metadata": {},
   "outputs": [],
   "source": [
    "def highlight_cells(val,threshold):\n",
    "    color = 'yellow' if val < threshold else ''\n",
    "    return 'background-color: {}'.format(color)"
   ]
  },
  {
   "cell_type": "code",
   "execution_count": 215,
   "id": "757c8a58-a031-47a7-a053-adb5ad5c7995",
   "metadata": {},
   "outputs": [],
   "source": [
    "si = ['03-31','06-30','09-30','12-31']\n",
    "               \n",
    "#[start,end, prices_df, sp1500_index_df, sp500, sp600, sp400, market_data, completed_fred_pvt, completed_bonds, completed_bonds_pvt, sectors, indexes, screener_sorted] = pickle.load(open('./data_object.pkl', 'rb'))\n",
    "\n",
    "#prices = prices_df\n",
    "#prices = pd.read_excel('SP1500_screener_multiple.xlsx',sheet_name=\"SP1500_Sectors_Indexes_Prices\")"
   ]
  },
  {
   "cell_type": "code",
   "execution_count": null,
   "id": "a70ba93b-eb19-4161-9cb6-da501ac988d5",
   "metadata": {},
   "outputs": [],
   "source": []
  },
  {
   "cell_type": "code",
   "execution_count": null,
   "id": "c00cac61-82d0-4c60-8eb8-f9a139b3d7bd",
   "metadata": {},
   "outputs": [],
   "source": []
  },
  {
   "cell_type": "code",
   "execution_count": 216,
   "id": "667f2f9b-3cf4-4e70-8d80-e34d536de11b",
   "metadata": {},
   "outputs": [],
   "source": [
    "indexes_df = pd.DataFrame()\n",
    "\n",
    "for s in indexes:\n",
    "    indexes_df = pd.concat([prices_df[prices_df['Symbol'] == s][['Adj Close']],indexes_df],axis=1)\n",
    "    \n",
    "indexes_df.columns = indexes\n",
    "\n",
    "indexes_df_qtr_pvt = indexes_df.asfreq('d').interpolate().resample('Q').mean().pct_change()\n",
    "\n",
    "sectors_df = pd.DataFrame()\n",
    "\n",
    "for s in sectors:\n",
    "    sectors_df = pd.concat([prices_df[prices_df['Symbol'] == s][['Adj Close']],sectors_df],axis=1)\n",
    "    \n",
    "sectors_df.columns = sectors\n",
    "\n",
    "sectors_df_qtr_pvt = sectors_df.asfreq('D').interpolate().resample('Q').mean()\n",
    "\n",
    "combined_indexes_sectors_df = pd.concat([indexes_df_qtr_pvt,sectors_df_qtr_pvt],axis=1)\n",
    "combined_indexes_sectors_return_pvt_df = combined_indexes_sectors_df.asfreq('d').interpolate().resample('Q').mean().pct_change().dropna()"
   ]
  },
  {
   "cell_type": "code",
   "execution_count": null,
   "id": "1816922a-1ebc-475f-8542-5fc51b418f71",
   "metadata": {},
   "outputs": [],
   "source": []
  },
  {
   "cell_type": "code",
   "execution_count": 217,
   "id": "ea53fe08-93d6-4b6a-adde-9dcb3890b060",
   "metadata": {},
   "outputs": [],
   "source": [
    "cli_df = pd.read_csv(\"https://stats.oecd.org/sdmx-json/data/DP_LIVE/.CLI.../OECD?contentType=csv&detail=USA&separator=comma&csv-lang=en\")\n",
    "#cli_df = pd.read_csv(\"https://stats.oecd.org/sdmx-json/data/DP_LIVE/.CLI.../OECD?contentType=csv&detail=code&separator=comma&csv-lang=en\")"
   ]
  },
  {
   "cell_type": "code",
   "execution_count": 218,
   "id": "0a1b455b-a339-433f-b3d0-13af42ac113a",
   "metadata": {},
   "outputs": [],
   "source": [
    "bci_df = pd.read_csv(\"https://stats.oecd.org/sdmx-json/data/DP_LIVE/.BCI.../OECD?contentType=csv&detail=code&separator=comma&csv-lang=en\")"
   ]
  },
  {
   "cell_type": "code",
   "execution_count": 219,
   "id": "048dc4b4-c36f-47b8-88ee-a55b1e0d4571",
   "metadata": {},
   "outputs": [],
   "source": [
    "cci_df = pd.read_csv(\"https://stats.oecd.org/sdmx-json/data/DP_LIVE/.CCI.../OECD?contentType=csv&detail=code&separator=comma&csv-lang=en\")"
   ]
  },
  {
   "cell_type": "code",
   "execution_count": 220,
   "id": "451bbf30-9909-4720-a25a-59fc3536ed0e",
   "metadata": {},
   "outputs": [
    {
     "data": {
      "text/plain": [
       "array(['AUS', 'AUT', 'BEL', 'BRA', 'CHE', 'CHL', 'CHN', 'COL', 'CRI',\n",
       "       'CZE', 'DEU', 'DNK', 'EA19', 'ESP', 'EST', 'FIN', 'FRA', 'G-7',\n",
       "       'GBR', 'GRC', 'HUN', 'IDN', 'IRL', 'ISR', 'ITA', 'JPN', 'KOR',\n",
       "       'LTU', 'LUX', 'LVA', 'MEX', 'NLD', 'NZL', 'OECD', 'OECDE', 'POL',\n",
       "       'PRT', 'RUS', 'SVK', 'SVN', 'SWE', 'TUR', 'USA', 'ZAF'],\n",
       "      dtype=object)"
      ]
     },
     "execution_count": 220,
     "metadata": {},
     "output_type": "execute_result"
    }
   ],
   "source": [
    "np.unique(cci_df.LOCATION)"
   ]
  },
  {
   "cell_type": "code",
   "execution_count": 221,
   "id": "36f2e20f-e511-4474-9f57-c1fe8adb2efd",
   "metadata": {},
   "outputs": [],
   "source": [
    "bci_df_USA = bci_df[bci_df['LOCATION']=='USA']\n",
    "bci_df_USA.index = bci_df_USA[bci_df_USA['LOCATION']=='USA'].set_index('TIME').index.map(lambda t: datetime.strptime(t,'%Y-%m'))\n",
    "cci_df_USA = cci_df[cci_df['LOCATION']=='USA']\n",
    "cci_df_USA.index = cci_df_USA[cci_df_USA['LOCATION']=='USA'].set_index('TIME').index.map(lambda t: datetime.strptime(t,'%Y-%m'))\n",
    "cli_df_USA = cli_df[cli_df['LOCATION']=='USA']\n",
    "cli_df_USA.index = cli_df_USA[cli_df_USA['LOCATION']=='USA'].set_index('TIME').index.map(lambda t: datetime.strptime(t,'%Y-%m'))"
   ]
  },
  {
   "cell_type": "code",
   "execution_count": null,
   "id": "c93485e4-5cff-4111-adfe-7ead0c32c480",
   "metadata": {},
   "outputs": [],
   "source": []
  },
  {
   "cell_type": "code",
   "execution_count": 251,
   "id": "56043983-68e6-480d-b363-d1de5d5478f1",
   "metadata": {},
   "outputs": [
    {
     "data": {
      "text/html": [
       "<div>\n",
       "<style scoped>\n",
       "    .dataframe tbody tr th:only-of-type {\n",
       "        vertical-align: middle;\n",
       "    }\n",
       "\n",
       "    .dataframe tbody tr th {\n",
       "        vertical-align: top;\n",
       "    }\n",
       "\n",
       "    .dataframe thead th {\n",
       "        text-align: right;\n",
       "    }\n",
       "</style>\n",
       "<table border=\"1\" class=\"dataframe\">\n",
       "  <thead>\n",
       "    <tr style=\"text-align: right;\">\n",
       "      <th></th>\n",
       "      <th>USPHCI</th>\n",
       "    </tr>\n",
       "    <tr>\n",
       "      <th>DATE</th>\n",
       "      <th></th>\n",
       "    </tr>\n",
       "  </thead>\n",
       "  <tbody>\n",
       "    <tr>\n",
       "      <th>1979-03-31</th>\n",
       "      <td>45.615333</td>\n",
       "    </tr>\n",
       "    <tr>\n",
       "      <th>1979-06-30</th>\n",
       "      <td>46.099286</td>\n",
       "    </tr>\n",
       "    <tr>\n",
       "      <th>1979-09-30</th>\n",
       "      <td>46.416033</td>\n",
       "    </tr>\n",
       "    <tr>\n",
       "      <th>1979-12-31</th>\n",
       "      <td>46.686957</td>\n",
       "    </tr>\n",
       "    <tr>\n",
       "      <th>1980-03-31</th>\n",
       "      <td>46.877253</td>\n",
       "    </tr>\n",
       "    <tr>\n",
       "      <th>...</th>\n",
       "      <td>...</td>\n",
       "    </tr>\n",
       "    <tr>\n",
       "      <th>2021-06-30</th>\n",
       "      <td>126.872088</td>\n",
       "    </tr>\n",
       "    <tr>\n",
       "      <th>2021-09-30</th>\n",
       "      <td>128.917283</td>\n",
       "    </tr>\n",
       "    <tr>\n",
       "      <th>2021-12-31</th>\n",
       "      <td>130.927500</td>\n",
       "    </tr>\n",
       "    <tr>\n",
       "      <th>2022-03-31</th>\n",
       "      <td>132.547167</td>\n",
       "    </tr>\n",
       "    <tr>\n",
       "      <th>2022-06-30</th>\n",
       "      <td>133.170000</td>\n",
       "    </tr>\n",
       "  </tbody>\n",
       "</table>\n",
       "<p>174 rows × 1 columns</p>\n",
       "</div>"
      ],
      "text/plain": [
       "                USPHCI\n",
       "DATE                  \n",
       "1979-03-31   45.615333\n",
       "1979-06-30   46.099286\n",
       "1979-09-30   46.416033\n",
       "1979-12-31   46.686957\n",
       "1980-03-31   46.877253\n",
       "...                ...\n",
       "2021-06-30  126.872088\n",
       "2021-09-30  128.917283\n",
       "2021-12-31  130.927500\n",
       "2022-03-31  132.547167\n",
       "2022-06-30  133.170000\n",
       "\n",
       "[174 rows x 1 columns]"
      ]
     },
     "execution_count": 251,
     "metadata": {},
     "output_type": "execute_result"
    }
   ],
   "source": []
  },
  {
   "cell_type": "code",
   "execution_count": null,
   "id": "4f64e6e4-21ae-4710-ae14-96296fedae11",
   "metadata": {},
   "outputs": [],
   "source": []
  },
  {
   "cell_type": "code",
   "execution_count": 282,
   "id": "56751056-0f82-4601-892c-8125911b626f",
   "metadata": {},
   "outputs": [
    {
     "data": {
      "image/png": "[encoded data removed]",
      "text/plain": [
       "<Figure size 2160x288 with 2 Axes>"
      ]
     },
     "metadata": {
      "needs_background": "light"
     },
     "output_type": "display_data"
    }
   ],
   "source": [
    "USALOLITONOSTSAM = pdr.DataReader('USALOLITONOSTSAM','fred','1955-01-01',end)-100\n",
    "\n",
    "USPHCI = pdr.DataReader('USPHCI','fred','1955-01-01',end)\n",
    "#USPHCI_signal = USPHCI.rolling(4).mean()-USPHCI.rolling(12*4).mean()\n",
    "\n",
    "GDP = pdr.DataReader('USPHCI','fred','1955-01-01',end)\n",
    "\"\"\"\n",
    "signal = USALOLITONOSTSAM['USALOLITONOSTSAM']\n",
    "\n",
    "Recovery = (signal<0)*(signal.pct_change(1)>0)\n",
    "Expansion = (signal>0)*(signal.pct_change(1)>0)\n",
    "Slowdown = (signal>0)*(signal.pct_change(1)<0)\n",
    "Recession = (signal<0)*(signal.pct_change(1)<0)\n",
    "\"\"\"\n",
    "#combined_leading = pd.concat([cli_df_USA['Value']-100,USALOLITONOSTSAM],axis=1)\n",
    "#combined_leading = pd.concat([cli_df_USA['Value'],USALOLITONOSTSAM+100],axis=1)\n",
    "combined_leading = pd.concat([USPHCI,GDP],axis=1)\n",
    "\n",
    "#signal = combined_leading.mean(axis=1)\n",
    "#signal = combined_leading.mean(axis=1).asfreq('d').interpolate().asfreq('q')\n",
    "#signal = combined_leading.mean(axis=1).asfreq('d').interpolate().resample('Q').mean()\n",
    "modified = combined_leading.mean(axis=1).asfreq('d').interpolate().resample('Q').mean()\n",
    "\n",
    "#QTR_SMA = cli_df_USA['Value'].rolling(3).mean()\n",
    "\n",
    "fig, ax1 = plt.subplots( figsize=(30,4) )\n",
    "\n",
    "\n",
    "#plt.plot(signal1)\n",
    "\n",
    "ax2 = ax1.twinx()\n",
    "\n",
    "signal = GDP.asfreq('D').interpolate().resample('Q').mean().pct_change(4)\n",
    "#signal = modified.pct_change(4)\n",
    "\n",
    "ST_SMA = signal.rolling(4).mean()\n",
    "LT_SMA = signal.rolling(4*4).mean()\n",
    "#signal = ST_SMA - LT_SMA\n",
    "#signal_ = ST_SMA-LT_SMA\n",
    "\n",
    "ax1.plot(signal)\n",
    "#ax2.plot(signal_)\n",
    "\n",
    "ax1.axhline(y = 0, color = 'r', linestyle = '-')\n",
    "\n",
    "#troughs\n",
    "troughs = signal.rolling(4*4).min()\n",
    "#plt.plot(troughs)\n",
    "#troughs = trough\n",
    "\n",
    "#peaks\n",
    "peaks = signal.rolling(4*4).max()\n",
    "#plt.plot(peaks)\n",
    "#peaks = peak\n",
    "\n",
    "#plt.plot(combined_leading)\n",
    "#plt.plot(signal_MACD)\n",
    "#plt.show()"
   ]
  },
  {
   "cell_type": "code",
   "execution_count": 254,
   "id": "0954891b-f88c-43e0-a779-4f579105e826",
   "metadata": {},
   "outputs": [],
   "source": [
    "#cli_range_df = cli_df_USA[(cli_df_USA.index<=today) & (cli_df_USA.index>=past)]"
   ]
  },
  {
   "cell_type": "code",
   "execution_count": null,
   "id": "96dc6755-c9c5-409a-9f5b-7372ada2df01",
   "metadata": {},
   "outputs": [],
   "source": []
  },
  {
   "cell_type": "code",
   "execution_count": null,
   "id": "55b2967e-1a6e-469f-9896-f9877e501535",
   "metadata": {},
   "outputs": [],
   "source": []
  },
  {
   "cell_type": "code",
   "execution_count": null,
   "id": "9bf49f96-1af9-4838-a887-2e2f991dbee5",
   "metadata": {},
   "outputs": [],
   "source": []
  },
  {
   "cell_type": "code",
   "execution_count": null,
   "id": "87b8878c-95c2-48fa-af62-8d0eecfcd83a",
   "metadata": {},
   "outputs": [],
   "source": []
  },
  {
   "cell_type": "code",
   "execution_count": 255,
   "id": "d7adc4bb-b1e6-4a30-8f40-cc1de5214ec0",
   "metadata": {},
   "outputs": [],
   "source": [
    "#plt.plot(USPHCI.pct_change())"
   ]
  },
  {
   "cell_type": "code",
   "execution_count": null,
   "id": "1ac39e12-0dc8-4e47-93a9-c3c89c782aa3",
   "metadata": {},
   "outputs": [],
   "source": []
  },
  {
   "cell_type": "code",
   "execution_count": 256,
   "id": "a2e6a089-c5b2-40e1-9bd0-288503932bcd",
   "metadata": {},
   "outputs": [
    {
     "data": {
      "text/plain": [
       "\"\\nslowdown = (business_cycle['ST_SMA']<business_cycle['ST_SMA'].shift(1))& (expansion==False) & (recovery==False) & (business_cycle['signal']<business_cycle['peak'])# & (business_cycle['signal']!=business_cycle['troughs'])#\\nnp.sum(slowdown)\\n\""
      ]
     },
     "execution_count": 256,
     "metadata": {},
     "output_type": "execute_result"
    }
   ],
   "source": [
    "\"\"\"\n",
    "slowdown = (business_cycle['ST_SMA']<business_cycle['ST_SMA'].shift(1))& (expansion==False) & (recovery==False) & (business_cycle['signal']<business_cycle['peak'])# & (business_cycle['signal']!=business_cycle['troughs'])#\n",
    "np.sum(slowdown)\n",
    "\"\"\""
   ]
  },
  {
   "cell_type": "code",
   "execution_count": null,
   "id": "5910f7dc-c151-4f84-a5e5-b89ce0289a52",
   "metadata": {},
   "outputs": [],
   "source": []
  },
  {
   "cell_type": "code",
   "execution_count": null,
   "id": "12074826-8fcd-4115-8034-78516131f4ec",
   "metadata": {},
   "outputs": [],
   "source": []
  },
  {
   "cell_type": "code",
   "execution_count": null,
   "id": "120bbc9d-899c-4714-bd24-1ef3c047de5e",
   "metadata": {},
   "outputs": [],
   "source": []
  },
  {
   "cell_type": "code",
   "execution_count": 288,
   "id": "4fd677ce-1925-4e33-aaa4-c37eab3c9f21",
   "metadata": {},
   "outputs": [],
   "source": [
    "business_cycle = pd.concat([signal,troughs,peaks,ST_SMA,LT_SMA],axis=1)\n",
    "business_cycle.columns = [\"signal\",\"troughs\",\"peaks\",\"ST_SMA\",\"LT_SMA\"]\n",
    "\n",
    "if(True):\n",
    "    #expansion = (business_cycle['ST_SMA']>business_cycle['LT_SMA'])&(business_cycle['ST_SMA']>0)\n",
    "    expansion = (business_cycle['signal']>business_cycle['signal'].shift(1))&(business_cycle['signal']>0)\n",
    "    #expansion = (business_cycle['signal']==business_cycle['peaks'])&(business_cycle['signal']>0)\n",
    "    \n",
    "    #expansion = (business_cycle['ST_SMA'].pct_change()>0)&(business_cycle['signal']>0)\n",
    "    \n",
    "    recovery = (business_cycle['signal']>business_cycle['signal'].shift(1))&(business_cycle['signal']<0)\n",
    "    #recovery = (business_cycle['ST_SMA'].pct_change()>0)&(business_cycle['signal']<0)\n",
    "    \n",
    "    #recession = (business_cycle['ST_SMA']>business_cycle['LT_SMA'])&(business_cycle['ST_SMA']<0)\n",
    "    recession = (business_cycle['signal']<business_cycle['signal'].shift(1))&(business_cycle['signal']<0)\n",
    "    #recession = (business_cycle['ST_SMA'].pct_change()<0)&(business_cycle['signal']<0)\n",
    "    slowdown = (business_cycle['signal']<business_cycle['signal'].shift(1))&(business_cycle['signal']>0)\n",
    "    #slowdown = (business_cycle['signal']<business_cycle['peaks'])&(business_cycle['signal']>0)\n",
    "    #slowdown = (business_cycle['ST_SMA'].pct_change()<0)&(business_cycle['signal']>0)\n",
    "\n",
    "if(False):\n",
    "    expansion = (business_cycle['ST_SMA']>business_cycle['LT_SMA']) #& (business_cycle['signal']==business_cycle['peak'])\n",
    "    #recovery = (business_cycle['ST_SMA']>business_cycle['ST_SMA'].shift(1)) & (business_cycle['signal']>business_cycle['troughs']) & (business_cycle['ST_SMA']<business_cycle['LT_SMA']) #& (business_cycle['ST_SMA']<business_cycle['LT_SMA'])\n",
    "    recovery = (expansion==False) & (business_cycle['signal']>business_cycle['troughs'])\n",
    "    expansion = (expansion) & (recovery==False) \n",
    "    #expansion = (business_cycle['ST_SMA']>business_cycle['LT_SMA'])\n",
    "    #slowdown = (combined['ST_SMA']>combined['LT_SMA']) & (combined['signal']<combined['peak'])\n",
    "\n",
    "    #slowdown = (business_cycle['ST_SMA']<business_cycle['ST_SMA'].shift(1)) & (expansion==False) & (recovery==False) & (business_cycle['signal']<business_cycle['peak']) & (business_cycle['signal']!=business_cycle['troughs'])\n",
    "    slowdown = (business_cycle['ST_SMA']<business_cycle['ST_SMA'].shift(1))& (expansion==False) & (recovery==False) & (business_cycle['signal']<business_cycle['peak'])# & (business_cycle['signal']!=business_cycle['troughs'])#\n",
    "    np.sum(slowdown)\n",
    "    #recession = (combined['ST_SMA']<combined['LT_SMA']) & (combined['signal']==combined['troughs'])\n",
    "    #if yesterday's difference less than today's difference\n",
    "    #recession = (business_cycle['ST_SMA']<business_cycle['LT_SMA']) & (business_cycle['signal']==business_cycle['troughs']) & (business_cycle['signal']<business_cycle['signal'].shift(1)) & (abs(business_cycle['signal'].pct_change())>abs(business_cycle['signal'].pct_change().shift(1)))\n",
    "\n",
    "    #recession = ((business_cycle['peak']-business_cycle['troughs'])>(business_cycle['peak']-business_cycle['troughs']).shift(1)) & (business_cycle['signal'] < business_cycle['signal'].shift(1)) & (abs(business_cycle['signal'].diff())>(abs(business_cycle['signal'].shift(1).diff()))**2) & (business_cycle['signal']<business_cycle['ST_SMA']) & (((business_cycle['signal']<business_cycle['ST_SMA']) & ((business_cycle['ST_SMA']-business_cycle['signal'])>(((business_cycle['ST_SMA']-business_cycle['signal']).shift(1))))))\n",
    "    recession = ((business_cycle['signal']==business_cycle['troughs'])&((business_cycle['ST_SMA']-business_cycle['signal'])/(business_cycle['peak']-business_cycle['signal'])>.25)) #\\\n",
    "    \"\"\"\n",
    "    &\\\n",
    "    ((business_cycle['signal'].pct_change()/business_cycle['signal'].pct_change().shift(1))>1.5)\n",
    "    \"\"\"\n",
    "    \"\"\"\n",
    "    &\\\n",
    "    ((business_cycle['LT_SMA']-business_cycle['ST_SMA'])>(business_cycle['LT_SMA']-business_cycle['ST_SMA']).shift(1))\\\n",
    "    &((business_cycle['ST_SMA']-business_cycle['signal'])>(business_cycle['ST_SMA']-business_cycle['signal']).shift(1))\\\n",
    "    &((business_cycle['peak']-business_cycle['LT_SMA'])>(business_cycle['peak']-business_cycle['LT_SMA']).shift(1))\\\n",
    "    &((business_cycle['peak']-business_cycle['troughs'])>(business_cycle['peak']-business_cycle['troughs']).shift(1))\\\n",
    "    \"\"\"\n",
    "    #&(business_cycle['signal'].pct_change()<-.25)\n",
    "\n",
    "    #& ((business_cycle['peak']-business_cycle['troughs'])>(business_cycle['peak']-business_cycle['troughs']).shift(1)) & (business_cycle['signal'] < business_cycle['signal'].shift(1)) & (abs(business_cycle['signal'].diff())>(abs(business_cycle['signal'].shift(1).diff()))**2) & (business_cycle['signal']<business_cycle['ST_SMA']) & (((business_cycle['signal']<business_cycle['ST_SMA']) & ((business_cycle['ST_SMA']-business_cycle['signal'])>(((business_cycle['ST_SMA']-business_cycle['signal']).shift(1))))))\n",
    "\n",
    "    #recession = (business_cycle['troughs']<business_cycle['troughs'].shift(1))&(abs(business_cycle['troughs'].pct_change())>abs(business_cycle['troughs'].pct_change()).shift(1))\n",
    "    #((business_cycle['signal']<business_cycle['ST_SMA'])&(abs(business_cycle['signal']<business_cycle['ST_SMA']))>(abs(business_cycle['LT_SMA']-business_cycle['ST_SMA'])))\n",
    "\n",
    "    #recession = (business_cycle['ST_SMA']<business_cycle['LT_SMA']) & (business_cycle['signal']<business_cycle['signal'].shift(1)) & (abs(business_cycle['signal'].pct_change())>abs(2*business_cycle['signal'].pct_change().shift(1))) & (business_cycle['ST_SMA']<business_cycle['ST_SMA'].shift(1)) & (abs(business_cycle['ST_SMA'].pct_change())>abs(business_cycle['ST_SMA'].pct_change().shift(1))) \\\n",
    "    #& ((business_cycle['peak']-business_cycle['troughs'])>(business_cycle['peak']-business_cycle['troughs']).shift(1))\n",
    "    slowdown = (slowdown) & (slowdown!=recession) & (slowdown!=recovery) & (slowdown!=expansion)\n",
    "\n",
    "business_cycle = pd.concat([business_cycle,recovery,expansion,slowdown,recession],axis=1)\n",
    "business_cycle = business_cycle.dropna()\n",
    "business_cycle.columns = [*business_cycle.columns[0:5],'recovery','expansion','slowdown','recession']\n",
    "#slowdown = combined['ST_SMA']<combined['LT_SMA']\n",
    "    \n"
   ]
  },
  {
   "cell_type": "code",
   "execution_count": 289,
   "id": "0c248b8f-7207-4407-823d-ddce8b6cc687",
   "metadata": {},
   "outputs": [
    {
     "data": {
      "text/plain": [
       "\"\\n#The LEI Index YoY changes are positive and above long-term trends\\n#Expansion = (cli_df_USA['Value']>LT_SMA) * (ST_SMA.pct_change()>0) * (cli_df_USA['Value']>cli_df_USA['Value'].shift(1))\\n\\n#***\\n#Expansion = (signal>LT_SMA) * (ST_SMA.pct_change()>0) * (signal>signal.shift(1))\\n\\n#Expansion = (signal>LT_SMA) * np.logical_or(((ST_SMA>LT_SMA).values),((ST_SMA.pct_change()>0).values))# * (signal>signal.shift(1))\\nExpansion =  (signal>signal.shift(1)) * np.logical_or(((ST_SMA>LT_SMA).values),((ST_SMA.pct_change()>0).values))# *\\nnp.sum(Expansion)\\n\\n#Recovery = (cli_df_USA['Value'] > troughs) * (cli_df_USA['Value']<LT_SMA) * (cli_df_USA['Value']>cli_df_USA['Value'].shift(1))\\nRecovery = (signal > troughs) * (signal>signal.shift(1)) * (Expansion==0) * (signal<LT_SMA)\\nnp.sum(Recovery)\\n\\nprint(np.sum(Recovery*Expansion))\\n\\nDeclining = ((Recovery!=1)*(Expansion!=1))\\nprint(np.sum(Declining))\\n\\n###Recession\\n\\ntoday_minus_yesterday = signal-signal.shift(1)\\n\\nyesterday_minus_today = signal.shift(1)-signal\\n\\n#rapidly declines to a troughs\\n\\n#today is less than yesterday\\n#at an accelerating pace OR\\n    #yesterday was receding\\n#Recession = ((today_minus_yesterday<0) * ((np.abs(today_minus_yesterday)>np.abs(today_minus_yesterday.shift(1))).values|(today_minus_yesterday.shift(1)<0).values)) # * (signal == troughs))\\nRecession = ((today_minus_yesterday<0) * ((np.abs(today_minus_yesterday)>np.abs(today_minus_yesterday.shift(1))).values)) * (signal == troughs)\\n\\nprint(np.sum(Recession))\\n\\n#prior_recession = [1 if a[0] else 0 for a in (Recession.shift(1)==1).values]\\n\\nNot_recession = (Recession==0)*(Recovery==0)*(Expansion==0)#*(signal<peak)\\nSlowdown = Not_recession\\nprint(Slowdown)\\n\\n#Slowdown = (ST_SMA < peaks)\\n#recession = Recession\\n#slowdown = Slowdown\\n#recovery = Recovery\\n#expansion = Expansion\\n\""
      ]
     },
     "execution_count": 289,
     "metadata": {},
     "output_type": "execute_result"
    }
   ],
   "source": [
    "\"\"\"\n",
    "#The LEI Index YoY changes are positive and above long-term trends\n",
    "#Expansion = (cli_df_USA['Value']>LT_SMA) * (ST_SMA.pct_change()>0) * (cli_df_USA['Value']>cli_df_USA['Value'].shift(1))\n",
    "\n",
    "#***\n",
    "#Expansion = (signal>LT_SMA) * (ST_SMA.pct_change()>0) * (signal>signal.shift(1))\n",
    "\n",
    "#Expansion = (signal>LT_SMA) * np.logical_or(((ST_SMA>LT_SMA).values),((ST_SMA.pct_change()>0).values))# * (signal>signal.shift(1))\n",
    "Expansion =  (signal>signal.shift(1)) * np.logical_or(((ST_SMA>LT_SMA).values),((ST_SMA.pct_change()>0).values))# *\n",
    "np.sum(Expansion)\n",
    "\n",
    "#Recovery = (cli_df_USA['Value'] > troughs) * (cli_df_USA['Value']<LT_SMA) * (cli_df_USA['Value']>cli_df_USA['Value'].shift(1))\n",
    "Recovery = (signal > troughs) * (signal>signal.shift(1)) * (Expansion==0) * (signal<LT_SMA)\n",
    "np.sum(Recovery)\n",
    "\n",
    "print(np.sum(Recovery*Expansion))\n",
    "\n",
    "Declining = ((Recovery!=1)*(Expansion!=1))\n",
    "print(np.sum(Declining))\n",
    "\n",
    "###Recession\n",
    "\n",
    "today_minus_yesterday = signal-signal.shift(1)\n",
    "\n",
    "yesterday_minus_today = signal.shift(1)-signal\n",
    "\n",
    "#rapidly declines to a troughs\n",
    "\n",
    "#today is less than yesterday\n",
    "#at an accelerating pace OR\n",
    "    #yesterday was receding\n",
    "#Recession = ((today_minus_yesterday<0) * ((np.abs(today_minus_yesterday)>np.abs(today_minus_yesterday.shift(1))).values|(today_minus_yesterday.shift(1)<0).values)) # * (signal == troughs))\n",
    "Recession = ((today_minus_yesterday<0) * ((np.abs(today_minus_yesterday)>np.abs(today_minus_yesterday.shift(1))).values)) * (signal == troughs)\n",
    "\n",
    "print(np.sum(Recession))\n",
    "\n",
    "#prior_recession = [1 if a[0] else 0 for a in (Recession.shift(1)==1).values]\n",
    "\n",
    "Not_recession = (Recession==0)*(Recovery==0)*(Expansion==0)#*(signal<peak)\n",
    "Slowdown = Not_recession\n",
    "print(Slowdown)\n",
    "\n",
    "#Slowdown = (ST_SMA < peaks)\n",
    "#recession = Recession\n",
    "#slowdown = Slowdown\n",
    "#recovery = Recovery\n",
    "#expansion = Expansion\n",
    "\"\"\""
   ]
  },
  {
   "cell_type": "code",
   "execution_count": null,
   "id": "fccc73d2-dddd-4bd4-9248-841f70a28ac0",
   "metadata": {},
   "outputs": [],
   "source": []
  },
  {
   "cell_type": "code",
   "execution_count": 290,
   "id": "026d7cff-bb8c-4f4d-9946-ffd99fb7366e",
   "metadata": {},
   "outputs": [
    {
     "data": {
      "text/plain": [
       "\"\\nnp.sum(((business_cycle['LT_SMA']-business_cycle['ST_SMA'])>(business_cycle['LT_SMA']-business_cycle['ST_SMA']).shift(1))&((business_cycle['ST_SMA']-business_cycle['signal'])>(business_cycle['ST_SMA']-business_cycle['signal']).shift(1))&((business_cycle['peak']-business_cycle['LT_SMA'])>(business_cycle['peak']-business_cycle['LT_SMA']).shift(1))&((business_cycle['peak']-business_cycle['troughs'])>(business_cycle['peak']-business_cycle['troughs']).shift(1))      )\\n\""
      ]
     },
     "execution_count": 290,
     "metadata": {},
     "output_type": "execute_result"
    }
   ],
   "source": [
    "\"\"\"\n",
    "np.sum(\\\n",
    "((business_cycle['LT_SMA']-business_cycle['ST_SMA'])>(business_cycle['LT_SMA']-business_cycle['ST_SMA']).shift(1))\\\n",
    "&((business_cycle['ST_SMA']-business_cycle['signal'])>(business_cycle['ST_SMA']-business_cycle['signal']).shift(1))\\\n",
    "&((business_cycle['peak']-business_cycle['LT_SMA'])>(business_cycle['peak']-business_cycle['LT_SMA']).shift(1))\\\n",
    "&((business_cycle['peak']-business_cycle['troughs'])>(business_cycle['peak']-business_cycle['troughs']).shift(1))\\\n",
    "      )\n",
    "\"\"\""
   ]
  },
  {
   "cell_type": "code",
   "execution_count": 291,
   "id": "5823633b-1f25-4a66-bcc9-f8efd076dec3",
   "metadata": {},
   "outputs": [],
   "source": [
    "#(business_cycle['signal']<business_cycle['ST_SMA']) & (business_cycle['ST_SMA']-business_cycle['signal'])>(2*((business_cycle['ST_SMA']-business_cycle['signal']).shift(1)))"
   ]
  },
  {
   "cell_type": "code",
   "execution_count": null,
   "id": "c218efa7-1933-4d6c-9fb1-12de1fabeffb",
   "metadata": {},
   "outputs": [],
   "source": []
  },
  {
   "cell_type": "code",
   "execution_count": 292,
   "id": "f606064c-f793-4a60-ba21-1c15ebd53ca2",
   "metadata": {},
   "outputs": [],
   "source": [
    "#plt.plot(business_cycle['signal'].pct_change())"
   ]
  },
  {
   "cell_type": "code",
   "execution_count": 293,
   "id": "689b5fe3-c62a-40fe-b139-30c4622b4a5b",
   "metadata": {},
   "outputs": [],
   "source": [
    "#business_cycle['signal'][business_cycle['signal'].index>'2020-01-01'].pct_change().head(30)"
   ]
  },
  {
   "cell_type": "code",
   "execution_count": 294,
   "id": "6fb95a61-234d-436b-a417-cd82301afc24",
   "metadata": {},
   "outputs": [
    {
     "data": {
      "image/png": "[encoded data removed]",
      "text/plain": [
       "<Figure size 2160x288 with 2 Axes>"
      ]
     },
     "metadata": {
      "needs_background": "light"
     },
     "output_type": "display_data"
    }
   ],
   "source": [
    "fig, ax1 = plt.subplots( figsize=(30,4) )\n",
    "#plt.plot(cli_df_USA['Value'])\n",
    "ax1.plot(business_cycle['signal'])\n",
    "\n",
    "ax1.plot(business_cycle['peaks'])\n",
    "ax1.plot(business_cycle['troughs'])\n",
    "ax1.plot(business_cycle['ST_SMA'])\n",
    "ax1.plot(business_cycle['LT_SMA'])\n",
    "ax1.axhline(y = 0, color = 'black', linestyle = '--')\n",
    "ax1.legend(['current','peaks','troughs','ST_SMA','LT_SMA'],loc=1)\n",
    "#plt.legend(['current','ST_SMA','LT_SMA'],loc=1)\n",
    "\n",
    "ax2 = ax1.twinx()\n",
    "\n",
    "trans = mtransforms.blended_transform_factory(ax2.transData, ax2.transAxes)\n",
    "\n",
    "ax2.vlines((recovery == 1).index[(recovery == 1).values],color='blue', alpha=0.33, ymin=0, ymax=1, colors=None, linestyles='solid',label='Recovery')\n",
    "ax2.vlines((expansion == 1).index[(expansion == 1).values],color='green', alpha=0.33, ymin=0, ymax=1, colors=None, linestyles='solid',label='Expansion')\n",
    "ax2.vlines((slowdown == 1).index[(slowdown == 1).values],color='orange', alpha=0.33, ymin=0, ymax=1, colors=None, linestyles='solid',label='Slowdown')\n",
    "ax2.vlines((recession == 1).index[(recession == 1).values],color='red', alpha=0.33, ymin=0, ymax=1, colors=None, linestyles='solid',label='Recession')\n",
    "\n",
    "ax2.legend(['Recovery','Expansion','Slowdown','Recession'],loc=3)\n",
    "plt.show()"
   ]
  },
  {
   "cell_type": "code",
   "execution_count": 295,
   "id": "2c3e4288-b824-4584-98a3-2f5c3bb3779a",
   "metadata": {
    "tags": []
   },
   "outputs": [
    {
     "data": {
      "image/png": "[encoded data removed]",
      "text/plain": [
       "<Figure size 2160x288 with 2 Axes>"
      ]
     },
     "metadata": {
      "needs_background": "light"
     },
     "output_type": "display_data"
    }
   ],
   "source": [
    "fig, ax1 = plt.subplots( figsize=(30,4) )\n",
    "#plt.plot(cli_df_USA['Value'])\n",
    "ax1.plot(business_cycle['signal'].reindex(combined_indexes_sectors_return_pvt_df.index))\n",
    "\n",
    "ax1.plot(business_cycle['peaks'].reindex(combined_indexes_sectors_return_pvt_df.index))\n",
    "ax1.plot(business_cycle['troughs'].reindex(combined_indexes_sectors_return_pvt_df.index))\n",
    "ax1.plot(business_cycle['ST_SMA'].reindex(combined_indexes_sectors_return_pvt_df.index))\n",
    "ax1.plot(business_cycle['LT_SMA'].reindex(combined_indexes_sectors_return_pvt_df.index))\n",
    "ax1.axhline(y = 0, color = 'black', linestyle = '--')\n",
    "ax1.legend(['current','peaks','troughs','ST_SMA','LT_SMA'],loc=1)\n",
    "#plt.legend(['current','ST_SMA','LT_SMA'],loc=1)\n",
    "\n",
    "ax2 = ax1.twinx()\n",
    "\n",
    "trans = mtransforms.blended_transform_factory(ax2.transData, ax2.transAxes)\n",
    "\n",
    "\"\"\"\n",
    "ax2.fill_between(business_cycle.index, 0, 1, where=Recovery['USPHCI'].reindex(business_cycle.index) == 1,facecolor='blue', alpha=0.5, transform=trans)\n",
    "ax2.fill_between(business_cycle.index, 0, 1, where=Expansion['USPHCI'].reindex(business_cycle.index) == 1,facecolor='orange', alpha=0.5, transform=trans)\n",
    "ax2.fill_between(business_cycle.index, 0, 1, where=Slowdown['USPHCI'].reindex(business_cycle.index) == 1,facecolor='green', alpha=0.5, transform=trans)\n",
    "ax2.fill_between(business_cycle.index, 0, 1, where=Recession['USPHCI'].reindex(business_cycle.index) == 1,facecolor='red', alpha=0.5, transform=trans)\n",
    "\"\"\"   \n",
    " \n",
    "ax2.vlines((recovery.reindex(combined_indexes_sectors_return_pvt_df.index) == 1).index[(recovery.reindex(combined_indexes_sectors_return_pvt_df.index) == 1).values],color='blue', alpha=0.5, ymin=0, ymax=1, colors=None, linestyles='solid',label='Recovery')\n",
    "ax2.vlines((expansion.reindex(combined_indexes_sectors_return_pvt_df.index) == 1).index[(expansion.reindex(combined_indexes_sectors_return_pvt_df.index) == 1).values],color='green', alpha=0.5, ymin=0, ymax=1, colors=None, linestyles='solid',label='Expansion')\n",
    "ax2.vlines((slowdown.reindex(combined_indexes_sectors_return_pvt_df.index) == 1).index[(slowdown.reindex(combined_indexes_sectors_return_pvt_df.index) == 1).values],color='orange', alpha=0.5, ymin=0, ymax=1, colors=None, linestyles='solid',label='Slowdown')\n",
    "ax2.vlines((recession.reindex(combined_indexes_sectors_return_pvt_df.index) == 1).index[(recession.reindex(combined_indexes_sectors_return_pvt_df.index) == 1).values],color='red', alpha=0.5, ymin=0, ymax=1, colors=None, linestyles='solid',label='Recession')\n",
    "\n",
    "ax2.legend(['Recovery','Expansion','Slowdown','Recession'],loc=3)\n",
    "plt.show()"
   ]
  },
  {
   "cell_type": "code",
   "execution_count": null,
   "id": "1890ec1b-05dd-4e1c-a4da-4888e7dcad33",
   "metadata": {},
   "outputs": [],
   "source": []
  },
  {
   "cell_type": "code",
   "execution_count": null,
   "id": "37b712a7-29b9-48d2-a34a-7d3525a01172",
   "metadata": {},
   "outputs": [],
   "source": []
  },
  {
   "cell_type": "code",
   "execution_count": 296,
   "id": "04e2f46e-059c-48f7-a712-11597f6fe3b2",
   "metadata": {},
   "outputs": [
    {
     "data": {
      "image/png": "[encoded data removed]",
      "text/plain": [
       "<Figure size 432x288 with 1 Axes>"
      ]
     },
     "metadata": {
      "needs_background": "light"
     },
     "output_type": "display_data"
    }
   ],
   "source": [
    "plt.plot(business_cycle[['peaks','troughs']])\n",
    "plt.plot(business_cycle[['signal']])\n",
    "plt.axhline(y = 0, color = 'black', linestyle = '--')\n",
    "plt.show()"
   ]
  },
  {
   "cell_type": "code",
   "execution_count": null,
   "id": "2b9eccca-fa4f-4cf1-bd56-a0a6c7081cd9",
   "metadata": {},
   "outputs": [],
   "source": []
  },
  {
   "cell_type": "code",
   "execution_count": null,
   "id": "a1f09a81-7363-4c14-9167-e9f462e16cab",
   "metadata": {},
   "outputs": [],
   "source": []
  },
  {
   "cell_type": "code",
   "execution_count": 297,
   "id": "2812b3be-e84f-4e5c-b9f8-4f44de07311f",
   "metadata": {},
   "outputs": [
    {
     "data": {
      "text/plain": [
       "recovery      7\n",
       "expansion    69\n",
       "slowdown     72\n",
       "recession     7\n",
       "dtype: int64"
      ]
     },
     "execution_count": 297,
     "metadata": {},
     "output_type": "execute_result"
    }
   ],
   "source": [
    "np.sum(business_cycle.iloc[:,-4:])"
   ]
  },
  {
   "cell_type": "code",
   "execution_count": 298,
   "id": "594b99f1-b330-4274-aa3b-904d5b78ff7a",
   "metadata": {},
   "outputs": [
    {
     "data": {
      "text/plain": [
       "155"
      ]
     },
     "execution_count": 298,
     "metadata": {},
     "output_type": "execute_result"
    }
   ],
   "source": [
    "np.sum(np.sum(business_cycle.iloc[:,-4:]))"
   ]
  },
  {
   "cell_type": "code",
   "execution_count": 299,
   "id": "28fa7b05-dd53-4449-8597-edd5a4d0e660",
   "metadata": {},
   "outputs": [],
   "source": [
    "#Slowdown = (ST_SMA < peak)\n",
    "#np.sum(Slowdown)"
   ]
  },
  {
   "cell_type": "code",
   "execution_count": 300,
   "id": "f3a03e0d-bac8-4c0f-b338-443f1b1e12fb",
   "metadata": {},
   "outputs": [
    {
     "data": {
      "text/plain": [
       "\"\\nSlowdown = (ST_SMA.pct_change()<0) * (cli_df_USA['Value']<peaks)# (ST_SMA<LT_SMA)\\nSlowdown = (signal.pct_change()<0) * (signal<peak)# (ST_SMA<LT_SMA)\\nnp.sum(Slowdown)\\n\""
      ]
     },
     "execution_count": 300,
     "metadata": {},
     "output_type": "execute_result"
    }
   ],
   "source": [
    "\"\"\"\n",
    "Slowdown = (ST_SMA.pct_change()<0) * (cli_df_USA['Value']<peaks)# (ST_SMA<LT_SMA)\n",
    "Slowdown = (signal.pct_change()<0) * (signal<peak)# (ST_SMA<LT_SMA)\n",
    "np.sum(Slowdown)\n",
    "\"\"\""
   ]
  },
  {
   "cell_type": "code",
   "execution_count": null,
   "id": "82346100-e6c9-4981-b215-e600592ba1e0",
   "metadata": {},
   "outputs": [],
   "source": []
  },
  {
   "cell_type": "code",
   "execution_count": 301,
   "id": "5ecd3de0-724c-4ebb-b2cb-86213fc205b0",
   "metadata": {},
   "outputs": [],
   "source": [
    "#plt.plot(prior_recession * Slowdown['USPHCI'])"
   ]
  },
  {
   "cell_type": "code",
   "execution_count": null,
   "id": "aae6ec01-cf3b-4f61-93b3-62b542045ef1",
   "metadata": {},
   "outputs": [],
   "source": []
  },
  {
   "cell_type": "code",
   "execution_count": 302,
   "id": "73e9a3aa-6f9b-4df4-9558-d7262d2ed103",
   "metadata": {},
   "outputs": [
    {
     "data": {
      "text/plain": [
       "\"\\nprint(np.sum(Slowdown))\\n\\nwhile (np.sum(prior_recession * Slowdown['USPHCI'])>0):\\n     \\n    positions = prior_recession * Slowdown['USPHCI']\\n    \\n    #print(np.where(positions))\\n    \\n    Recession.iloc[positions] = True\\n    Slowdown.iloc[positions] = False\\n\\n    prior_recession = [1 if a[0] else 0 for a in (Recession.shift(1)==1).values]\\n    Slowdown = (Recession==0)*(Recovery==0)*(Expansion==0)*(signal<peak)\\n    #positions = np.intersect1d(prior_recession,Slowdown)\\n    #Recession.iloc[positions] = True\\n    #Slowdown.iloc[positions] = False\\n    #prior_recession = [1 if a[0] else 0 for a in (Recession.shift(1)==1).values]\\n    #Slowdown = (Recession==0)*(Recovery==0)*(Expansion==0)*(signal<peak)\\n    \\n    \\n    \\n    #print(np.sum(Slowdown))\\n\\n    \\n\""
      ]
     },
     "execution_count": 302,
     "metadata": {},
     "output_type": "execute_result"
    }
   ],
   "source": [
    "\"\"\"\n",
    "print(np.sum(Slowdown))\n",
    "\n",
    "while (np.sum(prior_recession * Slowdown['USPHCI'])>0):\n",
    "     \n",
    "    positions = prior_recession * Slowdown['USPHCI']\n",
    "    \n",
    "    #print(np.where(positions))\n",
    "    \n",
    "    Recession.iloc[positions] = True\n",
    "    Slowdown.iloc[positions] = False\n",
    "\n",
    "    prior_recession = [1 if a[0] else 0 for a in (Recession.shift(1)==1).values]\n",
    "    Slowdown = (Recession==0)*(Recovery==0)*(Expansion==0)*(signal<peak)\n",
    "    #positions = np.intersect1d(prior_recession,Slowdown)\n",
    "    #Recession.iloc[positions] = True\n",
    "    #Slowdown.iloc[positions] = False\n",
    "    #prior_recession = [1 if a[0] else 0 for a in (Recession.shift(1)==1).values]\n",
    "    #Slowdown = (Recession==0)*(Recovery==0)*(Expansion==0)*(signal<peak)\n",
    "    \n",
    "    \n",
    "    \n",
    "    #print(np.sum(Slowdown))\n",
    "\n",
    "    \n",
    "\"\"\""
   ]
  },
  {
   "cell_type": "code",
   "execution_count": null,
   "id": "ab91f5d7-bd63-4888-9b32-023ab272acd6",
   "metadata": {},
   "outputs": [],
   "source": []
  },
  {
   "cell_type": "code",
   "execution_count": null,
   "id": "3821a61f-5f75-4aba-82b0-f93e52e730ac",
   "metadata": {},
   "outputs": [],
   "source": []
  },
  {
   "cell_type": "code",
   "execution_count": 303,
   "id": "ff84c63a-1a5e-45c4-ae54-416149f7ba03",
   "metadata": {},
   "outputs": [
    {
     "data": {
      "text/plain": [
       "'\\nfor c_ in range(1,len(business_cycle.iloc[:,1:].columns)+1):\\n    c = business_cycle.iloc[:,1:].columns[c_-1]\\n    business_cycle[c][business_cycle[c]==True] = c_\\n    business_cycle[c][business_cycle[c]==False] = np.nan\\n\\nrepeats = business_cycle.iloc[:,1:].bfill(axis=1).iloc[:, 0]\\n\\n#list1 = [-1, -1, 1, 1, 1, -1, 1]\\ncount_dups = [sum(1 for _ in group) for _, group in groupby(repeats)]\\nprint(count_dups)\\n\\n'"
      ]
     },
     "execution_count": 303,
     "metadata": {},
     "output_type": "execute_result"
    }
   ],
   "source": [
    "\"\"\"\n",
    "list1 = [-1, -1, 1, 1, 1, -1, 1]\n",
    "count_dups = [sum(1 for _ in group) for _, group in groupby(list1)]\n",
    "print(count_dups)\n",
    "\"\"\"\n",
    "\n",
    "#business_cycle = pd.concat([signal,Recovery,Expansion,Slowdown,Recession],axis=1)\n",
    "#business_cycle.columns=['Leading','Recovery','Expansion','Slowdown','Recession']\n",
    "#business_cycle = business_cycle.reindex(peak.dropna().index).dropna()\n",
    "\n",
    "\"\"\"\n",
    "for c_ in range(1,len(business_cycle.iloc[:,1:].columns)+1):\n",
    "    c = business_cycle.iloc[:,1:].columns[c_-1]\n",
    "    business_cycle[c][business_cycle[c]==True] = c_\n",
    "    business_cycle[c][business_cycle[c]==False] = np.nan\n",
    "\n",
    "repeats = business_cycle.iloc[:,1:].bfill(axis=1).iloc[:, 0]\n",
    "\n",
    "#list1 = [-1, -1, 1, 1, 1, -1, 1]\n",
    "count_dups = [sum(1 for _ in group) for _, group in groupby(repeats)]\n",
    "print(count_dups)\n",
    "\n",
    "\"\"\""
   ]
  },
  {
   "cell_type": "code",
   "execution_count": null,
   "id": "b4c3dcb3-c310-4027-80be-b474e19b8871",
   "metadata": {},
   "outputs": [],
   "source": []
  },
  {
   "cell_type": "code",
   "execution_count": 304,
   "id": "97a43da7-cff8-4e5c-91e3-d62f7697ec7f",
   "metadata": {},
   "outputs": [
    {
     "data": {
      "text/plain": [
       "'\\niter = 0\\nvalues = []\\niterator=0\\nfor c_ in range(0,len(count_dups)):\\n    c = count_dups[c_]\\n    #values.append()\\n    #c_* len(iterator)\\n    iterator = iterator + c - 1\\n    values.append(repeats[c_+iterator])\\n    \\nvalues_df = pd.DataFrame(values)\\n\\nvalues_df[(values_df==3)*(values_df.shift(1)==4)] = 4\\n'"
      ]
     },
     "execution_count": 304,
     "metadata": {},
     "output_type": "execute_result"
    }
   ],
   "source": [
    "\"\"\"\n",
    "iter = 0\n",
    "values = []\n",
    "iterator=0\n",
    "for c_ in range(0,len(count_dups)):\n",
    "    c = count_dups[c_]\n",
    "    #values.append()\n",
    "    #c_* len(iterator)\n",
    "    iterator = iterator + c - 1\n",
    "    values.append(repeats[c_+iterator])\n",
    "    \n",
    "values_df = pd.DataFrame(values)\n",
    "\n",
    "values_df[(values_df==3)*(values_df.shift(1)==4)] = 4\n",
    "\"\"\""
   ]
  },
  {
   "cell_type": "code",
   "execution_count": null,
   "id": "57216f1d-059f-4d94-9bd4-ca26b814605d",
   "metadata": {},
   "outputs": [],
   "source": []
  },
  {
   "cell_type": "code",
   "execution_count": null,
   "id": "faa8eed7-b350-486b-8fd5-829c7be1ae87",
   "metadata": {},
   "outputs": [],
   "source": []
  },
  {
   "cell_type": "code",
   "execution_count": 305,
   "id": "2886c2e4-ed82-4b98-9a83-dfbfe0e705a9",
   "metadata": {},
   "outputs": [
    {
     "data": {
      "text/plain": [
       "\"\\nfig, ax1 = plt.subplots( figsize=(30,4) )\\nplt.plot(recession.reindex(combined_indexes_sectors_return_pvt_df.index))\\n#plt.fill_between(recession.reindex(combined_indexes_sectors_return_pvt_df.index), 0, 1, where=recession.reindex(combined_indexes_sectors_return_pvt_df.index),\\n    #facecolor='blue', alpha=0.5, transform=trans)\\n#plt.legend(loc=1)\\n#plt.legend(loc=3)\\nplt.show()\\n\""
      ]
     },
     "execution_count": 305,
     "metadata": {},
     "output_type": "execute_result"
    }
   ],
   "source": [
    "\"\"\"\n",
    "fig, ax1 = plt.subplots( figsize=(30,4) )\n",
    "plt.plot(recession.reindex(combined_indexes_sectors_return_pvt_df.index))\n",
    "#plt.fill_between(recession.reindex(combined_indexes_sectors_return_pvt_df.index), 0, 1, where=recession.reindex(combined_indexes_sectors_return_pvt_df.index),\n",
    "    #facecolor='blue', alpha=0.5, transform=trans)\n",
    "#plt.legend(loc=1)\n",
    "#plt.legend(loc=3)\n",
    "plt.show()\n",
    "\"\"\""
   ]
  },
  {
   "cell_type": "code",
   "execution_count": 306,
   "id": "50c7282c-0355-47d5-a0a8-2e0174954793",
   "metadata": {},
   "outputs": [],
   "source": [
    "business_cycles_sectors_indexes = pd.concat([business_cycle,combined_indexes_sectors_return_pvt_df],axis=1).dropna()"
   ]
  },
  {
   "cell_type": "code",
   "execution_count": 324,
   "id": "563a7d54-c71f-41af-9b9b-ad3bbb2e1a74",
   "metadata": {},
   "outputs": [
    {
     "data": {
      "text/html": [
       "<div>\n",
       "<style scoped>\n",
       "    .dataframe tbody tr th:only-of-type {\n",
       "        vertical-align: middle;\n",
       "    }\n",
       "\n",
       "    .dataframe tbody tr th {\n",
       "        vertical-align: top;\n",
       "    }\n",
       "\n",
       "    .dataframe thead th {\n",
       "        text-align: right;\n",
       "    }\n",
       "</style>\n",
       "<table border=\"1\" class=\"dataframe\">\n",
       "  <thead>\n",
       "    <tr style=\"text-align: right;\">\n",
       "      <th></th>\n",
       "      <th>VOX</th>\n",
       "      <th>VCR</th>\n",
       "      <th>VDC</th>\n",
       "      <th>VDE</th>\n",
       "      <th>VFH</th>\n",
       "      <th>VHT</th>\n",
       "      <th>VIS</th>\n",
       "      <th>VGT</th>\n",
       "      <th>VAW</th>\n",
       "      <th>VNQ</th>\n",
       "      <th>VPU</th>\n",
       "    </tr>\n",
       "  </thead>\n",
       "  <tbody>\n",
       "    <tr>\n",
       "      <th>recovery</th>\n",
       "      <td>0.624953</td>\n",
       "      <td>0.646066</td>\n",
       "      <td>0.866267</td>\n",
       "      <td>0.910163</td>\n",
       "      <td>0.748149</td>\n",
       "      <td>0.932413</td>\n",
       "      <td>0.637022</td>\n",
       "      <td>0.55574</td>\n",
       "      <td>0.808966</td>\n",
       "      <td>0.922574</td>\n",
       "      <td>0.815743</td>\n",
       "    </tr>\n",
       "  </tbody>\n",
       "</table>\n",
       "</div>"
      ],
      "text/plain": [
       "               VOX       VCR       VDC       VDE       VFH       VHT  \\\n",
       "recovery  0.624953  0.646066  0.866267  0.910163  0.748149  0.932413   \n",
       "\n",
       "               VIS      VGT       VAW       VNQ       VPU  \n",
       "recovery  0.637022  0.55574  0.808966  0.922574  0.815743  "
      ]
     },
     "execution_count": 324,
     "metadata": {},
     "output_type": "execute_result"
    }
   ],
   "source": []
  },
  {
   "cell_type": "code",
   "execution_count": 334,
   "id": "360b7716-c505-488b-966a-31d1a82b58cd",
   "metadata": {},
   "outputs": [
    {
     "name": "stdout",
     "output_type": "stream",
     "text": [
      "recovery 5\n",
      "       SPTM         SPY       SLY      MDYG\n",
      "0  7.556615 -124.442628  4.320948  3.274409\n"
     ]
    },
    {
     "data": {
      "text/html": [
       "<style  type=\"text/css\" >\n",
       "#T_ec5d3_row0_col0,#T_ec5d3_row0_col1,#T_ec5d3_row0_col2,#T_ec5d3_row0_col3,#T_ec5d3_row0_col4,#T_ec5d3_row0_col5,#T_ec5d3_row0_col6,#T_ec5d3_row0_col7,#T_ec5d3_row0_col8,#T_ec5d3_row0_col9,#T_ec5d3_row0_col10{\n",
       "            background-color:  ;\n",
       "        }</style><table id=\"T_ec5d3_\" ><thead>    <tr>        <th class=\"blank level0\" ></th>        <th class=\"col_heading level0 col0\" >VOX</th>        <th class=\"col_heading level0 col1\" >VCR</th>        <th class=\"col_heading level0 col2\" >VDC</th>        <th class=\"col_heading level0 col3\" >VDE</th>        <th class=\"col_heading level0 col4\" >VFH</th>        <th class=\"col_heading level0 col5\" >VHT</th>        <th class=\"col_heading level0 col6\" >VIS</th>        <th class=\"col_heading level0 col7\" >VGT</th>        <th class=\"col_heading level0 col8\" >VAW</th>        <th class=\"col_heading level0 col9\" >VNQ</th>        <th class=\"col_heading level0 col10\" >VPU</th>    </tr></thead><tbody>\n",
       "                <tr>\n",
       "                        <th id=\"T_ec5d3_level0_row0\" class=\"row_heading level0 row0\" >recovery</th>\n",
       "                        <td id=\"T_ec5d3_row0_col0\" class=\"data row0 col0\" >0.624953</td>\n",
       "                        <td id=\"T_ec5d3_row0_col1\" class=\"data row0 col1\" >0.646066</td>\n",
       "                        <td id=\"T_ec5d3_row0_col2\" class=\"data row0 col2\" >0.866267</td>\n",
       "                        <td id=\"T_ec5d3_row0_col3\" class=\"data row0 col3\" >0.910163</td>\n",
       "                        <td id=\"T_ec5d3_row0_col4\" class=\"data row0 col4\" >0.748149</td>\n",
       "                        <td id=\"T_ec5d3_row0_col5\" class=\"data row0 col5\" >0.932413</td>\n",
       "                        <td id=\"T_ec5d3_row0_col6\" class=\"data row0 col6\" >0.637022</td>\n",
       "                        <td id=\"T_ec5d3_row0_col7\" class=\"data row0 col7\" >0.555740</td>\n",
       "                        <td id=\"T_ec5d3_row0_col8\" class=\"data row0 col8\" >0.808966</td>\n",
       "                        <td id=\"T_ec5d3_row0_col9\" class=\"data row0 col9\" >0.922574</td>\n",
       "                        <td id=\"T_ec5d3_row0_col10\" class=\"data row0 col10\" >0.815743</td>\n",
       "            </tr>\n",
       "    </tbody></table>"
      ],
      "text/plain": [
       "<pandas.io.formats.style.Styler at 0x24fc5d40ac0>"
      ]
     },
     "metadata": {},
     "output_type": "display_data"
    },
    {
     "name": "stdout",
     "output_type": "stream",
     "text": [
      "                               0\n",
      "Energy                 -0.018275\n",
      "Healthcare             -0.023206\n",
      "Basic Materials        -0.029179\n",
      "Real Estate            -0.033397\n",
      "Utilities              -0.036147\n",
      "Communication Services -0.061117\n",
      "Consumer Defensive     -0.075074\n",
      "Financial Services     -0.089012\n",
      "Industrials            -0.100941\n",
      "Consumer Cyclical      -0.103195\n",
      "Technology             -0.114185\n",
      "expansion 23\n",
      "       SPTM         SPY       SLY      MDYG\n",
      "0  7.556615 -124.442628  4.320948  3.274409\n"
     ]
    },
    {
     "data": {
      "text/html": [
       "<style  type=\"text/css\" >\n",
       "#T_424d9_row0_col0,#T_424d9_row0_col1,#T_424d9_row0_col2,#T_424d9_row0_col3,#T_424d9_row0_col4,#T_424d9_row0_col5,#T_424d9_row0_col6,#T_424d9_row0_col7,#T_424d9_row0_col8,#T_424d9_row0_col9,#T_424d9_row0_col10{\n",
       "            background-color:  ;\n",
       "        }</style><table id=\"T_424d9_\" ><thead>    <tr>        <th class=\"blank level0\" ></th>        <th class=\"col_heading level0 col0\" >VOX</th>        <th class=\"col_heading level0 col1\" >VCR</th>        <th class=\"col_heading level0 col2\" >VDC</th>        <th class=\"col_heading level0 col3\" >VDE</th>        <th class=\"col_heading level0 col4\" >VFH</th>        <th class=\"col_heading level0 col5\" >VHT</th>        <th class=\"col_heading level0 col6\" >VIS</th>        <th class=\"col_heading level0 col7\" >VGT</th>        <th class=\"col_heading level0 col8\" >VAW</th>        <th class=\"col_heading level0 col9\" >VNQ</th>        <th class=\"col_heading level0 col10\" >VPU</th>    </tr></thead><tbody>\n",
       "                <tr>\n",
       "                        <th id=\"T_424d9_level0_row0\" class=\"row_heading level0 row0\" >expansion</th>\n",
       "                        <td id=\"T_424d9_row0_col0\" class=\"data row0 col0\" >0.599938</td>\n",
       "                        <td id=\"T_424d9_row0_col1\" class=\"data row0 col1\" >0.570808</td>\n",
       "                        <td id=\"T_424d9_row0_col2\" class=\"data row0 col2\" >0.552787</td>\n",
       "                        <td id=\"T_424d9_row0_col3\" class=\"data row0 col3\" >0.615354</td>\n",
       "                        <td id=\"T_424d9_row0_col4\" class=\"data row0 col4\" >0.571443</td>\n",
       "                        <td id=\"T_424d9_row0_col5\" class=\"data row0 col5\" >0.601235</td>\n",
       "                        <td id=\"T_424d9_row0_col6\" class=\"data row0 col6\" >0.556053</td>\n",
       "                        <td id=\"T_424d9_row0_col7\" class=\"data row0 col7\" >0.526109</td>\n",
       "                        <td id=\"T_424d9_row0_col8\" class=\"data row0 col8\" >0.608576</td>\n",
       "                        <td id=\"T_424d9_row0_col9\" class=\"data row0 col9\" >0.615394</td>\n",
       "                        <td id=\"T_424d9_row0_col10\" class=\"data row0 col10\" >0.557322</td>\n",
       "            </tr>\n",
       "    </tbody></table>"
      ],
      "text/plain": [
       "<pandas.io.formats.style.Styler at 0x24fc5f600d0>"
      ]
     },
     "metadata": {},
     "output_type": "display_data"
    },
    {
     "name": "stdout",
     "output_type": "stream",
     "text": [
      "                               0\n",
      "Energy                 -0.018275\n",
      "Healthcare             -0.023206\n",
      "Basic Materials        -0.029179\n",
      "Real Estate            -0.033397\n",
      "Utilities              -0.036147\n",
      "Communication Services -0.061117\n",
      "Consumer Defensive     -0.075074\n",
      "Financial Services     -0.089012\n",
      "Industrials            -0.100941\n",
      "Consumer Cyclical      -0.103195\n",
      "Technology             -0.114185\n",
      "slowdown 32\n",
      "       SPTM         SPY       SLY      MDYG\n",
      "0  7.556615 -124.442628  4.320948  3.274409\n"
     ]
    },
    {
     "data": {
      "text/html": [
       "<style  type=\"text/css\" >\n",
       "#T_55369_row0_col0,#T_55369_row0_col1,#T_55369_row0_col2,#T_55369_row0_col3,#T_55369_row0_col4,#T_55369_row0_col5,#T_55369_row0_col6,#T_55369_row0_col7,#T_55369_row0_col8,#T_55369_row0_col9,#T_55369_row0_col10{\n",
       "            background-color:  ;\n",
       "        }</style><table id=\"T_55369_\" ><thead>    <tr>        <th class=\"blank level0\" ></th>        <th class=\"col_heading level0 col0\" >VOX</th>        <th class=\"col_heading level0 col1\" >VCR</th>        <th class=\"col_heading level0 col2\" >VDC</th>        <th class=\"col_heading level0 col3\" >VDE</th>        <th class=\"col_heading level0 col4\" >VFH</th>        <th class=\"col_heading level0 col5\" >VHT</th>        <th class=\"col_heading level0 col6\" >VIS</th>        <th class=\"col_heading level0 col7\" >VGT</th>        <th class=\"col_heading level0 col8\" >VAW</th>        <th class=\"col_heading level0 col9\" >VNQ</th>        <th class=\"col_heading level0 col10\" >VPU</th>    </tr></thead><tbody>\n",
       "                <tr>\n",
       "                        <th id=\"T_55369_level0_row0\" class=\"row_heading level0 row0\" >slowdown</th>\n",
       "                        <td id=\"T_55369_row0_col0\" class=\"data row0 col0\" >0.571224</td>\n",
       "                        <td id=\"T_55369_row0_col1\" class=\"data row0 col1\" >0.534101</td>\n",
       "                        <td id=\"T_55369_row0_col2\" class=\"data row0 col2\" >0.539325</td>\n",
       "                        <td id=\"T_55369_row0_col3\" class=\"data row0 col3\" >0.537637</td>\n",
       "                        <td id=\"T_55369_row0_col4\" class=\"data row0 col4\" >0.537242</td>\n",
       "                        <td id=\"T_55369_row0_col5\" class=\"data row0 col5\" >0.537788</td>\n",
       "                        <td id=\"T_55369_row0_col6\" class=\"data row0 col6\" >0.512237</td>\n",
       "                        <td id=\"T_55369_row0_col7\" class=\"data row0 col7\" >0.523588</td>\n",
       "                        <td id=\"T_55369_row0_col8\" class=\"data row0 col8\" >0.597726</td>\n",
       "                        <td id=\"T_55369_row0_col9\" class=\"data row0 col9\" >0.517279</td>\n",
       "                        <td id=\"T_55369_row0_col10\" class=\"data row0 col10\" >0.514682</td>\n",
       "            </tr>\n",
       "    </tbody></table>"
      ],
      "text/plain": [
       "<pandas.io.formats.style.Styler at 0x24fc5426640>"
      ]
     },
     "metadata": {},
     "output_type": "display_data"
    },
    {
     "name": "stdout",
     "output_type": "stream",
     "text": [
      "                               0\n",
      "Energy                 -0.018275\n",
      "Healthcare             -0.023206\n",
      "Basic Materials        -0.029179\n",
      "Real Estate            -0.033397\n",
      "Utilities              -0.036147\n",
      "Communication Services -0.061117\n",
      "Consumer Defensive     -0.075074\n",
      "Financial Services     -0.089012\n",
      "Industrials            -0.100941\n",
      "Consumer Cyclical      -0.103195\n",
      "Technology             -0.114185\n",
      "recession 5\n",
      "       SPTM         SPY       SLY      MDYG\n",
      "0  7.556615 -124.442628  4.320948  3.274409\n"
     ]
    },
    {
     "data": {
      "text/html": [
       "<style  type=\"text/css\" >\n",
       "#T_32459_row0_col0,#T_32459_row0_col1,#T_32459_row0_col2,#T_32459_row0_col3,#T_32459_row0_col4,#T_32459_row0_col5,#T_32459_row0_col6,#T_32459_row0_col7,#T_32459_row0_col8,#T_32459_row0_col9,#T_32459_row0_col10{\n",
       "            background-color:  ;\n",
       "        }</style><table id=\"T_32459_\" ><thead>    <tr>        <th class=\"blank level0\" ></th>        <th class=\"col_heading level0 col0\" >VOX</th>        <th class=\"col_heading level0 col1\" >VCR</th>        <th class=\"col_heading level0 col2\" >VDC</th>        <th class=\"col_heading level0 col3\" >VDE</th>        <th class=\"col_heading level0 col4\" >VFH</th>        <th class=\"col_heading level0 col5\" >VHT</th>        <th class=\"col_heading level0 col6\" >VIS</th>        <th class=\"col_heading level0 col7\" >VGT</th>        <th class=\"col_heading level0 col8\" >VAW</th>        <th class=\"col_heading level0 col9\" >VNQ</th>        <th class=\"col_heading level0 col10\" >VPU</th>    </tr></thead><tbody>\n",
       "                <tr>\n",
       "                        <th id=\"T_32459_level0_row0\" class=\"row_heading level0 row0\" >recession</th>\n",
       "                        <td id=\"T_32459_row0_col0\" class=\"data row0 col0\" >0.381016</td>\n",
       "                        <td id=\"T_32459_row0_col1\" class=\"data row0 col1\" >0.408985</td>\n",
       "                        <td id=\"T_32459_row0_col2\" class=\"data row0 col2\" >0.438931</td>\n",
       "                        <td id=\"T_32459_row0_col3\" class=\"data row0 col3\" >0.482278</td>\n",
       "                        <td id=\"T_32459_row0_col4\" class=\"data row0 col4\" >0.403498</td>\n",
       "                        <td id=\"T_32459_row0_col5\" class=\"data row0 col5\" >0.450388</td>\n",
       "                        <td id=\"T_32459_row0_col6\" class=\"data row0 col6\" >0.412956</td>\n",
       "                        <td id=\"T_32459_row0_col7\" class=\"data row0 col7\" >0.378324</td>\n",
       "                        <td id=\"T_32459_row0_col8\" class=\"data row0 col8\" >0.435406</td>\n",
       "                        <td id=\"T_32459_row0_col9\" class=\"data row0 col9\" >0.466647</td>\n",
       "                        <td id=\"T_32459_row0_col10\" class=\"data row0 col10\" >0.451593</td>\n",
       "            </tr>\n",
       "    </tbody></table>"
      ],
      "text/plain": [
       "<pandas.io.formats.style.Styler at 0x24fc6082610>"
      ]
     },
     "metadata": {},
     "output_type": "display_data"
    },
    {
     "name": "stdout",
     "output_type": "stream",
     "text": [
      "                               0\n",
      "Energy                 -0.018275\n",
      "Healthcare             -0.023206\n",
      "Basic Materials        -0.029179\n",
      "Real Estate            -0.033397\n",
      "Utilities              -0.036147\n",
      "Communication Services -0.061117\n",
      "Consumer Defensive     -0.075074\n",
      "Financial Services     -0.089012\n",
      "Industrials            -0.100941\n",
      "Consumer Cyclical      -0.103195\n",
      "Technology             -0.114185\n"
     ]
    }
   ],
   "source": [
    "from scipy import stats as st\n",
    "from scipy.stats import t\n",
    "\n",
    "for bc in ['recovery','expansion','slowdown','recession']:    \n",
    "    subset = business_cycles_sectors_indexes[business_cycles_sectors_indexes[bc]==True]\n",
    "    n = len(subset)\n",
    "    print(bc,n)\n",
    "    i_m = pd.DataFrame(subset[indexes].mean(axis=0)).T\n",
    "    i_s = pd.DataFrame(subset[indexes].std(axis=0)).T\n",
    "    #i_z = i_m/i_s\n",
    "    i_t = (i_m)/(i_s*np.sqrt(n))\n",
    "    print(i_)\n",
    "    s_m = pd.DataFrame(subset[sectors].mean(axis=0)).T\n",
    "    s_s = pd.DataFrame(subset[sectors].std(axis=0)).T\n",
    "    #s_z = s_m/s_s\n",
    "    s_t = (s_m)/(s_s*np.sqrt(n))\n",
    "    s_m.columns = [dict_sectors_reverse[s] for s in s_m.columns]\n",
    "    #print(pd.DataFrame(t.cdf(s_t, df=n-2),index=[bc],columns=sectors))\n",
    "    display(pd.DataFrame(t.cdf(s_t, df=n-2),index=[bc],columns=sectors).style.applymap(highlight_cells, threshold=.05))\n",
    "    print(s_.T.sort_values(by=0,ascending=False))\n",
    "    "
   ]
  },
  {
   "cell_type": "code",
   "execution_count": 333,
   "id": "6b1cf20d-6ffd-454f-adbc-775031b95e19",
   "metadata": {},
   "outputs": [
    {
     "data": {
      "text/html": [
       "<style  type=\"text/css\" >\n",
       "#T_e8544_row0_col0,#T_e8544_row0_col1,#T_e8544_row0_col2,#T_e8544_row0_col3,#T_e8544_row0_col4,#T_e8544_row0_col5,#T_e8544_row0_col6,#T_e8544_row0_col7,#T_e8544_row0_col8,#T_e8544_row0_col9,#T_e8544_row0_col10{\n",
       "            background-color:  ;\n",
       "        }</style><table id=\"T_e8544_\" ><thead>    <tr>        <th class=\"blank level0\" ></th>        <th class=\"col_heading level0 col0\" >VOX</th>        <th class=\"col_heading level0 col1\" >VCR</th>        <th class=\"col_heading level0 col2\" >VDC</th>        <th class=\"col_heading level0 col3\" >VDE</th>        <th class=\"col_heading level0 col4\" >VFH</th>        <th class=\"col_heading level0 col5\" >VHT</th>        <th class=\"col_heading level0 col6\" >VIS</th>        <th class=\"col_heading level0 col7\" >VGT</th>        <th class=\"col_heading level0 col8\" >VAW</th>        <th class=\"col_heading level0 col9\" >VNQ</th>        <th class=\"col_heading level0 col10\" >VPU</th>    </tr></thead><tbody>\n",
       "                <tr>\n",
       "                        <th id=\"T_e8544_level0_row0\" class=\"row_heading level0 row0\" >recession</th>\n",
       "                        <td id=\"T_e8544_row0_col0\" class=\"data row0 col0\" >0.381016</td>\n",
       "                        <td id=\"T_e8544_row0_col1\" class=\"data row0 col1\" >0.408985</td>\n",
       "                        <td id=\"T_e8544_row0_col2\" class=\"data row0 col2\" >0.438931</td>\n",
       "                        <td id=\"T_e8544_row0_col3\" class=\"data row0 col3\" >0.482278</td>\n",
       "                        <td id=\"T_e8544_row0_col4\" class=\"data row0 col4\" >0.403498</td>\n",
       "                        <td id=\"T_e8544_row0_col5\" class=\"data row0 col5\" >0.450388</td>\n",
       "                        <td id=\"T_e8544_row0_col6\" class=\"data row0 col6\" >0.412956</td>\n",
       "                        <td id=\"T_e8544_row0_col7\" class=\"data row0 col7\" >0.378324</td>\n",
       "                        <td id=\"T_e8544_row0_col8\" class=\"data row0 col8\" >0.435406</td>\n",
       "                        <td id=\"T_e8544_row0_col9\" class=\"data row0 col9\" >0.466647</td>\n",
       "                        <td id=\"T_e8544_row0_col10\" class=\"data row0 col10\" >0.451593</td>\n",
       "            </tr>\n",
       "    </tbody></table>"
      ],
      "text/plain": [
       "<pandas.io.formats.style.Styler at 0x24fc5ca6e50>"
      ]
     },
     "metadata": {},
     "output_type": "display_data"
    }
   ],
   "source": []
  },
  {
   "cell_type": "code",
   "execution_count": 308,
   "id": "72d85ebe-1def-4b70-8647-f9d6d0615a12",
   "metadata": {},
   "outputs": [
    {
     "data": {
      "text/plain": [
       "65"
      ]
     },
     "execution_count": 308,
     "metadata": {},
     "output_type": "execute_result"
    }
   ],
   "source": [
    "np.sum(business_cycles_sectors_indexes.reindex(business_cycles_sectors_indexes.index).iloc[:,5:9].sum(axis=0))"
   ]
  }
 ],
 "metadata": {
  "kernelspec": {
   "display_name": "Python 3 (ipykernel)",
   "language": "python",
   "name": "python3"
  },
  "language_info": {
   "codemirror_mode": {
    "name": "ipython",
    "version": 3
   },
   "file_extension": ".py",
   "mimetype": "text/x-python",
   "name": "python",
   "nbconvert_exporter": "python",
   "pygments_lexer": "ipython3",
   "version": "3.9.7"
  }
 },
 "nbformat": 4,
 "nbformat_minor": 5
}
